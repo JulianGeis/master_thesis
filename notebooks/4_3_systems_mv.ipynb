{
 "cells": [
  {
   "cell_type": "code",
   "execution_count": 41,
   "metadata": {
    "pycharm": {
     "name": "#%%\n"
    }
   },
   "outputs": [],
   "source": [
    "# Plots for section 4.3 (mv and technology operation)"
   ]
  },
  {
   "cell_type": "code",
   "execution_count": 42,
   "metadata": {
    "pycharm": {
     "name": "#%%\n"
    }
   },
   "outputs": [],
   "source": [
    "# TODO"
   ]
  },
  {
   "cell_type": "markdown",
   "metadata": {
    "pycharm": {
     "name": "#%% md\n"
    }
   },
   "source": [
    "## Imports"
   ]
  },
  {
   "cell_type": "code",
   "execution_count": 43,
   "metadata": {
    "pycharm": {
     "name": "#%%\n"
    }
   },
   "outputs": [
    {
     "name": "stderr",
     "output_type": "stream",
     "text": [
      "WARNING:pypsa.io:\n",
      "Importing PyPSA from older version of PyPSA than current version.\n",
      "Please read the release notes at https://pypsa.readthedocs.io/en/latest/release_notes.html\n",
      "carefully to prepare your network for import.\n",
      "Currently used PyPSA version [0, 20, 1], imported network file PyPSA version [0, 18, 1].\n",
      "\n",
      "INFO:pypsa.io:Imported network elec_s_181_lv1.0__Co2L0-3H-T-H-B-I-A-solar+p3-linemaxext10-noH2network_2030.nc has buses, carriers, generators, global_constraints, lines, links, loads, storage_units, stores\n",
      "WARNING:pypsa.io:\n",
      "Importing PyPSA from older version of PyPSA than current version.\n",
      "Please read the release notes at https://pypsa.readthedocs.io/en/latest/release_notes.html\n",
      "carefully to prepare your network for import.\n",
      "Currently used PyPSA version [0, 20, 1], imported network file PyPSA version [0, 18, 1].\n",
      "\n",
      "INFO:pypsa.io:Imported network elec_s_181_lvopt__Co2L0-3H-T-H-B-I-A-solar+p3-linemaxext10_2030.nc has buses, carriers, generators, global_constraints, lines, links, loads, storage_units, stores\n"
     ]
    }
   ],
   "source": [
    "import pandas as pd\n",
    "import geopandas as gpd\n",
    "import numpy as np\n",
    "import pypsa\n",
    "import math\n",
    "import seaborn as sns\n",
    "import cartopy\n",
    "import cartopy.crs as ccrs\n",
    "import matplotlib\n",
    "import matplotlib.colors as mcolors\n",
    "import matplotlib.pyplot as plt\n",
    "import warnings\n",
    "\n",
    "warnings.filterwarnings(\"ignore\")\n",
    "from shapely.geometry import Point, LineString\n",
    "import matplotlib.patheffects as pe\n",
    "import matplotlib.colors as mcolors\n",
    "from matplotlib.lines import Line2D\n",
    "from datetime import date, datetime, time, timedelta\n",
    "\n",
    "# imported own functions\n",
    "from utils import market_values, market_values_by_time_index, nodal_balance, capacity, capacity_links, \\\n",
    "    capacity_storage_units, get_condense_sum, nodal_balance, generation, generation_links, \\\n",
    "    generation_storage_units, market_values_storage_units, market_values_links, time_stored_LIFO\n",
    "\n",
    "# imported own definitions\n",
    "from utils import carrier_colors, carrier_renaming, carrier_renaming_reverse\n",
    "from utils import resistive_heater, gas_boiler, heat_pump,water_tanks_charger, water_tanks_discharger, solar_thermal\n",
    "from utils import c_el_gen_s, c_el_con_s\n",
    "\n",
    "# general variables\n",
    "font1 = {'fontname': 'Calibri'}\n",
    "PLOT_DIR = 'C:/Users/Julian/Studies/Master/01 TU Berlin/3. Semester - Masterarbeit/MA Marktwerte FEE/data/plots/01_general/4.3_systems_mv'\n",
    "onshore_regions = gpd.read_file(\"../data/external/regions_onshore_elec_s_181.geojson\")\n",
    "offshore_regions = gpd.read_file(\"../data/external/regions_offshore_elec_s_181.geojson\")\n",
    "onshore_regions = onshore_regions.set_index('name')\n",
    "offshore_regions = offshore_regions.set_index('name')\n",
    "\n",
    "# Network imports\n",
    "stst = pypsa.Network(\"../data/raw/elec_s_181_lv1.0__Co2L0-3H-T-H-B-I-A-solar+p3-linemaxext10-noH2network_2030.nc\")\n",
    "exp = pypsa.Network(\"../data/raw/elec_s_181_lvopt__Co2L0-3H-T-H-B-I-A-solar+p3-linemaxext10_2030.nc\")\n",
    "\n",
    "# Notebook Definitions\n",
    "c1_groups = [resistive_heater, gas_boiler, heat_pump, water_tanks_charger, water_tanks_discharger, solar_thermal]\n",
    "c1_groups_name = [\"resistive heater\", \"gas boiler\", \"heat pump\", \"water tanks charger\", \"water tanks discharger\",\n",
    "                  \"solar thermal\"]\n",
    "markers = [\"v\", \"^\", \"<\", \">\", \"1\", \"2\", \"3\", \"4\", \"*\", \"+\", \"d\", \"o\", \"|\", \"s\", \"P\", \"p\", \"h\"]"
   ]
  },
  {
   "cell_type": "code",
   "execution_count": 44,
   "outputs": [],
   "source": [
    "# stst and exp dataframes\n",
    "df_stst_ons = pd.read_pickle(\"../data/processed/df_stst_ons.pkl\")\n",
    "df_stst_off = pd.read_pickle(\"../data/processed/df_stst_off.pkl\")\n",
    "df_exp_ons = pd.read_pickle(\"../data/processed/df_exp_ons.pkl\")\n",
    "df_exp_off = pd.read_pickle(\"../data/processed/df_exp_off.pkl\")"
   ],
   "metadata": {
    "collapsed": false,
    "pycharm": {
     "name": "#%%\n"
    }
   }
  },
  {
   "cell_type": "code",
   "execution_count": 45,
   "metadata": {
    "pycharm": {
     "name": "#%%\n"
    }
   },
   "outputs": [],
   "source": [
    "# Notebook Functions\n",
    "\n",
    "def gini(x):\n",
    "    # (Warning: This is a concise implementation, but it is O(n**2)\n",
    "    # in time and memory, where n = len(x).  *Don't* pass in huge\n",
    "    # samples!)\n",
    "\n",
    "    # Mean absolute difference\n",
    "    mad = np.abs(np.subtract.outer(x, x)).mean()\n",
    "    # Relative mean absolute difference\n",
    "    rmad = mad/np.mean(x)\n",
    "    # Gini coefficient\n",
    "    g = 0.5 * rmad\n",
    "    return g\n"
   ]
  },
  {
   "cell_type": "markdown",
   "metadata": {
    "pycharm": {
     "name": "#%% md\n"
    }
   },
   "source": [
    "## General (4.3.1)"
   ]
  },
  {
   "cell_type": "markdown",
   "metadata": {
    "pycharm": {
     "name": "#%% md\n"
    }
   },
   "source": [
    "#### MV across regions"
   ]
  },
  {
   "cell_type": "code",
   "execution_count": 46,
   "metadata": {
    "pycharm": {
     "name": "#%%\n"
    }
   },
   "outputs": [
    {
     "data": {
      "text/plain": "solar_mv                                  53.106943\noffwind-dc_mv                             59.484653\nonwind_mv                                 59.767738\nsolar rooftop_mv                          61.879931\noffwind-ac_mv                             64.252101\nbattery discharger_mv                     73.859110\nror_mv                                    75.384933\nV2G_mv                                    82.827964\nurban central solid biomass CHP CC_mv    110.078119\nhydro_mv                                 110.219548\nPHS_mv                                   118.023294\nurban central gas CHP_mv                 279.006066\ndtype: float64"
     },
     "execution_count": 46,
     "metadata": {},
     "output_type": "execute_result"
    }
   ],
   "source": [
    "# Further investigation:\n",
    "\n",
    "df_stst_ons[[c + \"_mv\" for c in c_el_gen_s]].mean().mean()\n",
    "df_exp_ons[[c + \"_mv\" for c in c_el_gen_s]].mean().mean()\n",
    "\n",
    "df_stst_ons[[c + \"_mv\" for c in c_el_gen_s]].mean() - df_exp_ons[[c + \"_mv\" for c in c_el_gen_s]].mean()\n",
    "(df_stst_ons[[c + \"_mv\" for c in c_el_gen_s]].mean() - df_exp_ons[[c + \"_mv\" for c in c_el_gen_s]].mean()) / df_stst_ons[[c + \"_mv\" for c in c_el_gen_s]].mean()\n",
    "\n",
    "(df_stst_ons[[c + \"_mv\" for c in c_el_gen_s]].describe().loc[\"75%\"] - df_stst_ons[[c + \"_mv\" for c in c_el_gen_s]].describe().loc[\"25%\"]) - (df_exp_ons[[c + \"_mv\" for c in c_el_gen_s]].describe().loc[\"75%\"] - df_exp_ons[[c + \"_mv\" for c in c_el_gen_s]].describe().loc[\"25%\"])\n",
    "\n",
    "(df_stst_ons[[c + \"_mv\" for c in c_el_gen_s]].describe().loc[\"std\"] - df_exp_ons[[c + \"_mv\" for c in c_el_gen_s]].describe().loc[\"std\"])\n",
    "\n",
    "df_stst_ons[[c + \"_mv\" for c in c_el_gen_s]].mean().sort_values()\n",
    "df_exp_ons[[c + \"_mv\" for c in c_el_gen_s]].mean().sort_values()"
   ]
  },
  {
   "cell_type": "code",
   "execution_count": 47,
   "outputs": [
    {
     "data": {
      "text/plain": "<Figure size 1200x600 with 1 Axes>",
      "image/png": "[encoded data removed]"
     },
     "metadata": {},
     "output_type": "display_data"
    }
   ],
   "source": [
    "# electricity generating technologies\n",
    "\n",
    "# boxplot propertes\n",
    "medianprops = dict(color=\"black\",linewidth=1.5)\n",
    "meanprops = {\"marker\":\"d\",\"markerfacecolor\":\"white\", \"markeredgecolor\":\"black\"}\n",
    "flierprops= {'marker': 'x', 'markersize': 5, 'markeredgecolor': 'black'}\n",
    "whiskerprops = dict(linestyle='-',linewidth=1.0, color='black')\n",
    "\n",
    "# data\n",
    "stst_el_gen = df_stst_ons[[c + \"_mv\" for c in c_el_gen_s]]\n",
    "stst_el_gen = stst_el_gen.values\n",
    "exp_el_gen = df_exp_ons[[c + \"_mv\" for c in c_el_gen_s]]\n",
    "exp_el_gen = exp_el_gen.values\n",
    "\n",
    "# Filter data using np.isnan\n",
    "mask_stst = ~np.isnan(stst_el_gen)\n",
    "filtered_stst = [d[m] for d, m in zip(stst_el_gen.T, mask_stst.T)]\n",
    "mask_exp = ~np.isnan(exp_el_gen)\n",
    "filtered_exp = [d[m] for d, m in zip(exp_el_gen.T, mask_exp.T)]\n",
    "\n",
    "ticks = [carrier_renaming.get(n, n) for n in c_el_gen_s]\n",
    "index = c_el_gen_s\n",
    "fig, ax = plt.subplots(figsize=(12, 6))\n",
    "\n",
    "stst_plot = plt.boxplot(filtered_stst,\n",
    "                        positions=np.array(np.arange(len(ticks)))*2.0-0.35,\n",
    "                        widths=0.6,\n",
    "                        patch_artist=True,\n",
    "                        showmeans=True,\n",
    "                        meanprops=meanprops,\n",
    "                        medianprops=medianprops,\n",
    "                        flierprops=flierprops,\n",
    "                        whiskerprops=whiskerprops\n",
    "                        )\n",
    "\n",
    "exp_plot = plt.boxplot(filtered_exp,\n",
    "                       positions=np.array(np.arange(len(ticks)))*2.0+0.35,\n",
    "                       widths=0.6,\n",
    "                       patch_artist=True,\n",
    "                       showmeans=True,\n",
    "                       meanprops=meanprops,\n",
    "                       medianprops=medianprops,\n",
    "                       flierprops=flierprops,\n",
    "                       whiskerprops=whiskerprops\n",
    "                       )\n",
    "\n",
    "\n",
    "for box, col in zip(stst_plot['boxes'],[carrier_colors[c] for c in index]):\n",
    "    # change outline color\n",
    "    box.set_facecolor(col)\n",
    "    box.set_linestyle('--')\n",
    "\n",
    "for box, col in zip(exp_plot['boxes'],[carrier_colors[c] for c in index]):\n",
    "    # change outline color\n",
    "    box.set_facecolor(col)\n",
    "\n",
    "# sample sizes\n",
    "for i, sample_size in enumerate(df_stst_ons[[f\"{i}_mv\" for i in index]].count()):\n",
    "    ax.annotate(sample_size, xy=(0,0),  xycoords='axes fraction',\n",
    "        xytext=((i+0.35)/len(index),1), textcoords='axes fraction', color=\"blue\")\n",
    "\n",
    "#for i, sample_size in enumerate(df_exp_ons[[f\"{i}_mv\" for i in index]].count()):\n",
    "#    ax.annotate(sample_size, xy=(0,0),  xycoords='axes fraction',\n",
    "#        xytext=((i+0.55)/len(index),1), textcoords='axes fraction', color=\"red\")\n",
    "\n",
    "# explanations\n",
    "plt.xticks(np.arange(0, len(ticks) * 2, 2), ticks)\n",
    "plt.ylabel(\"$€/MWh_{el}$\")\n",
    "plt.xticks(rotation=90)\n",
    "# plt.title(\"Market values of electricity generating technologies across the regions (STST vs. EXP)\", fontsize=16, pad=20,  **font1)\n",
    "\n",
    "# cosmetics\n",
    "ax.patch.set_facecolor('lightgrey')\n",
    "ax.patch.set_alpha(0.5)\n",
    "\n",
    "# horizontal lines\n",
    "ax.axhline(df_stst_ons[[c + \"_mv\" for c in c_el_gen_s]].mean().mean(), ls=\"--\", c='black',linewidth=0.5)\n",
    "ax.axhline(df_exp_ons[[c + \"_mv\" for c in c_el_gen_s]].mean().mean(), ls=\"-\", c='black', linewidth=0.5)\n",
    "\n",
    "# legend\n",
    "patch1 = matplotlib.patches.Patch(ls=\"--\", facecolor=\"white\", edgecolor=\"black\")\n",
    "patch2 = matplotlib.patches.Patch(ls=\"-\", facecolor=\"white\", edgecolor=\"black\")\n",
    "line1 = Line2D([0], [0], ls=\"--\", c='black', label=\"mean (STST)\", linewidth=0.5)\n",
    "line2 = Line2D([0], [0], ls=\"-\", c='black', label=\"mean (EXP)\", linewidth=0.5)\n",
    "ax.legend([patch1, patch2, line1, line2], ['STST', 'EXP', 'mean (STST)','mean (EXP)'])\n",
    "\n",
    "fig.tight_layout()\n",
    "plt.show()\n",
    "\n",
    "# fig.savefig(f\"{PLOT_DIR}/mv_el_gen_both_box.png\")"
   ],
   "metadata": {
    "collapsed": false,
    "pycharm": {
     "name": "#%%\n"
    }
   }
  },
  {
   "cell_type": "code",
   "execution_count": 48,
   "metadata": {
    "pycharm": {
     "name": "#%%\n"
    }
   },
   "outputs": [
    {
     "data": {
      "text/plain": "['H2 Electrolysis',\n 'BEV charger',\n 'battery charger',\n 'urban central air heat pump',\n 'urban central resistive heater',\n 'PHS']"
     },
     "execution_count": 48,
     "metadata": {},
     "output_type": "execute_result"
    }
   ],
   "source": [
    "# electricity consuming technologies\n",
    "c_el_con_s"
   ]
  },
  {
   "cell_type": "code",
   "execution_count": 49,
   "metadata": {
    "pycharm": {
     "name": "#%%\n"
    }
   },
   "outputs": [],
   "source": [
    "# consumed electric energy and prices payed\n",
    "# AC and low voltage are the main buses for electricity (why the difference?) Investigate in differences in lmps?\n",
    "\n",
    "for n , df in zip([stst, exp], [df_stst_ons, df_exp_ons]):\n",
    "\n",
    "    for c in c_el_con_s:\n",
    "\n",
    "        # links\n",
    "        if c in n.links.carrier.unique().tolist():\n",
    "            # check if bus 0 is AC or low voltage bus\n",
    "            if n.links[n.links.carrier == c].bus0.map(n.buses.carrier).unique() in [\"AC\", \"low voltage\"]:\n",
    "\n",
    "                # consumption of link at bus 0\n",
    "                con = n.links_t.p0.loc[:, n.links.carrier == c]\n",
    "                con.columns = con.columns.map(n.links.bus0)\n",
    "                # save consumption per location to df\n",
    "                con_sum = con.sum()\n",
    "                con_sum.index = con_sum.index.map(n.buses.location)\n",
    "                # convert to TWh\n",
    "                df[f\"{c}_con_el\"] = con_sum / 1000 * 3\n",
    "                # get lmp of buses where the links consumes from\n",
    "                lmp_con = n.buses_t.marginal_price.loc[:, con.columns]\n",
    "                # calculate costs for every time step and location\n",
    "                overall_cost = con * lmp_con\n",
    "                # calc consumption weighted average per location: overall cost per location / overall generation per location\n",
    "                cost_mv = overall_cost.sum() / con.sum()\n",
    "                cost_mv.index = cost_mv.index.map(n.buses.location)\n",
    "                # save cost_mv to df (€/MWH_el)\n",
    "                df[f\"{c}_cost_mv_el\"] = cost_mv\n",
    "\n",
    "        # storage unit: only PHS can store\n",
    "        elif c in n.storage_units.carrier.unique().tolist():\n",
    "\n",
    "                # consumption of su\n",
    "                con = n.storage_units_t.p_store.loc[:, n.storage_units.carrier == c]\n",
    "                con.columns = con.columns.map(n.storage_units.bus)\n",
    "                # save consumption per location to df in TWh\n",
    "                df[f\"{c}_con_el\"] = con.sum() / 1000 * 3\n",
    "                # get lmp of buses where the su consumes from\n",
    "                lmp_con = n.buses_t.marginal_price.loc[:, con.columns]\n",
    "                # calculate costs for every time step and location\n",
    "                overall_cost = con * lmp_con\n",
    "                # calc consumption weighted average per location: overall cost per location / overall generation per location\n",
    "                cost_mv = overall_cost.sum() / con.sum()\n",
    "                # save cost_mv to df\n",
    "                df[f\"{c}_cost_mv_el\"] = cost_mv\n",
    "\n",
    "        else:\n",
    "            print(f\"{c} not found!\")\n",
    "\n",
    "        # set pries to nan where generation in corresponding region is lower than % quantile\n",
    "        qt = 0.2\n",
    "        index = df[f\"{c}_con_el\"] <= np.nanquantile(df[f\"{c}_con_el\"], qt)\n",
    "        df[f\"{c}_cost_mv_el\"][index] = np.nan"
   ]
  },
  {
   "cell_type": "code",
   "execution_count": 50,
   "metadata": {
    "pycharm": {
     "name": "#%%\n"
    }
   },
   "outputs": [],
   "source": [
    "# exclude ones with less than 50 TWh consumption in both scenarios: home battery charger\n",
    "#df_exp_ons[\"H2 Electrolysis_con_el\"].sum() < 50*1e3"
   ]
  },
  {
   "cell_type": "code",
   "execution_count": 51,
   "metadata": {
    "pycharm": {
     "name": "#%%\n"
    }
   },
   "outputs": [
    {
     "data": {
      "text/plain": "<Figure size 1200x600 with 1 Axes>",
      "image/png": "[encoded data removed]"
     },
     "metadata": {},
     "output_type": "display_data"
    }
   ],
   "source": [
    "# electricity consuming technologies\n",
    "\n",
    "# boxplot properties\n",
    "medianprops = dict(color=\"black\",linewidth=1.5)\n",
    "meanprops = {\"marker\":\"d\",\"markerfacecolor\":\"white\", \"markeredgecolor\":\"black\"}\n",
    "flierprops= {'marker': 'x', 'markersize': 5, 'markeredgecolor': 'black'}\n",
    "whiskerprops = dict(linestyle='-',linewidth=1.0, color='black')\n",
    "\n",
    "# data\n",
    "stst_el_con = df_stst_ons[[c + \"_cost_mv_el\" for c in c_el_con_s]]\n",
    "stst_el_con = stst_el_con.values\n",
    "exp_el_con = df_exp_ons[[c + \"_cost_mv_el\" for c in c_el_con_s]]\n",
    "exp_el_con = exp_el_con.values\n",
    "\n",
    "# Filter data using np.isnan\n",
    "mask_stst = ~np.isnan(stst_el_con)\n",
    "filtered_stst = [d[m] for d, m in zip(stst_el_con.T, mask_stst.T)]\n",
    "mask_exp = ~np.isnan(exp_el_con)\n",
    "filtered_exp = [d[m] for d, m in zip(exp_el_con.T, mask_exp.T)]\n",
    "\n",
    "ticks = [carrier_renaming.get(n, n) for n in c_el_con_s]\n",
    "index = c_el_con_s\n",
    "fig, ax = plt.subplots(figsize=(12, 6))\n",
    "\n",
    "stst_plot = plt.boxplot(filtered_stst,\n",
    "                        positions=np.array(np.arange(len(ticks)))*2.0-0.35,\n",
    "                        widths=0.6,\n",
    "                        patch_artist=True,\n",
    "                        showmeans=True,\n",
    "                        meanprops=meanprops,\n",
    "                        medianprops=medianprops,\n",
    "                        flierprops=flierprops,\n",
    "                        whiskerprops=whiskerprops\n",
    "                        )\n",
    "\n",
    "exp_plot = plt.boxplot(filtered_exp,\n",
    "                       positions=np.array(np.arange(len(ticks)))*2.0+0.35,\n",
    "                       widths=0.6,\n",
    "                       patch_artist=True,\n",
    "                       showmeans=True,\n",
    "                       meanprops=meanprops,\n",
    "                       medianprops=medianprops,\n",
    "                       flierprops=flierprops,\n",
    "                       whiskerprops=whiskerprops\n",
    "                       )\n",
    "\n",
    "\n",
    "for box, col in zip(stst_plot['boxes'],[carrier_colors[c] for c in index]):\n",
    "    # change outline color\n",
    "    box.set_facecolor(col)\n",
    "    box.set_linestyle('--')\n",
    "\n",
    "for box, col in zip(exp_plot['boxes'],[carrier_colors[c] for c in index]):\n",
    "    # change outline color\n",
    "    box.set_facecolor(col)\n",
    "\n",
    "# sample sizes\n",
    "for i, sample_size in enumerate(df_stst_ons[[f\"{i}_cost_mv_el\" for i in index]].count()):\n",
    "    ax.annotate(sample_size, xy=(0,0),  xycoords='axes fraction',\n",
    "        xytext=((i+0.35)/len(index),1), textcoords='axes fraction', color=\"blue\")\n",
    "\n",
    "#for i, sample_size in enumerate(df_exp_ons[[f\"{i}_cost_mv_el\" for i in index]].count()):\n",
    "#    ax.annotate(sample_size, xy=(0,0),  xycoords='axes fraction',\n",
    "#        xytext=((i+0.55)/len(index),1), textcoords='axes fraction', color=\"red\")\n",
    "\n",
    "# explanations\n",
    "plt.xticks(np.arange(0, len(ticks) * 2, 2), ticks)\n",
    "plt.ylabel(\"$€/MWh_{el}$\")\n",
    "plt.xticks(rotation=90)\n",
    "# plt.title(\"Market values of electricity consuming technologies across the regions (STST vs. EXP)\", fontsize=16, pad=20,  **font1)\n",
    "\n",
    "# cosmetics\n",
    "ax.patch.set_facecolor('lightgrey')\n",
    "ax.patch.set_alpha(0.5)\n",
    "\n",
    "# horizontal lines\n",
    "ax.axhline(df_stst_ons[[c + \"_cost_mv_el\" for c in c_el_con_s]].mean().mean(), ls=\"--\", c='black',linewidth=0.5)\n",
    "ax.axhline(df_exp_ons[[c + \"_cost_mv_el\" for c in c_el_con_s]].mean().mean(), ls=\"-\", c='black', linewidth=0.5)\n",
    "\n",
    "# legend\n",
    "patch1 = matplotlib.patches.Patch(ls=\"--\", facecolor=\"white\", edgecolor=\"black\")\n",
    "patch2 = matplotlib.patches.Patch(ls=\"-\", facecolor=\"white\", edgecolor=\"black\")\n",
    "line1 = Line2D([0], [0], ls=\"--\", c='black', label=\"mean (STST)\", linewidth=0.5)\n",
    "line2 = Line2D([0], [0], ls=\"-\", c='black', label=\"mean (EXP)\", linewidth=0.5)\n",
    "ax.legend([patch1, patch2, line1, line2], ['STST', 'EXP', 'mean (STST)','mean (EXP)'], loc=\"upper left\")\n",
    "\n",
    "fig.tight_layout()\n",
    "plt.show()\n",
    "\n",
    "fig.savefig(f\"{PLOT_DIR}/mv_el_con_both_box.png\")"
   ]
  },
  {
   "cell_type": "code",
   "execution_count": 52,
   "metadata": {
    "pycharm": {
     "name": "#%%\n"
    }
   },
   "outputs": [
    {
     "data": {
      "text/plain": "PHS_cost_mv_el                               31.856596\nH2 Electrolysis_cost_mv_el                   40.152954\nbattery charger_cost_mv_el                   57.812209\nurban central resistive heater_cost_mv_el    71.576548\nBEV charger_cost_mv_el                       79.179210\nurban central air heat pump_cost_mv_el       96.682812\ndtype: float64"
     },
     "execution_count": 52,
     "metadata": {},
     "output_type": "execute_result"
    }
   ],
   "source": [
    "# Further investigation\n",
    "df_stst_ons[[c + \"_cost_mv_el\" for c in c_el_con_s]].mean().mean()\n",
    "df_exp_ons[[c + \"_cost_mv_el\" for c in c_el_con_s]].mean().mean()\n",
    "\n",
    "df_stst_ons[[c + \"_cost_mv_el\" for c in c_el_con_s]].mean() - df_exp_ons[[c + \"_cost_mv_el\" for c in c_el_con_s]].mean()\n",
    "\n",
    "(df_stst_ons[[c + \"_cost_mv_el\" for c in c_el_con_s]].describe().loc[\"75%\"] -\n",
    " df_stst_ons[[c + \"_cost_mv_el\" for c in c_el_con_s]].describe().loc[\"25%\"]) - (\n",
    "            df_exp_ons[[c + \"_cost_mv_el\" for c in c_el_con_s]].describe().loc[\"75%\"] -\n",
    "            df_exp_ons[[c + \"_cost_mv_el\" for c in c_el_con_s]].describe().loc[\"25%\"])\n",
    "\n",
    "(df_stst_ons[[c + \"_cost_mv_el\" for c in c_el_con_s]].describe().loc[\"std\"] -\n",
    " df_exp_ons[[c + \"_cost_mv_el\" for c in c_el_con_s]].describe().loc[\"std\"])\n",
    "\n",
    "df_stst_ons[[c + \"_cost_mv_el\" for c in c_el_con_s]].mean().sort_values()"
   ]
  },
  {
   "cell_type": "markdown",
   "metadata": {
    "pycharm": {
     "name": "#%% md\n"
    }
   },
   "source": [
    "## Spatial Differences (4.3.2)"
   ]
  },
  {
   "cell_type": "markdown",
   "metadata": {
    "pycharm": {
     "name": "#%% md\n"
    }
   },
   "source": [
    "### Spatial correlation of mv, gen"
   ]
  },
  {
   "cell_type": "code",
   "execution_count": 53,
   "metadata": {
    "pycharm": {
     "name": "#%%\n"
    }
   },
   "outputs": [
    {
     "data": {
      "text/plain": "<Figure size 1500x500 with 4 Axes>",
      "image/png": "[encoded data removed]"
     },
     "metadata": {},
     "output_type": "display_data"
    }
   ],
   "source": [
    "# Spatial correlation of mv\n",
    "\n",
    "fig, axs = plt.subplots(ncols=2, figsize=(15, 5))\n",
    "\n",
    "for i, df, ax in zip([0,1], [df_stst_ons, df_exp_ons], axs):\n",
    "\n",
    "    corr = df[[c + \"_mv\" for c in c_el_gen_s]].corr()\n",
    "    corr.index = [carrier_renaming.get(n, n) for n in c_el_gen_s]\n",
    "    corr.columns = [carrier_renaming.get(n, n) for n in c_el_gen_s]\n",
    "    mask = np.triu(np.ones_like(corr, dtype=bool))\n",
    "\n",
    "    sns.heatmap(corr[abs(corr) > 0.4], mask=mask, cmap=\"magma_r\", annot=True, ax=ax)\n",
    "    ax.set_title('STST' if i == 0 else 'EXP')\n",
    "\n",
    "fig.tight_layout(pad=1.5)\n",
    "plt.show()\n",
    "\n",
    "#fig.savefig(f\"{PLOT_DIR}/mv_el_gen_both_corr.png\")"
   ]
  },
  {
   "cell_type": "code",
   "execution_count": 54,
   "metadata": {
    "pycharm": {
     "name": "#%%\n"
    }
   },
   "outputs": [],
   "source": [
    "# Spatial correlation of purchasing prices\n",
    "\n",
    "fig, axs = plt.subplots(ncols=2, figsize=(8, 3))\n",
    "\n",
    "for df, ax in zip([df_stst_ons, df_exp_ons], axs):\n",
    "    corr = df[[c + \"_cost_mv_el\" for c in c_el_con_s]].corr()\n",
    "    corr.index = [carrier_renaming.get(n, n) for n in c_el_con_s]\n",
    "    corr.columns = [carrier_renaming.get(n, n) for n in c_el_con_s]\n",
    "\n",
    "    mask = np.triu(np.ones_like(corr, dtype=bool))\n",
    "\n",
    "    sns.heatmap(corr[abs(corr) > 0.5], mask=mask, cmap=\"magma_r\", annot=True, ax=ax)\n",
    "fig.tight_layout(pad=1.5)\n",
    "\n",
    "plt.close()\n",
    "plt.show()"
   ]
  },
  {
   "cell_type": "code",
   "execution_count": 55,
   "metadata": {
    "pycharm": {
     "name": "#%%\n"
    }
   },
   "outputs": [],
   "source": [
    "# Spatial correlation of both\n",
    "\n",
    "fig, axs = plt.subplots(ncols=2, figsize=(17, 6))\n",
    "\n",
    "for df, ax in zip([df_stst_ons, df_exp_ons], axs):\n",
    "    corr = df[[c + \"_mv\" for c in c_el_gen_s] + [c + \"_cost_mv_el\" for c in c_el_con_s]].corr()\n",
    "    corr.index = [carrier_renaming.get(n, n) for n in c_el_gen_s] + [carrier_renaming.get(n, n) + \" (con)\" for n in c_el_con_s]\n",
    "    corr.columns = [carrier_renaming.get(n, n) for n in c_el_gen_s] + [carrier_renaming.get(n, n)+ \" (con)\" for n in c_el_con_s]\n",
    "\n",
    "    mask = np.triu(np.ones_like(corr, dtype=bool))\n",
    "\n",
    "    sns.heatmap(corr[abs(corr) > 0.5], mask=mask, cmap=\"magma_r\", annot=True, ax=ax)\n",
    "fig.tight_layout(pad=1.5)\n",
    "plt.close()\n",
    "plt.show()"
   ]
  },
  {
   "cell_type": "code",
   "execution_count": 56,
   "metadata": {
    "pycharm": {
     "name": "#%%\n"
    }
   },
   "outputs": [
    {
     "data": {
      "text/plain": "                                   corr_mv_gen_STST cor_mv_gen_EXP  \\\nonwind                                    -0.578121      -0.509373   \nsolar                                     -0.492272      -0.622834   \noffwind-dc                                -0.217228      -0.305526   \nhydro                                     -0.365901      -0.081002   \nsolar rooftop                             -0.297527      -0.549038   \nbattery discharger                         0.092893       0.453821   \noffwind-ac                                -0.122878      -0.121677   \nror                                       -0.111448      -0.204951   \nurban central gas CHP                     -0.217368       0.265516   \nurban central solid biomass CHP CC         0.524688       0.436093   \nV2G                                        0.039088       0.086076   \nPHS                                        0.427682       0.311556   \n\n                                   gini_gen_STST gini_gen_EXP  \\\nonwind                                  0.659884     0.757872   \nsolar                                   0.537442      0.74862   \noffwind-dc                              0.805011     0.854884   \nhydro                                   0.649592      0.64958   \nsolar rooftop                           0.581368     0.665008   \nbattery discharger                      0.785734     0.953217   \noffwind-ac                               0.91263     0.935982   \nror                                     0.667172     0.665983   \nurban central gas CHP                   0.674886     0.704973   \nurban central solid biomass CHP CC      0.782093      0.77208   \nV2G                                     0.383274     0.436697   \nPHS                                     0.567137     0.583426   \n\n                                   gini_gen_diff_EXP-STST gini_mv_STST  \\\nonwind                                           0.097988     0.166482   \nsolar                                            0.211178     0.097581   \noffwind-dc                                       0.049873     0.089491   \nhydro                                           -0.000011     0.172735   \nsolar rooftop                                    0.083641      0.07896   \nbattery discharger                               0.167483     0.094045   \noffwind-ac                                       0.023352     0.161479   \nror                                             -0.001189     0.116108   \nurban central gas CHP                            0.030087     0.090972   \nurban central solid biomass CHP CC              -0.010013     0.111417   \nV2G                                              0.053423      0.13185   \nPHS                                               0.01629     0.094384   \n\n                                   gini_mv_EXP gini_mv_diff_EXP-STST  \nonwind                                0.106267             -0.060214  \nsolar                                 0.086275             -0.011306  \noffwind-dc                            0.059508             -0.029983  \nhydro                                 0.096759             -0.075976  \nsolar rooftop                         0.055691             -0.023269  \nbattery discharger                    0.085976             -0.008069  \noffwind-ac                            0.100568              -0.06091  \nror                                   0.072561             -0.043546  \nurban central gas CHP                 0.040666             -0.050306  \nurban central solid biomass CHP CC    0.068683             -0.042734  \nV2G                                   0.109069             -0.022781  \nPHS                                   0.081407             -0.012977  ",
      "text/html": "<div>\n<style scoped>\n    .dataframe tbody tr th:only-of-type {\n        vertical-align: middle;\n    }\n\n    .dataframe tbody tr th {\n        vertical-align: top;\n    }\n\n    .dataframe thead tr th {\n        text-align: left;\n    }\n</style>\n<table border=\"1\" class=\"dataframe\">\n  <thead>\n    <tr>\n      <th></th>\n      <th>corr_mv_gen_STST</th>\n      <th>cor_mv_gen_EXP</th>\n      <th>gini_gen_STST</th>\n      <th>gini_gen_EXP</th>\n      <th>gini_gen_diff_EXP-STST</th>\n      <th>gini_mv_STST</th>\n      <th>gini_mv_EXP</th>\n      <th>gini_mv_diff_EXP-STST</th>\n    </tr>\n  </thead>\n  <tbody>\n    <tr>\n      <th>onwind</th>\n      <td>-0.578121</td>\n      <td>-0.509373</td>\n      <td>0.659884</td>\n      <td>0.757872</td>\n      <td>0.097988</td>\n      <td>0.166482</td>\n      <td>0.106267</td>\n      <td>-0.060214</td>\n    </tr>\n    <tr>\n      <th>solar</th>\n      <td>-0.492272</td>\n      <td>-0.622834</td>\n      <td>0.537442</td>\n      <td>0.74862</td>\n      <td>0.211178</td>\n      <td>0.097581</td>\n      <td>0.086275</td>\n      <td>-0.011306</td>\n    </tr>\n    <tr>\n      <th>offwind-dc</th>\n      <td>-0.217228</td>\n      <td>-0.305526</td>\n      <td>0.805011</td>\n      <td>0.854884</td>\n      <td>0.049873</td>\n      <td>0.089491</td>\n      <td>0.059508</td>\n      <td>-0.029983</td>\n    </tr>\n    <tr>\n      <th>hydro</th>\n      <td>-0.365901</td>\n      <td>-0.081002</td>\n      <td>0.649592</td>\n      <td>0.64958</td>\n      <td>-0.000011</td>\n      <td>0.172735</td>\n      <td>0.096759</td>\n      <td>-0.075976</td>\n    </tr>\n    <tr>\n      <th>solar rooftop</th>\n      <td>-0.297527</td>\n      <td>-0.549038</td>\n      <td>0.581368</td>\n      <td>0.665008</td>\n      <td>0.083641</td>\n      <td>0.07896</td>\n      <td>0.055691</td>\n      <td>-0.023269</td>\n    </tr>\n    <tr>\n      <th>battery discharger</th>\n      <td>0.092893</td>\n      <td>0.453821</td>\n      <td>0.785734</td>\n      <td>0.953217</td>\n      <td>0.167483</td>\n      <td>0.094045</td>\n      <td>0.085976</td>\n      <td>-0.008069</td>\n    </tr>\n    <tr>\n      <th>offwind-ac</th>\n      <td>-0.122878</td>\n      <td>-0.121677</td>\n      <td>0.91263</td>\n      <td>0.935982</td>\n      <td>0.023352</td>\n      <td>0.161479</td>\n      <td>0.100568</td>\n      <td>-0.06091</td>\n    </tr>\n    <tr>\n      <th>ror</th>\n      <td>-0.111448</td>\n      <td>-0.204951</td>\n      <td>0.667172</td>\n      <td>0.665983</td>\n      <td>-0.001189</td>\n      <td>0.116108</td>\n      <td>0.072561</td>\n      <td>-0.043546</td>\n    </tr>\n    <tr>\n      <th>urban central gas CHP</th>\n      <td>-0.217368</td>\n      <td>0.265516</td>\n      <td>0.674886</td>\n      <td>0.704973</td>\n      <td>0.030087</td>\n      <td>0.090972</td>\n      <td>0.040666</td>\n      <td>-0.050306</td>\n    </tr>\n    <tr>\n      <th>urban central solid biomass CHP CC</th>\n      <td>0.524688</td>\n      <td>0.436093</td>\n      <td>0.782093</td>\n      <td>0.77208</td>\n      <td>-0.010013</td>\n      <td>0.111417</td>\n      <td>0.068683</td>\n      <td>-0.042734</td>\n    </tr>\n    <tr>\n      <th>V2G</th>\n      <td>0.039088</td>\n      <td>0.086076</td>\n      <td>0.383274</td>\n      <td>0.436697</td>\n      <td>0.053423</td>\n      <td>0.13185</td>\n      <td>0.109069</td>\n      <td>-0.022781</td>\n    </tr>\n    <tr>\n      <th>PHS</th>\n      <td>0.427682</td>\n      <td>0.311556</td>\n      <td>0.567137</td>\n      <td>0.583426</td>\n      <td>0.01629</td>\n      <td>0.094384</td>\n      <td>0.081407</td>\n      <td>-0.012977</td>\n    </tr>\n  </tbody>\n</table>\n</div>"
     },
     "execution_count": 56,
     "metadata": {},
     "output_type": "execute_result"
    }
   ],
   "source": [
    "# correlation analysis\n",
    "# what do you want to find?\n",
    "\n",
    "\n",
    "corr_gini_res = pd.DataFrame(index=c_el_gen_s, columns=[[\"corr_mv_gen_STST\", \"cor_mv_gen_EXP\", \"gini_gen_STST\", \"gini_gen_EXP\", \"gini_gen_diff_EXP-STST\", \"gini_mv_STST\", \"gini_mv_EXP\", \"gini_mv_diff_EXP-STST\"]])\n",
    "for c in c_el_gen_s:\n",
    "    corr_gini_res.loc[c,\"corr_mv_gen_STST\"] = df_stst_ons[f\"{c}_mv\"].corr(df_stst_ons[f\"{c}_gen\"])\n",
    "    corr_gini_res.loc[c,\"cor_mv_gen_EXP\"] = df_exp_ons[f\"{c}_mv\"].corr(df_exp_ons[f\"{c}_gen\"])\n",
    "    corr_gini_res.loc[c,\"gini_gen_STST\"] = gini(df_stst_ons[[f\"{c}_gen\"]].dropna().values)\n",
    "    corr_gini_res.loc[c,\"gini_gen_EXP\"] = gini(df_exp_ons[[f\"{c}_gen\"]].dropna().values)\n",
    "    corr_gini_res.loc[c,\"gini_gen_EXP\"] = gini(df_exp_ons[[f\"{c}_gen\"]].dropna().values)\n",
    "    corr_gini_res.loc[c,\"gini_mv_STST\"] = gini(df_stst_ons[[f\"{c}_mv\"]].dropna().values)\n",
    "    corr_gini_res.loc[c,\"gini_mv_EXP\"] = gini(df_exp_ons[[f\"{c}_mv\"]].dropna().values)\n",
    "\n",
    "corr_gini_res[\"gini_gen_diff_EXP-STST\"] = corr_gini_res[\"gini_gen_EXP\"].values - corr_gini_res[\"gini_gen_STST\"].values\n",
    "corr_gini_res[\"gini_mv_diff_EXP-STST\"] = corr_gini_res[\"gini_mv_EXP\"].values - corr_gini_res[\"gini_mv_STST\"].values\n",
    "corr_gini_res"
   ]
  },
  {
   "cell_type": "markdown",
   "metadata": {
    "pycharm": {
     "name": "#%% md\n"
    }
   },
   "source": [
    "**Findings:**\n",
    "- gini: the higher, the more uneven distributed\n",
    "- generation is more uneven distributed in EXP case\n",
    "- mv are more evenly distributed in EXP case"
   ]
  },
  {
   "cell_type": "markdown",
   "metadata": {
    "pycharm": {
     "name": "#%% md\n"
    }
   },
   "source": [
    "### Electricity producing technologies"
   ]
  },
  {
   "cell_type": "markdown",
   "metadata": {
    "pycharm": {
     "name": "#%% md\n"
    }
   },
   "source": [
    "#### VRE"
   ]
  },
  {
   "cell_type": "code",
   "execution_count": 57,
   "metadata": {
    "pycharm": {
     "name": "#%%\n"
    }
   },
   "outputs": [],
   "source": [
    "# VRE\n",
    "\n",
    "# market values across regions as map\n",
    "carriers = [\"onwind\", \"solar\",\"offwind-dc\", \"ror\"]\n",
    "\n",
    "fig, axs = plt.subplots(ncols=2, nrows=2, subplot_kw={'projection': ccrs.EqualEarth()},\n",
    "                        figsize=(18, 16))\n",
    "crs = ccrs.EqualEarth()\n",
    "\n",
    "for i, ax in enumerate(axs.reshape(-1)):\n",
    "\n",
    "    if carriers[i] in [\"offwind-dc\", \"offwind-ac\"]:\n",
    "        df = df_stst_off\n",
    "    else:\n",
    "        df = df_stst_ons\n",
    "\n",
    "    ax.add_feature(cartopy.feature.BORDERS, edgecolor='black', linewidth=0.5)\n",
    "    ax.coastlines(edgecolor='black', linewidth=0.5)\n",
    "    ax.set_facecolor('white')\n",
    "    ax.add_feature(cartopy.feature.OCEAN, color='azure')\n",
    "\n",
    "    df.to_crs(crs.proj4_init).plot(column=f\"{carriers[i]}_mv\",\n",
    "                                   ax=ax,\n",
    "                                   cmap=plt.get_cmap(\"magma_r\"),\n",
    "                                   linewidth=0.05,\n",
    "                                   edgecolor = 'grey',\n",
    "                                   legend=True,\n",
    "                                   legend_kwds={'label':\"market values ($€/MWh_{el}$)\",'orientation': \"vertical\",'shrink' : 0.9}\n",
    "                                   )\n",
    "\n",
    "    max_size = df[f\"{carriers[i]}_gen\"].max()\n",
    "    df.to_crs(crs.proj4_init).centroid.plot(ax=ax, sizes=df[f\"{carriers[i]}_gen\"] / max_size *300,  color=\"black\", edgecolor=\"white\")\n",
    "    pypsa.plot.add_legend_circles(ax=ax, sizes=[0.6], labels=[\"Generation magnitude\"], patch_kw={'color': 'black', 'edgecolor': 'white'}, legend_kw={'loc': 'upper left'})\n",
    "\n",
    "    # always select same section\n",
    "    xmin, ymin, xmax, ymax = df_stst_off.to_crs(crs.proj4_init).total_bounds\n",
    "    pad = 1 * 1e5  # add a padding around the geometry\n",
    "    ax.set_xlim(xmin-pad, xmax+pad)\n",
    "    ax.set_ylim(ymin-pad, ymax+pad)\n",
    "\n",
    "    ax.set_title(f\"{carriers[i]}\", fontsize=16, **font1)\n",
    "\n",
    "# fig.suptitle(\"Spatial Differences in the electricity generation of the VRE technologies (STST)\", fontsize=16, **font1)\n",
    "fig.tight_layout()\n",
    "\n",
    "plt.close()\n",
    "plt.show()\n",
    "\n",
    "\n",
    "# fig.savefig(f\"{PLOT_DIR}/mv_el_gen_vre_STST_map.png\")"
   ]
  },
  {
   "cell_type": "code",
   "execution_count": 58,
   "metadata": {
    "pycharm": {
     "name": "#%%\n"
    }
   },
   "outputs": [
    {
     "name": "stdout",
     "output_type": "stream",
     "text": [
      "onwind\n",
      "-0.5781209573863494\n",
      "-0.7058179103669308\n",
      "solar\n",
      "-0.49227225813176906\n",
      "-0.9120500457591202\n",
      "offwind-dc\n",
      "-0.21722843782978507\n",
      "-0.7014675772678328\n",
      "solar rooftop\n",
      "-0.29752705945838803\n",
      "-0.7818859621096502\n",
      "offwind-ac\n",
      "-0.12287773877776946\n",
      "-0.7173872701307896\n",
      "ror\n",
      "-0.1114482098844423\n",
      "0.652170303221742\n"
     ]
    },
    {
     "data": {
      "text/plain": "91.207870116185"
     },
     "execution_count": 58,
     "metadata": {},
     "output_type": "execute_result"
    }
   ],
   "source": [
    "# Further investigation\n",
    "# TODO why is the correlation between mv and cp for ror positive\n",
    "c_vre = [\"onwind\", \"solar\", \"offwind-dc\", \"solar rooftop\", \"offwind-ac\", \"ror\"]\n",
    "for c in c_vre:\n",
    "    print(c)\n",
    "    print(df_stst_ons[f\"{c}_mv\"].corr(df_stst_ons[f\"{c}_gen\"]))\n",
    "    print(df_stst_ons[f\"{c}_mv\"].corr(df_stst_ons[f\"{c}_cf\"]))\n",
    "\n",
    "# generation weighted market value\n",
    "c = \"ror\"\n",
    "((df_stst_ons[f\"{c}_gen\"] / df_stst_ons[f\"{c}_gen\"].sum()) * df_stst_ons[f\"{c}_mv\"]).sum()"
   ]
  },
  {
   "cell_type": "code",
   "execution_count": 59,
   "metadata": {
    "pycharm": {
     "name": "#%%\n"
    }
   },
   "outputs": [],
   "source": [
    "# VRE difference\n",
    "\n",
    "# market values across regions as map\n",
    "carriers = [\"onwind\", \"solar\",\"offwind-dc\", \"ror\"]\n",
    "\n",
    "for c in carriers:\n",
    "    # if one mv is nan the result is nan as well\n",
    "    if c in [\"offwind-dc\", \"offwind-ac\"]:\n",
    "        df_stst_off[f\"{c}_mv_STST-EXP\"] = df_stst_off[f\"{c}_mv\"] - df_exp_off[f\"{c}_mv\"]\n",
    "    else:\n",
    "        df_stst_ons[f\"{c}_mv_STST-EXP\"] = df_stst_ons[f\"{c}_mv\"] - df_exp_ons[f\"{c}_mv\"]\n",
    "\n",
    "fig, axs = plt.subplots(ncols=2, nrows=2, subplot_kw={'projection': ccrs.EqualEarth()},\n",
    "                        figsize=(18, 16))\n",
    "crs = ccrs.EqualEarth()\n",
    "\n",
    "for i, ax in enumerate(axs.reshape(-1)):\n",
    "\n",
    "    if carriers[i] in [\"offwind-dc\", \"offwind-ac\"]:\n",
    "        df = df_stst_off\n",
    "        df_2 = df_exp_off\n",
    "    else:\n",
    "        df = df_stst_ons\n",
    "        df_2 = df_exp_ons\n",
    "\n",
    "    abs_max = max(abs(df[f\"{carriers[i]}_mv_STST-EXP\"].max()) , abs(df[f\"{carriers[i]}_mv_STST-EXP\"].max()))\n",
    "\n",
    "    ax.add_feature(cartopy.feature.BORDERS, edgecolor='black', linewidth=0.5)\n",
    "    ax.coastlines(edgecolor='black', linewidth=0.5)\n",
    "    ax.set_facecolor('white')\n",
    "    ax.add_feature(cartopy.feature.OCEAN, color='azure')\n",
    "\n",
    "    df.to_crs(crs.proj4_init).plot(column=f\"{carriers[i]}_mv_STST-EXP\",\n",
    "                                   ax=ax,\n",
    "                                   cmap=plt.get_cmap('RdYlGn'),\n",
    "                                   vmax=abs_max,\n",
    "                                   vmin=-abs_max,\n",
    "                                   linewidth=0.05,\n",
    "                                   edgecolor = 'grey',\n",
    "                                   legend=True,\n",
    "                                   legend_kwds={'label':\"market value differences ($€/MWh_{el}$)\",'orientation': \"vertical\",'shrink' : 0.8}\n",
    "                                   )\n",
    "\n",
    "    # difference in generation (STST-EXP)\n",
    "    gen_diff = df[f\"{carriers[i]}_gen\"] - df_2[f\"{carriers[i]}_gen\"]\n",
    "    # red if negative and green if positive\n",
    "    colors = ['red' if (x < 0) else 'green' for x in gen_diff ]\n",
    "\n",
    "    max_size = abs(gen_diff).max()\n",
    "    df.to_crs(crs.proj4_init).centroid.plot(ax=ax, sizes=(abs(gen_diff) / max_size) * 500,  color=colors, edgecolor=\"white\")\n",
    "    circle1 = Line2D([], [], color=\"white\", marker='o', markerfacecolor=\"green\", markeredgecolor=\"white\", markersize=10)\n",
    "    circle2 = Line2D([], [], color=\"white\", marker='o', markerfacecolor=\"red\", markeredgecolor=\"white\", markersize=10)\n",
    "    circle3 = Line2D([], [], color=\"white\", marker='o', markerfacecolor=\"white\", markeredgecolor=\"black\", markersize=10)\n",
    "\n",
    "    unit = \"TWh\" if max_size > 1e3 else \"GWh\"\n",
    "    max_size = max_size / 1e3 if max_size > 1e3 else max_size\n",
    "    ax.legend((circle1, circle2, circle3), ('Increased production in STST', 'Increased production in EXP', f\"max circle size: {round(max_size)} {unit}\"), numpoints=1, loc=\"upper left\")\n",
    "\n",
    "\n",
    "    # always select same section\n",
    "    xmin, ymin, xmax, ymax = df_stst_off.to_crs(crs.proj4_init).total_bounds\n",
    "    pad = 1 * 1e5  # add a padding around the geometry\n",
    "    ax.set_xlim(xmin-pad, xmax+pad)\n",
    "    ax.set_ylim(ymin-pad, ymax+pad)\n",
    "\n",
    "    ax.set_title(f\"{carriers[i]} mv (STST - EXP)\", fontsize=16, **font1)\n",
    "\n",
    "# fig.suptitle(\"Spatial Differences in the electricity generation of the VRE technologies (STST)\", fontsize=16, **font1)\n",
    "fig.tight_layout()\n",
    "\n",
    "plt.close()\n",
    "plt.show()\n",
    "\n",
    "\n",
    "#fig.savefig(f\"{PLOT_DIR}/mv_el_gen_vre_STST-EXP_map.png\")"
   ]
  },
  {
   "cell_type": "markdown",
   "metadata": {
    "pycharm": {
     "name": "#%% md\n"
    }
   },
   "source": [
    "#### Storage"
   ]
  },
  {
   "cell_type": "code",
   "execution_count": 60,
   "metadata": {
    "pycharm": {
     "name": "#%%\n"
    }
   },
   "outputs": [],
   "source": [
    "# Storage\n",
    "\n",
    "# market values across regions as map\n",
    "carriers = [\"hydro\", \"battery discharger\", \"V2G\", \"PHS\"]\n",
    "\n",
    "fig, axs = plt.subplots(ncols=2, nrows=2, subplot_kw={'projection': ccrs.EqualEarth()},\n",
    "                        figsize=(18, 16))\n",
    "crs = ccrs.EqualEarth()\n",
    "\n",
    "for i, ax in enumerate(axs.reshape(-1)):\n",
    "\n",
    "    if carriers[i] in [\"offwind-dc\", \"offwind-ac\"]:\n",
    "        df = df_stst_off\n",
    "    else:\n",
    "        df = df_stst_ons\n",
    "\n",
    "    ax.add_feature(cartopy.feature.BORDERS, edgecolor='black', linewidth=0.5)\n",
    "    ax.coastlines(edgecolor='black', linewidth=0.5)\n",
    "    ax.set_facecolor('white')\n",
    "    ax.add_feature(cartopy.feature.OCEAN, color='azure')\n",
    "\n",
    "    df.to_crs(crs.proj4_init).plot(column=f\"{carriers[i]}_mv\",\n",
    "                                   ax=ax,\n",
    "                                   cmap=plt.get_cmap(\"magma_r\"),\n",
    "                                   linewidth=0.05,\n",
    "                                   edgecolor = 'grey',\n",
    "                                   legend=True,\n",
    "                                   legend_kwds={'label':\"market values ($€/MWh_{el}$)\",'orientation': \"vertical\",'shrink' : 0.9}\n",
    "                                   )\n",
    "\n",
    "    max_size = df[f\"{carriers[i]}_gen\"].max()\n",
    "    df.to_crs(crs.proj4_init).centroid.plot(ax=ax, sizes=df[f\"{carriers[i]}_gen\"] / max_size *300,  color=\"black\", edgecolor=\"white\")\n",
    "    pypsa.plot.add_legend_circles(ax=ax, sizes=[0.6], labels=[\"Generation magnitude\"], patch_kw={'color': 'black', 'edgecolor': 'white'}, legend_kw={'loc': 'upper left'})\n",
    "\n",
    "    # always select same section\n",
    "    xmin, ymin, xmax, ymax = df_stst_off.to_crs(crs.proj4_init).total_bounds\n",
    "    pad = 1 * 1e5  # add a padding around the geometry\n",
    "    ax.set_xlim(xmin-pad, xmax+pad)\n",
    "    ax.set_ylim(ymin-pad, ymax+pad)\n",
    "\n",
    "    ax.set_title(f\"{carriers[i]}\", fontsize=16, **font1)\n",
    "\n",
    "# fig.suptitle(\"Spatial Differences in the electricity generation of the VRE technologies (STST)\", fontsize=16, **font1)\n",
    "fig.tight_layout()\n",
    "\n",
    "plt.close()\n",
    "plt.show()\n",
    "\n",
    "\n",
    "#fig.savefig(f\"{PLOT_DIR}/mv_el_gen_store_STST_map.png\")"
   ]
  },
  {
   "cell_type": "code",
   "execution_count": 61,
   "metadata": {
    "pycharm": {
     "name": "#%%\n"
    }
   },
   "outputs": [],
   "source": [
    "# Storage difference\n",
    "\n",
    "# market values across regions as map\n",
    "carriers = [\"hydro\", \"battery discharger\", \"V2G\", \"PHS\"]\n",
    "\n",
    "for c in carriers:\n",
    "    # if one mv is nan the result is nan as well\n",
    "    if c in [\"offwind-dc\", \"offwind-ac\"]:\n",
    "        df_stst_off[f\"{c}_mv_STST-EXP\"] = df_stst_off[f\"{c}_mv\"] - df_exp_off[f\"{c}_mv\"]\n",
    "    else:\n",
    "        df_stst_ons[f\"{c}_mv_STST-EXP\"] = df_stst_ons[f\"{c}_mv\"] - df_exp_ons[f\"{c}_mv\"]\n",
    "\n",
    "fig, axs = plt.subplots(ncols=2, nrows=2, subplot_kw={'projection': ccrs.EqualEarth()},\n",
    "                        figsize=(18, 16))\n",
    "crs = ccrs.EqualEarth()\n",
    "\n",
    "for i, ax in enumerate(axs.reshape(-1)):\n",
    "\n",
    "    if carriers[i] in [\"offwind-dc\", \"offwind-ac\"]:\n",
    "        df = df_stst_off\n",
    "        df_2 = df_exp_off\n",
    "    else:\n",
    "        df = df_stst_ons\n",
    "        df_2 = df_exp_ons\n",
    "\n",
    "    abs_max = max(abs(df[f\"{carriers[i]}_mv_STST-EXP\"].max()) , abs(df[f\"{carriers[i]}_mv_STST-EXP\"].max()))\n",
    "\n",
    "    ax.add_feature(cartopy.feature.BORDERS, edgecolor='black', linewidth=0.5)\n",
    "    ax.coastlines(edgecolor='black', linewidth=0.5)\n",
    "    ax.set_facecolor('white')\n",
    "    ax.add_feature(cartopy.feature.OCEAN, color='azure')\n",
    "\n",
    "    df.to_crs(crs.proj4_init).plot(column=f\"{carriers[i]}_mv_STST-EXP\",\n",
    "                                   ax=ax,\n",
    "                                   cmap=plt.get_cmap('RdYlGn'),\n",
    "                                   vmax=abs_max,\n",
    "                                   vmin=-abs_max,\n",
    "                                   linewidth=0.05,\n",
    "                                   edgecolor = 'grey',\n",
    "                                   legend=True,\n",
    "                                   legend_kwds={'label':\"market value differences ($€/MWh_{el}$)\",'orientation': \"vertical\",'shrink' : 0.8}\n",
    "                                   )\n",
    "\n",
    "    # difference in generation (STST-EXP)\n",
    "    gen_diff = df[f\"{carriers[i]}_gen\"] - df_2[f\"{carriers[i]}_gen\"]\n",
    "    # red if negative and green if positive\n",
    "    colors = ['red' if (x < 0) else 'green' for x in gen_diff ]\n",
    "\n",
    "    max_size = abs(gen_diff).max()\n",
    "    df.to_crs(crs.proj4_init).centroid.plot(ax=ax, sizes=(abs(gen_diff) / max_size) * 500,  color=colors, edgecolor=\"white\")\n",
    "    circle1 = Line2D([], [], color=\"white\", marker='o', markerfacecolor=\"green\", markeredgecolor=\"white\", markersize=10)\n",
    "    circle2 = Line2D([], [], color=\"white\", marker='o', markerfacecolor=\"red\", markeredgecolor=\"white\", markersize=10)\n",
    "    circle3 = Line2D([], [], color=\"white\", marker='o', markerfacecolor=\"white\", markeredgecolor=\"black\", markersize=10)\n",
    "\n",
    "    unit = \"TWh\" if max_size > 1e3 else \"GWh\"\n",
    "    max_size = max_size / 1e3 if max_size > 1e3 else max_size\n",
    "    ax.legend((circle1, circle2, circle3), ('Increased production in STST', 'Increased production in EXP', f\"max circle size: {round(max_size)} {unit}\"), numpoints=1, loc=\"upper left\")\n",
    "\n",
    "\n",
    "    # always select same section\n",
    "    xmin, ymin, xmax, ymax = df_stst_off.to_crs(crs.proj4_init).total_bounds\n",
    "    pad = 1 * 1e5  # add a padding around the geometry\n",
    "    ax.set_xlim(xmin-pad, xmax+pad)\n",
    "    ax.set_ylim(ymin-pad, ymax+pad)\n",
    "\n",
    "    ax.set_title(f\"{carriers[i]} mv (STST - EXP)\", fontsize=16, **font1)\n",
    "\n",
    "# fig.suptitle(\"Spatial Differences in the electricity generation of the VRE technologies (STST)\", fontsize=16, **font1)\n",
    "fig.tight_layout()\n",
    "\n",
    "plt.close()\n",
    "plt.show()\n",
    "\n",
    "\n",
    "#fig.savefig(f\"{PLOT_DIR}/mv_el_gen_store_STST-EXP_map.png\")"
   ]
  },
  {
   "cell_type": "code",
   "execution_count": 62,
   "metadata": {
    "pycharm": {
     "name": "#%%\n"
    }
   },
   "outputs": [],
   "source": [
    "# Storage\n",
    "# \"hydro\", \"battery discharger\", \"V2G\", \"PHS\"\n",
    "\n",
    "carriers = [\"hydro\", \"V2G\"]\n",
    "\n",
    "fig, axs = plt.subplots(ncols=2, nrows=1, subplot_kw={'projection': ccrs.EqualEarth()}, figsize=(18, 8),\n",
    "                        gridspec_kw={'width_ratios': [1, 1], 'height_ratios': [1]}\n",
    "                        )\n",
    "crs = ccrs.EqualEarth()\n",
    "\n",
    "for i, ax in enumerate(axs):\n",
    "\n",
    "    if carriers[i] in [\"offwind-dc\", \"offwind-ac\"]:\n",
    "        df = df_stst_off\n",
    "    else:\n",
    "        df = df_stst_ons\n",
    "\n",
    "    ax.add_feature(cartopy.feature.BORDERS, edgecolor='black', linewidth=0.5)\n",
    "    ax.coastlines(edgecolor='black', linewidth=0.5)\n",
    "    ax.set_facecolor('white')\n",
    "    ax.add_feature(cartopy.feature.OCEAN, color='azure')\n",
    "\n",
    "    df.to_crs(crs.proj4_init).plot(column=f\"{carriers[i]}_mv\",\n",
    "                                   ax=ax,\n",
    "                                   cmap=plt.get_cmap(\"magma_r\"),\n",
    "                                   linewidth=0.05,\n",
    "                                   edgecolor = 'grey',\n",
    "                                   legend=True,\n",
    "                                   legend_kwds={'label':\"market values ($€/MWh_{el}$)\",'orientation': \"vertical\",'shrink' : 0.9}\n",
    "                                   )\n",
    "\n",
    "    max_size = df[f\"{carriers[i]}_gen\"].max()\n",
    "    df.to_crs(crs.proj4_init).centroid.plot(ax=ax, sizes=df[f\"{carriers[i]}_gen\"] / max_size *300,  color=\"black\", edgecolor=\"white\")\n",
    "    pypsa.plot.add_legend_circles(ax=ax, sizes=[0.6], labels=[\"Generation magnitude\"], patch_kw={'color': 'black', 'edgecolor': 'white'}, legend_kw={'loc': 'upper left'})\n",
    "\n",
    "    # always select same section\n",
    "    xmin, ymin, xmax, ymax = df_stst_ons.to_crs(crs.proj4_init).total_bounds\n",
    "    pad = 1 * 1e5  # add a padding around the geometry\n",
    "    ax.set_xlim(xmin-pad, xmax+pad)\n",
    "    ax.set_ylim(ymin-pad, ymax+pad)\n",
    "\n",
    "    ax.set_title(f\"{carriers[i]}\", fontsize=16, **font1)\n",
    "\n",
    "# fig.suptitle(\"Spatial Differences in the electricity generation of the VRE technologies (STST)\", fontsize=16, **font1)\n",
    "fig.tight_layout()\n",
    "\n",
    "plt.close()\n",
    "plt.show()\n",
    "\n",
    "\n",
    "# fig.savefig(f\"{PLOT_DIR}/mv_el_gen_stor_hydro_V2G_STST_map.png\")"
   ]
  },
  {
   "cell_type": "code",
   "execution_count": 63,
   "metadata": {
    "pycharm": {
     "name": "#%%\n"
    }
   },
   "outputs": [],
   "source": [
    "# plot difference\n",
    "\n",
    "# Storage difference\n",
    "# \"hydro\", \"battery discharger\", \"V2G\", \"PHS\"\n",
    "\n",
    "carriers = [\"hydro\", \"V2G\"]\n",
    "for c in carriers:\n",
    "    # if one mv is nan the result is nan as well\n",
    "    df_stst_ons[f\"{c}_mv_STST-EXP\"] = df_stst_ons[f\"{c}_mv\"] - df_exp_ons[f\"{c}_mv\"]\n",
    "\n",
    "fig, axs = plt.subplots(ncols=2, nrows=1, subplot_kw={'projection': ccrs.EqualEarth()}, figsize=(18, 8),\n",
    "                        gridspec_kw={'width_ratios': [1, 1], 'height_ratios': [1]}\n",
    "                        )\n",
    "crs = ccrs.EqualEarth()\n",
    "\n",
    "for i, ax in enumerate(axs):\n",
    "\n",
    "    if carriers[i] in [\"offwind-dc\", \"offwind-ac\"]:\n",
    "        df = df_stst_off\n",
    "    else:\n",
    "        df = df_stst_ons\n",
    "\n",
    "    ax.add_feature(cartopy.feature.BORDERS, edgecolor='black', linewidth=0.5)\n",
    "    ax.coastlines(edgecolor='black', linewidth=0.5)\n",
    "    ax.set_facecolor('white')\n",
    "    ax.add_feature(cartopy.feature.OCEAN, color='azure')\n",
    "\n",
    "    df.to_crs(crs.proj4_init).plot(column=f\"{carriers[i]}_mv_STST-EXP\",\n",
    "                                   ax=ax,\n",
    "                                   cmap=plt.get_cmap(\"magma_r\"),\n",
    "                                   linewidth=0.05,\n",
    "                                   edgecolor = 'grey',\n",
    "                                   legend=True,\n",
    "                                   legend_kwds={'label':\"market values ($€/MWh_{el}$)\",'orientation': \"vertical\",'shrink' : 0.9}\n",
    "                                   )\n",
    "\n",
    "    max_size = df[f\"{carriers[i]}_gen\"].max()\n",
    "    df.to_crs(crs.proj4_init).centroid.plot(ax=ax, sizes=df[f\"{carriers[i]}_gen\"] / max_size *300,  color=\"black\", edgecolor=\"white\")\n",
    "    pypsa.plot.add_legend_circles(ax=ax, sizes=[0.6], labels=[\"Generation magnitude\"], patch_kw={'color': 'black', 'edgecolor': 'white'}, legend_kw={'loc': 'upper left'})\n",
    "\n",
    "    # always select same section\n",
    "    xmin, ymin, xmax, ymax = df_stst_ons.to_crs(crs.proj4_init).total_bounds\n",
    "    pad = 1 * 1e5  # add a padding around the geometry\n",
    "    ax.set_xlim(xmin-pad, xmax+pad)\n",
    "    ax.set_ylim(ymin-pad, ymax+pad)\n",
    "\n",
    "    ax.set_title(f\"{carriers[i]}\", fontsize=16, **font1)\n",
    "\n",
    "# fig.suptitle(\"Spatial Differences in the electricity generation of the VRE technologies (STST)\", fontsize=16, **font1)\n",
    "fig.tight_layout()\n",
    "\n",
    "plt.close()\n",
    "plt.show()\n",
    "\n",
    "\n",
    "# fig.savefig(f\"{PLOT_DIR}/mv_el_gen_stor_hydro_V2G_STST-EXP_map.png\")"
   ]
  },
  {
   "cell_type": "code",
   "execution_count": 64,
   "metadata": {
    "pycharm": {
     "name": "#%%\n"
    }
   },
   "outputs": [
    {
     "data": {
      "text/plain": "           V2G_mv     V2G_gen\nname                         \nFR0 13  43.310151  402.433666\nFR0 10  47.148184  667.599178\nFR0 14  47.251985  803.144634\nFR0 6   47.874754  698.784707\nFR0 0   49.647158  593.684062\n...           ...         ...\nSE3 4         NaN   27.394292\nSE3 5         NaN   58.449005\nSE3 6         NaN  193.406725\nSE3 7         NaN   28.983467\nSI0 0         NaN  173.278128\n\n[181 rows x 2 columns]",
      "text/html": "<div>\n<style scoped>\n    .dataframe tbody tr th:only-of-type {\n        vertical-align: middle;\n    }\n\n    .dataframe tbody tr th {\n        vertical-align: top;\n    }\n\n    .dataframe thead th {\n        text-align: right;\n    }\n</style>\n<table border=\"1\" class=\"dataframe\">\n  <thead>\n    <tr style=\"text-align: right;\">\n      <th></th>\n      <th>V2G_mv</th>\n      <th>V2G_gen</th>\n    </tr>\n    <tr>\n      <th>name</th>\n      <th></th>\n      <th></th>\n    </tr>\n  </thead>\n  <tbody>\n    <tr>\n      <th>FR0 13</th>\n      <td>43.310151</td>\n      <td>402.433666</td>\n    </tr>\n    <tr>\n      <th>FR0 10</th>\n      <td>47.148184</td>\n      <td>667.599178</td>\n    </tr>\n    <tr>\n      <th>FR0 14</th>\n      <td>47.251985</td>\n      <td>803.144634</td>\n    </tr>\n    <tr>\n      <th>FR0 6</th>\n      <td>47.874754</td>\n      <td>698.784707</td>\n    </tr>\n    <tr>\n      <th>FR0 0</th>\n      <td>49.647158</td>\n      <td>593.684062</td>\n    </tr>\n    <tr>\n      <th>...</th>\n      <td>...</td>\n      <td>...</td>\n    </tr>\n    <tr>\n      <th>SE3 4</th>\n      <td>NaN</td>\n      <td>27.394292</td>\n    </tr>\n    <tr>\n      <th>SE3 5</th>\n      <td>NaN</td>\n      <td>58.449005</td>\n    </tr>\n    <tr>\n      <th>SE3 6</th>\n      <td>NaN</td>\n      <td>193.406725</td>\n    </tr>\n    <tr>\n      <th>SE3 7</th>\n      <td>NaN</td>\n      <td>28.983467</td>\n    </tr>\n    <tr>\n      <th>SI0 0</th>\n      <td>NaN</td>\n      <td>173.278128</td>\n    </tr>\n  </tbody>\n</table>\n<p>181 rows × 2 columns</p>\n</div>"
     },
     "execution_count": 64,
     "metadata": {},
     "output_type": "execute_result"
    }
   ],
   "source": [
    "# Further investigation\n",
    "c = \"V2G\"\n",
    "df_stst_ons[[f\"{c}_mv\",f\"{c}_gen\"]].sort_values(by=f\"{c}_mv\")"
   ]
  },
  {
   "cell_type": "code",
   "execution_count": 65,
   "metadata": {
    "pycharm": {
     "name": "#%%\n"
    }
   },
   "outputs": [
    {
     "data": {
      "text/plain": "           V2G_mv     V2G_gen\nname                         \nBE0 0   51.882724  227.050601\nFR0 13  53.146641  254.387615\nFR0 2   53.354636  133.366510\nFR0 10  58.524568  517.106483\nDE0 21  60.818561  210.803954\n...           ...         ...\nSE3 2         NaN   64.028873\nSE3 4         NaN   27.554712\nSE3 5         NaN   47.701271\nSE3 7         NaN   32.266356\nSI0 0         NaN  119.390620\n\n[181 rows x 2 columns]",
      "text/html": "<div>\n<style scoped>\n    .dataframe tbody tr th:only-of-type {\n        vertical-align: middle;\n    }\n\n    .dataframe tbody tr th {\n        vertical-align: top;\n    }\n\n    .dataframe thead th {\n        text-align: right;\n    }\n</style>\n<table border=\"1\" class=\"dataframe\">\n  <thead>\n    <tr style=\"text-align: right;\">\n      <th></th>\n      <th>V2G_mv</th>\n      <th>V2G_gen</th>\n    </tr>\n    <tr>\n      <th>name</th>\n      <th></th>\n      <th></th>\n    </tr>\n  </thead>\n  <tbody>\n    <tr>\n      <th>BE0 0</th>\n      <td>51.882724</td>\n      <td>227.050601</td>\n    </tr>\n    <tr>\n      <th>FR0 13</th>\n      <td>53.146641</td>\n      <td>254.387615</td>\n    </tr>\n    <tr>\n      <th>FR0 2</th>\n      <td>53.354636</td>\n      <td>133.366510</td>\n    </tr>\n    <tr>\n      <th>FR0 10</th>\n      <td>58.524568</td>\n      <td>517.106483</td>\n    </tr>\n    <tr>\n      <th>DE0 21</th>\n      <td>60.818561</td>\n      <td>210.803954</td>\n    </tr>\n    <tr>\n      <th>...</th>\n      <td>...</td>\n      <td>...</td>\n    </tr>\n    <tr>\n      <th>SE3 2</th>\n      <td>NaN</td>\n      <td>64.028873</td>\n    </tr>\n    <tr>\n      <th>SE3 4</th>\n      <td>NaN</td>\n      <td>27.554712</td>\n    </tr>\n    <tr>\n      <th>SE3 5</th>\n      <td>NaN</td>\n      <td>47.701271</td>\n    </tr>\n    <tr>\n      <th>SE3 7</th>\n      <td>NaN</td>\n      <td>32.266356</td>\n    </tr>\n    <tr>\n      <th>SI0 0</th>\n      <td>NaN</td>\n      <td>119.390620</td>\n    </tr>\n  </tbody>\n</table>\n<p>181 rows × 2 columns</p>\n</div>"
     },
     "execution_count": 65,
     "metadata": {},
     "output_type": "execute_result"
    }
   ],
   "source": [
    "df_exp_ons[[f\"{c}_mv\",f\"{c}_gen\"]].sort_values(by=f\"{c}_mv\")"
   ]
  },
  {
   "cell_type": "code",
   "execution_count": 66,
   "metadata": {
    "pycharm": {
     "name": "#%%\n"
    }
   },
   "outputs": [
    {
     "data": {
      "text/plain": "           V2G_mv     V2G_gen     V2G_gen\nname                                     \nGB5 16 -38.307316  847.803039  476.114523\nHU0 1  -36.285789  504.506797  262.198867\nRO0 2  -32.329032  593.760914  364.949765\nRO0 0  -28.557459  640.205808  499.997329\nGB5 4  -25.212819  659.584876  322.093579\n...           ...         ...         ...\nSE3 4         NaN   27.394292   27.554712\nSE3 5         NaN   58.449005   47.701271\nSE3 6         NaN  193.406725  215.976825\nSE3 7         NaN   28.983467   32.266356\nSI0 0         NaN  173.278128  119.390620\n\n[181 rows x 3 columns]",
      "text/html": "<div>\n<style scoped>\n    .dataframe tbody tr th:only-of-type {\n        vertical-align: middle;\n    }\n\n    .dataframe tbody tr th {\n        vertical-align: top;\n    }\n\n    .dataframe thead th {\n        text-align: right;\n    }\n</style>\n<table border=\"1\" class=\"dataframe\">\n  <thead>\n    <tr style=\"text-align: right;\">\n      <th></th>\n      <th>V2G_mv</th>\n      <th>V2G_gen</th>\n      <th>V2G_gen</th>\n    </tr>\n    <tr>\n      <th>name</th>\n      <th></th>\n      <th></th>\n      <th></th>\n    </tr>\n  </thead>\n  <tbody>\n    <tr>\n      <th>GB5 16</th>\n      <td>-38.307316</td>\n      <td>847.803039</td>\n      <td>476.114523</td>\n    </tr>\n    <tr>\n      <th>HU0 1</th>\n      <td>-36.285789</td>\n      <td>504.506797</td>\n      <td>262.198867</td>\n    </tr>\n    <tr>\n      <th>RO0 2</th>\n      <td>-32.329032</td>\n      <td>593.760914</td>\n      <td>364.949765</td>\n    </tr>\n    <tr>\n      <th>RO0 0</th>\n      <td>-28.557459</td>\n      <td>640.205808</td>\n      <td>499.997329</td>\n    </tr>\n    <tr>\n      <th>GB5 4</th>\n      <td>-25.212819</td>\n      <td>659.584876</td>\n      <td>322.093579</td>\n    </tr>\n    <tr>\n      <th>...</th>\n      <td>...</td>\n      <td>...</td>\n      <td>...</td>\n    </tr>\n    <tr>\n      <th>SE3 4</th>\n      <td>NaN</td>\n      <td>27.394292</td>\n      <td>27.554712</td>\n    </tr>\n    <tr>\n      <th>SE3 5</th>\n      <td>NaN</td>\n      <td>58.449005</td>\n      <td>47.701271</td>\n    </tr>\n    <tr>\n      <th>SE3 6</th>\n      <td>NaN</td>\n      <td>193.406725</td>\n      <td>215.976825</td>\n    </tr>\n    <tr>\n      <th>SE3 7</th>\n      <td>NaN</td>\n      <td>28.983467</td>\n      <td>32.266356</td>\n    </tr>\n    <tr>\n      <th>SI0 0</th>\n      <td>NaN</td>\n      <td>173.278128</td>\n      <td>119.390620</td>\n    </tr>\n  </tbody>\n</table>\n<p>181 rows × 3 columns</p>\n</div>"
     },
     "execution_count": 66,
     "metadata": {},
     "output_type": "execute_result"
    }
   ],
   "source": [
    "# difference in mv\n",
    "pd.concat([df_stst_ons[f\"{c}_mv\"] - df_exp_ons[f\"{c}_mv\"], df_stst_ons[f\"{c}_gen\"],df_exp_ons[f\"{c}_gen\"]], axis=1).sort_values(by=f\"{c}_mv\")"
   ]
  },
  {
   "cell_type": "code",
   "execution_count": 67,
   "metadata": {
    "pycharm": {
     "name": "#%%\n"
    }
   },
   "outputs": [
    {
     "name": "stdout",
     "output_type": "stream",
     "text": [
      "onwind\n",
      "0.10822705775898095\n",
      "solar\n",
      "0.058456045351544694\n",
      "offwind-dc\n",
      "0.02356215816871332\n",
      "hydro\n",
      "0.07169771277615203\n",
      "solar rooftop\n",
      "0.20916394317574333\n",
      "battery discharger\n",
      "0.12717408512498457\n",
      "offwind-ac\n",
      "-0.013527105651795981\n",
      "ror\n",
      "-0.1320800341754791\n",
      "urban central gas CHP\n",
      "-0.19662605778676534\n",
      "urban central solid biomass CHP CC\n",
      "0.26266908332028205\n",
      "V2G\n",
      "0.4640685857371483\n",
      "PHS\n",
      "0.009797263172737455\n"
     ]
    }
   ],
   "source": [
    "for c in c_el_gen_s:\n",
    "    print(c)\n",
    "    mv_diff = df_stst_ons[f\"{c}_mv\"] - df_exp_ons[f\"{c}_mv\"]\n",
    "    gen_diff = df_stst_ons[f\"{c}_gen\"] - df_exp_ons[f\"{c}_gen\"]\n",
    "    print(mv_diff.corr(gen_diff))"
   ]
  },
  {
   "cell_type": "code",
   "execution_count": 68,
   "metadata": {
    "pycharm": {
     "name": "#%%\n"
    }
   },
   "outputs": [
    {
     "data": {
      "text/plain": "64.57308834155266"
     },
     "execution_count": 68,
     "metadata": {},
     "output_type": "execute_result"
    }
   ],
   "source": [
    "# Norway analysis\n",
    "i_no = df_stst_ons.index[df_stst_ons.index.str.contains(\"NO\")]\n",
    "# generation weighted market value\n",
    "c = \"hydro\"\n",
    "((df_stst_ons.loc[i_no, f\"{c}_gen\"] / df_stst_ons.loc[i_no, f\"{c}_gen\"].sum()) * df_stst_ons.loc[i_no,f\"{c}_mv\"]).sum()\n",
    "#df_stst_ons.loc[i_no, f\"{c}_gen\"].sum()"
   ]
  },
  {
   "cell_type": "code",
   "execution_count": 69,
   "metadata": {
    "pycharm": {
     "name": "#%%\n"
    }
   },
   "outputs": [
    {
     "data": {
      "text/plain": "480.07453467701544"
     },
     "execution_count": 69,
     "metadata": {},
     "output_type": "execute_result"
    }
   ],
   "source": [
    "c = \"V2G\"\n",
    "((df_exp_ons.loc[i_no, f\"{c}_gen\"] / df_exp_ons.loc[i_no, f\"{c}_gen\"].sum()) * df_exp_ons.loc[i_no,f\"{c}_mv\"]).sum()\n",
    "df_exp_ons.loc[i_no, f\"{c}_gen\"].sum()"
   ]
  },
  {
   "cell_type": "code",
   "execution_count": 70,
   "metadata": {
    "pycharm": {
     "name": "#%%\n"
    }
   },
   "outputs": [
    {
     "name": "stdout",
     "output_type": "stream",
     "text": [
      "hydro\n",
      "-0.36590131214318605\n",
      "-0.2463947308279008\n",
      "battery discharger\n",
      "0.09289282900912661\n",
      "-0.5629960771686885\n",
      "V2G\n",
      "0.039088311345582716\n",
      "-0.12858409569734894\n",
      "PHS\n",
      "0.4276816766873361\n",
      "0.40453718374026076\n"
     ]
    }
   ],
   "source": [
    "c_vre = [\"hydro\", \"battery discharger\", \"V2G\", \"PHS\"]\n",
    "for c in c_vre:\n",
    "    print(c)\n",
    "    print(df_stst_ons[f\"{c}_mv\"].corr(df_stst_ons[f\"{c}_gen\"]))\n",
    "    print(df_stst_ons[f\"{c}_mv\"].corr(df_stst_ons[f\"{c}_cf\"]))"
   ]
  },
  {
   "cell_type": "code",
   "execution_count": 71,
   "metadata": {
    "pycharm": {
     "name": "#%%\n"
    }
   },
   "outputs": [
    {
     "name": "stdout",
     "output_type": "stream",
     "text": [
      "hydro\n",
      "-0.0809884312975106\n",
      "-0.567312826876331\n",
      "battery discharger\n",
      "0.5259746161125151\n",
      "-0.7394803547201275\n",
      "V2G\n",
      "0.08326424694594128\n",
      "-0.02051780301350492\n",
      "PHS\n",
      "0.45772184340906147\n",
      "0.4972930912218569\n"
     ]
    }
   ],
   "source": [
    "c_vre = [\"hydro\", \"battery discharger\", \"V2G\", \"PHS\"]\n",
    "for c in c_vre:\n",
    "    print(c)\n",
    "    print(df_exp_ons[f\"{c}_mv\"].corr(df_stst_ons[f\"{c}_gen\"]))\n",
    "    print(df_exp_ons[f\"{c}_mv\"].corr(df_stst_ons[f\"{c}_cf\"]))"
   ]
  },
  {
   "cell_type": "code",
   "execution_count": 72,
   "metadata": {
    "pycharm": {
     "name": "#%%\n"
    }
   },
   "outputs": [
    {
     "data": {
      "text/plain": "112.25335381604019"
     },
     "execution_count": 72,
     "metadata": {},
     "output_type": "execute_result"
    }
   ],
   "source": [
    "# generation weighted market value\n",
    "c = \"hydro\"\n",
    "((df_stst_ons[f\"{c}_gen\"] / df_stst_ons[f\"{c}_gen\"].sum()) * df_stst_ons[f\"{c}_mv\"]).sum()"
   ]
  },
  {
   "cell_type": "code",
   "execution_count": 73,
   "metadata": {
    "pycharm": {
     "name": "#%%\n"
    }
   },
   "outputs": [
    {
     "data": {
      "text/plain": "107.57961092664445"
     },
     "execution_count": 73,
     "metadata": {},
     "output_type": "execute_result"
    }
   ],
   "source": [
    "# generation weighted market value\n",
    "c = \"hydro\"\n",
    "((df_exp_ons[f\"{c}_gen\"] / df_exp_ons[f\"{c}_gen\"].sum()) * df_exp_ons[f\"{c}_mv\"]).sum()"
   ]
  },
  {
   "cell_type": "code",
   "execution_count": 74,
   "metadata": {
    "pycharm": {
     "name": "#%%\n"
    }
   },
   "outputs": [],
   "source": [
    "# Storage: Battery Discharger\n",
    "\n",
    "carriers = [\"battery discharger\", \"battery discharger\"]\n",
    "\n",
    "fig, axs = plt.subplots(ncols=2, nrows=1, subplot_kw={'projection': ccrs.EqualEarth()},figsize=(18, 8),\n",
    "                        gridspec_kw={'width_ratios': [1, 0.96], 'height_ratios': [1]})\n",
    "crs = ccrs.EqualEarth()\n",
    "\n",
    "# same colorbar withds:\n",
    "vmin = min(np.nanmin(df_stst_ons[f\"{carriers[i]}_mv\"]), np.nanmin(df_exp_ons[f\"{carriers[i]}_mv\"]))\n",
    "vmax = max(np.nanmax(df_stst_ons[f\"{carriers[i]}_mv\"]), np.nanmax(df_exp_ons[f\"{carriers[i]}_mv\"]))\n",
    "\n",
    "for i, ax in enumerate(axs):\n",
    "\n",
    "    if i == 0:\n",
    "        df = df_stst_ons\n",
    "    else:\n",
    "        df = df_exp_ons\n",
    "\n",
    "    ax.add_feature(cartopy.feature.BORDERS, edgecolor='black', linewidth=0.5)\n",
    "    ax.coastlines(edgecolor='black', linewidth=0.5)\n",
    "    ax.set_facecolor('white')\n",
    "    ax.add_feature(cartopy.feature.OCEAN, color='azure')\n",
    "\n",
    "    df.to_crs(crs.proj4_init).plot(column=f\"{carriers[i]}_mv\",\n",
    "                                   ax=ax,\n",
    "                                   cmap=plt.get_cmap(\"magma_r\"),\n",
    "                                   vmin=vmin,\n",
    "                                   vmax=vmax,\n",
    "                                   linewidth=0.05,\n",
    "                                   edgecolor = 'grey',\n",
    "                                   legend=True,\n",
    "                                   legend_kwds={'label':\"market values ($€/MWh_{el}$)\",'orientation': \"vertical\",'shrink' : 0.9}\n",
    "                                   )\n",
    "\n",
    "    max_size = df[f\"{carriers[i]}_gen\"].max()\n",
    "    df.to_crs(crs.proj4_init).centroid.plot(ax=ax, sizes=df[f\"{carriers[i]}_gen\"] / max_size *300,  color=\"black\", edgecolor=\"white\")\n",
    "    pypsa.plot.add_legend_circles(ax=ax, sizes=[0.6], labels=[\"Generation magnitude\"], patch_kw={'color': 'black', 'edgecolor': 'white'}, legend_kw={'loc': 'upper left'})\n",
    "\n",
    "    # always select same section\n",
    "    xmin, ymin, xmax, ymax = df_stst_ons.to_crs(crs.proj4_init).total_bounds\n",
    "    pad = 1 * 1e5  # add a padding around the geometry\n",
    "    ax.set_xlim(xmin-pad, xmax+pad)\n",
    "    ax.set_ylim(ymin-pad, ymax+pad)\n",
    "\n",
    "    model = 'STST' if i == 0 else 'EXP'\n",
    "    ax.set_title(f\"{carriers[i]} ({model})\", fontsize=16, **font1)\n",
    "\n",
    "fig.tight_layout()\n",
    "\n",
    "plt.close()\n",
    "plt.show()\n",
    "\n",
    "\n",
    "#fig.savefig(f\"{PLOT_DIR}/mv_el_gen_bat_disch_STST_EXP_map.png\")"
   ]
  },
  {
   "cell_type": "code",
   "execution_count": 75,
   "metadata": {
    "pycharm": {
     "name": "#%%\n"
    }
   },
   "outputs": [],
   "source": [
    "#### Peak plants"
   ]
  },
  {
   "cell_type": "code",
   "execution_count": 76,
   "metadata": {
    "pycharm": {
     "name": "#%%\n"
    }
   },
   "outputs": [],
   "source": [
    "# Peak plants\n",
    "\n",
    "carriers = [\"urban central gas CHP\", \"urban central solid biomass CHP CC\"]\n",
    "\n",
    "fig, axs = plt.subplots(ncols=2, nrows=1,\n",
    "                        subplot_kw={'projection': ccrs.EqualEarth()},\n",
    "                        figsize=(18, 8))\n",
    "crs = ccrs.EqualEarth()\n",
    "\n",
    "for i, ax in enumerate(axs):\n",
    "\n",
    "    if carriers[i] in [\"offwind-dc\", \"offwind-ac\"]:\n",
    "        df = df_exp_off\n",
    "    else:\n",
    "        df = df_exp_ons\n",
    "\n",
    "    ax.add_feature(cartopy.feature.BORDERS, edgecolor='black', linewidth=0.5)\n",
    "    ax.coastlines(edgecolor='black', linewidth=0.5)\n",
    "    ax.set_facecolor('white')\n",
    "    ax.add_feature(cartopy.feature.OCEAN, color='azure')\n",
    "\n",
    "    df.to_crs(crs.proj4_init).plot(column=f\"{carriers[i]}_mv\",\n",
    "                                   ax=ax,\n",
    "                                   cmap=plt.get_cmap(\"magma_r\"),\n",
    "                                   linewidth=0.05,\n",
    "                                   edgecolor = 'grey',\n",
    "                                   legend=True,\n",
    "                                   legend_kwds={'label':\"market values ($€/MWh_{el}$)\",'orientation': \"vertical\",'shrink' : 0.9}\n",
    "                                   )\n",
    "\n",
    "    max_size = df[f\"{carriers[i]}_gen\"].max()\n",
    "    df.to_crs(crs.proj4_init).centroid.plot(ax=ax, sizes=df[f\"{carriers[i]}_gen\"] / max_size *300,  color=\"black\", edgecolor=\"white\")\n",
    "    pypsa.plot.add_legend_circles(ax=ax, sizes=[0.6], labels=[\"Generation magnitude\"], patch_kw={'color': 'black', 'edgecolor': 'white'}, legend_kw={'loc': 'upper left'})\n",
    "\n",
    "    # always select same section\n",
    "    xmin, ymin, xmax, ymax = df_stst_ons.to_crs(crs.proj4_init).total_bounds\n",
    "    pad = 1 * 1e5  # add a padding around the geometry\n",
    "    ax.set_xlim(xmin-pad, xmax+pad)\n",
    "    ax.set_ylim(ymin-pad, ymax+pad)\n",
    "\n",
    "    ax.set_title(f\"{carrier_renaming[carriers[i]]}\", fontsize=16, **font1)\n",
    "\n",
    "# fig.suptitle(\"Spatial Differences in the electricity generation of the VRE technologies (STST)\", fontsize=16, **font1)\n",
    "fig.tight_layout()\n",
    "\n",
    "plt.close()\n",
    "plt.show()\n",
    "\n",
    "\n",
    "# fig.savefig(f\"{PLOT_DIR}/mv_el_gen_peak_EXP_map.png\")"
   ]
  },
  {
   "cell_type": "code",
   "execution_count": 77,
   "metadata": {
    "pycharm": {
     "name": "#%%\n"
    }
   },
   "outputs": [],
   "source": [
    "# Storage difference\n",
    "\n",
    "# market values across regions as map\n",
    "carriers = [\"urban central gas CHP\", \"urban central solid biomass CHP CC\"]\n",
    "\n",
    "for c in carriers:\n",
    "    # if one mv is nan the result is nan as well\n",
    "    if c in [\"offwind-dc\", \"offwind-ac\"]:\n",
    "        df_stst_off[f\"{c}_mv_STST-EXP\"] = df_stst_off[f\"{c}_mv\"] - df_exp_off[f\"{c}_mv\"]\n",
    "    else:\n",
    "        df_stst_ons[f\"{c}_mv_STST-EXP\"] = df_stst_ons[f\"{c}_mv\"] - df_exp_ons[f\"{c}_mv\"]\n",
    "\n",
    "fig, axs = plt.subplots(ncols=2, nrows=1, subplot_kw={'projection': ccrs.EqualEarth()},\n",
    "                        figsize=(18, 8))\n",
    "crs = ccrs.EqualEarth()\n",
    "\n",
    "for i, ax in enumerate(axs):\n",
    "\n",
    "    if carriers[i] in [\"offwind-dc\", \"offwind-ac\"]:\n",
    "        df = df_stst_off\n",
    "        df_2 = df_exp_off\n",
    "    else:\n",
    "        df = df_stst_ons\n",
    "        df_2 = df_exp_ons\n",
    "\n",
    "    abs_max = max(abs(df[f\"{carriers[i]}_mv_STST-EXP\"].max()) , abs(df[f\"{carriers[i]}_mv_STST-EXP\"].max()))\n",
    "\n",
    "    ax.add_feature(cartopy.feature.BORDERS, edgecolor='black', linewidth=0.5)\n",
    "    ax.coastlines(edgecolor='black', linewidth=0.5)\n",
    "    ax.set_facecolor('white')\n",
    "    ax.add_feature(cartopy.feature.OCEAN, color='azure')\n",
    "\n",
    "    df.to_crs(crs.proj4_init).plot(column=f\"{carriers[i]}_mv_STST-EXP\",\n",
    "                                   ax=ax,\n",
    "                                   cmap=plt.get_cmap('RdYlGn'),\n",
    "                                   vmax=abs_max,\n",
    "                                   vmin=-abs_max,\n",
    "                                   linewidth=0.05,\n",
    "                                   edgecolor = 'grey',\n",
    "                                   legend=True,\n",
    "                                   legend_kwds={'label':\"market value differences ($€/MWh_{el}$)\",'orientation': \"vertical\",'shrink' : 0.8}\n",
    "                                   )\n",
    "\n",
    "    # difference in generation (STST-EXP)\n",
    "    gen_diff = df[f\"{carriers[i]}_gen\"] - df_2[f\"{carriers[i]}_gen\"]\n",
    "    # red if negative and green if positive\n",
    "    colors = ['red' if (x < 0) else 'green' for x in gen_diff ]\n",
    "\n",
    "    max_size = abs(gen_diff).max()\n",
    "    df.to_crs(crs.proj4_init).centroid.plot(ax=ax, sizes=(abs(gen_diff) / max_size) * 500,  color=colors, edgecolor=\"white\")\n",
    "    circle1 = Line2D([], [], color=\"white\", marker='o', markerfacecolor=\"green\", markeredgecolor=\"white\", markersize=10)\n",
    "    circle2 = Line2D([], [], color=\"white\", marker='o', markerfacecolor=\"red\", markeredgecolor=\"white\", markersize=10)\n",
    "    circle3 = Line2D([], [], color=\"white\", marker='o', markerfacecolor=\"white\", markeredgecolor=\"black\", markersize=10)\n",
    "\n",
    "    unit = \"TWh\" if max_size > 1e3 else \"GWh\"\n",
    "    max_size = max_size / 1e3 if max_size > 1e3 else max_size\n",
    "    ax.legend((circle1, circle2, circle3), ('Increased production in STST', 'Increased production in EXP', f\"max circle size: {round(max_size)} {unit}\"), numpoints=1, loc=\"upper left\")\n",
    "\n",
    "\n",
    "    # always select same section\n",
    "    xmin, ymin, xmax, ymax = df_stst_off.to_crs(crs.proj4_init).total_bounds\n",
    "    pad = 1 * 1e5  # add a padding around the geometry\n",
    "    ax.set_xlim(xmin-pad, xmax+pad)\n",
    "    ax.set_ylim(ymin-pad, ymax+pad)\n",
    "\n",
    "    ax.set_title(f\"{carrier_renaming[carriers[i]]} mv (STST - EXP)\", fontsize=16, **font1)\n",
    "\n",
    "# fig.suptitle(\"Spatial Differences in the electricity generation of the VRE technologies (STST)\", fontsize=16, **font1)\n",
    "fig.tight_layout()\n",
    "\n",
    "plt.close()\n",
    "plt.show()\n",
    "\n",
    "\n",
    "#fig.savefig(f\"{PLOT_DIR}/mv_el_gen_peak_STST-EXP_map.png\")"
   ]
  }
 ],
 "metadata": {
  "kernelspec": {
   "display_name": "Python 3 (ipykernel)",
   "language": "python",
   "name": "python3"
  },
  "language_info": {
   "codemirror_mode": {
    "name": "ipython",
    "version": 3
   },
   "file_extension": ".py",
   "mimetype": "text/x-python",
   "name": "python",
   "nbconvert_exporter": "python",
   "pygments_lexer": "ipython3",
   "version": "3.10.6"
  }
 },
 "nbformat": 4,
 "nbformat_minor": 1
}