{
 "cells": [
  {
   "cell_type": "code",
   "execution_count": null,
   "metadata": {
    "pycharm": {
     "name": "#%%\n"
    }
   },
   "outputs": [],
   "source": [
    "# Plots for section 4.3 (mv and technology operation)"
   ]
  },
  {
   "cell_type": "code",
   "execution_count": null,
   "metadata": {
    "pycharm": {
     "name": "#%%\n"
    }
   },
   "outputs": [],
   "source": [
    "# TODO\n",
    "# Check how congestion rent should be calculated"
   ]
  },
  {
   "cell_type": "code",
   "execution_count": null,
   "metadata": {
    "pycharm": {
     "name": "#%%\n"
    }
   },
   "outputs": [],
   "source": []
  },
  {
   "cell_type": "markdown",
   "metadata": {
    "pycharm": {
     "name": "#%% md\n"
    }
   },
   "source": [
    "## Imports"
   ]
  },
  {
   "cell_type": "code",
   "execution_count": null,
   "metadata": {
    "pycharm": {
     "name": "#%%\n"
    }
   },
   "outputs": [],
   "source": [
    "import pandas as pd\n",
    "import geopandas as gpd\n",
    "import numpy as np\n",
    "import pypsa\n",
    "import math\n",
    "import seaborn as sns\n",
    "import cartopy\n",
    "import cartopy.crs as ccrs\n",
    "import matplotlib\n",
    "import matplotlib.colors as mcolors\n",
    "import matplotlib.pyplot as plt\n",
    "import warnings\n",
    "\n",
    "warnings.filterwarnings(\"ignore\")\n",
    "from shapely.geometry import Point, LineString\n",
    "import matplotlib.patheffects as pe\n",
    "import matplotlib.colors as mcolors\n",
    "from matplotlib.lines import Line2D\n",
    "from datetime import date, datetime, time, timedelta\n",
    "\n",
    "# imported own functions\n",
    "from utils import market_values, market_values_by_time_index, nodal_balance, capacity, capacity_links, \\\n",
    "    capacity_storage_units, get_condense_sum, nodal_balance, generation, generation_links, \\\n",
    "    generation_storage_units, market_values_storage_units, market_values_links, time_stored_LIFO\n",
    "from utils import generation_links_bus\n",
    "\n",
    "# imported own definitions\n",
    "from utils import carrier_colors, carrier_renaming, carrier_renaming_reverse, c_tags\n",
    "from utils import resistive_heater, gas_boiler, heat_pump,water_tanks_charger, water_tanks_discharger, solar_thermal\n",
    "from utils import c_el_gen_s, c_el_con_s\n",
    "\n",
    "# general variables\n",
    "font1 = {'fontname': 'Calibri'}\n",
    "PLOT_DIR = 'C:/Users/Julian/Studies/Master/01 TU Berlin/3. Semester - Masterarbeit/MA Marktwerte FEE/data/plots/01_general/4.3_systems_mv'\n",
    "onshore_regions = gpd.read_file(\"../data/external/regions_onshore_elec_s_181.geojson\")\n",
    "offshore_regions = gpd.read_file(\"../data/external/regions_offshore_elec_s_181.geojson\")\n",
    "onshore_regions = onshore_regions.set_index('name')\n",
    "offshore_regions = offshore_regions.set_index('name')\n",
    "\n",
    "# Notebook Definitions\n",
    "c1_groups = [resistive_heater, gas_boiler, heat_pump, water_tanks_charger, water_tanks_discharger, solar_thermal]\n",
    "c1_groups_name = [\"resistive heater\", \"gas boiler\", \"heat pump\", \"water tanks charger\", \"water tanks discharger\",\n",
    "                  \"solar thermal\"]\n",
    "markers = [\"v\", \"^\", \"<\", \">\", \"1\", \"2\", \"3\", \"4\", \"*\", \"+\", \"d\", \"o\", \"|\", \"s\", \"P\", \"p\", \"h\"]"
   ]
  },
  {
   "cell_type": "code",
   "execution_count": null,
   "metadata": {
    "pycharm": {
     "name": "#%%\n"
    }
   },
   "outputs": [],
   "source": [
    "# Network imports\n",
    "stst = pypsa.Network(\"../data/raw/elec_s_181_lv1.0__Co2L0-3H-T-H-B-I-A-solar+p3-linemaxext10-noH2network_2030.nc\")\n",
    "exp = pypsa.Network(\"../data/raw/elec_s_181_lvopt__Co2L0-3H-T-H-B-I-A-solar+p3-linemaxext10_2030.nc\")"
   ]
  },
  {
   "cell_type": "code",
   "execution_count": null,
   "metadata": {
    "pycharm": {
     "name": "#%%\n"
    }
   },
   "outputs": [],
   "source": [
    "# stst and exp dataframes\n",
    "# spatial\n",
    "df_stst_ons = pd.read_pickle(\"../data/processed/df_stst_ons.pkl\")\n",
    "df_stst_off = pd.read_pickle(\"../data/processed/df_stst_off.pkl\")\n",
    "df_exp_ons = pd.read_pickle(\"../data/processed/df_exp_ons.pkl\")\n",
    "df_exp_off = pd.read_pickle(\"../data/processed/df_exp_off.pkl\")\n",
    "\n",
    "# temporal\n",
    "df_stst_ts = pd.read_pickle(\"../data/processed/df_stst_ts.pkl\")\n",
    "df_exp_ts = pd.read_pickle(\"../data/processed/df_exp_ts.pkl\")"
   ]
  },
  {
   "cell_type": "code",
   "execution_count": null,
   "metadata": {
    "pycharm": {
     "name": "#%%\n"
    }
   },
   "outputs": [],
   "source": [
    "# Notebook Functions\n",
    "\n",
    "def gini(x):\n",
    "    # (Warning: This is a concise implementation, but it is O(n**2)\n",
    "    # in time and memory, where n = len(x).  *Don't* pass in huge\n",
    "    # samples!)\n",
    "\n",
    "    # Mean absolute difference\n",
    "    mad = np.abs(np.subtract.outer(x, x)).mean()\n",
    "    # Relative mean absolute difference\n",
    "    rmad = mad/np.mean(x)\n",
    "    # Gini coefficient\n",
    "    g = 0.5 * rmad\n",
    "    return g\n"
   ]
  },
  {
   "cell_type": "code",
   "execution_count": null,
   "metadata": {
    "pycharm": {
     "name": "#%%\n"
    }
   },
   "outputs": [],
   "source": []
  },
  {
   "cell_type": "code",
   "execution_count": null,
   "metadata": {
    "pycharm": {
     "name": "#%%\n"
    }
   },
   "outputs": [],
   "source": [
    "#assert 0"
   ]
  },
  {
   "cell_type": "markdown",
   "metadata": {
    "pycharm": {
     "name": "#%% md\n"
    }
   },
   "source": [
    "## General (4.3.1)"
   ]
  },
  {
   "cell_type": "markdown",
   "metadata": {
    "pycharm": {
     "name": "#%% md\n"
    }
   },
   "source": [
    "#### MV across regions"
   ]
  },
  {
   "cell_type": "code",
   "execution_count": null,
   "metadata": {
    "pycharm": {
     "name": "#%%\n"
    }
   },
   "outputs": [],
   "source": [
    "# Further investigation:\n",
    "\n",
    "df_stst_ons[[c + \"_mv\" for c in c_el_gen_s]].mean().mean()\n",
    "df_exp_ons[[c + \"_mv\" for c in c_el_gen_s]].mean().mean()\n",
    "\n",
    "df_stst_ons[[c + \"_mv\" for c in c_el_gen_s]].mean() - df_exp_ons[[c + \"_mv\" for c in c_el_gen_s]].mean()\n",
    "(df_stst_ons[[c + \"_mv\" for c in c_el_gen_s]].mean() - df_exp_ons[[c + \"_mv\" for c in c_el_gen_s]].mean()) / df_stst_ons[[c + \"_mv\" for c in c_el_gen_s]].mean()\n",
    "\n",
    "(df_stst_ons[[c + \"_mv\" for c in c_el_gen_s]].describe().loc[\"75%\"] - df_stst_ons[[c + \"_mv\" for c in c_el_gen_s]].describe().loc[\"25%\"]) - (df_exp_ons[[c + \"_mv\" for c in c_el_gen_s]].describe().loc[\"75%\"] - df_exp_ons[[c + \"_mv\" for c in c_el_gen_s]].describe().loc[\"25%\"])\n",
    "\n",
    "(df_stst_ons[[c + \"_mv\" for c in c_el_gen_s]].describe().loc[\"std\"] - df_exp_ons[[c + \"_mv\" for c in c_el_gen_s]].describe().loc[\"std\"])\n",
    "\n",
    "df_stst_ons[[c + \"_mv\" for c in c_el_gen_s]].mean().sort_values()\n",
    "df_exp_ons[[c + \"_mv\" for c in c_el_gen_s]].mean().sort_values()"
   ]
  },
  {
   "cell_type": "code",
   "execution_count": null,
   "metadata": {
    "pycharm": {
     "name": "#%%\n"
    }
   },
   "outputs": [],
   "source": [
    "# electricity generating technologies\n",
    "\n",
    "# boxplot propertes\n",
    "medianprops = dict(color=\"black\",linewidth=1.5)\n",
    "meanprops = {\"marker\":\"d\",\"markerfacecolor\":\"white\", \"markeredgecolor\":\"black\"}\n",
    "flierprops= {'marker': 'x', 'markersize': 5, 'markeredgecolor': 'black'}\n",
    "whiskerprops = dict(linestyle='-',linewidth=1.0, color='black')\n",
    "\n",
    "# data\n",
    "stst_el_gen = df_stst_ons[[c + \"_mv_qt\" for c in c_el_gen_s]]\n",
    "stst_el_gen = stst_el_gen.values\n",
    "exp_el_gen = df_exp_ons[[c + \"_mv_qt\" for c in c_el_gen_s]]\n",
    "exp_el_gen = exp_el_gen.values\n",
    "\n",
    "# Filter data using np.isnan\n",
    "mask_stst = ~np.isnan(stst_el_gen)\n",
    "filtered_stst = [d[m] for d, m in zip(stst_el_gen.T, mask_stst.T)]\n",
    "mask_exp = ~np.isnan(exp_el_gen)\n",
    "filtered_exp = [d[m] for d, m in zip(exp_el_gen.T, mask_exp.T)]\n",
    "\n",
    "ticks = [carrier_renaming.get(n, n) for n in c_el_gen_s]\n",
    "index = c_el_gen_s\n",
    "fig, ax = plt.subplots(figsize=(12, 6))\n",
    "\n",
    "stst_plot = plt.boxplot(filtered_stst,\n",
    "                        positions=np.array(np.arange(len(ticks)))*2.0-0.35,\n",
    "                        widths=0.6,\n",
    "                        patch_artist=True,\n",
    "                        showmeans=True,\n",
    "                        meanprops=meanprops,\n",
    "                        medianprops=medianprops,\n",
    "                        flierprops=flierprops,\n",
    "                        whiskerprops=whiskerprops\n",
    "                        )\n",
    "\n",
    "exp_plot = plt.boxplot(filtered_exp,\n",
    "                       positions=np.array(np.arange(len(ticks)))*2.0+0.35,\n",
    "                       widths=0.6,\n",
    "                       patch_artist=True,\n",
    "                       showmeans=True,\n",
    "                       meanprops=meanprops,\n",
    "                       medianprops=medianprops,\n",
    "                       flierprops=flierprops,\n",
    "                       whiskerprops=whiskerprops\n",
    "                       )\n",
    "\n",
    "\n",
    "# generation weighted average\n",
    "gwa_mv_stst =np.multiply(df_stst_ons[[c + \"_mv_qt\" for c in c_el_gen_s]], (df_stst_ons[[c + \"_gen\" for c in c_el_gen_s]] / df_stst_ons[[c + \"_gen\" for c in c_el_gen_s]].sum())).sum()\n",
    "gwa_mv_exp =np.multiply(df_exp_ons[[c + \"_mv_qt\" for c in c_el_gen_s]], (df_exp_ons[[c + \"_gen\" for c in c_el_gen_s]] / df_exp_ons[[c + \"_gen\" for c in c_el_gen_s]].sum())).sum()\n",
    "ax.plot(np.array(np.arange(len(ticks)))*2.0-0.35, gwa_mv_stst.transpose(),\"x\", marker='*', color=\"red\", markersize= 10, markerfacecolor=\"white\", zorder=3)\n",
    "ax.plot(np.array(np.arange(len(ticks)))*2.0+0.35, gwa_mv_exp.transpose(),\"x\", marker='*', color=\"red\", markersize= 10, markerfacecolor=\"white\",zorder=4)\n",
    "\n",
    "\n",
    "for box, col in zip(stst_plot['boxes'],[carrier_colors[c] for c in index]):\n",
    "    # change outline color\n",
    "    box.set_facecolor(col)\n",
    "    box.set_linestyle('--')\n",
    "\n",
    "for box, col in zip(exp_plot['boxes'],[carrier_colors[c] for c in index]):\n",
    "    # change outline color\n",
    "    box.set_facecolor(col)\n",
    "\n",
    "# sample sizes\n",
    "for i, sample_size in enumerate(df_stst_ons[[f\"{i}_mv_qt\" for i in index]].count()):\n",
    "    ax.annotate(sample_size, xy=(0,0),  xycoords='axes fraction',\n",
    "        xytext=((i+0.35)/len(index),1), textcoords='axes fraction', color=\"blue\")\n",
    "\n",
    "#for i, sample_size in enumerate(df_exp_ons[[f\"{i}_mv_qt\" for i in index]].count()):\n",
    "#    ax.annotate(sample_size, xy=(0,0),  xycoords='axes fraction',\n",
    "#        xytext=((i+0.55)/len(index),1), textcoords='axes fraction', color=\"red\")\n",
    "\n",
    "# explanations\n",
    "plt.xticks(np.arange(0, len(ticks) * 2, 2), ticks)\n",
    "plt.ylabel(\"$€/MWh_{el}$\")\n",
    "plt.xticks(rotation=90)\n",
    "# plt.title(\"Market values of electricity generating technologies across the regions (STST vs. EXP)\", fontsize=16, pad=20,  **font1)\n",
    "\n",
    "# cosmetics\n",
    "ax.patch.set_facecolor('lightgrey')\n",
    "ax.patch.set_alpha(0.5)\n",
    "\n",
    "# horizontal lines\n",
    "ax.axhline(df_stst_ons[[c + \"_mv_qt\" for c in c_el_gen_s]].mean().mean(), ls=\"--\", c='black',linewidth=0.5)\n",
    "ax.axhline(df_exp_ons[[c + \"_mv_qt\" for c in c_el_gen_s]].mean().mean(), ls=\"-\", c='black', linewidth=0.5)\n",
    "\n",
    "# legend\n",
    "patch1 = matplotlib.patches.Patch(ls=\"--\", facecolor=\"white\", edgecolor=\"black\")\n",
    "patch2 = matplotlib.patches.Patch(ls=\"-\", facecolor=\"white\", edgecolor=\"black\")\n",
    "line1 = Line2D([0], [0], ls=\"--\", c='black', label=\"mean (STST)\", linewidth=0.5)\n",
    "line2 = Line2D([0], [0], ls=\"-\", c='black', label=\"mean (EXP)\", linewidth=0.5)\n",
    "ax.legend([patch1, patch2, line1, line2], ['STST', 'EXP', 'mean (STST)','mean (EXP)'])\n",
    "\n",
    "fig.tight_layout()\n",
    "plt.show()\n",
    "\n",
    "#fig.savefig(f\"{PLOT_DIR}/mv_el_gen_both_box.png\")"
   ]
  },
  {
   "cell_type": "code",
   "execution_count": null,
   "metadata": {
    "pycharm": {
     "name": "#%%\n"
    }
   },
   "outputs": [],
   "source": [
    "# check if np.multiply handles nans right\n",
    "df = np.multiply(df_stst_ons[[c + \"_mv\" for c in c_el_gen_s]], (df_stst_ons[[c + \"_gen\" for c in c_el_gen_s]] / df_stst_ons[[c + \"_gen\" for c in c_el_gen_s]].sum())).sum()\n",
    "for i, c in enumerate(c_el_gen_s):\n",
    "    print((df_stst_ons[f\"{c}_mv\"] * (df_stst_ons[f\"{c}_gen\"] / df_stst_ons[f\"{c}_gen\"] .sum())).sum() == df[i])"
   ]
  },
  {
   "cell_type": "code",
   "execution_count": null,
   "metadata": {
    "pycharm": {
     "name": "#%%\n"
    }
   },
   "outputs": [],
   "source": [
    "# electricity consuming technologies\n",
    "c_el_con_s"
   ]
  },
  {
   "cell_type": "code",
   "execution_count": null,
   "metadata": {
    "pycharm": {
     "name": "#%%\n"
    }
   },
   "outputs": [],
   "source": [
    "# exclude ones with less than 50 TWh consumption in both scenarios: home battery charger\n",
    "#df_exp_ons[\"H2 Electrolysis_con_el\"].sum() < 50*1e3"
   ]
  },
  {
   "cell_type": "code",
   "execution_count": null,
   "metadata": {
    "pycharm": {
     "name": "#%%\n"
    }
   },
   "outputs": [],
   "source": [
    "# electricity consuming technologies\n",
    "\n",
    "# boxplot properties\n",
    "medianprops = dict(color=\"black\",linewidth=1.5)\n",
    "meanprops = {\"marker\":\"d\",\"markerfacecolor\":\"white\", \"markeredgecolor\":\"black\"}\n",
    "flierprops= {'marker': 'x', 'markersize': 5, 'markeredgecolor': 'black'}\n",
    "whiskerprops = dict(linestyle='-',linewidth=1.0, color='black')\n",
    "\n",
    "# data\n",
    "stst_el_con = df_stst_ons[[c + \"_cost_mv_el_qt\" for c in c_el_con_s]]\n",
    "stst_el_con = stst_el_con.values\n",
    "exp_el_con = df_exp_ons[[c + \"_cost_mv_el_qt\" for c in c_el_con_s]]\n",
    "exp_el_con = exp_el_con.values\n",
    "\n",
    "# Filter data using np.isnan\n",
    "mask_stst = ~np.isnan(stst_el_con)\n",
    "filtered_stst = [d[m] for d, m in zip(stst_el_con.T, mask_stst.T)]\n",
    "mask_exp = ~np.isnan(exp_el_con)\n",
    "filtered_exp = [d[m] for d, m in zip(exp_el_con.T, mask_exp.T)]\n",
    "\n",
    "ticks = [carrier_renaming.get(n, n) for n in c_el_con_s]\n",
    "index = c_el_con_s\n",
    "fig, ax = plt.subplots(figsize=(12, 6))\n",
    "\n",
    "stst_plot = plt.boxplot(filtered_stst,\n",
    "                        positions=np.array(np.arange(len(ticks)))*2.0-0.35,\n",
    "                        widths=0.6,\n",
    "                        patch_artist=True,\n",
    "                        showmeans=True,\n",
    "                        meanprops=meanprops,\n",
    "                        medianprops=medianprops,\n",
    "                        flierprops=flierprops,\n",
    "                        whiskerprops=whiskerprops\n",
    "                        )\n",
    "\n",
    "exp_plot = plt.boxplot(filtered_exp,\n",
    "                       positions=np.array(np.arange(len(ticks)))*2.0+0.35,\n",
    "                       widths=0.6,\n",
    "                       patch_artist=True,\n",
    "                       showmeans=True,\n",
    "                       meanprops=meanprops,\n",
    "                       medianprops=medianprops,\n",
    "                       flierprops=flierprops,\n",
    "                       whiskerprops=whiskerprops\n",
    "                       )\n",
    "\n",
    "# consumption weighted average\n",
    "cwa_mv_stst =np.multiply(df_stst_ons[[c + \"_cost_mv_el_qt\" for c in c_el_con_s]], (abs(df_stst_ons[[c + \"_con_el\" for c in c_el_con_s]]) / abs(df_stst_ons[[c + \"_con_el\" for c in c_el_con_s]]).sum())).sum()\n",
    "cwa_mv_exp =np.multiply(df_exp_ons[[c + \"_cost_mv_el_qt\" for c in c_el_con_s]], (abs(df_exp_ons[[c + \"_con_el\" for c in c_el_con_s]]) / abs(df_exp_ons[[c + \"_con_el\" for c in c_el_con_s]]).sum())).sum()\n",
    "ax.plot(np.array(np.arange(len(ticks)))*2.0-0.35, cwa_mv_stst.transpose(),\"x\", marker='*', color=\"red\", markersize= 10, markerfacecolor=\"white\", zorder=3)\n",
    "ax.plot(np.array(np.arange(len(ticks)))*2.0+0.35, cwa_mv_exp.transpose(),\"x\", marker='*', color=\"red\", markersize= 10, markerfacecolor=\"white\",zorder=4)\n",
    "\n",
    "for box, col in zip(stst_plot['boxes'],[carrier_colors[c] for c in index]):\n",
    "    # change outline color\n",
    "    box.set_facecolor(col)\n",
    "    box.set_linestyle('--')\n",
    "\n",
    "for box, col in zip(exp_plot['boxes'],[carrier_colors[c] for c in index]):\n",
    "    # change outline color\n",
    "    box.set_facecolor(col)\n",
    "\n",
    "# sample sizes\n",
    "for i, sample_size in enumerate(df_stst_ons[[f\"{i}_cost_mv_el_qt\" for i in index]].count()):\n",
    "    ax.annotate(sample_size, xy=(0,0),  xycoords='axes fraction',\n",
    "        xytext=((i+0.35)/len(index),1), textcoords='axes fraction', color=\"blue\")\n",
    "\n",
    "#for i, sample_size in enumerate(df_exp_ons[[f\"{i}_cost_mv_el_qt\" for i in index]].count()):\n",
    "#    ax.annotate(sample_size, xy=(0,0),  xycoords='axes fraction',\n",
    "#        xytext=((i+0.55)/len(index),1), textcoords='axes fraction', color=\"red\")\n",
    "\n",
    "# explanations\n",
    "plt.xticks(np.arange(0, len(ticks) * 2, 2), ticks)\n",
    "plt.ylabel(\"$€/MWh_{el}$\")\n",
    "plt.xticks(rotation=90)\n",
    "# plt.title(\"Market values of electricity consuming technologies across the regions (STST vs. EXP)\", fontsize=16, pad=20,  **font1)\n",
    "\n",
    "# cosmetics\n",
    "ax.patch.set_facecolor('lightgrey')\n",
    "ax.patch.set_alpha(0.5)\n",
    "\n",
    "# horizontal lines\n",
    "ax.axhline(df_stst_ons[[c + \"_cost_mv_el_qt\" for c in c_el_con_s]].mean().mean(), ls=\"--\", c='black',linewidth=0.5)\n",
    "ax.axhline(df_exp_ons[[c + \"_cost_mv_el_qt\" for c in c_el_con_s]].mean().mean(), ls=\"-\", c='black', linewidth=0.5)\n",
    "\n",
    "# legend\n",
    "patch1 = matplotlib.patches.Patch(ls=\"--\", facecolor=\"white\", edgecolor=\"black\")\n",
    "patch2 = matplotlib.patches.Patch(ls=\"-\", facecolor=\"white\", edgecolor=\"black\")\n",
    "line1 = Line2D([0], [0], ls=\"--\", c='black', label=\"mean (STST)\", linewidth=0.5)\n",
    "line2 = Line2D([0], [0], ls=\"-\", c='black', label=\"mean (EXP)\", linewidth=0.5)\n",
    "ax.legend([patch1, patch2, line1, line2], ['STST', 'EXP', 'mean (STST)','mean (EXP)'], loc=\"upper left\")\n",
    "\n",
    "fig.tight_layout()\n",
    "plt.close()\n",
    "plt.show()\n",
    "\n",
    "#fig.savefig(f\"{PLOT_DIR}/mv_el_con_both_box.png\")"
   ]
  },
  {
   "cell_type": "code",
   "execution_count": null,
   "metadata": {
    "pycharm": {
     "name": "#%%\n"
    }
   },
   "outputs": [],
   "source": [
    "# Further investigation\n",
    "df_stst_ons[[c + \"_cost_mv_el\" for c in c_el_con_s]].mean().mean()\n",
    "df_exp_ons[[c + \"_cost_mv_el\" for c in c_el_con_s]].mean().mean()\n",
    "\n",
    "df_stst_ons[[c + \"_cost_mv_el\" for c in c_el_con_s]].mean() - df_exp_ons[[c + \"_cost_mv_el\" for c in c_el_con_s]].mean()\n",
    "\n",
    "(df_stst_ons[[c + \"_cost_mv_el\" for c in c_el_con_s]].describe().loc[\"75%\"] -\n",
    " df_stst_ons[[c + \"_cost_mv_el\" for c in c_el_con_s]].describe().loc[\"25%\"]) - (\n",
    "            df_exp_ons[[c + \"_cost_mv_el\" for c in c_el_con_s]].describe().loc[\"75%\"] -\n",
    "            df_exp_ons[[c + \"_cost_mv_el\" for c in c_el_con_s]].describe().loc[\"25%\"])\n",
    "\n",
    "(df_stst_ons[[c + \"_cost_mv_el\" for c in c_el_con_s]].describe().loc[\"std\"] -\n",
    " df_exp_ons[[c + \"_cost_mv_el\" for c in c_el_con_s]].describe().loc[\"std\"])\n",
    "\n",
    "df_stst_ons[[c + \"_cost_mv_el\" for c in c_el_con_s]].mean().sort_values()"
   ]
  },
  {
   "cell_type": "code",
   "execution_count": null,
   "metadata": {
    "pycharm": {
     "name": "#%%\n"
    }
   },
   "outputs": [],
   "source": [
    "gwa_mv_stst"
   ]
  },
  {
   "cell_type": "code",
   "execution_count": null,
   "metadata": {
    "pycharm": {
     "name": "#%%\n"
    }
   },
   "outputs": [],
   "source": [
    "gwa_mv_exp"
   ]
  },
  {
   "cell_type": "code",
   "execution_count": null,
   "metadata": {
    "pycharm": {
     "name": "#%%\n"
    }
   },
   "outputs": [],
   "source": [
    "for c in c_el_con_s:\n",
    "    print((df_stst_ons[f\"{c}_cost_mv_el_qt\"] * (abs(df_stst_ons[f\"{c}_con_el\"]) / abs(df_stst_ons[f\"{c}_con_el\"]).sum())).sum())\n"
   ]
  },
  {
   "cell_type": "code",
   "execution_count": null,
   "metadata": {
    "pycharm": {
     "name": "#%%\n"
    }
   },
   "outputs": [],
   "source": [
    "df_exp_ons[f\"{c}_con_el\"]"
   ]
  },
  {
   "cell_type": "markdown",
   "metadata": {
    "pycharm": {
     "name": "#%% md\n"
    }
   },
   "source": [
    "## Spatial Differences (4.3.2)"
   ]
  },
  {
   "cell_type": "markdown",
   "metadata": {
    "pycharm": {
     "name": "#%% md\n"
    }
   },
   "source": [
    "### Spatial correlation of mv, gen"
   ]
  },
  {
   "cell_type": "code",
   "execution_count": null,
   "metadata": {
    "pycharm": {
     "name": "#%%\n"
    }
   },
   "outputs": [],
   "source": [
    "# Spatial correlation of mv\n",
    "\n",
    "fig, axs = plt.subplots(ncols=2, figsize=(15, 5))\n",
    "\n",
    "for i, df, ax in zip([0,1], [df_stst_ons, df_exp_ons], axs):\n",
    "\n",
    "    corr = df[[c + \"_mv\" for c in c_el_gen_s]].corr()\n",
    "    corr.index = [carrier_renaming.get(n, n) for n in c_el_gen_s]\n",
    "    corr.columns = [carrier_renaming.get(n, n) for n in c_el_gen_s]\n",
    "    mask = np.triu(np.ones_like(corr, dtype=bool))\n",
    "\n",
    "    sns.heatmap(corr[abs(corr) > 0.4], mask=mask, cmap=\"magma_r\", annot=True, ax=ax)\n",
    "    ax.set_title('STST' if i == 0 else 'EXP')\n",
    "\n",
    "fig.tight_layout(pad=1.5)\n",
    "plt.close()\n",
    "plt.show()\n",
    "\n",
    "#fig.savefig(f\"{PLOT_DIR}/mv_el_gen_both_corr.png\")"
   ]
  },
  {
   "cell_type": "code",
   "execution_count": null,
   "metadata": {
    "pycharm": {
     "name": "#%%\n"
    }
   },
   "outputs": [],
   "source": [
    "# Spatial correlation of purchasing prices\n",
    "\n",
    "fig, axs = plt.subplots(ncols=2, figsize=(8, 3))\n",
    "\n",
    "for df, ax in zip([df_stst_ons, df_exp_ons], axs):\n",
    "    corr = df[[c + \"_cost_mv_el\" for c in c_el_con_s]].corr()\n",
    "    corr.index = [carrier_renaming.get(n, n) for n in c_el_con_s]\n",
    "    corr.columns = [carrier_renaming.get(n, n) for n in c_el_con_s]\n",
    "\n",
    "    mask = np.triu(np.ones_like(corr, dtype=bool))\n",
    "\n",
    "    sns.heatmap(corr[abs(corr) > 0.5], mask=mask, cmap=\"magma_r\", annot=True, ax=ax)\n",
    "fig.tight_layout(pad=1.5)\n",
    "\n",
    "plt.close()\n",
    "plt.show()"
   ]
  },
  {
   "cell_type": "code",
   "execution_count": null,
   "metadata": {
    "pycharm": {
     "name": "#%%\n"
    }
   },
   "outputs": [],
   "source": [
    "# Spatial correlation of both\n",
    "\n",
    "fig, axs = plt.subplots(ncols=2, figsize=(17, 6))\n",
    "\n",
    "for df, ax in zip([df_stst_ons, df_exp_ons], axs):\n",
    "    corr = df[[c + \"_mv\" for c in c_el_gen_s] + [c + \"_cost_mv_el\" for c in c_el_con_s]].corr()\n",
    "    corr.index = [carrier_renaming.get(n, n) for n in c_el_gen_s] + [carrier_renaming.get(n, n) + \" (con)\" for n in c_el_con_s]\n",
    "    corr.columns = [carrier_renaming.get(n, n) for n in c_el_gen_s] + [carrier_renaming.get(n, n)+ \" (con)\" for n in c_el_con_s]\n",
    "\n",
    "    mask = np.triu(np.ones_like(corr, dtype=bool))\n",
    "\n",
    "    sns.heatmap(corr[abs(corr) > 0.5], mask=mask, cmap=\"magma_r\", annot=True, ax=ax)\n",
    "fig.tight_layout(pad=1.5)\n",
    "plt.close()\n",
    "plt.show()"
   ]
  },
  {
   "cell_type": "code",
   "execution_count": null,
   "metadata": {
    "pycharm": {
     "name": "#%%\n"
    }
   },
   "outputs": [],
   "source": [
    "# correlation analysis\n",
    "# what do you want to find?\n",
    "\n",
    "\n",
    "corr_gini_res = pd.DataFrame(index=c_el_gen_s, columns=[[\"corr_mv_gen_STST\", \"cor_mv_gen_EXP\", \"gini_gen_STST\", \"gini_gen_EXP\", \"gini_gen_diff_EXP-STST\", \"gini_mv_STST\", \"gini_mv_EXP\", \"gini_mv_diff_EXP-STST\"]])\n",
    "for c in c_el_gen_s:\n",
    "    corr_gini_res.loc[c,\"corr_mv_gen_STST\"] = df_stst_ons[f\"{c}_mv\"].corr(df_stst_ons[f\"{c}_gen\"])\n",
    "    corr_gini_res.loc[c,\"cor_mv_gen_EXP\"] = df_exp_ons[f\"{c}_mv\"].corr(df_exp_ons[f\"{c}_gen\"])\n",
    "    corr_gini_res.loc[c,\"gini_gen_STST\"] = gini(df_stst_ons[[f\"{c}_gen\"]].dropna().values)\n",
    "    corr_gini_res.loc[c,\"gini_gen_EXP\"] = gini(df_exp_ons[[f\"{c}_gen\"]].dropna().values)\n",
    "    corr_gini_res.loc[c,\"gini_gen_EXP\"] = gini(df_exp_ons[[f\"{c}_gen\"]].dropna().values)\n",
    "    corr_gini_res.loc[c,\"gini_mv_STST\"] = gini(df_stst_ons[[f\"{c}_mv\"]].dropna().values)\n",
    "    corr_gini_res.loc[c,\"gini_mv_EXP\"] = gini(df_exp_ons[[f\"{c}_mv\"]].dropna().values)\n",
    "\n",
    "corr_gini_res[\"gini_gen_diff_EXP-STST\"] = corr_gini_res[\"gini_gen_EXP\"].values - corr_gini_res[\"gini_gen_STST\"].values\n",
    "corr_gini_res[\"gini_mv_diff_EXP-STST\"] = corr_gini_res[\"gini_mv_EXP\"].values - corr_gini_res[\"gini_mv_STST\"].values\n",
    "corr_gini_res"
   ]
  },
  {
   "cell_type": "markdown",
   "metadata": {
    "pycharm": {
     "name": "#%% md\n"
    }
   },
   "source": [
    "**Findings:**\n",
    "- gini: the higher, the more uneven distributed\n",
    "- generation is more uneven distributed in EXP case\n",
    "- mv are more evenly distributed in EXP case"
   ]
  },
  {
   "cell_type": "markdown",
   "metadata": {
    "pycharm": {
     "name": "#%% md\n"
    }
   },
   "source": [
    "### Electricity producing technologies"
   ]
  },
  {
   "cell_type": "markdown",
   "metadata": {
    "pycharm": {
     "name": "#%% md\n"
    }
   },
   "source": [
    "#### VRE"
   ]
  },
  {
   "cell_type": "code",
   "execution_count": null,
   "metadata": {
    "pycharm": {
     "name": "#%%\n"
    }
   },
   "outputs": [],
   "source": [
    "# VRE: market values across regions as map\n",
    "# [\"onwind\", \"ror\", \"solar\", \"solar rooftop\", \"offwind-dc\", \"offwind-ac\"]\n",
    "carriers = [\"onwind\", \"solar\",\"offwind-dc\", \"ror\"]\n",
    "model = \"STST\"\n",
    "\n",
    "fig, axs = plt.subplots(ncols=2, nrows=int(len(carriers)/2), subplot_kw={'projection': ccrs.EqualEarth()},\n",
    "                        figsize=(18, len(carriers)/2*8))\n",
    "crs = ccrs.EqualEarth()\n",
    "\n",
    "for i, ax in enumerate(axs.reshape(-1)):\n",
    "\n",
    "    if model == \"STST\":\n",
    "        if carriers[i] in [\"offwind-dc\", \"offwind-ac\"]:\n",
    "            df = df_stst_off\n",
    "        else:\n",
    "            df = df_stst_ons\n",
    "\n",
    "    elif model == \"EXP\":\n",
    "        if carriers[i] in [\"offwind-dc\", \"offwind-ac\"]:\n",
    "            df = df_exp_off\n",
    "        else:\n",
    "            df = df_exp_ons\n",
    "\n",
    "    ax.add_feature(cartopy.feature.BORDERS, edgecolor='black', linewidth=0.5)\n",
    "    ax.coastlines(edgecolor='black', linewidth=0.5)\n",
    "    ax.set_facecolor('white')\n",
    "    ax.add_feature(cartopy.feature.OCEAN, color='azure')\n",
    "\n",
    "    df.to_crs(crs.proj4_init).plot(column=f\"{carriers[i]}_mv_qt\",\n",
    "                                   ax=ax,\n",
    "                                   cmap=plt.get_cmap(\"magma_r\"),\n",
    "                                   linewidth=0.05,\n",
    "                                   edgecolor = 'grey',\n",
    "                                   legend=True,\n",
    "                                   legend_kwds={'label':\"market values ($€/MWh_{el}$)\",'orientation': \"vertical\",'shrink' : 0.9}\n",
    "                                   )\n",
    "\n",
    "    max_size = df[f\"{carriers[i]}_gen\"].max()\n",
    "    df.to_crs(crs.proj4_init).centroid.plot(ax=ax, sizes=df[f\"{carriers[i]}_gen\"] / max_size *300,  color=\"black\", edgecolor=\"white\")\n",
    "    pypsa.plot.add_legend_circles(ax=ax, sizes=[0.6], labels=[\"Generation magnitude\"], patch_kw={'color': 'black', 'edgecolor': 'white'}, legend_kw={'loc': 'upper left'})\n",
    "\n",
    "    # always select same section\n",
    "    xmin, ymin, xmax, ymax = df_stst_off.to_crs(crs.proj4_init).total_bounds\n",
    "    pad = 1 * 1e5  # add a padding around the geometry\n",
    "    ax.set_xlim(xmin-pad, xmax+pad)\n",
    "    ax.set_ylim(ymin-pad, ymax+pad)\n",
    "\n",
    "    ax.set_title(f\"{carriers[i]}\", fontsize=16, **font1)\n",
    "\n",
    "# fig.suptitle(f\"Spatial Differences in the electricity generation of the VRE technologies ({model})\", fontsize=16, **font1)\n",
    "fig.tight_layout()\n",
    "\n",
    "#plt.close()\n",
    "plt.show()\n",
    "\n",
    "\n",
    "#fig.savefig(f\"{PLOT_DIR}/mv_el_gen_vre_map_{model}.png\")"
   ]
  },
  {
   "cell_type": "code",
   "execution_count": null,
   "metadata": {
    "pycharm": {
     "name": "#%%\n"
    }
   },
   "outputs": [],
   "source": [
    "# Further investigation\n",
    "# TODO why is the correlation between mv and cp for ror positive\n",
    "c_vre = [\"onwind\", \"solar\", \"offwind-dc\", \"solar rooftop\", \"offwind-ac\", \"ror\"]\n",
    "for c in c_vre:\n",
    "    print(c)\n",
    "    print(df_stst_ons[f\"{c}_mv_qt\"].corr(df_stst_ons[f\"{c}_gen\"]))\n",
    "    print(df_stst_ons[f\"{c}_mv_qt\"].corr(df_stst_ons[f\"{c}_cf\"]))\n",
    "\n",
    "# generation weighted market value\n",
    "c = \"ror\"\n",
    "((df_stst_ons[f\"{c}_gen\"] / df_stst_ons[f\"{c}_gen\"].sum()) * df_stst_ons[f\"{c}_mv_qt\"]).sum()"
   ]
  },
  {
   "cell_type": "code",
   "execution_count": null,
   "metadata": {
    "pycharm": {
     "name": "#%%\n"
    }
   },
   "outputs": [],
   "source": [
    "# Further investigation: EXP\n",
    "# TODO why is the correlation between mv and cp for ror positive\n",
    "c_vre = [\"onwind\", \"solar\", \"offwind-dc\", \"solar rooftop\", \"offwind-ac\", \"ror\"]\n",
    "for c in c_vre:\n",
    "    print(c)\n",
    "    print(df_stst_ons[f\"{c}_mv_qt\"].corr(df_exp_ons[f\"{c}_gen\"]))\n",
    "    print(df_stst_ons[f\"{c}_mv_qt\"].corr(df_exp_ons[f\"{c}_cf\"]))\n",
    "\n",
    "# generation weighted market value\n",
    "c = \"ror\"\n",
    "((df_stst_ons[f\"{c}_gen\"] / df_stst_ons[f\"{c}_gen\"].sum()) * df_stst_ons[f\"{c}_mv\"]).sum()"
   ]
  },
  {
   "cell_type": "code",
   "execution_count": null,
   "metadata": {
    "pycharm": {
     "name": "#%%\n"
    }
   },
   "outputs": [],
   "source": [
    "# VRE difference\n",
    "# VRE: difference market values across regions as map\n",
    "# [\"onwind\", \"ror\", \"solar\", \"solar rooftop\", \"offwind-dc\", \"offwind-ac\"]\n",
    "\n",
    "carriers = [\"onwind\", \"solar\",\"offwind-dc\", \"ror\"]\n",
    "\n",
    "for c in carriers:\n",
    "    # if one mv is nan the result is nan as well\n",
    "    if c in [\"offwind-dc\", \"offwind-ac\"]:\n",
    "        df_stst_off[f\"{c}_mv_qt_STST-EXP\"] = df_stst_off[f\"{c}_mv_qt\"] - df_exp_off[f\"{c}_mv_qt\"]\n",
    "    else:\n",
    "        df_stst_ons[f\"{c}_mv_qt_STST-EXP\"] = df_stst_ons[f\"{c}_mv_qt\"] - df_exp_ons[f\"{c}_mv_qt\"]\n",
    "\n",
    "fig, axs = plt.subplots(ncols=2, nrows=int(len(carriers)/2), subplot_kw={'projection': ccrs.EqualEarth()},\n",
    "                        figsize=(14, len(carriers)/2*5))\n",
    "crs = ccrs.EqualEarth()\n",
    "\n",
    "for i, ax in enumerate(axs.reshape(-1)):\n",
    "\n",
    "    if carriers[i] in [\"offwind-dc\", \"offwind-ac\"]:\n",
    "        df = df_stst_off\n",
    "        df_2 = df_exp_off\n",
    "    else:\n",
    "        df = df_stst_ons\n",
    "        df_2 = df_exp_ons\n",
    "\n",
    "    abs_max = max(abs(df[f\"{carriers[i]}_mv_qt_STST-EXP\"].max()) , abs(df[f\"{carriers[i]}_mv_qt_STST-EXP\"].min()))\n",
    "\n",
    "    ax.add_feature(cartopy.feature.BORDERS, edgecolor='black', linewidth=0.5)\n",
    "    ax.coastlines(edgecolor='black', linewidth=0.5)\n",
    "    ax.set_facecolor('white')\n",
    "    ax.add_feature(cartopy.feature.OCEAN, color='azure')\n",
    "\n",
    "    df.to_crs(crs.proj4_init).plot(column=f\"{carriers[i]}_mv_qt_STST-EXP\",\n",
    "                                   ax=ax,\n",
    "                                   cmap=plt.get_cmap('RdYlGn'),\n",
    "                                   vmax=abs_max,\n",
    "                                   vmin=-abs_max,\n",
    "                                   linewidth=0.05,\n",
    "                                   edgecolor = 'grey',\n",
    "                                   legend=True,\n",
    "                                   legend_kwds={'label':\"market value differences ($€/MWh_{el}$)\",'orientation': \"vertical\",'shrink' : 0.8}\n",
    "                                   )\n",
    "\n",
    "    # difference in generation (STST-EXP)\n",
    "    gen_diff = df[f\"{carriers[i]}_gen\"] - df_2[f\"{carriers[i]}_gen\"]\n",
    "    # red if negative and green if positive\n",
    "    colors = ['red' if (x < 0) else 'green' for x in gen_diff ]\n",
    "\n",
    "    max_size = abs(gen_diff).max()\n",
    "    df.to_crs(crs.proj4_init).centroid.plot(ax=ax, sizes=(abs(gen_diff) / max_size) * 500,  color=colors, edgecolor=\"white\")\n",
    "    circle1 = Line2D([], [], color=\"white\", marker='o', markerfacecolor=\"green\", markeredgecolor=\"white\", markersize=10)\n",
    "    circle2 = Line2D([], [], color=\"white\", marker='o', markerfacecolor=\"red\", markeredgecolor=\"white\", markersize=10)\n",
    "    circle3 = Line2D([], [], color=\"white\", marker='o', markerfacecolor=\"white\", markeredgecolor=\"black\", markersize=10)\n",
    "\n",
    "    unit = \"TWh\" if max_size > 1e3 else \"GWh\"\n",
    "    max_size = max_size / 1e3 if max_size > 1e3 else max_size\n",
    "    ax.legend((circle1, circle2, circle3), ('Increased production in STST', 'Increased production in EXP', f\"max circle size: {round(max_size)} {unit}\"), numpoints=1, loc=\"upper left\")\n",
    "\n",
    "\n",
    "    # always select same section\n",
    "    xmin, ymin, xmax, ymax = df_stst_off.to_crs(crs.proj4_init).total_bounds\n",
    "    pad = 1 * 1e5  # add a padding around the geometry\n",
    "    ax.set_xlim(xmin-pad, xmax+pad)\n",
    "    ax.set_ylim(ymin-pad, ymax+pad)\n",
    "\n",
    "    ax.set_title(f\"{carriers[i]} mv (STST - EXP)\", fontsize=16, **font1)\n",
    "\n",
    "# fig.suptitle(\"Spatial Differences in the electricity generation of the VRE technologies (STST)\", fontsize=16, **font1)\n",
    "fig.tight_layout()\n",
    "\n",
    "#plt.close()\n",
    "plt.show()\n",
    "\n",
    "\n",
    "#fig.savefig(f\"{PLOT_DIR}/mv_el_gen_vre_STST-EXP_map.png\")"
   ]
  },
  {
   "cell_type": "code",
   "execution_count": null,
   "metadata": {
    "pycharm": {
     "name": "#%%\n"
    }
   },
   "outputs": [],
   "source": [
    "# Further investigation\n",
    "c = \"onwind\"\n",
    "df_stst_ons[f\"{c}_mv_qt_STST-EXP\"].dropna().sort_values()"
   ]
  },
  {
   "cell_type": "code",
   "execution_count": null,
   "metadata": {
    "pycharm": {
     "name": "#%%\n"
    }
   },
   "outputs": [],
   "source": [
    "de_i = df_stst_ons[f\"{c}_mv_qt_STST-EXP\"].dropna().index.str.contains(\"BE\")\n",
    "df_stst_ons[f\"{c}_mv_qt_STST-EXP\"].dropna().loc[de_i].mean()"
   ]
  },
  {
   "cell_type": "markdown",
   "metadata": {
    "pycharm": {
     "name": "#%% md\n"
    }
   },
   "source": [
    "#### Storage"
   ]
  },
  {
   "cell_type": "code",
   "execution_count": null,
   "metadata": {
    "pycharm": {
     "name": "#%%\n"
    }
   },
   "outputs": [],
   "source": [
    "# Storage: market values across regions as map\n",
    "carriers = [\"hydro\", \"battery discharger\",  \"V2G\", \"PHS\"]\n",
    "model = \"STST\"\n",
    "\n",
    "if model == \"STST\":\n",
    "    df = df_stst_ons\n",
    "\n",
    "elif model == \"EXP\":\n",
    "    df = df_exp_ons\n",
    "\n",
    "fig, axs = plt.subplots(ncols=2, nrows=2, subplot_kw={'projection': ccrs.EqualEarth()},\n",
    "                        figsize=(18, 16))\n",
    "crs = ccrs.EqualEarth()\n",
    "\n",
    "for i, ax in enumerate(axs.reshape(-1)):\n",
    "\n",
    "    ax.add_feature(cartopy.feature.BORDERS, edgecolor='black', linewidth=0.5)\n",
    "    ax.coastlines(edgecolor='black', linewidth=0.5)\n",
    "    ax.set_facecolor('white')\n",
    "    ax.add_feature(cartopy.feature.OCEAN, color='azure')\n",
    "\n",
    "    df.to_crs(crs.proj4_init).plot(column=f\"{carriers[i]}_mv_qt\",\n",
    "                                   ax=ax,\n",
    "                                   cmap=plt.get_cmap(\"magma_r\"),\n",
    "                                   linewidth=0.05,\n",
    "                                   edgecolor = 'grey',\n",
    "                                   legend=True,\n",
    "                                   legend_kwds={'label':\"market values ($€/MWh_{el}$)\",'orientation': \"vertical\",'shrink' : 0.9}\n",
    "                                   )\n",
    "\n",
    "    max_size = df[f\"{carriers[i]}_gen\"].max()\n",
    "    df.to_crs(crs.proj4_init).centroid.plot(ax=ax, sizes=df[f\"{carriers[i]}_gen\"] / max_size *300,  color=\"black\", edgecolor=\"white\")\n",
    "    pypsa.plot.add_legend_circles(ax=ax, sizes=[0.6], labels=[\"Generation magnitude\"], patch_kw={'color': 'black', 'edgecolor': 'white'}, legend_kw={'loc': 'upper left'})\n",
    "\n",
    "    # always select same section\n",
    "    xmin, ymin, xmax, ymax = df_stst_ons.to_crs(crs.proj4_init).total_bounds\n",
    "    pad = 1 * 1e5  # add a padding around the geometry\n",
    "    ax.set_xlim(xmin-pad, xmax+pad)\n",
    "    ax.set_ylim(ymin-pad, ymax+pad)\n",
    "\n",
    "    ax.set_title(f\"{carriers[i]}\", fontsize=16, **font1)\n",
    "\n",
    "# fig.suptitle(f\"Spatial Differences in the electricity generation of the VRE technologies ({model})\", fontsize=16, **font1)\n",
    "fig.tight_layout()\n",
    "\n",
    "#plt.close()\n",
    "plt.show()\n",
    "\n",
    "\n",
    "#fig.savefig(f\"{PLOT_DIR}/mv_el_gen_store_{model}_map.png\")"
   ]
  },
  {
   "cell_type": "code",
   "execution_count": null,
   "metadata": {
    "pycharm": {
     "name": "#%%\n"
    }
   },
   "outputs": [],
   "source": [
    "# Further investigate\n",
    "c_el_gen_s"
   ]
  },
  {
   "cell_type": "code",
   "execution_count": null,
   "metadata": {
    "pycharm": {
     "name": "#%%\n"
    }
   },
   "outputs": [],
   "source": [
    "c = \"battery discharger\"\n",
    "df_stst_ons[F\"{c}_mv_qt\"].dropna().sort_values()"
   ]
  },
  {
   "cell_type": "code",
   "execution_count": null,
   "metadata": {
    "pycharm": {
     "name": "#%%\n"
    }
   },
   "outputs": [],
   "source": [
    "# Storage difference\n",
    "\n",
    "# market values across regions as map\n",
    "carriers = [ \"hydro\", \"battery discharger\", \"V2G\", \"PHS\"]\n",
    "\n",
    "for c in carriers:\n",
    "    # if one mv is nan the result is nan as well\n",
    "    if c in [\"offwind-dc\", \"offwind-ac\"]:\n",
    "        df_stst_off[f\"{c}_mv_qt_STST-EXP\"] = df_stst_off[f\"{c}_mv_qt\"] - df_exp_off[f\"{c}_mv_qt\"]\n",
    "    else:\n",
    "        df_stst_ons[f\"{c}_mv_qt_STST-EXP\"] = df_stst_ons[f\"{c}_mv_qt\"] - df_exp_ons[f\"{c}_mv_qt\"]\n",
    "\n",
    "fig, axs = plt.subplots(ncols=2, nrows=2, subplot_kw={'projection': ccrs.EqualEarth()},\n",
    "                        figsize=(18, 16))\n",
    "crs = ccrs.EqualEarth()\n",
    "\n",
    "for i, ax in enumerate(axs.reshape(-1)):\n",
    "\n",
    "    if carriers[i] in [\"offwind-dc\", \"offwind-ac\"]:\n",
    "        df = df_stst_off\n",
    "        df_2 = df_exp_off\n",
    "    else:\n",
    "        df = df_stst_ons\n",
    "        df_2 = df_exp_ons\n",
    "\n",
    "    abs_max = max(abs(df[f\"{carriers[i]}_mv_qt_STST-EXP\"].max()) , abs(df[f\"{carriers[i]}_mv_qt_STST-EXP\"].min()))\n",
    "\n",
    "    ax.add_feature(cartopy.feature.BORDERS, edgecolor='black', linewidth=0.5)\n",
    "    ax.coastlines(edgecolor='black', linewidth=0.5)\n",
    "    ax.set_facecolor('white')\n",
    "    ax.add_feature(cartopy.feature.OCEAN, color='azure')\n",
    "\n",
    "    df.to_crs(crs.proj4_init).plot(column=f\"{carriers[i]}_mv_qt_STST-EXP\",\n",
    "                                   ax=ax,\n",
    "                                   cmap=plt.get_cmap('RdYlGn'),\n",
    "                                   vmax=abs_max,\n",
    "                                   vmin=-abs_max,\n",
    "                                   linewidth=0.05,\n",
    "                                   edgecolor = 'grey',\n",
    "                                   legend=True,\n",
    "                                   legend_kwds={'label':\"market value differences ($€/MWh_{el}$)\",'orientation': \"vertical\",'shrink' : 0.8}\n",
    "                                   )\n",
    "\n",
    "    # difference in generation (STST-EXP)\n",
    "    gen_diff = df[f\"{carriers[i]}_gen\"] - df_2[f\"{carriers[i]}_gen\"]\n",
    "    # red if negative and green if positive\n",
    "    colors = ['red' if (x < 0) else 'green' for x in gen_diff ]\n",
    "\n",
    "    max_size = abs(gen_diff).max()\n",
    "    df.to_crs(crs.proj4_init).centroid.plot(ax=ax, sizes=(abs(gen_diff) / max_size) * 500,  color=colors, edgecolor=\"white\")\n",
    "    circle1 = Line2D([], [], color=\"white\", marker='o', markerfacecolor=\"green\", markeredgecolor=\"white\", markersize=10)\n",
    "    circle2 = Line2D([], [], color=\"white\", marker='o', markerfacecolor=\"red\", markeredgecolor=\"white\", markersize=10)\n",
    "    circle3 = Line2D([], [], color=\"white\", marker='o', markerfacecolor=\"white\", markeredgecolor=\"black\", markersize=10)\n",
    "\n",
    "    unit = \"TWh\" if max_size > 1e3 else \"GWh\"\n",
    "    max_size = max_size / 1e3 if max_size > 1e3 else max_size\n",
    "    ax.legend((circle1, circle2, circle3), ('Increased production in STST', 'Increased production in EXP', f\"max circle size: {round(max_size)} {unit}\"), numpoints=1, loc=\"upper left\")\n",
    "\n",
    "\n",
    "    # always select same section\n",
    "    xmin, ymin, xmax, ymax = df_stst_ons.to_crs(crs.proj4_init).total_bounds\n",
    "    pad = 1 * 1e5  # add a padding around the geometry\n",
    "    ax.set_xlim(xmin-pad, xmax+pad)\n",
    "    ax.set_ylim(ymin-pad, ymax+pad)\n",
    "\n",
    "    ax.set_title(f\"{carriers[i]} mv (STST - EXP)\", fontsize=16, **font1)\n",
    "\n",
    "fig.tight_layout()\n",
    "\n",
    "#plt.close()\n",
    "plt.show()\n",
    "\n",
    "\n",
    "#fig.savefig(f\"{PLOT_DIR}/mv_el_gen_store_STST-EXP_map.png\")"
   ]
  },
  {
   "cell_type": "code",
   "execution_count": null,
   "metadata": {
    "pycharm": {
     "name": "#%%\n"
    }
   },
   "outputs": [],
   "source": [
    "# Further investigation\n",
    "c = \"hydro\"\n",
    "df_stst_ons[f\"{c}_mv_qt_STST-EXP\"].sort_values()"
   ]
  },
  {
   "cell_type": "code",
   "execution_count": null,
   "metadata": {
    "pycharm": {
     "name": "#%%\n"
    }
   },
   "outputs": [],
   "source": [
    "df_exp_ons[[f\"{c}_mv\",f\"{c}_gen\"]].sort_values(by=f\"{c}_mv\")"
   ]
  },
  {
   "cell_type": "code",
   "execution_count": null,
   "metadata": {
    "pycharm": {
     "name": "#%%\n"
    }
   },
   "outputs": [],
   "source": [
    "# difference in mv\n",
    "pd.concat([df_stst_ons[f\"{c}_mv\"] - df_exp_ons[f\"{c}_mv\"], df_stst_ons[f\"{c}_gen\"],df_exp_ons[f\"{c}_gen\"]], axis=1).sort_values(by=f\"{c}_mv\")"
   ]
  },
  {
   "cell_type": "code",
   "execution_count": null,
   "metadata": {
    "pycharm": {
     "name": "#%%\n"
    }
   },
   "outputs": [],
   "source": [
    "for c in c_el_gen_s:\n",
    "    print(c)\n",
    "    mv_diff = df_stst_ons[f\"{c}_mv\"] - df_exp_ons[f\"{c}_mv\"]\n",
    "    gen_diff = df_stst_ons[f\"{c}_gen\"] - df_exp_ons[f\"{c}_gen\"]\n",
    "    print(mv_diff.corr(gen_diff))"
   ]
  },
  {
   "cell_type": "code",
   "execution_count": null,
   "metadata": {
    "pycharm": {
     "name": "#%%\n"
    }
   },
   "outputs": [],
   "source": [
    "# Norway analysis\n",
    "i_no = df_stst_ons.index[df_stst_ons.index.str.contains(\"NO\")]\n",
    "# generation weighted market value\n",
    "c = \"hydro\"\n",
    "((df_stst_ons.loc[i_no, f\"{c}_gen\"] / df_stst_ons.loc[i_no, f\"{c}_gen\"].sum()) * df_stst_ons.loc[i_no,f\"{c}_mv\"]).sum()\n",
    "#df_stst_ons.loc[i_no, f\"{c}_gen\"].sum()"
   ]
  },
  {
   "cell_type": "code",
   "execution_count": null,
   "metadata": {
    "pycharm": {
     "name": "#%%\n"
    }
   },
   "outputs": [],
   "source": [
    "c = \"V2G\"\n",
    "((df_exp_ons.loc[i_no, f\"{c}_gen\"] / df_exp_ons.loc[i_no, f\"{c}_gen\"].sum()) * df_exp_ons.loc[i_no,f\"{c}_mv\"]).sum()\n",
    "df_exp_ons.loc[i_no, f\"{c}_gen\"].sum()"
   ]
  },
  {
   "cell_type": "code",
   "execution_count": null,
   "metadata": {
    "pycharm": {
     "name": "#%%\n"
    }
   },
   "outputs": [],
   "source": [
    "c_vre = [\"hydro\", \"battery discharger\", \"V2G\", \"PHS\"]\n",
    "for c in c_vre:\n",
    "    print(c)\n",
    "    print(df_stst_ons[f\"{c}_mv\"].corr(df_stst_ons[f\"{c}_gen\"]))\n",
    "    print(df_stst_ons[f\"{c}_mv\"].corr(df_stst_ons[f\"{c}_cf\"]))"
   ]
  },
  {
   "cell_type": "code",
   "execution_count": null,
   "metadata": {
    "pycharm": {
     "name": "#%%\n"
    }
   },
   "outputs": [],
   "source": [
    "c_vre = [\"hydro\", \"battery discharger\", \"V2G\", \"PHS\"]\n",
    "for c in c_vre:\n",
    "    print(c)\n",
    "    print(df_exp_ons[f\"{c}_mv\"].corr(df_stst_ons[f\"{c}_gen\"]))\n",
    "    print(df_exp_ons[f\"{c}_mv\"].corr(df_stst_ons[f\"{c}_cf\"]))"
   ]
  },
  {
   "cell_type": "code",
   "execution_count": null,
   "metadata": {
    "pycharm": {
     "name": "#%%\n"
    }
   },
   "outputs": [],
   "source": [
    "# generation weighted market value\n",
    "c = \"hydro\"\n",
    "((df_stst_ons[f\"{c}_gen\"] / df_stst_ons[f\"{c}_gen\"].sum()) * df_stst_ons[f\"{c}_mv\"]).sum()"
   ]
  },
  {
   "cell_type": "code",
   "execution_count": null,
   "metadata": {
    "pycharm": {
     "name": "#%%\n"
    }
   },
   "outputs": [],
   "source": [
    "# generation weighted market value\n",
    "c = \"hydro\"\n",
    "((df_exp_ons[f\"{c}_gen\"] / df_exp_ons[f\"{c}_gen\"].sum()) * df_exp_ons[f\"{c}_mv\"]).sum()"
   ]
  },
  {
   "cell_type": "code",
   "execution_count": null,
   "metadata": {
    "pycharm": {
     "name": "#%%\n"
    }
   },
   "outputs": [],
   "source": [
    "# Storage: Battery Discharger\n",
    "\n",
    "carriers = [\"battery discharger\", \"battery discharger\"]\n",
    "\n",
    "fig, axs = plt.subplots(ncols=2, nrows=1, subplot_kw={'projection': ccrs.EqualEarth()},figsize=(18, 8),\n",
    "                        gridspec_kw={'width_ratios': [1, 0.96], 'height_ratios': [1]})\n",
    "crs = ccrs.EqualEarth()\n",
    "\n",
    "# same colorbar withds:\n",
    "vmin = min(np.nanmin(df_stst_ons[f\"{carriers[0]}_mv\"]), np.nanmin(df_exp_ons[f\"{carriers[0]}_mv\"]))\n",
    "vmax = max(np.nanmax(df_stst_ons[f\"{carriers[0]}_mv\"]), np.nanmax(df_exp_ons[f\"{carriers[0]}_mv\"]))\n",
    "\n",
    "for i, ax in enumerate(axs):\n",
    "\n",
    "    if i == 0:\n",
    "        df = df_stst_ons\n",
    "    else:\n",
    "        df = df_exp_ons\n",
    "\n",
    "    ax.add_feature(cartopy.feature.BORDERS, edgecolor='black', linewidth=0.5)\n",
    "    ax.coastlines(edgecolor='black', linewidth=0.5)\n",
    "    ax.set_facecolor('white')\n",
    "    ax.add_feature(cartopy.feature.OCEAN, color='azure')\n",
    "\n",
    "    df.to_crs(crs.proj4_init).plot(column=f\"{carriers[i]}_mv\",\n",
    "                                   ax=ax,\n",
    "                                   cmap=plt.get_cmap(\"magma_r\"),\n",
    "                                   vmin=vmin,\n",
    "                                   vmax=vmax,\n",
    "                                   linewidth=0.05,\n",
    "                                   edgecolor = 'grey',\n",
    "                                   legend=True,\n",
    "                                   legend_kwds={'label':\"market values ($€/MWh_{el}$)\",'orientation': \"vertical\",'shrink' : 0.9}\n",
    "                                   )\n",
    "\n",
    "    max_size = df[f\"{carriers[i]}_gen\"].max()\n",
    "    df.to_crs(crs.proj4_init).centroid.plot(ax=ax, sizes=df[f\"{carriers[i]}_gen\"] / max_size *300,  color=\"black\", edgecolor=\"white\")\n",
    "    pypsa.plot.add_legend_circles(ax=ax, sizes=[0.6], labels=[\"Generation magnitude\"], patch_kw={'color': 'black', 'edgecolor': 'white'}, legend_kw={'loc': 'upper left'})\n",
    "\n",
    "    # always select same section\n",
    "    xmin, ymin, xmax, ymax = df_stst_ons.to_crs(crs.proj4_init).total_bounds\n",
    "    pad = 1 * 1e5  # add a padding around the geometry\n",
    "    ax.set_xlim(xmin-pad, xmax+pad)\n",
    "    ax.set_ylim(ymin-pad, ymax+pad)\n",
    "\n",
    "    model = 'STST' if i == 0 else 'EXP'\n",
    "    ax.set_title(f\"{carriers[i]} ({model})\", fontsize=16, **font1)\n",
    "\n",
    "fig.tight_layout()\n",
    "\n",
    "plt.close()\n",
    "plt.show()\n",
    "\n",
    "\n",
    "#fig.savefig(f\"{PLOT_DIR}/mv_el_gen_bat_disch_STST_EXP_map.png\")"
   ]
  },
  {
   "cell_type": "code",
   "execution_count": null,
   "metadata": {
    "pycharm": {
     "name": "#%%\n"
    }
   },
   "outputs": [],
   "source": [
    "# from here on with nem df_CALC / CALC"
   ]
  },
  {
   "cell_type": "markdown",
   "metadata": {
    "pycharm": {
     "name": "#%% md\n"
    }
   },
   "source": [
    "#### Peak plants"
   ]
  },
  {
   "cell_type": "code",
   "execution_count": null,
   "metadata": {
    "pycharm": {
     "name": "#%%\n"
    }
   },
   "outputs": [],
   "source": [
    "# Peak plants\n",
    "\n",
    "carriers = [\"urban central gas CHP\", \"urban central solid biomass CHP CC\"]\n",
    "model = \"STST\"\n",
    "\n",
    "if model == \"STST\":\n",
    "    df = df_stst_ons\n",
    "\n",
    "elif model == \"EXP\":\n",
    "    df = df_exp_ons\n",
    "\n",
    "fig, axs = plt.subplots(ncols=2, nrows=1,\n",
    "                        subplot_kw={'projection': ccrs.EqualEarth()},\n",
    "                        figsize=(18, 8))\n",
    "crs = ccrs.EqualEarth()\n",
    "\n",
    "for i, ax in enumerate(axs):\n",
    "\n",
    "    ax.add_feature(cartopy.feature.BORDERS, edgecolor='black', linewidth=0.5)\n",
    "    ax.coastlines(edgecolor='black', linewidth=0.5)\n",
    "    ax.set_facecolor('white')\n",
    "    ax.add_feature(cartopy.feature.OCEAN, color='azure')\n",
    "\n",
    "    df.to_crs(crs.proj4_init).plot(column=f\"{carriers[i]}_mv_gen_el_qt\",\n",
    "                                   ax=ax,\n",
    "                                   cmap=plt.get_cmap(\"magma_r\"),\n",
    "                                   linewidth=0.05,\n",
    "                                   edgecolor = 'grey',\n",
    "                                   legend=True,\n",
    "                                   legend_kwds={'label':\"market values ($€/MWh_{el}$)\",'orientation': \"vertical\",'shrink' : 0.9}\n",
    "                                   )\n",
    "\n",
    "    max_size = df[f\"{carriers[i]}_gen_el\"].max()\n",
    "    df.to_crs(crs.proj4_init).centroid.plot(ax=ax, sizes=df[f\"{carriers[i]}_gen\"] / max_size *300,  color=\"black\", edgecolor=\"white\")\n",
    "    pypsa.plot.add_legend_circles(ax=ax, sizes=[0.6], labels=[\"Generation magnitude\"], patch_kw={'color': 'black', 'edgecolor': 'white'}, legend_kw={'loc': 'upper left'})\n",
    "\n",
    "    # always select same section\n",
    "    xmin, ymin, xmax, ymax = df_stst_ons.to_crs(crs.proj4_init).total_bounds\n",
    "    pad = 1 * 1e5  # add a padding around the geometry\n",
    "    ax.set_xlim(xmin-pad, xmax+pad)\n",
    "    ax.set_ylim(ymin-pad, ymax+pad)\n",
    "\n",
    "    ax.set_title(f\"{carrier_renaming[carriers[i]]}\", fontsize=16, **font1)\n",
    "\n",
    "fig.tight_layout()\n",
    "\n",
    "#plt.close()\n",
    "plt.show()\n",
    "\n",
    "\n",
    "# fig.savefig(f\"{PLOT_DIR}/mv_el_gen_peak_{model}_map.png\")"
   ]
  },
  {
   "cell_type": "code",
   "execution_count": null,
   "metadata": {
    "pycharm": {
     "name": "#%%\n"
    }
   },
   "outputs": [],
   "source": [
    "c = \"urban central solid biomass CHP CC\"\n",
    "df_stst_ons[[f\"{c}_mv_gen_el_qt\",f\"{c}_gen_el\"]].dropna().sort_values(by=f\"{c}_mv_gen_el_qt\")\n",
    "df_stst_ons[f\"{c}_mv_gen_el_qt\"][df_stst_ons[f\"{c}_gen_el\"] > 1000].dropna().sort_values()"
   ]
  },
  {
   "cell_type": "code",
   "execution_count": null,
   "metadata": {
    "pycharm": {
     "name": "#%%\n"
    }
   },
   "outputs": [],
   "source": [
    "df_stst_ons"
   ]
  },
  {
   "cell_type": "code",
   "execution_count": null,
   "metadata": {
    "pycharm": {
     "name": "#%%\n"
    }
   },
   "outputs": [],
   "source": [
    "# Storage difference\n",
    "\n",
    "# market values across regions as map\n",
    "carriers = [\"urban central gas CHP\", \"urban central solid biomass CHP CC\"]\n",
    "\n",
    "for c in carriers:\n",
    "    # if one mv is nan the result is nan as well\n",
    "    if c in [\"offwind-dc\", \"offwind-ac\"]:\n",
    "        df_stst_off[f\"{c}_mv_gen_el_qt_STST-EXP\"] = df_stst_off[f\"{c}_mv_gen_el_qt\"] - df_exp_off[f\"{c}_mv_gen_el_qt\"]\n",
    "    else:\n",
    "        df_stst_ons[f\"{c}_mv_gen_el_qt_STST-EXP\"] = df_stst_ons[f\"{c}_mv_gen_el_qt\"] - df_exp_ons[f\"{c}_mv_gen_el_qt\"]\n",
    "\n",
    "fig, axs = plt.subplots(ncols=2, nrows=1, subplot_kw={'projection': ccrs.EqualEarth()},\n",
    "                        figsize=(18, 8))\n",
    "crs = ccrs.EqualEarth()\n",
    "\n",
    "for i, ax in enumerate(axs):\n",
    "\n",
    "    if carriers[i] in [\"offwind-dc\", \"offwind-ac\"]:\n",
    "        df = df_stst_off\n",
    "        df_2 = df_exp_off\n",
    "    else:\n",
    "        df = df_stst_ons\n",
    "        df_2 = df_exp_ons\n",
    "\n",
    "    abs_max = max(abs(df[f\"{carriers[i]}_mv_gen_el_qt_STST-EXP\"].max()) , abs(df[f\"{carriers[i]}_mv_gen_el_qt_STST-EXP\"].max()))\n",
    "\n",
    "    ax.add_feature(cartopy.feature.BORDERS, edgecolor='black', linewidth=0.5)\n",
    "    ax.coastlines(edgecolor='black', linewidth=0.5)\n",
    "    ax.set_facecolor('white')\n",
    "    ax.add_feature(cartopy.feature.OCEAN, color='azure')\n",
    "\n",
    "    df.to_crs(crs.proj4_init).plot(column=f\"{carriers[i]}_mv_gen_el_qt_STST-EXP\",\n",
    "                                   ax=ax,\n",
    "                                   cmap=plt.get_cmap('RdYlGn'),\n",
    "                                   vmax=abs_max,\n",
    "                                   vmin=-abs_max,\n",
    "                                   linewidth=0.05,\n",
    "                                   edgecolor = 'grey',\n",
    "                                   legend=True,\n",
    "                                   legend_kwds={'label':\"market value differences ($€/MWh_{el}$)\",'orientation': \"vertical\",'shrink' : 0.8}\n",
    "                                   )\n",
    "\n",
    "    # difference in generation (STST-EXP)\n",
    "    gen_diff = df[f\"{carriers[i]}_gen_el\"] - df_2[f\"{carriers[i]}_gen_el\"]\n",
    "    # red if negative and green if positive\n",
    "    colors = ['red' if (x < 0) else 'green' for x in gen_diff ]\n",
    "\n",
    "    max_size = abs(gen_diff).max()\n",
    "    df.to_crs(crs.proj4_init).centroid.plot(ax=ax, sizes=(abs(gen_diff) / max_size) * 500,  color=colors, edgecolor=\"white\")\n",
    "    circle1 = Line2D([], [], color=\"white\", marker='o', markerfacecolor=\"green\", markeredgecolor=\"white\", markersize=10)\n",
    "    circle2 = Line2D([], [], color=\"white\", marker='o', markerfacecolor=\"red\", markeredgecolor=\"white\", markersize=10)\n",
    "    circle3 = Line2D([], [], color=\"white\", marker='o', markerfacecolor=\"white\", markeredgecolor=\"black\", markersize=10)\n",
    "\n",
    "    unit = \"TWh\" if max_size > 1e3 else \"GWh\"\n",
    "    max_size = max_size / 1e3 if max_size > 1e3 else max_size\n",
    "    ax.legend((circle1, circle2, circle3), ('Increased production in STST', 'Increased production in EXP', f\"max circle size: {round(max_size)} {unit}\"), numpoints=1, loc=\"upper left\")\n",
    "\n",
    "\n",
    "    # always select same section\n",
    "    xmin, ymin, xmax, ymax = df_stst_ons.to_crs(crs.proj4_init).total_bounds\n",
    "    pad = 1 * 1e5  # add a padding around the geometry\n",
    "    ax.set_xlim(xmin-pad, xmax+pad)\n",
    "    ax.set_ylim(ymin-pad, ymax+pad)\n",
    "\n",
    "    ax.set_title(f\"{carrier_renaming[carriers[i]]} mv (STST - EXP)\", fontsize=16, **font1)\n",
    "\n",
    "# fig.suptitle(\"Spatial Differences in the electricity generation of the VRE technologies (STST)\", fontsize=16, **font1)\n",
    "fig.tight_layout()\n",
    "\n",
    "#plt.close()\n",
    "plt.show()\n",
    "\n",
    "\n",
    "#fig.savefig(f\"{PLOT_DIR}/mv_el_gen_peak_STST-EXP_map.png\")"
   ]
  },
  {
   "cell_type": "code",
   "execution_count": null,
   "metadata": {
    "pycharm": {
     "name": "#%%\n"
    }
   },
   "outputs": [],
   "source": [
    "c = \"urban central solid biomass CHP CC\"\n",
    "df_stst_ons[f\"{c}_mv_gen_el_qt_STST-EXP\"].sort_values().dropna().mean()"
   ]
  },
  {
   "cell_type": "code",
   "execution_count": null,
   "metadata": {
    "pycharm": {
     "name": "#%%\n"
    }
   },
   "outputs": [],
   "source": [
    "stst.links[stst.links.carrier == \"urban central solid biomass CHP CC\"].head()"
   ]
  },
  {
   "cell_type": "markdown",
   "metadata": {
    "pycharm": {
     "name": "#%% md\n"
    }
   },
   "source": [
    "### Electricity Consuming Technologies"
   ]
  },
  {
   "cell_type": "code",
   "execution_count": null,
   "metadata": {
    "pycharm": {
     "name": "#%%\n"
    }
   },
   "outputs": [],
   "source": [
    "df_stst_ons.columns[df_stst_ons.columns.str.contains(\"cap_con_el\")].str.split('_').str[0]"
   ]
  },
  {
   "cell_type": "code",
   "execution_count": null,
   "metadata": {
    "pycharm": {
     "name": "#%%\n"
    }
   },
   "outputs": [],
   "source": [
    "c_el_con_s"
   ]
  },
  {
   "cell_type": "code",
   "execution_count": null,
   "metadata": {
    "pycharm": {
     "name": "#%%\n"
    }
   },
   "outputs": [],
   "source": [
    "carriers = c_el_con_s\n",
    "model = \"STST\"\n",
    "\n",
    "if model == \"STST\":\n",
    "    df = df_stst_ons\n",
    "\n",
    "elif model == \"EXP\":\n",
    "    df = df_exp_ons\n",
    "\n",
    "fig, axs = plt.subplots(ncols=2, nrows=int(len(carriers)/2),\n",
    "                        subplot_kw={'projection': ccrs.EqualEarth()},\n",
    "                        figsize=(14, len(carriers)/2*6))\n",
    "crs = ccrs.EqualEarth()\n",
    "\n",
    "for i, ax in enumerate(axs.reshape(-1)):\n",
    "\n",
    "    ax.add_feature(cartopy.feature.BORDERS, edgecolor='black', linewidth=0.5)\n",
    "    ax.coastlines(edgecolor='black', linewidth=0.5)\n",
    "    ax.set_facecolor('white')\n",
    "    ax.add_feature(cartopy.feature.OCEAN, color='azure')\n",
    "\n",
    "    df.to_crs(crs.proj4_init).plot(column=f\"{carriers[i]}_mv_con_el_qt\",\n",
    "                                   ax=ax,\n",
    "                                   cmap=plt.get_cmap(\"magma_r\"),\n",
    "                                   linewidth=0.05,\n",
    "                                   edgecolor = 'grey',\n",
    "                                   legend=True,\n",
    "                                   legend_kwds={'label':\"Purchasing prices ($€/MWh_{el}$)\",'orientation': \"vertical\",'shrink' : 0.9}\n",
    "                                   )\n",
    "\n",
    "    max_size = abs(df[f\"{carriers[i]}_con_el\"].min())\n",
    "    df.to_crs(crs.proj4_init).centroid.plot(ax=ax, sizes=abs(df[f\"{carriers[i]}_con_el\"]) / max_size *300,  color=\"black\", edgecolor=\"white\")\n",
    "    pypsa.plot.add_legend_circles(ax=ax, sizes=[0.6], labels=[\"Consumption magnitude\"], patch_kw={'color': 'black', 'edgecolor': 'white'}, legend_kw={'loc': 'upper left'})\n",
    "\n",
    "    # always select same section\n",
    "    xmin, ymin, xmax, ymax = df_stst_ons.to_crs(crs.proj4_init).total_bounds\n",
    "    pad = 1 * 1e5  # add a padding around the geometry\n",
    "    ax.set_xlim(xmin-pad, xmax+pad)\n",
    "    ax.set_ylim(ymin-pad, ymax+pad)\n",
    "\n",
    "    ax.set_title(f\"{carriers[i]}\", fontsize=14, **font1)\n",
    "\n",
    "fig.tight_layout()\n",
    "\n",
    "plt.close()\n",
    "plt.show()\n",
    "\n",
    "\n",
    "# fig.savefig(f\"{PLOT_DIR}/mv_el_con_{model}_map.png\")"
   ]
  },
  {
   "cell_type": "code",
   "execution_count": null,
   "metadata": {
    "pycharm": {
     "name": "#%%\n"
    }
   },
   "outputs": [],
   "source": [
    "c = \"urban central resistive heater\"\n",
    "df_stst_ons[[f\"{c}_mv_con_el_qt\", f\"{c}_con_el\"]].dropna().sort_values(by=f\"{c}_mv_con_el_qt\")\n",
    "# corr\n",
    "#df_stst_ons[f\"{c}_mv_con_el_qt\"].corr(abs(df_stst_ons[f\"{c}_con_el\"]))\n",
    "#df_stst_ons[f\"{c}_mv_con_el_qt\"][abs(df_stst_ons[f\"{c}_con_el\"]) > 70 *1e3]#.mean()"
   ]
  },
  {
   "cell_type": "code",
   "execution_count": null,
   "metadata": {
    "pycharm": {
     "name": "#%%\n"
    }
   },
   "outputs": [],
   "source": [
    "df_exp_ons[[f\"{c}_mv_con_el_qt\", f\"{c}_con_el\"]].dropna().sort_values(by=f\"{c}_mv_con_el_qt\")"
   ]
  },
  {
   "cell_type": "code",
   "execution_count": null,
   "metadata": {
    "pycharm": {
     "name": "#%%\n"
    }
   },
   "outputs": [],
   "source": [
    "\n",
    "df_exp_ons[[f\"{c}_mv_con_el_qt\", f\"{c}_con_el\"]].dropna().sort_values(by=f\"{c}_mv_con_el_qt\")\n"
   ]
  },
  {
   "cell_type": "code",
   "execution_count": null,
   "metadata": {
    "pycharm": {
     "name": "#%%\n"
    }
   },
   "outputs": [],
   "source": [
    "c = \"H2 Electrolysis\"\n",
    "df_stst_ons[[f\"{c}_mv_con_el_qt\",f\"{c}_cost_mv_el_qt\"]]"
   ]
  },
  {
   "cell_type": "code",
   "execution_count": null,
   "metadata": {
    "pycharm": {
     "name": "#%%\n"
    }
   },
   "outputs": [],
   "source": [
    "# consumption weighted market value\n",
    "c = \"battery charger\"\n",
    "((abs(df_stst_ons[f\"{c}_con_el\"]) / abs(df_stst_ons[f\"{c}_gen\"]).sum()) * df_stst_ons[f\"{c}_mv_gen_el_qt\"]).sum()\n",
    "((abs(df_exp_ons[f\"{c}_con_el\"]) / abs(df_exp_ons[f\"{c}_gen\"]).sum()) * df_exp_ons[f\"{c}_mv_gen_el_qt\"]).sum()"
   ]
  },
  {
   "cell_type": "code",
   "execution_count": null,
   "metadata": {
    "pycharm": {
     "name": "#%%\n"
    }
   },
   "outputs": [],
   "source": [
    "# Electricity consuming difference\n",
    "\n",
    "# market values across regions as map\n",
    "carriers = c_el_con_s\n",
    "\n",
    "for c in carriers:\n",
    "    # if one mv is nan the result is nan as well\n",
    "    if c in [\"offwind-dc\", \"offwind-ac\"]:\n",
    "        df_stst_off[f\"{c}_mv_con_el_qt_STST-EXP\"] = df_stst_off[f\"{c}_mv_con_el_qt\"] - df_exp_off[f\"{c}_mv_con_el_qt\"]\n",
    "    else:\n",
    "        df_stst_ons[f\"{c}_mv_con_el_qt_STST-EXP\"] = df_stst_ons[f\"{c}_mv_con_el_qt\"] - df_exp_ons[f\"{c}_mv_con_el_qt\"]\n",
    "\n",
    "fig, axs = plt.subplots(ncols=2, nrows=int(len(carriers)/2), subplot_kw={'projection': ccrs.EqualEarth()},\n",
    "                        figsize=(14, len(carriers)/2*6))\n",
    "crs = ccrs.EqualEarth()\n",
    "\n",
    "for i, ax in enumerate(axs.reshape(-1)):\n",
    "\n",
    "    if carriers[i] in [\"offwind-dc\", \"offwind-ac\"]:\n",
    "        df = df_stst_off\n",
    "        df_2 = df_exp_off\n",
    "    else:\n",
    "        df = df_stst_ons\n",
    "        df_2 = df_exp_ons\n",
    "\n",
    "    abs_max = max(abs(df[f\"{carriers[i]}_mv_con_el_qt_STST-EXP\"].max()) , abs(df[f\"{carriers[i]}_mv_con_el_qt_STST-EXP\"].max()))\n",
    "\n",
    "    ax.add_feature(cartopy.feature.BORDERS, edgecolor='black', linewidth=0.5)\n",
    "    ax.coastlines(edgecolor='black', linewidth=0.5)\n",
    "    ax.set_facecolor('white')\n",
    "    ax.add_feature(cartopy.feature.OCEAN, color='azure')\n",
    "\n",
    "    df.to_crs(crs.proj4_init).plot(column=f\"{carriers[i]}_mv_con_el_qt_STST-EXP\",\n",
    "                                   ax=ax,\n",
    "                                   cmap=plt.get_cmap('RdYlGn'),\n",
    "                                   vmax=abs_max,\n",
    "                                   vmin=-abs_max,\n",
    "                                   linewidth=0.05,\n",
    "                                   edgecolor = 'grey',\n",
    "                                   legend=True,\n",
    "                                   legend_kwds={'label':\"Purchasing prices differences ($€/MWh_{el}$)\",'orientation': \"vertical\",'shrink' : 0.9}\n",
    "                                   )\n",
    "\n",
    "    # difference in consumption (STST-EXP)\n",
    "    con_diff = abs(df[f\"{carriers[i]}_con_el\"]) - abs(df_2[f\"{carriers[i]}_con_el\"])\n",
    "    # red if negative and green if positive\n",
    "    colors = ['red' if (x < 0) else 'green' for x in con_diff ]\n",
    "\n",
    "    max_size = abs(con_diff).max()\n",
    "    df.to_crs(crs.proj4_init).centroid.plot(ax=ax, sizes=(abs(con_diff) / max_size) * 500,  color=colors, edgecolor=\"white\")\n",
    "    circle1 = Line2D([], [], color=\"white\", marker='o', markerfacecolor=\"green\", markeredgecolor=\"white\", markersize=10)\n",
    "    circle2 = Line2D([], [], color=\"white\", marker='o', markerfacecolor=\"red\", markeredgecolor=\"white\", markersize=10)\n",
    "    circle3 = Line2D([], [], color=\"white\", marker='o', markerfacecolor=\"white\", markeredgecolor=\"black\", markersize=10)\n",
    "\n",
    "    unit = \"TWh\" if max_size > 1e3 else \"GWh\"\n",
    "    max_size = max_size / 1e3 if max_size > 1e3 else max_size\n",
    "    ax.legend((circle1, circle2, circle3), ('Increased consumption in STST', 'Increased consumption in EXP', f\"max circle size: {round(max_size)} {unit}\"), numpoints=1, loc=\"upper left\")\n",
    "\n",
    "\n",
    "    # always select same section\n",
    "    xmin, ymin, xmax, ymax = df_stst_ons.to_crs(crs.proj4_init).total_bounds\n",
    "    pad = 1 * 1e5  # add a padding around the geometry\n",
    "    ax.set_xlim(xmin-pad, xmax+pad)\n",
    "    ax.set_ylim(ymin-pad, ymax+pad)\n",
    "\n",
    "    ax.set_title(f\"{carriers[i]} (STST - EXP)\", fontsize=14, **font1)\n",
    "\n",
    "# fig.suptitle(\"Spatial Differences in the electricity consumption of the VRE technologies (STST)\", fontsize=16, **font1)\n",
    "fig.tight_layout()\n",
    "\n",
    "plt.close()\n",
    "plt.show()\n",
    "\n",
    "\n",
    "#fig.savefig(f\"{PLOT_DIR}/mv_el_con_STST-EXP_map.png\")"
   ]
  },
  {
   "cell_type": "code",
   "execution_count": null,
   "metadata": {
    "pycharm": {
     "name": "#%%\n"
    }
   },
   "outputs": [],
   "source": [
    "c = \"urban central air heat pump\"\n",
    "i_it = df_stst_ons.index.str.contains(\"IT\")\n",
    "df_stst_ons[f\"{c}_mv_con_el_qt_STST-EXP\"].sort_values()\n",
    "df_stst_ons[f\"{c}_mv_con_el_qt_STST-EXP\"][i_it].mean()"
   ]
  },
  {
   "cell_type": "markdown",
   "metadata": {
    "pycharm": {
     "name": "#%% md\n"
    }
   },
   "source": [
    "### Value Factor Analysis"
   ]
  },
  {
   "cell_type": "code",
   "execution_count": null,
   "metadata": {
    "pycharm": {
     "name": "#%%\n"
    }
   },
   "outputs": [],
   "source": [
    "df_stst_ons.columns[df_stst_ons.columns.str.contains(\"lmp\")]\n"
   ]
  },
  {
   "cell_type": "code",
   "execution_count": null,
   "metadata": {
    "pycharm": {
     "name": "#%%\n"
    }
   },
   "outputs": [],
   "source": [
    "df_stst_ons[[f\"{c}_vf_gen_el\" for c in c_el_gen_s]]"
   ]
  },
  {
   "cell_type": "code",
   "execution_count": null,
   "metadata": {
    "pycharm": {
     "name": "#%%\n"
    }
   },
   "outputs": [],
   "source": [
    "# electricity consuming technologies\n",
    "\n",
    "# boxplot properties\n",
    "medianprops = dict(color=\"black\",linewidth=1.5)\n",
    "meanprops = {\"marker\":\"d\",\"markerfacecolor\":\"white\", \"markeredgecolor\":\"black\"}\n",
    "flierprops= {'marker': 'x', 'markersize': 5, 'markeredgecolor': 'black'}\n",
    "whiskerprops = dict(linestyle='-',linewidth=1.0, color='black')\n",
    "\n",
    "# data\n",
    "stst_el_con = df_stst_ons[[c + \"_vf_con_el_qt\" for c in c_el_con_s]]\n",
    "stst_el_con = stst_el_con.values\n",
    "exp_el_con = df_exp_ons[[c + \"_vf_con_el_qt\" for c in c_el_con_s]]\n",
    "exp_el_con = exp_el_con.values\n",
    "\n",
    "# Filter data using np.isnan\n",
    "mask_stst = ~np.isnan(stst_el_con)\n",
    "filtered_stst = [d[m] for d, m in zip(stst_el_con.T, mask_stst.T)]\n",
    "mask_exp = ~np.isnan(exp_el_con)\n",
    "filtered_exp = [d[m] for d, m in zip(exp_el_con.T, mask_exp.T)]\n",
    "\n",
    "ticks = [carrier_renaming.get(n, n) for n in c_el_con_s]\n",
    "index = c_el_con_s\n",
    "fig, ax = plt.subplots(figsize=(12, 6))\n",
    "\n",
    "stst_plot = plt.boxplot(filtered_stst,\n",
    "                        positions=np.array(np.arange(len(ticks)))*2.0-0.35,\n",
    "                        widths=0.6,\n",
    "                        patch_artist=True,\n",
    "                        showmeans=True,\n",
    "                        meanprops=meanprops,\n",
    "                        medianprops=medianprops,\n",
    "                        flierprops=flierprops,\n",
    "                        whiskerprops=whiskerprops\n",
    "                        )\n",
    "\n",
    "exp_plot = plt.boxplot(filtered_exp,\n",
    "                       positions=np.array(np.arange(len(ticks)))*2.0+0.35,\n",
    "                       widths=0.6,\n",
    "                       patch_artist=True,\n",
    "                       showmeans=True,\n",
    "                       meanprops=meanprops,\n",
    "                       medianprops=medianprops,\n",
    "                       flierprops=flierprops,\n",
    "                       whiskerprops=whiskerprops\n",
    "                       )\n",
    "\n",
    "# consumption weighted average\n",
    "cwa_vf_stst =np.multiply(df_stst_ons[[c + \"_vf_con_el_qt\" for c in c_el_con_s]], (abs(df_stst_ons[[c + \"_con_el\" for c in c_el_con_s]]) / abs(df_stst_ons[[c + \"_con_el\" for c in c_el_con_s]]).sum())).sum()\n",
    "cwa_vf_exp =np.multiply(df_exp_ons[[c + \"_vf_con_el_qt\" for c in c_el_con_s]], (abs(df_exp_ons[[c + \"_con_el\" for c in c_el_con_s]]) / abs(df_exp_ons[[c + \"_con_el\" for c in c_el_con_s]]).sum())).sum()\n",
    "ax.plot(np.array(np.arange(len(ticks)))*2.0-0.35, cwa_vf_stst.transpose(),\"x\", marker='*', color=\"red\", markersize= 10, markerfacecolor=\"white\", zorder=3)\n",
    "ax.plot(np.array(np.arange(len(ticks)))*2.0+0.35, cwa_vf_exp.transpose(),\"x\", marker='*', color=\"red\", markersize= 10, markerfacecolor=\"white\",zorder=4)\n",
    "\n",
    "for box, col in zip(stst_plot['boxes'],[carrier_colors[c] for c in index]):\n",
    "    # change outline color\n",
    "    box.set_facecolor(col)\n",
    "    box.set_linestyle('--')\n",
    "\n",
    "for box, col in zip(exp_plot['boxes'],[carrier_colors[c] for c in index]):\n",
    "    # change outline color\n",
    "    box.set_facecolor(col)\n",
    "\n",
    "# sample sizes\n",
    "for i, sample_size in enumerate(df_stst_ons[[f\"{i}_vf_con_el_qt\" for i in index]].count()):\n",
    "    ax.annotate(sample_size, xy=(0,0),  xycoords='axes fraction',\n",
    "        xytext=((i+0.4)/len(index),1), textcoords='axes fraction', color=\"blue\")\n",
    "\n",
    "#for i, sample_size in enumerate(df_exp_ons[[f\"{i}_vf_con_el_qt\" for i in index]].count()):\n",
    "#    ax.annotate(sample_size, xy=(0,0),  xycoords='axes fraction',\n",
    "#        xytext=((i+0.55)/len(index),1), textcoords='axes fraction', color=\"red\")\n",
    "\n",
    "# explanations\n",
    "plt.xticks(np.arange(0, len(ticks) * 2, 2), ticks)\n",
    "plt.ylabel(\"\")\n",
    "plt.xticks(rotation=90)\n",
    "plt.title(\"Value factors of electricity consuming technologies across the regions (STST vs. EXP)\", fontsize=16, pad=20,  **font1)\n",
    "\n",
    "# cosmetics\n",
    "ax.patch.set_facecolor('lightgrey')\n",
    "ax.patch.set_alpha(0.5)\n",
    "\n",
    "# horizontal lines\n",
    "ax.axhline(df_stst_ons[[c + \"_vf_con_el_qt\" for c in c_el_con_s]].mean().mean(), ls=\"--\", c='black',linewidth=0.5)\n",
    "ax.axhline(df_exp_ons[[c + \"_vf_con_el_qt\" for c in c_el_con_s]].mean().mean(), ls=\"-\", c='black', linewidth=0.5)\n",
    "\n",
    "# legend\n",
    "patch1 = matplotlib.patches.Patch(ls=\"--\", facecolor=\"white\", edgecolor=\"black\")\n",
    "patch2 = matplotlib.patches.Patch(ls=\"-\", facecolor=\"white\", edgecolor=\"black\")\n",
    "line1 = Line2D([0], [0], ls=\"--\", c='black', label=\"mean (STST)\", linewidth=0.5)\n",
    "line2 = Line2D([0], [0], ls=\"-\", c='black', label=\"mean (EXP)\", linewidth=0.5)\n",
    "ax.legend([patch1, patch2, line1, line2], ['STST', 'EXP', 'mean (STST)','mean (EXP)'], loc=\"upper left\")\n",
    "\n",
    "fig.tight_layout()\n",
    "plt.show()\n",
    "\n",
    "fig.savefig(f\"{PLOT_DIR}/vf_el_con_both_box.png\")"
   ]
  },
  {
   "cell_type": "code",
   "execution_count": null,
   "metadata": {
    "pycharm": {
     "name": "#%%\n"
    }
   },
   "outputs": [],
   "source": [
    "cwa_vf_stst.sort_values()"
   ]
  },
  {
   "cell_type": "code",
   "execution_count": null,
   "metadata": {
    "pycharm": {
     "name": "#%%\n"
    }
   },
   "outputs": [],
   "source": [
    "cwa_vf_exp.sort_values()"
   ]
  },
  {
   "cell_type": "code",
   "execution_count": null,
   "metadata": {
    "pycharm": {
     "name": "#%%\n"
    }
   },
   "outputs": [],
   "source": [
    "# electricity generating technologies\n",
    "\n",
    "# boxplot propertes\n",
    "medianprops = dict(color=\"black\",linewidth=1.5)\n",
    "meanprops = {\"marker\":\"d\",\"markerfacecolor\":\"white\", \"markeredgecolor\":\"black\"}\n",
    "flierprops= {'marker': 'x', 'markersize': 5, 'markeredgecolor': 'black'}\n",
    "whiskerprops = dict(linestyle='-',linewidth=1.0, color='black')\n",
    "\n",
    "# data\n",
    "stst_el_gen = df_stst_ons[[f\"{c}_vf_gen_el_qt\" for c in c_el_gen_s]]\n",
    "stst_el_gen = stst_el_gen.values\n",
    "exp_el_gen = df_exp_ons[[f\"{c}_vf_gen_el_qt\" for c in c_el_gen_s]]\n",
    "exp_el_gen = exp_el_gen.values\n",
    "\n",
    "# Filter data using np.isnan\n",
    "mask_stst = ~np.isnan(stst_el_gen)\n",
    "filtered_stst = [d[m] for d, m in zip(stst_el_gen.T, mask_stst.T)]\n",
    "mask_exp = ~np.isnan(exp_el_gen)\n",
    "filtered_exp = [d[m] for d, m in zip(exp_el_gen.T, mask_exp.T)]\n",
    "\n",
    "ticks = [carrier_renaming.get(n, n) for n in c_el_gen_s]\n",
    "index = c_el_gen_s\n",
    "fig, ax = plt.subplots(figsize=(12, 6))\n",
    "\n",
    "stst_plot = plt.boxplot(filtered_stst,\n",
    "                        positions=np.array(np.arange(len(ticks)))*2.0-0.35,\n",
    "                        widths=0.6,\n",
    "                        patch_artist=True,\n",
    "                        showmeans=True,\n",
    "                        meanprops=meanprops,\n",
    "                        medianprops=medianprops,\n",
    "                        flierprops=flierprops,\n",
    "                        whiskerprops=whiskerprops\n",
    "                        )\n",
    "\n",
    "exp_plot = plt.boxplot(filtered_exp,\n",
    "                       positions=np.array(np.arange(len(ticks)))*2.0+0.35,\n",
    "                       widths=0.6,\n",
    "                       patch_artist=True,\n",
    "                       showmeans=True,\n",
    "                       meanprops=meanprops,\n",
    "                       medianprops=medianprops,\n",
    "                       flierprops=flierprops,\n",
    "                       whiskerprops=whiskerprops\n",
    "                       )\n",
    "\n",
    "\n",
    "# generation weighted average\n",
    "gwa_vf_stst =np.multiply(df_stst_ons[[c + \"_vf_gen_el_qt\" for c in c_el_gen_s]], (df_stst_ons[[c + \"_gen_el\" for c in c_el_gen_s]] / df_stst_ons[[c + \"_gen_el\" for c in c_el_gen_s]].sum())).sum()\n",
    "gwa_vf_exp =np.multiply(df_exp_ons[[c + \"_vf_gen_el_qt\" for c in c_el_gen_s]], (df_exp_ons[[c + \"_gen_el\" for c in c_el_gen_s]] / df_exp_ons[[c + \"_gen_el\" for c in c_el_gen_s]].sum())).sum()\n",
    "ax.plot(np.array(np.arange(len(ticks)))*2.0-0.35, gwa_vf_stst.transpose(),\"x\", marker='*', color=\"red\", markersize= 10, markerfacecolor=\"white\", zorder=3)\n",
    "ax.plot(np.array(np.arange(len(ticks)))*2.0+0.35, gwa_vf_exp.transpose(),\"x\", marker='*', color=\"red\", markersize= 10, markerfacecolor=\"white\",zorder=4)\n",
    "\n",
    "\n",
    "for box, col in zip(stst_plot['boxes'],[carrier_colors[c] for c in index]):\n",
    "    # change outline color\n",
    "    box.set_facecolor(col)\n",
    "    box.set_linestyle('--')\n",
    "\n",
    "for box, col in zip(exp_plot['boxes'],[carrier_colors[c] for c in index]):\n",
    "    # change outline color\n",
    "    box.set_facecolor(col)\n",
    "\n",
    "# sample sizes\n",
    "for i, sample_size in enumerate(df_stst_ons[[f\"{i}_vf_gen_el_qt\" for i in index]].count()):\n",
    "    ax.annotate(sample_size, xy=(0,0),  xycoords='axes fraction',\n",
    "        xytext=((i+0.35)/len(index),1), textcoords='axes fraction', color=\"blue\")\n",
    "\n",
    "#for i, sample_size in enumerate(df_exp_ons[[f\"{i}_vf_gen_el_qt\" for i in index]].count()):\n",
    "#    ax.annotate(sample_size, xy=(0,0),  xycoords='axes fraction',\n",
    "#        xytext=((i+0.55)/len(index),1), textcoords='axes fraction', color=\"red\")\n",
    "\n",
    "# explanations\n",
    "plt.xticks(np.arange(0, len(ticks) * 2, 2), ticks)\n",
    "plt.ylabel(\"\")\n",
    "plt.xticks(rotation=90)\n",
    "plt.title(\"Value factors of electricity generating technologies across the regions (STST vs. EXP)\", fontsize=16, pad=20,  **font1)\n",
    "\n",
    "# cosmetics\n",
    "ax.patch.set_facecolor('lightgrey')\n",
    "ax.patch.set_alpha(0.5)\n",
    "\n",
    "# horizontal lines\n",
    "ax.axhline(df_stst_ons[[c + \"_vf_gen_el_qt\" for c in c_el_gen_s]].mean().mean(), ls=\"--\", c='black',linewidth=0.5)\n",
    "ax.axhline(df_exp_ons[[c + \"_vf_gen_el_qt\" for c in c_el_gen_s]].mean().mean(), ls=\"-\", c='black', linewidth=0.5)\n",
    "\n",
    "# legend\n",
    "patch1 = matplotlib.patches.Patch(ls=\"--\", facecolor=\"white\", edgecolor=\"black\")\n",
    "patch2 = matplotlib.patches.Patch(ls=\"-\", facecolor=\"white\", edgecolor=\"black\")\n",
    "line1 = Line2D([0], [0], ls=\"--\", c='black', label=\"mean (STST)\", linewidth=0.5)\n",
    "line2 = Line2D([0], [0], ls=\"-\", c='black', label=\"mean (EXP)\", linewidth=0.5)\n",
    "ax.legend([patch1, patch2, line1, line2], ['STST', 'EXP', 'mean (STST)','mean (EXP)'])\n",
    "ax.set_ylim([0,4])\n",
    "\n",
    "fig.tight_layout()\n",
    "plt.show()\n",
    "\n",
    "#fig.savefig(f\"{PLOT_DIR}/vf_el_gen_both_box.png\")"
   ]
  },
  {
   "cell_type": "code",
   "execution_count": null,
   "metadata": {
    "pycharm": {
     "name": "#%%\n"
    }
   },
   "outputs": [],
   "source": [
    "gwa_vf_stst.sort_values()"
   ]
  },
  {
   "cell_type": "code",
   "execution_count": null,
   "metadata": {
    "pycharm": {
     "name": "#%%\n"
    }
   },
   "outputs": [],
   "source": [
    "gwa_vf_exp.sort_values()"
   ]
  },
  {
   "cell_type": "code",
   "execution_count": null,
   "metadata": {
    "pycharm": {
     "name": "#%%\n"
    }
   },
   "outputs": [],
   "source": [
    "# electricity generating technologies\n",
    "\n",
    "# boxplot propertes\n",
    "medianprops = dict(color=\"black\",linewidth=1.5)\n",
    "meanprops = {\"marker\":\"d\",\"markerfacecolor\":\"white\", \"markeredgecolor\":\"black\"}\n",
    "flierprops= {'marker': 'x', 'markersize': 5, 'markeredgecolor': 'black'}\n",
    "whiskerprops = dict(linestyle='-',linewidth=1.0, color='black')\n",
    "\n",
    "# data\n",
    "stst_el_gen = df_stst_ons[[f\"{c}_mv-lmp_gen_el_qt\" for c in c_el_gen_s]]\n",
    "stst_el_gen = stst_el_gen.values\n",
    "exp_el_gen = df_exp_ons[[f\"{c}_mv-lmp_gen_el_qt\" for c in c_el_gen_s]]\n",
    "exp_el_gen = exp_el_gen.values\n",
    "\n",
    "# Filter data using np.isnan\n",
    "mask_stst = ~np.isnan(stst_el_gen)\n",
    "filtered_stst = [d[m] for d, m in zip(stst_el_gen.T, mask_stst.T)]\n",
    "mask_exp = ~np.isnan(exp_el_gen)\n",
    "filtered_exp = [d[m] for d, m in zip(exp_el_gen.T, mask_exp.T)]\n",
    "\n",
    "ticks = [carrier_renaming.get(n, n) for n in c_el_gen_s]\n",
    "index = c_el_gen_s\n",
    "fig, ax = plt.subplots(figsize=(12, 6))\n",
    "\n",
    "stst_plot = plt.boxplot(filtered_stst,\n",
    "                        positions=np.array(np.arange(len(ticks)))*2.0-0.35,\n",
    "                        widths=0.6,\n",
    "                        patch_artist=True,\n",
    "                        showmeans=True,\n",
    "                        meanprops=meanprops,\n",
    "                        medianprops=medianprops,\n",
    "                        flierprops=flierprops,\n",
    "                        whiskerprops=whiskerprops\n",
    "                        )\n",
    "\n",
    "exp_plot = plt.boxplot(filtered_exp,\n",
    "                       positions=np.array(np.arange(len(ticks)))*2.0+0.35,\n",
    "                       widths=0.6,\n",
    "                       patch_artist=True,\n",
    "                       showmeans=True,\n",
    "                       meanprops=meanprops,\n",
    "                       medianprops=medianprops,\n",
    "                       flierprops=flierprops,\n",
    "                       whiskerprops=whiskerprops\n",
    "                       )\n",
    "\n",
    "\n",
    "# generation weighted average\n",
    "gwa_mv_lmp_stst =np.multiply(df_stst_ons[[c + \"_mv-lmp_gen_el_qt\" for c in c_el_gen_s]], (df_stst_ons[[c + \"_gen_el\" for c in c_el_gen_s]] / df_stst_ons[[c + \"_gen_el\" for c in c_el_gen_s]].sum())).sum()\n",
    "gwa_mv_lmp_exp =np.multiply(df_exp_ons[[c + \"_mv-lmp_gen_el_qt\" for c in c_el_gen_s]], (df_exp_ons[[c + \"_gen_el\" for c in c_el_gen_s]] / df_exp_ons[[c + \"_gen_el\" for c in c_el_gen_s]].sum())).sum()\n",
    "ax.plot(np.array(np.arange(len(ticks)))*2.0-0.35, gwa_mv_lmp_stst.transpose(),\"x\", marker='*', color=\"red\", markersize= 10, markerfacecolor=\"white\", zorder=3)\n",
    "ax.plot(np.array(np.arange(len(ticks)))*2.0+0.35, gwa_mv_lmp_exp.transpose(),\"x\", marker='*', color=\"red\", markersize= 10, markerfacecolor=\"white\",zorder=4)\n",
    "\n",
    "\n",
    "for box, col in zip(stst_plot['boxes'],[carrier_colors[c] for c in index]):\n",
    "    # change outline color\n",
    "    box.set_facecolor(col)\n",
    "    box.set_linestyle('--')\n",
    "\n",
    "for box, col in zip(exp_plot['boxes'],[carrier_colors[c] for c in index]):\n",
    "    # change outline color\n",
    "    box.set_facecolor(col)\n",
    "\n",
    "# sample sizes\n",
    "for i, sample_size in enumerate(df_stst_ons[[f\"{i}_mv-lmp_gen_el_qt\" for i in index]].count()):\n",
    "    ax.annotate(sample_size, xy=(0,0),  xycoords='axes fraction',\n",
    "        xytext=((i+0.35)/len(index),1), textcoords='axes fraction', color=\"blue\")\n",
    "\n",
    "#for i, sample_size in enumerate(df_exp_ons[[f\"{i}_mv-lmp_gen_el_qt\" for i in index]].count()):\n",
    "#    ax.annotate(sample_size, xy=(0,0),  xycoords='axes fraction',\n",
    "#        xytext=((i+0.55)/len(index),1), textcoords='axes fraction', color=\"red\")\n",
    "\n",
    "# explanations\n",
    "plt.xticks(np.arange(0, len(ticks) * 2, 2), ticks)\n",
    "plt.ylabel(\"\")\n",
    "plt.xticks(rotation=90)\n",
    "# plt.title(\"Market values of electricity generating technologies across the regions (STST vs. EXP)\", fontsize=16, pad=20,  **font1)\n",
    "\n",
    "# cosmetics\n",
    "ax.patch.set_facecolor('lightgrey')\n",
    "ax.patch.set_alpha(0.5)\n",
    "\n",
    "# horizontal lines\n",
    "ax.axhline(df_stst_ons[[c + \"_mv-lmp_gen_el_qt\" for c in c_el_gen_s]].mean().mean(), ls=\"--\", c='black',linewidth=0.5)\n",
    "ax.axhline(df_exp_ons[[c + \"_mv-lmp_gen_el_qt\" for c in c_el_gen_s]].mean().mean(), ls=\"-\", c='black', linewidth=0.5)\n",
    "\n",
    "# legend\n",
    "patch1 = matplotlib.patches.Patch(ls=\"--\", facecolor=\"white\", edgecolor=\"black\")\n",
    "patch2 = matplotlib.patches.Patch(ls=\"-\", facecolor=\"white\", edgecolor=\"black\")\n",
    "line1 = Line2D([0], [0], ls=\"--\", c='black', label=\"mean (STST)\", linewidth=0.5)\n",
    "line2 = Line2D([0], [0], ls=\"-\", c='black', label=\"mean (EXP)\", linewidth=0.5)\n",
    "ax.legend([patch1, patch2, line1, line2], ['STST', 'EXP', 'mean (STST)','mean (EXP)'])\n",
    "#ax.set_ylim([0,4])\n",
    "\n",
    "fig.tight_layout()\n",
    "plt.show()\n",
    "\n",
    "#fig.savefig(f\"{PLOT_DIR}/mv-lmp_el_gen_both_box.png\")"
   ]
  },
  {
   "cell_type": "code",
   "execution_count": null,
   "metadata": {
    "pycharm": {
     "name": "#%%\n"
    }
   },
   "outputs": [],
   "source": [
    "# electricity consuming technologies\n",
    "\n",
    "# boxplot properties\n",
    "medianprops = dict(color=\"black\",linewidth=1.5)\n",
    "meanprops = {\"marker\":\"d\",\"markerfacecolor\":\"white\", \"markeredgecolor\":\"black\"}\n",
    "flierprops= {'marker': 'x', 'markersize': 5, 'markeredgecolor': 'black'}\n",
    "whiskerprops = dict(linestyle='-',linewidth=1.0, color='black')\n",
    "\n",
    "# data\n",
    "stst_el_con = df_stst_ons[[c + \"_mv-lmp_con_el_qt\" for c in c_el_con_s]]\n",
    "stst_el_con = stst_el_con.values\n",
    "exp_el_con = df_exp_ons[[c + \"_mv-lmp_con_el_qt\" for c in c_el_con_s]]\n",
    "exp_el_con = exp_el_con.values\n",
    "\n",
    "# Filter data using np.isnan\n",
    "mask_stst = ~np.isnan(stst_el_con)\n",
    "filtered_stst = [d[m] for d, m in zip(stst_el_con.T, mask_stst.T)]\n",
    "mask_exp = ~np.isnan(exp_el_con)\n",
    "filtered_exp = [d[m] for d, m in zip(exp_el_con.T, mask_exp.T)]\n",
    "\n",
    "ticks = [carrier_renaming.get(n, n) for n in c_el_con_s]\n",
    "index = c_el_con_s\n",
    "fig, ax = plt.subplots(figsize=(12, 6))\n",
    "\n",
    "stst_plot = plt.boxplot(filtered_stst,\n",
    "                        positions=np.array(np.arange(len(ticks)))*2.0-0.35,\n",
    "                        widths=0.6,\n",
    "                        patch_artist=True,\n",
    "                        showmeans=True,\n",
    "                        meanprops=meanprops,\n",
    "                        medianprops=medianprops,\n",
    "                        flierprops=flierprops,\n",
    "                        whiskerprops=whiskerprops\n",
    "                        )\n",
    "\n",
    "exp_plot = plt.boxplot(filtered_exp,\n",
    "                       positions=np.array(np.arange(len(ticks)))*2.0+0.35,\n",
    "                       widths=0.6,\n",
    "                       patch_artist=True,\n",
    "                       showmeans=True,\n",
    "                       meanprops=meanprops,\n",
    "                       medianprops=medianprops,\n",
    "                       flierprops=flierprops,\n",
    "                       whiskerprops=whiskerprops\n",
    "                       )\n",
    "\n",
    "# consumption weighted average\n",
    "cwa_mv_lmp_stst =np.multiply(df_stst_ons[[c + \"_mv-lmp_con_el_qt\" for c in c_el_con_s]], (abs(df_stst_ons[[c + \"_con_el\" for c in c_el_con_s]]) / abs(df_stst_ons[[c + \"_con_el\" for c in c_el_con_s]]).sum())).sum()\n",
    "cwa_mv_lmp_exp =np.multiply(df_exp_ons[[c + \"_mv-lmp_con_el_qt\" for c in c_el_con_s]], (abs(df_exp_ons[[c + \"_con_el\" for c in c_el_con_s]]) / abs(df_exp_ons[[c + \"_con_el\" for c in c_el_con_s]]).sum())).sum()\n",
    "ax.plot(np.array(np.arange(len(ticks)))*2.0-0.35, cwa_mv_lmp_stst.transpose(),\"x\", marker='*', color=\"red\", markersize= 10, markerfacecolor=\"white\", zorder=3)\n",
    "ax.plot(np.array(np.arange(len(ticks)))*2.0+0.35, cwa_mv_lmp_exp.transpose(),\"x\", marker='*', color=\"red\", markersize= 10, markerfacecolor=\"white\",zorder=4)\n",
    "\n",
    "for box, col in zip(stst_plot['boxes'],[carrier_colors[c] for c in index]):\n",
    "    # change outline color\n",
    "    box.set_facecolor(col)\n",
    "    box.set_linestyle('--')\n",
    "\n",
    "for box, col in zip(exp_plot['boxes'],[carrier_colors[c] for c in index]):\n",
    "    # change outline color\n",
    "    box.set_facecolor(col)\n",
    "\n",
    "# sample sizes\n",
    "for i, sample_size in enumerate(df_stst_ons[[f\"{i}_mv-lmp_con_el_qt\" for i in index]].count()):\n",
    "    ax.annotate(sample_size, xy=(0,0),  xycoords='axes fraction',\n",
    "        xytext=((i+0.4)/len(index),1), textcoords='axes fraction', color=\"blue\")\n",
    "\n",
    "#for i, sample_size in enumerate(df_exp_ons[[f\"{i}_mv-lmp_con_el_qt\" for i in index]].count()):\n",
    "#    ax.annotate(sample_size, xy=(0,0),  xycoords='axes fraction',\n",
    "#        xytext=((i+0.55)/len(index),1), textcoords='axes fraction', color=\"red\")\n",
    "\n",
    "# explanations\n",
    "plt.xticks(np.arange(0, len(ticks) * 2, 2), ticks)\n",
    "plt.ylabel(\"\")\n",
    "plt.xticks(rotation=90)\n",
    "# plt.title(\"Market values of electricity consuming technologies across the regions (STST vs. EXP)\", fontsize=16, pad=20,  **font1)\n",
    "\n",
    "# cosmetics\n",
    "ax.patch.set_facecolor('lightgrey')\n",
    "ax.patch.set_alpha(0.5)\n",
    "\n",
    "# horizontal lines\n",
    "ax.axhline(df_stst_ons[[c + \"_mv-lmp_con_el_qt\" for c in c_el_con_s]].mean().mean(), ls=\"--\", c='black',linewidth=0.5)\n",
    "ax.axhline(df_exp_ons[[c + \"_mv-lmp_con_el_qt\" for c in c_el_con_s]].mean().mean(), ls=\"-\", c='black', linewidth=0.5)\n",
    "\n",
    "# legend\n",
    "patch1 = matplotlib.patches.Patch(ls=\"--\", facecolor=\"white\", edgecolor=\"black\")\n",
    "patch2 = matplotlib.patches.Patch(ls=\"-\", facecolor=\"white\", edgecolor=\"black\")\n",
    "line1 = Line2D([0], [0], ls=\"--\", c='black', label=\"mean (STST)\", linewidth=0.5)\n",
    "line2 = Line2D([0], [0], ls=\"-\", c='black', label=\"mean (EXP)\", linewidth=0.5)\n",
    "ax.legend([patch1, patch2, line1, line2], ['STST', 'EXP', 'mean (STST)','mean (EXP)'], loc=\"upper left\")\n",
    "\n",
    "fig.tight_layout()\n",
    "plt.show()\n",
    "\n",
    "#fig.savefig(f\"{PLOT_DIR}/mv-lmp_el_con_both_box.png\")"
   ]
  },
  {
   "cell_type": "markdown",
   "metadata": {
    "pycharm": {
     "name": "#%% md\n"
    }
   },
   "source": [
    "### Congestion rent"
   ]
  },
  {
   "cell_type": "markdown",
   "metadata": {
    "pycharm": {
     "name": "#%% md\n"
    }
   },
   "source": [
    "## Temporal Differences (4.3.3)"
   ]
  },
  {
   "cell_type": "markdown",
   "metadata": {
    "pycharm": {
     "name": "#%% md\n"
    }
   },
   "source": [
    "### Nodal prices per time step"
   ]
  },
  {
   "cell_type": "code",
   "execution_count": null,
   "metadata": {
    "pycharm": {
     "name": "#%%\n"
    }
   },
   "outputs": [],
   "source": [
    "stst.buses.carrier.unique().tolist()"
   ]
  },
  {
   "cell_type": "code",
   "execution_count": null,
   "metadata": {
    "pycharm": {
     "name": "#%%\n"
    }
   },
   "outputs": [],
   "source": [
    "carriers = [ \"AC\", \"low voltage\", \"battery\", \"Li ion\"]\n",
    "model = \"STST\"\n",
    "\n",
    "if model == \"STST\":\n",
    "    n = stst\n",
    "\n",
    "elif model == \"EXP\":\n",
    "    n = exp\n",
    "\n",
    "fig, axs = plt.subplots(ncols=2, nrows=2, figsize=(16, 9))\n",
    "\n",
    "for i, ax in enumerate(axs.reshape(-1)):\n",
    "\n",
    "    # change to mean for investigating in mean (unit: €/MWh)\n",
    "    df = pd.DataFrame(n.buses_t.marginal_price[n.buses[n.buses.carrier==carriers[i]].index].mean(axis=1))\n",
    "\n",
    "    hours = df.index.hour.unique()[::-1]\n",
    "    df_start = pd.DataFrame(index=pd.Index(df.index.date).unique())\n",
    "\n",
    "    for hour in hours:\n",
    "        df_start[str(hour)] = df[df.index.hour==hour].values\n",
    "\n",
    "    sns.heatmap(df_start.transpose(),\n",
    "                ax =ax,\n",
    "                cmap=plt.get_cmap(\"magma_r\"),\n",
    "                linewidth=0.001,\n",
    "                xticklabels=15,\n",
    "                cbar_kws={'label': \"lmps ($€/MWh_{el}$)\", 'pad': 0.09})\n",
    "    ax.set_title(f\"{carriers[i]}\", fontsize=16, **font1)\n",
    "    ax.set_ylabel(\"hour of the day\", fontsize=12, **font1)\n",
    "    ax.set_xlabel(\"day of the year\", fontsize=12, **font1)\n",
    "\n",
    "    # Rewrite the y labels\n",
    "    x_labels = ax.get_xticks()\n",
    "    ax.xaxis.set_major_formatter(matplotlib.dates.DateFormatter('%d-%b'))\n",
    "\n",
    "fig.suptitle(f\"Locational marginal prices for electricity buses ({model})\", fontsize=16, **font1)\n",
    "fig.tight_layout(pad=1)\n",
    "plt.show()\n",
    "\n",
    "# fig.savefig(f\"{PLOT_DIR}/lmp_heatmap_{model}.png\")"
   ]
  },
  {
   "cell_type": "code",
   "execution_count": null,
   "metadata": {
    "pycharm": {
     "name": "#%%\n"
    }
   },
   "outputs": [],
   "source": [
    "# average prices\n",
    "# STST: AC: 92.12; low voltage: 97.55; battery: 93.12; Li-ion: 102.81\n",
    "# EXP: AC: 75.31; low voltage: 80.74; battery: 75.91; Li-ion: 85.61\n",
    "c = \"AC\"\n",
    "n = exp\n",
    "n.buses_t.marginal_price.loc[: , n.buses.carrier == c].mean().mean()"
   ]
  },
  {
   "cell_type": "code",
   "execution_count": null,
   "metadata": {
    "pycharm": {
     "name": "#%%\n"
    }
   },
   "outputs": [],
   "source": [
    "c = \"AC\""
   ]
  },
  {
   "cell_type": "code",
   "execution_count": null,
   "metadata": {
    "pycharm": {
     "name": "#%%\n"
    }
   },
   "outputs": [],
   "source": [
    "from sklearn import preprocessing\n",
    "\n",
    "sns.distplot(stst.buses_t.marginal_price.loc[: , stst.buses.carrier == c].dropna().values.reshape(1, -1), hist=False, rug=True, label=\"stst\")\n",
    "sns.distplot(exp.buses_t.marginal_price.loc[: , exp.buses.carrier == c].dropna().values.reshape(1, -1), hist=False, rug=True, label=\"exp\")\n",
    "\n",
    "plt.legend()\n",
    "plt.show()"
   ]
  },
  {
   "cell_type": "code",
   "execution_count": null,
   "metadata": {
    "pycharm": {
     "name": "#%%\n"
    }
   },
   "outputs": [],
   "source": [
    "for c in carriers:\n",
    "    print(c)\n",
    "    print(np.std(stst.buses_t.marginal_price.loc[: , stst.buses.carrier == c].values.reshape(1, -1)))\n",
    "    print(np.std(exp.buses_t.marginal_price.loc[: , exp.buses.carrier == c].values.reshape(1, -1)))"
   ]
  },
  {
   "cell_type": "code",
   "execution_count": null,
   "metadata": {
    "pycharm": {
     "name": "#%%\n"
    }
   },
   "outputs": [],
   "source": [
    "#stst.buses_t.marginal_price.loc[: , stst.buses.carrier == c].values.reshape(1, -1).sort()\n",
    "#exp.buses_t.marginal_price.loc[: , exp.buses.carrier == c].values.reshape(1, -1).sort()\n",
    "\n",
    "np.sort(stst.buses_t.marginal_price.loc[: , stst.buses.carrier == c], axis=None)\n",
    "np.sort(exp.buses_t.marginal_price.loc[: , exp.buses.carrier == c], axis=None)"
   ]
  },
  {
   "cell_type": "code",
   "execution_count": null,
   "metadata": {
    "pycharm": {
     "name": "#%%\n"
    }
   },
   "outputs": [],
   "source": [
    "np.std(exp.buses_t.marginal_price.loc[: , exp.buses.carrier == c].values.reshape(1, -1))"
   ]
  },
  {
   "cell_type": "markdown",
   "metadata": {
    "pycharm": {
     "name": "#%% md\n"
    }
   },
   "source": [
    "### Price duration curves"
   ]
  },
  {
   "cell_type": "code",
   "execution_count": null,
   "metadata": {
    "pycharm": {
     "name": "#%%\n"
    }
   },
   "outputs": [],
   "source": [
    "# get lmps of selected buses\n",
    "lmp_stst = pd.DataFrame(index=stst.buses_t.marginal_price.index)\n",
    "lmp_exp = pd.DataFrame(index=exp.buses_t.marginal_price.index)\n",
    "c_buses_el = [ \"AC\", \"low voltage\", \"battery\", \"Li ion\"]\n",
    "\n",
    "for c in c_buses_el:\n",
    "    lmp_stst[c]= stst.buses_t.marginal_price.loc[:, stst.buses.carrier == c].mean(axis=1)\n",
    "    lmp_exp[c]= exp.buses_t.marginal_price.loc[:, exp.buses.carrier == c].mean(axis=1)"
   ]
  },
  {
   "cell_type": "code",
   "execution_count": null,
   "metadata": {
    "pycharm": {
     "name": "#%%\n"
    }
   },
   "outputs": [],
   "source": [
    "set_xlim = False\n",
    "set_ylim = not set_xlim\n",
    "\n",
    "bus_colors_stst = { \"AC\": 'darkslategrey',\n",
    "               \"low voltage\": 'cadetblue',\n",
    "               'battery': 'greenyellow',\n",
    "               'Li ion': 'hotpink'\n",
    "               }\n",
    "\n",
    "bus_colors_exp = { \"AC\": 'cadetblue',\n",
    "               \"low voltage\": 'darkslategrey',\n",
    "               'battery': 'hotpink',\n",
    "               'Li ion': 'greenyellow'\n",
    "               }\n",
    "\n",
    "fig, axs = plt.subplots(ncols=2, nrows=2, figsize=(14, 8))\n",
    "\n",
    "for c, ax in zip(c_buses_el, axs.reshape(-1)):\n",
    "    duration_curve = pd.DataFrame(np.sort(stst.buses_t.marginal_price.loc[: , stst.buses.carrier == c], axis=None)[::-1]).set_index(pd.Index(np.linspace(0, 1, num=181*2920)))\n",
    "    ax.plot(duration_curve, label=f\"{c} (stst)\", color=\"cadetblue\")\n",
    "    duration_curve = pd.DataFrame(np.sort(exp.buses_t.marginal_price.loc[: , exp.buses.carrier == c], axis=None)[::-1]).set_index(pd.Index(np.linspace(0, 1, num=181*2920)))\n",
    "    ax.plot(duration_curve, label=f\"{c} (exp)\", color=\"hotpink\")\n",
    "    ax.legend()\n",
    "    ax.set_title(f\"{c}\", fontsize=16, **font1)\n",
    "\n",
    "    if set_xlim:\n",
    "        ax.set_xlim([0, 0.02])\n",
    "        lim_str = \"xlim=0.02\"\n",
    "    elif set_ylim:\n",
    "        ax.set_ylim([-100,400])\n",
    "        lim_str = \"ylim=400\"\n",
    "\n",
    "    ax.set_ylabel(\"Lmp ($€/MWh_{el}$)\")\n",
    "    ax.set_xlabel(\"Fraction of total time\")\n",
    "\n",
    "fig.suptitle(f\"Price duration curves of electricity buses ({lim_str})\", fontsize=20, **font1)\n",
    "fig.tight_layout()\n",
    "plt.show()\n",
    "\n",
    "#fig.savefig(f\"{PLOT_DIR}/lmp_el_price_dur_{lim_str}.png\")"
   ]
  },
  {
   "cell_type": "code",
   "execution_count": null,
   "metadata": {
    "pycharm": {
     "name": "#%%\n"
    }
   },
   "outputs": [],
   "source": [
    "from scipy import stats\n",
    "\n",
    "df_exp_lmp = pd.DataFrame(np.sort(exp.buses_t.marginal_price.loc[: , exp.buses.carrier == \"AC\"], axis=None)[::-1])\n",
    "df_stst_lmp = pd.DataFrame(np.sort(stst.buses_t.marginal_price.loc[: , stst.buses.carrier == \"AC\"], axis=None)[::-1])\n",
    "\n",
    "#df_stst_lmp[df_stst_lmp < 0].dropna()\n",
    "#df_exp_lmp[df_exp_lmp < 0].dropna()\n",
    "#df_stst_lmp.max()\n",
    "#df_exp_lmp.max()\n",
    "\n",
    "# STST: 338 (< 0); 2674 (>400); 1286 (>1000);311 (>1500); 193 (>2000); 9 (>2500); 0 (>3000)\n",
    "# EXP : 497 (< 0); 3054 (>400); 986 (>1000); 674 (>1500); 3 (>2000); 0 (>2500); 0 (>3000)"
   ]
  },
  {
   "cell_type": "code",
   "execution_count": null,
   "metadata": {
    "pycharm": {
     "name": "#%%\n"
    }
   },
   "outputs": [],
   "source": [
    "stst.buses_t.marginal_price.loc[: , stst.buses.carrier == \"AC\"].sum(axis=1).idxmax()"
   ]
  },
  {
   "cell_type": "code",
   "execution_count": null,
   "metadata": {
    "pycharm": {
     "name": "#%%\n"
    }
   },
   "outputs": [],
   "source": [
    "# date with the highest sum of lmps: \"2013-01-25 03:00:00\"\n",
    "stst.buses_t.marginal_price.loc[: , stst.buses.carrier == \"AC\"].loc[\"2013-01-25 03:00:00\"].sum()\n",
    "# date with the lowest sum of lmps: '2013-04-18 12:00:00'\n",
    "stst.buses_t.marginal_price.loc[: , stst.buses.carrier == \"AC\"].loc['2013-04-18 12:00:00'].sum()"
   ]
  },
  {
   "cell_type": "code",
   "execution_count": null,
   "metadata": {
    "pycharm": {
     "name": "#%%\n"
    }
   },
   "outputs": [],
   "source": [
    "df_stst_ons[\"AC_lmp_sum_max\"] = stst.buses_t.marginal_price.loc[: , stst.buses.carrier == \"AC\"].loc[\"2013-01-25 03:00:00\"]\n",
    "df_stst_ons[\"AC_lmp_sum_min\"] = stst.buses_t.marginal_price.loc[: , stst.buses.carrier == \"AC\"].loc['2013-04-18 12:00:00']"
   ]
  },
  {
   "cell_type": "code",
   "execution_count": null,
   "metadata": {
    "pycharm": {
     "name": "#%%\n"
    }
   },
   "outputs": [],
   "source": [
    "carriers = [\"AC_lmp_sum_min\", \"AC_lmp_sum_max\"]\n",
    "df = df_stst_ons\n",
    "\n",
    "fig, axs = plt.subplots(ncols=2, nrows=1, subplot_kw={'projection': ccrs.EqualEarth()},figsize=(18, 8))\n",
    "crs = ccrs.EqualEarth()\n",
    "\n",
    "for i, ax in enumerate(axs):\n",
    "\n",
    "    ax.add_feature(cartopy.feature.BORDERS, edgecolor='black', linewidth=0.5)\n",
    "    ax.coastlines(edgecolor='black', linewidth=0.5)\n",
    "    ax.set_facecolor('white')\n",
    "    ax.add_feature(cartopy.feature.OCEAN, color='azure')\n",
    "\n",
    "    df.to_crs(crs.proj4_init).plot(column=f\"{carriers[i]}\",\n",
    "                                   ax=ax,\n",
    "                                   cmap=plt.get_cmap(\"magma_r\"),\n",
    "                                   linewidth=0.05,\n",
    "                                   edgecolor = 'grey',\n",
    "                                   legend=True,\n",
    "                                   legend_kwds={'label':\"market values ($€/MWh_{el}$)\",'orientation': \"vertical\",'shrink' : 0.9}\n",
    "                                   )\n",
    "\n",
    "    # always select same section\n",
    "    xmin, ymin, xmax, ymax = df_stst_ons.to_crs(crs.proj4_init).total_bounds\n",
    "    pad = 1 * 1e5  # add a padding around the geometry\n",
    "    ax.set_xlim(xmin-pad, xmax+pad)\n",
    "    ax.set_ylim(ymin-pad, ymax+pad)\n",
    "\n",
    "    ax.set_title(f\"{carriers[i]}\", fontsize=16, **font1)\n",
    "\n",
    "fig.tight_layout()\n",
    "\n",
    "#plt.close()\n",
    "plt.show()"
   ]
  },
  {
   "cell_type": "code",
   "execution_count": null,
   "metadata": {
    "pycharm": {
     "name": "#%%\n"
    }
   },
   "outputs": [],
   "source": [
    "#TODO: investigate further into very high and very low prices"
   ]
  },
  {
   "cell_type": "markdown",
   "metadata": {
    "pycharm": {
     "name": "#%% md\n"
    }
   },
   "source": [
    "### Price bands"
   ]
  },
  {
   "cell_type": "code",
   "execution_count": null,
   "metadata": {
    "pycharm": {
     "name": "#%%\n"
    }
   },
   "outputs": [],
   "source": [
    "# plot percentage of production per price band and percentage of revenue per price band\n",
    "c_gen= c_el_gen_s\n",
    "c_con = c_el_con_s\n",
    "c_labels = c_con + c_gen\n",
    "price_bands = [-np.inf, 5, 50, 100, 200, np.inf]\n",
    "price_bands_labels = [\"< 5\", \"[5 - 50)\", \"[50 - 100)\", \"[100 - 200)\", \">= 200\"]\n",
    "res_gen_con_stst = pd.DataFrame(index=[str(s) for s in range(len(price_bands)-1)])\n",
    "res_rev_cost_stst = pd.DataFrame(index=[str(s) for s in range(len(price_bands)-1)])\n",
    "res_gen_con_exp = pd.DataFrame(index=[str(s) for s in range(len(price_bands)-1)])\n",
    "res_rev_cost_exp = pd.DataFrame(index=[str(s) for s in range(len(price_bands)-1)])\n",
    "buses = [\"bus0\", \"bus1\", \"bus2\", \"bus3\", \"bus4\"]\n",
    "ps = [\"p0\", \"p1\", \"p2\", \"p3\", \"p4\"]"
   ]
  },
  {
   "cell_type": "code",
   "execution_count": null,
   "metadata": {
    "pycharm": {
     "name": "#%%\n"
    }
   },
   "outputs": [],
   "source": [
    "# calc\n",
    "\n",
    "for n, res_gen_con, res_rev_cost in zip([stst, exp], [res_gen_con_stst, res_gen_con_exp], [res_rev_cost_stst, res_rev_cost_exp]):\n",
    "    for c in c_labels:\n",
    "        if c in n.generators.carrier.unique().tolist():\n",
    "            c_bus = n.generators[n.generators.carrier == c].bus.map(n.buses.carrier).unique()[0]\n",
    "            c_tag = c_tags[c_bus]\n",
    "            gen_tag = \"gen\"\n",
    "            gen = n.generators_t.p.loc[:, n.generators.carrier == c]\n",
    "            gen.columns = gen.columns.map(n.generators.bus)\n",
    "\n",
    "            lmp = n.buses_t.marginal_price.loc[:, gen.columns]\n",
    "            rev = gen * lmp\n",
    "\n",
    "            for i in range(len(price_bands)-1):\n",
    "                lmp_cat = lmp.mask((lmp >= price_bands[i]) & (lmp < price_bands[i+1]), \"hit\")\n",
    "                res_gen_con.loc[str(i), f\"{c}_{gen_tag}_{c_tag}_{c_bus}\"] = gen[lmp_cat == \"hit\"].sum().sum() / gen.sum().sum()\n",
    "                res_rev_cost.loc[str(i), f\"{c}_{gen_tag}_{c_tag}_{c_bus}\"] = rev[lmp_cat == \"hit\"].sum().sum() / rev.sum().sum()\n",
    "\n",
    "        elif c in n.links.carrier.unique().tolist():\n",
    "            for i, bus in enumerate(buses):\n",
    "                # check if bus exists\n",
    "                if n.links[n.links.carrier == c][bus][0] != \"\":\n",
    "                    c_bus = n.links[n.links.carrier == c][bus].map(n.buses.carrier).unique()[0]\n",
    "                    c_tag = c_tags[c_bus]\n",
    "                    # check if consumption or generation\n",
    "                    gen = generation_links_bus(n, c, i)\n",
    "                    gen_tag = \"gen\" if gen.sum() > 0 else \"con\"\n",
    "                    if gen_tag == \"gen\":\n",
    "                        gen = n.links_t[f\"{ps[i]}\"].loc[:, n.links.carrier == c] * -1\n",
    "                    elif gen_tag == \"con\":\n",
    "                        gen = n.links_t[f\"{ps[i]}\"].loc[:, n.links.carrier == c]\n",
    "\n",
    "                    gen.columns = gen.columns.map(n.links[bus])\n",
    "\n",
    "                    lmp = n.buses_t.marginal_price.loc[:, gen.columns]\n",
    "                    rev = gen * lmp\n",
    "\n",
    "                    for i in range(len(price_bands)-1):\n",
    "                        lmp_cat = lmp.mask((lmp >= price_bands[i]) & (lmp < price_bands[i+1]), \"hit\")\n",
    "                        res_gen_con.loc[str(i), f\"{c}_{gen_tag}_{c_tag}_{c_bus}\"] = gen[lmp_cat == \"hit\"].sum().sum() / gen.sum().sum()\n",
    "                        res_rev_cost.loc[str(i), f\"{c}_{gen_tag}_{c_tag}_{c_bus}\"] = rev[lmp_cat == \"hit\"].sum().sum() / rev.sum().sum()\n",
    "\n",
    "\n",
    "        elif c in n.storage_units.carrier.unique().tolist():\n",
    "            c_bus = n.storage_units[n.storage_units.carrier == c].bus.map(n.buses.carrier).unique()[0]\n",
    "            c_tag = c_tags[c_bus]\n",
    "            for gen_tag in [\"gen\", \"con\"]:\n",
    "                if gen_tag == \"gen\":\n",
    "                    gen = n.storage_units_t.p_dispatch.loc[:, n.storage_units.carrier == c]\n",
    "                elif gen_tag == \"con\":\n",
    "                    gen = n.storage_units_t.p_store.loc[:, n.storage_units.carrier == c]\n",
    "\n",
    "                gen.columns = gen.columns.map(n.storage_units.bus)\n",
    "\n",
    "                lmp = n.buses_t.marginal_price.loc[:, gen.columns]\n",
    "                rev = gen * lmp\n",
    "\n",
    "                for i in range(len(price_bands)-1):\n",
    "                    lmp_cat = lmp.mask((lmp >= price_bands[i]) & (lmp < price_bands[i+1]), \"hit\")\n",
    "                    res_gen_con.loc[str(i), f\"{c}_{gen_tag}_{c_tag}_{c_bus}\"] = gen[lmp_cat == \"hit\"].sum().sum() / gen.sum().sum()\n",
    "                    res_rev_cost.loc[str(i), f\"{c}_{gen_tag}_{c_tag}_{c_bus}\"] = rev[lmp_cat == \"hit\"].sum().sum() / rev.sum().sum()\n",
    "\n",
    "        else:\n",
    "            print(f\"{c} not known!\")\n",
    "\n"
   ]
  },
  {
   "cell_type": "code",
   "execution_count": null,
   "metadata": {
    "pycharm": {
     "name": "#%%\n"
    }
   },
   "outputs": [],
   "source": [
    "round(res_gen_con_stst, 4)"
   ]
  },
  {
   "cell_type": "code",
   "execution_count": null,
   "metadata": {
    "pycharm": {
     "name": "#%%\n"
    }
   },
   "outputs": [],
   "source": [
    "round(res_rev_cost_stst, 4)"
   ]
  },
  {
   "cell_type": "code",
   "execution_count": null,
   "metadata": {
    "pycharm": {
     "name": "#%%\n"
    }
   },
   "outputs": [],
   "source": [
    "# extract right labels\n",
    "res_gen_con.columns[res_gen_con.columns.str.contains(\"con_el\")]\n",
    "res_gen_con.columns[res_gen_con.columns.str.contains(\"gen_el\")]\n",
    "\n",
    "con_labels = ['H2 Electrolysis_con_el_AC',\n",
    "              'BEV charger_con_el_low voltage',\n",
    "              'battery charger_con_el_AC',\n",
    "              'urban central air heat pump_con_el_low voltage',\n",
    "              'urban central resistive heater_con_el_low voltage',\n",
    "              'PHS_con_el_AC'\n",
    "              ]\n",
    "con_c = pd.Index(con_labels).str.split('_').str[0]\n",
    "gen_labels = ['onwind_gen_el_AC', 'solar_gen_el_AC', 'offwind-dc_gen_el_AC',\n",
    "              'hydro_gen_el_AC', 'solar rooftop_gen_el_low voltage',\n",
    "              'battery discharger_gen_el_AC', 'offwind-ac_gen_el_AC', 'ror_gen_el_AC',\n",
    "              'urban central gas CHP_gen_el_AC',\n",
    "              'urban central solid biomass CHP CC_gen_el_AC',\n",
    "              'V2G_gen_el_low voltage', 'PHS_gen_el_AC'\n",
    "              ]\n",
    "gen_c = pd.Index(gen_labels).str.split('_').str[0]\n",
    "\n",
    "# sort according to vre, storage and peak\n",
    "gen_labels_sorted = ['onwind_gen_el_AC', 'solar_gen_el_AC', 'offwind-dc_gen_el_AC', 'solar rooftop_gen_el_low voltage', 'offwind-ac_gen_el_AC', 'ror_gen_el_AC', 'hydro_gen_el_AC', 'battery discharger_gen_el_AC', 'V2G_gen_el_low voltage','PHS_gen_el_AC', 'urban central gas CHP_gen_el_AC', 'urban central solid biomass CHP CC_gen_el_AC',]\n",
    "gen_c_sorted = pd.Index(gen_labels_sorted).str.split('_').str[0]"
   ]
  },
  {
   "cell_type": "code",
   "execution_count": null,
   "metadata": {
    "pycharm": {
     "name": "#%%\n"
    }
   },
   "outputs": [],
   "source": [
    "# consumption and generation\n",
    "\n",
    "model = \"EXP\"\n",
    "\n",
    "if model == \"STST\":\n",
    "    res_gen_con = res_gen_con_stst\n",
    "    res_rev_cost = res_rev_cost_stst\n",
    "\n",
    "elif model == \"EXP\":\n",
    "    res_gen_con = res_gen_con_exp\n",
    "    res_rev_cost = res_rev_cost_exp\n",
    "\n",
    "ticks = [carrier_renaming.get(n, n) for n in (con_c.to_list() + gen_c.to_list())]\n",
    "\n",
    "fig, (ax1, ax2) = plt.subplots(2, 1, figsize=(18, 8))\n",
    "\n",
    "gen_con = res_gen_con[con_labels + gen_labels]\n",
    "rev_cost = res_rev_cost[con_labels + gen_labels]\n",
    "col = sns.color_palette(\"inferno_r\", 5)\n",
    "\n",
    "ax1 = gen_con.transpose().plot(kind='bar', stacked=True, color=col, ax=ax1, legend=False)\n",
    "ax1.set_ylabel(\"Consumed or delivered electricity\")\n",
    "ax1.set_xticks(ticks=range(len(ticks)), labels=ticks, rotation=90)\n",
    "ax1.set_title('Consumption or Generation by electricity price band', fontsize=16, **font1, pad=10)\n",
    "ax1.set_ylim([0,1])\n",
    "\n",
    "ax2 = rev_cost.transpose().plot(kind='bar', stacked=True, color=col, ax=ax2)\n",
    "ax2.set_ylabel(\"Cost or revenue\")\n",
    "ax2.legend(title='Price band ($€/MWh_{el}$)', labels=price_bands_labels , bbox_to_anchor=(1, 1))\n",
    "ax2.set_xticks(ticks=range(len(ticks)), labels=ticks, rotation=90)\n",
    "ax2.set_title('Cost or revenue by electricity price band', fontsize=16, **font1, pad=10)\n",
    "\n",
    "ax2.axvline(x=len(con_c)-0.5,ymin=-0.5,ymax=2.6,c=\"red\",linewidth=2,linestyle=\"--\", zorder=3, clip_on=False, label=\"seperator\")\n",
    "\n",
    "fig.tight_layout(pad=2)\n",
    "\n",
    "plt.show()\n",
    "\n",
    "fig.savefig(f\"{PLOT_DIR}/price_bands_all_{model}.png\")"
   ]
  },
  {
   "cell_type": "code",
   "execution_count": null,
   "metadata": {
    "pycharm": {
     "name": "#%%\n"
    }
   },
   "outputs": [],
   "source": [
    "# only consumption\n",
    "ticks = [carrier_renaming.get(n, n) for n in con_c]\n",
    "\n",
    "fig, (ax1, ax2) = plt.subplots(2, 1, figsize=(12, 7))\n",
    "\n",
    "gen_con = res_gen_con[con_labels]\n",
    "rev_cost = res_rev_cost[con_labels]\n",
    "\n",
    "ax1 = gen_con.transpose().plot(kind='bar', stacked=True, color=col, ax=ax1)\n",
    "ax1.set_ylabel(\"Consumed electricity\")\n",
    "ax1.legend(title='Price band ($€/MWh_{el}$)', labels=price_bands_labels , bbox_to_anchor=(1, 1))\n",
    "ax1.set_xticks(ticks=range(len(ticks)), labels=ticks, rotation=0)\n",
    "ax1.set_title(f\"Consumption by electricity price band ({model})\", fontsize=16, **font1, pad=10)\n",
    "ax1.set_ylim([0,1])\n",
    "\n",
    "ax2 = rev_cost.transpose().plot(kind='bar', stacked=True, color=col, ax=ax2, legend=False)\n",
    "ax2.set_ylabel(\"Cost\")\n",
    "ax2.set_xticks(ticks=range(len(ticks)), labels=ticks, rotation=0)\n",
    "ax2.set_title(f\"Cost by electricity price band ({model})\", fontsize=16, **font1, pad=10)\n",
    "\n",
    "fig.tight_layout(pad=2)\n",
    "plt.show()\n",
    "\n",
    "fig.savefig(f\"{PLOT_DIR}/price_bands_con_{model}.png\")"
   ]
  },
  {
   "cell_type": "markdown",
   "metadata": {
    "pycharm": {
     "name": "#%% md\n"
    }
   },
   "source": []
  },
  {
   "cell_type": "code",
   "execution_count": null,
   "metadata": {
    "pycharm": {
     "name": "#%%\n"
    }
   },
   "outputs": [],
   "source": [
    "round(res_gen_con_stst[con_labels], 4)#.mean(axis=1)#.loc[\"3\":].sum()\n",
    "round(res_rev_cost_stst[con_labels], 4).mean(axis=1)"
   ]
  },
  {
   "cell_type": "code",
   "execution_count": null,
   "metadata": {
    "pycharm": {
     "name": "#%%\n"
    }
   },
   "outputs": [],
   "source": [
    "round(res_gen_con_exp[con_labels], 4).mean(axis=1)#.loc[\"3\":].sum()#.loc[\"3\":,:].sum()\n",
    "round(res_rev_cost_exp[con_labels], 4).mean(axis=1)"
   ]
  },
  {
   "cell_type": "code",
   "execution_count": null,
   "metadata": {
    "pycharm": {
     "name": "#%%\n"
    }
   },
   "outputs": [],
   "source": [
    "round(res_gen_con_stst[con_labels], 4) - round(res_gen_con_exp[con_labels], 4)"
   ]
  },
  {
   "cell_type": "code",
   "execution_count": null,
   "metadata": {
    "pycharm": {
     "name": "#%%\n"
    }
   },
   "outputs": [],
   "source": [
    "# only generation\n",
    "category_sorted = True\n",
    "\n",
    "if category_sorted:\n",
    "    index = gen_c_sorted\n",
    "    labels = gen_labels_sorted\n",
    "else:\n",
    "    index = gen_c\n",
    "    labels = gen_labels\n",
    "\n",
    "ticks = [carrier_renaming.get(n, n) for n in index]\n",
    "ticks = [c.replace(' ', '\\n', 1) for c in ticks]\n",
    "\n",
    "fig, (ax1, ax2) = plt.subplots(2, 1, figsize=(12, 7))\n",
    "\n",
    "gen_con = res_gen_con[labels]\n",
    "rev_cost = res_rev_cost[labels]\n",
    "\n",
    "ax1 = gen_con.transpose().plot(kind='bar', stacked=True, color=col, ax=ax1, width=0.7)\n",
    "ax1.set_ylabel(\"Generated electricity\")\n",
    "ax1.legend(title='Price band ($€/MWh_{el}$)', labels=price_bands_labels , bbox_to_anchor=(1, 1))\n",
    "ax1.set_xticks(ticks=range(len(ticks)), labels=ticks, rotation=0)\n",
    "ax1.set_title(f\"Generation by electricity price band ({model})\", fontsize=16, **font1, pad=10)\n",
    "ax1.set_ylim([0,1])\n",
    "\n",
    "ax2 = rev_cost.transpose().plot(kind='bar', stacked=True, color=col, ax=ax2, width=0.7, legend=False)\n",
    "ax2.set_ylabel(\"Revenue\")\n",
    "ax2.set_xticks(ticks=range(len(ticks)), labels=ticks, rotation=0)\n",
    "ax2.set_title(f\"Revenue by electricity price band ({model})\", fontsize=16, **font1, pad=10)\n",
    "\n",
    "fig.tight_layout(pad=2)\n",
    "plt.show()\n",
    "\n",
    "fig.savefig(f\"{PLOT_DIR}/price_bands_gen_{model}.png\")"
   ]
  },
  {
   "cell_type": "code",
   "execution_count": null,
   "metadata": {
    "pycharm": {
     "name": "#%%\n"
    }
   },
   "outputs": [],
   "source": [
    "gen_vre = ['onwind_gen_el_AC', 'solar_gen_el_AC', 'offwind-dc_gen_el_AC', 'solar rooftop_gen_el_low voltage', 'offwind-ac_gen_el_AC', 'ror_gen_el_AC',]\n",
    "gen_storage = ['battery discharger_gen_el_AC', 'hydro_gen_el_AC', 'V2G_gen_el_low voltage','PHS_gen_el_AC']\n",
    "gen_peak = ['urban central gas CHP_gen_el_AC', 'urban central solid biomass CHP CC_gen_el_AC',]\n",
    "\n",
    "round(res_gen_con_stst[gen_labels], 4).loc[\"3\":,:].sum()#.mean()\n",
    "#round(res_rev_cost_stst[gen_labels], 4).mean(axis=1)"
   ]
  },
  {
   "cell_type": "code",
   "execution_count": null,
   "metadata": {
    "pycharm": {
     "name": "#%%\n"
    }
   },
   "outputs": [],
   "source": [
    "round(res_gen_con_exp[gen_peak], 4).loc[\"3\":,:].sum()#.loc[\"2\":\"3\",:].sum().mean() #.mean(axis=1)  #.loc[\"3\":].sum()#.loc[\"3\":,:].sum()\n",
    "#round(res_rev_cost_exp[gen_labels], 4).mean(axis=1)"
   ]
  },
  {
   "cell_type": "code",
   "execution_count": null,
   "metadata": {
    "pycharm": {
     "name": "#%%\n"
    }
   },
   "outputs": [],
   "source": [
    "(round(res_gen_con_stst[gen_labels], 4) - round(res_gen_con_exp[gen_labels], 4))#.min()"
   ]
  },
  {
   "cell_type": "code",
   "execution_count": null,
   "metadata": {
    "pycharm": {
     "name": "#%%\n"
    }
   },
   "outputs": [],
   "source": []
  },
  {
   "cell_type": "markdown",
   "source": [
    "## Spatial and temporl differences"
   ],
   "metadata": {
    "collapsed": false,
    "pycharm": {
     "name": "#%% md\n"
    }
   }
  },
  {
   "cell_type": "markdown",
   "source": [
    "### Generation / consumption weighted lmps as price duration curve"
   ],
   "metadata": {
    "collapsed": false,
    "pycharm": {
     "name": "#%% md\n"
    }
   }
  },
  {
   "cell_type": "markdown",
   "source": [
    "#### Comparison STST and EXP"
   ],
   "metadata": {
    "collapsed": false,
    "pycharm": {
     "name": "#%% md\n"
    }
   }
  },
  {
   "cell_type": "code",
   "execution_count": null,
   "outputs": [],
   "source": [
    "# VRE"
   ],
   "metadata": {
    "collapsed": false,
    "pycharm": {
     "name": "#%%\n"
    }
   }
  },
  {
   "cell_type": "code",
   "execution_count": null,
   "outputs": [],
   "source": [
    "carriers = [\"onwind\", \"ror\", \"solar\", \"solar rooftop\", \"offwind-dc\", \"offwind-ac\"]\n",
    "models = [\"STST\", \"EXP\"]\n",
    "colors = [\"cadetblue\", \"hotpink\"]\n",
    "\n",
    "fig, axs = plt.subplots(ncols=2, nrows=3, figsize=(12, 3*4))\n",
    "\n",
    "for c, ax in zip(carriers, axs.reshape(-1)):\n",
    "\n",
    "    for i, n in enumerate([stst,exp]):\n",
    "        if c in n.generators.carrier.unique():\n",
    "            c_bus = n.generators[n.generators.carrier == c].bus.map(n.buses.carrier).unique()[0]\n",
    "            gen = n.generators_t.p.loc[: , n.generators.carrier == c]\n",
    "            lmps = n.buses_t.marginal_price.loc[:, gen.columns.map(n.generators.bus)]\n",
    "            df = pd.concat([pd.DataFrame(lmps.values.flatten()) , pd.DataFrame(gen.values.flatten())], axis=1)\n",
    "\n",
    "        elif c in n.links.carrier.unique():\n",
    "            c_bus = n.links[n.links.carrier == c][\"bus1\"].map(n.buses.carrier).unique()[0]\n",
    "            gen = n.links_t.p1.loc[: , n.links.carrier == c]\n",
    "            lmps = n.buses_t.marginal_price.loc[:, gen.columns.map(n.links.bus1)]\n",
    "            df = pd.concat([pd.DataFrame(lmps.values.flatten()) , pd.DataFrame(gen.values.flatten())], axis=1)\n",
    "\n",
    "        elif c in n.storage_units.carrier.unique():\n",
    "            c_bus = n.storage_units[n.storage_units.carrier == c].bus.map(n.buses.carrier).unique()[0]\n",
    "            gen = n.storage_units_t.p_dispatch.loc[: , n.storage_units.carrier == c]\n",
    "            lmps = n.buses_t.marginal_price.loc[:, gen.columns.map(n.storage_units.bus)]\n",
    "            df = pd.concat([pd.DataFrame(lmps.values.flatten()) , pd.DataFrame(gen.values.flatten())], axis=1)\n",
    "\n",
    "        df.columns = [\"lmp\" , \"gen\"]\n",
    "        df = df.sort_values(by=\"lmp\")\n",
    "        df[\"gen_cumsum\"] = df[\"gen\"].cumsum()\n",
    "        df[\"gen_cumsum_norm\"] = df[\"gen\"].cumsum() / df[\"gen\"].sum()\n",
    "        ax.plot(df[\"gen_cumsum_norm\"], df[\"lmp\"], label=models[i], color=colors[i])\n",
    "\n",
    "        ax.set_ylim([-50, 400])\n",
    "        # add corridor which contains 75 % of the generation around the median\n",
    "        ax.hlines(df[\"lmp\"].loc[df[\"lmp\"][df[\"gen_cumsum_norm\"] > 0.125].index[0]], 0, 1, color=colors[i], ls=\"--\", lw=1)\n",
    "        ax.hlines(df[\"lmp\"].loc[df[\"lmp\"][df[\"gen_cumsum_norm\"] > 0.875].index[0]], 0, 1,  color=colors[i], ls=\"--\", lw =1)\n",
    "\n",
    "        ax.set_ylabel(\"lmp [$€/MWh_{el}$\")\n",
    "        ax.set_xlabel(\"Fraction of total generation\")\n",
    "        ax.set_title(f\"{c} (bus = {c_bus})\", fontsize=16, **font1)\n",
    "        ax.legend()\n",
    "\n",
    "fig.tight_layout(pad=3)\n",
    "plt.show()\n",
    "\n",
    "fig.savefig(f\"{PLOT_DIR}/el_gen_w_lmps_vre_between_models.png\")"
   ],
   "metadata": {
    "collapsed": false,
    "pycharm": {
     "name": "#%%\n"
    }
   }
  },
  {
   "cell_type": "code",
   "execution_count": null,
   "outputs": [],
   "source": [
    "# storage"
   ],
   "metadata": {
    "collapsed": false,
    "pycharm": {
     "name": "#%%\n"
    }
   }
  },
  {
   "cell_type": "code",
   "execution_count": null,
   "outputs": [],
   "source": [
    "carriers = [\"hydro\", \"battery discharger\",  \"V2G\", \"PHS\"]\n",
    "models = [\"STST\", \"EXP\"]\n",
    "colors = [\"cadetblue\", \"hotpink\"]\n",
    "\n",
    "fig, axs = plt.subplots(ncols=2, nrows=2, figsize=(12, 2*4))\n",
    "\n",
    "for c, ax in zip(carriers, axs.reshape(-1)):\n",
    "\n",
    "    for i, n in enumerate([stst,exp]):\n",
    "        if c in n.generators.carrier.unique():\n",
    "            c_bus = n.generators[n.generators.carrier == c].bus.map(n.buses.carrier).unique()[0]\n",
    "            gen = n.generators_t.p.loc[: , n.generators.carrier == c]\n",
    "            lmps = n.buses_t.marginal_price.loc[:, gen.columns.map(n.generators.bus)]\n",
    "            df = pd.concat([pd.DataFrame(lmps.values.flatten()) , pd.DataFrame(gen.values.flatten())], axis=1)\n",
    "\n",
    "        elif c in n.links.carrier.unique():\n",
    "            c_bus = n.links[n.links.carrier == c][\"bus1\"].map(n.buses.carrier).unique()[0]\n",
    "            gen = n.links_t.p1.loc[: , n.links.carrier == c]\n",
    "            lmps = n.buses_t.marginal_price.loc[:, gen.columns.map(n.links.bus1)]\n",
    "            df = pd.concat([pd.DataFrame(lmps.values.flatten()) , pd.DataFrame(gen.values.flatten())], axis=1)\n",
    "\n",
    "        elif c in n.storage_units.carrier.unique():\n",
    "            c_bus = n.storage_units[n.storage_units.carrier == c].bus.map(n.buses.carrier).unique()[0]\n",
    "            gen = n.storage_units_t.p_dispatch.loc[: , n.storage_units.carrier == c]\n",
    "            lmps = n.buses_t.marginal_price.loc[:, gen.columns.map(n.storage_units.bus)]\n",
    "            df = pd.concat([pd.DataFrame(lmps.values.flatten()) , pd.DataFrame(gen.values.flatten())], axis=1)\n",
    "\n",
    "        df.columns = [\"lmp\" , \"gen\"]\n",
    "        df = df.sort_values(by=\"lmp\")\n",
    "        df[\"gen_cumsum\"] = df[\"gen\"].cumsum()\n",
    "        df[\"gen_cumsum_norm\"] = df[\"gen\"].cumsum() / df[\"gen\"].sum()\n",
    "        ax.plot(df[\"gen_cumsum_norm\"], df[\"lmp\"], label=models[i], color=colors[i])\n",
    "\n",
    "        ax.set_ylim([-50, 600])\n",
    "        # add corridor which contains 75 % of the generation around the median\n",
    "        ax.hlines(df[\"lmp\"].loc[df[\"lmp\"][df[\"gen_cumsum_norm\"] > 0.125].index[0]], 0, 1, color=colors[i], ls=\"--\", lw=1)\n",
    "        ax.hlines(df[\"lmp\"].loc[df[\"lmp\"][df[\"gen_cumsum_norm\"] > 0.875].index[0]], 0, 1,  color=colors[i], ls=\"--\", lw =1)\n",
    "\n",
    "        ax.set_ylabel(\"lmp [$€/MWh_{el}$]\")\n",
    "        ax.set_xlabel(\"Fraction of total generation\")\n",
    "        ax.set_title(f\"{c} (bus = {c_bus})\", fontsize=16, **font1)\n",
    "        ax.legend()\n",
    "\n",
    "fig.tight_layout(pad=3)\n",
    "plt.show()\n",
    "\n",
    "fig.savefig(f\"{PLOT_DIR}/el_gen_w_lmps_storage_between_models.png\")"
   ],
   "metadata": {
    "collapsed": false,
    "pycharm": {
     "name": "#%%\n"
    }
   }
  },
  {
   "cell_type": "code",
   "execution_count": null,
   "outputs": [],
   "source": [
    "# peak plants"
   ],
   "metadata": {
    "collapsed": false,
    "pycharm": {
     "name": "#%%\n"
    }
   }
  },
  {
   "cell_type": "code",
   "execution_count": null,
   "outputs": [],
   "source": [
    "carriers = [\"urban central gas CHP\", \"urban central solid biomass CHP CC\"]\n",
    "models = [\"STST\", \"EXP\"]\n",
    "colors = [\"cadetblue\", \"hotpink\"]\n",
    "ylims = [2000, 1000]\n",
    "\n",
    "fig, axs = plt.subplots(ncols=2, nrows=1, figsize=(12, 1*4))\n",
    "\n",
    "for c, ax in zip(carriers, axs.reshape(-1)):\n",
    "    ylim = 0\n",
    "\n",
    "    for i, n in enumerate([stst,exp]):\n",
    "        if c in n.generators.carrier.unique():\n",
    "            c_bus = n.generators[n.generators.carrier == c].bus.map(n.buses.carrier).unique()[0]\n",
    "            gen = n.generators_t.p.loc[: , n.generators.carrier == c]\n",
    "            lmps = n.buses_t.marginal_price.loc[:, gen.columns.map(n.generators.bus)]\n",
    "            df = pd.concat([pd.DataFrame(lmps.values.flatten()) , pd.DataFrame(gen.values.flatten())], axis=1)\n",
    "\n",
    "        elif c in n.links.carrier.unique():\n",
    "            c_bus = n.links[n.links.carrier == c][\"bus1\"].map(n.buses.carrier).unique()[0]\n",
    "            gen = n.links_t.p1.loc[: , n.links.carrier == c]\n",
    "            lmps = n.buses_t.marginal_price.loc[:, gen.columns.map(n.links.bus1)]\n",
    "            df = pd.concat([pd.DataFrame(lmps.values.flatten()) , pd.DataFrame(gen.values.flatten())], axis=1)\n",
    "\n",
    "        elif c in n.storage_units.carrier.unique():\n",
    "            c_bus = n.storage_units[n.storage_units.carrier == c].bus.map(n.buses.carrier).unique()[0]\n",
    "            gen = n.storage_units_t.p_dispatch.loc[: , n.storage_units.carrier == c]\n",
    "            lmps = n.buses_t.marginal_price.loc[:, gen.columns.map(n.storage_units.bus)]\n",
    "            df = pd.concat([pd.DataFrame(lmps.values.flatten()) , pd.DataFrame(gen.values.flatten())], axis=1)\n",
    "\n",
    "        df.columns = [\"lmp\" , \"gen\"]\n",
    "        df = df.sort_values(by=\"lmp\")\n",
    "        df[\"gen_cumsum\"] = df[\"gen\"].cumsum()\n",
    "        df[\"gen_cumsum_norm\"] = df[\"gen\"].cumsum() / df[\"gen\"].sum()\n",
    "        ax.plot(df[\"gen_cumsum_norm\"], df[\"lmp\"], label=models[i], color=colors[i])\n",
    "        # select lmp where the cumsum in stst and exp is larger than 0.99\n",
    "        #ylim = max(ylim, df[\"lmp\"].loc[df[\"lmp\"][df[\"gen_cumsum_norm\"] > 0.9999].index[0]])\n",
    "        # add corridor which contains 75 % of the generation around the median\n",
    "        ax.hlines(df[\"lmp\"].loc[df[\"lmp\"][df[\"gen_cumsum_norm\"] > 0.125].index[0]], 0, 1, color=colors[i], ls=\"--\", lw=1)\n",
    "        ax.hlines(df[\"lmp\"].loc[df[\"lmp\"][df[\"gen_cumsum_norm\"] > 0.875].index[0]], 0, 1,  color=colors[i], ls=\"--\", lw =1)\n",
    "\n",
    "    ax.set_ylim([-50, 2000])\n",
    "    ax.set_ylabel(\"lmp [$€/MWh_{el}\")\n",
    "    ax.set_xlabel(\"Fraction of total generation\")\n",
    "    ax.set_title(f\"{carrier_renaming[c]} (bus = {c_bus})\", fontsize=16, **font1)\n",
    "    ax.legend()\n",
    "\n",
    "fig.tight_layout(pad=3)\n",
    "plt.show()\n",
    "\n",
    "fig.savefig(f\"{PLOT_DIR}/el_gen_w_lmps_peak_between_models.png\")"
   ],
   "metadata": {
    "collapsed": false,
    "pycharm": {
     "name": "#%%\n"
    }
   }
  },
  {
   "cell_type": "code",
   "execution_count": null,
   "outputs": [],
   "source": [
    "# electricity consuming technologies"
   ],
   "metadata": {
    "collapsed": false,
    "pycharm": {
     "name": "#%%\n"
    }
   }
  },
  {
   "cell_type": "code",
   "execution_count": null,
   "outputs": [],
   "source": [
    "carriers = c_el_con_s\n",
    "models = [\"STST\", \"EXP\"]\n",
    "colors = [\"cadetblue\", \"hotpink\"]\n",
    "\n",
    "fig, axs = plt.subplots(ncols=2, nrows=3, figsize=(12, 3*4))\n",
    "\n",
    "for c, ax in zip(carriers, axs.reshape(-1)):\n",
    "\n",
    "    for i, n in enumerate([stst,exp]):\n",
    "\n",
    "        if c in n.links.carrier.unique():\n",
    "            c_bus = n.links[n.links.carrier == c][\"bus0\"].map(n.buses.carrier).unique()[0]\n",
    "            con = n.links_t.p0.loc[: , n.links.carrier == c]\n",
    "            lmps = n.buses_t.marginal_price.loc[:, con.columns.map(n.links.bus0)]\n",
    "            df = pd.concat([pd.DataFrame(lmps.values.flatten()) , pd.DataFrame(con.values.flatten())], axis=1)\n",
    "\n",
    "        elif c in n.storage_units.carrier.unique():\n",
    "            c_bus = n.storage_units[n.storage_units.carrier == c].bus.map(n.buses.carrier).unique()[0]\n",
    "            con = n.storage_units_t.p_store.loc[: , n.storage_units.carrier == c]\n",
    "            lmps = n.buses_t.marginal_price.loc[:, con.columns.map(n.storage_units.bus)]\n",
    "            df = pd.concat([pd.DataFrame(lmps.values.flatten()) , pd.DataFrame(con.values.flatten())], axis=1)\n",
    "\n",
    "        df.columns = [\"lmp\" , \"gen\"]\n",
    "        df = df.sort_values(by=\"lmp\")\n",
    "        df[\"gen_cumsum\"] = df[\"gen\"].cumsum()\n",
    "        df[\"gen_cumsum_norm\"] = df[\"gen\"].cumsum() / df[\"gen\"].sum()\n",
    "        ax.plot(df[\"gen_cumsum_norm\"], df[\"lmp\"], label=models[i], color=colors[i])\n",
    "        ax.set_ylim([-50, 400])\n",
    "        # add corridor which contains 75 % of the generation around the median\n",
    "        ax.hlines(df[\"lmp\"].loc[df[\"lmp\"][df[\"gen_cumsum_norm\"] > 0.125].index[0]], 0, 1, color=colors[i], ls=\"--\", lw=1)\n",
    "        ax.hlines(df[\"lmp\"].loc[df[\"lmp\"][df[\"gen_cumsum_norm\"] > 0.875].index[0]], 0, 1,  color=colors[i], ls=\"--\", lw =1)\n",
    "        ax.set_ylabel(\"lmp [$€/MWh_{el}\")\n",
    "        ax.set_xlabel(\"Fraction of total consumption\")\n",
    "        ax.set_title(f\"{c} (bus = {c_bus})\", fontsize=16, **font1)\n",
    "        ax.legend()\n",
    "\n",
    "fig.tight_layout(pad=3)\n",
    "plt.show()\n",
    "\n",
    "fig.savefig(f\"{PLOT_DIR}/el_con_w_lmps_between_models.png\")"
   ],
   "metadata": {
    "collapsed": false,
    "pycharm": {
     "name": "#%%\n"
    }
   }
  },
  {
   "cell_type": "markdown",
   "source": [
    "#### Comparison within STST and EXP"
   ],
   "metadata": {
    "collapsed": false,
    "pycharm": {
     "name": "#%% md\n"
    }
   }
  },
  {
   "cell_type": "code",
   "execution_count": null,
   "outputs": [],
   "source": [
    "# electricity generating technologies"
   ],
   "metadata": {
    "collapsed": false,
    "pycharm": {
     "name": "#%%\n"
    }
   }
  },
  {
   "cell_type": "code",
   "execution_count": null,
   "outputs": [],
   "source": [
    "carrier_colors[\"V2G\"] = \"red\"\n",
    "carrier_colors[\"hydro\"] = \"darkviolet\""
   ],
   "metadata": {
    "collapsed": false,
    "pycharm": {
     "name": "#%%\n"
    }
   }
  },
  {
   "cell_type": "code",
   "execution_count": null,
   "outputs": [],
   "source": [
    "carriers = [\"onwind\", \"ror\", \"solar\", \"solar rooftop\", \"offwind-dc\", \"offwind-ac\", \"hydro\", \"battery discharger\",  \"V2G\", \"PHS\" , \"urban central gas CHP\", \"urban central solid biomass CHP CC\"]\n",
    "\n",
    "fig, axs = plt.subplots(ncols=1, nrows=2, figsize=(10, 2*8))\n",
    "\n",
    "for n, ax, model in zip([stst,exp], axs.reshape(-1), [\"STST\", \"EXP\"]):\n",
    "\n",
    "    for c in carriers:\n",
    "        if c in n.generators.carrier.unique():\n",
    "            c_bus = n.generators[n.generators.carrier == c].bus.map(n.buses.carrier).unique()[0]\n",
    "            gen = n.generators_t.p.loc[: , n.generators.carrier == c]\n",
    "            lmps = n.buses_t.marginal_price.loc[:, gen.columns.map(n.generators.bus)]\n",
    "            df = pd.concat([pd.DataFrame(lmps.values.flatten()) , pd.DataFrame(gen.values.flatten())], axis=1)\n",
    "\n",
    "        elif c in n.links.carrier.unique():\n",
    "            c_bus = n.links[n.links.carrier == c][\"bus1\"].map(n.buses.carrier).unique()[0]\n",
    "            gen = n.links_t.p1.loc[: , n.links.carrier == c]\n",
    "            lmps = n.buses_t.marginal_price.loc[:, gen.columns.map(n.links.bus1)]\n",
    "            df = pd.concat([pd.DataFrame(lmps.values.flatten()) , pd.DataFrame(gen.values.flatten())], axis=1)\n",
    "\n",
    "        elif c in n.storage_units.carrier.unique():\n",
    "            c_bus = n.storage_units[n.storage_units.carrier == c].bus.map(n.buses.carrier).unique()[0]\n",
    "            gen = n.storage_units_t.p_dispatch.loc[: , n.storage_units.carrier == c]\n",
    "            lmps = n.buses_t.marginal_price.loc[:, gen.columns.map(n.storage_units.bus)]\n",
    "            df = pd.concat([pd.DataFrame(lmps.values.flatten()) , pd.DataFrame(gen.values.flatten())], axis=1)\n",
    "\n",
    "        df.columns = [\"lmp\" , \"gen\"]\n",
    "        df = df.sort_values(by=\"lmp\")\n",
    "        df[\"gen_cumsum\"] = df[\"gen\"].cumsum()\n",
    "        df[\"gen_cumsum_norm\"] = df[\"gen\"].cumsum() / df[\"gen\"].sum()\n",
    "        ax.plot(df[\"gen_cumsum_norm\"], df[\"lmp\"], color=carrier_colors[c], label= f\"{c.replace('urban central', '').replace('solid', '')} ({c_bus})\",\n",
    "                marker=markers[carriers.index(c)], markevery=2920*40)\n",
    "        ax.set_ylim([-50, 300])\n",
    "        ax.set_ylabel(\"lmp [$€/MWh_{el}$]\")\n",
    "        ax.set_xlabel(\"Fraction of total generation\")\n",
    "        ax.set_facecolor(\"whitesmoke\")\n",
    "        ax.set_title(f\"Electricity generating technologies ({model})\", fontsize=16, **font1)\n",
    "        ax.legend()\n",
    "\n",
    "fig.tight_layout(pad=3)\n",
    "plt.show()\n",
    "\n",
    "fig.savefig(f\"{PLOT_DIR}/el_gen_w_lmps_within_models.png\")"
   ],
   "metadata": {
    "collapsed": false,
    "pycharm": {
     "name": "#%%\n"
    }
   }
  },
  {
   "cell_type": "code",
   "execution_count": null,
   "outputs": [],
   "source": [
    "# electricity consuming technologies"
   ],
   "metadata": {
    "collapsed": false,
    "pycharm": {
     "name": "#%%\n"
    }
   }
  },
  {
   "cell_type": "code",
   "execution_count": null,
   "outputs": [],
   "source": [
    "carrier_colors[\"BEV charger\"] = \"saddlebrown\""
   ],
   "metadata": {
    "collapsed": false,
    "pycharm": {
     "name": "#%%\n"
    }
   }
  },
  {
   "cell_type": "code",
   "execution_count": null,
   "outputs": [],
   "source": [
    "carriers = c_el_con_s\n",
    "\n",
    "fig, axs = plt.subplots(ncols=1, nrows=2, figsize=(10, 2*6))\n",
    "\n",
    "for n, ax, model in zip([stst,exp], axs.reshape(-1), [\"STST\", \"EXP\"]):\n",
    "\n",
    "    for c in carriers:\n",
    "        if c in n.links.carrier.unique():\n",
    "            c_bus = n.links[n.links.carrier == c][\"bus0\"].map(n.buses.carrier).unique()[0]\n",
    "            con = n.links_t.p0.loc[: , n.links.carrier == c]\n",
    "            lmps = n.buses_t.marginal_price.loc[:, con.columns.map(n.links.bus0)]\n",
    "            df = pd.concat([pd.DataFrame(lmps.values.flatten()) , pd.DataFrame(con.values.flatten())], axis=1)\n",
    "\n",
    "        elif c in n.storage_units.carrier.unique():\n",
    "            c_bus = n.storage_units[n.storage_units.carrier == c].bus.map(n.buses.carrier).unique()[0]\n",
    "            con = n.storage_units_t.p_store.loc[: , n.storage_units.carrier == c]\n",
    "            lmps = n.buses_t.marginal_price.loc[:, con.columns.map(n.storage_units.bus)]\n",
    "            df = pd.concat([pd.DataFrame(lmps.values.flatten()) , pd.DataFrame(con.values.flatten())], axis=1)\n",
    "\n",
    "        df.columns = [\"lmp\" , \"gen\"]\n",
    "        df = df.sort_values(by=\"lmp\")\n",
    "        df[\"gen_cumsum\"] = df[\"gen\"].cumsum()\n",
    "        df[\"gen_cumsum_norm\"] = df[\"gen\"].cumsum() / df[\"gen\"].sum()\n",
    "        ax.plot(df[\"gen_cumsum_norm\"], df[\"lmp\"], color=carrier_colors[c], label= f\"{c} ({c_bus})\",\n",
    "                marker=markers[carriers.index(c)], markevery=2920*40)\n",
    "        ax.set_ylim([-50, 300])\n",
    "        ax.set_ylabel(\"lmp [$€/MWh_{el}$]\")\n",
    "        ax.set_xlabel(\"Fraction of total consumption\")\n",
    "        ax.set_facecolor(\"whitesmoke\")\n",
    "        ax.set_title(f\"Electricity consuming technologies ({model})\", fontsize=16, **font1)\n",
    "        ax.legend()\n",
    "\n",
    "fig.tight_layout(pad=3)\n",
    "plt.show()\n",
    "\n",
    "fig.savefig(f\"{PLOT_DIR}/el_con_w_lmps_within_models.png\")"
   ],
   "metadata": {
    "collapsed": false,
    "pycharm": {
     "name": "#%%\n"
    }
   }
  },
  {
   "cell_type": "code",
   "execution_count": null,
   "outputs": [],
   "source": [],
   "metadata": {
    "collapsed": false,
    "pycharm": {
     "name": "#%%\n"
    }
   }
  }
 ],
 "metadata": {
  "kernelspec": {
   "display_name": "Python 3 (ipykernel)",
   "language": "python",
   "name": "python3"
  },
  "language_info": {
   "codemirror_mode": {
    "name": "ipython",
    "version": 3
   },
   "file_extension": ".py",
   "mimetype": "text/x-python",
   "name": "python",
   "nbconvert_exporter": "python",
   "pygments_lexer": "ipython3",
   "version": "3.10.6"
  }
 },
 "nbformat": 4,
 "nbformat_minor": 1
}