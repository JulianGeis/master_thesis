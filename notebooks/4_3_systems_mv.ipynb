{
 "cells": [
  {
   "cell_type": "code",
   "execution_count": null,
   "metadata": {
    "pycharm": {
     "name": "#%%\n"
    }
   },
   "outputs": [],
   "source": [
    "# Plots for section 4.3 (mv and technology operation)"
   ]
  },
  {
   "cell_type": "code",
   "execution_count": null,
   "metadata": {
    "pycharm": {
     "name": "#%%\n"
    }
   },
   "outputs": [],
   "source": [
    "# TODO"
   ]
  },
  {
   "cell_type": "markdown",
   "metadata": {
    "pycharm": {
     "name": "#%% md\n"
    }
   },
   "source": [
    "## Imports"
   ]
  },
  {
   "cell_type": "code",
   "execution_count": null,
   "metadata": {
    "pycharm": {
     "name": "#%%\n"
    }
   },
   "outputs": [],
   "source": [
    "import pandas as pd\n",
    "import geopandas as gpd\n",
    "import numpy as np\n",
    "import pypsa\n",
    "import math\n",
    "import seaborn as sns\n",
    "import cartopy\n",
    "import cartopy.crs as ccrs\n",
    "import matplotlib\n",
    "import matplotlib.colors as mcolors\n",
    "import matplotlib.pyplot as plt\n",
    "import warnings\n",
    "\n",
    "warnings.filterwarnings(\"ignore\")\n",
    "from shapely.geometry import Point, LineString\n",
    "import matplotlib.patheffects as pe\n",
    "import matplotlib.colors as mcolors\n",
    "from matplotlib.lines import Line2D\n",
    "from datetime import date, datetime, time, timedelta\n",
    "\n",
    "# imported own functions\n",
    "from utils import market_values, market_values_by_time_index, nodal_balance, capacity, capacity_links, \\\n",
    "    capacity_storage_units, get_condense_sum, nodal_balance, generation, generation_links, \\\n",
    "    generation_storage_units, market_values_storage_units, market_values_links, time_stored_LIFO\n",
    "\n",
    "# imported own definitions\n",
    "from utils import carrier_colors, carrier_renaming, carrier_renaming_reverse\n",
    "from utils import resistive_heater, gas_boiler, heat_pump,water_tanks_charger, water_tanks_discharger, solar_thermal\n",
    "from utils import c_el_gen_s, c_el_con_s\n",
    "\n",
    "# general variables\n",
    "font1 = {'fontname': 'Calibri'}\n",
    "PLOT_DIR = 'C:/Users/Julian/Studies/Master/01 TU Berlin/3. Semester - Masterarbeit/MA Marktwerte FEE/data/plots/01_general/4.3_systems_mv'\n",
    "onshore_regions = gpd.read_file(\"../data/external/regions_onshore_elec_s_181.geojson\")\n",
    "offshore_regions = gpd.read_file(\"../data/external/regions_offshore_elec_s_181.geojson\")\n",
    "onshore_regions = onshore_regions.set_index('name')\n",
    "offshore_regions = offshore_regions.set_index('name')\n",
    "\n",
    "# Network imports\n",
    "stst = pypsa.Network(\"../data/raw/elec_s_181_lv1.0__Co2L0-3H-T-H-B-I-A-solar+p3-linemaxext10-noH2network_2030.nc\")\n",
    "exp = pypsa.Network(\"../data/raw/elec_s_181_lvopt__Co2L0-3H-T-H-B-I-A-solar+p3-linemaxext10_2030.nc\")\n",
    "\n",
    "# Notebook Definitions\n",
    "c1_groups = [resistive_heater, gas_boiler, heat_pump, water_tanks_charger, water_tanks_discharger, solar_thermal]\n",
    "c1_groups_name = [\"resistive heater\", \"gas boiler\", \"heat pump\", \"water tanks charger\", \"water tanks discharger\",\n",
    "                  \"solar thermal\"]\n",
    "markers = [\"v\", \"^\", \"<\", \">\", \"1\", \"2\", \"3\", \"4\", \"*\", \"+\", \"d\", \"o\", \"|\", \"s\", \"P\", \"p\", \"h\"]"
   ]
  },
  {
   "cell_type": "code",
   "execution_count": null,
   "outputs": [],
   "source": [
    "# stst and exp dataframes\n",
    "df_stst_ons = pd.read_pickle(\"../data/processed/df_stst_ons.pkl\")\n",
    "df_stst_off = pd.read_pickle(\"../data/processed/df_stst_off.pkl\")\n",
    "df_exp_ons = pd.read_pickle(\"../data/processed/df_exp_ons.pkl\")\n",
    "df_exp_off = pd.read_pickle(\"../data/processed/df_exp_off.pkl\")"
   ],
   "metadata": {
    "collapsed": false,
    "pycharm": {
     "name": "#%%\n"
    }
   }
  },
  {
   "cell_type": "code",
   "execution_count": null,
   "metadata": {
    "pycharm": {
     "name": "#%%\n"
    }
   },
   "outputs": [],
   "source": [
    "# Notebook Functions\n",
    "\n",
    "def gini(x):\n",
    "    # (Warning: This is a concise implementation, but it is O(n**2)\n",
    "    # in time and memory, where n = len(x).  *Don't* pass in huge\n",
    "    # samples!)\n",
    "\n",
    "    # Mean absolute difference\n",
    "    mad = np.abs(np.subtract.outer(x, x)).mean()\n",
    "    # Relative mean absolute difference\n",
    "    rmad = mad/np.mean(x)\n",
    "    # Gini coefficient\n",
    "    g = 0.5 * rmad\n",
    "    return g\n"
   ]
  },
  {
   "cell_type": "markdown",
   "metadata": {
    "pycharm": {
     "name": "#%% md\n"
    }
   },
   "source": [
    "## General (4.3.1)"
   ]
  },
  {
   "cell_type": "markdown",
   "metadata": {
    "pycharm": {
     "name": "#%% md\n"
    }
   },
   "source": [
    "#### MV across regions"
   ]
  },
  {
   "cell_type": "code",
   "execution_count": null,
   "metadata": {
    "pycharm": {
     "name": "#%%\n"
    }
   },
   "outputs": [],
   "source": [
    "# Further investigation:\n",
    "\n",
    "df_stst_ons[[c + \"_mv\" for c in c_el_gen_s]].mean().mean()\n",
    "df_exp_ons[[c + \"_mv\" for c in c_el_gen_s]].mean().mean()\n",
    "\n",
    "df_stst_ons[[c + \"_mv\" for c in c_el_gen_s]].mean() - df_exp_ons[[c + \"_mv\" for c in c_el_gen_s]].mean()\n",
    "(df_stst_ons[[c + \"_mv\" for c in c_el_gen_s]].mean() - df_exp_ons[[c + \"_mv\" for c in c_el_gen_s]].mean()) / df_stst_ons[[c + \"_mv\" for c in c_el_gen_s]].mean()\n",
    "\n",
    "(df_stst_ons[[c + \"_mv\" for c in c_el_gen_s]].describe().loc[\"75%\"] - df_stst_ons[[c + \"_mv\" for c in c_el_gen_s]].describe().loc[\"25%\"]) - (df_exp_ons[[c + \"_mv\" for c in c_el_gen_s]].describe().loc[\"75%\"] - df_exp_ons[[c + \"_mv\" for c in c_el_gen_s]].describe().loc[\"25%\"])\n",
    "\n",
    "(df_stst_ons[[c + \"_mv\" for c in c_el_gen_s]].describe().loc[\"std\"] - df_exp_ons[[c + \"_mv\" for c in c_el_gen_s]].describe().loc[\"std\"])\n",
    "\n",
    "df_stst_ons[[c + \"_mv\" for c in c_el_gen_s]].mean().sort_values()\n",
    "df_exp_ons[[c + \"_mv\" for c in c_el_gen_s]].mean().sort_values()"
   ]
  },
  {
   "cell_type": "code",
   "execution_count": null,
   "outputs": [],
   "source": [
    "# electricity generating technologies\n",
    "\n",
    "# boxplot propertes\n",
    "medianprops = dict(color=\"black\",linewidth=1.5)\n",
    "meanprops = {\"marker\":\"d\",\"markerfacecolor\":\"white\", \"markeredgecolor\":\"black\"}\n",
    "flierprops= {'marker': 'x', 'markersize': 5, 'markeredgecolor': 'black'}\n",
    "whiskerprops = dict(linestyle='-',linewidth=1.0, color='black')\n",
    "\n",
    "# data\n",
    "stst_el_gen = df_stst_ons[[c + \"_mv\" for c in c_el_gen_s]]\n",
    "stst_el_gen = stst_el_gen.values\n",
    "exp_el_gen = df_exp_ons[[c + \"_mv\" for c in c_el_gen_s]]\n",
    "exp_el_gen = exp_el_gen.values\n",
    "\n",
    "# Filter data using np.isnan\n",
    "mask_stst = ~np.isnan(stst_el_gen)\n",
    "filtered_stst = [d[m] for d, m in zip(stst_el_gen.T, mask_stst.T)]\n",
    "mask_exp = ~np.isnan(exp_el_gen)\n",
    "filtered_exp = [d[m] for d, m in zip(exp_el_gen.T, mask_exp.T)]\n",
    "\n",
    "ticks = [carrier_renaming.get(n, n) for n in c_el_gen_s]\n",
    "index = c_el_gen_s\n",
    "fig, ax = plt.subplots(figsize=(12, 6))\n",
    "\n",
    "stst_plot = plt.boxplot(filtered_stst,\n",
    "                        positions=np.array(np.arange(len(ticks)))*2.0-0.35,\n",
    "                        widths=0.6,\n",
    "                        patch_artist=True,\n",
    "                        showmeans=True,\n",
    "                        meanprops=meanprops,\n",
    "                        medianprops=medianprops,\n",
    "                        flierprops=flierprops,\n",
    "                        whiskerprops=whiskerprops\n",
    "                        )\n",
    "\n",
    "exp_plot = plt.boxplot(filtered_exp,\n",
    "                       positions=np.array(np.arange(len(ticks)))*2.0+0.35,\n",
    "                       widths=0.6,\n",
    "                       patch_artist=True,\n",
    "                       showmeans=True,\n",
    "                       meanprops=meanprops,\n",
    "                       medianprops=medianprops,\n",
    "                       flierprops=flierprops,\n",
    "                       whiskerprops=whiskerprops\n",
    "                       )\n",
    "\n",
    "\n",
    "# generation weighted average\n",
    "gwa_mv_stst =np.multiply(df_stst_ons[[c + \"_mv\" for c in c_el_gen_s]], (df_stst_ons[[c + \"_gen\" for c in c_el_gen_s]] / df_stst_ons[[c + \"_gen\" for c in c_el_gen_s]].sum())).sum()\n",
    "gwa_mv_exp =np.multiply(df_exp_ons[[c + \"_mv\" for c in c_el_gen_s]], (df_exp_ons[[c + \"_gen\" for c in c_el_gen_s]] / df_exp_ons[[c + \"_gen\" for c in c_el_gen_s]].sum())).sum()\n",
    "ax.plot(np.array(np.arange(len(ticks)))*2.0-0.35, gwa_mv_stst.transpose(),\"x\", marker='*', color=\"red\", markersize= 10, markerfacecolor=\"white\", zorder=3)\n",
    "ax.plot(np.array(np.arange(len(ticks)))*2.0+0.35, gwa_mv_exp.transpose(),\"x\", marker='*', color=\"red\", markersize= 10, markerfacecolor=\"white\",zorder=4)\n",
    "\n",
    "\n",
    "for box, col in zip(stst_plot['boxes'],[carrier_colors[c] for c in index]):\n",
    "    # change outline color\n",
    "    box.set_facecolor(col)\n",
    "    box.set_linestyle('--')\n",
    "\n",
    "for box, col in zip(exp_plot['boxes'],[carrier_colors[c] for c in index]):\n",
    "    # change outline color\n",
    "    box.set_facecolor(col)\n",
    "\n",
    "# sample sizes\n",
    "for i, sample_size in enumerate(df_stst_ons[[f\"{i}_mv\" for i in index]].count()):\n",
    "    ax.annotate(sample_size, xy=(0,0),  xycoords='axes fraction',\n",
    "        xytext=((i+0.35)/len(index),1), textcoords='axes fraction', color=\"blue\")\n",
    "\n",
    "#for i, sample_size in enumerate(df_exp_ons[[f\"{i}_mv\" for i in index]].count()):\n",
    "#    ax.annotate(sample_size, xy=(0,0),  xycoords='axes fraction',\n",
    "#        xytext=((i+0.55)/len(index),1), textcoords='axes fraction', color=\"red\")\n",
    "\n",
    "# explanations\n",
    "plt.xticks(np.arange(0, len(ticks) * 2, 2), ticks)\n",
    "plt.ylabel(\"$€/MWh_{el}$\")\n",
    "plt.xticks(rotation=90)\n",
    "# plt.title(\"Market values of electricity generating technologies across the regions (STST vs. EXP)\", fontsize=16, pad=20,  **font1)\n",
    "\n",
    "# cosmetics\n",
    "ax.patch.set_facecolor('lightgrey')\n",
    "ax.patch.set_alpha(0.5)\n",
    "\n",
    "# horizontal lines\n",
    "ax.axhline(df_stst_ons[[c + \"_mv\" for c in c_el_gen_s]].mean().mean(), ls=\"--\", c='black',linewidth=0.5)\n",
    "ax.axhline(df_exp_ons[[c + \"_mv\" for c in c_el_gen_s]].mean().mean(), ls=\"-\", c='black', linewidth=0.5)\n",
    "\n",
    "# legend\n",
    "patch1 = matplotlib.patches.Patch(ls=\"--\", facecolor=\"white\", edgecolor=\"black\")\n",
    "patch2 = matplotlib.patches.Patch(ls=\"-\", facecolor=\"white\", edgecolor=\"black\")\n",
    "line1 = Line2D([0], [0], ls=\"--\", c='black', label=\"mean (STST)\", linewidth=0.5)\n",
    "line2 = Line2D([0], [0], ls=\"-\", c='black', label=\"mean (EXP)\", linewidth=0.5)\n",
    "ax.legend([patch1, patch2, line1, line2], ['STST', 'EXP', 'mean (STST)','mean (EXP)'])\n",
    "\n",
    "fig.tight_layout()\n",
    "plt.show()\n",
    "\n",
    "# fig.savefig(f\"{PLOT_DIR}/mv_el_gen_both_box.png\")"
   ],
   "metadata": {
    "collapsed": false,
    "pycharm": {
     "name": "#%%\n"
    }
   }
  },
  {
   "cell_type": "code",
   "execution_count": null,
   "metadata": {
    "pycharm": {
     "name": "#%%\n"
    }
   },
   "outputs": [],
   "source": [
    "# electricity consuming technologies\n",
    "c_el_con_s"
   ]
  },
  {
   "cell_type": "code",
   "execution_count": null,
   "metadata": {
    "pycharm": {
     "name": "#%%\n"
    }
   },
   "outputs": [],
   "source": [
    "# exclude ones with less than 50 TWh consumption in both scenarios: home battery charger\n",
    "#df_exp_ons[\"H2 Electrolysis_con_el\"].sum() < 50*1e3"
   ]
  },
  {
   "cell_type": "code",
   "execution_count": null,
   "metadata": {
    "pycharm": {
     "name": "#%%\n"
    }
   },
   "outputs": [],
   "source": [
    "# electricity consuming technologies\n",
    "\n",
    "# boxplot properties\n",
    "medianprops = dict(color=\"black\",linewidth=1.5)\n",
    "meanprops = {\"marker\":\"d\",\"markerfacecolor\":\"white\", \"markeredgecolor\":\"black\"}\n",
    "flierprops= {'marker': 'x', 'markersize': 5, 'markeredgecolor': 'black'}\n",
    "whiskerprops = dict(linestyle='-',linewidth=1.0, color='black')\n",
    "\n",
    "# data\n",
    "stst_el_con = df_stst_ons[[c + \"_cost_mv_el\" for c in c_el_con_s]]\n",
    "stst_el_con = stst_el_con.values\n",
    "exp_el_con = df_exp_ons[[c + \"_cost_mv_el\" for c in c_el_con_s]]\n",
    "exp_el_con = exp_el_con.values\n",
    "\n",
    "# Filter data using np.isnan\n",
    "mask_stst = ~np.isnan(stst_el_con)\n",
    "filtered_stst = [d[m] for d, m in zip(stst_el_con.T, mask_stst.T)]\n",
    "mask_exp = ~np.isnan(exp_el_con)\n",
    "filtered_exp = [d[m] for d, m in zip(exp_el_con.T, mask_exp.T)]\n",
    "\n",
    "ticks = [carrier_renaming.get(n, n) for n in c_el_con_s]\n",
    "index = c_el_con_s\n",
    "fig, ax = plt.subplots(figsize=(12, 6))\n",
    "\n",
    "stst_plot = plt.boxplot(filtered_stst,\n",
    "                        positions=np.array(np.arange(len(ticks)))*2.0-0.35,\n",
    "                        widths=0.6,\n",
    "                        patch_artist=True,\n",
    "                        showmeans=True,\n",
    "                        meanprops=meanprops,\n",
    "                        medianprops=medianprops,\n",
    "                        flierprops=flierprops,\n",
    "                        whiskerprops=whiskerprops\n",
    "                        )\n",
    "\n",
    "exp_plot = plt.boxplot(filtered_exp,\n",
    "                       positions=np.array(np.arange(len(ticks)))*2.0+0.35,\n",
    "                       widths=0.6,\n",
    "                       patch_artist=True,\n",
    "                       showmeans=True,\n",
    "                       meanprops=meanprops,\n",
    "                       medianprops=medianprops,\n",
    "                       flierprops=flierprops,\n",
    "                       whiskerprops=whiskerprops\n",
    "                       )\n",
    "\n",
    "\n",
    "for box, col in zip(stst_plot['boxes'],[carrier_colors[c] for c in index]):\n",
    "    # change outline color\n",
    "    box.set_facecolor(col)\n",
    "    box.set_linestyle('--')\n",
    "\n",
    "for box, col in zip(exp_plot['boxes'],[carrier_colors[c] for c in index]):\n",
    "    # change outline color\n",
    "    box.set_facecolor(col)\n",
    "\n",
    "# sample sizes\n",
    "for i, sample_size in enumerate(df_stst_ons[[f\"{i}_cost_mv_el\" for i in index]].count()):\n",
    "    ax.annotate(sample_size, xy=(0,0),  xycoords='axes fraction',\n",
    "        xytext=((i+0.35)/len(index),1), textcoords='axes fraction', color=\"blue\")\n",
    "\n",
    "#for i, sample_size in enumerate(df_exp_ons[[f\"{i}_cost_mv_el\" for i in index]].count()):\n",
    "#    ax.annotate(sample_size, xy=(0,0),  xycoords='axes fraction',\n",
    "#        xytext=((i+0.55)/len(index),1), textcoords='axes fraction', color=\"red\")\n",
    "\n",
    "# explanations\n",
    "plt.xticks(np.arange(0, len(ticks) * 2, 2), ticks)\n",
    "plt.ylabel(\"$€/MWh_{el}$\")\n",
    "plt.xticks(rotation=90)\n",
    "# plt.title(\"Market values of electricity consuming technologies across the regions (STST vs. EXP)\", fontsize=16, pad=20,  **font1)\n",
    "\n",
    "# cosmetics\n",
    "ax.patch.set_facecolor('lightgrey')\n",
    "ax.patch.set_alpha(0.5)\n",
    "\n",
    "# horizontal lines\n",
    "ax.axhline(df_stst_ons[[c + \"_cost_mv_el\" for c in c_el_con_s]].mean().mean(), ls=\"--\", c='black',linewidth=0.5)\n",
    "ax.axhline(df_exp_ons[[c + \"_cost_mv_el\" for c in c_el_con_s]].mean().mean(), ls=\"-\", c='black', linewidth=0.5)\n",
    "\n",
    "# legend\n",
    "patch1 = matplotlib.patches.Patch(ls=\"--\", facecolor=\"white\", edgecolor=\"black\")\n",
    "patch2 = matplotlib.patches.Patch(ls=\"-\", facecolor=\"white\", edgecolor=\"black\")\n",
    "line1 = Line2D([0], [0], ls=\"--\", c='black', label=\"mean (STST)\", linewidth=0.5)\n",
    "line2 = Line2D([0], [0], ls=\"-\", c='black', label=\"mean (EXP)\", linewidth=0.5)\n",
    "ax.legend([patch1, patch2, line1, line2], ['STST', 'EXP', 'mean (STST)','mean (EXP)'], loc=\"upper left\")\n",
    "\n",
    "fig.tight_layout()\n",
    "plt.show()\n",
    "\n",
    "fig.savefig(f\"{PLOT_DIR}/mv_el_con_both_box.png\")"
   ]
  },
  {
   "cell_type": "code",
   "execution_count": null,
   "metadata": {
    "pycharm": {
     "name": "#%%\n"
    }
   },
   "outputs": [],
   "source": [
    "# Further investigation\n",
    "df_stst_ons[[c + \"_cost_mv_el\" for c in c_el_con_s]].mean().mean()\n",
    "df_exp_ons[[c + \"_cost_mv_el\" for c in c_el_con_s]].mean().mean()\n",
    "\n",
    "df_stst_ons[[c + \"_cost_mv_el\" for c in c_el_con_s]].mean() - df_exp_ons[[c + \"_cost_mv_el\" for c in c_el_con_s]].mean()\n",
    "\n",
    "(df_stst_ons[[c + \"_cost_mv_el\" for c in c_el_con_s]].describe().loc[\"75%\"] -\n",
    " df_stst_ons[[c + \"_cost_mv_el\" for c in c_el_con_s]].describe().loc[\"25%\"]) - (\n",
    "            df_exp_ons[[c + \"_cost_mv_el\" for c in c_el_con_s]].describe().loc[\"75%\"] -\n",
    "            df_exp_ons[[c + \"_cost_mv_el\" for c in c_el_con_s]].describe().loc[\"25%\"])\n",
    "\n",
    "(df_stst_ons[[c + \"_cost_mv_el\" for c in c_el_con_s]].describe().loc[\"std\"] -\n",
    " df_exp_ons[[c + \"_cost_mv_el\" for c in c_el_con_s]].describe().loc[\"std\"])\n",
    "\n",
    "df_stst_ons[[c + \"_cost_mv_el\" for c in c_el_con_s]].mean().sort_values()"
   ]
  },
  {
   "cell_type": "markdown",
   "metadata": {
    "pycharm": {
     "name": "#%% md\n"
    }
   },
   "source": [
    "## Spatial Differences (4.3.2)"
   ]
  },
  {
   "cell_type": "markdown",
   "metadata": {
    "pycharm": {
     "name": "#%% md\n"
    }
   },
   "source": [
    "### Spatial correlation of mv, gen"
   ]
  },
  {
   "cell_type": "code",
   "execution_count": null,
   "metadata": {
    "pycharm": {
     "name": "#%%\n"
    }
   },
   "outputs": [],
   "source": [
    "# Spatial correlation of mv\n",
    "\n",
    "fig, axs = plt.subplots(ncols=2, figsize=(15, 5))\n",
    "\n",
    "for i, df, ax in zip([0,1], [df_stst_ons, df_exp_ons], axs):\n",
    "\n",
    "    corr = df[[c + \"_mv\" for c in c_el_gen_s]].corr()\n",
    "    corr.index = [carrier_renaming.get(n, n) for n in c_el_gen_s]\n",
    "    corr.columns = [carrier_renaming.get(n, n) for n in c_el_gen_s]\n",
    "    mask = np.triu(np.ones_like(corr, dtype=bool))\n",
    "\n",
    "    sns.heatmap(corr[abs(corr) > 0.4], mask=mask, cmap=\"magma_r\", annot=True, ax=ax)\n",
    "    ax.set_title('STST' if i == 0 else 'EXP')\n",
    "\n",
    "fig.tight_layout(pad=1.5)\n",
    "plt.show()\n",
    "\n",
    "#fig.savefig(f\"{PLOT_DIR}/mv_el_gen_both_corr.png\")"
   ]
  },
  {
   "cell_type": "code",
   "execution_count": null,
   "metadata": {
    "pycharm": {
     "name": "#%%\n"
    }
   },
   "outputs": [],
   "source": [
    "# Spatial correlation of purchasing prices\n",
    "\n",
    "fig, axs = plt.subplots(ncols=2, figsize=(8, 3))\n",
    "\n",
    "for df, ax in zip([df_stst_ons, df_exp_ons], axs):\n",
    "    corr = df[[c + \"_cost_mv_el\" for c in c_el_con_s]].corr()\n",
    "    corr.index = [carrier_renaming.get(n, n) for n in c_el_con_s]\n",
    "    corr.columns = [carrier_renaming.get(n, n) for n in c_el_con_s]\n",
    "\n",
    "    mask = np.triu(np.ones_like(corr, dtype=bool))\n",
    "\n",
    "    sns.heatmap(corr[abs(corr) > 0.5], mask=mask, cmap=\"magma_r\", annot=True, ax=ax)\n",
    "fig.tight_layout(pad=1.5)\n",
    "\n",
    "plt.close()\n",
    "plt.show()"
   ]
  },
  {
   "cell_type": "code",
   "execution_count": null,
   "metadata": {
    "pycharm": {
     "name": "#%%\n"
    }
   },
   "outputs": [],
   "source": [
    "# Spatial correlation of both\n",
    "\n",
    "fig, axs = plt.subplots(ncols=2, figsize=(17, 6))\n",
    "\n",
    "for df, ax in zip([df_stst_ons, df_exp_ons], axs):\n",
    "    corr = df[[c + \"_mv\" for c in c_el_gen_s] + [c + \"_cost_mv_el\" for c in c_el_con_s]].corr()\n",
    "    corr.index = [carrier_renaming.get(n, n) for n in c_el_gen_s] + [carrier_renaming.get(n, n) + \" (con)\" for n in c_el_con_s]\n",
    "    corr.columns = [carrier_renaming.get(n, n) for n in c_el_gen_s] + [carrier_renaming.get(n, n)+ \" (con)\" for n in c_el_con_s]\n",
    "\n",
    "    mask = np.triu(np.ones_like(corr, dtype=bool))\n",
    "\n",
    "    sns.heatmap(corr[abs(corr) > 0.5], mask=mask, cmap=\"magma_r\", annot=True, ax=ax)\n",
    "fig.tight_layout(pad=1.5)\n",
    "plt.close()\n",
    "plt.show()"
   ]
  },
  {
   "cell_type": "code",
   "execution_count": null,
   "metadata": {
    "pycharm": {
     "name": "#%%\n"
    }
   },
   "outputs": [],
   "source": [
    "# correlation analysis\n",
    "# what do you want to find?\n",
    "\n",
    "\n",
    "corr_gini_res = pd.DataFrame(index=c_el_gen_s, columns=[[\"corr_mv_gen_STST\", \"cor_mv_gen_EXP\", \"gini_gen_STST\", \"gini_gen_EXP\", \"gini_gen_diff_EXP-STST\", \"gini_mv_STST\", \"gini_mv_EXP\", \"gini_mv_diff_EXP-STST\"]])\n",
    "for c in c_el_gen_s:\n",
    "    corr_gini_res.loc[c,\"corr_mv_gen_STST\"] = df_stst_ons[f\"{c}_mv\"].corr(df_stst_ons[f\"{c}_gen\"])\n",
    "    corr_gini_res.loc[c,\"cor_mv_gen_EXP\"] = df_exp_ons[f\"{c}_mv\"].corr(df_exp_ons[f\"{c}_gen\"])\n",
    "    corr_gini_res.loc[c,\"gini_gen_STST\"] = gini(df_stst_ons[[f\"{c}_gen\"]].dropna().values)\n",
    "    corr_gini_res.loc[c,\"gini_gen_EXP\"] = gini(df_exp_ons[[f\"{c}_gen\"]].dropna().values)\n",
    "    corr_gini_res.loc[c,\"gini_gen_EXP\"] = gini(df_exp_ons[[f\"{c}_gen\"]].dropna().values)\n",
    "    corr_gini_res.loc[c,\"gini_mv_STST\"] = gini(df_stst_ons[[f\"{c}_mv\"]].dropna().values)\n",
    "    corr_gini_res.loc[c,\"gini_mv_EXP\"] = gini(df_exp_ons[[f\"{c}_mv\"]].dropna().values)\n",
    "\n",
    "corr_gini_res[\"gini_gen_diff_EXP-STST\"] = corr_gini_res[\"gini_gen_EXP\"].values - corr_gini_res[\"gini_gen_STST\"].values\n",
    "corr_gini_res[\"gini_mv_diff_EXP-STST\"] = corr_gini_res[\"gini_mv_EXP\"].values - corr_gini_res[\"gini_mv_STST\"].values\n",
    "corr_gini_res"
   ]
  },
  {
   "cell_type": "markdown",
   "metadata": {
    "pycharm": {
     "name": "#%% md\n"
    }
   },
   "source": [
    "**Findings:**\n",
    "- gini: the higher, the more uneven distributed\n",
    "- generation is more uneven distributed in EXP case\n",
    "- mv are more evenly distributed in EXP case"
   ]
  },
  {
   "cell_type": "markdown",
   "metadata": {
    "pycharm": {
     "name": "#%% md\n"
    }
   },
   "source": [
    "### Electricity producing technologies"
   ]
  },
  {
   "cell_type": "markdown",
   "metadata": {
    "pycharm": {
     "name": "#%% md\n"
    }
   },
   "source": [
    "#### VRE"
   ]
  },
  {
   "cell_type": "code",
   "execution_count": null,
   "metadata": {
    "pycharm": {
     "name": "#%%\n"
    }
   },
   "outputs": [],
   "source": [
    "# VRE\n",
    "\n",
    "# market values across regions as map\n",
    "carriers = [\"onwind\", \"solar\",\"offwind-dc\", \"ror\"]\n",
    "\n",
    "fig, axs = plt.subplots(ncols=2, nrows=2, subplot_kw={'projection': ccrs.EqualEarth()},\n",
    "                        figsize=(18, 16))\n",
    "crs = ccrs.EqualEarth()\n",
    "\n",
    "for i, ax in enumerate(axs.reshape(-1)):\n",
    "\n",
    "    if carriers[i] in [\"offwind-dc\", \"offwind-ac\"]:\n",
    "        df = df_stst_off\n",
    "    else:\n",
    "        df = df_stst_ons\n",
    "\n",
    "    ax.add_feature(cartopy.feature.BORDERS, edgecolor='black', linewidth=0.5)\n",
    "    ax.coastlines(edgecolor='black', linewidth=0.5)\n",
    "    ax.set_facecolor('white')\n",
    "    ax.add_feature(cartopy.feature.OCEAN, color='azure')\n",
    "\n",
    "    df.to_crs(crs.proj4_init).plot(column=f\"{carriers[i]}_mv\",\n",
    "                                   ax=ax,\n",
    "                                   cmap=plt.get_cmap(\"magma_r\"),\n",
    "                                   linewidth=0.05,\n",
    "                                   edgecolor = 'grey',\n",
    "                                   legend=True,\n",
    "                                   legend_kwds={'label':\"market values ($€/MWh_{el}$)\",'orientation': \"vertical\",'shrink' : 0.9}\n",
    "                                   )\n",
    "\n",
    "    max_size = df[f\"{carriers[i]}_gen\"].max()\n",
    "    df.to_crs(crs.proj4_init).centroid.plot(ax=ax, sizes=df[f\"{carriers[i]}_gen\"] / max_size *300,  color=\"black\", edgecolor=\"white\")\n",
    "    pypsa.plot.add_legend_circles(ax=ax, sizes=[0.6], labels=[\"Generation magnitude\"], patch_kw={'color': 'black', 'edgecolor': 'white'}, legend_kw={'loc': 'upper left'})\n",
    "\n",
    "    # always select same section\n",
    "    xmin, ymin, xmax, ymax = df_stst_off.to_crs(crs.proj4_init).total_bounds\n",
    "    pad = 1 * 1e5  # add a padding around the geometry\n",
    "    ax.set_xlim(xmin-pad, xmax+pad)\n",
    "    ax.set_ylim(ymin-pad, ymax+pad)\n",
    "\n",
    "    ax.set_title(f\"{carriers[i]}\", fontsize=16, **font1)\n",
    "\n",
    "# fig.suptitle(\"Spatial Differences in the electricity generation of the VRE technologies (STST)\", fontsize=16, **font1)\n",
    "fig.tight_layout()\n",
    "\n",
    "plt.close()\n",
    "plt.show()\n",
    "\n",
    "\n",
    "# fig.savefig(f\"{PLOT_DIR}/mv_el_gen_vre_STST_map.png\")"
   ]
  },
  {
   "cell_type": "code",
   "execution_count": null,
   "metadata": {
    "pycharm": {
     "name": "#%%\n"
    }
   },
   "outputs": [],
   "source": [
    "# Further investigation\n",
    "# TODO why is the correlation between mv and cp for ror positive\n",
    "c_vre = [\"onwind\", \"solar\", \"offwind-dc\", \"solar rooftop\", \"offwind-ac\", \"ror\"]\n",
    "for c in c_vre:\n",
    "    print(c)\n",
    "    print(df_stst_ons[f\"{c}_mv\"].corr(df_stst_ons[f\"{c}_gen\"]))\n",
    "    print(df_stst_ons[f\"{c}_mv\"].corr(df_stst_ons[f\"{c}_cf\"]))\n",
    "\n",
    "# generation weighted market value\n",
    "c = \"ror\"\n",
    "((df_stst_ons[f\"{c}_gen\"] / df_stst_ons[f\"{c}_gen\"].sum()) * df_stst_ons[f\"{c}_mv\"]).sum()"
   ]
  },
  {
   "cell_type": "code",
   "execution_count": null,
   "metadata": {
    "pycharm": {
     "name": "#%%\n"
    }
   },
   "outputs": [],
   "source": [
    "# VRE difference\n",
    "\n",
    "# market values across regions as map\n",
    "carriers = [\"onwind\", \"solar\",\"offwind-dc\", \"ror\"]\n",
    "\n",
    "for c in carriers:\n",
    "    # if one mv is nan the result is nan as well\n",
    "    if c in [\"offwind-dc\", \"offwind-ac\"]:\n",
    "        df_stst_off[f\"{c}_mv_STST-EXP\"] = df_stst_off[f\"{c}_mv\"] - df_exp_off[f\"{c}_mv\"]\n",
    "    else:\n",
    "        df_stst_ons[f\"{c}_mv_STST-EXP\"] = df_stst_ons[f\"{c}_mv\"] - df_exp_ons[f\"{c}_mv\"]\n",
    "\n",
    "fig, axs = plt.subplots(ncols=2, nrows=2, subplot_kw={'projection': ccrs.EqualEarth()},\n",
    "                        figsize=(18, 16))\n",
    "crs = ccrs.EqualEarth()\n",
    "\n",
    "for i, ax in enumerate(axs.reshape(-1)):\n",
    "\n",
    "    if carriers[i] in [\"offwind-dc\", \"offwind-ac\"]:\n",
    "        df = df_stst_off\n",
    "        df_2 = df_exp_off\n",
    "    else:\n",
    "        df = df_stst_ons\n",
    "        df_2 = df_exp_ons\n",
    "\n",
    "    abs_max = max(abs(df[f\"{carriers[i]}_mv_STST-EXP\"].max()) , abs(df[f\"{carriers[i]}_mv_STST-EXP\"].min()))\n",
    "\n",
    "    ax.add_feature(cartopy.feature.BORDERS, edgecolor='black', linewidth=0.5)\n",
    "    ax.coastlines(edgecolor='black', linewidth=0.5)\n",
    "    ax.set_facecolor('white')\n",
    "    ax.add_feature(cartopy.feature.OCEAN, color='azure')\n",
    "\n",
    "    df.to_crs(crs.proj4_init).plot(column=f\"{carriers[i]}_mv_STST-EXP\",\n",
    "                                   ax=ax,\n",
    "                                   cmap=plt.get_cmap('RdYlGn'),\n",
    "                                   vmax=abs_max,\n",
    "                                   vmin=-abs_max,\n",
    "                                   linewidth=0.05,\n",
    "                                   edgecolor = 'grey',\n",
    "                                   legend=True,\n",
    "                                   legend_kwds={'label':\"market value differences ($€/MWh_{el}$)\",'orientation': \"vertical\",'shrink' : 0.8}\n",
    "                                   )\n",
    "\n",
    "    # difference in generation (STST-EXP)\n",
    "    gen_diff = df[f\"{carriers[i]}_gen\"] - df_2[f\"{carriers[i]}_gen\"]\n",
    "    # red if negative and green if positive\n",
    "    colors = ['red' if (x < 0) else 'green' for x in gen_diff ]\n",
    "\n",
    "    max_size = abs(gen_diff).max()\n",
    "    df.to_crs(crs.proj4_init).centroid.plot(ax=ax, sizes=(abs(gen_diff) / max_size) * 500,  color=colors, edgecolor=\"white\")\n",
    "    circle1 = Line2D([], [], color=\"white\", marker='o', markerfacecolor=\"green\", markeredgecolor=\"white\", markersize=10)\n",
    "    circle2 = Line2D([], [], color=\"white\", marker='o', markerfacecolor=\"red\", markeredgecolor=\"white\", markersize=10)\n",
    "    circle3 = Line2D([], [], color=\"white\", marker='o', markerfacecolor=\"white\", markeredgecolor=\"black\", markersize=10)\n",
    "\n",
    "    unit = \"TWh\" if max_size > 1e3 else \"GWh\"\n",
    "    max_size = max_size / 1e3 if max_size > 1e3 else max_size\n",
    "    ax.legend((circle1, circle2, circle3), ('Increased production in STST', 'Increased production in EXP', f\"max circle size: {round(max_size)} {unit}\"), numpoints=1, loc=\"upper left\")\n",
    "\n",
    "\n",
    "    # always select same section\n",
    "    xmin, ymin, xmax, ymax = df_stst_off.to_crs(crs.proj4_init).total_bounds\n",
    "    pad = 1 * 1e5  # add a padding around the geometry\n",
    "    ax.set_xlim(xmin-pad, xmax+pad)\n",
    "    ax.set_ylim(ymin-pad, ymax+pad)\n",
    "\n",
    "    ax.set_title(f\"{carriers[i]} mv (STST - EXP)\", fontsize=16, **font1)\n",
    "\n",
    "# fig.suptitle(\"Spatial Differences in the electricity generation of the VRE technologies (STST)\", fontsize=16, **font1)\n",
    "fig.tight_layout()\n",
    "\n",
    "plt.close()\n",
    "plt.show()\n",
    "\n",
    "\n",
    "fig.savefig(f\"{PLOT_DIR}/mv_el_gen_vre_STST-EXP_map.png\")"
   ]
  },
  {
   "cell_type": "markdown",
   "metadata": {
    "pycharm": {
     "name": "#%% md\n"
    }
   },
   "source": [
    "#### Storage"
   ]
  },
  {
   "cell_type": "code",
   "execution_count": null,
   "metadata": {
    "pycharm": {
     "name": "#%%\n"
    }
   },
   "outputs": [],
   "source": [
    "# Storage\n",
    "\n",
    "# market values across regions as map\n",
    "carriers = [\"hydro\", \"battery discharger\", \"V2G\", \"PHS\"]\n",
    "\n",
    "fig, axs = plt.subplots(ncols=2, nrows=2, subplot_kw={'projection': ccrs.EqualEarth()},\n",
    "                        figsize=(18, 16))\n",
    "crs = ccrs.EqualEarth()\n",
    "\n",
    "for i, ax in enumerate(axs.reshape(-1)):\n",
    "\n",
    "    if carriers[i] in [\"offwind-dc\", \"offwind-ac\"]:\n",
    "        df = df_stst_off\n",
    "    else:\n",
    "        df = df_stst_ons\n",
    "\n",
    "    ax.add_feature(cartopy.feature.BORDERS, edgecolor='black', linewidth=0.5)\n",
    "    ax.coastlines(edgecolor='black', linewidth=0.5)\n",
    "    ax.set_facecolor('white')\n",
    "    ax.add_feature(cartopy.feature.OCEAN, color='azure')\n",
    "\n",
    "    df.to_crs(crs.proj4_init).plot(column=f\"{carriers[i]}_mv\",\n",
    "                                   ax=ax,\n",
    "                                   cmap=plt.get_cmap(\"magma_r\"),\n",
    "                                   linewidth=0.05,\n",
    "                                   edgecolor = 'grey',\n",
    "                                   legend=True,\n",
    "                                   legend_kwds={'label':\"market values ($€/MWh_{el}$)\",'orientation': \"vertical\",'shrink' : 0.9}\n",
    "                                   )\n",
    "\n",
    "    max_size = df[f\"{carriers[i]}_gen\"].max()\n",
    "    df.to_crs(crs.proj4_init).centroid.plot(ax=ax, sizes=df[f\"{carriers[i]}_gen\"] / max_size *300,  color=\"black\", edgecolor=\"white\")\n",
    "    pypsa.plot.add_legend_circles(ax=ax, sizes=[0.6], labels=[\"Generation magnitude\"], patch_kw={'color': 'black', 'edgecolor': 'white'}, legend_kw={'loc': 'upper left'})\n",
    "\n",
    "    # always select same section\n",
    "    xmin, ymin, xmax, ymax = df_stst_off.to_crs(crs.proj4_init).total_bounds\n",
    "    pad = 1 * 1e5  # add a padding around the geometry\n",
    "    ax.set_xlim(xmin-pad, xmax+pad)\n",
    "    ax.set_ylim(ymin-pad, ymax+pad)\n",
    "\n",
    "    ax.set_title(f\"{carriers[i]}\", fontsize=16, **font1)\n",
    "\n",
    "# fig.suptitle(\"Spatial Differences in the electricity generation of the VRE technologies (STST)\", fontsize=16, **font1)\n",
    "fig.tight_layout()\n",
    "\n",
    "plt.close()\n",
    "plt.show()\n",
    "\n",
    "\n",
    "#fig.savefig(f\"{PLOT_DIR}/mv_el_gen_store_STST_map.png\")"
   ]
  },
  {
   "cell_type": "code",
   "execution_count": null,
   "metadata": {
    "pycharm": {
     "name": "#%%\n"
    }
   },
   "outputs": [],
   "source": [
    "# Storage difference\n",
    "\n",
    "# market values across regions as map\n",
    "carriers = [\"hydro\", \"battery discharger\", \"V2G\", \"PHS\"]\n",
    "\n",
    "for c in carriers:\n",
    "    # if one mv is nan the result is nan as well\n",
    "    if c in [\"offwind-dc\", \"offwind-ac\"]:\n",
    "        df_stst_off[f\"{c}_mv_STST-EXP\"] = df_stst_off[f\"{c}_mv\"] - df_exp_off[f\"{c}_mv\"]\n",
    "    else:\n",
    "        df_stst_ons[f\"{c}_mv_STST-EXP\"] = df_stst_ons[f\"{c}_mv\"] - df_exp_ons[f\"{c}_mv\"]\n",
    "\n",
    "fig, axs = plt.subplots(ncols=2, nrows=2, subplot_kw={'projection': ccrs.EqualEarth()},\n",
    "                        figsize=(18, 16))\n",
    "crs = ccrs.EqualEarth()\n",
    "\n",
    "for i, ax in enumerate(axs.reshape(-1)):\n",
    "\n",
    "    if carriers[i] in [\"offwind-dc\", \"offwind-ac\"]:\n",
    "        df = df_stst_off\n",
    "        df_2 = df_exp_off\n",
    "    else:\n",
    "        df = df_stst_ons\n",
    "        df_2 = df_exp_ons\n",
    "\n",
    "    abs_max = max(abs(df[f\"{carriers[i]}_mv_STST-EXP\"].max()) , abs(df[f\"{carriers[i]}_mv_STST-EXP\"].min()))\n",
    "\n",
    "    ax.add_feature(cartopy.feature.BORDERS, edgecolor='black', linewidth=0.5)\n",
    "    ax.coastlines(edgecolor='black', linewidth=0.5)\n",
    "    ax.set_facecolor('white')\n",
    "    ax.add_feature(cartopy.feature.OCEAN, color='azure')\n",
    "\n",
    "    df.to_crs(crs.proj4_init).plot(column=f\"{carriers[i]}_mv_STST-EXP\",\n",
    "                                   ax=ax,\n",
    "                                   cmap=plt.get_cmap('RdYlGn'),\n",
    "                                   vmax=abs_max,\n",
    "                                   vmin=-abs_max,\n",
    "                                   linewidth=0.05,\n",
    "                                   edgecolor = 'grey',\n",
    "                                   legend=True,\n",
    "                                   legend_kwds={'label':\"market value differences ($€/MWh_{el}$)\",'orientation': \"vertical\",'shrink' : 0.8}\n",
    "                                   )\n",
    "\n",
    "    # difference in generation (STST-EXP)\n",
    "    gen_diff = df[f\"{carriers[i]}_gen\"] - df_2[f\"{carriers[i]}_gen\"]\n",
    "    # red if negative and green if positive\n",
    "    colors = ['red' if (x < 0) else 'green' for x in gen_diff ]\n",
    "\n",
    "    max_size = abs(gen_diff).max()\n",
    "    df.to_crs(crs.proj4_init).centroid.plot(ax=ax, sizes=(abs(gen_diff) / max_size) * 500,  color=colors, edgecolor=\"white\")\n",
    "    circle1 = Line2D([], [], color=\"white\", marker='o', markerfacecolor=\"green\", markeredgecolor=\"white\", markersize=10)\n",
    "    circle2 = Line2D([], [], color=\"white\", marker='o', markerfacecolor=\"red\", markeredgecolor=\"white\", markersize=10)\n",
    "    circle3 = Line2D([], [], color=\"white\", marker='o', markerfacecolor=\"white\", markeredgecolor=\"black\", markersize=10)\n",
    "\n",
    "    unit = \"TWh\" if max_size > 1e3 else \"GWh\"\n",
    "    max_size = max_size / 1e3 if max_size > 1e3 else max_size\n",
    "    ax.legend((circle1, circle2, circle3), ('Increased production in STST', 'Increased production in EXP', f\"max circle size: {round(max_size)} {unit}\"), numpoints=1, loc=\"upper left\")\n",
    "\n",
    "\n",
    "    # always select same section\n",
    "    xmin, ymin, xmax, ymax = df_stst_off.to_crs(crs.proj4_init).total_bounds\n",
    "    pad = 1 * 1e5  # add a padding around the geometry\n",
    "    ax.set_xlim(xmin-pad, xmax+pad)\n",
    "    ax.set_ylim(ymin-pad, ymax+pad)\n",
    "\n",
    "    ax.set_title(f\"{carriers[i]} mv (STST - EXP)\", fontsize=16, **font1)\n",
    "\n",
    "# fig.suptitle(\"Spatial Differences in the electricity generation of the VRE technologies (STST)\", fontsize=16, **font1)\n",
    "fig.tight_layout()\n",
    "\n",
    "plt.close()\n",
    "plt.show()\n",
    "\n",
    "\n",
    "fig.savefig(f\"{PLOT_DIR}/mv_el_gen_store_STST-EXP_map.png\")"
   ]
  },
  {
   "cell_type": "code",
   "execution_count": null,
   "metadata": {
    "pycharm": {
     "name": "#%%\n"
    }
   },
   "outputs": [],
   "source": [
    "# Storage\n",
    "# \"hydro\", \"battery discharger\", \"V2G\", \"PHS\"\n",
    "\n",
    "carriers = [\"hydro\", \"V2G\"]\n",
    "\n",
    "fig, axs = plt.subplots(ncols=2, nrows=1, subplot_kw={'projection': ccrs.EqualEarth()}, figsize=(18, 8),\n",
    "                        gridspec_kw={'width_ratios': [1, 1], 'height_ratios': [1]}\n",
    "                        )\n",
    "crs = ccrs.EqualEarth()\n",
    "\n",
    "for i, ax in enumerate(axs):\n",
    "\n",
    "    if carriers[i] in [\"offwind-dc\", \"offwind-ac\"]:\n",
    "        df = df_stst_off\n",
    "    else:\n",
    "        df = df_stst_ons\n",
    "\n",
    "    ax.add_feature(cartopy.feature.BORDERS, edgecolor='black', linewidth=0.5)\n",
    "    ax.coastlines(edgecolor='black', linewidth=0.5)\n",
    "    ax.set_facecolor('white')\n",
    "    ax.add_feature(cartopy.feature.OCEAN, color='azure')\n",
    "\n",
    "    df.to_crs(crs.proj4_init).plot(column=f\"{carriers[i]}_mv\",\n",
    "                                   ax=ax,\n",
    "                                   cmap=plt.get_cmap(\"magma_r\"),\n",
    "                                   linewidth=0.05,\n",
    "                                   edgecolor = 'grey',\n",
    "                                   legend=True,\n",
    "                                   legend_kwds={'label':\"market values ($€/MWh_{el}$)\",'orientation': \"vertical\",'shrink' : 0.9}\n",
    "                                   )\n",
    "\n",
    "    max_size = df[f\"{carriers[i]}_gen\"].max()\n",
    "    df.to_crs(crs.proj4_init).centroid.plot(ax=ax, sizes=df[f\"{carriers[i]}_gen\"] / max_size *300,  color=\"black\", edgecolor=\"white\")\n",
    "    pypsa.plot.add_legend_circles(ax=ax, sizes=[0.6], labels=[\"Generation magnitude\"], patch_kw={'color': 'black', 'edgecolor': 'white'}, legend_kw={'loc': 'upper left'})\n",
    "\n",
    "    # always select same section\n",
    "    xmin, ymin, xmax, ymax = df_stst_ons.to_crs(crs.proj4_init).total_bounds\n",
    "    pad = 1 * 1e5  # add a padding around the geometry\n",
    "    ax.set_xlim(xmin-pad, xmax+pad)\n",
    "    ax.set_ylim(ymin-pad, ymax+pad)\n",
    "\n",
    "    ax.set_title(f\"{carriers[i]}\", fontsize=16, **font1)\n",
    "\n",
    "# fig.suptitle(\"Spatial Differences in the electricity generation of the VRE technologies (STST)\", fontsize=16, **font1)\n",
    "fig.tight_layout()\n",
    "\n",
    "plt.close()\n",
    "plt.show()\n",
    "\n",
    "\n",
    "# fig.savefig(f\"{PLOT_DIR}/mv_el_gen_stor_hydro_V2G_STST_map.png\")"
   ]
  },
  {
   "cell_type": "code",
   "execution_count": null,
   "metadata": {
    "pycharm": {
     "name": "#%%\n"
    }
   },
   "outputs": [],
   "source": [
    "# plot difference\n",
    "\n",
    "# Storage difference\n",
    "# \"hydro\", \"battery discharger\", \"V2G\", \"PHS\"\n",
    "\n",
    "carriers = [\"hydro\", \"V2G\"]\n",
    "for c in carriers:\n",
    "    # if one mv is nan the result is nan as well\n",
    "    df_stst_ons[f\"{c}_mv_STST-EXP\"] = df_stst_ons[f\"{c}_mv\"] - df_exp_ons[f\"{c}_mv\"]\n",
    "\n",
    "fig, axs = plt.subplots(ncols=2, nrows=1, subplot_kw={'projection': ccrs.EqualEarth()}, figsize=(18, 8),\n",
    "                        gridspec_kw={'width_ratios': [1, 1], 'height_ratios': [1]}\n",
    "                        )\n",
    "crs = ccrs.EqualEarth()\n",
    "\n",
    "for i, ax in enumerate(axs):\n",
    "\n",
    "    if carriers[i] in [\"offwind-dc\", \"offwind-ac\"]:\n",
    "        df = df_stst_off\n",
    "    else:\n",
    "        df = df_stst_ons\n",
    "\n",
    "    ax.add_feature(cartopy.feature.BORDERS, edgecolor='black', linewidth=0.5)\n",
    "    ax.coastlines(edgecolor='black', linewidth=0.5)\n",
    "    ax.set_facecolor('white')\n",
    "    ax.add_feature(cartopy.feature.OCEAN, color='azure')\n",
    "\n",
    "    df.to_crs(crs.proj4_init).plot(column=f\"{carriers[i]}_mv_STST-EXP\",\n",
    "                                   ax=ax,\n",
    "                                   cmap=plt.get_cmap(\"magma_r\"),\n",
    "                                   linewidth=0.05,\n",
    "                                   edgecolor = 'grey',\n",
    "                                   legend=True,\n",
    "                                   legend_kwds={'label':\"market values ($€/MWh_{el}$)\",'orientation': \"vertical\",'shrink' : 0.9}\n",
    "                                   )\n",
    "\n",
    "    max_size = df[f\"{carriers[i]}_gen\"].max()\n",
    "    df.to_crs(crs.proj4_init).centroid.plot(ax=ax, sizes=df[f\"{carriers[i]}_gen\"] / max_size *300,  color=\"black\", edgecolor=\"white\")\n",
    "    pypsa.plot.add_legend_circles(ax=ax, sizes=[0.6], labels=[\"Generation magnitude\"], patch_kw={'color': 'black', 'edgecolor': 'white'}, legend_kw={'loc': 'upper left'})\n",
    "\n",
    "    # always select same section\n",
    "    xmin, ymin, xmax, ymax = df_stst_ons.to_crs(crs.proj4_init).total_bounds\n",
    "    pad = 1 * 1e5  # add a padding around the geometry\n",
    "    ax.set_xlim(xmin-pad, xmax+pad)\n",
    "    ax.set_ylim(ymin-pad, ymax+pad)\n",
    "\n",
    "    ax.set_title(f\"{carriers[i]}\", fontsize=16, **font1)\n",
    "\n",
    "# fig.suptitle(\"Spatial Differences in the electricity generation of the VRE technologies (STST)\", fontsize=16, **font1)\n",
    "fig.tight_layout()\n",
    "\n",
    "plt.close()\n",
    "plt.show()\n",
    "\n",
    "\n",
    "# fig.savefig(f\"{PLOT_DIR}/mv_el_gen_stor_hydro_V2G_STST-EXP_map.png\")"
   ]
  },
  {
   "cell_type": "code",
   "execution_count": null,
   "metadata": {
    "pycharm": {
     "name": "#%%\n"
    }
   },
   "outputs": [],
   "source": [
    "# Further investigation\n",
    "c = \"V2G\"\n",
    "df_stst_ons[[f\"{c}_mv\",f\"{c}_gen\"]].sort_values(by=f\"{c}_mv\")"
   ]
  },
  {
   "cell_type": "code",
   "execution_count": null,
   "metadata": {
    "pycharm": {
     "name": "#%%\n"
    }
   },
   "outputs": [],
   "source": [
    "df_exp_ons[[f\"{c}_mv\",f\"{c}_gen\"]].sort_values(by=f\"{c}_mv\")"
   ]
  },
  {
   "cell_type": "code",
   "execution_count": null,
   "metadata": {
    "pycharm": {
     "name": "#%%\n"
    }
   },
   "outputs": [],
   "source": [
    "# difference in mv\n",
    "pd.concat([df_stst_ons[f\"{c}_mv\"] - df_exp_ons[f\"{c}_mv\"], df_stst_ons[f\"{c}_gen\"],df_exp_ons[f\"{c}_gen\"]], axis=1).sort_values(by=f\"{c}_mv\")"
   ]
  },
  {
   "cell_type": "code",
   "execution_count": null,
   "metadata": {
    "pycharm": {
     "name": "#%%\n"
    }
   },
   "outputs": [],
   "source": [
    "for c in c_el_gen_s:\n",
    "    print(c)\n",
    "    mv_diff = df_stst_ons[f\"{c}_mv\"] - df_exp_ons[f\"{c}_mv\"]\n",
    "    gen_diff = df_stst_ons[f\"{c}_gen\"] - df_exp_ons[f\"{c}_gen\"]\n",
    "    print(mv_diff.corr(gen_diff))"
   ]
  },
  {
   "cell_type": "code",
   "execution_count": null,
   "metadata": {
    "pycharm": {
     "name": "#%%\n"
    }
   },
   "outputs": [],
   "source": [
    "# Norway analysis\n",
    "i_no = df_stst_ons.index[df_stst_ons.index.str.contains(\"NO\")]\n",
    "# generation weighted market value\n",
    "c = \"hydro\"\n",
    "((df_stst_ons.loc[i_no, f\"{c}_gen\"] / df_stst_ons.loc[i_no, f\"{c}_gen\"].sum()) * df_stst_ons.loc[i_no,f\"{c}_mv\"]).sum()\n",
    "#df_stst_ons.loc[i_no, f\"{c}_gen\"].sum()"
   ]
  },
  {
   "cell_type": "code",
   "execution_count": null,
   "metadata": {
    "pycharm": {
     "name": "#%%\n"
    }
   },
   "outputs": [],
   "source": [
    "c = \"V2G\"\n",
    "((df_exp_ons.loc[i_no, f\"{c}_gen\"] / df_exp_ons.loc[i_no, f\"{c}_gen\"].sum()) * df_exp_ons.loc[i_no,f\"{c}_mv\"]).sum()\n",
    "df_exp_ons.loc[i_no, f\"{c}_gen\"].sum()"
   ]
  },
  {
   "cell_type": "code",
   "execution_count": null,
   "metadata": {
    "pycharm": {
     "name": "#%%\n"
    }
   },
   "outputs": [],
   "source": [
    "c_vre = [\"hydro\", \"battery discharger\", \"V2G\", \"PHS\"]\n",
    "for c in c_vre:\n",
    "    print(c)\n",
    "    print(df_stst_ons[f\"{c}_mv\"].corr(df_stst_ons[f\"{c}_gen\"]))\n",
    "    print(df_stst_ons[f\"{c}_mv\"].corr(df_stst_ons[f\"{c}_cf\"]))"
   ]
  },
  {
   "cell_type": "code",
   "execution_count": null,
   "metadata": {
    "pycharm": {
     "name": "#%%\n"
    }
   },
   "outputs": [],
   "source": [
    "c_vre = [\"hydro\", \"battery discharger\", \"V2G\", \"PHS\"]\n",
    "for c in c_vre:\n",
    "    print(c)\n",
    "    print(df_exp_ons[f\"{c}_mv\"].corr(df_stst_ons[f\"{c}_gen\"]))\n",
    "    print(df_exp_ons[f\"{c}_mv\"].corr(df_stst_ons[f\"{c}_cf\"]))"
   ]
  },
  {
   "cell_type": "code",
   "execution_count": null,
   "metadata": {
    "pycharm": {
     "name": "#%%\n"
    }
   },
   "outputs": [],
   "source": [
    "# generation weighted market value\n",
    "c = \"hydro\"\n",
    "((df_stst_ons[f\"{c}_gen\"] / df_stst_ons[f\"{c}_gen\"].sum()) * df_stst_ons[f\"{c}_mv\"]).sum()"
   ]
  },
  {
   "cell_type": "code",
   "execution_count": null,
   "metadata": {
    "pycharm": {
     "name": "#%%\n"
    }
   },
   "outputs": [],
   "source": [
    "# generation weighted market value\n",
    "c = \"hydro\"\n",
    "((df_exp_ons[f\"{c}_gen\"] / df_exp_ons[f\"{c}_gen\"].sum()) * df_exp_ons[f\"{c}_mv\"]).sum()"
   ]
  },
  {
   "cell_type": "code",
   "execution_count": null,
   "metadata": {
    "pycharm": {
     "name": "#%%\n"
    }
   },
   "outputs": [],
   "source": [
    "# Storage: Battery Discharger\n",
    "\n",
    "carriers = [\"battery discharger\", \"battery discharger\"]\n",
    "\n",
    "fig, axs = plt.subplots(ncols=2, nrows=1, subplot_kw={'projection': ccrs.EqualEarth()},figsize=(18, 8),\n",
    "                        gridspec_kw={'width_ratios': [1, 0.96], 'height_ratios': [1]})\n",
    "crs = ccrs.EqualEarth()\n",
    "\n",
    "# same colorbar withds:\n",
    "vmin = min(np.nanmin(df_stst_ons[f\"{carriers[i]}_mv\"]), np.nanmin(df_exp_ons[f\"{carriers[i]}_mv\"]))\n",
    "vmax = max(np.nanmax(df_stst_ons[f\"{carriers[i]}_mv\"]), np.nanmax(df_exp_ons[f\"{carriers[i]}_mv\"]))\n",
    "\n",
    "for i, ax in enumerate(axs):\n",
    "\n",
    "    if i == 0:\n",
    "        df = df_stst_ons\n",
    "    else:\n",
    "        df = df_exp_ons\n",
    "\n",
    "    ax.add_feature(cartopy.feature.BORDERS, edgecolor='black', linewidth=0.5)\n",
    "    ax.coastlines(edgecolor='black', linewidth=0.5)\n",
    "    ax.set_facecolor('white')\n",
    "    ax.add_feature(cartopy.feature.OCEAN, color='azure')\n",
    "\n",
    "    df.to_crs(crs.proj4_init).plot(column=f\"{carriers[i]}_mv\",\n",
    "                                   ax=ax,\n",
    "                                   cmap=plt.get_cmap(\"magma_r\"),\n",
    "                                   vmin=vmin,\n",
    "                                   vmax=vmax,\n",
    "                                   linewidth=0.05,\n",
    "                                   edgecolor = 'grey',\n",
    "                                   legend=True,\n",
    "                                   legend_kwds={'label':\"market values ($€/MWh_{el}$)\",'orientation': \"vertical\",'shrink' : 0.9}\n",
    "                                   )\n",
    "\n",
    "    max_size = df[f\"{carriers[i]}_gen\"].max()\n",
    "    df.to_crs(crs.proj4_init).centroid.plot(ax=ax, sizes=df[f\"{carriers[i]}_gen\"] / max_size *300,  color=\"black\", edgecolor=\"white\")\n",
    "    pypsa.plot.add_legend_circles(ax=ax, sizes=[0.6], labels=[\"Generation magnitude\"], patch_kw={'color': 'black', 'edgecolor': 'white'}, legend_kw={'loc': 'upper left'})\n",
    "\n",
    "    # always select same section\n",
    "    xmin, ymin, xmax, ymax = df_stst_ons.to_crs(crs.proj4_init).total_bounds\n",
    "    pad = 1 * 1e5  # add a padding around the geometry\n",
    "    ax.set_xlim(xmin-pad, xmax+pad)\n",
    "    ax.set_ylim(ymin-pad, ymax+pad)\n",
    "\n",
    "    model = 'STST' if i == 0 else 'EXP'\n",
    "    ax.set_title(f\"{carriers[i]} ({model})\", fontsize=16, **font1)\n",
    "\n",
    "fig.tight_layout()\n",
    "\n",
    "plt.close()\n",
    "plt.show()\n",
    "\n",
    "\n",
    "#fig.savefig(f\"{PLOT_DIR}/mv_el_gen_bat_disch_STST_EXP_map.png\")"
   ]
  },
  {
   "cell_type": "code",
   "execution_count": null,
   "metadata": {
    "pycharm": {
     "name": "#%%\n"
    }
   },
   "outputs": [],
   "source": [
    "#### Peak plants"
   ]
  },
  {
   "cell_type": "code",
   "execution_count": null,
   "metadata": {
    "pycharm": {
     "name": "#%%\n"
    }
   },
   "outputs": [],
   "source": [
    "# Peak plants\n",
    "\n",
    "carriers = [\"urban central gas CHP\", \"urban central solid biomass CHP CC\"]\n",
    "\n",
    "fig, axs = plt.subplots(ncols=2, nrows=1,\n",
    "                        subplot_kw={'projection': ccrs.EqualEarth()},\n",
    "                        figsize=(18, 8))\n",
    "crs = ccrs.EqualEarth()\n",
    "\n",
    "for i, ax in enumerate(axs):\n",
    "\n",
    "    if carriers[i] in [\"offwind-dc\", \"offwind-ac\"]:\n",
    "        df = df_exp_off\n",
    "    else:\n",
    "        df = df_exp_ons\n",
    "\n",
    "    ax.add_feature(cartopy.feature.BORDERS, edgecolor='black', linewidth=0.5)\n",
    "    ax.coastlines(edgecolor='black', linewidth=0.5)\n",
    "    ax.set_facecolor('white')\n",
    "    ax.add_feature(cartopy.feature.OCEAN, color='azure')\n",
    "\n",
    "    df.to_crs(crs.proj4_init).plot(column=f\"{carriers[i]}_mv\",\n",
    "                                   ax=ax,\n",
    "                                   cmap=plt.get_cmap(\"magma_r\"),\n",
    "                                   linewidth=0.05,\n",
    "                                   edgecolor = 'grey',\n",
    "                                   legend=True,\n",
    "                                   legend_kwds={'label':\"market values ($€/MWh_{el}$)\",'orientation': \"vertical\",'shrink' : 0.9}\n",
    "                                   )\n",
    "\n",
    "    max_size = df[f\"{carriers[i]}_gen\"].max()\n",
    "    df.to_crs(crs.proj4_init).centroid.plot(ax=ax, sizes=df[f\"{carriers[i]}_gen\"] / max_size *300,  color=\"black\", edgecolor=\"white\")\n",
    "    pypsa.plot.add_legend_circles(ax=ax, sizes=[0.6], labels=[\"Generation magnitude\"], patch_kw={'color': 'black', 'edgecolor': 'white'}, legend_kw={'loc': 'upper left'})\n",
    "\n",
    "    # always select same section\n",
    "    xmin, ymin, xmax, ymax = df_stst_ons.to_crs(crs.proj4_init).total_bounds\n",
    "    pad = 1 * 1e5  # add a padding around the geometry\n",
    "    ax.set_xlim(xmin-pad, xmax+pad)\n",
    "    ax.set_ylim(ymin-pad, ymax+pad)\n",
    "\n",
    "    ax.set_title(f\"{carrier_renaming[carriers[i]]}\", fontsize=16, **font1)\n",
    "\n",
    "# fig.suptitle(\"Spatial Differences in the electricity generation of the VRE technologies (STST)\", fontsize=16, **font1)\n",
    "fig.tight_layout()\n",
    "\n",
    "plt.close()\n",
    "plt.show()\n",
    "\n",
    "\n",
    "# fig.savefig(f\"{PLOT_DIR}/mv_el_gen_peak_EXP_map.png\")"
   ]
  },
  {
   "cell_type": "code",
   "execution_count": null,
   "metadata": {
    "pycharm": {
     "name": "#%%\n"
    }
   },
   "outputs": [],
   "source": [
    "# Storage difference\n",
    "\n",
    "# market values across regions as map\n",
    "carriers = [\"urban central gas CHP\", \"urban central solid biomass CHP CC\"]\n",
    "\n",
    "for c in carriers:\n",
    "    # if one mv is nan the result is nan as well\n",
    "    if c in [\"offwind-dc\", \"offwind-ac\"]:\n",
    "        df_stst_off[f\"{c}_mv_STST-EXP\"] = df_stst_off[f\"{c}_mv\"] - df_exp_off[f\"{c}_mv\"]\n",
    "    else:\n",
    "        df_stst_ons[f\"{c}_mv_STST-EXP\"] = df_stst_ons[f\"{c}_mv\"] - df_exp_ons[f\"{c}_mv\"]\n",
    "\n",
    "fig, axs = plt.subplots(ncols=2, nrows=1, subplot_kw={'projection': ccrs.EqualEarth()},\n",
    "                        figsize=(18, 8))\n",
    "crs = ccrs.EqualEarth()\n",
    "\n",
    "for i, ax in enumerate(axs):\n",
    "\n",
    "    if carriers[i] in [\"offwind-dc\", \"offwind-ac\"]:\n",
    "        df = df_stst_off\n",
    "        df_2 = df_exp_off\n",
    "    else:\n",
    "        df = df_stst_ons\n",
    "        df_2 = df_exp_ons\n",
    "\n",
    "    abs_max = max(abs(df[f\"{carriers[i]}_mv_STST-EXP\"].max()) , abs(df[f\"{carriers[i]}_mv_STST-EXP\"].max()))\n",
    "\n",
    "    ax.add_feature(cartopy.feature.BORDERS, edgecolor='black', linewidth=0.5)\n",
    "    ax.coastlines(edgecolor='black', linewidth=0.5)\n",
    "    ax.set_facecolor('white')\n",
    "    ax.add_feature(cartopy.feature.OCEAN, color='azure')\n",
    "\n",
    "    df.to_crs(crs.proj4_init).plot(column=f\"{carriers[i]}_mv_STST-EXP\",\n",
    "                                   ax=ax,\n",
    "                                   cmap=plt.get_cmap('RdYlGn'),\n",
    "                                   vmax=abs_max,\n",
    "                                   vmin=-abs_max,\n",
    "                                   linewidth=0.05,\n",
    "                                   edgecolor = 'grey',\n",
    "                                   legend=True,\n",
    "                                   legend_kwds={'label':\"market value differences ($€/MWh_{el}$)\",'orientation': \"vertical\",'shrink' : 0.8}\n",
    "                                   )\n",
    "\n",
    "    # difference in generation (STST-EXP)\n",
    "    gen_diff = df[f\"{carriers[i]}_gen\"] - df_2[f\"{carriers[i]}_gen\"]\n",
    "    # red if negative and green if positive\n",
    "    colors = ['red' if (x < 0) else 'green' for x in gen_diff ]\n",
    "\n",
    "    max_size = abs(gen_diff).max()\n",
    "    df.to_crs(crs.proj4_init).centroid.plot(ax=ax, sizes=(abs(gen_diff) / max_size) * 500,  color=colors, edgecolor=\"white\")\n",
    "    circle1 = Line2D([], [], color=\"white\", marker='o', markerfacecolor=\"green\", markeredgecolor=\"white\", markersize=10)\n",
    "    circle2 = Line2D([], [], color=\"white\", marker='o', markerfacecolor=\"red\", markeredgecolor=\"white\", markersize=10)\n",
    "    circle3 = Line2D([], [], color=\"white\", marker='o', markerfacecolor=\"white\", markeredgecolor=\"black\", markersize=10)\n",
    "\n",
    "    unit = \"TWh\" if max_size > 1e3 else \"GWh\"\n",
    "    max_size = max_size / 1e3 if max_size > 1e3 else max_size\n",
    "    ax.legend((circle1, circle2, circle3), ('Increased production in STST', 'Increased production in EXP', f\"max circle size: {round(max_size)} {unit}\"), numpoints=1, loc=\"upper left\")\n",
    "\n",
    "\n",
    "    # always select same section\n",
    "    xmin, ymin, xmax, ymax = df_stst_off.to_crs(crs.proj4_init).total_bounds\n",
    "    pad = 1 * 1e5  # add a padding around the geometry\n",
    "    ax.set_xlim(xmin-pad, xmax+pad)\n",
    "    ax.set_ylim(ymin-pad, ymax+pad)\n",
    "\n",
    "    ax.set_title(f\"{carrier_renaming[carriers[i]]} mv (STST - EXP)\", fontsize=16, **font1)\n",
    "\n",
    "# fig.suptitle(\"Spatial Differences in the electricity generation of the VRE technologies (STST)\", fontsize=16, **font1)\n",
    "fig.tight_layout()\n",
    "\n",
    "#plt.close()\n",
    "plt.show()\n",
    "\n",
    "\n",
    "#fig.savefig(f\"{PLOT_DIR}/mv_el_gen_peak_STST-EXP_map.png\")"
   ]
  },
  {
   "cell_type": "code",
   "execution_count": null,
   "outputs": [],
   "source": [
    "stst"
   ],
   "metadata": {
    "collapsed": false,
    "pycharm": {
     "name": "#%%\n"
    }
   }
  },
  {
   "cell_type": "code",
   "execution_count": null,
   "outputs": [],
   "source": [
    "stst.links[stst.links.carrier == \"urban central solid biomass CHP CC\"].head()"
   ],
   "metadata": {
    "collapsed": false,
    "pycharm": {
     "name": "#%%\n"
    }
   }
  },
  {
   "cell_type": "code",
   "execution_count": null,
   "outputs": [],
   "source": [],
   "metadata": {
    "collapsed": false,
    "pycharm": {
     "name": "#%%\n"
    }
   }
  }
 ],
 "metadata": {
  "kernelspec": {
   "display_name": "Python 3 (ipykernel)",
   "language": "python",
   "name": "python3"
  },
  "language_info": {
   "codemirror_mode": {
    "name": "ipython",
    "version": 3
   },
   "file_extension": ".py",
   "mimetype": "text/x-python",
   "name": "python",
   "nbconvert_exporter": "python",
   "pygments_lexer": "ipython3",
   "version": "3.10.6"
  }
 },
 "nbformat": 4,
 "nbformat_minor": 1
}