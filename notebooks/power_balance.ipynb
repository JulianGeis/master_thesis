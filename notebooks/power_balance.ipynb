{
 "cells": [
  {
   "cell_type": "code",
   "execution_count": 1,
   "metadata": {
    "collapsed": true,
    "pycharm": {
     "name": "#%%\n"
    }
   },
   "outputs": [],
   "source": [
    "import pandas as pd\n",
    "import numpy as np\n",
    "import pypsa\n",
    "import matplotlib.pyplot as plt\n",
    "import cartopy.crs as ccrs\n",
    "import plotly\n",
    "import datetime\n",
    "import seaborn as sns\n",
    "\n",
    "from utils import market_values, market_values_by_time_index"
   ]
  },
  {
   "cell_type": "code",
   "execution_count": 2,
   "outputs": [
    {
     "name": "stderr",
     "output_type": "stream",
     "text": [
      "WARNING:pypsa.io:\n",
      "Importing PyPSA from older version of PyPSA than current version.\n",
      "Please read the release notes at https://pypsa.readthedocs.io/en/latest/release_notes.html\n",
      "carefully to prepare your network for import.\n",
      "Currently used PyPSA version [0, 20, 1], imported network file PyPSA version [0, 18, 1].\n",
      "\n",
      "INFO:pypsa.io:Imported network elec_s_181_lv1.0__Co2L0-3H-T-H-B-I-A-solar+p3-linemaxext10-noH2network_2030.nc has buses, carriers, generators, global_constraints, lines, links, loads, storage_units, stores\n"
     ]
    }
   ],
   "source": [
    "n =pypsa.Network(\"../data/raw/elec_s_181_lv1.0__Co2L0-3H-T-H-B-I-A-solar+p3-linemaxext10-noH2network_2030.nc\")"
   ],
   "metadata": {
    "collapsed": false,
    "pycharm": {
     "name": "#%%\n"
    }
   }
  },
  {
   "cell_type": "code",
   "execution_count": 3,
   "outputs": [
    {
     "data": {
      "text/plain": "Generator            AL0 0 offwind-ac  AL0 0 onwind   AL0 0 solar  \\\nsnapshot                                                            \n2013-01-01 00:00:00          0.000000      0.000000      0.000000   \n2013-01-01 03:00:00          0.000000      0.000000      0.000000   \n2013-01-01 06:00:00          0.000000      0.000000   4795.128080   \n2013-01-01 09:00:00          0.000000      0.000000  11509.646090   \n2013-01-01 12:00:00          0.000000      0.000000   6377.253396   \n...                               ...           ...           ...   \n2013-12-31 09:00:00          0.000000      0.000000   4911.200758   \n2013-12-31 12:00:00          0.000000      0.000000   2989.734046   \n2013-12-31 15:00:00          0.000000      0.000000      0.000000   \n2013-12-31 18:00:00          0.000420      0.000551      0.000000   \n2013-12-31 21:00:00          0.000453      0.000649      0.000000   \n\nGenerator            AT0 0 onwind   AT0 0 ror  AT0 0 solar  AT0 1 onwind  \\\nsnapshot                                                                   \n2013-01-01 00:00:00   4917.113011  444.933907     0.000000      0.000160   \n2013-01-01 03:00:00   4623.535568  444.620944     0.000000      0.000105   \n2013-01-01 06:00:00   3455.948969  444.467881   792.324661      0.000061   \n2013-01-01 09:00:00   1471.522842  444.478772  2989.259557      0.000000   \n2013-01-01 12:00:00    497.291894  447.815959  1678.141986      0.000000   \n...                           ...         ...          ...           ...   \n2013-12-31 09:00:00    448.489909  549.709582  1048.040739      0.000000   \n2013-12-31 12:00:00   1290.876086  548.017655   710.217489      0.000000   \n2013-12-31 15:00:00   1932.721807  546.870825     0.000000      0.000000   \n2013-12-31 18:00:00   3046.962171  546.026194     0.000000      0.000000   \n2013-12-31 21:00:00   3613.135660  544.893950     0.000000      0.000088   \n\nGenerator             AT0 1 ror  AT0 1 solar  AT0 2 onwind  ...  \\\nsnapshot                                                    ...   \n2013-01-01 00:00:00  102.555845     0.000000      0.000317  ...   \n2013-01-01 03:00:00  102.483658     0.000000      0.000000  ...   \n2013-01-01 06:00:00  102.448376  1207.124091      0.000000  ...   \n2013-01-01 09:00:00  102.450821  5691.630927      0.000000  ...   \n2013-01-01 12:00:00  103.219830  4162.664607      0.000000  ...   \n...                         ...          ...           ...  ...   \n2013-12-31 09:00:00  126.698785  4358.484623      0.000000  ...   \n2013-12-31 12:00:00  126.316122  2908.464725      0.000000  ...   \n2013-12-31 15:00:00  126.052526     0.000000      0.000000  ...   \n2013-12-31 18:00:00  125.857847     0.000000      0.000676  ...   \n2013-12-31 21:00:00  125.596862     0.000000      0.000521  ...   \n\nGenerator            RS0 1 solar rooftop  SE3 0 solar rooftop  \\\nsnapshot                                                        \n2013-01-01 00:00:00             0.000000             0.000000   \n2013-01-01 03:00:00             0.000000             0.000000   \n2013-01-01 06:00:00           365.072843             0.000000   \n2013-01-01 09:00:00          1074.839751             1.210543   \n2013-01-01 12:00:00           577.275672             0.269088   \n...                                  ...                  ...   \n2013-12-31 09:00:00           944.298303             0.260902   \n2013-12-31 12:00:00           407.896036             0.000000   \n2013-12-31 15:00:00             0.000000             0.000000   \n2013-12-31 18:00:00             0.000000             0.000000   \n2013-12-31 21:00:00             0.000000             0.000000   \n\nGenerator            SE3 1 solar rooftop  SE3 2 solar rooftop  \\\nsnapshot                                                        \n2013-01-01 00:00:00                  0.0             0.000000   \n2013-01-01 03:00:00                  0.0             0.000000   \n2013-01-01 06:00:00                  0.0             0.000000   \n2013-01-01 09:00:00                  0.0             0.000619   \n2013-01-01 12:00:00                  0.0             0.000000   \n...                                  ...                  ...   \n2013-12-31 09:00:00                  0.0             0.000000   \n2013-12-31 12:00:00                  0.0             0.000000   \n2013-12-31 15:00:00                  0.0             0.000000   \n2013-12-31 18:00:00                  0.0             0.000000   \n2013-12-31 21:00:00                  0.0             0.000000   \n\nGenerator            SE3 3 solar rooftop  SE3 5 solar rooftop  \\\nsnapshot                                                        \n2013-01-01 00:00:00             0.000000                  0.0   \n2013-01-01 03:00:00             0.000000                  0.0   \n2013-01-01 06:00:00             0.000000                  0.0   \n2013-01-01 09:00:00             0.035075                  0.0   \n2013-01-01 12:00:00             0.017729                  0.0   \n...                                  ...                  ...   \n2013-12-31 09:00:00             0.150806                  0.0   \n2013-12-31 12:00:00             0.047555                  0.0   \n2013-12-31 15:00:00             0.000000                  0.0   \n2013-12-31 18:00:00             0.000000                  0.0   \n2013-12-31 21:00:00             0.000000                  0.0   \n\nGenerator            SE3 6 solar rooftop  SE3 7 solar rooftop  \\\nsnapshot                                                        \n2013-01-01 00:00:00             0.000000                  0.0   \n2013-01-01 03:00:00             0.000000                  0.0   \n2013-01-01 06:00:00             0.000000                  0.0   \n2013-01-01 09:00:00             2.337271                  0.0   \n2013-01-01 12:00:00             0.533430                  0.0   \n...                                  ...                  ...   \n2013-12-31 09:00:00             0.258412                  0.0   \n2013-12-31 12:00:00             0.000000                  0.0   \n2013-12-31 15:00:00             0.000000                  0.0   \n2013-12-31 18:00:00             0.000000                  0.0   \n2013-12-31 21:00:00             0.000000                  0.0   \n\nGenerator            SI0 0 solar rooftop  SK0 0 solar rooftop  \nsnapshot                                                       \n2013-01-01 00:00:00             0.000000             0.000000  \n2013-01-01 03:00:00             0.000000             0.000000  \n2013-01-01 06:00:00           352.259879           523.284014  \n2013-01-01 09:00:00          1407.871519          1858.687944  \n2013-01-01 12:00:00           862.907142           875.497826  \n...                                  ...                  ...  \n2013-12-31 09:00:00           130.935906           886.166876  \n2013-12-31 12:00:00           113.992430           544.052274  \n2013-12-31 15:00:00             0.000000             0.000000  \n2013-12-31 18:00:00             0.000000             0.000000  \n2013-12-31 21:00:00             0.000000             0.000000  \n\n[2920 rows x 1707 columns]",
      "text/html": "<div>\n<style scoped>\n    .dataframe tbody tr th:only-of-type {\n        vertical-align: middle;\n    }\n\n    .dataframe tbody tr th {\n        vertical-align: top;\n    }\n\n    .dataframe thead th {\n        text-align: right;\n    }\n</style>\n<table border=\"1\" class=\"dataframe\">\n  <thead>\n    <tr style=\"text-align: right;\">\n      <th>Generator</th>\n      <th>AL0 0 offwind-ac</th>\n      <th>AL0 0 onwind</th>\n      <th>AL0 0 solar</th>\n      <th>AT0 0 onwind</th>\n      <th>AT0 0 ror</th>\n      <th>AT0 0 solar</th>\n      <th>AT0 1 onwind</th>\n      <th>AT0 1 ror</th>\n      <th>AT0 1 solar</th>\n      <th>AT0 2 onwind</th>\n      <th>...</th>\n      <th>RS0 1 solar rooftop</th>\n      <th>SE3 0 solar rooftop</th>\n      <th>SE3 1 solar rooftop</th>\n      <th>SE3 2 solar rooftop</th>\n      <th>SE3 3 solar rooftop</th>\n      <th>SE3 5 solar rooftop</th>\n      <th>SE3 6 solar rooftop</th>\n      <th>SE3 7 solar rooftop</th>\n      <th>SI0 0 solar rooftop</th>\n      <th>SK0 0 solar rooftop</th>\n    </tr>\n    <tr>\n      <th>snapshot</th>\n      <th></th>\n      <th></th>\n      <th></th>\n      <th></th>\n      <th></th>\n      <th></th>\n      <th></th>\n      <th></th>\n      <th></th>\n      <th></th>\n      <th></th>\n      <th></th>\n      <th></th>\n      <th></th>\n      <th></th>\n      <th></th>\n      <th></th>\n      <th></th>\n      <th></th>\n      <th></th>\n      <th></th>\n    </tr>\n  </thead>\n  <tbody>\n    <tr>\n      <th>2013-01-01 00:00:00</th>\n      <td>0.000000</td>\n      <td>0.000000</td>\n      <td>0.000000</td>\n      <td>4917.113011</td>\n      <td>444.933907</td>\n      <td>0.000000</td>\n      <td>0.000160</td>\n      <td>102.555845</td>\n      <td>0.000000</td>\n      <td>0.000317</td>\n      <td>...</td>\n      <td>0.000000</td>\n      <td>0.000000</td>\n      <td>0.0</td>\n      <td>0.000000</td>\n      <td>0.000000</td>\n      <td>0.0</td>\n      <td>0.000000</td>\n      <td>0.0</td>\n      <td>0.000000</td>\n      <td>0.000000</td>\n    </tr>\n    <tr>\n      <th>2013-01-01 03:00:00</th>\n      <td>0.000000</td>\n      <td>0.000000</td>\n      <td>0.000000</td>\n      <td>4623.535568</td>\n      <td>444.620944</td>\n      <td>0.000000</td>\n      <td>0.000105</td>\n      <td>102.483658</td>\n      <td>0.000000</td>\n      <td>0.000000</td>\n      <td>...</td>\n      <td>0.000000</td>\n      <td>0.000000</td>\n      <td>0.0</td>\n      <td>0.000000</td>\n      <td>0.000000</td>\n      <td>0.0</td>\n      <td>0.000000</td>\n      <td>0.0</td>\n      <td>0.000000</td>\n      <td>0.000000</td>\n    </tr>\n    <tr>\n      <th>2013-01-01 06:00:00</th>\n      <td>0.000000</td>\n      <td>0.000000</td>\n      <td>4795.128080</td>\n      <td>3455.948969</td>\n      <td>444.467881</td>\n      <td>792.324661</td>\n      <td>0.000061</td>\n      <td>102.448376</td>\n      <td>1207.124091</td>\n      <td>0.000000</td>\n      <td>...</td>\n      <td>365.072843</td>\n      <td>0.000000</td>\n      <td>0.0</td>\n      <td>0.000000</td>\n      <td>0.000000</td>\n      <td>0.0</td>\n      <td>0.000000</td>\n      <td>0.0</td>\n      <td>352.259879</td>\n      <td>523.284014</td>\n    </tr>\n    <tr>\n      <th>2013-01-01 09:00:00</th>\n      <td>0.000000</td>\n      <td>0.000000</td>\n      <td>11509.646090</td>\n      <td>1471.522842</td>\n      <td>444.478772</td>\n      <td>2989.259557</td>\n      <td>0.000000</td>\n      <td>102.450821</td>\n      <td>5691.630927</td>\n      <td>0.000000</td>\n      <td>...</td>\n      <td>1074.839751</td>\n      <td>1.210543</td>\n      <td>0.0</td>\n      <td>0.000619</td>\n      <td>0.035075</td>\n      <td>0.0</td>\n      <td>2.337271</td>\n      <td>0.0</td>\n      <td>1407.871519</td>\n      <td>1858.687944</td>\n    </tr>\n    <tr>\n      <th>2013-01-01 12:00:00</th>\n      <td>0.000000</td>\n      <td>0.000000</td>\n      <td>6377.253396</td>\n      <td>497.291894</td>\n      <td>447.815959</td>\n      <td>1678.141986</td>\n      <td>0.000000</td>\n      <td>103.219830</td>\n      <td>4162.664607</td>\n      <td>0.000000</td>\n      <td>...</td>\n      <td>577.275672</td>\n      <td>0.269088</td>\n      <td>0.0</td>\n      <td>0.000000</td>\n      <td>0.017729</td>\n      <td>0.0</td>\n      <td>0.533430</td>\n      <td>0.0</td>\n      <td>862.907142</td>\n      <td>875.497826</td>\n    </tr>\n    <tr>\n      <th>...</th>\n      <td>...</td>\n      <td>...</td>\n      <td>...</td>\n      <td>...</td>\n      <td>...</td>\n      <td>...</td>\n      <td>...</td>\n      <td>...</td>\n      <td>...</td>\n      <td>...</td>\n      <td>...</td>\n      <td>...</td>\n      <td>...</td>\n      <td>...</td>\n      <td>...</td>\n      <td>...</td>\n      <td>...</td>\n      <td>...</td>\n      <td>...</td>\n      <td>...</td>\n      <td>...</td>\n    </tr>\n    <tr>\n      <th>2013-12-31 09:00:00</th>\n      <td>0.000000</td>\n      <td>0.000000</td>\n      <td>4911.200758</td>\n      <td>448.489909</td>\n      <td>549.709582</td>\n      <td>1048.040739</td>\n      <td>0.000000</td>\n      <td>126.698785</td>\n      <td>4358.484623</td>\n      <td>0.000000</td>\n      <td>...</td>\n      <td>944.298303</td>\n      <td>0.260902</td>\n      <td>0.0</td>\n      <td>0.000000</td>\n      <td>0.150806</td>\n      <td>0.0</td>\n      <td>0.258412</td>\n      <td>0.0</td>\n      <td>130.935906</td>\n      <td>886.166876</td>\n    </tr>\n    <tr>\n      <th>2013-12-31 12:00:00</th>\n      <td>0.000000</td>\n      <td>0.000000</td>\n      <td>2989.734046</td>\n      <td>1290.876086</td>\n      <td>548.017655</td>\n      <td>710.217489</td>\n      <td>0.000000</td>\n      <td>126.316122</td>\n      <td>2908.464725</td>\n      <td>0.000000</td>\n      <td>...</td>\n      <td>407.896036</td>\n      <td>0.000000</td>\n      <td>0.0</td>\n      <td>0.000000</td>\n      <td>0.047555</td>\n      <td>0.0</td>\n      <td>0.000000</td>\n      <td>0.0</td>\n      <td>113.992430</td>\n      <td>544.052274</td>\n    </tr>\n    <tr>\n      <th>2013-12-31 15:00:00</th>\n      <td>0.000000</td>\n      <td>0.000000</td>\n      <td>0.000000</td>\n      <td>1932.721807</td>\n      <td>546.870825</td>\n      <td>0.000000</td>\n      <td>0.000000</td>\n      <td>126.052526</td>\n      <td>0.000000</td>\n      <td>0.000000</td>\n      <td>...</td>\n      <td>0.000000</td>\n      <td>0.000000</td>\n      <td>0.0</td>\n      <td>0.000000</td>\n      <td>0.000000</td>\n      <td>0.0</td>\n      <td>0.000000</td>\n      <td>0.0</td>\n      <td>0.000000</td>\n      <td>0.000000</td>\n    </tr>\n    <tr>\n      <th>2013-12-31 18:00:00</th>\n      <td>0.000420</td>\n      <td>0.000551</td>\n      <td>0.000000</td>\n      <td>3046.962171</td>\n      <td>546.026194</td>\n      <td>0.000000</td>\n      <td>0.000000</td>\n      <td>125.857847</td>\n      <td>0.000000</td>\n      <td>0.000676</td>\n      <td>...</td>\n      <td>0.000000</td>\n      <td>0.000000</td>\n      <td>0.0</td>\n      <td>0.000000</td>\n      <td>0.000000</td>\n      <td>0.0</td>\n      <td>0.000000</td>\n      <td>0.0</td>\n      <td>0.000000</td>\n      <td>0.000000</td>\n    </tr>\n    <tr>\n      <th>2013-12-31 21:00:00</th>\n      <td>0.000453</td>\n      <td>0.000649</td>\n      <td>0.000000</td>\n      <td>3613.135660</td>\n      <td>544.893950</td>\n      <td>0.000000</td>\n      <td>0.000088</td>\n      <td>125.596862</td>\n      <td>0.000000</td>\n      <td>0.000521</td>\n      <td>...</td>\n      <td>0.000000</td>\n      <td>0.000000</td>\n      <td>0.0</td>\n      <td>0.000000</td>\n      <td>0.000000</td>\n      <td>0.0</td>\n      <td>0.000000</td>\n      <td>0.0</td>\n      <td>0.000000</td>\n      <td>0.000000</td>\n    </tr>\n  </tbody>\n</table>\n<p>2920 rows × 1707 columns</p>\n</div>"
     },
     "execution_count": 3,
     "metadata": {},
     "output_type": "execute_result"
    }
   ],
   "source": [
    "# find snap with easy determination of marginal generator\n",
    "n.generators_t.p"
   ],
   "metadata": {
    "collapsed": false,
    "pycharm": {
     "name": "#%%\n"
    }
   }
  },
  {
   "cell_type": "code",
   "execution_count": 44,
   "outputs": [
    {
     "data": {
      "text/plain": "'AC'"
     },
     "execution_count": 44,
     "metadata": {},
     "output_type": "execute_result"
    }
   ],
   "source": [
    "# example of bus and snapshot\n",
    "bus = \"DE0 3\" # \"AL0 0\" # \"DE0 1\"\n",
    "snapshot = \"2013-01-01 09:00:00\"\n",
    "# energy carrier at bus\n",
    "n.buses.carrier[bus]"
   ],
   "metadata": {
    "collapsed": false,
    "pycharm": {
     "name": "#%%\n"
    }
   }
  },
  {
   "cell_type": "code",
   "execution_count": 45,
   "outputs": [
    {
     "data": {
      "text/plain": "3597.636983602783"
     },
     "execution_count": 45,
     "metadata": {},
     "output_type": "execute_result"
    }
   ],
   "source": [
    "# active power at bus (positive if net generation at bus) in MW\n",
    "n.buses_t.p.loc[snapshot,bus]"
   ],
   "metadata": {
    "collapsed": false,
    "pycharm": {
     "name": "#%%\n"
    }
   }
  },
  {
   "cell_type": "code",
   "execution_count": 46,
   "outputs": [
    {
     "data": {
      "text/plain": "3597.636983433492"
     },
     "execution_count": 46,
     "metadata": {},
     "output_type": "execute_result"
    }
   ],
   "source": [
    "# Lines (what reaches bus?)\n",
    "# 1. sum of power @ lines with bus as bus0 and p0 (Active power at bus0 (positive if branch is withdrawing power from bus0)\n",
    "n.lines_t.p0[n.lines[n.lines.bus0 == bus].index].sum(axis=1)\n",
    "# 2. sum of power @ lines with bus as bus1 and p1 (Active power at bus1 (positive if branch is withdrawing power from bus1)\n",
    "n.lines_t.p1[n.lines[n.lines.bus1 == bus].index].sum(axis=1)\n",
    "# sum (if negative power is feed into bus)\n",
    "lines = n.lines_t.p0[n.lines[n.lines.bus0 == bus].index].sum(axis=1) + n.lines_t.p1[n.lines[n.lines.bus1 == bus].index].sum(axis=1)\n",
    "# sum should be the same value as the active power at the bus (links are not recognized yet?)\n",
    "lines[snapshot]"
   ],
   "metadata": {
    "collapsed": false,
    "pycharm": {
     "name": "#%%\n"
    }
   }
  },
  {
   "cell_type": "code",
   "execution_count": null,
   "outputs": [],
   "source": [
    "\n"
   ],
   "metadata": {
    "collapsed": false,
    "pycharm": {
     "name": "#%%\n"
    }
   }
  },
  {
   "cell_type": "code",
   "execution_count": 6,
   "outputs": [
    {
     "data": {
      "text/plain": "Load\nAL0 0                                      238.642397\nAL0 0 land transport EV                    276.317265\nAL0 0 land transport fuel cell              92.174636\nAL0 0 residential rural heat               353.901262\nAL0 0 services rural heat                   86.803240\nAL0 0 residential urban decentral heat     150.374273\nAL0 0 services urban decentral heat         36.883096\nAL0 0 urban central heat                   323.018962\nAL0 0 H2 for industry                        3.424658\nAL0 0 H2 for shipping                       21.714866\nAL0 0 low-temperature heat for industry      4.566210\nAL0 0 industry electricity                 206.621005\nAL0 0 agriculture electricity                0.000000\nAL0 0 agriculture heat                       0.000000\nName: 2013-01-01 09:00:00, dtype: float64"
     },
     "execution_count": 6,
     "metadata": {},
     "output_type": "execute_result"
    }
   ],
   "source": [
    "# loads\n",
    "loads_index = n.loads[[s in buses for s in n.loads.bus]].bus.index\n",
    "# active power at bus (positive if net load) in MW\n",
    "n.loads_t.p.loc[snapshot, loads_index]#.sum()"
   ],
   "metadata": {
    "collapsed": false,
    "pycharm": {
     "name": "#%%\n"
    }
   }
  },
  {
   "cell_type": "code",
   "execution_count": 7,
   "outputs": [
    {
     "data": {
      "text/plain": "Generator\nAL0 0 offwind-ac                                                 0.000000\nAL0 0 onwind                                                     0.000000\nAL0 0 solar                                                  11509.646090\nAL0 0 residential rural solar thermal collector                  0.024807\nAL0 0 services rural solar thermal collector                     0.025474\nAL0 0 residential urban decentral solar thermal collector        0.043897\nAL0 0 services urban decentral solar thermal collector           0.043574\nAL0 0 urban central solar thermal collector                     56.779796\nAL0 0 solar rooftop                                           1343.090499\nName: 2013-01-01 09:00:00, dtype: float64"
     },
     "execution_count": 7,
     "metadata": {},
     "output_type": "execute_result"
    }
   ],
   "source": [
    "# generation in whole region\n",
    "gens_index = n.generators[[s in buses for s in n.generators.bus]].bus.index\n",
    "# active power at bus (positive if net generation) in MW\n",
    "n.generators_t.p.loc[snapshot, gens_index]#.sum(axis=1)"
   ],
   "metadata": {
    "collapsed": false,
    "pycharm": {
     "name": "#%%\n"
    }
   }
  },
  {
   "cell_type": "code",
   "execution_count": 8,
   "outputs": [
    {
     "data": {
      "text/plain": "Generator\nAL0 0 offwind-ac        0.00000\nAL0 0 onwind            0.00000\nAL0 0 solar         11509.64609\nName: 2013-01-01 09:00:00, dtype: float64"
     },
     "execution_count": 8,
     "metadata": {},
     "output_type": "execute_result"
    }
   ],
   "source": [
    "# generation directly connected to bus\n",
    "gens_index_direct = n.generators[n.generators.bus == bus].bus.index\n",
    "n.generators_t.p.loc[snapshot, gens_index_direct]#.sum(axis=1)"
   ],
   "metadata": {
    "collapsed": false,
    "pycharm": {
     "name": "#%%\n"
    }
   }
  },
  {
   "cell_type": "code",
   "execution_count": 9,
   "outputs": [
    {
     "data": {
      "text/plain": "Series([], Name: 2013-01-01 09:00:00, dtype: float64)"
     },
     "execution_count": 9,
     "metadata": {},
     "output_type": "execute_result"
    }
   ],
   "source": [
    "# storages\n",
    "storage_index = n.storage_units[[s in buses for s in n.storage_units.bus]].bus.index\n",
    "# active power at bus (positive if net generation) in MW\n",
    "n.storage_units_t.p.loc[snapshot, storage_index]#.sum(axis=1)"
   ],
   "metadata": {
    "collapsed": false,
    "pycharm": {
     "name": "#%%\n"
    }
   }
  },
  {
   "cell_type": "code",
   "execution_count": 10,
   "outputs": [
    {
     "data": {
      "text/plain": "Series([], Name: 2013-01-01 09:00:00, dtype: float64)"
     },
     "execution_count": 10,
     "metadata": {},
     "output_type": "execute_result"
    }
   ],
   "source": [
    "# storage directly at bus\n",
    "storage_index_direct = n.storage_units[n.storage_units.bus == bus].bus.index\n",
    "n.storage_units_t.p.loc[snapshot, storage_index_direct]#.sum(axis=1)"
   ],
   "metadata": {
    "collapsed": false,
    "pycharm": {
     "name": "#%%\n"
    }
   }
  },
  {
   "cell_type": "code",
   "execution_count": 11,
   "outputs": [
    {
     "data": {
      "text/plain": "Store\nAL0 0 H2 Store                                  -2239.255897\nAL0 0 battery                                   -4362.526812\nAL0 0 battery storage                           -1122.461043\nAL0 0 residential rural water tanks                -0.024873\nAL0 0 services rural water tanks                   -0.024912\nAL0 0 residential urban decentral water tanks      -0.008021\nAL0 0 services urban decentral water tanks         -0.007804\nAL0 0 urban central water tanks                    -0.004985\nAL0 0 home battery                                 -0.087006\nName: 2013-01-01 09:00:00, dtype: float64"
     },
     "execution_count": 11,
     "metadata": {},
     "output_type": "execute_result"
    }
   ],
   "source": [
    "# stores\n",
    "stores_index = n.stores[[s in buses for s in n.stores.bus]].bus.index\n",
    "# active power at bus (positive if net generation) in MW\n",
    "n.stores_t.p.loc[snapshot, stores_index]#.sum(axis=1)"
   ],
   "metadata": {
    "collapsed": false,
    "pycharm": {
     "name": "#%%\n"
    }
   }
  },
  {
   "cell_type": "code",
   "execution_count": 12,
   "outputs": [
    {
     "data": {
      "text/plain": "Series([], Name: 2013-01-01 09:00:00, dtype: float64)"
     },
     "execution_count": 12,
     "metadata": {},
     "output_type": "execute_result"
    }
   ],
   "source": [
    "# stores directly at bus\n",
    "stores_index_direct = n.stores[n.stores.bus == bus].bus.index\n",
    "# active power at bus (positive if net generation) in MW\n",
    "n.stores_t.p.loc[snapshot, stores_index_direct]#.sum(axis=1)"
   ],
   "metadata": {
    "collapsed": false,
    "pycharm": {
     "name": "#%%\n"
    }
   }
  },
  {
   "cell_type": "code",
   "execution_count": 13,
   "outputs": [],
   "source": [
    "# link"
   ],
   "metadata": {
    "collapsed": false,
    "pycharm": {
     "name": "#%%\n"
    }
   }
  },
  {
   "cell_type": "code",
   "execution_count": 14,
   "outputs": [
    {
     "data": {
      "text/plain": "                                      bus0               bus1  \\\nLink                                                            \nAL0 0 H2 Electrolysis                AL0 0           AL0 0 H2   \nAL0 0 battery charger                AL0 0      AL0 0 battery   \nAL0 0 electricity distribution grid  AL0 0  AL0 0 low voltage   \n\n                                                           carrier geometry  \\\nLink                                                                          \nAL0 0 H2 Electrolysis                              H2 Electrolysis            \nAL0 0 battery charger                              battery charger            \nAL0 0 electricity distribution grid  electricity distribution grid            \n\n                                     length  p_nom tags  under_construction  \\\nLink                                                                          \nAL0 0 H2 Electrolysis                   0.0    0.0                      NaN   \nAL0 0 battery charger                   0.0    0.0                      NaN   \nAL0 0 electricity distribution grid     0.0    0.0                      NaN   \n\n                                     underground  p_min_pu  ...    p_nom_opt  \\\nLink                                                        ...                \nAL0 0 H2 Electrolysis                        NaN       0.0  ...  3811.499287   \nAL0 0 battery charger                        NaN       0.0  ...  4452.493618   \nAL0 0 electricity distribution grid          NaN      -1.0  ...   884.187798   \n\n                                     charger_ratio  type  build_year  \\\nLink                                                                   \nAL0 0 H2 Electrolysis                          NaN                 0   \nAL0 0 battery charger                    -1.664988                 0   \nAL0 0 electricity distribution grid            NaN                 0   \n\n                                    p_nom_min p_set p_max_pu  terrain_factor  \\\nLink                                                                           \nAL0 0 H2 Electrolysis                     0.0   0.0      1.0             1.0   \nAL0 0 battery charger                     0.0   0.0      1.0             1.0   \nAL0 0 electricity distribution grid       0.0   0.0      1.0             1.0   \n\n                                     ramp_limit_up  ramp_limit_down  \nLink                                                                 \nAL0 0 H2 Electrolysis                          NaN              NaN  \nAL0 0 battery charger                          NaN              NaN  \nAL0 0 electricity distribution grid            NaN              NaN  \n\n[3 rows x 33 columns]",
      "text/html": "<div>\n<style scoped>\n    .dataframe tbody tr th:only-of-type {\n        vertical-align: middle;\n    }\n\n    .dataframe tbody tr th {\n        vertical-align: top;\n    }\n\n    .dataframe thead th {\n        text-align: right;\n    }\n</style>\n<table border=\"1\" class=\"dataframe\">\n  <thead>\n    <tr style=\"text-align: right;\">\n      <th></th>\n      <th>bus0</th>\n      <th>bus1</th>\n      <th>carrier</th>\n      <th>geometry</th>\n      <th>length</th>\n      <th>p_nom</th>\n      <th>tags</th>\n      <th>under_construction</th>\n      <th>underground</th>\n      <th>p_min_pu</th>\n      <th>...</th>\n      <th>p_nom_opt</th>\n      <th>charger_ratio</th>\n      <th>type</th>\n      <th>build_year</th>\n      <th>p_nom_min</th>\n      <th>p_set</th>\n      <th>p_max_pu</th>\n      <th>terrain_factor</th>\n      <th>ramp_limit_up</th>\n      <th>ramp_limit_down</th>\n    </tr>\n    <tr>\n      <th>Link</th>\n      <th></th>\n      <th></th>\n      <th></th>\n      <th></th>\n      <th></th>\n      <th></th>\n      <th></th>\n      <th></th>\n      <th></th>\n      <th></th>\n      <th></th>\n      <th></th>\n      <th></th>\n      <th></th>\n      <th></th>\n      <th></th>\n      <th></th>\n      <th></th>\n      <th></th>\n      <th></th>\n      <th></th>\n    </tr>\n  </thead>\n  <tbody>\n    <tr>\n      <th>AL0 0 H2 Electrolysis</th>\n      <td>AL0 0</td>\n      <td>AL0 0 H2</td>\n      <td>H2 Electrolysis</td>\n      <td></td>\n      <td>0.0</td>\n      <td>0.0</td>\n      <td></td>\n      <td>NaN</td>\n      <td>NaN</td>\n      <td>0.0</td>\n      <td>...</td>\n      <td>3811.499287</td>\n      <td>NaN</td>\n      <td></td>\n      <td>0</td>\n      <td>0.0</td>\n      <td>0.0</td>\n      <td>1.0</td>\n      <td>1.0</td>\n      <td>NaN</td>\n      <td>NaN</td>\n    </tr>\n    <tr>\n      <th>AL0 0 battery charger</th>\n      <td>AL0 0</td>\n      <td>AL0 0 battery</td>\n      <td>battery charger</td>\n      <td></td>\n      <td>0.0</td>\n      <td>0.0</td>\n      <td></td>\n      <td>NaN</td>\n      <td>NaN</td>\n      <td>0.0</td>\n      <td>...</td>\n      <td>4452.493618</td>\n      <td>-1.664988</td>\n      <td></td>\n      <td>0</td>\n      <td>0.0</td>\n      <td>0.0</td>\n      <td>1.0</td>\n      <td>1.0</td>\n      <td>NaN</td>\n      <td>NaN</td>\n    </tr>\n    <tr>\n      <th>AL0 0 electricity distribution grid</th>\n      <td>AL0 0</td>\n      <td>AL0 0 low voltage</td>\n      <td>electricity distribution grid</td>\n      <td></td>\n      <td>0.0</td>\n      <td>0.0</td>\n      <td></td>\n      <td>NaN</td>\n      <td>NaN</td>\n      <td>-1.0</td>\n      <td>...</td>\n      <td>884.187798</td>\n      <td>NaN</td>\n      <td></td>\n      <td>0</td>\n      <td>0.0</td>\n      <td>0.0</td>\n      <td>1.0</td>\n      <td>1.0</td>\n      <td>NaN</td>\n      <td>NaN</td>\n    </tr>\n  </tbody>\n</table>\n<p>3 rows × 33 columns</p>\n</div>"
     },
     "execution_count": 14,
     "metadata": {},
     "output_type": "execute_result"
    }
   ],
   "source": [
    "n.links[n.links.bus0 == bus]"
   ],
   "metadata": {
    "collapsed": false,
    "pycharm": {
     "name": "#%%\n"
    }
   }
  },
  {
   "cell_type": "code",
   "execution_count": 15,
   "outputs": [
    {
     "data": {
      "text/plain": "Link\nAL0 0 H2 Electrolysis                  3792.122835\nAL0 0 battery charger                  4452.490551\nAL0 0 electricity distribution grid     884.184940\nName: 2013-01-01 09:00:00, dtype: float64"
     },
     "execution_count": 15,
     "metadata": {},
     "output_type": "execute_result"
    }
   ],
   "source": [
    "n.links_t.p0.loc[snapshot, n.links[n.links.bus0 == bus].index]"
   ],
   "metadata": {
    "collapsed": false,
    "pycharm": {
     "name": "#%%\n"
    }
   }
  },
  {
   "cell_type": "code",
   "execution_count": 16,
   "outputs": [
    {
     "data": {
      "text/plain": "                                                      bus0   bus1  \\\nLink                                                                \nAL0 0 OCGT                                          EU gas  AL0 0   \nAL0 0 H2 Fuel Cell                                AL0 0 H2  AL0 0   \nAL0 0 battery discharger                     AL0 0 battery  AL0 0   \nAL0 0 urban central gas CHP                         EU gas  AL0 0   \nAL0 0 urban central gas CHP CC                      EU gas  AL0 0   \nAL0 0 urban central solid biomass CHP     EU solid biomass  AL0 0   \nAL0 0 urban central solid biomass CHP CC  EU solid biomass  AL0 0   \n\n                                                                     carrier  \\\nLink                                                                           \nAL0 0 OCGT                                                              OCGT   \nAL0 0 H2 Fuel Cell                                              H2 Fuel Cell   \nAL0 0 battery discharger                                  battery discharger   \nAL0 0 urban central gas CHP                            urban central gas CHP   \nAL0 0 urban central gas CHP CC                      urban central gas CHP CC   \nAL0 0 urban central solid biomass CHP        urban central solid biomass CHP   \nAL0 0 urban central solid biomass CHP CC  urban central solid biomass CHP CC   \n\n                                         geometry  length  p_nom tags  \\\nLink                                                                    \nAL0 0 OCGT                                            0.0    0.0        \nAL0 0 H2 Fuel Cell                                    0.0    0.0        \nAL0 0 battery discharger                              0.0    0.0        \nAL0 0 urban central gas CHP                           0.0    0.0        \nAL0 0 urban central gas CHP CC                        0.0    0.0        \nAL0 0 urban central solid biomass CHP                 0.0    0.0        \nAL0 0 urban central solid biomass CHP CC              0.0    0.0        \n\n                                          under_construction  underground  \\\nLink                                                                        \nAL0 0 OCGT                                               NaN          NaN   \nAL0 0 H2 Fuel Cell                                       NaN          NaN   \nAL0 0 battery discharger                                 NaN          NaN   \nAL0 0 urban central gas CHP                              NaN          NaN   \nAL0 0 urban central gas CHP CC                           NaN          NaN   \nAL0 0 urban central solid biomass CHP                    NaN          NaN   \nAL0 0 urban central solid biomass CHP CC                 NaN          NaN   \n\n                                          p_min_pu  ...    p_nom_opt  \\\nLink                                                ...                \nAL0 0 OCGT                                     0.0  ...     0.233304   \nAL0 0 H2 Fuel Cell                             0.0  ...     0.028772   \nAL0 0 battery discharger                       0.0  ...  4544.306793   \nAL0 0 urban central gas CHP                    0.0  ...   104.366725   \nAL0 0 urban central gas CHP CC                 0.0  ...     0.085156   \nAL0 0 urban central solid biomass CHP          0.0  ...     0.071155   \nAL0 0 urban central solid biomass CHP CC       0.0  ...    96.324958   \n\n                                          charger_ratio  type  build_year  \\\nLink                                                                        \nAL0 0 OCGT                                          NaN                 0   \nAL0 0 H2 Fuel Cell                                  NaN                 0   \nAL0 0 battery discharger                            NaN                 0   \nAL0 0 urban central gas CHP                         NaN                 0   \nAL0 0 urban central gas CHP CC                      NaN                 0   \nAL0 0 urban central solid biomass CHP               NaN                 0   \nAL0 0 urban central solid biomass CHP CC            NaN                 0   \n\n                                         p_nom_min p_set p_max_pu  \\\nLink                                                                \nAL0 0 OCGT                                     0.0   0.0      1.0   \nAL0 0 H2 Fuel Cell                             0.0   0.0      1.0   \nAL0 0 battery discharger                       0.0   0.0      1.0   \nAL0 0 urban central gas CHP                    0.0   0.0      1.0   \nAL0 0 urban central gas CHP CC                 0.0   0.0      1.0   \nAL0 0 urban central solid biomass CHP          0.0   0.0      1.0   \nAL0 0 urban central solid biomass CHP CC       0.0   0.0      1.0   \n\n                                          terrain_factor  ramp_limit_up  \\\nLink                                                                      \nAL0 0 OCGT                                           1.0            NaN   \nAL0 0 H2 Fuel Cell                                   1.0            NaN   \nAL0 0 battery discharger                             1.0            NaN   \nAL0 0 urban central gas CHP                          1.0            NaN   \nAL0 0 urban central gas CHP CC                       1.0            NaN   \nAL0 0 urban central solid biomass CHP                1.0            NaN   \nAL0 0 urban central solid biomass CHP CC             1.0            NaN   \n\n                                          ramp_limit_down  \nLink                                                       \nAL0 0 OCGT                                            NaN  \nAL0 0 H2 Fuel Cell                                    NaN  \nAL0 0 battery discharger                              NaN  \nAL0 0 urban central gas CHP                           NaN  \nAL0 0 urban central gas CHP CC                        NaN  \nAL0 0 urban central solid biomass CHP                 NaN  \nAL0 0 urban central solid biomass CHP CC              NaN  \n\n[7 rows x 33 columns]",
      "text/html": "<div>\n<style scoped>\n    .dataframe tbody tr th:only-of-type {\n        vertical-align: middle;\n    }\n\n    .dataframe tbody tr th {\n        vertical-align: top;\n    }\n\n    .dataframe thead th {\n        text-align: right;\n    }\n</style>\n<table border=\"1\" class=\"dataframe\">\n  <thead>\n    <tr style=\"text-align: right;\">\n      <th></th>\n      <th>bus0</th>\n      <th>bus1</th>\n      <th>carrier</th>\n      <th>geometry</th>\n      <th>length</th>\n      <th>p_nom</th>\n      <th>tags</th>\n      <th>under_construction</th>\n      <th>underground</th>\n      <th>p_min_pu</th>\n      <th>...</th>\n      <th>p_nom_opt</th>\n      <th>charger_ratio</th>\n      <th>type</th>\n      <th>build_year</th>\n      <th>p_nom_min</th>\n      <th>p_set</th>\n      <th>p_max_pu</th>\n      <th>terrain_factor</th>\n      <th>ramp_limit_up</th>\n      <th>ramp_limit_down</th>\n    </tr>\n    <tr>\n      <th>Link</th>\n      <th></th>\n      <th></th>\n      <th></th>\n      <th></th>\n      <th></th>\n      <th></th>\n      <th></th>\n      <th></th>\n      <th></th>\n      <th></th>\n      <th></th>\n      <th></th>\n      <th></th>\n      <th></th>\n      <th></th>\n      <th></th>\n      <th></th>\n      <th></th>\n      <th></th>\n      <th></th>\n      <th></th>\n    </tr>\n  </thead>\n  <tbody>\n    <tr>\n      <th>AL0 0 OCGT</th>\n      <td>EU gas</td>\n      <td>AL0 0</td>\n      <td>OCGT</td>\n      <td></td>\n      <td>0.0</td>\n      <td>0.0</td>\n      <td></td>\n      <td>NaN</td>\n      <td>NaN</td>\n      <td>0.0</td>\n      <td>...</td>\n      <td>0.233304</td>\n      <td>NaN</td>\n      <td></td>\n      <td>0</td>\n      <td>0.0</td>\n      <td>0.0</td>\n      <td>1.0</td>\n      <td>1.0</td>\n      <td>NaN</td>\n      <td>NaN</td>\n    </tr>\n    <tr>\n      <th>AL0 0 H2 Fuel Cell</th>\n      <td>AL0 0 H2</td>\n      <td>AL0 0</td>\n      <td>H2 Fuel Cell</td>\n      <td></td>\n      <td>0.0</td>\n      <td>0.0</td>\n      <td></td>\n      <td>NaN</td>\n      <td>NaN</td>\n      <td>0.0</td>\n      <td>...</td>\n      <td>0.028772</td>\n      <td>NaN</td>\n      <td></td>\n      <td>0</td>\n      <td>0.0</td>\n      <td>0.0</td>\n      <td>1.0</td>\n      <td>1.0</td>\n      <td>NaN</td>\n      <td>NaN</td>\n    </tr>\n    <tr>\n      <th>AL0 0 battery discharger</th>\n      <td>AL0 0 battery</td>\n      <td>AL0 0</td>\n      <td>battery discharger</td>\n      <td></td>\n      <td>0.0</td>\n      <td>0.0</td>\n      <td></td>\n      <td>NaN</td>\n      <td>NaN</td>\n      <td>0.0</td>\n      <td>...</td>\n      <td>4544.306793</td>\n      <td>NaN</td>\n      <td></td>\n      <td>0</td>\n      <td>0.0</td>\n      <td>0.0</td>\n      <td>1.0</td>\n      <td>1.0</td>\n      <td>NaN</td>\n      <td>NaN</td>\n    </tr>\n    <tr>\n      <th>AL0 0 urban central gas CHP</th>\n      <td>EU gas</td>\n      <td>AL0 0</td>\n      <td>urban central gas CHP</td>\n      <td></td>\n      <td>0.0</td>\n      <td>0.0</td>\n      <td></td>\n      <td>NaN</td>\n      <td>NaN</td>\n      <td>0.0</td>\n      <td>...</td>\n      <td>104.366725</td>\n      <td>NaN</td>\n      <td></td>\n      <td>0</td>\n      <td>0.0</td>\n      <td>0.0</td>\n      <td>1.0</td>\n      <td>1.0</td>\n      <td>NaN</td>\n      <td>NaN</td>\n    </tr>\n    <tr>\n      <th>AL0 0 urban central gas CHP CC</th>\n      <td>EU gas</td>\n      <td>AL0 0</td>\n      <td>urban central gas CHP CC</td>\n      <td></td>\n      <td>0.0</td>\n      <td>0.0</td>\n      <td></td>\n      <td>NaN</td>\n      <td>NaN</td>\n      <td>0.0</td>\n      <td>...</td>\n      <td>0.085156</td>\n      <td>NaN</td>\n      <td></td>\n      <td>0</td>\n      <td>0.0</td>\n      <td>0.0</td>\n      <td>1.0</td>\n      <td>1.0</td>\n      <td>NaN</td>\n      <td>NaN</td>\n    </tr>\n    <tr>\n      <th>AL0 0 urban central solid biomass CHP</th>\n      <td>EU solid biomass</td>\n      <td>AL0 0</td>\n      <td>urban central solid biomass CHP</td>\n      <td></td>\n      <td>0.0</td>\n      <td>0.0</td>\n      <td></td>\n      <td>NaN</td>\n      <td>NaN</td>\n      <td>0.0</td>\n      <td>...</td>\n      <td>0.071155</td>\n      <td>NaN</td>\n      <td></td>\n      <td>0</td>\n      <td>0.0</td>\n      <td>0.0</td>\n      <td>1.0</td>\n      <td>1.0</td>\n      <td>NaN</td>\n      <td>NaN</td>\n    </tr>\n    <tr>\n      <th>AL0 0 urban central solid biomass CHP CC</th>\n      <td>EU solid biomass</td>\n      <td>AL0 0</td>\n      <td>urban central solid biomass CHP CC</td>\n      <td></td>\n      <td>0.0</td>\n      <td>0.0</td>\n      <td></td>\n      <td>NaN</td>\n      <td>NaN</td>\n      <td>0.0</td>\n      <td>...</td>\n      <td>96.324958</td>\n      <td>NaN</td>\n      <td></td>\n      <td>0</td>\n      <td>0.0</td>\n      <td>0.0</td>\n      <td>1.0</td>\n      <td>1.0</td>\n      <td>NaN</td>\n      <td>NaN</td>\n    </tr>\n  </tbody>\n</table>\n<p>7 rows × 33 columns</p>\n</div>"
     },
     "execution_count": 16,
     "metadata": {},
     "output_type": "execute_result"
    }
   ],
   "source": [
    "n.links[n.links.bus1 == bus]"
   ],
   "metadata": {
    "collapsed": false,
    "pycharm": {
     "name": "#%%\n"
    }
   }
  },
  {
   "cell_type": "code",
   "execution_count": 17,
   "outputs": [
    {
     "data": {
      "text/plain": "Link\nAL0 0 OCGT                                  -0.001165\nAL0 0 H2 Fuel Cell                          -0.003703\nAL0 0 battery discharger                    -0.005506\nAL0 0 urban central gas CHP                 -0.002643\nAL0 0 urban central gas CHP CC              -0.009589\nAL0 0 urban central solid biomass CHP       -0.015686\nAL0 0 urban central solid biomass CHP CC   -25.043738\nName: 2013-01-01 09:00:00, dtype: float64"
     },
     "execution_count": 17,
     "metadata": {},
     "output_type": "execute_result"
    }
   ],
   "source": [
    "n.links_t.p1.loc[snapshot, n.links[n.links.bus1 == bus].index]"
   ],
   "metadata": {
    "collapsed": false,
    "pycharm": {
     "name": "#%%\n"
    }
   }
  },
  {
   "cell_type": "code",
   "execution_count": 18,
   "outputs": [
    {
     "data": {
      "text/plain": "9103.716295723527"
     },
     "execution_count": 18,
     "metadata": {},
     "output_type": "execute_result"
    }
   ],
   "source": [
    "# Links (what reaches bus?)\n",
    "# 1. sum of power @ links with bus as bus0 and p0 (Active power at bus0 (positive if branch is withdrawing power from bus0)\n",
    "n.links_t.p0[n.links[n.links.bus0 == bus].index].sum(axis=1)\n",
    "# 2. sum of power @ links with bus as bus1 and p1 (Active power at bus1 (positive if branch is withdrawing power from bus1)\n",
    "n.links_t.p1[n.links[n.links.bus1 == bus].index].sum(axis=1)\n",
    "# sum (if negative power is feed into bus)\n",
    "links_sum = n.links_t.p0[n.links[n.links.bus0 == bus].index].sum(axis=1) + n.links_t.p1[n.links[n.links.bus1 == bus].index].sum(axis=1)\n",
    "links_sum[snapshot]"
   ],
   "metadata": {
    "collapsed": false,
    "pycharm": {
     "name": "#%%\n"
    }
   }
  },
  {
   "cell_type": "code",
   "execution_count": 19,
   "outputs": [
    {
     "data": {
      "text/plain": "Link\nAL0 0 H2 Electrolysis                  3792.122835\nAL0 0 battery charger                  4452.490551\nAL0 0 electricity distribution grid     884.184940\nName: 2013-01-01 09:00:00, dtype: float64"
     },
     "execution_count": 19,
     "metadata": {},
     "output_type": "execute_result"
    }
   ],
   "source": [
    "n.links_t.p0.loc[snapshot , n.links[n.links.bus0 == bus].index]"
   ],
   "metadata": {
    "collapsed": false,
    "pycharm": {
     "name": "#%%\n"
    }
   }
  },
  {
   "cell_type": "code",
   "execution_count": 20,
   "outputs": [
    {
     "data": {
      "text/plain": "Link\nAL0 0 OCGT                                  -0.001165\nAL0 0 H2 Fuel Cell                          -0.003703\nAL0 0 battery discharger                    -0.005506\nAL0 0 urban central gas CHP                 -0.002643\nAL0 0 urban central gas CHP CC              -0.009589\nAL0 0 urban central solid biomass CHP       -0.015686\nAL0 0 urban central solid biomass CHP CC   -25.043738\nName: 2013-01-01 09:00:00, dtype: float64"
     },
     "execution_count": 20,
     "metadata": {},
     "output_type": "execute_result"
    }
   ],
   "source": [
    "n.links_t.p1.loc[snapshot, n.links[n.links.bus1 == bus].index]"
   ],
   "metadata": {
    "collapsed": false,
    "pycharm": {
     "name": "#%%\n"
    }
   }
  },
  {
   "cell_type": "code",
   "execution_count": 21,
   "outputs": [
    {
     "name": "stdout",
     "output_type": "stream",
     "text": [
      "11509.646090030108 + 0.0 + 0.0 - 2405.9273368603926 - 9103.716295723527 - 238.6423970096223\n"
     ]
    },
    {
     "data": {
      "text/plain": "-238.6399395634328"
     },
     "execution_count": 21,
     "metadata": {},
     "output_type": "execute_result"
    }
   ],
   "source": [
    "# aggregation for bus0\n",
    "# balance of electricity feed in and withdrawal via lines\n",
    "li = lines[snapshot]\n",
    "# load at direct bus (no other technologies)\n",
    "lo = n.loads_t.p.loc[snapshot, loads_index][bus].sum()\n",
    "# generation at direct bus (no other technologies)\n",
    "gen = n.generators_t.p.loc[snapshot, gens_index_direct].sum()\n",
    "# storage directly at bus\n",
    "sg = n.storage_units_t.p.loc[snapshot, storage_index_direct].sum()\n",
    "# stores directl at bus\n",
    "st = n.stores_t.p.loc[snapshot, stores_index_direct].sum()\n",
    "# balance of links between different technologies\n",
    "lk = links_sum[snapshot]\n",
    "print(f\"{gen} + {sg} + {st} - {li} - {lk} - {lo}\")\n",
    "\n",
    "gen + sg + st - li - lk - lo"
   ],
   "metadata": {
    "collapsed": false,
    "pycharm": {
     "name": "#%%\n"
    }
   }
  },
  {
   "cell_type": "code",
   "execution_count": 22,
   "outputs": [
    {
     "data": {
      "text/plain": "238.6423970096223"
     },
     "execution_count": 22,
     "metadata": {},
     "output_type": "execute_result"
    }
   ],
   "source": [
    "n.loads_t.p.loc[snapshot, loads_index][bus]"
   ],
   "metadata": {
    "collapsed": false,
    "pycharm": {
     "name": "#%%\n"
    }
   }
  },
  {
   "cell_type": "code",
   "execution_count": 23,
   "outputs": [
    {
     "name": "stdout",
     "output_type": "stream",
     "text": [
      "2405.9273368603926 2405.927336882239\n"
     ]
    }
   ],
   "source": [
    "# active power at the bus has to be the same as the balance of the lines\n",
    "print(li, n.buses_t.p.loc[snapshot, bus])"
   ],
   "metadata": {
    "collapsed": false,
    "pycharm": {
     "name": "#%%\n"
    }
   }
  },
  {
   "cell_type": "code",
   "execution_count": 24,
   "outputs": [],
   "source": [
    "# suche kraftwerk, das läuft aber nicht mit voller kapa\n",
    "# lmp"
   ],
   "metadata": {
    "collapsed": false,
    "pycharm": {
     "name": "#%%\n"
    }
   }
  },
  {
   "cell_type": "code",
   "execution_count": 25,
   "outputs": [
    {
     "data": {
      "text/plain": "                                                        type  \\\nGlobalConstraint                                               \nlv_limit                 transmission_volume_expansion_limit   \nCO2Limit                                      primary_energy   \nco2_sequestration_limit                                  nan   \n\n                        carrier_attribute sense      constant          mu  \\\nGlobalConstraint                                                            \nlv_limit                           AC, DC    <=  3.222256e+08         NaN   \nCO2Limit                    co2_emissions    <=  0.000000e+00  513.293385   \nco2_sequestration_limit               nan    <=  2.000000e+08  338.688272   \n\n                         investment_period  \nGlobalConstraint                            \nlv_limit                               NaN  \nCO2Limit                               NaN  \nco2_sequestration_limit                NaN  ",
      "text/html": "<div>\n<style scoped>\n    .dataframe tbody tr th:only-of-type {\n        vertical-align: middle;\n    }\n\n    .dataframe tbody tr th {\n        vertical-align: top;\n    }\n\n    .dataframe thead th {\n        text-align: right;\n    }\n</style>\n<table border=\"1\" class=\"dataframe\">\n  <thead>\n    <tr style=\"text-align: right;\">\n      <th></th>\n      <th>type</th>\n      <th>carrier_attribute</th>\n      <th>sense</th>\n      <th>constant</th>\n      <th>mu</th>\n      <th>investment_period</th>\n    </tr>\n    <tr>\n      <th>GlobalConstraint</th>\n      <th></th>\n      <th></th>\n      <th></th>\n      <th></th>\n      <th></th>\n      <th></th>\n    </tr>\n  </thead>\n  <tbody>\n    <tr>\n      <th>lv_limit</th>\n      <td>transmission_volume_expansion_limit</td>\n      <td>AC, DC</td>\n      <td>&lt;=</td>\n      <td>3.222256e+08</td>\n      <td>NaN</td>\n      <td>NaN</td>\n    </tr>\n    <tr>\n      <th>CO2Limit</th>\n      <td>primary_energy</td>\n      <td>co2_emissions</td>\n      <td>&lt;=</td>\n      <td>0.000000e+00</td>\n      <td>513.293385</td>\n      <td>NaN</td>\n    </tr>\n    <tr>\n      <th>co2_sequestration_limit</th>\n      <td>nan</td>\n      <td>nan</td>\n      <td>&lt;=</td>\n      <td>2.000000e+08</td>\n      <td>338.688272</td>\n      <td>NaN</td>\n    </tr>\n  </tbody>\n</table>\n</div>"
     },
     "execution_count": 25,
     "metadata": {},
     "output_type": "execute_result"
    }
   ],
   "source": [
    "n.global_constraints"
   ],
   "metadata": {
    "collapsed": false,
    "pycharm": {
     "name": "#%%\n"
    }
   }
  },
  {
   "cell_type": "code",
   "execution_count": 26,
   "outputs": [
    {
     "data": {
      "text/plain": "[<matplotlib.lines.Line2D at 0x17b11ce6c80>]"
     },
     "execution_count": 26,
     "metadata": {},
     "output_type": "execute_result"
    },
    {
     "data": {
      "text/plain": "<Figure size 640x480 with 1 Axes>",
      "image/png": "[encoded data removed]"
     },
     "metadata": {},
     "output_type": "display_data"
    }
   ],
   "source": [
    "plt.plot(n.buses_t.marginal_price[[\"AL0 0\"]][0:100])"
   ],
   "metadata": {
    "collapsed": false,
    "pycharm": {
     "name": "#%%\n"
    }
   }
  },
  {
   "cell_type": "code",
   "execution_count": 27,
   "outputs": [
    {
     "data": {
      "text/plain": "Generator            AL0 0 offwind-ac  AL0 0 onwind   AL0 0 solar  \\\nsnapshot                                                            \n2013-01-01 00:00:00          0.000000      0.000000      0.000000   \n2013-01-01 03:00:00          0.000000      0.000000      0.000000   \n2013-01-01 06:00:00          0.000000      0.000000   4795.128080   \n2013-01-01 09:00:00          0.000000      0.000000  11509.646090   \n2013-01-01 12:00:00          0.000000      0.000000   6377.253396   \n...                               ...           ...           ...   \n2013-12-31 09:00:00          0.000000      0.000000   4911.200758   \n2013-12-31 12:00:00          0.000000      0.000000   2989.734046   \n2013-12-31 15:00:00          0.000000      0.000000      0.000000   \n2013-12-31 18:00:00          0.000420      0.000551      0.000000   \n2013-12-31 21:00:00          0.000453      0.000649      0.000000   \n\nGenerator            AT0 0 onwind   AT0 0 ror  AT0 0 solar  AT0 1 onwind  \\\nsnapshot                                                                   \n2013-01-01 00:00:00   4917.113011  444.933907     0.000000      0.000160   \n2013-01-01 03:00:00   4623.535568  444.620944     0.000000      0.000105   \n2013-01-01 06:00:00   3455.948969  444.467881   792.324661      0.000061   \n2013-01-01 09:00:00   1471.522842  444.478772  2989.259557      0.000000   \n2013-01-01 12:00:00    497.291894  447.815959  1678.141986      0.000000   \n...                           ...         ...          ...           ...   \n2013-12-31 09:00:00    448.489909  549.709582  1048.040739      0.000000   \n2013-12-31 12:00:00   1290.876086  548.017655   710.217489      0.000000   \n2013-12-31 15:00:00   1932.721807  546.870825     0.000000      0.000000   \n2013-12-31 18:00:00   3046.962171  546.026194     0.000000      0.000000   \n2013-12-31 21:00:00   3613.135660  544.893950     0.000000      0.000088   \n\nGenerator             AT0 1 ror  AT0 1 solar  AT0 2 onwind  ...  \\\nsnapshot                                                    ...   \n2013-01-01 00:00:00  102.555845     0.000000      0.000317  ...   \n2013-01-01 03:00:00  102.483658     0.000000      0.000000  ...   \n2013-01-01 06:00:00  102.448376  1207.124091      0.000000  ...   \n2013-01-01 09:00:00  102.450821  5691.630927      0.000000  ...   \n2013-01-01 12:00:00  103.219830  4162.664607      0.000000  ...   \n...                         ...          ...           ...  ...   \n2013-12-31 09:00:00  126.698785  4358.484623      0.000000  ...   \n2013-12-31 12:00:00  126.316122  2908.464725      0.000000  ...   \n2013-12-31 15:00:00  126.052526     0.000000      0.000000  ...   \n2013-12-31 18:00:00  125.857847     0.000000      0.000676  ...   \n2013-12-31 21:00:00  125.596862     0.000000      0.000521  ...   \n\nGenerator            RS0 1 solar rooftop  SE3 0 solar rooftop  \\\nsnapshot                                                        \n2013-01-01 00:00:00             0.000000             0.000000   \n2013-01-01 03:00:00             0.000000             0.000000   \n2013-01-01 06:00:00           365.072843             0.000000   \n2013-01-01 09:00:00          1074.839751             1.210543   \n2013-01-01 12:00:00           577.275672             0.269088   \n...                                  ...                  ...   \n2013-12-31 09:00:00           944.298303             0.260902   \n2013-12-31 12:00:00           407.896036             0.000000   \n2013-12-31 15:00:00             0.000000             0.000000   \n2013-12-31 18:00:00             0.000000             0.000000   \n2013-12-31 21:00:00             0.000000             0.000000   \n\nGenerator            SE3 1 solar rooftop  SE3 2 solar rooftop  \\\nsnapshot                                                        \n2013-01-01 00:00:00                  0.0             0.000000   \n2013-01-01 03:00:00                  0.0             0.000000   \n2013-01-01 06:00:00                  0.0             0.000000   \n2013-01-01 09:00:00                  0.0             0.000619   \n2013-01-01 12:00:00                  0.0             0.000000   \n...                                  ...                  ...   \n2013-12-31 09:00:00                  0.0             0.000000   \n2013-12-31 12:00:00                  0.0             0.000000   \n2013-12-31 15:00:00                  0.0             0.000000   \n2013-12-31 18:00:00                  0.0             0.000000   \n2013-12-31 21:00:00                  0.0             0.000000   \n\nGenerator            SE3 3 solar rooftop  SE3 5 solar rooftop  \\\nsnapshot                                                        \n2013-01-01 00:00:00             0.000000                  0.0   \n2013-01-01 03:00:00             0.000000                  0.0   \n2013-01-01 06:00:00             0.000000                  0.0   \n2013-01-01 09:00:00             0.035075                  0.0   \n2013-01-01 12:00:00             0.017729                  0.0   \n...                                  ...                  ...   \n2013-12-31 09:00:00             0.150806                  0.0   \n2013-12-31 12:00:00             0.047555                  0.0   \n2013-12-31 15:00:00             0.000000                  0.0   \n2013-12-31 18:00:00             0.000000                  0.0   \n2013-12-31 21:00:00             0.000000                  0.0   \n\nGenerator            SE3 6 solar rooftop  SE3 7 solar rooftop  \\\nsnapshot                                                        \n2013-01-01 00:00:00             0.000000                  0.0   \n2013-01-01 03:00:00             0.000000                  0.0   \n2013-01-01 06:00:00             0.000000                  0.0   \n2013-01-01 09:00:00             2.337271                  0.0   \n2013-01-01 12:00:00             0.533430                  0.0   \n...                                  ...                  ...   \n2013-12-31 09:00:00             0.258412                  0.0   \n2013-12-31 12:00:00             0.000000                  0.0   \n2013-12-31 15:00:00             0.000000                  0.0   \n2013-12-31 18:00:00             0.000000                  0.0   \n2013-12-31 21:00:00             0.000000                  0.0   \n\nGenerator            SI0 0 solar rooftop  SK0 0 solar rooftop  \nsnapshot                                                       \n2013-01-01 00:00:00             0.000000             0.000000  \n2013-01-01 03:00:00             0.000000             0.000000  \n2013-01-01 06:00:00           352.259879           523.284014  \n2013-01-01 09:00:00          1407.871519          1858.687944  \n2013-01-01 12:00:00           862.907142           875.497826  \n...                                  ...                  ...  \n2013-12-31 09:00:00           130.935906           886.166876  \n2013-12-31 12:00:00           113.992430           544.052274  \n2013-12-31 15:00:00             0.000000             0.000000  \n2013-12-31 18:00:00             0.000000             0.000000  \n2013-12-31 21:00:00             0.000000             0.000000  \n\n[2920 rows x 1707 columns]",
      "text/html": "<div>\n<style scoped>\n    .dataframe tbody tr th:only-of-type {\n        vertical-align: middle;\n    }\n\n    .dataframe tbody tr th {\n        vertical-align: top;\n    }\n\n    .dataframe thead th {\n        text-align: right;\n    }\n</style>\n<table border=\"1\" class=\"dataframe\">\n  <thead>\n    <tr style=\"text-align: right;\">\n      <th>Generator</th>\n      <th>AL0 0 offwind-ac</th>\n      <th>AL0 0 onwind</th>\n      <th>AL0 0 solar</th>\n      <th>AT0 0 onwind</th>\n      <th>AT0 0 ror</th>\n      <th>AT0 0 solar</th>\n      <th>AT0 1 onwind</th>\n      <th>AT0 1 ror</th>\n      <th>AT0 1 solar</th>\n      <th>AT0 2 onwind</th>\n      <th>...</th>\n      <th>RS0 1 solar rooftop</th>\n      <th>SE3 0 solar rooftop</th>\n      <th>SE3 1 solar rooftop</th>\n      <th>SE3 2 solar rooftop</th>\n      <th>SE3 3 solar rooftop</th>\n      <th>SE3 5 solar rooftop</th>\n      <th>SE3 6 solar rooftop</th>\n      <th>SE3 7 solar rooftop</th>\n      <th>SI0 0 solar rooftop</th>\n      <th>SK0 0 solar rooftop</th>\n    </tr>\n    <tr>\n      <th>snapshot</th>\n      <th></th>\n      <th></th>\n      <th></th>\n      <th></th>\n      <th></th>\n      <th></th>\n      <th></th>\n      <th></th>\n      <th></th>\n      <th></th>\n      <th></th>\n      <th></th>\n      <th></th>\n      <th></th>\n      <th></th>\n      <th></th>\n      <th></th>\n      <th></th>\n      <th></th>\n      <th></th>\n      <th></th>\n    </tr>\n  </thead>\n  <tbody>\n    <tr>\n      <th>2013-01-01 00:00:00</th>\n      <td>0.000000</td>\n      <td>0.000000</td>\n      <td>0.000000</td>\n      <td>4917.113011</td>\n      <td>444.933907</td>\n      <td>0.000000</td>\n      <td>0.000160</td>\n      <td>102.555845</td>\n      <td>0.000000</td>\n      <td>0.000317</td>\n      <td>...</td>\n      <td>0.000000</td>\n      <td>0.000000</td>\n      <td>0.0</td>\n      <td>0.000000</td>\n      <td>0.000000</td>\n      <td>0.0</td>\n      <td>0.000000</td>\n      <td>0.0</td>\n      <td>0.000000</td>\n      <td>0.000000</td>\n    </tr>\n    <tr>\n      <th>2013-01-01 03:00:00</th>\n      <td>0.000000</td>\n      <td>0.000000</td>\n      <td>0.000000</td>\n      <td>4623.535568</td>\n      <td>444.620944</td>\n      <td>0.000000</td>\n      <td>0.000105</td>\n      <td>102.483658</td>\n      <td>0.000000</td>\n      <td>0.000000</td>\n      <td>...</td>\n      <td>0.000000</td>\n      <td>0.000000</td>\n      <td>0.0</td>\n      <td>0.000000</td>\n      <td>0.000000</td>\n      <td>0.0</td>\n      <td>0.000000</td>\n      <td>0.0</td>\n      <td>0.000000</td>\n      <td>0.000000</td>\n    </tr>\n    <tr>\n      <th>2013-01-01 06:00:00</th>\n      <td>0.000000</td>\n      <td>0.000000</td>\n      <td>4795.128080</td>\n      <td>3455.948969</td>\n      <td>444.467881</td>\n      <td>792.324661</td>\n      <td>0.000061</td>\n      <td>102.448376</td>\n      <td>1207.124091</td>\n      <td>0.000000</td>\n      <td>...</td>\n      <td>365.072843</td>\n      <td>0.000000</td>\n      <td>0.0</td>\n      <td>0.000000</td>\n      <td>0.000000</td>\n      <td>0.0</td>\n      <td>0.000000</td>\n      <td>0.0</td>\n      <td>352.259879</td>\n      <td>523.284014</td>\n    </tr>\n    <tr>\n      <th>2013-01-01 09:00:00</th>\n      <td>0.000000</td>\n      <td>0.000000</td>\n      <td>11509.646090</td>\n      <td>1471.522842</td>\n      <td>444.478772</td>\n      <td>2989.259557</td>\n      <td>0.000000</td>\n      <td>102.450821</td>\n      <td>5691.630927</td>\n      <td>0.000000</td>\n      <td>...</td>\n      <td>1074.839751</td>\n      <td>1.210543</td>\n      <td>0.0</td>\n      <td>0.000619</td>\n      <td>0.035075</td>\n      <td>0.0</td>\n      <td>2.337271</td>\n      <td>0.0</td>\n      <td>1407.871519</td>\n      <td>1858.687944</td>\n    </tr>\n    <tr>\n      <th>2013-01-01 12:00:00</th>\n      <td>0.000000</td>\n      <td>0.000000</td>\n      <td>6377.253396</td>\n      <td>497.291894</td>\n      <td>447.815959</td>\n      <td>1678.141986</td>\n      <td>0.000000</td>\n      <td>103.219830</td>\n      <td>4162.664607</td>\n      <td>0.000000</td>\n      <td>...</td>\n      <td>577.275672</td>\n      <td>0.269088</td>\n      <td>0.0</td>\n      <td>0.000000</td>\n      <td>0.017729</td>\n      <td>0.0</td>\n      <td>0.533430</td>\n      <td>0.0</td>\n      <td>862.907142</td>\n      <td>875.497826</td>\n    </tr>\n    <tr>\n      <th>...</th>\n      <td>...</td>\n      <td>...</td>\n      <td>...</td>\n      <td>...</td>\n      <td>...</td>\n      <td>...</td>\n      <td>...</td>\n      <td>...</td>\n      <td>...</td>\n      <td>...</td>\n      <td>...</td>\n      <td>...</td>\n      <td>...</td>\n      <td>...</td>\n      <td>...</td>\n      <td>...</td>\n      <td>...</td>\n      <td>...</td>\n      <td>...</td>\n      <td>...</td>\n      <td>...</td>\n    </tr>\n    <tr>\n      <th>2013-12-31 09:00:00</th>\n      <td>0.000000</td>\n      <td>0.000000</td>\n      <td>4911.200758</td>\n      <td>448.489909</td>\n      <td>549.709582</td>\n      <td>1048.040739</td>\n      <td>0.000000</td>\n      <td>126.698785</td>\n      <td>4358.484623</td>\n      <td>0.000000</td>\n      <td>...</td>\n      <td>944.298303</td>\n      <td>0.260902</td>\n      <td>0.0</td>\n      <td>0.000000</td>\n      <td>0.150806</td>\n      <td>0.0</td>\n      <td>0.258412</td>\n      <td>0.0</td>\n      <td>130.935906</td>\n      <td>886.166876</td>\n    </tr>\n    <tr>\n      <th>2013-12-31 12:00:00</th>\n      <td>0.000000</td>\n      <td>0.000000</td>\n      <td>2989.734046</td>\n      <td>1290.876086</td>\n      <td>548.017655</td>\n      <td>710.217489</td>\n      <td>0.000000</td>\n      <td>126.316122</td>\n      <td>2908.464725</td>\n      <td>0.000000</td>\n      <td>...</td>\n      <td>407.896036</td>\n      <td>0.000000</td>\n      <td>0.0</td>\n      <td>0.000000</td>\n      <td>0.047555</td>\n      <td>0.0</td>\n      <td>0.000000</td>\n      <td>0.0</td>\n      <td>113.992430</td>\n      <td>544.052274</td>\n    </tr>\n    <tr>\n      <th>2013-12-31 15:00:00</th>\n      <td>0.000000</td>\n      <td>0.000000</td>\n      <td>0.000000</td>\n      <td>1932.721807</td>\n      <td>546.870825</td>\n      <td>0.000000</td>\n      <td>0.000000</td>\n      <td>126.052526</td>\n      <td>0.000000</td>\n      <td>0.000000</td>\n      <td>...</td>\n      <td>0.000000</td>\n      <td>0.000000</td>\n      <td>0.0</td>\n      <td>0.000000</td>\n      <td>0.000000</td>\n      <td>0.0</td>\n      <td>0.000000</td>\n      <td>0.0</td>\n      <td>0.000000</td>\n      <td>0.000000</td>\n    </tr>\n    <tr>\n      <th>2013-12-31 18:00:00</th>\n      <td>0.000420</td>\n      <td>0.000551</td>\n      <td>0.000000</td>\n      <td>3046.962171</td>\n      <td>546.026194</td>\n      <td>0.000000</td>\n      <td>0.000000</td>\n      <td>125.857847</td>\n      <td>0.000000</td>\n      <td>0.000676</td>\n      <td>...</td>\n      <td>0.000000</td>\n      <td>0.000000</td>\n      <td>0.0</td>\n      <td>0.000000</td>\n      <td>0.000000</td>\n      <td>0.0</td>\n      <td>0.000000</td>\n      <td>0.0</td>\n      <td>0.000000</td>\n      <td>0.000000</td>\n    </tr>\n    <tr>\n      <th>2013-12-31 21:00:00</th>\n      <td>0.000453</td>\n      <td>0.000649</td>\n      <td>0.000000</td>\n      <td>3613.135660</td>\n      <td>544.893950</td>\n      <td>0.000000</td>\n      <td>0.000088</td>\n      <td>125.596862</td>\n      <td>0.000000</td>\n      <td>0.000521</td>\n      <td>...</td>\n      <td>0.000000</td>\n      <td>0.000000</td>\n      <td>0.0</td>\n      <td>0.000000</td>\n      <td>0.000000</td>\n      <td>0.0</td>\n      <td>0.000000</td>\n      <td>0.0</td>\n      <td>0.000000</td>\n      <td>0.000000</td>\n    </tr>\n  </tbody>\n</table>\n<p>2920 rows × 1707 columns</p>\n</div>"
     },
     "execution_count": 27,
     "metadata": {},
     "output_type": "execute_result"
    }
   ],
   "source": [
    "# find snap with easy determination of marginal generator\n",
    "n.generators_t.p"
   ],
   "metadata": {
    "collapsed": false,
    "pycharm": {
     "name": "#%%\n"
    }
   }
  },
  {
   "cell_type": "code",
   "execution_count": 28,
   "outputs": [
    {
     "data": {
      "text/plain": "Bus                       AL0 0  AL0 0 EV battery    AL0 0 H2  \\\nsnapshot                                                        \n2013-01-01 00:00:00  208.089324        187.447538  132.306353   \n2013-01-01 03:00:00  208.030183        187.447686  132.305622   \n2013-01-01 06:00:00  153.808216        187.447826  132.304178   \n2013-01-01 09:00:00   89.821566        182.553882  132.127980   \n2013-01-01 12:00:00  153.339481        182.554338  132.303825   \n...                         ...               ...         ...   \n2013-12-31 09:00:00  199.844657        187.446471  132.308110   \n2013-12-31 12:00:00  199.855407        187.446782  132.308083   \n2013-12-31 15:00:00  208.203744        187.447032  132.307921   \n2013-12-31 18:00:00  208.203276        187.447224  132.307543   \n2013-12-31 21:00:00  208.202573        187.447387  132.306977   \n\nBus                  AL0 0 H2 liquid  AL0 0 battery  AL0 0 home battery  \\\nsnapshot                                                                  \n2013-01-01 00:00:00     87210.617893     203.956540          207.193448   \n2013-01-01 03:00:00       132.315961     203.902052          205.714306   \n2013-01-01 06:00:00       132.314517     156.989409          169.934834   \n2013-01-01 09:00:00       132.138319     156.989293          167.097474   \n2013-01-01 12:00:00       132.314163     156.989346          167.635541   \n...                              ...            ...                 ...   \n2013-12-31 09:00:00       132.318449     203.986154          201.531371   \n2013-12-31 12:00:00       132.318421     203.986169          202.085946   \n2013-12-31 15:00:00       132.318259     203.986319          206.444218   \n2013-12-31 18:00:00       132.317882     203.986275          207.408942   \n2013-12-31 21:00:00       132.317316     203.985955          207.587594   \n\nBus                  AL0 0 low voltage  AL0 0 residential rural heat  \\\nsnapshot                                                               \n2013-01-01 00:00:00         208.101095                     56.974139   \n2013-01-01 03:00:00         208.041610                     57.018315   \n2013-01-01 06:00:00         168.694456                    185.978154   \n2013-01-01 09:00:00         164.289516                     45.035153   \n2013-01-01 12:00:00         164.290191                     45.045361   \n...                                ...                           ...   \n2013-12-31 09:00:00         199.854464                     56.431556   \n2013-12-31 12:00:00         199.865679                     56.451729   \n2013-12-31 15:00:00         208.217403                     58.830340   \n2013-12-31 18:00:00         208.216007                     58.848737   \n2013-12-31 21:00:00         208.214714                     58.862042   \n\nBus                  AL0 0 residential rural water tanks  \\\nsnapshot                                                   \n2013-01-01 00:00:00                            58.124200   \n2013-01-01 03:00:00                            60.356861   \n2013-01-01 06:00:00                           162.287216   \n2013-01-01 09:00:00                            48.301899   \n2013-01-01 12:00:00                            48.062406   \n...                                                  ...   \n2013-12-31 09:00:00                            57.994492   \n2013-12-31 12:00:00                            58.044303   \n2013-12-31 15:00:00                            58.841772   \n2013-12-31 18:00:00                            58.945627   \n2013-12-31 21:00:00                            58.794574   \n\nBus                  AL0 0 residential urban decentral heat  ...  \\\nsnapshot                                                     ...   \n2013-01-01 00:00:00                               98.687337  ...   \n2013-01-01 03:00:00                              231.005065  ...   \n2013-01-01 06:00:00                              187.391199  ...   \n2013-01-01 09:00:00                              125.271125  ...   \n2013-01-01 12:00:00                              125.255829  ...   \n...                                                     ...  ...   \n2013-12-31 09:00:00                               79.089352  ...   \n2013-12-31 12:00:00                               77.418336  ...   \n2013-12-31 15:00:00                              125.150310  ...   \n2013-12-31 18:00:00                              125.234221  ...   \n2013-12-31 21:00:00                               87.706013  ...   \n\nBus                  SK0 0 services rural water tanks  \\\nsnapshot                                                \n2013-01-01 00:00:00                         37.759799   \n2013-01-01 03:00:00                        123.354232   \n2013-01-01 06:00:00                        127.469042   \n2013-01-01 09:00:00                        125.676186   \n2013-01-01 12:00:00                        124.979069   \n...                                               ...   \n2013-12-31 09:00:00                         37.617372   \n2013-12-31 12:00:00                         36.567638   \n2013-12-31 15:00:00                         37.770381   \n2013-12-31 18:00:00                         37.967449   \n2013-12-31 21:00:00                         36.944839   \n\nBus                  SK0 0 services urban decentral heat  \\\nsnapshot                                                   \n2013-01-01 00:00:00                           125.280135   \n2013-01-01 03:00:00                           131.588893   \n2013-01-01 06:00:00                           131.586472   \n2013-01-01 09:00:00                           125.283858   \n2013-01-01 12:00:00                           125.281745   \n...                                                  ...   \n2013-12-31 09:00:00                           125.278126   \n2013-12-31 12:00:00                           125.275258   \n2013-12-31 15:00:00                           125.276215   \n2013-12-31 18:00:00                           125.272726   \n2013-12-31 21:00:00                            56.099437   \n\nBus                  SK0 0 services urban decentral water tanks  \\\nsnapshot                                                          \n2013-01-01 00:00:00                                  118.864605   \n2013-01-01 03:00:00                                  127.508619   \n2013-01-01 06:00:00                                  131.094079   \n2013-01-01 09:00:00                                  128.344296   \n2013-01-01 12:00:00                                  128.271108   \n...                                                         ...   \n2013-12-31 09:00:00                                  126.196737   \n2013-12-31 12:00:00                                  125.383352   \n2013-12-31 15:00:00                                  123.458995   \n2013-12-31 18:00:00                                  118.643760   \n2013-12-31 21:00:00                                   61.622777   \n\nBus                  SK0 0 urban central heat  \\\nsnapshot                                        \n2013-01-01 00:00:00                118.047631   \n2013-01-01 03:00:00                119.289047   \n2013-01-01 06:00:00                119.372125   \n2013-01-01 09:00:00                119.430310   \n2013-01-01 12:00:00                119.428606   \n...                                       ...   \n2013-12-31 09:00:00                118.054180   \n2013-12-31 12:00:00                118.052955   \n2013-12-31 15:00:00                118.054432   \n2013-12-31 18:00:00                118.054118   \n2013-12-31 21:00:00                 84.036747   \n\nBus                  SK0 0 urban central water tanks  co2 atmosphere  \\\nsnapshot                                                               \n2013-01-01 00:00:00                       100.123259     -513.283465   \n2013-01-01 03:00:00                       100.193499     -513.283465   \n2013-01-01 06:00:00                       100.263177     -513.283465   \n2013-01-01 09:00:00                       100.331808     -513.283465   \n2013-01-01 12:00:00                       100.400904     -513.283465   \n...                                              ...             ...   \n2013-12-31 09:00:00                        99.774169     -513.283465   \n2013-12-31 12:00:00                        99.843746     -513.283465   \n2013-12-31 15:00:00                        99.913423     -513.283465   \n2013-12-31 18:00:00                        99.983201     -513.283465   \n2013-12-31 21:00:00                       100.053073     -513.283465   \n\nBus                  co2 stored  gas for industry  process emissions  \\\nsnapshot                                                               \n2013-01-01 00:00:00 -358.677321        113.318707        -414.293975   \n2013-01-01 03:00:00 -358.677360        113.334089        -412.864209   \n2013-01-01 06:00:00 -358.677378        113.349609        -412.188901   \n2013-01-01 09:00:00 -358.677391        113.365708        -411.875232   \n2013-01-01 12:00:00 -358.677399        113.395103        -411.642917   \n...                         ...               ...                ...   \n2013-12-31 09:00:00 -358.677308        112.957515        -407.839459   \n2013-12-31 12:00:00 -358.677296        112.949373        -407.825246   \n2013-12-31 15:00:00 -358.677267        112.944123        -407.815666   \n2013-12-31 18:00:00 -358.677157        112.924794        -407.785831   \n2013-12-31 21:00:00 -358.676639        112.886978        -407.749862   \n\nBus                  solid biomass for industry  \nsnapshot                                         \n2013-01-01 00:00:00                   78.325642  \n2013-01-01 03:00:00                   78.419905  \n2013-01-01 06:00:00                   78.490917  \n2013-01-01 09:00:00                   78.559337  \n2013-01-01 12:00:00                   78.642735  \n...                                         ...  \n2013-12-31 09:00:00                   78.502628  \n2013-12-31 12:00:00                   78.497642  \n2013-12-31 15:00:00                   78.487410  \n2013-12-31 18:00:00                   78.479346  \n2013-12-31 21:00:00                   78.465125  \n\n[2920 rows x 3086 columns]",
      "text/html": "<div>\n<style scoped>\n    .dataframe tbody tr th:only-of-type {\n        vertical-align: middle;\n    }\n\n    .dataframe tbody tr th {\n        vertical-align: top;\n    }\n\n    .dataframe thead th {\n        text-align: right;\n    }\n</style>\n<table border=\"1\" class=\"dataframe\">\n  <thead>\n    <tr style=\"text-align: right;\">\n      <th>Bus</th>\n      <th>AL0 0</th>\n      <th>AL0 0 EV battery</th>\n      <th>AL0 0 H2</th>\n      <th>AL0 0 H2 liquid</th>\n      <th>AL0 0 battery</th>\n      <th>AL0 0 home battery</th>\n      <th>AL0 0 low voltage</th>\n      <th>AL0 0 residential rural heat</th>\n      <th>AL0 0 residential rural water tanks</th>\n      <th>AL0 0 residential urban decentral heat</th>\n      <th>...</th>\n      <th>SK0 0 services rural water tanks</th>\n      <th>SK0 0 services urban decentral heat</th>\n      <th>SK0 0 services urban decentral water tanks</th>\n      <th>SK0 0 urban central heat</th>\n      <th>SK0 0 urban central water tanks</th>\n      <th>co2 atmosphere</th>\n      <th>co2 stored</th>\n      <th>gas for industry</th>\n      <th>process emissions</th>\n      <th>solid biomass for industry</th>\n    </tr>\n    <tr>\n      <th>snapshot</th>\n      <th></th>\n      <th></th>\n      <th></th>\n      <th></th>\n      <th></th>\n      <th></th>\n      <th></th>\n      <th></th>\n      <th></th>\n      <th></th>\n      <th></th>\n      <th></th>\n      <th></th>\n      <th></th>\n      <th></th>\n      <th></th>\n      <th></th>\n      <th></th>\n      <th></th>\n      <th></th>\n      <th></th>\n    </tr>\n  </thead>\n  <tbody>\n    <tr>\n      <th>2013-01-01 00:00:00</th>\n      <td>208.089324</td>\n      <td>187.447538</td>\n      <td>132.306353</td>\n      <td>87210.617893</td>\n      <td>203.956540</td>\n      <td>207.193448</td>\n      <td>208.101095</td>\n      <td>56.974139</td>\n      <td>58.124200</td>\n      <td>98.687337</td>\n      <td>...</td>\n      <td>37.759799</td>\n      <td>125.280135</td>\n      <td>118.864605</td>\n      <td>118.047631</td>\n      <td>100.123259</td>\n      <td>-513.283465</td>\n      <td>-358.677321</td>\n      <td>113.318707</td>\n      <td>-414.293975</td>\n      <td>78.325642</td>\n    </tr>\n    <tr>\n      <th>2013-01-01 03:00:00</th>\n      <td>208.030183</td>\n      <td>187.447686</td>\n      <td>132.305622</td>\n      <td>132.315961</td>\n      <td>203.902052</td>\n      <td>205.714306</td>\n      <td>208.041610</td>\n      <td>57.018315</td>\n      <td>60.356861</td>\n      <td>231.005065</td>\n      <td>...</td>\n      <td>123.354232</td>\n      <td>131.588893</td>\n      <td>127.508619</td>\n      <td>119.289047</td>\n      <td>100.193499</td>\n      <td>-513.283465</td>\n      <td>-358.677360</td>\n      <td>113.334089</td>\n      <td>-412.864209</td>\n      <td>78.419905</td>\n    </tr>\n    <tr>\n      <th>2013-01-01 06:00:00</th>\n      <td>153.808216</td>\n      <td>187.447826</td>\n      <td>132.304178</td>\n      <td>132.314517</td>\n      <td>156.989409</td>\n      <td>169.934834</td>\n      <td>168.694456</td>\n      <td>185.978154</td>\n      <td>162.287216</td>\n      <td>187.391199</td>\n      <td>...</td>\n      <td>127.469042</td>\n      <td>131.586472</td>\n      <td>131.094079</td>\n      <td>119.372125</td>\n      <td>100.263177</td>\n      <td>-513.283465</td>\n      <td>-358.677378</td>\n      <td>113.349609</td>\n      <td>-412.188901</td>\n      <td>78.490917</td>\n    </tr>\n    <tr>\n      <th>2013-01-01 09:00:00</th>\n      <td>89.821566</td>\n      <td>182.553882</td>\n      <td>132.127980</td>\n      <td>132.138319</td>\n      <td>156.989293</td>\n      <td>167.097474</td>\n      <td>164.289516</td>\n      <td>45.035153</td>\n      <td>48.301899</td>\n      <td>125.271125</td>\n      <td>...</td>\n      <td>125.676186</td>\n      <td>125.283858</td>\n      <td>128.344296</td>\n      <td>119.430310</td>\n      <td>100.331808</td>\n      <td>-513.283465</td>\n      <td>-358.677391</td>\n      <td>113.365708</td>\n      <td>-411.875232</td>\n      <td>78.559337</td>\n    </tr>\n    <tr>\n      <th>2013-01-01 12:00:00</th>\n      <td>153.339481</td>\n      <td>182.554338</td>\n      <td>132.303825</td>\n      <td>132.314163</td>\n      <td>156.989346</td>\n      <td>167.635541</td>\n      <td>164.290191</td>\n      <td>45.045361</td>\n      <td>48.062406</td>\n      <td>125.255829</td>\n      <td>...</td>\n      <td>124.979069</td>\n      <td>125.281745</td>\n      <td>128.271108</td>\n      <td>119.428606</td>\n      <td>100.400904</td>\n      <td>-513.283465</td>\n      <td>-358.677399</td>\n      <td>113.395103</td>\n      <td>-411.642917</td>\n      <td>78.642735</td>\n    </tr>\n    <tr>\n      <th>...</th>\n      <td>...</td>\n      <td>...</td>\n      <td>...</td>\n      <td>...</td>\n      <td>...</td>\n      <td>...</td>\n      <td>...</td>\n      <td>...</td>\n      <td>...</td>\n      <td>...</td>\n      <td>...</td>\n      <td>...</td>\n      <td>...</td>\n      <td>...</td>\n      <td>...</td>\n      <td>...</td>\n      <td>...</td>\n      <td>...</td>\n      <td>...</td>\n      <td>...</td>\n      <td>...</td>\n    </tr>\n    <tr>\n      <th>2013-12-31 09:00:00</th>\n      <td>199.844657</td>\n      <td>187.446471</td>\n      <td>132.308110</td>\n      <td>132.318449</td>\n      <td>203.986154</td>\n      <td>201.531371</td>\n      <td>199.854464</td>\n      <td>56.431556</td>\n      <td>57.994492</td>\n      <td>79.089352</td>\n      <td>...</td>\n      <td>37.617372</td>\n      <td>125.278126</td>\n      <td>126.196737</td>\n      <td>118.054180</td>\n      <td>99.774169</td>\n      <td>-513.283465</td>\n      <td>-358.677308</td>\n      <td>112.957515</td>\n      <td>-407.839459</td>\n      <td>78.502628</td>\n    </tr>\n    <tr>\n      <th>2013-12-31 12:00:00</th>\n      <td>199.855407</td>\n      <td>187.446782</td>\n      <td>132.308083</td>\n      <td>132.318421</td>\n      <td>203.986169</td>\n      <td>202.085946</td>\n      <td>199.865679</td>\n      <td>56.451729</td>\n      <td>58.044303</td>\n      <td>77.418336</td>\n      <td>...</td>\n      <td>36.567638</td>\n      <td>125.275258</td>\n      <td>125.383352</td>\n      <td>118.052955</td>\n      <td>99.843746</td>\n      <td>-513.283465</td>\n      <td>-358.677296</td>\n      <td>112.949373</td>\n      <td>-407.825246</td>\n      <td>78.497642</td>\n    </tr>\n    <tr>\n      <th>2013-12-31 15:00:00</th>\n      <td>208.203744</td>\n      <td>187.447032</td>\n      <td>132.307921</td>\n      <td>132.318259</td>\n      <td>203.986319</td>\n      <td>206.444218</td>\n      <td>208.217403</td>\n      <td>58.830340</td>\n      <td>58.841772</td>\n      <td>125.150310</td>\n      <td>...</td>\n      <td>37.770381</td>\n      <td>125.276215</td>\n      <td>123.458995</td>\n      <td>118.054432</td>\n      <td>99.913423</td>\n      <td>-513.283465</td>\n      <td>-358.677267</td>\n      <td>112.944123</td>\n      <td>-407.815666</td>\n      <td>78.487410</td>\n    </tr>\n    <tr>\n      <th>2013-12-31 18:00:00</th>\n      <td>208.203276</td>\n      <td>187.447224</td>\n      <td>132.307543</td>\n      <td>132.317882</td>\n      <td>203.986275</td>\n      <td>207.408942</td>\n      <td>208.216007</td>\n      <td>58.848737</td>\n      <td>58.945627</td>\n      <td>125.234221</td>\n      <td>...</td>\n      <td>37.967449</td>\n      <td>125.272726</td>\n      <td>118.643760</td>\n      <td>118.054118</td>\n      <td>99.983201</td>\n      <td>-513.283465</td>\n      <td>-358.677157</td>\n      <td>112.924794</td>\n      <td>-407.785831</td>\n      <td>78.479346</td>\n    </tr>\n    <tr>\n      <th>2013-12-31 21:00:00</th>\n      <td>208.202573</td>\n      <td>187.447387</td>\n      <td>132.306977</td>\n      <td>132.317316</td>\n      <td>203.985955</td>\n      <td>207.587594</td>\n      <td>208.214714</td>\n      <td>58.862042</td>\n      <td>58.794574</td>\n      <td>87.706013</td>\n      <td>...</td>\n      <td>36.944839</td>\n      <td>56.099437</td>\n      <td>61.622777</td>\n      <td>84.036747</td>\n      <td>100.053073</td>\n      <td>-513.283465</td>\n      <td>-358.676639</td>\n      <td>112.886978</td>\n      <td>-407.749862</td>\n      <td>78.465125</td>\n    </tr>\n  </tbody>\n</table>\n<p>2920 rows × 3086 columns</p>\n</div>"
     },
     "execution_count": 28,
     "metadata": {},
     "output_type": "execute_result"
    }
   ],
   "source": [
    "n.buses_t.marginal_price"
   ],
   "metadata": {
    "collapsed": false,
    "pycharm": {
     "name": "#%%\n"
    }
   }
  },
  {
   "cell_type": "code",
   "execution_count": 29,
   "outputs": [
    {
     "data": {
      "text/plain": "p_nom_max               53368.632501\nweight                   2347.489775\np_nom                            0.0\ncapital_cost            48788.865309\ncarrier                        solar\nmarginal_cost                0.01938\nefficiency                       1.0\np_nom_extendable                True\nbus                            AL0 0\ncontrol                             \np_nom_opt                22582.11171\nlifetime                         inf\ntype                                \np_nom_min                        0.0\np_min_pu                         0.0\np_max_pu                         1.0\np_set                            0.0\nq_set                            0.0\nsign                             1.0\nbuild_year                         0\ncommittable                    False\nstart_up_cost                    0.0\nshut_down_cost                   0.0\nmin_up_time                        0\nmin_down_time                      0\nup_time_before                     1\ndown_time_before                   0\nramp_limit_up                    NaN\nramp_limit_down                  NaN\nramp_limit_start_up              1.0\nramp_limit_shut_down             1.0\nName: AL0 0 solar, dtype: object"
     },
     "execution_count": 29,
     "metadata": {},
     "output_type": "execute_result"
    }
   ],
   "source": [
    "n.generators.loc[\"AL0 0 solar\"]"
   ],
   "metadata": {
    "collapsed": false,
    "pycharm": {
     "name": "#%%\n"
    }
   }
  },
  {
   "cell_type": "code",
   "execution_count": 29,
   "outputs": [],
   "source": [],
   "metadata": {
    "collapsed": false,
    "pycharm": {
     "name": "#%%\n"
    }
   }
  }
 ],
 "metadata": {
  "kernelspec": {
   "display_name": "Python 3",
   "language": "python",
   "name": "python3"
  },
  "language_info": {
   "codemirror_mode": {
    "name": "ipython",
    "version": 2
   },
   "file_extension": ".py",
   "mimetype": "text/x-python",
   "name": "python",
   "nbconvert_exporter": "python",
   "pygments_lexer": "ipython2",
   "version": "2.7.6"
  }
 },
 "nbformat": 4,
 "nbformat_minor": 0
}