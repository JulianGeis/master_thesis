{
 "cells": [
  {
   "cell_type": "markdown",
   "metadata": {
    "pycharm": {
     "name": "#%% md\n"
    }
   },
   "source": [
    "## Imports"
   ]
  },
  {
   "cell_type": "code",
   "execution_count": null,
   "metadata": {
    "pycharm": {
     "name": "#%%\n"
    }
   },
   "outputs": [],
   "source": [
    "import pandas as pd\n",
    "import numpy as np\n",
    "import pypsa\n",
    "import matplotlib.pyplot as plt\n",
    "import cartopy.crs as ccrs\n",
    "import plotly\n",
    "import datetime\n",
    "import seaborn as sns\n",
    "import warnings\n",
    "warnings.filterwarnings(\"ignore\")\n",
    "\n",
    "from utils import market_values, market_values_by_time_index, nodal_balance, carrier_colors"
   ]
  },
  {
   "cell_type": "code",
   "execution_count": null,
   "metadata": {
    "pycharm": {
     "name": "#%%\n"
    }
   },
   "outputs": [],
   "source": [
    "# dict(sorted(carrier_colors.items()))\n",
    "# \"aquamarine\" in carrier_colors.values()"
   ]
  },
  {
   "cell_type": "code",
   "execution_count": null,
   "metadata": {
    "pycharm": {
     "name": "#%%\n"
    }
   },
   "outputs": [],
   "source": [
    "n =pypsa.Network(\"../data/raw/elec_s_181_lv1.0__Co2L0-3H-T-H-B-I-A-solar+p3-linemaxext10-noH2network_2030.nc\")"
   ]
  },
  {
   "cell_type": "markdown",
   "metadata": {
    "pycharm": {
     "name": "#%% md\n"
    }
   },
   "source": [
    "## Case Study"
   ]
  },
  {
   "cell_type": "code",
   "execution_count": null,
   "metadata": {
    "pycharm": {
     "name": "#%%\n"
    }
   },
   "outputs": [],
   "source": [
    "# example of bus and snapshot\n",
    "bus = \"DE0 1\" # \"AL0 0\" # \"DE0 1\"\n",
    "snap = \"2013-01-01 09:00:00\"\n",
    "# energy carrier at bus\n",
    "n.buses.carrier[bus]"
   ]
  },
  {
   "cell_type": "code",
   "execution_count": null,
   "metadata": {
    "pycharm": {
     "name": "#%%\n"
    }
   },
   "outputs": [],
   "source": [
    "# active power at bus (positive if net generation at bus) in MW\n",
    "n.buses_t.p.loc[snap,bus]"
   ]
  },
  {
   "cell_type": "code",
   "execution_count": null,
   "metadata": {
    "pycharm": {
     "name": "#%%\n"
    }
   },
   "outputs": [],
   "source": [
    "# Lines (what reaches bus?)\n",
    "# 1. sum of power @ lines with bus as bus0 and p0 (Active power at bus0 (positive if branch is withdrawing power from bus0)\n",
    "n.lines_t.p0[n.lines[n.lines.bus0 == bus].index].sum(axis=1)\n",
    "# 2. sum of power @ lines with bus as bus1 and p1 (Active power at bus1 (positive if branch is withdrawing power from bus1)\n",
    "n.lines_t.p1[n.lines[n.lines.bus1 == bus].index].sum(axis=1)\n",
    "# sum (if negative power is feed into bus)\n",
    "lines = n.lines_t.p0[n.lines[n.lines.bus0 == bus].index].sum(axis=1) + n.lines_t.p1[n.lines[n.lines.bus1 == bus].index].sum(axis=1)\n",
    "# sum should be the same value as the active power at the bus\n",
    "lines[snap]"
   ]
  },
  {
   "cell_type": "markdown",
   "metadata": {
    "pycharm": {
     "name": "#%% md\n"
    }
   },
   "source": [
    "### Loads"
   ]
  },
  {
   "cell_type": "code",
   "execution_count": null,
   "metadata": {
    "pycharm": {
     "name": "#%%\n"
    }
   },
   "outputs": [],
   "source": [
    "# active power at bus (positive if net load) in MW\n",
    "load = n.loads_t.p.loc[snap,bus]"
   ]
  },
  {
   "cell_type": "markdown",
   "metadata": {
    "pycharm": {
     "name": "#%% md\n"
    }
   },
   "source": [
    "### Generators"
   ]
  },
  {
   "cell_type": "code",
   "execution_count": null,
   "metadata": {
    "pycharm": {
     "name": "#%%\n"
    }
   },
   "outputs": [],
   "source": [
    "# generation of generators directly connected to bus\n",
    "gens_index_direct = n.generators[n.generators.bus == bus].bus.index\n",
    "# active power at bus (positive if net generation)\n",
    "gen = n.generators_t.p.loc[snap, gens_index_direct].sum()"
   ]
  },
  {
   "cell_type": "markdown",
   "metadata": {
    "pycharm": {
     "name": "#%% md\n"
    }
   },
   "source": [
    "### Links"
   ]
  },
  {
   "cell_type": "code",
   "execution_count": null,
   "metadata": {
    "pycharm": {
     "name": "#%%\n"
    }
   },
   "outputs": [],
   "source": [
    "# links connected to the bus (bus0 of link)\n",
    "links_index_direct = n.links[n.links.bus0 == bus].index\n",
    "# Active power at bus1 (positive if branch is withdrawing power from bus0).\n",
    "n.links_t.p0.loc[snap, links_index_direct]#.sum()"
   ]
  },
  {
   "cell_type": "code",
   "execution_count": null,
   "metadata": {
    "pycharm": {
     "name": "#%%\n"
    }
   },
   "outputs": [],
   "source": [
    "# links connected to the bus (bus1 of link)\n",
    "links_index_direct = n.links[n.links.bus1 == bus].index\n",
    "# Active power at bus1 (positive if branch is withdrawing power from bus0).\n",
    "n.links_t.p1.loc[snap, links_index_direct]#.sum()"
   ]
  },
  {
   "cell_type": "code",
   "execution_count": null,
   "metadata": {
    "pycharm": {
     "name": "#%%\n"
    }
   },
   "outputs": [],
   "source": [
    "# links connected to the bus (bus2 of link)\n",
    "links_index_direct = n.links[n.links.bus2 == bus].index\n",
    "# Active power at bus1 (positive if branch is withdrawing power from bus0).\n",
    "n.links_t.p2.loc[snap, links_index_direct]"
   ]
  },
  {
   "cell_type": "code",
   "execution_count": null,
   "metadata": {
    "pycharm": {
     "name": "#%%\n"
    }
   },
   "outputs": [],
   "source": [
    "# links connected to the bus (bus3 of link)\n",
    "links_index_direct = n.links[n.links.bus3 == bus].index\n",
    "# Active power at bus1 (positive if branch is withdrawing power from bus0).\n",
    "n.links_t.p3.loc[snap, links_index_direct]"
   ]
  },
  {
   "cell_type": "code",
   "execution_count": null,
   "metadata": {
    "pycharm": {
     "name": "#%%\n"
    }
   },
   "outputs": [],
   "source": [
    "# links connected to the bus (bus4 of link)\n",
    "links_index_direct = n.links[n.links.bus4 == bus].index\n",
    "# Active power at bus1 (positive if branch is withdrawing power from bus0).\n",
    "n.links_t.p4.loc[snap, links_index_direct]"
   ]
  },
  {
   "cell_type": "code",
   "execution_count": null,
   "metadata": {
    "pycharm": {
     "name": "#%%\n"
    }
   },
   "outputs": [],
   "source": [
    "# Overall balance from links\n",
    "links_balance = 0\n",
    "\n",
    "for i in range(0,5):\n",
    "    links_index_direct = n.links[n.links[f\"bus{i}\"] == bus].index\n",
    "    # Active power at busi (positive if branch is withdrawing power from busi).\n",
    "    links_balance += n.links_t[f\"p{i}\"].loc[snap, links_index_direct].sum()\n",
    "\n",
    "links_balance"
   ]
  },
  {
   "cell_type": "markdown",
   "metadata": {
    "pycharm": {
     "name": "#%% md\n"
    }
   },
   "source": [
    "### Storage Units"
   ]
  },
  {
   "cell_type": "code",
   "execution_count": null,
   "metadata": {
    "pycharm": {
     "name": "#%%\n"
    }
   },
   "outputs": [],
   "source": [
    "# storage units\n",
    "storage_index = n.storage_units[n.storage_units.bus == bus].index\n",
    "# active power at bus (positive if net generation) in MW\n",
    "su = n.storage_units_t.p.loc[snap, storage_index].sum()"
   ]
  },
  {
   "cell_type": "markdown",
   "metadata": {
    "pycharm": {
     "name": "#%% md\n"
    }
   },
   "source": [
    "### Stores"
   ]
  },
  {
   "cell_type": "code",
   "execution_count": null,
   "metadata": {
    "pycharm": {
     "name": "#%%\n"
    }
   },
   "outputs": [],
   "source": [
    "# stores\n",
    "stores_index = n.stores[n.stores.bus == bus].index\n",
    "# active power at bus (positive if net generation) in MW\n",
    "st = n.stores_t.p.loc[snap, stores_index].sum()"
   ]
  },
  {
   "cell_type": "markdown",
   "metadata": {
    "pycharm": {
     "name": "#%% md\n"
    }
   },
   "source": [
    "### Overall aggregation"
   ]
  },
  {
   "cell_type": "code",
   "execution_count": null,
   "metadata": {
    "pycharm": {
     "name": "#%%\n"
    }
   },
   "outputs": [],
   "source": [
    "print(f\"{gen} - {load} - {links_balance} + {su} + {st}\")\n",
    "gen - load - links_balance + su + st"
   ]
  },
  {
   "cell_type": "code",
   "execution_count": null,
   "metadata": {
    "pycharm": {
     "name": "#%%\n"
    }
   },
   "outputs": [],
   "source": [
    "print(f\"{gen} - {links_balance} + {su} + {st}\")\n",
    "gen  - links_balance + su + st"
   ]
  },
  {
   "cell_type": "code",
   "execution_count": null,
   "metadata": {
    "pycharm": {
     "name": "#%%\n"
    }
   },
   "outputs": [],
   "source": [
    "# active power at bus (positive if net generation at bus) in MW\n",
    "n.buses_t.p.loc[snap, bus]"
   ]
  },
  {
   "cell_type": "markdown",
   "metadata": {
    "pycharm": {
     "name": "#%% md\n"
    }
   },
   "source": [
    "Notes:\n",
    "- shunt_impedances and transformers are not existent in network\n",
    "- if you exclude the load in the balance, the bus is balanced. Why?"
   ]
  },
  {
   "cell_type": "markdown",
   "metadata": {
    "pycharm": {
     "name": "#%% md\n"
    }
   },
   "source": [
    "## Nodal Balance\n",
    "- calculating import or export excess"
   ]
  },
  {
   "cell_type": "markdown",
   "metadata": {
    "pycharm": {
     "name": "#%% md\n"
    }
   },
   "source": [
    "### Electricity plot"
   ]
  },
  {
   "cell_type": "code",
   "execution_count": null,
   "metadata": {
    "pycharm": {
     "name": "#%%\n"
    }
   },
   "outputs": [],
   "source": [
    "carrier = [\"AC\", \"low voltage\"]\n",
    "loads = [\"electricity\", \"industry electricity\", \"agriculture electricity\"]\n",
    "period = \"2013-05\"\n",
    "nb_el = nodal_balance(n, carrier = carrier, time=period, aggregate=['component', 'bus'], energy=True)  # in units of energy\n",
    "# convert from MW to GW and unstack\n",
    "nb_el = nb_el.unstack(level=[1]) / 1000\n",
    "load_el = nb_el[loads]\n",
    "nb_el.drop\n",
    "nb_el.head(3)"
   ]
  },
  {
   "cell_type": "code",
   "execution_count": null,
   "metadata": {
    "pycharm": {
     "name": "#%%\n"
    }
   },
   "outputs": [],
   "source": [
    "fig, ax = plt.subplots(figsize=(14, 8))\n",
    "\n",
    "df = nb_el\n",
    "\n",
    "# split into df with positive and negative values and get colors\n",
    "df_neg, df_pos = df.clip(upper=0), df.clip(lower=0)\n",
    "c_neg, c_pos = [carrier_colors[col] for col in df_neg.columns], [carrier_colors[col] for col in df_pos.columns]\n",
    "\n",
    "# plot positive values\n",
    "ax = df_pos.plot.area(ax=ax, stacked=True, color=c_pos, linewidth=0.)\n",
    "\n",
    "# rename negative values so that they are not shown and plot negative values\n",
    "ax = df_neg.rename(columns=lambda x: '_' + x).plot.area(ax=ax, stacked=True, color=c_neg, linewidth=0.)\n",
    "\n",
    "# plot lmps\n",
    "lmps = n.buses_t.marginal_price[n.buses[n.buses.carrier.isin(carrier)].index].mean(axis=1)[period]\n",
    "ax2 = lmps.plot(style=\":\", color=\"black\", label=\"lmp (mean over buses) [€/MWh]\", secondary_y=True)\n",
    "# set limits of secondary y-axis\n",
    "ax2.set_ylim([ - 3 * lmps.max() * abs(df_neg.sum(axis=1).min()) /  df_pos.sum(axis=1).max() , 3 * lmps.max()])\n",
    "\n",
    "# plot loads\n",
    "# n.load_t.p_set (gesetzte energie nachfrage)\n",
    "# loads = n.loads_t.p[n.buses[n.buses.carrier.isin(carrier)].index].sum(axis=1)[period] / 1000\n",
    "# loads.plot(style=\"--\", color=\"black\", label=\"loads (sum over buses) [GWh]\", secondary_y=True)\n",
    "\n",
    "# rescale the y-axis\n",
    "ax.set_ylim([df_neg.sum(axis=1).min(), df_pos.sum(axis=1).max()])\n",
    "ax.legend(ncol=1, loc=\"upper center\", bbox_to_anchor=(1.2, 1), title=\"Legend for left y-axis\")\n",
    "ax2.legend(title=\"Legend for right y-axis\",  loc=\"upper center\", bbox_to_anchor=(1.205, 0.43))\n",
    "ax.set_ylabel(\"tota electriyity balance [GW]\")\n",
    "ax.set_xlabel(\"\")\n",
    "ax.set_title(f\"{carrier}\")\n",
    "fig.tight_layout()\n",
    "\n",
    "# februrary; GAS CHP"
   ]
  },
  {
   "cell_type": "code",
   "execution_count": null,
   "metadata": {
    "pycharm": {
     "name": "#%%\n"
    }
   },
   "outputs": [],
   "source": [
    "n.loads.carrier.isin([\"electricity\", \"industry electricity\"])"
   ]
  },
  {
   "cell_type": "markdown",
   "metadata": {
    "pycharm": {
     "name": "#%% md\n"
    }
   },
   "source": [
    "### Electricity plot"
   ]
  },
  {
   "cell_type": "code",
   "execution_count": null,
   "metadata": {
    "pycharm": {
     "name": "#%%\n"
    }
   },
   "outputs": [],
   "source": [
    "carrier = [\"AC\", \"battery\", \"Li ion\", \"low voltage\", \"home battery\"]\n",
    "nb_el = nodal_balance(n, carrier = carrier, time=\"2013-05\", aggregate=['component', 'bus'], energy=True)  # in units of energy\n",
    "# convert from MW to GW\n",
    "nb_el = nb_el.unstack(level=[1]) / 1000\n",
    "nb_el.head()"
   ]
  },
  {
   "cell_type": "code",
   "execution_count": null,
   "metadata": {
    "pycharm": {
     "name": "#%%\n"
    }
   },
   "outputs": [],
   "source": [
    "fig, ax = plt.subplots(figsize=(14, 10))\n",
    "\n",
    "df = nb_el\n",
    "\n",
    "# split into df with posititve and negative values and get colors\n",
    "df_neg, df_pos = df.clip(upper=0), df.clip(lower=0)\n",
    "c_neg, c_pos = [carrier_colors[col] for col in df_neg.columns], [carrier_colors[col] for col in df_pos.columns]\n",
    "\n",
    "# plot positive values\n",
    "df_pos.plot.area(ax=ax, stacked=True, color=c_pos, linewidth=0.)\n",
    "\n",
    "# rename\n",
    "df_neg.rename(columns=lambda x: '_' + x).plot.area(ax=ax, stacked=True, color=c_neg, linewidth=0.)\n",
    "\n",
    "# rescale the y axis\n",
    "\n",
    "ax.set_ylim([df_neg.sum(axis=1).min(), df_pos.sum(axis=1).max()])\n",
    "ax.legend(ncol=1, loc=\"upper center\", bbox_to_anchor=(1.17, 1))\n",
    "ax.set_ylabel(\"tota electriyity balance [GW]\")\n",
    "ax.set_xlabel(\"\")\n",
    "ax.set_title(f\"{carrier}\")\n",
    "fig.tight_layout()"
   ]
  },
  {
   "cell_type": "markdown",
   "metadata": {
    "pycharm": {
     "name": "#%% md\n"
    }
   },
   "source": [
    "### H2 plot"
   ]
  },
  {
   "cell_type": "code",
   "execution_count": null,
   "metadata": {
    "pycharm": {
     "name": "#%%\n"
    }
   },
   "outputs": [],
   "source": [
    "carrier = [\"H2\"] # [\"H2\", \"H2 liquid\"]\n",
    "nb_h2 = nodal_balance(n, carrier, time=\"2013-05\", aggregate=['component', 'bus'], energy=True)   # in units of energy\n",
    "# convert from MW to GW\n",
    "nb_h2 = nb_h2.unstack(level=[1]) / 1000\n",
    "nb_h2.head()"
   ]
  },
  {
   "cell_type": "code",
   "execution_count": null,
   "metadata": {
    "pycharm": {
     "name": "#%%\n"
    }
   },
   "outputs": [],
   "source": [
    "# get carriers that are present\n",
    "nb_h2.columns"
   ]
  },
  {
   "cell_type": "code",
   "execution_count": null,
   "metadata": {
    "pycharm": {
     "name": "#%%\n"
    }
   },
   "outputs": [],
   "source": [
    "fig, ax = plt.subplots(figsize=(14, 8))\n",
    "\n",
    "df = nb_h2\n",
    "\n",
    "# split into df with posititve and negative values and get colors\n",
    "df_neg, df_pos = df.clip(upper=0), df.clip(lower=0)\n",
    "c_neg, c_pos = [carrier_colors[col] for col in df_neg.columns], [carrier_colors[col] for col in df_pos.columns]\n",
    "\n",
    "# plot positive values\n",
    "df_pos.plot.area(ax=ax, stacked=True, color=c_pos, linewidth=0.)\n",
    "\n",
    "# rename\n",
    "df_neg.rename(columns=lambda x: '_' + x).plot.area(ax=ax, stacked=True, color=c_neg, linewidth=0.)\n",
    "\n",
    "# rescale the y axis\n",
    "ax.set_ylim([df_neg.sum(axis=1).min(), df_pos.sum(axis=1).max()])\n",
    "ax.legend(ncol=1, loc=\"upper center\", bbox_to_anchor=(1.1, 1))\n",
    "ax.set_ylabel(\"total hydrogen balance [GW]\")\n",
    "ax.set_xlabel(\"\")\n",
    "ax.set_title(f\"{carrier}\")\n",
    "fig.tight_layout()"
   ]
  },
  {
   "cell_type": "markdown",
   "metadata": {
    "pycharm": {
     "name": "#%% md\n"
    }
   },
   "source": [
    "### Heat plot"
   ]
  },
  {
   "cell_type": "code",
   "execution_count": null,
   "metadata": {
    "pycharm": {
     "name": "#%%\n"
    }
   },
   "outputs": [],
   "source": [
    "nb_heat = nodal_balance(n, [\"residential rural heat\", \"services rural heat\", \"residential urban decentral heat\", \"services urban decentral heat\", \"urban central heat\"], time=\"2013-05\", aggregate=['component', 'bus'], energy=True)   # in units of energy\n",
    "# convert from MW to GW\n",
    "nb_heat = nb_heat.unstack(level=[1]) / 1000\n",
    "nb_heat.head()"
   ]
  },
  {
   "cell_type": "code",
   "execution_count": null,
   "metadata": {
    "pycharm": {
     "name": "#%%\n"
    }
   },
   "outputs": [],
   "source": [
    "fig, ax = plt.subplots(figsize=(14, 10))\n",
    "\n",
    "df = nb_heat\n",
    "\n",
    "# split into df with posititve and negative values and get colors\n",
    "df_neg, df_pos = df.clip(upper=0), df.clip(lower=0)\n",
    "c_neg, c_pos = [carrier_colors[col] for col in df_neg.columns], [carrier_colors[col] for col in df_pos.columns]\n",
    "\n",
    "# plot positive values\n",
    "df_pos.plot.area(ax=ax, stacked=True, color=c_pos, linewidth=0.)\n",
    "\n",
    "# rename\n",
    "df_neg.rename(columns=lambda x: '_' + x).plot.area(ax=ax, stacked=True, color=c_neg, linewidth=0.)\n",
    "\n",
    "# rescale the y axis\n",
    "\n",
    "ax.set_ylim([df_neg.sum(axis=1).min(), df_pos.sum(axis=1).max()])\n",
    "ax.legend(ncol=1, loc=\"upper center\", bbox_to_anchor=(1.21, 1.005))\n",
    "ax.set_ylabel(\"total hydrogen balance [GW]\")\n",
    "ax.set_xlabel(\"\")\n",
    "ax.set_title(f\"{carrier}\")\n",
    "fig.tight_layout()"
   ]
  },
  {
   "cell_type": "code",
   "execution_count": null,
   "metadata": {
    "pycharm": {
     "name": "#%%\n"
    }
   },
   "outputs": [],
   "source": [
    "carrier = [\"urban central heat\"]\n",
    "nb_ucheat = nodal_balance(n, carrier=carrier, time=\"2013-05\", aggregate=['component', 'bus'], energy=True)   # in units of energy\n",
    "# convert from MW to GW\n",
    "nb_ucheat = nb_ucheat.unstack(level=[1]) / 1000\n",
    "nb_ucheat.head()"
   ]
  },
  {
   "cell_type": "code",
   "execution_count": null,
   "metadata": {
    "pycharm": {
     "name": "#%%\n"
    }
   },
   "outputs": [],
   "source": [
    "fig, ax = plt.subplots(figsize=(12, 8))\n",
    "\n",
    "df = nb_ucheat\n",
    "\n",
    "# split into df with posititve and negative values and get colors\n",
    "df_neg, df_pos = df.clip(upper=0), df.clip(lower=0)\n",
    "c_neg, c_pos = [carrier_colors[col] for col in df_neg.columns], [carrier_colors[col] for col in df_pos.columns]\n",
    "\n",
    "# plot positive values\n",
    "df_pos.plot.area(ax=ax, stacked=True, color=c_pos, linewidth=0.)\n",
    "\n",
    "# rename\n",
    "df_neg.rename(columns=lambda x: '_' + x).plot.area(ax=ax, stacked=True, color=c_neg, linewidth=0.)\n",
    "\n",
    "# rescale the y axis\n",
    "\n",
    "ax.set_ylim([df_neg.sum(axis=1).min(), df_pos.sum(axis=1).max()])\n",
    "ax.legend(ncol=1, loc=\"upper center\", bbox_to_anchor=(1.18, 1))\n",
    "ax.set_ylabel(\"total energy balance [GW]\")\n",
    "ax.set_xlabel(\"\")\n",
    "ax.set_title(f\"{carrier}\")\n",
    "fig.tight_layout()"
   ]
  },
  {
   "cell_type": "markdown",
   "metadata": {
    "pycharm": {
     "name": "#%% md\n"
    }
   },
   "source": [
    "## LMP Determination"
   ]
  },
  {
   "cell_type": "code",
   "execution_count": null,
   "metadata": {
    "pycharm": {
     "name": "#%%\n"
    }
   },
   "outputs": [],
   "source": [
    "# find snap with easy determination of marginal generator\n",
    "n.generators_t.p"
   ]
  },
  {
   "cell_type": "code",
   "execution_count": null,
   "metadata": {
    "pycharm": {
     "name": "#%%\n"
    }
   },
   "outputs": [],
   "source": [
    "n.global_constraints"
   ]
  },
  {
   "cell_type": "code",
   "execution_count": null,
   "metadata": {
    "pycharm": {
     "name": "#%%\n"
    }
   },
   "outputs": [],
   "source": [
    "plt.plot(n.buses_t.marginal_price[[\"AL0 0\"]][0:100])"
   ]
  },
  {
   "cell_type": "code",
   "execution_count": null,
   "metadata": {
    "pycharm": {
     "name": "#%%\n"
    }
   },
   "outputs": [],
   "source": [
    "# find snap with easy determination of marginal generator\n",
    "n.generators_t.p"
   ]
  },
  {
   "cell_type": "code",
   "execution_count": null,
   "metadata": {
    "pycharm": {
     "name": "#%%\n"
    }
   },
   "outputs": [],
   "source": [
    "n.buses_t.marginal_price"
   ]
  },
  {
   "cell_type": "code",
   "execution_count": null,
   "metadata": {
    "pycharm": {
     "name": "#%%\n"
    }
   },
   "outputs": [],
   "source": [
    "n.generators.loc[\"AL0 0 solar\"]"
   ]
  }
 ],
 "metadata": {
  "kernelspec": {
   "display_name": "Python 3 (ipykernel)",
   "language": "python",
   "name": "python3"
  },
  "language_info": {
   "codemirror_mode": {
    "name": "ipython",
    "version": 3
   },
   "file_extension": ".py",
   "mimetype": "text/x-python",
   "name": "python",
   "nbconvert_exporter": "python",
   "pygments_lexer": "ipython3",
   "version": "3.10.6"
  }
 },
 "nbformat": 4,
 "nbformat_minor": 1
}