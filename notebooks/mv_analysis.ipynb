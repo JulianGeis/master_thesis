{
 "cells": [
  {
   "cell_type": "markdown",
   "metadata": {
    "pycharm": {
     "name": "#%% md\n"
    }
   },
   "source": [
    "#### Imports"
   ]
  },
  {
   "cell_type": "code",
   "execution_count": null,
   "metadata": {
    "pycharm": {
     "name": "#%%\n"
    }
   },
   "outputs": [],
   "source": [
    "import pandas as pd\n",
    "import matplotlib\n",
    "import numpy as np\n",
    "import pypsa\n",
    "import matplotlib.pyplot as plt\n",
    "import cartopy\n",
    "import cartopy.crs as ccrs\n",
    "import seaborn as sns\n",
    "import warnings\n",
    "warnings.filterwarnings('ignore')\n",
    "import geopandas as gpd\n",
    "import math\n",
    "import itertools\n",
    "import statsmodels.api as sm\n",
    "\n",
    "from utils import market_values, market_values_links, market_values_by_time_index, market_values_links_con, congestion_rent_link, convert_ISO_3166_2_to_1, generation, generation_links, market_values_storage_units, generation_storage_units\n",
    "\n",
    "# general variables\n",
    "font1 = {'fontname':'Calibri'}\n",
    "PLOT_DIR = 'C:/Users/Julian/Studies/Master/01 TU Berlin/3. Semester - Masterarbeit/MA Marktwerte FEE/data/plots/'\n",
    "onshore_regions = gpd.read_file(\"../data/external/regions_onshore_elec_s_181.geojson\")\n",
    "offshore_regions = gpd.read_file(\"../data/external/regions_offshore_elec_s_181.geojson\")\n",
    "onshore_regions = onshore_regions.set_index('name')\n",
    "offshore_regions = offshore_regions.set_index('name')"
   ]
  },
  {
   "cell_type": "code",
   "execution_count": null,
   "metadata": {
    "pycharm": {
     "name": "#%%\n"
    }
   },
   "outputs": [],
   "source": [
    "n =pypsa.Network(\"../data/raw/elec_s_181_lv1.0__Co2L0-3H-T-H-B-I-A-solar+p3-linemaxext10-noH2network_2030.nc\")"
   ]
  },
  {
   "cell_type": "code",
   "execution_count": null,
   "metadata": {
    "pycharm": {
     "name": "#%%\n"
    }
   },
   "outputs": [],
   "source": [
    "# sort carriers by similar technology / underlying energy for better investigation\n",
    "car_bus_el = ['AC','battery','Li ion','low voltage','home battery' ]\n",
    "car_bus_heat = ['residential rural heat', 'services rural heat','residential urban decentral heat', 'services urban decentral heat', 'urban central heat']\n",
    "car_bus_bio_gas = ['H2','biogas','solid biomass','solid biomass for industry','gas for industry','H2 liquid']\n",
    "\n",
    "car_gen_vre = ['offwind-ac', 'offwind-dc','onwind', 'solar', 'ror', 'solar rooftop']\n",
    "car_gen_soltherm = [ 'residential rural solar thermal', 'services rural solar thermal', 'residential urban decentral solar thermal', 'services urban decentral solar thermal','urban central solar thermal',]\n",
    "\n",
    "car_link_imp1 = ['OCGT', 'H2 Electrolysis', 'H2 Fuel Cell', 'Sabatier', 'SMR', \"Fischer-Tropsch\", \"urban central gas CHP\", \"battery charger\", \"battery discharger\"]\n",
    "car_link_imp2 = [\"OCGT\", \"H2 Electrolysis\", \"Fischer-Tropsch\",\"Sabatier\", \"H2 Fuel Cell\", \"urban central gas CHP\", \"urban central gas CHP CC\", \"battery charger\", \"battery discharger\", \"home battery charger\", \"home battery discharger\"   ]\n",
    "car_link_mix = ['OCGT', 'H2 Electrolysis', 'H2 Fuel Cell', 'Sabatier', 'SMR', \"Fischer-Tropsch\", \"urban central gas CHP\", \"battery charger\", \"battery discharger\", \"residential rural resistive heater\",\"residential rural ground heat pump\",\"residential rural gas boiler\"]\n",
    "car_link_resisitve_heater = [\"residential rural resistive heater\", \"services rural resistive heater\", \"residential urban decentral resistive heater\", \"services urban decentral resistive heater\", \"urban central resistive heater\" ]\n",
    "car_link_gas_boiler = [\"residential rural gas boiler\", \"services rural gas boiler\", \"residential urban decentral gas boiler\", \"services urban decentral gas boiler\", \"urban central gas boiler\"]\n",
    "car_link_heat_pump = [\"residential rural ground heat pump\", \"services rural ground heat pump\", \"residential urban decentral air heat pump\", \"services urban decentral air heat pump\", \"urban central air heat pump\"  ]\n",
    "\n",
    "car_imp_fneum = [\"onwind\", \"solar\", \"offwind-ac\", \"solar rooftop\", \"OCGT\", \"H2 Electrolysis\", \"H2 Fuel Cell\", \"battery charger\", \"battery discharger\", \"V2G\", \"urban central air heat pump\",  \"urban central resistive heater\", \"urban central gas boiler\", \"urban central gas CHP\", \"urban central gas CHP CC\", \"Fischer-Tropsch\", \"PHS\"]\n",
    "car_imp2_fneum = [\"ror\", \"SMR\", \"SMR CC\", \"home battery charger\", \"home battery discharger\"]\n",
    "car_imp3_fneum = [\"gas\", \"urban central solar thermal\"]\n",
    "\n",
    "# TOOD: detect similar energy carriers; combine similar energy carriers: offwind(ac+dc), \"solar(+rooftop)\", battery charger(+home), battery discharger(+home), heat pump (all), resisitive eater (all), gas boiler (all)\n",
    "# within [residential rural, services rural, residential urban decentral, services urban decentra, urban central] concentrate on urban central\n",
    "\n",
    "# carrier buses\n",
    "car_bus_imp = [\"AC\", \"H2\", \"battery\", \"Li ion\", \"residential rural heat\", \"urban central heat\", \"biogas\", \"solid biomass\", \"H2 liquid\", \"low voltage\", \"home battery\" ]"
   ]
  },
  {
   "cell_type": "markdown",
   "metadata": {
    "pycharm": {
     "name": "#%% md\n"
    }
   },
   "source": [
    "#### General Investigation"
   ]
  },
  {
   "cell_type": "markdown",
   "metadata": {
    "pycharm": {
     "name": "#%% md\n"
    }
   },
   "source": [
    "key data\n",
    "- 365 * 24 / 3 = 2920 snapshots over one year (every 3 hours) -> rows\n",
    "- 3086 different buses\n",
    "- 181 different locations (+ EU: 182)\n",
    "- 1707 different generators\n",
    "- 8375 links\n",
    "- 1635 stores\n",
    "- 170 storage units\n",
    "- no hydrogen network\n",
    "- no network expansion (from current state)"
   ]
  },
  {
   "cell_type": "code",
   "execution_count": null,
   "metadata": {
    "pycharm": {
     "name": "#%%\n"
    }
   },
   "outputs": [],
   "source": [
    "# network plot\n",
    "m = n.copy()\n",
    "m.mremove(\"Bus\",m.buses[n.buses.x == 0].index )\n",
    "\n",
    "fig, ax = plt.subplots(1, 1, subplot_kw={\"projection\": ccrs.EqualEarth()}, figsize=(8, 8))\n",
    "\n",
    "bus_locs = pd.Index(m.buses.location.unique())\n",
    "load_distribution = m.loads_t.p[bus_locs].sum()/m.loads_t.p[bus_locs].sum().max()\n",
    "\n",
    "m.plot(bus_sizes=1*load_distribution, ax=ax, title=\"Load distribution\", projection=ccrs.EqualEarth())\n",
    "plt.show()"
   ]
  },
  {
   "cell_type": "markdown",
   "metadata": {
    "pycharm": {
     "name": "#%% md\n"
    }
   },
   "source": [
    "### Spatial distribution of market values, generation and  per technology"
   ]
  },
  {
   "cell_type": "markdown",
   "metadata": {
    "pycharm": {
     "name": "#%% md\n"
    }
   },
   "source": [
    "#### Regions"
   ]
  },
  {
   "cell_type": "code",
   "execution_count": null,
   "metadata": {
    "pycharm": {
     "name": "#%%\n"
    }
   },
   "outputs": [],
   "source": [
    "onshore_regions['coords'] = onshore_regions['geometry'].apply(lambda x: x.representative_point().coords[:])\n",
    "onshore_regions['coords'] = [coords[0] for coords in onshore_regions['coords']]\n",
    "onshore_regions[\"name\"] = onshore_regions.index\n",
    "offshore_regions['coords'] = offshore_regions['geometry'].apply(lambda x: x.representative_point().coords[:])\n",
    "offshore_regions['coords'] = [coords[0] for coords in offshore_regions['coords']]\n",
    "offshore_regions[\"name\"] = offshore_regions.index"
   ]
  },
  {
   "cell_type": "code",
   "execution_count": null,
   "metadata": {
    "pycharm": {
     "name": "#%%\n"
    }
   },
   "outputs": [],
   "source": [
    "# onshore and offshore regions on map (overview)\n",
    "fig = plt.figure(figsize=(32, 26))\n",
    "crs = ccrs.PlateCarree()\n",
    "\n",
    "ax = plt.axes(projection=ccrs.PlateCarree())\n",
    "ax.add_feature(cartopy.feature.BORDERS, edgecolor='black', linewidth=0.5)\n",
    "ax.coastlines(edgecolor='black', linewidth=0.5)\n",
    "ax.set_facecolor('white')\n",
    "ax.add_feature(cartopy.feature.OCEAN, color='azure')\n",
    "ax.set_title(\"onshore and offshore regions\", fontsize=16, **font1)\n",
    "\n",
    "onshore_regions.to_crs(crs.proj4_init).plot(ax=ax,\n",
    "                     linewidth=0.2,\n",
    "                     facecolor=\"white\",\n",
    "                     edgecolor = 'grey')\n",
    "\n",
    "# offshore_regions.to_crs(crs.proj4_init).plot(ax=ax,\n",
    "#                      linewidth=0.2,\n",
    "#                      facecolor=\"white\",\n",
    "#                      edgecolor = 'grey')\n",
    "\n",
    "for idx, row in onshore_regions.iterrows():\n",
    "    plt.annotate(text=row['name'], xy=row['coords'],\n",
    "                 horizontalalignment='center')\n",
    "\n",
    "# for idx, row in offshore_regions.iterrows():\n",
    "#     plt.annotate(text=row['name'], xy=row['coords'],\n",
    "#                  horizontalalignment='center')\n",
    "\n",
    "plt.show()\n",
    "# plt.close()\n",
    "# fig.savefig(f\"{PLOT_DIR}01_general/regions.png\")"
   ]
  },
  {
   "cell_type": "markdown",
   "metadata": {
    "pycharm": {
     "name": "#%% md\n"
    }
   },
   "source": [
    "#### Market value and generation per region"
   ]
  },
  {
   "cell_type": "code",
   "execution_count": null,
   "metadata": {
    "pycharm": {
     "name": "#%%\n"
    }
   },
   "outputs": [],
   "source": [
    "# calc market values, generation, lmps for generators, links and storage units\n",
    "df_regions_onshore = onshore_regions.copy()\n",
    "df_regions_offshore = offshore_regions.copy()\n",
    "\n",
    "# function for carriers in n.generators.carrier.unique() #13\n",
    "for carrier in n.generators.carrier.unique():\n",
    "    df_regions_onshore[f\"{carrier}_mv\"] = market_values(n, carrier)\n",
    "    df_regions_offshore[f\"{carrier}_mv\"] = market_values(n, carrier)\n",
    "    # generation in TWh\n",
    "    df_regions_onshore[f\"{carrier}_gen\"] = generation(n, carrier) / 1000\n",
    "    df_regions_offshore[f\"{carrier}_gen\"] = generation(n, carrier) / 1000\n",
    "    # lmps\n",
    "    df_regions_onshore[f\"{carrier}_gen\"] = generation(n, carrier) / 1000\n",
    "    df_regions_offshore[f\"{carrier}_gen\"] = generation(n, carrier) / 1000\n",
    "\n",
    "# function for carriers in n.links.carrier.unique() #53\n",
    "for carrier in n.links.carrier.unique():\n",
    "    df_regions_onshore[f\"{carrier}_mv\"] = market_values_links(n, carrier)\n",
    "    df_regions_onshore[f\"{carrier}_gen\"] = generation_links(n, carrier) / 1000\n",
    "\n",
    "# function for carriers in n.storage_units.carrier.unique() #2\n",
    "for carrier in n.storage_units.carrier.unique():\n",
    "    df_regions_onshore[f\"{carrier}_mv\"] = market_values_storage_units(n, carrier)\n",
    "    df_regions_onshore[f\"{carrier}_gen\"] = generation_storage_units(n, carrier) / 1000\n",
    "\n",
    "# set market values to nan where generation in corresponding region is lower than % quantile\n",
    "qt = 0.2\n",
    "for carrier in (n.generators.carrier.unique().tolist() +\n",
    "                n.links.carrier.unique().tolist() +\n",
    "                n.storage_units.carrier.unique().tolist()):\n",
    "    index = df_regions_onshore[f\"{carrier}_gen\"] <= np.quantile(df_regions_onshore[f\"{carrier}_gen\"], qt)\n",
    "    df_regions_onshore[f\"{carrier}_mv\"][index] = np.nan\n",
    "\n",
    "# calc lmps at the buses (lmps that are only present for EU (e.g. oil) are nan at the moment)\n",
    "# TODO: decide if EU lmps are used as lmp for all regions\n",
    "for carrier_bus in n.buses.carrier.unique():\n",
    "    # index would be same names as the bus (not the location as it is in the index of\n",
    "    # df_regions_onshore so far -> map location to make sure the right lmp is set\n",
    "    locs = n.buses.location[n.buses[n.buses.carrier == carrier_bus].index]\n",
    "    lmps = n.buses_t.marginal_price[n.buses[n.buses.carrier == carrier_bus].index].mean()\n",
    "    df = pd.concat([lmps, locs], axis=1).rename(columns={0: f\"{carrier_bus}_lmp\"})\n",
    "    df.set_index(\"location\", inplace=True)\n",
    "    if df.size == 1:\n",
    "        if df.index == \"EU\":\n",
    "            df = pd.DataFrame(np.repeat(df.values, 181), index=df_regions_onshore.index, columns=[f\"{carrier_bus}_lmp\"])\n",
    "            df_regions_onshore[f\"{carrier_bus}_lmp\"] = df[f\"{carrier_bus}_lmp\"]\n",
    "    else:\n",
    "        df_regions_onshore[f\"{carrier_bus}_lmp\"] = df[f\"{carrier_bus}_lmp\"]\n",
    "\n",
    "df_regions_onshore.head(3)\n",
    "# df_regions_offshore.head(3)"
   ]
  },
  {
   "cell_type": "code",
   "execution_count": null,
   "metadata": {
    "pycharm": {
     "name": "#%%\n"
    }
   },
   "outputs": [],
   "source": [
    "# carrier mv and generation plot\n",
    "carrier = \"solar\" # \"\"onwind\" # \"ror\" # \"onwind\"\n",
    "labels=[f\"{carrier}_mv\", f\"{carrier}_gen\"]\n",
    "\n",
    "fig, axs = plt.subplots(ncols=2, subplot_kw={'projection': ccrs.EqualEarth()},\n",
    "                        figsize=(16, 14))\n",
    "crs = ccrs.EqualEarth()\n",
    "\n",
    "for i, ax in enumerate(axs):\n",
    "    ax.add_feature(cartopy.feature.BORDERS, edgecolor='black', linewidth=0.5)\n",
    "    ax.coastlines(edgecolor='black', linewidth=0.5)\n",
    "    ax.set_facecolor('white')\n",
    "    ax.add_feature(cartopy.feature.OCEAN, color='azure')\n",
    "\n",
    "    if i==0:\n",
    "        title = f\"{carrier} market value\"\n",
    "        label = \"€/MWh\"\n",
    "    elif i==1:\n",
    "        title = f\"{carrier} generation\"\n",
    "        label = \"TWh\"\n",
    "\n",
    "    df_regions_onshore.to_crs(crs.proj4_init).plot(column=labels[i],\n",
    "                                                   ax=ax,\n",
    "                                                   cmap=plt.get_cmap(\"magma_r\"),\n",
    "                                                   linewidth=0.05,\n",
    "                                                   edgecolor = 'grey',\n",
    "                                                   legend=True,\n",
    "                                                   legend_kwds={'label':label,\n",
    "                            'orientation': \"vertical\",\n",
    "                                      'shrink' : 0.4})\n",
    "\n",
    "    ax.set_title(title, fontsize=16, **font1)\n",
    "plt.show()"
   ]
  },
  {
   "cell_type": "code",
   "execution_count": null,
   "metadata": {
    "pycharm": {
     "name": "#%%\n"
    }
   },
   "outputs": [],
   "source": [
    "# compare two carriers market value plot\n",
    "labels=[\"onwind_mv\", \"solar_mv\"]\n",
    "\n",
    "fig, axs = plt.subplots(ncols=2, subplot_kw={'projection': ccrs.EqualEarth()},\n",
    "                        figsize=(16, 14))\n",
    "crs = ccrs.EqualEarth()\n",
    "vmin = min(np.nanmin(df_regions_onshore[labels[0]]), np.nanmin(df_regions_onshore[labels[1]]))\n",
    "vmax = max(np.nanmax(df_regions_onshore[labels[0]]), np.nanmax(df_regions_onshore[labels[1]]))\n",
    "\n",
    "for i, ax in enumerate(axs):\n",
    "    ax.add_feature(cartopy.feature.BORDERS, edgecolor='black', linewidth=0.5)\n",
    "    ax.coastlines(edgecolor='black', linewidth=0.5)\n",
    "    ax.set_facecolor('white')\n",
    "    ax.add_feature(cartopy.feature.OCEAN, color='azure')\n",
    "    ax.set_title(f\"{labels[i][:-3]} market value\", fontsize=16, **font1)\n",
    "\n",
    "    df_regions_onshore.to_crs(crs.proj4_init).plot(column=labels[i],\n",
    "                                                   ax=ax,\n",
    "                                                   cmap=plt.get_cmap(\"magma_r\"),\n",
    "                                                   vmin=vmin,\n",
    "                                                   vmax=vmax,\n",
    "                                                   linewidth=0.05,\n",
    "                                                   edgecolor = 'grey',\n",
    "                                                   legend=True,\n",
    "                                                   legend_kwds={'label':\"€/MWh\",\n",
    "                            'orientation': \"vertical\",\n",
    "                                      'shrink' : 0.4})\n",
    "\n",
    "\n",
    "plt.show()"
   ]
  },
  {
   "cell_type": "code",
   "execution_count": null,
   "metadata": {
    "pycharm": {
     "name": "#%%\n"
    }
   },
   "outputs": [],
   "source": [
    "df_regions_onshore[labels[0]].sort_values(ascending=False)"
   ]
  },
  {
   "cell_type": "markdown",
   "metadata": {
    "pycharm": {
     "name": "#%% md\n"
    }
   },
   "source": [
    "__Findings__\n",
    "- __ror:__ highest mv in BEL, high in DEU, HRV (Croatia) and LUX; no data in NOR, little in ESP and FRA | highest production in ITA, CHE & AUT; interesting that there is no data for NOR\n",
    "- __onwind:__ very high mv in a lot of parts of ITA, general higher values in eastern europe and at the coastline of the adriatic sea and lower at the atlantic coast, rest of the mediterranean Sea and baltic sea | highest production in IRL, very high in DNK and GBR; general hig at the coastline of the atlantic and low at the rest\n",
    "- __solar:__ highest mv in BEL, NLD & GBR; general small range of mv troughout europe | highest production at the mediterranean Sea (ESP, GRC)\n",
    "- __solar rooftop:__ highest mv in BEL NLD; general decreasing values from north to south | highest production in parts of FRA & ESP; increasing production from north to south\n",
    "- __H2 Electrolysis:__ no very clear pattern; highest values in BEL, NLD and NOR; Tendency of higher values on iberian peninsula, scandinavia and inner europe\n",
    "- __H2 Fuel Cell:__ highest values for central europe (DEU, BEL,NLD)\n",
    "- __OCGT:__ very high values in POL, LTU, LVA & DNK; high values in DEU, iberian peninsula, UK & south of sweden\n",
    "- __battery charger:__ highest values in central europe (BEL, NLD, DEU, AUT); high prices in eastern europe; moderate prices in scandinavia; low prices on iberian peninsula\n",
    "- __battery discharger:__ similar pattern as battery charger with higher values in FIN and scnadinavia beeing cheaper than iberain peninsula\n",
    "- __home battery charger:__ similar pattern as battery charger with a slightly higher magnitude\n",
    "- __home battery discharger:__ same pattern like home battery charger with a slightly higher magnitude\n",
    "- heat pumps (air-sourced/ground-sourced)\n",
    "- __urban central gas boiler:__ by distance highest mv in one part of NOR; except from that very similar mv (range: 120 -150 €/MWh) in all otther regions with some exceptions\n",
    "- __residential rural resistive heater:__ highes mv for ROU (Romania) & BGR (Bulgaria); general very high in the south-east of europe (GRC, SRB (Serbia), MKD (north Macedonia)\n",
    "- __services rural resistive heater:__ same pattern as residential rural resistive heater with lower magnitude of mvs | \"residential urban decentral resistive heater\" and \"services urban decentral resistive heater\" are also similar\n",
    "- __hydro:__ low mv in scandinavia, high mv in souther europe especially high in south-east europe (HUN, ROU, BGR); high generation in scandinavia especially south of NOR, generally higher generation furhter to the mediteraanean sea, almost nor generation in north of FRA & DEU and Benelux\n",
    "- __PHS:__ no clear pattern in mv, only 72 regions across europa have values; generation is high in CHE, AUT & ESP\n",
    "- __Fischer-Tropsch:__ Calculation unclear (bus1 is always EU with a constant oil lmp) -> Fischer-Tropsch und Sabatier haben regional keine unterschiedlichen\n",
    "Marktwerte, da regional aggregiert.\n",
    "- __Sabatier:__ Calculation unclear (bus1 is always EU with a constant lmp) -> Fischer-Tropsch und Sabatier haben regional keine unterschiedlichen\n",
    "Marktwerte, da regional aggregiert.\n"
   ]
  },
  {
   "cell_type": "code",
   "execution_count": null,
   "metadata": {
    "pycharm": {
     "name": "#%%\n"
    }
   },
   "outputs": [],
   "source": [
    "# offshore regions\n",
    "carrier = \"offwind-ac\"\n",
    "labels=[\"offwind-ac_mv\", \"offwind-dc_mv\" ] # f\"{carrier}_gen\"\n",
    "\n",
    "fig, axs = plt.subplots(ncols=2, subplot_kw={'projection': ccrs.EqualEarth()},\n",
    "                        figsize=(16, 14))\n",
    "crs = ccrs.EqualEarth()\n",
    "\n",
    "for i, ax in enumerate(axs):\n",
    "    ax.add_feature(cartopy.feature.BORDERS, edgecolor='black', linewidth=0.5)\n",
    "    ax.coastlines(edgecolor='black', linewidth=0.5)\n",
    "    ax.set_facecolor('white')\n",
    "    ax.add_feature(cartopy.feature.OCEAN, color='azure')\n",
    "    ax.set_title(f\"{labels[i][:-3]} market value\", fontsize=16, **font1)\n",
    "\n",
    "    df_regions_offshore.to_crs(crs.proj4_init).plot(column=labels[i],\n",
    "                                                    ax=ax,\n",
    "                                                    cmap=plt.get_cmap(\"magma_r\"),\n",
    "                                                    linewidth=0.05,\n",
    "                                                    edgecolor = 'grey',\n",
    "                                                    legend=True,\n",
    "                                                    legend_kwds={'label':\"€/MWh\",\n",
    "                            'orientation': \"vertical\",\n",
    "                                      'shrink' : 0.4})\n",
    "plt.show()"
   ]
  },
  {
   "cell_type": "code",
   "execution_count": null,
   "metadata": {
    "pycharm": {
     "name": "#%%\n"
    }
   },
   "outputs": [],
   "source": [
    "df_regions_offshore[labels[1]].sort_values(ascending=False)"
   ]
  },
  {
   "cell_type": "markdown",
   "metadata": {
    "pycharm": {
     "name": "#%% md\n"
    }
   },
   "source": [
    "__Findings__\n",
    "- __offwind-ac:__ highest mv in ITA, HRO (Croatia); low around UK & at the coastlin of NOR & iside the baltic | high production at the norther coastline of FRA, BEL, NLD & DEU; southcoast of GBR and eastcoast of ROU (Romania) & BGR (Bulgaria) (Black sea)\n",
    "- __offwind-dc:__ highest mv in ITA, SVN (Slowenia) & MNE (Montenegro) | high production at the norther coastline of BEL, NLD & DEU; southcoast of GBR, westcoast of FIN & GRC| mv of offwind-ac and offwinf-dc are rather similar; generation pattern is quite similar with more generation for offwind-dc"
   ]
  },
  {
   "cell_type": "markdown",
   "metadata": {
    "pycharm": {
     "name": "#%% md\n"
    }
   },
   "source": [
    "#### DIff(LMP-MV) per region"
   ]
  },
  {
   "cell_type": "code",
   "execution_count": null,
   "metadata": {
    "pycharm": {
     "name": "#%%\n"
    }
   },
   "outputs": [],
   "source": [
    "# get relevant carrier of bus where carrier leads to (generators & links) manually\n",
    "carrier = \"H2 Electrolysis\"\n",
    "print(f\"generator: {n.buses.loc[n.generators[n.generators.carrier == carrier]['bus']]['carrier'].unique()}\")\n",
    "print(f\"link: {n.buses.loc[n.links[n.links.carrier == carrier]['bus1']]['carrier'].unique()}\")\n",
    "print(f\"storage_unit: {n.buses.loc[n.storage_units[n.storage_units.carrier == carrier]['bus']]['carrier'].unique()}\")"
   ]
  },
  {
   "cell_type": "code",
   "execution_count": null,
   "metadata": {
    "pycharm": {
     "name": "#%%\n"
    }
   },
   "outputs": [],
   "source": [
    "# create mapping with carrier and carrier bus:\n",
    "all_carriers = n.generators.carrier.unique().tolist() + n.links.carrier.unique().tolist() + n.storage_units.carrier.unique().tolist()\n",
    "\n",
    "all_carriers_buses = []\n",
    "\n",
    "for carrier in all_carriers:\n",
    "    gen_bus = carrier_bus = n.buses.loc[n.generators[n.generators.carrier == carrier]['bus']]['carrier'].unique().tolist()\n",
    "    link_bus = n.buses.loc[n.links[n.links.carrier == carrier]['bus1']]['carrier'].unique().tolist()\n",
    "    su_bus = n.buses.loc[n.storage_units[n.storage_units.carrier == carrier]['bus']]['carrier'].unique().tolist()\n",
    "    all_carriers_buses.append((gen_bus + link_bus + su_bus)[0])\n",
    "\n",
    "map_carrier_bus = dict(zip(all_carriers, all_carriers_buses))"
   ]
  },
  {
   "cell_type": "code",
   "execution_count": null,
   "metadata": {
    "pycharm": {
     "name": "#%%\n"
    }
   },
   "outputs": [],
   "source": [
    "# calc difference of carriers and add to df_onshore_regions\n",
    "for carrier in all_carriers:\n",
    "    carrier_bus = map_carrier_bus[carrier]\n",
    "    df_regions_onshore[f\"diff({carrier}_mv,{carrier_bus}_lmp)\"] = (df_regions_onshore[f\"{carrier}_mv\"] - df_regions_onshore[f\"{carrier_bus}_lmp\"])\n",
    "\n",
    "df_regions_onshore.head(3)"
   ]
  },
  {
   "cell_type": "code",
   "execution_count": null,
   "metadata": {
    "pycharm": {
     "name": "#%%\n"
    }
   },
   "outputs": [],
   "source": [
    "carrier = \"H2 Electrolysis\"\n",
    "carrier_bus = map_carrier_bus[carrier]\n",
    "\n",
    "fig = plt.figure(figsize=(12, 8))\n",
    "crs = ccrs.EqualEarth()\n",
    "\n",
    "ax = plt.axes(projection=ccrs.EqualEarth())\n",
    "ax.add_feature(cartopy.feature.BORDERS, edgecolor='black', linewidth=0.5)\n",
    "ax.coastlines(edgecolor='black', linewidth=0.5)\n",
    "ax.set_facecolor('white')\n",
    "ax.add_feature(cartopy.feature.OCEAN, color='azure')\n",
    "ax.set_title(f\"diff(lmp({carrier_bus})-mv({carrier})\", fontsize=16, **font1)\n",
    "\n",
    "df_regions_onshore.to_crs(crs.proj4_init).plot(column=f\"diff({carrier}_mv,{carrier_bus}_lmp)\",\n",
    "                     ax=ax,\n",
    "                     cmap=plt.get_cmap(\"magma_r\"),\n",
    "                     linewidth=0.05,\n",
    "                     edgecolor = 'grey',\n",
    "                     legend=True,\n",
    "                     legend_kwds={'label':\"€/MWh\",\n",
    "                        'orientation': \"vertical\"})\n",
    "\n",
    "plt.show()"
   ]
  },
  {
   "cell_type": "code",
   "execution_count": null,
   "metadata": {
    "pycharm": {
     "name": "#%%\n"
    }
   },
   "outputs": [],
   "source": [
    "df_regions_onshore[f\"diff({carrier}_mv,{carrier_bus}_lmp)\"].dropna().sort_values(ascending=False)"
   ]
  },
  {
   "cell_type": "markdown",
   "metadata": {
    "pycharm": {
     "name": "#%% md\n"
    }
   },
   "source": [
    "__Findings:__\n",
    "\n",
    "TODO: This has to be rewritten as the order changed from lmp-mv to mv-lmp!!!!!!!\n",
    "\n",
    "- __Implications:__ high positive values mean that the lmp at the bus is on average (weighted by the production) higher than the mv of the technology which means the technology produces at times of lmps that are lower than the average (bad for the technology); high negative values mean that the technology produces disproportionately often if the lmp is relatively high (good for the technology); mv is just a weighted average of the lmp weighted by the generation, the lmp value in this case is just the average lmp over all timesteps\n",
    "- __[\"H2\",\"H2 Electrolysis\"]:__ high diff in middle and middle-east europe (DEU, ITA, CZE, LUX, ...)\n",
    "- __[\"battery\",\"battery charger\"]:__ very high diff in middle europe; low diff in NOR and SWE\n",
    "- __[\"home battery\",\"home battery charger\"]:__ similar to [\"battery\",\"battery charger\"]\n",
    "- __[\"AC\",\"solar\"]:__ range(0,60); high in middle and middle-east europa low in scandinavia, UK\n",
    "- __[\"AC\",\"onwind\"]:__ range(-30,47); high negative values in ITA\n",
    "- __[\"AC\",\"offwind-ac\"]:__ range(-50,40); high negative values in ITA & adriatic sea, highest positive values in NLD\n",
    "- __[\"low voltage\",\"solar rooftop\"]:__ range(-5,60); slightly negative values in GBR; verhy high values in middle and middle-east europe (DEU,ROU,HRV)"
   ]
  },
  {
   "cell_type": "markdown",
   "metadata": {
    "pycharm": {
     "name": "#%% md\n"
    }
   },
   "source": [
    "#### Value Factor Analysis"
   ]
  },
  {
   "cell_type": "code",
   "execution_count": null,
   "metadata": {
    "pycharm": {
     "name": "#%%\n"
    }
   },
   "outputs": [],
   "source": [
    "# calc value factor for carriers\n",
    "for carrier in all_carriers:\n",
    "    df_regions_onshore[f\"{carrier}_vf\"] = df_regions_onshore[f\"{carrier}_mv\"] / df_regions_onshore[f\"{map_carrier_bus[carrier]}_lmp\"]"
   ]
  },
  {
   "cell_type": "code",
   "execution_count": null,
   "metadata": {
    "pycharm": {
     "name": "#%%\n"
    }
   },
   "outputs": [],
   "source": [
    "carrier = \"H2 Electrolysis\"\n",
    "\n",
    "fig = plt.figure(figsize=(12, 8))\n",
    "crs = ccrs.EqualEarth()\n",
    "\n",
    "ax = plt.axes(projection=ccrs.EqualEarth())\n",
    "ax.add_feature(cartopy.feature.BORDERS, edgecolor='black', linewidth=0.5)\n",
    "ax.coastlines(edgecolor='black', linewidth=0.5)\n",
    "ax.set_facecolor('white')\n",
    "ax.add_feature(cartopy.feature.OCEAN, color='azure')\n",
    "ax.set_title(f\"{carrier} value factors\", fontsize=16, **font1)\n",
    "\n",
    "df_regions_onshore.to_crs(crs.proj4_init).plot(column=f\"{carrier}_vf\",\n",
    "                     ax=ax,\n",
    "                     cmap=plt.get_cmap(\"magma_r\"),\n",
    "                     linewidth=0.05,\n",
    "                     edgecolor = 'grey',\n",
    "                     legend=True,\n",
    "                     legend_kwds={'label':\"€/MWh\",\n",
    "                        'orientation': \"vertical\"})\n",
    "\n",
    "plt.show()"
   ]
  },
  {
   "cell_type": "code",
   "execution_count": null,
   "metadata": {
    "pycharm": {
     "name": "#%%\n"
    }
   },
   "outputs": [],
   "source": [
    "# Scatterplot value factor against market share (generation)\n",
    "\n",
    "# calc market share per technology\n",
    "for carrier_bus in [\"AC\", \"low voltage\", \"H2\", \"battery\", \"urban central heat\", \"oil\"]:\n",
    "    # get all technologies that have same bus\n",
    "    carriers = np.array(list(map_carrier_bus.keys()))[[i for i, x in enumerate(list(map_carrier_bus.values())) if x == carrier_bus]].tolist()\n",
    "\n",
    "    # calc share of generation\n",
    "    for carrier in carriers:\n",
    "        df_regions_onshore[f\"{carrier}_gen_share\"] = df_regions_onshore[f\"{carrier}_gen\"] / df_regions_onshore[[s + \"_gen\" for s in carriers]].sum(axis=1)"
   ]
  },
  {
   "cell_type": "code",
   "execution_count": null,
   "metadata": {
    "pycharm": {
     "name": "#%%\n"
    }
   },
   "outputs": [],
   "source": [
    "# carrier = \"V2G\" # \"H2 Fuel Cell\" # \"urban central gas CHP\" # \"urban central gas CHP CC\" # \"OCGT\"\n",
    "\n",
    "# no data for Fischer-Tropsch\n",
    "for carrier in [x for x in car_imp_fneum if x != 'Fischer-Tropsch']:\n",
    "\n",
    "    x = df_regions_onshore[f\"{carrier}_gen_share\"]\n",
    "    y = df_regions_onshore[f\"{carrier}_vf\"]\n",
    "    x = x[x.notna() & y.notna()]\n",
    "    y = y[x.notna() & y.notna()]\n",
    "\n",
    "    fig = plt.figure(figsize=(10, 6))\n",
    "    p = np.poly1d(np.polyfit(x, y, 1))\n",
    "    t = np.linspace(start = 0, stop = math.ceil(max(x)), num = 1000)\n",
    "    plt.plot(x, y, 'o', label=carrier)\n",
    "    plt.plot(t, p(t), '-')\n",
    "    plt.title(\"Scatter: value factor vs. generation share\")\n",
    "    plt.xlabel(\"generation share (%)\")\n",
    "    plt.ylabel(\"value factor (%)\")\n",
    "    plt.legend()\n",
    "    plt.show()"
   ]
  },
  {
   "cell_type": "code",
   "execution_count": null,
   "metadata": {
    "pycharm": {
     "name": "#%%\n"
    }
   },
   "outputs": [],
   "source": [
    "# comparing plot:\n",
    "carriers = car_imp_fneum.copy()\n",
    "carriers = [e for e in carriers if e not in [\"OCGT\", \"Fischer-Tropsch\", \"urban central gas CHP\",  \"urban central gas CHP CC\", \"H2 Fuel Cell\", \"V2G\"]]\n",
    "colors = matplotlib.cm.tab20(range(len(carriers)))\n",
    "markers = itertools.cycle((',', '+', '.', 'o', '*'))\n",
    "\n",
    "plt.figure(figsize=(10, 6))\n",
    "\n",
    "for carrier, i in zip(carriers, np.arange(0,len(carriers)-1)):\n",
    "    x = df_regions_onshore[f\"{carrier}_gen_share\"]\n",
    "    y = df_regions_onshore[f\"{carrier}_vf\"]\n",
    "    x = x[x.notna() & y.notna()]\n",
    "    y = y[x.notna() & y.notna()]\n",
    "\n",
    "    p = np.poly1d(np.polyfit(x, y, 1))\n",
    "    t = np.linspace(start = 0, stop = 1, num = 5)\n",
    "    plt.plot(t, p(t), '--', label=carrier, color=colors[i], marker=next(markers))\n",
    "\n",
    "plt.title(\"Trend: Value factor vs. generation share\")\n",
    "plt.xlabel(\"generation share (%)\")\n",
    "plt.ylabel(\"value factor (%)\")\n",
    "#plt.ylim([0,2])\n",
    "plt.legend(loc='lower left', ncol=2)\n",
    "plt.show()"
   ]
  },
  {
   "cell_type": "markdown",
   "metadata": {
    "pycharm": {
     "name": "#%% md\n"
    }
   },
   "source": [
    "#### Market values per country"
   ]
  },
  {
   "cell_type": "code",
   "execution_count": null,
   "metadata": {
    "pycharm": {
     "name": "#%%\n"
    }
   },
   "outputs": [],
   "source": [
    "# geopandas country data\n",
    "world = gpd.read_file(gpd.datasets.get_path('naturalearth_lowres'))\n",
    "world = world.drop([\"pop_est\",\"gdp_md_est\"], axis=1)\n",
    "# Remove French Guiana from France.\n",
    "shape = world[world['name'] == 'France']['geometry'].all()\n",
    "fr_df = pd.Series(['France', 'France'], name='country')\n",
    "fr_df = gpd.GeoDataFrame(fr_df, geometry=[shape[1], shape[2]])\n",
    "fr_df = fr_df.dissolve(by='country')\n",
    "world.geometry[world['name'] == 'France'] = fr_df['geometry'].values\n",
    "# Remove Svalbard\n",
    "shape = world[world['name'] == 'Norway']['geometry'].all()\n",
    "no_df = pd.Series(['Norway'], name='country')\n",
    "no_df = gpd.GeoDataFrame(no_df, geometry=[shape[1]])\n",
    "no_df = no_df.dissolve(by='country')\n",
    "world.geometry[world['name'] == 'Norway'] = no_df['geometry'].values"
   ]
  },
  {
   "cell_type": "code",
   "execution_count": null,
   "metadata": {
    "pycharm": {
     "name": "#%%\n"
    }
   },
   "outputs": [],
   "source": [
    "# convert country codes and map\n",
    "mv_country_onshore = df_regions_onshore.drop([\"geometry\", \"coords\"], axis=1)\n",
    "mv_country_onshore[\"country\"] = mv_country_onshore.index.str[:2]\n",
    "mv_country_onshore = mv_country_onshore.groupby(by=\"country\").mean()\n",
    "mv_country_onshore[\"iso_a3\"] = pd.Index([convert_ISO_3166_2_to_1[cc] for cc in mv_country_onshore.index])\n",
    "mv_country_onshore=pd.merge(world, mv_country_onshore,on='iso_a3')\n",
    "\n",
    "mv_country_onshore['coords'] = mv_country_onshore['geometry'].apply(lambda x: x.representative_point().coords[:])\n",
    "mv_country_onshore['coords'] = [coords[0] for coords in mv_country_onshore['coords']]\n",
    "mv_country_onshore.head()"
   ]
  },
  {
   "cell_type": "code",
   "execution_count": null,
   "metadata": {
    "pycharm": {
     "name": "#%%\n"
    }
   },
   "outputs": [],
   "source": [
    "# compare market value and generation\n",
    "labels=[\"solar_mv\", \"solar_gen\"]\n",
    "\n",
    "fig, axs = plt.subplots(ncols=2, subplot_kw={'projection': ccrs.PlateCarree()},\n",
    "                        figsize=(16, 14))\n",
    "crs = ccrs.PlateCarree()\n",
    "\n",
    "for i, ax in enumerate(axs):\n",
    "\n",
    "    if i == 0:\n",
    "        title=f\"{labels[i][:-3]} (market value)\"\n",
    "        label=\"€/MWh\"\n",
    "    else:\n",
    "        title=f\"{labels[i][:-4]} (generation)\"\n",
    "        label=\"TWh\"\n",
    "\n",
    "    ax.add_feature(cartopy.feature.BORDERS, edgecolor='black', linewidth=0.5)\n",
    "    ax.coastlines(edgecolor='black', linewidth=0.5)\n",
    "    ax.set_facecolor('white')\n",
    "    ax.add_feature(cartopy.feature.OCEAN, color='azure')\n",
    "    ax.set_title(title, fontsize=16, **font1)\n",
    "\n",
    "    mv_country_onshore.to_crs(crs.proj4_init).plot(column=labels[i],\n",
    "                         ax=ax,\n",
    "                         cmap=plt.get_cmap(\"magma_r\"),\n",
    "                         linewidth=0.05,\n",
    "                         edgecolor = 'grey',\n",
    "                         legend=True,\n",
    "                         legend_kwds={'label': label,'orientation': \"vertical\",'shrink' : 0.4}\n",
    "                                                   )\n",
    "\n",
    "    for idx, row in mv_country_onshore.iterrows():\n",
    "        ax.annotate(text=row['iso_a3'], xy=row['coords'], color='white',\n",
    "                     bbox=dict(boxstyle='round,pad=0.2', fc='grey', alpha=0.3),\n",
    "                     horizontalalignment='center')\n",
    "\n",
    "plt.show()"
   ]
  },
  {
   "cell_type": "code",
   "execution_count": null,
   "metadata": {
    "pycharm": {
     "name": "#%%\n"
    }
   },
   "outputs": [],
   "source": [
    "# carriers for which market_values function does not work\n",
    "# -> there are 24 carrier which are not a generators but attached to a bus; from the generators only 2 are also attached to buses {'gas', 'oil'}\n",
    "# all renewables are produced at generators and are not directly attached to a bus; the generator is attached to the bus (thats also why they do not have lmps)\n",
    "# set(n.buses.carrier.tolist()) - set(n.generators.carrier.tolist()) # 24"
   ]
  },
  {
   "cell_type": "code",
   "execution_count": null,
   "metadata": {
    "pycharm": {
     "name": "#%%\n"
    }
   },
   "outputs": [],
   "source": [
    "# fig.savefig(f\"{PLOT_DIR}mv_country.png\")"
   ]
  },
  {
   "cell_type": "code",
   "execution_count": null,
   "metadata": {
    "pycharm": {
     "name": "#%%\n"
    }
   },
   "outputs": [],
   "source": [
    "mv_country_onshore.isna().sum()"
   ]
  },
  {
   "cell_type": "code",
   "execution_count": null,
   "metadata": {
    "pycharm": {
     "name": "#%%\n"
    }
   },
   "outputs": [],
   "source": [
    "# market value of selected carriers per region\n",
    "carriers_h = ['OCGT','urban central gas CHP','SMR']\n",
    "carriers_l = ['H2 Electrolysis','onwind', 'solar','ror']\n",
    "carriers_comp = ['solar', 'solar rooftop', 'H2 Fuel Cell', 'SMR', 'home battery charger']\n",
    "\n",
    "ax = mv_country_onshore[[c + \"_mv\" for c in carriers_comp]].plot(figsize=(18,8), style=\"--\", marker='o', grid=True)\n",
    "plt.legend(loc='upper left', ncol=3, prop={'size': 12})\n",
    "ax.set_xticks(range(len(mv_country_onshore)))\n",
    "ax.set_facecolor('white')\n",
    "ax.set_axisbelow(True)\n",
    "plt.grid(color='grey', alpha=0.5)\n",
    "ticks = ax.set_xticklabels(labels = [item for item in mv_country_onshore.iso_a3.tolist()], rotation=0)\n",
    "# Set the background color to white"
   ]
  },
  {
   "cell_type": "markdown",
   "metadata": {
    "pycharm": {
     "name": "#%% md\n"
    }
   },
   "source": [
    "### Temporal distribution of market values (Seasonality)"
   ]
  },
  {
   "cell_type": "code",
   "execution_count": null,
   "metadata": {
    "pycharm": {
     "name": "#%%\n"
    }
   },
   "outputs": [],
   "source": [
    "#TODO: plots to show the seasonality (winter, summer) (quarters)"
   ]
  },
  {
   "cell_type": "markdown",
   "metadata": {
    "pycharm": {
     "name": "#%% md\n"
    }
   },
   "source": [
    "### Spatial and temporal distribution of prices:\n",
    "\n",
    "- electricity\n",
    "- heat (various subcategories)\n",
    "- hydrogen"
   ]
  },
  {
   "cell_type": "markdown",
   "metadata": {
    "pycharm": {
     "name": "#%% md\n"
    }
   },
   "source": [
    "#### Lmps per region (spatial distribution)"
   ]
  },
  {
   "cell_type": "code",
   "execution_count": null,
   "metadata": {
    "pycharm": {
     "name": "#%%\n"
    }
   },
   "outputs": [],
   "source": [
    "carrier_bus = \"AC\"\n",
    "locs = n.buses.location[n.buses[n.buses.carrier == carrier_bus].index]\n",
    "lmps = n.buses_t.marginal_price[n.buses[n.buses.carrier == carrier_bus].index].mean()\n",
    "df = pd.concat([lmps, locs], axis=1).rename(columns={0: f\"{carrier_bus}_lmp\"})\n",
    "lmp_regions_onshore = df_regions_onshore[[\"geometry\", \"coords\", \"name\"]].copy().rename(columns={\"name\": \"location\"})\n",
    "lmp_regions_onshore = pd.merge(lmp_regions_onshore,df,on=\"location\").set_index(\"location\")\n",
    "lmp_regions_onshore.head(3)"
   ]
  },
  {
   "cell_type": "code",
   "execution_count": null,
   "metadata": {
    "pycharm": {
     "name": "#%%\n"
    }
   },
   "outputs": [],
   "source": [
    "fig = plt.figure(figsize=(12, 8))\n",
    "crs = ccrs.EqualEarth()\n",
    "\n",
    "ax = plt.axes(projection=ccrs.EqualEarth())\n",
    "ax.add_feature(cartopy.feature.BORDERS, edgecolor='black', linewidth=0.5)\n",
    "ax.coastlines(edgecolor='black', linewidth=0.5)\n",
    "ax.set_facecolor('white')\n",
    "ax.add_feature(cartopy.feature.OCEAN, color='azure')\n",
    "ax.set_title(f\"{carrier_bus}_lmp (locational marginal price)\", fontsize=16, **font1)\n",
    "\n",
    "lmp_regions_onshore.to_crs(crs.proj4_init).plot(column=f\"{carrier_bus}_lmp\",\n",
    "                     ax=ax,\n",
    "                     cmap=plt.get_cmap(\"magma_r\"),\n",
    "                     linewidth=0.05,\n",
    "                     edgecolor = 'grey',\n",
    "                     legend=True,\n",
    "                     legend_kwds={'label':\"€/MWh\",\n",
    "                        'orientation': \"vertical\"})\n",
    "\n",
    "plt.show()"
   ]
  },
  {
   "cell_type": "markdown",
   "metadata": {
    "pycharm": {
     "name": "#%% md\n"
    }
   },
   "source": [
    "#### Nodal Prices for every time step (sum) - heatmap (temporal distribution)"
   ]
  },
  {
   "cell_type": "code",
   "execution_count": null,
   "metadata": {
    "pycharm": {
     "name": "#%%\n"
    }
   },
   "outputs": [],
   "source": [
    "carrier = \"H2\" # \"battery\" # \"Li ion\" # H2, services rural heat, low voltage (no values for VRE as they do not have their own buses)\n",
    "\n",
    "# change to mean for investigating in mean (unit: €/MWh)\n",
    "df = pd.DataFrame(n.buses_t.marginal_price[n.buses[n.buses.carrier==carrier].index].mean(axis=1))\n",
    "\n",
    "hours = df.index.hour.unique()\n",
    "df_start = pd.DataFrame(index=pd.Index(df.index.date).unique())\n",
    "\n",
    "for hour in hours:\n",
    "    df_start[str(hour)] = df[df.index.hour==hour].values\n",
    "\n",
    "plt.figure(figsize=(12, 4))\n",
    "ax = sns.heatmap(df_start.transpose(),\n",
    "                 cmap=plt.get_cmap(\"magma_r\"),\n",
    "                 linewidth=0.001,\n",
    "                 xticklabels=15)\n",
    "plt.title(f\"{carrier} lmp (€/MWh)\", fontsize=16, **font1)\n",
    "plt.ylabel(\"hour of the day\", fontsize=12, **font1)\n",
    "plt.xlabel(\"day of the year\", fontsize=12, **font1)\n",
    "\n",
    "# Rewrite the y labels\n",
    "x_labels = ax.get_xticks()\n",
    "ax.xaxis.set_major_formatter(matplotlib.dates.DateFormatter('%d-%b'))\n",
    "\n",
    "plt.show()"
   ]
  },
  {
   "cell_type": "markdown",
   "metadata": {
    "pycharm": {
     "name": "#%% md\n"
    }
   },
   "source": [
    "__Findings:__\n",
    "- __H2:__ no clear pattern during the day; seasonal pattern as higher lmps in the winter with increasing lpms during winter from Nov-Jan; rather constant during summer\n",
    "- __battery:__ cheaper from hour 6 to 12; higher lmps in winter (Nov-Mar) with highest in Jan; rather constant during summer with some more expensive days\n",
    "- __Li ion:__ same as battery (also same magnitude)\n",
    "- __low voltage:__ similar to battery with a hgher magnitude in range(0,700)\n",
    "- __services rural heat:__ range(0,900); most expensive in hours 3,6 and 18; very low values during warmer months (Apr-Oct); highest lmps in Jan\n",
    "- __urban central heat:__ range(0,130); clear daily pattern: lower in night (hours: 21,0) and during midday (hours: 9,12) and higher in the morning and afternoon; lower in warmer months (Apr-Sep) and higest lmps in winter (Nov-Mar)"
   ]
  },
  {
   "cell_type": "markdown",
   "metadata": {
    "pycharm": {
     "name": "#%% md\n"
    }
   },
   "source": [
    "##### Case Study: H2 Comparison\n",
    "comparison of wind driven baltic sea regions and sun driven Mediterranean Sea regions"
   ]
  },
  {
   "cell_type": "code",
   "execution_count": null,
   "metadata": {
    "pycharm": {
     "name": "#%%\n"
    }
   },
   "outputs": [],
   "source": [
    "help = df_regions_onshore[df_regions_onshore[\"H2 Electrolysis_gen\"] > np.quantile(df_regions_onshore[\"H2 Electrolysis_gen\"], 0.5)][[\"name\", \"coords\"]]\n",
    "\n",
    "names = help.name.tolist()\n",
    "\n",
    "help['x'] = [x[0] for x in help.coords]\n",
    "help['y'] = [x[1] for x in help.coords]\n",
    "x = help.x\n",
    "y = help.y\n",
    "\n",
    "names = help.name.tolist()\n",
    "\n",
    "fig, ax = plt.subplots(figsize=(18, 8))\n",
    "ax.scatter(x, y)\n",
    "\n",
    "for i, txt in enumerate(names):\n",
    "    ax.annotate(txt, (x[i], y[i]))"
   ]
  },
  {
   "cell_type": "code",
   "execution_count": null,
   "metadata": {
    "pycharm": {
     "name": "#%%\n"
    }
   },
   "outputs": [],
   "source": [
    "north = help[help['y'] >= 45].index\n",
    "south = help[help['y'] < 45].index"
   ]
  },
  {
   "cell_type": "code",
   "execution_count": null,
   "metadata": {
    "pycharm": {
     "name": "#%%\n"
    }
   },
   "outputs": [],
   "source": [
    "carrier = \"H2\" # \"battery\" # \"Li ion\" # H2, services rural heat, low voltage (no values for VRE as they do not have their own buses)\n",
    "bus_index = south\n",
    "\n",
    "buses = n.buses[n.buses.carrier==carrier].index\n",
    "help_df = pd.DataFrame(n.buses.loc[buses][\"location\"])\n",
    "help_df[\"bus\"] = help_df.index\n",
    "help_df.set_index('location', inplace=True)\n",
    "\n",
    "# change to mean for investigating in mean (unit: €/MWh)\n",
    "df = pd.DataFrame(n.buses_t.marginal_price[pd.Index(help_df.loc[bus_index].bus)].mean(axis=1))\n",
    "\n",
    "hours = df.index.hour.unique()\n",
    "df_start = pd.DataFrame(index=pd.Index(df.index.date).unique())\n",
    "\n",
    "for hour in hours:\n",
    "    df_start[str(hour)] = df[df.index.hour==hour].values\n",
    "\n",
    "plt.figure(figsize=(12, 4))\n",
    "ax = sns.heatmap(df_start.transpose(),\n",
    "                 cmap=plt.get_cmap(\"magma_r\"),\n",
    "                 linewidth=0.001,\n",
    "                 xticklabels=15)\n",
    "plt.title(str(carrier), fontsize=16, **font1)\n",
    "plt.ylabel(\"hour of the day\", fontsize=12, **font1)\n",
    "plt.xlabel(\"day of the year\", fontsize=12, **font1)\n",
    "\n",
    "# Rewrite the y labels\n",
    "x_labels = ax.get_xticks()\n",
    "ax.xaxis.set_major_formatter(matplotlib.dates.DateFormatter('%d-%b'))\n",
    "\n",
    "plt.show()"
   ]
  },
  {
   "cell_type": "markdown",
   "metadata": {
    "pycharm": {
     "name": "#%% md\n"
    }
   },
   "source": [
    "#### Seasonal Pattern of nodal Prices (temporal distribution)"
   ]
  },
  {
   "cell_type": "code",
   "execution_count": null,
   "metadata": {
    "pycharm": {
     "name": "#%%\n"
    }
   },
   "outputs": [],
   "source": [
    "# # Plot of lmp daily pattern of lmps over all carriers normalized by the mean price of the current day\n",
    "carrier_bus = \"H2\" #carriers_buses\n",
    "locs = n.buses.location[n.buses[n.buses.carrier == carrier_bus].index]\n",
    "lmps = n.buses_t.marginal_price[n.buses[n.buses.carrier == carrier_bus].index]\n",
    "\n",
    "plt.figure(figsize=(12, 8))\n",
    "df3 = pd.DataFrame(lmps.mean(axis=1))\n",
    "df3.columns = [\"lmp\"]\n",
    "df3[\"lmp_normalized\"] = np.nan\n",
    "\n",
    "for snap in df3.index:\n",
    "    df3.loc[snap, \"lmp_normalized\"] = df3.loc[snap, \"lmp\"] / df3[df3.index.date == snap.date()].lmp.mean()\n",
    "\n",
    "df3[\"hour_of_day\"] = df3.index.hour\n",
    "sns.boxplot(data=df3, y=\"lmp_normalized\", x=\"hour_of_day\")\n",
    "plt.title(f\"{carrier_bus} lmps for all carriers and time steps normalized by the mean price of the current day\")\n",
    "plt.show()"
   ]
  },
  {
   "cell_type": "markdown",
   "metadata": {
    "pycharm": {
     "name": "#%% md\n"
    }
   },
   "source": [
    "#### GIF"
   ]
  },
  {
   "cell_type": "markdown",
   "metadata": {
    "pycharm": {
     "name": "#%% md\n"
    }
   },
   "source": [
    "##### days"
   ]
  },
  {
   "cell_type": "markdown",
   "metadata": {
    "pycharm": {
     "name": "#%% md\n"
    }
   },
   "source": [
    "carrier = \"onwind\"\n",
    "df = market_values_by_time_index(n, days, carrier)\n",
    "df = df.apply(pd.to_numeric)\n",
    "\n",
    "for day in days:\n",
    "\n",
    "    fig = plt.figure(figsize=(10, 8))\n",
    "\n",
    "    crs = ccrs.AlbersEqualArea()\n",
    "    ax = plt.axes(projection=ccrs.AlbersEqualArea())\n",
    "    ax.add_feature(cartopy.feature.BORDERS, edgecolor='black', linewidth=0.5)\n",
    "    ax.coastlines(edgecolor='black', linewidth=0.5)\n",
    "    ax.set_facecolor('white')\n",
    "    ax.add_feature(cartopy.feature.OCEAN, color='azure')\n",
    "    ax.set_title(f\"{carrier} market value @ {day.date()} in €/MWh\", fontsize=22, **font1)\n",
    "\n",
    "    df2 = onshore_regions.copy()\n",
    "    df2[carrier] = df.loc[day]\n",
    "\n",
    "    df2.to_crs(crs.proj4_init).plot(column=carrier,\n",
    "                         ax=ax,\n",
    "                         cmap=plt.get_cmap(\"magma_r\"),\n",
    "                         linewidth=0.05,\n",
    "                         edgecolor = 'grey',\n",
    "                         legend=True,\n",
    "                         legend_kwds={'orientation': \"vertical\",\n",
    "                            'shrink' : 1}\n",
    "                                    )\n",
    "    fig.tight_layout()\n",
    "    fig.savefig(f\"{PLOT_DIR}\\GIF\\onwind_mv\\days\\mv_onwind_{day.date()}.png\")\n",
    "    plt.close()"
   ]
  },
  {
   "cell_type": "markdown",
   "metadata": {
    "pycharm": {
     "name": "#%% md\n"
    }
   },
   "source": [
    "##### weeks"
   ]
  },
  {
   "cell_type": "markdown",
   "metadata": {
    "pycharm": {
     "name": "#%% md\n"
    }
   },
   "source": [
    "carrier = \"onwind\"\n",
    "weeks = np.arange(1,53,1)\n",
    "\n",
    "mvs=[]\n",
    "for week in weeks:\n",
    "    gen = n.generators_t.p.loc[n.generators_t.p.index.week == week, n.generators.carrier == carrier]\n",
    "    gen.columns = gen.columns.map(n.generators.bus)\n",
    "    lmp = n.buses_t.marginal_price.loc[n.buses_t.marginal_price.index.week == week, gen.columns]\n",
    "    mv = (gen * lmp).sum() / gen.sum()\n",
    "    mvs.extend(mv.values)\n",
    "\n",
    "vmin = np.nanmin(mvs)\n",
    "vmax = np.nanmax(mvs)\n",
    "\n",
    "for week in weeks:\n",
    "\n",
    "    fig = plt.figure(figsize=(10, 8))\n",
    "\n",
    "    crs = ccrs.AlbersEqualArea()\n",
    "    ax = plt.axes(projection=ccrs.AlbersEqualArea())\n",
    "    ax.add_feature(cartopy.feature.BORDERS, edgecolor='black', linewidth=0.5)\n",
    "    ax.coastlines(edgecolor='black', linewidth=0.5)\n",
    "    ax.set_facecolor('white')\n",
    "    ax.add_feature(cartopy.feature.OCEAN, color='azure')\n",
    "\n",
    "    if week < 10:\n",
    "        week_title = f\"0{week}\"\n",
    "    else:\n",
    "        week_title = week\n",
    "\n",
    "    ax.set_title(f\"{carrier} market value @ week {week_title} (from {n.generators_t.p[n.generators_t.p.index.week == week].index[0].date().strftime('%b %d')}) in €/MWh\", fontsize=18, **font1)\n",
    "\n",
    "    # calc mv\n",
    "    gen = n.generators_t.p.loc[n.generators_t.p.index.week == week, n.generators.carrier == carrier]\n",
    "    gen.columns = gen.columns.map(n.generators.bus)\n",
    "    lmp = n.buses_t.marginal_price.loc[n.buses_t.marginal_price.index.week == week, gen.columns]\n",
    "    mv = (gen * lmp).sum() / gen.sum()\n",
    "    mv.index = mv.index.map(n.buses.location)\n",
    "    df = onshore_regions.copy()\n",
    "    df[carrier] = mv\n",
    "\n",
    "    df.to_crs(crs.proj4_init).plot(column=carrier,\n",
    "                         ax=ax,\n",
    "                         cmap=plt.get_cmap(\"magma_r\"),\n",
    "                         vmin=vmin,\n",
    "                         vmax=vmax,\n",
    "                         linewidth=0.05,\n",
    "                         edgecolor = 'grey',\n",
    "                         legend=True,\n",
    "                         legend_kwds={'orientation': \"vertical\",\n",
    "                            'shrink' : 1}\n",
    "                                    )\n",
    "    fig.tight_layout()\n",
    "    fig.savefig(f\"{PLOT_DIR}\\GIF\\onwind_mv\\weeks\\mv_onwind_week{week}.png\")\n",
    "    plt.close()"
   ]
  },
  {
   "cell_type": "markdown",
   "metadata": {
    "pycharm": {
     "name": "#%% md\n"
    }
   },
   "source": [
    "### Time series analysis\n",
    "\n",
    "- when do different technologies produce?\n",
    "- when are their revenues created? (nodal price * production)\n",
    "- what are the prices when they produce?\n"
   ]
  },
  {
   "cell_type": "markdown",
   "metadata": {
    "pycharm": {
     "name": "#%% md\n"
    }
   },
   "source": [
    "#### Technology Operation and Revenue by Price band"
   ]
  },
  {
   "cell_type": "markdown",
   "metadata": {
    "pycharm": {
     "name": "#%% md\n"
    }
   },
   "source": [
    "##### Energy conversion technologies production and revenue by output technology price band"
   ]
  },
  {
   "cell_type": "code",
   "execution_count": null,
   "metadata": {
    "pycharm": {
     "name": "#%%\n"
    }
   },
   "outputs": [],
   "source": [
    "# plot percentage of production per price band and percentage of revenue per price band\n",
    "carriers_gen = [\"onwind\", \"solar\", \"ror\", \"offwind-ac\", 'urban central solar thermal']\n",
    "carriers_link = [\"OCGT\", \"H2 Electrolysis\", \"H2 Fuel Cell\", \"urban central gas CHP\", \"SMR\", \"SMR CC\",\"electricity distribution grid\", 'urban central air heat pump', 'urban central water tanks discharger','urban central resistive heater', 'urban central gas boiler', 'battery discharger']\n",
    "carriers_labels = (carriers_gen + carriers_link)\n",
    "price_bands = [-np.inf, 0, 5, 50, 100, 200, 1000, np.inf]\n",
    "price_bands_labels = [\"< 0\",\"0 - 5\", \"5 - 50\", \"50 - 100\", \"100 - 200\", \"200 - 1000\", \"> 1000\"]\n",
    "res_prod = pd.DataFrame(index=[str(s) for s in range(len(price_bands)-1)], columns=carriers_labels)\n",
    "res_rev = pd.DataFrame(index=[str(s) for s in range(len(price_bands)-1)], columns=carriers_labels)"
   ]
  },
  {
   "cell_type": "code",
   "execution_count": null,
   "metadata": {
    "pycharm": {
     "name": "#%%\n"
    }
   },
   "outputs": [],
   "source": [
    "for carrier in carriers_gen:\n",
    "    gen = n.generators_t.p.loc[:, n.generators.carrier == carrier]\n",
    "    gen.columns = gen.columns.map(n.generators.bus)\n",
    "    lmp = n.buses_t.marginal_price.loc[:, gen.columns]\n",
    "    rev = gen * lmp\n",
    "\n",
    "    for i in range(len(price_bands)-1):\n",
    "        lmp_cat = lmp.mask((lmp >= price_bands[i]) & (lmp < price_bands[i+1]), \"hit\")\n",
    "        res_prod.loc[str(i), carrier] = gen[lmp_cat == \"hit\"].sum().sum() / gen.sum().sum()\n",
    "        res_rev.loc[str(i), carrier] = rev[lmp_cat == \"hit\"].sum().sum() / rev.sum().sum()\n",
    "\n",
    "for carrier in carriers_link:\n",
    "    # prices of the generated energy\n",
    "    gen = abs(n.links_t.p1.loc[:, n.links.carrier == carrier])\n",
    "    gen.columns = gen.columns.map(n.links.bus1)\n",
    "    lmp = n.buses_t.marginal_price.loc[:, gen.columns]\n",
    "    rev = gen * lmp\n",
    "\n",
    "    for i in range(len(price_bands)-1):\n",
    "        lmp_cat = lmp.mask((lmp >= price_bands[i]) & (lmp < price_bands[i+1]), \"hit\")\n",
    "        res_prod.loc[str(i), carrier] = gen[lmp_cat == \"hit\"].sum().sum() / gen.sum().sum()\n",
    "        res_rev.loc[str(i), carrier] = rev[lmp_cat == \"hit\"].sum().sum() / rev.sum().sum()"
   ]
  },
  {
   "cell_type": "code",
   "execution_count": null,
   "metadata": {
    "pycharm": {
     "name": "#%%\n"
    }
   },
   "outputs": [],
   "source": [
    "res_prod"
   ]
  },
  {
   "cell_type": "code",
   "execution_count": null,
   "metadata": {
    "pycharm": {
     "name": "#%%\n"
    }
   },
   "outputs": [],
   "source": [
    "res_rev"
   ]
  },
  {
   "cell_type": "code",
   "execution_count": null,
   "metadata": {
    "pycharm": {
     "name": "#%%\n"
    }
   },
   "outputs": [],
   "source": [
    "# plot shows price bands for different technologies (prices of the output technology is used)\n",
    "# onwind is categorised by the price of electricity and H2 Electrolysis by the price of H2\n",
    "\n",
    "fig, axes = plt.subplots(2, 1, figsize=(14, 6))\n",
    "\n",
    "fig.suptitle('Technology operation and revenue by price band')\n",
    "\n",
    "ax0 = res_prod.transpose().plot(kind='bar', stacked=True, color=sns.color_palette(\"magma_r\", 7), ax=axes[0], legend=False)\n",
    "ax0.set_ylabel(\"Delivered Energy by Energy Price\")\n",
    "ax0.set_xlabel(\"carrier\")\n",
    "ax0.set_xticks(ticks=range(len(carriers_labels)), labels=carriers_labels, rotation=45)\n",
    "\n",
    "ax1 = res_rev.transpose().plot(kind='bar', stacked=True, color=sns.color_palette(\"magma_r\", 7), ax=axes[1])\n",
    "ax1.legend(title='Price Band (€/MWh', labels=price_bands_labels, bbox_to_anchor=(1, 1))\n",
    "ax1.set_ylabel(\"Revenue by Energy Price\")\n",
    "ax1.set_xlabel(\"carrier\")\n",
    "ax1.set_xticks(ticks=range(len(carriers_labels)), labels=carriers_labels, rotation=45)\n",
    "\n",
    "fig.tight_layout()\n",
    "#plt.close()"
   ]
  },
  {
   "cell_type": "markdown",
   "metadata": {
    "pycharm": {
     "name": "#%% md\n"
    }
   },
   "source": [
    "__Findings:__\n",
    "- Implications:\n",
    "- __onwind:__ 20 % energy delivered in band 1 but almost no impact on revenue; price bands 1-3 account for over 90% of delivered energy but only for 70% of the revenue stream; price bands 4 & 5 account for less than 10 % of delivered energy but for 30 % of revenues\n",
    "- __solar:__ similar to onwind\n",
    "- __ror:__ General higher production in more expensive price bands 1-3 account for 70 % of production but only for 40 % of revenue\n",
    "- __H2 Electrolysis:__ production mostly within price bands 3 & 4 and revenue almost only in price band 3 & 4"
   ]
  },
  {
   "cell_type": "markdown",
   "metadata": {
    "pycharm": {
     "name": "#%% md\n"
    }
   },
   "source": [
    "##### Energy conversion technologies production and revenue by input technology price band (links)"
   ]
  },
  {
   "cell_type": "code",
   "execution_count": null,
   "metadata": {
    "pycharm": {
     "name": "#%%\n"
    }
   },
   "outputs": [],
   "source": [
    "carriers = car_link_mix.copy()\n",
    "carriers.extend([\"H2 liquefaction\", \"electricity distribution grid\", \"urban central water tanks charger\"])\n",
    "\n",
    "res_prod2 = pd.DataFrame(index=[str(s) for s in range(len(price_bands)-1)], columns=carriers)\n",
    "res_rev2 = pd.DataFrame(index=[str(s) for s in range(len(price_bands)-1)], columns=carriers)"
   ]
  },
  {
   "cell_type": "code",
   "execution_count": null,
   "metadata": {
    "pycharm": {
     "name": "#%%\n"
    }
   },
   "outputs": [],
   "source": [
    "for carrier in carriers:\n",
    "# prices of the consumed energy\n",
    "    con = n.links_t.p0.loc[:, n.links.carrier == carrier]\n",
    "    transform_columns = n.links_t.p0.loc[:, n.links.carrier == carrier].columns.map(n.links.bus1)\n",
    "    con.columns = con.columns.map(n.links.bus0)\n",
    "    lmp_con = n.buses_t.marginal_price.loc[:, con.columns]\n",
    "    cost = con * lmp_con\n",
    "\n",
    "    gen = abs(n.links_t.p1.loc[:, n.links.carrier == carrier])\n",
    "    gen.columns = gen.columns.map(n.links.bus1)\n",
    "    lmp_gen = n.buses_t.marginal_price.loc[:, gen.columns]\n",
    "    rev = gen * lmp_gen\n",
    "\n",
    "    for i in range(len(price_bands)-1):\n",
    "        lmp_cat1 = lmp_con.mask((lmp_con >= price_bands[i]) & (lmp_con < price_bands[i+1]), \"hit\")\n",
    "        # pay attention to indices (if something went wrong then probably here)\n",
    "        lmp_cat1.columns = transform_columns\n",
    "        res_prod2.loc[str(i), carrier] = gen[lmp_cat1 == \"hit\"].sum().sum() / gen.sum().sum()\n",
    "        res_rev2.loc[str(i), carrier] = rev[lmp_cat1 == \"hit\"].sum().sum() / rev.sum().sum()"
   ]
  },
  {
   "cell_type": "code",
   "execution_count": null,
   "metadata": {
    "pycharm": {
     "name": "#%%\n"
    }
   },
   "outputs": [],
   "source": [
    "res_prod2"
   ]
  },
  {
   "cell_type": "code",
   "execution_count": null,
   "metadata": {
    "pycharm": {
     "name": "#%%\n"
    }
   },
   "outputs": [],
   "source": [
    "fig, axes = plt.subplots(2, 1, figsize=(14, 10))\n",
    "\n",
    "fig.suptitle('Energy conversion technologies production and revenue by input technology price band (links) ')\n",
    "\n",
    "ax0 = res_prod2.transpose().plot(kind='bar', stacked=True, color=sns.color_palette(\"magma_r\", 7), ax=axes[0], legend=False)\n",
    "ax0.set_ylabel(\"Delivered Energy by Energy Price\")\n",
    "ax0.set_xlabel(\"carrier\")\n",
    "ax0.set_xticks(ticks=range(len(carriers)), labels=carriers, rotation=45)\n",
    "\n",
    "ax1 = res_rev2.transpose().plot(kind='bar', stacked=True, color=sns.color_palette(\"magma_r\", 7), ax=axes[1])\n",
    "ax1.legend(title='Price Band (€/MWh', labels=price_bands_labels, bbox_to_anchor=(1, 1))\n",
    "ax1.set_ylabel(\"Revenue by Energy Price\")\n",
    "ax1.set_xlabel(\"carrier\")\n",
    "ax1.set_xticks(ticks=range(len(carriers)), labels=carriers, rotation=45)\n",
    "\n",
    "fig.tight_layout()\n",
    "plt.close()"
   ]
  },
  {
   "cell_type": "markdown",
   "metadata": {
    "pycharm": {
     "name": "#%% md\n"
    }
   },
   "source": [
    "__Findings:__\n",
    "- ..."
   ]
  },
  {
   "cell_type": "markdown",
   "metadata": {
    "pycharm": {
     "name": "#%% md\n"
    }
   },
   "source": [
    "##### Electricity (AC)"
   ]
  },
  {
   "cell_type": "code",
   "execution_count": null,
   "metadata": {
    "pycharm": {
     "name": "#%%\n"
    }
   },
   "outputs": [],
   "source": [
    "# check which technologies produce and consume which specific type of energy\n",
    "bus_carrier = \"low voltage\" #\"services urban decentral heat\" # \"urban central heat\" # \"services rural heat\" # \"battery\"# \"H2 liquid\" #\"H2\" # \"low voltage\" # \"AC\"\n",
    "# buses that have the specifiy type of energy as their carrier\n",
    "buses = n.buses[n.buses.carrier == bus_carrier].index\n",
    "# generators whch are at the bus\n",
    "print(f'generators (producer): {n.generators[n.generators.bus.isin(buses)].carrier.unique().tolist()} \\n')\n",
    "print(f'links (consumer):  {n.links[n.links.bus0.isin(buses)].carrier.unique()} \\n')\n",
    "print(f'links (producer): {n.links[n.links.bus1.isin(buses)].carrier.unique()}')"
   ]
  },
  {
   "cell_type": "code",
   "execution_count": null,
   "metadata": {
    "pycharm": {
     "name": "#%%\n"
    }
   },
   "outputs": [],
   "source": [
    "# is it relevant which type of electricity is compared? AC, low voltage, -> yes\n",
    "\n",
    "el_cons = ['H2 Electrolysis', 'battery charger' ]\n",
    "el_prods_gens = ['onwind', 'offwind-ac', 'solar', 'ror']\n",
    "el_prods_links = ['OCGT', 'H2 Fuel Cell', 'battery discharger']\n",
    "carriers = el_cons + el_prods_gens + el_prods_links\n",
    "\n",
    "fig, axes = plt.subplots(2, 1, figsize=(14, 6))\n",
    "\n",
    "fig.suptitle('Electricity (AC): Production and revenue by electricity price')\n",
    "\n",
    "prod = pd.concat([res_prod2[el_cons], res_prod[el_prods_gens + el_prods_links]])\n",
    "rev = pd.concat([res_rev2[el_cons], res_rev[el_prods_gens+el_prods_links]])\n",
    "\n",
    "ax0 = prod.transpose().plot(kind='bar', stacked=True, color=sns.color_palette(\"magma_r\", 7), ax=axes[0], legend=False)\n",
    "ax0.set_ylabel(\"Delivered Energy by Energy Price\")\n",
    "# ax0.set_xlabel(\"carrier\")\n",
    "ax0.set_xticks(ticks=range(len(carriers)), labels=carriers, rotation=0)\n",
    "\n",
    "ax1 = rev.transpose().plot(kind='bar', stacked=True, color=sns.color_palette(\"magma_r\", 7), ax=axes[1])\n",
    "ax1.set_ylabel(\"Revenue by Energy Price\")\n",
    "ax1.legend(title='Price Band (€/MWh)', labels=price_bands_labels , bbox_to_anchor=(1, 1))\n",
    "# ax1.set_xlabel(\"carrier\")\n",
    "ax1.set_xticks(ticks=range(len(carriers)), labels=carriers, rotation=0)\n",
    "\n",
    "ax1.axvline(x=len(el_cons)-0.5,ymin=-0.15,ymax=2.22,c=\"red\",linewidth=2,linestyle=\"--\", zorder=3, clip_on=False, label=\"seperator\")\n",
    "\n",
    "fig.tight_layout()"
   ]
  },
  {
   "cell_type": "code",
   "execution_count": null,
   "metadata": {
    "pycharm": {
     "name": "#%%\n"
    }
   },
   "outputs": [],
   "source": [
    "res_prod2[el_cons]"
   ]
  },
  {
   "cell_type": "markdown",
   "metadata": {
    "pycharm": {
     "name": "#%% md\n"
    }
   },
   "source": [
    "##### Hydrogen (not liquified)"
   ]
  },
  {
   "cell_type": "code",
   "execution_count": null,
   "metadata": {
    "pycharm": {
     "name": "#%%\n"
    }
   },
   "outputs": [],
   "source": [
    "h2_cons = ['H2 Fuel Cell', 'Sabatier', 'Fischer-Tropsch', 'H2 liquefaction']\n",
    "h2_prods = ['H2 Electrolysis', 'SMR', 'SMR CC']\n",
    "carriers = h2_cons + h2_prods\n",
    "\n",
    "fig, axes = plt.subplots(2, 1, figsize=(14, 6))\n",
    "\n",
    "fig.suptitle('Hydrogen: Production and revenue by hydrogen price')\n",
    "\n",
    "prod = pd.concat([res_prod2[h2_cons], res_prod[h2_prods]])\n",
    "rev = pd.concat([res_rev2[h2_cons], res_rev[h2_prods]])\n",
    "\n",
    "ax0 = prod.transpose().plot(kind='bar', stacked=True, color=sns.color_palette(\"magma_r\", 7), ax=axes[0], legend=False)\n",
    "ax0.set_ylabel(\"Delivered Energy by Energy Price\")\n",
    "# ax0.set_xlabel(\"carrier\")\n",
    "ax0.set_xticks(ticks=range(len(carriers)), labels=carriers, rotation=0)\n",
    "\n",
    "ax1 = rev.transpose().plot(kind='bar', stacked=True, color=sns.color_palette(\"magma_r\", 7), ax=axes[1])\n",
    "ax1.set_ylabel(\"Revenue by Energy Price\")\n",
    "ax1.legend(title='Price Band (€/MWh)', labels=price_bands_labels , bbox_to_anchor=(1, 1))\n",
    "# ax1.set_xlabel(\"carrier\")\n",
    "ax1.set_xticks(ticks=range(len(carriers)), labels=carriers, rotation=0)\n",
    "\n",
    "ax1.axvline(x=len(h2_cons)-0.5,ymin=-0.15,ymax=2.22,c=\"red\",linewidth=2,linestyle=\"--\", zorder=3, clip_on=False, label=\"seperator\")\n",
    "\n",
    "fig.tight_layout()"
   ]
  },
  {
   "cell_type": "markdown",
   "metadata": {
    "pycharm": {
     "name": "#%% md\n"
    }
   },
   "source": [
    "##### Heat (urban central heat)"
   ]
  },
  {
   "cell_type": "code",
   "execution_count": null,
   "metadata": {
    "pycharm": {
     "name": "#%%\n"
    }
   },
   "outputs": [],
   "source": [
    "# urban central heat\n",
    "\n",
    "he_cons = ['urban central water tanks charger' ]\n",
    "he_prods_gens = ['urban central solar thermal']\n",
    "he_prods_links = ['urban central air heat pump', 'urban central water tanks discharger','urban central resistive heater', 'urban central gas boiler']\n",
    "carriers = he_cons + he_prods_gens + he_prods_links\n",
    "# make newline after 2 words of label\n",
    "labels = [' '.join(carrier.split(' ')[:2] + [\"\\n\"] + carrier.split(' ')[2:]) for carrier in carriers]\n",
    "\n",
    "fig, axes = plt.subplots(2, 1, figsize=(14, 6))\n",
    "\n",
    "fig.suptitle('Heat (urban central heat): Production and revenue by heat price')\n",
    "\n",
    "prod = pd.concat([res_prod2[he_cons], res_prod[he_prods_gens+he_prods_links]])\n",
    "rev = pd.concat([res_rev2[he_cons], res_rev[he_prods_gens+he_prods_links]])\n",
    "\n",
    "ax0 = prod.transpose().plot(kind='bar', stacked=True, color=sns.color_palette(\"magma_r\", 7), ax=axes[0], legend=False)\n",
    "ax0.set_ylabel(\"Delivered Energy by Energy Price\")\n",
    "# ax0.set_xlabel(\"carrier\")\n",
    "ax0.set_xticks(ticks=range(len(carriers)), labels=labels, rotation=0)\n",
    "\n",
    "ax1 = rev.transpose().plot(kind='bar', stacked=True, color=sns.color_palette(\"magma_r\", 7), ax=axes[1])\n",
    "ax1.set_ylabel(\"Revenue by Energy Price\")\n",
    "ax1.legend(title='Price Band (€/MWh)', labels=price_bands_labels , bbox_to_anchor=(1, 1))\n",
    "# ax1.set_xlabel(\"carrier\")\n",
    "ax1.set_xticks(ticks=range(len(carriers)), labels=labels , rotation=0)\n",
    "\n",
    "ax1.axvline(x=len(he_cons)-0.5,ymin=-0.2,ymax=2.3,c=\"red\",linewidth=2,linestyle=\"--\", zorder=3, clip_on=False, label=\"seperator\")\n",
    "\n",
    "fig.tight_layout()"
   ]
  },
  {
   "cell_type": "markdown",
   "metadata": {
    "pycharm": {
     "name": "#%% md\n"
    }
   },
   "source": [
    "#### Seasonality Analysis: Duration Curve, histplot, Fourier Transform"
   ]
  },
  {
   "cell_type": "markdown",
   "metadata": {
    "pycharm": {
     "name": "#%% md\n"
    }
   },
   "source": [
    "- problem1: you only have data for one year\n",
    "- problem2: data is in 3h steps\n",
    "-\n",
    "without further adjustments:\n",
    "- daily pattern would be after 8 snaps (8*3=24) as we have a 3-hourly dataset\n",
    "- weekly after 56 snaps\n",
    "- monthly pattern after 240\n",
    "- yearly pattern cannot be observed as we only have data for one year\n",
    "with adjustments\n",
    "- daily: 24\n",
    "- weekly: 168\n",
    "- monthly: 5040"
   ]
  },
  {
   "cell_type": "markdown",
   "metadata": {
    "pycharm": {
     "name": "#%% md\n"
    }
   },
   "source": [
    "##### Generation"
   ]
  },
  {
   "cell_type": "code",
   "execution_count": null,
   "metadata": {
    "pycharm": {
     "name": "#%%\n"
    }
   },
   "outputs": [],
   "source": [
    "# get generation of all carriers\n",
    "gen = pd.DataFrame(index=n.generators_t.p.index)\n",
    "\n",
    "for carrier in n.generators.carrier.unique():\n",
    "    gen[carrier]= n.generators_t.p.loc[:, n.generators.carrier == carrier].mean(axis=1)\n",
    "\n",
    "for carrier in n.links.carrier.unique():\n",
    "    gen[carrier]= abs(n.links_t.p1.loc[:, n.links.carrier == carrier]).mean(axis=1)\n",
    "\n",
    "for carrier in n.storage_units.carrier.unique():\n",
    "    gen[carrier]= n.storage_units_t.p.loc[:, n.storage_units.carrier == carrier].mean(axis=1)\n",
    "\n",
    "carriers = car_imp_fneum\n",
    "gen_investigate = gen[carriers]\n",
    "gen_investigate.head()"
   ]
  },
  {
   "cell_type": "markdown",
   "metadata": {
    "pycharm": {
     "name": "#%% md\n"
    }
   },
   "source": [
    "###### yearly plot"
   ]
  },
  {
   "cell_type": "code",
   "execution_count": null,
   "metadata": {
    "pycharm": {
     "name": "#%%\n"
    }
   },
   "outputs": [],
   "source": [
    "# yearly plot\n",
    "for c in gen_investigate.columns:\n",
    "    fig, ax = plt.subplots()\n",
    "    gen_investigate[c].plot(ax=ax, ylabel=c)"
   ]
  },
  {
   "cell_type": "markdown",
   "metadata": {
    "pycharm": {
     "name": "#%% md\n"
    }
   },
   "source": [
    "###### monthly plot"
   ]
  },
  {
   "cell_type": "code",
   "execution_count": null,
   "metadata": {
    "pycharm": {
     "name": "#%%\n"
    }
   },
   "outputs": [],
   "source": [
    "# monthly plot\n",
    "for c in gen_investigate.columns:\n",
    "    fig, ax = plt.subplots()\n",
    "    gen_investigate.loc[\"2013-04\", c].plot(ax=ax, ylabel=c)"
   ]
  },
  {
   "cell_type": "markdown",
   "metadata": {
    "pycharm": {
     "name": "#%% md\n"
    }
   },
   "source": [
    "###### patterns (\"8h\", \"D\", \"W\", \"M\")\n",
    "- 8h resamples every 8 hours: 2013-01-01 00:00:00, 2013-01-01 08:00:00, 2013-01-01 16:00:00, 2013-01-02 00:00:00\n",
    "- D: daily mean; W: weekly mean, M: monthly mean"
   ]
  },
  {
   "cell_type": "code",
   "execution_count": null,
   "metadata": {
    "pycharm": {
     "name": "#%%\n"
    }
   },
   "outputs": [],
   "source": [
    "# patterns\n",
    "for c in gen_investigate.columns:\n",
    "    fig, ax = plt.subplots()\n",
    "    for res in [\"8h\", \"D\", \"W\", \"M\"]:\n",
    "        gen_investigate[c].resample(res).mean().plot(ax=ax, label=res)\n",
    "    ax.set_ylabel(c)\n",
    "    plt.legend()"
   ]
  },
  {
   "cell_type": "markdown",
   "metadata": {
    "pycharm": {
     "name": "#%% md\n"
    }
   },
   "source": [
    "###### duration curve"
   ]
  },
  {
   "cell_type": "code",
   "execution_count": null,
   "metadata": {
    "pycharm": {
     "name": "#%%\n"
    }
   },
   "outputs": [],
   "source": [
    "for c in gen_investigate.columns:\n",
    "    fig, ax = plt.subplots()\n",
    "    duration_curve = gen_investigate[c].sort_values(ascending=False).reset_index(drop=True)\n",
    "    duration_curve.plot(ax=ax, ylabel=c, xlabel=\"hours of the year\")"
   ]
  },
  {
   "cell_type": "markdown",
   "metadata": {
    "pycharm": {
     "name": "#%% md\n"
    }
   },
   "source": [
    "###### histplot"
   ]
  },
  {
   "cell_type": "code",
   "execution_count": null,
   "metadata": {
    "pycharm": {
     "name": "#%%\n"
    }
   },
   "outputs": [],
   "source": [
    "for c in gen_investigate.columns:\n",
    "    fig, ax = plt.subplots()\n",
    "    gen_investigate[c].plot.hist(bins=20, ax=ax)\n",
    "    ax.set_xlabel(c)"
   ]
  },
  {
   "cell_type": "markdown",
   "metadata": {
    "pycharm": {
     "name": "#%% md\n"
    }
   },
   "source": [
    "###### furier transform"
   ]
  },
  {
   "cell_type": "code",
   "execution_count": null,
   "metadata": {
    "pycharm": {
     "name": "#%%\n"
    }
   },
   "outputs": [],
   "source": [
    "# fourier transform\n",
    "for c, d in gen_investigate.iteritems():\n",
    "    fig, ax = plt.subplots()\n",
    "    fft = abs(pd.Series(np.fft.rfft(d - d.mean()), index=np.fft.rfftfreq(len(d), d=1./2920))**2)\n",
    "    fft.plot(xlim=[0,1000], ylabel=f\"Power Spectral Density ({c})\", xlabel=\"Frequency (1/year)\")"
   ]
  },
  {
   "cell_type": "markdown",
   "metadata": {
    "pycharm": {
     "name": "#%% md\n"
    }
   },
   "source": [
    "###### correlation"
   ]
  },
  {
   "cell_type": "code",
   "execution_count": null,
   "metadata": {
    "pycharm": {
     "name": "#%%\n"
    }
   },
   "outputs": [],
   "source": [
    "plt.figure(figsize=(14, 8))\n",
    "sns.heatmap(gen_investigate.corr(), annot=True)\n",
    "plt.show()"
   ]
  },
  {
   "cell_type": "markdown",
   "metadata": {
    "pycharm": {
     "name": "#%% md\n"
    }
   },
   "source": [
    "##### Lmps"
   ]
  },
  {
   "cell_type": "code",
   "execution_count": null,
   "metadata": {
    "pycharm": {
     "name": "#%%\n"
    }
   },
   "outputs": [],
   "source": [
    "# get lmps of all buses\n",
    "lmp = pd.DataFrame(index=n.buses_t.marginal_price.index)\n",
    "\n",
    "for carrier in n.buses.carrier.unique():\n",
    "    lmp[carrier]= n.buses_t.marginal_price.loc[:, n.buses.carrier == carrier].mean(axis=1)\n",
    "\n",
    "carriers = car_bus_imp\n",
    "lmp_investigate = lmp[carriers]\n",
    "lmp_investigate.head()"
   ]
  },
  {
   "cell_type": "markdown",
   "metadata": {
    "pycharm": {
     "name": "#%% md\n"
    }
   },
   "source": [
    "###### yearly plot"
   ]
  },
  {
   "cell_type": "code",
   "execution_count": null,
   "metadata": {
    "pycharm": {
     "name": "#%%\n"
    }
   },
   "outputs": [],
   "source": [
    "# yearly plot\n",
    "for c in lmp_investigate.columns:\n",
    "    fig, ax = plt.subplots()\n",
    "    lmp_investigate[c].plot(ax=ax, ylabel=c)"
   ]
  },
  {
   "cell_type": "markdown",
   "metadata": {
    "pycharm": {
     "name": "#%% md\n"
    }
   },
   "source": [
    "###### monthly plot"
   ]
  },
  {
   "cell_type": "code",
   "execution_count": null,
   "metadata": {
    "pycharm": {
     "name": "#%%\n"
    }
   },
   "outputs": [],
   "source": [
    "for c in lmp_investigate.columns:\n",
    "    fig, ax = plt.subplots()\n",
    "    lmp_investigate.loc[\"2013-04\", c].plot(ax=ax, ylabel=c)"
   ]
  },
  {
   "cell_type": "markdown",
   "metadata": {
    "pycharm": {
     "name": "#%% md\n"
    }
   },
   "source": [
    "###### patterns"
   ]
  },
  {
   "cell_type": "code",
   "execution_count": null,
   "metadata": {
    "pycharm": {
     "name": "#%%\n"
    }
   },
   "outputs": [],
   "source": [
    "for c in lmp_investigate.columns:\n",
    "    fig, ax = plt.subplots()\n",
    "    for res in [\"8h\", \"D\", \"W\", \"M\"]:\n",
    "        lmp_investigate[c].resample(res).mean().plot(ax=ax, label=res)\n",
    "    ax.set_ylabel(c)\n",
    "    plt.legend()"
   ]
  },
  {
   "cell_type": "markdown",
   "metadata": {
    "pycharm": {
     "name": "#%% md\n"
    }
   },
   "source": [
    "###### price duration curve"
   ]
  },
  {
   "cell_type": "code",
   "execution_count": null,
   "metadata": {
    "pycharm": {
     "name": "#%%\n"
    }
   },
   "outputs": [],
   "source": [
    "for c in lmp_investigate.columns:\n",
    "    fig, ax = plt.subplots()\n",
    "    duration_curve = lmp_investigate[c].sort_values(ascending=False).reset_index(drop=True)\n",
    "    duration_curve.plot(ax=ax, ylabel=c, xlabel=\"hours of the year\")"
   ]
  },
  {
   "cell_type": "code",
   "execution_count": null,
   "metadata": {
    "pycharm": {
     "name": "#%%\n"
    }
   },
   "outputs": [],
   "source": [
    "colors = matplotlib.cm.tab20(range(len(carriers)))\n",
    "\n",
    "for c, i  in zip(lmp_investigate.columns, np.arange(1,len(carriers))):\n",
    "    duration_curve = lmp_investigate[c].sort_values(ascending=False).reset_index(drop=True)\n",
    "    plt.plot(duration_curve, label=c, color=colors[i])\n",
    "\n",
    "plt.ylim([0,1000])\n",
    "plt.xlim([0,1000])\n",
    "plt.legend()\n",
    "plt.show()"
   ]
  },
  {
   "cell_type": "markdown",
   "metadata": {
    "pycharm": {
     "name": "#%% md\n"
    }
   },
   "source": [
    "###### histplot"
   ]
  },
  {
   "cell_type": "code",
   "execution_count": null,
   "metadata": {
    "pycharm": {
     "name": "#%%\n"
    }
   },
   "outputs": [],
   "source": [
    "for c in lmp_investigate.columns:\n",
    "    fig, ax = plt.subplots()\n",
    "    lmp_investigate[c].plot.hist(bins=20, ax=ax)\n",
    "    ax.set_xlabel(c)"
   ]
  },
  {
   "cell_type": "markdown",
   "metadata": {
    "pycharm": {
     "name": "#%% md\n"
    }
   },
   "source": [
    "###### fourier transform\n",
    "Explanantion:\n",
    "- Frequency are going from seasonal patterns (closer to 0) to daily (x=365) and to within daily patterns (x > 365)\n",
    "- high value at x = 1 means that there is a pattern that occurs once over the whole time series (yearly pattern, seasonal pattern\n",
    "- high value at x = 365 means that there is a pattern that is occuring 365 times per year which means it occurs daily; this is typically for solar as the rythm of the sun is daily\n",
    "- high value at x = 730 means there is a pettern that occurs 730 times per year which is two times per day; this is for example for heating the case where ther eis a peak in the morning adn in the afternoon"
   ]
  },
  {
   "cell_type": "code",
   "execution_count": null,
   "metadata": {
    "pycharm": {
     "name": "#%%\n"
    }
   },
   "outputs": [],
   "source": [
    "for c, d in lmp_investigate.iteritems():\n",
    "    fig, ax = plt.subplots()\n",
    "    fft = abs(pd.Series(np.fft.rfft(d - d.mean()), index=np.fft.rfftfreq(len(d), d=1./2920))**2)\n",
    "    fft.plot(xlim=[0,1000], ylabel=f\"Power Spectral Density ({c})\", xlabel=\"Frequency (1/year)\")\n",
    "\n",
    "# North south separation do detect what determines the pattern"
   ]
  },
  {
   "cell_type": "markdown",
   "metadata": {
    "pycharm": {
     "name": "#%% md\n"
    }
   },
   "source": [
    "###### correlation"
   ]
  },
  {
   "cell_type": "code",
   "execution_count": null,
   "metadata": {
    "pycharm": {
     "name": "#%%\n"
    }
   },
   "outputs": [],
   "source": [
    "plt.figure(figsize=(10, 6))\n",
    "sns.heatmap(lmp_investigate.corr(), annot=True)\n",
    "plt.show()"
   ]
  },
  {
   "cell_type": "markdown",
   "metadata": {
    "pycharm": {
     "name": "#%% md\n"
    }
   },
   "source": [
    "### Congestion rent\n",
    "Additionally: Calculate congestion rents for link components: price difference i-j * flow i-j\n",
    "ToDo: maybe also for line components?"
   ]
  },
  {
   "cell_type": "code",
   "execution_count": null,
   "metadata": {
    "pycharm": {
     "name": "#%%\n"
    }
   },
   "outputs": [],
   "source": [
    "# congestion rent makes only sense if link has only 2 buses; definition of cr is otherwise unclear\n",
    "carriers = n.links.carrier[n.links.bus3 == \"\"].unique()\n",
    "cr_res1 = pd.DataFrame(index = range(1), columns=carriers)\n",
    "\n",
    "for carrier in carriers:\n",
    "    cr_res1[carrier] = (congestion_rent_link(n,carrier).sum().sum() / 1000000)"
   ]
  },
  {
   "cell_type": "code",
   "execution_count": null,
   "metadata": {
    "pycharm": {
     "name": "#%%\n"
    }
   },
   "outputs": [],
   "source": [
    "cr_res1 = cr_res1.sort_values(by=0, axis='columns', ascending=False)"
   ]
  },
  {
   "cell_type": "code",
   "execution_count": null,
   "metadata": {
    "pycharm": {
     "name": "#%%\n"
    }
   },
   "outputs": [],
   "source": [
    "sns.set(rc={'figure.figsize':(20,5)})\n",
    "sns.barplot(data=cr_res1)\n",
    "ticks = plt.xticks(rotation=90)\n",
    "plt.title(\"congestion rent in million € per year\")\n",
    "plt.show()"
   ]
  },
  {
   "cell_type": "markdown",
   "metadata": {
    "pycharm": {
     "name": "#%% md\n"
    }
   },
   "source": [
    "__Findings__\n",
    "- negative values for some technologies: OCGT, water tanks, battery charger but in much smaller magnitude than positive values (maybe due to numeric inaccuracy?)"
   ]
  },
  {
   "cell_type": "code",
   "execution_count": null,
   "metadata": {
    "pycharm": {
     "name": "#%%\n"
    }
   },
   "outputs": [],
   "source": [
    "# Congestion rent by region\n",
    "cr_regions_onshore = onshore_regions.copy().rename(columns={\"name\": \"location\"})\n",
    "\n",
    "for carrier in carriers:\n",
    "    cr_regions = congestion_rent_link(n,carrier).sum()\n",
    "\n",
    "    if n.buses.loc[cr_regions.index.map(n.links.bus0)].location.values[0] == 'EU':\n",
    "        bus = \"bus1\"\n",
    "    else:\n",
    "        bus = \"bus0\"\n",
    "\n",
    "    cr_regions = pd.concat([cr_regions,n.links.loc[cr_regions.index][bus]], axis=1).rename(columns={0: f\"{carrier}_cr\"})\n",
    "    cr_regions[\"location\"] = n.buses.loc[cr_regions.index.map(n.links[bus])].location.values\n",
    "    # for some carrier e.g. \"DC\" the locations occur several times in the index -> take sum\n",
    "    cr_regions = cr_regions.groupby(by=[\"location\"], axis=\"index\").sum()\n",
    "    # convert to million € per year\n",
    "    cr_regions_onshore[f\"{carrier}_cr\"] = (cr_regions[f\"{carrier}_cr\"] / 1000000)\n",
    "cr_regions_onshore.head(3)\n",
    "    # TODO: For plotting the cr into a map which bus should be used? bus0, where the energy comes from or bus1 where the energy goes to? For some carriers e.g. Fischer-Tropsch they are not in the same region (EU bus)"
   ]
  },
  {
   "cell_type": "code",
   "execution_count": null,
   "metadata": {
    "pycharm": {
     "name": "#%%\n"
    }
   },
   "outputs": [],
   "source": [
    "carrier = \"H2 Electrolysis\"\n",
    "\n",
    "fig = plt.figure(figsize=(10, 8))\n",
    "\n",
    "crs = ccrs.EqualEarth()\n",
    "ax = plt.axes(projection=ccrs.EqualEarth()) # Mercator\n",
    "ax.add_feature(cartopy.feature.BORDERS, edgecolor='black', linewidth=0.5)\n",
    "ax.coastlines(edgecolor='black', linewidth=0.5)\n",
    "ax.set_facecolor('white')\n",
    "ax.add_feature(cartopy.feature.OCEAN, color='azure')\n",
    "ax.set_title(f\"{carrier} congestion rent\", fontsize=16, **font1)\n",
    "\n",
    "cr_regions_onshore.to_crs(crs.proj4_init).plot(column=f\"{carrier}_cr\",\n",
    "                     ax=ax,\n",
    "                     cmap=plt.get_cmap(\"magma_r\"),\n",
    "                     linewidth=0.05,\n",
    "                     edgecolor = 'grey',\n",
    "                     legend=True,\n",
    "                     legend_kwds={'label':\"million € per year\",\n",
    "                        'orientation': \"vertical\",\n",
    "                                  'shrink' : 0.8})\n",
    "\n",
    "plt.show()\n",
    "# TODO: Would be interesting to plot a map with the location of the capacity of the corresponding carrier next to it; probably there is a correlation between higher capacity and higher cr"
   ]
  },
  {
   "cell_type": "code",
   "execution_count": null,
   "metadata": {
    "pycharm": {
     "name": "#%%\n"
    }
   },
   "outputs": [],
   "source": [
    "cr_regions_onshore[f\"{carrier}_cr\"].sort_values(ascending=False)"
   ]
  },
  {
   "cell_type": "markdown",
   "metadata": {
    "pycharm": {
     "name": "#%% md\n"
    }
   },
   "source": [
    "__Findings:__\n",
    "- __H2 Electrolysis:__  Highest values in IRL, GBR and DNK; General higher values in the coastal area of mainland Europe (PRT, ESP, FRA, NLD, DEU, POL, GRC); very low values in the inner mainland and scandinavia\n",
    "- __electricity distribution grid:__ no strong pattern; highest values for north/middle (FR0 1) and GB5 13; there might be soe correlation with higher cr in population-intensive regions an\n",
    "- __Fischer-Tropsch:__ Comparable to H2 Electrolysis; Highest values in DNK & GBR; especialle higher values on the resource receiving party of the european coastline (Atlantic coast and GRC)\n",
    "- __urban central solid biomass CHP CC:__ High values for parts of DEU, CZE, AUT, ITA, SVK & HUN; Very low values for west europe UK and scandinavia\n",
    "- residential rural ground heat pump:\n",
    "- residential urban decentral air heat pump:\n",
    "- H2 liquefaction:\n",
    "- urban central air heat pump:\n",
    "- urban central gas CHP:"
   ]
  },
  {
   "cell_type": "code",
   "execution_count": null,
   "metadata": {
    "pycharm": {
     "name": "#%%\n"
    }
   },
   "outputs": [],
   "source": [
    "# summarising plot with mv, gen and cr\n",
    "carrier=\"H2 Electrolysis\"\n",
    "# \"battery discharger\" # \"battery charger\" # \"H2 Fuel Cell\" #\"Fischer-Tropsch\" #\"OCGT\" #H2 Electrolysis\" # H2 Electrolysis, H2 Fuel Cell\n",
    "carriers=[f\"{carrier}_mv\" , f\"{carrier}_gen\", f\"{carrier}_cr\"]\n",
    "\n",
    "fig, axs = plt.subplots(ncols=3, subplot_kw={'projection': ccrs.EqualEarth()},\n",
    "                        figsize=(18, 16))\n",
    "crs = ccrs.EqualEarth()\n",
    "\n",
    "for i, ax in enumerate(axs):\n",
    "    ax.add_feature(cartopy.feature.BORDERS, edgecolor='black', linewidth=0.5)\n",
    "    ax.coastlines(edgecolor='black', linewidth=0.5)\n",
    "    ax.set_facecolor('white')\n",
    "    ax.add_feature(cartopy.feature.OCEAN, color='azure')\n",
    "\n",
    "    if i==0:\n",
    "        title = f\"{carrier} market value\"\n",
    "        label = \"€/MWh\"\n",
    "        df = df_regions_onshore\n",
    "    elif i==1:\n",
    "        title = f\"{carrier} generation\"\n",
    "        label = \"TWh\"\n",
    "        df = df_regions_onshore\n",
    "    else:\n",
    "        title = f\"{carrier} congestion rent\"\n",
    "        label = \"million €\"\n",
    "        df = cr_regions_onshore\n",
    "\n",
    "    args = dict(column=carriers[i],\n",
    "                     ax=ax,\n",
    "                     cmap=plt.get_cmap(\"magma_r\"),\n",
    "                     linewidth=0.05,\n",
    "                     edgecolor = 'grey',\n",
    "                     legend=True,\n",
    "                     legend_kwds={'label':label,\n",
    "                        'orientation': \"vertical\",\n",
    "                                  'shrink' : 0.3}\n",
    "                )\n",
    "\n",
    "    ax.set_title(title, fontsize=16, **font1)\n",
    "    df.to_crs(crs.proj4_init).plot(**args)\n",
    "\n",
    "plt.show()"
   ]
  },
  {
   "cell_type": "markdown",
   "metadata": {
    "pycharm": {
     "name": "#%% md\n"
    }
   },
   "source": [
    "### Two component analysis (Scatter)"
   ]
  },
  {
   "cell_type": "markdown",
   "metadata": {
    "pycharm": {
     "name": "#%% md\n"
    }
   },
   "source": [
    "#### Scatterplot: market value and generation\n",
    "scatterplot of the market value and the generation for the 181 regions (if both values are present)"
   ]
  },
  {
   "cell_type": "code",
   "execution_count": null,
   "metadata": {
    "pycharm": {
     "name": "#%%\n"
    }
   },
   "outputs": [],
   "source": [
    "carrier = \"OCGT\" # \"battery charger\" # \"OCGT\"# \"H2 Electrolysis\" #\"ror\" # \"onwind\" # \"solar\"\n",
    "x = df_regions_onshore[f\"{carrier}_gen\"]\n",
    "y = df_regions_onshore[f\"{carrier}_mv\"]\n",
    "x = x[x.notna() & y.notna()]\n",
    "y = y[x.notna() & y.notna()]\n",
    "\n",
    "fig = plt.figure(figsize=(10, 6))\n",
    "p = np.poly1d(np.polyfit(x, y, 1))\n",
    "t = np.linspace(start = 0, stop = int(max(x)), num = 1000)\n",
    "plt.plot(x, y, 'o', label=carrier)\n",
    "plt.plot(t, p(t), '-')\n",
    "plt.title(f\"Scatter: generation vs. market value ({carrier})\")\n",
    "plt.xlabel(\"generation (TWh)\")\n",
    "plt.ylabel(\"market value (€/MWh)\")\n",
    "plt.legend()\n",
    "plt.show()"
   ]
  },
  {
   "cell_type": "markdown",
   "metadata": {
    "pycharm": {
     "name": "#%% md\n"
    }
   },
   "source": [
    "__Findings:__\n",
    "- __solar:__ most generation less than 0.5 e^7; downward trend for the relationship between market value and generation\n",
    "- __onwind:__ most gen < 2 e^7 MWh; clear downward trend\n",
    "- __ror:__ mv between 60 and 150 €/MWh; no trend\n",
    "- __H2 Electrolysis:__ gen mostly < 2 e^7; slight downward trend\n",
    "- __OCGT:__ mostly very low gen; clear upward trend\n",
    "- __battery charger:__ no clear trend (slightly downward)\n",
    "- __SMR:__ most gen < 10000 MWh; clear upward trend"
   ]
  },
  {
   "cell_type": "code",
   "execution_count": null,
   "metadata": {
    "pycharm": {
     "name": "#%%\n"
    }
   },
   "outputs": [],
   "source": [
    "# comparing plot:\n",
    "carriers = car_gen_vre.copy() + car_link_imp1.copy()\n",
    "carriers = [e for e in carriers if e not in [\"Fischer-Tropsch\", \"Sabatier\"]]\n",
    "colors = matplotlib.cm.tab20(range(len(carriers)))\n",
    "\n",
    "plt.figure(figsize=(10, 6))\n",
    "\n",
    "for carrier, i in zip(carriers, np.arange(0,len(carriers)-1)):\n",
    "    x = df_regions_onshore[f\"{carrier}_gen\"]\n",
    "    y = df_regions_onshore[f\"{carrier}_mv\"]\n",
    "    x = x[x.notna() & y.notna()]\n",
    "    y = y[x.notna() & y.notna()]\n",
    "\n",
    "    p = np.poly1d(np.polyfit(x, y, 1))\n",
    "    t = np.linspace(start = 0, stop = int(max(x)), num = 5)\n",
    "    plt.plot(t, p(t), '--', label=carrier, color=colors[i], marker=i)\n",
    "\n",
    "plt.title(\"Trend: Generation vs. market value\")\n",
    "plt.xlabel(\"Generation (TWh)\")\n",
    "plt.ylabel(\"market value (€/MWh)\")\n",
    "#plt.ylim([0,600])\n",
    "plt.xlim([0,2*10**4])\n",
    "plt.legend()\n",
    "plt.show()"
   ]
  },
  {
   "cell_type": "markdown",
   "metadata": {
    "pycharm": {
     "name": "#%% md\n"
    }
   },
   "source": [
    "#### Scatterplot: market value and full load hours"
   ]
  },
  {
   "cell_type": "code",
   "execution_count": null,
   "metadata": {
    "pycharm": {
     "name": "#%%\n"
    }
   },
   "outputs": [],
   "source": [
    "th = 0.9\n",
    "\n",
    "# get full_load hours (generators)\n",
    "for carrier in n.generators.carrier.unique():\n",
    "    gen = n.generators_t.p[n.generators[n.generators.carrier == carrier].index]\n",
    "    # max_output = n.generators.p_nom_opt[n.generators.carrier == carrier]\n",
    "    max_output = gen.max()\n",
    "\n",
    "    # ts with p_nom_opt\n",
    "    max_output_ts = gen.copy()\n",
    "    for snap in n.storage_units_t.p.index:\n",
    "        max_output_ts.loc[snap] = max_output[max_output_ts.columns]\n",
    "\n",
    "    # calc full load hours\n",
    "    flh = (gen >= th * max_output_ts).sum()\n",
    "    flh.index = flh.index.map(n.generators.bus).map(n.buses.location)\n",
    "    df_regions_onshore[f\"{carrier}_flh\"] = flh\n",
    "\n",
    "# links\n",
    "for carrier in n.links.carrier.unique():\n",
    "    gen = abs(n.links_t.p1.loc[:, n.links.carrier == carrier])\n",
    "    # use p_nom_opt as indicator for full load hour\n",
    "    # max_output = n.links.p_nom_opt[n.links.carrier == carrier]\n",
    "    # use maximum of generation output as indicator for full load hour\n",
    "    max_output = gen.max()\n",
    "\n",
    "    # ts with p_nom_opt\n",
    "    max_output_ts = gen.copy()\n",
    "    for snap in n.storage_units_t.p.index:\n",
    "        max_output_ts.loc[snap] = max_output[max_output_ts.columns]\n",
    "\n",
    "    # calc full load hours\n",
    "    flh = (gen >= th * max_output_ts).sum()\n",
    "    flh.index = flh.index.map(n.links.bus1).map(n.buses.location)\n",
    "    # group duplicate index entries\n",
    "    flh = flh.groupby(by=[\"Link\"], axis=\"index\").sum()\n",
    "    df_regions_onshore[f\"{carrier}_flh\"] = flh\n",
    "\n",
    "# storage units\n",
    "for carrier in n.storage_units.carrier.unique():\n",
    "    gen = generation_storage_units(n, carrier)\n",
    "    max_output = gen.max()\n",
    "\n",
    "        # ts with p_nom_opt\n",
    "    max_output_ts = gen.copy()\n",
    "    for snap in n.storage_units_t.p.index:\n",
    "        max_output_ts.loc[snap] = max_output[max_output_ts.columns]\n",
    "\n",
    "    # calc full load hours\n",
    "    flh = (gen >= th * max_output_ts).sum()\n",
    "    flh.index = flh.index.map(n.links.bus1).map(n.buses.location)\n",
    "    # group duplicate index entries\n",
    "    flh = flh.groupby(by=[\"Link\"], axis=\"index\").sum()\n",
    "    df_regions_onshore[f\"{carrier}_flh\"] = flh\n",
    "\n",
    "df_regions_onshore.head(3)"
   ]
  },
  {
   "cell_type": "code",
   "execution_count": null,
   "metadata": {
    "pycharm": {
     "name": "#%%\n"
    }
   },
   "outputs": [],
   "source": [
    "n.storage_units_t.p.index"
   ]
  },
  {
   "cell_type": "code",
   "execution_count": null,
   "metadata": {
    "pycharm": {
     "name": "#%%\n"
    }
   },
   "outputs": [],
   "source": [
    "carrier = \"OCGT\"# \"Fischer-Tropsch\" # \"OCGT\" # \"onwind\" # \"solar rooftop\" # \"solar\"# \"H2 Electrolysis\" # \"solar rooftop\" # \"ror\"\n",
    "x = df_regions_onshore[f\"{carrier}_flh\"]\n",
    "y = df_regions_onshore[f\"{carrier}_mv\"]\n",
    "x = x[x.notna() & y.notna()]\n",
    "y = y[x.notna() & y.notna()]\n",
    "\n",
    "fig = plt.figure(figsize=(10, 6))\n",
    "p = np.poly1d(np.polyfit(x, y, 1))\n",
    "t = np.linspace(start = 0, stop = int(max(x)), num = 1000)\n",
    "plt.plot(x, y, 'o', label=carrier)\n",
    "plt.plot(t, p(t), '-')\n",
    "plt.title(\"Scatter: full load hours vs. market value\")\n",
    "plt.xlabel(\"full load hours (2920 snaps per year)\")\n",
    "plt.ylabel(\"market value (€/MWh)\")\n",
    "plt.legend()\n",
    "plt.show()"
   ]
  },
  {
   "cell_type": "markdown",
   "metadata": {
    "pycharm": {
     "name": "#%% md\n"
    }
   },
   "source": [
    "__Findings:__\n",
    "- with p_nom_opt the full load hours for many carriers are 0; maybe it is more valid to use the maximum output as the maximum capacity to compare to?\n",
    "- for VRE the trend is mostly downwards, for technologies that can be regulated it is upwards\n",
    "- __ror:__ flh either < 400 or around 1200; upward trend\n",
    "- __solar / solar rooftop:__ flh > 150; downward trend\n",
    "- __H2 Electrolysis:__ flh mostly in range(500,1000); upward trend\n",
    "- __onwind:__ flh mostly < 100 and all < 500; clear downward trend\n",
    "- __OCGT:__ flh in range (20,60); clear downward trend\n",
    "- __Fischer-Tropsch:__ no single full load hour"
   ]
  },
  {
   "cell_type": "code",
   "execution_count": null,
   "metadata": {
    "pycharm": {
     "name": "#%%\n"
    }
   },
   "outputs": [],
   "source": [
    "# comparing plot:\n",
    "carriers = car_gen_vre.copy() + car_link_imp1.copy()\n",
    "carriers = [e for e in carriers if e not in [\"Fischer-Tropsch\", \"Sabatier\"]]\n",
    "colors = matplotlib.cm.tab20(range(len(carriers)))\n",
    "\n",
    "plt.figure(figsize=(10, 6))\n",
    "\n",
    "for carrier, i in zip(carriers, np.arange(0,len(carriers)-1)):\n",
    "    x = df_regions_onshore[f\"{carrier}_flh\"]\n",
    "    y = df_regions_onshore[f\"{carrier}_mv\"]\n",
    "    x = x[x.notna() & y.notna()]\n",
    "    y = y[x.notna() & y.notna()]\n",
    "\n",
    "    p = np.poly1d(np.polyfit(x, y, 1))\n",
    "    t = np.linspace(start = 0, stop = int(max(x)), num = 5)\n",
    "    plt.plot(t, p(t), '--', label=carrier, color=colors[i], marker=i)\n",
    "\n",
    "plt.title(\"Trend: full load hours vs. market value\")\n",
    "plt.xlabel(\"full load hours (2920 snaps per year)\")\n",
    "plt.ylabel(\"market value (€/MWh)\")\n",
    "plt.ylim([0,600])\n",
    "plt.xlim([0,1500])\n",
    "plt.legend()\n",
    "plt.show()"
   ]
  },
  {
   "cell_type": "markdown",
   "metadata": {
    "pycharm": {
     "name": "#%% md\n"
    }
   },
   "source": [
    "__Findings:__\n",
    "- strong downward trend for OCGT and urban central gas CHP\n",
    "- strong upward trend for SMR and H2 Fuel Cell\n",
    "- rather downward: solar, onwind, solar rooftop, offwind-ac, offwind-dc\n",
    "- rather upward: ror, H2 Electrolysis, battery charger\n",
    "\n",
    "__Implications:__\n",
    "- non controllable technologies like vre cannot choos to run during times of high market values, therefore the mv rater decreases with more flh\n",
    "- controllable energies like SMR, ror, H2 Electrolysis, battery charger can choose when to run adn therefore are more likely to run during times of high mv\n",
    "- the strong downward trend of OCGT and central gas CHP (both controllable) can be explained by the fact that they are only running at very high mv already"
   ]
  },
  {
   "cell_type": "markdown",
   "metadata": {
    "pycharm": {
     "name": "#%% md\n"
    }
   },
   "source": [
    "### ToDo"
   ]
  },
  {
   "cell_type": "code",
   "execution_count": null,
   "metadata": {
    "pycharm": {
     "name": "#%%\n"
    }
   },
   "outputs": [],
   "source": [
    "# plot loads\n",
    "n.loads.carrier.unique()"
   ]
  },
  {
   "cell_type": "code",
   "execution_count": null,
   "metadata": {
    "pycharm": {
     "name": "#%%\n"
    }
   },
   "outputs": [],
   "source": [
    "#TODO: market value aggregated over carriers per country/region plot#"
   ]
  },
  {
   "cell_type": "markdown",
   "metadata": {
    "pycharm": {
     "name": "#%% md\n"
    }
   },
   "source": []
  }
 ],
 "metadata": {
  "kernelspec": {
   "display_name": "Python 3 (ipykernel)",
   "language": "python",
   "name": "python3"
  },
  "language_info": {
   "codemirror_mode": {
    "name": "ipython",
    "version": 3
   },
   "file_extension": ".py",
   "mimetype": "text/x-python",
   "name": "python",
   "nbconvert_exporter": "python",
   "pygments_lexer": "ipython3",
   "version": "3.10.6"
  }
 },
 "nbformat": 4,
 "nbformat_minor": 1
}
