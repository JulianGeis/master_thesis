{
 "cells": [
  {
   "cell_type": "code",
   "execution_count": null,
   "metadata": {
    "pycharm": {
     "name": "#%%\n"
    }
   },
   "outputs": [],
   "source": [
    "# Plots for section 5.1"
   ]
  },
  {
   "cell_type": "markdown",
   "metadata": {
    "pycharm": {
     "name": "#%% md\n"
    }
   },
   "source": [
    "### Imports"
   ]
  },
  {
   "cell_type": "code",
   "execution_count": null,
   "metadata": {
    "pycharm": {
     "name": "#%%\n"
    }
   },
   "outputs": [],
   "source": [
    "import pandas as pd\n",
    "import matplotlib\n",
    "import numpy as np\n",
    "import pypsa\n",
    "import matplotlib.pyplot as plt\n",
    "import cartopy\n",
    "import cartopy.crs as ccrs\n",
    "import geopandas as gpd\n",
    "import warnings\n",
    "warnings.filterwarnings(\"ignore\")\n",
    "from shapely.geometry import Point, LineString\n",
    "from datetime import datetime\n",
    "import matplotlib.patheffects as pe\n",
    "import matplotlib.colors as mcolors\n",
    "import seaborn as sns\n",
    "import matplotlib.ticker as mtick\n",
    "\n",
    "\n",
    "# imported own functions\n",
    "from utils import  nodal_balance,  get_condense_sum\n",
    "\n",
    "# imported own definitions\n",
    "from utils import carrier_colors, carrier_renaming, resistive_heater, gas_boiler, heat_pump, water_tanks_charger, water_tanks_discharger, solar_thermal\n",
    "from utils import c_h2_gen, c_h2_con, c_el_gen_s, c_el_con_s\n",
    "\n",
    "# general variables\n",
    "font1 = {'fontname':'Calibri'}\n",
    "PLOT_DIR = 'C:/Users/Julian/Studies/Master/01 TU Berlin/3. Semester - Masterarbeit/MA Marktwerte FEE/data/plots/01_general/5.1_hydrogen_overview'\n",
    "onshore_regions = gpd.read_file(\"../data/external/regions_onshore_elec_s_181.geojson\")\n",
    "offshore_regions = gpd.read_file(\"../data/external/regions_offshore_elec_s_181.geojson\")\n",
    "onshore_regions = onshore_regions.set_index('name')\n",
    "offshore_regions = offshore_regions.set_index('name')"
   ]
  },
  {
   "cell_type": "code",
   "execution_count": null,
   "metadata": {
    "pycharm": {
     "name": "#%%\n"
    }
   },
   "outputs": [],
   "source": [
    "# Network imports\n",
    "stst =pypsa.Network(\"../data/raw/elec_s_181_lv1.0__Co2L0-3H-T-H-B-I-A-solar+p3-linemaxext10-noH2network_2030.nc\")\n",
    "exp =pypsa.Network(\"../data/raw/elec_s_181_lvopt__Co2L0-3H-T-H-B-I-A-solar+p3-linemaxext10_2030.nc\")"
   ]
  },
  {
   "cell_type": "code",
   "execution_count": null,
   "metadata": {
    "pycharm": {
     "name": "#%%\n"
    }
   },
   "outputs": [],
   "source": [
    "# stst and exp dataframes\n",
    "# spatial\n",
    "df_stst_ons = pd.read_pickle(\"../data/processed/df_stst_ons.pkl\")\n",
    "df_stst_off = pd.read_pickle(\"../data/processed/df_stst_off.pkl\")\n",
    "df_exp_ons = pd.read_pickle(\"../data/processed/df_exp_ons.pkl\")\n",
    "df_exp_off = pd.read_pickle(\"../data/processed/df_exp_off.pkl\")\n",
    "\n",
    "# temporal\n",
    "df_stst_ts = pd.read_pickle(\"../data/processed/df_stst_ts.pkl\")\n",
    "df_exp_ts = pd.read_pickle(\"../data/processed/df_exp_ts.pkl\")"
   ]
  },
  {
   "cell_type": "code",
   "execution_count": null,
   "metadata": {
    "pycharm": {
     "name": "#%%\n"
    }
   },
   "outputs": [],
   "source": [
    "# Notebook Definitions\n",
    "c1_groups = [resistive_heater, gas_boiler, heat_pump, water_tanks_charger, water_tanks_discharger, solar_thermal]\n",
    "c1_groups_name = [\"resistive heater\", \"gas boiler\", \"heat pump\", \"water tanks charger\", \"water tanks discharger\", \"solar thermal\"]"
   ]
  },
  {
   "cell_type": "code",
   "execution_count": null,
   "metadata": {
    "pycharm": {
     "name": "#%%\n"
    }
   },
   "outputs": [],
   "source": [
    "# Notebook Functions\n",
    "\n",
    "def get_df(df_no, df_h2, carriers):\n",
    "    result = pd.DataFrame(index = [\"STST\", \"EXP\"])\n",
    "\n",
    "    for c in carriers:\n",
    "        result.loc[\"STST\" , c] = df_no[c].values\n",
    "        result.loc[\"EXP\" , c] = df_h2[c].values\n",
    "    return result\n",
    "\n",
    "def c_gen(carrier_list, network):\n",
    "    result = []\n",
    "    for c in carrier_list:\n",
    "        if c in network.generators.carrier.unique().tolist():\n",
    "            result.append(c)\n",
    "    return result\n",
    "\n",
    "def c_link(carrier_list, network):\n",
    "    result = []\n",
    "    for c in carrier_list:\n",
    "        if c in network.links.carrier.unique().tolist():\n",
    "            result.append(c)\n",
    "    return result\n",
    "\n",
    "def c_su(carrier_list, network):\n",
    "    result = []\n",
    "    for c in carrier_list:\n",
    "        if c in network.storage_units.carrier.unique().tolist():\n",
    "            result.append(c)\n",
    "    return result"
   ]
  },
  {
   "cell_type": "code",
   "execution_count": null,
   "metadata": {
    "pycharm": {
     "name": "#%%\n"
    }
   },
   "outputs": [],
   "source": [
    "# Regions\n",
    "onshore_regions['coords'] = onshore_regions['geometry'].apply(lambda x: x.representative_point().coords[:])\n",
    "onshore_regions['coords'] = [coords[0] for coords in onshore_regions['coords']]\n",
    "onshore_regions[\"name\"] = onshore_regions.index\n",
    "offshore_regions['coords'] = offshore_regions['geometry'].apply(lambda x: x.representative_point().coords[:])\n",
    "offshore_regions['coords'] = [coords[0] for coords in offshore_regions['coords']]\n",
    "offshore_regions[\"name\"] = offshore_regions.index"
   ]
  },
  {
   "cell_type": "markdown",
   "metadata": {
    "pycharm": {
     "name": "#%% md\n"
    }
   },
   "source": [
    "### Demand"
   ]
  },
  {
   "cell_type": "code",
   "execution_count": null,
   "metadata": {
    "pycharm": {
     "name": "#%%\n"
    }
   },
   "outputs": [],
   "source": [
    "# loads are the same for exp and stst"
   ]
  },
  {
   "cell_type": "code",
   "execution_count": null,
   "metadata": {
    "pycharm": {
     "name": "#%%\n"
    }
   },
   "outputs": [],
   "source": [
    "# temporal\n",
    "loads = [\"land transport fuel cell\", \"H2 for industry\", \"H2 for shipping\"]\n",
    "stst_loads_ts = stst.loads_t.p.loc[:, stst.loads.carrier.isin(loads)].sum(axis=1) / 1000 * 3\n",
    "\n",
    "fig, (ax1, ax2) = plt.subplots(ncols=1, nrows=2,  height_ratios=[1.5, 1],\n",
    "                        figsize=(14, 7))\n",
    "\n",
    "# whole year\n",
    "ax1.plot(stst_loads_ts, color=\"turquoise\", lw=0.75, label=\"overall demand\")\n",
    "ax1.plot(stst_loads_ts.resample(\"D\").mean(), color=\"black\", lw=1, label=\"daily mean\")\n",
    "#ax1.plot(stst_loads_ts.resample(\"7D\").mean(), color=\"red\", lw=1, label=\"weekly mean\")\n",
    "ax1.set_title(f\"Hydrogen demand (all year)\", fontsize=16, **font1)\n",
    "ax1.set_ylabel(\"GWh\")\n",
    "ax1.legend(loc=\"upper left\")\n",
    "\n",
    "# January\n",
    "ax2.plot(stst_loads_ts[\"2013-03-4\":\"2013-03-17\"], color=\"turquoise\")\n",
    "ax2.set_title(f\"Hydrogen demand of two weeks in March (2013-03-4 until 2013-03-17)\", fontsize=16, **font1)\n",
    "ax2.set_ylabel(\"GWh\")\n",
    "ax2.xaxis.set_major_formatter(matplotlib.dates.DateFormatter('%a %d-%b'))\n",
    "\n",
    "fig.tight_layout(pad=1)\n",
    "plt.show()\n",
    "\n",
    "fig.savefig(f\"{PLOT_DIR}/h2_demand_temporal.png\")"
   ]
  },
  {
   "cell_type": "code",
   "execution_count": null,
   "metadata": {
    "pycharm": {
     "name": "#%%\n"
    }
   },
   "outputs": [],
   "source": [
    "# spatial\n",
    "n = stst\n",
    "stst_loads_sp = n.loads_t.p.loc[:, n.loads.carrier.isin(loads)].sum(axis=0) / 1000 / 1000 * 3\n",
    "stst_loads_sp.index = stst_loads_sp.index.map(n.loads.bus)\n",
    "stst_loads_sp.index = stst_loads_sp.index.map(n.buses.location)\n",
    "stst_loads_sp = stst_loads_sp.groupby(stst_loads_sp.index, axis=0).sum()\n",
    "df_stst_ons[\"h2_demand\"] = stst_loads_sp\n",
    "\n",
    "# load per carrier\n",
    "for c in loads:\n",
    "\n",
    "    n = stst\n",
    "    stst_loads_sp = n.loads_t.p.loc[:, n.loads.carrier == c].sum(axis=0) / 1000 / 1000 * 3\n",
    "    stst_loads_sp.index = stst_loads_sp.index.map(n.loads.bus)\n",
    "    stst_loads_sp.index = stst_loads_sp.index.map(n.buses.location)\n",
    "    stst_loads_sp = stst_loads_sp.groupby(stst_loads_sp.index, axis=0).sum()\n",
    "    df_stst_ons[f\"h2_demand_{c}\"] = stst_loads_sp"
   ]
  },
  {
   "cell_type": "code",
   "execution_count": null,
   "metadata": {
    "pycharm": {
     "name": "#%%\n"
    }
   },
   "outputs": [],
   "source": [
    "df = df_stst_ons\n",
    "\n",
    "fig, ax = plt.subplots(ncols=1, nrows=1,\n",
    "                       subplot_kw={'projection': ccrs.EqualEarth()},\n",
    "                        figsize=(8, 7))\n",
    "crs = ccrs.EqualEarth()\n",
    "\n",
    "\n",
    "ax.add_feature(cartopy.feature.BORDERS, edgecolor='black', linewidth=0.5)\n",
    "ax.coastlines(edgecolor='black', linewidth=0.5)\n",
    "ax.set_facecolor('white')\n",
    "ax.add_feature(cartopy.feature.OCEAN, color='azure')\n",
    "\n",
    "\n",
    "df.to_crs(crs.proj4_init).plot(column=\"h2_demand\",\n",
    "                                               ax=ax,\n",
    "                                               cmap=plt.get_cmap('spring_r'),\n",
    "                                               linewidth=0.05,\n",
    "                                               edgecolor = 'grey',\n",
    "                                               legend=True,\n",
    "                                               legend_kwds={'label':\"Hydrogen demand [($TWh_{h2}$)]\",\n",
    "                                                            'orientation': \"vertical\",\n",
    "                                                            'shrink' : 0.9}\n",
    "                               )\n",
    "\n",
    "ax.set_title(f\"Hydrogen demand\", fontsize=16, **font1)\n",
    "\n",
    "fig.tight_layout()\n",
    "plt.show()\n",
    "\n",
    "fig.savefig(f\"{PLOT_DIR}/h2_demand_spatial.png\")"
   ]
  },
  {
   "cell_type": "code",
   "execution_count": null,
   "metadata": {
    "pycharm": {
     "name": "#%%\n"
    }
   },
   "outputs": [],
   "source": [
    "# overall demand (TWh)\n",
    "stst.loads_t.p.loc[:, stst.loads.carrier.isin(loads)].sum().sum() / 1e6 * 3"
   ]
  },
  {
   "cell_type": "code",
   "execution_count": null,
   "metadata": {
    "pycharm": {
     "name": "#%%\n"
    }
   },
   "outputs": [],
   "source": [
    "# demand per region\n",
    "df_stst_ons[\"h2_demand\"].sort_values(ascending=False)"
   ]
  },
  {
   "cell_type": "code",
   "execution_count": null,
   "metadata": {
    "pycharm": {
     "name": "#%%\n"
    }
   },
   "outputs": [],
   "source": [
    "# subdivision\n",
    "# \"land transport fuel cell\", \"H2 for industry\", \"H2 for shipping\"\n",
    "stst.loads_t.p.loc[:, stst.loads.carrier == \"H2 for industry\"].sum().sum() / 1e6 * 3"
   ]
  },
  {
   "cell_type": "code",
   "execution_count": null,
   "metadata": {
    "pycharm": {
     "name": "#%%\n"
    }
   },
   "outputs": [],
   "source": [
    "df_stst_ons[\"h2_demand\"][df_stst_ons[\"h2_demand\"] > 10].sum()#.sort_values(ascending=False)"
   ]
  },
  {
   "cell_type": "code",
   "execution_count": null,
   "metadata": {
    "pycharm": {
     "name": "#%%\n"
    }
   },
   "outputs": [],
   "source": [
    "carriers = [\"h2_demand\"] + [\"h2_demand_\" + l for l in loads]\n",
    "df = df_stst_ons\n",
    "\n",
    "fig, axs = plt.subplots(ncols=2, nrows=2, subplot_kw={'projection': ccrs.EqualEarth()},\n",
    "                        figsize=(18, 14))\n",
    "crs = ccrs.EqualEarth()\n",
    "\n",
    "\n",
    "for i, ax in enumerate(axs.reshape(-1)):\n",
    "\n",
    "    ax.add_feature(cartopy.feature.BORDERS, edgecolor='black', linewidth=0.5)\n",
    "    ax.coastlines(edgecolor='black', linewidth=0.5)\n",
    "    ax.set_facecolor('white')\n",
    "    ax.add_feature(cartopy.feature.OCEAN, color='azure')\n",
    "\n",
    "    df.to_crs(crs.proj4_init).plot(column=f\"{carriers[i]}\",\n",
    "                                                   ax=ax,\n",
    "                                                   cmap=plt.get_cmap('spring_r'),\n",
    "                                                   linewidth=0.05,\n",
    "                                                   edgecolor = 'grey',\n",
    "                                                   legend=True,\n",
    "                                                   legend_kwds={'label':\"Electricity balance [TWh]\",\n",
    "                            'orientation': \"vertical\",\n",
    "                                      'shrink' : 0.8})\n",
    "\n",
    "\n",
    "    ax.set_title(f\"{carriers[i]}\", fontsize=16, **font1)\n",
    "\n",
    "fig.tight_layout()\n",
    "plt.show()"
   ]
  },
  {
   "cell_type": "code",
   "execution_count": null,
   "metadata": {
    "pycharm": {
     "name": "#%%\n"
    }
   },
   "outputs": [],
   "source": [
    "#df_stst_ons[\"h2_demand_H2 for industry\"].sort_values(ascending=False)\n",
    "df_stst_ons[\"h2_demand_H2 for shipping\"].sort_values(ascending=False)\n",
    "#df_stst_ons[\"h2_demand_land transport fuel cell\"].sort_values(ascending=False)"
   ]
  },
  {
   "cell_type": "markdown",
   "metadata": {
    "pycharm": {
     "name": "#%% md\n"
    }
   },
   "source": [
    "### Network & Flow"
   ]
  },
  {
   "cell_type": "code",
   "execution_count": null,
   "metadata": {
    "pycharm": {
     "name": "#%%\n"
    }
   },
   "outputs": [],
   "source": [
    "l_h2 = exp.copy()\n",
    "\n",
    "locs = l_h2.buses[l_h2.buses.carrier == \"AC\"][[\"x\",\"y\"]]\n",
    "mapping = pd.DataFrame(l_h2.buses[l_h2.buses.carrier == \"H2\"].location)\n",
    "mapping[\"bus\"] = mapping.index\n",
    "mapping.set_index(\"location\", inplace =True)\n",
    "locs.index = locs.index.map(mapping.to_dict()['bus'])\n",
    "l_h2.buses.x[l_h2.buses.carrier == \"H2\"] = locs.x\n",
    "l_h2.buses.y[l_h2.buses.carrier == \"H2\"] = locs.y\n",
    "\n",
    "l_h2.mremove(\"Bus\",l_h2.buses[l_h2.buses.carrier != \"H2\"].index)\n",
    "\n",
    "# write LineStrign into pipes (links)\n",
    "h2_pipes = l_h2.links[l_h2.links.carrier.isin([\"H2 pipeline retrofitted\" , \"H2 pipeline\"])].index\n",
    "other_links = l_h2.links[-l_h2.links.carrier.isin([\"H2 pipeline retrofitted\" , \"H2 pipeline\"])].index\n",
    "\n",
    "for pipe in h2_pipes:\n",
    "    loc1 = l_h2.buses.loc[l_h2.links.loc[pipe].bus0][[\"x\", \"y\"]]\n",
    "    loc2 = l_h2.buses.loc[l_h2.links.loc[pipe].bus1][[\"x\", \"y\"]]\n",
    "    l_h2.links.geometry.loc[pipe] = LineString([Point(loc1), Point(loc2)]).wkt\n",
    "\n",
    "l_h2.mremove(\"Link\", other_links)\n",
    "l_h2.mremove(\"Line\", l_h2.lines.index)"
   ]
  },
  {
   "cell_type": "code",
   "execution_count": null,
   "metadata": {
    "pycharm": {
     "name": "#%%\n"
    }
   },
   "outputs": [],
   "source": [
    "fig, ax = plt.subplots(1, 1, subplot_kw={\"projection\": ccrs.EqualEarth()}, figsize=(8, 6))\n",
    "\n",
    "l_h2.plot(ax=ax, link_colors=\"pink\", link_widths=0.8,  projection=ccrs.EqualEarth())\n",
    "pypsa.plot.add_legend_patches(ax=ax, labels=[\"hydrogen pipes\"], colors=[\"pink\"], legend_kw={'loc': 'upper left'})\n",
    "ax.set_title(\"H2 network\", pad=20)\n",
    "plt.show()"
   ]
  },
  {
   "cell_type": "code",
   "execution_count": null,
   "metadata": {
    "pycharm": {
     "name": "#%%\n"
    }
   },
   "outputs": [],
   "source": [
    "# adding colorbar to this\n",
    "\n",
    "fig, ax = plt.subplots(1, 1, subplot_kw={\"projection\": ccrs.EqualEarth()}, figsize=(8, 6))\n",
    "\n",
    "l_h2.links.p_max_pu\n",
    "l_h2.plot(ax=ax, link_colors=l_h2.links.p_nom_opt, link_cmap=plt.get_cmap(\"magma_r\"), link_widths=np.log10(l_h2.links.p_nom_opt)/2,  projection=ccrs.EqualEarth())\n",
    "ax.set_title(\"H2 network\", pad=10)\n",
    "plt.show()"
   ]
  },
  {
   "cell_type": "code",
   "execution_count": null,
   "metadata": {
    "pycharm": {
     "name": "#%%\n"
    }
   },
   "outputs": [],
   "source": [
    "# with colorbar\n",
    "fig, ax = plt.subplots(1, 1, subplot_kw={\"projection\": ccrs.EqualEarth()}, figsize=(8, 6))\n",
    "\n",
    "# GW\n",
    "link_loading = l_h2.links.p_nom_opt / 1000\n",
    "\n",
    "cmap= plt.cm.inferno_r\n",
    "norm = mcolors.Normalize(vmin=link_loading.min(), vmax=link_loading.max())\n",
    "sm = plt.cm.ScalarMappable(cmap=cmap, norm=norm)\n",
    "sm.set_array([])\n",
    "colors = list(map(mcolors.to_hex, cmap(norm(link_loading))))\n",
    "\n",
    "l_h2.plot(ax=ax, link_colors=colors, link_widths=2,  projection=ccrs.EqualEarth())\n",
    "plt.colorbar(sm, orientation='vertical', shrink=0.9, ax=ax, label=\"Capacity in GW\")\n",
    "plt.title(\"Hydrogen network (EXP)\", pad=10)\n",
    "\n",
    "plt.show()"
   ]
  },
  {
   "cell_type": "code",
   "execution_count": null,
   "metadata": {
    "pycharm": {
     "name": "#%%\n"
    }
   },
   "outputs": [],
   "source": [
    "# hydrogen pipeline network in km\n",
    "exp.links[exp.links.carrier.isin([\"H2 pipeline retrofitted\" , \"H2 pipeline\"])].length.sum()"
   ]
  },
  {
   "cell_type": "code",
   "execution_count": null,
   "metadata": {
    "pycharm": {
     "name": "#%%\n"
    }
   },
   "outputs": [],
   "source": [
    "# hydrogen network in TW*km"
   ]
  },
  {
   "cell_type": "code",
   "execution_count": null,
   "metadata": {
    "pycharm": {
     "name": "#%%\n"
    }
   },
   "outputs": [],
   "source": [
    "((exp.links[exp.links.carrier.isin([\"H2 pipeline retrofitted\" , \"H2 pipeline\"])].p_nom_opt * exp.links[exp.links.carrier.isin([\"H2 pipeline retrofitted\" , \"H2 pipeline\"])].length) / 1e6).sum()"
   ]
  },
  {
   "cell_type": "code",
   "execution_count": null,
   "metadata": {
    "pycharm": {
     "name": "#%%\n"
    }
   },
   "outputs": [],
   "source": [
    "# pipeline capacities\n",
    "link_loading.sort_values(ascending=False).mean()"
   ]
  },
  {
   "cell_type": "code",
   "execution_count": null,
   "metadata": {
    "pycharm": {
     "name": "#%%\n"
    }
   },
   "outputs": [],
   "source": [
    "# Balance Flow"
   ]
  },
  {
   "cell_type": "code",
   "execution_count": null,
   "metadata": {
    "pycharm": {
     "name": "#%%\n"
    }
   },
   "outputs": [],
   "source": [
    "h2_balance = nodal_balance(exp, \"H2\", aggregate=[\"snapshot\"])\n",
    "\n",
    "# change sign so that exports are positive and imports negative (TWh)\n",
    "df_exp_ons[\"h2_balance\"] = -(h2_balance.droplevel(0).unstack(\"carrier\").filter(like=\"H2 pipeline\").sum(axis=1)).div(1e6)"
   ]
  },
  {
   "cell_type": "code",
   "execution_count": null,
   "metadata": {
    "pycharm": {
     "name": "#%%\n"
    }
   },
   "outputs": [],
   "source": [
    "# nodal balance electricity and hydrogen\n",
    "df = df_exp_ons\n",
    "\n",
    "fig, (ax1, ax2) = plt.subplots(ncols=2, nrows=1, subplot_kw={'projection': ccrs.EqualEarth()},\n",
    "                        figsize=(14, 6))\n",
    "crs = ccrs.EqualEarth()\n",
    "\n",
    "ax1.add_feature(cartopy.feature.OCEAN, color='azure')\n",
    "\n",
    "# GW\n",
    "link_loading = l_h2.links.p_nom_opt / 1000\n",
    "\n",
    "cmap= plt.cm.inferno_r\n",
    "norm = mcolors.Normalize(vmin=link_loading.min(), vmax=link_loading.max())\n",
    "sm = plt.cm.ScalarMappable(cmap=cmap, norm=norm)\n",
    "sm.set_array([])\n",
    "colors = list(map(mcolors.to_hex, cmap(norm(link_loading))))\n",
    "\n",
    "l_h2.plot(ax=ax1, link_colors=colors, link_widths=2,  projection=ccrs.EqualEarth())\n",
    "plt.colorbar(sm, orientation='vertical', shrink=0.9, ax=ax1, label=\"Capacity in GW\")\n",
    "ax1.set_title(\"Hydrogen network (EXP)\", pad=10)\n",
    "\n",
    "ax2.add_feature(cartopy.feature.BORDERS, edgecolor='black', linewidth=0.5)\n",
    "ax2.coastlines(edgecolor='black', linewidth=0.5)\n",
    "ax2.set_facecolor('white')\n",
    "ax2.add_feature(cartopy.feature.OCEAN, color='azure')\n",
    "\n",
    "abs_max = max(abs(df[\"h2_balance\"].max()) , abs(df[\"h2_balance\"].min()))\n",
    "\n",
    "df.to_crs(crs.proj4_init).plot(column=\"h2_balance\",\n",
    "                                               ax=ax2,\n",
    "                                               cmap=plt.get_cmap('PuOr'),\n",
    "                                               vmax=abs_max,\n",
    "                                               vmin=-abs_max,\n",
    "                                               linewidth=0.05,\n",
    "                                               edgecolor = 'grey',\n",
    "                                               legend=True,\n",
    "                                               legend_kwds={'label':\"Hydrogen balance [TWh]\",\n",
    "                                                            'orientation': \"vertical\",\n",
    "                                                            'shrink' : 0.9}\n",
    "                               )\n",
    "\n",
    "ax2.set_title(f\"Hydrogen balance (EXP)\", fontsize=22, **font1)\n",
    "\n",
    "l_h2.plot(ax=ax2, link_colors=\"indigo\", link_widths=2e-5,  flow=\"sum\", projection=ccrs.EqualEarth())\n",
    "pypsa.plot.add_legend_patches(ax=ax2, labels=[\"hydrogen pipes and flow direction\"], colors=[\"indigo\"], legend_kw={'loc': 'upper left'})\n",
    "ax2.set_title(\"Hydrogen balance and flow (EXP)\", pad=10)\n",
    "\n",
    "fig.tight_layout()\n",
    "plt.show()\n",
    "#fig.savefig(f\"{PLOT_DIR}/h2_network+flow_EXP.png\")"
   ]
  },
  {
   "cell_type": "code",
   "execution_count": null,
   "metadata": {
    "pycharm": {
     "name": "#%%\n"
    }
   },
   "outputs": [],
   "source": [
    "# balance regions (TWh)\n",
    "df_exp_ons[\"h2_balance\"].sort_values(ascending=False)"
   ]
  },
  {
   "cell_type": "code",
   "execution_count": null,
   "metadata": {
    "pycharm": {
     "name": "#%%\n"
    }
   },
   "outputs": [],
   "source": [
    "# flows\n",
    "(exp.links_t.p0.loc[: , h2_pipes].sum() / 1e6 *3).sort_values()"
   ]
  },
  {
   "cell_type": "code",
   "execution_count": null,
   "metadata": {
    "pycharm": {
     "name": "#%%\n"
    }
   },
   "outputs": [],
   "source": [
    "l_h2 = exp.copy()\n",
    "\n",
    "locs = l_h2.buses[l_h2.buses.carrier == \"AC\"][[\"x\",\"y\"]]\n",
    "mapping = pd.DataFrame(l_h2.buses[l_h2.buses.carrier == \"H2\"].location)\n",
    "mapping[\"bus\"] = mapping.index\n",
    "mapping.set_index(\"location\", inplace =True)\n",
    "locs.index = locs.index.map(mapping.to_dict()['bus'])\n",
    "l_h2.buses.x[l_h2.buses.carrier == \"H2\"] = locs.x\n",
    "l_h2.buses.y[l_h2.buses.carrier == \"H2\"] = locs.y\n",
    "\n",
    "l_h2.mremove(\"Bus\",l_h2.buses[l_h2.buses.carrier != \"H2\"].index)\n",
    "\n",
    "# write LineStrign into pipes (links)\n",
    "h2_pipes = l_h2.links[l_h2.links.carrier.isin([\"H2 pipeline retrofitted\" , \"H2 pipeline\"])].index\n",
    "other_links = l_h2.links[-l_h2.links.carrier.isin([\"H2 pipeline retrofitted\" , \"H2 pipeline\"])].index\n",
    "\n",
    "for pipe in h2_pipes:\n",
    "    loc1 = l_h2.buses.loc[l_h2.links.loc[pipe].bus0][[\"x\", \"y\"]]\n",
    "    loc2 = l_h2.buses.loc[l_h2.links.loc[pipe].bus1][[\"x\", \"y\"]]\n",
    "    l_h2.links.geometry.loc[pipe] = LineString([Point(loc1), Point(loc2)]).wkt\n",
    "\n",
    "l_h2.mremove(\"Link\", other_links)\n",
    "l_h2.mremove(\"Line\", l_h2.lines.index)"
   ]
  },
  {
   "cell_type": "code",
   "execution_count": null,
   "metadata": {
    "pycharm": {
     "name": "#%%\n"
    }
   },
   "outputs": [],
   "source": [
    "# Hydrogen network\n",
    "# link_cmap=plt.get_cmap(\"magma_r\")\n",
    "\n",
    "fig, ax = plt.subplots(1, 1, subplot_kw={\"projection\": ccrs.EqualEarth()}, figsize=(8, 8))\n",
    "\n",
    "l_h2.plot(ax=ax, link_colors=\"pink\", link_widths=2e-5,  flow=\"sum\", projection=ccrs.EqualEarth())\n",
    "pypsa.plot.add_legend_patches(ax=ax, labels=[\"hydrogen pipes\"], colors=[\"pink\"], legend_kw={'loc': 'upper left'})\n",
    "ax.set_title(\"H2 network\", pad=20)\n",
    "plt.show()"
   ]
  },
  {
   "cell_type": "markdown",
   "metadata": {
    "pycharm": {
     "name": "#%% md\n"
    }
   },
   "source": [
    "### Capacity"
   ]
  },
  {
   "cell_type": "code",
   "execution_count": null,
   "metadata": {
    "pycharm": {
     "name": "#%%\n"
    }
   },
   "outputs": [],
   "source": [
    "# new calculated cap\n",
    "cap_stst_sum_gen = pd.DataFrame(df_stst_ons[df_stst_ons.columns[df_stst_ons.columns.str.contains(\"cap_gen_h2\")]].sum()).transpose()\n",
    "cap_exp_sum_gen = pd.DataFrame(df_exp_ons[df_exp_ons.columns[df_exp_ons.columns.str.contains(\"cap_gen_h2\")]].sum()).transpose()\n",
    "\n",
    "cap_stst_sum_con = pd.DataFrame(df_stst_ons[df_stst_ons.columns[df_stst_ons.columns.str.contains(\"cap_con_h2\")]].sum()).transpose()\n",
    "cap_exp_sum_con = pd.DataFrame(df_exp_ons[df_exp_ons.columns[df_exp_ons.columns.str.contains(\"cap_con_h2\")]].sum()).transpose()\n",
    "\n",
    "# calc capacities which are present at EU bus (df_CALC does not map)\n",
    "cap_stst_sum_con[\"Fischer-Tropsch_cap_con_h2\"] = stst.links[stst.links.carrier == \"Fischer-Tropsch\"].p_nom_opt.sum() / 1000\n",
    "cap_exp_sum_con[\"Fischer-Tropsch_cap_con_h2\"] = exp.links[exp.links.carrier == \"Fischer-Tropsch\"].p_nom_opt.sum() / 1000\n",
    "cap_stst_sum_con[\"Sabatier_cap_con_h2\"] = stst.links[stst.links.carrier == \"Sabatier\"].p_nom_opt.sum() / 1000\n",
    "cap_exp_sum_con[\"Sabatier_cap_con_h2\"] = exp.links[exp.links.carrier == \"Sabatier\"].p_nom_opt.sum() / 1000"
   ]
  },
  {
   "cell_type": "code",
   "execution_count": null,
   "metadata": {
    "pycharm": {
     "name": "#%%\n"
    }
   },
   "outputs": [],
   "source": [
    "# capacity of electricity producing technologies\n",
    "\n",
    "fig, (ax0, ax1, ax2, ax3) = plt.subplots(nrows=1, ncols=4, figsize=(12, 6))\n",
    "bbox = (0.5, 1.25)\n",
    "\n",
    "carriers = [\"H2 Electrolysis\"]\n",
    "labels = [c + \"_cap_gen_h2\" for c in carriers]\n",
    "get_df(cap_stst_sum_gen, cap_exp_sum_gen, labels).plot(ax = ax0, kind=\"bar\", stacked=True, grid=False, color=[carrier_colors[c] for c in carriers], ylabel=\"Capacity [GW]\")\n",
    "ax0.legend(labels = carriers, loc='upper center', bbox_to_anchor=bbox)\n",
    "\n",
    "carriers = [\"SMR CC\", \"SMR\"]\n",
    "labels = [c + \"_cap_gen_h2\" for c in carriers]\n",
    "get_df(cap_stst_sum_gen, cap_exp_sum_gen, labels).plot(ax = ax1, kind=\"bar\", stacked=True, grid=False, color=[carrier_colors[c] for c in carriers], ylabel=\"Capacity [GW]\")\n",
    "ax1.legend(labels = carriers, loc='upper center', bbox_to_anchor=bbox)\n",
    "\n",
    "carriers = [\"Sabatier\", \"Fischer-Tropsch\"]\n",
    "labels = [c + \"_cap_con_h2\" for c in carriers]\n",
    "get_df(cap_stst_sum_con, cap_exp_sum_con, labels).plot(ax = ax2, kind=\"bar\", stacked=True, grid=False, color=[carrier_colors[c] for c in carriers], ylabel=\"Capacity [GW]\")\n",
    "ax2.legend(labels = carriers, loc='upper center', bbox_to_anchor=bbox)\n",
    "\n",
    "carriers = [ \"H2 liquefaction\", \"H2 Fuel Cell\"]\n",
    "labels = [c + \"_cap_con_h2\" for c in carriers]\n",
    "get_df(cap_stst_sum_con, cap_exp_sum_con, labels).plot(ax = ax3, kind=\"bar\", stacked=True, grid=False, color=[carrier_colors[c] for c in carriers], ylabel=\"Capacity [GW]\")\n",
    "ax3.legend(labels = [carrier_renaming.get(n, n) for n in carriers], loc='upper center', bbox_to_anchor=bbox)\n",
    "\n",
    "fig.suptitle(\"Capacity of hydrogen producing and consuming technologies\", fontsize=16,  **font1)\n",
    "fig.tight_layout()\n",
    "plt.show()\n",
    "\n",
    "fig.savefig(f\"{PLOT_DIR}/h2_gen_con_capa_scenarios.png\")"
   ]
  },
  {
   "cell_type": "code",
   "execution_count": null,
   "metadata": {
    "pycharm": {
     "name": "#%%\n"
    }
   },
   "outputs": [],
   "source": [
    "#cap_stst_sum_gen\n",
    "#cap_exp_sum_gen\n",
    "#cap_stst_sum_con\n",
    "#cap_exp_sum_con"
   ]
  },
  {
   "cell_type": "code",
   "execution_count": null,
   "metadata": {
    "pycharm": {
     "name": "#%%\n"
    }
   },
   "outputs": [],
   "source": []
  },
  {
   "cell_type": "code",
   "execution_count": null,
   "metadata": {
    "pycharm": {
     "name": "#%%\n"
    }
   },
   "outputs": [],
   "source": [
    "df_stst_ons[\"Fischer-Tropsch_cap_con_h2_manual\"] = stst.links[stst.links.carrier == \"Fischer-Tropsch\"].p_nom_opt.values / 1000\n",
    "df_stst_ons[\"Sabatier_cap_con_h2_manual\"] = stst.links[stst.links.carrier == \"Sabatier\"].p_nom_opt.values / 1000\n",
    "df_exp_ons[\"Fischer-Tropsch_cap_con_h2_manual\"] = exp.links[exp.links.carrier == \"Fischer-Tropsch\"].p_nom_opt.values / 1000\n",
    "df_exp_ons[\"Sabatier_cap_con_h2_manual\"] = exp.links[exp.links.carrier == \"Sabatier\"].p_nom_opt.values / 1000"
   ]
  },
  {
   "cell_type": "code",
   "execution_count": null,
   "metadata": {
    "pycharm": {
     "name": "#%%\n"
    }
   },
   "outputs": [],
   "source": [
    "# Capacity correlation (spatial)\n",
    "# correlation with all generators, links, su that have production or consumption for heat, el, h2, oil and gas or biom"
   ]
  },
  {
   "cell_type": "code",
   "execution_count": null,
   "metadata": {
    "pycharm": {
     "name": "#%%\n"
    }
   },
   "outputs": [],
   "source": [
    "cap_cols = df_stst_ons.columns[df_stst_ons.columns.str.contains(\"cap\")]\n",
    "cap_gen_cols = [c + \"_cap_gen_h2\" for c in c_h2_gen]\n",
    "cap_con_cols = [\"Fischer-Tropsch_cap_con_h2_manual\" , \"Sabatier_cap_con_h2_manual\", \"H2 liquefaction_cap_con_h2\"]\n",
    "df_stst_ons[cap_cols].corr().loc[cap_gen_cols + cap_con_cols]"
   ]
  },
  {
   "cell_type": "markdown",
   "metadata": {
    "pycharm": {
     "name": "#%% md\n"
    }
   },
   "source": [
    "**Production**"
   ]
  },
  {
   "cell_type": "markdown",
   "metadata": {
    "pycharm": {
     "name": "#%% md\n"
    }
   },
   "source": [
    "|technology   |STST   |EXP   |\n",
    "|---|---|---|\n",
    "|'electrolysis'   |878   |736   |\n",
    "|'SMR CC'   | 63  | 0.0024  |\n",
    "| 'SMR'  | 1.4   | 0.0026  |"
   ]
  },
  {
   "cell_type": "markdown",
   "metadata": {
    "pycharm": {
     "name": "#%% md\n"
    }
   },
   "source": [
    "**Consumption**"
   ]
  },
  {
   "cell_type": "markdown",
   "metadata": {
    "pycharm": {
     "name": "#%% md\n"
    }
   },
   "source": [
    "|technology   |STST   |EXP   |\n",
    "|---|---|---|\n",
    "|'Sabatier'   |287   |22   |\n",
    "|'Fischer Tropsch'   | 187  | 167  |\n",
    "| 'H2 liquefaction'  |57   | 57  |\n",
    "|  'H2 Fuell Cell' | 1.11  | 0.0052  |"
   ]
  },
  {
   "cell_type": "markdown",
   "metadata": {
    "pycharm": {
     "name": "#%% md\n"
    }
   },
   "source": [
    "## Correlation of Capacity (spatial)"
   ]
  },
  {
   "cell_type": "code",
   "execution_count": null,
   "metadata": {
    "pycharm": {
     "name": "#%%\n"
    }
   },
   "outputs": [],
   "source": [
    "# pretend capacities of Fischer Tropsch and Sabatier are not all at EU\n",
    "df_stst_ons[\"Fischer-Tropsch_cap_con_h2_manual\"] = stst.links[stst.links.carrier == \"Fischer-Tropsch\"].p_nom_opt.values / 1000\n",
    "df_stst_ons[\"Sabatier_cap_con_h2_manual\"] = stst.links[stst.links.carrier == \"Sabatier\"].p_nom_opt.values / 1000\n",
    "df_exp_ons[\"Fischer-Tropsch_cap_con_h2_manual\"] = exp.links[exp.links.carrier == \"Fischer-Tropsch\"].p_nom_opt.values / 1000\n",
    "df_exp_ons[\"Sabatier_cap_con_h2_manual\"] = exp.links[exp.links.carrier == \"Sabatier\"].p_nom_opt.values / 1000\n",
    "\n",
    "# Capacity correlation (spatial)\n",
    "# correlation with all generators, links, su that have production or consumption for heat, el, h2, oil and gas or biom\n",
    "cap_cols = df_stst_ons.columns[df_stst_ons.columns.str.contains(\"cap\")]\n",
    "cap_gen_cols = [c + \"_cap_gen_h2\" for c in c_h2_gen]\n",
    "cap_con_cols = [\"Fischer-Tropsch_cap_con_h2_manual\", \"Sabatier_cap_con_h2_manual\", \"H2 liquefaction_cap_con_h2\"]\n",
    "df_stst_ons[cap_cols].corr().loc[cap_gen_cols + cap_con_cols]"
   ]
  },
  {
   "cell_type": "code",
   "execution_count": null,
   "metadata": {
    "pycharm": {
     "name": "#%%\n"
    }
   },
   "outputs": [],
   "source": [
    "df_stst_ons[cap_cols].corr().loc[\"H2 Fuel Cell_cap_con_h2\"].dropna().sort_values().tail(30)\n",
    "#df_exp_ons[cap_cols].corr().loc[\"H2 liquefaction_cap_con_h2\"].dropna().sort_values().tail(50)"
   ]
  },
  {
   "cell_type": "code",
   "execution_count": null,
   "metadata": {
    "pycharm": {
     "name": "#%%\n"
    }
   },
   "outputs": [],
   "source": [
    "df_stst_ons[\"Fischer-Tropsch_cap_con_h2_manual\"].corr(df_stst_ons[\"Sabatier_cap_con_h2_manual\"])"
   ]
  },
  {
   "cell_type": "markdown",
   "metadata": {
    "pycharm": {
     "name": "#%% md\n"
    }
   },
   "source": [
    "**Findings: correlation of capacities amogn the scenarios**\n",
    "\n",
    "**\"H2 Electrolysis_cap_gen_h2**:\n",
    "STST+neg: high negative correlation with urban central biomass CHP cap con biom (-0.47) and urban central gas CHP cap con gas (-0.34)\n",
    "STST+pos: Fischer-Tropsch_cap_con_h2_manual (0.94), Sabatier_cap_con_h2_manual (0.68), onwind_cap_gen_el (0.67),\n",
    "EXP+neg: urban central gas CHP CC_cap_con_gas (-0.44), H2 Fuel Cell_cap (-0-42), SMR CC_cap (-0.40)\n",
    "EXP+pos: onwind_cap_gen_el (0.76), offwind-dc_cap_gen_el (0.46), solar_cap_gen_el (0.37)\n",
    "\n",
    "**SMR CC**:\n",
    "STST+neg: nope\n",
    "STST+pos: H2 liquefaction (0.72), gas boilder (0.64), gas CHP (0.55), offwind-dc (0.54)\n",
    "\n",
    "**Fischer-Tropsch**\n",
    "STST+neg:\n",
    "STST+pos: electrolysis, onwind, Sabatier (0.55)\n",
    "EXP+neg:\n",
    "EXP+pos: heat pump (0.76), resisitive heater (0.73), gas CHP (0.60)\n",
    "\n",
    "**Sabatier**\n",
    "STST+neg: -\n",
    "STST+pos: onwind (0.72), electrolysis (0.68), Fischer (0.55)\n",
    "EXP+neg: -\n",
    "EXP+pos: -\n",
    "\n",
    "**H2 liquefaction**\n",
    "STST+neg: -\n",
    "STST+pos: SMR CC (0.72), offwind-dc (0.61)\n",
    "EXP+neg: -\n",
    "EXP+pos: gas CHP (0.42)\n",
    "\n",
    "**H2 Fuel Cell**\n",
    "STST+neg: -\n",
    "STST+pos:\n",
    "\n",
    "\n",
    "Interesting and making sense:\n",
    "- H2 Electrolysis and onwind: (no: 0.67; h2: 0.76) -> onshore wind dominantly used for hydrogen production\n",
    "- H2 Electrolysis and solar: (no: 0.32; h2: 0.37) -> solar wind partly used for hydrogen production\n",
    "- H2 Electrolysis and H2 pipeline: 0.66 -> hydrogen production at locations with pipelines\n",
    "- onwind and h2 pipeline. 0.57 -> onwind used for hydrogen production close to h2 pipelines; pipelines are build where a lot of onwind is located\n",
    "- offwind-dc and H2 liquefaction: 0.61 ; 0.35 -> offshore wind used to produced liquefied hydrogen (more present in STST scenario as there is less possibility to transport away the offshore wind power generation)\n",
    "\n",
    "- solar and battery charger: (no: 0.59; h2: 0.54) -> solar used for utility scale battery charging\n",
    "- BEV and solar rooftop: (STST: 0.63 ; EXP: 0.56) -> solar used to charge vehicles\n",
    "- BEV and solar: (STST: 0.53 ; EXP: 0.22) -> solar used to charge vehicles\n",
    "\n",
    "- gas CHP and heat pump / gas boilder / resistive heater : (no: 0.83, 0.72, 0.72 ; h2: 0.71 , 0.7, 0.58) -> all heat sources are at the same location\n",
    "- gas CHP and biomass CHP / biomas CHP CC: 0.67 / 0.67 ; 0.44 / 0.3 -> all heat sources are at the same location\n",
    "- gas CHP and water tanks charger: 0.66 ; 0.53 -> heat used for charging thermal storage\n",
    "- water tanks charger and heat pump / gas boiler / resisitive heater: 0.68 / 0.65 / 0.67 ; 0.73/ 0.72 / 0.65 -> heat used for charging thermal storage\n",
    "\n",
    "Not making sense or not interesting?:\n",
    "- biomas CHP and water tanks charger / discharger; (no: 0.007/ 0.048 ; h2: 0.59, 0.55) -> Why no correlation in STST case?\n",
    "- biomass CHP and home battery charger: -0.52 ; -0.23\n",
    "- gas CHP CC and home battery charger: -0.65 ; -0.7\n",
    "- H2 Electrolysis and water tanks charger / water tanks discharger: ( no: 0.39 / 0.44 ; -0.12 / < abs(0.1)) -> rather random?\n",
    "\n",
    "Not interesting and making sense:\n",
    "- solar and solar rooftop (0.5 ; 0.47)\n",
    "- solar thermal and solar: 0.56 ; 0.41\n",
    "\n",
    "Not interesting and not making sense:\n",
    "- H2 Fuel cell and home battery charger / home battery discharger: (no: -0.032; h2: -0.69) not very relevant as there is almost no capacity of fuel cell\n",
    "- SMR CC and H2 liquefaction: (no: 0.72; h2: -0.16) strong correlation with SMR CC and H2 liquefaction in STST scenario; small correlation in EXP scenario random due to little capacity of SMR CC\n",
    "- H2 Fuel Cell and biomass CHP / biomass CHP CC: (no: 0.032 / <0.01 ; ) H2 Fuel Cell has no relevance"
   ]
  },
  {
   "cell_type": "markdown",
   "metadata": {
    "pycharm": {
     "name": "#%% md\n"
    }
   },
   "source": []
  },
  {
   "cell_type": "markdown",
   "metadata": {
    "pycharm": {
     "name": "#%% md\n"
    }
   },
   "source": [
    "## Production and Consumption"
   ]
  },
  {
   "cell_type": "code",
   "execution_count": null,
   "metadata": {
    "pycharm": {
     "name": "#%%\n"
    }
   },
   "outputs": [],
   "source": [
    "fig, axs = plt.subplots(nrows=2, ncols=2, figsize=(15, 11))\n",
    "\n",
    "for n in [stst, exp]:\n",
    "\n",
    "    carrier = [\"H2\"]\n",
    "    nb = nodal_balance(n, carrier=carrier, time=\"2013\", aggregate=['component', 'bus'], energy=True)\n",
    "    # convert from MW to GW\n",
    "    nb = nb.unstack(level=[1]) / 1e3\n",
    "\n",
    "    nb_pos = nb.sum()[nb.sum() > 0].sort_values(ascending=False)\n",
    "    # exclude all shares smaller than 1 %\n",
    "    nb_pos = nb_pos[(nb_pos / nb_pos.sum()) > 0.01]\n",
    "\n",
    "    nb_neg = abs(nb.sum()[nb.sum() < 0]).sort_values(ascending=False)\n",
    "    # exclude all shares smaller than 1 %\n",
    "    nb_neg = nb_neg[(nb_neg / nb_neg.sum()) > 0.01]\n",
    "\n",
    "    if n==stst:\n",
    "        ax_gen=axs[0, 0]\n",
    "        ax_con=axs[0, 1]\n",
    "        title_gen=f\"Hydrogen production (STST)\"\n",
    "        title_con=f\"Hydrogen consumption (STST)\"\n",
    "\n",
    "    elif n==exp:\n",
    "        ax_gen=axs[1, 0]\n",
    "        ax_con=axs[1, 1]\n",
    "        title_gen=f\"Hydrogen production (EXP)\"\n",
    "        title_con=f\"Hydrogen consumption (EXP)\"\n",
    "\n",
    "    # production\n",
    "    c = [carrier_colors[col] for col in nb_pos.index]\n",
    "    percents = nb_pos.to_numpy() * 100 / nb_pos.to_numpy().sum()\n",
    "    labels = ['%s (%1.1f %%)' % (l, s) for l, s in zip(nb_pos.index, percents)]\n",
    "\n",
    "    patches, texts = ax_gen.pie(nb_pos, colors=c, startangle=0, labels=labels)\n",
    "    ax_gen.axis('equal')\n",
    "    ax_gen.set_title(title_gen, pad=20, fontweight=\"bold\")\n",
    "\n",
    "    # consumption\n",
    "    c = [carrier_colors[col] for col in nb_neg.index]\n",
    "    percents = nb_neg.to_numpy() * 100 / nb_neg.to_numpy().sum()\n",
    "    labels = ['%s (%1.1f %%)' % (l, s) for l, s in zip(nb_neg.index, percents)]\n",
    "\n",
    "    patches, texts = ax_con.pie(nb_neg, colors=c, startangle=0, labels=labels)\n",
    "    ax_con.axis('equal')\n",
    "\n",
    "    ax_con.set_title(title_con, pad=20, fontweight=\"bold\")\n",
    "\n",
    "fig.tight_layout(pad=2)\n",
    "plt.show()\n",
    "\n",
    "fig.savefig(f\"{PLOT_DIR}/gen_con_h2.png\")"
   ]
  },
  {
   "cell_type": "code",
   "execution_count": null,
   "outputs": [],
   "source": [
    "nb"
   ],
   "metadata": {
    "collapsed": false,
    "pycharm": {
     "name": "#%%\n"
    }
   }
  },
  {
   "cell_type": "code",
   "execution_count": null,
   "metadata": {
    "pycharm": {
     "name": "#%%\n"
    }
   },
   "outputs": [],
   "source": [
    "# where is H2 for shipping?\n",
    "# This is exaclty the amount that goes into the H2 liquefaction"
   ]
  },
  {
   "cell_type": "code",
   "execution_count": null,
   "metadata": {
    "pycharm": {
     "name": "#%%\n"
    }
   },
   "outputs": [],
   "source": [
    "#df_stst_ons[\"H2 liquefaction_con_h2\"].sum() /1e3\n",
    "df_exp_ons[\"H2 liquefaction_con_h2\"].sum() /1e3"
   ]
  },
  {
   "cell_type": "code",
   "execution_count": null,
   "metadata": {
    "pycharm": {
     "name": "#%%\n"
    }
   },
   "outputs": [],
   "source": [
    "df_stst_ons[\"H2 liquefaction_gen_h2\"].sum() /1e3\n",
    "df_exp_ons[\"H2 liquefaction_gen_h2\"].sum() /1e3"
   ]
  },
  {
   "cell_type": "code",
   "execution_count": null,
   "metadata": {
    "pycharm": {
     "name": "#%%\n"
    }
   },
   "outputs": [],
   "source": [
    "# overall production\n",
    "\n",
    "model = \"STST\"\n",
    "\n",
    "if model == \"STST\":\n",
    "    n = stst\n",
    "    index = c_h2_gen\n",
    "\n",
    "elif model == \"EXP\":\n",
    "    n = exp\n",
    "    index = [\"H2 Electrolysis\"]\n",
    "\n",
    "carrier = [\"H2\"]\n",
    "nb = nodal_balance(n, carrier=carrier, time=\"2013\", aggregate=['component', 'bus'], energy=True)\n",
    "# convert from MWh to GWh\n",
    "nb = nb.unstack(level=[1]) / 1000\n",
    "# condense condense_groups\n",
    "nb = get_condense_sum(nb, c1_groups, c1_groups_name)\n",
    "# rename unhandy column names\n",
    "nb.rename(columns=carrier_renaming, inplace=True)\n",
    "\n",
    "nb[nb > 0].sum()[index].sum() / 1e3\n",
    "# STST: 3102 TWh\n",
    "# EXP: 2420 TWh\n",
    "\n",
    "# H2 is only the bus, so it has to be exluded when calculating the production / consumption (it is 0 in total)\n",
    "# is this the amount of hydrogen that is going through the pipeline?"
   ]
  },
  {
   "cell_type": "code",
   "execution_count": null,
   "metadata": {
    "pycharm": {
     "name": "#%%\n"
    }
   },
   "outputs": [],
   "source": [
    "nb[nb > 0].sum()[index] / 1e3"
   ]
  },
  {
   "cell_type": "code",
   "execution_count": null,
   "metadata": {
    "pycharm": {
     "name": "#%%\n"
    }
   },
   "outputs": [],
   "source": [
    "df_stst_ons[[c + \"_gen_h2\" for c in c_h2_gen]].sum()"
   ]
  },
  {
   "cell_type": "code",
   "execution_count": null,
   "metadata": {
    "pycharm": {
     "name": "#%%\n"
    }
   },
   "outputs": [],
   "source": [
    "# production\n",
    "df_stst_ons[[c + \"_gen_h2\" for c in c_h2_gen]].sum().sum() /1e3\n",
    "df_exp_ons[[c + \"_gen_h2\" for c in c_h2_gen]].sum().sum() /1e3\n",
    "\n",
    "# STST: 3102 TWh\n",
    "# EXP: 2420 TWh"
   ]
  },
  {
   "cell_type": "code",
   "execution_count": null,
   "metadata": {
    "pycharm": {
     "name": "#%%\n"
    }
   },
   "outputs": [],
   "source": [
    "df_stst_ons[[c + \"_gen_h2\" for c in c_h2_gen]].sum() /1e3"
   ]
  },
  {
   "cell_type": "code",
   "execution_count": null,
   "metadata": {
    "pycharm": {
     "name": "#%%\n"
    }
   },
   "outputs": [],
   "source": [
    "df_exp_ons[[c + \"_gen_h2\" for c in c_h2_gen]].sum() /1e3"
   ]
  },
  {
   "cell_type": "code",
   "execution_count": null,
   "metadata": {
    "pycharm": {
     "name": "#%%\n"
    }
   },
   "outputs": [],
   "source": [
    "df_stst_ons[[c + \"_gen_h2\" for c in c_h2_gen]].sum()[\"SMR_gen_h2\"]# / df_stst_ons[[c + \"_gen_h2\" for c in c_h2_gen]].sum().sum()"
   ]
  },
  {
   "cell_type": "code",
   "execution_count": null,
   "metadata": {
    "pycharm": {
     "name": "#%%\n"
    }
   },
   "outputs": [],
   "source": [
    "# consumption\n",
    "df_stst_ons[[c + \"_con_h2\" for c in c_h2_con]].sum().sum() /1e3\n",
    "df_exp_ons[[c + \"_con_h2\" for c in c_h2_con]].sum().sum() /1e3\n",
    "\n",
    "# STST: 2631 TWh\n",
    "# EXP: 1949 TWh"
   ]
  },
  {
   "cell_type": "code",
   "execution_count": null,
   "metadata": {
    "pycharm": {
     "name": "#%%\n"
    }
   },
   "outputs": [],
   "source": [
    "df_stst_ons[[c + \"_con_h2\" for c in c_h2_con]].sum() /1e3"
   ]
  },
  {
   "cell_type": "markdown",
   "metadata": {
    "pycharm": {
     "name": "#%% md\n"
    }
   },
   "source": [
    "## Production and Consumption correlation (spatial & temporal)"
   ]
  },
  {
   "cell_type": "code",
   "execution_count": null,
   "metadata": {
    "pycharm": {
     "name": "#%%\n"
    }
   },
   "outputs": [],
   "source": [
    "index = [c + \"_gen_el\" for c in c_el_gen_s] + [c + \"_con_el\" for c in c_el_con_s] + [c + \"_gen_h2\" for c in c_h2_gen] + [c + \"_con_h2\" for c in c_h2_con]\n",
    "cols = [carrier_renaming.get(n, n) for n in c_el_gen_s] + [carrier_renaming.get(n, n) + \" (con)\" for n in c_el_con_s] + [carrier_renaming.get(n, n) for n in c_h2_gen] + [carrier_renaming.get(n, n) + \" (con)\" for n in c_h2_con]"
   ]
  },
  {
   "cell_type": "code",
   "execution_count": null,
   "metadata": {
    "pycharm": {
     "name": "#%%\n"
    }
   },
   "outputs": [],
   "source": [
    "# Spatial correlation of gen STST and EXP\n",
    "# correlation of the whole production and consumption aggregated for all locations\n",
    "\n",
    "fig, axs = plt.subplots(ncols=2, figsize=(22, 8))\n",
    "\n",
    "for i, df, ax in zip([0,1], [df_stst_ons, df_exp_ons], axs):\n",
    "    corr = df[index].corr()\n",
    "    corr.index = cols\n",
    "    corr.columns = cols\n",
    "\n",
    "    mask = np.triu(np.ones_like(corr, dtype=bool))\n",
    "\n",
    "    sns.heatmap(corr[abs(corr) > 0.4], mask=mask, cmap=\"magma_r\", annot=True, ax=ax)\n",
    "    ax.set_title('STST' if i == 0 else 'EXP')\n",
    "\n",
    "fig.tight_layout(pad=1.5)\n",
    "#plt.close()\n",
    "plt.show()\n",
    "\n",
    "#fig.savefig(f\"{PLOT_DIR}01_general/4.1_system_overview/el_gen_con_spatial_corr.png\")"
   ]
  },
  {
   "cell_type": "code",
   "execution_count": null,
   "metadata": {
    "pycharm": {
     "name": "#%%\n"
    }
   },
   "outputs": [],
   "source": [
    "df_stst_ts"
   ]
  },
  {
   "cell_type": "code",
   "execution_count": null,
   "metadata": {
    "pycharm": {
     "name": "#%%\n"
    }
   },
   "outputs": [],
   "source": [
    "# temporal correlation of gen STST and EXP (1)\n",
    "# correlation of the production / consumption per time step aggregated over the locations\n",
    "\n",
    "fig, axs = plt.subplots(ncols=2, figsize=(22, 8))\n",
    "\n",
    "for i, df, ax in zip([0,1], [df_stst_ts, df_exp_ts], axs):\n",
    "    corr = df[index].corr()\n",
    "    corr.index = cols\n",
    "    corr.columns = cols\n",
    "\n",
    "    mask = np.triu(np.ones_like(corr, dtype=bool))\n",
    "\n",
    "    sns.heatmap(corr[abs(corr) > 0.4], mask=mask, cmap=\"magma_r\", annot=True, ax=ax)\n",
    "    ax.set_title('STST' if i == 0 else 'EXP')\n",
    "\n",
    "\n",
    "fig.tight_layout(pad=1.5)\n",
    "#plt.close()\n",
    "plt.show()\n",
    "\n",
    "#fig.savefig(f\"{PLOT_DIR}01_general/4.1_system_overview/el_gen_con_temporal_corr.png\")"
   ]
  },
  {
   "cell_type": "code",
   "execution_count": null,
   "metadata": {
    "pycharm": {
     "name": "#%%\n"
    }
   },
   "outputs": [],
   "source": [
    "# thesis plot\n",
    "# Spatial and temporal correlation of gen STST and EXP\n",
    "\n",
    "fig, axs = plt.subplots(nrows=2, ncols=2, figsize=(22, 18))\n",
    "\n",
    "for title, df, ax in zip([\"STST (spatial)\", \"EXP (spatial)\", \"STST (temporal)\", \"EXP (temporal)\"], [df_stst_ons, df_exp_ons, df_stst_ts, df_exp_ts], axs.reshape(-1)):\n",
    "    corr = df[index].corr()\n",
    "    corr.index = cols\n",
    "    corr.columns = cols\n",
    "\n",
    "    mask = np.triu(np.ones_like(corr, dtype=bool))\n",
    "\n",
    "    sns.heatmap(corr[abs(corr) > 0.4], mask=mask, cmap=\"magma_r\", annot=True, ax=ax)\n",
    "    ax.hlines(len(index) - 7, 0, len(index), colors=\"red\", ls=\":\")\n",
    "    ax.xaxis.set_tick_params(labelsize=14)\n",
    "    ax.yaxis.set_tick_params(labelsize=14)\n",
    "    ax.set_title(title, fontsize=23, **font1)\n",
    "\n",
    "fig.tight_layout(pad=1)\n",
    "#plt.close()\n",
    "plt.show()\n",
    "\n",
    "fig.savefig(f\"{PLOT_DIR}/h2_gen_con_spatial_temporal_corr.png\")"
   ]
  },
  {
   "cell_type": "markdown",
   "metadata": {
    "pycharm": {
     "name": "#%% md\n"
    }
   },
   "source": []
  },
  {
   "cell_type": "markdown",
   "metadata": {
    "pycharm": {
     "name": "#%% md\n"
    }
   },
   "source": []
  }
 ],
 "metadata": {
  "kernelspec": {
   "display_name": "Python 3 (ipykernel)",
   "language": "python",
   "name": "python3"
  },
  "language_info": {
   "codemirror_mode": {
    "name": "ipython",
    "version": 3
   },
   "file_extension": ".py",
   "mimetype": "text/x-python",
   "name": "python",
   "nbconvert_exporter": "python",
   "pygments_lexer": "ipython3",
   "version": "3.10.6"
  }
 },
 "nbformat": 4,
 "nbformat_minor": 1
}