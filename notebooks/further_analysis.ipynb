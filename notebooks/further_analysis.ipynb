{
 "cells": [
  {
   "cell_type": "code",
   "execution_count": null,
   "outputs": [],
   "source": [
    "# Further analysis of decoupled questions"
   ],
   "metadata": {
    "collapsed": false,
    "pycharm": {
     "name": "#%%\n"
    }
   }
  },
  {
   "cell_type": "markdown",
   "source": [
    "**Questions to be answered:**\n",
    "- 4.1: Why less electrolysis capacity in EXP? shouldn't this have more as the strategy is wind > hydrogen and it has more wind?)\n",
    "- 4.2: What is interesting is, that electrolysis which is an adjustable technology is also still producing at these high prices. (special case), Why is electrolysis producing the whole year?\n",
    "- 4.2: Why are the capacity factors exactly the same for some regions (hydro in Norway?)\n",
    "- 4.2: How is it that V2G has only so low generation when they discharge by 0.2 and have a max capacity of 200 times the one as the battery??? Is this plot over-representing V2G? Fig. 4.19\n",
    "- 4.2: Reasons why some regions do not need peak plants at all: Iberian Peninsula: warm winters and therefore no need for CHP plants, British islands: enough wind power? but they have OCGT, scandinavia: enough hydro power?}\n",
    "- 4.3: This effect is also present in the correlation of market values and generation which is -0.37 in the STST case and -0.08 in the EXP case. More transmission reduces the locality of market values and reduces the impact of the location of the generation on the market values. This leads to a smaller range and therefore a more evenly distribution.\n",
    "- 5.1: Why no SMR CC in EXP? Why much more Sabatier in STST?} Weil stst methan aus sabatier im gas netz transportiert und somit die netzrestriktionen reduziert. Es kommt vor, dass methan produziert wird dann woanders hingepiped und dann wieder verbrannt wird. -> zeige, dass methane in GB produziert und woanders genutzt wird? Also ins Gasnetz eingespeist wird.\n",
    "- 5.1: (How is it possible that electrolysis is temporally negative correlated with PHS and PHS (con)? )\n",
    "- 5.2: Capacity factors: Fig. 5.8. Why are the values for Sweden and Norway so high in STST? Why is the generation weighted capacity factor in STST and EXP the same?? How is teh difference in capacity factors in the major producing regions? Maybe the capacity factors are less for EXP there because the capacity is higher there?\n",
    "- 5.2: (What is all the additional methane in STST used for?)\n",
    "- 5.2: Relationship of capacity factors and VRE generation: Frischmuth adn Härtel find a positive correlation. I find a negative correlation. Does that make sense?\n",
    "- 5.2: Make hydrogen storage flow analysis again!\n",
    "- 5.3: Distribution of congestion rent? Reasons behind?"
   ],
   "metadata": {
    "collapsed": false,
    "pycharm": {
     "name": "#%% md\n"
    }
   }
  },
  {
   "cell_type": "markdown",
   "source": [
    "## Imports"
   ],
   "metadata": {
    "collapsed": false,
    "pycharm": {
     "name": "#%% md\n"
    }
   }
  },
  {
   "cell_type": "code",
   "execution_count": null,
   "outputs": [],
   "source": [
    "import pandas as pd\n",
    "import geopandas as gpd\n",
    "import numpy as np\n",
    "import pypsa\n",
    "import math\n",
    "import seaborn as sns\n",
    "import cartopy\n",
    "import cartopy.crs as ccrs\n",
    "import matplotlib\n",
    "import matplotlib.colors as mcolors\n",
    "import matplotlib.pyplot as plt\n",
    "import warnings\n",
    "\n",
    "warnings.filterwarnings(\"ignore\")\n",
    "from shapely.geometry import Point, LineString\n",
    "import matplotlib.patheffects as pe\n",
    "import matplotlib.colors as mcolors\n",
    "from matplotlib.lines import Line2D\n",
    "from datetime import date, datetime, time, timedelta\n",
    "\n",
    "# imported own functions\n",
    "from utils import generation_links_bus, congestion_rent_link\n",
    "\n",
    "# imported own definitions\n",
    "from utils import carrier_colors, carrier_renaming, carrier_renaming_reverse, c_tags\n",
    "from utils import resistive_heater, gas_boiler, heat_pump,water_tanks_charger, water_tanks_discharger, solar_thermal\n",
    "from utils import c_el_gen_s, c_el_con_s, c_h2_gen, c_h2_con\n",
    "from utils import convert_ISO_3166_2_to_1\n",
    "\n",
    "# general variables\n",
    "font1 = {'fontname': 'Calibri'}\n",
    "PLOT_DIR = 'C:/Users/Julian/Studies/Master/01 TU Berlin/3. Semester - Masterarbeit/MA Marktwerte FEE/data/plots/01_general/5.3_hydrogen_mv'\n",
    "onshore_regions = gpd.read_file(\"../data/external/regions_onshore_elec_s_181.geojson\")\n",
    "offshore_regions = gpd.read_file(\"../data/external/regions_offshore_elec_s_181.geojson\")\n",
    "onshore_regions = onshore_regions.set_index('name')\n",
    "offshore_regions = offshore_regions.set_index('name')\n",
    "\n",
    "# Notebook Definitions\n",
    "c1_groups = [resistive_heater, gas_boiler, heat_pump, water_tanks_charger, water_tanks_discharger, solar_thermal]\n",
    "c1_groups_name = [\"resistive heater\", \"gas boiler\", \"heat pump\", \"water tanks charger\", \"water tanks discharger\",\n",
    "                  \"solar thermal\"]\n",
    "markers = [\"v\", \"^\", \"<\", \">\", \"1\", \"2\", \"3\", \"4\", \"*\", \"+\", \"d\", \"o\", \"|\", \"s\", \"P\", \"p\", \"h\"]\n",
    "\n",
    "# new indices: cut off Fuel cell and SMR completely and SMR CC for exp\n",
    "c_h2_gen_stst = ['H2 Electrolysis', 'SMR CC']\n",
    "c_h2_gen_exp = ['H2 Electrolysis']\n",
    "c_h2_gen = ['H2 Electrolysis', 'SMR CC']\n",
    "c_h2_con = ['H2 liquefaction', 'Sabatier', 'Fischer-Tropsch']"
   ],
   "metadata": {
    "collapsed": false,
    "pycharm": {
     "name": "#%%\n"
    }
   }
  },
  {
   "cell_type": "code",
   "execution_count": null,
   "outputs": [],
   "source": [
    "# Network imports\n",
    "stst = pypsa.Network(\"../data/raw/elec_s_181_lv1.0__Co2L0-3H-T-H-B-I-A-solar+p3-linemaxext10-noH2network_2030.nc\")\n",
    "exp = pypsa.Network(\"../data/raw/elec_s_181_lvopt__Co2L0-3H-T-H-B-I-A-solar+p3-linemaxext10_2030.nc\")"
   ],
   "metadata": {
    "collapsed": false,
    "pycharm": {
     "name": "#%%\n"
    }
   }
  },
  {
   "cell_type": "code",
   "execution_count": null,
   "outputs": [],
   "source": [
    "# stst and exp dataframes\n",
    "# spatial\n",
    "df_stst_ons = pd.read_pickle(\"../data/processed/df_stst_ons.pkl\")\n",
    "df_stst_off = pd.read_pickle(\"../data/processed/df_stst_off.pkl\")\n",
    "df_exp_ons = pd.read_pickle(\"../data/processed/df_exp_ons.pkl\")\n",
    "df_exp_off = pd.read_pickle(\"../data/processed/df_exp_off.pkl\")\n",
    "\n",
    "# temporal\n",
    "df_stst_ts = pd.read_pickle(\"../data/processed/df_stst_ts.pkl\")\n",
    "df_exp_ts = pd.read_pickle(\"../data/processed/df_exp_ts.pkl\")"
   ],
   "metadata": {
    "collapsed": false,
    "pycharm": {
     "name": "#%%\n"
    }
   }
  },
  {
   "cell_type": "code",
   "execution_count": null,
   "outputs": [],
   "source": [
    "# Notebook Functions\n",
    "\n"
   ],
   "metadata": {
    "collapsed": false,
    "pycharm": {
     "name": "#%%\n"
    }
   }
  },
  {
   "cell_type": "code",
   "execution_count": null,
   "outputs": [],
   "source": [
    "#assert 0"
   ],
   "metadata": {
    "collapsed": false,
    "pycharm": {
     "name": "#%%\n"
    }
   }
  },
  {
   "cell_type": "markdown",
   "source": [
    "## shadow prices"
   ],
   "metadata": {
    "collapsed": false,
    "pycharm": {
     "name": "#%% md\n"
    }
   }
  },
  {
   "cell_type": "code",
   "execution_count": null,
   "outputs": [],
   "source": [
    "stst.generators_t.mu_upper.loc[: , stst.generators.carrier == \"onwind\"]\n",
    "#stst.links_t.mu_upper.loc[: , stst.links.carrier == \"H2 Electrolysis\"]"
   ],
   "metadata": {
    "collapsed": false,
    "pycharm": {
     "name": "#%%\n"
    }
   }
  },
  {
   "cell_type": "code",
   "execution_count": null,
   "outputs": [],
   "source": [
    "carriers = [\"onwind\", \"ror\", \"solar\", \"solar rooftop\", \"offwind-dc\", \"offwind-ac\", \"hydro\", \"battery discharger\",  \"V2G\", \"PHS\" , \"urban central gas CHP\", \"urban central solid biomass CHP CC\"]\n",
    "\n",
    "fig, axs = plt.subplots(ncols=1, nrows=2, figsize=(10, 2*8))\n",
    "\n",
    "for n, ax, model in zip([stst,exp], axs.reshape(-1), [\"STST\", \"EXP\"]):\n",
    "\n",
    "    for c in carriers:\n",
    "        if c in n.generators.carrier.unique():\n",
    "            c_bus = n.generators[n.generators.carrier == c].bus.map(n.buses.carrier).unique()[0]\n",
    "            gen = n.generators_t.p.loc[: , n.generators.carrier == c]\n",
    "            mu_up = n.generators_t.mu_upper.loc[:, gen.columns]\n",
    "            df = pd.concat([pd.DataFrame(mu_up.values.flatten()) , pd.DataFrame(gen.values.flatten())], axis=1)\n",
    "\n",
    "        elif c in n.links.carrier.unique():\n",
    "            c_bus = n.links[n.links.carrier == c][\"bus1\"].map(n.buses.carrier).unique()[0]\n",
    "            gen = n.links_t.p1.loc[: , n.links.carrier == c]\n",
    "            mu_up = n.links_t.mu_upper.loc[:, gen.columns]\n",
    "            df = pd.concat([pd.DataFrame(mu_up.values.flatten()) , pd.DataFrame(gen.values.flatten())], axis=1)\n",
    "\n",
    "        elif c in n.storage_units.carrier.unique():\n",
    "            c_bus = n.storage_units[n.storage_units.carrier == c].bus.map(n.buses.carrier).unique()[0]\n",
    "            gen = n.storage_units_t.p_dispatch.loc[: , n.storage_units.carrier == c]\n",
    "            mu_up = n.storage_units_t.mu_upper.loc[:, gen.columns]\n",
    "            df = pd.concat([pd.DataFrame(mu_up.values.flatten()) , pd.DataFrame(gen.values.flatten())], axis=1)\n",
    "\n",
    "        df.columns = [\"mu_up\" , \"gen\"]\n",
    "        df = df.sort_values(by=\"mu_up\")\n",
    "        df[\"gen_cumsum\"] = df[\"gen\"].cumsum()\n",
    "        df[\"gen_cumsum_norm\"] = df[\"gen\"].cumsum() / df[\"gen\"].sum()\n",
    "        ax.plot(df[\"gen_cumsum_norm\"], df[\"mu_up\"], color=carrier_colors[c], label= f\"{c.replace('urban central', '').replace('solid', '')} ({c_bus})\",\n",
    "                marker=markers[carriers.index(c)], markevery=2920*40)\n",
    "        ax.set_ylim([-50, 1000])\n",
    "        ax.set_ylabel(\"Shadow price of upper p_nom limit [$€/MWh_{el}$]\")\n",
    "        ax.set_xlabel(\"Fraction of total generation\")\n",
    "        ax.set_facecolor(\"whitesmoke\")\n",
    "        ax.set_title(f\"Electricity generating technologies ({model})\", fontsize=16, **font1)\n",
    "        ax.legend()\n",
    "\n",
    "fig.tight_layout(pad=3)\n",
    "plt.show()\n",
    "\n",
    "# fig.savefig(f\"{PLOT_DIR}/el_gen_w_mu_up_within_models.png\")\n",
    "\n",
    "# why is mu_upper negative for storage units?"
   ],
   "metadata": {
    "collapsed": false,
    "pycharm": {
     "name": "#%%\n"
    }
   }
  },
  {
   "cell_type": "markdown",
   "source": [
    "## regions plot"
   ],
   "metadata": {
    "collapsed": false,
    "pycharm": {
     "name": "#%% md\n"
    }
   }
  },
  {
   "cell_type": "code",
   "execution_count": null,
   "outputs": [],
   "source": [
    "fig, ax = plt.subplots(1, 1, subplot_kw={'projection': ccrs.EqualEarth()},\n",
    "                        figsize=(7, 6))\n",
    "crs = ccrs.EqualEarth()\n",
    "\n",
    "\n",
    "ax.add_feature(cartopy.feature.BORDERS, edgecolor='black', linewidth=0.5)\n",
    "ax.coastlines(edgecolor='black', linewidth=0.5)\n",
    "ax.set_facecolor('white')\n",
    "ax.add_feature(cartopy.feature.OCEAN, color='azure')\n",
    "\n",
    "df_stst_ons.to_crs(crs.proj4_init).plot(ax=ax,\n",
    "                                        linewidth=0.3,\n",
    "                                        facecolor=\"bisque\",\n",
    "                                        edgecolor = 'grey')\n",
    "\n",
    "df_stst_off.to_crs(crs.proj4_init).plot(ax=ax,\n",
    "                                        linewidth=0.3,\n",
    "                                        facecolor=\"lavender\",\n",
    "                                        edgecolor = 'grey')\n",
    "\n",
    "\n",
    "# always select same section\n",
    "xmin, ymin, xmax, ymax = df_stst_off.to_crs(crs.proj4_init).total_bounds\n",
    "pad = 1 * 1e5  # add a padding around the geometry\n",
    "ax.set_xlim(xmin-pad, xmax+pad)\n",
    "ax.set_ylim(ymin-pad, ymax+pad)\n",
    "\n",
    "plt.show()\n",
    "\n",
    "fig.savefig(f\"C:/Users/Julian/Studies/Master/01 TU Berlin/3. Semester - Masterarbeit/MA Marktwerte FEE/data/plots/01_general/regions.png\")"
   ],
   "metadata": {
    "collapsed": false,
    "pycharm": {
     "name": "#%%\n"
    }
   }
  }
 ],
 "metadata": {
  "kernelspec": {
   "display_name": "Python 3",
   "language": "python",
   "name": "python3"
  },
  "language_info": {
   "codemirror_mode": {
    "name": "ipython",
    "version": 2
   },
   "file_extension": ".py",
   "mimetype": "text/x-python",
   "name": "python",
   "nbconvert_exporter": "python",
   "pygments_lexer": "ipython2",
   "version": "2.7.6"
  }
 },
 "nbformat": 4,
 "nbformat_minor": 0
}