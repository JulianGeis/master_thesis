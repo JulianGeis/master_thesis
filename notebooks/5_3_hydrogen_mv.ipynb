{
 "cells": [
  {
   "cell_type": "code",
   "execution_count": null,
   "metadata": {
    "pycharm": {
     "name": "#%%\n"
    }
   },
   "outputs": [],
   "source": [
    "# Plots for section 5.3 (hydrogen mv)"
   ]
  },
  {
   "cell_type": "markdown",
   "metadata": {
    "pycharm": {
     "name": "#%% md\n"
    }
   },
   "source": [
    "## Imports"
   ]
  },
  {
   "cell_type": "code",
   "execution_count": null,
   "metadata": {
    "pycharm": {
     "name": "#%%\n"
    }
   },
   "outputs": [],
   "source": [
    "import pandas as pd\n",
    "import geopandas as gpd\n",
    "import numpy as np\n",
    "import pypsa\n",
    "import math\n",
    "import seaborn as sns\n",
    "import cartopy\n",
    "import cartopy.crs as ccrs\n",
    "import matplotlib\n",
    "import matplotlib.colors as mcolors\n",
    "import matplotlib.pyplot as plt\n",
    "import warnings\n",
    "\n",
    "warnings.filterwarnings(\"ignore\")\n",
    "from shapely.geometry import Point, LineString\n",
    "import matplotlib.patheffects as pe\n",
    "import matplotlib.colors as mcolors\n",
    "from matplotlib.lines import Line2D\n",
    "from datetime import date, datetime, time, timedelta\n",
    "import matplotlib.ticker as mtick\n",
    "\n",
    "# imported own functions\n",
    "from utils import generation_links_bus, congestion_rent_link, nodal_balance\n",
    "\n",
    "# imported own definitions\n",
    "from utils import carrier_colors, carrier_renaming, carrier_renaming_reverse, c_tags\n",
    "from utils import resistive_heater, gas_boiler, heat_pump,water_tanks_charger, water_tanks_discharger, solar_thermal\n",
    "from utils import c_el_gen_s, c_el_con_s, c_h2_gen, c_h2_con\n",
    "from utils import convert_ISO_3166_2_to_1\n",
    "\n",
    "# general variables\n",
    "font1 = {'fontname': 'Calibri'}\n",
    "PLOT_DIR = 'C:/Users/Julian/Studies/Master/01 TU Berlin/3. Semester - Masterarbeit/MA Marktwerte FEE/data/plots/01_general/5.3_hydrogen_mv'\n",
    "onshore_regions = gpd.read_file(\"../data/external/regions_onshore_elec_s_181.geojson\")\n",
    "offshore_regions = gpd.read_file(\"../data/external/regions_offshore_elec_s_181.geojson\")\n",
    "onshore_regions = onshore_regions.set_index('name')\n",
    "offshore_regions = offshore_regions.set_index('name')\n",
    "\n",
    "# Notebook Definitions\n",
    "c1_groups = [resistive_heater, gas_boiler, heat_pump, water_tanks_charger, water_tanks_discharger, solar_thermal]\n",
    "c1_groups_name = [\"resistive heater\", \"gas boiler\", \"heat pump\", \"water tanks charger\", \"water tanks discharger\",\n",
    "                  \"solar thermal\"]\n",
    "markers = [\"v\", \"^\", \"<\", \">\", \"1\", \"2\", \"3\", \"4\", \"*\", \"+\", \"d\", \"o\", \"|\", \"s\", \"P\", \"p\", \"h\"]\n",
    "# figsizes\n",
    "s_w = 15\n",
    "s_h = 6\n",
    "s_shrink = 0.9\n",
    "t_f_w = 15\n",
    "t_f_h = 6\n",
    "\n",
    "# new indices: cut off Fuel cell and SMR completely and SMR CC for exp\n",
    "c_h2_gen_stst = ['H2 Electrolysis', 'SMR CC']\n",
    "c_h2_gen_exp = ['H2 Electrolysis']\n",
    "c_h2_gen = ['H2 Electrolysis', 'SMR CC']\n",
    "c_h2_con = ['H2 liquefaction', 'Sabatier', 'Fischer-Tropsch']"
   ]
  },
  {
   "cell_type": "code",
   "execution_count": null,
   "metadata": {
    "pycharm": {
     "name": "#%%\n"
    }
   },
   "outputs": [],
   "source": [
    "# Network imports\n",
    "stst = pypsa.Network(\"../data/raw/elec_s_181_lv1.0__Co2L0-3H-T-H-B-I-A-solar+p3-linemaxext10-noH2network_2030.nc\")\n",
    "exp = pypsa.Network(\"../data/raw/elec_s_181_lvopt__Co2L0-3H-T-H-B-I-A-solar+p3-linemaxext10_2030.nc\")"
   ]
  },
  {
   "cell_type": "code",
   "execution_count": null,
   "metadata": {
    "pycharm": {
     "name": "#%%\n"
    }
   },
   "outputs": [],
   "source": [
    "# stst and exp dataframes\n",
    "# spatial\n",
    "df_stst_ons = pd.read_pickle(\"../data/processed/df_stst_ons.pkl\")\n",
    "df_stst_off = pd.read_pickle(\"../data/processed/df_stst_off.pkl\")\n",
    "df_exp_ons = pd.read_pickle(\"../data/processed/df_exp_ons.pkl\")\n",
    "df_exp_off = pd.read_pickle(\"../data/processed/df_exp_off.pkl\")\n",
    "\n",
    "# temporal\n",
    "df_stst_ts = pd.read_pickle(\"../data/processed/df_stst_ts.pkl\")\n",
    "df_exp_ts = pd.read_pickle(\"../data/processed/df_exp_ts.pkl\")"
   ]
  },
  {
   "cell_type": "code",
   "execution_count": null,
   "metadata": {
    "pycharm": {
     "name": "#%%\n"
    }
   },
   "outputs": [],
   "source": [
    "# Notebook Functions\n",
    "\n",
    "def gini(x):\n",
    "    # (Warning: This is a concise implementation, but it is O(n**2)\n",
    "    # in time and memory, where n = len(x).  *Don't* pass in huge\n",
    "    # samples!)\n",
    "\n",
    "    # Mean absolute difference\n",
    "    mad = np.abs(np.subtract.outer(x, x)).mean()\n",
    "    # Relative mean absolute difference\n",
    "    rmad = mad/np.mean(x)\n",
    "    # Gini coefficient\n",
    "    g = 0.5 * rmad\n",
    "    return g\n"
   ]
  },
  {
   "cell_type": "code",
   "execution_count": null,
   "metadata": {
    "pycharm": {
     "name": "#%%\n"
    }
   },
   "outputs": [],
   "source": [
    "#assert 0"
   ]
  },
  {
   "cell_type": "markdown",
   "metadata": {
    "pycharm": {
     "name": "#%% md\n"
    }
   },
   "source": [
    "## General"
   ]
  },
  {
   "cell_type": "markdown",
   "metadata": {
    "pycharm": {
     "name": "#%% md\n"
    }
   },
   "source": [
    "#### MV across regions"
   ]
  },
  {
   "cell_type": "code",
   "execution_count": null,
   "outputs": [],
   "source": [
    "# Further investigation:\n",
    "df_stst_ons[[c + \"_mv_gen_h2\" for c in c_h2_gen_stst]].mean().mean() # 120\n",
    "df_exp_ons[[c + \"_mv_gen_h2\" for c in c_h2_gen_exp]].mean().mean() # 81"
   ],
   "metadata": {
    "collapsed": false,
    "pycharm": {
     "name": "#%%\n"
    }
   }
  },
  {
   "cell_type": "code",
   "execution_count": null,
   "outputs": [],
   "source": [
    "# delete mv, vf for SMR CC in exp\n",
    "df_exp_ons[\"SMR CC_mv_gen_h2_qt\"] = pd.DataFrame(np.nan, index=df_exp_ons.index, columns = [\"SMR CC_mv_gen_h2\"])\n",
    "df_exp_ons[\"SMR CC_vf_gen_h2_qt\"] = pd.DataFrame(np.nan, index=df_exp_ons.index, columns = [\"SMR CC_mv_gen_h2\"])\n",
    "df_exp_ons[\"SMR CC_vf_dw_gen_h2_qt\"] = pd.DataFrame(np.nan, index=df_exp_ons.index, columns = [\"SMR CC_mv_gen_h2\"])"
   ],
   "metadata": {
    "collapsed": false,
    "pycharm": {
     "name": "#%%\n"
    }
   }
  },
  {
   "cell_type": "code",
   "execution_count": null,
   "metadata": {
    "pycharm": {
     "name": "#%%\n"
    }
   },
   "outputs": [],
   "source": [
    "# hydrogen generating and consuming\n",
    "\n",
    "# data\n",
    "c_h2_con_index = c_h2_con #[x for x in c_h2_con if x != 'H2 liquefaction']\n",
    "mv_index = [c+ \"_mv_gen_h2_qt\" for c in c_h2_gen] + [c + \"_mv_con_h2_qt\" for c in c_h2_con_index]\n",
    "gen_con_index = [c+ \"_gen_h2\" for c in c_h2_gen] + [c + \"_con_h2\" for c in c_h2_con_index]\n",
    "index = c_h2_gen + c_h2_con_index\n",
    "ticks = [carrier_renaming.get(n, n) for n in index]\n",
    "\n",
    "stst_h2_gen_con = df_stst_ons[mv_index]\n",
    "stst_h2_gen_con = stst_h2_gen_con.values\n",
    "exp_h2_gen_con = df_exp_ons[mv_index]\n",
    "exp_h2_gen_con = exp_h2_gen_con.values\n",
    "\n",
    "# boxplot properties\n",
    "medianprops = dict(color=\"black\",linewidth=1.5)\n",
    "meanprops = {\"marker\":\"d\",\"markerfacecolor\":\"white\", \"markeredgecolor\":\"black\"}\n",
    "flierprops= {'marker': 'x', 'markersize': 5, 'markeredgecolor': 'black'}\n",
    "whiskerprops = dict(linestyle='-',linewidth=1.0, color='black')\n",
    "\n",
    "# Filter data using np.isnan\n",
    "mask_stst = ~np.isnan(stst_h2_gen_con)\n",
    "filtered_stst = [d[m] for d, m in zip(stst_h2_gen_con.T, mask_stst.T)]\n",
    "mask_exp = ~np.isnan(exp_h2_gen_con)\n",
    "filtered_exp = [d[m] for d, m in zip(exp_h2_gen_con.T, mask_exp.T)]\n",
    "\n",
    "fig, ax = plt.subplots(figsize=(12, 6))\n",
    "\n",
    "stst_plot = plt.boxplot(filtered_stst,\n",
    "                        positions=np.array(np.arange(len(ticks)))*2.0-0.35,\n",
    "                        widths=0.6,\n",
    "                        patch_artist=True,\n",
    "                        showmeans=True,\n",
    "                        meanprops=meanprops,\n",
    "                        medianprops=medianprops,\n",
    "                        flierprops=flierprops,\n",
    "                        whiskerprops=whiskerprops\n",
    "                        )\n",
    "\n",
    "exp_plot = plt.boxplot(filtered_exp,\n",
    "                       positions=np.array(np.arange(len(ticks)))*2.0+0.35,\n",
    "                       widths=0.6,\n",
    "                       patch_artist=True,\n",
    "                       showmeans=True,\n",
    "                       meanprops=meanprops,\n",
    "                       medianprops=medianprops,\n",
    "                       flierprops=flierprops,\n",
    "                       whiskerprops=whiskerprops\n",
    "                       )\n",
    "\n",
    "\n",
    "# generation weighted average\n",
    "wa_mv_stst =np.multiply(df_stst_ons[mv_index], (df_stst_ons[gen_con_index] / df_stst_ons[gen_con_index].sum())).sum()\n",
    "wa_mv_exp =np.multiply(df_exp_ons[mv_index], (df_exp_ons[gen_con_index] / df_exp_ons[gen_con_index].sum())).sum()\n",
    "# set value for SMR CC in exp to nan\n",
    "wa_mv_exp[\"SMR CC_mv_gen_h2_qt\"] = np.nan\n",
    "\n",
    "ax.plot(np.array(np.arange(len(ticks)))*2.0-0.35, wa_mv_stst.transpose(),\"x\", marker='*', color=\"red\", markersize= 10, markerfacecolor=\"white\", zorder=3)\n",
    "ax.plot(np.array(np.arange(len(ticks)))*2.0+0.35, wa_mv_exp.transpose(),\"x\", marker='*', color=\"red\", markersize= 10, markerfacecolor=\"white\",zorder=4)\n",
    "\n",
    "\n",
    "for box, col in zip(stst_plot['boxes'],[carrier_colors[c] for c in index]):\n",
    "    # change outline color\n",
    "    box.set_facecolor(col)\n",
    "    box.set_linestyle('--')\n",
    "\n",
    "for box, col in zip(exp_plot['boxes'],[carrier_colors[c] for c in index]):\n",
    "    # change outline color\n",
    "    box.set_facecolor(col)\n",
    "\n",
    "# sample sizes\n",
    "for i, sample_size in enumerate(df_stst_ons[mv_index].count()):\n",
    "    ax.annotate(sample_size, xy=(0,0),  xycoords='axes fraction',\n",
    "        xytext=((i+0.35)/len(index),1), textcoords='axes fraction', color=\"blue\")\n",
    "\n",
    "#for i, sample_size in enumerate(df_exp_ons[mv_index].count()):\n",
    "#    ax.annotate(sample_size, xy=(0,0),  xycoords='axes fraction',\n",
    "#        xytext=((i+0.55)/len(index),1), textcoords='axes fraction', color=\"red\")\n",
    "\n",
    "# explanations\n",
    "plt.xticks(np.arange(0, len(ticks) * 2, 2), ticks)\n",
    "plt.ylabel(\"market value [$€/MWh_{h2}$]\")\n",
    "plt.xticks(rotation=90)\n",
    "# plt.title(\"Market values of electricity generating technologies across the regions (STST vs. EXP)\", fontsize=16, pad=20,  **font1)\n",
    "\n",
    "# cosmetics\n",
    "ax.patch.set_facecolor('lightgrey')\n",
    "ax.patch.set_alpha(0.5)\n",
    "\n",
    "# horizontal lines\n",
    "ax.axhline(df_stst_ons[mv_index].mean().mean(), ls=\"--\", c='black',linewidth=0.5)\n",
    "ax.axhline(df_exp_ons[mv_index].mean().mean(), ls=\"-\", c='black', linewidth=0.5)\n",
    "\n",
    "# legend\n",
    "patch1 = matplotlib.patches.Patch(ls=\"--\", facecolor=\"white\", edgecolor=\"black\")\n",
    "patch2 = matplotlib.patches.Patch(ls=\"-\", facecolor=\"white\", edgecolor=\"black\")\n",
    "line1 = Line2D([0], [0], ls=\"--\", c='black', label=\"mean (STST)\", linewidth=0.5)\n",
    "line2 = Line2D([0], [0], ls=\"-\", c='black', label=\"mean (EXP)\", linewidth=0.5)\n",
    "ax.legend([patch1, patch2, line1, line2], ['STST', 'EXP', 'mean (STST)','mean (EXP)'])\n",
    "\n",
    "fig.tight_layout()\n",
    "plt.show()\n",
    "\n",
    "fig.savefig(f\"{PLOT_DIR}/mv_h2_gen_con_box.png\")"
   ]
  },
  {
   "cell_type": "code",
   "execution_count": null,
   "metadata": {
    "pycharm": {
     "name": "#%%\n"
    }
   },
   "outputs": [],
   "source": [
    "wa_mv_stst"
   ]
  },
  {
   "cell_type": "code",
   "execution_count": null,
   "outputs": [],
   "source": [
    "wa_mv_exp"
   ],
   "metadata": {
    "collapsed": false,
    "pycharm": {
     "name": "#%%\n"
    }
   }
  },
  {
   "cell_type": "code",
   "execution_count": null,
   "outputs": [],
   "source": [
    "c = \"Sabatier\"\n",
    "df_stst_ons[[f\"{c}_mv_con_h2_qt\", f\"{c}_con_h2\"]].dropna().sort_values(by=f\"{c}_con_h2\")\n",
    "#df_exp_ons[[f\"{c}_mv_con_h2_qt\", f\"{c}_con_h2\"]].dropna().sort_values(by=f\"{c}_con_h2\")"
   ],
   "metadata": {
    "collapsed": false,
    "pycharm": {
     "name": "#%%\n"
    }
   }
  },
  {
   "cell_type": "code",
   "execution_count": null,
   "outputs": [],
   "source": [
    "df_stst_ons[mv_index].describe()"
   ],
   "metadata": {
    "collapsed": false,
    "pycharm": {
     "name": "#%%\n"
    }
   }
  },
  {
   "cell_type": "code",
   "execution_count": null,
   "outputs": [],
   "source": [
    "df_exp_ons[mv_index].describe()"
   ],
   "metadata": {
    "collapsed": false,
    "pycharm": {
     "name": "#%%\n"
    }
   }
  },
  {
   "cell_type": "markdown",
   "metadata": {
    "pycharm": {
     "name": "#%% md\n"
    }
   },
   "source": [
    "## Spatial Differences"
   ]
  },
  {
   "cell_type": "markdown",
   "metadata": {
    "pycharm": {
     "name": "#%% md\n"
    }
   },
   "source": [
    "### Spatial correlation of mv, gen"
   ]
  },
  {
   "cell_type": "code",
   "execution_count": null,
   "metadata": {
    "pycharm": {
     "name": "#%%\n"
    }
   },
   "outputs": [],
   "source": [
    "# Spatial correlation of mv\n",
    "\n",
    "fig, axs = plt.subplots(ncols=2, figsize=(15, 5))\n",
    "\n",
    "for i, df, ax in zip([0,1], [df_stst_ons, df_exp_ons], axs):\n",
    "\n",
    "    corr = df[[c + \"_mv\" for c in c_el_gen_s]].corr()\n",
    "    corr.index = [carrier_renaming.get(n, n) for n in c_el_gen_s]\n",
    "    corr.columns = [carrier_renaming.get(n, n) for n in c_el_gen_s]\n",
    "    mask = np.triu(np.ones_like(corr, dtype=bool))\n",
    "\n",
    "    sns.heatmap(corr[abs(corr) > 0.4], mask=mask, cmap=\"magma_r\", annot=True, ax=ax)\n",
    "    ax.set_title('STST' if i == 0 else 'EXP')\n",
    "\n",
    "fig.tight_layout(pad=1.5)\n",
    "plt.close()\n",
    "plt.show()\n",
    "\n",
    "#fig.savefig(f\"{PLOT_DIR}/mv_el_gen_both_corr.png\")"
   ]
  },
  {
   "cell_type": "code",
   "execution_count": null,
   "metadata": {
    "pycharm": {
     "name": "#%%\n"
    }
   },
   "outputs": [],
   "source": [
    "# Spatial correlation of purchasing prices\n",
    "\n",
    "fig, axs = plt.subplots(ncols=2, figsize=(8, 3))\n",
    "\n",
    "for df, ax in zip([df_stst_ons, df_exp_ons], axs):\n",
    "    corr = df[[c + \"_cost_mv_el\" for c in c_el_con_s]].corr()\n",
    "    corr.index = [carrier_renaming.get(n, n) for n in c_el_con_s]\n",
    "    corr.columns = [carrier_renaming.get(n, n) for n in c_el_con_s]\n",
    "\n",
    "    mask = np.triu(np.ones_like(corr, dtype=bool))\n",
    "\n",
    "    sns.heatmap(corr[abs(corr) > 0.5], mask=mask, cmap=\"magma_r\", annot=True, ax=ax)\n",
    "fig.tight_layout(pad=1.5)\n",
    "\n",
    "plt.close()\n",
    "plt.show()"
   ]
  },
  {
   "cell_type": "code",
   "execution_count": null,
   "metadata": {
    "pycharm": {
     "name": "#%%\n"
    }
   },
   "outputs": [],
   "source": [
    "# Spatial correlation of both\n",
    "\n",
    "fig, axs = plt.subplots(ncols=2, figsize=(17, 6))\n",
    "\n",
    "for df, ax in zip([df_stst_ons, df_exp_ons], axs):\n",
    "    corr = df[[c + \"_mv\" for c in c_el_gen_s] + [c + \"_cost_mv_el\" for c in c_el_con_s]].corr()\n",
    "    corr.index = [carrier_renaming.get(n, n) for n in c_el_gen_s] + [carrier_renaming.get(n, n) + \" (con)\" for n in c_el_con_s]\n",
    "    corr.columns = [carrier_renaming.get(n, n) for n in c_el_gen_s] + [carrier_renaming.get(n, n)+ \" (con)\" for n in c_el_con_s]\n",
    "\n",
    "    mask = np.triu(np.ones_like(corr, dtype=bool))\n",
    "\n",
    "    sns.heatmap(corr[abs(corr) > 0.5], mask=mask, cmap=\"magma_r\", annot=True, ax=ax)\n",
    "fig.tight_layout(pad=1.5)\n",
    "plt.close()\n",
    "plt.show()"
   ]
  },
  {
   "cell_type": "code",
   "execution_count": null,
   "metadata": {
    "pycharm": {
     "name": "#%%\n"
    }
   },
   "outputs": [],
   "source": [
    "# correlation analysis\n",
    "# what do you want to find?\n",
    "\n",
    "\n",
    "corr_gini_res = pd.DataFrame(index=c_el_gen_s, columns=[[\"corr_mv_gen_STST\", \"cor_mv_gen_EXP\", \"gini_gen_STST\", \"gini_gen_EXP\", \"gini_gen_diff_EXP-STST\", \"gini_mv_STST\", \"gini_mv_EXP\", \"gini_mv_diff_EXP-STST\"]])\n",
    "for c in c_el_gen_s:\n",
    "    corr_gini_res.loc[c,\"corr_mv_gen_STST\"] = df_stst_ons[f\"{c}_mv\"].corr(df_stst_ons[f\"{c}_gen\"])\n",
    "    corr_gini_res.loc[c,\"cor_mv_gen_EXP\"] = df_exp_ons[f\"{c}_mv\"].corr(df_exp_ons[f\"{c}_gen\"])\n",
    "    corr_gini_res.loc[c,\"gini_gen_STST\"] = gini(df_stst_ons[[f\"{c}_gen\"]].dropna().values)\n",
    "    corr_gini_res.loc[c,\"gini_gen_EXP\"] = gini(df_exp_ons[[f\"{c}_gen\"]].dropna().values)\n",
    "    corr_gini_res.loc[c,\"gini_gen_EXP\"] = gini(df_exp_ons[[f\"{c}_gen\"]].dropna().values)\n",
    "    corr_gini_res.loc[c,\"gini_mv_STST\"] = gini(df_stst_ons[[f\"{c}_mv\"]].dropna().values)\n",
    "    corr_gini_res.loc[c,\"gini_mv_EXP\"] = gini(df_exp_ons[[f\"{c}_mv\"]].dropna().values)\n",
    "\n",
    "corr_gini_res[\"gini_gen_diff_EXP-STST\"] = corr_gini_res[\"gini_gen_EXP\"].values - corr_gini_res[\"gini_gen_STST\"].values\n",
    "corr_gini_res[\"gini_mv_diff_EXP-STST\"] = corr_gini_res[\"gini_mv_EXP\"].values - corr_gini_res[\"gini_mv_STST\"].values\n",
    "corr_gini_res"
   ]
  },
  {
   "cell_type": "markdown",
   "metadata": {
    "pycharm": {
     "name": "#%% md\n"
    }
   },
   "source": [
    "**Findings:**\n",
    "- gini: the higher, the more uneven distributed\n",
    "- generation is more uneven distributed in EXP case\n",
    "- mv are more evenly distributed in EXP case"
   ]
  },
  {
   "cell_type": "markdown",
   "metadata": {
    "pycharm": {
     "name": "#%% md\n"
    }
   },
   "source": [
    "### Spatial map"
   ]
  },
  {
   "cell_type": "code",
   "execution_count": null,
   "metadata": {
    "pycharm": {
     "name": "#%%\n"
    }
   },
   "outputs": [],
   "source": [
    "# hydrogen consuming and generating: market values across regions as map\n",
    "\n",
    "model = \"EXP\"\n",
    "c_h2_con_index = c_h2_con\n",
    "\n",
    "if model == \"STST\":\n",
    "    df = df_stst_ons\n",
    "    c_h2_gen_index = c_h2_gen_stst\n",
    "\n",
    "elif model == \"EXP\":\n",
    "    df = df_exp_ons\n",
    "    c_h2_gen_index = c_h2_gen_exp\n",
    "\n",
    "index = c_h2_gen_index + c_h2_con\n",
    "mv_index = [c+ \"_mv_gen_h2_qt\" for c in c_h2_gen_index] + [c + \"_mv_con_h2_qt\" for c in c_h2_con_index]\n",
    "gen_con_index = [c+ \"_gen_h2\" for c in c_h2_gen_index] + [c + \"_con_h2\" for c in c_h2_con_index]\n",
    "ticks = [carrier_renaming.get(n, n) for n in index]\n",
    "\n",
    "fig, axs = plt.subplots(ncols=2, nrows=math.ceil(len(index)/2), subplot_kw={'projection': ccrs.EqualEarth()},\n",
    "                        figsize=(s_w, math.ceil(len(index)/2)*s_h))\n",
    "crs = ccrs.EqualEarth()\n",
    "\n",
    "# align colorbar for comparison\n",
    "mvs = df[mv_index]\n",
    "vmin = np.nanmin(mvs)\n",
    "vmax = np.nanmax(mvs)\n",
    "\n",
    "for i, ax in enumerate(axs.reshape(-1)):\n",
    "\n",
    "    if i >= len(index):\n",
    "        ax.axis('off')\n",
    "        continue\n",
    "\n",
    "    ax.add_feature(cartopy.feature.BORDERS, edgecolor='black', linewidth=0.5)\n",
    "    ax.coastlines(edgecolor='black', linewidth=0.5)\n",
    "    ax.set_facecolor('white')\n",
    "    ax.add_feature(cartopy.feature.OCEAN, color='azure')\n",
    "\n",
    "    df.to_crs(crs.proj4_init).plot(column=mv_index[i],\n",
    "                                   ax=ax,\n",
    "                                   cmap=plt.get_cmap(\"magma_r\"),\n",
    "                                   linewidth=0.05,\n",
    "                                   edgecolor = 'grey',\n",
    "                                   legend=True,\n",
    "                                   #vmin=vmin,\n",
    "                                   #vmax=vmax,\n",
    "                                   legend_kwds={'label':\"market values ($€/MWh_{h2}$)\",'orientation': \"vertical\",'shrink' : 0.9}\n",
    "                                   )\n",
    "\n",
    "    max_size = df[gen_con_index[i]].abs().max()\n",
    "    # blue if negative and green if positive\n",
    "    colors = ['darkblue' if (x < 0) else 'darkgreen' for x in df[gen_con_index[i]] ]\n",
    "\n",
    "    df.to_crs(crs.proj4_init).centroid.plot(ax=ax, sizes=(df[gen_con_index[i]].abs() / max_size) * 300,  color=colors, edgecolor=\"white\")\n",
    "    circle1 = Line2D([], [], color=\"white\", marker='o', markerfacecolor=\"darkgreen\", markeredgecolor=\"white\", markersize=10)\n",
    "    circle2 = Line2D([], [], color=\"white\", marker='o', markerfacecolor=\"darkblue\", markeredgecolor=\"white\", markersize=10)\n",
    "    circle3 = Line2D([], [], color=\"white\", marker='o', markerfacecolor=\"white\", markeredgecolor=\"black\", markersize=10)\n",
    "\n",
    "    unit = \"$TWh_{h2}$\" if max_size > 1e3 else \"$GWh_{h2}$\"\n",
    "    max_size = max_size / 1e3 if max_size > 1e3 else max_size\n",
    "    ax.legend((circle1, circle2, circle3), ('Generation', 'Consumption', f\"max circle size:\\n{round(max_size)} {unit}\"), numpoints=1, loc=\"upper left\", prop={'size': 9})\n",
    "\n",
    "    # always select same section\n",
    "    xmin, ymin, xmax, ymax = df_stst_ons.to_crs(crs.proj4_init).total_bounds\n",
    "    pad = 1 * 1e5  # add a padding around the geometry\n",
    "    ax.set_xlim(xmin-pad, xmax+pad)\n",
    "    ax.set_ylim(ymin-pad, ymax+pad)\n",
    "\n",
    "    ax.set_title(f\"{ticks[i]}\", fontsize=16, **font1)\n",
    "\n",
    "# fig.suptitle(f\"Spatial Differences in the electricity generation of the VRE technologies ({model})\", fontsize=16, **font1)\n",
    "fig.tight_layout()\n",
    "\n",
    "#plt.close()\n",
    "plt.show()\n",
    "\n",
    "fig.savefig(f\"{PLOT_DIR}/mv_h2_gen_con_map_{model}.png\")"
   ]
  },
  {
   "cell_type": "code",
   "execution_count": null,
   "outputs": [],
   "source": [
    "#dfdf = df_stst_ons[f\"{mv_index[i]}_STST-EXP\"].dropna().sort_values()\n",
    "#i_de = dfdf.index[dfdf.index.str.contains(\"DE\")]"
   ],
   "metadata": {
    "collapsed": false,
    "pycharm": {
     "name": "#%%\n"
    }
   }
  },
  {
   "cell_type": "code",
   "execution_count": null,
   "outputs": [],
   "source": [
    "i = 3\n",
    "df_stst_ons[[mv_index[i], gen_con_index[i]]].dropna().sort_values(ascending=False, by=mv_index[i])\n",
    "df_exp_ons[[mv_index[i], gen_con_index[i]]].dropna().sort_values(ascending=False, by=mv_index[i])"
   ],
   "metadata": {
    "collapsed": false,
    "pycharm": {
     "name": "#%%\n"
    }
   }
  },
  {
   "cell_type": "code",
   "execution_count": null,
   "outputs": [],
   "source": [
    "#i = 3\n",
    "#df_stst_ons[f\"{mv_index[i]}_STST-EXP\"].dropna().sort_values()#.loc[[\"GB5 16\", \"GB5 12\", \"GB5 0\", \"GB4 0\"]]#.mean()"
   ],
   "metadata": {
    "collapsed": false,
    "pycharm": {
     "name": "#%%\n"
    }
   }
  },
  {
   "cell_type": "code",
   "execution_count": null,
   "metadata": {
    "pycharm": {
     "name": "#%%\n"
    }
   },
   "outputs": [],
   "source": [
    "# Further investigation\n",
    "# correlation\n",
    "vf_index = [c+ \"_vf_gen_h2_qt\" for c in c_h2_gen_index] + [c + \"_vf_con_h2_qt\" for c in c_h2_con_index]\n",
    "cf_index = [c+ \"_cf_gen_h2\" for c in c_h2_gen_index] + [c + \"_cf_con_h2\" for c in c_h2_con_index]\n",
    "\n",
    "for mv, gen_con, vf, cf in zip(mv_index, gen_con_index, vf_index, cf_index):\n",
    "    print(mv)\n",
    "    print(df_stst_ons[mv].corr(df_stst_ons[gen_con]))\n",
    "    print(df_stst_ons[mv].corr(df_stst_ons[vf]))\n",
    "    print(df_stst_ons[mv].corr(df_stst_ons[cf]))"
   ]
  },
  {
   "cell_type": "code",
   "execution_count": null,
   "metadata": {
    "pycharm": {
     "name": "#%%\n"
    }
   },
   "outputs": [],
   "source": [
    "#EXP\n",
    "\n",
    "for mv, gen_con, vf, cf in zip(mv_index, gen_con_index, vf_index, cf_index):\n",
    "    print(mv)\n",
    "    print(df_exp_ons[mv].corr(df_exp_ons[gen_con]))\n",
    "    print(df_exp_ons[mv].corr(df_exp_ons[vf]))\n",
    "    print(df_exp_ons[mv].corr(df_exp_ons[cf]))"
   ]
  },
  {
   "cell_type": "code",
   "execution_count": null,
   "outputs": [],
   "source": [
    "# test Lorenz kind of\n",
    "\n",
    "for mv, gen_con in zip(mv_index, gen_con_index):\n",
    "    df_test = df_stst_ons[[mv, gen_con]].dropna().sort_values(ascending=True, by=mv)\n",
    "    plt.plot(abs(df_test[gen_con].cumsum() / df_test[gen_con].sum()), df_test[mv], label=mv)\n",
    "plt.legend()\n",
    "plt.show()"
   ],
   "metadata": {
    "collapsed": false,
    "pycharm": {
     "name": "#%%\n"
    }
   }
  },
  {
   "cell_type": "code",
   "execution_count": null,
   "outputs": [],
   "source": [
    "# difference in mv\n",
    "\n",
    "c_h2_gen_index = c_h2_gen_exp\n",
    "c_h2_con_index = c_h2_con\n",
    "\n",
    "index = c_h2_gen_index + c_h2_con_index\n",
    "mv_index = [c+ \"_mv_gen_h2_qt\" for c in c_h2_gen_index] + [c + \"_mv_con_h2_qt\" for c in c_h2_con_index]\n",
    "gen_con_index = [c+ \"_gen_h2\" for c in c_h2_gen_index] + [c + \"_con_h2\" for c in c_h2_con_index]\n",
    "ticks = [carrier_renaming.get(n, n) for n in index]\n",
    "\n",
    "# STST - EXP\n",
    "for c in mv_index:\n",
    "    df_stst_ons[f\"{c}_mv_qt_STST-EXP\"] = df_stst_ons[c] - df_exp_ons[c]\n",
    "\n",
    "fig, axs = plt.subplots(ncols=2, nrows=math.ceil(len(index)/2), subplot_kw={'projection': ccrs.EqualEarth()},\n",
    "                        figsize=(s_w, math.ceil(len(index)/2) * s_h))\n",
    "crs = ccrs.EqualEarth()\n",
    "\n",
    "# align colorbar for comparison\n",
    "mvs = df_stst_ons[[c + \"_mv_qt_STST-EXP\" for c in mv_index]]\n",
    "abs_max_total = max(abs(np.nanmax(mvs)) , abs(np.nanmin(mvs)))\n",
    "\n",
    "for i, ax in enumerate(axs.reshape(-1)):\n",
    "\n",
    "    if i >= len(index):\n",
    "        ax.axis('off')\n",
    "        continue\n",
    "\n",
    "    abs_max = df_stst_ons[f\"{mv_index[i]}_mv_qt_STST-EXP\"].abs().max()\n",
    "    #unit_cap = \"TW\" if abs_max > 1e4 else \"GW\"\n",
    "    #df[f\"{carriers[i]}_cap_STST-EXP\"] = (df[f\"{carriers[i]}_cap_STST-EXP\"] / 1e3) if abs_max > 1e4 else df[f\"{carriers[i]}_cap_STST-EXP\"]\n",
    "    #abs_max = abs_max / 1e3 if abs_max > 1e4 else abs_max\n",
    "\n",
    "    ax.add_feature(cartopy.feature.BORDERS, edgecolor='black', linewidth=0.5)\n",
    "    ax.coastlines(edgecolor='black', linewidth=0.5)\n",
    "    ax.set_facecolor('white')\n",
    "    ax.add_feature(cartopy.feature.OCEAN, color='azure')\n",
    "\n",
    "    df_stst_ons.to_crs(crs.proj4_init).plot(column=f\"{mv_index[i]}_mv_qt_STST-EXP\",\n",
    "                                   ax=ax,\n",
    "                                   cmap=plt.get_cmap('RdYlGn'),\n",
    "                                   vmax=abs_max_total,\n",
    "                                   vmin=-abs_max_total,\n",
    "                                   linewidth=0.05,\n",
    "                                   edgecolor = 'grey',\n",
    "                                   legend=True,\n",
    "                                   legend_kwds={'label':\"market value difference ($€/MWh_{h2}$)\",'orientation': \"vertical\",'shrink' : 0.9}\n",
    "                                   )\n",
    "    if ticks[i] != \"H2 liquefaction\":\n",
    "        # difference in generation (STST-EXP)\n",
    "        gen_diff = df_stst_ons[gen_con_index[i]].abs() - df_exp_ons[gen_con_index[i]].abs()\n",
    "        # red if negative and green if positive\n",
    "        colors = ['red' if (x < 0) else 'green' for x in gen_diff ]\n",
    "\n",
    "        max_size = abs(gen_diff).max()\n",
    "        df_stst_ons.to_crs(crs.proj4_init).centroid.plot(ax=ax, sizes=(abs(gen_diff) / max_size) * 300,  color=colors, edgecolor=\"white\")\n",
    "        circle1 = Line2D([], [], color=\"white\", marker='o', markerfacecolor=\"green\", markeredgecolor=\"white\", markersize=10)\n",
    "        circle2 = Line2D([], [], color=\"white\", marker='o', markerfacecolor=\"red\", markeredgecolor=\"white\", markersize=10)\n",
    "        circle3 = Line2D([], [], color=\"white\", marker='o', markerfacecolor=\"white\", markeredgecolor=\"black\", markersize=10)\n",
    "\n",
    "        unit = \"$TWh_{h2}$\" if max_size > 1e3 else \"$GWh_{h2}$\"\n",
    "        max_size = max_size / 1e3 if max_size > 1e3 else max_size\n",
    "        ax.legend((circle1, circle2, circle3), ('Increased gen /\\ncon in STST', 'Increased gen /\\ncon in EXP', f\"max circle size:\\n {round(max_size)} {unit}\"), numpoints=1, loc=\"upper left\")\n",
    "\n",
    "\n",
    "    # always select same section\n",
    "    xmin, ymin, xmax, ymax = df_stst_ons.to_crs(crs.proj4_init).total_bounds\n",
    "    pad = 1 * 1e5  # add a padding around the geometry\n",
    "    ax.set_xlim(xmin-pad, xmax+pad)\n",
    "    ax.set_ylim(ymin-pad, ymax+pad)\n",
    "\n",
    "    ax.set_title(f\"{ticks[i]} market values (STST - EXP)\", fontsize=16, **font1)\n",
    "\n",
    "fig.tight_layout(pad=3)\n",
    "\n",
    "#plt.close()\n",
    "plt.show()\n",
    "\n",
    "fig.savefig(f\"{PLOT_DIR}/h2_mv_STST-EXP_map_all.png\")"
   ],
   "metadata": {
    "collapsed": false,
    "pycharm": {
     "name": "#%%\n"
    }
   }
  },
  {
   "cell_type": "code",
   "execution_count": null,
   "metadata": {
    "pycharm": {
     "name": "#%%\n"
    }
   },
   "outputs": [],
   "source": [
    "# Further investigation\n",
    "c = \"onwind\"\n",
    "#df_stst_ons[f\"{c}_mv_qt_STST-EXP\"].dropna().sort_values()"
   ]
  },
  {
   "cell_type": "code",
   "execution_count": null,
   "metadata": {
    "pycharm": {
     "name": "#%%\n"
    }
   },
   "outputs": [],
   "source": [
    "#de_i = df_stst_ons[f\"{c}_mv_qt_STST-EXP\"].dropna().index.str.contains(\"BE\")\n",
    "#df_stst_ons[f\"{c}_mv_qt_STST-EXP\"].dropna().loc[de_i].mean()"
   ]
  },
  {
   "cell_type": "markdown",
   "metadata": {
    "pycharm": {
     "name": "#%% md\n"
    }
   },
   "source": [
    "### Value Factor Analysis"
   ]
  },
  {
   "cell_type": "code",
   "execution_count": null,
   "metadata": {
    "pycharm": {
     "name": "#%%\n"
    }
   },
   "outputs": [],
   "source": [
    "df_stst_ons.columns[df_stst_ons.columns.str.contains(\"H2_lmp\")]"
   ]
  },
  {
   "cell_type": "code",
   "execution_count": null,
   "metadata": {
    "pycharm": {
     "name": "#%%\n"
    }
   },
   "outputs": [],
   "source": [
    "df_stst_ons[[f\"{c}_vf_dw_gen_h2\" for c in c_h2_gen_stst]]"
   ]
  },
  {
   "cell_type": "code",
   "execution_count": null,
   "metadata": {
    "pycharm": {
     "name": "#%%\n"
    }
   },
   "outputs": [],
   "source": [
    "# hydrogen producing and consuming technologies\n",
    "\n",
    "# data\n",
    "c_h2_con_index = [x for x in c_h2_con if x != 'H2 liquefaction'] # c_h2_con #\n",
    "vf_index = [c+ \"_vf_dw_gen_h2_qt\" for c in c_h2_gen] + [c + \"_vf_dw_con_h2_qt\" for c in c_h2_con_index]\n",
    "gen_con_index = [c+ \"_gen_h2\" for c in c_h2_gen] + [c + \"_con_h2\" for c in c_h2_con_index]\n",
    "index = c_h2_gen + c_h2_con_index\n",
    "ticks = [carrier_renaming.get(n, n) for n in index]\n",
    "\n",
    "stst_h2_gen_con = df_stst_ons[vf_index]\n",
    "stst_h2_gen_con = stst_h2_gen_con.values\n",
    "exp_h2_gen_con = df_exp_ons[vf_index]\n",
    "exp_h2_gen_con = exp_h2_gen_con.values\n",
    "\n",
    "# boxplot properties\n",
    "medianprops = dict(color=\"black\",linewidth=1.5)\n",
    "meanprops = {\"marker\":\"d\",\"markerfacecolor\":\"white\", \"markeredgecolor\":\"black\"}\n",
    "flierprops= {'marker': 'x', 'markersize': 5, 'markeredgecolor': 'black'}\n",
    "whiskerprops = dict(linestyle='-',linewidth=1.0, color='black')\n",
    "\n",
    "# Filter data using np.isnan\n",
    "mask_stst = ~np.isnan(stst_h2_gen_con)\n",
    "filtered_stst = [d[m] for d, m in zip(stst_h2_gen_con.T, mask_stst.T)]\n",
    "mask_exp = ~np.isnan(exp_h2_gen_con)\n",
    "filtered_exp = [d[m] for d, m in zip(exp_h2_gen_con.T, mask_exp.T)]\n",
    "\n",
    "fig, ax = plt.subplots(figsize=(12, 6))\n",
    "\n",
    "stst_plot = plt.boxplot(filtered_stst,\n",
    "                        positions=np.array(np.arange(len(ticks)))*2.0-0.35,\n",
    "                        widths=0.6,\n",
    "                        patch_artist=True,\n",
    "                        showmeans=True,\n",
    "                        meanprops=meanprops,\n",
    "                        medianprops=medianprops,\n",
    "                        flierprops=flierprops,\n",
    "                        whiskerprops=whiskerprops\n",
    "                        )\n",
    "\n",
    "exp_plot = plt.boxplot(filtered_exp,\n",
    "                       positions=np.array(np.arange(len(ticks)))*2.0+0.35,\n",
    "                       widths=0.6,\n",
    "                       patch_artist=True,\n",
    "                       showmeans=True,\n",
    "                       meanprops=meanprops,\n",
    "                       medianprops=medianprops,\n",
    "                       flierprops=flierprops,\n",
    "                       whiskerprops=whiskerprops\n",
    "                       )\n",
    "\n",
    "# generation / consumption weighted average\n",
    "wa_vf_stst =np.multiply(df_stst_ons[vf_index], (abs(df_stst_ons[gen_con_index]) / abs(df_stst_ons[gen_con_index]).sum())).sum()\n",
    "wa_vf_exp =np.multiply(df_exp_ons[vf_index], (abs(df_exp_ons[gen_con_index]) / abs(df_exp_ons[gen_con_index]).sum())).sum()\n",
    "# set value for SMR CC in exp to nan\n",
    "wa_vf_exp[\"SMR CC_vf_dw_gen_h2_qt\"] = np.nan\n",
    "\n",
    "ax.plot(np.array(np.arange(len(ticks)))*2.0-0.35, wa_vf_stst.transpose(),\"x\", marker='*', color=\"red\", markersize= 10, markerfacecolor=\"white\", zorder=3)\n",
    "ax.plot(np.array(np.arange(len(ticks)))*2.0+0.35, wa_vf_exp.transpose(),\"x\", marker='*', color=\"red\", markersize= 10, markerfacecolor=\"white\",zorder=4)\n",
    "\n",
    "for box, col in zip(stst_plot['boxes'],[carrier_colors[c] for c in index]):\n",
    "    # change outline color\n",
    "    box.set_facecolor(col)\n",
    "    box.set_linestyle('--')\n",
    "\n",
    "for box, col in zip(exp_plot['boxes'],[carrier_colors[c] for c in index]):\n",
    "    # change outline color\n",
    "    box.set_facecolor(col)\n",
    "\n",
    "# sample sizes\n",
    "for i, sample_size in enumerate(df_stst_ons[vf_index].count()):\n",
    "    ax.annotate(sample_size, xy=(0,0),  xycoords='axes fraction',\n",
    "        xytext=((i+0.4)/len(index),1), textcoords='axes fraction', color=\"blue\")\n",
    "\n",
    "#for i, sample_size in enumerate(df_exp_ons[vf_index].count()):\n",
    "#    ax.annotate(sample_size, xy=(0,0),  xycoords='axes fraction',\n",
    "#        xytext=((i+0.55)/len(index),1), textcoords='axes fraction', color=\"red\")\n",
    "\n",
    "# explanations\n",
    "plt.xticks(np.arange(0, len(ticks) * 2, 2), ticks)\n",
    "plt.ylabel(\"\")\n",
    "plt.xticks(rotation=90)\n",
    "ax.set_ylabel(\"value factor [-]\")\n",
    "#plt.title(\"Value factors of electricity consuming technologies across the regions (STST vs. EXP)\", fontsize=16, pad=20,  **font1)\n",
    "\n",
    "# cosmetics\n",
    "ax.patch.set_facecolor('lightgrey')\n",
    "ax.patch.set_alpha(0.5)\n",
    "\n",
    "# horizontal lines\n",
    "ax.axhline(df_stst_ons[vf_index].mean().mean(), ls=\"--\", c='black',linewidth=0.5)\n",
    "ax.axhline(df_exp_ons[vf_index].mean().mean(), ls=\"-\", c='black', linewidth=0.5)\n",
    "\n",
    "# legend\n",
    "patch1 = matplotlib.patches.Patch(ls=\"--\", facecolor=\"white\", edgecolor=\"black\")\n",
    "patch2 = matplotlib.patches.Patch(ls=\"-\", facecolor=\"white\", edgecolor=\"black\")\n",
    "line1 = Line2D([0], [0], ls=\"--\", c='black', label=\"mean (STST)\", linewidth=0.5)\n",
    "line2 = Line2D([0], [0], ls=\"-\", c='black', label=\"mean (EXP)\", linewidth=0.5)\n",
    "ax.legend([patch1, patch2, line1, line2], ['STST', 'EXP', 'mean (STST)','mean (EXP)'], loc=\"upper left\")\n",
    "\n",
    "fig.tight_layout()\n",
    "plt.show()\n",
    "\n",
    "fig.savefig(f\"{PLOT_DIR}/vf_h2_gen_con_box.png\")"
   ]
  },
  {
   "cell_type": "code",
   "execution_count": null,
   "metadata": {
    "pycharm": {
     "name": "#%%\n"
    }
   },
   "outputs": [],
   "source": [
    "wa_vf_stst.sort_values()"
   ]
  },
  {
   "cell_type": "code",
   "execution_count": null,
   "metadata": {
    "pycharm": {
     "name": "#%%\n"
    }
   },
   "outputs": [],
   "source": [
    "wa_vf_exp.sort_values()"
   ]
  },
  {
   "cell_type": "code",
   "execution_count": null,
   "outputs": [],
   "source": [
    "wa_vf_stst - wa_vf_exp"
   ],
   "metadata": {
    "collapsed": false,
    "pycharm": {
     "name": "#%%\n"
    }
   }
  },
  {
   "cell_type": "code",
   "execution_count": null,
   "outputs": [],
   "source": [
    "df_stst_ons[vf_index].describe()"
   ],
   "metadata": {
    "collapsed": false,
    "pycharm": {
     "name": "#%%\n"
    }
   }
  },
  {
   "cell_type": "code",
   "execution_count": null,
   "outputs": [],
   "source": [
    "# lmps for H2 liquid are the same for all time steps but different in every region\n",
    "stst.buses_t.marginal_price.loc[:, stst.buses.carrier == \"H2 liquid\"]"
   ],
   "metadata": {
    "collapsed": false,
    "pycharm": {
     "name": "#%%\n"
    }
   }
  },
  {
   "cell_type": "markdown",
   "source": [
    "### Case Study: H2 Comparison\n",
    "comparison of wind driven baltic sea regions and sun driven Mediterranean Sea regions"
   ],
   "metadata": {
    "collapsed": false,
    "pycharm": {
     "name": "#%% md\n"
    }
   }
  },
  {
   "cell_type": "code",
   "execution_count": null,
   "outputs": [],
   "source": [
    "# STST\n",
    "\n",
    "df = df_stst_ons\n",
    "help = df[df_stst_ons[\"H2 Electrolysis_gen_h2\"] > np.quantile(df[\"H2 Electrolysis_gen_h2\"], 0.5)][[\"name\", \"coords\"]]\n",
    "help['x'] = [x[0] for x in help.coords]\n",
    "help['y'] = [x[1] for x in help.coords]\n",
    "north_stst = help[help['y'] >= 45].index\n",
    "south_stst = help[help['y'] < 45].index"
   ],
   "metadata": {
    "collapsed": false,
    "pycharm": {
     "name": "#%%\n"
    }
   }
  },
  {
   "cell_type": "code",
   "execution_count": null,
   "outputs": [],
   "source": [
    "len(north_stst)"
   ],
   "metadata": {
    "collapsed": false,
    "pycharm": {
     "name": "#%%\n"
    }
   }
  },
  {
   "cell_type": "code",
   "execution_count": null,
   "outputs": [],
   "source": [
    "len(south_stst)"
   ],
   "metadata": {
    "collapsed": false,
    "pycharm": {
     "name": "#%%\n"
    }
   }
  },
  {
   "cell_type": "code",
   "execution_count": null,
   "outputs": [],
   "source": [
    "df.loc[north_stst.tolist() +south_stst.tolist(), \"H2 Electrolysis_gen_h2\"].sum() / df.loc[:, \"H2 Electrolysis_gen_h2\"].sum()"
   ],
   "metadata": {
    "collapsed": false,
    "pycharm": {
     "name": "#%%\n"
    }
   }
  },
  {
   "cell_type": "code",
   "execution_count": null,
   "outputs": [],
   "source": [
    "df.loc[north_stst.tolist(), \"H2 Electrolysis_gen_h2\"].sum() / df.loc[:, \"H2 Electrolysis_gen_h2\"].sum()"
   ],
   "metadata": {
    "collapsed": false,
    "pycharm": {
     "name": "#%%\n"
    }
   }
  },
  {
   "cell_type": "code",
   "execution_count": null,
   "outputs": [],
   "source": [
    "df.loc[south_stst.tolist(), \"H2 Electrolysis_gen_h2\"].sum() / df.loc[:, \"H2 Electrolysis_gen_h2\"].sum()"
   ],
   "metadata": {
    "collapsed": false,
    "pycharm": {
     "name": "#%%\n"
    }
   }
  },
  {
   "cell_type": "code",
   "execution_count": null,
   "outputs": [],
   "source": [
    "# corr\n",
    "# spatial north\n",
    "df_stst_ons.loc[north_stst, \"H2 Electrolysis_gen_h2\"].corr(df_stst_ons.loc[north_stst, \"solar_gen_el\"]) # -0.0284\n",
    "df_stst_ons.loc[north_stst, \"H2 Electrolysis_gen_h2\"].corr(df_stst_ons.loc[north_stst, \"onwind_gen_el\"]) # 0.8670"
   ],
   "metadata": {
    "collapsed": false,
    "pycharm": {
     "name": "#%%\n"
    }
   }
  },
  {
   "cell_type": "code",
   "execution_count": null,
   "outputs": [],
   "source": [
    "#spatial south\n",
    "df_stst_ons.loc[south_stst, \"H2 Electrolysis_gen_h2\"].corr(df_stst_ons.loc[south_stst, \"solar_gen_el\"]) # 0.66985\n",
    "df_stst_ons.loc[south_stst, \"H2 Electrolysis_gen_h2\"].corr(df_stst_ons.loc[south_stst, \"onwind_gen_el\"]) # 0.39617"
   ],
   "metadata": {
    "collapsed": false,
    "pycharm": {
     "name": "#%%\n"
    }
   }
  },
  {
   "cell_type": "code",
   "execution_count": null,
   "outputs": [],
   "source": [
    "df = df_exp_ons\n",
    "help = df[df[\"H2 Electrolysis_gen_h2\"] > np.quantile(df[\"H2 Electrolysis_gen_h2\"], 0.5)][[\"name\", \"coords\"]]\n",
    "help['x'] = [x[0] for x in help.coords]\n",
    "help['y'] = [x[1] for x in help.coords]\n",
    "north_exp = help[help['y'] >= 45].index\n",
    "south_exp = help[help['y'] < 45].index"
   ],
   "metadata": {
    "collapsed": false,
    "pycharm": {
     "name": "#%%\n"
    }
   }
  },
  {
   "cell_type": "code",
   "execution_count": null,
   "outputs": [],
   "source": [
    "len(north_exp)"
   ],
   "metadata": {
    "collapsed": false,
    "pycharm": {
     "name": "#%%\n"
    }
   }
  },
  {
   "cell_type": "code",
   "execution_count": null,
   "outputs": [],
   "source": [
    "len(south_exp)"
   ],
   "metadata": {
    "collapsed": false,
    "pycharm": {
     "name": "#%%\n"
    }
   }
  },
  {
   "cell_type": "code",
   "execution_count": null,
   "outputs": [],
   "source": [
    "df.loc[north_exp.tolist() + south_exp.tolist(), \"H2 Electrolysis_gen_h2\"].sum() / df.loc[:, \"H2 Electrolysis_gen_h2\"].sum()"
   ],
   "metadata": {
    "collapsed": false,
    "pycharm": {
     "name": "#%%\n"
    }
   }
  },
  {
   "cell_type": "code",
   "execution_count": null,
   "outputs": [],
   "source": [
    "df.loc[north_exp.tolist(), \"H2 Electrolysis_gen_h2\"].sum() / df.loc[:, \"H2 Electrolysis_gen_h2\"].sum()"
   ],
   "metadata": {
    "collapsed": false,
    "pycharm": {
     "name": "#%%\n"
    }
   }
  },
  {
   "cell_type": "code",
   "execution_count": null,
   "outputs": [],
   "source": [
    "df.loc[south_exp.tolist(), \"H2 Electrolysis_gen_h2\"].sum() / df.loc[:, \"H2 Electrolysis_gen_h2\"].sum()"
   ],
   "metadata": {
    "collapsed": false,
    "pycharm": {
     "name": "#%%\n"
    }
   }
  },
  {
   "cell_type": "code",
   "execution_count": null,
   "outputs": [],
   "source": [
    "# corr\n",
    "# spatial north\n",
    "df_exp_ons.loc[north_exp, \"H2 Electrolysis_gen_h2\"].corr(df_exp_ons.loc[north_exp, \"solar_gen_el\"])  # -0.04\n",
    "#df_exp_ons.loc[north_exp, \"H2 Electrolysis_gen_h2\"].corr(df_exp_ons.loc[north_exp, \"onwind_gen_el\"])  # 0.86\n"
   ],
   "metadata": {
    "collapsed": false,
    "pycharm": {
     "name": "#%%\n"
    }
   }
  },
  {
   "cell_type": "code",
   "execution_count": null,
   "outputs": [],
   "source": [
    "#spatial south\n",
    "df_exp_ons.loc[south_exp, \"H2 Electrolysis_gen_h2\"].corr(df_exp_ons.loc[south_exp, \"solar_gen_el\"])  # 0.76\n",
    "#df_exp_ons.loc[south_exp, \"H2 Electrolysis_gen_h2\"].corr(df_exp_ons.loc[south_exp, \"onwind_gen_el\"])  # 0.65"
   ],
   "metadata": {
    "collapsed": false,
    "pycharm": {
     "name": "#%%\n"
    }
   }
  },
  {
   "cell_type": "code",
   "execution_count": null,
   "outputs": [],
   "source": [
    "c = \"H2\"\n",
    "models = [\"STST\", \"STST\", \"EXP\", \"EXP\"]\n",
    "regions = [north_stst, south_stst, north_exp, south_exp]\n",
    "regions_name = [\"north\", \"south\", \"north\", \"south\"]\n",
    "df_res = pd.DataFrame(index=stst.buses_t.marginal_price.index.hour.unique()[::-1])\n",
    "\n",
    "fig, axs = plt.subplots(ncols=2, nrows=2, figsize=(16, 9))\n",
    "\n",
    "for i, ax in enumerate(axs.reshape(-1)):\n",
    "\n",
    "    if models[i] == \"STST\":\n",
    "        n = stst\n",
    "    elif models[i] == \"EXP\":\n",
    "        n = exp\n",
    "\n",
    "    buses = n.buses[n.buses.carrier == c].index\n",
    "    help_df = pd.DataFrame(n.buses.loc[buses][\"location\"])\n",
    "    help_df[\"bus\"] = help_df.index\n",
    "    help_df.set_index('location', inplace=True)\n",
    "\n",
    "    # change to mean for investigating in mean (unit: €/MWh)\n",
    "    df = pd.DataFrame(n.buses_t.marginal_price[pd.Index(help_df.loc[regions[i]].bus)].mean(axis=1))\n",
    "\n",
    "    hours = df.index.hour.unique()[::-1]\n",
    "    df_start = pd.DataFrame(index=pd.Index(df.index.date).unique())\n",
    "\n",
    "    for hour in hours:\n",
    "        df_start[str(hour)] = df[df.index.hour==hour].values\n",
    "\n",
    "    sns.heatmap(df_start.transpose(),\n",
    "                ax=ax,\n",
    "                     cmap=plt.get_cmap(\"magma_r\"),\n",
    "                     linewidth=0.001,\n",
    "                     xticklabels=15)\n",
    "    ax.set_title(f\"{c} lmps ({regions_name[i]}, {models[i]})\", fontsize=16, **font1)\n",
    "    ax.set_ylabel(\"hour of the day\", fontsize=12, **font1)\n",
    "    ax.set_xlabel(\"day of the year\", fontsize=12, **font1)\n",
    "\n",
    "    # Rewrite the y labels\n",
    "    x_labels = ax.get_xticks()\n",
    "    ax.xaxis.set_major_formatter(matplotlib.dates.DateFormatter('%d-%b'))\n",
    "\n",
    "    # quantify effect\n",
    "    df_res[f\"{models[i]}_{regions_name[i]}\"] = (df_start.T - df_start.max(axis=1)).mean(axis=1).values\n",
    "\n",
    "fig.tight_layout(pad=2)\n",
    "plt.show()\n",
    "\n",
    "fig.savefig(f\"{PLOT_DIR}/case_north_south_lmps_h2.png\")"
   ],
   "metadata": {
    "collapsed": false,
    "pycharm": {
     "name": "#%%\n"
    }
   }
  },
  {
   "cell_type": "code",
   "execution_count": null,
   "outputs": [],
   "source": [
    "# quantify effect\n",
    "df_res"
   ],
   "metadata": {
    "collapsed": false,
    "pycharm": {
     "name": "#%%\n"
    }
   }
  },
  {
   "cell_type": "code",
   "execution_count": null,
   "outputs": [],
   "source": [
    "df_res[\"STST_north\"] - df_res[\"STST_south\"]"
   ],
   "metadata": {
    "collapsed": false,
    "pycharm": {
     "name": "#%%\n"
    }
   }
  },
  {
   "cell_type": "code",
   "execution_count": null,
   "outputs": [],
   "source": [
    "df_res[\"EXP_north\"] - df_res[\"EXP_south\"]"
   ],
   "metadata": {
    "collapsed": false,
    "pycharm": {
     "name": "#%%\n"
    }
   }
  },
  {
   "cell_type": "markdown",
   "source": [
    "### Congestion rent\n",
    "Additionally: Calculate congestion rents for link components: price difference i-j * flow i-j\n",
    "ToDo: maybe also for line components?"
   ],
   "metadata": {
    "collapsed": false,
    "pycharm": {
     "name": "#%% md\n"
    }
   }
  },
  {
   "cell_type": "code",
   "execution_count": null,
   "outputs": [],
   "source": [
    "stst.links[stst.links.carrier == \"H2 Electrolysis\"]"
   ],
   "metadata": {
    "collapsed": false,
    "pycharm": {
     "name": "#%%\n"
    }
   }
  },
  {
   "cell_type": "code",
   "execution_count": null,
   "outputs": [],
   "source": [
    "# congestion rent makes only sense if link has only 2 buses; definition of cr is otherwise unclear\n",
    "n = stst\n",
    "carriers = set(n.links.carrier[n.links.bus3 == \"\"].unique().tolist()).intersection(c_h2_gen+c_h2_con+c_el_gen_s+c_el_con_s)\n",
    "cr_res1 = pd.DataFrame(index = range(1), columns=carriers)\n",
    "\n",
    "for carrier in carriers:\n",
    "    cr_res1[carrier] = (congestion_rent_link(n,carrier).sum().sum() / 1e6)\n",
    "cr_res1"
   ],
   "metadata": {
    "collapsed": false,
    "pycharm": {
     "name": "#%%\n"
    }
   }
  },
  {
   "cell_type": "code",
   "execution_count": null,
   "outputs": [],
   "source": [
    "n = stst\n",
    "carrier = \"H2 Electrolysis\"\n",
    "\n",
    "crs = []\n",
    "crs_norm = []\n",
    "\n",
    "buses = [\"bus0\", \"bus1\", \"bus2\", \"bus3\", \"bus4\"]\n",
    "ps = [\"p0\", \"p1\", \"p2\", \"p3\", \"p4\"]\n",
    "cr = 0\n",
    "\n",
    "for bus, p in zip(buses, ps):\n",
    "    if n.links[n.links.carrier == carrier][bus][0] != \"\":\n",
    "        cr -= n.links_t[p].loc[:, n.links.carrier == carrier].multiply(\n",
    "            n.buses_t.marginal_price[n.links[bus][n.links.carrier == carrier]].values)\n",
    "        crs.append(n.links_t[p].loc[:, n.links.carrier == carrier].multiply(\n",
    "            n.buses_t.marginal_price[n.links[bus][n.links.carrier == carrier]].values))\n"
   ],
   "metadata": {
    "collapsed": false,
    "pycharm": {
     "name": "#%%\n"
    }
   }
  },
  {
   "cell_type": "code",
   "execution_count": null,
   "outputs": [],
   "source": [
    "for n, df in zip([stst, exp], [df_stst_ons, df_exp_ons]):\n",
    "\n",
    "    # electricity prices\n",
    "    #n.buses_t.marginal_price[n.links[\"bus0\"][n.links.carrier == carrier]]\n",
    "\n",
    "    # electricity amounts\n",
    "    # #n.links_t[\"p0\"].loc[:, n.links.carrier == carrier]\n",
    "\n",
    "    # hydrogen prices\n",
    "    #n.buses_t.marginal_price[n.links[\"bus1\"][n.links.carrier == carrier]]\n",
    "\n",
    "    # hydrogen amounts\n",
    "    #n.links_t[\"p1\"].loc[:, n.links.carrier == carrier] * -1\n",
    "\n",
    "    # cr\n",
    "    # revenue hydrogen\n",
    "    rh = abs(n.buses_t.marginal_price[n.links[\"bus1\"][n.links.carrier == carrier]].values * n.links_t[\"p1\"].loc[:, n.links.carrier == carrier].values)\n",
    "\n",
    "    # cost electricity\n",
    "    ce = abs(n.buses_t.marginal_price[n.links[\"bus0\"][n.links.carrier == carrier]].values * (n.links_t[\"p0\"].loc[:, n.links.carrier == carrier] * -1))\n",
    "\n",
    "    # cr [€]\n",
    "    (rh - ce).sum().sum() / 1e6\n",
    "\n",
    "    # normalised [€/MWh_el]\n",
    "    (rh - ce).sum() / abs(n.links_t[\"p0\"].loc[:, n.links.carrier == carrier].sum())\n",
    "\n",
    "    # normalised [€/MWh_h2]\n",
    "    cr_electrolysis_norm_h2 = (rh - ce).sum() / abs(n.links_t[\"p1\"].loc[:, n.links.carrier == carrier].sum())\n",
    "    cr_electrolysis_norm_h2.index = cr_electrolysis_norm_h2.index.map(n.links.bus1).map(n.buses.location)\n",
    "    df[\"H2 Electrolysis_cr_norm_h2\"] = cr_electrolysis_norm_h2\n",
    "\n",
    "    # total amount per region\n",
    "    cr = congestion_rent_link(n,carrier).sum()\n",
    "    cr.index = cr.index.map(n.links.bus1).map(n.buses.location)\n",
    "    # in million €\n",
    "    df[\"H2 Electrolysis_cr\"] = cr / 1e6"
   ],
   "metadata": {
    "collapsed": false,
    "pycharm": {
     "name": "#%%\n"
    }
   }
  },
  {
   "cell_type": "code",
   "execution_count": null,
   "outputs": [],
   "source": [
    "# billion €\n",
    "df_stst_ons[\"H2 Electrolysis_cr\"].sum() / 1e3"
   ],
   "metadata": {
    "collapsed": false,
    "pycharm": {
     "name": "#%%\n"
    }
   }
  },
  {
   "cell_type": "code",
   "execution_count": null,
   "outputs": [],
   "source": [
    "df_exp_ons[\"H2 Electrolysis_cr\"].sum() / 1e3"
   ],
   "metadata": {
    "collapsed": false,
    "pycharm": {
     "name": "#%%\n"
    }
   }
  },
  {
   "cell_type": "code",
   "execution_count": null,
   "outputs": [],
   "source": [
    "# mean\n",
    "df_stst_ons[\"H2 Electrolysis_cr_norm_h2\"].mean() # 22\n",
    "df_exp_ons[\"H2 Electrolysis_cr_norm_h2\"].mean() # 15.81"
   ],
   "metadata": {
    "collapsed": false,
    "pycharm": {
     "name": "#%%\n"
    }
   }
  },
  {
   "cell_type": "code",
   "execution_count": null,
   "outputs": [],
   "source": [
    "# gwcr\n",
    "(df_stst_ons[\"H2 Electrolysis_cr_norm_h2\"]*(df_stst_ons[\"H2 Electrolysis_gen_h2\"] / df_stst_ons[\"H2 Electrolysis_gen_h2\"].sum())).sum() # 20.27\n",
    "#(df_exp_ons[\"H2 Electrolysis_cr_norm_h2\"]*(df_exp_ons[\"H2 Electrolysis_gen_h2\"] / df_exp_ons[\"H2 Electrolysis_gen_h2\"].sum())).sum() # 20.27"
   ],
   "metadata": {
    "collapsed": false,
    "pycharm": {
     "name": "#%%\n"
    }
   }
  },
  {
   "cell_type": "code",
   "execution_count": null,
   "outputs": [],
   "source": [
    "# corr\n",
    "df_stst_ons[[\"H2 Electrolysis_cr_norm_h2\",\"H2 Electrolysis_gen_h2\"]].corr() # -0.19\n",
    "df_exp_ons[[\"H2 Electrolysis_cr_norm_h2\",\"H2 Electrolysis_gen_h2\"]].corr() # 0.32\n",
    "df_stst_ons[[\"H2 Electrolysis_cr\",\"H2 Electrolysis_gen_h2\"]].corr() # -0.98\n",
    "df_exp_ons[[\"H2 Electrolysis_cr\",\"H2 Electrolysis_gen_h2\"]].corr() # 0.98"
   ],
   "metadata": {
    "collapsed": false,
    "pycharm": {
     "name": "#%%\n"
    }
   }
  },
  {
   "cell_type": "code",
   "execution_count": null,
   "outputs": [],
   "source": [
    "df_stst_ons[[\"H2 Electrolysis_cr_norm_h2\",\"H2 Electrolysis_gen_h2\"]].sort_values(by=\"H2 Electrolysis_gen_h2\", ascending=False)"
   ],
   "metadata": {
    "collapsed": false,
    "pycharm": {
     "name": "#%%\n"
    }
   }
  },
  {
   "cell_type": "code",
   "execution_count": null,
   "outputs": [],
   "source": [
    "df_exp_ons[[\"H2 Electrolysis_cr_norm_h2\",\"H2 Electrolysis_gen_h2\"]].sort_values(by=\"H2 Electrolysis_cr_norm_h2\", ascending=False)"
   ],
   "metadata": {
    "collapsed": false,
    "pycharm": {
     "name": "#%%\n"
    }
   }
  },
  {
   "cell_type": "markdown",
   "source": [],
   "metadata": {
    "collapsed": false,
    "pycharm": {
     "name": "#%% md\n"
    }
   }
  },
  {
   "cell_type": "code",
   "execution_count": null,
   "outputs": [],
   "source": [
    "fig, axs = plt.subplots(ncols=2, nrows=1, subplot_kw={'projection': ccrs.EqualEarth()},\n",
    "                        figsize=(12, 5))\n",
    "crs = ccrs.EqualEarth()\n",
    "\n",
    "# align colorbar for comparison\n",
    "cap1 = df_stst_ons[\"H2 Electrolysis_cr_norm_h2\"]\n",
    "cap2 = df_exp_ons[\"H2 Electrolysis_cr_norm_h2\"]\n",
    "vmin = min(np.nanmin(cap1), np.nanmin(cap1))\n",
    "vmax = max(np.nanmax(cap1), np.nanmax(cap2))\n",
    "\n",
    "for i, ax in enumerate(axs.reshape(-1)):\n",
    "\n",
    "    if i == 0:\n",
    "        model = \"STST\"\n",
    "        df = df_stst_ons\n",
    "    elif i == 1:\n",
    "        model = \"EXP\"\n",
    "        df = df_exp_ons\n",
    "\n",
    "    ax.add_feature(cartopy.feature.BORDERS, edgecolor='black', linewidth=0.5)\n",
    "    ax.coastlines(edgecolor='black', linewidth=0.5)\n",
    "    ax.set_facecolor('white')\n",
    "    ax.add_feature(cartopy.feature.OCEAN, color='azure')\n",
    "\n",
    "    df.to_crs(crs.proj4_init).plot(column=\"H2 Electrolysis_cr_norm_h2\",\n",
    "                                   ax=ax,\n",
    "                                   cmap=plt.get_cmap(\"magma_r\"),\n",
    "                                   linewidth=0.05,\n",
    "                                   edgecolor = 'grey',\n",
    "                                   legend=True,\n",
    "                                   vmin=vmin,\n",
    "                                   vmax=vmax,\n",
    "                                   legend_kwds={'label':\"congestion rent ($€/MWh_{h2}$)\",'orientation': \"vertical\",'shrink' : 0.9}\n",
    "                                   )\n",
    "\n",
    "    max_size = df[\"H2 Electrolysis_cr\"].abs().max()\n",
    "\n",
    "    df.to_crs(crs.proj4_init).centroid.plot(ax=ax, sizes=(df[\"H2 Electrolysis_cr\"].abs() / max_size) * 200,  color=\"black\", edgecolor=\"white\")\n",
    "    circle1 = Line2D([], [], color=\"white\", marker='o', markerfacecolor=\"black\", markeredgecolor=\"black\", markersize=10)\n",
    "    circle2 = Line2D([], [], color=\"white\", marker='o', markerfacecolor=\"white\", markeredgecolor=\"black\", markersize=10)\n",
    "\n",
    "    unit = \"million €\"\n",
    "    ax.legend((circle1, circle2), ('Congestion rent',f\"max circle size:\\n{round(max_size)} {unit}\"), numpoints=1, loc=\"upper left\", prop={'size': 9})\n",
    "\n",
    "    # always select same section\n",
    "    xmin, ymin, xmax, ymax = df_stst_ons.to_crs(crs.proj4_init).total_bounds\n",
    "    pad = 1 * 1e5  # add a padding around the geometry\n",
    "    ax.set_xlim(xmin-pad, xmax+pad)\n",
    "    ax.set_ylim(ymin-pad, ymax+pad)\n",
    "\n",
    "    ax.set_title(f\"Electrolysis congestion rent ({model})\", fontsize=16, **font1)\n",
    "\n",
    "# fig.suptitle(f\"Spatial Differences in the electricity generation of the VRE technologies ({model})\", fontsize=16, **font1)\n",
    "fig.tight_layout()\n",
    "\n",
    "#plt.close()\n",
    "plt.show()\n",
    "\n",
    "fig.savefig(f\"{PLOT_DIR}/cr_electrolysis.png\")"
   ],
   "metadata": {
    "collapsed": false,
    "pycharm": {
     "name": "#%%\n"
    }
   }
  },
  {
   "cell_type": "code",
   "execution_count": null,
   "outputs": [],
   "source": [
    "cr_res1 = cr_res1.sort_values(by=0, axis='columns', ascending=False)\n",
    "cr_res1"
   ],
   "metadata": {
    "collapsed": false,
    "pycharm": {
     "name": "#%%\n"
    }
   }
  },
  {
   "cell_type": "code",
   "execution_count": null,
   "outputs": [],
   "source": [
    "sns.set(rc={'figure.figsize':(20,5)})\n",
    "sns.barplot(data=cr_res1)\n",
    "ticks = plt.xticks(rotation=90)\n",
    "plt.title(\"congestion rent in million € per year\")\n",
    "plt.show()"
   ],
   "metadata": {
    "collapsed": false,
    "pycharm": {
     "name": "#%%\n"
    }
   }
  },
  {
   "cell_type": "markdown",
   "source": [
    "__Findings__\n",
    "- negative values for some technologies: OCGT, water tanks, battery charger but in much smaller magnitude than positive values (maybe due to numeric inaccuracy?)"
   ],
   "metadata": {
    "collapsed": false,
    "pycharm": {
     "name": "#%% md\n"
    }
   }
  },
  {
   "cell_type": "code",
   "execution_count": null,
   "outputs": [],
   "source": [
    "# Congestion rent by region\n",
    "cr_regions_onshore = onshore_regions.copy().rename(columns={\"name\": \"location\"})\n",
    "\n",
    "for carrier in carriers:\n",
    "    cr_regions = congestion_rent_link(n,carrier).sum()\n",
    "\n",
    "    if n.buses.loc[cr_regions.index.map(n.links.bus0)].location.values[0] == 'EU':\n",
    "        bus = \"bus1\"\n",
    "    else:\n",
    "        bus = \"bus0\"\n",
    "\n",
    "    cr_regions = pd.concat([cr_regions,n.links.loc[cr_regions.index][bus]], axis=1).rename(columns={0: f\"{carrier}_cr\"})\n",
    "    cr_regions[\"location\"] = n.buses.loc[cr_regions.index.map(n.links[bus])].location.values\n",
    "    # for some carrier e.g. \"DC\" the locations occur several times in the index -> take sum\n",
    "    cr_regions = cr_regions.groupby(by=[\"location\"], axis=\"index\").sum()\n",
    "    # convert to million € per year\n",
    "    cr_regions_onshore[f\"{carrier}_cr\"] = (cr_regions[f\"{carrier}_cr\"] / 1000000)\n",
    "cr_regions_onshore.head(3)\n",
    "    # TODO: For plotting the cr into a map which bus should be used? bus0, where the energy comes from or bus1 where the energy goes to? For some carriers e.g. Fischer-Tropsch they are not in the same region (EU bus)"
   ],
   "metadata": {
    "collapsed": false,
    "pycharm": {
     "name": "#%%\n"
    }
   }
  },
  {
   "cell_type": "code",
   "execution_count": null,
   "outputs": [],
   "source": [
    "carrier = \"H2 Electrolysis\"\n",
    "\n",
    "fig = plt.figure(figsize=(10, 8))\n",
    "\n",
    "crs = ccrs.EqualEarth()\n",
    "ax = plt.axes(projection=ccrs.EqualEarth()) # Mercator\n",
    "ax.add_feature(cartopy.feature.BORDERS, edgecolor='black', linewidth=0.5)\n",
    "ax.coastlines(edgecolor='black', linewidth=0.5)\n",
    "ax.set_facecolor('white')\n",
    "ax.add_feature(cartopy.feature.OCEAN, color='azure')\n",
    "ax.set_title(f\"{carrier} congestion rent\", fontsize=16, **font1)\n",
    "\n",
    "cr_regions_onshore.to_crs(crs.proj4_init).plot(column=f\"{carrier}_cr\",\n",
    "                     ax=ax,\n",
    "                     cmap=plt.get_cmap(\"magma_r\"),\n",
    "                     linewidth=0.05,\n",
    "                     edgecolor = 'grey',\n",
    "                     legend=True,\n",
    "                     legend_kwds={'label':\"million € per year\",\n",
    "                        'orientation': \"vertical\",\n",
    "                                  'shrink' : 0.8})\n",
    "\n",
    "plt.show()\n",
    "# TODO: Would be interesting to plot a map with the location of the capacity of the corresponding carrier next to it; probably there is a correlation between higher capacity and higher cr"
   ],
   "metadata": {
    "collapsed": false,
    "pycharm": {
     "name": "#%%\n"
    }
   }
  },
  {
   "cell_type": "code",
   "execution_count": null,
   "outputs": [],
   "source": [
    "#cr_regions_onshore[f\"{carrier}_cr_norm_h2\"].sort_values(ascending=False)"
   ],
   "metadata": {
    "collapsed": false,
    "pycharm": {
     "name": "#%%\n"
    }
   }
  },
  {
   "cell_type": "markdown",
   "source": [
    "__Findings:__\n",
    "- __H2 Electrolysis:__  Highest values in IRL, GBR and DNK; General higher values in the coastal area of mainland Europe (PRT, ESP, FRA, NLD, DEU, POL, GRC); very low values in the inner mainland and scandinavia\n",
    "- __electricity distribution grid:__ no strong pattern; highest values for north/middle (FR0 1) and GB5 13; there might be soe correlation with higher cr in population-intensive regions an\n",
    "- __Fischer-Tropsch:__ Comparable to H2 Electrolysis; Highest values in DNK & GBR; especialle higher values on the resource receiving party of the european coastline (Atlantic coast and GRC)\n",
    "- __urban central solid biomass CHP CC:__ High values for parts of DEU, CZE, AUT, ITA, SVK & HUN; Very low values for west europe UK and scandinavia\n",
    "- residential rural ground heat pump:\n",
    "- residential urban decentral air heat pump:\n",
    "- H2 liquefaction:\n",
    "- urban central air heat pump:\n",
    "- urban central gas CHP:"
   ],
   "metadata": {
    "collapsed": false,
    "pycharm": {
     "name": "#%% md\n"
    }
   }
  },
  {
   "cell_type": "markdown",
   "source": [
    "### Weighted price differences"
   ],
   "metadata": {
    "collapsed": false,
    "pycharm": {
     "name": "#%% md\n"
    }
   }
  },
  {
   "cell_type": "code",
   "execution_count": null,
   "outputs": [],
   "source": [
    "for n, df in zip([stst, exp], [df_stst_ons, df_exp_ons]):\n",
    "    lmp_h2 = n.buses_t.marginal_price.loc[:, n.buses.carrier == \"H2\"]\n",
    "    lmp_h2.columns = lmp_h2.columns.map(n.buses.location)\n",
    "    lmp_lv = n.buses_t.marginal_price.loc[:, n.buses.carrier == \"low voltage\"]\n",
    "    lmp_lv.columns = lmp_lv.columns.map(n.buses.location)\n",
    "    lmp_el = (n.buses_t.marginal_price.loc[:, n.buses.carrier == \"AC\"] + lmp_lv) / 2\n",
    "    lmp_diff = lmp_h2 - lmp_el\n",
    "    lmp_diff.mean().mean() # STST: 13.53, EXP: 8.23\n",
    "\n",
    "    # hydrogen generation weighted\n",
    "    h2_gen = n.links_t.p1.loc[ : , n.links.carrier == \"H2 Electrolysis\"]\n",
    "    h2_gen.columns = h2_gen.columns.map(n.links.bus1).map(n.buses.location)\n",
    "\n",
    "    # overall\n",
    "    w_all = h2_gen / h2_gen.sum().sum()\n",
    "    (lmp_diff * w_all).sum().sum()\n",
    "\n",
    "    # per region\n",
    "    w_regions = h2_gen / h2_gen.sum()\n",
    "    df[\"h2_w_lmp_diff\"] = (lmp_diff * w_regions).sum()"
   ],
   "metadata": {
    "collapsed": false,
    "pycharm": {
     "name": "#%%\n"
    }
   }
  },
  {
   "cell_type": "code",
   "execution_count": null,
   "outputs": [],
   "source": [
    "(lmp_diff * w_all).sum().sum()"
   ],
   "metadata": {
    "collapsed": false,
    "pycharm": {
     "name": "#%%\n"
    }
   }
  },
  {
   "cell_type": "code",
   "execution_count": null,
   "outputs": [],
   "source": [
    "df_stst_ons[\"H2 Electrolysis_cr_norm_h2\"]"
   ],
   "metadata": {
    "collapsed": false,
    "pycharm": {
     "name": "#%%\n"
    }
   }
  },
  {
   "cell_type": "code",
   "execution_count": null,
   "outputs": [],
   "source": [
    "df_stst_ons[\"h2_w_lmp_diff\"].describe()"
   ],
   "metadata": {
    "collapsed": false,
    "pycharm": {
     "name": "#%%\n"
    }
   }
  },
  {
   "cell_type": "code",
   "execution_count": null,
   "outputs": [],
   "source": [
    "df_exp_ons[\"h2_w_lmp_diff\"].describe()"
   ],
   "metadata": {
    "collapsed": false,
    "pycharm": {
     "name": "#%%\n"
    }
   }
  },
  {
   "cell_type": "code",
   "execution_count": null,
   "outputs": [],
   "source": [
    "fig, axs = plt.subplots(ncols=2, nrows=1, subplot_kw={'projection': ccrs.EqualEarth()},\n",
    "                        figsize=(12, 5))\n",
    "crs = ccrs.EqualEarth()\n",
    "\n",
    "for i, ax in enumerate(axs.reshape(-1)):\n",
    "\n",
    "    if i == 0:\n",
    "        model = \"STST\"\n",
    "        df = df_stst_ons\n",
    "    elif i == 1:\n",
    "        model = \"EXP\"\n",
    "        df = df_exp_ons\n",
    "\n",
    "    ax.add_feature(cartopy.feature.BORDERS, edgecolor='black', linewidth=0.5)\n",
    "    ax.coastlines(edgecolor='black', linewidth=0.5)\n",
    "    ax.set_facecolor('white')\n",
    "    ax.add_feature(cartopy.feature.OCEAN, color='azure')\n",
    "\n",
    "    df.to_crs(crs.proj4_init).plot(column=\"h2_w_lmp_diff\",\n",
    "                                   ax=ax,\n",
    "                                   cmap=plt.get_cmap(\"magma_r\"),\n",
    "                                   linewidth=0.05,\n",
    "                                   edgecolor = 'grey',\n",
    "                                   legend=True,\n",
    "                                   legend_kwds={'label':\"price difference ($€/MWh_{h2-el}$)\",'orientation': \"vertical\",'shrink' : 0.9}\n",
    "                                   )\n",
    "\n",
    "    # always select same section\n",
    "    xmin, ymin, xmax, ymax = df_stst_ons.to_crs(crs.proj4_init).total_bounds\n",
    "    pad = 1 * 1e5  # add a padding around the geometry\n",
    "    ax.set_xlim(xmin-pad, xmax+pad)\n",
    "    ax.set_ylim(ymin-pad, ymax+pad)\n",
    "\n",
    "    ax.set_title(f\"Hydrogen generation weighted price difference ({model})\", fontsize=16, **font1)\n",
    "\n",
    "fig.tight_layout()\n",
    "\n",
    "#plt.close()\n",
    "plt.show()"
   ],
   "metadata": {
    "collapsed": false,
    "pycharm": {
     "name": "#%%\n"
    }
   }
  },
  {
   "cell_type": "code",
   "execution_count": null,
   "outputs": [],
   "source": [],
   "metadata": {
    "collapsed": false,
    "pycharm": {
     "name": "#%%\n"
    }
   }
  },
  {
   "cell_type": "markdown",
   "source": [
    "### LCOH"
   ],
   "metadata": {
    "collapsed": false,
    "pycharm": {
     "name": "#%% md\n"
    }
   }
  },
  {
   "cell_type": "markdown",
   "source": [
    "![](../../../../Pictures/Screenshots/Screenshot_20221102_182240.png)"
   ],
   "metadata": {
    "collapsed": false,
    "pycharm": {
     "name": "#%% md\n"
    }
   }
  },
  {
   "cell_type": "markdown",
   "source": [
    "![](../../../../Pictures/Screenshots/lcoe_mv.png)"
   ],
   "metadata": {
    "collapsed": false,
    "pycharm": {
     "name": "#%% md\n"
    }
   }
  },
  {
   "cell_type": "markdown",
   "source": [
    "#### MV based"
   ],
   "metadata": {
    "collapsed": false,
    "pycharm": {
     "name": "#%% md\n"
    }
   }
  },
  {
   "cell_type": "code",
   "execution_count": null,
   "outputs": [],
   "source": [
    "# MV on country level\n",
    "df_stst_ons_help = df_stst_ons.copy()\n",
    "df_stst_ons_help[\"country_help\"] = df_stst_ons_help.index.str[:2]\n",
    "ccs = [convert_ISO_3166_2_to_1[cc] for cc in df_stst_ons_help[\"country_help\"]]\n",
    "df_stst_ons_help[\"country\"] = pd.DataFrame([ccs]).T.values\n",
    "\n",
    "# get mv on country level hydrogen\n",
    "carriers = [\"H2 Electrolysis\", \"SMR CC\"]\n",
    "\n",
    "df_stst_ons_c_mv = pd.DataFrame(index = df_stst_ons_help[\"country\"].unique())\n",
    "df_exp_ons_c_mv = pd.DataFrame(index = df_stst_ons_help[\"country\"].unique())\n",
    "\n",
    "for c in carriers:\n",
    "    for n, df, df_res in zip([stst, exp],[df_stst_ons, df_exp_ons], [df_stst_ons_c_mv, df_exp_ons_c_mv]):\n",
    "        g_sum = pd.concat([df[f\"{c}_gen_h2\"], df_stst_ons_help[\"country\"]], axis=1).groupby(by=\"country\").sum()\n",
    "        helper = pd.DataFrame(df_stst_ons_help[\"country\"]).merge(g_sum, left_on=\"country\", right_on=g_sum.index, right_index=True)\n",
    "        helper[\"result\"] = df[f\"{c}_mv_gen_h2\"] * (df[f\"{c}_gen_h2\"] / helper[f\"{c}_gen_h2\"])\n",
    "        df_res[f\"{c}_mv\"] = helper.groupby(by=\"country\").sum()[\"result\"]"
   ],
   "metadata": {
    "collapsed": false,
    "pycharm": {
     "name": "#%%\n"
    }
   }
  },
  {
   "cell_type": "code",
   "execution_count": null,
   "outputs": [],
   "source": [
    "# total lcoh by mv of generators (STST)\n",
    "helper =pd.concat([df_stst_ons[\"H2 Electrolysis_gen_h2\"], df_stst_ons[\"SMR CC_gen_h2\"], df_stst_ons[\"H2 Electrolysis_gen_h2\"] + df_stst_ons[\"SMR CC_gen_h2\"], df_stst_ons_help[\"country\"]],axis=1)\n",
    "helper = helper.groupby(by=\"country\").sum()\n",
    "helper[\"w_electrolysis\"] = helper[\"H2 Electrolysis_gen_h2\"] / helper[0]\n",
    "helper[\"w_smrcc\"] = helper[\"SMR CC_gen_h2\"] / helper[0]\n",
    "df_stst_ons_c_mv[\"H2_mv_total\"] = helper[\"w_electrolysis\"] * df_stst_ons_c_mv[\"H2 Electrolysis_mv\"] + helper[\"w_smrcc\"] * df_stst_ons_c_mv[\"SMR CC_mv\"]"
   ],
   "metadata": {
    "collapsed": false,
    "pycharm": {
     "name": "#%%\n"
    }
   }
  },
  {
   "cell_type": "code",
   "execution_count": null,
   "outputs": [],
   "source": [
    "# total lcoh on region and country level\n",
    "\n",
    "# generation weighted lmp per region\n",
    "c = \"H2\"\n",
    "\n",
    "for n, df, df_res in zip([stst, exp],[df_stst_ons, df_exp_ons], [df_stst_ons_c_mv, df_exp_ons_c_mv]):\n",
    "    nb = nodal_balance(n, carrier=c, time=\"2013\", aggregate=['component'], energy=True)\n",
    "    nb = nb.unstack(level=[1])\n",
    "    weights = nb[nb > 0].groupby(by=\"snapshot\").sum().abs()\n",
    "    lmps = n.buses_t.marginal_price.loc[:, n.buses.carrier == c]\n",
    "    gw_lmps_h2 = np.multiply(lmps, weights / weights.sum()).sum()\n",
    "    gw_lmps_h2.index = gw_lmps_h2.index.map(n.buses.location)\n",
    "    df[\"gw_lmps_h2\"] = gw_lmps_h2\n",
    "\n",
    "    df[f\"{c}_demands\"] = weights.sum()\n",
    "    g_sum = pd.concat([df[f\"{c}_demands\"], df_stst_ons_help[\"country\"]], axis=1).groupby(by=\"country\").sum()\n",
    "    helper = pd.DataFrame(df_stst_ons_help[\"country\"]).merge(g_sum, left_on=\"country\", right_on=g_sum.index, right_index=True)\n",
    "    helper[\"result\"] = df[\"gw_lmps_h2\"] * (df[f\"{c}_demands\"] / helper[f\"{c}_demands\"])\n",
    "    df_res[f\"{c}_lmp_dw\"] = helper.groupby(by=\"country\").sum()[\"result\"]\n",
    "\n",
    "# assign scenario (for plot)\n",
    "df_stst_ons_c_mv = df_stst_ons_c_mv.assign(scenario = \"STST\")\n",
    "df_exp_ons_c_mv = df_exp_ons_c_mv.assign(scenario = \"EXP\")"
   ],
   "metadata": {
    "collapsed": false,
    "pycharm": {
     "name": "#%%\n"
    }
   }
  },
  {
   "cell_type": "code",
   "execution_count": null,
   "outputs": [],
   "source": [
    "df_exp_ons_c_mv.head()"
   ],
   "metadata": {
    "collapsed": false,
    "pycharm": {
     "name": "#%%\n"
    }
   }
  },
  {
   "cell_type": "code",
   "execution_count": null,
   "outputs": [],
   "source": [
    "# Total LCOH over all regions:\n",
    "# STST\n",
    "w = pd.concat([df_stst_ons[\"H2 Electrolysis_gen_h2\"] + df_stst_ons[\"SMR CC_gen_h2\"], df_stst_ons_help[\"country\"]],axis=1).groupby(by=\"country\").sum()\n",
    "w = w / w.sum()\n",
    "np.multiply(df_stst_ons_c_mv[\"H2_mv_total\"] , w.T).sum(axis=1) # 82.95\n",
    "\n",
    "# EXP\n",
    "w = pd.concat([df_exp_ons[\"H2 Electrolysis_gen_h2\"], df_stst_ons_help[\"country\"]],axis=1).groupby(by=\"country\").sum()\n",
    "w = w / w.sum()\n",
    "np.multiply(df_exp_ons_c_mv[\"H2 Electrolysis_mv\"] , w.T).sum(axis=1) # 77.59"
   ],
   "metadata": {
    "collapsed": false,
    "pycharm": {
     "name": "#%%\n"
    }
   }
  },
  {
   "cell_type": "markdown",
   "source": [
    "#### Electrolysis"
   ],
   "metadata": {
    "collapsed": false,
    "pycharm": {
     "name": "#%% md\n"
    }
   }
  },
  {
   "cell_type": "code",
   "execution_count": null,
   "outputs": [],
   "source": [
    "df = df_stst_ons\n",
    "n = stst\n",
    "\n",
    "# marginal cost\n",
    "mc = stst.links[stst.links.carrier == \"H2 Electrolysis\"].marginal_cost\n",
    "mc.index = mc.index.map(n.links.bus1).map(n.buses.location)\n",
    "mc = mc * df[\"H2 Electrolysis_gen_h2\"] * 1e3\n",
    "\n",
    "# capacity investment cost\n",
    "I = stst.links[stst.links.carrier == \"H2 Electrolysis\"].capital_cost * stst.links[stst.links.carrier == \"H2 Electrolysis\"].p_nom_opt\n",
    "I.index = I.index.map(n.links.bus1).map(n.buses.location)\n",
    "\n",
    "\n",
    "lcoh = ( I + mc + (df[\"H2 Electrolysis_mv_con_el\"] * df[\"H2 Electrolysis_con_el\"] * 1e3 * -1)) / (df[\"H2 Electrolysis_gen_h2\"] * 1e3)\n",
    "#lcoh"
   ],
   "metadata": {
    "collapsed": false,
    "pycharm": {
     "name": "#%%\n"
    }
   }
  },
  {
   "cell_type": "code",
   "execution_count": null,
   "outputs": [],
   "source": [
    "# ratio of market values and LCOH of electrolysis\n",
    "( I + mc + (df[\"H2 Electrolysis_mv_con_el\"] * df[\"H2 Electrolysis_con_el\"] * 1e3 * -1)) / (df[\"H2 Electrolysis_mv_gen_h2\"] * df[\"H2 Electrolysis_gen_h2\"] * 1e3)"
   ],
   "metadata": {
    "collapsed": false,
    "pycharm": {
     "name": "#%%\n"
    }
   }
  },
  {
   "cell_type": "code",
   "execution_count": null,
   "outputs": [],
   "source": [
    "# per country"
   ],
   "metadata": {
    "collapsed": false,
    "pycharm": {
     "name": "#%%\n"
    }
   }
  },
  {
   "cell_type": "code",
   "execution_count": null,
   "outputs": [],
   "source": [
    "# STST\n",
    "c = \"H2 Electrolysis\"\n",
    "# marginal cost\n",
    "mc = stst.links[stst.links.carrier == c].marginal_cost\n",
    "mc.index = mc.index.map(n.links.bus1).map(n.buses.location)\n",
    "mc = mc * df_stst_ons[f\"{c}_gen_h2\"] * 1e3\n",
    "df_stst_ons[f\"{c}_mc\"] = mc\n",
    "\n",
    "# capacity investment cost\n",
    "I = stst.links[stst.links.carrier == c].capital_cost * stst.links[stst.links.carrier == c].p_nom_opt\n",
    "I.index = I.index.map(n.links.bus1).map(n.buses.location)\n",
    "df_stst_ons[f\"{c}_cap_invest\"] = I\n",
    "\n",
    "# plot of generation weighted capacity factors by country\n",
    "df_stst_ons_c = pd.DataFrame(index = df_stst_ons_help[\"country\"].unique())\n",
    "df_stst_ons_c[f\"{c}_mc\"] = df_stst_ons_help.groupby(by=\"country\").sum()[f\"{c}_mc\"]\n",
    "df_stst_ons_c[f\"{c}_cap_invest\"] = df_stst_ons_help.groupby(by=\"country\").sum()[f\"{c}_cap_invest\"]\n",
    "df_stst_ons_c[f\"{c}_cost_el\"] = pd.concat([df_stst_ons_help[f\"{c}_mv_con_el\"] * df_stst_ons_help[f\"{c}_con_el\"] * 1e3 * -1 , df_stst_ons_help[\"country\"]], axis=1).groupby(by=\"country\").sum()\n",
    "df_stst_ons_c[f\"{c}_gen_h2\"] = df_stst_ons_help.groupby(by=\"country\").sum()[f\"{c}_gen_h2\"] * 1e3\n",
    "df_stst_ons_c[f\"{c}_lcoh\"] = ( df_stst_ons_c[f\"{c}_cap_invest\"] + df_stst_ons_c[f\"{c}_mc\"] + df_stst_ons_c[f\"{c}_cost_el\"]) / df_stst_ons_c[f\"{c}_gen_h2\"]\n",
    "df_stst_ons_c = df_stst_ons_c.assign(scenario = \"STST\")"
   ],
   "metadata": {
    "collapsed": false,
    "pycharm": {
     "name": "#%%\n"
    }
   }
  },
  {
   "cell_type": "code",
   "execution_count": null,
   "outputs": [],
   "source": [
    "# EXP\n",
    "\n",
    "# marginal cost\n",
    "mc = exp.links[exp.links.carrier == c].marginal_cost\n",
    "mc.index = mc.index.map(n.links.bus1).map(n.buses.location)\n",
    "mc = mc * df_exp_ons[f\"{c}_gen_h2\"] * 1e3\n",
    "df_exp_ons[f\"{c}_mc\"] = mc\n",
    "\n",
    "# capacity investment cost\n",
    "I = exp.links[exp.links.carrier == c].capital_cost * exp.links[exp.links.carrier == c].p_nom_opt\n",
    "I.index = I.index.map(n.links.bus1).map(n.buses.location)\n",
    "df_exp_ons[f\"{c}_cap_invest\"] = I\n",
    "\n",
    "# plot of generation weighted capacity factors by country\n",
    "df_exp_ons_help = df_exp_ons.copy()\n",
    "df_exp_ons_help[\"country_help\"] = df_exp_ons_help.index.str[:2]\n",
    "ccs = [convert_ISO_3166_2_to_1[cc] for cc in df_exp_ons_help[\"country_help\"]]\n",
    "df_exp_ons_help[\"country\"] = pd.DataFrame([ccs]).T.values\n",
    "\n",
    "df_exp_ons_c = pd.DataFrame(index = df_exp_ons_help[\"country\"].unique())\n",
    "df_exp_ons_c[f\"{c}_mc\"] = df_exp_ons_help.groupby(by=\"country\").sum()[f\"{c}_mc\"]\n",
    "df_exp_ons_c[f\"{c}_cap_invest\"] = df_exp_ons_help.groupby(by=\"country\").sum()[f\"{c}_cap_invest\"]\n",
    "df_exp_ons_c[f\"{c}_cost_el\"] = pd.concat([df_exp_ons_help[f\"{c}_mv_con_el\"] * df_exp_ons_help[f\"{c}_con_el\"] * 1e3 * -1 , df_exp_ons_help[\"country\"]], axis=1).groupby(by=\"country\").sum()\n",
    "df_exp_ons_c[f\"{c}_gen_h2\"] = df_exp_ons_help.groupby(by=\"country\").sum()[f\"{c}_gen_h2\"] * 1e3\n",
    "df_exp_ons_c[f\"{c}_lcoh\"] = ( df_exp_ons_c[f\"{c}_cap_invest\"] + df_exp_ons_c[f\"{c}_mc\"] + df_exp_ons_c[f\"{c}_cost_el\"]) / df_exp_ons_c[f\"{c}_gen_h2\"]\n",
    "df_exp_ons_c = df_exp_ons_c.assign(scenario = \"EXP\")"
   ],
   "metadata": {
    "collapsed": false,
    "pycharm": {
     "name": "#%%\n"
    }
   }
  },
  {
   "cell_type": "code",
   "execution_count": null,
   "outputs": [],
   "source": [
    "lcohs = pd.concat([df_exp_ons_c[[f\"{c}_lcoh\", \"scenario\"]], df_stst_ons_c[[f\"{c}_lcoh\", \"scenario\"]]])\n",
    "lcohs.reset_index(inplace=True)\n",
    "lcohs.rename(columns={\"index\": \"country\"}, inplace=True)\n",
    "lcohs.pivot('country', 'scenario',f\"{c}_lcoh\")"
   ],
   "metadata": {
    "collapsed": false,
    "pycharm": {
     "name": "#%%\n"
    }
   }
  },
  {
   "cell_type": "code",
   "execution_count": null,
   "outputs": [],
   "source": [
    "# overall cost / amount\n",
    "df_stst_ons_c[[f\"{c}_mc\", f\"{c}_cap_invest\", f\"{c}_cost_el\"]].sum().sum() / df_stst_ons_c[f\"{c}_gen_h2\"].sum() # 78.49\n",
    "df_exp_ons_c[[f\"{c}_mc\", f\"{c}_cap_invest\", f\"{c}_cost_el\"]].sum().sum() / df_exp_ons_c[f\"{c}_gen_h2\"].sum() # 78.77"
   ],
   "metadata": {
    "collapsed": false,
    "pycharm": {
     "name": "#%%\n"
    }
   }
  },
  {
   "cell_type": "code",
   "execution_count": null,
   "outputs": [],
   "source": [
    "# according to mv\n",
    "# STST\n",
    "w = pd.concat([df_stst_ons[\"H2 Electrolysis_gen_h2\"], df_stst_ons_help[\"country\"]],axis=1).groupby(by=\"country\").sum()\n",
    "w = w / w.sum()\n",
    "np.multiply(df_stst_ons_c_mv[\"H2 Electrolysis_mv\"] , w.T).sum(axis=1) # 76.77\n",
    "# EXP\n",
    "w = pd.concat([df_exp_ons[\"H2 Electrolysis_gen_h2\"], df_exp_ons_help[\"country\"]],axis=1).groupby(by=\"country\").sum()\n",
    "w = w / w.sum()\n",
    "np.multiply(df_exp_ons_c_mv[\"H2 Electrolysis_mv\"] , w.T).sum(axis=1) # 77.59"
   ],
   "metadata": {
    "collapsed": false,
    "pycharm": {
     "name": "#%%\n"
    }
   }
  },
  {
   "cell_type": "code",
   "execution_count": null,
   "outputs": [],
   "source": [
    "df_stst_ons_c[f\"{c}_gen_h2\"].sum() / 1e6 # 2884.63\n",
    "#df_exp_ons_c[f\"{c}_gen_h2\"].sum() / 1e6 # 2419.52"
   ],
   "metadata": {
    "collapsed": false,
    "pycharm": {
     "name": "#%%\n"
    }
   }
  },
  {
   "cell_type": "code",
   "execution_count": null,
   "outputs": [],
   "source": [
    "df_stst_ons_c[f\"{c}_lcoh\"].describe()"
   ],
   "metadata": {
    "collapsed": false,
    "pycharm": {
     "name": "#%%\n"
    }
   }
  },
  {
   "cell_type": "code",
   "execution_count": null,
   "outputs": [],
   "source": [
    "df_exp_ons_c[f\"{c}_lcoh\"].describe()"
   ],
   "metadata": {
    "collapsed": false,
    "pycharm": {
     "name": "#%%\n"
    }
   }
  },
  {
   "cell_type": "code",
   "execution_count": null,
   "outputs": [],
   "source": [
    "# cost based\n",
    "\n",
    "fig, ax = plt.subplots(ncols=1, nrows=1, figsize=(12, 5))\n",
    "\n",
    "lcohs.pivot('country', 'scenario',\"H2 Electrolysis_lcoh\")[[\"STST\", \"EXP\"]].plot(kind='bar', ax=ax, color=[\"cadetblue\", \"hotpink\"], width=0.7)\n",
    "ax.set_ylabel(\"LCOH in $€/MWh_{h2}$\")\n",
    "ax.set_title(f\"LCOH from electrolysis\", fontsize=16, **font1)\n",
    "\n",
    "plt.show()"
   ],
   "metadata": {
    "collapsed": false,
    "pycharm": {
     "name": "#%%\n"
    }
   }
  },
  {
   "cell_type": "code",
   "execution_count": null,
   "outputs": [],
   "source": [
    "# market value based\n",
    "c = \"H2 Electrolysis\"\n",
    "\n",
    "lcohs_mv = pd.concat([df_exp_ons_c_mv[[f\"{c}_mv\", \"scenario\"]], df_stst_ons_c_mv[[f\"{c}_mv\", \"scenario\"]]])\n",
    "lcohs_mv.reset_index(inplace=True)\n",
    "lcohs_mv.rename(columns={\"index\": \"country\"}, inplace=True)\n",
    "lcohs_mv.pivot('country', 'scenario',f\"{c}_mv\")\n",
    "\n",
    "fig, ax = plt.subplots(ncols=1, nrows=1, figsize=(12, 5))\n",
    "\n",
    "lcohs_mv.pivot('country', 'scenario',\"H2 Electrolysis_mv\")[[\"STST\", \"EXP\"]].plot(kind='bar', ax=ax, color=[\"cadetblue\", \"hotpink\"], width=0.7)\n",
    "ax.set_ylabel(\"LCOH in $€/MWh_{h2}$\")\n",
    "ax.set_title(f\"LCOH from electrolysis per country\", fontsize=16, **font1)\n",
    "\n",
    "plt.tight_layout()\n",
    "plt.show()\n",
    "fig.savefig(f\"{PLOT_DIR}/lcoh_electrolysis.png\")"
   ],
   "metadata": {
    "collapsed": false,
    "pycharm": {
     "name": "#%%\n"
    }
   }
  },
  {
   "cell_type": "code",
   "execution_count": null,
   "outputs": [],
   "source": [
    "#compare to market value\n",
    "pd.concat([df_stst_ons_c_mv[\"H2 Electrolysis_mv\"],df_stst_ons_c[\"H2 Electrolysis_lcoh\"]],axis=1)"
   ],
   "metadata": {
    "collapsed": false,
    "pycharm": {
     "name": "#%%\n"
    }
   }
  },
  {
   "cell_type": "code",
   "execution_count": null,
   "outputs": [],
   "source": [
    "pd.concat([df_exp_ons_c_mv[\"H2 Electrolysis_mv\"],df_exp_ons_c[\"H2 Electrolysis_lcoh\"]],axis=1)"
   ],
   "metadata": {
    "collapsed": false,
    "pycharm": {
     "name": "#%%\n"
    }
   }
  },
  {
   "cell_type": "markdown",
   "source": [
    "#### SMR CC"
   ],
   "metadata": {
    "collapsed": false,
    "pycharm": {
     "name": "#%% md\n"
    }
   }
  },
  {
   "cell_type": "code",
   "execution_count": null,
   "outputs": [],
   "source": [
    "c = \"SMR CC\"\n",
    "stst.links[stst.links.carrier == \"SMR CC\"]"
   ],
   "metadata": {
    "collapsed": false,
    "pycharm": {
     "name": "#%%\n"
    }
   }
  },
  {
   "cell_type": "code",
   "execution_count": null,
   "outputs": [],
   "source": [
    "# Problem: own Calc does not find cost mv as they are present at EU bus\n",
    "#df_stst_ons[f\"{c}_mv_con_gas\"]"
   ],
   "metadata": {
    "collapsed": false,
    "pycharm": {
     "name": "#%%\n"
    }
   }
  },
  {
   "cell_type": "code",
   "execution_count": null,
   "outputs": [],
   "source": [
    "con = stst.links_t.p0.loc[: , stst.links.carrier == c] * 3\n",
    "lmps = n.buses_t.marginal_price.loc[:, con.columns.map(stst.links.bus0)]\n",
    "con.columns = con.columns.map(stst.links.bus1).map(stst.buses.location)\n",
    "lmps.columns = con.columns\n",
    "cost = con * lmps\n",
    "smr_cc_cost_gas = cost.sum()\n",
    "\n",
    "# cost C02 atmosphere\n",
    "con = stst.links_t.p2.loc[: , stst.links.carrier == c] * 3\n",
    "lmps = n.buses_t.marginal_price.loc[:, con.columns.map(stst.links.bus2)]\n",
    "con.columns = con.columns.map(stst.links.bus1).map(stst.buses.location)\n",
    "lmps.columns = con.columns\n",
    "cost = con * lmps\n",
    "smr_cc_cost_co2_atm = cost.sum()\n",
    "\n",
    "# revenue C02 stored\n",
    "con = stst.links_t.p3.loc[: , stst.links.carrier == c] * 3\n",
    "lmps = n.buses_t.marginal_price.loc[:, con.columns.map(stst.links.bus3)]\n",
    "con.columns = con.columns.map(stst.links.bus1).map(stst.buses.location)\n",
    "lmps.columns = con.columns\n",
    "cost = con * lmps\n",
    "smr_cc_cost_co2_stored = cost.sum()\n",
    "\n",
    "smr_cc_cost_total = smr_cc_cost_gas + smr_cc_cost_co2_atm + smr_cc_cost_co2_stored"
   ],
   "metadata": {
    "collapsed": false,
    "pycharm": {
     "name": "#%%\n"
    }
   }
  },
  {
   "cell_type": "code",
   "execution_count": null,
   "outputs": [],
   "source": [
    "# STST\n",
    "c = \"SMR CC\"\n",
    "# marginal cost\n",
    "mc = stst.links[stst.links.carrier == c].marginal_cost\n",
    "mc.index = mc.index.map(n.links.bus1).map(n.buses.location)\n",
    "mc = mc * df_stst_ons[f\"{c}_gen_h2\"] * 1e3\n",
    "df_stst_ons[f\"{c}_mc\"] = mc\n",
    "\n",
    "# capacity investment cost\n",
    "I = stst.links[stst.links.carrier == c].capital_cost * stst.links[stst.links.carrier == c].p_nom_opt\n",
    "I.index = I.index.map(n.links.bus1).map(n.buses.location)\n",
    "df_stst_ons[f\"{c}_cap_invest\"] = I\n",
    "\n",
    "df_stst_ons_help = df_stst_ons.copy()\n",
    "df_stst_ons_help[\"country_help\"] = df_stst_ons_help.index.str[:2]\n",
    "ccs = [convert_ISO_3166_2_to_1[cc] for cc in df_stst_ons_help[\"country_help\"]]\n",
    "df_stst_ons_help[\"country\"] = pd.DataFrame([ccs]).T.values\n",
    "\n",
    "df_stst_ons_c[f\"{c}_mc\"] = df_stst_ons_help.groupby(by=\"country\").sum()[f\"{c}_mc\"]\n",
    "df_stst_ons_c[f\"{c}_cap_invest\"] = df_stst_ons_help.groupby(by=\"country\").sum()[f\"{c}_cap_invest\"]\n",
    "df_stst_ons_c[f\"{c}_cost_gas\"] = pd.concat([smr_cc_cost_total, df_stst_ons_help[\"country\"]], axis=1).groupby(by=\"country\").sum()\n",
    "df_stst_ons_c[f\"{c}_gen_h2\"] = df_stst_ons_help.groupby(by=\"country\").sum()[f\"{c}_gen_h2\"] * 1e3\n",
    "df_stst_ons_c[f\"{c}_lcoh\"] = ( df_stst_ons_c[f\"{c}_cap_invest\"] + df_stst_ons_c[f\"{c}_mc\"] + df_stst_ons_c[f\"{c}_cost_gas\"]) / df_stst_ons_c[f\"{c}_gen_h2\"]\n",
    "df_stst_ons_c = df_stst_ons_c.assign(scenario = \"STST\")"
   ],
   "metadata": {
    "collapsed": false,
    "pycharm": {
     "name": "#%%\n"
    }
   }
  },
  {
   "cell_type": "code",
   "execution_count": null,
   "outputs": [],
   "source": [
    "# ratio of market values and lcoh\n",
    "lcoh = (smr_cc_cost_total / (df_stst_ons[\"SMR CC_gen_h2\"] * 1e3))"
   ],
   "metadata": {
    "collapsed": false,
    "pycharm": {
     "name": "#%%\n"
    }
   }
  },
  {
   "cell_type": "code",
   "execution_count": null,
   "outputs": [],
   "source": [
    "df_stst_ons[\"SMR CC_mv_gen_h2\"]"
   ],
   "metadata": {
    "collapsed": false,
    "pycharm": {
     "name": "#%%\n"
    }
   }
  },
  {
   "cell_type": "code",
   "execution_count": null,
   "outputs": [],
   "source": [
    "df_stst_ons_c[f\"{c}_lcoh\"]"
   ],
   "metadata": {
    "collapsed": false,
    "pycharm": {
     "name": "#%%\n"
    }
   }
  },
  {
   "cell_type": "code",
   "execution_count": null,
   "outputs": [],
   "source": [
    "# cost based\n",
    "\n",
    "fig, ax = plt.subplots(ncols=1, nrows=1, figsize=(12, 5))\n",
    "\n",
    "df_stst_ons_c[\"SMR CC_lcoh\"].plot(kind='bar', ax=ax, color=\"cadetblue\", width=0.6)\n",
    "ax.set_ylabel(\"LCOH in $€/MWh_{h2}$\")\n",
    "ax.set_title(f\"LCOH from SMR CC per country (STST)\", fontsize=16, **font1)\n",
    "\n",
    "plt.show()"
   ],
   "metadata": {
    "collapsed": false,
    "pycharm": {
     "name": "#%%\n"
    }
   }
  },
  {
   "cell_type": "code",
   "execution_count": null,
   "outputs": [],
   "source": [
    "# mv based\n",
    "\n",
    "fig, ax = plt.subplots(ncols=1, nrows=1, figsize=(12, 5))\n",
    "\n",
    "df_stst_ons_c_mv[\"SMR CC_mv\"].plot(kind='bar', ax=ax, color=\"cadetblue\", width=0.6)\n",
    "ax.set_ylabel(\"LCOH in $€/MWh_{h2}$\")\n",
    "ax.set_title(f\"LCOH from SMR CC per country (STST)\", fontsize=16, **font1)\n",
    "ax.set_xlabel(\"country\")\n",
    "\n",
    "plt.tight_layout()\n",
    "plt.show()\n",
    "fig.savefig(f\"{PLOT_DIR}/lcoh_smr_cc.png\")"
   ],
   "metadata": {
    "collapsed": false,
    "pycharm": {
     "name": "#%%\n"
    }
   }
  },
  {
   "cell_type": "code",
   "execution_count": null,
   "outputs": [],
   "source": [
    "# compare to mv\n",
    "pd.concat([df_stst_ons_c_mv[\"SMR CC_mv\"],df_stst_ons_c[\"SMR CC_lcoh\"]],axis=1)"
   ],
   "metadata": {
    "collapsed": false,
    "pycharm": {
     "name": "#%%\n"
    }
   }
  },
  {
   "cell_type": "code",
   "execution_count": null,
   "outputs": [],
   "source": [
    "df_stst_ons[\"SMR CC_mv_gen_h2\"]"
   ],
   "metadata": {
    "collapsed": false,
    "pycharm": {
     "name": "#%%\n"
    }
   }
  },
  {
   "cell_type": "markdown",
   "source": [
    "#### Total"
   ],
   "metadata": {
    "collapsed": false,
    "pycharm": {
     "name": "#%% md\n"
    }
   }
  },
  {
   "cell_type": "code",
   "execution_count": null,
   "outputs": [],
   "source": [
    "c1 = \"H2 Electrolysis\"\n",
    "c2 = \"SMR CC\"\n",
    "\n",
    "df_stst_ons_c[\"lcoh_total\"] = (df_stst_ons_c[f\"{c1}_cap_invest\"] + df_stst_ons_c[f\"{c1}_mc\"] + df_stst_ons_c[f\"{c1}_cost_el\"] + df_stst_ons_c[f\"{c2}_cap_invest\"] + df_stst_ons_c[f\"{c2}_mc\"] + df_stst_ons_c[f\"{c2}_cost_gas\"]) / (df_stst_ons_c[f\"{c1}_gen_h2\"] + df_stst_ons_c[f\"{c2}_gen_h2\"])\n",
    "\n",
    "df_exp_ons_c[\"lcoh_total\"] =  df_exp_ons_c[\"H2 Electrolysis_lcoh\"]\n",
    "\n",
    "lcohs_total = pd.concat([df_exp_ons_c[[\"lcoh_total\", \"scenario\"]], df_stst_ons_c[[\"lcoh_total\", \"scenario\"]]])\n",
    "lcohs_total.reset_index(inplace=True)\n",
    "lcohs_total.rename(columns={\"index\": \"country\"}, inplace=True)\n",
    "lcohs_total.pivot('country', 'scenario',\"lcoh_total\")"
   ],
   "metadata": {
    "collapsed": false,
    "pycharm": {
     "name": "#%%\n"
    }
   }
  },
  {
   "cell_type": "code",
   "execution_count": null,
   "outputs": [],
   "source": [
    "# cost based\n",
    "\n",
    "fig, ax = plt.subplots(ncols=1, nrows=1, figsize=(12, 5))\n",
    "\n",
    "lcohs_total.pivot('country', 'scenario',\"lcoh_total\")[[\"STST\", \"EXP\"]].plot(kind='bar', ax=ax, color=[\"cadetblue\", \"hotpink\"], width=0.7)\n",
    "ax.set_ylabel(\"LCOH in $€/MWh_{h2}$\")\n",
    "ax.set_title(f\"Total LCOH per country\", fontsize=16, **font1)\n",
    "ax.legend(loc=\"upper right\")\n",
    "\n",
    "plt.show()"
   ],
   "metadata": {
    "collapsed": false,
    "pycharm": {
     "name": "#%%\n"
    }
   }
  },
  {
   "cell_type": "code",
   "execution_count": null,
   "outputs": [],
   "source": [
    "lcohs_total.pivot('country', 'scenario',\"lcoh_total\").describe()"
   ],
   "metadata": {
    "collapsed": false,
    "pycharm": {
     "name": "#%%\n"
    }
   }
  },
  {
   "cell_type": "code",
   "execution_count": null,
   "outputs": [],
   "source": [
    "# market value based\n",
    "help = df_exp_ons_c_mv[[\"H2 Electrolysis_mv\", \"scenario\"]]\n",
    "help.rename(columns={\"H2 Electrolysis_mv\":\"H2_mv_total\"}, inplace=True)\n",
    "lcohs_total_mv = pd.concat([help, df_stst_ons_c_mv[[\"H2_mv_total\", \"scenario\"]]])\n",
    "lcohs_total_mv.reset_index(inplace=True)\n",
    "lcohs_total_mv.rename(columns={\"index\": \"country\"}, inplace=True)\n",
    "lcohs_total_mv.pivot('country', 'scenario',\"H2_mv_total\")\n",
    "\n",
    "fig, ax = plt.subplots(ncols=1, nrows=1, figsize=(12, 5))\n",
    "\n",
    "lcohs_total_mv.pivot('country', 'scenario',\"H2_mv_total\")[[\"STST\", \"EXP\"]].plot(kind='bar', ax=ax, color=[\"cadetblue\", \"hotpink\"], width=0.7)\n",
    "ax.set_ylabel(\"LCOH in $€/MWh_{h2}$\")\n",
    "ax.set_title(f\"LCOH per country\", fontsize=16, **font1)\n",
    "ax.legend(loc=\"upper right\")\n",
    "\n",
    "plt.tight_layout()\n",
    "plt.show()\n",
    "fig.savefig(f\"{PLOT_DIR}/lcoh_total.png\")"
   ],
   "metadata": {
    "collapsed": false,
    "pycharm": {
     "name": "#%%\n"
    }
   }
  },
  {
   "cell_type": "code",
   "execution_count": null,
   "outputs": [],
   "source": [
    "# compare to demand weighted lmps\n",
    "pd.concat([df_stst_ons_c_mv[\"H2_lmp_dw\"],df_stst_ons_c_mv[\"H2_mv_total\"], df_stst_ons_c[\"lcoh_total\"]],axis=1)"
   ],
   "metadata": {
    "collapsed": false,
    "pycharm": {
     "name": "#%%\n"
    }
   }
  },
  {
   "cell_type": "code",
   "execution_count": null,
   "outputs": [],
   "source": [
    "df_exp_ons_c_mv"
   ],
   "metadata": {
    "collapsed": false,
    "pycharm": {
     "name": "#%%\n"
    }
   }
  },
  {
   "cell_type": "code",
   "execution_count": null,
   "outputs": [],
   "source": [
    "# compare to demand weighted lmps\n",
    "pd.concat([df_exp_ons_c_mv[\"H2_lmp_dw\"],df_exp_ons_c_mv[\"H2 Electrolysis_mv\"], df_exp_ons_c[\"lcoh_total\"]],axis=1)"
   ],
   "metadata": {
    "collapsed": false,
    "pycharm": {
     "name": "#%%\n"
    }
   }
  },
  {
   "cell_type": "code",
   "execution_count": null,
   "outputs": [],
   "source": [
    "# total cost per MWh\n",
    "# cost absed\n",
    "(df_stst_ons_c[f\"{c1}_cap_invest\"] + df_stst_ons_c[f\"{c1}_mc\"] + df_stst_ons_c[f\"{c1}_cost_el\"] + df_stst_ons_c[f\"{c2}_cap_invest\"] + df_stst_ons_c[f\"{c2}_mc\"] + df_stst_ons_c[f\"{c2}_cost_gas\"]).sum() / (df_stst_ons_c[f\"{c1}_gen_h2\"] + df_stst_ons_c[f\"{c2}_gen_h2\"]).sum()\n",
    "\n",
    "#mv based: 82.95"
   ],
   "metadata": {
    "collapsed": false,
    "pycharm": {
     "name": "#%%\n"
    }
   }
  },
  {
   "cell_type": "code",
   "execution_count": null,
   "outputs": [],
   "source": [
    "# major producers\n",
    "df_stst_ons_c[[\"H2 Electrolysis_gen_h2\" , \"SMR CC_gen_h2\"]].sum(axis=1).sort_values(ascending=False)"
   ],
   "metadata": {
    "collapsed": false,
    "pycharm": {
     "name": "#%%\n"
    }
   }
  },
  {
   "cell_type": "code",
   "execution_count": null,
   "outputs": [],
   "source": [
    "df_exp_ons_c[\"H2 Electrolysis_gen_h2\"].sort_values(ascending=False)"
   ],
   "metadata": {
    "collapsed": false,
    "pycharm": {
     "name": "#%%\n"
    }
   }
  },
  {
   "cell_type": "code",
   "execution_count": null,
   "outputs": [],
   "source": [
    "# who produces more in EXP\n",
    "(df_stst_ons_c[[\"H2 Electrolysis_gen_h2\" , \"SMR CC_gen_h2\"]].sum(axis=1) - df_exp_ons_c[\"H2 Electrolysis_gen_h2\"]).sort_values()"
   ],
   "metadata": {
    "collapsed": false,
    "pycharm": {
     "name": "#%%\n"
    }
   }
  },
  {
   "cell_type": "code",
   "execution_count": null,
   "outputs": [],
   "source": [
    "(lcohs_total.pivot('country', 'scenario',\"lcoh_total\")[\"STST\"] - lcohs_total.pivot('country', 'scenario',\"lcoh_total\")[\"EXP\"]).sort_values()"
   ],
   "metadata": {
    "collapsed": false,
    "pycharm": {
     "name": "#%%\n"
    }
   }
  },
  {
   "cell_type": "markdown",
   "metadata": {
    "pycharm": {
     "name": "#%% md\n"
    }
   },
   "source": [
    "## Temporal Differences"
   ]
  },
  {
   "cell_type": "code",
   "execution_count": null,
   "outputs": [],
   "source": [
    "df"
   ],
   "metadata": {
    "collapsed": false,
    "pycharm": {
     "name": "#%%\n"
    }
   }
  },
  {
   "cell_type": "markdown",
   "metadata": {
    "pycharm": {
     "name": "#%% md\n"
    }
   },
   "source": [
    "### Nodal prices per time step"
   ]
  },
  {
   "cell_type": "code",
   "execution_count": null,
   "metadata": {
    "pycharm": {
     "name": "#%%\n"
    }
   },
   "outputs": [],
   "source": [
    "stst.buses.carrier.unique().tolist()"
   ]
  },
  {
   "cell_type": "code",
   "execution_count": null,
   "metadata": {
    "pycharm": {
     "name": "#%%\n"
    }
   },
   "outputs": [],
   "source": [
    "carriers = [ \"H2\", \"H2 liquid\"]\n",
    "model = \"STST\"\n",
    "\n",
    "if model == \"STST\":\n",
    "    n = stst\n",
    "\n",
    "elif model == \"EXP\":\n",
    "    n = exp\n",
    "\n",
    "fig, axs = plt.subplots(ncols=2, nrows=1, figsize=(16, 4.5))\n",
    "\n",
    "for i, ax in enumerate(axs):\n",
    "\n",
    "    # change to mean for investigating in mean (unit: €/MWh)\n",
    "    df = pd.DataFrame(n.buses_t.marginal_price[n.buses[n.buses.carrier==carriers[i]].index].mean(axis=1))\n",
    "\n",
    "    hours = df.index.hour.unique()[::-1]\n",
    "    df_start = pd.DataFrame(index=pd.Index(df.index.date).unique())\n",
    "\n",
    "    for hour in hours:\n",
    "        df_start[str(hour)] = df[df.index.hour==hour].values\n",
    "\n",
    "    sns.heatmap(df_start.transpose(),\n",
    "                ax =ax,\n",
    "                cmap=plt.get_cmap(\"magma_r\"),\n",
    "                linewidth=0.001,\n",
    "                xticklabels=15,\n",
    "                cbar_kws={'label': \"lmps ($€/MWh_{h2}$)\", 'pad': 0.09})\n",
    "    ax.set_title(f\"{carriers[i]}\", fontsize=16, **font1)\n",
    "    ax.set_ylabel(\"hour of the day\", fontsize=12, **font1)\n",
    "    ax.set_xlabel(\"day of the year\", fontsize=12, **font1)\n",
    "\n",
    "    # Rewrite the y labels\n",
    "    x_labels = ax.get_xticks()\n",
    "    ax.xaxis.set_major_formatter(matplotlib.dates.DateFormatter('%d-%b'))\n",
    "\n",
    "fig.suptitle(f\"Locational marginal prices for electricity buses ({model})\", fontsize=16, **font1)\n",
    "fig.tight_layout(pad=1)\n",
    "plt.show()\n",
    "\n",
    "fig.savefig(f\"{PLOT_DIR}/h2+liquid_lmp_heatmap_{model}.png\")"
   ]
  },
  {
   "cell_type": "code",
   "execution_count": null,
   "metadata": {
    "pycharm": {
     "name": "#%%\n"
    }
   },
   "outputs": [],
   "source": [
    "# average prices\n",
    "# STST: AC: 92.12; low voltage: 97.55; battery: 93.12; Li-ion: 102.81\n",
    "# EXP: AC: 75.31; low voltage: 80.74; battery: 75.91; Li-ion: 85.61\n",
    "c = \"AC\"\n",
    "n = exp\n",
    "n.buses_t.marginal_price.loc[: , n.buses.carrier == c].mean().mean()"
   ]
  },
  {
   "cell_type": "code",
   "execution_count": null,
   "metadata": {
    "pycharm": {
     "name": "#%%\n"
    }
   },
   "outputs": [],
   "source": [
    "c = \"AC\""
   ]
  },
  {
   "cell_type": "code",
   "execution_count": null,
   "metadata": {
    "pycharm": {
     "name": "#%%\n"
    }
   },
   "outputs": [],
   "source": [
    "from sklearn import preprocessing\n",
    "\n",
    "sns.distplot(stst.buses_t.marginal_price.loc[: , stst.buses.carrier == c].dropna().values.reshape(1, -1), hist=False, rug=True, label=\"stst\")\n",
    "sns.distplot(exp.buses_t.marginal_price.loc[: , exp.buses.carrier == c].dropna().values.reshape(1, -1), hist=False, rug=True, label=\"exp\")\n",
    "\n",
    "plt.legend()\n",
    "plt.show()"
   ]
  },
  {
   "cell_type": "code",
   "execution_count": null,
   "metadata": {
    "pycharm": {
     "name": "#%%\n"
    }
   },
   "outputs": [],
   "source": [
    "for c in carriers:\n",
    "    print(c)\n",
    "    print(np.std(stst.buses_t.marginal_price.loc[: , stst.buses.carrier == c].values.reshape(1, -1)))\n",
    "    print(np.std(exp.buses_t.marginal_price.loc[: , exp.buses.carrier == c].values.reshape(1, -1)))"
   ]
  },
  {
   "cell_type": "code",
   "execution_count": null,
   "metadata": {
    "pycharm": {
     "name": "#%%\n"
    }
   },
   "outputs": [],
   "source": [
    "#stst.buses_t.marginal_price.loc[: , stst.buses.carrier == c].values.reshape(1, -1).sort()\n",
    "#exp.buses_t.marginal_price.loc[: , exp.buses.carrier == c].values.reshape(1, -1).sort()\n",
    "\n",
    "np.sort(stst.buses_t.marginal_price.loc[: , stst.buses.carrier == c], axis=None)\n",
    "np.sort(exp.buses_t.marginal_price.loc[: , exp.buses.carrier == c], axis=None)"
   ]
  },
  {
   "cell_type": "code",
   "execution_count": null,
   "metadata": {
    "pycharm": {
     "name": "#%%\n"
    }
   },
   "outputs": [],
   "source": [
    "np.std(exp.buses_t.marginal_price.loc[: , exp.buses.carrier == c].values.reshape(1, -1))"
   ]
  },
  {
   "cell_type": "code",
   "execution_count": null,
   "outputs": [],
   "source": [
    "# comparison STST and EXP\n",
    "carrier = \"H2\"\n",
    "models = [\"STST\", \"EXP\"]\n",
    "\n",
    "fig, axs = plt.subplots(ncols=2, nrows=1, figsize=(16, 4.5))\n",
    "\n",
    "for i, ax in enumerate(axs):\n",
    "\n",
    "    if models[i] == \"STST\":\n",
    "        n = stst\n",
    "\n",
    "    elif models[i] == \"EXP\":\n",
    "        n = exp\n",
    "\n",
    "    # change to mean for investigating in mean (unit: €/MWh)\n",
    "    df = pd.DataFrame(n.buses_t.marginal_price[n.buses[n.buses.carrier==carrier].index].mean(axis=1))\n",
    "\n",
    "    hours = df.index.hour.unique()[::-1]\n",
    "    df_start = pd.DataFrame(index=pd.Index(df.index.date).unique())\n",
    "\n",
    "    for hour in hours:\n",
    "        df_start[str(hour)] = df[df.index.hour==hour].values\n",
    "\n",
    "    sns.heatmap(df_start.transpose(),\n",
    "                ax =ax,\n",
    "                cmap=plt.get_cmap(\"magma_r\"),\n",
    "                linewidth=0.001,\n",
    "                xticklabels=15,\n",
    "                cbar_kws={'label': \"lmps ($€/MWh_{h2}$)\", 'pad': 0.09})\n",
    "    ax.set_title(f\"H2 ({models[i]})\", fontsize=16, **font1)\n",
    "    ax.set_ylabel(\"hour of the day\", fontsize=12, **font1)\n",
    "    ax.set_xlabel(\"day of the year\", fontsize=12, **font1)\n",
    "\n",
    "    # Rewrite the y labels\n",
    "    x_labels = ax.get_xticks()\n",
    "    ax.xaxis.set_major_formatter(matplotlib.dates.DateFormatter('%d-%b'))\n",
    "\n",
    "#fig.suptitle(f\"Locational marginal prices for electricity buses ({model})\", fontsize=16, **font1)\n",
    "fig.tight_layout(pad=1)\n",
    "plt.show()\n",
    "\n",
    "fig.savefig(f\"{PLOT_DIR}/h2_lmp_heatmap_STST_EXP.png\")"
   ],
   "metadata": {
    "collapsed": false,
    "pycharm": {
     "name": "#%%\n"
    }
   }
  },
  {
   "cell_type": "markdown",
   "metadata": {
    "pycharm": {
     "name": "#%% md\n"
    }
   },
   "source": [
    "### Price duration curves"
   ]
  },
  {
   "cell_type": "markdown",
   "source": [],
   "metadata": {
    "collapsed": false,
    "pycharm": {
     "name": "#%% md\n"
    }
   }
  },
  {
   "cell_type": "code",
   "execution_count": null,
   "metadata": {
    "pycharm": {
     "name": "#%%\n"
    }
   },
   "outputs": [],
   "source": [
    "# get lmps of selected buses\n",
    "lmp_stst = pd.DataFrame(index=stst.buses_t.marginal_price.index)\n",
    "lmp_exp = pd.DataFrame(index=exp.buses_t.marginal_price.index)\n",
    "c_buses_h2 = [ \"H2\"]\n",
    "\n",
    "for c in c_buses_h2:\n",
    "    lmp_stst[c]= stst.buses_t.marginal_price.loc[:, stst.buses.carrier == c].mean(axis=1)\n",
    "    lmp_exp[c]= exp.buses_t.marginal_price.loc[:, exp.buses.carrier == c].mean(axis=1)"
   ]
  },
  {
   "cell_type": "code",
   "execution_count": null,
   "metadata": {
    "pycharm": {
     "name": "#%%\n"
    }
   },
   "outputs": [],
   "source": [
    "bus_colors_stst = { \"H2\": 'turquoise'}\n",
    "bus_colors_exp = { \"AC\": 'darkslategrey'}\n",
    "\n",
    "fig, axs = plt.subplots(ncols=1, nrows=2, figsize=(8,8))\n",
    "\n",
    "for i, ax in enumerate(axs):\n",
    "\n",
    "    c = \"H2\"\n",
    "    duration_curve = pd.DataFrame(np.sort(stst.buses_t.marginal_price.loc[: , stst.buses.carrier == c], axis=None)[::-1]).set_index(pd.Index(np.linspace(0, 1, num=181*2920)))\n",
    "    ax.plot(duration_curve, label=f\"{c} (stst)\", color=\"cadetblue\")\n",
    "    duration_curve = pd.DataFrame(np.sort(exp.buses_t.marginal_price.loc[: , exp.buses.carrier == c], axis=None)[::-1]).set_index(pd.Index(np.linspace(0, 1, num=181*2920)))\n",
    "    ax.plot(duration_curve, label=f\"{c} (exp)\", color=\"hotpink\")\n",
    "    ax.legend()\n",
    "    ax.set_title(f\"{c}\", fontsize=16, **font1)\n",
    "\n",
    "    if i == 0:\n",
    "        ax.set_ylim([-50,400])\n",
    "        lim_str = \"ylim=400\"\n",
    "    elif i == 1:\n",
    "        ax.set_xlim([0, 0.02])\n",
    "        lim_str = \"xlim=0.02\"\n",
    "\n",
    "    ax.set_ylabel(\"Lmp ($€/MWh_{h2}$)\")\n",
    "    ax.set_xlabel(\"Fraction of total time\")\n",
    "    ax.set_title(f\"Price duration curves of hydrogen bus ({lim_str})\", fontsize=16, **font1)\n",
    "\n",
    "fig.tight_layout()\n",
    "plt.show()\n",
    "\n",
    "fig.savefig(f\"{PLOT_DIR}/lmp_h2_price_dur_xlim=0.02_ylim=400.png\")"
   ]
  },
  {
   "cell_type": "code",
   "execution_count": null,
   "metadata": {
    "pycharm": {
     "name": "#%%\n"
    }
   },
   "outputs": [],
   "source": [
    "from scipy import stats\n",
    "\n",
    "df_exp_lmp = pd.DataFrame(np.sort(exp.buses_t.marginal_price.loc[: , exp.buses.carrier == \"AC\"], axis=None)[::-1])\n",
    "df_stst_lmp = pd.DataFrame(np.sort(stst.buses_t.marginal_price.loc[: , stst.buses.carrier == \"AC\"], axis=None)[::-1])\n",
    "\n",
    "#df_stst_lmp[df_stst_lmp < 0].dropna()\n",
    "#df_exp_lmp[df_exp_lmp < 0].dropna()\n",
    "#df_stst_lmp.max()\n",
    "#df_exp_lmp.max()\n",
    "\n",
    "# STST: 338 (< 0); 2674 (>400); 1286 (>1000);311 (>1500); 193 (>2000); 9 (>2500); 0 (>3000)\n",
    "# EXP : 497 (< 0); 3054 (>400); 986 (>1000); 674 (>1500); 3 (>2000); 0 (>2500); 0 (>3000)"
   ]
  },
  {
   "cell_type": "code",
   "execution_count": null,
   "metadata": {
    "pycharm": {
     "name": "#%%\n"
    }
   },
   "outputs": [],
   "source": [
    "stst.buses_t.marginal_price.loc[: , stst.buses.carrier == \"H2\"].sum(axis=1).idxmin()\n",
    "#exp.buses_t.marginal_price.loc[: , exp.buses.carrier == \"H2\"].sum(axis=1).idxmin()"
   ]
  },
  {
   "cell_type": "code",
   "execution_count": null,
   "metadata": {
    "pycharm": {
     "name": "#%%\n"
    }
   },
   "outputs": [],
   "source": [
    "# date with the highest sum of lmps: \"2013-01-24 15:00:00\"\n",
    "stst.buses_t.marginal_price.loc[: , stst.buses.carrier == \"H2\"].loc[\"2013-01-24 15:00:00\"].sum()\n",
    "# date with the lowest sum of lmps: '2013-06-23 06:00:00'\n",
    "#stst.buses_t.marginal_price.loc[: , stst.buses.carrier == \"H2\"].loc['2013-06-23 06:00:00'].sum()"
   ]
  },
  {
   "cell_type": "code",
   "execution_count": null,
   "metadata": {
    "pycharm": {
     "name": "#%%\n"
    }
   },
   "outputs": [],
   "source": [
    "df_stst_ons[\"H2_lmp_sum_max\"] = stst.buses_t.marginal_price.loc[: , stst.buses.carrier == \"AC\"].loc[\"2013-01-24 15:00:00\"]\n",
    "df_stst_ons[\"H2_lmp_sum_min\"] = stst.buses_t.marginal_price.loc[: , stst.buses.carrier == \"AC\"].loc['2013-06-23 06:00:00']"
   ]
  },
  {
   "cell_type": "code",
   "execution_count": null,
   "metadata": {
    "pycharm": {
     "name": "#%%\n"
    }
   },
   "outputs": [],
   "source": [
    "carriers = [\"H2_lmp_sum_min\", \"H2_lmp_sum_max\"]\n",
    "df = df_stst_ons\n",
    "\n",
    "fig, axs = plt.subplots(ncols=2, nrows=1, subplot_kw={'projection': ccrs.EqualEarth()},figsize=(18, 8))\n",
    "crs = ccrs.EqualEarth()\n",
    "\n",
    "for i, ax in enumerate(axs):\n",
    "\n",
    "    ax.add_feature(cartopy.feature.BORDERS, edgecolor='black', linewidth=0.5)\n",
    "    ax.coastlines(edgecolor='black', linewidth=0.5)\n",
    "    ax.set_facecolor('white')\n",
    "    ax.add_feature(cartopy.feature.OCEAN, color='azure')\n",
    "\n",
    "    df.to_crs(crs.proj4_init).plot(column=f\"{carriers[i]}\",\n",
    "                                   ax=ax,\n",
    "                                   cmap=plt.get_cmap(\"magma_r\"),\n",
    "                                   linewidth=0.05,\n",
    "                                   edgecolor = 'grey',\n",
    "                                   legend=True,\n",
    "                                   legend_kwds={'label':\"market values ($€/MWh_{el}$)\",'orientation': \"vertical\",'shrink' : 0.9}\n",
    "                                   )\n",
    "\n",
    "    # always select same section\n",
    "    xmin, ymin, xmax, ymax = df_stst_ons.to_crs(crs.proj4_init).total_bounds\n",
    "    pad = 1 * 1e5  # add a padding around the geometry\n",
    "    ax.set_xlim(xmin-pad, xmax+pad)\n",
    "    ax.set_ylim(ymin-pad, ymax+pad)\n",
    "\n",
    "    ax.set_title(f\"{carriers[i]}\", fontsize=16, **font1)\n",
    "\n",
    "fig.tight_layout()\n",
    "\n",
    "#plt.close()\n",
    "plt.show()"
   ]
  },
  {
   "cell_type": "code",
   "execution_count": null,
   "metadata": {
    "pycharm": {
     "name": "#%%\n"
    }
   },
   "outputs": [],
   "source": [
    "#TODO: investigate further into very high and very low prices"
   ]
  },
  {
   "cell_type": "markdown",
   "metadata": {
    "pycharm": {
     "name": "#%% md\n"
    }
   },
   "source": [
    "### Price bands"
   ]
  },
  {
   "cell_type": "code",
   "execution_count": null,
   "metadata": {
    "pycharm": {
     "name": "#%%\n"
    }
   },
   "outputs": [],
   "source": [
    "# plot percentage of production per price band and percentage of revenue per price band\n",
    "c_gen= c_h2_gen\n",
    "c_con = c_h2_con\n",
    "c_labels = c_con + c_gen\n",
    "price_bands = [-np.inf, 50, 75, 100, 125, 150, np.inf]\n",
    "price_bands_labels = [\"< 50\",\"[50 - 75)\", \"[75 - 100)\", \"[100 - 125)\", \"[125 - 150)\", \">= 150\"]\n",
    "res_gen_con_stst = pd.DataFrame(index=[str(s) for s in range(len(price_bands)-1)])\n",
    "res_rev_cost_stst = pd.DataFrame(index=[str(s) for s in range(len(price_bands)-1)])\n",
    "res_gen_con_exp = pd.DataFrame(index=[str(s) for s in range(len(price_bands)-1)])\n",
    "res_rev_cost_exp = pd.DataFrame(index=[str(s) for s in range(len(price_bands)-1)])\n",
    "buses = [\"bus0\", \"bus1\", \"bus2\", \"bus3\", \"bus4\"]\n",
    "ps = [\"p0\", \"p1\", \"p2\", \"p3\", \"p4\"]"
   ]
  },
  {
   "cell_type": "code",
   "execution_count": null,
   "metadata": {
    "pycharm": {
     "name": "#%%\n"
    }
   },
   "outputs": [],
   "source": [
    "# calc\n",
    "\n",
    "for n, res_gen_con, res_rev_cost in zip([stst, exp], [res_gen_con_stst, res_gen_con_exp], [res_rev_cost_stst, res_rev_cost_exp]):\n",
    "    for c in c_labels:\n",
    "        if c in n.generators.carrier.unique().tolist():\n",
    "            c_bus = n.generators[n.generators.carrier == c].bus.map(n.buses.carrier).unique()[0]\n",
    "            c_tag = c_tags[c_bus]\n",
    "            gen_tag = \"gen\"\n",
    "            gen = n.generators_t.p.loc[:, n.generators.carrier == c]\n",
    "            gen.columns = gen.columns.map(n.generators.bus)\n",
    "\n",
    "            lmp = n.buses_t.marginal_price.loc[:, gen.columns]\n",
    "            rev = gen * lmp\n",
    "\n",
    "            for i in range(len(price_bands)-1):\n",
    "                lmp_cat = lmp.mask((lmp >= price_bands[i]) & (lmp < price_bands[i+1]), \"hit\")\n",
    "                res_gen_con.loc[str(i), f\"{c}_{gen_tag}_{c_tag}_{c_bus}\"] = gen[lmp_cat == \"hit\"].sum().sum() / gen.sum().sum()\n",
    "                res_rev_cost.loc[str(i), f\"{c}_{gen_tag}_{c_tag}_{c_bus}\"] = rev[lmp_cat == \"hit\"].sum().sum() / rev.sum().sum()\n",
    "\n",
    "        elif c in n.links.carrier.unique().tolist():\n",
    "            for i, bus in enumerate(buses):\n",
    "                # check if bus exists\n",
    "                if n.links[n.links.carrier == c][bus][0] != \"\":\n",
    "                    c_bus = n.links[n.links.carrier == c][bus].map(n.buses.carrier).unique()[0]\n",
    "                    c_tag = c_tags[c_bus]\n",
    "                    # check if consumption or generation\n",
    "                    gen = generation_links_bus(n, c, i)\n",
    "                    gen_tag = \"gen\" if gen.sum() > 0 else \"con\"\n",
    "                    if gen_tag == \"gen\":\n",
    "                        gen = n.links_t[f\"{ps[i]}\"].loc[:, n.links.carrier == c] * -1\n",
    "                    elif gen_tag == \"con\":\n",
    "                        gen = n.links_t[f\"{ps[i]}\"].loc[:, n.links.carrier == c]\n",
    "\n",
    "                    gen.columns = gen.columns.map(n.links[bus])\n",
    "\n",
    "                    lmp = n.buses_t.marginal_price.loc[:, gen.columns]\n",
    "                    rev = gen * lmp\n",
    "\n",
    "                    for i in range(len(price_bands)-1):\n",
    "                        lmp_cat = lmp.mask((lmp >= price_bands[i]) & (lmp < price_bands[i+1]), \"hit\")\n",
    "                        res_gen_con.loc[str(i), f\"{c}_{gen_tag}_{c_tag}_{c_bus}\"] = gen[lmp_cat == \"hit\"].sum().sum() / gen.sum().sum()\n",
    "                        res_rev_cost.loc[str(i), f\"{c}_{gen_tag}_{c_tag}_{c_bus}\"] = rev[lmp_cat == \"hit\"].sum().sum() / rev.sum().sum()\n",
    "\n",
    "\n",
    "        elif c in n.storage_units.carrier.unique().tolist():\n",
    "            c_bus = n.storage_units[n.storage_units.carrier == c].bus.map(n.buses.carrier).unique()[0]\n",
    "            c_tag = c_tags[c_bus]\n",
    "            for gen_tag in [\"gen\", \"con\"]:\n",
    "                if gen_tag == \"gen\":\n",
    "                    gen = n.storage_units_t.p_dispatch.loc[:, n.storage_units.carrier == c]\n",
    "                elif gen_tag == \"con\":\n",
    "                    gen = n.storage_units_t.p_store.loc[:, n.storage_units.carrier == c]\n",
    "\n",
    "                gen.columns = gen.columns.map(n.storage_units.bus)\n",
    "\n",
    "                lmp = n.buses_t.marginal_price.loc[:, gen.columns]\n",
    "                rev = gen * lmp\n",
    "\n",
    "                for i in range(len(price_bands)-1):\n",
    "                    lmp_cat = lmp.mask((lmp >= price_bands[i]) & (lmp < price_bands[i+1]), \"hit\")\n",
    "                    res_gen_con.loc[str(i), f\"{c}_{gen_tag}_{c_tag}_{c_bus}\"] = gen[lmp_cat == \"hit\"].sum().sum() / gen.sum().sum()\n",
    "                    res_rev_cost.loc[str(i), f\"{c}_{gen_tag}_{c_tag}_{c_bus}\"] = rev[lmp_cat == \"hit\"].sum().sum() / rev.sum().sum()\n",
    "\n",
    "        else:\n",
    "            print(f\"{c} not known!\")"
   ]
  },
  {
   "cell_type": "code",
   "execution_count": null,
   "metadata": {
    "pycharm": {
     "name": "#%%\n"
    }
   },
   "outputs": [],
   "source": [
    "round(res_gen_con_stst, 4)"
   ]
  },
  {
   "cell_type": "code",
   "execution_count": null,
   "metadata": {
    "pycharm": {
     "name": "#%%\n"
    }
   },
   "outputs": [],
   "source": [
    "round(res_rev_cost_stst, 4)"
   ]
  },
  {
   "cell_type": "code",
   "execution_count": null,
   "outputs": [],
   "source": [
    "# extract right labels\n",
    "con_labels = [ 'H2 liquefaction_con_h2_H2', 'Sabatier_con_h2_H2', 'Fischer-Tropsch_con_h2_H2']\n",
    "gen_labels = ['H2 Electrolysis_gen_h2_H2', 'SMR CC_gen_h2_H2']"
   ],
   "metadata": {
    "collapsed": false,
    "pycharm": {
     "name": "#%%\n"
    }
   }
  },
  {
   "cell_type": "code",
   "execution_count": null,
   "metadata": {
    "pycharm": {
     "name": "#%%\n"
    }
   },
   "outputs": [],
   "source": [
    "# consumption and generation\n",
    "\n",
    "model = \"STST\"\n",
    "\n",
    "if model == \"STST\":\n",
    "    res_gen_con = res_gen_con_stst\n",
    "    res_rev_cost = res_rev_cost_stst\n",
    "    gen_labels_index = gen_labels\n",
    "\n",
    "elif model == \"EXP\":\n",
    "    res_gen_con = res_gen_con_exp\n",
    "    res_rev_cost = res_rev_cost_exp\n",
    "    gen_labels_index = ['H2 Electrolysis_gen_h2_H2']\n",
    "\n",
    "con_c = pd.Index(con_labels).str.split('_').str[0]\n",
    "gen_c = pd.Index(gen_labels_index).str.split('_').str[0]\n",
    "\n",
    "ticks = [carrier_renaming.get(n, n) for n in (con_c.to_list() + gen_c.to_list())]\n",
    "\n",
    "fig, (ax1, ax2) = plt.subplots(2, 1, figsize=(18, 8))\n",
    "\n",
    "gen_con = res_gen_con[con_labels + gen_labels_index]\n",
    "rev_cost = res_rev_cost[con_labels + gen_labels_index]\n",
    "col = sns.color_palette(\"inferno_r\", 6)\n",
    "\n",
    "ax1 = gen_con.transpose().plot(kind='bar', stacked=True, color=col, ax=ax1, legend=False)\n",
    "ax1.set_ylabel(\"Consumed or delivered hydrogen [%]\")\n",
    "ax1.set_xticks(ticks=range(len(ticks)), labels=ticks, rotation=0)\n",
    "ax1.set_title(f\"Consumption or Generation by hydrogen price band ({model})\", fontsize=16, **font1, pad=10)\n",
    "ax1.set_ylim([0,1])\n",
    "ax1.yaxis.set_major_formatter(mtick.PercentFormatter(1.0))\n",
    "\n",
    "ax2 = rev_cost.transpose().plot(kind='bar', stacked=True, color=col, ax=ax2)\n",
    "ax2.set_ylabel(\"Cost or revenue [%]\")\n",
    "ax2.legend(title='Price band ($€/MWh_{h2}$)', labels=price_bands_labels , bbox_to_anchor=(1, 1))\n",
    "ax2.set_xticks(ticks=range(len(ticks)), labels=ticks, rotation=0)\n",
    "ax2.set_title(f\"Cost or revenue by hydrogen price band ({model})\", fontsize=16, **font1, pad=10)\n",
    "\n",
    "ax2.axvline(x=len(c_con)-0.5,ymin=0,ymax=1,c=\"red\",linewidth=2,linestyle=\"--\", zorder=3, clip_on=False, label=\"seperator\")\n",
    "ax2.axvline(x=len(c_con)-0.5,ymin=1.27,ymax=2.27,c=\"red\",linewidth=2,linestyle=\"--\", zorder=3, clip_on=False, label=\"seperator\")\n",
    "ax2.set_ylim([0,1])\n",
    "ax2.yaxis.set_major_formatter(mtick.PercentFormatter(1.0))\n",
    "\n",
    "fig.tight_layout(pad=2)\n",
    "\n",
    "plt.show()\n",
    "\n",
    "fig.savefig(f\"{PLOT_DIR}/h2_price_bands_all_{model}.png\")"
   ]
  },
  {
   "cell_type": "code",
   "execution_count": null,
   "outputs": [],
   "source": [
    "round(res_gen_con_stst[gen_labels], 4)#.mean(axis=1)#.loc[\"3\":].sum()#.loc[\"3\":,:].sum()\n",
    "round(res_rev_cost_stst[gen_labels], 4)#.mean(axis=1)"
   ],
   "metadata": {
    "collapsed": false,
    "pycharm": {
     "name": "#%%\n"
    }
   }
  },
  {
   "cell_type": "code",
   "execution_count": null,
   "metadata": {
    "pycharm": {
     "name": "#%%\n"
    }
   },
   "outputs": [],
   "source": [
    "round(res_gen_con_exp[gen_labels], 4)#.mean(axis=1)#.loc[\"3\":].sum()#.loc[\"3\":,:].sum()\n",
    "round(res_rev_cost_exp[gen_labels], 4).mean(axis=1)"
   ]
  },
  {
   "cell_type": "code",
   "execution_count": null,
   "metadata": {
    "pycharm": {
     "name": "#%%\n"
    }
   },
   "outputs": [],
   "source": [
    "round(res_gen_con_stst[con_labels], 4) - round(res_gen_con_exp[con_labels], 4)"
   ]
  },
  {
   "cell_type": "code",
   "execution_count": null,
   "metadata": {
    "pycharm": {
     "name": "#%%\n"
    }
   },
   "outputs": [],
   "source": [
    "#round(res_gen_con_exp[gen_peak], 4).loc[\"3\":,:].sum()#.loc[\"2\":\"3\",:].sum().mean() #.mean(axis=1)  #.loc[\"3\":].sum()#.loc[\"3\":,:].sum()\n",
    "#round(res_rev_cost_exp[gen_labels], 4).mean(axis=1)"
   ]
  },
  {
   "cell_type": "code",
   "execution_count": null,
   "metadata": {
    "pycharm": {
     "name": "#%%\n"
    }
   },
   "outputs": [],
   "source": [
    "(round(res_gen_con_stst[gen_labels], 4) - round(res_gen_con_exp[gen_labels], 4))#.min()"
   ]
  },
  {
   "cell_type": "markdown",
   "source": [
    "## Temporal and spatio-temporal differences"
   ],
   "metadata": {
    "collapsed": false,
    "pycharm": {
     "name": "#%% md\n"
    }
   }
  },
  {
   "cell_type": "markdown",
   "source": [
    "#### Comparison between the models"
   ],
   "metadata": {
    "collapsed": false,
    "pycharm": {
     "name": "#%% md\n"
    }
   }
  },
  {
   "cell_type": "code",
   "execution_count": null,
   "outputs": [],
   "source": [
    "# hydrogen generation"
   ],
   "metadata": {
    "collapsed": false,
    "pycharm": {
     "name": "#%%\n"
    }
   }
  },
  {
   "cell_type": "code",
   "execution_count": null,
   "outputs": [],
   "source": [
    "carriers = [\"H2 Electrolysis\", \"SMR CC\"]\n",
    "models = [\"STST\", \"EXP\"]\n",
    "colors = [\"cadetblue\", \"hotpink\"]\n",
    "\n",
    "fig, axs = plt.subplots(ncols=2, nrows=1, figsize=(12, 1*4))\n",
    "\n",
    "for c, ax in zip(carriers, axs.reshape(-1)):\n",
    "\n",
    "    for i, n in enumerate([stst,exp]):\n",
    "        if c in n.generators.carrier.unique():\n",
    "            c_bus = n.generators[n.generators.carrier == c].bus.map(n.buses.carrier).unique()[0]\n",
    "            gen = n.generators_t.p.loc[: , n.generators.carrier == c]\n",
    "            lmps = n.buses_t.marginal_price.loc[:, gen.columns.map(n.generators.bus)]\n",
    "            df = pd.concat([pd.DataFrame(lmps.values.flatten()) , pd.DataFrame(gen.values.flatten())], axis=1)\n",
    "\n",
    "        elif c in n.links.carrier.unique():\n",
    "            c_bus = n.links[n.links.carrier == c][\"bus1\"].map(n.buses.carrier).unique()[0]\n",
    "            gen = n.links_t.p1.loc[: , n.links.carrier == c]\n",
    "            lmps = n.buses_t.marginal_price.loc[:, gen.columns.map(n.links.bus1)]\n",
    "            df = pd.concat([pd.DataFrame(lmps.values.flatten()) , pd.DataFrame(gen.values.flatten())], axis=1)\n",
    "\n",
    "        elif c in n.storage_units.carrier.unique():\n",
    "            c_bus = n.storage_units[n.storage_units.carrier == c].bus.map(n.buses.carrier).unique()[0]\n",
    "            gen = n.storage_units_t.p_dispatch.loc[: , n.storage_units.carrier == c]\n",
    "            lmps = n.buses_t.marginal_price.loc[:, gen.columns.map(n.storage_units.bus)]\n",
    "            df = pd.concat([pd.DataFrame(lmps.values.flatten()) , pd.DataFrame(gen.values.flatten())], axis=1)\n",
    "\n",
    "        df.columns = [\"lmp\" , \"gen\"]\n",
    "        df = df.sort_values(by=\"lmp\")\n",
    "        df[\"gen_cumsum\"] = df[\"gen\"].cumsum()\n",
    "        df[\"gen_cumsum_norm\"] = df[\"gen\"].cumsum() / df[\"gen\"].sum()\n",
    "        ax.plot(df[\"gen_cumsum_norm\"], df[\"lmp\"], label=models[i], color=colors[i])\n",
    "        ax.set_ylim([-50, 400])\n",
    "        # add corridor which contains 75 % of the generation around the median\n",
    "        ax.hlines(df[\"lmp\"].loc[df[\"lmp\"][df[\"gen_cumsum_norm\"] > 0.125].index[0]], 0, 1, color=colors[i], ls=\"--\", lw=1)\n",
    "        ax.hlines(df[\"lmp\"].loc[df[\"lmp\"][df[\"gen_cumsum_norm\"] > 0.875].index[0]], 0, 1,  color=colors[i], ls=\"--\", lw =1)\n",
    "        ax.set_ylabel(\"lmp [$€/MWh_{el}$\")\n",
    "        ax.set_xlabel(\"Fraction of total generation\")\n",
    "        ax.set_title(f\"{c} (bus = {c_bus})\", fontsize=16, **font1)\n",
    "        ax.legend()\n",
    "\n",
    "fig.tight_layout(pad=3)\n",
    "plt.show()"
   ],
   "metadata": {
    "collapsed": false,
    "pycharm": {
     "name": "#%%\n"
    }
   }
  },
  {
   "cell_type": "code",
   "execution_count": null,
   "outputs": [],
   "source": [
    "# hydrogen consumption"
   ],
   "metadata": {
    "collapsed": false,
    "pycharm": {
     "name": "#%%\n"
    }
   }
  },
  {
   "cell_type": "code",
   "execution_count": null,
   "outputs": [],
   "source": [
    "carriers = c_h2_con\n",
    "models = [\"STST\", \"EXP\"]\n",
    "colors = [\"cadetblue\", \"hotpink\"]\n",
    "\n",
    "fig, axs = plt.subplots(ncols=2, nrows=2, figsize=(12, 2*4))\n",
    "\n",
    "for c, ax in zip(carriers, axs.reshape(-1)):\n",
    "\n",
    "    for i, n in enumerate([stst,exp]):\n",
    "\n",
    "        if c in n.links.carrier.unique():\n",
    "            c_bus = n.links[n.links.carrier == c][\"bus0\"].map(n.buses.carrier).unique()[0]\n",
    "            con = n.links_t.p0.loc[: , n.links.carrier == c]\n",
    "            lmps = n.buses_t.marginal_price.loc[:, con.columns.map(n.links.bus0)]\n",
    "            df = pd.concat([pd.DataFrame(lmps.values.flatten()) , pd.DataFrame(con.values.flatten())], axis=1)\n",
    "\n",
    "        elif c in n.storage_units.carrier.unique():\n",
    "            c_bus = n.storage_units[n.storage_units.carrier == c].bus.map(n.buses.carrier).unique()[0]\n",
    "            con = n.storage_units_t.p_store.loc[: , n.storage_units.carrier == c]\n",
    "            lmps = n.buses_t.marginal_price.loc[:, con.columns.map(n.storage_units.bus)]\n",
    "            df = pd.concat([pd.DataFrame(lmps.values.flatten()) , pd.DataFrame(con.values.flatten())], axis=1)\n",
    "\n",
    "        df.columns = [\"lmp\" , \"gen\"]\n",
    "        df = df.sort_values(by=\"lmp\")\n",
    "        df[\"gen_cumsum\"] = df[\"gen\"].cumsum()\n",
    "        df[\"gen_cumsum_norm\"] = df[\"gen\"].cumsum() / df[\"gen\"].sum()\n",
    "        ax.plot(df[\"gen_cumsum_norm\"], df[\"lmp\"], label=models[i], color=colors[i])\n",
    "        ax.set_ylim([-50, 400])\n",
    "        # add corridor which contains 75 % of the generation around the median\n",
    "        ax.hlines(df[\"lmp\"].loc[df[\"lmp\"][df[\"gen_cumsum_norm\"] > 0.125].index[0]], 0, 1, color=colors[i], ls=\"--\", lw=1)\n",
    "        ax.hlines(df[\"lmp\"].loc[df[\"lmp\"][df[\"gen_cumsum_norm\"] > 0.875].index[0]], 0, 1,  color=colors[i], ls=\"--\", lw =1)\n",
    "        ax.set_ylabel(\"lmp [$€/MWh_{el}\")\n",
    "        ax.set_xlabel(\"Fraction of total consumption\")\n",
    "        ax.set_title(f\"{c} (bus = {c_bus})\", fontsize=16, **font1)\n",
    "        ax.legend()\n",
    "\n",
    "fig.tight_layout(pad=3)\n",
    "plt.show()"
   ],
   "metadata": {
    "collapsed": false,
    "pycharm": {
     "name": "#%%\n"
    }
   }
  },
  {
   "cell_type": "code",
   "execution_count": null,
   "outputs": [],
   "source": [
    "# hydrogen generation adn consumption"
   ],
   "metadata": {
    "collapsed": false,
    "pycharm": {
     "name": "#%%\n"
    }
   }
  },
  {
   "cell_type": "code",
   "execution_count": null,
   "outputs": [],
   "source": [
    "carriers = [\"H2 Electrolysis\"] + c_h2_con\n",
    "models = [\"STST\", \"EXP\"]\n",
    "colors = [\"cadetblue\", \"hotpink\"]\n",
    "\n",
    "fig, axs = plt.subplots(ncols=2, nrows=2, figsize=(12, 2*4))\n",
    "\n",
    "for c, ax in zip(carriers, axs.reshape(-1)):\n",
    "\n",
    "    for i, n in enumerate([stst,exp]):\n",
    "        # generation\n",
    "        if c == \"H2 Electrolysis\":\n",
    "\n",
    "            if c in n.links.carrier.unique():\n",
    "                c_bus = n.links[n.links.carrier == c][\"bus1\"].map(n.buses.carrier).unique()[0]\n",
    "                gen = n.links_t.p1.loc[: , n.links.carrier == c]\n",
    "                lmps = n.buses_t.marginal_price.loc[:, gen.columns.map(n.links.bus1)]\n",
    "                df = pd.concat([pd.DataFrame(lmps.values.flatten()) , pd.DataFrame(gen.values.flatten())], axis=1)\n",
    "\n",
    "            df.columns = [\"lmp\" , \"gen\"]\n",
    "            df = df.sort_values(by=\"lmp\")\n",
    "            df[\"gen_cumsum\"] = df[\"gen\"].cumsum()\n",
    "            df[\"gen_cumsum_norm\"] = df[\"gen\"].cumsum() / df[\"gen\"].sum()\n",
    "            ax.plot(df[\"gen_cumsum_norm\"], df[\"lmp\"], label=models[i], color=colors[i])\n",
    "            ax.set_ylim([-50, 400])\n",
    "            # add corridor which contains 75 % of the generation around the median\n",
    "            ax.hlines(df[\"lmp\"].loc[df[\"lmp\"][df[\"gen_cumsum_norm\"] > 0.125].index[0]], 0, 1, color=colors[i], ls=\"--\", lw=1)\n",
    "            ax.hlines(df[\"lmp\"].loc[df[\"lmp\"][df[\"gen_cumsum_norm\"] > 0.875].index[0]], 0, 1,  color=colors[i], ls=\"--\", lw =1)\n",
    "            ax.set_ylabel(\"lmp [$€/MWh_{h2}$\")\n",
    "            ax.set_xlabel(\"Fraction of total generation\")\n",
    "            ax.set_title(f\"{c} (bus = {c_bus})\", fontsize=16, **font1)\n",
    "            ax.legend()\n",
    "\n",
    "        else:\n",
    "\n",
    "            if c in n.links.carrier.unique():\n",
    "                c_bus = n.links[n.links.carrier == c][\"bus0\"].map(n.buses.carrier).unique()[0]\n",
    "                con = n.links_t.p0.loc[: , n.links.carrier == c]\n",
    "                lmps = n.buses_t.marginal_price.loc[:, con.columns.map(n.links.bus0)]\n",
    "                df = pd.concat([pd.DataFrame(lmps.values.flatten()) , pd.DataFrame(con.values.flatten())], axis=1)\n",
    "\n",
    "            df.columns = [\"lmp\" , \"gen\"]\n",
    "            df = df.sort_values(by=\"lmp\")\n",
    "            df[\"gen_cumsum\"] = df[\"gen\"].cumsum()\n",
    "            df[\"gen_cumsum_norm\"] = df[\"gen\"].cumsum() / df[\"gen\"].sum()\n",
    "            ax.plot(df[\"gen_cumsum_norm\"], df[\"lmp\"], label=models[i], color=colors[i])\n",
    "            ax.set_ylim([-50, 400])\n",
    "            # add corridor which contains 75 % of the generation around the median\n",
    "            ax.hlines(df[\"lmp\"].loc[df[\"lmp\"][df[\"gen_cumsum_norm\"] > 0.125].index[0]], 0, 1, color=colors[i], ls=\"--\", lw=1)\n",
    "            ax.hlines(df[\"lmp\"].loc[df[\"lmp\"][df[\"gen_cumsum_norm\"] > 0.875].index[0]], 0, 1,  color=colors[i], ls=\"--\", lw =1)\n",
    "            ax.set_ylabel(\"lmp [$€/MWh_{h2}\")\n",
    "            ax.set_xlabel(\"Fraction of total consumption\")\n",
    "            ax.set_title(f\"{c} (bus = {c_bus})\", fontsize=16, **font1)\n",
    "            ax.legend()\n",
    "\n",
    "fig.tight_layout(pad=3)\n",
    "plt.show()\n",
    "\n",
    "fig.savefig(f\"{PLOT_DIR}/h2_con_gen_w_lmps_between_model.png\")"
   ],
   "metadata": {
    "collapsed": false,
    "pycharm": {
     "name": "#%%\n"
    }
   }
  },
  {
   "cell_type": "markdown",
   "source": [
    "#### Comparison within the models"
   ],
   "metadata": {
    "collapsed": false,
    "pycharm": {
     "name": "#%% md\n"
    }
   }
  },
  {
   "cell_type": "code",
   "execution_count": null,
   "outputs": [],
   "source": [
    "# generation"
   ],
   "metadata": {
    "collapsed": false,
    "pycharm": {
     "name": "#%%\n"
    }
   }
  },
  {
   "cell_type": "code",
   "execution_count": null,
   "outputs": [],
   "source": [
    "carriers_stst = [\"H2 Electrolysis\", \"SMR CC\"]\n",
    "carriers_exp = [\"H2 Electrolysis\"]\n",
    "\n",
    "fig, axs = plt.subplots(ncols=2, nrows=1, figsize=(14, 5))\n",
    "\n",
    "for n, ax, model in zip([stst,exp], axs.reshape(-1), [\"STST\", \"EXP\"]):\n",
    "\n",
    "    if model == \"STST\":\n",
    "        carriers = carriers_stst\n",
    "\n",
    "    elif model == \"EXP\":\n",
    "        carriers = carriers_exp\n",
    "\n",
    "    for c in carriers:\n",
    "        if c in n.generators.carrier.unique():\n",
    "            c_bus = n.generators[n.generators.carrier == c].bus.map(n.buses.carrier).unique()[0]\n",
    "            gen = n.generators_t.p.loc[: , n.generators.carrier == c]\n",
    "            lmps = n.buses_t.marginal_price.loc[:, gen.columns.map(n.generators.bus)]\n",
    "            df = pd.concat([pd.DataFrame(lmps.values.flatten()) , pd.DataFrame(gen.values.flatten())], axis=1)\n",
    "\n",
    "        elif c in n.links.carrier.unique():\n",
    "            c_bus = n.links[n.links.carrier == c][\"bus1\"].map(n.buses.carrier).unique()[0]\n",
    "            gen = n.links_t.p1.loc[: , n.links.carrier == c]\n",
    "            lmps = n.buses_t.marginal_price.loc[:, gen.columns.map(n.links.bus1)]\n",
    "            df = pd.concat([pd.DataFrame(lmps.values.flatten()) , pd.DataFrame(gen.values.flatten())], axis=1)\n",
    "\n",
    "        elif c in n.storage_units.carrier.unique():\n",
    "            c_bus = n.storage_units[n.storage_units.carrier == c].bus.map(n.buses.carrier).unique()[0]\n",
    "            gen = n.storage_units_t.p_dispatch.loc[: , n.storage_units.carrier == c]\n",
    "            lmps = n.buses_t.marginal_price.loc[:, gen.columns.map(n.storage_units.bus)]\n",
    "            df = pd.concat([pd.DataFrame(lmps.values.flatten()) , pd.DataFrame(gen.values.flatten())], axis=1)\n",
    "\n",
    "        df.columns = [\"lmp\" , \"gen\"]\n",
    "        df = df.sort_values(by=\"lmp\")\n",
    "        df[\"gen_cumsum\"] = df[\"gen\"].cumsum()\n",
    "        df[\"gen_cumsum_norm\"] = df[\"gen\"].cumsum() / df[\"gen\"].sum()\n",
    "        ax.plot(df[\"gen_cumsum_norm\"], df[\"lmp\"], color=carrier_colors[c], label= f\"{c} ({c_bus})\",\n",
    "                marker=markers[carriers.index(c)], markevery=2920*40)\n",
    "        ax.set_ylim([-50, 500])\n",
    "        ax.set_ylabel(\"lmp [$€/MWh_{h2}$]\")\n",
    "        ax.set_xlabel(\"Fraction of total generation\")\n",
    "        ax.set_facecolor(\"whitesmoke\")\n",
    "        ax.set_title(f\"Hydrogen generating technologies ({model})\", fontsize=16, **font1)\n",
    "        ax.legend()\n",
    "\n",
    "fig.tight_layout(pad=3)\n",
    "plt.show()\n",
    "\n",
    "fig.savefig(f\"{PLOT_DIR}/h2_gen_w_lmps_within_models.png\")"
   ],
   "metadata": {
    "collapsed": false,
    "pycharm": {
     "name": "#%%\n"
    }
   }
  },
  {
   "cell_type": "code",
   "execution_count": null,
   "outputs": [],
   "source": [
    "# hydrogen consuming technologies"
   ],
   "metadata": {
    "collapsed": false,
    "pycharm": {
     "name": "#%%\n"
    }
   }
  },
  {
   "cell_type": "code",
   "execution_count": null,
   "outputs": [],
   "source": [
    "carriers = c_h2_con\n",
    "\n",
    "fig, axs = plt.subplots(ncols=2, nrows=1, figsize=(14, 5))\n",
    "\n",
    "for n, ax, model in zip([stst,exp], axs.reshape(-1), [\"STST\", \"EXP\"]):\n",
    "\n",
    "    for c in carriers:\n",
    "        if c in n.links.carrier.unique():\n",
    "            c_bus = n.links[n.links.carrier == c][\"bus0\"].map(n.buses.carrier).unique()[0]\n",
    "            con = n.links_t.p0.loc[: , n.links.carrier == c]\n",
    "            lmps = n.buses_t.marginal_price.loc[:, con.columns.map(n.links.bus0)]\n",
    "            df = pd.concat([pd.DataFrame(lmps.values.flatten()) , pd.DataFrame(con.values.flatten())], axis=1)\n",
    "\n",
    "        elif c in n.storage_units.carrier.unique():\n",
    "            c_bus = n.storage_units[n.storage_units.carrier == c].bus.map(n.buses.carrier).unique()[0]\n",
    "            con = n.storage_units_t.p_store.loc[: , n.storage_units.carrier == c]\n",
    "            lmps = n.buses_t.marginal_price.loc[:, con.columns.map(n.storage_units.bus)]\n",
    "            df = pd.concat([pd.DataFrame(lmps.values.flatten()) , pd.DataFrame(con.values.flatten())], axis=1)\n",
    "\n",
    "        df.columns = [\"lmp\" , \"gen\"]\n",
    "        df = df.sort_values(by=\"lmp\")\n",
    "        df[\"gen_cumsum\"] = df[\"gen\"].cumsum()\n",
    "        df[\"gen_cumsum_norm\"] = df[\"gen\"].cumsum() / df[\"gen\"].sum()\n",
    "        ax.plot(df[\"gen_cumsum_norm\"], df[\"lmp\"], color=carrier_colors[c], label= f\"{c} ({c_bus})\",\n",
    "                marker=markers[carriers.index(c)], markevery=2920*40)\n",
    "        ax.set_ylim([-50, 300])\n",
    "        ax.set_ylabel(\"lmp [$€/MWh_{h2}$]\")\n",
    "        ax.set_xlabel(\"Fraction of total consumption\")\n",
    "        ax.set_facecolor(\"whitesmoke\")\n",
    "        ax.set_title(f\"Hydrogen consuming technologies ({model})\", fontsize=16, **font1)\n",
    "        ax.legend()\n",
    "\n",
    "fig.tight_layout(pad=3)\n",
    "plt.show()\n",
    "\n",
    "fig.savefig(f\"{PLOT_DIR}/h2_con_w_lmps_within_models.png\")"
   ],
   "metadata": {
    "collapsed": false,
    "pycharm": {
     "name": "#%%\n"
    }
   }
  },
  {
   "cell_type": "code",
   "execution_count": null,
   "outputs": [],
   "source": [],
   "metadata": {
    "collapsed": false,
    "pycharm": {
     "name": "#%%\n"
    }
   }
  },
  {
   "cell_type": "code",
   "execution_count": null,
   "outputs": [],
   "source": [],
   "metadata": {
    "collapsed": false,
    "pycharm": {
     "name": "#%%\n"
    }
   }
  }
 ],
 "metadata": {
  "kernelspec": {
   "display_name": "Python 3 (ipykernel)",
   "language": "python",
   "name": "python3"
  },
  "language_info": {
   "codemirror_mode": {
    "name": "ipython",
    "version": 3
   },
   "file_extension": ".py",
   "mimetype": "text/x-python",
   "name": "python",
   "nbconvert_exporter": "python",
   "pygments_lexer": "ipython3",
   "version": "3.10.6"
  }
 },
 "nbformat": 4,
 "nbformat_minor": 1
}