{
 "cells": [
  {
   "cell_type": "code",
   "execution_count": 1,
   "metadata": {
    "collapsed": false,
    "pycharm": {
     "name": "#%%\n"
    }
   },
   "outputs": [],
   "source": [
    "# Plots for section 5.4 (hydrogen intersection with other sectors)"
   ]
  },
  {
   "cell_type": "markdown",
   "metadata": {
    "collapsed": false,
    "pycharm": {
     "name": "#%% md\n"
    }
   },
   "source": [
    "## Imports"
   ]
  },
  {
   "cell_type": "code",
   "execution_count": 2,
   "metadata": {
    "collapsed": false,
    "pycharm": {
     "name": "#%%\n"
    }
   },
   "outputs": [],
   "source": [
    "import pandas as pd\n",
    "import geopandas as gpd\n",
    "import numpy as np\n",
    "import pypsa\n",
    "import math\n",
    "import seaborn as sns\n",
    "import cartopy\n",
    "import cartopy.crs as ccrs\n",
    "import matplotlib\n",
    "import matplotlib.colors as mcolors\n",
    "import matplotlib.pyplot as plt\n",
    "import warnings\n",
    "\n",
    "warnings.filterwarnings(\"ignore\")\n",
    "from shapely.geometry import Point, LineString\n",
    "import matplotlib.patheffects as pe\n",
    "import matplotlib.colors as mcolors\n",
    "from matplotlib.lines import Line2D\n",
    "from datetime import date, datetime, time, timedelta\n",
    "\n",
    "# imported own functions\n",
    "from utils import market_values, market_values_by_time_index, nodal_balance, capacity, capacity_links, \\\n",
    "    capacity_storage_units, get_condense_sum, nodal_balance, generation, generation_links, \\\n",
    "    generation_storage_units, market_values_storage_units, market_values_links, time_stored_LIFO\n",
    "from utils import generation_links_bus\n",
    "\n",
    "# imported own definitions\n",
    "from utils import carrier_colors, carrier_renaming, carrier_renaming_reverse, c_tags\n",
    "from utils import resistive_heater, gas_boiler, heat_pump,water_tanks_charger, water_tanks_discharger, solar_thermal\n",
    "from utils import c_el_gen_s, c_el_con_s, c_h2_gen, c_h2_con\n",
    "\n",
    "# general variables\n",
    "font1 = {'fontname': 'Calibri'}\n",
    "PLOT_DIR = 'C:/Users/Julian/Studies/Master/01 TU Berlin/3. Semester - Masterarbeit/MA Marktwerte FEE/data/plots/01_general/5.4_hydrogen_whyh2'\n",
    "PLOT_DIR_add = 'C:/Users/Julian/Studies/Master/01 TU Berlin/3. Semester - Masterarbeit/MA Marktwerte FEE/data/plots/01_general/additional_stuff'\n",
    "onshore_regions = gpd.read_file(\"../data/external/regions_onshore_elec_s_181.geojson\")\n",
    "offshore_regions = gpd.read_file(\"../data/external/regions_offshore_elec_s_181.geojson\")\n",
    "onshore_regions = onshore_regions.set_index('name')\n",
    "offshore_regions = offshore_regions.set_index('name')\n",
    "\n",
    "# Notebook Definitions\n",
    "c1_groups = [resistive_heater, gas_boiler, heat_pump, water_tanks_charger, water_tanks_discharger, solar_thermal]\n",
    "c1_groups_name = [\"resistive heater\", \"gas boiler\", \"heat pump\", \"water tanks charger\", \"water tanks discharger\",\n",
    "                  \"solar thermal\"]\n",
    "markers = [\"v\", \"^\", \"<\", \">\", \"1\", \"2\", \"3\", \"4\", \"*\", \"+\", \"d\", \"o\", \"|\", \"s\", \"P\", \"p\", \"h\"]\n",
    "\n",
    "# new indices: cut off Fuel cell and SMR completely and SMR CC for exp\n",
    "c_h2_gen_stst = ['H2 Electrolysis', 'SMR CC']\n",
    "c_h2_gen_exp = ['H2 Electrolysis']\n",
    "c_h2_gen = ['H2 Electrolysis', 'SMR CC']\n",
    "c_h2_con = ['H2 liquefaction', 'Sabatier', 'Fischer-Tropsch']"
   ]
  },
  {
   "cell_type": "code",
   "execution_count": 3,
   "metadata": {
    "collapsed": false,
    "pycharm": {
     "name": "#%%\n"
    }
   },
   "outputs": [
    {
     "name": "stderr",
     "output_type": "stream",
     "text": [
      "WARNING:pypsa.io:Importing network from PyPSA version v0.18.1 while current version is v0.26.0. Read the release notes at https://pypsa.readthedocs.io/en/latest/release_notes.html to prepare your network for import.\n",
      "INFO:pypsa.io:Imported network elec_s_181_lv1.0__Co2L0-3H-T-H-B-I-A-solar+p3-linemaxext10-noH2network_2030.nc has buses, carriers, generators, global_constraints, lines, links, loads, storage_units, stores\n",
      "WARNING:pypsa.io:Importing network from PyPSA version v0.18.1 while current version is v0.26.0. Read the release notes at https://pypsa.readthedocs.io/en/latest/release_notes.html to prepare your network for import.\n"
     ]
    }
   ],
   "source": [
    "# Network imports\n",
    "stst = pypsa.Network(\"../data/raw/elec_s_181_lv1.0__Co2L0-3H-T-H-B-I-A-solar+p3-linemaxext10-noH2network_2030.nc\")\n",
    "exp = pypsa.Network(\"../data/raw/elec_s_181_lvopt__Co2L0-3H-T-H-B-I-A-solar+p3-linemaxext10_2030.nc\")"
   ]
  },
  {
   "cell_type": "code",
   "execution_count": null,
   "metadata": {
    "collapsed": false,
    "pycharm": {
     "name": "#%%\n"
    }
   },
   "outputs": [],
   "source": [
    "# stst and exp dataframes\n",
    "# spatial\n",
    "df_stst_ons = pd.read_pickle(\"../data/processed/df_stst_ons.pkl\")\n",
    "df_stst_off = pd.read_pickle(\"../data/processed/df_stst_off.pkl\")\n",
    "df_exp_ons = pd.read_pickle(\"../data/processed/df_exp_ons.pkl\")\n",
    "df_exp_off = pd.read_pickle(\"../data/processed/df_exp_off.pkl\")\n",
    "\n",
    "# temporal\n",
    "df_stst_ts = pd.read_pickle(\"../data/processed/df_stst_ts.pkl\")\n",
    "df_exp_ts = pd.read_pickle(\"../data/processed/df_exp_ts.pkl\")"
   ]
  },
  {
   "cell_type": "code",
   "execution_count": null,
   "metadata": {
    "collapsed": false,
    "pycharm": {
     "name": "#%%\n"
    }
   },
   "outputs": [],
   "source": [
    "# Notebook Functions\n"
   ]
  },
  {
   "cell_type": "code",
   "execution_count": null,
   "metadata": {
    "collapsed": false,
    "pycharm": {
     "name": "#%%\n"
    }
   },
   "outputs": [],
   "source": [
    "#assert 0"
   ]
  },
  {
   "cell_type": "markdown",
   "metadata": {
    "collapsed": false,
    "pycharm": {
     "name": "#%% md\n"
    }
   },
   "source": [
    "## Balances"
   ]
  },
  {
   "cell_type": "code",
   "execution_count": null,
   "metadata": {
    "collapsed": false,
    "pycharm": {
     "name": "#%%\n"
    }
   },
   "outputs": [],
   "source": [
    "# all buses\n",
    "stst.buses.carrier.unique()\n",
    "# Interesting: gas, H2, biogas, solid biomass, solid biomass for industry, gas for industry, H2 liquid, oil,"
   ]
  },
  {
   "cell_type": "markdown",
   "metadata": {
    "collapsed": false,
    "pycharm": {
     "name": "#%% md\n"
    }
   },
   "source": [
    "### all heat"
   ]
  },
  {
   "cell_type": "code",
   "execution_count": null,
   "metadata": {
    "collapsed": false,
    "pycharm": {
     "name": "#%%\n"
    }
   },
   "outputs": [],
   "source": [
    "stst.buses.carrier.unique()[pd.Index(stst.buses.carrier.unique()).str.contains(\"heat\")].tolist()"
   ]
  },
  {
   "cell_type": "code",
   "execution_count": null,
   "metadata": {
    "collapsed": false,
    "pycharm": {
     "name": "#%%\n"
    }
   },
   "outputs": [],
   "source": [
    "# generation and consumption (all heat)\n",
    "\n",
    "carriers = ['residential rural heat',\n",
    "            'services rural heat',\n",
    "            'residential urban decentral heat',\n",
    "            'services urban decentral heat',\n",
    "            'urban central heat']\n",
    "\n",
    "fig, axs = plt.subplots(nrows=4, ncols=1, figsize=(12, 4*4))\n",
    "\n",
    "for n in [stst, exp]:\n",
    "\n",
    "    nb = nodal_balance(n, carrier=carriers, time=\"2013\", aggregate=['component', 'bus'], energy=True)\n",
    "    # convert from MW to GW\n",
    "    nb = nb.unstack(level=[1]) / 1000\n",
    "\n",
    "    nb_pos = nb.sum()[nb.sum() > 0].sort_values(ascending=False)\n",
    "    # exclude all shares smaller than 1 %\n",
    "    nb_pos = nb_pos[(nb_pos / nb_pos.sum()) > 0.01]\n",
    "\n",
    "    nb_neg = abs(nb.sum()[nb.sum() < 0]).sort_values(ascending=False)\n",
    "    # exclude all shares smaller than 1 %\n",
    "    nb_neg = nb_neg[(nb_neg / nb_neg.sum()) > 0.01]\n",
    "\n",
    "    if n==stst:\n",
    "        ax_gen=axs[0]\n",
    "        ax_con=axs[2]\n",
    "        title_gen=f\"Generation: heat (STST)\"\n",
    "        title_con=f\"Consumption: heat (STST)\"\n",
    "\n",
    "    elif n==exp:\n",
    "        ax_gen=axs[1]\n",
    "        ax_con=axs[3]\n",
    "        title_gen=f\"Generation: heat (EXP)\"\n",
    "        title_con=f\"Consumption: heat (EXP)\"\n",
    "\n",
    "    # generation\n",
    "    c = [carrier_colors[col] for col in nb_pos.index]\n",
    "    percents = nb_pos.to_numpy() * 100 / nb_pos.to_numpy().sum()\n",
    "    labels = ['%s (%1.1f %%)' % (l, s) for l, s in zip(nb_pos.index, percents)]\n",
    "\n",
    "    patches, texts = ax_gen.pie(nb_pos, colors=c, startangle=0, labels=labels)\n",
    "    ax_gen.axis('equal')\n",
    "    ax_gen.set_title(title_gen, pad=20, fontweight=\"bold\")\n",
    "\n",
    "    # consumption\n",
    "    c = [carrier_colors[col] for col in nb_neg.index]\n",
    "    percents = nb_neg.to_numpy() * 100 / nb_neg.to_numpy().sum()\n",
    "    labels = ['%s (%1.1f %%)' % (l, s) for l, s in zip(nb_neg.index, percents)]\n",
    "\n",
    "    patches, texts = ax_con.pie(nb_neg, colors=c, startangle=0, labels=labels)\n",
    "    ax_con.axis('equal')\n",
    "\n",
    "    ax_con.set_title(title_con, pad=20, fontweight=\"bold\")\n",
    "\n",
    "fig.tight_layout(pad=4)\n",
    "#plt.close()\n",
    "plt.show()\n",
    "\n",
    "#fig.savefig(f\"{PLOT_DIR}/heat_gen_con.png\")"
   ]
  },
  {
   "cell_type": "code",
   "execution_count": null,
   "metadata": {
    "collapsed": false,
    "pycharm": {
     "name": "#%%\n"
    }
   },
   "outputs": [],
   "source": [
    "# Overall heat generation\n",
    "\n",
    "model = \"EXP\"\n",
    "\n",
    "if model == \"STST\":\n",
    "    n = stst\n",
    "\n",
    "elif model == \"EXP\":\n",
    "    n = exp\n",
    "\n",
    "carrier = ['residential rural heat',\n",
    "            'services rural heat',\n",
    "            'residential urban decentral heat',\n",
    "            'services urban decentral heat',\n",
    "            'urban central heat']\n",
    "\n",
    "nb = nodal_balance(n, carrier=carrier, time=\"2013\", aggregate=['component', 'bus'], energy=True)\n",
    "# convert from MWh to GWh\n",
    "nb = nb.unstack(level=[1]) / 1000\n",
    "# condense condense_groups\n",
    "nb = get_condense_sum(nb, c1_groups, c1_groups_name)\n",
    "# rename unhandy column names\n",
    "nb.rename(columns=carrier_renaming, inplace=True)\n",
    "\n",
    "nb[nb > 0].sum().sum() / 1e3\n",
    "\n",
    "# STST: 3818 TWh\n",
    "# EXP: 3407 TWh"
   ]
  },
  {
   "cell_type": "markdown",
   "metadata": {
    "collapsed": false,
    "pycharm": {
     "name": "#%% md\n"
    }
   },
   "source": [
    "### urban central heat"
   ]
  },
  {
   "cell_type": "code",
   "execution_count": null,
   "metadata": {
    "collapsed": false,
    "pycharm": {
     "name": "#%%\n"
    }
   },
   "outputs": [],
   "source": [
    "# generation and consumption (urban central heat)\n",
    "\n",
    "fig, axs = plt.subplots(nrows=2, ncols=2, figsize=(15, 11))\n",
    "\n",
    "for n in [stst, exp]:\n",
    "\n",
    "    carrier = [\"urban central heat\"]\n",
    "    nb = nodal_balance(n, carrier=carrier, time=\"2013\", aggregate=['component', 'bus'], energy=True)\n",
    "    # convert from MW to GW\n",
    "    nb = nb.unstack(level=[1]) / 1000\n",
    "\n",
    "    nb_pos = nb.sum()[nb.sum() > 0].sort_values(ascending=False)\n",
    "    # exclude all shares smaller than 1 %\n",
    "    nb_pos = nb_pos[(nb_pos / nb_pos.sum()) > 0.01]\n",
    "\n",
    "    nb_neg = abs(nb.sum()[nb.sum() < 0]).sort_values(ascending=False)\n",
    "    # exclude all shares smaller than 1 %\n",
    "    nb_neg = nb_neg[(nb_neg / nb_neg.sum()) > 0.01]\n",
    "\n",
    "    if n==stst:\n",
    "        ax_gen=axs[0, 0]\n",
    "        ax_con=axs[0, 1]\n",
    "        title_gen=f\"Generation: {carrier} (STST)\"\n",
    "        title_con=f\"Consumption: {carrier} (STST)\"\n",
    "\n",
    "    elif n==exp:\n",
    "        ax_gen=axs[1, 0]\n",
    "        ax_con=axs[1, 1]\n",
    "        title_gen=f\"Generation: {carrier} (EXP)\"\n",
    "        title_con=f\"Consumption: {carrier} (EXP)\"\n",
    "\n",
    "    # generation\n",
    "    c = [carrier_colors[col] for col in nb_pos.index]\n",
    "    percents = nb_pos.to_numpy() * 100 / nb_pos.to_numpy().sum()\n",
    "    labels = ['%s (%1.1f %%)' % (l, s) for l, s in zip(nb_pos.index, percents)]\n",
    "\n",
    "    patches, texts = ax_gen.pie(nb_pos, colors=c, startangle=0, labels=labels)\n",
    "    ax_gen.axis('equal')\n",
    "    ax_gen.set_title(title_gen, pad=20, fontweight=\"bold\")\n",
    "\n",
    "    # consumption\n",
    "    c = [carrier_colors[col] for col in nb_neg.index]\n",
    "    percents = nb_neg.to_numpy() * 100 / nb_neg.to_numpy().sum()\n",
    "    labels = ['%s (%1.1f %%)' % (l, s) for l, s in zip(nb_neg.index, percents)]\n",
    "\n",
    "    patches, texts = ax_con.pie(nb_neg, colors=c, startangle=0, labels=labels)\n",
    "    ax_con.axis('equal')\n",
    "\n",
    "    ax_con.set_title(title_con, pad=20, fontweight=\"bold\")\n",
    "\n",
    "fig.tight_layout(pad=2)\n",
    "#plt.close()\n",
    "plt.show()\n",
    "\n",
    "# Fischer Tropsch nebenprdukt Heat"
   ]
  },
  {
   "cell_type": "markdown",
   "metadata": {
    "collapsed": false,
    "pycharm": {
     "name": "#%% md\n"
    }
   },
   "source": [
    "### oil"
   ]
  },
  {
   "cell_type": "code",
   "execution_count": null,
   "metadata": {
    "collapsed": false,
    "pycharm": {
     "name": "#%%\n"
    }
   },
   "outputs": [],
   "source": [
    "# generation and consumption (oil)\n",
    "fig, axs = plt.subplots(nrows=2, ncols=2, figsize=(15, 11))\n",
    "\n",
    "for n in [stst, exp]:\n",
    "\n",
    "    carrier = [\"oil\"]\n",
    "    nb = nodal_balance(n, carrier=carrier, time=\"2013\", aggregate=['component', 'bus'], energy=True)\n",
    "    # convert from MW to GW\n",
    "    nb = nb.unstack(level=[1]) / 1000\n",
    "\n",
    "    nb_pos = nb.sum()[nb.sum() > 0].sort_values(ascending=False)\n",
    "    # exclude all shares smaller than 1 %\n",
    "    nb_pos = nb_pos[(nb_pos / nb_pos.sum()) > 0.01]\n",
    "\n",
    "    nb_neg = abs(nb.sum()[nb.sum() < 0]).sort_values(ascending=False)\n",
    "    # exclude all shares smaller than 1 %\n",
    "    nb_neg = nb_neg[(nb_neg / nb_neg.sum()) > 0.01]\n",
    "\n",
    "    if n==stst:\n",
    "        ax_gen=axs[0, 0]\n",
    "        ax_con=axs[0, 1]\n",
    "        title_gen=f\"Generation: {carrier} (STST)\"\n",
    "        title_con=f\"Consumption: {carrier} (STST)\"\n",
    "\n",
    "    elif n==exp:\n",
    "        ax_gen=axs[1, 0]\n",
    "        ax_con=axs[1, 1]\n",
    "        title_gen=f\"Generation: {carrier} (EXP)\"\n",
    "        title_con=f\"Consumption: {carrier} (EXP)\"\n",
    "\n",
    "    # generation\n",
    "    c = [carrier_colors[col] for col in nb_pos.index]\n",
    "    percents = nb_pos.to_numpy() * 100 / nb_pos.to_numpy().sum()\n",
    "    labels = ['%s (%1.1f %%)' % (l, s) for l, s in zip(nb_pos.index, percents)]\n",
    "\n",
    "    patches, texts = ax_gen.pie(nb_pos, startangle=0, colors=c, labels=labels)\n",
    "    ax_gen.axis('equal')\n",
    "    ax_gen.set_title(title_gen, pad=20, fontweight=\"bold\")\n",
    "\n",
    "    # consumption\n",
    "    c = [carrier_colors[col] for col in nb_neg.index]\n",
    "    percents = nb_neg.to_numpy() * 100 / nb_neg.to_numpy().sum()\n",
    "    labels = ['%s (%1.1f %%)' % (l, s) for l, s in zip(nb_neg.index, percents)]\n",
    "\n",
    "    patches, texts = ax_con.pie(nb_neg,  startangle=0, colors=c, labels=labels)\n",
    "    ax_con.axis('equal')\n",
    "\n",
    "    ax_con.set_title(title_con, pad=20, fontweight=\"bold\")\n",
    "\n",
    "fig.tight_layout(pad=2)\n",
    "#plt.close()\n",
    "plt.show()\n",
    "\n",
    "#fig.savefig(f\"{PLOT_DIR}/oil_gen_con.png\")"
   ]
  },
  {
   "cell_type": "markdown",
   "metadata": {
    "collapsed": false,
    "pycharm": {
     "name": "#%% md\n"
    }
   },
   "source": [
    "### gas"
   ]
  },
  {
   "cell_type": "code",
   "execution_count": null,
   "metadata": {
    "collapsed": false,
    "pycharm": {
     "name": "#%%\n"
    }
   },
   "outputs": [],
   "source": [
    "# generation and consumption (gas)\n",
    "fig, axs = plt.subplots(nrows=2, ncols=2, figsize=(15, 11))\n",
    "\n",
    "for n in [stst, exp]:\n",
    "\n",
    "    carrier = [\"gas\"]\n",
    "    nb = nodal_balance(n, carrier=carrier, time=\"2013\", aggregate=['component', 'bus'], energy=True)\n",
    "    # convert from MW to GW\n",
    "    nb = nb.unstack(level=[1]) / 1000\n",
    "\n",
    "    nb_pos = nb.sum()[nb.sum() > 0].sort_values(ascending=False)\n",
    "    # exclude all shares smaller than 1 %\n",
    "    nb_pos = nb_pos[(nb_pos / nb_pos.sum()) > 0.01]\n",
    "\n",
    "    nb_neg = abs(nb.sum()[nb.sum() < 0]).sort_values(ascending=False)\n",
    "    # exclude all shares smaller than 1 %\n",
    "    nb_neg = nb_neg[(nb_neg / nb_neg.sum()) > 0.01]\n",
    "\n",
    "    if n==stst:\n",
    "        ax_gen=axs[0, 0]\n",
    "        ax_con=axs[0, 1]\n",
    "        title_gen=f\"Generation: {carrier} (STST)\"\n",
    "        title_con=f\"Consumption: {carrier} (STST)\"\n",
    "\n",
    "    elif n==exp:\n",
    "        ax_gen=axs[1, 0]\n",
    "        ax_con=axs[1, 1]\n",
    "        title_gen=f\"Generation: {carrier} (EXP)\"\n",
    "        title_con=f\"Consumption: {carrier} (EXP)\"\n",
    "\n",
    "    # generation\n",
    "    c = [carrier_colors[col] for col in nb_pos.index]\n",
    "    percents = nb_pos.to_numpy() * 100 / nb_pos.to_numpy().sum()\n",
    "    labels = ['%s (%1.1f %%)' % (l, s) for l, s in zip(nb_pos.index, percents)]\n",
    "\n",
    "    patches, texts = ax_gen.pie(nb_pos, startangle=0, colors=c, labels=labels)\n",
    "    ax_gen.axis('equal')\n",
    "    ax_gen.set_title(title_gen, pad=20, fontweight=\"bold\")\n",
    "\n",
    "    # consumption\n",
    "    c = [carrier_colors[col] for col in nb_neg.index]\n",
    "    percents = nb_neg.to_numpy() * 100 / nb_neg.to_numpy().sum()\n",
    "    labels = ['%s (%1.1f %%)' % (l, s) for l, s in zip(nb_neg.index, percents)]\n",
    "\n",
    "    patches, texts = ax_con.pie(nb_neg,  startangle=0, colors=c, labels=labels)\n",
    "    ax_con.axis('equal')\n",
    "\n",
    "    ax_con.set_title(title_con, pad=20, fontweight=\"bold\")\n",
    "\n",
    "fig.tight_layout(pad=5)\n",
    "#plt.close()\n",
    "plt.show()\n",
    "\n",
    "#fig.savefig(f\"{PLOT_DIR}/gas_gen_con.png\")"
   ]
  },
  {
   "cell_type": "code",
   "execution_count": null,
   "metadata": {
    "collapsed": false,
    "pycharm": {
     "name": "#%%\n"
    }
   },
   "outputs": [],
   "source": [
    "n = exp\n",
    "carrier = [\"gas\"]\n",
    "nb = nodal_balance(n, carrier=carrier, time=\"2013\", aggregate=['component', 'bus'], energy=True)\n",
    "# convert from MW to GW\n",
    "nb = nb.unstack(level=[1]) / 1000\n",
    "\n",
    "nb_pos = nb.sum()[nb.sum() > 0].sort_values(ascending=False)\n",
    "# exclude all shares smaller than 1 %\n",
    "nb_pos = nb_pos[(nb_pos / nb_pos.sum()) > 0.01]\n",
    "\n",
    "nb_neg = abs(nb.sum()[nb.sum() < 0]).sort_values(ascending=False)\n",
    "# exclude all shares smaller than 1 %\n",
    "nb_neg = nb_neg[(nb_neg / nb_neg.sum()) > 0.01]"
   ]
  },
  {
   "cell_type": "markdown",
   "metadata": {
    "collapsed": false,
    "pycharm": {
     "name": "#%% md\n"
    }
   },
   "source": [
    "### testing carrier"
   ]
  },
  {
   "cell_type": "code",
   "execution_count": null,
   "metadata": {
    "collapsed": false,
    "pycharm": {
     "name": "#%%\n"
    }
   },
   "outputs": [],
   "source": [
    "# generation and consumption\n",
    "fig, axs = plt.subplots(nrows=2, ncols=2, figsize=(15, 11))\n",
    "\n",
    "for n in [stst, exp]:\n",
    "\n",
    "    carrier = [\"solid biomass\"]\n",
    "    nb = nodal_balance(n, carrier=carrier, time=\"2013\", aggregate=['component', 'bus'], energy=True)\n",
    "    # convert from MW to GW\n",
    "    nb = nb.unstack(level=[1]) / 1000\n",
    "\n",
    "    nb_pos = nb.sum()[nb.sum() > 0].sort_values(ascending=False)\n",
    "    # exclude all shares smaller than 1 %\n",
    "    nb_pos = nb_pos[(nb_pos / nb_pos.sum()) > 0.01]\n",
    "\n",
    "    nb_neg = abs(nb.sum()[nb.sum() < 0]).sort_values(ascending=False)\n",
    "    # exclude all shares smaller than 1 %\n",
    "    nb_neg = nb_neg[(nb_neg / nb_neg.sum()) > 0.01]\n",
    "\n",
    "    if n==stst:\n",
    "        ax_gen=axs[0, 0]\n",
    "        ax_con=axs[0, 1]\n",
    "        title_gen=f\"Generation: {carrier} (STST)\"\n",
    "        title_con=f\"Consumption: {carrier} (STST)\"\n",
    "\n",
    "    elif n==exp:\n",
    "        ax_gen=axs[1, 0]\n",
    "        ax_con=axs[1, 1]\n",
    "        title_gen=f\"Generation: {carrier} (EXP)\"\n",
    "        title_con=f\"Consumption: {carrier} (EXP)\"\n",
    "\n",
    "    # generation\n",
    "    #c = [carrier_colors[col] for col in nb_pos.index]\n",
    "    percents = nb_pos.to_numpy() * 100 / nb_pos.to_numpy().sum()\n",
    "    labels = ['%s (%1.1f %%)' % (l, s) for l, s in zip(nb_pos.index, percents)]\n",
    "\n",
    "    patches, texts = ax_gen.pie(nb_pos, startangle=0, labels=labels)\n",
    "    ax_gen.axis('equal')\n",
    "    ax_gen.set_title(title_gen, pad=20, fontweight=\"bold\")\n",
    "\n",
    "    # consumption\n",
    "    #c = [carrier_colors[col] for col in nb_neg.index]\n",
    "    percents = nb_neg.to_numpy() * 100 / nb_neg.to_numpy().sum()\n",
    "    labels = ['%s (%1.1f %%)' % (l, s) for l, s in zip(nb_neg.index, percents)]\n",
    "\n",
    "    patches, texts = ax_con.pie(nb_neg,  startangle=0, labels=labels)\n",
    "    ax_con.axis('equal')\n",
    "\n",
    "    ax_con.set_title(title_con, pad=20, fontweight=\"bold\")\n",
    "\n",
    "fig.tight_layout(pad=2)\n",
    "#plt.close()\n",
    "plt.show()"
   ]
  },
  {
   "cell_type": "markdown",
   "metadata": {
    "collapsed": false,
    "pycharm": {
     "name": "#%% md\n"
    }
   },
   "source": [
    "### testing buses"
   ]
  },
  {
   "cell_type": "code",
   "execution_count": null,
   "metadata": {
    "collapsed": false,
    "pycharm": {
     "name": "#%%\n"
    }
   },
   "outputs": [],
   "source": [
    "# norway indices\n",
    "i_buses = df_stst_ons.index[df_stst_ons.index.str.contains(\"IE\")]\n",
    "country = \"Ireland\"\n",
    "\n",
    "# generation and consumption\n",
    "fig, axs = plt.subplots(nrows=2, ncols=2, figsize=(15, 11))\n",
    "\n",
    "for n in [stst, exp]:\n",
    "\n",
    "    carrier = [\"AC\", \"low voltage\"]\n",
    "    nb = nodal_balance(n, carrier=carrier, time=\"2013\", aggregate=['component'], energy=True)\n",
    "\n",
    "    nb = pd.DataFrame(nb)\n",
    "    nb = nb.unstack(level=[1])\n",
    "    nb.columns = nb.columns.droplevel(0)\n",
    "    nb = nb[i_buses].sum(axis=1)\n",
    "    nb = nb.unstack(level=[1])\n",
    "\n",
    "    nb_pos = nb.sum()[nb.sum() > 0].sort_values(ascending=False)\n",
    "    # exclude all shares smaller than 1 %\n",
    "    nb_pos = nb_pos[(nb_pos / nb_pos.sum()) > 0.01]\n",
    "\n",
    "    nb_neg = abs(nb.sum()[nb.sum() < 0]).sort_values(ascending=False)\n",
    "    # exclude all shares smaller than 1 %\n",
    "    nb_neg = nb_neg[(nb_neg / nb_neg.sum()) > 0.01]\n",
    "\n",
    "    if n==stst:\n",
    "        ax_gen=axs[0, 0]\n",
    "        ax_con=axs[0, 1]\n",
    "        title_gen=f\"Generation: {carrier} (STST)\"\n",
    "        title_con=f\"Consumption: {carrier} (STST)\"\n",
    "\n",
    "    elif n==exp:\n",
    "        ax_gen=axs[1, 0]\n",
    "        ax_con=axs[1, 1]\n",
    "        title_gen=f\"Generation: {carrier} (EXP)\"\n",
    "        title_con=f\"Consumption: {carrier} (EXP)\"\n",
    "\n",
    "    # generation\n",
    "    #c = [carrier_colors[col] for col in nb_pos.index]\n",
    "    percents = nb_pos.to_numpy() * 100 / nb_pos.to_numpy().sum()\n",
    "    labels = ['%s (%1.1f %%)' % (l, s) for l, s in zip(nb_pos.index, percents)]\n",
    "\n",
    "    patches, texts = ax_gen.pie(nb_pos, startangle=0, labels=labels)\n",
    "    ax_gen.axis('equal')\n",
    "    ax_gen.set_title(title_gen, pad=20, fontweight=\"bold\")\n",
    "\n",
    "    # consumption\n",
    "    #c = [carrier_colors[col] for col in nb_neg.index]\n",
    "    percents = nb_neg.to_numpy() * 100 / nb_neg.to_numpy().sum()\n",
    "    labels = ['%s (%1.1f %%)' % (l, s) for l, s in zip(nb_neg.index, percents)]\n",
    "\n",
    "    patches, texts = ax_con.pie(nb_neg,  startangle=0, labels=labels)\n",
    "    ax_con.axis('equal')\n",
    "\n",
    "    ax_con.set_title(title_con, pad=20, fontweight=\"bold\")\n",
    "\n",
    "fig.tight_layout(pad=5)\n",
    "fig.suptitle(country, fontweight=\"bold\")\n",
    "#plt.close()\n",
    "plt.show()\n",
    "#fig.savefig(f\"{PLOT_DIR_add}/el_gen_con_{country}.png\")"
   ]
  },
  {
   "cell_type": "markdown",
   "metadata": {
    "collapsed": false,
    "pycharm": {
     "name": "#%% md\n"
    }
   },
   "source": [
    "## Sabatier"
   ]
  },
  {
   "cell_type": "code",
   "execution_count": null,
   "metadata": {
    "collapsed": false,
    "pycharm": {
     "name": "#%%\n"
    }
   },
   "outputs": [],
   "source": [
    "# gas production\n",
    "# Sabatier: 563 TWh (STST), 29 TWh (EXP)\n",
    "c = \"Sabatier\""
   ]
  },
  {
   "cell_type": "code",
   "execution_count": null,
   "metadata": {
    "collapsed": false,
    "pycharm": {
     "name": "#%%\n"
    }
   },
   "outputs": [],
   "source": [
    "df_stst_ons[f\"{c}_gen_gas\"]"
   ]
  },
  {
   "cell_type": "code",
   "execution_count": null,
   "metadata": {
    "collapsed": false,
    "pycharm": {
     "name": "#%%\n"
    }
   },
   "outputs": [],
   "source": [
    "n = stst\n",
    "n.links[n.links.carrier == \"Sabatier\"]"
   ]
  },
  {
   "cell_type": "markdown",
   "metadata": {
    "collapsed": false,
    "pycharm": {
     "name": "#%% md\n"
    }
   },
   "source": [
    "## Fischer-Tropsch\n"
   ]
  },
  {
   "cell_type": "code",
   "execution_count": null,
   "metadata": {
    "collapsed": false,
    "pycharm": {
     "name": "#%%\n"
    }
   },
   "outputs": [],
   "source": [
    "c = \"Fischer-Tropsch\"\n",
    "n = stst\n",
    "carrier = [\"oil\"]\n",
    "carrier = ['residential rural heat',\n",
    "            'services rural heat',\n",
    "            'residential urban decentral heat',\n",
    "            'services urban decentral heat',\n",
    "            'urban central heat']\n",
    "\n",
    "nb = nodal_balance(n, carrier=carrier, time=\"2013\", aggregate=['component', 'bus'], energy=True)\n",
    "# convert from MW to GW\n",
    "nb = nb.unstack(level=[1]) / 1000\n",
    "\n",
    "nb_pos = nb.sum()[nb.sum() > 0].sort_values(ascending=False)\n",
    "# exclude all shares smaller than 1 %\n",
    "nb_pos = nb_pos[(nb_pos / nb_pos.sum()) > 0.01]\n",
    "\n",
    "nb_neg = abs(nb.sum()[nb.sum() < 0]).sort_values(ascending=False)\n",
    "# exclude all shares smaller than 1 %\n",
    "nb_neg = nb_neg[(nb_neg / nb_neg.sum()) > 0.01]"
   ]
  },
  {
   "cell_type": "code",
   "execution_count": null,
   "metadata": {
    "collapsed": false,
    "pycharm": {
     "name": "#%%\n"
    }
   },
   "outputs": [],
   "source": [
    "nb_pos / 1e3\n",
    "\n",
    "# Oil production: 995 TWh (STST), 986 TWh (EXP)\n",
    "# total heat production: 355 TWh (STST), 352 TWh (EXP)"
   ]
  },
  {
   "cell_type": "markdown",
   "metadata": {
    "collapsed": false,
    "pycharm": {
     "name": "#%% md\n"
    }
   },
   "source": [
    "## Loads"
   ]
  },
  {
   "cell_type": "code",
   "execution_count": null,
   "metadata": {
    "collapsed": false,
    "pycharm": {
     "name": "#%%\n"
    }
   },
   "outputs": [],
   "source": [
    "c_loads = n.loads.carrier.unique()\n",
    "df_loads = pd.DataFrame(index = c_loads, columns=[\"overall_load\"])\n",
    "df_loads.index[df_loads.index.str.contains(\"heat\")]"
   ]
  },
  {
   "cell_type": "code",
   "execution_count": null,
   "metadata": {
    "collapsed": false,
    "pycharm": {
     "name": "#%%\n"
    }
   },
   "outputs": [],
   "source": [
    "for c_l in c_loads:\n",
    "    index = n.loads[n.loads.carrier == c_l].index\n",
    "    df_loads.loc[c_l , \"overall_load\"] = n.loads_t.p.loc[: , index].sum().sum() / 1e6 * 3 # TWh"
   ]
  },
  {
   "cell_type": "code",
   "execution_count": null,
   "metadata": {
    "collapsed": false,
    "pycharm": {
     "name": "#%%\n"
    }
   },
   "outputs": [],
   "source": [
    "df_loads.sort_values(by=\"overall_load\", ascending=False)"
   ]
  },
  {
   "cell_type": "code",
   "execution_count": null,
   "metadata": {
    "collapsed": false,
    "pycharm": {
     "name": "#%%\n"
    }
   },
   "outputs": [],
   "source": [
    "stst.loads_t.p.loc[: , stst.loads.carrier.isin([\"electricity\"])]"
   ]
  },
  {
   "cell_type": "code",
   "execution_count": null,
   "metadata": {
    "collapsed": false,
    "pycharm": {
     "name": "#%%\n"
    }
   },
   "outputs": [],
   "source": [
    "# Fischer Tropsch loads\n",
    "plt.plot(stst.loads_t.p.loc[: , stst.loads.carrier.isin([\"kerosene for aviation\", \"naphtha for industry\", \"agriculture machinery oil\"])].sum(axis=1))"
   ]
  },
  {
   "cell_type": "code",
   "execution_count": null,
   "metadata": {
    "collapsed": false,
    "pycharm": {
     "name": "#%%\n"
    }
   },
   "outputs": [],
   "source": []
  },
  {
   "cell_type": "markdown",
   "metadata": {
    "collapsed": false,
    "pycharm": {
     "name": "#%% md\n"
    }
   },
   "source": [
    "## Additional stuff"
   ]
  },
  {
   "cell_type": "code",
   "execution_count": null,
   "metadata": {
    "collapsed": false,
    "pycharm": {
     "name": "#%%\n"
    }
   },
   "outputs": [],
   "source": [
    "# Active power at bus0 (positive if branch is withdrawing power from bus0)."
   ]
  },
  {
   "cell_type": "code",
   "execution_count": null,
   "metadata": {
    "collapsed": false,
    "pycharm": {
     "name": "#%%\n"
    }
   },
   "outputs": [],
   "source": [
    "stst.links[stst.links.carrier == \"Sabatier\"]"
   ]
  },
  {
   "cell_type": "code",
   "execution_count": null,
   "metadata": {
    "collapsed": false,
    "pycharm": {
     "name": "#%%\n"
    }
   },
   "outputs": [],
   "source": [
    "stst.links_t.p2.loc[: , stst.links.carrier == \"Sabatier\"]"
   ]
  },
  {
   "cell_type": "code",
   "execution_count": null,
   "metadata": {
    "collapsed": false,
    "pycharm": {
     "name": "#%%\n"
    }
   },
   "outputs": [],
   "source": [
    "stst.links[stst.links.carrier == \"SMR CC\"]"
   ]
  },
  {
   "cell_type": "code",
   "execution_count": null,
   "metadata": {
    "collapsed": false,
    "pycharm": {
     "name": "#%%\n"
    }
   },
   "outputs": [],
   "source": [
    "stst.links_t.p2.loc[: , stst.links.carrier == \"SMR CC\"]"
   ]
  },
  {
   "cell_type": "code",
   "execution_count": null,
   "metadata": {
    "collapsed": false,
    "pycharm": {
     "name": "#%%\n"
    }
   },
   "outputs": [],
   "source": [
    "stst.links_t.p3.loc[: , stst.links.carrier == \"SMR CC\"]"
   ]
  },
  {
   "cell_type": "code",
   "execution_count": null,
   "metadata": {
    "collapsed": false,
    "pycharm": {
     "name": "#%%\n"
    }
   },
   "outputs": [],
   "source": [
    "stst.buses_t.marginal_price.loc[: , stst.buses.carrier == \"gas\"]"
   ]
  },
  {
   "cell_type": "code",
   "execution_count": null,
   "metadata": {
    "collapsed": false,
    "pycharm": {
     "name": "#%%\n"
    }
   },
   "outputs": [],
   "source": [
    "plt.plot(stst.buses_t.p.loc[:, stst.buses.carrier == \"co2 stored\"].cumsum())"
   ]
  },
  {
   "cell_type": "code",
   "execution_count": null,
   "metadata": {
    "collapsed": false,
    "pycharm": {
     "name": "#%%\n"
    }
   },
   "outputs": [],
   "source": [
    "stst.buses.carrier.unique()"
   ]
  },
  {
   "cell_type": "code",
   "execution_count": null,
   "metadata": {
    "collapsed": false,
    "pycharm": {
     "name": "#%%\n"
    }
   },
   "outputs": [],
   "source": [
    "# p: active power at bus (positive if net production) (MW)\n",
    "\n",
    "# GWh\n",
    "n = stst\n",
    "# indices are the same\n",
    "i_co2_stored_stores = n.stores[n.stores.carrier == \"co2 stored\"].index\n",
    "\n",
    "fig, axs = plt.subplots(nrows=2, figsize=(14, 8))\n",
    "\n",
    "for n, ax in zip([stst, exp], axs):\n",
    "    (-(n.stores_t.p[i_co2_stored_stores].sum(axis=1) / 1e3 * 3).resample(\"3h\").sum()).plot(ax=ax,\n",
    "                                                                                lw=0.7,\n",
    "                                                                                color='turquoise',\n",
    "                                                                                label=\"feed- in and feed out pattern\")\n",
    "    (-(n.stores_t.p[i_co2_stored_stores].sum(axis=1) / 1e3 * 3).resample(\"D\").mean()).plot(ax=ax,\n",
    "                                                                                lw=1,\n",
    "                                                                                color='black',\n",
    "                                                                               label=\"feed- in and feed out pattern (daily mean)\")\n",
    "    ax.set_ylabel(\"Active power ($GWh_{h2}$)\")\n",
    "    ax.set_xlabel(\"\")\n",
    "    ax.set_title(\"STST\" if n == stst else \"EXP\", fontsize=16, **font1)\n",
    "    ax.legend(loc=\"lower left\")\n",
    "\n",
    "fig.tight_layout()"
   ]
  },
  {
   "cell_type": "code",
   "execution_count": null,
   "metadata": {
    "collapsed": false,
    "pycharm": {
     "name": "#%%\n"
    }
   },
   "outputs": [],
   "source": [
    "fig, axs = plt.subplots(nrows=2, figsize=(14, 8))\n",
    "\n",
    "for n, ax in zip([stst, exp], axs):\n",
    "    (n.stores_t.e[i_co2_stored_stores].sum(axis=1) / 1e6).resample(\"3h\").sum().plot(ax=ax,\n",
    "                                                                                lw=0.7,\n",
    "                                                                                color='turquoise',\n",
    "                                                                                label=\"storage level\")\n",
    "    (n.stores_t.e[i_co2_stored_stores].sum(axis=1) / 1e6).resample(\"D\").mean().plot(ax=ax,\n",
    "                                                                                lw=1,\n",
    "                                                                                color='black',\n",
    "                                                                               label=\"storage level (daily mean)\")\n",
    "    ax.set_ylabel(\"$TWh_{h2}$\")\n",
    "    ax.set_xlabel(\"\")\n",
    "    ax.set_title(\"STST\" if n == stst else \"EXP\", fontsize=16, **font1)\n",
    "    ax.legend(loc=\"lower left\")\n",
    "\n",
    "fig.tight_layout()"
   ]
  },
  {
   "cell_type": "code",
   "execution_count": null,
   "metadata": {
    "collapsed": false,
    "pycharm": {
     "name": "#%%\n"
    }
   },
   "outputs": [],
   "source": [
    "-(n.stores_t.p[i_co2_stored_stores].sum(axis=1) / 1e6 * 3).sum() # restriction of 200 MtCO2 pro Jahr"
   ]
  }
 ],
 "metadata": {
  "kernelspec": {
   "display_name": "Python 3",
   "language": "python",
   "name": "python3"
  },
  "language_info": {
   "codemirror_mode": {
    "name": "ipython",
    "version": 3
   },
   "file_extension": ".py",
   "mimetype": "text/x-python",
   "name": "python",
   "nbconvert_exporter": "python",
   "pygments_lexer": "ipython3",
   "version": "3.10.13"
  }
 },
 "nbformat": 4,
 "nbformat_minor": 0
}
