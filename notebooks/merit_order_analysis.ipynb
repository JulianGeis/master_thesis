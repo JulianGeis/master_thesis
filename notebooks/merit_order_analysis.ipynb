{
 "cells": [
  {
   "cell_type": "markdown",
   "metadata": {
    "pycharm": {
     "name": "#%% md\n"
    }
   },
   "source": [
    "## Imports"
   ]
  },
  {
   "cell_type": "code",
   "execution_count": null,
   "metadata": {
    "pycharm": {
     "name": "#%%\n"
    }
   },
   "outputs": [],
   "source": [
    "import pandas as pd\n",
    "import numpy as np\n",
    "import pypsa\n",
    "import matplotlib.pyplot as plt\n",
    "import cartopy.crs as ccrs\n",
    "import plotly\n",
    "import datetime\n",
    "import seaborn as sns\n",
    "import ast\n",
    "\n",
    "from utils import market_values, market_values_by_time_index"
   ]
  },
  {
   "cell_type": "code",
   "execution_count": null,
   "metadata": {
    "pycharm": {
     "name": "#%%\n"
    }
   },
   "outputs": [],
   "source": [
    "n =pypsa.Network(\"../data/raw/elec_s_181_lv1.0__Co2L0-3H-T-H-B-I-A-solar+p3-linemaxext10-noH2network_2030.nc\")"
   ]
  },
  {
   "cell_type": "code",
   "execution_count": null,
   "metadata": {
    "pycharm": {
     "name": "#%%\n"
    }
   },
   "outputs": [],
   "source": [
    "n.storage_units_t.p"
   ]
  },
  {
   "cell_type": "code",
   "execution_count": null,
   "metadata": {
    "pycharm": {
     "name": "#%%\n"
    }
   },
   "outputs": [],
   "source": [
    "# overall generation: active power at bus (positive if net generation at bus) in MW\n",
    "n.buses_t.p"
   ]
  },
  {
   "cell_type": "code",
   "execution_count": null,
   "metadata": {
    "pycharm": {
     "name": "#%%\n"
    }
   },
   "outputs": [],
   "source": [
    "n.generators_t.p_max_pu"
   ]
  },
  {
   "cell_type": "code",
   "execution_count": null,
   "metadata": {
    "pycharm": {
     "name": "#%%\n"
    }
   },
   "outputs": [],
   "source": [
    "lmp_regions = n.buses_t.marginal_price.loc[:, n.buses.location.unique()[:-1]]\n",
    "lmp_regions.columns"
   ]
  },
  {
   "cell_type": "markdown",
   "metadata": {
    "pycharm": {
     "name": "#%% md\n"
    }
   },
   "source": [
    "## Price Duration curve"
   ]
  },
  {
   "cell_type": "code",
   "execution_count": null,
   "metadata": {
    "pycharm": {
     "name": "#%%\n"
    }
   },
   "outputs": [],
   "source": [
    "# price duration curve per region\n",
    "plt.figure(figsize=(8, 6))\n",
    "plt.plot(lmp_regions['SK0 0'].sort_values(ascending=False).values)\n",
    "# plt.ylim(-100, 500)\n",
    "plt.xlabel(\"Hours of the year in 3h steps (sorted)\")\n",
    "plt.ylabel(\"Market clearing price in EUR/MWh)\")\n",
    "plt.show()\n",
    "\n",
    "# would be interesting to see which technology is the price setter in the respecting hour\n",
    "# calculating area under the curve to see how much investment is in the market?"
   ]
  },
  {
   "cell_type": "code",
   "execution_count": null,
   "metadata": {
    "pycharm": {
     "name": "#%%\n"
    }
   },
   "outputs": [],
   "source": [
    "# overall price duration curve (mean aggregation)\n",
    "plt.figure(figsize=(12, 8))\n",
    "plt.plot(lmp_regions.mean(axis=1).sort_values(ascending=False).values)\n",
    "# plt.ylim(-100, 500)\n",
    "plt.show()"
   ]
  },
  {
   "cell_type": "markdown",
   "metadata": {
    "pycharm": {
     "name": "#%% md\n"
    }
   },
   "source": [
    "- constructing figure from paper Böttger & Härtel\n",
    "- Figure 17: Power generation and consumption and market values (or capture prices) of individual technologies in the wholesale electricity market of Germany in 2050 for the 28 countries scenario, own illustration based on own computations.\n",
    "- effect of storage technologies on renewables curtailment (calculate how much energy the storages take from the market that is from a renewable source)\n",
    "- check wether the market values of renewables lie below the average market value"
   ]
  },
  {
   "cell_type": "markdown",
   "metadata": {
    "pycharm": {
     "name": "#%% md\n"
    }
   },
   "source": [
    "#### Merit Order Single Case (Example)"
   ]
  },
  {
   "cell_type": "code",
   "execution_count": null,
   "metadata": {
    "pycharm": {
     "name": "#%%\n"
    }
   },
   "outputs": [],
   "source": [
    "# example of bus and snapshot\n",
    "bus = \"AL0 0\" # \"DE0 1\"\n",
    "snapshot = \"2013-01-02 00:00:00\"\n",
    "buses = n.buses[n.buses.location == bus].index\n",
    "# \tactive power at bus (positive if net generation at bus) in MW\n",
    "n.buses_t.p.loc[snapshot,buses]"
   ]
  },
  {
   "cell_type": "markdown",
   "metadata": {
    "pycharm": {
     "name": "#%% md\n"
    }
   },
   "source": [
    "## Generators"
   ]
  },
  {
   "cell_type": "code",
   "execution_count": null,
   "metadata": {
    "pycharm": {
     "name": "#%%\n"
    }
   },
   "outputs": [],
   "source": [
    "# The maximum output for each snapshot per unit of p_nom for the OPF (e.g. for variable renewable generators this can change due to weather conditions; for conventional generators it represents a maximum dispatch).\n",
    "# p_max_pu is 1 for all generators (for VRE it has the be replaced by the corresponding value from n.generators_t\n",
    "n.generators.p_max_pu"
   ]
  },
  {
   "cell_type": "code",
   "execution_count": null,
   "metadata": {
    "pycharm": {
     "name": "#%%\n"
    }
   },
   "outputs": [],
   "source": [
    "# Nominal power for limits in OPF.\n",
    "# only ror has nominal power limit that is not 0 -> limits in p_nom and p_nom_opt of ror are identical -> use p_nom_opt as nominal power limit for all generators\n",
    "n.generators.p_nom_opt"
   ]
  },
  {
   "cell_type": "code",
   "execution_count": null,
   "metadata": {
    "pycharm": {
     "name": "#%%\n"
    }
   },
   "outputs": [],
   "source": [
    "# gas and oil are not in n.generators_t.p_max_pu.columns: their maximum output is static / not variable\n",
    "# and determined by n.generators.p_nom_opt*n.generators.p_max_pu(=1) in every time step\n",
    "n.generators.index.difference(pd.Index(n.generators_t.p_max_pu.columns))"
   ]
  },
  {
   "cell_type": "code",
   "execution_count": null,
   "metadata": {
    "pycharm": {
     "name": "#%%\n"
    }
   },
   "outputs": [],
   "source": [
    "# calculate the possible output for the generators for every time step (first without gas and oil)\n",
    "# TODO: Does this already include the state of load for e.g. storage units? Maybe also relevant for ror?\n",
    "max_out_gen = n.generators_t.p_max_pu * n.generators.p_nom_opt[n.generators_t.p_max_pu.columns]\n",
    "max_out_gen"
   ]
  },
  {
   "cell_type": "code",
   "execution_count": null,
   "metadata": {
    "pycharm": {
     "name": "#%%\n"
    }
   },
   "outputs": [],
   "source": [
    "# real output\n",
    "n.generators_t.p[n.generators_t.p_max_pu.columns]"
   ]
  },
  {
   "cell_type": "code",
   "execution_count": null,
   "metadata": {
    "pycharm": {
     "name": "#%%\n"
    }
   },
   "outputs": [],
   "source": [
    "# compare to real output\n",
    "out_ratio = n.generators_t.p[n.generators_t.p_max_pu.columns] / max_out_gen\n",
    "out_diff = max_out_gen -n.generators_t.p[n.generators_t.p_max_pu.columns]"
   ]
  },
  {
   "cell_type": "code",
   "execution_count": null,
   "metadata": {
    "pycharm": {
     "name": "#%%\n"
    }
   },
   "outputs": [],
   "source": [
    "out_ratio#.describe()\n",
    "#out_diff"
   ]
  },
  {
   "cell_type": "markdown",
   "metadata": {
    "pycharm": {
     "name": "#%% md\n"
    }
   },
   "source": [
    "### Results"
   ]
  },
  {
   "cell_type": "code",
   "execution_count": null,
   "metadata": {
    "pycharm": {
     "name": "#%%\n"
    }
   },
   "outputs": [],
   "source": [
    "# indicate which generator is marginal generator\n",
    "th_ratio = 0.95\n",
    "th_prod_rel = 0.05\n",
    "th_prod_abs = 10\n",
    "\n",
    "# ratio has to be lower than threshold\n",
    "out_ratio[out_ratio < th_ratio] = 0.5\n",
    "# output has to be greater than threshold (relatively to max_output) and greater than th_prod_abs MW\n",
    "out_prod = n.generators_t.p[n.generators_t.p_max_pu.columns].copy()\n",
    "out_prod[(out_prod > (max_out_gen*th_prod_rel)) & (out_prod > th_prod_abs)] = 0.5\n",
    "out_incidence = out_ratio + out_prod\n",
    "out_incidence[out_incidence != 1] = 0\n",
    "out_incidence = out_incidence.astype(int)\n",
    "out_incidence"
   ]
  },
  {
   "cell_type": "code",
   "execution_count": null,
   "metadata": {
    "pycharm": {
     "name": "#%%\n"
    }
   },
   "outputs": [],
   "source": [
    "# number can be higher than 181 as there are also generators for other technologies not just electricity -> maybe first only concentrate on AC (main bus)\n",
    "plt.plot(out_incidence.sum(axis=1))\n",
    "out_incidence.sum(axis=1).max()"
   ]
  },
  {
   "cell_type": "code",
   "execution_count": null,
   "metadata": {
    "pycharm": {
     "name": "#%%\n"
    }
   },
   "outputs": [],
   "source": [
    "# check results\n",
    "gen = \"SK0 0 ror\" # \"AT0 1 onwind\" # \"SK0 0 solar rooftop\" # \"DE0 10 solar\" # AL0 0 solar, AT0 1 onwind\n",
    "start = 0\n",
    "end = 100\n",
    "\n",
    "plt.figure(figsize=(20, 8))\n",
    "plt.plot(n.generators_t.p[gen][start:end], \"o\", color=\"green\", label=\"real generation\")\n",
    "plt.plot(max_out_gen[gen][start:end], \"x\", color=\"black\", label=\"max generation\")\n",
    "plt.plot(out_incidence[gen][start:end]*max_out_gen[gen][start:end].mean(), \"x\", color=\"red\", marker=\"*\", label=\"marginal generator indicator\")\n",
    "plt.legend()\n",
    "plt.show()"
   ]
  },
  {
   "cell_type": "markdown",
   "metadata": {
    "pycharm": {
     "name": "#%% md\n"
    }
   },
   "source": [
    "### Problems\n",
    "- for very low possible VRE output, the indication is often set but, the technology is surely not the marginal generator (check AT0 1 onwind) first 3 hours (corrected by adding constraint for minimum output of 10 MW)\n"
   ]
  },
  {
   "cell_type": "markdown",
   "metadata": {
    "pycharm": {
     "name": "#%% md\n"
    }
   },
   "source": [
    "## Storage Units"
   ]
  },
  {
   "cell_type": "code",
   "execution_count": null,
   "metadata": {
    "pycharm": {
     "name": "#%%\n"
    }
   },
   "outputs": [],
   "source": [
    "# Challenge1: comparing only the actual output with the product of nominal power and maximum output is not sufficient as the storage can be empty / not sufficiently full ?\n",
    "# Challenge2: the real output can be either positive or negative (when storing energy) -> no problem as threshols only takes values for positive generation\n",
    "# n.storage_units.p_nom == n.storage_units.p_nom_opt is True -> you can use both\n",
    "# n.storage_units.index.difference(pd.Index(n.storage_units_t.p.columns)) -> no difference in indices"
   ]
  },
  {
   "cell_type": "code",
   "execution_count": null,
   "metadata": {
    "pycharm": {
     "name": "#%%\n"
    }
   },
   "outputs": [],
   "source": [
    "n.storage_units.index"
   ]
  },
  {
   "cell_type": "code",
   "execution_count": null,
   "metadata": {
    "pycharm": {
     "name": "#%%\n"
    }
   },
   "outputs": [],
   "source": [
    "# calculate the possible output for the storage unit for every time step (all static as n.storage_units_t.p_max_pu is empty)\n",
    "max_output = n.storage_units.p_max_pu * n.storage_units.p_nom_opt\n",
    "# max_output = pd.DataFrame(max_output.values.reshape(1,170), columns=max_output.index)\n",
    "# max_output"
   ]
  },
  {
   "cell_type": "code",
   "execution_count": null,
   "metadata": {
    "pycharm": {
     "name": "#%%\n"
    }
   },
   "outputs": [],
   "source": [
    "n.storage_units_t.p_max_pu"
   ]
  },
  {
   "cell_type": "code",
   "execution_count": null,
   "metadata": {
    "pycharm": {
     "name": "#%%\n"
    }
   },
   "outputs": [],
   "source": [
    "# real output\n",
    "n.storage_units_t.p"
   ]
  },
  {
   "cell_type": "code",
   "execution_count": null,
   "metadata": {
    "pycharm": {
     "name": "#%%\n"
    }
   },
   "outputs": [],
   "source": [
    "# state of charge (State of charge as calculated by the OPF in MWh)\n",
    "n.storage_units_t.state_of_charge"
   ]
  },
  {
   "cell_type": "code",
   "execution_count": null,
   "metadata": {
    "pycharm": {
     "name": "#%%\n"
    }
   },
   "outputs": [],
   "source": [
    "max_output_ts = n.storage_units_t.p.copy()\n",
    "for snap in n.storage_units_t.p.index:\n",
    "    max_output_ts.loc[snap] = max_output[n.storage_units_t.p.columns]\n",
    "max_output_ts"
   ]
  },
  {
   "cell_type": "code",
   "execution_count": null,
   "metadata": {
    "pycharm": {
     "name": "#%%\n"
    }
   },
   "outputs": [],
   "source": [
    "# take minimum of state of charge and max_output_ts\n",
    "# Problem: There are a lot of entries where the ration is larger than 1 if you take the minimum; THis is not the case for skipping this step (maybe skip for now)\n",
    "# max_output_ts = np.minimum(max_output_ts, n.storage_units_t.state_of_charge)\n",
    "max_output_ts"
   ]
  },
  {
   "cell_type": "code",
   "execution_count": null,
   "metadata": {
    "pycharm": {
     "name": "#%%\n"
    }
   },
   "outputs": [],
   "source": [
    "# compare to real output\n",
    "out_ratio = n.storage_units_t.p / max_output_ts\n",
    "out_diff = max_output_ts -  n.storage_units_t.p"
   ]
  },
  {
   "cell_type": "code",
   "execution_count": null,
   "metadata": {
    "pycharm": {
     "name": "#%%\n"
    }
   },
   "outputs": [],
   "source": [
    "out_ratio"
   ]
  },
  {
   "cell_type": "code",
   "execution_count": null,
   "metadata": {
    "pycharm": {
     "name": "#%%\n"
    }
   },
   "outputs": [],
   "source": [
    "#out_diff"
   ]
  },
  {
   "cell_type": "markdown",
   "metadata": {
    "pycharm": {
     "name": "#%% md\n"
    }
   },
   "source": [
    "### Results"
   ]
  },
  {
   "cell_type": "code",
   "execution_count": null,
   "metadata": {
    "pycharm": {
     "name": "#%%\n"
    }
   },
   "outputs": [],
   "source": [
    "# indicate which storage_unit is marginal storage_unit\n",
    "th_ratio = 0.95\n",
    "th_prod_rel = 0.05\n",
    "th_prod_abs = 10\n",
    "\n",
    "# ratio has to be lower than threshold\n",
    "out_ratio[out_ratio < th_ratio] = 0.5 # th_ratio\n",
    "# output has to be greater than threshold (relatively to max_output) and greater than th_prod_abs MW\n",
    "out_prod = n.storage_units_t.p.copy()\n",
    "out_prod[(out_prod > (max_output_ts*th_prod_rel)) & (out_prod > th_prod_abs)] = 0.5 # th_prod\n",
    "out_incidence_su = out_ratio + out_prod\n",
    "out_incidence_su[out_incidence_su != 1] = 0\n",
    "out_incidence_su = out_incidence_su.astype(int)\n",
    "out_incidence_su"
   ]
  },
  {
   "cell_type": "code",
   "execution_count": null,
   "metadata": {
    "pycharm": {
     "name": "#%%\n"
    }
   },
   "outputs": [],
   "source": [
    "# number cannot be higher than 181 as PHS and hydro both feed into the AC bus (they lie at the bus directly)\n",
    "plt.plot(out_incidence_su.sum(axis=1))\n",
    "out_incidence_su.sum(axis=1).max()"
   ]
  },
  {
   "cell_type": "code",
   "execution_count": null,
   "metadata": {
    "pycharm": {
     "name": "#%%\n"
    }
   },
   "outputs": [],
   "source": [
    "# check results\n",
    "su = \"BG0 1 PHS\" # \"BG0 1 hydro\"; BG0 1 PHS\n",
    "start = 0\n",
    "end = 100\n",
    "\n",
    "plt.figure(figsize=(20, 8))\n",
    "plt.plot(n.storage_units_t.p[su][start:end], \"o\", color=\"green\", label=\"real generation\")\n",
    "plt.plot(max_output_ts[su][start:end], \"x\", color=\"black\", label=\"max generation\")\n",
    "plt.plot(out_incidence_su[su][start:end]*max_output_ts[su][start:end].mean()*0.75, ls=\"\", color=\"red\", marker=\"*\", label=\"marginal generator indicator\")\n",
    "plt.legend()\n",
    "plt.show()"
   ]
  },
  {
   "cell_type": "markdown",
   "metadata": {
    "pycharm": {
     "name": "#%% md\n"
    }
   },
   "source": [
    "## Links\n",
    "Challenges:\n",
    "- Links with multiple outputs: Links can also be defined with multiple outputs in fixed ratio to the power in the single input by defining new columns bus2, bus3, etc. (bus followed by an integer) in network.links along with associated columns for the efficiencies efficiency2, efficiency3, etc. The different outputs are then equal to the input multiplied by the corresponding efficiency;\n",
    "- How to handle links with multiple outputs?\n",
    "- Links are connected to stores which might be empty / not sufficiently full!"
   ]
  },
  {
   "cell_type": "code",
   "execution_count": null,
   "metadata": {
    "pycharm": {
     "name": "#%%\n"
    }
   },
   "outputs": [],
   "source": [
    "# specify method to determine marginal generator: 1 means using the p_max_pu * p_nom_opt as maximum capacity and 2 means using the maximum real output as capcity\n",
    "method = 2 #"
   ]
  },
  {
   "cell_type": "code",
   "execution_count": null,
   "metadata": {
    "pycharm": {
     "name": "#%%\n"
    }
   },
   "outputs": [],
   "source": [
    "# n.links.index.difference(pd.Index(n.links_t.p0.columns)) is empty -> no difference in indices"
   ]
  },
  {
   "cell_type": "code",
   "execution_count": null,
   "metadata": {
    "pycharm": {
     "name": "#%%\n"
    }
   },
   "outputs": [],
   "source": [
    "# Active power at bus0 (positive if branch is withdrawing power from bus0)\n",
    "# only negative values would be relevant here (negative means generating energy)\n",
    "# TODO: negative values only exist for the electricity distribution grid (skip for now)\n",
    "n.links_t.p0[n.links_t.p0 < 0].sum()"
   ]
  },
  {
   "cell_type": "code",
   "execution_count": null,
   "metadata": {
    "pycharm": {
     "name": "#%%\n"
    }
   },
   "outputs": [],
   "source": [
    "# flip sign to make generation poitive\n",
    "n_links_p1 = n.links_t.p1 *-1\n",
    "n_links_p1"
   ]
  },
  {
   "cell_type": "markdown",
   "metadata": {
    "pycharm": {
     "name": "#%% md\n"
    }
   },
   "source": [
    "### Determine maximum possible output"
   ]
  },
  {
   "cell_type": "code",
   "execution_count": null,
   "metadata": {
    "pycharm": {
     "name": "#%%\n"
    }
   },
   "outputs": [],
   "source": [
    "# Limit of active power which can pass through link (n.links.p_nom can not be used)\n",
    "# Optimised nominal power\n",
    "n.links.p_nom_opt.head()"
   ]
  },
  {
   "cell_type": "code",
   "execution_count": null,
   "metadata": {
    "pycharm": {
     "name": "#%%\n"
    }
   },
   "outputs": [],
   "source": [
    "# some links have a static p_max_pu value and some have an alternating (series)\n",
    "index_series_li = n.links_t.p_max_pu.columns\n",
    "index_static_li = n.links.index.difference(n.links_t.p_max_pu.columns)"
   ]
  },
  {
   "cell_type": "code",
   "execution_count": null,
   "metadata": {
    "pycharm": {
     "name": "#%%\n"
    }
   },
   "outputs": [],
   "source": [
    "# calculate the possible output for the link for every time step\n",
    "\n",
    "if method == 1:\n",
    "    # use p_max_pu * p_nom_op\n",
    "    max_output_links_static = n.links.loc[index_static_li].p_max_pu * n.links.loc[index_static_li].p_nom_opt\n",
    "elif method == 2:\n",
    "    # alternatively use the maximum of the real output and set it as the maximum capacity\n",
    "    max_output_links_static= n_links_p1[index_static_li].max()"
   ]
  },
  {
   "cell_type": "code",
   "execution_count": null,
   "metadata": {
    "pycharm": {
     "name": "#%%\n"
    }
   },
   "outputs": [],
   "source": [
    "# make ts of max_output_links_static\n",
    "max_output_links_ts_static = n.links_t.p0[index_static_li].copy()\n",
    "for snap in n.links_t.p0.index:\n",
    "    max_output_links_ts_static.loc[snap] = max_output_links_static[index_static_li]"
   ]
  },
  {
   "cell_type": "code",
   "execution_count": null,
   "metadata": {
    "pycharm": {
     "name": "#%%\n"
    }
   },
   "outputs": [],
   "source": [
    "# calc time series of time dependent p_max_pu links\n",
    "max_output_links_ts_series = n.links_t.p_max_pu * n.links.p_nom_opt[index_series_li]"
   ]
  },
  {
   "cell_type": "code",
   "execution_count": null,
   "metadata": {
    "pycharm": {
     "name": "#%%\n"
    }
   },
   "outputs": [],
   "source": [
    "# merge static and series values and reorder columns\n",
    "max_output_links_ts = pd.concat([max_output_links_ts_static, max_output_links_ts_series], axis=1)[n.links_t.p0.columns]\n",
    "max_output_links_ts"
   ]
  },
  {
   "cell_type": "code",
   "execution_count": null,
   "metadata": {
    "pycharm": {
     "name": "#%%\n"
    }
   },
   "outputs": [],
   "source": [
    "#TODO: add step to check the charging state of the store"
   ]
  },
  {
   "cell_type": "code",
   "execution_count": null,
   "metadata": {
    "pycharm": {
     "name": "#%%\n"
    }
   },
   "outputs": [],
   "source": [
    "# compare to real output\n",
    "out_ratio_links = n_links_p1 / max_output_links_ts\n",
    "out_diff_links = max_output_links_ts - n_links_p1"
   ]
  },
  {
   "cell_type": "code",
   "execution_count": null,
   "metadata": {
    "pycharm": {
     "name": "#%%\n"
    }
   },
   "outputs": [],
   "source": [
    "out_ratio_links.describe()"
   ]
  },
  {
   "cell_type": "markdown",
   "metadata": {
    "pycharm": {
     "name": "#%% md\n"
    }
   },
   "source": [
    "### Results"
   ]
  },
  {
   "cell_type": "code",
   "execution_count": null,
   "metadata": {
    "pycharm": {
     "name": "#%%\n"
    }
   },
   "outputs": [],
   "source": [
    "# indicate which link is marginal generator for p1\n",
    "th_ratio = 0.95\n",
    "th_prod_rel = 0.05\n",
    "th_prod_abs = 10\n",
    "\n",
    "# ratio has to be lower than threshold\n",
    "out_ratio_links[out_ratio_links < th_ratio] = 0.5 # th_ratio\n",
    "# output has to be greater than threshold (relatively to max_output) and greater than th_prod_abs MW\n",
    "out_prod_links = n_links_p1.copy()\n",
    "out_prod_links[(out_prod_links > (max_output_links_ts*th_prod_rel)) & (out_prod_links > th_prod_abs)] = 0.5 # th_prod\n",
    "out_incidence_li = out_ratio_links + out_prod_links\n",
    "out_incidence_li[out_incidence_li != 1] = 0\n",
    "out_incidence_li = out_incidence_li.astype(int)\n",
    "out_incidence_li"
   ]
  },
  {
   "cell_type": "code",
   "execution_count": null,
   "metadata": {
    "pycharm": {
     "name": "#%%\n"
    }
   },
   "outputs": [],
   "source": [
    "out_incidence_li.describe()"
   ]
  },
  {
   "cell_type": "code",
   "execution_count": null,
   "metadata": {
    "pycharm": {
     "name": "#%%\n"
    }
   },
   "outputs": [],
   "source": [
    "# number can be higher than 181 as there are also generators for other technologies not just electricity -> maybe first only concentrate on AC (main bus)\n",
    "plt.plot(out_incidence_li.sum(axis=1))\n",
    "out_incidence_li.sum(axis=1).max()"
   ]
  },
  {
   "cell_type": "code",
   "execution_count": null,
   "metadata": {
    "pycharm": {
     "name": "#%%\n"
    }
   },
   "outputs": [],
   "source": [
    "# check results\n",
    "li = \"AL0 0 urban central solid biomass CHP CC\" # \"AL0 0 residential rural ground heat pump\" #DE0 0 H2 Fuel Cell\" # \"AL0 0 urban central solid biomass CHP CC\"# \"DE0 0 H2 Fuel Cell\" # \"SE3 6 urban central resistive heater\"\n",
    "start = 0\n",
    "end = 2920\n",
    "\n",
    "plt.figure(figsize=(20, 8))\n",
    "plt.plot(n_links_p1[li][start:end], \"o\", color=\"green\", label=\"real generation\")\n",
    "plt.plot(max_output_links_ts[li][start:end], \":\", color=\"black\", label=\"max generation\")\n",
    "plt.plot(out_incidence_li[li][start:end]*max_output_links_ts[li][start:end].mean()*0.75, ls=\"\", color=\"red\", marker=\"*\", label=\"marginal generator indicator\")\n",
    "plt.title(f\"{li}\")\n",
    "plt.legend()\n",
    "plt.show()"
   ]
  },
  {
   "cell_type": "markdown",
   "metadata": {
    "pycharm": {
     "name": "#%% md\n"
    }
   },
   "source": [
    "### Problems\n",
    "- For \"AL0 0 urban central solid biomass CHP CC\" the max generation is not the real maximum possible output; same for \"AL0 0 urban central solid biomass CHP\" -> this can be obtained as the real generation never reaches the max generation (same for \"DE0 0 H2 Fuel Cell\")\n",
    "- For a lot of links the real ouptut is higher thant he maximum output: \"AL0 0 residential rural ground heat pump\"\n",
    "\n",
    "Possible solution:\n",
    "- use the maximum of the real output and the theoretical maximum output for the static links\n"
   ]
  },
  {
   "cell_type": "code",
   "execution_count": null,
   "metadata": {
    "pycharm": {
     "name": "#%%\n"
    }
   },
   "outputs": [],
   "source": [
    "# check if maximum output is ever reached (only check for static links)\n",
    "ratio = pd.DataFrame(n_links_p1[index_static_li].max() / max_output_links_static).rename(columns={0: \"data\"})"
   ]
  },
  {
   "cell_type": "code",
   "execution_count": null,
   "metadata": {
    "pycharm": {
     "name": "#%%\n"
    }
   },
   "outputs": [],
   "source": [
    "# this is 0 if you use the real maximum output as capacity (method2)\n",
    "ratio[ratio.data > 1]"
   ]
  },
  {
   "cell_type": "code",
   "execution_count": null,
   "metadata": {
    "pycharm": {
     "name": "#%%\n"
    }
   },
   "outputs": [],
   "source": [
    "# 4757 for method 1; 0 for method 2\n",
    "ratio[ratio.data < 0.9]"
   ]
  },
  {
   "cell_type": "code",
   "execution_count": null,
   "metadata": {
    "pycharm": {
     "name": "#%%\n"
    }
   },
   "outputs": [],
   "source": [
    "# good cases\n",
    "# 2156 for method 1; 0 for method 2\n",
    "ratio[(ratio.data > 0.9) & (ratio.data <= 1)]"
   ]
  },
  {
   "cell_type": "markdown",
   "metadata": {
    "pycharm": {
     "name": "#%% md\n"
    }
   },
   "source": [
    "## Determine marginal generator"
   ]
  },
  {
   "cell_type": "code",
   "execution_count": null,
   "metadata": {
    "pycharm": {
     "name": "#%%\n"
    }
   },
   "outputs": [],
   "source": [
    "assert 0"
   ]
  },
  {
   "cell_type": "code",
   "execution_count": null,
   "metadata": {
    "pycharm": {
     "name": "#%%\n"
    }
   },
   "outputs": [],
   "source": [
    "%%time\n",
    "# create empty df (takes 2 mins)\n",
    "mg = pd.DataFrame(index=n.buses_t.p.index, columns=n.buses.index)\n",
    "for col in mg.columns:\n",
    "    mg[col] = [[] for _ in range(len(mg))]\n",
    "mg"
   ]
  },
  {
   "cell_type": "code",
   "execution_count": null,
   "metadata": {
    "pycharm": {
     "name": "#%%\n"
    }
   },
   "outputs": [],
   "source": [
    "%%time\n",
    "# assign marginal generator for every time step and carrier bus (takes <20 mins)\n",
    "for snap in out_incidence.index:\n",
    "    for gen in out_incidence.columns:\n",
    "        if out_incidence.loc[snap,gen] == 1:\n",
    "            mg.loc[snap,n.generators.bus[gen]].append(gen)\n",
    "    for su in  out_incidence_su.columns:\n",
    "        if out_incidence_su.loc[snap,su] == 1:\n",
    "            mg.loc[snap,n.storage_units.bus[su]].append(su)\n",
    "    for li in  out_incidence_li.columns:\n",
    "            if out_incidence_li.loc[snap,li] == 1:\n",
    "                mg.loc[snap,n.links.bus1[li]].append(li)"
   ]
  },
  {
   "cell_type": "code",
   "execution_count": null,
   "metadata": {
    "pycharm": {
     "name": "#%%\n"
    }
   },
   "outputs": [],
   "source": [
    "# save\n",
    "mg.to_csv(\"../data/processed/mg_gen_su_li_v1_method2.csv\")"
   ]
  },
  {
   "cell_type": "code",
   "execution_count": null,
   "metadata": {
    "pycharm": {
     "name": "#%%\n"
    }
   },
   "outputs": [],
   "source": [
    "# read back with snapshots as Datetime Index and Cells as lists\n",
    "mg_back_m1 = pd.read_csv(filepath_or_buffer=\"../data/processed/mg_gen_su_li_v1_method1.csv\", index_col=\"snapshot\", parse_dates=True, converters={col: ast.literal_eval for col in n.buses.index})\n",
    "mg_back_m2 = pd.read_csv(filepath_or_buffer=\"../data/processed/mg_gen_su_li_v1_method2.csv\", index_col=\"snapshot\", parse_dates=True, converters={col: ast.literal_eval for col in n.buses.index})"
   ]
  },
  {
   "cell_type": "code",
   "execution_count": null,
   "metadata": {
    "pycharm": {
     "name": "#%%\n"
    }
   },
   "outputs": [],
   "source": [
    "mg = mg_back_m1\n",
    "# mg = mg_back_m2"
   ]
  },
  {
   "cell_type": "code",
   "execution_count": null,
   "metadata": {
    "pycharm": {
     "name": "#%%\n"
    }
   },
   "outputs": [],
   "source": [
    "mg.head()"
   ]
  },
  {
   "cell_type": "markdown",
   "metadata": {
    "pycharm": {
     "name": "#%% md\n"
    }
   },
   "source": [
    "#### Plot for one bus"
   ]
  },
  {
   "cell_type": "code",
   "execution_count": null,
   "metadata": {
    "pycharm": {
     "name": "#%%\n"
    }
   },
   "outputs": [],
   "source": [
    "bus = \"AL0 0\" # \"AL0 0\" # \"DE0 0\"\n",
    "df = pd.concat([mg[bus], n.buses_t.p[bus], n.buses_t.marginal_price[bus]], axis=1)\n",
    "df.columns = [f\"{bus}_mg\", f\"{bus}_p\", f\"{bus}_lmp\"]\n",
    "df[f\"{bus}_mg labels\"] = df[f\"{bus}_mg\"].astype(str)\n",
    "df"
   ]
  },
  {
   "cell_type": "code",
   "execution_count": null,
   "metadata": {
    "pycharm": {
     "name": "#%%\n"
    }
   },
   "outputs": [],
   "source": [
    "# lmp per marginal generator\n",
    "plt.figure(figsize=(8, 6))\n",
    "for label in df[f\"{bus}_mg\"].astype(str).unique():\n",
    "    plt.plot(df[df[f\"{bus}_mg labels\"] == label][f\"{bus}_lmp\"], \"x\", label=label)\n",
    "\n",
    "# plt.ylim(-100, 500)\n",
    "plt.xlabel(\"Hours of the year in 3h steps (sorted)\")\n",
    "plt.ylabel(\"Market clearing price in EUR/MWh)\")\n",
    "plt.legend(loc='center left', bbox_to_anchor=(1, 0.5))\n",
    "plt.show()\n",
    "\n",
    "# capa nochmal mit effizienf falls nicht nur strom produziert wird ("
   ]
  },
  {
   "cell_type": "code",
   "execution_count": null,
   "metadata": {
    "pycharm": {
     "name": "#%%\n"
    }
   },
   "outputs": [],
   "source": [
    "df2 = df.sort_values(by=[f\"{bus}_lmp\"], ascending=False)\n",
    "df2.index = np.arange(1, len(df)+1)\n",
    "\n",
    "# price duration curve per region\n",
    "plt.figure(figsize=(16, 8))\n",
    "for label in df[f\"{bus}_mg\"].astype(str).unique():\n",
    "    plt.plot(df2[df2[f\"{bus}_mg labels\"] == label][f\"{bus}_lmp\"], \".\", label=label)\n",
    "\n",
    "# plt.ylim(-100, 500)\n",
    "plt.xlabel(\"Hours of the year in 3h steps (sorted)\")\n",
    "plt.ylabel(\"Market clearing price in EUR/MWh)\")\n",
    "plt.legend(loc='upper center', bbox_to_anchor=(0.5, -0.05),fancybox=True, shadow=True, ncol=2)\n",
    "plt.show()"
   ]
  },
  {
   "cell_type": "code",
   "execution_count": null,
   "metadata": {
    "pycharm": {
     "name": "#%%\n"
    }
   },
   "outputs": [],
   "source": [
    "# get counts of marginal generators and labels\n",
    "# labels\n",
    "df2[f\"{bus}_mg labels\"].value_counts()"
   ]
  },
  {
   "cell_type": "code",
   "execution_count": null,
   "metadata": {
    "pycharm": {
     "name": "#%%\n"
    }
   },
   "outputs": [],
   "source": [
    "# single marginal generators\n",
    "mgs = []\n",
    "for item in df2[f\"{bus}_mg\"]:\n",
    "    mgs.extend(item)\n",
    "mgs = set(mgs)\n",
    "mgs"
   ]
  },
  {
   "cell_type": "code",
   "execution_count": null,
   "metadata": {
    "pycharm": {
     "name": "#%%\n"
    }
   },
   "outputs": [],
   "source": [
    "# single counts / counts of marginal generators\n",
    "df2[f\"{bus}_mg\"].apply(','.join).astype(str).str.get_dummies(sep=',').sum().sort_values(ascending=False)"
   ]
  },
  {
   "cell_type": "code",
   "execution_count": null,
   "metadata": {
    "pycharm": {
     "name": "#%%\n"
    }
   },
   "outputs": [],
   "source": [
    "assert 0"
   ]
  },
  {
   "cell_type": "markdown",
   "metadata": {
    "pycharm": {
     "name": "#%% md\n"
    }
   },
   "source": [
    "## Determine marginal price"
   ]
  },
  {
   "cell_type": "markdown",
   "metadata": {
    "pycharm": {
     "name": "#%% md\n"
    }
   },
   "source": [
    "### Investigate case\n",
    "-> power_balance notebook"
   ]
  },
  {
   "cell_type": "code",
   "execution_count": null,
   "metadata": {
    "pycharm": {
     "name": "#%%\n"
    }
   },
   "outputs": [],
   "source": [
    "mg_back"
   ]
  },
  {
   "cell_type": "code",
   "execution_count": null,
   "metadata": {
    "pycharm": {
     "name": "#%%\n"
    }
   },
   "outputs": [],
   "source": [
    "n.buses.loc[pd.Index(n.stores.bus.values)].location"
   ]
  },
  {
   "cell_type": "code",
   "execution_count": null,
   "metadata": {
    "pycharm": {
     "name": "#%%\n"
    }
   },
   "outputs": [],
   "source": [
    "pd.Index(n.stores.bus.values)"
   ]
  },
  {
   "cell_type": "code",
   "execution_count": null,
   "metadata": {
    "pycharm": {
     "name": "#%%\n"
    }
   },
   "outputs": [],
   "source": [
    "pd.Index(n.stores.bus.values)"
   ]
  },
  {
   "cell_type": "code",
   "execution_count": null,
   "metadata": {
    "pycharm": {
     "name": "#%%\n"
    }
   },
   "outputs": [],
   "source": [
    "n.stores.bus.values"
   ]
  },
  {
   "cell_type": "markdown",
   "metadata": {
    "pycharm": {
     "name": "#%% md\n"
    }
   },
   "source": [
    "### ToDO\n",
    "\n",
    "- Für einzelne Fälle rausfinden welche die marginal generators sind und deren lmp nachvollziehen. Dann damit die anderen marginal generator berechnen\n",
    "- idea: if the net flow away from a bus is positive this means that the marginal generator has to be at the bus? -> no, only if all flows away from the bus are positive"
   ]
  },
  {
   "cell_type": "code",
   "execution_count": null,
   "metadata": {
    "pycharm": {
     "name": "#%%\n"
    }
   },
   "outputs": [],
   "source": []
  },
  {
   "cell_type": "code",
   "execution_count": null,
   "metadata": {
    "pycharm": {
     "name": "#%%\n"
    }
   },
   "outputs": [],
   "source": []
  },
  {
   "cell_type": "code",
   "execution_count": null,
   "metadata": {
    "pycharm": {
     "name": "#%%\n"
    }
   },
   "outputs": [],
   "source": []
  },
  {
   "cell_type": "code",
   "execution_count": null,
   "metadata": {
    "pycharm": {
     "name": "#%%\n"
    }
   },
   "outputs": [],
   "source": [
    "# Lines (what reaches bus?)\n",
    "# 1. sum of power @ lines with bus as bus0 and p0 (Active power at bus0 (positive if branch is withdrawing power from bus0)\n",
    "n.lines_t.p0[n.lines[n.lines.bus0 == bus].index].sum(axis=1)\n",
    "# 2. sum of power @ lines with bus as bus1 and p1 (Active power at bus1 (positive if branch is withdrawing power from bus1)\n",
    "n.lines_t.p1[n.lines[n.lines.bus1 == bus].index].sum(axis=1)\n",
    "# sum (if negative power is feed into bus)\n",
    "lines = n.lines_t.p0[n.lines[n.lines.bus0 == bus].index].sum(axis=1) + n.lines_t.p1[n.lines[n.lines.bus1 == bus].index].sum(axis=1)\n",
    "lines[snapshot]"
   ]
  },
  {
   "cell_type": "code",
   "execution_count": null,
   "metadata": {
    "pycharm": {
     "name": "#%%\n"
    }
   },
   "outputs": [],
   "source": [
    "# loads\n",
    "loads_index = n.loads[[s in buses for s in n.loads.bus]].bus.index\n",
    "# active power at bus (positive if net load) in MW\n",
    "n.loads_t.p.loc[snapshot, loads_index]#.sum()"
   ]
  },
  {
   "cell_type": "code",
   "execution_count": null,
   "metadata": {
    "pycharm": {
     "name": "#%%\n"
    }
   },
   "outputs": [],
   "source": [
    "# generation in whole region\n",
    "gens_index = n.generators[[s in buses for s in n.generators.bus]].bus.index\n",
    "# active power at bus (positive if net generation) in MW\n",
    "n.generators_t.p.loc[snapshot, gens_index]#.sum(axis=1)"
   ]
  },
  {
   "cell_type": "code",
   "execution_count": null,
   "metadata": {
    "pycharm": {
     "name": "#%%\n"
    }
   },
   "outputs": [],
   "source": [
    "# generation directly connected to bus\n",
    "gens_index_direct = n.generators[n.generators.bus == bus].bus.index\n",
    "n.generators_t.p.loc[snapshot, gens_index_direct]#.sum(axis=1)"
   ]
  },
  {
   "cell_type": "code",
   "execution_count": null,
   "metadata": {
    "pycharm": {
     "name": "#%%\n"
    }
   },
   "outputs": [],
   "source": [
    "# storages\n",
    "storage_index = n.storage_units[[s in buses for s in n.storage_units.bus]].bus.index\n",
    "# active power at bus (positive if net generation) in MW\n",
    "n.storage_units_t.p.loc[snapshot, storage_index]#.sum(axis=1)"
   ]
  },
  {
   "cell_type": "code",
   "execution_count": null,
   "metadata": {
    "pycharm": {
     "name": "#%%\n"
    }
   },
   "outputs": [],
   "source": [
    "# storage directly at bus\n",
    "storage_index_direct = n.storage_units[n.storage_units.bus == bus].bus.index\n",
    "n.storage_units_t.p.loc[snapshot, storage_index_direct]#.sum(axis=1)"
   ]
  },
  {
   "cell_type": "code",
   "execution_count": null,
   "metadata": {
    "pycharm": {
     "name": "#%%\n"
    }
   },
   "outputs": [],
   "source": [
    "# stores\n",
    "stores_index = n.stores[[s in buses for s in n.stores.bus]].bus.index\n",
    "# active power at bus (positive if net generation) in MW\n",
    "n.stores_t.p.loc[snapshot, stores_index]#.sum(axis=1)"
   ]
  },
  {
   "cell_type": "code",
   "execution_count": null,
   "metadata": {
    "pycharm": {
     "name": "#%%\n"
    }
   },
   "outputs": [],
   "source": [
    "# stores directly at bus\n",
    "stores_index_direct = n.stores[n.stores.bus == bus].bus.index\n",
    "# active power at bus (positive if net generation) in MW\n",
    "n.stores_t.p.loc[snapshot, stores_index_direct]#.sum(axis=1)"
   ]
  },
  {
   "cell_type": "code",
   "execution_count": null,
   "metadata": {
    "pycharm": {
     "name": "#%%\n"
    }
   },
   "outputs": [],
   "source": [
    "# link"
   ]
  },
  {
   "cell_type": "code",
   "execution_count": null,
   "metadata": {
    "pycharm": {
     "name": "#%%\n"
    }
   },
   "outputs": [],
   "source": [
    "n.links[n.links.bus0 == bus]"
   ]
  },
  {
   "cell_type": "code",
   "execution_count": null,
   "metadata": {
    "pycharm": {
     "name": "#%%\n"
    }
   },
   "outputs": [],
   "source": [
    "n.links[n.links.bus1 == bus]"
   ]
  },
  {
   "cell_type": "code",
   "execution_count": null,
   "metadata": {
    "pycharm": {
     "name": "#%%\n"
    }
   },
   "outputs": [],
   "source": [
    "# Links (what reaches bus?)\n",
    "# 1. sum of power @ links with bus as bus0 and p0 (Active power at bus0 (positive if branch is withdrawing power from bus0)\n",
    "n.links_t.p0[n.links[n.links.bus0 == bus].index].sum(axis=1)\n",
    "# 2. sum of power @ links with bus as bus1 and p1 (Active power at bus1 (positive if branch is withdrawing power from bus1)\n",
    "n.links_t.p1[n.links[n.links.bus1 == bus].index].sum(axis=1)\n",
    "# sum (if negative power is feed into bus)\n",
    "links_sum = n.links_t.p0[n.links[n.links.bus0 == bus].index].sum(axis=1) + n.links_t.p1[n.links[n.links.bus1 == bus].index].sum(axis=1)\n",
    "links_sum[snapshot]"
   ]
  },
  {
   "cell_type": "code",
   "execution_count": null,
   "metadata": {
    "pycharm": {
     "name": "#%%\n"
    }
   },
   "outputs": [],
   "source": [
    "n.links_t.p0.loc[snapshot , n.links[n.links.bus0 == bus].index]"
   ]
  },
  {
   "cell_type": "code",
   "execution_count": null,
   "metadata": {
    "pycharm": {
     "name": "#%%\n"
    }
   },
   "outputs": [],
   "source": [
    "n.links_t.p1.loc[snapshot , n.links[n.links.bus1 == bus].index]"
   ]
  },
  {
   "cell_type": "code",
   "execution_count": null,
   "metadata": {
    "pycharm": {
     "name": "#%%\n"
    }
   },
   "outputs": [],
   "source": [
    "# aggregation for bus0\n",
    "# balance of electricity feed in and withdrawal via lines\n",
    "li = lines[snapshot]\n",
    "# load at direct bus (not other technologies)\n",
    "lo = n.loads_t.p.loc[snapshot, loads_index][bus].sum()\n",
    "# generation at direct bus (not other technologies)\n",
    "gen = n.generators_t.p.loc[snapshot, gens_index_direct].sum()\n",
    "lk = links_sum[snapshot]\n",
    "\n",
    "gen - li - lo - lk"
   ]
  },
  {
   "cell_type": "code",
   "execution_count": null,
   "metadata": {
    "pycharm": {
     "name": "#%%\n"
    }
   },
   "outputs": [],
   "source": [
    "n.loads_t.p.loc[snapshot, loads_index][bus]"
   ]
  },
  {
   "cell_type": "code",
   "execution_count": null,
   "metadata": {
    "pycharm": {
     "name": "#%%\n"
    }
   },
   "outputs": [],
   "source": [
    "n.buses_t.marginal_price[buses]"
   ]
  },
  {
   "cell_type": "code",
   "execution_count": null,
   "metadata": {
    "pycharm": {
     "name": "#%%\n"
    }
   },
   "outputs": [],
   "source": [
    "n.stores"
   ]
  },
  {
   "cell_type": "code",
   "execution_count": null,
   "metadata": {
    "pycharm": {
     "name": "#%%\n"
    }
   },
   "outputs": [],
   "source": [
    "# 17 buses in region AL0 0\n",
    "n.buses[n.buses.location == \"AL0 0\"]"
   ]
  },
  {
   "cell_type": "code",
   "execution_count": null,
   "metadata": {
    "pycharm": {
     "name": "#%%\n"
    }
   },
   "outputs": [],
   "source": [
    "# 181 regions and EU\n",
    "n.buses.location.unique()"
   ]
  },
  {
   "cell_type": "code",
   "execution_count": null,
   "metadata": {
    "pycharm": {
     "name": "#%%\n"
    }
   },
   "outputs": [],
   "source": [
    "n.loads[['AL0 0' in s for s in n.loads.index]]"
   ]
  },
  {
   "cell_type": "code",
   "execution_count": null,
   "metadata": {
    "pycharm": {
     "name": "#%%\n"
    }
   },
   "outputs": [],
   "source": [
    "n.loads.bus.unique()"
   ]
  },
  {
   "cell_type": "code",
   "execution_count": null,
   "metadata": {
    "pycharm": {
     "name": "#%%\n"
    }
   },
   "outputs": [],
   "source": [
    "n.generators.bus.unique()"
   ]
  },
  {
   "cell_type": "code",
   "execution_count": null,
   "metadata": {
    "pycharm": {
     "name": "#%%\n"
    }
   },
   "outputs": [],
   "source": [
    "n.storage_units.bus"
   ]
  },
  {
   "cell_type": "code",
   "execution_count": null,
   "metadata": {
    "pycharm": {
     "name": "#%%\n"
    }
   },
   "outputs": [],
   "source": [
    "n.stores.bus"
   ]
  },
  {
   "cell_type": "code",
   "execution_count": null,
   "metadata": {
    "pycharm": {
     "name": "#%%\n"
    }
   },
   "outputs": [],
   "source": [
    "n.loads_t.p"
   ]
  },
  {
   "cell_type": "code",
   "execution_count": null,
   "metadata": {
    "pycharm": {
     "name": "#%%\n"
    }
   },
   "outputs": [],
   "source": [
    "n.loads_t.p.loc[\"2013-01-02 03:00:00\", ['AL0 0' in s for s in n.loads_t.p.columns]]"
   ]
  },
  {
   "cell_type": "code",
   "execution_count": null,
   "metadata": {
    "pycharm": {
     "name": "#%%\n"
    }
   },
   "outputs": [],
   "source": [
    "n.loads_t.p"
   ]
  },
  {
   "cell_type": "code",
   "execution_count": null,
   "metadata": {
    "pycharm": {
     "name": "#%%\n"
    }
   },
   "outputs": [],
   "source": [
    "n.loads_t.p_set.loc[\"2013-01-02 00:00:00\", ['AL0 0' in s for s in n.loads_t.p_set.columns]]"
   ]
  },
  {
   "cell_type": "code",
   "execution_count": null,
   "metadata": {
    "pycharm": {
     "name": "#%%\n"
    }
   },
   "outputs": [],
   "source": [
    "n.buses[['AL0 0' in s for s in n.buses.index]]"
   ]
  },
  {
   "cell_type": "code",
   "execution_count": null,
   "metadata": {
    "pycharm": {
     "name": "#%%\n"
    }
   },
   "outputs": [],
   "source": [
    "# active power at bus (positive if net generation at bus) (MW)\n",
    "n.buses_t.p\n",
    "# 608 MWh missing at ALO 0 that are feed in from other buses / nodes via lines 1,2,3,4\n",
    "1639.391422 - 1053.551832 - 269.964278"
   ]
  },
  {
   "cell_type": "code",
   "execution_count": null,
   "metadata": {
    "pycharm": {
     "name": "#%%\n"
    }
   },
   "outputs": [],
   "source": [
    "# marginal cost of generator in currency/MWh\n",
    "n.generators[['AL0 0' in s for s in n.generators.index]]"
   ]
  },
  {
   "cell_type": "code",
   "execution_count": null,
   "metadata": {
    "pycharm": {
     "name": "#%%\n"
    }
   },
   "outputs": [],
   "source": [
    "# actual dispatch of the generator\n",
    "n.generators_t.p.loc[\"2013-01-02 00:00:00\", ['AL0 0' in s for s in n.generators_t.p.columns]]"
   ]
  },
  {
   "cell_type": "code",
   "execution_count": null,
   "metadata": {
    "pycharm": {
     "name": "#%%\n"
    }
   },
   "outputs": [],
   "source": [
    "n.storage_units[['AL0 0' in s for s in n.storage_units.index]]"
   ]
  },
  {
   "cell_type": "code",
   "execution_count": null,
   "metadata": {
    "pycharm": {
     "name": "#%%\n"
    }
   },
   "outputs": [],
   "source": [
    "n.storage_units.marginal_cost.describe()"
   ]
  },
  {
   "cell_type": "code",
   "execution_count": null,
   "metadata": {
    "pycharm": {
     "name": "#%%\n"
    }
   },
   "outputs": [],
   "source": [
    "# Locational marginal price from LOPF from power balance constraint (currency/MWh)\n",
    "plt.plot(n.buses_t.marginal_price['AL0 0'])"
   ]
  },
  {
   "cell_type": "code",
   "execution_count": null,
   "metadata": {
    "pycharm": {
     "name": "#%%\n"
    }
   },
   "outputs": [],
   "source": [
    "n.stores[['AL0 0' in s for s in n.stores.index]]"
   ]
  },
  {
   "cell_type": "code",
   "execution_count": null,
   "metadata": {
    "pycharm": {
     "name": "#%%\n"
    }
   },
   "outputs": [],
   "source": [
    "# active power at bus (positive if net generation) (MW)\n",
    "n.stores_t.p.loc[\"2013-01-02 00:00:00\", ['AL0 0' in s for s in n.stores_t.p.columns]]"
   ]
  },
  {
   "cell_type": "code",
   "execution_count": null,
   "metadata": {
    "pycharm": {
     "name": "#%%\n"
    }
   },
   "outputs": [],
   "source": [
    "n.stores.marginal_cost[['AL0 0' in s for s in n.stores.index]]"
   ]
  },
  {
   "cell_type": "code",
   "execution_count": null,
   "metadata": {
    "pycharm": {
     "name": "#%%\n"
    }
   },
   "outputs": [],
   "source": [
    "n.generators_t.p"
   ]
  },
  {
   "cell_type": "code",
   "execution_count": null,
   "metadata": {
    "pycharm": {
     "name": "#%%\n"
    }
   },
   "outputs": [],
   "source": [
    "n.lines"
   ]
  },
  {
   "cell_type": "code",
   "execution_count": null,
   "metadata": {
    "pycharm": {
     "name": "#%%\n"
    }
   },
   "outputs": [],
   "source": [
    "n.lines_t.p0[n.lines[n.lines.bus0 == \"AL0 0\"].index].sum(axis=1)"
   ]
  },
  {
   "cell_type": "code",
   "execution_count": null,
   "metadata": {
    "pycharm": {
     "name": "#%%\n"
    }
   },
   "outputs": [],
   "source": [
    "# Active power at bus0 (positive if branch is withdrawing power from bus0).\n",
    "n.lines_t.p0[[\"1\",\"2\",\"3\",\"4\"]].sum(axis=1)\n",
    "# -608.163407 is feed into bus ALO 0\n",
    "# 1053.552001"
   ]
  },
  {
   "cell_type": "code",
   "execution_count": null,
   "metadata": {
    "pycharm": {
     "name": "#%%\n"
    }
   },
   "outputs": [],
   "source": [
    "n.lines_t.p1[[\"1\",\"2\",\"3\"]].sum(axis=1)"
   ]
  },
  {
   "cell_type": "code",
   "execution_count": null,
   "metadata": {
    "pycharm": {
     "name": "#%%\n"
    }
   },
   "outputs": [],
   "source": [
    "# no transformers\n",
    "n.transformers_t"
   ]
  },
  {
   "cell_type": "code",
   "execution_count": null,
   "metadata": {
    "pycharm": {
     "name": "#%%\n"
    }
   },
   "outputs": [],
   "source": [
    "n.storage_units"
   ]
  },
  {
   "cell_type": "code",
   "execution_count": null,
   "metadata": {
    "pycharm": {
     "name": "#%%\n"
    }
   },
   "outputs": [],
   "source": [
    "n.buses_t.marginal_price"
   ]
  },
  {
   "cell_type": "code",
   "execution_count": null,
   "metadata": {
    "pycharm": {
     "name": "#%%\n"
    }
   },
   "outputs": [],
   "source": [
    "import plotly.offline as py\n",
    "from plotly.graph_objs import *\n",
    "\n",
    "n.iplot()"
   ]
  },
  {
   "cell_type": "code",
   "execution_count": null,
   "metadata": {
    "pycharm": {
     "name": "#%%\n"
    }
   },
   "outputs": [],
   "source": [
    "n.buses"
   ]
  },
  {
   "cell_type": "code",
   "execution_count": null,
   "metadata": {
    "pycharm": {
     "name": "#%%\n"
    }
   },
   "outputs": [],
   "source": [
    "# reconstruction of electricity balance at bus 'AL0 0' at time \"2013-01-02 00:00:00\"\n",
    "date = \"2013-01-02 00:00:00\"\n",
    "bus = 'AT0 0' # \"AT0 0 hydro\n",
    "\n",
    "# load\n",
    "load = n.loads_t.p_set.loc[date, [bus]]\n",
    "\n",
    "# generation\n",
    "gen = n.generators_t.p.loc[date, [bus in s for s in n.generators_t.p.columns]].sum()\n",
    "\n",
    "# storage\n",
    "storage = n.storage_units_t.p.loc[date, [bus in s for s in n.storage_units_t.p.columns]].sum()\n",
    "\n",
    "# stores\n",
    "# n.stores_t.p.loc[date, [bus in s for s in n.stores_t.p.columns]]\n",
    "\n",
    "# lines\n",
    "lines = n.lines_t.p0.loc[date, n.lines[n.lines.bus0 == bus].index].sum()\n",
    "\n",
    "# balance\n",
    "load - gen - storage - lines"
   ]
  },
  {
   "cell_type": "code",
   "execution_count": null,
   "metadata": {
    "pycharm": {
     "name": "#%%\n"
    }
   },
   "outputs": [],
   "source": [
    "n.lines_t.p1[n.lines[n.lines.bus1 == bus].index].sum(axis=1)"
   ]
  },
  {
   "cell_type": "code",
   "execution_count": null,
   "metadata": {
    "pycharm": {
     "name": "#%%\n"
    }
   },
   "outputs": [],
   "source": [
    "n.stores.bus"
   ]
  },
  {
   "cell_type": "code",
   "execution_count": null,
   "metadata": {
    "pycharm": {
     "name": "#%%\n"
    }
   },
   "outputs": [],
   "source": [
    "# CO2 Preis"
   ]
  },
  {
   "cell_type": "markdown",
   "metadata": {
    "pycharm": {
     "name": "#%% md\n"
    }
   },
   "source": [
    "## Backup"
   ]
  },
  {
   "cell_type": "markdown",
   "metadata": {
    "pycharm": {
     "name": "#%% md\n"
    }
   },
   "source": [
    "## Stores"
   ]
  },
  {
   "cell_type": "code",
   "execution_count": null,
   "metadata": {
    "pycharm": {
     "name": "#%%\n"
    }
   },
   "outputs": [],
   "source": [
    "n.stores"
   ]
  },
  {
   "cell_type": "code",
   "execution_count": null,
   "metadata": {
    "pycharm": {
     "name": "#%%\n"
    }
   },
   "outputs": [],
   "source": [
    "# Challenge1: comparing only the actual output with the product of nominal power and maximum output is not sufficient as the storage can be empty / not sufficiently full ?\n",
    "# Challenge2: the real output can be either positive or negative (when storing energy)\n",
    "# n.stores.e_nom always zero -> use n.stores.e_nom_opt\n",
    "# n.stores.index.difference(pd.Index(n.stores_t.p.columns)) -> no difference in indices"
   ]
  },
  {
   "cell_type": "code",
   "execution_count": null,
   "metadata": {
    "pycharm": {
     "name": "#%%\n"
    }
   },
   "outputs": [],
   "source": [
    "n.stores.e_nom_min"
   ]
  },
  {
   "cell_type": "code",
   "execution_count": null,
   "metadata": {
    "pycharm": {
     "name": "#%%\n"
    }
   },
   "outputs": [],
   "source": [
    "# calculate the possible energy capacity for the generators for every time step (not really relevant for our use case) -> maximum output power cannot really be calculated\n",
    "max_output_e = n.stores.e_max_pu * n.stores.e_nom_opt\n",
    "max_output_e"
   ]
  },
  {
   "cell_type": "code",
   "execution_count": null,
   "metadata": {
    "pycharm": {
     "name": "#%%\n"
    }
   },
   "outputs": [],
   "source": [
    "# real output\n",
    "n.stores_t.p"
   ]
  },
  {
   "cell_type": "code",
   "execution_count": null,
   "metadata": {
    "pycharm": {
     "name": "#%%\n"
    }
   },
   "outputs": [],
   "source": [
    "# set maximum output as maximum possible output\n",
    "max_output_ts = n.stores_t.p.copy()\n",
    "for snap in n.stores_t.p.index:\n",
    "    max_output_ts.loc[snap] = n.stores_t.p[n.stores_t.p.columns].max()\n",
    "max_output_ts"
   ]
  },
  {
   "cell_type": "code",
   "execution_count": null,
   "metadata": {
    "pycharm": {
     "name": "#%%\n"
    }
   },
   "outputs": [],
   "source": [
    "# compare to real output\n",
    "out_ratio = n.stores_t.p / max_output_ts\n",
    "out_ratio"
   ]
  },
  {
   "cell_type": "code",
   "execution_count": null,
   "metadata": {
    "pycharm": {
     "name": "#%%\n"
    }
   },
   "outputs": [],
   "source": [
    "# indicate which store is marginal store\n",
    "\n",
    "# ratio has to be lower than threshold\n",
    "out_ratio[out_ratio < th_ratio] = 0.5 # th_ratio\n",
    "# output has to be greater than threshold (relatively to max_output)\n",
    "out_prod = n.stores_t.p.copy()\n",
    "out_prod[out_prod > (max_output_ts*th_prod)] = 0.5 # th_prod\n",
    "out_incidence_st = out_ratio + out_prod\n",
    "out_incidence_st[out_incidence_st != 1] = 0\n",
    "out_incidence_st = out_incidence_st.astype(int)\n",
    "out_incidence_st"
   ]
  },
  {
   "cell_type": "markdown",
   "metadata": {
    "pycharm": {
     "name": "#%% md\n"
    }
   },
   "source": [
    "#### Results"
   ]
  },
  {
   "cell_type": "code",
   "execution_count": null,
   "metadata": {
    "pycharm": {
     "name": "#%%\n"
    }
   },
   "outputs": [],
   "source": [
    "# number can be higher than 181 as there are also generators for other technologies not just electricity\n",
    "plt.plot(out_incidence_st.sum(axis=1))\n",
    "out_incidence_st.sum(axis=1).max()"
   ]
  },
  {
   "cell_type": "code",
   "execution_count": null,
   "metadata": {
    "pycharm": {
     "name": "#%%\n"
    }
   },
   "outputs": [],
   "source": [
    "# check results\n",
    "st = \"DE0 20 home battery\" # DE0 11 H2 Store, DE0 20 home battery, DE0 15 H2 Store\n",
    "start = 0\n",
    "end = 200\n",
    "\n",
    "plt.figure(figsize=(20, 8))\n",
    "plt.plot(n.stores_t.p[st][start:end], \"o\", color=\"green\", label=\"real generation\")\n",
    "plt.plot(max_output_ts[st][start:end], \"x\", color=\"black\", label=\"max generation\")\n",
    "plt.plot(out_incidence_st[st][start:end]*max_output_ts[st][start:end].mean()*0.75, \"x\", color=\"red\", marker=\"*\", label=\"marginal generator indicator\")\n",
    "plt.legend()\n",
    "plt.show()"
   ]
  }
 ],
 "metadata": {
  "kernelspec": {
   "display_name": "Python 3 (ipykernel)",
   "language": "python",
   "name": "python3"
  },
  "language_info": {
   "codemirror_mode": {
    "name": "ipython",
    "version": 3
   },
   "file_extension": ".py",
   "mimetype": "text/x-python",
   "name": "python",
   "nbconvert_exporter": "python",
   "pygments_lexer": "ipython3",
   "version": "3.10.6"
  }
 },
 "nbformat": 4,
 "nbformat_minor": 1
}
