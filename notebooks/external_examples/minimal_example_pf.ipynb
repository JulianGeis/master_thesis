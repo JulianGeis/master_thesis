{
 "cells": [
  {
   "cell_type": "markdown",
   "metadata": {
    "pycharm": {
     "name": "#%% md\n"
    }
   },
   "source": [
    "# Minimal three node network\n",
    "\n",
    "Here, we are going to create a network with three nodes, three lines and one generator. We then solve the non-linear power flow using a Newton-Raphson."
   ]
  },
  {
   "cell_type": "code",
   "execution_count": 43,
   "metadata": {
    "pycharm": {
     "name": "#%%\n"
    }
   },
   "outputs": [],
   "source": [
    "import pypsa\n",
    "import numpy as np"
   ]
  },
  {
   "cell_type": "code",
   "execution_count": 44,
   "metadata": {
    "pycharm": {
     "name": "#%%\n"
    }
   },
   "outputs": [],
   "source": [
    "network = pypsa.Network()"
   ]
  },
  {
   "cell_type": "markdown",
   "metadata": {
    "pycharm": {
     "name": "#%% md\n"
    }
   },
   "source": [
    "Add three buses"
   ]
  },
  {
   "cell_type": "code",
   "execution_count": 45,
   "metadata": {
    "pycharm": {
     "name": "#%%\n"
    }
   },
   "outputs": [
    {
     "data": {
      "text/plain": "attribute  v_nom type    x    y carrier  unit  v_mag_pu_set  v_mag_pu_min  \\\nBus                                                                         \nMy bus 0    20.0       0.0  0.0      AC  None           1.0           0.0   \nMy bus 1    20.0       0.0  0.0      AC  None           1.0           0.0   \nMy bus 2    20.0       0.0  0.0      AC  None           1.0           0.0   \n\nattribute  v_mag_pu_max control sub_network  \nBus                                          \nMy bus 0            inf      PQ              \nMy bus 1            inf      PQ              \nMy bus 2            inf      PQ              ",
      "text/html": "<div>\n<style scoped>\n    .dataframe tbody tr th:only-of-type {\n        vertical-align: middle;\n    }\n\n    .dataframe tbody tr th {\n        vertical-align: top;\n    }\n\n    .dataframe thead th {\n        text-align: right;\n    }\n</style>\n<table border=\"1\" class=\"dataframe\">\n  <thead>\n    <tr style=\"text-align: right;\">\n      <th>attribute</th>\n      <th>v_nom</th>\n      <th>type</th>\n      <th>x</th>\n      <th>y</th>\n      <th>carrier</th>\n      <th>unit</th>\n      <th>v_mag_pu_set</th>\n      <th>v_mag_pu_min</th>\n      <th>v_mag_pu_max</th>\n      <th>control</th>\n      <th>sub_network</th>\n    </tr>\n    <tr>\n      <th>Bus</th>\n      <th></th>\n      <th></th>\n      <th></th>\n      <th></th>\n      <th></th>\n      <th></th>\n      <th></th>\n      <th></th>\n      <th></th>\n      <th></th>\n      <th></th>\n    </tr>\n  </thead>\n  <tbody>\n    <tr>\n      <th>My bus 0</th>\n      <td>20.0</td>\n      <td></td>\n      <td>0.0</td>\n      <td>0.0</td>\n      <td>AC</td>\n      <td>None</td>\n      <td>1.0</td>\n      <td>0.0</td>\n      <td>inf</td>\n      <td>PQ</td>\n      <td></td>\n    </tr>\n    <tr>\n      <th>My bus 1</th>\n      <td>20.0</td>\n      <td></td>\n      <td>0.0</td>\n      <td>0.0</td>\n      <td>AC</td>\n      <td>None</td>\n      <td>1.0</td>\n      <td>0.0</td>\n      <td>inf</td>\n      <td>PQ</td>\n      <td></td>\n    </tr>\n    <tr>\n      <th>My bus 2</th>\n      <td>20.0</td>\n      <td></td>\n      <td>0.0</td>\n      <td>0.0</td>\n      <td>AC</td>\n      <td>None</td>\n      <td>1.0</td>\n      <td>0.0</td>\n      <td>inf</td>\n      <td>PQ</td>\n      <td></td>\n    </tr>\n  </tbody>\n</table>\n</div>"
     },
     "execution_count": 45,
     "metadata": {},
     "output_type": "execute_result"
    }
   ],
   "source": [
    "n_buses = 3\n",
    "\n",
    "for i in range(n_buses):\n",
    "    network.add(\"Bus\", \"My bus {}\".format(i), v_nom=20.0)\n",
    "\n",
    "network.buses"
   ]
  },
  {
   "cell_type": "markdown",
   "metadata": {
    "pycharm": {
     "name": "#%% md\n"
    }
   },
   "source": [
    "Add three lines in a ring"
   ]
  },
  {
   "cell_type": "code",
   "execution_count": 46,
   "metadata": {
    "pycharm": {
     "name": "#%%\n"
    }
   },
   "outputs": [
    {
     "data": {
      "text/plain": "attribute      bus0      bus1 type    x     r    g    b  s_nom  \\\nLine                                                             \nMy line 0  My bus 0  My bus 1       0.1  0.01  0.0  0.0    0.0   \nMy line 1  My bus 1  My bus 2       0.1  0.01  0.0  0.0    0.0   \nMy line 2  My bus 2  My bus 0       0.1  0.01  0.0  0.0    0.0   \n\nattribute  s_nom_extendable  s_nom_min  ...  v_ang_min  v_ang_max  \\\nLine                                    ...                         \nMy line 0             False        0.0  ...       -inf        inf   \nMy line 1             False        0.0  ...       -inf        inf   \nMy line 2             False        0.0  ...       -inf        inf   \n\nattribute  sub_network  x_pu  r_pu  g_pu b_pu  x_pu_eff  r_pu_eff  s_nom_opt  \nLine                                                                          \nMy line 0                0.0   0.0   0.0  0.0       0.0       0.0        0.0  \nMy line 1                0.0   0.0   0.0  0.0       0.0       0.0        0.0  \nMy line 2                0.0   0.0   0.0  0.0       0.0       0.0        0.0  \n\n[3 rows x 29 columns]",
      "text/html": "<div>\n<style scoped>\n    .dataframe tbody tr th:only-of-type {\n        vertical-align: middle;\n    }\n\n    .dataframe tbody tr th {\n        vertical-align: top;\n    }\n\n    .dataframe thead th {\n        text-align: right;\n    }\n</style>\n<table border=\"1\" class=\"dataframe\">\n  <thead>\n    <tr style=\"text-align: right;\">\n      <th>attribute</th>\n      <th>bus0</th>\n      <th>bus1</th>\n      <th>type</th>\n      <th>x</th>\n      <th>r</th>\n      <th>g</th>\n      <th>b</th>\n      <th>s_nom</th>\n      <th>s_nom_extendable</th>\n      <th>s_nom_min</th>\n      <th>...</th>\n      <th>v_ang_min</th>\n      <th>v_ang_max</th>\n      <th>sub_network</th>\n      <th>x_pu</th>\n      <th>r_pu</th>\n      <th>g_pu</th>\n      <th>b_pu</th>\n      <th>x_pu_eff</th>\n      <th>r_pu_eff</th>\n      <th>s_nom_opt</th>\n    </tr>\n    <tr>\n      <th>Line</th>\n      <th></th>\n      <th></th>\n      <th></th>\n      <th></th>\n      <th></th>\n      <th></th>\n      <th></th>\n      <th></th>\n      <th></th>\n      <th></th>\n      <th></th>\n      <th></th>\n      <th></th>\n      <th></th>\n      <th></th>\n      <th></th>\n      <th></th>\n      <th></th>\n      <th></th>\n      <th></th>\n      <th></th>\n    </tr>\n  </thead>\n  <tbody>\n    <tr>\n      <th>My line 0</th>\n      <td>My bus 0</td>\n      <td>My bus 1</td>\n      <td></td>\n      <td>0.1</td>\n      <td>0.01</td>\n      <td>0.0</td>\n      <td>0.0</td>\n      <td>0.0</td>\n      <td>False</td>\n      <td>0.0</td>\n      <td>...</td>\n      <td>-inf</td>\n      <td>inf</td>\n      <td></td>\n      <td>0.0</td>\n      <td>0.0</td>\n      <td>0.0</td>\n      <td>0.0</td>\n      <td>0.0</td>\n      <td>0.0</td>\n      <td>0.0</td>\n    </tr>\n    <tr>\n      <th>My line 1</th>\n      <td>My bus 1</td>\n      <td>My bus 2</td>\n      <td></td>\n      <td>0.1</td>\n      <td>0.01</td>\n      <td>0.0</td>\n      <td>0.0</td>\n      <td>0.0</td>\n      <td>False</td>\n      <td>0.0</td>\n      <td>...</td>\n      <td>-inf</td>\n      <td>inf</td>\n      <td></td>\n      <td>0.0</td>\n      <td>0.0</td>\n      <td>0.0</td>\n      <td>0.0</td>\n      <td>0.0</td>\n      <td>0.0</td>\n      <td>0.0</td>\n    </tr>\n    <tr>\n      <th>My line 2</th>\n      <td>My bus 2</td>\n      <td>My bus 0</td>\n      <td></td>\n      <td>0.1</td>\n      <td>0.01</td>\n      <td>0.0</td>\n      <td>0.0</td>\n      <td>0.0</td>\n      <td>False</td>\n      <td>0.0</td>\n      <td>...</td>\n      <td>-inf</td>\n      <td>inf</td>\n      <td></td>\n      <td>0.0</td>\n      <td>0.0</td>\n      <td>0.0</td>\n      <td>0.0</td>\n      <td>0.0</td>\n      <td>0.0</td>\n      <td>0.0</td>\n    </tr>\n  </tbody>\n</table>\n<p>3 rows × 29 columns</p>\n</div>"
     },
     "execution_count": 46,
     "metadata": {},
     "output_type": "execute_result"
    }
   ],
   "source": [
    "for i in range(n_buses):\n",
    "    network.add(\n",
    "        \"Line\",\n",
    "        \"My line {}\".format(i),\n",
    "        bus0=\"My bus {}\".format(i),\n",
    "        bus1=\"My bus {}\".format((i + 1) % n_buses),\n",
    "        x=0.1,\n",
    "        r=0.01,\n",
    "    )\n",
    "\n",
    "network.lines"
   ]
  },
  {
   "cell_type": "markdown",
   "metadata": {
    "pycharm": {
     "name": "#%% md\n"
    }
   },
   "source": [
    "Add a generator at bus 0"
   ]
  },
  {
   "cell_type": "code",
   "execution_count": 47,
   "metadata": {
    "pycharm": {
     "name": "#%%\n"
    }
   },
   "outputs": [
    {
     "data": {
      "text/plain": "attribute       bus control type  p_nom  p_nom_extendable  p_nom_min  \\\nGenerator                                                              \nMy gen     My bus 0      PQ         0.0             False        0.0   \n\nattribute  p_nom_max  p_min_pu  p_max_pu  p_set  ...  shut_down_cost  \\\nGenerator                                        ...                   \nMy gen           inf       0.0       1.0  100.0  ...             0.0   \n\nattribute  min_up_time min_down_time  up_time_before  down_time_before  \\\nGenerator                                                                \nMy gen               0             0               1                 0   \n\nattribute  ramp_limit_up  ramp_limit_down  ramp_limit_start_up  \\\nGenerator                                                        \nMy gen               NaN              NaN                  1.0   \n\nattribute  ramp_limit_shut_down  p_nom_opt  \nGenerator                                   \nMy gen                      1.0        0.0  \n\n[1 rows x 30 columns]",
      "text/html": "<div>\n<style scoped>\n    .dataframe tbody tr th:only-of-type {\n        vertical-align: middle;\n    }\n\n    .dataframe tbody tr th {\n        vertical-align: top;\n    }\n\n    .dataframe thead th {\n        text-align: right;\n    }\n</style>\n<table border=\"1\" class=\"dataframe\">\n  <thead>\n    <tr style=\"text-align: right;\">\n      <th>attribute</th>\n      <th>bus</th>\n      <th>control</th>\n      <th>type</th>\n      <th>p_nom</th>\n      <th>p_nom_extendable</th>\n      <th>p_nom_min</th>\n      <th>p_nom_max</th>\n      <th>p_min_pu</th>\n      <th>p_max_pu</th>\n      <th>p_set</th>\n      <th>...</th>\n      <th>shut_down_cost</th>\n      <th>min_up_time</th>\n      <th>min_down_time</th>\n      <th>up_time_before</th>\n      <th>down_time_before</th>\n      <th>ramp_limit_up</th>\n      <th>ramp_limit_down</th>\n      <th>ramp_limit_start_up</th>\n      <th>ramp_limit_shut_down</th>\n      <th>p_nom_opt</th>\n    </tr>\n    <tr>\n      <th>Generator</th>\n      <th></th>\n      <th></th>\n      <th></th>\n      <th></th>\n      <th></th>\n      <th></th>\n      <th></th>\n      <th></th>\n      <th></th>\n      <th></th>\n      <th></th>\n      <th></th>\n      <th></th>\n      <th></th>\n      <th></th>\n      <th></th>\n      <th></th>\n      <th></th>\n      <th></th>\n      <th></th>\n      <th></th>\n    </tr>\n  </thead>\n  <tbody>\n    <tr>\n      <th>My gen</th>\n      <td>My bus 0</td>\n      <td>PQ</td>\n      <td></td>\n      <td>0.0</td>\n      <td>False</td>\n      <td>0.0</td>\n      <td>inf</td>\n      <td>0.0</td>\n      <td>1.0</td>\n      <td>100.0</td>\n      <td>...</td>\n      <td>0.0</td>\n      <td>0</td>\n      <td>0</td>\n      <td>1</td>\n      <td>0</td>\n      <td>NaN</td>\n      <td>NaN</td>\n      <td>1.0</td>\n      <td>1.0</td>\n      <td>0.0</td>\n    </tr>\n  </tbody>\n</table>\n<p>1 rows × 30 columns</p>\n</div>"
     },
     "execution_count": 47,
     "metadata": {},
     "output_type": "execute_result"
    }
   ],
   "source": [
    "network.add(\"Generator\", \"My gen\", bus=\"My bus 0\", p_set=100, control=\"PQ\", marginal_cost= 1)\n",
    "\n",
    "network.generators"
   ]
  },
  {
   "cell_type": "code",
   "execution_count": 48,
   "metadata": {
    "pycharm": {
     "name": "#%%\n"
    }
   },
   "outputs": [
    {
     "data": {
      "text/plain": "Generator\nMy gen    100.0\nName: p_set, dtype: float64"
     },
     "execution_count": 48,
     "metadata": {},
     "output_type": "execute_result"
    }
   ],
   "source": [
    "network.generators.p_set"
   ]
  },
  {
   "cell_type": "markdown",
   "metadata": {
    "pycharm": {
     "name": "#%% md\n"
    }
   },
   "source": [
    "Add a load at bus 1"
   ]
  },
  {
   "cell_type": "code",
   "execution_count": 49,
   "metadata": {
    "pycharm": {
     "name": "#%%\n"
    }
   },
   "outputs": [
    {
     "data": {
      "text/plain": "attribute       bus carrier type  p_set  q_set  sign\nLoad                                                \nMy load    My bus 1               100.0    0.0  -1.0",
      "text/html": "<div>\n<style scoped>\n    .dataframe tbody tr th:only-of-type {\n        vertical-align: middle;\n    }\n\n    .dataframe tbody tr th {\n        vertical-align: top;\n    }\n\n    .dataframe thead th {\n        text-align: right;\n    }\n</style>\n<table border=\"1\" class=\"dataframe\">\n  <thead>\n    <tr style=\"text-align: right;\">\n      <th>attribute</th>\n      <th>bus</th>\n      <th>carrier</th>\n      <th>type</th>\n      <th>p_set</th>\n      <th>q_set</th>\n      <th>sign</th>\n    </tr>\n    <tr>\n      <th>Load</th>\n      <th></th>\n      <th></th>\n      <th></th>\n      <th></th>\n      <th></th>\n      <th></th>\n    </tr>\n  </thead>\n  <tbody>\n    <tr>\n      <th>My load</th>\n      <td>My bus 1</td>\n      <td></td>\n      <td></td>\n      <td>100.0</td>\n      <td>0.0</td>\n      <td>-1.0</td>\n    </tr>\n  </tbody>\n</table>\n</div>"
     },
     "execution_count": 49,
     "metadata": {},
     "output_type": "execute_result"
    }
   ],
   "source": [
    "network.add(\"Load\", \"My load\", bus=\"My bus 1\", p_set=100)\n",
    "\n",
    "network.loads"
   ]
  },
  {
   "cell_type": "code",
   "execution_count": 50,
   "metadata": {
    "pycharm": {
     "name": "#%%\n"
    }
   },
   "outputs": [
    {
     "data": {
      "text/plain": "Load\nMy load    100.0\nName: p_set, dtype: float64"
     },
     "execution_count": 50,
     "metadata": {},
     "output_type": "execute_result"
    }
   ],
   "source": [
    "network.loads.p_set"
   ]
  },
  {
   "cell_type": "markdown",
   "metadata": {
    "pycharm": {
     "name": "#%% md\n"
    }
   },
   "source": [
    "Fix the reactive power of the load"
   ]
  },
  {
   "cell_type": "code",
   "execution_count": 51,
   "metadata": {
    "pycharm": {
     "name": "#%%\n"
    }
   },
   "outputs": [],
   "source": [
    "network.loads.q_set = 100.0"
   ]
  },
  {
   "cell_type": "markdown",
   "metadata": {
    "pycharm": {
     "name": "#%% md\n"
    }
   },
   "source": [
    "Do a Newton-Raphson power flow"
   ]
  },
  {
   "cell_type": "code",
   "execution_count": 52,
   "metadata": {
    "pycharm": {
     "name": "#%%\n"
    }
   },
   "outputs": [
    {
     "name": "stderr",
     "output_type": "stream",
     "text": [
      "INFO:pypsa.pf:Performing non-linear load-flow on AC sub-network SubNetwork 0 for snapshots Index(['now'], dtype='object', name='snapshot')\n",
      "INFO:pypsa.pf:Newton-Raphson solved in 3 iterations with error of 0.000000 in 0.048869 seconds\n"
     ]
    },
    {
     "data": {
      "text/plain": "{'n_iter': SubNetwork  0\n snapshot     \n now         3,\n 'error': SubNetwork             0\n snapshot                \n now         4.753531e-10,\n 'converged': SubNetwork     0\n snapshot        \n now         True}"
     },
     "execution_count": 52,
     "metadata": {},
     "output_type": "execute_result"
    }
   ],
   "source": [
    "network.pf()"
   ]
  },
  {
   "cell_type": "markdown",
   "metadata": {
    "pycharm": {
     "name": "#%% md\n"
    }
   },
   "source": [
    "Alright, it converged! Now, what is the active power flow on the lines?"
   ]
  },
  {
   "cell_type": "code",
   "execution_count": 53,
   "metadata": {
    "pycharm": {
     "name": "#%%\n"
    }
   },
   "outputs": [
    {
     "data": {
      "text/plain": "          My line 0  My line 1  My line 2\nsnapshot                                 \nnow       66.897487 -33.333333 -33.391038",
      "text/html": "<div>\n<style scoped>\n    .dataframe tbody tr th:only-of-type {\n        vertical-align: middle;\n    }\n\n    .dataframe tbody tr th {\n        vertical-align: top;\n    }\n\n    .dataframe thead th {\n        text-align: right;\n    }\n</style>\n<table border=\"1\" class=\"dataframe\">\n  <thead>\n    <tr style=\"text-align: right;\">\n      <th></th>\n      <th>My line 0</th>\n      <th>My line 1</th>\n      <th>My line 2</th>\n    </tr>\n    <tr>\n      <th>snapshot</th>\n      <th></th>\n      <th></th>\n      <th></th>\n    </tr>\n  </thead>\n  <tbody>\n    <tr>\n      <th>now</th>\n      <td>66.897487</td>\n      <td>-33.333333</td>\n      <td>-33.391038</td>\n    </tr>\n  </tbody>\n</table>\n</div>"
     },
     "execution_count": 53,
     "metadata": {},
     "output_type": "execute_result"
    }
   ],
   "source": [
    "network.lines_t.p0"
   ]
  },
  {
   "cell_type": "code",
   "execution_count": 54,
   "outputs": [
    {
     "data": {
      "text/plain": "          My line 0  My line 1  My line 2\nsnapshot                                 \nnow      -66.666667  33.391038  33.448743",
      "text/html": "<div>\n<style scoped>\n    .dataframe tbody tr th:only-of-type {\n        vertical-align: middle;\n    }\n\n    .dataframe tbody tr th {\n        vertical-align: top;\n    }\n\n    .dataframe thead th {\n        text-align: right;\n    }\n</style>\n<table border=\"1\" class=\"dataframe\">\n  <thead>\n    <tr style=\"text-align: right;\">\n      <th></th>\n      <th>My line 0</th>\n      <th>My line 1</th>\n      <th>My line 2</th>\n    </tr>\n    <tr>\n      <th>snapshot</th>\n      <th></th>\n      <th></th>\n      <th></th>\n    </tr>\n  </thead>\n  <tbody>\n    <tr>\n      <th>now</th>\n      <td>-66.666667</td>\n      <td>33.391038</td>\n      <td>33.448743</td>\n    </tr>\n  </tbody>\n</table>\n</div>"
     },
     "execution_count": 54,
     "metadata": {},
     "output_type": "execute_result"
    }
   ],
   "source": [
    "network.lines_t.p1"
   ],
   "metadata": {
    "collapsed": false,
    "pycharm": {
     "name": "#%%\n"
    }
   }
  },
  {
   "cell_type": "markdown",
   "metadata": {
    "pycharm": {
     "name": "#%% md\n"
    }
   },
   "source": [
    "...and what are the voltage angles on the buses?"
   ]
  },
  {
   "cell_type": "code",
   "execution_count": 55,
   "metadata": {
    "pycharm": {
     "name": "#%%\n"
    }
   },
   "outputs": [
    {
     "data": {
      "text/plain": "Bus       My bus 0  My bus 1  My bus 2\nsnapshot                              \nnow            0.0 -0.875939 -0.433813",
      "text/html": "<div>\n<style scoped>\n    .dataframe tbody tr th:only-of-type {\n        vertical-align: middle;\n    }\n\n    .dataframe tbody tr th {\n        vertical-align: top;\n    }\n\n    .dataframe thead th {\n        text-align: right;\n    }\n</style>\n<table border=\"1\" class=\"dataframe\">\n  <thead>\n    <tr style=\"text-align: right;\">\n      <th>Bus</th>\n      <th>My bus 0</th>\n      <th>My bus 1</th>\n      <th>My bus 2</th>\n    </tr>\n    <tr>\n      <th>snapshot</th>\n      <th></th>\n      <th></th>\n      <th></th>\n    </tr>\n  </thead>\n  <tbody>\n    <tr>\n      <th>now</th>\n      <td>0.0</td>\n      <td>-0.875939</td>\n      <td>-0.433813</td>\n    </tr>\n  </tbody>\n</table>\n</div>"
     },
     "execution_count": 55,
     "metadata": {},
     "output_type": "execute_result"
    }
   ],
   "source": [
    "network.buses_t.v_ang * 180 / np.pi"
   ]
  },
  {
   "cell_type": "markdown",
   "metadata": {
    "pycharm": {
     "name": "#%% md\n"
    }
   },
   "source": [
    "...and their mangitudes?"
   ]
  },
  {
   "cell_type": "code",
   "execution_count": 56,
   "metadata": {
    "pycharm": {
     "name": "#%%\n"
    }
   },
   "outputs": [
    {
     "data": {
      "text/plain": "Bus       My bus 0  My bus 1  My bus 2\nsnapshot                              \nnow            1.0  0.981199   0.99057",
      "text/html": "<div>\n<style scoped>\n    .dataframe tbody tr th:only-of-type {\n        vertical-align: middle;\n    }\n\n    .dataframe tbody tr th {\n        vertical-align: top;\n    }\n\n    .dataframe thead th {\n        text-align: right;\n    }\n</style>\n<table border=\"1\" class=\"dataframe\">\n  <thead>\n    <tr style=\"text-align: right;\">\n      <th>Bus</th>\n      <th>My bus 0</th>\n      <th>My bus 1</th>\n      <th>My bus 2</th>\n    </tr>\n    <tr>\n      <th>snapshot</th>\n      <th></th>\n      <th></th>\n      <th></th>\n    </tr>\n  </thead>\n  <tbody>\n    <tr>\n      <th>now</th>\n      <td>1.0</td>\n      <td>0.981199</td>\n      <td>0.99057</td>\n    </tr>\n  </tbody>\n</table>\n</div>"
     },
     "execution_count": 56,
     "metadata": {},
     "output_type": "execute_result"
    }
   ],
   "source": [
    "network.buses_t.v_mag_pu"
   ]
  },
  {
   "cell_type": "code",
   "execution_count": 57,
   "outputs": [
    {
     "data": {
      "text/plain": "(<matplotlib.collections.PatchCollection at 0x21319a6bd00>,\n <matplotlib.collections.LineCollection at 0x21319a6b6d0>)"
     },
     "execution_count": 57,
     "metadata": {},
     "output_type": "execute_result"
    },
    {
     "data": {
      "text/plain": "<Figure size 640x480 with 1 Axes>",
      "image/png": "[encoded data removed]"
     },
     "metadata": {},
     "output_type": "display_data"
    }
   ],
   "source": [
    "network.plot()"
   ],
   "metadata": {
    "collapsed": false,
    "pycharm": {
     "name": "#%%\n"
    }
   }
  },
  {
   "cell_type": "code",
   "execution_count": 57,
   "outputs": [],
   "source": [],
   "metadata": {
    "collapsed": false,
    "pycharm": {
     "name": "#%%\n"
    }
   }
  },
  {
   "cell_type": "code",
   "execution_count": 58,
   "outputs": [
    {
     "data": {
      "text/plain": "Bus        My bus 0  My bus 1  My bus 2\nsnapshot                               \nnow       100.34623    -100.0       0.0",
      "text/html": "<div>\n<style scoped>\n    .dataframe tbody tr th:only-of-type {\n        vertical-align: middle;\n    }\n\n    .dataframe tbody tr th {\n        vertical-align: top;\n    }\n\n    .dataframe thead th {\n        text-align: right;\n    }\n</style>\n<table border=\"1\" class=\"dataframe\">\n  <thead>\n    <tr style=\"text-align: right;\">\n      <th>Bus</th>\n      <th>My bus 0</th>\n      <th>My bus 1</th>\n      <th>My bus 2</th>\n    </tr>\n    <tr>\n      <th>snapshot</th>\n      <th></th>\n      <th></th>\n      <th></th>\n    </tr>\n  </thead>\n  <tbody>\n    <tr>\n      <th>now</th>\n      <td>100.34623</td>\n      <td>-100.0</td>\n      <td>0.0</td>\n    </tr>\n  </tbody>\n</table>\n</div>"
     },
     "execution_count": 58,
     "metadata": {},
     "output_type": "execute_result"
    }
   ],
   "source": [
    "network.buses_t.p"
   ],
   "metadata": {
    "collapsed": false,
    "pycharm": {
     "name": "#%%\n"
    }
   }
  },
  {
   "cell_type": "code",
   "execution_count": 59,
   "outputs": [
    {
     "data": {
      "text/plain": "          My line 0\nsnapshot           \nnow       66.897487",
      "text/html": "<div>\n<style scoped>\n    .dataframe tbody tr th:only-of-type {\n        vertical-align: middle;\n    }\n\n    .dataframe tbody tr th {\n        vertical-align: top;\n    }\n\n    .dataframe thead th {\n        text-align: right;\n    }\n</style>\n<table border=\"1\" class=\"dataframe\">\n  <thead>\n    <tr style=\"text-align: right;\">\n      <th></th>\n      <th>My line 0</th>\n    </tr>\n    <tr>\n      <th>snapshot</th>\n      <th></th>\n    </tr>\n  </thead>\n  <tbody>\n    <tr>\n      <th>now</th>\n      <td>66.897487</td>\n    </tr>\n  </tbody>\n</table>\n</div>"
     },
     "execution_count": 59,
     "metadata": {},
     "output_type": "execute_result"
    }
   ],
   "source": [
    "network.lines_t.p0[network.lines[network.lines.bus0 == \"My bus 0\"].index]"
   ],
   "metadata": {
    "collapsed": false,
    "pycharm": {
     "name": "#%%\n"
    }
   }
  },
  {
   "cell_type": "code",
   "execution_count": 60,
   "outputs": [
    {
     "data": {
      "text/plain": "Load      My load\nsnapshot         \nnow         100.0",
      "text/html": "<div>\n<style scoped>\n    .dataframe tbody tr th:only-of-type {\n        vertical-align: middle;\n    }\n\n    .dataframe tbody tr th {\n        vertical-align: top;\n    }\n\n    .dataframe thead th {\n        text-align: right;\n    }\n</style>\n<table border=\"1\" class=\"dataframe\">\n  <thead>\n    <tr style=\"text-align: right;\">\n      <th>Load</th>\n      <th>My load</th>\n    </tr>\n    <tr>\n      <th>snapshot</th>\n      <th></th>\n    </tr>\n  </thead>\n  <tbody>\n    <tr>\n      <th>now</th>\n      <td>100.0</td>\n    </tr>\n  </tbody>\n</table>\n</div>"
     },
     "execution_count": 60,
     "metadata": {},
     "output_type": "execute_result"
    }
   ],
   "source": [
    "network.loads_t.p"
   ],
   "metadata": {
    "collapsed": false,
    "pycharm": {
     "name": "#%%\n"
    }
   }
  },
  {
   "cell_type": "code",
   "execution_count": 61,
   "outputs": [
    {
     "data": {
      "text/plain": "Generator     My gen\nsnapshot            \nnow        100.34623",
      "text/html": "<div>\n<style scoped>\n    .dataframe tbody tr th:only-of-type {\n        vertical-align: middle;\n    }\n\n    .dataframe tbody tr th {\n        vertical-align: top;\n    }\n\n    .dataframe thead th {\n        text-align: right;\n    }\n</style>\n<table border=\"1\" class=\"dataframe\">\n  <thead>\n    <tr style=\"text-align: right;\">\n      <th>Generator</th>\n      <th>My gen</th>\n    </tr>\n    <tr>\n      <th>snapshot</th>\n      <th></th>\n    </tr>\n  </thead>\n  <tbody>\n    <tr>\n      <th>now</th>\n      <td>100.34623</td>\n    </tr>\n  </tbody>\n</table>\n</div>"
     },
     "execution_count": 61,
     "metadata": {},
     "output_type": "execute_result"
    }
   ],
   "source": [
    "network.generators_t.p"
   ],
   "metadata": {
    "collapsed": false,
    "pycharm": {
     "name": "#%%\n"
    }
   }
  },
  {
   "cell_type": "code",
   "execution_count": 62,
   "outputs": [
    {
     "data": {
      "text/plain": "attribute      bus0      bus1 type    x     r    g    b  s_nom  \\\nLine                                                             \nMy line 0  My bus 0  My bus 1       0.1  0.01  0.0  0.0    0.0   \nMy line 1  My bus 1  My bus 2       0.1  0.01  0.0  0.0    0.0   \nMy line 2  My bus 2  My bus 0       0.1  0.01  0.0  0.0    0.0   \n\nattribute  s_nom_extendable  s_nom_min  ...  v_ang_max  sub_network     x_pu  \\\nLine                                    ...                                    \nMy line 0             False        0.0  ...        inf            0  0.00025   \nMy line 1             False        0.0  ...        inf            0  0.00025   \nMy line 2             False        0.0  ...        inf            0  0.00025   \n\nattribute      r_pu  g_pu  b_pu x_pu_eff  r_pu_eff  s_nom_opt  v_nom  \nLine                                                                  \nMy line 0  0.000025   0.0   0.0  0.00025  0.000025        0.0   20.0  \nMy line 1  0.000025   0.0   0.0  0.00025  0.000025        0.0   20.0  \nMy line 2  0.000025   0.0   0.0  0.00025  0.000025        0.0   20.0  \n\n[3 rows x 30 columns]",
      "text/html": "<div>\n<style scoped>\n    .dataframe tbody tr th:only-of-type {\n        vertical-align: middle;\n    }\n\n    .dataframe tbody tr th {\n        vertical-align: top;\n    }\n\n    .dataframe thead th {\n        text-align: right;\n    }\n</style>\n<table border=\"1\" class=\"dataframe\">\n  <thead>\n    <tr style=\"text-align: right;\">\n      <th>attribute</th>\n      <th>bus0</th>\n      <th>bus1</th>\n      <th>type</th>\n      <th>x</th>\n      <th>r</th>\n      <th>g</th>\n      <th>b</th>\n      <th>s_nom</th>\n      <th>s_nom_extendable</th>\n      <th>s_nom_min</th>\n      <th>...</th>\n      <th>v_ang_max</th>\n      <th>sub_network</th>\n      <th>x_pu</th>\n      <th>r_pu</th>\n      <th>g_pu</th>\n      <th>b_pu</th>\n      <th>x_pu_eff</th>\n      <th>r_pu_eff</th>\n      <th>s_nom_opt</th>\n      <th>v_nom</th>\n    </tr>\n    <tr>\n      <th>Line</th>\n      <th></th>\n      <th></th>\n      <th></th>\n      <th></th>\n      <th></th>\n      <th></th>\n      <th></th>\n      <th></th>\n      <th></th>\n      <th></th>\n      <th></th>\n      <th></th>\n      <th></th>\n      <th></th>\n      <th></th>\n      <th></th>\n      <th></th>\n      <th></th>\n      <th></th>\n      <th></th>\n      <th></th>\n    </tr>\n  </thead>\n  <tbody>\n    <tr>\n      <th>My line 0</th>\n      <td>My bus 0</td>\n      <td>My bus 1</td>\n      <td></td>\n      <td>0.1</td>\n      <td>0.01</td>\n      <td>0.0</td>\n      <td>0.0</td>\n      <td>0.0</td>\n      <td>False</td>\n      <td>0.0</td>\n      <td>...</td>\n      <td>inf</td>\n      <td>0</td>\n      <td>0.00025</td>\n      <td>0.000025</td>\n      <td>0.0</td>\n      <td>0.0</td>\n      <td>0.00025</td>\n      <td>0.000025</td>\n      <td>0.0</td>\n      <td>20.0</td>\n    </tr>\n    <tr>\n      <th>My line 1</th>\n      <td>My bus 1</td>\n      <td>My bus 2</td>\n      <td></td>\n      <td>0.1</td>\n      <td>0.01</td>\n      <td>0.0</td>\n      <td>0.0</td>\n      <td>0.0</td>\n      <td>False</td>\n      <td>0.0</td>\n      <td>...</td>\n      <td>inf</td>\n      <td>0</td>\n      <td>0.00025</td>\n      <td>0.000025</td>\n      <td>0.0</td>\n      <td>0.0</td>\n      <td>0.00025</td>\n      <td>0.000025</td>\n      <td>0.0</td>\n      <td>20.0</td>\n    </tr>\n    <tr>\n      <th>My line 2</th>\n      <td>My bus 2</td>\n      <td>My bus 0</td>\n      <td></td>\n      <td>0.1</td>\n      <td>0.01</td>\n      <td>0.0</td>\n      <td>0.0</td>\n      <td>0.0</td>\n      <td>False</td>\n      <td>0.0</td>\n      <td>...</td>\n      <td>inf</td>\n      <td>0</td>\n      <td>0.00025</td>\n      <td>0.000025</td>\n      <td>0.0</td>\n      <td>0.0</td>\n      <td>0.00025</td>\n      <td>0.000025</td>\n      <td>0.0</td>\n      <td>20.0</td>\n    </tr>\n  </tbody>\n</table>\n<p>3 rows × 30 columns</p>\n</div>"
     },
     "execution_count": 62,
     "metadata": {},
     "output_type": "execute_result"
    }
   ],
   "source": [
    "network.lines"
   ],
   "metadata": {
    "collapsed": false,
    "pycharm": {
     "name": "#%%\n"
    }
   }
  },
  {
   "cell_type": "code",
   "execution_count": 63,
   "outputs": [
    {
     "data": {
      "text/plain": "          My line 0  My line 1  My line 2\nsnapshot                                 \nnow       66.897487 -33.333333 -33.391038",
      "text/html": "<div>\n<style scoped>\n    .dataframe tbody tr th:only-of-type {\n        vertical-align: middle;\n    }\n\n    .dataframe tbody tr th {\n        vertical-align: top;\n    }\n\n    .dataframe thead th {\n        text-align: right;\n    }\n</style>\n<table border=\"1\" class=\"dataframe\">\n  <thead>\n    <tr style=\"text-align: right;\">\n      <th></th>\n      <th>My line 0</th>\n      <th>My line 1</th>\n      <th>My line 2</th>\n    </tr>\n    <tr>\n      <th>snapshot</th>\n      <th></th>\n      <th></th>\n      <th></th>\n    </tr>\n  </thead>\n  <tbody>\n    <tr>\n      <th>now</th>\n      <td>66.897487</td>\n      <td>-33.333333</td>\n      <td>-33.391038</td>\n    </tr>\n  </tbody>\n</table>\n</div>"
     },
     "execution_count": 63,
     "metadata": {},
     "output_type": "execute_result"
    }
   ],
   "source": [
    "network.lines_t.p0"
   ],
   "metadata": {
    "collapsed": false,
    "pycharm": {
     "name": "#%%\n"
    }
   }
  },
  {
   "cell_type": "code",
   "execution_count": 64,
   "outputs": [
    {
     "data": {
      "text/plain": "snapshot\nnow   -66.666667\ndtype: float64"
     },
     "execution_count": 64,
     "metadata": {},
     "output_type": "execute_result"
    }
   ],
   "source": [
    "# what reaches bus1 ?\n",
    "# 1. negative sum of power @ lines with bus as bus0 and p0 (Active power at bus0 (positive if branch is withdrawing power from bus0)\n",
    "network.lines_t.p0[network.lines[network.lines.bus0 == \"My bus 1\"].index].sum(axis=1)\n",
    "# 2. negative sum of power @ lines with bus as bus1 and p1 (Active power at bus1 (positive if branch is withdrawing power from bus1)\n",
    "network.lines_t.p1[network.lines[network.lines.bus1 == \"My bus 1\"].index].sum(axis=1)"
   ],
   "metadata": {
    "collapsed": false,
    "pycharm": {
     "name": "#%%\n"
    }
   }
  },
  {
   "cell_type": "code",
   "execution_count": 65,
   "outputs": [
    {
     "data": {
      "text/plain": "snapshot\nnow   -100.0\ndtype: float64"
     },
     "execution_count": 65,
     "metadata": {},
     "output_type": "execute_result"
    }
   ],
   "source": [
    "# in total -100 MW are active at bus My bus 1, which mean 100 MW are feed into the bus\n",
    "network.lines_t.p0[network.lines[network.lines.bus0 == \"My bus 1\"].index].sum(axis=1) + network.lines_t.p1[network.lines[network.lines.bus1 == \"My bus 1\"].index].sum(axis=1)"
   ],
   "metadata": {
    "collapsed": false,
    "pycharm": {
     "name": "#%%\n"
    }
   }
  },
  {
   "cell_type": "code",
   "execution_count": 66,
   "outputs": [
    {
     "data": {
      "text/plain": "          My line 1\nsnapshot           \nnow      -33.333333",
      "text/html": "<div>\n<style scoped>\n    .dataframe tbody tr th:only-of-type {\n        vertical-align: middle;\n    }\n\n    .dataframe tbody tr th {\n        vertical-align: top;\n    }\n\n    .dataframe thead th {\n        text-align: right;\n    }\n</style>\n<table border=\"1\" class=\"dataframe\">\n  <thead>\n    <tr style=\"text-align: right;\">\n      <th></th>\n      <th>My line 1</th>\n    </tr>\n    <tr>\n      <th>snapshot</th>\n      <th></th>\n    </tr>\n  </thead>\n  <tbody>\n    <tr>\n      <th>now</th>\n      <td>-33.333333</td>\n    </tr>\n  </tbody>\n</table>\n</div>"
     },
     "execution_count": 66,
     "metadata": {},
     "output_type": "execute_result"
    }
   ],
   "source": [
    "network.lines_t.p0[network.lines[network.lines.bus0 == \"My bus 1\"].index]"
   ],
   "metadata": {
    "collapsed": false,
    "pycharm": {
     "name": "#%%\n"
    }
   }
  },
  {
   "cell_type": "code",
   "execution_count": 73,
   "outputs": [
    {
     "data": {
      "text/plain": "array([-4.7535309e-10])"
     },
     "execution_count": 73,
     "metadata": {},
     "output_type": "execute_result"
    }
   ],
   "source": [
    "# aggregationfor bus 1\n",
    "lines_sum = network.lines_t.p0[network.lines[network.lines.bus0 == \"My bus 1\"].index].sum(axis=1) + network.lines_t.p1[network.lines[network.lines.bus1 == \"My bus 1\"].index].sum(axis=1)\n",
    "load_sum = network.loads_t.p.sum()\n",
    "gen_sum = 0\n",
    "gen_sum -load_sum.values - lines_sum.values"
   ],
   "metadata": {
    "collapsed": false,
    "pycharm": {
     "name": "#%%\n"
    }
   }
  },
  {
   "cell_type": "code",
   "execution_count": 78,
   "outputs": [
    {
     "data": {
      "text/plain": "Bus        My bus 0  My bus 1  My bus 2\nsnapshot                               \nnow       100.34623    -100.0       0.0",
      "text/html": "<div>\n<style scoped>\n    .dataframe tbody tr th:only-of-type {\n        vertical-align: middle;\n    }\n\n    .dataframe tbody tr th {\n        vertical-align: top;\n    }\n\n    .dataframe thead th {\n        text-align: right;\n    }\n</style>\n<table border=\"1\" class=\"dataframe\">\n  <thead>\n    <tr style=\"text-align: right;\">\n      <th>Bus</th>\n      <th>My bus 0</th>\n      <th>My bus 1</th>\n      <th>My bus 2</th>\n    </tr>\n    <tr>\n      <th>snapshot</th>\n      <th></th>\n      <th></th>\n      <th></th>\n    </tr>\n  </thead>\n  <tbody>\n    <tr>\n      <th>now</th>\n      <td>100.34623</td>\n      <td>-100.0</td>\n      <td>0.0</td>\n    </tr>\n  </tbody>\n</table>\n</div>"
     },
     "execution_count": 78,
     "metadata": {},
     "output_type": "execute_result"
    }
   ],
   "source": [
    "network.buses_t.p"
   ],
   "metadata": {
    "collapsed": false,
    "pycharm": {
     "name": "#%%\n"
    }
   }
  },
  {
   "cell_type": "code",
   "execution_count": 68,
   "outputs": [
    {
     "data": {
      "text/plain": "Series([], Name: now, dtype: float64)"
     },
     "execution_count": 68,
     "metadata": {},
     "output_type": "execute_result"
    }
   ],
   "source": [
    "gens_index_direct = network.generators[network.generators.bus == \"My bus 1\"].bus.index\n",
    "network.generators_t.p.loc[\"now\", gens_index_direct]#.sum(axis=1)"
   ],
   "metadata": {
    "collapsed": false,
    "pycharm": {
     "name": "#%%\n"
    }
   }
  },
  {
   "cell_type": "code",
   "execution_count": 67,
   "outputs": [
    {
     "data": {
      "text/plain": "Empty DataFrame\nColumns: []\nIndex: [now]",
      "text/html": "<div>\n<style scoped>\n    .dataframe tbody tr th:only-of-type {\n        vertical-align: middle;\n    }\n\n    .dataframe tbody tr th {\n        vertical-align: top;\n    }\n\n    .dataframe thead th {\n        text-align: right;\n    }\n</style>\n<table border=\"1\" class=\"dataframe\">\n  <thead>\n    <tr style=\"text-align: right;\">\n      <th>Bus</th>\n    </tr>\n    <tr>\n      <th>snapshot</th>\n    </tr>\n  </thead>\n  <tbody>\n    <tr>\n      <th>now</th>\n    </tr>\n  </tbody>\n</table>\n</div>"
     },
     "execution_count": 67,
     "metadata": {},
     "output_type": "execute_result"
    }
   ],
   "source": [
    "network.buses_t.marginal_price"
   ],
   "metadata": {
    "collapsed": false,
    "pycharm": {
     "name": "#%%\n"
    }
   }
  },
  {
   "cell_type": "code",
   "execution_count": 79,
   "outputs": [
    {
     "data": {
      "text/plain": "attribute      bus0      bus1 type    x     r    g    b  s_nom  \\\nLine                                                             \nMy line 0  My bus 0  My bus 1       0.1  0.01  0.0  0.0    0.0   \nMy line 1  My bus 1  My bus 2       0.1  0.01  0.0  0.0    0.0   \nMy line 2  My bus 2  My bus 0       0.1  0.01  0.0  0.0    0.0   \n\nattribute  s_nom_extendable  s_nom_min  ...  v_ang_max  sub_network     x_pu  \\\nLine                                    ...                                    \nMy line 0             False        0.0  ...        inf            0  0.00025   \nMy line 1             False        0.0  ...        inf            0  0.00025   \nMy line 2             False        0.0  ...        inf            0  0.00025   \n\nattribute      r_pu  g_pu  b_pu x_pu_eff  r_pu_eff  s_nom_opt  v_nom  \nLine                                                                  \nMy line 0  0.000025   0.0   0.0  0.00025  0.000025        0.0   20.0  \nMy line 1  0.000025   0.0   0.0  0.00025  0.000025        0.0   20.0  \nMy line 2  0.000025   0.0   0.0  0.00025  0.000025        0.0   20.0  \n\n[3 rows x 30 columns]",
      "text/html": "<div>\n<style scoped>\n    .dataframe tbody tr th:only-of-type {\n        vertical-align: middle;\n    }\n\n    .dataframe tbody tr th {\n        vertical-align: top;\n    }\n\n    .dataframe thead th {\n        text-align: right;\n    }\n</style>\n<table border=\"1\" class=\"dataframe\">\n  <thead>\n    <tr style=\"text-align: right;\">\n      <th>attribute</th>\n      <th>bus0</th>\n      <th>bus1</th>\n      <th>type</th>\n      <th>x</th>\n      <th>r</th>\n      <th>g</th>\n      <th>b</th>\n      <th>s_nom</th>\n      <th>s_nom_extendable</th>\n      <th>s_nom_min</th>\n      <th>...</th>\n      <th>v_ang_max</th>\n      <th>sub_network</th>\n      <th>x_pu</th>\n      <th>r_pu</th>\n      <th>g_pu</th>\n      <th>b_pu</th>\n      <th>x_pu_eff</th>\n      <th>r_pu_eff</th>\n      <th>s_nom_opt</th>\n      <th>v_nom</th>\n    </tr>\n    <tr>\n      <th>Line</th>\n      <th></th>\n      <th></th>\n      <th></th>\n      <th></th>\n      <th></th>\n      <th></th>\n      <th></th>\n      <th></th>\n      <th></th>\n      <th></th>\n      <th></th>\n      <th></th>\n      <th></th>\n      <th></th>\n      <th></th>\n      <th></th>\n      <th></th>\n      <th></th>\n      <th></th>\n      <th></th>\n      <th></th>\n    </tr>\n  </thead>\n  <tbody>\n    <tr>\n      <th>My line 0</th>\n      <td>My bus 0</td>\n      <td>My bus 1</td>\n      <td></td>\n      <td>0.1</td>\n      <td>0.01</td>\n      <td>0.0</td>\n      <td>0.0</td>\n      <td>0.0</td>\n      <td>False</td>\n      <td>0.0</td>\n      <td>...</td>\n      <td>inf</td>\n      <td>0</td>\n      <td>0.00025</td>\n      <td>0.000025</td>\n      <td>0.0</td>\n      <td>0.0</td>\n      <td>0.00025</td>\n      <td>0.000025</td>\n      <td>0.0</td>\n      <td>20.0</td>\n    </tr>\n    <tr>\n      <th>My line 1</th>\n      <td>My bus 1</td>\n      <td>My bus 2</td>\n      <td></td>\n      <td>0.1</td>\n      <td>0.01</td>\n      <td>0.0</td>\n      <td>0.0</td>\n      <td>0.0</td>\n      <td>False</td>\n      <td>0.0</td>\n      <td>...</td>\n      <td>inf</td>\n      <td>0</td>\n      <td>0.00025</td>\n      <td>0.000025</td>\n      <td>0.0</td>\n      <td>0.0</td>\n      <td>0.00025</td>\n      <td>0.000025</td>\n      <td>0.0</td>\n      <td>20.0</td>\n    </tr>\n    <tr>\n      <th>My line 2</th>\n      <td>My bus 2</td>\n      <td>My bus 0</td>\n      <td></td>\n      <td>0.1</td>\n      <td>0.01</td>\n      <td>0.0</td>\n      <td>0.0</td>\n      <td>0.0</td>\n      <td>False</td>\n      <td>0.0</td>\n      <td>...</td>\n      <td>inf</td>\n      <td>0</td>\n      <td>0.00025</td>\n      <td>0.000025</td>\n      <td>0.0</td>\n      <td>0.0</td>\n      <td>0.00025</td>\n      <td>0.000025</td>\n      <td>0.0</td>\n      <td>20.0</td>\n    </tr>\n  </tbody>\n</table>\n<p>3 rows × 30 columns</p>\n</div>"
     },
     "execution_count": 79,
     "metadata": {},
     "output_type": "execute_result"
    }
   ],
   "source": [
    "network.lines"
   ],
   "metadata": {
    "collapsed": false,
    "pycharm": {
     "name": "#%%\n"
    }
   }
  },
  {
   "cell_type": "code",
   "execution_count": 80,
   "outputs": [
    {
     "data": {
      "text/plain": "          My line 0  My line 1  My line 2\nsnapshot                                 \nnow       66.897487 -33.333333 -33.391038",
      "text/html": "<div>\n<style scoped>\n    .dataframe tbody tr th:only-of-type {\n        vertical-align: middle;\n    }\n\n    .dataframe tbody tr th {\n        vertical-align: top;\n    }\n\n    .dataframe thead th {\n        text-align: right;\n    }\n</style>\n<table border=\"1\" class=\"dataframe\">\n  <thead>\n    <tr style=\"text-align: right;\">\n      <th></th>\n      <th>My line 0</th>\n      <th>My line 1</th>\n      <th>My line 2</th>\n    </tr>\n    <tr>\n      <th>snapshot</th>\n      <th></th>\n      <th></th>\n      <th></th>\n    </tr>\n  </thead>\n  <tbody>\n    <tr>\n      <th>now</th>\n      <td>66.897487</td>\n      <td>-33.333333</td>\n      <td>-33.391038</td>\n    </tr>\n  </tbody>\n</table>\n</div>"
     },
     "execution_count": 80,
     "metadata": {},
     "output_type": "execute_result"
    }
   ],
   "source": [
    "network.lines_t.p0"
   ],
   "metadata": {
    "collapsed": false,
    "pycharm": {
     "name": "#%%\n"
    }
   }
  },
  {
   "cell_type": "code",
   "execution_count": 81,
   "outputs": [
    {
     "data": {
      "text/plain": "          My line 0  My line 1  My line 2\nsnapshot                                 \nnow      -66.666667  33.391038  33.448743",
      "text/html": "<div>\n<style scoped>\n    .dataframe tbody tr th:only-of-type {\n        vertical-align: middle;\n    }\n\n    .dataframe tbody tr th {\n        vertical-align: top;\n    }\n\n    .dataframe thead th {\n        text-align: right;\n    }\n</style>\n<table border=\"1\" class=\"dataframe\">\n  <thead>\n    <tr style=\"text-align: right;\">\n      <th></th>\n      <th>My line 0</th>\n      <th>My line 1</th>\n      <th>My line 2</th>\n    </tr>\n    <tr>\n      <th>snapshot</th>\n      <th></th>\n      <th></th>\n      <th></th>\n    </tr>\n  </thead>\n  <tbody>\n    <tr>\n      <th>now</th>\n      <td>-66.666667</td>\n      <td>33.391038</td>\n      <td>33.448743</td>\n    </tr>\n  </tbody>\n</table>\n</div>"
     },
     "execution_count": 81,
     "metadata": {},
     "output_type": "execute_result"
    }
   ],
   "source": [
    "network.lines_t.p1"
   ],
   "metadata": {
    "collapsed": false,
    "pycharm": {
     "name": "#%%\n"
    }
   }
  },
  {
   "cell_type": "code",
   "execution_count": null,
   "outputs": [],
   "source": [],
   "metadata": {
    "collapsed": false,
    "pycharm": {
     "name": "#%%\n"
    }
   }
  }
 ],
 "metadata": {
  "@webio": {
   "lastCommId": null,
   "lastKernelId": null
  },
  "kernelspec": {
   "display_name": "Python 3 (ipykernel)",
   "language": "python",
   "name": "python3"
  },
  "language_info": {
   "codemirror_mode": {
    "name": "ipython",
    "version": 3
   },
   "file_extension": ".py",
   "mimetype": "text/x-python",
   "name": "python",
   "nbconvert_exporter": "python",
   "pygments_lexer": "ipython3",
   "version": "3.10.4"
  }
 },
 "nbformat": 4,
 "nbformat_minor": 1
}