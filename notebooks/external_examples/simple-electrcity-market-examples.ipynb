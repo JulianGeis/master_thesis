{
 "cells": [
  {
   "cell_type": "code",
   "execution_count": 1,
   "outputs": [],
   "source": [
    "## Simple electricity market examples\n",
    "\n",
    "#It gradually builds up more and more complicated energy-only electricity markets in PyPSA, starting from a single bidding zone, going up to multiple bidding zones connected with transmission (NTCs) along with variable renewables and storage.\n"
   ],
   "metadata": {
    "collapsed": false,
    "pycharm": {
     "name": "#%%\n"
    }
   }
  },
  {
   "cell_type": "code",
   "execution_count": 2,
   "outputs": [],
   "source": [
    "### Preliminaries\n",
    "#Here libraries are imported and data is defined.\n",
    "\n",
    "import pypsa, numpy as np"
   ],
   "metadata": {
    "collapsed": false,
    "pycharm": {
     "name": "#%%\n"
    }
   }
  },
  {
   "cell_type": "code",
   "execution_count": 3,
   "outputs": [],
   "source": [
    "#marginal costs in EUR/MWh\n",
    "marginal_costs = {\"Wind\" : 0,\n",
    "                  \"Hydro\" : 0,\n",
    "                  \"Coal\" : 30,\n",
    "                  \"Gas\" : 60,\n",
    "                  \"Oil\" : 80}\n",
    "\n",
    "#power plant capacities (nominal powers in MW) in each country (not necessarily realistic)\n",
    "power_plant_p_nom = {\"South Africa\" : {\"Coal\" : 35000,\n",
    "                                       \"Wind\" : 3000,\n",
    "                                       \"Gas\" : 8000,\n",
    "                                       \"Oil\" : 2000\n",
    "                                      },\n",
    "                     \"Mozambique\" : {\"Hydro\" : 1200,\n",
    "                                    },\n",
    "                     \"Swaziland\" : {\"Hydro\" : 600,\n",
    "                                    },\n",
    "                    }\n",
    "\n",
    "#transmission capacities in MW (not necessarily realistic)\n",
    "transmission = {\"South Africa\" : {\"Mozambique\" : 500,\n",
    "                                  \"Swaziland\" : 250},\n",
    "                \"Mozambique\" : {\"Swaziland\" : 100}}\n",
    "\n",
    "#country electrical loads in MW (not necessarily realistic)\n",
    "loads = {\"South Africa\" : 42000,\n",
    "         \"Mozambique\" : 650,\n",
    "         \"Swaziland\" : 250}"
   ],
   "metadata": {
    "collapsed": false,
    "pycharm": {
     "name": "#%%\n"
    }
   }
  },
  {
   "cell_type": "markdown",
   "source": [
    "## Single bidding zone with fixed load, one period\n",
    "In this example we consider a single market bidding zone, South Africa.\n",
    "The inelastic load has essentially infinite marginal utility (or higher than the marginal cost of any generator)."
   ],
   "metadata": {
    "collapsed": false,
    "pycharm": {
     "name": "#%% md\n"
    }
   }
  },
  {
   "cell_type": "code",
   "execution_count": 4,
   "outputs": [],
   "source": [
    "country = \"South Africa\"\n",
    "\n",
    "network = pypsa.Network()\n",
    "\n",
    "network.add(\"Bus\",country)\n",
    "\n",
    "for tech in power_plant_p_nom[country]:\n",
    "    network.add(\"Generator\",\n",
    "                \"{} {}\".format(country,tech),\n",
    "                bus=country,\n",
    "                p_nom=power_plant_p_nom[country][tech],\n",
    "                marginal_cost=marginal_costs[tech])\n",
    "\n",
    "\n",
    "network.add(\"Load\",\n",
    "            \"{} load\".format(country),\n",
    "            bus=country,\n",
    "            p_set=loads[country])"
   ],
   "metadata": {
    "collapsed": false,
    "pycharm": {
     "name": "#%%\n"
    }
   }
  },
  {
   "cell_type": "code",
   "execution_count": 5,
   "outputs": [
    {
     "name": "stderr",
     "output_type": "stream",
     "text": [
      "WARNING:pypsa.components:Solving optimisation problem with pyomo.In PyPSA version 0.21 the default will change to ``n.lopf(pyomo=False)``.Explicitly set ``n.lopf(pyomo=True)`` to retain current behaviour.\n",
      "INFO:pypsa.opf:Performed preliminary steps\n",
      "INFO:pypsa.opf:Building pyomo model using `kirchhoff` formulation\n",
      "INFO:pypsa.opf:Solving model using glpk\n",
      "INFO:pypsa.opf:Optimization successful\n"
     ]
    },
    {
     "name": "stdout",
     "output_type": "stream",
     "text": [
      "# ==========================================================\n",
      "# = Solver Results                                         =\n",
      "# ==========================================================\n",
      "# ----------------------------------------------------------\n",
      "#   Problem Information\n",
      "# ----------------------------------------------------------\n",
      "Problem: \n",
      "- Name: unknown\n",
      "  Lower bound: 1290000.0\n",
      "  Upper bound: 1290000.0\n",
      "  Number of objectives: 1\n",
      "  Number of constraints: 2\n",
      "  Number of variables: 5\n",
      "  Number of nonzeros: 5\n",
      "  Sense: minimize\n",
      "# ----------------------------------------------------------\n",
      "#   Solver Information\n",
      "# ----------------------------------------------------------\n",
      "Solver: \n",
      "- Status: ok\n",
      "  Termination condition: optimal\n",
      "  Statistics: \n",
      "    Branch and bound: \n",
      "      Number of bounded subproblems: 0\n",
      "      Number of created subproblems: 0\n",
      "  Error rc: 0\n",
      "  Time: 0.06981182098388672\n",
      "# ----------------------------------------------------------\n",
      "#   Solution Information\n",
      "# ----------------------------------------------------------\n",
      "Solution: \n",
      "- number of solutions: 0\n",
      "  number of solutions displayed: 0\n"
     ]
    },
    {
     "data": {
      "text/plain": "(<SolverStatus.ok: 'ok'>, <TerminationCondition.optimal: 'optimal'>)"
     },
     "execution_count": 5,
     "metadata": {},
     "output_type": "execute_result"
    }
   ],
   "source": [
    "# Run optimisation to determine market dispatch\n",
    "network.lopf()"
   ],
   "metadata": {
    "collapsed": false,
    "pycharm": {
     "name": "#%%\n"
    }
   }
  },
  {
   "cell_type": "code",
   "execution_count": 7,
   "outputs": [
    {
     "data": {
      "text/plain": "Load      South Africa load\nsnapshot                   \n0                   42000.0\n1                   43000.0\n2                   45000.0\n3                   46000.0",
      "text/html": "<div>\n<style scoped>\n    .dataframe tbody tr th:only-of-type {\n        vertical-align: middle;\n    }\n\n    .dataframe tbody tr th {\n        vertical-align: top;\n    }\n\n    .dataframe thead th {\n        text-align: right;\n    }\n</style>\n<table border=\"1\" class=\"dataframe\">\n  <thead>\n    <tr style=\"text-align: right;\">\n      <th>Load</th>\n      <th>South Africa load</th>\n    </tr>\n    <tr>\n      <th>snapshot</th>\n      <th></th>\n    </tr>\n  </thead>\n  <tbody>\n    <tr>\n      <th>0</th>\n      <td>42000.0</td>\n    </tr>\n    <tr>\n      <th>1</th>\n      <td>43000.0</td>\n    </tr>\n    <tr>\n      <th>2</th>\n      <td>45000.0</td>\n    </tr>\n    <tr>\n      <th>3</th>\n      <td>46000.0</td>\n    </tr>\n  </tbody>\n</table>\n</div>"
     },
     "execution_count": 7,
     "metadata": {},
     "output_type": "execute_result"
    }
   ],
   "source": [
    "#print the load active power (P) consumption\n",
    "network.loads_t.p"
   ],
   "metadata": {
    "collapsed": false,
    "pycharm": {
     "name": "#%%\n"
    }
   }
  },
  {
   "cell_type": "code",
   "execution_count": 8,
   "outputs": [
    {
     "data": {
      "text/plain": "Generator  South Africa Coal  South Africa Wind  South Africa Gas  \\\nsnapshot                                                            \n0                    35000.0              900.0            6900.0   \n1                    35000.0             1800.0            7200.0   \n2                    35000.0             1200.0            8000.0   \n3                    35000.0             1500.0            8000.0   \n\nGenerator  South Africa Oil  \nsnapshot                     \n0                       0.0  \n1                       0.0  \n2                       0.0  \n3                     500.0  ",
      "text/html": "<div>\n<style scoped>\n    .dataframe tbody tr th:only-of-type {\n        vertical-align: middle;\n    }\n\n    .dataframe tbody tr th {\n        vertical-align: top;\n    }\n\n    .dataframe thead th {\n        text-align: right;\n    }\n</style>\n<table border=\"1\" class=\"dataframe\">\n  <thead>\n    <tr style=\"text-align: right;\">\n      <th>Generator</th>\n      <th>South Africa Coal</th>\n      <th>South Africa Wind</th>\n      <th>South Africa Gas</th>\n      <th>South Africa Oil</th>\n    </tr>\n    <tr>\n      <th>snapshot</th>\n      <th></th>\n      <th></th>\n      <th></th>\n      <th></th>\n    </tr>\n  </thead>\n  <tbody>\n    <tr>\n      <th>0</th>\n      <td>35000.0</td>\n      <td>900.0</td>\n      <td>6900.0</td>\n      <td>0.0</td>\n    </tr>\n    <tr>\n      <th>1</th>\n      <td>35000.0</td>\n      <td>1800.0</td>\n      <td>7200.0</td>\n      <td>0.0</td>\n    </tr>\n    <tr>\n      <th>2</th>\n      <td>35000.0</td>\n      <td>1200.0</td>\n      <td>8000.0</td>\n      <td>0.0</td>\n    </tr>\n    <tr>\n      <th>3</th>\n      <td>35000.0</td>\n      <td>1500.0</td>\n      <td>8000.0</td>\n      <td>500.0</td>\n    </tr>\n  </tbody>\n</table>\n</div>"
     },
     "execution_count": 8,
     "metadata": {},
     "output_type": "execute_result"
    }
   ],
   "source": [
    "#print the generator active power (P) dispatch\n",
    "network.generators_t.p"
   ],
   "metadata": {
    "collapsed": false,
    "pycharm": {
     "name": "#%%\n"
    }
   }
  },
  {
   "cell_type": "code",
   "execution_count": 9,
   "outputs": [
    {
     "data": {
      "text/plain": "Bus       South Africa\nsnapshot              \n0                 60.0\n1                 60.0\n2                 60.0\n3                 80.0",
      "text/html": "<div>\n<style scoped>\n    .dataframe tbody tr th:only-of-type {\n        vertical-align: middle;\n    }\n\n    .dataframe tbody tr th {\n        vertical-align: top;\n    }\n\n    .dataframe thead th {\n        text-align: right;\n    }\n</style>\n<table border=\"1\" class=\"dataframe\">\n  <thead>\n    <tr style=\"text-align: right;\">\n      <th>Bus</th>\n      <th>South Africa</th>\n    </tr>\n    <tr>\n      <th>snapshot</th>\n      <th></th>\n    </tr>\n  </thead>\n  <tbody>\n    <tr>\n      <th>0</th>\n      <td>60.0</td>\n    </tr>\n    <tr>\n      <th>1</th>\n      <td>60.0</td>\n    </tr>\n    <tr>\n      <th>2</th>\n      <td>60.0</td>\n    </tr>\n    <tr>\n      <th>3</th>\n      <td>80.0</td>\n    </tr>\n  </tbody>\n</table>\n</div>"
     },
     "execution_count": 9,
     "metadata": {},
     "output_type": "execute_result"
    }
   ],
   "source": [
    "#print the clearing price (corresponding to gas)\n",
    "network.buses_t.marginal_price"
   ],
   "metadata": {
    "collapsed": false,
    "pycharm": {
     "name": "#%%\n"
    }
   }
  },
  {
   "cell_type": "code",
   "execution_count": 10,
   "outputs": [
    {
     "name": "stderr",
     "output_type": "stream",
     "text": [
      "WARNING:pypsa.components:Solving optimisation problem with pyomo.In PyPSA version 0.21 the default will change to ``n.lopf(pyomo=False)``.Explicitly set ``n.lopf(pyomo=True)`` to retain current behaviour.\n",
      "INFO:pypsa.opf:Performed preliminary steps\n",
      "INFO:pypsa.opf:Building pyomo model using `kirchhoff` formulation\n",
      "INFO:pypsa.opf:Solving model using glpk\n",
      "INFO:pypsa.opf:Optimization successful\n"
     ]
    },
    {
     "name": "stdout",
     "output_type": "stream",
     "text": [
      "# ==========================================================\n",
      "# = Solver Results                                         =\n",
      "# ==========================================================\n",
      "# ----------------------------------------------------------\n",
      "#   Problem Information\n",
      "# ----------------------------------------------------------\n",
      "Problem: \n",
      "- Name: unknown\n",
      "  Lower bound: 1260000.0\n",
      "  Upper bound: 1260000.0\n",
      "  Number of objectives: 1\n",
      "  Number of constraints: 5\n",
      "  Number of variables: 7\n",
      "  Number of nonzeros: 10\n",
      "  Sense: minimize\n",
      "# ----------------------------------------------------------\n",
      "#   Solver Information\n",
      "# ----------------------------------------------------------\n",
      "Solver: \n",
      "- Status: ok\n",
      "  Termination condition: optimal\n",
      "  Statistics: \n",
      "    Branch and bound: \n",
      "      Number of bounded subproblems: 0\n",
      "      Number of created subproblems: 0\n",
      "  Error rc: 0\n",
      "  Time: 0.21941208839416504\n",
      "# ----------------------------------------------------------\n",
      "#   Solution Information\n",
      "# ----------------------------------------------------------\n",
      "Solution: \n",
      "- number of solutions: 0\n",
      "  number of solutions displayed: 0\n"
     ]
    },
    {
     "data": {
      "text/plain": "(<SolverStatus.ok: 'ok'>, <TerminationCondition.optimal: 'optimal'>)"
     },
     "execution_count": 10,
     "metadata": {},
     "output_type": "execute_result"
    }
   ],
   "source": [
    "### Two bidding zones connected by transmission, one period\n",
    "#\n",
    "#In this example we have bidirectional transmission capacity between two bidding zones. The power transfer is treated as controllable (like an A/NTC (Available/Net Transfer Capacity) or HVDC line). Note that in the physical grid, power flows passively according to the network impedances.\n",
    "\n",
    "network = pypsa.Network()\n",
    "\n",
    "countries = [\"Mozambique\", \"South Africa\"]\n",
    "\n",
    "for country in countries:\n",
    "\n",
    "    network.add(\"Bus\",country)\n",
    "\n",
    "    for tech in power_plant_p_nom[country]:\n",
    "        network.add(\"Generator\",\n",
    "                    \"{} {}\".format(country,tech),\n",
    "                    bus=country,\n",
    "                    p_nom=power_plant_p_nom[country][tech],\n",
    "                    marginal_cost=marginal_costs[tech])\n",
    "\n",
    "\n",
    "    network.add(\"Load\",\n",
    "                \"{} load\".format(country),\n",
    "                bus=country,\n",
    "                p_set=loads[country])\n",
    "\n",
    "    #add transmission as controllable Link\n",
    "    if country not in transmission:\n",
    "        continue\n",
    "\n",
    "    for other_country in countries:\n",
    "        if other_country not in transmission[country]:\n",
    "            continue\n",
    "\n",
    "        #NB: Link is by default unidirectional, so have to set p_min_pu = -1\n",
    "        #to allow bidirectional (i.e. also negative) flow\n",
    "        network.add(\"Link\",\n",
    "                   \"{} - {} link\".format(country, other_country),\n",
    "                   bus0=country,\n",
    "                   bus1=other_country,\n",
    "                   p_nom=transmission[country][other_country],\n",
    "                   p_min_pu=-1)\n",
    "\n",
    "network.lopf()"
   ],
   "metadata": {
    "collapsed": false,
    "pycharm": {
     "name": "#%%\n"
    }
   }
  },
  {
   "cell_type": "code",
   "execution_count": 11,
   "outputs": [
    {
     "data": {
      "text/plain": "Load      Mozambique load  South Africa load\nsnapshot                                    \nnow                 650.0            42000.0",
      "text/html": "<div>\n<style scoped>\n    .dataframe tbody tr th:only-of-type {\n        vertical-align: middle;\n    }\n\n    .dataframe tbody tr th {\n        vertical-align: top;\n    }\n\n    .dataframe thead th {\n        text-align: right;\n    }\n</style>\n<table border=\"1\" class=\"dataframe\">\n  <thead>\n    <tr style=\"text-align: right;\">\n      <th>Load</th>\n      <th>Mozambique load</th>\n      <th>South Africa load</th>\n    </tr>\n    <tr>\n      <th>snapshot</th>\n      <th></th>\n      <th></th>\n    </tr>\n  </thead>\n  <tbody>\n    <tr>\n      <th>now</th>\n      <td>650.0</td>\n      <td>42000.0</td>\n    </tr>\n  </tbody>\n</table>\n</div>"
     },
     "execution_count": 11,
     "metadata": {},
     "output_type": "execute_result"
    }
   ],
   "source": [
    "network.loads_t.p"
   ],
   "metadata": {
    "collapsed": false,
    "pycharm": {
     "name": "#%%\n"
    }
   }
  },
  {
   "cell_type": "code",
   "execution_count": 12,
   "outputs": [
    {
     "data": {
      "text/plain": "Generator  Mozambique Hydro  South Africa Coal  South Africa Wind  \\\nsnapshot                                                            \nnow                  1150.0            35000.0             3000.0   \n\nGenerator  South Africa Gas  South Africa Oil  \nsnapshot                                       \nnow                  3500.0               0.0  ",
      "text/html": "<div>\n<style scoped>\n    .dataframe tbody tr th:only-of-type {\n        vertical-align: middle;\n    }\n\n    .dataframe tbody tr th {\n        vertical-align: top;\n    }\n\n    .dataframe thead th {\n        text-align: right;\n    }\n</style>\n<table border=\"1\" class=\"dataframe\">\n  <thead>\n    <tr style=\"text-align: right;\">\n      <th>Generator</th>\n      <th>Mozambique Hydro</th>\n      <th>South Africa Coal</th>\n      <th>South Africa Wind</th>\n      <th>South Africa Gas</th>\n      <th>South Africa Oil</th>\n    </tr>\n    <tr>\n      <th>snapshot</th>\n      <th></th>\n      <th></th>\n      <th></th>\n      <th></th>\n      <th></th>\n    </tr>\n  </thead>\n  <tbody>\n    <tr>\n      <th>now</th>\n      <td>1150.0</td>\n      <td>35000.0</td>\n      <td>3000.0</td>\n      <td>3500.0</td>\n      <td>0.0</td>\n    </tr>\n  </tbody>\n</table>\n</div>"
     },
     "execution_count": 12,
     "metadata": {},
     "output_type": "execute_result"
    }
   ],
   "source": [
    "network.generators_t.p"
   ],
   "metadata": {
    "collapsed": false,
    "pycharm": {
     "name": "#%%\n"
    }
   }
  },
  {
   "cell_type": "code",
   "execution_count": 14,
   "outputs": [
    {
     "data": {
      "text/plain": "Link      South Africa - Mozambique link\nsnapshot                                \nnow                               -500.0",
      "text/html": "<div>\n<style scoped>\n    .dataframe tbody tr th:only-of-type {\n        vertical-align: middle;\n    }\n\n    .dataframe tbody tr th {\n        vertical-align: top;\n    }\n\n    .dataframe thead th {\n        text-align: right;\n    }\n</style>\n<table border=\"1\" class=\"dataframe\">\n  <thead>\n    <tr style=\"text-align: right;\">\n      <th>Link</th>\n      <th>South Africa - Mozambique link</th>\n    </tr>\n    <tr>\n      <th>snapshot</th>\n      <th></th>\n    </tr>\n  </thead>\n  <tbody>\n    <tr>\n      <th>now</th>\n      <td>-500.0</td>\n    </tr>\n  </tbody>\n</table>\n</div>"
     },
     "execution_count": 14,
     "metadata": {},
     "output_type": "execute_result"
    }
   ],
   "source": [
    "network.links_t.p0"
   ],
   "metadata": {
    "collapsed": false,
    "pycharm": {
     "name": "#%%\n"
    }
   }
  },
  {
   "cell_type": "code",
   "execution_count": 15,
   "outputs": [
    {
     "data": {
      "text/plain": "Bus       Mozambique  South Africa\nsnapshot                          \nnow              0.0          60.0",
      "text/html": "<div>\n<style scoped>\n    .dataframe tbody tr th:only-of-type {\n        vertical-align: middle;\n    }\n\n    .dataframe tbody tr th {\n        vertical-align: top;\n    }\n\n    .dataframe thead th {\n        text-align: right;\n    }\n</style>\n<table border=\"1\" class=\"dataframe\">\n  <thead>\n    <tr style=\"text-align: right;\">\n      <th>Bus</th>\n      <th>Mozambique</th>\n      <th>South Africa</th>\n    </tr>\n    <tr>\n      <th>snapshot</th>\n      <th></th>\n      <th></th>\n    </tr>\n  </thead>\n  <tbody>\n    <tr>\n      <th>now</th>\n      <td>0.0</td>\n      <td>60.0</td>\n    </tr>\n  </tbody>\n</table>\n</div>"
     },
     "execution_count": 15,
     "metadata": {},
     "output_type": "execute_result"
    }
   ],
   "source": [
    "#print the clearing price (corresponding to water in Mozambique and gas in SA)\n",
    "network.buses_t.marginal_price"
   ],
   "metadata": {
    "collapsed": false,
    "pycharm": {
     "name": "#%%\n"
    }
   }
  },
  {
   "cell_type": "code",
   "execution_count": 16,
   "outputs": [
    {
     "data": {
      "text/plain": "Link      South Africa - Mozambique link\nsnapshot                                \nnow                                 60.0",
      "text/html": "<div>\n<style scoped>\n    .dataframe tbody tr th:only-of-type {\n        vertical-align: middle;\n    }\n\n    .dataframe tbody tr th {\n        vertical-align: top;\n    }\n\n    .dataframe thead th {\n        text-align: right;\n    }\n</style>\n<table border=\"1\" class=\"dataframe\">\n  <thead>\n    <tr style=\"text-align: right;\">\n      <th>Link</th>\n      <th>South Africa - Mozambique link</th>\n    </tr>\n    <tr>\n      <th>snapshot</th>\n      <th></th>\n    </tr>\n  </thead>\n  <tbody>\n    <tr>\n      <th>now</th>\n      <td>60.0</td>\n    </tr>\n  </tbody>\n</table>\n</div>"
     },
     "execution_count": 16,
     "metadata": {},
     "output_type": "execute_result"
    }
   ],
   "source": [
    "#link shadow prices\n",
    "network.links_t.mu_lower"
   ],
   "metadata": {
    "collapsed": false,
    "pycharm": {
     "name": "#%%\n"
    }
   }
  },
  {
   "cell_type": "code",
   "execution_count": 17,
   "outputs": [
    {
     "name": "stderr",
     "output_type": "stream",
     "text": [
      "WARNING:pypsa.components:Solving optimisation problem with pyomo.In PyPSA version 0.21 the default will change to ``n.lopf(pyomo=False)``.Explicitly set ``n.lopf(pyomo=True)`` to retain current behaviour.\n",
      "INFO:pypsa.opf:Performed preliminary steps\n",
      "INFO:pypsa.opf:Building pyomo model using `kirchhoff` formulation\n",
      "INFO:pypsa.opf:Solving model using glpk\n",
      "INFO:pypsa.opf:Optimization successful\n"
     ]
    },
    {
     "name": "stdout",
     "output_type": "stream",
     "text": [
      "# ==========================================================\n",
      "# = Solver Results                                         =\n",
      "# ==========================================================\n",
      "# ----------------------------------------------------------\n",
      "#   Problem Information\n",
      "# ----------------------------------------------------------\n",
      "Problem: \n",
      "- Name: unknown\n",
      "  Lower bound: 1245000.0\n",
      "  Upper bound: 1245000.0\n",
      "  Number of objectives: 1\n",
      "  Number of constraints: 10\n",
      "  Number of variables: 10\n",
      "  Number of nonzeros: 19\n",
      "  Sense: minimize\n",
      "# ----------------------------------------------------------\n",
      "#   Solver Information\n",
      "# ----------------------------------------------------------\n",
      "Solver: \n",
      "- Status: ok\n",
      "  Termination condition: optimal\n",
      "  Statistics: \n",
      "    Branch and bound: \n",
      "      Number of bounded subproblems: 0\n",
      "      Number of created subproblems: 0\n",
      "  Error rc: 0\n",
      "  Time: 0.0967414379119873\n",
      "# ----------------------------------------------------------\n",
      "#   Solution Information\n",
      "# ----------------------------------------------------------\n",
      "Solution: \n",
      "- number of solutions: 0\n",
      "  number of solutions displayed: 0\n"
     ]
    },
    {
     "data": {
      "text/plain": "(<SolverStatus.ok: 'ok'>, <TerminationCondition.optimal: 'optimal'>)"
     },
     "execution_count": 17,
     "metadata": {},
     "output_type": "execute_result"
    }
   ],
   "source": [
    "### Three bidding zones connected by transmission, one period\n",
    "#\n",
    "#In this example we have bidirectional transmission capacity between three bidding zones. The power transfer is treated as controllable (like an A/NTC (Available/Net Transfer Capacity) or HVDC line). Note that in the physical grid, power flows passively according to the network impedances.\n",
    "\n",
    "network = pypsa.Network()\n",
    "\n",
    "countries = [\"Swaziland\", \"Mozambique\", \"South Africa\"]\n",
    "\n",
    "for country in countries:\n",
    "\n",
    "    network.add(\"Bus\",country)\n",
    "\n",
    "    for tech in power_plant_p_nom[country]:\n",
    "        network.add(\"Generator\",\n",
    "                    \"{} {}\".format(country,tech),\n",
    "                    bus=country,\n",
    "                    p_nom=power_plant_p_nom[country][tech],\n",
    "                    marginal_cost=marginal_costs[tech])\n",
    "\n",
    "\n",
    "    network.add(\"Load\",\n",
    "                \"{} load\".format(country),\n",
    "                bus=country,\n",
    "                p_set=loads[country])\n",
    "\n",
    "    #add transmission as controllable Link\n",
    "    if country not in transmission:\n",
    "        continue\n",
    "\n",
    "    for other_country in countries:\n",
    "        if other_country not in transmission[country]:\n",
    "            continue\n",
    "\n",
    "        #NB: Link is by default unidirectional, so have to set p_min_pu = -1\n",
    "        #to allow bidirectional (i.e. also negative) flow\n",
    "        network.add(\"Link\",\n",
    "                   \"{} - {} link\".format(country, other_country),\n",
    "                   bus0=country,\n",
    "                   bus1=other_country,\n",
    "                   p_nom=transmission[country][other_country],\n",
    "                   p_min_pu=-1)\n",
    "\n",
    "network.lopf()"
   ],
   "metadata": {
    "collapsed": false,
    "pycharm": {
     "name": "#%%\n"
    }
   }
  },
  {
   "cell_type": "code",
   "execution_count": 18,
   "outputs": [
    {
     "data": {
      "text/plain": "Load      Swaziland load  Mozambique load  South Africa load\nsnapshot                                                    \nnow                250.0            650.0            42000.0",
      "text/html": "<div>\n<style scoped>\n    .dataframe tbody tr th:only-of-type {\n        vertical-align: middle;\n    }\n\n    .dataframe tbody tr th {\n        vertical-align: top;\n    }\n\n    .dataframe thead th {\n        text-align: right;\n    }\n</style>\n<table border=\"1\" class=\"dataframe\">\n  <thead>\n    <tr style=\"text-align: right;\">\n      <th>Load</th>\n      <th>Swaziland load</th>\n      <th>Mozambique load</th>\n      <th>South Africa load</th>\n    </tr>\n    <tr>\n      <th>snapshot</th>\n      <th></th>\n      <th></th>\n      <th></th>\n    </tr>\n  </thead>\n  <tbody>\n    <tr>\n      <th>now</th>\n      <td>250.0</td>\n      <td>650.0</td>\n      <td>42000.0</td>\n    </tr>\n  </tbody>\n</table>\n</div>"
     },
     "execution_count": 18,
     "metadata": {},
     "output_type": "execute_result"
    }
   ],
   "source": [
    "network.loads_t.p"
   ],
   "metadata": {
    "collapsed": false,
    "pycharm": {
     "name": "#%%\n"
    }
   }
  },
  {
   "cell_type": "code",
   "execution_count": 19,
   "outputs": [
    {
     "data": {
      "text/plain": "Generator  Swaziland Hydro  Mozambique Hydro  South Africa Coal  \\\nsnapshot                                                          \nnow                  600.0            1050.0            35000.0   \n\nGenerator  South Africa Wind  South Africa Gas  South Africa Oil  \nsnapshot                                                          \nnow                   3000.0            3250.0               0.0  ",
      "text/html": "<div>\n<style scoped>\n    .dataframe tbody tr th:only-of-type {\n        vertical-align: middle;\n    }\n\n    .dataframe tbody tr th {\n        vertical-align: top;\n    }\n\n    .dataframe thead th {\n        text-align: right;\n    }\n</style>\n<table border=\"1\" class=\"dataframe\">\n  <thead>\n    <tr style=\"text-align: right;\">\n      <th>Generator</th>\n      <th>Swaziland Hydro</th>\n      <th>Mozambique Hydro</th>\n      <th>South Africa Coal</th>\n      <th>South Africa Wind</th>\n      <th>South Africa Gas</th>\n      <th>South Africa Oil</th>\n    </tr>\n    <tr>\n      <th>snapshot</th>\n      <th></th>\n      <th></th>\n      <th></th>\n      <th></th>\n      <th></th>\n      <th></th>\n    </tr>\n  </thead>\n  <tbody>\n    <tr>\n      <th>now</th>\n      <td>600.0</td>\n      <td>1050.0</td>\n      <td>35000.0</td>\n      <td>3000.0</td>\n      <td>3250.0</td>\n      <td>0.0</td>\n    </tr>\n  </tbody>\n</table>\n</div>"
     },
     "execution_count": 19,
     "metadata": {},
     "output_type": "execute_result"
    }
   ],
   "source": [
    "network.generators_t.p"
   ],
   "metadata": {
    "collapsed": false,
    "pycharm": {
     "name": "#%%\n"
    }
   }
  },
  {
   "cell_type": "code",
   "execution_count": 20,
   "outputs": [
    {
     "data": {
      "text/plain": "Link      Mozambique - Swaziland link  South Africa - Swaziland link  \\\nsnapshot                                                               \nnow                            -100.0                         -250.0   \n\nLink      South Africa - Mozambique link  \nsnapshot                                  \nnow                               -500.0  ",
      "text/html": "<div>\n<style scoped>\n    .dataframe tbody tr th:only-of-type {\n        vertical-align: middle;\n    }\n\n    .dataframe tbody tr th {\n        vertical-align: top;\n    }\n\n    .dataframe thead th {\n        text-align: right;\n    }\n</style>\n<table border=\"1\" class=\"dataframe\">\n  <thead>\n    <tr style=\"text-align: right;\">\n      <th>Link</th>\n      <th>Mozambique - Swaziland link</th>\n      <th>South Africa - Swaziland link</th>\n      <th>South Africa - Mozambique link</th>\n    </tr>\n    <tr>\n      <th>snapshot</th>\n      <th></th>\n      <th></th>\n      <th></th>\n    </tr>\n  </thead>\n  <tbody>\n    <tr>\n      <th>now</th>\n      <td>-100.0</td>\n      <td>-250.0</td>\n      <td>-500.0</td>\n    </tr>\n  </tbody>\n</table>\n</div>"
     },
     "execution_count": 20,
     "metadata": {},
     "output_type": "execute_result"
    }
   ],
   "source": [
    "network.links_t.p0"
   ],
   "metadata": {
    "collapsed": false,
    "pycharm": {
     "name": "#%%\n"
    }
   }
  },
  {
   "cell_type": "code",
   "execution_count": 21,
   "outputs": [
    {
     "data": {
      "text/plain": "Bus       Swaziland  Mozambique  South Africa\nsnapshot                                     \nnow             0.0         0.0          60.0",
      "text/html": "<div>\n<style scoped>\n    .dataframe tbody tr th:only-of-type {\n        vertical-align: middle;\n    }\n\n    .dataframe tbody tr th {\n        vertical-align: top;\n    }\n\n    .dataframe thead th {\n        text-align: right;\n    }\n</style>\n<table border=\"1\" class=\"dataframe\">\n  <thead>\n    <tr style=\"text-align: right;\">\n      <th>Bus</th>\n      <th>Swaziland</th>\n      <th>Mozambique</th>\n      <th>South Africa</th>\n    </tr>\n    <tr>\n      <th>snapshot</th>\n      <th></th>\n      <th></th>\n      <th></th>\n    </tr>\n  </thead>\n  <tbody>\n    <tr>\n      <th>now</th>\n      <td>0.0</td>\n      <td>0.0</td>\n      <td>60.0</td>\n    </tr>\n  </tbody>\n</table>\n</div>"
     },
     "execution_count": 21,
     "metadata": {},
     "output_type": "execute_result"
    }
   ],
   "source": [
    "#print the clearing price (corresponding to hydro in S and M, and gas in SA)\n",
    "network.buses_t.marginal_price"
   ],
   "metadata": {
    "collapsed": false,
    "pycharm": {
     "name": "#%%\n"
    }
   }
  },
  {
   "cell_type": "code",
   "execution_count": 22,
   "outputs": [
    {
     "data": {
      "text/plain": "Link      Mozambique - Swaziland link  South Africa - Swaziland link  \\\nsnapshot                                                               \nnow                               0.0                           60.0   \n\nLink      South Africa - Mozambique link  \nsnapshot                                  \nnow                                 60.0  ",
      "text/html": "<div>\n<style scoped>\n    .dataframe tbody tr th:only-of-type {\n        vertical-align: middle;\n    }\n\n    .dataframe tbody tr th {\n        vertical-align: top;\n    }\n\n    .dataframe thead th {\n        text-align: right;\n    }\n</style>\n<table border=\"1\" class=\"dataframe\">\n  <thead>\n    <tr style=\"text-align: right;\">\n      <th>Link</th>\n      <th>Mozambique - Swaziland link</th>\n      <th>South Africa - Swaziland link</th>\n      <th>South Africa - Mozambique link</th>\n    </tr>\n    <tr>\n      <th>snapshot</th>\n      <th></th>\n      <th></th>\n      <th></th>\n    </tr>\n  </thead>\n  <tbody>\n    <tr>\n      <th>now</th>\n      <td>0.0</td>\n      <td>60.0</td>\n      <td>60.0</td>\n    </tr>\n  </tbody>\n</table>\n</div>"
     },
     "execution_count": 22,
     "metadata": {},
     "output_type": "execute_result"
    }
   ],
   "source": [
    "#link shadow prices\n",
    "network.links_t.mu_lower"
   ],
   "metadata": {
    "collapsed": false,
    "pycharm": {
     "name": "#%%\n"
    }
   }
  },
  {
   "cell_type": "code",
   "execution_count": 23,
   "outputs": [
    {
     "name": "stderr",
     "output_type": "stream",
     "text": [
      "WARNING:pypsa.components:Solving optimisation problem with pyomo.In PyPSA version 0.21 the default will change to ``n.lopf(pyomo=False)``.Explicitly set ``n.lopf(pyomo=True)`` to retain current behaviour.\n",
      "INFO:pypsa.opf:Performed preliminary steps\n",
      "INFO:pypsa.opf:Building pyomo model using `kirchhoff` formulation\n",
      "INFO:pypsa.opf:Solving model using glpk\n",
      "INFO:pypsa.opf:Optimization successful\n"
     ]
    },
    {
     "name": "stdout",
     "output_type": "stream",
     "text": [
      "# ==========================================================\n",
      "# = Solver Results                                         =\n",
      "# ==========================================================\n",
      "# ----------------------------------------------------------\n",
      "#   Problem Information\n",
      "# ----------------------------------------------------------\n",
      "Problem: \n",
      "- Name: unknown\n",
      "  Lower bound: 1250000.0\n",
      "  Upper bound: 1250000.0\n",
      "  Number of objectives: 1\n",
      "  Number of constraints: 2\n",
      "  Number of variables: 6\n",
      "  Number of nonzeros: 6\n",
      "  Sense: minimize\n",
      "# ----------------------------------------------------------\n",
      "#   Solver Information\n",
      "# ----------------------------------------------------------\n",
      "Solver: \n",
      "- Status: ok\n",
      "  Termination condition: optimal\n",
      "  Statistics: \n",
      "    Branch and bound: \n",
      "      Number of bounded subproblems: 0\n",
      "      Number of created subproblems: 0\n",
      "  Error rc: 0\n",
      "  Time: 0.08876347541809082\n",
      "# ----------------------------------------------------------\n",
      "#   Solution Information\n",
      "# ----------------------------------------------------------\n",
      "Solution: \n",
      "- number of solutions: 0\n",
      "  number of solutions displayed: 0\n"
     ]
    },
    {
     "data": {
      "text/plain": "(<SolverStatus.ok: 'ok'>, <TerminationCondition.optimal: 'optimal'>)"
     },
     "execution_count": 23,
     "metadata": {},
     "output_type": "execute_result"
    }
   ],
   "source": [
    "### Single bidding zone with price-sensitive industrial load, one period\n",
    "#\n",
    "#In this example we consider a single market bidding zone, South Africa.\n",
    "#\n",
    "#Now there is a large industrial load with a marginal utility which is low enough to interact with the generation marginal cost.\n",
    "\n",
    "country = \"South Africa\"\n",
    "\n",
    "network = pypsa.Network()\n",
    "\n",
    "network.add(\"Bus\",country)\n",
    "\n",
    "for tech in power_plant_p_nom[country]:\n",
    "    network.add(\"Generator\",\n",
    "                \"{} {}\".format(country,tech),\n",
    "                bus=country,\n",
    "                p_nom=power_plant_p_nom[country][tech],\n",
    "                marginal_cost=marginal_costs[tech])\n",
    "\n",
    "#standard high marginal utility consumers\n",
    "network.add(\"Load\",\n",
    "            \"{} load\".format(country),\n",
    "            bus=country,\n",
    "            p_set=loads[country])\n",
    "\n",
    "#add an industrial load as a dummy negative-dispatch generator with marginal utility of 70 EUR/MWh for 8000 MW\n",
    "network.add(\"Generator\",\n",
    "            \"{} industrial load\".format(country),\n",
    "            bus=country,\n",
    "            p_max_pu=0,\n",
    "            p_min_pu=-1,\n",
    "            p_nom=8000,\n",
    "            marginal_cost=70)\n",
    "\n",
    "network.lopf()"
   ],
   "metadata": {
    "collapsed": false,
    "pycharm": {
     "name": "#%%\n"
    }
   }
  },
  {
   "cell_type": "code",
   "execution_count": 24,
   "outputs": [
    {
     "data": {
      "text/plain": "Load      South Africa load\nsnapshot                   \nnow                 42000.0",
      "text/html": "<div>\n<style scoped>\n    .dataframe tbody tr th:only-of-type {\n        vertical-align: middle;\n    }\n\n    .dataframe tbody tr th {\n        vertical-align: top;\n    }\n\n    .dataframe thead th {\n        text-align: right;\n    }\n</style>\n<table border=\"1\" class=\"dataframe\">\n  <thead>\n    <tr style=\"text-align: right;\">\n      <th>Load</th>\n      <th>South Africa load</th>\n    </tr>\n    <tr>\n      <th>snapshot</th>\n      <th></th>\n    </tr>\n  </thead>\n  <tbody>\n    <tr>\n      <th>now</th>\n      <td>42000.0</td>\n    </tr>\n  </tbody>\n</table>\n</div>"
     },
     "execution_count": 24,
     "metadata": {},
     "output_type": "execute_result"
    }
   ],
   "source": [
    "network.loads_t.p"
   ],
   "metadata": {
    "collapsed": false,
    "pycharm": {
     "name": "#%%\n"
    }
   }
  },
  {
   "cell_type": "code",
   "execution_count": 25,
   "outputs": [
    {
     "data": {
      "text/plain": "Generator  South Africa Coal  South Africa Wind  South Africa Gas  \\\nsnapshot                                                            \nnow                  35000.0             3000.0            8000.0   \n\nGenerator  South Africa Oil  South Africa industrial load  \nsnapshot                                                   \nnow                     0.0                       -4000.0  ",
      "text/html": "<div>\n<style scoped>\n    .dataframe tbody tr th:only-of-type {\n        vertical-align: middle;\n    }\n\n    .dataframe tbody tr th {\n        vertical-align: top;\n    }\n\n    .dataframe thead th {\n        text-align: right;\n    }\n</style>\n<table border=\"1\" class=\"dataframe\">\n  <thead>\n    <tr style=\"text-align: right;\">\n      <th>Generator</th>\n      <th>South Africa Coal</th>\n      <th>South Africa Wind</th>\n      <th>South Africa Gas</th>\n      <th>South Africa Oil</th>\n      <th>South Africa industrial load</th>\n    </tr>\n    <tr>\n      <th>snapshot</th>\n      <th></th>\n      <th></th>\n      <th></th>\n      <th></th>\n      <th></th>\n    </tr>\n  </thead>\n  <tbody>\n    <tr>\n      <th>now</th>\n      <td>35000.0</td>\n      <td>3000.0</td>\n      <td>8000.0</td>\n      <td>0.0</td>\n      <td>-4000.0</td>\n    </tr>\n  </tbody>\n</table>\n</div>"
     },
     "execution_count": 25,
     "metadata": {},
     "output_type": "execute_result"
    }
   ],
   "source": [
    "#NB only half of industrial load is served, because this maxes out\n",
    "#Gas. Oil is too expensive with a marginal cost of 80 EUR/MWh\n",
    "network.generators_t.p"
   ],
   "metadata": {
    "collapsed": false,
    "pycharm": {
     "name": "#%%\n"
    }
   }
  },
  {
   "cell_type": "code",
   "execution_count": 26,
   "outputs": [
    {
     "data": {
      "text/plain": "Bus       South Africa\nsnapshot              \nnow               70.0",
      "text/html": "<div>\n<style scoped>\n    .dataframe tbody tr th:only-of-type {\n        vertical-align: middle;\n    }\n\n    .dataframe tbody tr th {\n        vertical-align: top;\n    }\n\n    .dataframe thead th {\n        text-align: right;\n    }\n</style>\n<table border=\"1\" class=\"dataframe\">\n  <thead>\n    <tr style=\"text-align: right;\">\n      <th>Bus</th>\n      <th>South Africa</th>\n    </tr>\n    <tr>\n      <th>snapshot</th>\n      <th></th>\n    </tr>\n  </thead>\n  <tbody>\n    <tr>\n      <th>now</th>\n      <td>70.0</td>\n    </tr>\n  </tbody>\n</table>\n</div>"
     },
     "execution_count": 26,
     "metadata": {},
     "output_type": "execute_result"
    }
   ],
   "source": [
    "network.buses_t.marginal_price"
   ],
   "metadata": {
    "collapsed": false,
    "pycharm": {
     "name": "#%%\n"
    }
   }
  },
  {
   "cell_type": "code",
   "execution_count": 27,
   "outputs": [
    {
     "name": "stderr",
     "output_type": "stream",
     "text": [
      "WARNING:pypsa.components:Solving optimisation problem with pyomo.In PyPSA version 0.21 the default will change to ``n.lopf(pyomo=False)``.Explicitly set ``n.lopf(pyomo=True)`` to retain current behaviour.\n",
      "INFO:pypsa.opf:Performed preliminary steps\n",
      "INFO:pypsa.opf:Building pyomo model using `kirchhoff` formulation\n",
      "INFO:pypsa.opf:Solving model using glpk\n",
      "INFO:pypsa.opf:Optimization successful\n"
     ]
    },
    {
     "name": "stdout",
     "output_type": "stream",
     "text": [
      "# ==========================================================\n",
      "# = Solver Results                                         =\n",
      "# ==========================================================\n",
      "# ----------------------------------------------------------\n",
      "#   Problem Information\n",
      "# ----------------------------------------------------------\n",
      "Problem: \n",
      "- Name: unknown\n",
      "  Lower bound: 6082000.0\n",
      "  Upper bound: 6082000.0\n",
      "  Number of objectives: 1\n",
      "  Number of constraints: 5\n",
      "  Number of variables: 17\n",
      "  Number of nonzeros: 17\n",
      "  Sense: minimize\n",
      "# ----------------------------------------------------------\n",
      "#   Solver Information\n",
      "# ----------------------------------------------------------\n",
      "Solver: \n",
      "- Status: ok\n",
      "  Termination condition: optimal\n",
      "  Statistics: \n",
      "    Branch and bound: \n",
      "      Number of bounded subproblems: 0\n",
      "      Number of created subproblems: 0\n",
      "  Error rc: 0\n",
      "  Time: 0.05884242057800293\n",
      "# ----------------------------------------------------------\n",
      "#   Solution Information\n",
      "# ----------------------------------------------------------\n",
      "Solution: \n",
      "- number of solutions: 0\n",
      "  number of solutions displayed: 0\n"
     ]
    },
    {
     "data": {
      "text/plain": "(<SolverStatus.ok: 'ok'>, <TerminationCondition.optimal: 'optimal'>)"
     },
     "execution_count": 27,
     "metadata": {},
     "output_type": "execute_result"
    }
   ],
   "source": [
    "### Single bidding zone with fixed load, several periods\n",
    "#\n",
    "#In this example we consider a single market bidding zone, South Africa.\n",
    "#\n",
    "#We consider multiple time periods (labelled [0,1,2,3]) to represent variable wind generation.\n",
    "\n",
    "country = \"South Africa\"\n",
    "\n",
    "network = pypsa.Network()\n",
    "\n",
    "#snapshots labelled by [0,1,2,3]\n",
    "network.set_snapshots(range(4))\n",
    "\n",
    "network.add(\"Bus\",country)\n",
    "\n",
    "#p_max_pu is variable for wind\n",
    "for tech in power_plant_p_nom[country]:\n",
    "    network.add(\"Generator\",\n",
    "                \"{} {}\".format(country,tech),\n",
    "                bus=country,\n",
    "                p_nom=power_plant_p_nom[country][tech],\n",
    "                marginal_cost=marginal_costs[tech],\n",
    "                p_max_pu=([0.3,0.6,0.4,0.5] if tech == \"Wind\" else 1),\n",
    "                )\n",
    "\n",
    "#load which varies over the snapshots\n",
    "network.add(\"Load\",\n",
    "            \"{} load\".format(country),\n",
    "            bus=country,\n",
    "            p_set=loads[country] + np.array([0,1000,3000,4000]))\n",
    "\n",
    "#specify that we consider all snapshots\n",
    "network.lopf(network.snapshots)"
   ],
   "metadata": {
    "collapsed": false,
    "pycharm": {
     "name": "#%%\n"
    }
   }
  },
  {
   "cell_type": "code",
   "execution_count": 28,
   "outputs": [
    {
     "name": "stderr",
     "output_type": "stream",
     "text": [
      "WARNING:pypsa.components:Solving optimisation problem with pyomo.In PyPSA version 0.21 the default will change to ``n.lopf(pyomo=False)``.Explicitly set ``n.lopf(pyomo=True)`` to retain current behaviour.\n",
      "INFO:pypsa.opf:Performed preliminary steps\n",
      "INFO:pypsa.opf:Building pyomo model using `kirchhoff` formulation\n",
      "INFO:pypsa.opf:Solving model using glpk\n",
      "INFO:pypsa.opf:Optimization successful\n"
     ]
    },
    {
     "name": "stdout",
     "output_type": "stream",
     "text": [
      "# ==========================================================\n",
      "# = Solver Results                                         =\n",
      "# ==========================================================\n",
      "# ----------------------------------------------------------\n",
      "#   Problem Information\n",
      "# ----------------------------------------------------------\n",
      "Problem: \n",
      "- Name: unknown\n",
      "  Lower bound: 6046000.0\n",
      "  Upper bound: 6046000.0\n",
      "  Number of objectives: 1\n",
      "  Number of constraints: 13\n",
      "  Number of variables: 29\n",
      "  Number of nonzeros: 44\n",
      "  Sense: minimize\n",
      "# ----------------------------------------------------------\n",
      "#   Solver Information\n",
      "# ----------------------------------------------------------\n",
      "Solver: \n",
      "- Status: ok\n",
      "  Termination condition: optimal\n",
      "  Statistics: \n",
      "    Branch and bound: \n",
      "      Number of bounded subproblems: 0\n",
      "      Number of created subproblems: 0\n",
      "  Error rc: 0\n",
      "  Time: 0.042885541915893555\n",
      "# ----------------------------------------------------------\n",
      "#   Solution Information\n",
      "# ----------------------------------------------------------\n",
      "Solution: \n",
      "- number of solutions: 0\n",
      "  number of solutions displayed: 0\n"
     ]
    },
    {
     "data": {
      "text/plain": "(<SolverStatus.ok: 'ok'>, <TerminationCondition.optimal: 'optimal'>)"
     },
     "execution_count": 28,
     "metadata": {},
     "output_type": "execute_result"
    }
   ],
   "source": [
    "network.loads_t.p\n",
    "\n",
    "network.generators_t.p\n",
    "\n",
    "network.buses_t.marginal_price\n",
    "\n",
    "### Single bidding zone with fixed load and storage, several periods\n",
    "#\n",
    "#In this example we consider a single market bidding zone, South Africa.\n",
    "#\n",
    "#We consider multiple time periods (labelled [0,1,2,3]) to represent variable wind generation. Storage is allowed to do price arbitrage to reduce oil consumption.\n",
    "\n",
    "country = \"South Africa\"\n",
    "\n",
    "network = pypsa.Network()\n",
    "\n",
    "#snapshots labelled by [0,1,2,3]\n",
    "network.set_snapshots(range(4))\n",
    "\n",
    "network.add(\"Bus\",country)\n",
    "\n",
    "#p_max_pu is variable for wind\n",
    "for tech in power_plant_p_nom[country]:\n",
    "    network.add(\"Generator\",\n",
    "                \"{} {}\".format(country,tech),\n",
    "                bus=country,\n",
    "                p_nom=power_plant_p_nom[country][tech],\n",
    "                marginal_cost=marginal_costs[tech],\n",
    "                p_max_pu=([0.3,0.6,0.4,0.5] if tech == \"Wind\" else 1),\n",
    "                )\n",
    "\n",
    "#load which varies over the snapshots\n",
    "network.add(\"Load\",\n",
    "            \"{} load\".format(country),\n",
    "            bus=country,\n",
    "            p_set=loads[country] + np.array([0,1000,3000,4000]))\n",
    "\n",
    "#storage unit to do price arbitrage\n",
    "network.add(\"StorageUnit\",\n",
    "            \"{} pumped hydro\".format(country),\n",
    "            bus=country,\n",
    "            p_nom=1000,\n",
    "            max_hours=6, #energy storage in terms of hours at full power\n",
    "           )\n",
    "\n",
    "network.lopf(network.snapshots)"
   ],
   "metadata": {
    "collapsed": false,
    "pycharm": {
     "name": "#%%\n"
    }
   }
  },
  {
   "cell_type": "code",
   "execution_count": 29,
   "outputs": [
    {
     "data": {
      "text/plain": "Load      South Africa load\nsnapshot                   \n0                   42000.0\n1                   43000.0\n2                   45000.0\n3                   46000.0",
      "text/html": "<div>\n<style scoped>\n    .dataframe tbody tr th:only-of-type {\n        vertical-align: middle;\n    }\n\n    .dataframe tbody tr th {\n        vertical-align: top;\n    }\n\n    .dataframe thead th {\n        text-align: right;\n    }\n</style>\n<table border=\"1\" class=\"dataframe\">\n  <thead>\n    <tr style=\"text-align: right;\">\n      <th>Load</th>\n      <th>South Africa load</th>\n    </tr>\n    <tr>\n      <th>snapshot</th>\n      <th></th>\n    </tr>\n  </thead>\n  <tbody>\n    <tr>\n      <th>0</th>\n      <td>42000.0</td>\n    </tr>\n    <tr>\n      <th>1</th>\n      <td>43000.0</td>\n    </tr>\n    <tr>\n      <th>2</th>\n      <td>45000.0</td>\n    </tr>\n    <tr>\n      <th>3</th>\n      <td>46000.0</td>\n    </tr>\n  </tbody>\n</table>\n</div>"
     },
     "execution_count": 29,
     "metadata": {},
     "output_type": "execute_result"
    }
   ],
   "source": [
    "network.loads_t.p"
   ],
   "metadata": {
    "collapsed": false,
    "pycharm": {
     "name": "#%%\n"
    }
   }
  },
  {
   "cell_type": "code",
   "execution_count": 30,
   "outputs": [
    {
     "data": {
      "text/plain": "Generator  South Africa Coal  South Africa Wind  South Africa Gas  \\\nsnapshot                                                            \n0                    35000.0              900.0            6900.0   \n1                    35000.0             1800.0            7200.0   \n2                    35000.0             1200.0            8000.0   \n3                    35000.0             1500.0            8000.0   \n\nGenerator  South Africa Oil  \nsnapshot                     \n0                       0.0  \n1                       0.0  \n2                       0.0  \n3                     500.0  ",
      "text/html": "<div>\n<style scoped>\n    .dataframe tbody tr th:only-of-type {\n        vertical-align: middle;\n    }\n\n    .dataframe tbody tr th {\n        vertical-align: top;\n    }\n\n    .dataframe thead th {\n        text-align: right;\n    }\n</style>\n<table border=\"1\" class=\"dataframe\">\n  <thead>\n    <tr style=\"text-align: right;\">\n      <th>Generator</th>\n      <th>South Africa Coal</th>\n      <th>South Africa Wind</th>\n      <th>South Africa Gas</th>\n      <th>South Africa Oil</th>\n    </tr>\n    <tr>\n      <th>snapshot</th>\n      <th></th>\n      <th></th>\n      <th></th>\n      <th></th>\n    </tr>\n  </thead>\n  <tbody>\n    <tr>\n      <th>0</th>\n      <td>35000.0</td>\n      <td>900.0</td>\n      <td>6900.0</td>\n      <td>0.0</td>\n    </tr>\n    <tr>\n      <th>1</th>\n      <td>35000.0</td>\n      <td>1800.0</td>\n      <td>7200.0</td>\n      <td>0.0</td>\n    </tr>\n    <tr>\n      <th>2</th>\n      <td>35000.0</td>\n      <td>1200.0</td>\n      <td>8000.0</td>\n      <td>0.0</td>\n    </tr>\n    <tr>\n      <th>3</th>\n      <td>35000.0</td>\n      <td>1500.0</td>\n      <td>8000.0</td>\n      <td>500.0</td>\n    </tr>\n  </tbody>\n</table>\n</div>"
     },
     "execution_count": 30,
     "metadata": {},
     "output_type": "execute_result"
    }
   ],
   "source": [
    "network.generators_t.p"
   ],
   "metadata": {
    "collapsed": false,
    "pycharm": {
     "name": "#%%\n"
    }
   }
  },
  {
   "cell_type": "code",
   "execution_count": 31,
   "outputs": [
    {
     "data": {
      "text/plain": "StorageUnit  South Africa pumped hydro\nsnapshot                              \n0                               -800.0\n1                              -1000.0\n2                                800.0\n3                               1000.0",
      "text/html": "<div>\n<style scoped>\n    .dataframe tbody tr th:only-of-type {\n        vertical-align: middle;\n    }\n\n    .dataframe tbody tr th {\n        vertical-align: top;\n    }\n\n    .dataframe thead th {\n        text-align: right;\n    }\n</style>\n<table border=\"1\" class=\"dataframe\">\n  <thead>\n    <tr style=\"text-align: right;\">\n      <th>StorageUnit</th>\n      <th>South Africa pumped hydro</th>\n    </tr>\n    <tr>\n      <th>snapshot</th>\n      <th></th>\n    </tr>\n  </thead>\n  <tbody>\n    <tr>\n      <th>0</th>\n      <td>-800.0</td>\n    </tr>\n    <tr>\n      <th>1</th>\n      <td>-1000.0</td>\n    </tr>\n    <tr>\n      <th>2</th>\n      <td>800.0</td>\n    </tr>\n    <tr>\n      <th>3</th>\n      <td>1000.0</td>\n    </tr>\n  </tbody>\n</table>\n</div>"
     },
     "execution_count": 31,
     "metadata": {},
     "output_type": "execute_result"
    }
   ],
   "source": [
    "network.storage_units_t.p"
   ],
   "metadata": {
    "collapsed": false,
    "pycharm": {
     "name": "#%%\n"
    }
   }
  },
  {
   "cell_type": "code",
   "execution_count": 32,
   "outputs": [
    {
     "data": {
      "text/plain": "StorageUnit  South Africa pumped hydro\nsnapshot                              \n0                                800.0\n1                               1800.0\n2                               1000.0\n3                                  0.0",
      "text/html": "<div>\n<style scoped>\n    .dataframe tbody tr th:only-of-type {\n        vertical-align: middle;\n    }\n\n    .dataframe tbody tr th {\n        vertical-align: top;\n    }\n\n    .dataframe thead th {\n        text-align: right;\n    }\n</style>\n<table border=\"1\" class=\"dataframe\">\n  <thead>\n    <tr style=\"text-align: right;\">\n      <th>StorageUnit</th>\n      <th>South Africa pumped hydro</th>\n    </tr>\n    <tr>\n      <th>snapshot</th>\n      <th></th>\n    </tr>\n  </thead>\n  <tbody>\n    <tr>\n      <th>0</th>\n      <td>800.0</td>\n    </tr>\n    <tr>\n      <th>1</th>\n      <td>1800.0</td>\n    </tr>\n    <tr>\n      <th>2</th>\n      <td>1000.0</td>\n    </tr>\n    <tr>\n      <th>3</th>\n      <td>0.0</td>\n    </tr>\n  </tbody>\n</table>\n</div>"
     },
     "execution_count": 32,
     "metadata": {},
     "output_type": "execute_result"
    }
   ],
   "source": [
    "network.storage_units_t.state_of_charge"
   ],
   "metadata": {
    "collapsed": false,
    "pycharm": {
     "name": "#%%\n"
    }
   }
  },
  {
   "cell_type": "code",
   "execution_count": 33,
   "outputs": [
    {
     "data": {
      "text/plain": "Bus       South Africa\nsnapshot              \n0                 60.0\n1                 60.0\n2                 60.0\n3                 80.0",
      "text/html": "<div>\n<style scoped>\n    .dataframe tbody tr th:only-of-type {\n        vertical-align: middle;\n    }\n\n    .dataframe tbody tr th {\n        vertical-align: top;\n    }\n\n    .dataframe thead th {\n        text-align: right;\n    }\n</style>\n<table border=\"1\" class=\"dataframe\">\n  <thead>\n    <tr style=\"text-align: right;\">\n      <th>Bus</th>\n      <th>South Africa</th>\n    </tr>\n    <tr>\n      <th>snapshot</th>\n      <th></th>\n    </tr>\n  </thead>\n  <tbody>\n    <tr>\n      <th>0</th>\n      <td>60.0</td>\n    </tr>\n    <tr>\n      <th>1</th>\n      <td>60.0</td>\n    </tr>\n    <tr>\n      <th>2</th>\n      <td>60.0</td>\n    </tr>\n    <tr>\n      <th>3</th>\n      <td>80.0</td>\n    </tr>\n  </tbody>\n</table>\n</div>"
     },
     "execution_count": 33,
     "metadata": {},
     "output_type": "execute_result"
    }
   ],
   "source": [
    "network.buses_t.marginal_price"
   ],
   "metadata": {
    "collapsed": false,
    "pycharm": {
     "name": "#%%\n"
    }
   }
  },
  {
   "cell_type": "code",
   "execution_count": null,
   "outputs": [],
   "source": [],
   "metadata": {
    "collapsed": false,
    "pycharm": {
     "name": "#%%\n"
    }
   }
  }
 ],
 "metadata": {
  "kernelspec": {
   "display_name": "Python 3",
   "language": "python",
   "name": "python3"
  },
  "language_info": {
   "codemirror_mode": {
    "name": "ipython",
    "version": 2
   },
   "file_extension": ".py",
   "mimetype": "text/x-python",
   "name": "python",
   "nbconvert_exporter": "python",
   "pygments_lexer": "ipython2",
   "version": "2.7.6"
  }
 },
 "nbformat": 4,
 "nbformat_minor": 0
}