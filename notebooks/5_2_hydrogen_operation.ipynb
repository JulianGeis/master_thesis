{
 "cells": [
  {
   "cell_type": "code",
   "execution_count": null,
   "metadata": {
    "collapsed": true,
    "pycharm": {
     "name": "#%%\n"
    }
   },
   "outputs": [],
   "source": [
    "# Plots for section 5.2 hydrogen technologies"
   ]
  },
  {
   "cell_type": "code",
   "execution_count": null,
   "outputs": [],
   "source": [
    "#TODO: show how it is possibe that less electrolysis capacity produces more hydrogen in EXP (higher utilization / flh)"
   ],
   "metadata": {
    "collapsed": false,
    "pycharm": {
     "name": "#%%\n"
    }
   }
  },
  {
   "cell_type": "code",
   "execution_count": null,
   "outputs": [],
   "source": [
    "# QUESTIONS:\n",
    "#"
   ],
   "metadata": {
    "collapsed": false,
    "pycharm": {
     "name": "#%%\n"
    }
   }
  },
  {
   "cell_type": "markdown",
   "source": [
    "### Imports"
   ],
   "metadata": {
    "collapsed": false,
    "pycharm": {
     "name": "#%% md\n"
    }
   }
  },
  {
   "cell_type": "code",
   "execution_count": null,
   "outputs": [],
   "source": [
    "import pandas as pd\n",
    "import matplotlib\n",
    "import numpy as np\n",
    "import pypsa\n",
    "import matplotlib.pyplot as plt\n",
    "import cartopy\n",
    "import cartopy.crs as ccrs\n",
    "import geopandas as gpd\n",
    "import warnings\n",
    "warnings.filterwarnings(\"ignore\")\n",
    "from shapely.geometry import Point, LineString\n",
    "from datetime import datetime\n",
    "import matplotlib.patheffects as pe\n",
    "import matplotlib.colors as mcolors\n",
    "import seaborn as sns\n",
    "from matplotlib.lines import Line2D\n",
    "import math\n",
    "\n",
    "\n",
    "# imported own functions\n",
    "from utils import nodal_balance\n",
    "\n",
    "# imported own definitions\n",
    "from utils import carrier_colors, carrier_renaming, resistive_heater, gas_boiler, heat_pump, water_tanks_charger, water_tanks_discharger, solar_thermal\n",
    "from utils import c_h2_gen, c_h2_con, c_el_gen_s, c_el_con_s\n",
    "\n",
    "# general variables\n",
    "font1 = {'fontname':'Calibri'}\n",
    "PLOT_DIR = 'C:/Users/Julian/Studies/Master/01 TU Berlin/3. Semester - Masterarbeit/MA Marktwerte FEE/data/plots/01_general/5.2_hydrogen_technologies'\n",
    "onshore_regions = gpd.read_file(\"../data/external/regions_onshore_elec_s_181.geojson\")\n",
    "offshore_regions = gpd.read_file(\"../data/external/regions_offshore_elec_s_181.geojson\")\n",
    "onshore_regions = onshore_regions.set_index('name')\n",
    "offshore_regions = offshore_regions.set_index('name')"
   ],
   "metadata": {
    "collapsed": false,
    "pycharm": {
     "name": "#%%\n"
    }
   }
  },
  {
   "cell_type": "code",
   "execution_count": null,
   "outputs": [],
   "source": [
    "# Network imports\n",
    "stst =pypsa.Network(\"../data/raw/elec_s_181_lv1.0__Co2L0-3H-T-H-B-I-A-solar+p3-linemaxext10-noH2network_2030.nc\")\n",
    "exp =pypsa.Network(\"../data/raw/elec_s_181_lvopt__Co2L0-3H-T-H-B-I-A-solar+p3-linemaxext10_2030.nc\")"
   ],
   "metadata": {
    "collapsed": false,
    "pycharm": {
     "name": "#%%\n"
    }
   }
  },
  {
   "cell_type": "code",
   "execution_count": null,
   "outputs": [],
   "source": [
    "# stst and exp dataframes\n",
    "# spatial\n",
    "df_stst_ons = pd.read_pickle(\"../data/processed/df_stst_ons.pkl\")\n",
    "df_stst_off = pd.read_pickle(\"../data/processed/df_stst_off.pkl\")\n",
    "df_exp_ons = pd.read_pickle(\"../data/processed/df_exp_ons.pkl\")\n",
    "df_exp_off = pd.read_pickle(\"../data/processed/df_exp_off.pkl\")\n",
    "\n",
    "# temporal\n",
    "df_stst_ts = pd.read_pickle(\"../data/processed/df_stst_ts.pkl\")\n",
    "df_exp_ts = pd.read_pickle(\"../data/processed/df_exp_ts.pkl\")"
   ],
   "metadata": {
    "collapsed": false,
    "pycharm": {
     "name": "#%%\n"
    }
   }
  },
  {
   "cell_type": "code",
   "execution_count": null,
   "outputs": [],
   "source": [
    "# Notebook Definitions\n",
    "c1_groups = [resistive_heater, gas_boiler, heat_pump, water_tanks_charger, water_tanks_discharger, solar_thermal]\n",
    "c1_groups_name = [\"resistive heater\", \"gas boiler\", \"heat pump\", \"water tanks charger\", \"water tanks discharger\", \"solar thermal\"]"
   ],
   "metadata": {
    "collapsed": false,
    "pycharm": {
     "name": "#%%\n"
    }
   }
  },
  {
   "cell_type": "code",
   "execution_count": null,
   "outputs": [],
   "source": [
    "# Notebook Functions\n"
   ],
   "metadata": {
    "collapsed": false,
    "pycharm": {
     "name": "#%%\n"
    }
   }
  },
  {
   "cell_type": "code",
   "execution_count": null,
   "outputs": [],
   "source": [
    "# Regions\n",
    "onshore_regions['coords'] = onshore_regions['geometry'].apply(lambda x: x.representative_point().coords[:])\n",
    "onshore_regions['coords'] = [coords[0] for coords in onshore_regions['coords']]\n",
    "onshore_regions[\"name\"] = onshore_regions.index\n",
    "offshore_regions['coords'] = offshore_regions['geometry'].apply(lambda x: x.representative_point().coords[:])\n",
    "offshore_regions['coords'] = [coords[0] for coords in offshore_regions['coords']]\n",
    "offshore_regions[\"name\"] = offshore_regions.index"
   ],
   "metadata": {
    "collapsed": false,
    "pycharm": {
     "name": "#%%\n"
    }
   }
  },
  {
   "cell_type": "markdown",
   "source": [
    "## Interaction of technologies"
   ],
   "metadata": {
    "collapsed": false,
    "pycharm": {
     "name": "#%% md\n"
    }
   }
  },
  {
   "cell_type": "markdown",
   "source": [
    "### Hydrogen Balances"
   ],
   "metadata": {
    "collapsed": false,
    "pycharm": {
     "name": "#%% md\n"
    }
   }
  },
  {
   "cell_type": "markdown",
   "source": [
    "**Differences:**\n",
    "- stst has no 'H2 pipeline', 'H2 pipeline retrofitted'\n",
    "- exp has no 'H2 Fuel Cell', 'SMR', 'SMR CC'"
   ],
   "metadata": {
    "collapsed": false,
    "pycharm": {
     "name": "#%% md\n"
    }
   }
  },
  {
   "cell_type": "markdown",
   "source": [
    "#### all year"
   ],
   "metadata": {
    "collapsed": false,
    "pycharm": {
     "name": "#%% md\n"
    }
   }
  },
  {
   "cell_type": "code",
   "execution_count": null,
   "outputs": [],
   "source": [
    "model = \"EXP\"\n",
    "carrier = [\"H2\"]\n",
    "loads = [\"land transport fuel cell\", \"H2 for industry\", \"H2 for shipping\"]\n",
    "loads_not_liquid = [\"land transport fuel cell\", \"H2 for industry\"]\n",
    "period = \"2013\"\n",
    "# exclude all technologies that contribute less than th\n",
    "th = 0.005\n",
    "\n",
    "# resolution\n",
    "# \"8h\", \"D\", \"W\", \"M\"\n",
    "res = \"D\"\n",
    "\n",
    "if model == \"STST\":\n",
    "    n = stst\n",
    "elif model == \"EXP\":\n",
    "    n = exp\n",
    "\n",
    "nb_h2 = nodal_balance(n, carrier = carrier, time=period, aggregate=['component', 'bus'], energy=True)  # in units of energy\n",
    "# convert from MW to GW and unstack\n",
    "nb_h2 = nb_h2.unstack(level=[1]) / 1e3\n",
    "# calc loads\n",
    "loads_h2 = abs(nb_h2[loads_not_liquid].sum(axis=1))\n",
    "# drop loads\n",
    "nb_h2.drop(loads_not_liquid, axis=1, inplace=True)\n",
    "# rename unhandy column names\n",
    "nb_h2.rename(columns=carrier_renaming, inplace=True)\n",
    "\n",
    "####### plot #######\n",
    "\n",
    "# all year\n",
    "\n",
    "fig, ax = plt.subplots(figsize=(14, 8))\n",
    "\n",
    "# resample\n",
    "df = nb_h2.resample(res).sum()\n",
    "df_loads = loads_h2.resample(res).sum()\n",
    "\n",
    "# drop H2\n",
    "df.drop(\"H2\", axis=1, inplace=True)\n",
    "\n",
    "# split into df with positive and negative values\n",
    "df_neg, df_pos = df.clip(upper=0), df.clip(lower=0)\n",
    "\n",
    "df_pos_share = df_pos.sum() / df_pos.sum().sum()\n",
    "df_pos = df_pos[df_pos_share[df_pos_share > th].sort_values(ascending=False).index]\n",
    "df_neg_share = df_neg.sum() / df_neg.sum().sum()\n",
    "df_neg = df_neg[df_neg_share[df_neg_share > th].sort_values(ascending=False).index]\n",
    "# get colors\n",
    "c_neg, c_pos = [carrier_colors[col] for col in df_neg.columns], [carrier_colors[col] for col in df_pos.columns]\n",
    "\n",
    "# plot positive values\n",
    "ax = df_pos.plot.area(ax=ax, stacked=True, color=c_pos, linewidth=0.)\n",
    "\n",
    "# rename negative values that are also present on positive side, so that they are not shown and plot negative values\n",
    "f = lambda c: '_' + c\n",
    "cols = [f(c) if (c in df_pos.columns) else c for c in  df_neg.columns]\n",
    "cols_map = dict(zip(df_neg.columns, cols))\n",
    "ax = df_neg.rename(columns=cols_map).plot.area(ax=ax, stacked=True, color=c_neg, linewidth=0.)\n",
    "\n",
    "# plot lmps\n",
    "lmps = n.buses_t.marginal_price[n.buses[n.buses.carrier.isin(carrier)].index].mean(axis=1)[period]\n",
    "ax2 = lmps.plot(style=\"--\", color=\"black\", label=\"lmp (mean over buses) [$€/MWh_{h2}$]\", secondary_y=True)\n",
    "ax2.grid(False)\n",
    "# set limits of secondary y-axis\n",
    "ax2.set_ylim([ - 1.5 * lmps.max() * abs(df_neg.sum(axis=1).min()) /  df_pos.sum(axis=1).max() , 1.5 * lmps.max()])\n",
    "\n",
    "# plot loads\n",
    "df_loads.plot(style=\":\", color=\"black\", label=\"hydrogen loads\\n(without H2 for shipping)\")\n",
    "\n",
    "# rescale the y-axis\n",
    "ax.set_ylim([1.05*df_neg.sum(axis=1).min(), 1.05*df_pos.sum(axis=1).max()])\n",
    "ax.legend(ncol=1, loc=\"upper center\", bbox_to_anchor=(1.15, 1), title=\"Legend for left y-axis\")\n",
    "ax2.legend(title=\"Legend for right y-axis\",  loc=\"upper right\")\n",
    "ax.set_ylabel(\"Total hydrogen balance [$GWh_{h2}$]\")\n",
    "ax.set_xlabel(\"\")\n",
    "ax.set_title(f\"Hydrogen Balance for {period} ({model})\", fontsize=16, pad=15,  **font1)\n",
    "fig.tight_layout()\n",
    "\n",
    "#plt.close()\n",
    "plt.show()\n",
    "\n",
    "#fig.savefig(f\"{PLOT_DIR}/h2_bal_all_year_{model}.png\")"
   ],
   "metadata": {
    "collapsed": false,
    "pycharm": {
     "name": "#%%\n"
    }
   }
  },
  {
   "cell_type": "markdown",
   "source": [
    "\n"
   ],
   "metadata": {
    "collapsed": false,
    "pycharm": {
     "name": "#%% md\n"
    }
   }
  },
  {
   "cell_type": "markdown",
   "source": [
    "#### January"
   ],
   "metadata": {
    "collapsed": false,
    "pycharm": {
     "name": "#%% md\n"
    }
   }
  },
  {
   "cell_type": "code",
   "execution_count": null,
   "outputs": [],
   "source": [
    "model = \"STST\"\n",
    "carrier = [\"H2\"]\n",
    "loads = [\"land transport fuel cell\", \"H2 for industry\", \"H2 for shipping\"]\n",
    "loads_not_liquid = [\"land transport fuel cell\", \"H2 for industry\"]\n",
    "period = \"2013-01\"\n",
    "# exclude all technologies that contribute less than th\n",
    "th = 0.005\n",
    "\n",
    "# resolution\n",
    "# \"8h\", \"D\", \"W\", \"M\"\n",
    "res = \"3h\"\n",
    "\n",
    "if model == \"STST\":\n",
    "    n = stst\n",
    "elif model == \"EXP\":\n",
    "    n = exp\n",
    "\n",
    "nb_h2 = nodal_balance(n, carrier = carrier, time=period, aggregate=['component', 'bus'], energy=True)  # in units of energy\n",
    "# convert from MW to GW and unstack\n",
    "nb_h2 = nb_h2.unstack(level=[1]) / 1e3\n",
    "# calc loads\n",
    "loads_h2 = abs(nb_h2[loads_not_liquid].sum(axis=1))\n",
    "# drop loads\n",
    "nb_h2.drop(loads_not_liquid, axis=1, inplace=True)\n",
    "# rename unhandy column names\n",
    "nb_h2.rename(columns=carrier_renaming, inplace=True)\n",
    "\n",
    "####### plot #######\n",
    "\n",
    "# all year\n",
    "\n",
    "fig, ax = plt.subplots(figsize=(14, 8))\n",
    "\n",
    "# resample\n",
    "df = nb_h2.resample(res).sum()\n",
    "df_loads = loads_h2.resample(res).sum()\n",
    "\n",
    "# drop H2\n",
    "df.drop(\"H2\", axis=1, inplace=True)\n",
    "\n",
    "# split into df with positive and negative values\n",
    "df_neg, df_pos = df.clip(upper=0), df.clip(lower=0)\n",
    "\n",
    "df_pos_share = df_pos.sum() / df_pos.sum().sum()\n",
    "df_pos = df_pos[df_pos_share[df_pos_share > th].sort_values(ascending=False).index]\n",
    "df_neg_share = df_neg.sum() / df_neg.sum().sum()\n",
    "df_neg = df_neg[df_neg_share[df_neg_share > th].sort_values(ascending=False).index]\n",
    "# get colors\n",
    "c_neg, c_pos = [carrier_colors[col] for col in df_neg.columns], [carrier_colors[col] for col in df_pos.columns]\n",
    "\n",
    "# plot positive values\n",
    "ax = df_pos.plot.area(ax=ax, stacked=True, color=c_pos, linewidth=0.)\n",
    "\n",
    "# rename negative values that are also present on positive side, so that they are not shown and plot negative values\n",
    "f = lambda c: '_' + c\n",
    "cols = [f(c) if (c in df_pos.columns) else c for c in  df_neg.columns]\n",
    "cols_map = dict(zip(df_neg.columns, cols))\n",
    "ax = df_neg.rename(columns=cols_map).plot.area(ax=ax, stacked=True, color=c_neg, linewidth=0.)\n",
    "\n",
    "# plot lmps\n",
    "lmps = n.buses_t.marginal_price[n.buses[n.buses.carrier.isin(carrier)].index].mean(axis=1)[period]\n",
    "ax2 = lmps.plot(style=\"--\", color=\"black\", label=\"lmp (mean over buses) [$€/MWh_{h2}$]\", secondary_y=True)\n",
    "ax2.grid(False)\n",
    "# set limits of secondary y-axis\n",
    "ax2.set_ylim([ - 1.5 * lmps.max() * abs(df_neg.sum(axis=1).min()) /  df_pos.sum(axis=1).max() , 1.5 * lmps.max()])\n",
    "\n",
    "# plot loads\n",
    "df_loads.plot(style=\":\", color=\"black\", label=\"hydrogen loads\\n(without H2 for shipping)\")\n",
    "\n",
    "# rescale the y-axis\n",
    "ax.set_ylim([1.05*df_neg.sum(axis=1).min(), 1.05*df_pos.sum(axis=1).max()])\n",
    "ax.legend(ncol=1, loc=\"upper center\", bbox_to_anchor=(1.15, 1), title=\"Legend for left y-axis\")\n",
    "ax2.legend(title=\"Legend for right y-axis\",  loc=\"upper right\")\n",
    "ax.set_ylabel(\"Total hydrogen balance [$GWh_{h2}$]\")\n",
    "ax.set_xlabel(\"\")\n",
    "ax.set_title(f\"Hydrogen Balance for {period} ({model})\", fontsize=16, pad=15,  **font1)\n",
    "fig.tight_layout()\n",
    "\n",
    "#plt.close()\n",
    "plt.show()\n",
    "\n",
    "fig.savefig(f\"{PLOT_DIR}/h2_bal_january_{model}.png\")"
   ],
   "metadata": {
    "collapsed": false,
    "pycharm": {
     "name": "#%%\n"
    }
   }
  },
  {
   "cell_type": "markdown",
   "source": [
    "#### May"
   ],
   "metadata": {
    "collapsed": false,
    "pycharm": {
     "name": "#%% md\n"
    }
   }
  },
  {
   "cell_type": "code",
   "execution_count": null,
   "outputs": [],
   "source": [
    "model = \"EXP\"\n",
    "carrier = [\"H2\"]\n",
    "loads = [\"land transport fuel cell\", \"H2 for industry\", \"H2 for shipping\"]\n",
    "loads_not_liquid = [\"land transport fuel cell\", \"H2 for industry\"]\n",
    "period = \"2013-05\"\n",
    "# exclude all technologies that contribute less than th\n",
    "th = 0.005\n",
    "\n",
    "# resolution\n",
    "# \"8h\", \"D\", \"W\", \"M\"\n",
    "res = \"3h\"\n",
    "\n",
    "if model == \"STST\":\n",
    "    n = stst\n",
    "elif model == \"EXP\":\n",
    "    n = exp\n",
    "\n",
    "nb_h2 = nodal_balance(n, carrier = carrier, time=period, aggregate=['component', 'bus'], energy=True)  # in units of energy\n",
    "# convert from MW to GW and unstack\n",
    "nb_h2 = nb_h2.unstack(level=[1]) / 1e3\n",
    "# calc loads\n",
    "loads_h2 = abs(nb_h2[loads_not_liquid].sum(axis=1))\n",
    "# drop loads\n",
    "nb_h2.drop(loads_not_liquid, axis=1, inplace=True)\n",
    "# rename unhandy column names\n",
    "nb_h2.rename(columns=carrier_renaming, inplace=True)\n",
    "\n",
    "####### plot #######\n",
    "\n",
    "# all year\n",
    "\n",
    "fig, ax = plt.subplots(figsize=(14, 8))\n",
    "\n",
    "# resample\n",
    "df = nb_h2.resample(res).sum()\n",
    "df_loads = loads_h2.resample(res).sum()\n",
    "\n",
    "# drop H2\n",
    "df.drop(\"H2\", axis=1, inplace=True)\n",
    "\n",
    "# split into df with positive and negative values\n",
    "df_neg, df_pos = df.clip(upper=0), df.clip(lower=0)\n",
    "\n",
    "df_pos_share = df_pos.sum() / df_pos.sum().sum()\n",
    "df_pos = df_pos[df_pos_share[df_pos_share > th].sort_values(ascending=False).index]\n",
    "df_neg_share = df_neg.sum() / df_neg.sum().sum()\n",
    "df_neg = df_neg[df_neg_share[df_neg_share > th].sort_values(ascending=False).index]\n",
    "# get colors\n",
    "c_neg, c_pos = [carrier_colors[col] for col in df_neg.columns], [carrier_colors[col] for col in df_pos.columns]\n",
    "\n",
    "# plot positive values\n",
    "ax = df_pos.plot.area(ax=ax, stacked=True, color=c_pos, linewidth=0.)\n",
    "\n",
    "# rename negative values that are also present on positive side, so that they are not shown and plot negative values\n",
    "f = lambda c: '_' + c\n",
    "cols = [f(c) if (c in df_pos.columns) else c for c in  df_neg.columns]\n",
    "cols_map = dict(zip(df_neg.columns, cols))\n",
    "ax = df_neg.rename(columns=cols_map).plot.area(ax=ax, stacked=True, color=c_neg, linewidth=0.)\n",
    "\n",
    "# plot lmps\n",
    "lmps = n.buses_t.marginal_price[n.buses[n.buses.carrier.isin(carrier)].index].mean(axis=1)[period]\n",
    "ax2 = lmps.plot(style=\"--\", color=\"black\", label=\"lmp (mean over buses) [$€/MWh_{h2}$]\", secondary_y=True)\n",
    "ax2.grid(False)\n",
    "# set limits of secondary y-axis\n",
    "ax2.set_ylim([ - 1.5 * lmps.max() * abs(df_neg.sum(axis=1).min()) /  df_pos.sum(axis=1).max() , 1.5 * lmps.max()])\n",
    "\n",
    "# plot loads\n",
    "df_loads.plot(style=\":\", color=\"black\", label=\"hydrogen loads\\n(without H2 for shipping)\")\n",
    "\n",
    "# rescale the y-axis\n",
    "ax.set_ylim([1.05*df_neg.sum(axis=1).min(), 1.05*df_pos.sum(axis=1).max()])\n",
    "ax.legend(ncol=1, loc=\"upper center\", bbox_to_anchor=(1.15, 1), title=\"Legend for left y-axis\")\n",
    "ax2.legend(title=\"Legend for right y-axis\",  loc=\"upper right\")\n",
    "ax.set_ylabel(\"Total hydrogen balance [$GWh_{h2}$]\")\n",
    "ax.set_xlabel(\"\")\n",
    "ax.set_title(f\"Hydrogen Balance for {period} ({model})\", fontsize=16, pad=15,  **font1)\n",
    "fig.tight_layout()\n",
    "\n",
    "#plt.close()\n",
    "plt.show()\n",
    "\n",
    "#fig.savefig(f\"{PLOT_DIR}/h2_bal_may_{model}.png\")"
   ],
   "metadata": {
    "collapsed": false,
    "pycharm": {
     "name": "#%%\n"
    }
   }
  },
  {
   "cell_type": "markdown",
   "source": [
    "## Focus on technologies"
   ],
   "metadata": {
    "collapsed": false,
    "pycharm": {
     "name": "#%% md\n"
    }
   }
  },
  {
   "cell_type": "markdown",
   "source": [
    "### Load duration curves"
   ],
   "metadata": {
    "collapsed": false,
    "pycharm": {
     "name": "#%% md\n"
    }
   }
  },
  {
   "cell_type": "code",
   "execution_count": null,
   "outputs": [],
   "source": [
    "df_stst_ts[[c + \"_gen_h2\" for c in c_h2_gen]]"
   ],
   "metadata": {
    "collapsed": false,
    "pycharm": {
     "name": "#%%\n"
    }
   }
  },
  {
   "cell_type": "code",
   "execution_count": null,
   "outputs": [],
   "source": [
    "df_exp_ts[[c + \"_gen_h2\" for c in c_h2_gen]]\n",
    "df_con = df_stst_ts[[c + \"_con_h2\" for c in c_h2_con]]"
   ],
   "metadata": {
    "collapsed": false,
    "pycharm": {
     "name": "#%%\n"
    }
   }
  },
  {
   "cell_type": "code",
   "execution_count": null,
   "outputs": [],
   "source": [
    "[c + \"_con_h2\" for c in c_h2_con]"
   ],
   "metadata": {
    "collapsed": false,
    "pycharm": {
     "name": "#%%\n"
    }
   }
  },
  {
   "cell_type": "code",
   "execution_count": null,
   "outputs": [],
   "source": [
    "# load duration curves of hydrogen generating and consuming technologies\n",
    "\n",
    "model = \"STST\"\n",
    "\n",
    "if model == \"STST\":\n",
    "    n = stst\n",
    "    df = df_stst_ts\n",
    "    df_gen = df_stst_ts[[c + \"_gen_h2\" for c in c_h2_gen]]\n",
    "    df_con = df_stst_ts[[c + \"_con_h2\" for c in c_h2_con]]\n",
    "elif model == \"EXP\":\n",
    "    n = exp\n",
    "    df = df_exp_ts\n",
    "    df_gen = df_exp_ts[['H2 Electrolysis_gen_h2']]\n",
    "    df_con = df_exp_ts[['H2 liquefaction_con_h2', 'Sabatier_con_h2', 'Fischer-Tropsch_con_h2']]\n",
    "\n",
    "fig, (ax1, ax2) = plt.subplots(ncols=2, nrows=1, figsize=(16, 7))\n",
    "\n",
    "for i, c in enumerate(df_gen.columns):\n",
    "    gen = df_gen[c] / 1e3\n",
    "    gen = pd.DataFrame(gen.sort_values(ascending=False)).set_index(pd.Index(np.linspace(0, 1, num=2920)))\n",
    "    ax1.plot(gen, color = carrier_colors[c.split('_')[0]], label=c.split('_')[0])\n",
    "\n",
    "# plot load\n",
    "load = (n.loads_t.p.loc[: , n.loads.carrier.isin(loads_not_liquid)].sum(axis=1) / 1000) * 3\n",
    "ax1.hlines(y=load.mean(), xmin=0, xmax=1, ls=\"dashed\", linewidth=1, color='saddlebrown', label=\"hydrogen load (mean)\")\n",
    "ax1.hlines(y=load.max(), xmin=0, xmax=1, ls=\"dashed\", linewidth=1, color='red', label = \"hydrogen load (max)\")\n",
    "\n",
    "ax1.set_ylabel(\"Generation [$GWh_{h2}$]\")\n",
    "ax1.set_xlabel(\"Fraction of total time\")\n",
    "ax1.set_facecolor(\"lightgrey\")\n",
    "ax1.legend()\n",
    "ax1.grid(True)\n",
    "ax1.set_title(f\"Load duration curves of hydrogen generating technologies ({model})\", fontsize=16, **font1)\n",
    "\n",
    "for i, c in enumerate(df_con.columns):\n",
    "    con = df_con[c] / 1e3\n",
    "    con = pd.DataFrame(con.sort_values(ascending=False)).set_index(pd.Index(np.linspace(0, 1, num=2920)))\n",
    "    ax2.plot(con, color = carrier_colors[c.split('_')[0]], label=c.split('_')[0])\n",
    "\n",
    "ax2.set_ylabel(\"Generation [$GWh_{h2}$]\")\n",
    "ax2.set_xlabel(\"Fraction of total time\")\n",
    "ax2.set_facecolor(\"lightgrey\")\n",
    "ax2.legend(ncol=2)\n",
    "ax2.grid(True)\n",
    "ax2.set_title(f\"Load duration curves of hydrogen consuming technologies ({model})\", fontsize=16, **font1)\n",
    "\n",
    "fig.tight_layout()\n",
    "#plt.close()\n",
    "plt.show()\n",
    "\n",
    "# fig.savefig(f\"{PLOT_DIR}/h2_load_dur_{model}.png\")"
   ],
   "metadata": {
    "collapsed": false,
    "pycharm": {
     "name": "#%%\n"
    }
   }
  },
  {
   "cell_type": "code",
   "execution_count": null,
   "outputs": [],
   "source": [
    "# new indices: cut off Fuel cell and SMR completely and SMR CC for exp\n",
    "c_h2_gen_stst = ['H2 Electrolysis', 'SMR CC']\n",
    "c_h2_gen_exp = ['H2 Electrolysis']\n",
    "c_h2_gen = ['H2 Electrolysis', 'SMR CC']\n",
    "c_h2_con = ['H2 liquefaction', 'Sabatier', 'Fischer-Tropsch']"
   ],
   "metadata": {
    "collapsed": false,
    "pycharm": {
     "name": "#%%\n"
    }
   }
  },
  {
   "cell_type": "markdown",
   "source": [
    "### Capacity factors"
   ],
   "metadata": {
    "collapsed": false,
    "pycharm": {
     "name": "#%% md\n"
    }
   }
  },
  {
   "cell_type": "code",
   "execution_count": null,
   "outputs": [],
   "source": [
    "# delete cf for SMR CC in exp\n",
    "df_exp_ons[\"SMR CC_cf_gen_h2\"] = pd.DataFrame(np.nan, index=df_exp_ons.index, columns = [\"SMR CC_cf_gen_h2\"])"
   ],
   "metadata": {
    "collapsed": false,
    "pycharm": {
     "name": "#%%\n"
    }
   }
  },
  {
   "cell_type": "markdown",
   "source": [
    "##### Boxplot"
   ],
   "metadata": {
    "collapsed": false,
    "pycharm": {
     "name": "#%% md\n"
    }
   }
  },
  {
   "cell_type": "code",
   "execution_count": null,
   "outputs": [],
   "source": [
    "# capacity factors across regions as boxplot (STST & EXP)\n",
    "\n",
    "# boxplot propertes\n",
    "medianprops = dict(color=\"black\",linewidth=1.5)\n",
    "meanprops = {\"marker\":\"d\",\"markerfacecolor\":\"white\", \"markeredgecolor\":\"black\"}\n",
    "flierprops= {'marker': 'x', 'markersize': 5, 'markeredgecolor': 'black'}\n",
    "whiskerprops = dict(linestyle='-',linewidth=1.0, color='black')\n",
    "\n",
    "# data\n",
    "stst_h2_gen = df_stst_ons[[c+ \"_cf_gen_h2\" for c in c_h2_gen] + [c + \"_cf_con_h2\" for c in c_h2_con]]\n",
    "stst_h2_gen = stst_h2_gen.values\n",
    "exp_h2_gen = df_exp_ons[[c+ \"_cf_gen_h2\" for c in c_h2_gen]+ [c + \"_cf_con_h2\" for c in c_h2_con]]\n",
    "#dh2ete entry for SMR CC\n",
    "exp_h2_gen = exp_h2_gen.values\n",
    "\n",
    "# Filter data using np.isnan\n",
    "mask_stst = ~np.isnan(stst_h2_gen)\n",
    "filtered_stst = [d[m] for d, m in zip(stst_h2_gen.T, mask_stst.T)]\n",
    "mask_exp = ~np.isnan(exp_h2_gen)\n",
    "filtered_exp = [d[m] for d, m in zip(exp_h2_gen.T, mask_exp.T)]\n",
    "\n",
    "cf_index = [c+ \"_cf_gen_h2\" for c in c_h2_gen] + [c + \"_cf_con_h2\" for c in c_h2_con]\n",
    "gen_con_index = [c+ \"_gen_h2\" for c in c_h2_gen] + [c + \"_con_h2\" for c in c_h2_con]\n",
    "index = c_h2_gen + c_h2_con\n",
    "ticks = [carrier_renaming.get(n, n) for n in index]\n",
    "fig, ax = plt.subplots(figsize=(12, 6))\n",
    "\n",
    "stst_plot = plt.boxplot(filtered_stst,\n",
    "                        positions=np.array(np.arange(len(ticks)))*2.0-0.35,\n",
    "                        widths=0.6,\n",
    "                        patch_artist=True,\n",
    "                        showmeans=True,\n",
    "                        meanprops=meanprops,\n",
    "                        medianprops=medianprops,\n",
    "                        flierprops=flierprops,\n",
    "                        whiskerprops=whiskerprops,\n",
    "                        zorder=1\n",
    "                        )\n",
    "\n",
    "exp_plot = plt.boxplot(filtered_exp,\n",
    "                       positions=np.array(np.arange(len(ticks)))*2.0+0.35,\n",
    "                       widths=0.6,\n",
    "                       patch_artist=True,\n",
    "                       showmeans=True,\n",
    "                       meanprops=meanprops,\n",
    "                       medianprops=medianprops,\n",
    "                       flierprops=flierprops,\n",
    "                       whiskerprops=whiskerprops,\n",
    "                       zorder=2\n",
    "                       )\n",
    "\n",
    "# generation weighted mean\n",
    "gwm_cf_stst =np.multiply(df_stst_ons[cf_index], (df_stst_ons[gen_con_index] / df_stst_ons[gen_con_index].sum())).sum()\n",
    "gwm_cf_exp =np.multiply(df_exp_ons[cf_index], (df_exp_ons[gen_con_index] / df_exp_ons[gen_con_index].sum())).sum()\n",
    "# set value for SMR CC in exp to nan\n",
    "gwm_cf_exp[\"SMR CC_cf_gen_h2\"] = np.nan\n",
    "\n",
    "ax.plot(np.array(np.arange(len(ticks)))*2.0-0.35, gwm_cf_stst.transpose(),\"x\", marker='*', color=\"red\", markersize= 10, markerfacecolor=\"white\", zorder=3)\n",
    "ax.plot(np.array(np.arange(len(ticks)))*2.0+0.35, gwm_cf_exp.transpose(),\"x\", marker='*', color=\"red\", markersize= 10, markerfacecolor=\"white\",zorder=4)\n",
    "\n",
    "\n",
    "for box, col in zip(stst_plot['boxes'],[carrier_colors[c] for c in index]):\n",
    "    # change outline color\n",
    "    box.set_facecolor(col)\n",
    "    box.set_linestyle('--')\n",
    "\n",
    "for box, col in zip(exp_plot['boxes'],[carrier_colors[c] for c in index]):\n",
    "    # change outline color\n",
    "    box.set_facecolor(col)\n",
    "\n",
    "# sample sizes\n",
    "for i, sample_size in enumerate(df_stst_ons[cf_index].count()):\n",
    "    ax.annotate(sample_size, xy=(0,0),  xycoords='axes fraction',\n",
    "        xytext=((i+0.35)/len(index),1.01), textcoords='axes fraction', color=\"blue\")\n",
    "\n",
    "#for i, sample_size in enumerate(df_exp_ons[cf_index].count()):\n",
    "#    ax.annotate(sample_size, xy=(0,0),  xycoords='axes fraction',\n",
    "#        xytext=((i+0.55)/len(index),1), textcoords='axes fraction', color=\"red\")\n",
    "\n",
    "# explanations\n",
    "plt.xticks(np.arange(0, len(ticks) * 2, 2), ticks)\n",
    "plt.xticks(rotation=90)\n",
    "# plt.title(\"Market values of electricity generating technologies across the regions (STST vs. EXP)\", fontsize=16, pad=20,  **font1)\n",
    "\n",
    "# cosmetics\n",
    "ax.patch.set_facecolor('lightgrey')\n",
    "ax.patch.set_alpha(0.5)\n",
    "ax.grid(True)\n",
    "\n",
    "# legend\n",
    "patch1 = matplotlib.patches.Patch(ls=\"--\", facecolor=\"white\", edgecolor=\"black\")\n",
    "patch2 = matplotlib.patches.Patch(ls=\"-\", facecolor=\"white\", edgecolor=\"black\")\n",
    "ax.legend([patch1, patch2], ['STST', 'EXP'], loc=\"lower right\")\n",
    "\n",
    "fig.tight_layout()\n",
    "plt.show()\n",
    "\n",
    "fig.savefig(f\"{PLOT_DIR}/h2_gen_con_cap_fac_STST_EXP.png\")"
   ],
   "metadata": {
    "collapsed": false,
    "pycharm": {
     "name": "#%%\n"
    }
   }
  },
  {
   "cell_type": "code",
   "execution_count": null,
   "outputs": [],
   "source": [],
   "metadata": {
    "collapsed": false,
    "pycharm": {
     "name": "#%%\n"
    }
   }
  },
  {
   "cell_type": "markdown",
   "source": [
    "##### Map"
   ],
   "metadata": {
    "collapsed": false,
    "pycharm": {
     "name": "#%% md\n"
    }
   }
  },
  {
   "cell_type": "code",
   "execution_count": null,
   "outputs": [],
   "source": [
    "# capacity factors across regions as map\n",
    "\n",
    "model = \"STST\"\n",
    "\n",
    "if model == \"STST\":\n",
    "    df = df_stst_ons\n",
    "    c_h2_gen_index = c_h2_gen_stst\n",
    "\n",
    "elif model == \"EXP\":\n",
    "    df = df_exp_ons\n",
    "    c_h2_gen_index = c_h2_gen_exp\n",
    "\n",
    "carriers = c_h2_gen + c_h2_con\n",
    "col_names = [[c+ \"_cf_gen_h2\" for c in c_h2_gen_index ] + [c + \"_cf_con_h2\" for c in c_h2_con]]\n",
    "\n",
    "cf_index = [c+ \"_cf_gen_h2\" for c in c_h2_gen_index] + [c + \"_cf_con_h2\" for c in c_h2_con]\n",
    "gen_con_index = [c+ \"_gen_h2\" for c in c_h2_gen_index] + [c + \"_con_h2\" for c in c_h2_con]\n",
    "index = c_h2_gen_index + c_h2_con\n",
    "ticks = [carrier_renaming.get(n, n) for n in index]\n",
    "\n",
    "fig, axs = plt.subplots(ncols=2, nrows=math.ceil(len(index)/2), subplot_kw={'projection': ccrs.EqualEarth()},\n",
    "                        figsize=(14, math.ceil(len(index)/2) * 6))\n",
    "crs = ccrs.EqualEarth()\n",
    "\n",
    "for i, ax in enumerate(axs.reshape(-1)):\n",
    "\n",
    "    if i >= len(index):\n",
    "        ax.axis('off')\n",
    "        continue\n",
    "\n",
    "    ax.add_feature(cartopy.feature.BORDERS, edgecolor='black', linewidth=0.5)\n",
    "    ax.coastlines(edgecolor='black', linewidth=0.5)\n",
    "    ax.set_facecolor('white')\n",
    "    ax.add_feature(cartopy.feature.OCEAN, color='azure')\n",
    "\n",
    "    df.to_crs(crs.proj4_init).plot(column=f\"{cf_index[i]}\",\n",
    "                                   ax=ax,\n",
    "                                   cmap=plt.get_cmap(\"magma_r\"),\n",
    "                                   linewidth=0.05,\n",
    "                                   edgecolor = 'grey',\n",
    "                                   legend=True,\n",
    "                                   legend_kwds={'label':\"capacity factors\",'orientation': \"vertical\",'shrink' : 0.9}\n",
    "                                   )\n",
    "\n",
    "    max_size = df[gen_con_index[i]].abs().max()\n",
    "    # blue if negative and green if positive\n",
    "    colors = ['darkblue' if (x < 0) else 'darkgreen' for x in df[gen_con_index[i]] ]\n",
    "\n",
    "    df.to_crs(crs.proj4_init).centroid.plot(ax=ax, sizes=(df[gen_con_index[i]].abs() / max_size) * 300,  color=colors, edgecolor=\"white\")\n",
    "    circle1 = Line2D([], [], color=\"white\", marker='o', markerfacecolor=\"darkgreen\", markeredgecolor=\"white\", markersize=10)\n",
    "    circle2 = Line2D([], [], color=\"white\", marker='o', markerfacecolor=\"darkblue\", markeredgecolor=\"white\", markersize=10)\n",
    "    circle3 = Line2D([], [], color=\"white\", marker='o', markerfacecolor=\"white\", markeredgecolor=\"black\", markersize=10)\n",
    "\n",
    "    unit = \"$TWh_{h2}$\" if max_size > 1e3 else \"$GWh_{h2}$\"\n",
    "    max_size = max_size / 1e3 if max_size > 1e3 else max_size\n",
    "    ax.legend((circle1, circle2, circle3), ('Generation', 'Consumption', f\"max circle size:\\n{round(max_size)} {unit}\"), numpoints=1, loc=\"upper left\", prop={'size': 9})\n",
    "\n",
    "    # always select same section\n",
    "    xmin, ymin, xmax, ymax = df_stst_ons.to_crs(crs.proj4_init).total_bounds\n",
    "    pad = 1 * 1e5  # add a padding around the geometry\n",
    "    ax.set_xlim(xmin-pad, xmax+pad)\n",
    "    ax.set_ylim(ymin-pad, ymax+pad)\n",
    "\n",
    "\n",
    "    ax.set_title(f\"{ticks[i]}\", fontsize=16, **font1)\n",
    "\n",
    "# fig.suptitle(f\"Spatial Differences in the electricity generation of the VRE technologies ({model})\", fontsize=16, **font1)\n",
    "fig.tight_layout()\n",
    "plt.show()\n",
    "\n",
    "fig.savefig(f\"{PLOT_DIR}/cap_fac_h2_gen_con_{model}.png\")"
   ],
   "metadata": {
    "collapsed": false,
    "pycharm": {
     "name": "#%%\n"
    }
   }
  },
  {
   "cell_type": "markdown",
   "source": [
    "### Generation and capacity difference"
   ],
   "metadata": {
    "collapsed": false,
    "pycharm": {
     "name": "#%% md\n"
    }
   }
  },
  {
   "cell_type": "code",
   "execution_count": null,
   "outputs": [],
   "source": [
    "c_h2_gen_index = c_h2_gen\n",
    "# remove H2 liquefaction as the capacity and the generation is exactly tehr same in both scenarios\n",
    "c_h2_con_index = [x for x in c_h2_con if x != 'H2 liquefaction']\n",
    "\n",
    "cap_index = [c+ \"_cap_gen_h2\" for c in c_h2_gen_index] + [c + \"_cap_con_h2\" for c in c_h2_con_index]\n",
    "gen_con_index = [c+ \"_gen_h2\" for c in c_h2_gen_index] + [c + \"_con_h2\" for c in c_h2_con_index]\n",
    "index = c_h2_gen_index + c_h2_con_index\n",
    "ticks = [carrier_renaming.get(n, n) for n in index]\n",
    "\n",
    "# STST - EXP\n",
    "for c in cap_index:\n",
    "    df_stst_ons[f\"{c}_STST-EXP\"] = df_stst_ons[c] - df_exp_ons[c]\n",
    "\n",
    "fig, axs = plt.subplots(ncols=2, nrows=math.ceil(len(index)/2), subplot_kw={'projection': ccrs.EqualEarth()},\n",
    "                        figsize=(14, math.ceil(len(index)/2) * 6))\n",
    "crs = ccrs.EqualEarth()\n",
    "\n",
    "for i, ax in enumerate(axs.reshape(-1)):\n",
    "\n",
    "    if i >= len(index):\n",
    "        ax.axis('off')\n",
    "        continue\n",
    "\n",
    "    abs_max = df_stst_ons[f\"{cap_index[i]}_STST-EXP\"].abs().max()\n",
    "    #unit_cap = \"TW\" if abs_max > 1e4 else \"GW\"\n",
    "    #df[f\"{carriers[i]}_cap_STST-EXP\"] = (df[f\"{carriers[i]}_cap_STST-EXP\"] / 1e3) if abs_max > 1e4 else df[f\"{carriers[i]}_cap_STST-EXP\"]\n",
    "    #abs_max = abs_max / 1e3 if abs_max > 1e4 else abs_max\n",
    "\n",
    "    ax.add_feature(cartopy.feature.BORDERS, edgecolor='black', linewidth=0.5)\n",
    "    ax.coastlines(edgecolor='black', linewidth=0.5)\n",
    "    ax.set_facecolor('white')\n",
    "    ax.add_feature(cartopy.feature.OCEAN, color='azure')\n",
    "\n",
    "    df_stst_ons.to_crs(crs.proj4_init).plot(column=f\"{cap_index[i]}_STST-EXP\",\n",
    "                                   ax=ax,\n",
    "                                   cmap=plt.get_cmap('RdYlGn'),\n",
    "                                   vmax=abs_max,\n",
    "                                   vmin=-abs_max,\n",
    "                                   linewidth=0.05,\n",
    "                                   edgecolor = 'grey',\n",
    "                                   legend=True,\n",
    "                                   legend_kwds={'label':\"Capacity differences ($GW_{h2}$)\",'orientation': \"vertical\",'shrink' : 0.8}\n",
    "                                   )\n",
    "\n",
    "    # difference in generation (STST-EXP)\n",
    "    gen_diff = df_stst_ons[gen_con_index[i]] - df_exp_ons[gen_con_index[i]]\n",
    "    # red if negative and green if positive\n",
    "    colors = ['red' if (x < 0) else 'green' for x in gen_diff ]\n",
    "\n",
    "    max_size = abs(gen_diff).max()\n",
    "    df_stst_ons.to_crs(crs.proj4_init).centroid.plot(ax=ax, sizes=(abs(gen_diff) / max_size) * 500,  color=colors, edgecolor=\"white\")\n",
    "    circle1 = Line2D([], [], color=\"white\", marker='o', markerfacecolor=\"green\", markeredgecolor=\"white\", markersize=10)\n",
    "    circle2 = Line2D([], [], color=\"white\", marker='o', markerfacecolor=\"red\", markeredgecolor=\"white\", markersize=10)\n",
    "    circle3 = Line2D([], [], color=\"white\", marker='o', markerfacecolor=\"white\", markeredgecolor=\"black\", markersize=10)\n",
    "\n",
    "    unit = \"$TWh_{h2}$\" if max_size > 1e3 else \"$GWh_{h2}$\"\n",
    "    max_size = max_size / 1e3 if max_size > 1e3 else max_size\n",
    "    ax.legend((circle1, circle2, circle3), ('Increased generation in STST', 'Increased generation in EXP', f\"max circle size: {round(max_size)} {unit}\"), numpoints=1, loc=\"upper left\")\n",
    "\n",
    "\n",
    "    # always select same section\n",
    "    xmin, ymin, xmax, ymax = df_stst_ons.to_crs(crs.proj4_init).total_bounds\n",
    "    pad = 1 * 1e5  # add a padding around the geometry\n",
    "    ax.set_xlim(xmin-pad, xmax+pad)\n",
    "    ax.set_ylim(ymin-pad, ymax+pad)\n",
    "\n",
    "    ax.set_title(f\"{ticks[i]} capacity (STST - EXP)\", fontsize=16, **font1)\n",
    "\n",
    "# fig.suptitle(\"Spatial Differences in the capacity and generation for electricity generating VRE technologies (STST -EXP)\", fontsize=16, **font1)\n",
    "fig.tight_layout()\n",
    "\n",
    "#plt.close()\n",
    "plt.show()\n",
    "\n",
    "fig.savefig(f\"{PLOT_DIR}/h2_cap__STST-EXP_map_all.png\")"
   ],
   "metadata": {
    "collapsed": false,
    "pycharm": {
     "name": "#%%\n"
    }
   }
  },
  {
   "cell_type": "code",
   "execution_count": null,
   "outputs": [],
   "source": [
    "df_stst_ts[\"H2 liquefaction_gen_h2\"]"
   ],
   "metadata": {
    "collapsed": false,
    "pycharm": {
     "name": "#%%\n"
    }
   }
  },
  {
   "cell_type": "markdown",
   "source": [
    "### Generation heatmap"
   ],
   "metadata": {
    "collapsed": false,
    "pycharm": {
     "name": "#%% md\n"
    }
   }
  },
  {
   "cell_type": "code",
   "execution_count": null,
   "outputs": [],
   "source": [
    "# Generation heatmap and average\n",
    "\n",
    "model = \"STST\"\n",
    "\n",
    "if model == \"STST\":\n",
    "    n = stst\n",
    "    df_1 = df_stst_ts\n",
    "    c_h2_gen_index = c_h2_gen_stst\n",
    "elif model == \"EXP\":\n",
    "    n = exp\n",
    "    df_1 = df_exp_ts\n",
    "    c_h2_gen_index = c_h2_gen_exp\n",
    "\n",
    "c_h2_con_index = c_h2_con\n",
    "\n",
    "cap_index = [c+ \"_cap_gen_h2\" for c in c_h2_gen_index] + [c + \"_cap_con_h2\" for c in c_h2_con_index]\n",
    "gen_con_index = [c+ \"_gen_h2\" for c in c_h2_gen_index] + [c + \"_con_h2\" for c in c_h2_con_index]\n",
    "index = c_h2_gen_index + c_h2_con_index\n",
    "ticks = [carrier_renaming.get(n, n) for n in index]\n",
    "\n",
    "\n",
    "fig, axs = plt.subplots(nrows=math.ceil(len(index)/2), ncols=2, figsize=(18, math.ceil(len(index)/2)*5))\n",
    "\n",
    "for i, ax in enumerate(axs.reshape(-1)):\n",
    "\n",
    "    if i >= len(index):\n",
    "        ax.axis('off')\n",
    "        continue\n",
    "\n",
    "    # generation in TWh\n",
    "    df = df_1[gen_con_index[i]] / 1e3\n",
    "\n",
    "    hours = df.index.hour.unique()[::-1]\n",
    "    df_start = pd.DataFrame(index=pd.Index(df.index.date).unique())\n",
    "\n",
    "    for hour in hours:\n",
    "        df_start[str(hour)] = df[df.index.hour==hour].values\n",
    "\n",
    "    sns.heatmap(df_start.transpose(),\n",
    "                ax=ax,\n",
    "                cmap=plt.get_cmap(\"magma_r\"),\n",
    "                linewidth=0.001,\n",
    "                xticklabels=15,\n",
    "                cbar_kws={'label': 'Generation in GWh', 'pad': 0.1})\n",
    "\n",
    "    ax.set_title(f\"{ticks[i]}\", fontsize=16, **font1)\n",
    "    ax.set_ylabel(\"hour of the day\", fontsize=12, **font1)\n",
    "    ax.set_xlabel(\"day of the year\", fontsize=12, **font1)\n",
    "\n",
    "    # Rewrite the y labels\n",
    "    x_labels = ax.get_xticks()\n",
    "    ax.xaxis.set_major_formatter(matplotlib.dates.DateFormatter('%d-%b'))\n",
    "\n",
    "    # Plot generation profile on second y-axis\n",
    "    # resample and transform axis of date to index (heatmap works not with dates)\n",
    "    df2 = df.resample(\"5D\").sum() / 1e3\n",
    "    df2 = df2[df2.index.year == 2013]\n",
    "    df2.index = df2.index.dayofyear - 0.5\n",
    "\n",
    "    ax2 = ax.twinx()\n",
    "    ax2.plot(df2, color=\"white\", lw=2, path_effects=[pe.Stroke(linewidth=3, foreground='black'), pe.Normal()])\n",
    "    ax2.legend( loc='lower right', labels=['Generation (right axis)'])\n",
    "    ax2.set_ylabel(\"Generation in TWh (5-day sum)\", fontsize=12, **font1)\n",
    "    ax2.grid(False)\n",
    "\n",
    "fig.tight_layout(pad=3)\n",
    "plt.show()\n",
    "\n",
    "fig.savefig(f\"{PLOT_DIR}/h2_gen_con_profiles_{model}.png\")"
   ],
   "metadata": {
    "collapsed": false,
    "pycharm": {
     "name": "#%%\n"
    }
   }
  },
  {
   "cell_type": "markdown",
   "source": [
    "## Backup (have look at)"
   ],
   "metadata": {
    "collapsed": false,
    "pycharm": {
     "name": "#%% md\n"
    }
   }
  },
  {
   "cell_type": "markdown",
   "source": [
    "## Generation"
   ],
   "metadata": {
    "collapsed": false,
    "pycharm": {
     "name": "#%% md\n"
    }
   }
  },
  {
   "cell_type": "code",
   "execution_count": null,
   "outputs": [],
   "source": [
    "# how long are the electrolyzers running\n",
    "# load duration curve\n",
    "# capacity factors\n",
    "# pie chart of which electricity (from which source?) is used for electrolysers (is that possible)"
   ],
   "metadata": {
    "collapsed": false,
    "pycharm": {
     "name": "#%%\n"
    }
   }
  },
  {
   "cell_type": "markdown",
   "source": [
    "![](../../../../Pictures/Screenshots/Screenshot_20230215_163455.png)"
   ],
   "metadata": {
    "collapsed": false,
    "pycharm": {
     "name": "#%% md\n"
    }
   }
  },
  {
   "cell_type": "code",
   "execution_count": null,
   "outputs": [],
   "source": [
    "# get generation of all carriers\n",
    "gen_stst = pd.DataFrame(index=stst.generators_t.p.index)\n",
    "gen_exp = pd.DataFrame(index=exp.generators_t.p.index)\n",
    "\n",
    "for n, gen in zip([stst, exp], [gen_stst, gen_exp]):\n",
    "\n",
    "    for carrier in n.generators.carrier.unique():\n",
    "        gen[carrier]= n.generators_t.p.loc[:, n.generators.carrier == carrier].mean(axis=1)\n",
    "\n",
    "    for carrier in n.links.carrier.unique():\n",
    "        gen[carrier]= abs(n.links_t.p1.loc[:, n.links.carrier == carrier]).mean(axis=1)\n",
    "\n",
    "    for carrier in n.storage_units.carrier.unique():\n",
    "        gen[carrier]= n.storage_units_t.p.loc[:, n.storage_units.carrier == carrier].mean(axis=1)\n",
    "\n",
    "gen_stst.head()\n",
    "gen_exp.head()"
   ],
   "metadata": {
    "collapsed": false,
    "pycharm": {
     "name": "#%%\n"
    }
   }
  },
  {
   "cell_type": "code",
   "execution_count": null,
   "outputs": [],
   "source": [
    "# why is this in a whole other magnitude than capacity?\n",
    "# does sorting the whole df make sense? shouldtn the be sorted seperately?\n",
    "\n",
    "df = pd.DataFrame(gen_stst[\"H2 Electrolysis\"].sort_values(ascending=False)).set_index(pd.Index(np.linspace(0, 1, num=2920)))\n",
    "df[\"H2 Electrolysis no h2\"] = pd.DataFrame(gen_exp[\"H2 Electrolysis\"].sort_values(ascending=False)).set_index(pd.Index(np.linspace(0, 1, num=2920)))\n",
    "df.columns = [\"no h2 network\",\"with h2 network\" ]\n",
    "\n",
    "plt.figure(figsize=(10, 6))\n",
    "df.plot()\n",
    "plt.title(\"Electrolyzer system load duration curve\")\n",
    "plt.ylabel(\"Electrolyzer load [MWh]\")\n",
    "plt.xlabel(\"Fraction of total time\")\n",
    "plt.legend()\n",
    "plt.show()"
   ],
   "metadata": {
    "collapsed": false,
    "pycharm": {
     "name": "#%%\n"
    }
   }
  },
  {
   "cell_type": "code",
   "execution_count": null,
   "outputs": [],
   "source": [],
   "metadata": {
    "collapsed": false,
    "pycharm": {
     "name": "#%%\n"
    }
   }
  },
  {
   "cell_type": "markdown",
   "source": [
    "## Storage"
   ],
   "metadata": {
    "collapsed": false,
    "pycharm": {
     "name": "#%% md\n"
    }
   }
  },
  {
   "cell_type": "code",
   "execution_count": null,
   "outputs": [],
   "source": [
    "stst.links[stst.links.carrier == \"H2 Electrolysis\"].efficiency.unique()  # Electrolysis: 68 % efficiency\n",
    "stst.links[stst.links.carrier == \"H2 Fuel Cell\"].efficiency.unique()  # Fuel Cell: 50 % efficiency\n",
    "stst.links[stst.links.carrier == \"battery charger\"].efficiency.unique()  # Fuel Cell: 0.979796 efficiency\n",
    "stst.links[stst.links.carrier == \"battery discharger\"].efficiency.unique()  # Fuel Cell: 0.979796 efficiency\n",
    "# storage losses?"
   ],
   "metadata": {
    "collapsed": false,
    "pycharm": {
     "name": "#%%\n"
    }
   }
  },
  {
   "cell_type": "markdown",
   "source": [
    "![](../../../../Pictures/Screenshots/Screenshot_20230219_110123.png)\n",
    "Colbertado"
   ],
   "metadata": {
    "collapsed": false,
    "pycharm": {
     "name": "#%% md\n"
    }
   }
  },
  {
   "cell_type": "code",
   "execution_count": null,
   "outputs": [],
   "source": [
    "# H2 storage capcity\n",
    "index_h2stores_no = stst.stores[stst.stores.carrier == \"H2\"].index\n",
    "stst.stores[stst.stores.carrier == \"H2\"]\n",
    "# Optimised nominal energy capacity outputed by OPF.\n",
    "df = stst.stores.e_nom_opt[index_h2stores_no]\n",
    "df.index = df.index.map(stst.stores.bus).map(stst.buses.location)\n",
    "onshore_regions[\"h2_cap_no\"] = df\n",
    "plt.plot(df)\n",
    "fig = plt.figure(figsize=(12, 8))\n",
    "crs = ccrs.EqualEarth()\n",
    "\n",
    "ax = plt.axes(projection=ccrs.EqualEarth())\n",
    "ax.add_feature(cartopy.feature.BORDERS, edgecolor='black', linewidth=0.5)\n",
    "ax.coastlines(edgecolor='black', linewidth=0.5)\n",
    "ax.set_facecolor('white')\n",
    "ax.add_feature(cartopy.feature.OCEAN, color='azure')\n",
    "ax.set_title(\"h2_cap\", fontsize=16, **font1)\n",
    "\n",
    "onshore_regions.to_crs(crs.proj4_init).plot(column=\"h2_cap_no\",\n",
    "                                            ax=ax,\n",
    "                                            cmap=plt.get_cmap(\"magma_r\"),\n",
    "                                            linewidth=0.05,\n",
    "                                            edgecolor='grey',\n",
    "                                            legend=True,\n",
    "                                            legend_kwds={'label': \"MWh\",\n",
    "                                                         'orientation': \"vertical\"})\n",
    "\n",
    "plt.show()"
   ],
   "metadata": {
    "collapsed": false,
    "pycharm": {
     "name": "#%%\n"
    }
   }
  },
  {
   "cell_type": "code",
   "execution_count": null,
   "outputs": [],
   "source": [
    "# Why are the hydrogen capacities located there?\n",
    "# calc Correlation with wind, solar and other power plant capacity (e.g."
   ],
   "metadata": {
    "collapsed": false,
    "pycharm": {
     "name": "#%%\n"
    }
   }
  },
  {
   "cell_type": "markdown",
   "source": [
    "#### Feed-in and feed-out pattern"
   ],
   "metadata": {
    "collapsed": false,
    "pycharm": {
     "name": "#%% md\n"
    }
   }
  },
  {
   "cell_type": "code",
   "execution_count": null,
   "outputs": [],
   "source": [
    "# Energy as calculated by the OPF.\n",
    "index_h2stores = stst.stores[stst.stores.carrier == \"H2\"].index\n",
    "\n",
    "n.stores_t.p[index_h2stores].sum(axis=1).plot()\n",
    "plt.show()"
   ],
   "metadata": {
    "collapsed": false,
    "pycharm": {
     "name": "#%%\n"
    }
   }
  },
  {
   "cell_type": "markdown",
   "source": [
    "#### Storage level over time"
   ],
   "metadata": {
    "collapsed": false,
    "pycharm": {
     "name": "#%% md\n"
    }
   }
  },
  {
   "cell_type": "code",
   "execution_count": null,
   "outputs": [],
   "source": [
    "# Energy as calculated by the OPF.\n",
    "n.stores_t.e[index_h2stores].sum(axis=1).plot()\n",
    "plt.show()"
   ],
   "metadata": {
    "collapsed": false,
    "pycharm": {
     "name": "#%%\n"
    }
   }
  },
  {
   "cell_type": "code",
   "execution_count": null,
   "outputs": [],
   "source": [
    "# storage level of 10 largest stores\n",
    "index = n.stores.e_nom_opt[index_h2stores].sort_values(ascending=False).head(10).index\n",
    "\n",
    "# yearly plot\n",
    "for store in index:\n",
    "    fig, ax = plt.subplots()\n",
    "    n.stores_t.e[store].plot(ax=ax, ylabel=store)"
   ],
   "metadata": {
    "collapsed": false,
    "pycharm": {
     "name": "#%%\n"
    }
   }
  },
  {
   "cell_type": "markdown",
   "source": [
    "## Coming from Storage and Going to Storage"
   ],
   "metadata": {
    "collapsed": false,
    "pycharm": {
     "name": "#%% md\n"
    }
   }
  },
  {
   "cell_type": "code",
   "execution_count": null,
   "outputs": [],
   "source": [
    "#### Where ist the hydrogen that is stored coming from and going to?\n",
    "\n",
    "fig, axs = plt.subplots(nrows=2, ncols=2, figsize=(15, 11))\n",
    "\n",
    "for n in [stst, exp]:\n",
    "\n",
    "    h2_buses = n.stores[n.stores.carrier == \"H2\"].bus\n",
    "\n",
    "    # H2 delivering technologies\n",
    "    n.links[n.links.bus1.isin(h2_buses)]\n",
    "    i_h2 = n.links[n.links.bus1.isin(h2_buses)].index\n",
    "    df = pd.DataFrame(n.links_t.p1[i_h2].sum())\n",
    "    df[\"carrier\"] = df.index.map(n.links.carrier).values\n",
    "    result_del = abs(df.groupby(\"carrier\").sum())\n",
    "\n",
    "    # H2 receiving technologies\n",
    "    n.links[n.links.bus0.isin(h2_buses)]\n",
    "    i_h2 = n.links[n.links.bus0.isin(h2_buses)].index\n",
    "    df = pd.DataFrame(n.links_t.p0[i_h2].sum())\n",
    "    df[\"carrier\"] = df.index.map(n.links.carrier).values\n",
    "    result_rec = abs(df.groupby(\"carrier\").sum())\n",
    "\n",
    "    if n==stst:\n",
    "        ax_del=axs[0, 0]\n",
    "        ax_rec=axs[0, 1]\n",
    "        title_del=f\"Delivering H2 to stroage (STST)\"\n",
    "        title_rec=f\"Recieving H2 from storage (STST)\"\n",
    "\n",
    "    elif n==exp:\n",
    "        ax_del=axs[1, 0]\n",
    "        ax_rec=axs[1, 1]\n",
    "        title_del=f\"Delivering H2 to stroage (EXP)\"\n",
    "        title_rec=f\"Delivering H2 to stroage (EXP)\"\n",
    "\n",
    "    # plot delivering\n",
    "    c = [carrier_colors[col] for col in result_del.index]\n",
    "    percents = result_del.to_numpy() * 100 / result_del.to_numpy().sum()\n",
    "    labels = ['%s (%1.1f %%)' % (l, s) for l, s in zip(result_del.index, percents)]\n",
    "\n",
    "    patches, texts = ax_del.pie(result_del.values.flatten(), colors=c, startangle=0, labels=labels)\n",
    "    ax_del.axis('equal')\n",
    "    ax_del.set_title(title_del, pad=20, fontweight=\"bold\")\n",
    "\n",
    "    # plot receiving\n",
    "    c = [carrier_colors[col] for col in result_rec.index]\n",
    "    percents = result_rec.to_numpy() * 100 / result_rec.to_numpy().sum()\n",
    "    labels = ['%s (%1.1f %%)' % (l, s) for l, s in zip(result_rec.index, percents)]\n",
    "\n",
    "    patches, texts = ax_rec.pie(result_rec.values.flatten(), colors=c, startangle=0, labels=labels)\n",
    "    ax_rec.axis('equal')\n",
    "    ax_rec.set_title(title_rec, pad=20, fontweight=\"bold\")\n",
    "\n",
    "fig.tight_layout(pad=5)\n",
    "plt.show()"
   ],
   "metadata": {
    "collapsed": false,
    "pycharm": {
     "name": "#%%\n"
    }
   }
  },
  {
   "cell_type": "code",
   "execution_count": null,
   "outputs": [],
   "source": [
    "n = exp\n",
    "h2_buses = n.stores[n.stores.carrier == \"H2\"].bus"
   ],
   "metadata": {
    "collapsed": false,
    "pycharm": {
     "name": "#%%\n"
    }
   }
  },
  {
   "cell_type": "code",
   "execution_count": null,
   "outputs": [],
   "source": [
    "# technologies delivering the hydrogen\n",
    "n.links[n.links.bus1.isin(h2_buses)].carrier.unique()"
   ],
   "metadata": {
    "collapsed": false,
    "pycharm": {
     "name": "#%%\n"
    }
   }
  },
  {
   "cell_type": "code",
   "execution_count": null,
   "outputs": [],
   "source": [
    "# technologies receiving the hydrogen\n",
    "n.links[n.links.bus0.isin(h2_buses)].carrier.unique()"
   ],
   "metadata": {
    "collapsed": false,
    "pycharm": {
     "name": "#%%\n"
    }
   }
  },
  {
   "cell_type": "code",
   "execution_count": null,
   "outputs": [],
   "source": [
    "# links indices\n",
    "i_h2 = n.links[n.links.bus0.isin(h2_buses)].index\n",
    "# generation\n",
    "df = pd.DataFrame(n.links_t.p0[i_h2].sum())\n",
    "# carrier\n",
    "df[\"carrier\"] = df.index.map(n.links.carrier).values"
   ],
   "metadata": {
    "collapsed": false,
    "pycharm": {
     "name": "#%%\n"
    }
   }
  },
  {
   "cell_type": "code",
   "execution_count": null,
   "outputs": [],
   "source": [
    "result = df.groupby(\"carrier\").sum()\n",
    "result"
   ],
   "metadata": {
    "collapsed": false,
    "pycharm": {
     "name": "#%%\n"
    }
   }
  },
  {
   "cell_type": "code",
   "execution_count": null,
   "outputs": [],
   "source": [
    "# receiving hydrogen from stores\n",
    "# sign of pipelines are wrong but does not matter as the amounts are the same\n",
    "\n",
    "fig, axs = plt.subplots(nrows=1, ncols=2, figsize=(15, 11))\n",
    "\n",
    "for n, ax in zip([stst, exp],axs):\n",
    "\n",
    "    # data\n",
    "    h2_buses = n.stores[n.stores.carrier == \"H2\"].bus\n",
    "    # links of reciever\n",
    "    n.links[n.links.bus0.isin(h2_buses)]\n",
    "    # links indices\n",
    "    i_h2 = n.links[n.links.bus0.isin(h2_buses)].index\n",
    "    # generation\n",
    "    df = pd.DataFrame(n.links_t.p0[i_h2].sum())\n",
    "    # carrier\n",
    "    df[\"carrier\"] = df.index.map(n.links.carrier).values\n",
    "    result = abs(df.groupby(\"carrier\").sum())\n",
    "\n",
    "    c = [carrier_colors[col] for col in result.index]\n",
    "    percents = result.to_numpy() * 100 / result.to_numpy().sum()\n",
    "    labels = ['%s (%1.1f %%)' % (l, s) for l, s in zip(result.index, percents)]\n",
    "\n",
    "    patches, texts = ax.pie(result.values.flatten(), colors=c, startangle=0, labels=labels)\n",
    "    ax.axis('equal')\n",
    "    ax.set_title(f\"{n}\", pad=20, fontweight=\"bold\")\n"
   ],
   "metadata": {
    "collapsed": false,
    "pycharm": {
     "name": "#%%\n"
    }
   }
  },
  {
   "cell_type": "code",
   "execution_count": null,
   "outputs": [],
   "source": [
    "carrier = \"Li ion\"  # \"battery\"\n",
    "\n",
    "fig, axs = plt.subplots(nrows=2, ncols=2, figsize=(15, 11))\n",
    "\n",
    "for n in [stst, exp]:\n",
    "\n",
    "    buses = n.stores[n.stores.carrier == carrier].bus\n",
    "\n",
    "    # H2 delivering technologies\n",
    "    n.links[n.links.bus1.isin(buses)]\n",
    "    i_buses = n.links[n.links.bus1.isin(buses)].index\n",
    "    df = pd.DataFrame(n.links_t.p1[i_buses].sum())\n",
    "    df[\"carrier\"] = df.index.map(n.links.carrier).values\n",
    "    result_del = abs(df.groupby(\"carrier\").sum())\n",
    "\n",
    "    # H2 receiving technologies\n",
    "    n.links[n.links.bus0.isin(buses)]\n",
    "    i_buses = n.links[n.links.bus0.isin(buses)].index\n",
    "    df = pd.DataFrame(n.links_t.p0[i_buses].sum())\n",
    "    df[\"carrier\"] = df.index.map(n.links.carrier).values\n",
    "    result_rec = abs(df.groupby(\"carrier\").sum())\n",
    "\n",
    "    if n == stst:\n",
    "        ax_del = axs[0, 0]\n",
    "        ax_rec = axs[0, 1]\n",
    "        title_del = f\"Delivering {carrier} to stroage (STST)\"\n",
    "        title_rec = f\"Recieving {carrier} from storage (STST)\"\n",
    "\n",
    "    elif n == exp:\n",
    "        ax_del = axs[1, 0]\n",
    "        ax_rec = axs[1, 1]\n",
    "        title_del = f\"Delivering {carrier} to stroage (EXP)\"\n",
    "        title_rec = f\"Delivering {carrier} to stroage (EXP)\"\n",
    "\n",
    "    # plot delivering\n",
    "    c = [carrier_colors[col] for col in result_del.index]\n",
    "    percents = result_del.to_numpy() * 100 / result_del.to_numpy().sum()\n",
    "    labels = ['%s (%1.1f %%)' % (l, s) for l, s in zip(result_del.index, percents)]\n",
    "\n",
    "    patches, texts = ax_del.pie(result_del.values.flatten(), colors=c, startangle=0, labels=labels)\n",
    "    ax_del.axis('equal')\n",
    "    ax_del.set_title(title_del, pad=20, fontweight=\"bold\")\n",
    "\n",
    "    # plot receiving\n",
    "    c = [carrier_colors[col] for col in result_rec.index]\n",
    "    percents = result_rec.to_numpy() * 100 / result_rec.to_numpy().sum()\n",
    "    labels = ['%s (%1.1f %%)' % (l, s) for l, s in zip(result_rec.index, percents)]\n",
    "\n",
    "    patches, texts = ax_rec.pie(result_rec.values.flatten(), colors=c, startangle=0, labels=labels)\n",
    "    ax_rec.axis('equal')\n",
    "    ax_rec.set_title(title_rec, pad=20, fontweight=\"bold\")\n",
    "\n",
    "fig.tight_layout(pad=5)\n",
    "plt.show()"
   ],
   "metadata": {
    "collapsed": false,
    "pycharm": {
     "name": "#%%\n"
    }
   }
  },
  {
   "cell_type": "code",
   "execution_count": null,
   "outputs": [],
   "source": [
    "#### How much of the produced hydrogen is being stored and how much is directly used by consuming technologies?"
   ],
   "metadata": {
    "collapsed": false,
    "pycharm": {
     "name": "#%%\n"
    }
   }
  },
  {
   "cell_type": "markdown",
   "source": [],
   "metadata": {
    "collapsed": false,
    "pycharm": {
     "name": "#%% md\n"
    }
   }
  },
  {
   "cell_type": "markdown",
   "source": [
    "## Ideas:\n",
    "- Calc capacity factors / system load duration curves for electrolysis in different regions and try to investigate in differences (amount of wind generation, solar) Is only excess electrolysis consumed by electrolysis?\n",
    "- Try to determine connection between electrolysis and excess solar / wind production\n",
    "- Try to determine percent / amount of excess electricity that is used to produce hydrogen. (Basically all energy from renewables that went into electrolysis?)\n",
    "- pie chart of percentage of electricity that is used directly, used for Electrolysis, battery, ... (startup script)\n",
    "- Reproduce graph from Victoria, Zhu et al. 2019 – The role of storage technologies (in hydrogen word document); try to find patterns within the charging of battery and the charging with hydrogen (electrolysis -> fuel cell)\n",
    "-"
   ],
   "metadata": {
    "collapsed": false,
    "pycharm": {
     "name": "#%% md\n"
    }
   }
  }
 ],
 "metadata": {
  "kernelspec": {
   "display_name": "Python 3",
   "language": "python",
   "name": "python3"
  },
  "language_info": {
   "codemirror_mode": {
    "name": "ipython",
    "version": 2
   },
   "file_extension": ".py",
   "mimetype": "text/x-python",
   "name": "python",
   "nbconvert_exporter": "python",
   "pygments_lexer": "ipython2",
   "version": "2.7.6"
  }
 },
 "nbformat": 4,
 "nbformat_minor": 0
}