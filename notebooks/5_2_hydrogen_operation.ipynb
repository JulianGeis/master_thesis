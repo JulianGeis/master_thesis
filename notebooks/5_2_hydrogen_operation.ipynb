{
 "cells": [
  {
   "cell_type": "code",
   "execution_count": null,
   "metadata": {
    "collapsed": true,
    "pycharm": {
     "name": "#%%\n"
    }
   },
   "outputs": [],
   "source": [
    "# Plots for section 5.2 hydrogen technologies"
   ]
  },
  {
   "cell_type": "markdown",
   "metadata": {
    "collapsed": false,
    "pycharm": {
     "name": "#%% md\n"
    }
   },
   "source": [
    "### Imports"
   ]
  },
  {
   "cell_type": "code",
   "execution_count": null,
   "metadata": {
    "collapsed": false,
    "pycharm": {
     "name": "#%%\n"
    }
   },
   "outputs": [],
   "source": [
    "import pandas as pd\n",
    "import matplotlib\n",
    "import numpy as np\n",
    "import pypsa\n",
    "import matplotlib.pyplot as plt\n",
    "import cartopy\n",
    "import cartopy.crs as ccrs\n",
    "import geopandas as gpd\n",
    "import warnings\n",
    "warnings.filterwarnings(\"ignore\")\n",
    "from shapely.geometry import Point, LineString\n",
    "from datetime import datetime\n",
    "import matplotlib.patheffects as pe\n",
    "import matplotlib.colors as mcolors\n",
    "import seaborn as sns\n",
    "from matplotlib.lines import Line2D\n",
    "import math\n",
    "import matplotlib.ticker as mtick\n",
    "\n",
    "\n",
    "# imported own functions\n",
    "from utils import nodal_balance\n",
    "\n",
    "# imported own definitions\n",
    "from utils import carrier_colors, carrier_renaming, resistive_heater, gas_boiler, heat_pump, water_tanks_charger, water_tanks_discharger, solar_thermal, convert_ISO_3166_2_to_1\n",
    "from utils import c_h2_gen, c_h2_con, c_el_gen_s, c_el_con_s\n",
    "\n",
    "# general variables\n",
    "font1 = {'fontname':'Calibri'}\n",
    "PLOT_DIR = 'C:/Users/Julian/Studies/Master/01 TU Berlin/3. Semester - Masterarbeit/MA Marktwerte FEE/data/plots/01_general/5.2_hydrogen_technologies'\n",
    "onshore_regions = gpd.read_file(\"../data/external/regions_onshore_elec_s_181.geojson\")\n",
    "offshore_regions = gpd.read_file(\"../data/external/regions_offshore_elec_s_181.geojson\")\n",
    "onshore_regions = onshore_regions.set_index('name')\n",
    "offshore_regions = offshore_regions.set_index('name')"
   ]
  },
  {
   "cell_type": "code",
   "execution_count": null,
   "metadata": {
    "collapsed": false,
    "pycharm": {
     "name": "#%%\n"
    }
   },
   "outputs": [],
   "source": [
    "# Network imports\n",
    "stst =pypsa.Network(\"../data/raw/elec_s_181_lv1.0__Co2L0-3H-T-H-B-I-A-solar+p3-linemaxext10-noH2network_2030.nc\")\n",
    "exp =pypsa.Network(\"../data/raw/elec_s_181_lvopt__Co2L0-3H-T-H-B-I-A-solar+p3-linemaxext10_2030.nc\")"
   ]
  },
  {
   "cell_type": "code",
   "execution_count": null,
   "metadata": {
    "collapsed": false,
    "pycharm": {
     "name": "#%%\n"
    }
   },
   "outputs": [],
   "source": [
    "# stst and exp dataframes\n",
    "# spatial\n",
    "df_stst_ons = pd.read_pickle(\"../data/processed/df_stst_ons.pkl\")\n",
    "df_stst_off = pd.read_pickle(\"../data/processed/df_stst_off.pkl\")\n",
    "df_exp_ons = pd.read_pickle(\"../data/processed/df_exp_ons.pkl\")\n",
    "df_exp_off = pd.read_pickle(\"../data/processed/df_exp_off.pkl\")\n",
    "\n",
    "# temporal\n",
    "df_stst_ts = pd.read_pickle(\"../data/processed/df_stst_ts.pkl\")\n",
    "df_exp_ts = pd.read_pickle(\"../data/processed/df_exp_ts.pkl\")"
   ]
  },
  {
   "cell_type": "code",
   "execution_count": null,
   "metadata": {
    "collapsed": false,
    "pycharm": {
     "name": "#%%\n"
    }
   },
   "outputs": [],
   "source": [
    "# Notebook Definitions\n",
    "c1_groups = [resistive_heater, gas_boiler, heat_pump, water_tanks_charger, water_tanks_discharger, solar_thermal]\n",
    "c1_groups_name = [\"resistive heater\", \"gas boiler\", \"heat pump\", \"water tanks charger\", \"water tanks discharger\", \"solar thermal\"]"
   ]
  },
  {
   "cell_type": "code",
   "execution_count": null,
   "metadata": {
    "collapsed": false,
    "pycharm": {
     "name": "#%%\n"
    }
   },
   "outputs": [],
   "source": [
    "# Notebook Functions\n"
   ]
  },
  {
   "cell_type": "code",
   "execution_count": null,
   "metadata": {
    "collapsed": false,
    "pycharm": {
     "name": "#%%\n"
    }
   },
   "outputs": [],
   "source": [
    "# Regions\n",
    "onshore_regions['coords'] = onshore_regions['geometry'].apply(lambda x: x.representative_point().coords[:])\n",
    "onshore_regions['coords'] = [coords[0] for coords in onshore_regions['coords']]\n",
    "onshore_regions[\"name\"] = onshore_regions.index\n",
    "offshore_regions['coords'] = offshore_regions['geometry'].apply(lambda x: x.representative_point().coords[:])\n",
    "offshore_regions['coords'] = [coords[0] for coords in offshore_regions['coords']]\n",
    "offshore_regions[\"name\"] = offshore_regions.index"
   ]
  },
  {
   "cell_type": "markdown",
   "metadata": {
    "collapsed": false,
    "pycharm": {
     "name": "#%% md\n"
    }
   },
   "source": [
    "### General"
   ]
  },
  {
   "cell_type": "code",
   "execution_count": null,
   "metadata": {
    "collapsed": false,
    "pycharm": {
     "name": "#%%\n"
    }
   },
   "outputs": [],
   "source": [
    "# efficiencies\n",
    "stst.links[stst.links.carrier == \"H2 Electrolysis\"].efficiency.unique()  # Electrolysis: 68 % efficiency\n",
    "stst.links[stst.links.carrier == \"H2 Fuel Cell\"].efficiency.unique()  # Fuel Cell: 50 % efficiency\n",
    "stst.links[stst.links.carrier == \"battery charger\"].efficiency.unique()  # Fuel Cell: 0.979796 efficiency\n",
    "stst.links[stst.links.carrier == \"battery discharger\"].efficiency.unique()  # Fuel Cell: 0.979796 efficiency\n",
    "# storage losses?"
   ]
  },
  {
   "cell_type": "markdown",
   "metadata": {
    "collapsed": false,
    "pycharm": {
     "name": "#%% md\n"
    }
   },
   "source": [
    "![](../../../../Pictures/Screenshots/Screenshot_20230219_110123.png)\n",
    "Colbertado"
   ]
  },
  {
   "cell_type": "markdown",
   "metadata": {
    "collapsed": false,
    "pycharm": {
     "name": "#%% md\n"
    }
   },
   "source": [
    "## Interaction of technologies"
   ]
  },
  {
   "cell_type": "markdown",
   "metadata": {
    "collapsed": false,
    "pycharm": {
     "name": "#%% md\n"
    }
   },
   "source": [
    "### Hydrogen Balances"
   ]
  },
  {
   "cell_type": "markdown",
   "metadata": {
    "collapsed": false,
    "pycharm": {
     "name": "#%% md\n"
    }
   },
   "source": [
    "**Differences:**\n",
    "- stst has no 'H2 pipeline', 'H2 pipeline retrofitted'\n",
    "- exp has no 'H2 Fuel Cell', 'SMR', 'SMR CC'"
   ]
  },
  {
   "cell_type": "code",
   "execution_count": null,
   "metadata": {
    "collapsed": false,
    "pycharm": {
     "name": "#%%\n"
    }
   },
   "outputs": [],
   "source": [
    "carrier_colors = {\n",
    "    'AC': 'dimgrey',\n",
    "    'BEV charger': 'lightyellow',\n",
    "    'DAC': 'darkgrey',\n",
    "    'DC': 'lightgrey',\n",
    "    'Fischer-Tropsch': 'gold',\n",
    "    'H2': 'turquoise',\n",
    "    'H2 storage': 'turquoise',\n",
    "    'H2 Electrolysis': 'fuchsia',\n",
    "    'H2 Fuel Cell': 'indigo',\n",
    "    'H2 for industry': 'cadetblue',\n",
    "    'H2 for shipping': 'navy',\n",
    "    'H2 liquefaction': 'lightskyblue',\n",
    "    'Li ion': 'greenyellow',\n",
    "    'low-temperature heat for industry': \"lightsalmon\",\n",
    "    'OCGT': 'saddlebrown',\n",
    "    'PHS': 'dodgerblue',\n",
    "    'SMR': 'darkseagreen',\n",
    "    'SMR CC': 'palegreen',\n",
    "    'Sabatier': 'peachpuff',\n",
    "    'V2G': 'honeydew',\n",
    "    'agriculture electricity': 'goldenrod',\n",
    "    'agriculture heat': 'peru',\n",
    "    'battery': 'hotpink',\n",
    "    'battery charger': 'pink',\n",
    "    'battery discharger': 'thistle',\n",
    "    'electricity': 'palegoldenrod',\n",
    "    'electricity distribution grid': 'thistle',\n",
    "    'gas': 'orange',\n",
    "    'home battery': 'violet',\n",
    "    'home battery charger': 'blueviolet',\n",
    "    'home battery discharger': 'plum',\n",
    "    'hydro': 'cornflowerblue',\n",
    "    'industry electricity': 'rosybrown',\n",
    "    'land transport EV': 'chocolate',\n",
    "    'land transport fuel cell': 'peru',\n",
    "    'offwind-ac': 'cyan',\n",
    "    'offwind-dc': 'maroon',\n",
    "    'oil': 'k',\n",
    "    'onwind': 'green',\n",
    "    'residential rural gas boiler': 'gold',\n",
    "    'residential rural ground heat pump': 'darkred',\n",
    "    'residential rural heat': 'rosybrown',\n",
    "    'residential rural resistive heater': 'lightgreen',\n",
    "    'residential rural water tanks charger': 'cadetblue',\n",
    "    'residential rural water tanks discharger': 'palevioletred',\n",
    "    'residential urban decentral air heat pump': 'firebrick',\n",
    "    'residential urban decentral gas boiler': 'lemonchiffon',\n",
    "    'residential urban decentral heat': 'lightcoral',\n",
    "    'residential urban decentral resistive heater': 'lightseagreen',\n",
    "    'residential urban decentral solar thermal': 'salmon',\n",
    "    'residential urban decentral water tanks charger': 'powderblue',\n",
    "    'residential urban decentral water tanks discharger': 'crimson',\n",
    "    'ror': 'blue',\n",
    "    'services rural gas boiler': 'khaki',\n",
    "    'services rural ground heat pump': 'maroon',\n",
    "    'services rural heat': 'indianred',\n",
    "    'services rural resistive heater': 'seagreen',\n",
    "    'services rural water tanks charger': 'lightblue',\n",
    "    'services rural water tanks discharger': 'pink',\n",
    "    'services urban decentral air heat pump': 'orangered',\n",
    "    'services urban decentral gas boiler': 'palegoldenrod',\n",
    "    'services urban decentral heat': 'brown',\n",
    "    'services urban decentral resistive heater': 'mediumspringgreen',\n",
    "    'services urban decentral solar thermal': 'tomato',\n",
    "    'services urban decentral water tanks charger': 'deepskyblue',\n",
    "    'services urban decentral water tanks discharger': 'lightpink',\n",
    "    'solar': 'yellow',\n",
    "    'solar rooftop': 'brown',\n",
    "    'urban central air heat pump': 'red',\n",
    "    'urban central gas CHP': 'darkorange',\n",
    "    'gas CHP': 'darkorange',\n",
    "    'urban central gas CHP CC': 'navajowhite',\n",
    "    'gas CHP CC': 'navajowhite',\n",
    "    'urban central gas boiler': 'darkkhaki',\n",
    "    'urban central heat': 'firebrick',\n",
    "    'urban central resistive heater': 'lime',\n",
    "    'urban central solar thermal': 'pink',\n",
    "    'urban central solid biomass CHP CC': 'navajowhite',\n",
    "    'biomass CHP CC': 'navajowhite',\n",
    "    'urban central solid biomass CHP': 'sandybrown',\n",
    "    'biomass CHP': 'sandybrown',\n",
    "    'urban central water tanks charger': 'skyblue',\n",
    "    'urban central water tanks discharger': 'mediumvioletred',\n",
    "    'resistive heater': 'seagreen',\n",
    "    'gas boiler': 'khaki',\n",
    "    'heat pump': 'darkred',\n",
    "    'water tanks charger': 'cadetblue',\n",
    "    'water tanks discharger': 'palevioletred',\n",
    "    'solar thermal': 'tomato',\n",
    "    'H2 pipeline': 'pink',\n",
    "    'H2 pipeline retrofitted': 'violet',\n",
    "    'naphtha for industry': 'chartreuse',\n",
    "    'kerosene for aviation': 'skyblue',\n",
    "    'agriculture machinery oil': 'tan',\n",
    "    'biogas to gas': \"yellowgreen\",\n",
    "    'gas for industry': \"olive\",\n",
    "    'gas for industry CC': \"mediumslateblue\"\n",
    "}"
   ]
  },
  {
   "cell_type": "markdown",
   "metadata": {
    "collapsed": false,
    "pycharm": {
     "name": "#%% md\n"
    }
   },
   "source": [
    "#### all year"
   ]
  },
  {
   "cell_type": "code",
   "execution_count": null,
   "metadata": {
    "collapsed": false,
    "pycharm": {
     "name": "#%%\n"
    }
   },
   "outputs": [],
   "source": [
    "model = \"STST\"\n",
    "carrier = [\"H2\"]\n",
    "loads = [\"land transport fuel cell\", \"H2 for industry\", \"H2 for shipping\"]\n",
    "loads_not_liquid = [\"land transport fuel cell\", \"H2 for industry\"]\n",
    "period = \"2013\"\n",
    "# exclude all technologies that contribute less than th\n",
    "th = 0.005\n",
    "\n",
    "# resolution\n",
    "# \"8h\", \"D\", \"W\", \"M\"\n",
    "res = \"D\"\n",
    "\n",
    "if model == \"STST\":\n",
    "    n = stst\n",
    "elif model == \"EXP\":\n",
    "    n = exp\n",
    "\n",
    "nb_h2 = nodal_balance(n, carrier = carrier, time=period, aggregate=['component', 'bus'], energy=True)  # in units of energy\n",
    "# convert from MW to GW and unstack\n",
    "nb_h2 = nb_h2.unstack(level=[1]) / 1e3\n",
    "# calc loads\n",
    "loads_h2 = abs(nb_h2[loads_not_liquid].sum(axis=1))\n",
    "# drop loads\n",
    "#nb_h2.drop(loads_not_liquid, axis=1, inplace=True)\n",
    "# rename unhandy column names\n",
    "nb_h2.rename(columns=carrier_renaming, inplace=True)\n",
    "\n",
    "####### plot #######\n",
    "\n",
    "# all year\n",
    "\n",
    "fig, ax = plt.subplots(figsize=(14, 8))\n",
    "\n",
    "# resample\n",
    "df = nb_h2.resample(res).sum()\n",
    "df_loads = loads_h2.resample(res).sum()\n",
    "\n",
    "# rename H2 as H2 storage\n",
    "df.rename(columns={\"H2\":\"H2 storage\"}, inplace=True)\n",
    "\n",
    "# split into df with positive and negative values\n",
    "df_neg, df_pos = df.clip(upper=0), df.clip(lower=0)\n",
    "\n",
    "df_pos_share = df_pos.sum() / df_pos.sum().sum()\n",
    "df_pos = df_pos[df_pos_share[df_pos_share > th].sort_values(ascending=False).index]\n",
    "df_neg_share = df_neg.sum() / df_neg.sum().sum()\n",
    "df_neg = df_neg[df_neg_share[df_neg_share > th].sort_values(ascending=False).index]\n",
    "# get colors\n",
    "c_neg, c_pos = [carrier_colors[col] for col in df_neg.columns], [carrier_colors[col] for col in df_pos.columns]\n",
    "\n",
    "# plot positive values\n",
    "ax = df_pos.plot.area(ax=ax, stacked=True, color=c_pos, linewidth=0.)\n",
    "\n",
    "# rename negative values that are also present on positive side, so that they are not shown and plot negative values\n",
    "f = lambda c: '_' + c\n",
    "cols = [f(c) if (c in df_pos.columns) else c for c in  df_neg.columns]\n",
    "cols_map = dict(zip(df_neg.columns, cols))\n",
    "ax = df_neg.rename(columns=cols_map).plot.area(ax=ax, stacked=True, color=c_neg, linewidth=0.)\n",
    "\n",
    "# plot lmps\n",
    "lmps = n.buses_t.marginal_price[n.buses[n.buses.carrier.isin(carrier)].index].mean(axis=1)[period].resample(res).mean()\n",
    "ax2 = lmps.plot(style=\"--\", color=\"black\", label=\"lmp (mean over buses)\", secondary_y=True)\n",
    "ax2.set_ylabel(\"lmp [$€/MWh_{h2}$]\")\n",
    "ax2.grid(False)\n",
    "# set limits of secondary y-axis\n",
    "ax2.set_ylim([ - 1.5 * lmps.max() * abs(df_neg.sum(axis=1).min()) /  df_pos.sum(axis=1).max() , 1.5 * lmps.max()])\n",
    "\n",
    "# plot loads\n",
    "df_loads.plot(style=\":\", color=\"black\", label=\"direct hydrogen consumption\\n(without H2 for shipping)\")\n",
    "\n",
    "# rescale the y-axis\n",
    "ax.set_ylim([1.05*df_neg.sum(axis=1).min(), 1.05*df_pos.sum(axis=1).max()])\n",
    "ax.legend(ncol=1, loc=\"upper center\", bbox_to_anchor=(1.15, 1), title=\"Legend for left y-axis\")\n",
    "ax2.legend(title=\"Legend for right y-axis\",  loc=\"upper right\")\n",
    "ax.set_ylabel(\"total hydrogen balance [$GW_{h2}$]\")\n",
    "ax.set_xlabel(\"\")\n",
    "ax.set_title(f\"Hydrogen Balance for {period} ({model})\", fontsize=16, pad=15,  **font1)\n",
    "fig.tight_layout()\n",
    "\n",
    "#plt.close()\n",
    "plt.show()\n",
    "\n",
    "fig.savefig(f\"{PLOT_DIR}/h2_bal_all_year_{model}.png\")"
   ]
  },
  {
   "cell_type": "code",
   "execution_count": null,
   "metadata": {
    "collapsed": false,
    "pycharm": {
     "name": "#%%\n"
    }
   },
   "outputs": [],
   "source": [
    "# \"2013-04-30\":\"2013-09-30\"\n",
    "(df_pos.resample(\"m\").sum() / 1e3).loc[\"2013-04-30\":\"2013-09-30\"].mean()\n",
    "#(df_pos.resample(\"m\").sum() / 1e3).loc[[\"2013-01-31\",\"2013-02-28\", \"2013-03-31\", \"2013-10-31\", \"2013-11-30\",\"2013-12-31\"]].mean()"
   ]
  },
  {
   "cell_type": "code",
   "execution_count": null,
   "metadata": {
    "collapsed": false,
    "pycharm": {
     "name": "#%%\n"
    }
   },
   "outputs": [],
   "source": [
    "nb_h2"
   ]
  },
  {
   "cell_type": "code",
   "execution_count": null,
   "metadata": {
    "collapsed": false,
    "pycharm": {
     "name": "#%%\n"
    }
   },
   "outputs": [],
   "source": [
    "df_pos[\"H2 Electrolysis\"].corr(lmps)"
   ]
  },
  {
   "cell_type": "code",
   "execution_count": null,
   "metadata": {
    "collapsed": false,
    "pycharm": {
     "name": "#%%\n"
    }
   },
   "outputs": [],
   "source": [
    "lmps.describe()"
   ]
  },
  {
   "cell_type": "code",
   "execution_count": null,
   "metadata": {
    "collapsed": false,
    "pycharm": {
     "name": "#%%\n"
    }
   },
   "outputs": [],
   "source": []
  },
  {
   "cell_type": "code",
   "execution_count": null,
   "metadata": {
    "collapsed": false,
    "pycharm": {
     "name": "#%%\n"
    }
   },
   "outputs": [],
   "source": [
    "nb_h2.resample(\"D\").sum()"
   ]
  },
  {
   "cell_type": "code",
   "execution_count": null,
   "metadata": {
    "collapsed": false,
    "pycharm": {
     "name": "#%%\n"
    }
   },
   "outputs": [],
   "source": [
    "# per hour\n",
    "exp.links_t.p0.loc[: , exp.links.carrier == \"H2 liquefaction\"].sum(axis=1)/ 1e3 #* 3"
   ]
  },
  {
   "cell_type": "code",
   "execution_count": null,
   "metadata": {
    "collapsed": false,
    "pycharm": {
     "name": "#%%\n"
    }
   },
   "outputs": [],
   "source": [
    "(stst.loads_t.p.loc[: , stst.loads.carrier == \"H2 for shipping\"].sum(axis=1) / 1e3 * 3)"
   ]
  },
  {
   "cell_type": "code",
   "execution_count": null,
   "metadata": {
    "collapsed": false,
    "pycharm": {
     "name": "#%%\n"
    }
   },
   "outputs": [],
   "source": [
    "(df_neg / 1e3)#.describe()"
   ]
  },
  {
   "cell_type": "code",
   "execution_count": null,
   "metadata": {
    "collapsed": false,
    "pycharm": {
     "name": "#%%\n"
    }
   },
   "outputs": [],
   "source": [
    "df_neg[\"Fischer-Tropsch\"].corr(df_pos.sum(axis=1))"
   ]
  },
  {
   "cell_type": "code",
   "execution_count": null,
   "metadata": {
    "collapsed": false,
    "pycharm": {
     "name": "#%%\n"
    }
   },
   "outputs": [],
   "source": [
    "df_pos[\"H2 Electrolysis\"].corr(df_stst_ts[\"solar_gen_el\"])"
   ]
  },
  {
   "cell_type": "code",
   "execution_count": null,
   "metadata": {
    "collapsed": false,
    "pycharm": {
     "name": "#%%\n"
    }
   },
   "outputs": [],
   "source": [
    "df_stst_ts[\"onwind_gen_el\"]+df_stst_ts[\"solar_gen_el\"]"
   ]
  },
  {
   "cell_type": "markdown",
   "metadata": {
    "collapsed": false,
    "pycharm": {
     "name": "#%% md\n"
    }
   },
   "source": [
    "\n"
   ]
  },
  {
   "cell_type": "markdown",
   "metadata": {
    "collapsed": false,
    "pycharm": {
     "name": "#%% md\n"
    }
   },
   "source": [
    "#### January"
   ]
  },
  {
   "cell_type": "code",
   "execution_count": null,
   "metadata": {
    "collapsed": false,
    "pycharm": {
     "name": "#%%\n"
    }
   },
   "outputs": [],
   "source": [
    "model = \"STST\"\n",
    "carrier = [\"H2\"]\n",
    "loads = [\"land transport fuel cell\", \"H2 for industry\", \"H2 for shipping\"]\n",
    "loads_not_liquid = [\"land transport fuel cell\", \"H2 for industry\"]\n",
    "period = \"2013-01\"\n",
    "# exclude all technologies that contribute less than th\n",
    "th = 0.005\n",
    "\n",
    "# resolution\n",
    "# \"8h\", \"D\", \"W\", \"M\"\n",
    "res = \"3h\"\n",
    "\n",
    "if model == \"STST\":\n",
    "    n = stst\n",
    "elif model == \"EXP\":\n",
    "    n = exp\n",
    "\n",
    "nb_h2 = nodal_balance(n, carrier = carrier, time=period, aggregate=['component', 'bus'], energy=True)  # in units of energy\n",
    "# convert from MW to GW and unstack\n",
    "nb_h2 = nb_h2.unstack(level=[1]) / 1e3\n",
    "# calc loads\n",
    "loads_h2 = abs(nb_h2[loads_not_liquid].sum(axis=1))\n",
    "# drop loads\n",
    "nb_h2.drop(loads_not_liquid, axis=1, inplace=True)\n",
    "# rename unhandy column names\n",
    "nb_h2.rename(columns=carrier_renaming, inplace=True)\n",
    "\n",
    "####### plot #######\n",
    "\n",
    "# all year\n",
    "\n",
    "fig, ax = plt.subplots(figsize=(14, 8))\n",
    "\n",
    "# resample\n",
    "df = nb_h2.resample(res).sum()\n",
    "df_loads = loads_h2.resample(res).sum()\n",
    "\n",
    "# drop H2\n",
    "df.drop(\"H2\", axis=1, inplace=True)\n",
    "\n",
    "# split into df with positive and negative values\n",
    "df_neg, df_pos = df.clip(upper=0), df.clip(lower=0)\n",
    "\n",
    "df_pos_share = df_pos.sum() / df_pos.sum().sum()\n",
    "df_pos = df_pos[df_pos_share[df_pos_share > th].sort_values(ascending=False).index]\n",
    "df_neg_share = df_neg.sum() / df_neg.sum().sum()\n",
    "df_neg = df_neg[df_neg_share[df_neg_share > th].sort_values(ascending=False).index]\n",
    "# get colors\n",
    "c_neg, c_pos = [carrier_colors[col] for col in df_neg.columns], [carrier_colors[col] for col in df_pos.columns]\n",
    "\n",
    "# plot positive values\n",
    "ax = df_pos.plot.area(ax=ax, stacked=True, color=c_pos, linewidth=0.)\n",
    "\n",
    "# rename negative values that are also present on positive side, so that they are not shown and plot negative values\n",
    "f = lambda c: '_' + c\n",
    "cols = [f(c) if (c in df_pos.columns) else c for c in  df_neg.columns]\n",
    "cols_map = dict(zip(df_neg.columns, cols))\n",
    "ax = df_neg.rename(columns=cols_map).plot.area(ax=ax, stacked=True, color=c_neg, linewidth=0.)\n",
    "\n",
    "# plot lmps\n",
    "lmps = n.buses_t.marginal_price[n.buses[n.buses.carrier.isin(carrier)].index].mean(axis=1)[period]\n",
    "ax2 = lmps.plot(style=\"--\", color=\"black\", label=\"lmp (mean over buses) [$€/MWh_{h2}$]\", secondary_y=True)\n",
    "ax2.grid(False)\n",
    "# set limits of secondary y-axis\n",
    "ax2.set_ylim([ - 1.5 * lmps.max() * abs(df_neg.sum(axis=1).min()) /  df_pos.sum(axis=1).max() , 1.5 * lmps.max()])\n",
    "\n",
    "# plot loads\n",
    "df_loads.plot(style=\":\", color=\"black\", label=\"hydrogen loads\\n(without H2 for shipping)\")\n",
    "\n",
    "# rescale the y-axis\n",
    "ax.set_ylim([1.05*df_neg.sum(axis=1).min(), 1.05*df_pos.sum(axis=1).max()])\n",
    "ax.legend(ncol=1, loc=\"upper center\", bbox_to_anchor=(1.15, 1), title=\"Legend for left y-axis\")\n",
    "ax2.legend(title=\"Legend for right y-axis\",  loc=\"upper right\")\n",
    "ax.set_ylabel(\"Total hydrogen balance [$GWh_{h2}$]\")\n",
    "ax.set_xlabel(\"\")\n",
    "ax.set_title(f\"Hydrogen Balance for {period} ({model})\", fontsize=16, pad=15,  **font1)\n",
    "fig.tight_layout()\n",
    "\n",
    "#plt.close()\n",
    "plt.show()\n",
    "\n",
    "#fig.savefig(f\"{PLOT_DIR}/h2_bal_january_{model}.png\")"
   ]
  },
  {
   "cell_type": "markdown",
   "metadata": {
    "collapsed": false,
    "pycharm": {
     "name": "#%% md\n"
    }
   },
   "source": [
    "#### May"
   ]
  },
  {
   "cell_type": "code",
   "execution_count": null,
   "metadata": {
    "collapsed": false,
    "pycharm": {
     "name": "#%%\n"
    }
   },
   "outputs": [],
   "source": [
    "model = \"EXP\"\n",
    "carrier = [\"H2\"]\n",
    "loads = [\"land transport fuel cell\", \"H2 for industry\", \"H2 for shipping\"]\n",
    "loads_not_liquid = [\"land transport fuel cell\", \"H2 for industry\"]\n",
    "period = \"2013-05\"\n",
    "# exclude all technologies that contribute less than th\n",
    "th = 0.005\n",
    "\n",
    "# resolution\n",
    "# \"8h\", \"D\", \"W\", \"M\"\n",
    "res = \"3h\"\n",
    "\n",
    "if model == \"STST\":\n",
    "    n = stst\n",
    "elif model == \"EXP\":\n",
    "    n = exp\n",
    "\n",
    "nb_h2 = nodal_balance(n, carrier = carrier, time=period, aggregate=['component', 'bus'], energy=True)  # in units of energy\n",
    "# convert from MW to GW and unstack\n",
    "nb_h2 = nb_h2.unstack(level=[1]) / 1e3\n",
    "# calc loads\n",
    "loads_h2 = abs(nb_h2[loads_not_liquid].sum(axis=1))\n",
    "# drop loads\n",
    "nb_h2.drop(loads_not_liquid, axis=1, inplace=True)\n",
    "# rename unhandy column names\n",
    "nb_h2.rename(columns=carrier_renaming, inplace=True)\n",
    "\n",
    "####### plot #######\n",
    "\n",
    "# all year\n",
    "\n",
    "fig, ax = plt.subplots(figsize=(14, 8))\n",
    "\n",
    "# resample\n",
    "df = nb_h2.resample(res).sum()\n",
    "df_loads = loads_h2.resample(res).sum()\n",
    "\n",
    "# drop H2\n",
    "df.drop(\"H2\", axis=1, inplace=True)\n",
    "\n",
    "# split into df with positive and negative values\n",
    "df_neg, df_pos = df.clip(upper=0), df.clip(lower=0)\n",
    "\n",
    "df_pos_share = df_pos.sum() / df_pos.sum().sum()\n",
    "df_pos = df_pos[df_pos_share[df_pos_share > th].sort_values(ascending=False).index]\n",
    "df_neg_share = df_neg.sum() / df_neg.sum().sum()\n",
    "df_neg = df_neg[df_neg_share[df_neg_share > th].sort_values(ascending=False).index]\n",
    "# get colors\n",
    "c_neg, c_pos = [carrier_colors[col] for col in df_neg.columns], [carrier_colors[col] for col in df_pos.columns]\n",
    "\n",
    "# plot positive values\n",
    "ax = df_pos.plot.area(ax=ax, stacked=True, color=c_pos, linewidth=0.)\n",
    "\n",
    "# rename negative values that are also present on positive side, so that they are not shown and plot negative values\n",
    "f = lambda c: '_' + c\n",
    "cols = [f(c) if (c in df_pos.columns) else c for c in  df_neg.columns]\n",
    "cols_map = dict(zip(df_neg.columns, cols))\n",
    "ax = df_neg.rename(columns=cols_map).plot.area(ax=ax, stacked=True, color=c_neg, linewidth=0.)\n",
    "\n",
    "# plot lmps\n",
    "lmps = n.buses_t.marginal_price[n.buses[n.buses.carrier.isin(carrier)].index].mean(axis=1)[period]\n",
    "ax2 = lmps.plot(style=\"--\", color=\"black\", label=\"lmp (mean over buses) [$€/MWh_{h2}$]\", secondary_y=True)\n",
    "ax2.grid(False)\n",
    "# set limits of secondary y-axis\n",
    "ax2.set_ylim([ - 1.5 * lmps.max() * abs(df_neg.sum(axis=1).min()) /  df_pos.sum(axis=1).max() , 1.5 * lmps.max()])\n",
    "\n",
    "# plot loads\n",
    "df_loads.plot(style=\":\", color=\"black\", label=\"hydrogen loads\\n(without H2 for shipping)\")\n",
    "\n",
    "# rescale the y-axis\n",
    "ax.set_ylim([1.05*df_neg.sum(axis=1).min(), 1.05*df_pos.sum(axis=1).max()])\n",
    "ax.legend(ncol=1, loc=\"upper center\", bbox_to_anchor=(1.15, 1), title=\"Legend for left y-axis\")\n",
    "ax2.legend(title=\"Legend for right y-axis\",  loc=\"upper right\")\n",
    "ax.set_ylabel(\"Total hydrogen balance [$GWh_{h2}$]\")\n",
    "ax.set_xlabel(\"\")\n",
    "ax.set_title(f\"Hydrogen Balance for {period} ({model})\", fontsize=16, pad=15,  **font1)\n",
    "fig.tight_layout()\n",
    "\n",
    "#plt.close()\n",
    "plt.show()\n",
    "\n",
    "#fig.savefig(f\"{PLOT_DIR}/h2_bal_may_{model}.png\")"
   ]
  },
  {
   "cell_type": "markdown",
   "metadata": {
    "collapsed": false,
    "pycharm": {
     "name": "#%% md\n"
    }
   },
   "source": [
    "## Focus on technologies"
   ]
  },
  {
   "cell_type": "markdown",
   "metadata": {
    "collapsed": false,
    "pycharm": {
     "name": "#%% md\n"
    }
   },
   "source": [
    "### Duration curves"
   ]
  },
  {
   "cell_type": "code",
   "execution_count": null,
   "metadata": {
    "collapsed": false,
    "pycharm": {
     "name": "#%%\n"
    }
   },
   "outputs": [],
   "source": [
    "df_stst_ts[[c + \"_gen_h2\" for c in c_h2_gen]]"
   ]
  },
  {
   "cell_type": "code",
   "execution_count": null,
   "metadata": {
    "collapsed": false,
    "pycharm": {
     "name": "#%%\n"
    }
   },
   "outputs": [],
   "source": [
    "df_exp_ts[[c + \"_gen_h2\" for c in c_h2_gen]]\n",
    "df_con = df_stst_ts[[c + \"_con_h2\" for c in c_h2_con]]"
   ]
  },
  {
   "cell_type": "code",
   "execution_count": null,
   "metadata": {
    "collapsed": false,
    "pycharm": {
     "name": "#%%\n"
    }
   },
   "outputs": [],
   "source": [
    "[c + \"_con_h2\" for c in c_h2_con]"
   ]
  },
  {
   "cell_type": "code",
   "execution_count": null,
   "metadata": {
    "collapsed": false,
    "pycharm": {
     "name": "#%%\n"
    }
   },
   "outputs": [],
   "source": [
    "# load duration curves of hydrogen producing and consuming technologies\n",
    "# IMPORTANT: production, consumption and loads have to be divided by 3. If you do not do it every time sample is in total energy and this means for 3 hours\n",
    "\n",
    "model = \"STST\"\n",
    "\n",
    "if model == \"STST\":\n",
    "    n = stst\n",
    "    df = df_stst_ts\n",
    "    df_gen = df_stst_ts[[c + \"_gen_h2\" for c in c_h2_gen]]\n",
    "    df_con = df_stst_ts[[c + \"_con_h2\" for c in c_h2_con]]\n",
    "elif model == \"EXP\":\n",
    "    n = exp\n",
    "    df = df_exp_ts\n",
    "    df_gen = df_exp_ts[['H2 Electrolysis_gen_h2']]\n",
    "    df_con = df_exp_ts[['H2 liquefaction_con_h2', 'Sabatier_con_h2', 'Fischer-Tropsch_con_h2']]\n",
    "\n",
    "fig, (ax1, ax2) = plt.subplots(ncols=2, nrows=1, figsize=(16, 7))\n",
    "\n",
    "for i, c in enumerate(df_gen.columns):\n",
    "    gen = df_gen[c] / 1e3 / 3\n",
    "    gen = pd.DataFrame(gen.sort_values(ascending=False)).set_index(pd.Index(np.linspace(0, 1, num=2920)))\n",
    "    ax1.plot(gen, color = carrier_colors[c.split('_')[0]], label=c.split('_')[0])\n",
    "\n",
    "# plot load\n",
    "# just not multiplying with 3 to obtain value in (MWh)\n",
    "load = (n.loads_t.p.loc[: , n.loads.carrier.isin(loads_not_liquid)].sum(axis=1) / 1000)\n",
    "ax1.hlines(y=load.mean(), xmin=0, xmax=1, ls=\"dashed\", linewidth=1, color='saddlebrown', label=\"hydrogen load (mean)\")\n",
    "ax1.hlines(y=load.max(), xmin=0, xmax=1, ls=\"dashed\", linewidth=1, color='red', label = \"hydrogen load (max)\")\n",
    "\n",
    "ax1.set_ylabel(\"production [$GW_{h2}$]\")\n",
    "ax1.set_xlabel(\"fraction of total time\")\n",
    "ax1.set_facecolor(\"lightgrey\")\n",
    "ax1.legend()\n",
    "ax1.grid(True)\n",
    "ax1.set_title(f\"Duration curves of hydrogen producing technologies ({model})\", fontsize=16, **font1)\n",
    "\n",
    "for i, c in enumerate(df_con.columns):\n",
    "    con = df_con[c] / 1e3 / 3\n",
    "    con = pd.DataFrame(con.sort_values(ascending=True)).set_index(pd.Index(np.linspace(0, 1, num=2920)))\n",
    "    ax2.plot(con, color = carrier_colors[c.split('_')[0]], label=c.split('_')[0])\n",
    "\n",
    "ax2.set_ylabel(\"production [$GW_{h2}$]\")\n",
    "ax2.set_xlabel(\"fraction of total time\")\n",
    "ax2.set_facecolor(\"lightgrey\")\n",
    "ax2.legend(ncol=2)\n",
    "ax2.grid(True)\n",
    "ax2.set_title(f\"Duration curves of hydrogen consuming technologies ({model})\", fontsize=16, **font1)\n",
    "\n",
    "fig.tight_layout()\n",
    "#plt.close()\n",
    "plt.show()\n",
    "\n",
    "#fig.savefig(f\"{PLOT_DIR}/h2_dur_{model}.png\")"
   ]
  },
  {
   "cell_type": "code",
   "execution_count": null,
   "metadata": {
    "collapsed": false,
    "pycharm": {
     "name": "#%%\n"
    }
   },
   "outputs": [],
   "source": [
    "# comparison\n",
    "gen = df_stst_ts[['H2 Electrolysis_gen_h2']] / 1e3\n",
    "gen = pd.DataFrame(gen.sort_values(ascending=False, by='H2 Electrolysis_gen_h2')).set_index(pd.Index(np.linspace(0, 1, num=2920)))\n",
    "plt.plot(gen, label=\"stst\")\n",
    "\n",
    "gen = df_exp_ts[['H2 Electrolysis_gen_h2']] / 1e3\n",
    "gen = pd.DataFrame(gen.sort_values(ascending=False, by='H2 Electrolysis_gen_h2')).set_index(pd.Index(np.linspace(0, 1, num=2920)))\n",
    "plt.plot(gen, label=\"exp\")\n",
    "plt.legend()"
   ]
  },
  {
   "cell_type": "code",
   "execution_count": null,
   "metadata": {
    "collapsed": false,
    "pycharm": {
     "name": "#%%\n"
    }
   },
   "outputs": [],
   "source": [
    "stst.links[stst.links.carrier == \"SMR CC\"]"
   ]
  },
  {
   "cell_type": "code",
   "execution_count": null,
   "metadata": {
    "collapsed": false,
    "pycharm": {
     "name": "#%%\n"
    }
   },
   "outputs": [],
   "source": [
    "np.multiply(stst.links.p_nom_opt[stst.links.carrier == \"SMR CC\"], stst.links.efficiency[stst.links.carrier == \"SMR CC\"]).sum() / 1e3"
   ]
  },
  {
   "cell_type": "code",
   "execution_count": null,
   "metadata": {
    "collapsed": false,
    "pycharm": {
     "name": "#%%\n"
    }
   },
   "outputs": [],
   "source": [
    "df_stst_ts[\"SMR CC_gen_h2\"].sort_values() / 1e3 / 3"
   ]
  },
  {
   "cell_type": "code",
   "execution_count": null,
   "metadata": {
    "collapsed": false,
    "pycharm": {
     "name": "#%%\n"
    }
   },
   "outputs": [],
   "source": [
    "# new indices: cut off Fuel cell and SMR completely and SMR CC for exp\n",
    "c_h2_gen_stst = ['H2 Electrolysis', 'SMR CC']\n",
    "c_h2_gen_exp = ['H2 Electrolysis']\n",
    "c_h2_gen = ['H2 Electrolysis', 'SMR CC']\n",
    "c_h2_con = ['H2 liquefaction', 'Sabatier', 'Fischer-Tropsch']"
   ]
  },
  {
   "cell_type": "markdown",
   "metadata": {
    "collapsed": false,
    "pycharm": {
     "name": "#%% md\n"
    }
   },
   "source": [
    "### Capacity factors"
   ]
  },
  {
   "cell_type": "code",
   "execution_count": null,
   "metadata": {
    "collapsed": false,
    "pycharm": {
     "name": "#%%\n"
    }
   },
   "outputs": [],
   "source": [
    "# delete cf for SMR CC in exp\n",
    "df_exp_ons[\"SMR CC_cf_gen_h2\"] = pd.DataFrame(np.nan, index=df_exp_ons.index, columns = [\"SMR CC_cf_gen_h2\"])"
   ]
  },
  {
   "cell_type": "markdown",
   "metadata": {
    "collapsed": false,
    "pycharm": {
     "name": "#%% md\n"
    }
   },
   "source": [
    "##### Boxplot"
   ]
  },
  {
   "cell_type": "code",
   "execution_count": null,
   "metadata": {
    "collapsed": false,
    "pycharm": {
     "name": "#%%\n"
    }
   },
   "outputs": [],
   "source": [
    "# capacity factors across regions as boxplot (STST & EXP)\n",
    "\n",
    "# boxplot propertes\n",
    "medianprops = dict(color=\"black\",linewidth=1.5)\n",
    "meanprops = {\"marker\":\"d\",\"markerfacecolor\":\"white\", \"markeredgecolor\":\"black\"}\n",
    "flierprops= {'marker': 'x', 'markersize': 5, 'markeredgecolor': 'black'}\n",
    "whiskerprops = dict(linestyle='-',linewidth=1.0, color='black')\n",
    "\n",
    "# data\n",
    "c_h2_con_index = [x for x in c_h2_con if x != 'H2 liquefaction']\n",
    "stst_h2_gen = df_stst_ons[[c+ \"_cf_gen_h2\" for c in c_h2_gen] + [c + \"_cf_con_h2\" for c in c_h2_con_index]]\n",
    "stst_h2_gen = stst_h2_gen.values\n",
    "exp_h2_gen = df_exp_ons[[c+ \"_cf_gen_h2\" for c in c_h2_gen]+ [c + \"_cf_con_h2\" for c in c_h2_con_index]]\n",
    "exp_h2_gen = exp_h2_gen.values\n",
    "\n",
    "# Filter data using np.isnan\n",
    "mask_stst = ~np.isnan(stst_h2_gen)\n",
    "filtered_stst = [d[m] for d, m in zip(stst_h2_gen.T, mask_stst.T)]\n",
    "mask_exp = ~np.isnan(exp_h2_gen)\n",
    "filtered_exp = [d[m] for d, m in zip(exp_h2_gen.T, mask_exp.T)]\n",
    "\n",
    "cf_index = [c+ \"_cf_gen_h2\" for c in c_h2_gen] + [c + \"_cf_con_h2\" for c in c_h2_con_index]\n",
    "gen_con_index = [c+ \"_gen_h2\" for c in c_h2_gen] + [c + \"_con_h2\" for c in c_h2_con_index]\n",
    "index = c_h2_gen + c_h2_con_index\n",
    "ticks = [carrier_renaming.get(n, n) for n in index]\n",
    "fig, ax = plt.subplots(figsize=(12, 6))\n",
    "\n",
    "stst_plot = plt.boxplot(filtered_stst,\n",
    "                        positions=np.array(np.arange(len(ticks)))*2.0-0.35,\n",
    "                        widths=0.6,\n",
    "                        patch_artist=True,\n",
    "                        showmeans=True,\n",
    "                        meanprops=meanprops,\n",
    "                        medianprops=medianprops,\n",
    "                        flierprops=flierprops,\n",
    "                        whiskerprops=whiskerprops,\n",
    "                        zorder=1\n",
    "                        )\n",
    "\n",
    "exp_plot = plt.boxplot(filtered_exp,\n",
    "                       positions=np.array(np.arange(len(ticks)))*2.0+0.35,\n",
    "                       widths=0.6,\n",
    "                       patch_artist=True,\n",
    "                       showmeans=True,\n",
    "                       meanprops=meanprops,\n",
    "                       medianprops=medianprops,\n",
    "                       flierprops=flierprops,\n",
    "                       whiskerprops=whiskerprops,\n",
    "                       zorder=2\n",
    "                       )\n",
    "\n",
    "# generation weighted mean\n",
    "gwm_cf_stst =np.multiply(df_stst_ons[cf_index], (df_stst_ons[gen_con_index] / df_stst_ons[gen_con_index].sum())).sum()\n",
    "gwm_cf_exp =np.multiply(df_exp_ons[cf_index], (df_exp_ons[gen_con_index] / df_exp_ons[gen_con_index].sum())).sum()\n",
    "# set value for SMR CC in exp to nan\n",
    "gwm_cf_exp[\"SMR CC_cf_gen_h2\"] = np.nan\n",
    "\n",
    "ax.plot(np.array(np.arange(len(ticks)))*2.0-0.35, gwm_cf_stst.transpose(),\"x\", marker='*', color=\"red\", markersize= 10, markerfacecolor=\"white\", zorder=3)\n",
    "ax.plot(np.array(np.arange(len(ticks)))*2.0+0.35, gwm_cf_exp.transpose(),\"x\", marker='*', color=\"red\", markersize= 10, markerfacecolor=\"white\",zorder=4)\n",
    "\n",
    "\n",
    "for box, col in zip(stst_plot['boxes'],[carrier_colors[c] for c in index]):\n",
    "    # change outline color\n",
    "    box.set_facecolor(col)\n",
    "    box.set_linestyle('--')\n",
    "\n",
    "for box, col in zip(exp_plot['boxes'],[carrier_colors[c] for c in index]):\n",
    "    # change outline color\n",
    "    box.set_facecolor(col)\n",
    "\n",
    "# sample sizes\n",
    "for i, sample_size in enumerate(df_stst_ons[cf_index].count()):\n",
    "    ax.annotate(sample_size, xy=(0,0),  xycoords='axes fraction',\n",
    "        xytext=((i+0.35)/len(index),1.01), textcoords='axes fraction', color=\"blue\")\n",
    "\n",
    "#for i, sample_size in enumerate(df_exp_ons[cf_index].count()):\n",
    "#    ax.annotate(sample_size, xy=(0,0),  xycoords='axes fraction',\n",
    "#        xytext=((i+0.55)/len(index),1), textcoords='axes fraction', color=\"red\")\n",
    "\n",
    "# explanations\n",
    "plt.xticks(np.arange(0, len(ticks) * 2, 2), ticks)\n",
    "plt.xticks(rotation=0)\n",
    "# plt.title(\"Market values of electricity producing technologies across the regions (STST vs. EXP)\", fontsize=16, pad=20,  **font1)\n",
    "\n",
    "# cosmetics\n",
    "ax.patch.set_facecolor('lightgrey')\n",
    "ax.patch.set_alpha(0.5)\n",
    "ax.grid(True)\n",
    "ax.yaxis.set_major_formatter(mtick.PercentFormatter(1.0))\n",
    "ax.set_ylabel(\"capacity factor [%]\")\n",
    "\n",
    "# legend\n",
    "patch1 = matplotlib.patches.Patch(ls=\"--\", facecolor=\"white\", edgecolor=\"black\")\n",
    "patch2 = matplotlib.patches.Patch(ls=\"-\", facecolor=\"white\", edgecolor=\"black\")\n",
    "ax.legend([patch1, patch2], ['STST', 'EXP'], loc=\"lower right\")\n",
    "\n",
    "fig.tight_layout()\n",
    "plt.show()\n",
    "\n",
    "#fig.savefig(f\"{PLOT_DIR}/h2_gen_con_cap_fac_STST_EXP.png\")"
   ]
  },
  {
   "cell_type": "code",
   "execution_count": null,
   "metadata": {
    "collapsed": false,
    "pycharm": {
     "name": "#%%\n"
    }
   },
   "outputs": [],
   "source": [
    "df_stst = df_stst_ons[[c+ \"_cf_gen_h2\" for c in c_h2_gen] + [c + \"_cf_con_h2\" for c in c_h2_con_index]]\n",
    "df_exp = df_exp_ons[[c+ \"_cf_gen_h2\" for c in c_h2_gen] + [c + \"_cf_con_h2\" for c in c_h2_con_index]]"
   ]
  },
  {
   "cell_type": "code",
   "execution_count": null,
   "metadata": {
    "collapsed": false,
    "pycharm": {
     "name": "#%%\n"
    }
   },
   "outputs": [],
   "source": [
    "df_stst.describe()"
   ]
  },
  {
   "cell_type": "code",
   "execution_count": null,
   "metadata": {
    "collapsed": false,
    "pycharm": {
     "name": "#%%\n"
    }
   },
   "outputs": [],
   "source": [
    "df_exp.describe()"
   ]
  },
  {
   "cell_type": "code",
   "execution_count": null,
   "metadata": {
    "collapsed": false,
    "pycharm": {
     "name": "#%%\n"
    }
   },
   "outputs": [],
   "source": [
    "df_exp_ons[[\"Sabatier_cf_con_h2\", \"Sabatier_con_h2\"]].sort_values(by=\"Sabatier_con_h2\",ascending=True)"
   ]
  },
  {
   "cell_type": "code",
   "execution_count": null,
   "metadata": {
    "collapsed": false,
    "pycharm": {
     "name": "#%%\n"
    }
   },
   "outputs": [],
   "source": [
    "df_stst_ons[gen_con_index]"
   ]
  },
  {
   "cell_type": "code",
   "execution_count": null,
   "metadata": {
    "collapsed": false,
    "pycharm": {
     "name": "#%%\n"
    }
   },
   "outputs": [],
   "source": [
    "gwm_cf_stst"
   ]
  },
  {
   "cell_type": "code",
   "execution_count": null,
   "metadata": {
    "collapsed": false,
    "pycharm": {
     "name": "#%%\n"
    }
   },
   "outputs": [],
   "source": [
    "gwm_cf_exp"
   ]
  },
  {
   "cell_type": "code",
   "execution_count": null,
   "metadata": {
    "collapsed": false,
    "pycharm": {
     "name": "#%%\n"
    }
   },
   "outputs": [],
   "source": [
    "# wtf is going wrong here?\n",
    "# df_stst_ons[\"H2 liquefaction_cf_con_h2\"] = np.ones(181)"
   ]
  },
  {
   "cell_type": "code",
   "execution_count": null,
   "metadata": {
    "collapsed": false,
    "pycharm": {
     "name": "#%%\n"
    }
   },
   "outputs": [],
   "source": [
    "df_stst_ons[\"H2 liquefaction_cf_con_h2\"] = np.ones(181)"
   ]
  },
  {
   "cell_type": "code",
   "execution_count": null,
   "metadata": {
    "collapsed": false,
    "pycharm": {
     "name": "#%%\n"
    }
   },
   "outputs": [],
   "source": [
    "cf_index"
   ]
  },
  {
   "cell_type": "markdown",
   "metadata": {
    "collapsed": false,
    "pycharm": {
     "name": "#%% md\n"
    }
   },
   "source": [
    "##### Map"
   ]
  },
  {
   "cell_type": "code",
   "execution_count": null,
   "metadata": {
    "collapsed": false,
    "pycharm": {
     "name": "#%%\n"
    }
   },
   "outputs": [],
   "source": [
    "# capacity factors across regions as map\n",
    "\n",
    "model = \"STST\"\n",
    "\n",
    "if model == \"STST\":\n",
    "    df = df_stst_ons\n",
    "    c_h2_gen_index = c_h2_gen_stst\n",
    "\n",
    "elif model == \"EXP\":\n",
    "    df = df_exp_ons\n",
    "    c_h2_gen_index = c_h2_gen_exp\n",
    "\n",
    "carriers = c_h2_gen + c_h2_con\n",
    "col_names = [[c+ \"_cf_gen_h2\" for c in c_h2_gen_index ] + [c + \"_cf_con_h2\" for c in c_h2_con]]\n",
    "\n",
    "cf_index = [c+ \"_cf_gen_h2\" for c in c_h2_gen_index] + [c + \"_cf_con_h2\" for c in c_h2_con]\n",
    "gen_con_index = [c+ \"_gen_h2\" for c in c_h2_gen_index] + [c + \"_con_h2\" for c in c_h2_con]\n",
    "index = c_h2_gen_index + c_h2_con\n",
    "ticks = [carrier_renaming.get(n, n) for n in index]\n",
    "\n",
    "fig, axs = plt.subplots(ncols=2, nrows=math.ceil(len(index)/2), subplot_kw={'projection': ccrs.EqualEarth()},\n",
    "                        figsize=(14, math.ceil(len(index)/2) * 6))\n",
    "crs = ccrs.EqualEarth()\n",
    "\n",
    "for i, ax in enumerate(axs.reshape(-1)):\n",
    "\n",
    "    if i >= len(index):\n",
    "        ax.axis('off')\n",
    "        continue\n",
    "\n",
    "    ax.add_feature(cartopy.feature.BORDERS, edgecolor='black', linewidth=0.5)\n",
    "    ax.coastlines(edgecolor='black', linewidth=0.5)\n",
    "    ax.set_facecolor('white')\n",
    "    ax.add_feature(cartopy.feature.OCEAN, color='azure')\n",
    "\n",
    "    df.to_crs(crs.proj4_init).plot(column=f\"{cf_index[i]}\",\n",
    "                                   ax=ax,\n",
    "                                   cmap=plt.get_cmap(\"magma_r\"),\n",
    "                                   linewidth=0.05,\n",
    "                                   edgecolor = 'grey',\n",
    "                                   legend=True,\n",
    "                                   legend_kwds={'label':\"capacity factors\",'orientation': \"vertical\",'shrink' : 0.9}\n",
    "                                   )\n",
    "\n",
    "    max_size = df[gen_con_index[i]].abs().max()\n",
    "    # blue if negative and green if positive\n",
    "    colors = ['darkblue' if (x < 0) else 'darkgreen' for x in df[gen_con_index[i]] ]\n",
    "\n",
    "    df.to_crs(crs.proj4_init).centroid.plot(ax=ax, sizes=(df[gen_con_index[i]].abs() / max_size) * 300,  color=colors, edgecolor=\"white\")\n",
    "    circle1 = Line2D([], [], color=\"white\", marker='o', markerfacecolor=\"darkgreen\", markeredgecolor=\"white\", markersize=10)\n",
    "    circle2 = Line2D([], [], color=\"white\", marker='o', markerfacecolor=\"darkblue\", markeredgecolor=\"white\", markersize=10)\n",
    "    circle3 = Line2D([], [], color=\"white\", marker='o', markerfacecolor=\"white\", markeredgecolor=\"black\", markersize=10)\n",
    "\n",
    "    unit = \"$TWh_{h2}$\" if max_size > 1e3 else \"$GWh_{h2}$\"\n",
    "    max_size = max_size / 1e3 if max_size > 1e3 else max_size\n",
    "    ax.legend((circle1, circle2, circle3), ('Production', 'Consumption', f\"max circle size:\\n{round(max_size)} {unit}\"), numpoints=1, loc=\"upper left\", prop={'size': 9})\n",
    "\n",
    "    # always select same section\n",
    "    xmin, ymin, xmax, ymax = df_stst_ons.to_crs(crs.proj4_init).total_bounds\n",
    "    pad = 1 * 1e5  # add a padding around the geometry\n",
    "    ax.set_xlim(xmin-pad, xmax+pad)\n",
    "    ax.set_ylim(ymin-pad, ymax+pad)\n",
    "\n",
    "\n",
    "    ax.set_title(f\"{ticks[i]}\", fontsize=16, **font1)\n",
    "\n",
    "# fig.suptitle(f\"Spatial Differences in the electricity generation of the VRE technologies ({model})\", fontsize=16, **font1)\n",
    "fig.tight_layout()\n",
    "plt.show()"
   ]
  },
  {
   "cell_type": "code",
   "execution_count": null,
   "metadata": {
    "collapsed": false,
    "pycharm": {
     "name": "#%%\n"
    }
   },
   "outputs": [],
   "source": [
    "# capacity factors across regions as map: liquefaction at end\n",
    "\n",
    "model = \"STST\"\n",
    "\n",
    "if model == \"STST\":\n",
    "    df = df_stst_ons\n",
    "    c_h2_gen_index = c_h2_gen_stst\n",
    "    cf_index = ['H2 Electrolysis_cf_gen_h2', 'SMR CC_cf_gen_h2', 'Sabatier_cf_con_h2', 'Fischer-Tropsch_cf_con_h2', 'H2 liquefaction_cf_con_h2',]\n",
    "    gen_con_index = [c+ \"_gen_h2\" for c in c_h2_gen_index] + ['Sabatier_con_h2', 'Fischer-Tropsch_con_h2','H2 liquefaction_con_h2']\n",
    "    index = ['H2 Electrolysis', 'SMR CC', 'Sabatier', 'Fischer-Tropsch', 'H2 liquefaction']\n",
    "\n",
    "elif model == \"EXP\":\n",
    "    df = df_exp_ons\n",
    "    c_h2_gen_index = c_h2_gen_exp\n",
    "    cf_index = ['H2 Electrolysis_cf_gen_h2', 'Sabatier_cf_con_h2', 'Fischer-Tropsch_cf_con_h2', 'H2 liquefaction_cf_con_h2',]\n",
    "    gen_con_index = [c+ \"_gen_h2\" for c in c_h2_gen_index] + ['Sabatier_con_h2', 'Fischer-Tropsch_con_h2','H2 liquefaction_con_h2']\n",
    "    index = ['H2 Electrolysis', 'Sabatier', 'Fischer-Tropsch', 'H2 liquefaction']\n",
    "\n",
    "ticks = [carrier_renaming.get(n, n) for n in index]\n",
    "\n",
    "fig, axs = plt.subplots(ncols=2, nrows=math.ceil(len(index)/2), subplot_kw={'projection': ccrs.EqualEarth()},\n",
    "                        figsize=(14, math.ceil(len(index)/2) * 6))\n",
    "crs = ccrs.EqualEarth()\n",
    "\n",
    "for i, ax in enumerate(axs.reshape(-1)):\n",
    "\n",
    "    if i >= len(index):\n",
    "        ax.axis('off')\n",
    "        continue\n",
    "\n",
    "    ax.add_feature(cartopy.feature.BORDERS, edgecolor='black', linewidth=0.5)\n",
    "    ax.coastlines(edgecolor='black', linewidth=0.5)\n",
    "    ax.set_facecolor('white')\n",
    "    ax.add_feature(cartopy.feature.OCEAN, color='azure')\n",
    "\n",
    "    if ticks[i] != \"H2 liquefaction\":\n",
    "        df.to_crs(crs.proj4_init).plot(column=f\"{cf_index[i]}\",\n",
    "                                       ax=ax,\n",
    "                                       cmap=plt.get_cmap(\"magma_r\"),\n",
    "                                       linewidth=0.05,\n",
    "                                       edgecolor = 'grey',\n",
    "                                       legend= True,\n",
    "                                       legend_kwds={'label':\"capacity factors\",'orientation': \"vertical\",'shrink' : 0.9}\n",
    "                                       )\n",
    "\n",
    "    max_size = df[gen_con_index[i]].abs().max()\n",
    "    # blue if negative and green if positive\n",
    "    colors = ['darkblue' if (x < 0) else 'darkgreen' for x in df[gen_con_index[i]] ]\n",
    "\n",
    "    df.to_crs(crs.proj4_init).centroid.plot(ax=ax, sizes=(df[gen_con_index[i]].abs() / max_size) * 300,  color=colors, edgecolor=\"white\")\n",
    "    circle1 = Line2D([], [], color=\"white\", marker='o', markerfacecolor=\"darkgreen\", markeredgecolor=\"white\", markersize=10)\n",
    "    circle2 = Line2D([], [], color=\"white\", marker='o', markerfacecolor=\"darkblue\", markeredgecolor=\"white\", markersize=10)\n",
    "    circle3 = Line2D([], [], color=\"white\", marker='o', markerfacecolor=\"white\", markeredgecolor=\"black\", markersize=10)\n",
    "\n",
    "    unit = \"$TWh_{h2}$\" if max_size > 1e3 else \"$GWh_{h2}$\"\n",
    "    max_size = max_size / 1e3 if max_size > 1e3 else max_size\n",
    "    ax.legend((circle1, circle2, circle3), ('Production', 'Consumption', f\"max circle size:\\n{round(max_size)} {unit}\"), numpoints=1, loc=\"upper left\", prop={'size': 9})\n",
    "\n",
    "    # always select same section\n",
    "    xmin, ymin, xmax, ymax = df_stst_ons.to_crs(crs.proj4_init).total_bounds\n",
    "    pad = 1 * 1e5  # add a padding around the geometry\n",
    "    ax.set_xlim(xmin-pad, xmax+pad)\n",
    "    ax.set_ylim(ymin-pad, ymax+pad)\n",
    "\n",
    "\n",
    "    ax.set_title(f\"{ticks[i]}\", fontsize=16, **font1)\n",
    "\n",
    "fig.tight_layout()\n",
    "plt.show()\n",
    "\n",
    "#fig.savefig(f\"{PLOT_DIR}/cap_fac_h2_gen_con_{model}.png\")"
   ]
  },
  {
   "cell_type": "code",
   "execution_count": null,
   "metadata": {
    "collapsed": false,
    "pycharm": {
     "name": "#%%\n"
    }
   },
   "outputs": [],
   "source": [
    "df_exp_ons[[\"H2 Electrolysis_cf_gen_h2\", \"H2 Electrolysis_gen_h2\"]].sort_values(by = \"H2 Electrolysis_gen_h2\", ascending=False)"
   ]
  },
  {
   "cell_type": "code",
   "execution_count": null,
   "metadata": {
    "collapsed": false,
    "pycharm": {
     "name": "#%%\n"
    }
   },
   "outputs": [],
   "source": [
    "n = stst\n",
    "loads_h2 = (n.loads_t.p.loc[: , n.loads.carrier.isin(loads)] / 1e3 * 3).sum()\n",
    "loads_h2.index = loads_h2.index.map(n.loads.bus).map(stst.buses.location)\n",
    "loads_h2 = loads_h2.groupby(loads_h2.index, axis=0).sum()"
   ]
  },
  {
   "cell_type": "code",
   "execution_count": null,
   "metadata": {
    "collapsed": false,
    "pycharm": {
     "name": "#%%\n"
    }
   },
   "outputs": [],
   "source": [
    "# correlation of loads and production\n",
    "df_stst_ons[\"SMR CC_gen_h2\"].corr(loads_h2)\n",
    "\n",
    "# STST+electrolysis: 0.19\n",
    "# STST+SMR CC: 0.78\n",
    "# STST+electrolysis: 0.08"
   ]
  },
  {
   "cell_type": "code",
   "execution_count": null,
   "metadata": {
    "collapsed": false,
    "pycharm": {
     "name": "#%%\n"
    }
   },
   "outputs": [],
   "source": [
    "df_stst_ons[\"Sabatier_con_h2\"].abs().sum()  / df_exp_ons[\"Sabatier_con_h2\"].abs().sum()"
   ]
  },
  {
   "cell_type": "code",
   "execution_count": null,
   "metadata": {
    "collapsed": false,
    "pycharm": {
     "name": "#%%\n"
    }
   },
   "outputs": [],
   "source": [
    "i_bi = df_stst_ons.index[df_stst_ons.index.str.contains(\"GB\")].tolist() + df_stst_ons.index[df_stst_ons.index.str.contains(\"IE\")].tolist()"
   ]
  },
  {
   "cell_type": "code",
   "execution_count": null,
   "metadata": {
    "collapsed": false,
    "pycharm": {
     "name": "#%%\n"
    }
   },
   "outputs": [],
   "source": [
    "df_stst_ons.loc[i_bi , \"Sabatier_con_h2\"].abs().sum()  / df_stst_ons[\"Sabatier_con_h2\"].abs().sum() # 0.47\n",
    "df_exp_ons.loc[i_bi , \"Sabatier_con_h2\"].abs().sum()  / df_exp_ons[\"Sabatier_con_h2\"].abs().sum() # 100"
   ]
  },
  {
   "cell_type": "code",
   "execution_count": null,
   "metadata": {
    "collapsed": false,
    "pycharm": {
     "name": "#%%\n"
    }
   },
   "outputs": [],
   "source": [
    "df_stst_ons.loc[i_bi , \"Sabatier_cf_con_h2\"].mean()\n",
    "df_exp_ons.loc[i_bi , \"Sabatier_cf_con_h2\"].mean()"
   ]
  },
  {
   "cell_type": "code",
   "execution_count": null,
   "metadata": {
    "collapsed": false,
    "pycharm": {
     "name": "#%%\n"
    }
   },
   "outputs": [],
   "source": [
    "\n",
    "df_stst_ons.loc[\"AL0 0\", \"test\"] = 5\n",
    "#df_stst_ons[\"H2 liquefaction_cf_con_h2\"]"
   ]
  },
  {
   "cell_type": "code",
   "execution_count": null,
   "metadata": {
    "collapsed": false,
    "pycharm": {
     "name": "#%%\n"
    }
   },
   "outputs": [],
   "source": [
    "df_exp_ons[\"Fischer-Tropsch_con_h2\"].abs().sum()  / 1e3 #df_exp_ons[\"Fischer-Tropsch_con_h2\"].abs().sum()"
   ]
  },
  {
   "cell_type": "code",
   "execution_count": null,
   "metadata": {
    "collapsed": false,
    "pycharm": {
     "name": "#%%\n"
    }
   },
   "outputs": [],
   "source": [
    "df_exp_ons[\"Fischer-Tropsch_con_h2\"].corr(df_exp_ons[\"Fischer-Tropsch_cf_con_h2\"])\n",
    "#df_stst_ons[\"Fischer-Tropsch_con_h2\"].corr(df_stst_ons[\"Fischer-Tropsch_cf_con_h2\"])"
   ]
  },
  {
   "cell_type": "code",
   "execution_count": null,
   "metadata": {
    "collapsed": false,
    "pycharm": {
     "name": "#%%\n"
    }
   },
   "outputs": [],
   "source": [
    "np.ones(181)"
   ]
  },
  {
   "cell_type": "code",
   "execution_count": null,
   "metadata": {
    "collapsed": false,
    "pycharm": {
     "name": "#%%\n"
    }
   },
   "outputs": [],
   "source": [
    "# why is it plotting wrong values?\n",
    "df_stst_ons[\"test\"] = np.ones(181)\n",
    "\n",
    "crs = ccrs.EqualEarth()\n",
    "\n",
    "df_stst_ons.to_crs(crs.proj4_init).plot(column=\"test\",\n",
    "                               cmap=plt.get_cmap(\"magma_r\"),\n",
    "                               legend=True\n",
    "                               )"
   ]
  },
  {
   "cell_type": "code",
   "execution_count": null,
   "metadata": {
    "collapsed": false,
    "pycharm": {
     "name": "#%%\n"
    }
   },
   "outputs": [],
   "source": [
    "df_stst_ons[\"H2 liquefaction_cf_con_h2\"]"
   ]
  },
  {
   "cell_type": "code",
   "execution_count": null,
   "metadata": {
    "collapsed": false,
    "pycharm": {
     "name": "#%%\n"
    }
   },
   "outputs": [],
   "source": [
    "# why is it plotting wrong values?\n",
    "\n",
    "fig, ax = plt.subplots(ncols=1, nrows=1, subplot_kw={'projection': ccrs.EqualEarth()},\n",
    "                        figsize=(14, 6))\n",
    "crs = ccrs.EqualEarth()\n",
    "ax.add_feature(cartopy.feature.BORDERS, edgecolor='black', linewidth=0.5)\n",
    "ax.coastlines(edgecolor='black', linewidth=0.5)\n",
    "ax.set_facecolor('white')\n",
    "ax.add_feature(cartopy.feature.OCEAN, color='azure')\n",
    "\n",
    "df_stst_ons.to_crs(crs.proj4_init).plot(column=f\"H2 liquefaction_cf_con_h2\",\n",
    "                               ax=ax,\n",
    "                               cmap=plt.get_cmap(\"magma_r\"),\n",
    "                               linewidth=0.05,\n",
    "                               edgecolor = 'grey',\n",
    "                               legend=True,\n",
    "                               legend_kwds={'label':\"capacity factors\",'orientation': \"vertical\",'shrink' : 0.9}\n",
    "                               )"
   ]
  },
  {
   "cell_type": "markdown",
   "metadata": {
    "collapsed": false,
    "pycharm": {
     "name": "#%% md\n"
    }
   },
   "source": [
    "#### Reasons for the difference in capacity factors"
   ]
  },
  {
   "cell_type": "code",
   "execution_count": null,
   "metadata": {
    "collapsed": false,
    "pycharm": {
     "name": "#%%\n"
    }
   },
   "outputs": [],
   "source": [
    "# share of electricity generation from renewables per region\n",
    "df = df_exp_ons# df_stst_ons\n",
    "\n",
    "vre = ['onwind', 'solar', 'offwind-dc', 'solar rooftop', 'offwind-ac', 'ror']\n",
    "onwind_solar = ['onwind', 'solar']\n",
    "all_gen_el = c_el_gen_s\n",
    "\n",
    "df[\"share_vre_gen_el\"] = df[[c + \"_gen_el\" for c in vre]].sum(axis=1) / df[[c + \"_gen_el\" for c in c_el_gen_s]].sum(axis=1)\n",
    "df[\"share_onwind+solar_gen_el\"] = df[[c + \"_gen_el\" for c in onwind_solar]].sum(axis=1) / df[[c + \"_gen_el\" for c in c_el_gen_s]].sum(axis=1)"
   ]
  },
  {
   "cell_type": "code",
   "execution_count": null,
   "metadata": {
    "collapsed": false,
    "pycharm": {
     "name": "#%%\n"
    }
   },
   "outputs": [],
   "source": [
    "countries = [\"ES\", \"PT\"]\n",
    "\n",
    "i = []\n",
    "for country in countries:\n",
    "    i += df.index[df.index.str.contains(country)].tolist()\n",
    "\n",
    "i"
   ]
  },
  {
   "cell_type": "code",
   "execution_count": null,
   "metadata": {
    "collapsed": false,
    "pycharm": {
     "name": "#%%\n"
    }
   },
   "outputs": [],
   "source": [
    "df.loc[i,\"H2 Electrolysis_cf_gen_h2\"].mean()"
   ]
  },
  {
   "cell_type": "code",
   "execution_count": null,
   "metadata": {
    "collapsed": false,
    "pycharm": {
     "name": "#%%\n"
    }
   },
   "outputs": [],
   "source": [
    "df[\"H2 Electrolysis_cf_gen_h2\"].corr(df[[c + \"_gen_el\" for c in vre]].sum(axis=1))\n",
    "#df[\"H2 Electrolysis_cf_gen_h2\"].corr(df[\"share_vre_gen_el\"])\n",
    "#df[\"H2 Electrolysis_cf_gen_h2\"].corr(df[\"share_onwind+solar_gen_el\"])"
   ]
  },
  {
   "cell_type": "code",
   "execution_count": null,
   "metadata": {
    "collapsed": false,
    "pycharm": {
     "name": "#%%\n"
    }
   },
   "outputs": [],
   "source": [
    "df.loc[i,\"H2 Electrolysis_cf_gen_h2\"].corr(df.loc[i,\"share_vre_gen_el\"])"
   ]
  },
  {
   "cell_type": "code",
   "execution_count": null,
   "metadata": {
    "collapsed": false,
    "pycharm": {
     "name": "#%%\n"
    }
   },
   "outputs": [],
   "source": [
    "df_stst_ons[[c + \"_gen_el\" for c in vre]].sum(axis=1)"
   ]
  },
  {
   "cell_type": "code",
   "execution_count": null,
   "metadata": {
    "collapsed": false,
    "pycharm": {
     "name": "#%%\n"
    }
   },
   "outputs": [],
   "source": [
    "# plot of production weighted capacity factors by country\n",
    "df_stst_ons_help = df_stst_ons.copy()\n",
    "df_stst_ons_help[\"country_help\"] = df_stst_ons_help.index.str[:2]\n",
    "ccs = [convert_ISO_3166_2_to_1[cc] for cc in df_stst_ons_help[\"country_help\"]]\n",
    "df_stst_ons_help[\"country\"] = pd.DataFrame([ccs]).T.values\n",
    "\n",
    "df_stst_ons_c = pd.DataFrame(index = df_stst_ons_help[\"country\"])\n",
    "df_stst_ons_c[\"H2 Electrolysis_cf*gen_h2\"] = pd.concat([np.multiply(df_stst_ons_help[\"H2 Electrolysis_cf_gen_h2\"], df_stst_ons_help[\"H2 Electrolysis_gen_h2\"]) , df_stst_ons_help[\"country\"]], axis=1).groupby(by=\"country\").sum()\n",
    "df_stst_ons_c[\"H2 Electrolysis_gen_h2\"] = pd.concat([df_stst_ons_help[\"H2 Electrolysis_gen_h2\"] , df_stst_ons_help[\"country\"]], axis=1).groupby(by=\"country\").sum()\n",
    "df_stst_ons_c[\"H2 Electrolysis_cf_gen_h2\"] = df_stst_ons_c[\"H2 Electrolysis_cf*gen_h2\"] / df_stst_ons_c[\"H2 Electrolysis_gen_h2\"]\n",
    "\n",
    "df_stst_ons_c"
   ]
  },
  {
   "cell_type": "code",
   "execution_count": null,
   "metadata": {
    "collapsed": false,
    "pycharm": {
     "name": "#%%\n"
    }
   },
   "outputs": [],
   "source": [
    "fig, ax = plt.subplots(figsize=(16, 5))\n",
    "\n",
    "ax.plot(df_stst_ons_c[\"H2 Electrolysis_cf_gen_h2\"])"
   ]
  },
  {
   "cell_type": "code",
   "execution_count": null,
   "metadata": {
    "collapsed": false,
    "pycharm": {
     "name": "#%%\n"
    }
   },
   "outputs": [],
   "source": []
  },
  {
   "cell_type": "code",
   "execution_count": null,
   "metadata": {
    "collapsed": false,
    "pycharm": {
     "name": "#%%\n"
    }
   },
   "outputs": [],
   "source": [
    "df_stst_ons_help[\"country\"]"
   ]
  },
  {
   "cell_type": "code",
   "execution_count": null,
   "metadata": {
    "collapsed": false,
    "pycharm": {
     "name": "#%%\n"
    }
   },
   "outputs": [],
   "source": [
    "df_exp_ts[\"Fischer-Tropsch_con_h2\"].corr(exp.buses_t.marginal_price.loc[: , exp.buses.carrier == \"H2\"].sum(axis=1))"
   ]
  },
  {
   "cell_type": "code",
   "execution_count": null,
   "metadata": {
    "collapsed": false,
    "pycharm": {
     "name": "#%%\n"
    }
   },
   "outputs": [],
   "source": [
    "df_stst_ons[\"Sabatier_con_h2\"].corr(df_stst_ons[\"urban central gas CHP_gen_heat\"])"
   ]
  },
  {
   "cell_type": "code",
   "execution_count": null,
   "metadata": {
    "collapsed": false,
    "pycharm": {
     "name": "#%%\n"
    }
   },
   "outputs": [],
   "source": [
    "df_exp_ons[\"Sabatier_con_h2\"].corr(df_exp_ons[\"urban central gas CHP_gen_heat\"])"
   ]
  },
  {
   "cell_type": "markdown",
   "metadata": {
    "collapsed": false,
    "pycharm": {
     "name": "#%% md\n"
    }
   },
   "source": [
    "### production and capacity difference"
   ]
  },
  {
   "cell_type": "code",
   "execution_count": null,
   "metadata": {
    "collapsed": false,
    "pycharm": {
     "name": "#%%\n"
    }
   },
   "outputs": [],
   "source": [
    "c_h2_gen_index = c_h2_gen\n",
    "# remove H2 liquefaction as the capacity and the consumption is exactly the same in both scenarios\n",
    "c_h2_con_index = [x for x in c_h2_con if x != 'H2 liquefaction']\n",
    "\n",
    "cap_index = [c+ \"_cap_gen_h2\" for c in c_h2_gen_index] + [c + \"_cap_con_h2\" for c in c_h2_con_index]\n",
    "gen_con_index = [c+ \"_gen_h2\" for c in c_h2_gen_index] + [c + \"_con_h2\" for c in c_h2_con_index]\n",
    "index = c_h2_gen_index + c_h2_con_index\n",
    "ticks = [carrier_renaming.get(n, n) for n in index]\n",
    "\n",
    "# STST - EXP\n",
    "for c in cap_index:\n",
    "    df_stst_ons[f\"{c}_STST-EXP\"] = df_stst_ons[c] - df_exp_ons[c]\n",
    "\n",
    "fig, axs = plt.subplots(ncols=2, nrows=math.ceil(len(index)/2), subplot_kw={'projection': ccrs.EqualEarth()},\n",
    "                        figsize=(14, math.ceil(len(index)/2) * 6))\n",
    "crs = ccrs.EqualEarth()\n",
    "\n",
    "for i, ax in enumerate(axs.reshape(-1)):\n",
    "\n",
    "    if i >= len(index):\n",
    "        ax.axis('off')\n",
    "        continue\n",
    "\n",
    "    abs_max = df_stst_ons[f\"{cap_index[i]}_STST-EXP\"].abs().max()\n",
    "    #unit_cap = \"TW\" if abs_max > 1e4 else \"GW\"\n",
    "    #df[f\"{carriers[i]}_cap_STST-EXP\"] = (df[f\"{carriers[i]}_cap_STST-EXP\"] / 1e3) if abs_max > 1e4 else df[f\"{carriers[i]}_cap_STST-EXP\"]\n",
    "    #abs_max = abs_max / 1e3 if abs_max > 1e4 else abs_max\n",
    "\n",
    "    ax.add_feature(cartopy.feature.BORDERS, edgecolor='black', linewidth=0.5)\n",
    "    ax.coastlines(edgecolor='black', linewidth=0.5)\n",
    "    ax.set_facecolor('white')\n",
    "    ax.add_feature(cartopy.feature.OCEAN, color='azure')\n",
    "\n",
    "    df_stst_ons.to_crs(crs.proj4_init).plot(column=f\"{cap_index[i]}_STST-EXP\",\n",
    "                                   ax=ax,\n",
    "                                   cmap=plt.get_cmap('RdYlGn'),\n",
    "                                   vmax=abs_max,\n",
    "                                   vmin=-abs_max,\n",
    "                                   linewidth=0.05,\n",
    "                                   edgecolor = 'grey',\n",
    "                                   legend=True,\n",
    "                                   legend_kwds={'label':\"Capacity differences ($GW_{h2}$)\",'orientation': \"vertical\",'shrink' : 0.8}\n",
    "                                   )\n",
    "\n",
    "    # difference in generation (STST-EXP)\n",
    "    gen_diff = df_stst_ons[gen_con_index[i]].abs() - df_exp_ons[gen_con_index[i]].abs()\n",
    "    # red if negative and green if positive\n",
    "    colors = ['red' if (x < 0) else 'green' for x in gen_diff ]\n",
    "\n",
    "    max_size = abs(gen_diff).max()\n",
    "    df_stst_ons.to_crs(crs.proj4_init).centroid.plot(ax=ax, sizes=(abs(gen_diff) / max_size) * 500,  color=colors, edgecolor=\"white\")\n",
    "    circle1 = Line2D([], [], color=\"white\", marker='o', markerfacecolor=\"green\", markeredgecolor=\"white\", markersize=10)\n",
    "    circle2 = Line2D([], [], color=\"white\", marker='o', markerfacecolor=\"red\", markeredgecolor=\"white\", markersize=10)\n",
    "    circle3 = Line2D([], [], color=\"white\", marker='o', markerfacecolor=\"white\", markeredgecolor=\"black\", markersize=10)\n",
    "\n",
    "    unit = \"$TWh_{h2}$\" if max_size > 1e3 else \"$GWh_{h2}$\"\n",
    "    max_size = max_size / 1e3 if max_size > 1e3 else max_size\n",
    "    ax.legend((circle1, circle2, circle3), ('Increased production / consumption in STST', 'Increased production / consumption in EXP', f\"max circle size: {round(max_size)} {unit}\"), numpoints=1, loc=\"upper left\")\n",
    "\n",
    "\n",
    "    # always select same section\n",
    "    xmin, ymin, xmax, ymax = df_stst_ons.to_crs(crs.proj4_init).total_bounds\n",
    "    pad = 1 * 1e5  # add a padding around the geometry\n",
    "    ax.set_xlim(xmin-pad, xmax+pad)\n",
    "    ax.set_ylim(ymin-pad, ymax+pad)\n",
    "\n",
    "    ax.set_title(f\"{ticks[i]} capacity (STST - EXP)\", fontsize=16, **font1)\n",
    "\n",
    "# fig.suptitle(\"Spatial Differences in the capacity and production for electricity producing VRE technologies (STST -EXP)\", fontsize=16, **font1)\n",
    "fig.tight_layout()\n",
    "\n",
    "#plt.close()\n",
    "plt.show()\n",
    "\n",
    "#fig.savefig(f\"{PLOT_DIR}/h2_cap_STST-EXP_map_all.png\")"
   ]
  },
  {
   "cell_type": "code",
   "execution_count": null,
   "metadata": {
    "collapsed": false,
    "pycharm": {
     "name": "#%%\n"
    }
   },
   "outputs": [],
   "source": [
    "df_stst_ts[\"H2 liquefaction_gen_h2\"]"
   ]
  },
  {
   "cell_type": "code",
   "execution_count": null,
   "metadata": {
    "collapsed": false,
    "pycharm": {
     "name": "#%%\n"
    }
   },
   "outputs": [],
   "source": [
    "i = 2\n",
    "df_stst_ons[f\"{cap_index[i]}_STST-EXP\"].sort_values(ascending=False)"
   ]
  },
  {
   "cell_type": "code",
   "execution_count": null,
   "metadata": {
    "collapsed": false,
    "pycharm": {
     "name": "#%%\n"
    }
   },
   "outputs": [],
   "source": [
    "gen_diff = df_stst_ons[gen_con_index[i]].abs() - df_exp_ons[gen_con_index[i]].abs()\n",
    "gen_diff.sort_values(ascending=False) / 1e3"
   ]
  },
  {
   "cell_type": "markdown",
   "metadata": {
    "collapsed": false,
    "pycharm": {
     "name": "#%% md\n"
    }
   },
   "source": [
    "### production heatmap"
   ]
  },
  {
   "cell_type": "code",
   "execution_count": null,
   "metadata": {
    "collapsed": false,
    "pycharm": {
     "name": "#%%\n"
    }
   },
   "outputs": [],
   "source": [
    "# production heatmap and average\n",
    "\n",
    "model = \"EXP\"\n",
    "\n",
    "if model == \"STST\":\n",
    "    n = stst\n",
    "    df_1 = df_stst_ts\n",
    "    c_h2_gen_index = c_h2_gen_stst\n",
    "elif model == \"EXP\":\n",
    "    n = exp\n",
    "    df_1 = df_exp_ts\n",
    "    c_h2_gen_index = c_h2_gen_exp\n",
    "\n",
    "c_h2_con_index = [x for x in c_h2_con if x != 'H2 liquefaction']\n",
    "\n",
    "cap_index = [c+ \"_cap_gen_h2\" for c in c_h2_gen_index] + [c + \"_cap_con_h2\" for c in c_h2_con_index]\n",
    "gen_con_index = [c+ \"_gen_h2\" for c in c_h2_gen_index] + [c + \"_con_h2\" for c in c_h2_con_index]\n",
    "index = c_h2_gen_index + c_h2_con_index\n",
    "ticks = [carrier_renaming.get(n, n) for n in index]\n",
    "\n",
    "\n",
    "fig, axs = plt.subplots(nrows=math.ceil(len(index)/2), ncols=2, figsize=(18, math.ceil(len(index)/2)*5))\n",
    "\n",
    "for i, ax in enumerate(axs.reshape(-1)):\n",
    "\n",
    "    if i >= len(index):\n",
    "        ax.axis('off')\n",
    "        continue\n",
    "\n",
    "    # production in TWh\n",
    "    df = df_1[gen_con_index[i]] / 1e3\n",
    "\n",
    "    hours = df.index.hour.unique()[::-1]\n",
    "    df_start = pd.DataFrame(index=pd.Index(df.index.date).unique())\n",
    "\n",
    "    for hour in hours:\n",
    "        df_start[str(hour)] = df[df.index.hour==hour].values\n",
    "\n",
    "    sns.heatmap(df_start.transpose(),\n",
    "                ax=ax,\n",
    "                cmap=(plt.get_cmap(\"magma_r\") if ticks[i] in c_h2_gen else plt.get_cmap(\"magma\")),\n",
    "                linewidth=0.001,\n",
    "                xticklabels=15,\n",
    "                cbar_kws={'label': f\"{'production' if ticks[i] in c_h2_gen else 'consumption'} in GWh\", 'pad': 0.1})\n",
    "\n",
    "    ax.set_title(f\"{ticks[i]}\", fontsize=16, **font1)\n",
    "    ax.set_ylabel(\"hour of the day\", fontsize=12, **font1)\n",
    "    ax.set_xlabel(\"day of the year\", fontsize=12, **font1)\n",
    "\n",
    "    # Rewrite the y labels\n",
    "    x_labels = ax.get_xticks()\n",
    "    ax.xaxis.set_major_formatter(matplotlib.dates.DateFormatter('%d-%b'))\n",
    "\n",
    "    # Plot production profile on second y-axis\n",
    "    # resample and transform axis of date to index (heatmap works not with dates)\n",
    "    df2 = df.resample(\"5D\").sum() / 1e3\n",
    "    df2 = df2[df2.index.year == 2013]\n",
    "    df2.index = df2.index.dayofyear - 0.5\n",
    "\n",
    "    ax2 = ax.twinx()\n",
    "    ax2.plot(df2, color=\"white\", lw=2, path_effects=[pe.Stroke(linewidth=3, foreground='black'), pe.Normal()])\n",
    "    ax2.legend( loc='lower right', labels=[f\"{'production' if ticks[i] in c_h2_gen else 'consumption'} (right axis)\"])\n",
    "    ax2.set_ylabel(f\"{'production' if ticks[i] in c_h2_gen else 'consumption'} in TWh (5-day sum)\", fontsize=12, **font1)\n",
    "    ax2.grid(False)\n",
    "\n",
    "fig.tight_layout(pad=3)\n",
    "plt.show()\n",
    "\n",
    "#fig.savefig(f\"{PLOT_DIR}/h2_gen_con_profiles_{model}.png\")"
   ]
  },
  {
   "cell_type": "code",
   "execution_count": null,
   "metadata": {
    "collapsed": false,
    "pycharm": {
     "name": "#%%\n"
    }
   },
   "outputs": [],
   "source": [
    "df_stst_ts[\"H2 Electrolysis_gen_h2\"].corr(df_stst_ts[\"SMR CC_gen_h2\"])"
   ]
  },
  {
   "cell_type": "markdown",
   "metadata": {
    "collapsed": false,
    "pycharm": {
     "name": "#%% md\n"
    }
   },
   "source": [
    "### Storage"
   ]
  },
  {
   "cell_type": "code",
   "execution_count": null,
   "metadata": {
    "collapsed": false,
    "pycharm": {
     "name": "#%%\n"
    }
   },
   "outputs": [],
   "source": [
    "# H2 stores\n",
    "c = \"H2\"\n",
    "stst.stores[stst.stores.carrier == c]"
   ]
  },
  {
   "cell_type": "code",
   "execution_count": null,
   "metadata": {
    "collapsed": false,
    "pycharm": {
     "name": "#%%\n"
    }
   },
   "outputs": [],
   "source": []
  },
  {
   "cell_type": "code",
   "execution_count": null,
   "metadata": {
    "collapsed": false,
    "pycharm": {
     "name": "#%%\n"
    }
   },
   "outputs": [],
   "source": [
    "h2_cap = stst.stores.e_nom_opt[stst.stores.carrier == c]\n",
    "h2_cap.index = h2_cap.index.map(n.stores.bus).map(stst.buses.location)\n",
    "h2_cap"
   ]
  },
  {
   "cell_type": "code",
   "execution_count": null,
   "metadata": {
    "collapsed": false,
    "pycharm": {
     "name": "#%%\n"
    }
   },
   "outputs": [],
   "source": [
    "# storage capacity (TWh)\n",
    "c = \"H2\"\n",
    "\n",
    "for n, df in zip([stst, exp], [df_stst_ons, df_exp_ons]):\n",
    "    h2_cap = n.stores.e_nom_opt[n.stores.carrier == c]\n",
    "    h2_cap.index = h2_cap.index.map(n.stores.bus).map(n.buses.location)\n",
    "    df[\"h2_store_cap\"] = h2_cap / 1e6\n",
    "\n",
    "# STST: 32.22 TWh (sum)\n",
    "# EXP: 61.78 TWh (sum)"
   ]
  },
  {
   "cell_type": "code",
   "execution_count": null,
   "metadata": {
    "collapsed": false,
    "pycharm": {
     "name": "#%%\n"
    }
   },
   "outputs": [],
   "source": [
    "# H2 storage capacity map with difference in production and consumption\n",
    "\n",
    "fig, axs = plt.subplots(ncols=2, nrows=1,\n",
    "                        subplot_kw={'projection': ccrs.EqualEarth()},\n",
    "                        figsize=(15,  6))\n",
    "crs = ccrs.EqualEarth()\n",
    "\n",
    "# align colorbar for comparison\n",
    "cap1 = df_stst_ons[\"h2_store_cap\"]\n",
    "cap2 = df_exp_ons[\"h2_store_cap\"]\n",
    "vmin = min(np.nanmin(cap1), np.nanmin(cap1))\n",
    "vmax = max(np.nanmax(cap1), np.nanmax(cap2))\n",
    "\n",
    "for i, ax in enumerate(axs.reshape(-1)):\n",
    "\n",
    "    if i == 0:\n",
    "        model = \"STST\"\n",
    "        df = df_stst_ons\n",
    "        n = stst\n",
    "        c_h2_gen_index = c_h2_gen_stst\n",
    "    elif i == 1:\n",
    "        model = \"EXP\"\n",
    "        df = df_exp_ons\n",
    "        n = exp\n",
    "        c_h2_gen_index = c_h2_gen_exp\n",
    "\n",
    "    gen_con_index = [c+ \"_gen_h2\" for c in c_h2_gen_index] + [c + \"_con_h2\" for c in c_h2_con]\n",
    "\n",
    "    ax.add_feature(cartopy.feature.BORDERS, edgecolor='black', linewidth=0.5)\n",
    "    ax.coastlines(edgecolor='black', linewidth=0.5)\n",
    "    ax.set_facecolor('white')\n",
    "    ax.add_feature(cartopy.feature.OCEAN, color='azure')\n",
    "\n",
    "    df.to_crs(crs.proj4_init).plot(column=\"h2_store_cap\",\n",
    "                                   ax=ax,\n",
    "                                   cmap=plt.get_cmap(\"magma_r\"),\n",
    "                                   linewidth=0.05,\n",
    "                                   edgecolor = 'grey',\n",
    "                                   legend=True,\n",
    "                                   vmin=vmin,\n",
    "                                   vmax=vmax,\n",
    "                                   legend_kwds={'label':\"Capacity ($TWh_{h2}$)\",'orientation': \"vertical\",'shrink' : 0.9}\n",
    "                                   )\n",
    "    if model == \"EXP\":\n",
    "        # consumption\n",
    "        loads_nl = (n.loads_t.p.loc[: , n.loads.carrier.isin(loads_not_liquid)] / 1e3 * 3).sum()\n",
    "        loads_nl.index = loads_nl.index.map(n.loads.bus).map(stst.buses.location)\n",
    "        loads_nl = loads_nl.groupby(loads_nl.index, axis=0).sum()\n",
    "        df[\"gen_con_loads_nl\"] = df[gen_con_index].sum(axis=1) - loads_nl\n",
    "\n",
    "\n",
    "        max_size = df[\"gen_con_loads_nl\"].abs().max()\n",
    "        # blue if negative and green if positive\n",
    "        colors = ['darkblue' if (x < 0) else 'darkgreen' for x in df[\"gen_con_loads_nl\"] ]\n",
    "\n",
    "        df.to_crs(crs.proj4_init).centroid.plot(ax=ax, sizes=(df[\"gen_con_loads_nl\"].abs() / max_size) * 300,  color=colors, edgecolor=\"white\")\n",
    "        circle1 = Line2D([], [], color=\"white\", marker='o', markerfacecolor=\"darkgreen\", markeredgecolor=\"white\", markersize=10)\n",
    "        circle2 = Line2D([], [], color=\"white\", marker='o', markerfacecolor=\"darkblue\", markeredgecolor=\"white\", markersize=10)\n",
    "        circle3 = Line2D([], [], color=\"white\", marker='o', markerfacecolor=\"white\", markeredgecolor=\"black\", markersize=10)\n",
    "\n",
    "        unit = \"$TWh_{h2}$\" if max_size > 1e3 else \"$GWh_{h2}$\"\n",
    "        max_size = max_size / 1e3 if max_size > 1e3 else max_size\n",
    "        ax.legend((circle1, circle2, circle3), ('Excess h2 production', 'Excess h2 consumption', f\"max circle size:\\n{round(max_size)} {unit}\"), numpoints=1, loc=\"upper left\", prop={'size': 9})\n",
    "\n",
    "    # always select same section\n",
    "    xmin, ymin, xmax, ymax = df_stst_ons.to_crs(crs.proj4_init).total_bounds\n",
    "    pad = 1 * 1e5  # add a padding around the geometry\n",
    "    ax.set_xlim(xmin-pad, xmax+pad)\n",
    "    ax.set_ylim(ymin-pad, ymax+pad)\n",
    "\n",
    "\n",
    "    ax.set_title(f\"Storage capacity H2 ({model})\", fontsize=16, **font1)\n",
    "\n",
    "\n",
    "fig.tight_layout()\n",
    "plt.show()\n",
    "\n",
    "#fig.savefig(f\"{PLOT_DIR}/h2_cap_stor_excess_gen_con_map.png\")"
   ]
  },
  {
   "cell_type": "code",
   "execution_count": null,
   "metadata": {
    "collapsed": false,
    "pycharm": {
     "name": "#%%\n"
    }
   },
   "outputs": [],
   "source": [
    "df_exp_ons[\"h2_store_cap\"].sort_values(ascending=False)"
   ]
  },
  {
   "cell_type": "code",
   "execution_count": null,
   "metadata": {
    "collapsed": false,
    "pycharm": {
     "name": "#%%\n"
    }
   },
   "outputs": [],
   "source": [
    "df_stst_ons[\"h2_store_cap\"].sort_values(ascending=False)[\"GB4 0\"]"
   ]
  },
  {
   "cell_type": "code",
   "execution_count": null,
   "metadata": {
    "collapsed": false,
    "pycharm": {
     "name": "#%%\n"
    }
   },
   "outputs": [],
   "source": [
    "# difference of capacities: H2 storage capacity map\n",
    "\n",
    "fig, ax = plt.subplots(ncols=1, nrows=1,\n",
    "                        subplot_kw={'projection': ccrs.EqualEarth()},\n",
    "                        figsize=(14,  6))\n",
    "crs = ccrs.EqualEarth()\n",
    "\n",
    "df_stst_ons[\"h2_store_cap_STST-EXP\"] = df_stst_ons[\"h2_store_cap\"] - df_exp_ons[\"h2_store_cap\"]\n",
    "abs_max = df_stst_ons[\"h2_store_cap_STST-EXP\"].abs().max()\n",
    "\n",
    "ax.add_feature(cartopy.feature.BORDERS, edgecolor='black', linewidth=0.5)\n",
    "ax.coastlines(edgecolor='black', linewidth=0.5)\n",
    "ax.set_facecolor('white')\n",
    "ax.add_feature(cartopy.feature.OCEAN, color='azure')\n",
    "\n",
    "df_stst_ons.to_crs(crs.proj4_init).plot(column=\"h2_store_cap_STST-EXP\",\n",
    "                                   ax=ax,\n",
    "                                   cmap=plt.get_cmap('RdYlGn'),\n",
    "                                   linewidth=0.05,\n",
    "                                   vmin=-abs_max,\n",
    "                                   vmax=abs_max,\n",
    "                                   edgecolor = 'grey',\n",
    "                                   legend=True,\n",
    "                                   legend_kwds={'label':\"Capacity ($TW_{h2}$)\",'orientation': \"vertical\",'shrink' : 0.9}\n",
    "                                   )\n",
    "\n",
    "# always select same section\n",
    "xmin, ymin, xmax, ymax = df_stst_ons.to_crs(crs.proj4_init).total_bounds\n",
    "pad = 1 * 1e5  # add a padding around the geometry\n",
    "ax.set_xlim(xmin-pad, xmax+pad)\n",
    "ax.set_ylim(ymin-pad, ymax+pad)\n",
    "\n",
    "ax.set_title(f\"H2 Storage capacity difference (STST-EXP)\", fontsize=16, **font1)\n",
    "\n",
    "fig.tight_layout()\n",
    "plt.show()\n",
    "\n",
    "#fig.savefig(f\"{PLOT_DIR}/h2_cap_stor_excess_gen_con_map.png\")"
   ]
  },
  {
   "cell_type": "code",
   "execution_count": null,
   "metadata": {
    "collapsed": false,
    "pycharm": {
     "name": "#%%\n"
    }
   },
   "outputs": [],
   "source": [
    "# Why are the hydrogen capacities located there?\n",
    "# calc Correlation with wind, solar and other power plant capacity (e.g."
   ]
  },
  {
   "cell_type": "code",
   "execution_count": null,
   "metadata": {
    "collapsed": false,
    "pycharm": {
     "name": "#%%\n"
    }
   },
   "outputs": [],
   "source": [
    "df_stst_ons[\"h2_store_cap_STST-EXP\"].sort_values(ascending=False)"
   ]
  },
  {
   "cell_type": "markdown",
   "metadata": {
    "collapsed": false,
    "pycharm": {
     "name": "#%% md\n"
    }
   },
   "source": [
    "#### Storage Capacity correlation (spatial)"
   ]
  },
  {
   "cell_type": "code",
   "execution_count": null,
   "metadata": {
    "collapsed": false,
    "pycharm": {
     "name": "#%%\n"
    }
   },
   "outputs": [],
   "source": [
    "# correlation with everything in df\n",
    "df_stst_ons.corr()[\"h2_store_cap\"].sort_values().dropna().tail(50)\n",
    "df_exp_ons.corr()[\"h2_store_cap\"].sort_values().dropna().tail(50)"
   ]
  },
  {
   "cell_type": "markdown",
   "metadata": {
    "collapsed": false,
    "pycharm": {
     "name": "#%% md\n"
    }
   },
   "source": [
    "**Findings:**\n",
    "\n",
    "STST+pos: Fischer-Tropsch_cap_con_h2 (0.74), H2 Electrolysis_cap_con_el(0.61)\n",
    "STST+neg: Fischer-Tropsch_con_h2 (-0.80), H2 Electrolysis_con_el (-0.59),\n",
    "\n",
    "EXP+pos: Sabatier_cap_con_h2 (0.52), H2 pipeline_cap_gen_h2 (0.48), H2 pipeline_cap (0.4)\n",
    "EXP+neg: Sabatier_con_h2 (-0.54), H2 pipeline_con_h2 (-0.49),"
   ]
  },
  {
   "cell_type": "code",
   "execution_count": null,
   "metadata": {
    "collapsed": false,
    "pycharm": {
     "name": "#%%\n"
    }
   },
   "outputs": [],
   "source": [
    "index = [c + \"_cap_gen_el\" for c in c_el_gen_s] + [c + \"_cap_con_el\" for c in c_el_con_s] + [c + \"_cap_gen_h2\" for c in  c_h2_gen] + [c + \"_cap_con_h2\" for c in c_h2_con] + [\"h2_store_cap\"]\n",
    "cols = [carrier_renaming.get(n, n) for n in c_el_gen_s] + [carrier_renaming.get(n, n) + \" (con)\" for n in\n",
    "c_el_con_s] + [carrier_renaming.get(n, n) for n in c_h2_gen] + [carrier_renaming.get(n, n) + \" (con)\" for n in c_h2_con] + [\"h2_store_cap\"]\n",
    "\n",
    "fig, axs = plt.subplots(ncols=2, figsize=(22, 8))\n",
    "\n",
    "for i, df, ax in zip([0, 1], [df_stst_ons, df_exp_ons], axs):\n",
    "    corr = df[index].corr()\n",
    "    corr.index = cols\n",
    "    corr.columns = cols\n",
    "\n",
    "    mask = np.triu(np.ones_like(corr, dtype=bool))\n",
    "\n",
    "    sns.heatmap(corr[abs(corr) > 0.4], mask=mask, cmap=\"magma_r\", annot=True, ax=ax)\n",
    "    ax.set_title('STST' if i == 0 else 'EXP')\n",
    "\n",
    "fig.tight_layout(pad=1.5)\n",
    "#plt.close()\n",
    "plt.show()"
   ]
  },
  {
   "cell_type": "markdown",
   "metadata": {
    "collapsed": false,
    "pycharm": {
     "name": "#%% md\n"
    }
   },
   "source": [
    "#### Feed-in and feed-out pattern"
   ]
  },
  {
   "cell_type": "code",
   "execution_count": null,
   "metadata": {
    "collapsed": false,
    "pycharm": {
     "name": "#%%\n"
    }
   },
   "outputs": [],
   "source": [
    "# p: active power at bus (positive if net production) (MW)\n",
    "\n",
    "# GWh\n",
    "n = stst\n",
    "# indices are the same\n",
    "i_h2_stores = n.stores[n.stores.carrier == \"H2\"].index\n",
    "\n",
    "fig, axs = plt.subplots(nrows=2, figsize=(14, 8))\n",
    "\n",
    "for n, ax in zip([stst, exp], axs):\n",
    "    (n.stores_t.p[i_h2_stores].sum(axis=1) / 1e3 * 3).resample(\"3h\").sum().plot(ax=ax,\n",
    "                                                                                lw=0.7,\n",
    "                                                                                color='turquoise',\n",
    "                                                                                label=\"feed- in and feed out pattern\")\n",
    "    (n.stores_t.p[i_h2_stores].sum(axis=1) / 1e3 * 3).resample(\"D\").mean().plot(ax=ax,\n",
    "                                                                                lw=1,\n",
    "                                                                                color='black',\n",
    "                                                                               label=\"feed- in and feed out pattern (daily mean)\")\n",
    "    ax.set_ylabel(\"Active power ($GWh_{h2}$)\")\n",
    "    ax.set_xlabel(\"\")\n",
    "    ax.set_title(\"STST\" if n == stst else \"EXP\", fontsize=16, **font1)\n",
    "    ax.legend(loc=\"lower left\")\n",
    "\n",
    "fig.tight_layout()\n",
    "\n",
    "#fig.savefig(f\"{PLOT_DIR}/h2_stor_feed_pattern.png\")"
   ]
  },
  {
   "cell_type": "code",
   "execution_count": null,
   "metadata": {
    "collapsed": false,
    "pycharm": {
     "name": "#%%\n"
    }
   },
   "outputs": [],
   "source": [
    "# correlation between both patterns\n",
    "stst.stores_t.p[i_h2_stores].sum(axis=1).corr(exp.stores_t.p[i_h2_stores].sum(axis=1))"
   ]
  },
  {
   "cell_type": "code",
   "execution_count": null,
   "metadata": {
    "collapsed": false,
    "pycharm": {
     "name": "#%%\n"
    }
   },
   "outputs": [],
   "source": [
    "# connection between p (MW) and e (MWh)\n",
    "e = n.stores_t.e[i_h2_stores].sum(axis=1)\n",
    "p = (n.stores_t.p[i_h2_stores].sum(axis=1) * -1).cumsum() * 3 + n.stores_t.e[i_h2_stores].loc[\"2013-01-01 00:00:00\"].sum()"
   ]
  },
  {
   "cell_type": "code",
   "execution_count": null,
   "metadata": {
    "collapsed": false,
    "pycharm": {
     "name": "#%%\n"
    }
   },
   "outputs": [],
   "source": [
    "plt.plot(e, label=\"e\")\n",
    "plt.plot(p, label=\"p\")\n",
    "plt.legend()"
   ]
  },
  {
   "cell_type": "code",
   "execution_count": null,
   "metadata": {
    "collapsed": false,
    "pycharm": {
     "name": "#%%\n"
    }
   },
   "outputs": [],
   "source": [
    "e"
   ]
  },
  {
   "cell_type": "code",
   "execution_count": null,
   "metadata": {
    "collapsed": false,
    "pycharm": {
     "name": "#%%\n"
    }
   },
   "outputs": [],
   "source": [
    "p"
   ]
  },
  {
   "cell_type": "code",
   "execution_count": null,
   "metadata": {
    "collapsed": false,
    "pycharm": {
     "name": "#%%\n"
    }
   },
   "outputs": [],
   "source": [
    "for df, n in zip([df_stst_ts, df_exp_ts], [stst, exp]):\n",
    "    df[\"h2_feed_in\"] = n.stores_t.p[i_h2_stores][n.stores_t.p[i_h2_stores] >= 0].sum(axis=1) / 1e3 * 3 * -1\n",
    "    df[\"h2_feed_out\"] = n.stores_t.p[i_h2_stores][n.stores_t.p[i_h2_stores] < 0].sum(axis=1) / 1e3 * 3 * -1\n",
    "    df[\"h2_feed_in_out\"] = n.stores_t.p[i_h2_stores].sum(axis=1) / 1e3 * 3 * -1\n",
    "    df[\"h2_stor_level\"] = n.stores_t.e[i_h2_stores].sum(axis=1) / 1e3"
   ]
  },
  {
   "cell_type": "markdown",
   "metadata": {
    "collapsed": false,
    "pycharm": {
     "name": "#%% md\n"
    }
   },
   "source": []
  },
  {
   "cell_type": "markdown",
   "metadata": {
    "collapsed": false,
    "pycharm": {
     "name": "#%% md\n"
    }
   },
   "source": [
    "#### Storage level over time"
   ]
  },
  {
   "cell_type": "code",
   "execution_count": null,
   "metadata": {
    "collapsed": false,
    "pycharm": {
     "name": "#%%\n"
    }
   },
   "outputs": [],
   "source": [
    "# e: Energy as calculated by the OPF. (MWh)\n",
    "\n",
    "fig, axs = plt.subplots(nrows=2, figsize=(14, 8))\n",
    "\n",
    "for n, ax in zip([stst, exp], axs):\n",
    "    (n.stores_t.e[i_h2_stores].sum(axis=1) / 1e6).resample(\"3h\").sum().plot(ax=ax,\n",
    "                                                                                lw=0.7,\n",
    "                                                                                color='turquoise',\n",
    "                                                                                label=\"storage level\")\n",
    "    (n.stores_t.e[i_h2_stores].sum(axis=1) / 1e6).resample(\"D\").mean().plot(ax=ax,\n",
    "                                                                                lw=1,\n",
    "                                                                                color='black',\n",
    "                                                                               label=\"storage level (daily mean)\")\n",
    "    ax.set_ylabel(\"$TWh_{h2}$\")\n",
    "    ax.set_xlabel(\"\")\n",
    "    ax.set_title(\"STST\" if n == stst else \"EXP\", fontsize=16, **font1)\n",
    "    ax.legend(loc=\"lower left\")\n",
    "\n",
    "fig.tight_layout()\n",
    "\n",
    "#fig.savefig(f\"{PLOT_DIR}/h2_stor_storage_level.png\")"
   ]
  },
  {
   "cell_type": "markdown",
   "metadata": {
    "collapsed": false,
    "pycharm": {
     "name": "#%% md\n"
    }
   },
   "source": [
    "#### lmps and storage\n"
   ]
  },
  {
   "cell_type": "code",
   "execution_count": null,
   "metadata": {
    "collapsed": false,
    "pycharm": {
     "name": "#%%\n"
    }
   },
   "outputs": [],
   "source": []
  },
  {
   "cell_type": "code",
   "execution_count": null,
   "metadata": {
    "collapsed": false,
    "pycharm": {
     "name": "#%%\n"
    }
   },
   "outputs": [],
   "source": [
    "n = exp\n",
    "\n",
    "fig, ax = plt.subplots(ncols=1, nrows=1, figsize=(8, 4.5))\n",
    "\n",
    "# change to mean for investigating in mean (unit: €/MWh)\n",
    "df = pd.DataFrame(n.buses_t.marginal_price[n.buses[n.buses.carrier==\"H2\"].index].mean(axis=1))\n",
    "\n",
    "hours = df.index.hour.unique()[::-1]\n",
    "df_start = pd.DataFrame(index=pd.Index(df.index.date).unique())\n",
    "\n",
    "for hour in hours:\n",
    "    df_start[str(hour)] = df[df.index.hour==hour].values\n",
    "\n",
    "sns.heatmap(df_start.transpose(),\n",
    "            ax =ax,\n",
    "            cmap=plt.get_cmap(\"magma_r\"),\n",
    "            linewidth=0.001,\n",
    "            xticklabels=15,\n",
    "            cbar_kws={'label': \"lmps ($€/MWh_{h2}$)\", 'pad': 0.09})\n",
    "#ax.set_title(f\"{carriers[i]}\", fontsize=16, **font1)\n",
    "ax.set_ylabel(\"hour of the day\", fontsize=12, **font1)\n",
    "ax.set_xlabel(\"day of the year\", fontsize=12, **font1)\n",
    "\n",
    "# Rewrite the y labels\n",
    "x_labels = ax.get_xticks()\n",
    "ax.xaxis.set_major_formatter(matplotlib.dates.DateFormatter('%d-%b'))\n",
    "\n",
    "# Plot production profile on second y-axis\n",
    "# resample and transform axis of date to index (heatmap works not with dates)\n",
    "df2 = (n.stores_t.e[i_h2_stores].sum(axis=1) / 1e6).resample(\"D\").mean()\n",
    "df2 = df2 / df2.max()\n",
    "df2 = df2[df2.index.year == 2013]\n",
    "df2.index = df2.index.dayofyear - 0.5\n",
    "\n",
    "# add combined onshore wind and solar production\n",
    "df3 = df_exp_ts[\"onwind_gen_el\"] + df_exp_ts[\"solar_gen_el\"]\n",
    "df3 = df3.resample(\"7D\").mean() / df3.resample(\"7D\").mean().max()\n",
    "df3 = df3[df3.index.year == 2013]\n",
    "df3.index = df3.index.dayofyear - 0.5\n",
    "\n",
    "\n",
    "ax2 = ax.twinx()\n",
    "ax2.plot(df2, color=\"white\", lw=2, path_effects=[pe.Stroke(linewidth=3, foreground='black'), pe.Normal()])\n",
    "ax2.plot(df3, color=\"green\", lw=2, path_effects=[pe.Stroke(linewidth=3, foreground='black'), pe.Normal()])\n",
    "ax2.legend( loc='lower right', labels=[\"hydrogen storage level (1d mean)\", \"onwind+solar generation (7d mean)\"])\n",
    "ax2.set_ylabel(\"storage level / generation in unit of max\", fontsize=12, **font1)\n",
    "ax2.grid(False)\n",
    "\n",
    "fig.suptitle(f\"H2 lmps and hydrogen storage level (EXP)\", fontsize=16, **font1)\n",
    "fig.tight_layout(pad=1)\n",
    "plt.show()\n",
    "\n",
    "PLOT_DIR_add = 'C:/Users/Julian/Studies/Master/01 TU Berlin/3. Semester - Masterarbeit/MA Marktwerte FEE/data/plots/01_general/additional_stuff'\n",
    "#fig.savefig(f\"{PLOT_DIR_add}/h2_lmps_storage_level_vre_gen_exp.png\")"
   ]
  },
  {
   "cell_type": "code",
   "execution_count": null,
   "metadata": {
    "collapsed": false,
    "pycharm": {
     "name": "#%%\n"
    }
   },
   "outputs": [],
   "source": [
    "df_exp_ts[\"onwind_gen_el\"] + df_exp_ts[\"solar_gen_el\"]"
   ]
  },
  {
   "cell_type": "code",
   "execution_count": null,
   "metadata": {
    "collapsed": false,
    "pycharm": {
     "name": "#%%\n"
    }
   },
   "outputs": [],
   "source": [
    "# temporal patterns\n",
    "c = \"H2\"\n",
    "n = exp\n",
    "d = n.stores_t.e.loc[:, n.stores.carrier == c].sum(axis=1)\n",
    "\n",
    "fig, ax = plt.subplots()\n",
    "fft = abs(pd.Series(np.fft.rfft(d - d.mean()), index=np.fft.rfftfreq(len(d), d=1./2920))**2)\n",
    "fft.plot(xlim=[0,1000], ylabel=f\"??? Density ({c})\", xlabel=\"Frequency (1/year)\")\n",
    "print(c)\n",
    "print(pd.DataFrame(fft).sort_values(by=0, ascending=False).head(20))"
   ]
  },
  {
   "cell_type": "code",
   "execution_count": null,
   "metadata": {
    "collapsed": false,
    "pycharm": {
     "name": "#%%\n"
    }
   },
   "outputs": [],
   "source": [
    "# relationship between storage filling level and solar+onwinf generation\n",
    "# e: Energy as calculated by the OPF. (MWh)\n",
    "\n",
    "fig, axs = plt.subplots(nrows=2, figsize=(14, 8))\n",
    "\n",
    "for n, ax in zip([stst, exp], axs):\n",
    "    (n.stores_t.e[i_h2_stores].sum(axis=1) / 1e6).resample(\"3h\").sum().plot(ax=ax,\n",
    "                                                                                lw=0.7,\n",
    "                                                                                color='turquoise',\n",
    "                                                                                label=\"storage level\")\n",
    "    (n.stores_t.e[i_h2_stores].sum(axis=1) / 1e6).resample(\"D\").mean().plot(ax=ax,\n",
    "                                                                                lw=1,\n",
    "                                                                                color='black',\n",
    "                                                                               label=\"storage level (daily mean)\")\n",
    "    sol_win_gen = df_stst_ts[[\"onwind_gen_el\", \"solar_gen_el\"]].sum(axis=1)\n",
    "    sol_win_gen = sol_win_gen / max(sol_win_gen) * max((n.stores_t.e[i_h2_stores].sum(axis=1) / 1e6).resample(\"3h\").sum())\n",
    "    sol_win_gen.resample(\"5D\").mean().plot(ax=ax, label=\"sol_win_gen\", color=\"red\")\n",
    "    ax.set_ylabel(\"$TWh_{h2}$\")\n",
    "    ax.set_xlabel(\"\")\n",
    "    ax.set_title(\"STST\" if n == stst else \"EXP\", fontsize=16, **font1)\n",
    "    ax.legend(loc=\"lower left\")\n",
    "    print(sol_win_gen.corr(n.stores_t.e[i_h2_stores].sum(axis=1)))\n",
    "\n",
    "fig.tight_layout()"
   ]
  },
  {
   "cell_type": "code",
   "execution_count": null,
   "metadata": {
    "collapsed": false,
    "pycharm": {
     "name": "#%%\n"
    }
   },
   "outputs": [],
   "source": [
    "# relationship between solar + onwind generation and storage filling level not existent?\n",
    "df_stst_ts[[\"onwind_gen_el\", \"solar_gen_el\"]].sum(axis=1).corr(stst.stores_t.e[i_h2_stores].sum(axis=1))\n",
    "df_exp_ts[[\"onwind_gen_el\", \"solar_gen_el\"]].sum(axis=1).corr(exp.stores_t.e[i_h2_stores].sum(axis=1))\n",
    "\n",
    "# maybe with feed-in and feed-out pattern?\n",
    "df_stst_ts[[\"onwind_gen_el\", \"solar_gen_el\"]].sum(axis=1).corr(df_stst_ts[\"h2_feed_in_out\"]) # 0.96\n",
    "df_exp_ts[[\"onwind_gen_el\", \"solar_gen_el\"]].sum(axis=1).corr(df_exp_ts[\"h2_feed_in_out\"]) # 0.91"
   ]
  },
  {
   "cell_type": "code",
   "execution_count": null,
   "metadata": {
    "collapsed": false,
    "pycharm": {
     "name": "#%%\n"
    }
   },
   "outputs": [],
   "source": [
    "sol_win_gen"
   ]
  },
  {
   "cell_type": "code",
   "execution_count": null,
   "metadata": {
    "collapsed": false,
    "pycharm": {
     "name": "#%%\n"
    }
   },
   "outputs": [],
   "source": [
    "# storage level of 10 largest stores (according to capcity)\n",
    "\n",
    "fig, axs = plt.subplots(nrows=2, figsize=(14, 8))\n",
    "\n",
    "for n, ax in zip([stst, exp], axs):\n",
    "    i_h2_stores_top10 = n.stores.e_nom_opt[i_h2_stores].sort_values(ascending=False).head(10).index\n",
    "    (n.stores_t.e[i_h2_stores_top10].sum(axis=1) / 1e3 * 3).resample(\"3h\").sum().plot(ax=ax)\n",
    "\n",
    "fig.tight_layout()"
   ]
  },
  {
   "cell_type": "markdown",
   "metadata": {
    "collapsed": false,
    "pycharm": {
     "name": "#%% md\n"
    }
   },
   "source": [
    "#### Temporal correlation of feed-in pattern"
   ]
  },
  {
   "cell_type": "code",
   "execution_count": null,
   "metadata": {
    "collapsed": false,
    "pycharm": {
     "name": "#%%\n"
    }
   },
   "outputs": [],
   "source": [
    "df_stst_ts.corr()[\"h2_feed_in\"].dropna().sort_values().tail(15)\n",
    "#df_exp_ts.corr()[\"h2_feed_in_out\"].dropna().sort_values().tail(15)\n"
   ]
  },
  {
   "cell_type": "markdown",
   "metadata": {
    "collapsed": false,
    "pycharm": {
     "name": "#%% md\n"
    }
   },
   "source": [
    "** Findings:**\n",
    "\n",
    "feed_in_out:\n",
    "STST+neg: H2 Electrolysis_con_el (-0.95), BEV charger_con_el (-0.82),\n",
    "STST+pos: H2 Electrolysis_gen_h2(0.95), BEV charger_gen_el (0.83), solar_gen_el / solar rooftop_gen_el (0.82), battery charger_gen_el (0.79), Sabatier_gen_gas (0.57), offwind-ac_gen_el (0.42)\n",
    "EXP+neg: H2 Electrolysis_con_el (-0.99), PHS_con_el (-0.63), hydro_gen_el (-0.57)\n",
    "EXP+pos: H2 Electrolysis_gen_h2 (0.99), BEV charger_gen_el (0.63), solar_gen_el / solar rooftop_gen_el (0.61), onwind_gen_el (0.58), offwind-dc_gen_el (0.50),\n",
    "\n",
    "feed_in:\n",
    "STST+neg: H2 Electrolysis_con_el (-0.89), battery discharger_gen_el (-0.75), Sabatier_con_h2 (-0.56), Fischer-Tropsch_con_h2 (-0.24)\n",
    "STST+pos: solar_gen_el / solar rooftop_gen_el (0.71), battery charger_gen_el (0.65), onwind_gen_el (0.37)\n",
    "EXP+neg\n",
    "EXP+pos\n",
    "\n",
    "feed_out:\n",
    "STST+neg\n",
    "STST+pos\n",
    "EXP+neg\n",
    "EXP+pos\n",
    "\n",
    "storage_level:\n",
    "STST+neg\n",
    "STST+pos\n",
    "EXP+neg\n",
    "EXP+pos"
   ]
  },
  {
   "cell_type": "code",
   "execution_count": null,
   "metadata": {
    "collapsed": false,
    "pycharm": {
     "name": "#%%\n"
    }
   },
   "outputs": [],
   "source": [
    "# Shouldn't there be a high correlation with onwind gen and feed-in-out pattern?\n",
    "df_stst_ts[\"h2_feed_in_out\"].corr(df_stst_ts[\"onwind_gen_el\"]) # 0.30\n",
    "df_stst_ts[\"h2_feed_in_out\"].corr(df_stst_ts[\"solar_gen_el\"]) # 0.82\n",
    "\n",
    "# Primarly h2 from solar generation is feed into the stores, the h2 from onwind generation is rather used directly?"
   ]
  },
  {
   "cell_type": "code",
   "execution_count": null,
   "metadata": {
    "collapsed": false,
    "pycharm": {
     "name": "#%%\n"
    }
   },
   "outputs": [],
   "source": [
    "# no correlation with h2 pipesl\n",
    "df_exp_ts[\"h2_feed_in\"].corr(df_exp_ts[\"H2 pipeline_con_h2\"]) # 0.82"
   ]
  },
  {
   "cell_type": "markdown",
   "metadata": {
    "collapsed": false,
    "pycharm": {
     "name": "#%% md\n"
    }
   },
   "source": [
    "#### Coming from Storage and Going to Storage"
   ]
  },
  {
   "cell_type": "code",
   "execution_count": null,
   "metadata": {
    "collapsed": false,
    "pycharm": {
     "name": "#%%\n"
    }
   },
   "outputs": [],
   "source": [
    "#### Where ist the hydrogen that is stored coming from and going to?\n",
    "# this method is bullshit\n",
    "\n",
    "# exclude\n",
    "th = 0.01\n",
    "\n",
    "fig, axs = plt.subplots(nrows=2, ncols=2, figsize=(15, 11))\n",
    "\n",
    "for n in [stst, exp]:\n",
    "\n",
    "    h2_buses = n.stores[n.stores.carrier == \"H2\"].bus\n",
    "\n",
    "    # H2 delivering technologies\n",
    "    n.links[n.links.bus1.isin(h2_buses)]\n",
    "    i_h2 = n.links[n.links.bus1.isin(h2_buses)].index\n",
    "    df = pd.DataFrame(n.links_t.p1[i_h2].sum())\n",
    "    df[\"carrier\"] = df.index.map(n.links.carrier).values\n",
    "    result_del = abs(df.groupby(\"carrier\").sum())\n",
    "\n",
    "    result_del_share = result_del / result_del.sum()\n",
    "    result_del = result_del.loc[result_del_share[result_del_share[0] > th].sort_values(ascending=False, by=0).index]\n",
    "\n",
    "    # H2 receiving technologies\n",
    "\n",
    "    # links\n",
    "    n.links[n.links.bus0.isin(h2_buses)]\n",
    "    i_h2 = n.links[n.links.bus0.isin(h2_buses)].index\n",
    "    df = pd.DataFrame(n.links_t.p0[i_h2].sum())\n",
    "    df[\"carrier\"] = df.index.map(n.links.carrier).values\n",
    "    result_rec_links = abs(df.groupby(\"carrier\").sum())\n",
    "\n",
    "    # loads\n",
    "    i_h2_loads = n.loads[n.loads.bus.isin(h2_buses)].index\n",
    "    df = pd.DataFrame(n.loads_t.p[i_h2_loads].sum())\n",
    "    df[\"carrier\"] = df.index.map(n.loads.carrier).values\n",
    "    result_rec_loads = abs(df.groupby(\"carrier\").sum())\n",
    "\n",
    "    result_rec = pd.concat([result_rec_links, result_rec_loads])\n",
    "\n",
    "    result_rec_share = result_rec / result_rec.sum()\n",
    "    result_rec = result_rec.loc[result_rec_share[result_rec_share[0] > th].sort_values(ascending=False, by=0).index]\n",
    "\n",
    "    if n==stst:\n",
    "        ax_del=axs[0, 0]\n",
    "        ax_rec=axs[0, 1]\n",
    "        title_del=f\"Delivering H2 to storage (STST)\"\n",
    "        title_rec=f\"Receiving H2 from storage (STST)\"\n",
    "\n",
    "    elif n==exp:\n",
    "        ax_del=axs[1, 0]\n",
    "        ax_rec=axs[1, 1]\n",
    "        title_del=f\"Delivering H2 to storage (EXP)\"\n",
    "        title_rec=f\"Receiving H2 from storage (EXP)\"\n",
    "\n",
    "    # plot delivering\n",
    "    c = [carrier_colors[col] for col in result_del.index]\n",
    "    percents = result_del.to_numpy() * 100 / result_del.to_numpy().sum()\n",
    "    labels = ['%s (%1.1f %%)' % (l, s) for l, s in zip(result_del.index, percents)]\n",
    "\n",
    "    patches, texts = ax_del.pie(result_del.values.flatten(), colors=c, startangle=0, labels=labels)\n",
    "    ax_del.axis('equal')\n",
    "    ax_del.set_title(title_del, pad=20, fontweight=\"bold\")\n",
    "\n",
    "    # plot receiving\n",
    "    c = [carrier_colors[col] for col in result_rec.index]\n",
    "    percents = result_rec.to_numpy() * 100 / result_rec.to_numpy().sum()\n",
    "    labels = ['%s (%1.1f %%)' % (l, s) for l, s in zip(result_rec.index, percents)]\n",
    "\n",
    "    patches, texts = ax_rec.pie(result_rec.values.flatten(), colors=c, startangle=0, labels=labels)\n",
    "    ax_rec.axis('equal')\n",
    "    ax_rec.set_title(title_rec, pad=20, fontweight=\"bold\")\n",
    "\n",
    "fig.tight_layout(pad=3)\n",
    "plt.show()\n",
    "\n",
    "#fig.savefig(f\"{PLOT_DIR}/h2_store_del_rev.png\")"
   ]
  },
  {
   "cell_type": "code",
   "execution_count": null,
   "metadata": {
    "collapsed": false,
    "pycharm": {
     "name": "#%%\n"
    }
   },
   "outputs": [],
   "source": [
    "res_all = pd.concat([result_rec_links.loc[[\"Fischer-Tropsch\", \"H2 Fuel Cell\", \"H2 liquefaction\", \"Sabatier\"]], result_rec_loads])\n",
    "res_all / res_all.sum()"
   ]
  },
  {
   "cell_type": "code",
   "execution_count": null,
   "metadata": {
    "collapsed": false,
    "pycharm": {
     "name": "#%%\n"
    }
   },
   "outputs": [],
   "source": [
    "# technologies delivering the hydrogen\n",
    "n.links[n.links.bus1.isin(h2_buses)].carrier.unique().tolist() + n.generators[n.generators.bus.isin(h2_buses)].carrier.unique().tolist()"
   ]
  },
  {
   "cell_type": "code",
   "execution_count": null,
   "metadata": {
    "collapsed": false,
    "pycharm": {
     "name": "#%%\n"
    }
   },
   "outputs": [],
   "source": [
    "# technologies receiving the hydrogen\n",
    "n.links[n.links.bus0.isin(h2_buses)].carrier.unique().tolist() + n.loads[n.loads.bus.isin(h2_buses)].carrier.unique().tolist()"
   ]
  },
  {
   "cell_type": "code",
   "execution_count": null,
   "metadata": {
    "collapsed": false,
    "pycharm": {
     "name": "#%%\n"
    }
   },
   "outputs": [],
   "source": [
    "# receiving hydrogen from stores\n",
    "# sign of pipelines are wrong but does not matter as the amounts are the same\n",
    "\n",
    "fig, axs = plt.subplots(nrows=1, ncols=2, figsize=(15, 11))\n",
    "\n",
    "for n, ax in zip([stst, exp],axs):\n",
    "\n",
    "    # data\n",
    "    h2_buses = n.stores[n.stores.carrier == \"H2\"].bus\n",
    "    # links of reciever\n",
    "    n.links[n.links.bus0.isin(h2_buses)]\n",
    "    # links indices\n",
    "    i_h2 = n.links[n.links.bus0.isin(h2_buses)].index\n",
    "    # production\n",
    "    df = pd.DataFrame(n.links_t.p0[i_h2].sum())\n",
    "    # carrier\n",
    "    df[\"carrier\"] = df.index.map(n.links.carrier).values\n",
    "    result = abs(df.groupby(\"carrier\").sum())\n",
    "\n",
    "    c = [carrier_colors[col] for col in result.index]\n",
    "    percents = result.to_numpy() * 100 / result.to_numpy().sum()\n",
    "    labels = ['%s (%1.1f %%)' % (l, s) for l, s in zip(result.index, percents)]\n",
    "\n",
    "    patches, texts = ax.pie(result.values.flatten(), colors=c, startangle=0, labels=labels)\n",
    "    ax.axis('equal')\n",
    "    ax.set_title(f\"{n}\", pad=20, fontweight=\"bold\")\n"
   ]
  },
  {
   "cell_type": "code",
   "execution_count": null,
   "metadata": {
    "collapsed": false,
    "pycharm": {
     "name": "#%%\n"
    }
   },
   "outputs": [],
   "source": [
    "n.stores[n.stores.carrier == \"Li ion\"].bus"
   ]
  },
  {
   "cell_type": "code",
   "execution_count": null,
   "metadata": {
    "collapsed": false,
    "pycharm": {
     "name": "#%%\n"
    }
   },
   "outputs": [],
   "source": [
    "carrier = \"Li ion\" #\"battery\" #\n",
    "\n",
    "# exclude\n",
    "th = 0.01\n",
    "\n",
    "fig, axs = plt.subplots(nrows=2, ncols=2, figsize=(15, 11))\n",
    "\n",
    "for n in [stst, exp]:\n",
    "\n",
    "    buses = n.stores[n.stores.carrier == carrier].bus\n",
    "\n",
    "    # H2 delivering technologies\n",
    "    i_h2 = n.links[n.links.bus1.isin(buses)].index\n",
    "    df = pd.DataFrame(n.links_t.p1[i_h2].sum())\n",
    "    df[\"carrier\"] = df.index.map(n.links.carrier).values\n",
    "    result_del = abs(df.groupby(\"carrier\").sum())\n",
    "\n",
    "    result_del_share = result_del / result_del.sum()\n",
    "    result_del = result_del.loc[result_del_share[result_del_share[0] > th].sort_values(ascending=False, by=0).index]\n",
    "\n",
    "    # H2 receiving technologies\n",
    "    # links\n",
    "    i_h2 = n.links[n.links.bus0.isin(buses)].index\n",
    "    df = pd.DataFrame(n.links_t.p0[i_h2].sum())\n",
    "    df[\"carrier\"] = df.index.map(n.links.carrier).values\n",
    "    result_rec_links = abs(df.groupby(\"carrier\").sum())\n",
    "    # loads\n",
    "    i_h2_loads = n.loads[n.loads.bus.isin(buses)].index\n",
    "    df = pd.DataFrame(n.loads_t.p[i_h2_loads].sum())\n",
    "    df[\"carrier\"] = df.index.map(n.loads.carrier).values\n",
    "    result_rec_loads = abs(df.groupby(\"carrier\").sum())\n",
    "\n",
    "    result_rec = pd.concat([result_rec_links, result_rec_loads])\n",
    "\n",
    "    result_rec_share = result_rec / result_rec.sum()\n",
    "    result_rec = result_rec.loc[result_rec_share[result_rec_share[0] > th].sort_values(ascending=False, by=0).index]\n",
    "\n",
    "    if n==stst:\n",
    "        ax_del=axs[0, 0]\n",
    "        ax_rec=axs[0, 1]\n",
    "        title_del=f\"Delivering {carrier} to storage (STST)\"\n",
    "        title_rec=f\"Receiving {carrier} from storage (STST)\"\n",
    "\n",
    "    elif n==exp:\n",
    "        ax_del=axs[1, 0]\n",
    "        ax_rec=axs[1, 1]\n",
    "        title_del=f\"Delivering {carrier}  to storage (EXP)\"\n",
    "        title_rec=f\"Receiving {carrier}  from storage (EXP)\"\n",
    "\n",
    "    # plot delivering\n",
    "    c = [carrier_colors[col] for col in result_del.index]\n",
    "    percents = result_del.to_numpy() * 100 / result_del.to_numpy().sum()\n",
    "    labels = ['%s (%1.1f %%)' % (l, s) for l, s in zip(result_del.index, percents)]\n",
    "\n",
    "    patches, texts = ax_del.pie(result_del.values.flatten(), colors=c, startangle=0, labels=labels)\n",
    "    ax_del.axis('equal')\n",
    "    ax_del.set_title(title_del, pad=20, fontweight=\"bold\")\n",
    "\n",
    "    # plot receiving\n",
    "    c = [carrier_colors[col] for col in result_rec.index]\n",
    "    percents = result_rec.to_numpy() * 100 / result_rec.to_numpy().sum()\n",
    "    labels = ['%s (%1.1f %%)' % (l, s) for l, s in zip(result_rec.index, percents)]\n",
    "\n",
    "    patches, texts = ax_rec.pie(result_rec.values.flatten(), colors=c, startangle=0, labels=labels)\n",
    "    ax_rec.axis('equal')\n",
    "    ax_rec.set_title(title_rec, pad=20, fontweight=\"bold\")\n",
    "\n",
    "fig.tight_layout(pad=3)\n",
    "plt.show()"
   ]
  },
  {
   "cell_type": "code",
   "execution_count": null,
   "metadata": {
    "collapsed": false,
    "pycharm": {
     "name": "#%%\n"
    }
   },
   "outputs": [],
   "source": [
    "#### How much of the produced hydrogen is being stored and how much is directly used by consuming technologies?"
   ]
  },
  {
   "cell_type": "markdown",
   "metadata": {
    "collapsed": false,
    "pycharm": {
     "name": "#%% md\n"
    }
   },
   "source": [
    "### Interaction with other sectors"
   ]
  },
  {
   "cell_type": "code",
   "execution_count": null,
   "metadata": {
    "collapsed": false,
    "pycharm": {
     "name": "#%%\n"
    }
   },
   "outputs": [],
   "source": [
    "# Is the methan from Sabatier used to fuel the gas CHP?\n",
    "# spatial correlation analysis difficualt as all buses are on EU level\n",
    "df_stst_ons[\"Sabatier_gen_gas\"]#.corr(df_stst_ons[\"urban central gas CHP_con_gas\"])"
   ]
  },
  {
   "cell_type": "code",
   "execution_count": null,
   "metadata": {
    "collapsed": false,
    "pycharm": {
     "name": "#%%\n"
    }
   },
   "outputs": [],
   "source": [
    "# temporal\n",
    "# also difficult as the gas can be stored (can it?)\n",
    "df_stst_ts[\"Sabatier_gen_gas\"].corr(df_stst_ts[\"urban central gas CHP_con_gas\"]) # 0.30\n",
    "df_exp_ts[\"Sabatier_gen_gas\"].corr(df_exp_ts[\"urban central gas CHP_con_gas\"]) # 0.11"
   ]
  },
  {
   "cell_type": "code",
   "execution_count": null,
   "metadata": {
    "collapsed": false,
    "pycharm": {
     "name": "#%%\n"
    }
   },
   "outputs": [],
   "source": [
    "# overall amounts\n",
    "# what else is gas in the system used for? Or are these losses\n",
    "df_stst_ts[\"Sabatier_gen_gas\"].sum() / 1e6 # 563\n",
    "#df_stst_ts[\"urban central gas CHP_con_gas\"].sum() / 1e6 # -340\n",
    "\n",
    "# where else is gas coming from?\n",
    "#df_exp_ts[\"Sabatier_gen_gas\"].sum() / 1e6 # 28\n",
    "df_exp_ts[\"urban central gas CHP_con_gas\"].sum() / 1e6 # -115"
   ]
  },
  {
   "cell_type": "markdown",
   "metadata": {
    "collapsed": false,
    "pycharm": {
     "name": "#%% md\n"
    }
   },
   "source": []
  },
  {
   "cell_type": "markdown",
   "metadata": {
    "collapsed": false,
    "pycharm": {
     "name": "#%% md\n"
    }
   },
   "source": [
    "## Ideas:\n",
    "- Calc capacity factors / system load duration curves for electrolysis in different regions and try to investigate in differences (amount of wind generation, solar) Is only excess electrolysis consumed by electrolysis?\n",
    "- Try to determine connection between electrolysis and excess solar / wind production\n",
    "- Try to determine percent / amount of excess electricity that is used to produce hydrogen. (Basically all energy from renewables that went into electrolysis?)\n",
    "- pie chart of percentage of electricity that is used directly, used for Electrolysis, battery, ... (startup script)\n",
    "- Reproduce graph from Victoria, Zhu et al. 2019 – The role of storage technologies (in hydrogen word document); try to find patterns within the charging of battery and the charging with hydrogen (electrolysis -> fuel cell)\n",
    "-"
   ]
  }
 ],
 "metadata": {
  "kernelspec": {
   "display_name": "Python 3",
   "language": "python",
   "name": "python3"
  },
  "language_info": {
   "codemirror_mode": {
    "name": "ipython",
    "version": 2
   },
   "file_extension": ".py",
   "mimetype": "text/x-python",
   "name": "python",
   "nbconvert_exporter": "python",
   "pygments_lexer": "ipython2",
   "version": "2.7.6"
  }
 },
 "nbformat": 4,
 "nbformat_minor": 0
}
