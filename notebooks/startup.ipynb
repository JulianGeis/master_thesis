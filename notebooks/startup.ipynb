{
 "cells": [
  {
   "cell_type": "markdown",
   "metadata": {
    "pycharm": {
     "name": "#%% md\n"
    }
   },
   "source": [
    "# First data imports and visualization"
   ]
  },
  {
   "cell_type": "markdown",
   "metadata": {
    "pycharm": {
     "name": "#%% md\n"
    }
   },
   "source": [
    "## imports"
   ]
  },
  {
   "cell_type": "code",
   "execution_count": null,
   "metadata": {
    "pycharm": {
     "name": "#%%\n"
    }
   },
   "outputs": [],
   "source": [
    "import pandas as pd\n",
    "import geopandas as gpd\n",
    "import numpy as np\n",
    "import pypsa\n",
    "import datetime\n",
    "import seaborn as sns\n",
    "import cartopy\n",
    "import cartopy.crs as ccrs\n",
    "import matplotlib.colors as mcolors\n",
    "import matplotlib.pyplot as plt\n",
    "\n",
    "from utils import market_values, market_values_by_time_index, nodal_balance, carrier_colors"
   ]
  },
  {
   "cell_type": "code",
   "execution_count": null,
   "metadata": {
    "pycharm": {
     "name": "#%%\n"
    }
   },
   "outputs": [],
   "source": [
    "n =pypsa.Network(\"../data/raw/elec_s_181_lv1.0__Co2L0-3H-T-H-B-I-A-solar+p3-linemaxext10-noH2network_2030.nc\")"
   ]
  },
  {
   "cell_type": "code",
   "execution_count": null,
   "metadata": {
    "pycharm": {
     "name": "#%%\n"
    }
   },
   "outputs": [],
   "source": [
    "# n.export_to_csv_folder(\"../data/processed/elec_s_181_lv1.0__Co2L0-3H-T-H-B-I-A-solar+p3-linemaxext10-noH2network_2030.nc\")"
   ]
  },
  {
   "cell_type": "markdown",
   "metadata": {
    "pycharm": {
     "name": "#%% md\n"
    }
   },
   "source": [
    "## key data\n",
    "- 365 * 24 / 3 = 2920 snapshots over one year (every 3 hours) -> rows\n",
    "- 3086 different buses\n",
    "- 181 different locations (+ EU: 182)\n",
    "- 1707 different generators\n",
    "- 8375 links\n",
    "- 1635 stores\n",
    "- 170 storage units\n"
   ]
  },
  {
   "cell_type": "code",
   "execution_count": null,
   "metadata": {
    "pycharm": {
     "name": "#%%\n"
    }
   },
   "outputs": [],
   "source": [
    "# number of buses\n",
    "n.storage_units"
   ]
  },
  {
   "cell_type": "code",
   "execution_count": null,
   "metadata": {
    "pycharm": {
     "name": "#%%\n"
    }
   },
   "outputs": [],
   "source": [
    "# Energy carrier, such as AC, DC, heat, wind, PV or coal. Buses have direct carriers and Generators indicate their primary energy carriers. The Carrier can track properties relevant for global constraints, such as CO2 emissions.\n",
    "n.carriers"
   ]
  },
  {
   "cell_type": "code",
   "execution_count": null,
   "metadata": {
    "pycharm": {
     "name": "#%%\n"
    }
   },
   "outputs": [],
   "source": [
    "# counts of generators by carrier\n",
    "n.generators.carrier.value_counts()"
   ]
  },
  {
   "cell_type": "code",
   "execution_count": null,
   "metadata": {
    "pycharm": {
     "name": "#%%\n"
    }
   },
   "outputs": [],
   "source": [
    "# show the generators (electricity feed in) over time\n",
    "n.generators_t.p\n",
    "# 1707 different generators"
   ]
  },
  {
   "cell_type": "code",
   "execution_count": null,
   "metadata": {
    "pycharm": {
     "name": "#%%\n"
    }
   },
   "outputs": [],
   "source": [
    "# 3086 nodes / buses: Electrically fundamental node where x-port objects attach.\n",
    "n.buses"
   ]
  },
  {
   "cell_type": "code",
   "execution_count": null,
   "metadata": {
    "pycharm": {
     "name": "#%%\n"
    }
   },
   "outputs": [],
   "source": [
    "# PQ power consumer.\n",
    "n.loads_t.p"
   ]
  },
  {
   "cell_type": "code",
   "execution_count": null,
   "metadata": {
    "pycharm": {
     "name": "#%%\n"
    }
   },
   "outputs": [],
   "source": [
    "# Storage unit with fixed nominal-energy-to-nominal-power ratio.\n",
    "n.storage_units"
   ]
  },
  {
   "cell_type": "markdown",
   "metadata": {
    "pycharm": {
     "name": "#%% md\n"
    }
   },
   "source": [
    "## network visualization"
   ]
  },
  {
   "cell_type": "code",
   "execution_count": null,
   "metadata": {
    "pycharm": {
     "name": "#%%\n"
    }
   },
   "outputs": [],
   "source": [
    "m = n.copy()\n",
    "m.mremove(\"Bus\",m.buses[n.buses.x == 0].index )"
   ]
  },
  {
   "cell_type": "code",
   "execution_count": null,
   "metadata": {
    "pycharm": {
     "name": "#%%\n"
    }
   },
   "outputs": [],
   "source": [
    "fig, ax = plt.subplots(1, 1, subplot_kw={\"projection\": ccrs.EqualEarth()}, figsize=(8, 8))\n",
    "\n",
    "m.plot(ax=ax, projection=ccrs.EqualEarth())\n",
    "plt.show()"
   ]
  },
  {
   "cell_type": "code",
   "execution_count": null,
   "metadata": {
    "pycharm": {
     "name": "#%%\n"
    }
   },
   "outputs": [],
   "source": [
    "fig, ax = plt.subplots(1, 1, subplot_kw={\"projection\": ccrs.EqualEarth()}, figsize=(8, 8))\n",
    "\n",
    "bus_locs = pd.Index(m.buses.location.unique())\n",
    "load_distribution = m.loads_t.p[bus_locs].sum()/m.loads_t.p[bus_locs].sum().max()\n",
    "\n",
    "m.plot(bus_sizes=1*load_distribution, ax=ax, title=\"Load distribution\", projection=ccrs.EqualEarth())\n",
    "plt.show()"
   ]
  },
  {
   "cell_type": "code",
   "execution_count": null,
   "metadata": {
    "pycharm": {
     "name": "#%%\n"
    }
   },
   "outputs": [],
   "source": [
    "# line loading plot\n",
    "snap = n.snapshots[0]\n",
    "loading = m.lines_t.p0.loc[snap] / m.lines.s_nom\n",
    "loading[loading.isnull()] = 0\n",
    "\n",
    "fig, ax = plt.subplots(subplot_kw={\"projection\": ccrs.EqualEarth()}, figsize=(9, 9))\n",
    "cmap= plt.cm.OrRd\n",
    "norm = mcolors.Normalize(vmin=0, vmax=1)\n",
    "sm = plt.cm.ScalarMappable(cmap=cmap, norm=norm)\n",
    "sm.set_array([])\n",
    "\n",
    "colors = list(map(mcolors.to_hex, cmap(norm(loading))))\n",
    "\n",
    "m.plot(\n",
    "    ax=ax,\n",
    "    line_colors=colors,\n",
    "    line_cmap=plt.cm.jet,\n",
    "    title=\"Line loading\",\n",
    "    bus_sizes=1e-3,\n",
    "    bus_alpha=0.7,\n",
    ")\n",
    "\n",
    "plt.colorbar(sm, orientation='vertical', shrink=0.7, ax=ax)\n",
    "fig.tight_layout()"
   ]
  },
  {
   "cell_type": "code",
   "execution_count": null,
   "metadata": {
    "pycharm": {
     "name": "#%%\n"
    }
   },
   "outputs": [],
   "source": [
    "fig, ax = plt.subplots(subplot_kw={\"projection\": ccrs.PlateCarree()}, figsize=(8, 8))\n",
    "\n",
    "plt.hexbin(\n",
    "    m.buses.x,\n",
    "    m.buses.y,\n",
    "    gridsize=20,\n",
    "    C=m.buses_t.marginal_price.loc[m.snapshots[0]],\n",
    "    cmap=plt.cm.jet,\n",
    "    zorder=3,\n",
    ")\n",
    "m.plot(ax=ax, line_widths=pd.Series(0.5, m.lines.index), bus_sizes=0)\n",
    "\n",
    "cb = plt.colorbar(location=\"bottom\")\n",
    "cb.set_label(\"Locational Marginal Price (EUR/MWh)\")\n",
    "fig.tight_layout()"
   ]
  },
  {
   "cell_type": "markdown",
   "metadata": {
    "pycharm": {
     "name": "#%% md\n"
    }
   },
   "source": [
    "## Generation & Consumption"
   ]
  },
  {
   "cell_type": "markdown",
   "metadata": {
    "pycharm": {
     "name": "#%% md\n"
    }
   },
   "source": [
    "#### AC"
   ]
  },
  {
   "cell_type": "code",
   "execution_count": null,
   "metadata": {
    "pycharm": {
     "name": "#%%\n"
    }
   },
   "outputs": [],
   "source": [
    "carrier = [\"AC\"]\n",
    "nb_ac = nodal_balance(n, carrier = carrier, time=\"2013\", aggregate=['component', 'bus'], energy=True)  # in units of energy\n",
    "# convert from MW to GW\n",
    "nb_ac = nb_ac.unstack(level=[1]) / 1000\n",
    "nb_ac.head()"
   ]
  },
  {
   "cell_type": "code",
   "execution_count": null,
   "metadata": {
    "pycharm": {
     "name": "#%%\n"
    }
   },
   "outputs": [],
   "source": [
    "nb_ac_pos = nb_ac.sum()[nb_ac.sum() > 0].sort_values(ascending=False)\n",
    "# exclude all shares smaller than 0.1 %\n",
    "nb_ac_pos = nb_ac_pos[ (nb_ac_pos/ nb_ac_pos.sum()) > 0.005]"
   ]
  },
  {
   "cell_type": "code",
   "execution_count": null,
   "metadata": {
    "pycharm": {
     "name": "#%%\n"
    }
   },
   "outputs": [],
   "source": [
    "fig, ax = plt.subplots(figsize=(6, 7))\n",
    "\n",
    "c = [carrier_colors[col] for col in nb_ac_pos.index]\n",
    "percents = nb_ac_pos.to_numpy() * 100 / nb_ac_pos.to_numpy().sum()\n",
    "labels = ['%s (%1.1f %%)' % (l, s) for l, s in zip(nb_ac_pos.index,percents)]\n",
    "\n",
    "patches, texts = ax.pie(nb_ac_pos, colors=c, startangle=0, labels=labels)\n",
    "ax.axis('equal')\n",
    "\n",
    "plt.title(f\"Generation: {carrier}\")\n",
    "plt.show()"
   ]
  },
  {
   "cell_type": "code",
   "execution_count": null,
   "metadata": {
    "pycharm": {
     "name": "#%%\n"
    }
   },
   "outputs": [],
   "source": [
    "nb_ac_neg = abs(nb_ac.sum()[nb_ac.sum() < 0]).sort_values(ascending=False)\n",
    "# exclude all shares smaller than 0.1 %\n",
    "nb_ac_neg = nb_ac_neg[ (nb_ac_neg/ nb_ac_neg.sum()) > 0.005]"
   ]
  },
  {
   "cell_type": "code",
   "execution_count": null,
   "metadata": {
    "pycharm": {
     "name": "#%%\n"
    }
   },
   "outputs": [],
   "source": [
    "fig, ax = plt.subplots(figsize=(6, 7))\n",
    "\n",
    "c = [carrier_colors[col] for col in nb_ac_neg.index]\n",
    "percents = nb_ac_neg.to_numpy() * 100 / nb_ac_neg.to_numpy().sum()\n",
    "labels = ['%s (%1.1f %%)' % (l, s) for l, s in zip(nb_ac_neg.index,percents)]\n",
    "\n",
    "patches, texts = ax.pie(nb_ac_neg, colors=c, startangle=0, labels=labels)\n",
    "ax.axis('equal')\n",
    "\n",
    "plt.title(f\"Consumption: {carrier}\")\n",
    "plt.show()"
   ]
  },
  {
   "cell_type": "markdown",
   "metadata": {
    "pycharm": {
     "name": "#%% md\n"
    }
   },
   "source": [
    "#### H2"
   ]
  },
  {
   "cell_type": "code",
   "execution_count": null,
   "metadata": {
    "pycharm": {
     "name": "#%%\n"
    }
   },
   "outputs": [],
   "source": [
    "carrier = [\"H2\"]\n",
    "nb_h2 = nodal_balance(n, carrier = carrier, time=\"2013\", aggregate=['component', 'bus'], energy=True)  # in units of energy\n",
    "# convert from MW to GW\n",
    "nb_h2 = nb_h2.unstack(level=[1]) / 1000\n",
    "nb_h2.head()"
   ]
  },
  {
   "cell_type": "code",
   "execution_count": null,
   "metadata": {
    "pycharm": {
     "name": "#%%\n"
    }
   },
   "outputs": [],
   "source": [
    "# what about the fuel cell?\n",
    "plt.plot(nb_h2[\"H2 Fuel Cell\"])"
   ]
  },
  {
   "cell_type": "code",
   "execution_count": null,
   "metadata": {
    "pycharm": {
     "name": "#%%\n"
    }
   },
   "outputs": [],
   "source": [
    "nb_h2_pos = nb_h2.sum()[nb_h2.sum() > 0].sort_values(ascending=False)\n",
    "# exclude all shares smaller than 0.1 %\n",
    "nb_h2_pos = nb_h2_pos[ (nb_h2_pos/ nb_h2_pos.sum()) > 0.005]"
   ]
  },
  {
   "cell_type": "code",
   "execution_count": null,
   "metadata": {
    "pycharm": {
     "name": "#%%\n"
    }
   },
   "outputs": [],
   "source": [
    "fig, ax = plt.subplots(figsize=(6, 7))\n",
    "\n",
    "c = [carrier_colors[col] for col in nb_h2_pos.index]\n",
    "percents = nb_h2_pos.to_numpy() * 100 / nb_h2_pos.to_numpy().sum()\n",
    "labels = ['%s (%1.1f %%)' % (l, s) for l, s in zip(nb_h2_pos.index,percents)]\n",
    "\n",
    "patches, texts = ax.pie(nb_h2_pos, colors=c, startangle=0, labels=labels)\n",
    "ax.axis('equal')\n",
    "\n",
    "plt.title(f\"Generation: {carrier}\")\n",
    "plt.show()"
   ]
  },
  {
   "cell_type": "code",
   "execution_count": null,
   "metadata": {
    "pycharm": {
     "name": "#%%\n"
    }
   },
   "outputs": [],
   "source": [
    "# Fuel Cell & H2 are irrelevant\n",
    "abs(nb_h2.sum()[nb_h2.sum() < 0]).sort_values(ascending=False)"
   ]
  },
  {
   "cell_type": "code",
   "execution_count": null,
   "metadata": {
    "pycharm": {
     "name": "#%%\n"
    }
   },
   "outputs": [],
   "source": [
    "nb_h2_neg = abs(nb_h2.sum()[nb_h2.sum() < 0]).sort_values(ascending=False)\n",
    "# exclude all shares smaller than 0.1 %\n",
    "nb_h2_neg = nb_h2_neg[ (nb_h2_neg/ nb_h2_neg.sum()) > 0.005]"
   ]
  },
  {
   "cell_type": "code",
   "execution_count": null,
   "metadata": {
    "pycharm": {
     "name": "#%%\n"
    }
   },
   "outputs": [],
   "source": [
    "fig, ax = plt.subplots(figsize=(6, 7))\n",
    "\n",
    "c = [carrier_colors[col] for col in nb_h2_neg.index]\n",
    "percents = nb_h2_neg.to_numpy() * 100 / nb_h2_neg.to_numpy().sum()\n",
    "labels = ['%s (%1.1f %%)' % (l, s) for l, s in zip(nb_h2_neg.index,percents)]\n",
    "\n",
    "patches, texts = ax.pie(nb_h2_neg, colors=c, startangle=0, labels=labels)\n",
    "ax.axis('equal')\n",
    "\n",
    "plt.title(f\"Consumption: {carrier}\")\n",
    "plt.show()"
   ]
  },
  {
   "cell_type": "markdown",
   "metadata": {
    "pycharm": {
     "name": "#%% md\n"
    }
   },
   "source": [
    "#### Electricity"
   ]
  },
  {
   "cell_type": "code",
   "execution_count": null,
   "metadata": {
    "pycharm": {
     "name": "#%%\n"
    }
   },
   "outputs": [],
   "source": [
    "carrier = [\"AC\", \"battery\", \"Li ion\", \"low voltage\", \"home battery\"]\n",
    "nb_el = nodal_balance(n, carrier = carrier, time=\"2013\", aggregate=['component', 'bus'], energy=True)  # in units of energy\n",
    "# convert from MW to GW\n",
    "nb_el = nb_el.unstack(level=[1]) / 1000\n",
    "nb_el.head()"
   ]
  },
  {
   "cell_type": "code",
   "execution_count": null,
   "metadata": {
    "pycharm": {
     "name": "#%%\n"
    }
   },
   "outputs": [],
   "source": [
    "# Generation\n",
    "nb_el_pos = nb_el.sum()[nb_el.sum() > 0].sort_values(ascending=False)\n",
    "# exclude all shares smaller than 0.5 %\n",
    "nb_el_pos = nb_el_pos[(nb_el_pos / nb_el_pos.sum()) > 0.005]\n",
    "\n",
    "fig, ax = plt.subplots(figsize=(6, 7))\n",
    "\n",
    "c = [carrier_colors[col] for col in nb_el_pos.index]\n",
    "percents = nb_el_pos.to_numpy() * 100 / nb_el_pos.to_numpy().sum()\n",
    "labels = ['%s (%1.1f %%)' % (l, s) for l, s in zip(nb_el_pos.index, percents)]\n",
    "\n",
    "patches, texts = ax.pie(nb_el_pos, colors=c, startangle=0, labels=labels)\n",
    "ax.axis('equal')\n",
    "\n",
    "plt.title(f\"Generation: {carrier}\")\n",
    "plt.show()"
   ]
  },
  {
   "cell_type": "code",
   "execution_count": null,
   "metadata": {
    "pycharm": {
     "name": "#%%\n"
    }
   },
   "outputs": [],
   "source": [
    "# Consumption\n",
    "nb_el_neg = abs(nb_el.sum()[nb_el.sum() < 0]).sort_values(ascending=False)\n",
    "# exclude all shares smaller than 0.5 %\n",
    "nb_el_neg = nb_el_neg[(nb_el_neg / nb_el_neg.sum()) > 0.005]\n",
    "\n",
    "fig, ax = plt.subplots(figsize=(6, 7))\n",
    "\n",
    "c = [carrier_colors[col] for col in nb_el_neg.index]\n",
    "percents = nb_el_neg.to_numpy() * 100 / nb_el_neg.to_numpy().sum()\n",
    "labels = ['%s (%1.1f %%)' % (l, s) for l, s in zip(nb_el_neg.index, percents)]\n",
    "\n",
    "patches, texts = ax.pie(nb_el_neg, colors=c, startangle=0, labels=labels)\n",
    "ax.axis('equal')\n",
    "\n",
    "plt.title(f\"Consumption: {carrier}\")\n",
    "plt.show()"
   ]
  },
  {
   "cell_type": "markdown",
   "metadata": {
    "pycharm": {
     "name": "#%% md\n"
    }
   },
   "source": [
    "## first plots"
   ]
  },
  {
   "cell_type": "code",
   "execution_count": null,
   "metadata": {
    "pycharm": {
     "name": "#%%\n"
    }
   },
   "outputs": [],
   "source": [
    "# create some interesting indices\n",
    "\n",
    "# first hour: 1.1.2013 00:00:00 - 01:00:00\n",
    "hour1 = n.generators_t.p.index <= datetime.datetime(2013,1,1,1)\n",
    "# first day: 1.1.2013\n",
    "day1 = n.generators_t.p.index <= datetime.datetime(2013,1,1)\n",
    "# first month: january\n",
    "month1 = n.generators_t.p.index < datetime.datetime(2013,1,31)"
   ]
  },
  {
   "cell_type": "code",
   "execution_count": null,
   "metadata": {
    "pycharm": {
     "name": "#%%\n"
    }
   },
   "outputs": [],
   "source": [
    "# generation of generator 'AL0 0 offwind-ac' for first month\n",
    "plt.plot(n.generators_t.p['AL0 0 offwind-ac'][month1])"
   ]
  },
  {
   "cell_type": "code",
   "execution_count": null,
   "metadata": {
    "pycharm": {
     "name": "#%%\n"
    }
   },
   "outputs": [],
   "source": [
    "# names of the different generators\n",
    "n.generators_t.p.columns"
   ]
  },
  {
   "cell_type": "code",
   "execution_count": null,
   "metadata": {
    "pycharm": {
     "name": "#%%\n"
    }
   },
   "outputs": [],
   "source": [
    "plt.plot(n.generators_t.p[month1]['AL0 0 solar'])"
   ]
  },
  {
   "cell_type": "code",
   "execution_count": null,
   "metadata": {
    "pycharm": {
     "name": "#%%\n"
    }
   },
   "outputs": [],
   "source": [
    "# market values: \"onwind\", \"solar\", \"solar rooftop\", \"offwind-dc\", \"offwind-ac\"\n",
    "mv_onwind = market_values(n, \"onwind\")\n",
    "mv_onwind"
   ]
  },
  {
   "cell_type": "code",
   "execution_count": null,
   "metadata": {
    "pycharm": {
     "name": "#%%\n"
    }
   },
   "outputs": [],
   "source": [
    "plt.plot(mv_onwind,'x')"
   ]
  },
  {
   "cell_type": "code",
   "execution_count": null,
   "metadata": {
    "pycharm": {
     "name": "#%%\n"
    }
   },
   "outputs": [],
   "source": [
    "# shadow prices (in €/MWh) for every nod/bus and time step\n",
    "# (e.g. Locational Marginal Price (LMP) for electricity)\n",
    "n.buses_t.marginal_price"
   ]
  },
  {
   "cell_type": "code",
   "execution_count": null,
   "metadata": {
    "pycharm": {
     "name": "#%%\n"
    }
   },
   "outputs": [],
   "source": [
    "carrier = \"onwind\"\n",
    "# select all the generators for specific carrier e.g. onwind\n",
    "gen = n.generators_t.p.loc[:, n.generators.carrier == carrier]\n",
    "# create index from the generators and use as column names\n",
    "gen.columns = gen.columns.map(n.generators.bus)\n",
    "# get locational marginal prices for all locations and all time steps\n",
    "lmp = n.buses_t.marginal_price.loc[:, gen.columns]"
   ]
  },
  {
   "cell_type": "code",
   "execution_count": null,
   "metadata": {
    "pycharm": {
     "name": "#%%\n"
    }
   },
   "outputs": [],
   "source": [
    "# plot of lmp of AL0 0\n",
    "plt.plot(lmp[\"AL0 0\"])"
   ]
  },
  {
   "cell_type": "code",
   "execution_count": null,
   "metadata": {
    "pycharm": {
     "name": "#%%\n"
    }
   },
   "outputs": [],
   "source": [
    "# calculate market values as sum product of generation times lmp divided by total generation\n",
    "mv = (gen * lmp).sum() / gen.sum()\n",
    "# set location of the buses/nodes as the index -> shape = (n_generators x 1) 1 col with mvs\n",
    "mv.index = mv.index.map(n.buses.location)"
   ]
  },
  {
   "cell_type": "code",
   "execution_count": null,
   "metadata": {
    "pycharm": {
     "name": "#%%\n"
    }
   },
   "outputs": [],
   "source": [
    "# plot: carrier market value plotted against carrier share\n",
    "market_share = gen.sum(axis=1) / n.generators_t.p.sum(axis=1)\n",
    "plt.scatter(market_share, lmp.mean(axis=1))"
   ]
  },
  {
   "cell_type": "code",
   "execution_count": null,
   "metadata": {
    "pycharm": {
     "name": "#%%\n"
    }
   },
   "outputs": [],
   "source": [
    "plt.plot(market_share[month1])\n",
    "plt.plot((lmp.mean(axis=1)/lmp.max(axis=1))[month1])"
   ]
  },
  {
   "cell_type": "code",
   "execution_count": null,
   "metadata": {
    "pycharm": {
     "name": "#%%\n"
    }
   },
   "outputs": [],
   "source": [
    "lmp.mean(axis=1)"
   ]
  },
  {
   "cell_type": "code",
   "execution_count": null,
   "metadata": {
    "pycharm": {
     "name": "#%%\n"
    }
   },
   "outputs": [],
   "source": [
    "market_share"
   ]
  },
  {
   "cell_type": "code",
   "execution_count": null,
   "metadata": {
    "pycharm": {
     "name": "#%%\n"
    }
   },
   "outputs": [],
   "source": [
    "test = pd.concat([market_share, lmp.mean(axis=1)], axis=1)\n",
    "test.columns = [\"market_share\", \"lmp\"]\n",
    "test.set_index(\"market_share\", inplace=True)\n",
    "test.sort_index(ascending=True)"
   ]
  },
  {
   "cell_type": "code",
   "execution_count": null,
   "metadata": {
    "pycharm": {
     "name": "#%%\n"
    }
   },
   "outputs": [],
   "source": [
    "plt.scatter(test.index, test.lmp)\n",
    "m, b = np.polyfit(test.index, test.lmp, 1)\n",
    "plt.plot(test.index, m*test.index+b, color=\"red\")"
   ]
  },
  {
   "cell_type": "code",
   "execution_count": null,
   "metadata": {
    "pycharm": {
     "name": "#%%\n"
    }
   },
   "outputs": [],
   "source": [
    "mv_onwind = market_values(n,\"onwind\")"
   ]
  },
  {
   "cell_type": "code",
   "execution_count": null,
   "metadata": {
    "pycharm": {
     "name": "#%%\n"
    }
   },
   "outputs": [],
   "source": [
    "# Link between two buses with controllable active power - can be used for a transport power flow model OR as a simplified version of point-to-point DC connection OR as a lossy energy converter. NB: for a lossless bi-directional HVDC or transport link, set p_min_pu = -1 and efficiency = 1. NB: It is assumed that the links neither produce nor consume reactive power.\n",
    "\n",
    "n.links_t.p0"
   ]
  },
  {
   "cell_type": "code",
   "execution_count": null,
   "metadata": {
    "pycharm": {
     "name": "#%%\n"
    }
   },
   "outputs": [],
   "source": [
    "n.components"
   ]
  },
  {
   "cell_type": "code",
   "execution_count": null,
   "metadata": {
    "pycharm": {
     "name": "#%%\n"
    }
   },
   "outputs": [],
   "source": [
    "# market value for the 181 onwind generators (k-mean clusters)\n",
    "mv_onwind"
   ]
  },
  {
   "cell_type": "code",
   "execution_count": null,
   "metadata": {
    "pycharm": {
     "name": "#%%\n"
    }
   },
   "outputs": [],
   "source": [
    "p_by_carrier = n.generators_t.p.groupby(n.generators.carrier, axis=1).sum()\n",
    "p_by_carrier.drop(\n",
    "    (p_by_carrier.max()[p_by_carrier.max() < 1700.0]).index, axis=1, inplace=True\n",
    ")\n",
    "p_by_carrier.columns"
   ]
  },
  {
   "cell_type": "code",
   "execution_count": null,
   "metadata": {
    "pycharm": {
     "name": "#%%\n"
    }
   },
   "outputs": [],
   "source": [
    "colors = {\n",
    "    \"oil\": \"k\",\n",
    "    \"offwind-dc\": \"r\",\n",
    "    \"onwind\": \"green\",\n",
    "    \"ror\": \"blue\",\n",
    "    \"solar\": \"yellow\",\n",
    "    \"offwind-ac\": \"cyan\",\n",
    "    \"solar rooftop\": \"brown\",\n",
    "    \"gas\": \"orange\",\n",
    "    \"urban central solar thermal\": \"pink\"\n",
    "}\n",
    "# reorder\n",
    "cols = [\n",
    "    \"oil\",\n",
    "    \"gas\",\n",
    "    \"ror\",\n",
    "    \"offwind-ac\",\n",
    "    \"offwind-dc\",\n",
    "    \"onwind\",\n",
    "    \"solar\",\n",
    "    \"solar rooftop\",\n",
    "    \"urban central solar thermal\",\n",
    "]\n",
    "p_by_carrier = p_by_carrier[cols]"
   ]
  },
  {
   "cell_type": "code",
   "execution_count": null,
   "metadata": {
    "pycharm": {
     "name": "#%%\n"
    }
   },
   "outputs": [],
   "source": [
    "p_by_carrier.max()"
   ]
  },
  {
   "cell_type": "code",
   "execution_count": null,
   "metadata": {
    "pycharm": {
     "name": "#%%\n"
    }
   },
   "outputs": [],
   "source": [
    "(p_by_carrier / 1e3).max()"
   ]
  },
  {
   "cell_type": "code",
   "execution_count": null,
   "metadata": {
    "pycharm": {
     "name": "#%%\n"
    }
   },
   "outputs": [],
   "source": [
    "index = (p_by_carrier.index > datetime.datetime(2013,3,31)) & (p_by_carrier.index < datetime.datetime(2013,5,1)) # huge peak for 16.02\n",
    "c = [colors[col] for col in p_by_carrier.columns]\n",
    "\n",
    "fig, ax = plt.subplots(figsize=(12, 6))\n",
    "(p_by_carrier[index] / 1e3).plot(kind=\"area\", ax=ax, linewidth=4, color=c, alpha=0.7)\n",
    "ax.legend(ncol=4, loc=\"upper left\")\n",
    "ax.set_ylabel(\"GW\")\n",
    "ax.set_xlabel(\"\")\n",
    "fig.tight_layout()"
   ]
  },
  {
   "cell_type": "code",
   "execution_count": null,
   "metadata": {
    "pycharm": {
     "name": "#%%\n"
    }
   },
   "outputs": [],
   "source": [
    "p_by_carrier[index]"
   ]
  },
  {
   "cell_type": "code",
   "execution_count": null,
   "metadata": {
    "pycharm": {
     "name": "#%%\n"
    }
   },
   "outputs": [],
   "source": [
    "fig, ax = plt.subplots(figsize=(12, 6))\n",
    "\n",
    "p_storage = n.storage_units_t.p.sum(axis=1)\n",
    "state_of_charge = n.storage_units_t.state_of_charge.sum(axis=1) / 1e3\n",
    "p_storage.plot(label=\"Pumped hydro dispatch (MWh)\", ax=ax, linewidth=3)\n",
    "state_of_charge.plot(label=\"State of charge (GWh)\", ax=ax, linewidth=3)\n",
    "\n",
    "ax.legend()\n",
    "ax.grid()\n",
    "ax.set_ylabel(\"\")\n",
    "ax.set_xlabel(\"\")\n",
    "fig.tight_layout()"
   ]
  },
  {
   "cell_type": "code",
   "execution_count": null,
   "metadata": {
    "pycharm": {
     "name": "#%%\n"
    }
   },
   "outputs": [],
   "source": [
    "# marginal prices\n",
    "n.buses_t.marginal_price.loc[snap].describe()"
   ]
  },
  {
   "cell_type": "code",
   "execution_count": null,
   "metadata": {
    "pycharm": {
     "name": "#%%\n"
    }
   },
   "outputs": [],
   "source": [
    "n.buses[n.buses.x != 0].index"
   ]
  },
  {
   "cell_type": "code",
   "execution_count": null,
   "metadata": {
    "pycharm": {
     "name": "#%%\n"
    }
   },
   "outputs": [],
   "source": [
    "n.buses_t.marginal_price.loc[snap,n.buses[n.buses.x != 0].index]"
   ]
  },
  {
   "cell_type": "code",
   "execution_count": null,
   "metadata": {
    "pycharm": {
     "name": "#%%\n"
    }
   },
   "outputs": [],
   "source": [
    "fig, ax = plt.subplots(subplot_kw={\"projection\": ccrs.PlateCarree()}, figsize=(8, 8))\n",
    "\n",
    "plt.hexbin(\n",
    "    n.buses[n.buses.x != 0].x,\n",
    "    n.buses[n.buses.x != 0].y,\n",
    "    gridsize=20,\n",
    "    C=n.buses_t.marginal_price.loc[snap,n.buses[n.buses.x != 0].index],\n",
    "    cmap=plt.cm.jet,\n",
    "    zorder=3,\n",
    ")\n",
    "# n.plot(ax=ax, line_widths=pd.Series(0.5, n.lines.index), bus_sizes=0)\n",
    "\n",
    "cb = plt.colorbar(location=\"bottom\")\n",
    "cb.set_label(\"Locational Marginal Price (EUR/MWh)\")\n",
    "fig.tight_layout()"
   ]
  },
  {
   "cell_type": "markdown",
   "metadata": {
    "pycharm": {
     "name": "#%% md\n"
    }
   },
   "source": [
    "## Market values general investigation"
   ]
  },
  {
   "cell_type": "code",
   "execution_count": null,
   "metadata": {
    "pycharm": {
     "name": "#%%\n"
    }
   },
   "outputs": [],
   "source": [
    "carriers_buses = n.buses.carrier.unique().tolist()\n",
    "carriers_gens = n.generators.carrier.unique().tolist()\n",
    "carriers_links = n.links.carrier.unique().tolist()\n",
    "carriers_buses\n",
    "carriers_gens\n",
    "carriers_links"
   ]
  },
  {
   "cell_type": "code",
   "execution_count": null,
   "metadata": {
    "pycharm": {
     "name": "#%%\n"
    }
   },
   "outputs": [],
   "source": [
    "# counts of number of regions where a generator of e specific carrier is present\n",
    "n.generators.carrier.value_counts()"
   ]
  },
  {
   "cell_type": "code",
   "execution_count": null,
   "metadata": {
    "pycharm": {
     "name": "#%%\n"
    }
   },
   "outputs": [],
   "source": [
    "# market values for generators\n",
    "mv_carriers = pd.DataFrame(index = n.buses.location.unique(), columns = carriers_gens)\n",
    "\n",
    "for carrier in carriers_gens:\n",
    "    mv_carriers[carrier] = market_values(n, carrier)\n",
    "\n",
    "mv_carriers"
   ]
  },
  {
   "cell_type": "code",
   "execution_count": null,
   "metadata": {
    "pycharm": {
     "name": "#%%\n"
    }
   },
   "outputs": [],
   "source": [
    "# plot overall market value for all carriers in generators\n",
    "\n",
    "mv_carriers_mean = pd.DataFrame(mv_carriers.mean())\n",
    "mv_carriers_mean.columns = [\"market_values\"]\n",
    "sns.set(rc={'figure.figsize':(8,6)})\n",
    "sns.barplot(data=mv_carriers_mean,y=mv_carriers_mean.index, x=\"market_values\", orient=\"h\")\n",
    "ticks = plt.xticks(rotation=90)"
   ]
  },
  {
   "cell_type": "code",
   "execution_count": null,
   "metadata": {
    "pycharm": {
     "name": "#%%\n"
    }
   },
   "outputs": [],
   "source": [
    "# Plot of mv of carriers by country\n",
    "mv_carriers[\"country\"] = mv_carriers.index.str[:2]\n",
    "ax = mv_carriers.groupby(by=\"country\").mean().plot(figsize=(20,10))\n",
    "plt.legend(loc='upper left', ncol=3, prop={'size': 12})\n",
    "ax.set_xticks(range(len(mv_carriers.groupby(by=\"country\").mean())))\n",
    "ticks = ax.set_xticklabels(labels = [item for item in mv_carriers.groupby(by=\"country\").mean().index.tolist()], rotation=0)"
   ]
  },
  {
   "cell_type": "code",
   "execution_count": null,
   "metadata": {
    "pycharm": {
     "name": "#%%\n"
    }
   },
   "outputs": [],
   "source": [
    "# # Plot of market values of carriers for periods\n",
    "days = pd.DatetimeIndex(np.unique(n.generators_t.p.index.date))\n",
    "# plt.figure(figsize=(15, 10))\n",
    "#\n",
    "# for carrier in car_gen_vre:\n",
    "#     mv = market_values_by_time_index(n, days, carrier)\n",
    "#     plt.plot(mv.mean(axis=1), label=carrier)\n",
    "#\n",
    "# plt.legend()"
   ]
  },
  {
   "cell_type": "code",
   "execution_count": null,
   "metadata": {
    "pycharm": {
     "name": "#%%\n"
    }
   },
   "outputs": [],
   "source": [
    "# # Plot of all locational marginal prices over all carriers per regions\n",
    "lmp_regions = n.buses_t.marginal_price.loc[:, n.buses.location.unique()[:-1]]\n",
    "# df1 = lmp_regions.mean()\n",
    "# sns.set(rc={'figure.figsize':(10,30)})\n",
    "# ax = sns.barplot(y=df1.index, x=df1.values)\n",
    "#\n",
    "# for i in ax.containers:\n",
    "#     ax.bar_label(i,)"
   ]
  },
  {
   "cell_type": "code",
   "execution_count": null,
   "metadata": {
    "pycharm": {
     "name": "#%%\n"
    }
   },
   "outputs": [],
   "source": [
    "# # Plot of lmp over all carriers averaged over countries\n",
    "# df2 = lmp_regions.transpose()\n",
    "# df2[\"country\"] = df2.index.str[:2]\n",
    "# df2 = df2.groupby(by=\"country\").mean().mean(axis=1)\n",
    "# sns.set(rc={'figure.figsize':(10,7)})\n",
    "# ax = sns.barplot(y=df2.index, x=df2.values)\n",
    "#\n",
    "# for i in ax.containers:\n",
    "#     ax.bar_label(i,)"
   ]
  },
  {
   "cell_type": "code",
   "execution_count": null,
   "metadata": {
    "pycharm": {
     "name": "#%%\n"
    }
   },
   "outputs": [],
   "source": [
    "# Plot of lmp daily pattern of lmps over all carriers normalized by the mean price of the day\n",
    "plt.figure(figsize=(12, 8))\n",
    "\n",
    "carrier_bus = \"H2\" #carriers_buses\n",
    "locs = n.buses.location[n.buses[n.buses.carrier == carrier_bus].index]\n",
    "lmps = n.buses_t.marginal_price[n.buses[n.buses.carrier == carrier_bus].index]\n",
    "\n",
    "for day in days:\n",
    "    df = lmps[lmps.index.date == day.date()].mean(axis=1)\n",
    "    df_normalized = df / df.mean()\n",
    "    plt.plot(df_normalized.index.hour, df_normalized.values)"
   ]
  },
  {
   "cell_type": "code",
   "execution_count": null,
   "metadata": {
    "pycharm": {
     "name": "#%%\n"
    }
   },
   "outputs": [],
   "source": [
    "# # Plot of lmp daily pattern of lmps over all carriers normalized by the mean price of the current day\n",
    "plt.figure(figsize=(12, 8))\n",
    "df3 = pd.DataFrame(lmps.mean(axis=1))\n",
    "df3.columns = [\"lmp\"]\n",
    "df3[\"lmp_normalized\"] = np.nan\n",
    "\n",
    "for snap in df3.index:\n",
    "    df3.loc[snap, \"lmp_normalized\"] = df3.loc[snap, \"lmp\"] / df3[df3.index.date == snap.date()].lmp.mean()\n",
    "\n",
    "df3[\"hour_of_day\"] = df3.index.hour\n",
    "sns.boxplot(data=df3, y=\"lmp_normalized\", x=\"hour_of_day\")\n",
    "plt.show()"
   ]
  },
  {
   "cell_type": "code",
   "execution_count": null,
   "metadata": {
    "pycharm": {
     "name": "#%%\n"
    }
   },
   "outputs": [],
   "source": []
  },
  {
   "cell_type": "code",
   "execution_count": null,
   "metadata": {
    "pycharm": {
     "name": "#%%\n"
    }
   },
   "outputs": [],
   "source": [
    "# simulation fractal\n",
    "from shapely.geometry import Point\n",
    "import random\n",
    "\n",
    "def midpoint(p1, p2):\n",
    "    return Point((p1.x+p2.x)/2, (p1.y+p2.y)/2)\n",
    "\n",
    "def get_coords(list):\n",
    "    xs = [point.x for point in list]\n",
    "    ys = [point.y for point in list]\n",
    "    return xs, ys\n",
    "\n",
    "n = 11*365\n",
    "a, b, c = Point(0,2), Point(0,3), Point(2, 0)\n",
    "start_point = Point(1, 2)\n",
    "points = [a, b, c]\n",
    "more_points = []\n",
    "\n",
    "fig = plt.figure(figsize=(10, 15))\n",
    "xs, ys = get_coords(points)\n",
    "plt.scatter(xs, ys, marker=\"h\", color=\"darkorange\")\n",
    "\n",
    "plt.scatter(start_point.x, start_point.y, marker=\"*\", color=\"darkorange\")\n",
    "\n",
    "for i in range(n):\n",
    "    next_point = midpoint(start_point, random.choice(points))\n",
    "    more_points.append(next_point)\n",
    "    start_point = next_point\n",
    "\n",
    "xs, ys = get_coords(more_points)\n",
    "plt.scatter(xs, ys, s=0.9, color=\"darkviolet\")\n",
    "\n",
    "plt.grid(False)\n",
    "plt.axis('off')\n",
    "fig.set_facecolor('azure')\n",
    "\n",
    "plt.show()"
   ]
  },
  {
   "cell_type": "code",
   "execution_count": null,
   "metadata": {
    "pycharm": {
     "name": "#%%\n"
    }
   },
   "outputs": [],
   "source": []
  },
  {
   "cell_type": "code",
   "execution_count": null,
   "metadata": {
    "pycharm": {
     "name": "#%%\n"
    }
   },
   "outputs": [],
   "source": []
  }
 ],
 "metadata": {
  "kernelspec": {
   "display_name": "Python 3 (ipykernel)",
   "language": "python",
   "name": "python3"
  },
  "language_info": {
   "codemirror_mode": {
    "name": "ipython",
    "version": 3
   },
   "file_extension": ".py",
   "mimetype": "text/x-python",
   "name": "python",
   "nbconvert_exporter": "python",
   "pygments_lexer": "ipython3",
   "version": "3.10.6"
  }
 },
 "nbformat": 4,
 "nbformat_minor": 1
}
