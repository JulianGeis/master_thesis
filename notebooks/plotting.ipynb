{
 "cells": [
  {
   "cell_type": "code",
   "execution_count": 2,
   "outputs": [
    {
     "name": "stderr",
     "output_type": "stream",
     "text": [
      "WARNING:pypsa.io:\n",
      "Importing PyPSA from older version of PyPSA than current version.\n",
      "Please read the release notes at https://pypsa.readthedocs.io/en/latest/release_notes.html\n",
      "carefully to prepare your network for import.\n",
      "Currently used PyPSA version [0, 20, 1], imported network file PyPSA version [0, 18, 1].\n",
      "\n",
      "INFO:pypsa.io:Imported network elec_s_181_lv1.0__Co2L0-3H-T-H-B-I-A-solar+p3-linemaxext10-noH2network_2030.nc has buses, carriers, generators, global_constraints, lines, links, loads, storage_units, stores\n"
     ]
    },
    {
     "data": {
      "text/html": "        <script type=\"text/javascript\">\n        window.PlotlyConfig = {MathJaxConfig: 'local'};\n        if (window.MathJax && window.MathJax.Hub && window.MathJax.Hub.Config) {window.MathJax.Hub.Config({SVG: {font: \"STIX-Web\"}});}\n        if (typeof require !== 'undefined') {\n        require.undef(\"plotly\");\n        requirejs.config({\n            paths: {\n                'plotly': ['https://cdn.plot.ly/plotly-2.12.1.min']\n            }\n        });\n        require(['plotly'], function(Plotly) {\n            window._Plotly = Plotly;\n        });\n        }\n        </script>\n        "
     },
     "metadata": {},
     "output_type": "display_data"
    },
    {
     "name": "stderr",
     "output_type": "stream",
     "text": [
      "C:\\Users\\Julian\\Programs\\anaconda3\\envs\\ma_env\\lib\\site-packages\\plotly\\graph_objs\\_deprecations.py:378: DeprecationWarning:\n",
      "\n",
      "plotly.graph_objs.Line is deprecated.\n",
      "Please replace it with one of the following more specific types\n",
      "  - plotly.graph_objs.scatter.Line\n",
      "  - plotly.graph_objs.layout.shape.Line\n",
      "  - etc.\n",
      "\n",
      "\n"
     ]
    },
    {
     "ename": "TypeError",
     "evalue": "can only concatenate tuple (not \"list\") to tuple",
     "output_type": "error",
     "traceback": [
      "\u001B[1;31m---------------------------------------------------------------------------\u001B[0m",
      "\u001B[1;31mTypeError\u001B[0m                                 Traceback (most recent call last)",
      "Input \u001B[1;32mIn [2]\u001B[0m, in \u001B[0;36m<cell line: 29>\u001B[1;34m()\u001B[0m\n\u001B[0;32m     30\u001B[0m     x0, y0 \u001B[38;5;241m=\u001B[39m n\u001B[38;5;241m.\u001B[39mbuses\u001B[38;5;241m.\u001B[39mat[n\u001B[38;5;241m.\u001B[39mlines\u001B[38;5;241m.\u001B[39mat[edge,\u001B[38;5;124m\"\u001B[39m\u001B[38;5;124mbus0\u001B[39m\u001B[38;5;124m\"\u001B[39m],\u001B[38;5;124m\"\u001B[39m\u001B[38;5;124mx\u001B[39m\u001B[38;5;124m\"\u001B[39m],n\u001B[38;5;241m.\u001B[39mbuses\u001B[38;5;241m.\u001B[39mat[n\u001B[38;5;241m.\u001B[39mlines\u001B[38;5;241m.\u001B[39mat[edge,\u001B[38;5;124m\"\u001B[39m\u001B[38;5;124mbus0\u001B[39m\u001B[38;5;124m\"\u001B[39m],\u001B[38;5;124m\"\u001B[39m\u001B[38;5;124my\u001B[39m\u001B[38;5;124m\"\u001B[39m]\n\u001B[0;32m     31\u001B[0m     x1, y1 \u001B[38;5;241m=\u001B[39m n\u001B[38;5;241m.\u001B[39mbuses\u001B[38;5;241m.\u001B[39mat[n\u001B[38;5;241m.\u001B[39mlines\u001B[38;5;241m.\u001B[39mat[edge,\u001B[38;5;124m\"\u001B[39m\u001B[38;5;124mbus1\u001B[39m\u001B[38;5;124m\"\u001B[39m],\u001B[38;5;124m\"\u001B[39m\u001B[38;5;124mx\u001B[39m\u001B[38;5;124m\"\u001B[39m],n\u001B[38;5;241m.\u001B[39mbuses\u001B[38;5;241m.\u001B[39mat[n\u001B[38;5;241m.\u001B[39mlines\u001B[38;5;241m.\u001B[39mat[edge,\u001B[38;5;124m\"\u001B[39m\u001B[38;5;124mbus1\u001B[39m\u001B[38;5;124m\"\u001B[39m],\u001B[38;5;124m\"\u001B[39m\u001B[38;5;124my\u001B[39m\u001B[38;5;124m\"\u001B[39m]\n\u001B[1;32m---> 32\u001B[0m     edge_trace[\u001B[38;5;124m'\u001B[39m\u001B[38;5;124mx\u001B[39m\u001B[38;5;124m'\u001B[39m] \u001B[38;5;241m+\u001B[39m\u001B[38;5;241m=\u001B[39m [x0, x1, \u001B[38;5;28;01mNone\u001B[39;00m]\n\u001B[0;32m     33\u001B[0m     edge_trace[\u001B[38;5;124m'\u001B[39m\u001B[38;5;124my\u001B[39m\u001B[38;5;124m'\u001B[39m] \u001B[38;5;241m+\u001B[39m\u001B[38;5;241m=\u001B[39m [y0, y1, \u001B[38;5;28;01mNone\u001B[39;00m]\n\u001B[0;32m     35\u001B[0m mid_edge_trace \u001B[38;5;241m=\u001B[39m Scatter(\n\u001B[0;32m     36\u001B[0m     x\u001B[38;5;241m=\u001B[39m[\u001B[38;5;241m0.5\u001B[39m\u001B[38;5;241m*\u001B[39m(n\u001B[38;5;241m.\u001B[39mbuses\u001B[38;5;241m.\u001B[39mat[n\u001B[38;5;241m.\u001B[39mlines\u001B[38;5;241m.\u001B[39mat[line,\u001B[38;5;124m\"\u001B[39m\u001B[38;5;124mbus0\u001B[39m\u001B[38;5;124m\"\u001B[39m],\u001B[38;5;124m\"\u001B[39m\u001B[38;5;124mx\u001B[39m\u001B[38;5;124m\"\u001B[39m]\u001B[38;5;241m+\u001B[39mn\u001B[38;5;241m.\u001B[39mbuses\u001B[38;5;241m.\u001B[39mat[n\u001B[38;5;241m.\u001B[39mlines\u001B[38;5;241m.\u001B[39mat[line,\u001B[38;5;124m\"\u001B[39m\u001B[38;5;124mbus1\u001B[39m\u001B[38;5;124m\"\u001B[39m],\u001B[38;5;124m\"\u001B[39m\u001B[38;5;124mx\u001B[39m\u001B[38;5;124m\"\u001B[39m]) \u001B[38;5;28;01mfor\u001B[39;00m line \u001B[38;5;129;01min\u001B[39;00m n\u001B[38;5;241m.\u001B[39mlines\u001B[38;5;241m.\u001B[39mindex],\n\u001B[0;32m     37\u001B[0m     y\u001B[38;5;241m=\u001B[39m[\u001B[38;5;241m0.5\u001B[39m\u001B[38;5;241m*\u001B[39m(n\u001B[38;5;241m.\u001B[39mbuses\u001B[38;5;241m.\u001B[39mat[n\u001B[38;5;241m.\u001B[39mlines\u001B[38;5;241m.\u001B[39mat[line,\u001B[38;5;124m\"\u001B[39m\u001B[38;5;124mbus0\u001B[39m\u001B[38;5;124m\"\u001B[39m],\u001B[38;5;124m\"\u001B[39m\u001B[38;5;124my\u001B[39m\u001B[38;5;124m\"\u001B[39m]\u001B[38;5;241m+\u001B[39mn\u001B[38;5;241m.\u001B[39mbuses\u001B[38;5;241m.\u001B[39mat[n\u001B[38;5;241m.\u001B[39mlines\u001B[38;5;241m.\u001B[39mat[line,\u001B[38;5;124m\"\u001B[39m\u001B[38;5;124mbus1\u001B[39m\u001B[38;5;124m\"\u001B[39m],\u001B[38;5;124m\"\u001B[39m\u001B[38;5;124my\u001B[39m\u001B[38;5;124m\"\u001B[39m]) \u001B[38;5;28;01mfor\u001B[39;00m line \u001B[38;5;129;01min\u001B[39;00m n\u001B[38;5;241m.\u001B[39mlines\u001B[38;5;241m.\u001B[39mindex],\n\u001B[1;32m   (...)\u001B[0m\n\u001B[0;32m     42\u001B[0m         opacity\u001B[38;5;241m=\u001B[39m\u001B[38;5;241m0\u001B[39m\n\u001B[0;32m     43\u001B[0m     ))\n",
      "\u001B[1;31mTypeError\u001B[0m: can only concatenate tuple (not \"list\") to tuple"
     ]
    }
   ],
   "source": [
    "## Based on https://plot.ly/python/network-graphs/\n",
    "\n",
    "## Copyright plotly team, Tom Brown, Bryn Pickering 2017\n",
    "\n",
    "## Licensed under the Apache 2.0 Licence.\n",
    "\n",
    "## Working demo: https://pypsa.org/examples/plotly_network.html\n",
    "\n",
    "import plotly.offline as py\n",
    "from plotly.graph_objs import *\n",
    "\n",
    "import pypsa\n",
    "\n",
    "#data available from https://github.com/FRESNA/PyPSA\n",
    "# n = pypsa.Network(\"/home/tom/fias/lib/pypsa/examples/scigrid-de/scigrid-with-load-gen-trafos/\")\n",
    "n =pypsa.Network(\"../data/raw/elec_s_181_lv1.0__Co2L0-3H-T-H-B-I-A-solar+p3-linemaxext10-noH2network_2030.nc\")\n",
    "\n",
    "\n",
    "py.init_notebook_mode(connected=True)\n",
    "%matplotlib inline\n",
    "\n",
    "edge_trace = Scatter(\n",
    "    x=[],\n",
    "    y=[],\n",
    "    line=Line(width=0.5,color='#888'),\n",
    "    hoverinfo='none',\n",
    "    mode='lines')\n",
    "\n",
    "for edge in n.lines.index:\n",
    "    x0, y0 = n.buses.at[n.lines.at[edge,\"bus0\"],\"x\"],n.buses.at[n.lines.at[edge,\"bus0\"],\"y\"]\n",
    "    x1, y1 = n.buses.at[n.lines.at[edge,\"bus1\"],\"x\"],n.buses.at[n.lines.at[edge,\"bus1\"],\"y\"]\n",
    "    edge_trace['x'] += [x0, x1, None]\n",
    "    edge_trace['y'] += [y0, y1, None]\n",
    "\n",
    "mid_edge_trace = Scatter(\n",
    "    x=[0.5*(n.buses.at[n.lines.at[line,\"bus0\"],\"x\"]+n.buses.at[n.lines.at[line,\"bus1\"],\"x\"]) for line in n.lines.index],\n",
    "    y=[0.5*(n.buses.at[n.lines.at[line,\"bus0\"],\"y\"]+n.buses.at[n.lines.at[line,\"bus1\"],\"y\"]) for line in n.lines.index],\n",
    "    text=[\"line \" +line+\" has capacity %.1f MW\" % n.lines.at[line,\"s_nom\"] for line in n.lines.index],\n",
    "    mode='markers',\n",
    "    hoverinfo='text',\n",
    "    marker=Marker(\n",
    "        opacity=0\n",
    "    ))\n",
    "\n",
    "\n",
    "node_trace = Scatter(\n",
    "    x=[],\n",
    "    y=[],\n",
    "    text=[],\n",
    "    mode='markers',\n",
    "    hoverinfo='text',\n",
    "    marker=Marker(\n",
    "        showscale=True,\n",
    "        # colorscale options\n",
    "        # 'Greys' | 'Greens' | 'Bluered' | 'Hot' | 'Picnic' | 'Portland' |\n",
    "        # Jet' | 'RdBu' | 'Blackbody' | 'Earth' | 'Electric' | 'YIOrRd' | 'YIGnBu'\n",
    "        colorscale='YIGnBu',\n",
    "        reversescale=True,\n",
    "        color=[],\n",
    "        size=[],\n",
    "        colorbar=dict(\n",
    "            thickness=15,\n",
    "            title='Node Connections',\n",
    "            xanchor='left',\n",
    "            titleside='right'\n",
    "        ),\n",
    "        line=dict(width=2)))\n",
    "\n",
    "\n",
    "\n",
    "load_distribution = n.loads_t.p_set.iloc[0].groupby(n.loads.bus).sum().reindex(n.buses.index,fill_value=0.)\n",
    "\n",
    "for node in n.buses.index:\n",
    "    x, y = n.buses.at[node,\"x\"],n.buses.at[node,\"y\"]\n",
    "    node_trace['x'].append(x)\n",
    "    node_trace['y'].append(y)\n",
    "    node_trace[\"text\"].append(\"bus \"+ node+\" has peak load %.1f MW\" % load_distribution.loc[node])\n",
    "    node_trace[\"marker\"][\"color\"].append(\"blue\")\n",
    "    node_trace[\"marker\"][\"size\"].append(0.1*load_distribution.loc[node])\n",
    "\n",
    "\n",
    "\n",
    "\n",
    "fig = Figure(data=Data([edge_trace, node_trace, mid_edge_trace]),\n",
    "             layout=Layout(\n",
    "                title='<br>PyPSA graph (based on SciGRID)',\n",
    "                titlefont=dict(size=16),\n",
    "                showlegend=False,\n",
    "                hovermode='closest',\n",
    "                margin=dict(b=20,l=5,r=5,t=40),\n",
    "                annotations=[ dict(\n",
    "                    text=\"Python code: <a href='https://gist.github.com/nworbmot/301099c67a87251a4431ff85f4d9c486'> https://gist.github.com/nworbmot/301099c67a87251a4431ff85f4d9c486</a>\",\n",
    "                    showarrow=False,\n",
    "                    xref=\"paper\", yref=\"paper\",\n",
    "                    x=0.005, y=-0.002 ) ],\n",
    "                xaxis=XAxis(showgrid=False, zeroline=False, showticklabels=False),\n",
    "                yaxis=YAxis(showgrid=False, zeroline=False, showticklabels=False)))\n",
    "\n",
    "py.iplot(fig, filename='networkx')"
   ],
   "metadata": {
    "collapsed": false,
    "pycharm": {
     "name": "#%%\n"
    }
   }
  },
  {
   "cell_type": "code",
   "execution_count": null,
   "outputs": [],
   "source": [],
   "metadata": {
    "collapsed": false,
    "pycharm": {
     "name": "#%%\n"
    }
   }
  }
 ],
 "metadata": {
  "kernelspec": {
   "display_name": "Python 3",
   "language": "python",
   "name": "python3"
  },
  "language_info": {
   "codemirror_mode": {
    "name": "ipython",
    "version": 2
   },
   "file_extension": ".py",
   "mimetype": "text/x-python",
   "name": "python",
   "nbconvert_exporter": "python",
   "pygments_lexer": "ipython2",
   "version": "2.7.6"
  }
 },
 "nbformat": 4,
 "nbformat_minor": 0
}