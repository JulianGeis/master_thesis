{
 "cells": [
  {
   "cell_type": "raw",
   "metadata": {
    "pycharm": {
     "name": ""
    }
   },
   "source": [
    "##%% md\n",
    "# Plots for section 4. & 4.2 (systems)"
   ]
  },
  {
   "cell_type": "code",
   "execution_count": null,
   "metadata": {
    "pycharm": {
     "name": "#%%\n"
    }
   },
   "outputs": [],
   "source": [
    "# TODO"
   ]
  },
  {
   "cell_type": "markdown",
   "metadata": {
    "pycharm": {
     "name": "#%% md\n"
    }
   },
   "source": [
    "## Imports"
   ]
  },
  {
   "cell_type": "code",
   "execution_count": null,
   "metadata": {
    "pycharm": {
     "name": "#%%\n"
    }
   },
   "outputs": [],
   "source": [
    "import pandas as pd\n",
    "import geopandas as gpd\n",
    "import numpy as np\n",
    "import pypsa\n",
    "import math\n",
    "import seaborn as sns\n",
    "import cartopy\n",
    "import cartopy.crs as ccrs\n",
    "import matplotlib\n",
    "import matplotlib.colors as mcolors\n",
    "import matplotlib.pyplot as plt\n",
    "import warnings\n",
    "warnings.filterwarnings(\"ignore\")\n",
    "from shapely.geometry import Point, LineString\n",
    "from datetime import datetime\n",
    "import matplotlib.patheffects as pe\n",
    "import matplotlib.colors as mcolors\n",
    "from matplotlib.lines import Line2D\n",
    "\n",
    "from datetime import date, datetime, time, timedelta\n",
    "\n",
    "# imported own functions\n",
    "from utils import market_values, market_values_by_time_index, nodal_balance, capacity, capacity_links, capacity_storage_units, get_condense_sum, nodal_balance, generation, generation_links, generation_storage_units, market_values_storage_units, market_values_links, time_stored_LIFO\n",
    "\n",
    "# imported own definitions\n",
    "from utils import carrier_colors, carrier_renaming, carrier_renaming_reverse, resistive_heater, gas_boiler, heat_pump, water_tanks_charger, water_tanks_discharger, solar_thermal\n",
    "from utils import c_el_gen_s, c_el_con_s\n",
    "\n",
    "# general variables\n",
    "font1 = {'fontname':'Calibri'}\n",
    "PLOT_DIR = 'C:/Users/Julian/Studies/Master/01 TU Berlin/3. Semester - Masterarbeit/MA Marktwerte FEE/data/plots/'\n",
    "onshore_regions = gpd.read_file(\"../data/external/regions_onshore_elec_s_181.geojson\")\n",
    "offshore_regions = gpd.read_file(\"../data/external/regions_offshore_elec_s_181.geojson\")\n",
    "onshore_regions = onshore_regions.set_index('name')\n",
    "offshore_regions = offshore_regions.set_index('name')"
   ]
  },
  {
   "cell_type": "code",
   "execution_count": null,
   "metadata": {
    "pycharm": {
     "name": "#%%\n"
    }
   },
   "outputs": [],
   "source": [
    "# Network imports\n",
    "n_no =pypsa.Network(\"../data/raw/elec_s_181_lv1.0__Co2L0-3H-T-H-B-I-A-solar+p3-linemaxext10-noH2network_2030.nc\")\n",
    "n_h2 =pypsa.Network(\"../data/raw/elec_s_181_lvopt__Co2L0-3H-T-H-B-I-A-solar+p3-linemaxext10_2030.nc\")"
   ]
  },
  {
   "cell_type": "code",
   "execution_count": null,
   "metadata": {
    "pycharm": {
     "name": "#%%\n"
    }
   },
   "outputs": [],
   "source": [
    "# stst and exp dataframes\n",
    "# spatial\n",
    "df_stst_ons = pd.read_pickle(\"../data/processed/df_stst_ons.pkl\")\n",
    "df_stst_off = pd.read_pickle(\"../data/processed/df_stst_off.pkl\")\n",
    "df_exp_ons = pd.read_pickle(\"../data/processed/df_exp_ons.pkl\")\n",
    "df_exp_off = pd.read_pickle(\"../data/processed/df_exp_off.pkl\")\n",
    "\n",
    "# temporal\n",
    "df_stst_ts = pd.read_pickle(\"../data/processed/df_stst_ts.pkl\")\n",
    "df_exp_ts = pd.read_pickle(\"../data/processed/df_exp_ts.pkl\")"
   ]
  },
  {
   "cell_type": "code",
   "execution_count": null,
   "metadata": {
    "pycharm": {
     "name": "#%%\n"
    }
   },
   "outputs": [],
   "source": [
    "# Notebook Definitions\n",
    "c1_groups = [resistive_heater, gas_boiler, heat_pump, water_tanks_charger, water_tanks_discharger, solar_thermal]\n",
    "c1_groups_name = [\"resistive heater\", \"gas boiler\", \"heat pump\", \"water tanks charger\", \"water tanks discharger\", \"solar thermal\"]\n",
    "markers =[\"v\", \"^\", \"<\", \">\", \"1\", \"2\", \"3\", \"4\", \"*\", \"+\", \"d\", \"o\", \"|\", \"s\", \"P\", \"p\", \"h\"]"
   ]
  },
  {
   "cell_type": "code",
   "execution_count": null,
   "metadata": {
    "pycharm": {
     "name": "#%%\n"
    }
   },
   "outputs": [],
   "source": [
    "# Notebook Functions\n",
    "\n",
    "def get_df(df_no, df_h2, carriers):\n",
    "    result = pd.DataFrame(index = [\"STST\", \"EXP\"])\n",
    "\n",
    "    for c in carriers:\n",
    "        result.loc[\"STST\" , c] = df_no[c].values\n",
    "        result.loc[\"EXP\" , c] = df_h2[c].values\n",
    "    return result\n",
    "\n",
    "def c_gen(carrier_list, network):\n",
    "    result = []\n",
    "    for c in carrier_list:\n",
    "        if c in network.generators.carrier.unique().tolist():\n",
    "            result.append(c)\n",
    "    return result\n",
    "\n",
    "def c_link(carrier_list, network):\n",
    "    result = []\n",
    "    for c in carrier_list:\n",
    "        if c in network.links.carrier.unique().tolist():\n",
    "            result.append(c)\n",
    "    return result\n",
    "\n",
    "def c_su(carrier_list, network):\n",
    "    result = []\n",
    "    for c in carrier_list:\n",
    "        if c in network.storage_units.carrier.unique().tolist():\n",
    "            result.append(c)\n",
    "    return result"
   ]
  },
  {
   "cell_type": "code",
   "execution_count": null,
   "metadata": {
    "pycharm": {
     "name": "#%%\n"
    }
   },
   "outputs": [],
   "source": [
    "# Regions\n",
    "\n",
    "onshore_regions['coords'] = onshore_regions['geometry'].apply(lambda x: x.representative_point().coords[:])\n",
    "onshore_regions['coords'] = [coords[0] for coords in onshore_regions['coords']]\n",
    "onshore_regions[\"name\"] = onshore_regions.index\n",
    "offshore_regions['coords'] = offshore_regions['geometry'].apply(lambda x: x.representative_point().coords[:])\n",
    "offshore_regions['coords'] = [coords[0] for coords in offshore_regions['coords']]\n",
    "offshore_regions[\"name\"] = offshore_regions.index"
   ]
  },
  {
   "cell_type": "markdown",
   "metadata": {
    "pycharm": {
     "name": "#%% md\n"
    }
   },
   "source": [
    "## CALC"
   ]
  },
  {
   "cell_type": "code",
   "execution_count": null,
   "metadata": {
    "pycharm": {
     "name": "#%%\n"
    }
   },
   "outputs": [],
   "source": [
    "# calc market values, generation, lmps, capacity factors for generators, links and storage units\n",
    "\n",
    "for n in [n_no, n_h2]:\n",
    "    df_regions_onshore = onshore_regions.copy()\n",
    "    df_regions_offshore = offshore_regions.copy()\n",
    "\n",
    "    # function for carriers in n.generators.carrier.unique() #13\n",
    "    for carrier in n.generators.carrier.unique():\n",
    "        df_regions_onshore[f\"{carrier}_mv\"] = market_values(n, carrier)\n",
    "        df_regions_offshore[f\"{carrier}_mv\"] = market_values(n, carrier)\n",
    "        # generation in TWh (does this have to be multiplied by 3??\n",
    "        df_regions_onshore[f\"{carrier}_gen\"] = generation(n, carrier) / 1000\n",
    "        df_regions_offshore[f\"{carrier}_gen\"] = generation(n, carrier) / 1000\n",
    "        # lmps\n",
    "        # capacity factors This calculation is correct? as capacity is multiplied by 2920 is the same as multiplying the generation by 3 and then dividing it by the capacity times 8760 (as cap is in MWh?)\n",
    "        df_regions_onshore[f\"{carrier}_cf\"] = generation(n, carrier) / (capacity(n, carrier) *2920)\n",
    "        df_regions_offshore[f\"{carrier}_cf\"] = generation(n, carrier) / (capacity(n, carrier) *2920)\n",
    "\n",
    "\n",
    "    # function for carriers in n.links.carrier.unique() #53\n",
    "    for carrier in n.links.carrier.unique():\n",
    "        df_regions_onshore[f\"{carrier}_mv\"] = market_values_links(n, carrier)\n",
    "        df_regions_onshore[f\"{carrier}_gen\"] = generation_links(n, carrier) / 1000\n",
    "        df_regions_onshore[f\"{carrier}_cf\"] = generation_links(n, carrier) / (capacity_links(n, carrier) *2920)\n",
    "\n",
    "    # function for carriers in n.storage_units.carrier.unique() #2\n",
    "    for carrier in n.storage_units.carrier.unique():\n",
    "        df_regions_onshore[f\"{carrier}_mv\"] = market_values_storage_units(n, carrier)\n",
    "        df_regions_onshore[f\"{carrier}_gen\"] = generation_storage_units(n, carrier) / 1000\n",
    "        # capacity factors (both generation and consumption(loading) is considered\n",
    "        gen = abs(n.storage_units_t.p.loc[:, n.storage_units.carrier == carrier])\n",
    "        gen.columns = gen.columns.map(n.storage_units.bus)\n",
    "        gen.columns = gen.columns.map(n.buses.location)\n",
    "        df_regions_onshore[f\"{carrier}_cf\"] = gen.sum() / (capacity_storage_units(n, carrier) *2920)\n",
    "\n",
    "    # set market values to nan where generation in corresponding region is lower than % quantile\n",
    "    qt = 0.2\n",
    "    for carrier in (n.generators.carrier.unique().tolist() +\n",
    "                    n.links.carrier.unique().tolist() +\n",
    "                    n.storage_units.carrier.unique().tolist()):\n",
    "        index = df_regions_onshore[f\"{carrier}_gen\"] <= np.quantile(df_regions_onshore[f\"{carrier}_gen\"], qt)\n",
    "        df_regions_onshore[f\"{carrier}_mv\"][index] = np.nan\n",
    "\n",
    "    # calc lmps at the buses (lmps that are only present for EU (e.g. oil) are nan at the moment)\n",
    "    # TODO: decide if EU lmps are used as lmp for all regions\n",
    "    for carrier_bus in n.buses.carrier.unique():\n",
    "        # index would be same names as the bus (not the location as it is in the index of\n",
    "        # df_regions_onshore so far -> map location to make sure the right lmp is set\n",
    "        locs = n.buses.location[n.buses[n.buses.carrier == carrier_bus].index]\n",
    "        lmps = n.buses_t.marginal_price[n.buses[n.buses.carrier == carrier_bus].index].mean()\n",
    "        df = pd.concat([lmps, locs], axis=1).rename(columns={0: f\"{carrier_bus}_lmp\"})\n",
    "        df.set_index(\"location\", inplace=True)\n",
    "        if df.size == 1:\n",
    "            if df.index == \"EU\":\n",
    "                df = pd.DataFrame(np.repeat(df.values, 181), index=df_regions_onshore.index, columns=[f\"{carrier_bus}_lmp\"])\n",
    "                df_regions_onshore[f\"{carrier_bus}_lmp\"] = df[f\"{carrier_bus}_lmp\"]\n",
    "        else:\n",
    "            df_regions_onshore[f\"{carrier_bus}_lmp\"] = df[f\"{carrier_bus}_lmp\"]\n",
    "\n",
    "    if n == n_no:\n",
    "        df_no_ons = df_regions_onshore\n",
    "        df_no_off = df_regions_offshore\n",
    "\n",
    "    if n == n_h2:\n",
    "        df_h2_ons = df_regions_onshore\n",
    "        df_h2_off = df_regions_offshore\n",
    "\n",
    "df_no_ons.head()"
   ]
  },
  {
   "cell_type": "code",
   "execution_count": null,
   "metadata": {
    "pycharm": {
     "name": "#%%\n"
    }
   },
   "outputs": [],
   "source": [
    "#assert 0"
   ]
  },
  {
   "cell_type": "markdown",
   "metadata": {
    "pycharm": {
     "name": "#%% md\n"
    }
   },
   "source": [
    "# 4.1 Overview"
   ]
  },
  {
   "cell_type": "markdown",
   "metadata": {
    "pycharm": {
     "name": "#%% md\n"
    }
   },
   "source": [
    "## Network Overview"
   ]
  },
  {
   "cell_type": "code",
   "execution_count": null,
   "metadata": {
    "pycharm": {
     "name": "#%%\n"
    }
   },
   "outputs": [],
   "source": [
    "print(n_no)"
   ]
  },
  {
   "cell_type": "code",
   "execution_count": null,
   "metadata": {
    "pycharm": {
     "name": "#%%\n"
    }
   },
   "outputs": [],
   "source": [
    "print(n_h2)"
   ]
  },
  {
   "cell_type": "markdown",
   "metadata": {
    "pycharm": {
     "name": "#%% md\n"
    }
   },
   "source": [
    "### Electricity network"
   ]
  },
  {
   "cell_type": "code",
   "execution_count": null,
   "metadata": {
    "pycharm": {
     "name": "#%%\n"
    }
   },
   "outputs": [],
   "source": [
    "m_no = n_no.copy()\n",
    "m_no.mremove(\"Bus\",m_no.buses[m_no.buses.x == 0].index )\n",
    "\n",
    "m_h2 = n_h2.copy()\n",
    "m_h2.mremove(\"Bus\",m_h2.buses[m_h2.buses.x == 0].index )"
   ]
  },
  {
   "cell_type": "code",
   "execution_count": null,
   "metadata": {
    "pycharm": {
     "name": "#%%\n"
    }
   },
   "outputs": [],
   "source": [
    "fig, ax = plt.subplots(1, 1, subplot_kw={\"projection\": ccrs.EqualEarth()}, figsize=(8, 6))\n",
    "\n",
    "bus_locs = pd.Index(m_no.buses.location.unique())\n",
    "load_distribution = m_no.loads_t.p[bus_locs].sum()/m_no.loads_t.p[bus_locs].sum().max()\n",
    "\n",
    "m_no.plot(bus_sizes=1*load_distribution, ax=ax, projection=ccrs.EqualEarth())\n",
    "ax.set_title(\"Load distribution\", pad=20)\n",
    "plt.show()\n",
    "# same for m_h2"
   ]
  },
  {
   "cell_type": "markdown",
   "metadata": {
    "pycharm": {
     "name": "#%% md\n"
    }
   },
   "source": []
  },
  {
   "cell_type": "markdown",
   "metadata": {
    "pycharm": {
     "name": "#%% md\n"
    }
   },
   "source": []
  },
  {
   "cell_type": "code",
   "execution_count": null,
   "metadata": {
    "pycharm": {
     "name": "#%%\n"
    }
   },
   "outputs": [],
   "source": [
    "fig, (ax1, ax2) = plt.subplots(1, 2, subplot_kw={\"projection\": ccrs.EqualEarth()}, figsize=(14, 6))\n",
    "\n",
    "norm_lines = max(n_no.lines.s_nom_opt.max(), n_h2.lines.s_nom_opt.max(),(n_h2.lines.s_nom_opt - n_no.lines.s_nom_opt).max())\n",
    "norm_links = max(n_no.links.p_nom_opt[n_no.links.carrier == \"DC\"].max(), n_h2.links.p_nom_opt[n_h2.links.carrier == \"DC\"].max(), (n_h2.links.p_nom_opt - n_no.links.p_nom_opt)[n_h2.links.carrier == \"DC\"].max() )\n",
    "\n",
    "scale_lines = 7\n",
    "scale_links = 7\n",
    "\n",
    "# STST\n",
    "hvac_weights = n_no.lines.s_nom_opt / norm_lines * scale_lines\n",
    "hvdc_weights = n_no.links.p_nom_opt.replace(0, 1) / norm_links * scale_links\n",
    "\n",
    "m_no.plot(ax=ax1, projection=ccrs.EqualEarth(), bus_colors=\"black\", line_colors=\"gold\", link_colors=\"deepskyblue\", line_widths=hvac_weights, link_widths=hvdc_weights )\n",
    "pypsa.plot.add_legend_patches(ax=ax1, labels=[\"HVAC lines\", \"HVDC lines\"], colors=[\"gold\",\"deepskyblue\"], legend_kw={'loc': 'upper left'})\n",
    "ax1.set_title(\"Electricity grid (STST)\", pad=10)\n",
    "\n",
    "# EXP\n",
    "hvac_weights = n_h2.lines.s_nom_opt / norm_lines * scale_lines\n",
    "hvdc_weights = n_h2.links.p_nom_opt.replace(0, 1) / norm_links * scale_links\n",
    "\n",
    "m_h2.plot(ax=ax2, projection=ccrs.EqualEarth(), bus_colors=\"black\", line_colors=\"gold\", link_colors=\"deepskyblue\", line_widths=hvac_weights, link_widths=hvdc_weights )\n",
    "pypsa.plot.add_legend_patches(ax=ax2, labels=[\"HVAC lines\", \"HVDC lines\"], colors=[\"gold\",\"deepskyblue\"], legend_kw={'loc': 'upper left'})\n",
    "ax2.set_title(\"Electricity grid (EXP)\", pad=10)\n",
    "\n",
    "fig.tight_layout()\n",
    "plt.close()\n",
    "plt.show()\n",
    "\n",
    "#fig.savefig(f\"{PLOT_DIR}01_general/4.1_system_overview/el_grid.png\")"
   ]
  },
  {
   "cell_type": "code",
   "execution_count": null,
   "metadata": {},
   "outputs": [],
   "source": [
    "# plot of difference in grid\n",
    "\n",
    "fig, ax1 = plt.subplots(1, 1, subplot_kw={\"projection\": ccrs.EqualEarth()}, figsize=(18, 6))\n",
    "\n",
    "norm_lines = max(n_no.lines.s_nom_opt.max(), n_h2.lines.s_nom_opt.max(),(n_h2.lines.s_nom_opt - n_no.lines.s_nom_opt).max())\n",
    "norm_links = max(n_no.links.p_nom_opt[n_no.links.carrier == \"DC\"].max(), n_h2.links.p_nom_opt[n_h2.links.carrier == \"DC\"].max(), (n_h2.links.p_nom_opt - n_no.links.p_nom_opt)[n_h2.links.carrier == \"DC\"].max() )\n",
    "norm_both = max(norm_lines, norm_links)\n",
    "\n",
    "scale_lines = 7\n",
    "scale_links = 3.5\n",
    "scale_both = 12\n",
    "\n",
    "# STST\n",
    "hvac_weights = n_no.lines.s_nom_opt / norm_both * scale_both\n",
    "hvdc_weights = n_no.links.p_nom_opt.replace(0, 1) / norm_both * scale_both\n",
    "\n",
    "m_no.plot(ax=ax1, projection=ccrs.EqualEarth(), bus_colors=\"black\", line_colors=\"goldenrod\", link_colors=\"deepskyblue\", line_widths=hvac_weights, link_widths=hvdc_weights )\n",
    "pypsa.plot.add_legend_patches(ax=ax1, labels=[\"HVAC lines\", \"HVDC lines\"], colors=[\"goldenrod\",\"deepskyblue\"], legend_kw={'loc': 'upper left'})\n",
    "ax1.set_title(\"Electricity grid (STST)\", pad=10)\n",
    "ax1.add_feature(cartopy.feature.BORDERS, edgecolor='black', linewidth=0.5)\n",
    "ax1.coastlines(edgecolor='black', linewidth=0.5)\n",
    "ax1.set_facecolor('white')\n",
    "ax1.add_feature(cartopy.feature.OCEAN, color='azure')\n",
    "\n",
    "# add line width to legend\n",
    "cap_1 = int(np.round(10000, -3) / 1e3)\n",
    "lw_1 = np.round(10000, -3) / norm_both * scale_both\n",
    "cap_2 = int(np.round(20000, -3) / 1e3)\n",
    "lw_2 = np.round(20000, -3) / norm_both * scale_both\n",
    "cap_3 = int(np.round(30000, -3) / 1e3)\n",
    "lw_3 = np.round(30000, -3) / norm_both * scale_both\n",
    "\n",
    "pypsa.plot.add_legend_lines(\n",
    "    ax1,\n",
    "    [lw_1, lw_2, lw_3],\n",
    "    [f\"Line width of {cap_1} GW\", f\"Line width of {cap_2} GW\", f\"Line width of {cap_3} GW\"]\n",
    ")"
   ]
  },
  {
   "cell_type": "code",
   "execution_count": null,
   "metadata": {
    "pycharm": {
     "name": "#%%\n"
    }
   },
   "outputs": [],
   "source": [
    "# plot of difference in grid\n",
    "\n",
    "fig, (ax1, ax2, ax3) = plt.subplots(1, 3, subplot_kw={\"projection\": ccrs.EqualEarth()}, figsize=(18, 6))\n",
    "\n",
    "norm_lines = max(n_no.lines.s_nom_opt.max(), n_h2.lines.s_nom_opt.max(),(n_h2.lines.s_nom_opt - n_no.lines.s_nom_opt).max())\n",
    "norm_links = max(n_no.links.p_nom_opt[n_no.links.carrier == \"DC\"].max(), n_h2.links.p_nom_opt[n_h2.links.carrier == \"DC\"].max(), (n_h2.links.p_nom_opt - n_no.links.p_nom_opt)[n_h2.links.carrier == \"DC\"].max() )\n",
    "norm_both = max(norm_lines, norm_links)\n",
    "\n",
    "scale_lines = 7\n",
    "scale_links = 3.5\n",
    "scale_both = 12\n",
    "\n",
    "# STST\n",
    "hvac_weights = n_no.lines.s_nom_opt / norm_both * scale_both\n",
    "hvdc_weights = n_no.links.p_nom_opt.replace(0, 1) / norm_both * scale_both\n",
    "\n",
    "m_no.plot(ax=ax1, projection=ccrs.EqualEarth(), bus_colors=\"black\", line_colors=\"goldenrod\", link_colors=\"deepskyblue\", line_widths=hvac_weights, link_widths=hvdc_weights )\n",
    "pypsa.plot.add_legend_patches(ax=ax1, labels=[\"HVAC lines\", \"HVDC lines\"], colors=[\"goldenrod\",\"deepskyblue\"], legend_kw={'loc': 'upper left'})\n",
    "ax1.set_title(\"Electricity grid (STST)\", pad=10)\n",
    "ax1.add_feature(cartopy.feature.BORDERS, edgecolor='black', linewidth=0.5)\n",
    "ax1.coastlines(edgecolor='black', linewidth=0.5)\n",
    "ax1.set_facecolor('white')\n",
    "ax1.add_feature(cartopy.feature.OCEAN, color='azure')\n",
    "\n",
    "# add line width to legend\n",
    "cap_1 = int(np.round(10000, -3) / 1e3)\n",
    "lw_1 = np.round(10000, -3) / norm_both * scale_both\n",
    "cap_2 = int(np.round(20000, -3) / 1e3)\n",
    "lw_2 = np.round(20000, -3) / norm_both * scale_both\n",
    "cap_3 = int(np.round(30000, -3) / 1e3)\n",
    "lw_3 = np.round(30000, -3) / norm_both * scale_both\n",
    "\n",
    "pypsa.plot.add_legend_lines(\n",
    "    ax1,\n",
    "    [lw_1, lw_2, lw_3],\n",
    "    [f\"{cap_1} GW\", f\"{cap_2} GW\", f\"{cap_3} GW\"],\n",
    "    legend_kw=dict(frameon=True, bbox_to_anchor=(0.195,0.90))\n",
    ")\n",
    "\n",
    "\n",
    "# EXP\n",
    "hvac_weights = n_h2.lines.s_nom_opt / norm_both * scale_both\n",
    "hvdc_weights = n_h2.links.p_nom_opt.replace(0, 1) / norm_both * scale_both\n",
    "\n",
    "m_h2.plot(ax=ax2, projection=ccrs.EqualEarth(), bus_colors=\"black\", line_colors=\"goldenrod\", link_colors=\"deepskyblue\", line_widths=hvac_weights, link_widths=hvdc_weights )\n",
    "pypsa.plot.add_legend_patches(ax=ax2, labels=[\"HVAC lines\", \"HVDC lines\"], colors=[\"goldenrod\",\"deepskyblue\"], legend_kw={'loc': 'upper left'})\n",
    "ax2.set_title(\"Electricity grid (EXP)\", pad=10)\n",
    "ax2.add_feature(cartopy.feature.BORDERS, edgecolor='black', linewidth=0.5)\n",
    "ax2.coastlines(edgecolor='black', linewidth=0.5)\n",
    "ax2.set_facecolor('white')\n",
    "ax2.add_feature(cartopy.feature.OCEAN, color='azure')\n",
    "\n",
    "# add line width to legend\n",
    "cap_1 = int(np.round(10000, -3) / 1e3)\n",
    "lw_1 = np.round(10000, -3) / norm_both * scale_both\n",
    "cap_2 = int(np.round(20000, -3) / 1e3)\n",
    "lw_2 = np.round(20000, -3) / norm_both * scale_both\n",
    "cap_3 = int(np.round(30000, -3) / 1e3)\n",
    "lw_3 = np.round(30000, -3) / norm_both * scale_both\n",
    "\n",
    "pypsa.plot.add_legend_lines(\n",
    "    ax2,\n",
    "    [lw_1, lw_2, lw_3],\n",
    "    [f\"{cap_1} GW\", f\"{cap_2} GW\", f\"{cap_3} GW\"],\n",
    "    legend_kw=dict(frameon=True, bbox_to_anchor=(0.195,0.90))\n",
    ")\n",
    "\n",
    "\n",
    "# DIFF\n",
    "hvac_weights = (n_h2.lines.s_nom_opt - n_no.lines.s_nom_opt) / norm_both * scale_both\n",
    "hvdc_weights = (n_h2.links.p_nom_opt - n_no.links.p_nom_opt) / norm_both * scale_both\n",
    "\n",
    "m_no.plot(ax=ax3, projection=ccrs.EqualEarth(), bus_colors=\"black\", line_colors=\"goldenrod\", link_colors=\"deepskyblue\", line_widths=hvac_weights, link_widths=hvdc_weights )\n",
    "pypsa.plot.add_legend_patches(ax=ax3, labels=[\"HVAC lines\", \"HVDC lines\"], colors=[\"goldenrod\",\"deepskyblue\"], legend_kw={'loc': 'upper left'})\n",
    "ax3.set_title(\"Electricity grid expansion (EXP - STST)\", pad=10)\n",
    "ax3.add_feature(cartopy.feature.BORDERS, edgecolor='black', linewidth=0.5)\n",
    "ax3.coastlines(edgecolor='black', linewidth=0.5)\n",
    "ax3.set_facecolor('white')\n",
    "ax3.add_feature(cartopy.feature.OCEAN, color='azure')\n",
    "\n",
    "# add line width to legend\n",
    "cap_1 = int(np.round(10000, -3) / 1e3)\n",
    "lw_1 = np.round(10000, -3) / norm_both * scale_both\n",
    "cap_2 = int(np.round(20000, -3) / 1e3)\n",
    "lw_2 = np.round(20000, -3) / norm_both * scale_both\n",
    "cap_3 = int(np.round(30000, -3) / 1e3)\n",
    "lw_3 = np.round(30000, -3) / norm_both * scale_both\n",
    "\n",
    "pypsa.plot.add_legend_lines(\n",
    "    ax3,\n",
    "    [lw_1, lw_2, lw_3],\n",
    "    [f\"{cap_1} GW\", f\"{cap_2} GW\", f\"{cap_3} GW\"],\n",
    "    legend_kw=dict(frameon=True, bbox_to_anchor=(0.195,0.90))\n",
    ")\n",
    "\n",
    "fig.tight_layout()\n",
    "plt.show()\n",
    "\n",
    "fig.savefig(f\"{PLOT_DIR}01_general/4.1_system_overview/el_grid_exp.png\")"
   ]
  },
  {
   "cell_type": "code",
   "execution_count": null,
   "metadata": {},
   "outputs": [],
   "source": [
    "n_h2.lines.s_nom_opt.sort_values()"
   ]
  },
  {
   "cell_type": "code",
   "execution_count": null,
   "metadata": {},
   "outputs": [],
   "source": [
    "n_h2.lines.loc[\"225\",:]"
   ]
  },
  {
   "cell_type": "code",
   "execution_count": null,
   "metadata": {},
   "outputs": [],
   "source": [
    "hvac_weights = n_no.lines.s_nom_opt / norm_both * scale_both\n",
    "hvdc_weights = n_no.links.p_nom_opt.replace(0, 1) / norm_both * scale_both\n",
    "\n",
    "# add line width to legend\n",
    "cap_mean = int(np.round(n_no.lines.s_nom_opt.mean(), -3) / 1e3)\n",
    "lw_mean = np.round(n_no.lines.s_nom_opt.mean(), -3) / norm_both * scale_both\n",
    "cap_max = int(np.round(n_no.lines.s_nom_opt.max(), -3) / 1e3)\n",
    "lw_max = np.round(n_no.lines.s_nom_opt.max(), -3) / norm_both * scale_both"
   ]
  },
  {
   "cell_type": "code",
   "execution_count": null,
   "metadata": {},
   "outputs": [],
   "source": [
    "lw_max"
   ]
  },
  {
   "cell_type": "code",
   "execution_count": null,
   "metadata": {
    "pycharm": {
     "name": "#%%\n"
    }
   },
   "outputs": [],
   "source": [
    "norm_lines"
   ]
  },
  {
   "cell_type": "code",
   "execution_count": null,
   "metadata": {
    "pycharm": {
     "name": "#%%\n"
    }
   },
   "outputs": [],
   "source": [
    "norm_links"
   ]
  },
  {
   "cell_type": "code",
   "execution_count": null,
   "metadata": {
    "pycharm": {
     "name": "#%%\n"
    }
   },
   "outputs": [],
   "source": [
    "# AC lines"
   ]
  },
  {
   "cell_type": "code",
   "execution_count": null,
   "metadata": {
    "pycharm": {
     "name": "#%%\n"
    }
   },
   "outputs": [],
   "source": [
    "# all AC network lines are froms same type\n",
    "n_no.lines.type.unique()"
   ]
  },
  {
   "cell_type": "code",
   "execution_count": null,
   "metadata": {
    "pycharm": {
     "name": "#%%\n"
    }
   },
   "outputs": [],
   "source": [
    "# lines with zero capacity\n",
    "new_lines = n_no.lines[n_no.lines.s_nom_opt == 0.0].index"
   ]
  },
  {
   "cell_type": "code",
   "execution_count": null,
   "metadata": {
    "pycharm": {
     "name": "#%%\n"
    }
   },
   "outputs": [],
   "source": [
    "# length of HVAC\n",
    "# STST: 67626.76416683497 km\n",
    "# EXP: 68396.95599455902 km\n",
    "n_no.lines.length[~ n_no.lines.index.isin(new_lines)].sum()\n",
    "n_h2.lines.length.sum()"
   ]
  },
  {
   "cell_type": "code",
   "execution_count": null,
   "metadata": {
    "pycharm": {
     "name": "#%%\n"
    }
   },
   "outputs": [],
   "source": [
    "# how much more capacity do the new lines have (exclude ones with 0 in first place)\n",
    "np.mean(n_h2.lines.s_nom_opt.loc[~ n_h2.lines.index.isin(new_lines)] / n_no.lines.s_nom_opt.loc[~ n_no.lines.index.isin(new_lines)])"
   ]
  },
  {
   "cell_type": "code",
   "execution_count": null,
   "metadata": {
    "pycharm": {
     "name": "#%%\n"
    }
   },
   "outputs": [],
   "source": [
    "# Optimised capacity for apparent power: capacities in megavolt amperes (MVA)\n",
    "n_h2.lines.s_nom_opt / n_no.lines.s_nom_opt"
   ]
  },
  {
   "cell_type": "code",
   "execution_count": null,
   "metadata": {
    "pycharm": {
     "name": "#%%\n"
    }
   },
   "outputs": [],
   "source": [
    "# sum of all capacities of all AC lines is almost twice as high for the second network\n",
    "n_h2.lines.s_nom_opt.sum() / n_no.lines.s_nom_opt.sum()"
   ]
  },
  {
   "cell_type": "code",
   "execution_count": null,
   "metadata": {
    "pycharm": {
     "name": "#%%\n"
    }
   },
   "outputs": [],
   "source": [
    "# sum of product of line capacity with length\n",
    "(n_no.lines.s_nom_opt*n_no.lines.length).sum() / 1e6 # 316 TW*km\n",
    "(n_h2.lines.s_nom_opt*n_h2.lines.length).sum() / 1e6 # 620 TW*km"
   ]
  },
  {
   "cell_type": "code",
   "execution_count": null,
   "metadata": {
    "pycharm": {
     "name": "#%%\n"
    }
   },
   "outputs": [],
   "source": [
    "(n_h2.lines.s_nom_opt*n_h2.lines.length).sum() / (n_no.lines.s_nom_opt*n_no.lines.length).sum()"
   ]
  },
  {
   "cell_type": "code",
   "execution_count": null,
   "metadata": {
    "pycharm": {
     "name": "#%%\n"
    }
   },
   "outputs": [],
   "source": [
    "# average line capacity for AC\n",
    "# STST: 5 GW; range (0.6 - 39 GW)\n",
    "# EXP: 10 GW; range (0.8 - 39 GW)\n",
    "(n_no.lines.s_nom_opt / 1e3).sort_values()"
   ]
  },
  {
   "cell_type": "code",
   "execution_count": null,
   "metadata": {
    "pycharm": {
     "name": "#%%\n"
    }
   },
   "outputs": [],
   "source": [
    "# DC cables"
   ]
  },
  {
   "cell_type": "code",
   "execution_count": null,
   "metadata": {
    "pycharm": {
     "name": "#%%\n"
    }
   },
   "outputs": [],
   "source": [
    "len(n_h2.links[n_h2.links.carrier == \"DC\"])"
   ]
  },
  {
   "cell_type": "code",
   "execution_count": null,
   "metadata": {
    "pycharm": {
     "name": "#%%\n"
    }
   },
   "outputs": [],
   "source": [
    "# all DC cables\n",
    "n_h2.links[n_h2.links.carrier == \"DC\"]"
   ]
  },
  {
   "cell_type": "code",
   "execution_count": null,
   "metadata": {
    "pycharm": {
     "name": "#%%\n"
    }
   },
   "outputs": [],
   "source": [
    "# lines with non zero capacity\n",
    "n_no.links[(n_no.links.carrier == \"DC\") & (n_no.links.p_nom_opt != 0)]\n",
    "n_h2.links[(n_h2.links.carrier == \"DC\") & (n_h2.links.p_nom_opt != 0)]"
   ]
  },
  {
   "cell_type": "code",
   "execution_count": null,
   "metadata": {
    "pycharm": {
     "name": "#%%\n"
    }
   },
   "outputs": [],
   "source": [
    "# network length\n",
    "n_no.links.length[(n_no.links.carrier == \"DC\") & (n_no.links.p_nom_opt != 0)].sum()\n",
    "n_h2.links.length[(n_h2.links.carrier == \"DC\") & (n_h2.links.p_nom_opt != 0)].sum()"
   ]
  },
  {
   "cell_type": "code",
   "execution_count": null,
   "metadata": {
    "pycharm": {
     "name": "#%%\n"
    }
   },
   "outputs": [],
   "source": [
    "# average capacity\n",
    "# n_no.links[(n_no.links.carrier == \"DC\") & (n_no.links.p_nom_opt != 0)].p_nom_opt.mean() / 1e3\n",
    "n_h2.links[(n_h2.links.carrier == \"DC\") & (n_h2.links.p_nom_opt != 0)].p_nom_opt.mean() / 1e3"
   ]
  },
  {
   "cell_type": "code",
   "execution_count": null,
   "metadata": {
    "pycharm": {
     "name": "#%%\n"
    }
   },
   "outputs": [],
   "source": [
    "# capacity range\n",
    "#((n_no.links[(n_no.links.carrier == \"DC\") & (n_no.links.p_nom_opt != 0)].p_nom_opt) / 1e3).sort_values()\n",
    "(n_h2.links[(n_h2.links.carrier == \"DC\") & (n_h2.links.p_nom_opt != 0)].p_nom_opt / 1e3).sort_values()"
   ]
  },
  {
   "cell_type": "code",
   "execution_count": null,
   "metadata": {
    "pycharm": {
     "name": "#%%\n"
    }
   },
   "outputs": [],
   "source": [
    "# average line capacity for DC\n",
    "# STST: 0.78 GW; range (0.25 - 2 GW)\n",
    "# EXP: 4.3 GW; range (0.00 - 11 GW)"
   ]
  },
  {
   "cell_type": "code",
   "execution_count": null,
   "metadata": {
    "pycharm": {
     "name": "#%%\n"
    }
   },
   "outputs": [],
   "source": [
    "# sum of product of line capacity with length\n",
    "sum_prod1 = (n_no.links[(n_no.links.carrier == \"DC\") & (n_no.links.p_nom_opt != 0)].p_nom_opt * n_no.links[(n_no.links.carrier == \"DC\") & (n_no.links.p_nom_opt != 0)].length).sum()\n",
    "sum_prod2 = (n_h2.links[(n_h2.links.carrier == \"DC\") & (n_h2.links.p_nom_opt != 0)].p_nom_opt * n_no.links[(n_h2.links.carrier == \"DC\") & (n_h2.links.p_nom_opt != 0)].length).sum()\n",
    "sum_prod2 / sum_prod1\n",
    "sum_prod2"
   ]
  },
  {
   "cell_type": "code",
   "execution_count": null,
   "metadata": {
    "pycharm": {
     "name": "#%%\n"
    }
   },
   "outputs": [],
   "source": [
    "# global constraint: transmission_volume_expansion_limit is binding\n",
    "n_no.global_constraints.loc[\"lv_limit\", \"constant\"] / 1e6"
   ]
  },
  {
   "cell_type": "code",
   "execution_count": null,
   "metadata": {
    "pycharm": {
     "name": "#%%\n"
    }
   },
   "outputs": [],
   "source": [
    "# global constraint: transmission_volume_expansion_limit is binding\n",
    "n_no.global_constraints.loc[\"lv_limit\", \"constant\"]\n",
    "AC =  (n_no.lines.s_nom_opt*n_no.lines.length).sum()\n",
    "DC = sum_prod1\n",
    "AC + DC - n_no.global_constraints.loc[\"lv_limit\", \"constant\"]"
   ]
  },
  {
   "cell_type": "markdown",
   "metadata": {
    "pycharm": {
     "name": "#%% md\n"
    }
   },
   "source": [
    "Findings:\n",
    "- electricity network has the same lines in both scenarios, difference is in the capacity\n",
    "- the lines (AC, DC) also have the same length\n",
    "- The capacity of the AC lines are twice as high in the h2 case\n",
    "- The capacity of the DC lines are 11 times higher than in the no case"
   ]
  },
  {
   "cell_type": "markdown",
   "metadata": {
    "pycharm": {
     "name": "#%% md\n"
    }
   },
   "source": [
    "## Installed Capacity, Generation, Consumption"
   ]
  },
  {
   "cell_type": "code",
   "execution_count": null,
   "metadata": {
    "pycharm": {
     "name": "#%%\n"
    }
   },
   "outputs": [],
   "source": [
    "cap_no = pd.DataFrame(index=n_no.buses.location.unique())\n",
    "cap_h2 = pd.DataFrame(index=n_h2.buses.location.unique())\n",
    "\n",
    "for n, df in zip([n_no, n_h2], [cap_no,cap_h2]):\n",
    "\n",
    "    for c in n.generators.carrier.unique():\n",
    "        # capacity in GW\n",
    "        df[c] = capacity(n, c) / 1000\n",
    "\n",
    "    for c in n.links.carrier.unique():\n",
    "        # capacity in GW\n",
    "        df[c] = capacity_links(n, c) / 1000\n",
    "\n",
    "    for c in n.storage_units.carrier.unique():\n",
    "        # capacity in GW\n",
    "        df[c] = capacity_storage_units(n, c) / 1000\n",
    "\n",
    "# condense groups\n",
    "cap_no = get_condense_sum(cap_no, c1_groups, c1_groups_name)\n",
    "cap_h2 = get_condense_sum(cap_h2, c1_groups, c1_groups_name)\n",
    "# rename unhandy column names\n",
    "cap_no.rename(columns=carrier_renaming, inplace=True)\n",
    "cap_h2.rename(columns=carrier_renaming, inplace=True)"
   ]
  },
  {
   "cell_type": "markdown",
   "metadata": {
    "pycharm": {
     "name": "#%% md\n"
    }
   },
   "source": []
  },
  {
   "cell_type": "code",
   "execution_count": null,
   "metadata": {
    "pycharm": {
     "name": "#%%\n"
    }
   },
   "outputs": [],
   "source": [
    "cap_no_sum = pd.DataFrame(cap_no.sum().sort_values(ascending=False)).transpose()\n",
    "sns.set(rc={'figure.figsize': (20, 5)})\n",
    "sns.barplot(data=cap_no_sum.iloc[: , 1:40])\n",
    "ticks = plt.xticks(rotation=90)\n",
    "plt.show()"
   ]
  },
  {
   "cell_type": "code",
   "execution_count": null,
   "metadata": {
    "pycharm": {
     "name": "#%%\n"
    }
   },
   "outputs": [],
   "source": [
    "cap_h2_sum = pd.DataFrame(cap_h2.sum().sort_values(ascending=False)).transpose()\n",
    "sns.set(rc={'figure.figsize': (20, 5)})\n",
    "sns.barplot(data=cap_h2_sum.iloc[: , 1:40])\n",
    "ticks = plt.xticks(rotation=90)\n",
    "plt.show()"
   ]
  },
  {
   "cell_type": "code",
   "execution_count": null,
   "metadata": {
    "pycharm": {
     "name": "#%%\n"
    }
   },
   "outputs": [],
   "source": [
    "# thesis_plot\n",
    "# capacity of important technologies\n",
    "\n",
    "fig, (ax0, ax1, ax2, ax3, ax4) = plt.subplots(nrows=1, ncols=5, figsize=(12, 6))\n",
    "bbox = (0.5, 1.25)\n",
    "\n",
    "carriers = [\"solar\" , \"solar rooftop\"]\n",
    "get_df(cap_no_sum, cap_h2_sum, carriers).plot(ax = ax0, kind=\"bar\", stacked=True, grid=False, color=[carrier_colors[c] for c in carriers], ylabel=\"Capacity [GW]\")\n",
    "ax0.legend(loc='upper center', bbox_to_anchor=bbox)\n",
    "\n",
    "carriers = [\"onwind\", \"offwind-dc\", \"offwind-ac\"]\n",
    "get_df(cap_no_sum, cap_h2_sum, carriers).plot(ax = ax1, kind=\"bar\", stacked=True, grid=False, color=[carrier_colors[c] for c in carriers], ylabel=\"Capacity [GW]\")\n",
    "ax1.legend(loc='upper center', bbox_to_anchor=bbox)\n",
    "\n",
    "carriers = [\"H2 Electrolysis\", \"SMR\", \"SMR CC\"]\n",
    "get_df(cap_no_sum, cap_h2_sum, carriers).plot(ax = ax2, kind=\"bar\", stacked=True, grid=False, color=[carrier_colors[c] for c in carriers], ylabel=\"Capacity [GW]\")\n",
    "ax2.legend(loc='upper center', bbox_to_anchor=bbox)\n",
    "\n",
    "carriers = [\"Fischer-Tropsch\", \"Sabatier\", \"H2 liquefaction\"]\n",
    "get_df(cap_no_sum, cap_h2_sum, carriers).plot(ax = ax3, kind=\"bar\", stacked=True, grid=False, color=[carrier_colors[c] for c in carriers], ylabel=\"Capacity [GW]\")\n",
    "ax3.legend(loc='upper center', bbox_to_anchor=bbox)\n",
    "\n",
    "carriers = [\"battery charger\", \"battery discharger\"]\n",
    "get_df(cap_no_sum, cap_h2_sum, carriers).plot(ax = ax4, kind=\"bar\", stacked=True, grid=False, color=[carrier_colors[c] for c in carriers], ylabel=\"Capacity [GW]\")\n",
    "ax4.legend(loc='upper center', bbox_to_anchor=bbox)\n",
    "\n",
    "fig.tight_layout()\n",
    "plt.close()\n",
    "plt.show()\n",
    "\n",
    "# fig.savefig(f\"{PLOT_DIR}01_general/4.1_system_overview/capa_scenarios.png\")"
   ]
  },
  {
   "cell_type": "code",
   "execution_count": null,
   "metadata": {
    "pycharm": {
     "name": "#%%\n"
    }
   },
   "outputs": [],
   "source": [
    "carriers = [\"hydro\"]\n",
    "get_df(cap_no_sum, cap_h2_sum, carriers)"
   ]
  },
  {
   "cell_type": "code",
   "execution_count": null,
   "metadata": {
    "pycharm": {
     "name": "#%%\n"
    }
   },
   "outputs": [],
   "source": [
    "# magnitude is in GW\n",
    "carriers = [\"battery charger\", \"battery discharger\"]\n",
    "round(get_df(cap_no_sum, cap_h2_sum, carriers), 0).transpose() / round(get_df(cap_no_sum, cap_h2_sum, carriers), 0).transpose().sum()\n",
    "# round(get_df(cap_no_sum, cap_h2_sum, carriers), 0).sum(axis=1)"
   ]
  },
  {
   "cell_type": "code",
   "execution_count": null,
   "metadata": {
    "pycharm": {
     "name": "#%%\n"
    }
   },
   "outputs": [],
   "source": [
    "# magnitude is in GW\n",
    "carriers = [\"H2 Fuel Cell\"]\n",
    "round(get_df(cap_no_sum, cap_h2_sum, carriers), 0).transpose()\n",
    "# round(get_df(cap_no_sum, cap_h2_sum, carriers), 0).sum(axis=1)"
   ]
  },
  {
   "cell_type": "markdown",
   "metadata": {
    "pycharm": {
     "name": "#%% md\n"
    }
   },
   "source": [
    "\n",
    "Notes:\n",
    "- 'H2 pipeline', 'H2 pipeline retrofitted' are the only difference in the carriers (n_no does not have them)\n",
    "- H2 Fuel Cell Capacity is not really existent: capacity without H2 network is 1 GW and with H2 network it is 0\n"
   ]
  },
  {
   "cell_type": "code",
   "execution_count": null,
   "metadata": {
    "pycharm": {
     "name": "#%%\n"
    }
   },
   "outputs": [],
   "source": [
    "# capacity of electricity generating technologies\n",
    "\n",
    "c_el_gen_s, c_el_con_s\n",
    "\n",
    "fig, (ax0, ax1, ax2, ax3) = plt.subplots(nrows=1, ncols=4, figsize=(12, 6))\n",
    "bbox = (0.5, 1.25)\n",
    "\n",
    "carriers = [\"solar\" , \"solar rooftop\", \"ror\"]\n",
    "get_df(cap_no_sum, cap_h2_sum, carriers).plot(ax = ax0, kind=\"bar\", stacked=True, grid=False, color=[carrier_colors[c] for c in carriers], ylabel=\"Capacity [GW]\")\n",
    "ax0.legend(loc='upper center', bbox_to_anchor=bbox)\n",
    "\n",
    "carriers = [\"onwind\", \"offwind-dc\", \"offwind-ac\"]\n",
    "get_df(cap_no_sum, cap_h2_sum, carriers).plot(ax = ax1, kind=\"bar\", stacked=True, grid=False, color=[carrier_colors[c] for c in carriers], ylabel=\"Capacity [GW]\")\n",
    "ax1.legend(loc='upper center', bbox_to_anchor=bbox)\n",
    "\n",
    "carriers = [\"V2G\", \"battery discharger\", \"hydro\"]\n",
    "get_df(cap_no_sum, cap_h2_sum, carriers).plot(ax = ax2, kind=\"bar\", stacked=True, grid=False, color=[carrier_colors[c] for c in carriers], ylabel=\"Capacity [GW]\")\n",
    "ax2.legend(loc='upper center', bbox_to_anchor=bbox)\n",
    "\n",
    "carriers = [\"gas CHP\", \"biomass CHP CC\", \"PHS\"]\n",
    "get_df(cap_no_sum, cap_h2_sum, carriers).plot(ax = ax3, kind=\"bar\", stacked=True, grid=False, color=[carrier_colors[c] for c in carriers], ylabel=\"Capacity [GW]\")\n",
    "ax3.legend(loc='upper center', bbox_to_anchor=bbox)\n",
    "\n",
    "fig.suptitle(\"Capacity of electricity generating technologies\", fontsize=16,  **font1)\n",
    "fig.tight_layout()\n",
    "plt.show()\n",
    "\n",
    "#fig.savefig(f\"{PLOT_DIR}01_general/4.1_system_overview/el_gen_capa_scenarios.png\")"
   ]
  },
  {
   "cell_type": "code",
   "execution_count": null,
   "metadata": {
    "pycharm": {
     "name": "#%%\n"
    }
   },
   "outputs": [],
   "source": [
    "# new calculated cap\n",
    "cap_stst_sum_gen = pd.DataFrame(df_stst_ons[df_stst_ons.columns[df_stst_ons.columns.str.contains(\"cap_gen_el\")]].sum()).transpose()\n",
    "cap_exp_sum_gen = pd.DataFrame(df_exp_ons[df_exp_ons.columns[df_exp_ons.columns.str.contains(\"cap_gen_el\")]].sum()).transpose()\n",
    "\n",
    "cap_stst_sum_con = pd.DataFrame(df_stst_ons[df_stst_ons.columns[df_stst_ons.columns.str.contains(\"cap_con_el\")]].sum()).transpose()\n",
    "cap_exp_sum_con = pd.DataFrame(df_exp_ons[df_exp_ons.columns[df_exp_ons.columns.str.contains(\"cap_con_el\")]].sum()).transpose()\n",
    "\n",
    "# prepare condesing\n",
    "c1_groups_cap_gen_el = []\n",
    "c1_groups_name_cap_gen_el = []\n",
    "c1_groups_cap_con_el = []\n",
    "c1_groups_name_cap_con_el = []\n",
    "\n",
    "for group, name in zip(c1_groups, c1_groups_name):\n",
    "    group_gen = [c + \"_cap_gen_el\" for c in group]\n",
    "    name_gen = name + \"_cap_gen_el\"\n",
    "    c1_groups_cap_gen_el.append(group_gen)\n",
    "    c1_groups_name_cap_gen_el.append(name_gen)\n",
    "    group_con = [c + \"_cap_con_el\" for c in group]\n",
    "    name_con = name + \"_cap_con_el\"\n",
    "    c1_groups_cap_con_el.append(group_con)\n",
    "    c1_groups_name_cap_con_el.append(name_con)\n",
    "\n",
    "# condense groups\n",
    "cap_stst_sum_gen = get_condense_sum(cap_stst_sum_gen, c1_groups_cap_gen_el, c1_groups_name_cap_gen_el)\n",
    "cap_exp_sum_gen = get_condense_sum(cap_exp_sum_gen, c1_groups_cap_gen_el, c1_groups_name_cap_gen_el)\n",
    "cap_stst_sum_con = get_condense_sum(cap_stst_sum_con, c1_groups_cap_con_el, c1_groups_name_cap_con_el)\n",
    "cap_exp_sum_con = get_condense_sum(cap_exp_sum_con, c1_groups_cap_con_el, c1_groups_name_cap_con_el)\n",
    "\n",
    "# rename unhandy column names\n",
    "cap_stst_sum_gen.rename(columns=carrier_renaming, inplace=True)\n",
    "cap_exp_sum_gen.rename(columns=carrier_renaming, inplace=True)\n",
    "cap_stst_sum_con.rename(columns=carrier_renaming, inplace=True)\n",
    "cap_exp_sum_con.rename(columns=carrier_renaming, inplace=True)"
   ]
  },
  {
   "cell_type": "code",
   "execution_count": null,
   "metadata": {
    "pycharm": {
     "name": "#%%\n"
    }
   },
   "outputs": [],
   "source": [
    "# capacity of electricity generating technologies\n",
    "\n",
    "c_el_gen_s, c_el_con_s\n",
    "\n",
    "fig, (ax0, ax1, ax2, ax3, ax4) = plt.subplots(nrows=1, ncols=5, figsize=(12, 6))\n",
    "bbox = (0.5, 1.25)\n",
    "\n",
    "carriers = [\"solar\" , \"solar rooftop\"]\n",
    "labels = [c + \"_cap_gen_el\" for c in carriers]\n",
    "get_df(cap_stst_sum_gen, cap_exp_sum_gen, labels).plot(ax = ax0, kind=\"bar\", stacked=True, grid=False, color=[carrier_colors[c] for c in carriers], ylabel=\"Capacity [GW]\")\n",
    "ax0.legend(labels = carriers, loc='upper center', bbox_to_anchor=bbox)\n",
    "\n",
    "carriers = [\"onwind\", \"offwind-dc\", \"offwind-ac\"]\n",
    "labels = [c + \"_cap_gen_el\" for c in carriers]\n",
    "get_df(cap_stst_sum_gen, cap_exp_sum_gen, labels).plot(ax = ax1, kind=\"bar\", stacked=True, grid=False, color=[carrier_colors[c] for c in carriers], ylabel=\"Capacity [GW]\")\n",
    "ax1.legend(labels = carriers, loc='upper center', bbox_to_anchor=bbox)\n",
    "\n",
    "carriers = [\"V2G\", \"battery discharger\"]\n",
    "labels = [c + \"_cap_gen_el\" for c in carriers]\n",
    "get_df(cap_stst_sum_gen, cap_exp_sum_gen, labels).plot(ax = ax2, kind=\"bar\", stacked=True, grid=False, color=[carrier_colors[c] for c in carriers], ylabel=\"Capacity [GW]\")\n",
    "ax2.legend(labels = carriers, loc='upper center', bbox_to_anchor=bbox)\n",
    "\n",
    "carriers = [\"hydro\", \"PHS\", \"ror\"]\n",
    "labels = [c + \"_cap_gen_el\" for c in carriers]\n",
    "get_df(cap_stst_sum_gen, cap_exp_sum_gen, labels).plot(ax = ax3, kind=\"bar\", stacked=True, grid=False, color=[carrier_colors[c] for c in carriers], ylabel=\"Capacity [GW]\")\n",
    "ax3.legend(labels = [carrier_renaming.get(n, n) for n in carriers], loc='upper center', bbox_to_anchor=bbox)\n",
    "\n",
    "carriers = [\"urban central gas CHP\", \"urban central solid biomass CHP CC\"]\n",
    "labels = [c + \"_cap_gen_el\" for c in carriers]\n",
    "get_df(cap_stst_sum_gen, cap_exp_sum_gen, labels).plot(ax = ax4, kind=\"bar\", stacked=True, grid=False, color=[carrier_colors[c] for c in carriers], ylabel=\"Capacity [GW]\")\n",
    "ax4.legend(labels = [carrier_renaming.get(n, n) for n in carriers], loc='upper center', bbox_to_anchor=bbox)\n",
    "\n",
    "fig.suptitle(\"Capacity of electricity generating technologies\", fontsize=16,  **font1)\n",
    "fig.tight_layout()\n",
    "plt.show()\n",
    "\n",
    "fig.savefig(f\"{PLOT_DIR}01_general/4.1_system_overview/el_gen_capa_scenarios.png\")"
   ]
  },
  {
   "cell_type": "code",
   "execution_count": null,
   "metadata": {
    "pycharm": {
     "name": "#%%\n"
    }
   },
   "outputs": [],
   "source": [
    "# Further investigation\n",
    "carriers = [\"hydro\"]\n",
    "labels = [c + \"_cap_gen_el\" for c in carriers]\n",
    "get_df(cap_stst_sum_gen, cap_exp_sum_gen, labels)"
   ]
  },
  {
   "cell_type": "markdown",
   "metadata": {
    "pycharm": {
     "name": "#%% md\n"
    }
   },
   "source": [
    "|technology   |STST   |EXP   |\n",
    "|---|---|---|\n",
    "|'onwind'   |1945   |1819   |   \n",
    "|'solar'   | 3302  | 2131  |  \n",
    "| 'offwind-dc'  |153   | 232  |  \n",
    "|  'hydro' | 100  |100  |   \n",
    "| 'solar rooftop'  | 329  | 249  |  \n",
    "| 'battery discharger'  | 205  | 56  |  \n",
    "| 'offwind-ac'  | 54  | 42  |   \n",
    "| 'ror'  | 35  | 35  |  \n",
    "|  'urban central gas CHP' | 150  | 84  |  \n",
    "|  'urban central solid biomass CHP CC' | 26  | 20  |   \n",
    "|   'V2G'| 2154  | 2154  |  \n",
    "| 'PHS'  | 55  | 55  |  "
   ]
  },
  {
   "cell_type": "code",
   "execution_count": null,
   "metadata": {
    "pycharm": {
     "name": "#%%\n"
    }
   },
   "outputs": [],
   "source": [
    "# capacity of electricity consuming technologies\n",
    "\n",
    "fig, (ax0, ax1, ax2, ax3) = plt.subplots(nrows=1, ncols=4, figsize=(12, 6))\n",
    "bbox = (0.5, 1.25)\n",
    "\n",
    "carriers = [\"H2 Electrolysis\"]\n",
    "labels = [c + \"_cap_con_el\" for c in carriers]\n",
    "get_df(cap_stst_sum_con, cap_exp_sum_con, labels).plot(ax = ax0, kind=\"bar\", stacked=True, grid=False, color=[carrier_colors[c] for c in carriers], ylabel=\"Capacity [GW]\")\n",
    "ax0.legend(labels = [carrier_renaming.get(n, n) for n in carriers], loc='upper center', bbox_to_anchor=bbox)\n",
    "\n",
    "carriers = [\"BEV charger\", \"battery charger\"]\n",
    "labels = [c + \"_cap_con_el\" for c in carriers]\n",
    "get_df(cap_stst_sum_con, cap_exp_sum_con, labels).plot(ax = ax1, kind=\"bar\", stacked=True, grid=False, color=[carrier_colors[c] for c in carriers], ylabel=\"Capacity [GW]\")\n",
    "ax1.legend(labels = [carrier_renaming.get(n, n) for n in carriers], loc='upper center', bbox_to_anchor=bbox)\n",
    "\n",
    "carriers = [\"resistive heater\", \"heat pump\"]\n",
    "labels = [c + \"_cap_con_el\" for c in carriers]\n",
    "get_df(cap_stst_sum_con, cap_exp_sum_con, labels).plot(ax = ax2, kind=\"bar\", stacked=True, grid=False, color=[carrier_colors[c] for c in carriers], ylabel=\"Capacity [GW]\")\n",
    "ax2.legend(labels = [carrier_renaming.get(n, n) for n in carriers], loc='upper center', bbox_to_anchor=bbox)\n",
    "\n",
    "carriers = [\"PHS\"]\n",
    "labels = [c + \"_cap_con_el\" for c in carriers]\n",
    "get_df(cap_stst_sum_con, cap_exp_sum_con, labels).plot(ax = ax3, kind=\"bar\", stacked=True, grid=False, color=[carrier_colors[c] for c in carriers], ylabel=\"Capacity [GW]\")\n",
    "ax3.legend(labels = [carrier_renaming.get(n, n) for n in carriers], loc='upper center', bbox_to_anchor=bbox)\n",
    "\n",
    "fig.suptitle(\"Capacity of electricity consuming technologies\", fontsize=16,  **font1)\n",
    "fig.tight_layout()\n",
    "plt.show()\n",
    "\n",
    "fig.savefig(f\"{PLOT_DIR}01_general/4.1_system_overview/el_con_capa_scenarios.png\")"
   ]
  },
  {
   "cell_type": "code",
   "execution_count": null,
   "metadata": {
    "pycharm": {
     "name": "#%%\n"
    }
   },
   "outputs": [],
   "source": [
    "n_no.links[n_no.links.carrier == \"battery charger\"].efficiency"
   ]
  },
  {
   "cell_type": "code",
   "execution_count": null,
   "metadata": {
    "pycharm": {
     "name": "#%%\n"
    }
   },
   "outputs": [],
   "source": [
    "carriers = [\"PHS\"]\n",
    "labels = [c + \"_cap_gen_el\" for c in carriers]\n",
    "get_df(cap_stst_sum_gen, cap_exp_sum_gen, labels)"
   ]
  },
  {
   "cell_type": "code",
   "execution_count": null,
   "metadata": {
    "pycharm": {
     "name": "#%%\n"
    }
   },
   "outputs": [],
   "source": [
    "carriers = [\"PHS\"]\n",
    "labels = [c + \"_cap_con_el\" for c in carriers]\n",
    "get_df(cap_stst_sum_con, cap_exp_sum_con, labels)"
   ]
  },
  {
   "cell_type": "markdown",
   "metadata": {
    "pycharm": {
     "name": "#%% md\n"
    }
   },
   "source": [
    "|technology   |STST   |EXP   |\n",
    "|---|---|---|\n",
    "|'H2 Electrolysis'   |1291   |1083   |   \n",
    "|'BEV charger'   | 2394  | 2394  |  \n",
    "|'battery charger'  |205   | 56  |  \n",
    "|  'heat pump' | 171  | 169  |   \n",
    "| 'resistive heater'  | 367  | 387  |  \n",
    "| 'PHS'  |47  | 47  |  "
   ]
  },
  {
   "cell_type": "code",
   "execution_count": null,
   "metadata": {
    "pycharm": {
     "name": "#%%\n"
    }
   },
   "outputs": [],
   "source": [
    "# capacity of peak power plants\n",
    "\n",
    "fig, (ax0, ax1, ax2, ax3, ax4) = plt.subplots(nrows=1, ncols=5, figsize=(12, 6))\n",
    "bbox = (0.5, 1.25)\n",
    "\n",
    "carriers = [\"gas CHP CC\", \"gas CHP\"]\n",
    "get_df(cap_no_sum, cap_h2_sum, carriers).plot(ax = ax0, kind=\"bar\", stacked=True, grid=False, color=[carrier_colors[c] for c in carriers], ylabel=\"Capacity [GW]\")\n",
    "ax0.legend(loc='upper center', bbox_to_anchor=bbox)\n",
    "\n",
    "carriers = [\"hydro\", \"PHS\"]\n",
    "get_df(cap_no_sum, cap_h2_sum, carriers).plot(ax = ax1, kind=\"bar\", stacked=True, grid=False, color=[carrier_colors[c] for c in carriers], ylabel=\"Capacity [GW]\")\n",
    "ax1.legend(loc='upper center', bbox_to_anchor=bbox)\n",
    "\n",
    "\n",
    "carriers = [\"biomass CHP CC\" , \"biomass CHP\"]\n",
    "get_df(cap_no_sum, cap_h2_sum, carriers).plot(ax = ax2, kind=\"bar\", stacked=True, grid=False, color=[carrier_colors[c] for c in carriers], ylabel=\"Capacity [GW]\")\n",
    "ax2.legend(loc='upper center', bbox_to_anchor=bbox)\n",
    "\n",
    "carriers = [\"OCGT\"]\n",
    "get_df(cap_no_sum, cap_h2_sum, carriers).plot(ax = ax3, kind=\"bar\", stacked=True, grid=False, color=[carrier_colors[c] for c in carriers], ylabel=\"Capacity [GW]\")\n",
    "ax3.legend(loc='upper center', bbox_to_anchor=bbox)\n",
    "\n",
    "carriers = [\"V2G\"]\n",
    "get_df(cap_no_sum, cap_h2_sum, carriers).plot(ax = ax4, kind=\"bar\", stacked=True, grid=False, color=[carrier_colors[c] for c in carriers], ylabel=\"Capacity [GW]\")\n",
    "ax4.legend(loc='upper center', bbox_to_anchor=bbox)\n",
    "\n",
    "fig.tight_layout()\n",
    "plt.close()\n",
    "plt.show()\n",
    "\n",
    "# fig.savefig(f\"{PLOT_DIR}01_general/4.1_system_overview/capa_peak_scenarios.png\")"
   ]
  },
  {
   "cell_type": "markdown",
   "metadata": {
    "pycharm": {
     "name": "#%% md\n"
    }
   },
   "source": [
    "#### Generation"
   ]
  },
  {
   "cell_type": "code",
   "execution_count": null,
   "metadata": {
    "pycharm": {
     "name": "#%%\n"
    }
   },
   "outputs": [],
   "source": [
    "# thesis_plot:\n",
    "\n",
    "fig, axs = plt.subplots(nrows=2, ncols=2, figsize=(15, 11))\n",
    "\n",
    "for n in [n_no, n_h2]:\n",
    "\n",
    "    carrier = [\"AC\", \"low voltage\"]\n",
    "    nb = nodal_balance(n, carrier=carrier, time=\"2013\", aggregate=['component', 'bus'], energy=True)\n",
    "    # convert from MWh to GWh\n",
    "    nb = nb.unstack(level=[1]) / 1000\n",
    "    # condense condense_groups\n",
    "    nb = get_condense_sum(nb, c1_groups, c1_groups_name)\n",
    "    # rename unhandy column names\n",
    "    nb.rename(columns=carrier_renaming, inplace=True)\n",
    "\n",
    "    nb_pos = nb[nb > 0].sum().sort_values(ascending=False)\n",
    "    # exclude all shares smaller than 1 %\n",
    "    nb_pos = nb_pos[(nb_pos / nb_pos.sum()) > 0.01]\n",
    "\n",
    "    nb_neg = abs(nb[nb < 0].sum()).sort_values(ascending=False)\n",
    "    # exclude all shares smaller than 1 %\n",
    "    nb_neg = nb_neg[(nb_neg / nb_neg.sum()) > 0.01]\n",
    "\n",
    "    if n==n_no:\n",
    "        ax_gen=axs[0, 0]\n",
    "        ax_con=axs[0, 1]\n",
    "        title_gen=f\"Electricity generation (STST)\"\n",
    "        title_con=f\"Electricity consumption (STST)\"\n",
    "\n",
    "    elif n==n_h2:\n",
    "        ax_gen=axs[1, 0]\n",
    "        ax_con=axs[1, 1]\n",
    "        title_gen=f\"Electricity generation (EXP)\"\n",
    "        title_con=f\"Electricity consumption (EXP)\"\n",
    "\n",
    "    # generation\n",
    "    c = [carrier_colors[col] for col in nb_pos.index]\n",
    "    percents = nb_pos.to_numpy() * 100 / nb_pos.to_numpy().sum()\n",
    "    labels = ['%s (%1.1f %%)' % (l, s) for l, s in zip(nb_pos.index, percents)]\n",
    "\n",
    "    patches, texts = ax_gen.pie(nb_pos, colors=c, startangle=0, labels=labels)\n",
    "    ax_gen.axis('equal')\n",
    "    ax_gen.set_title(title_gen, pad=20, fontweight=\"bold\")\n",
    "\n",
    "    # consumption\n",
    "    c = [carrier_colors[col] for col in nb_neg.index]\n",
    "    percents = nb_neg.to_numpy() * 100 / nb_neg.to_numpy().sum()\n",
    "    labels = ['%s (%1.1f %%)' % (l, s) for l, s in zip(nb_neg.index, percents)]\n",
    "\n",
    "    patches, texts = ax_con.pie(nb_neg, colors=c, startangle=0, labels=labels)\n",
    "    ax_con.axis('equal')\n",
    "\n",
    "    ax_con.set_title(title_con, pad=20, fontweight=\"bold\")\n",
    "\n",
    "fig.tight_layout(pad=5)\n",
    "plt.show()\n",
    "\n",
    "# fig.savefig(f\"{PLOT_DIR}01_general/4.1_system_overview/gen_con_ac_lowvoltage.png\")"
   ]
  },
  {
   "cell_type": "code",
   "execution_count": null,
   "metadata": {
    "pycharm": {
     "name": "#%%\n"
    }
   },
   "outputs": [],
   "source": [
    "nb[nb > 0].sum().sort_values(ascending=False) / nb[nb > 0].sum().sort_values(ascending=False).sum()"
   ]
  },
  {
   "cell_type": "code",
   "execution_count": null,
   "metadata": {
    "pycharm": {
     "name": "#%%\n"
    }
   },
   "outputs": [],
   "source": [
    "carriers_el_gen_stst = [\n",
    "    \"onwind\",\n",
    "    \"solar\",\n",
    "    \"BEV charger\",\n",
    "    \"offwind-dc\",\n",
    "    \"ror\",\n",
    "    \"hydro\",\n",
    "    \"solar rooftop\",\n",
    "    \"offwind-ac\",\n",
    "    \"battery charger\",\n",
    "    \"battery discharger\",\n",
    "    \"biomass CHP CC\",\n",
    "    \"V2G\",\n",
    "    \"PHS\",\n",
    "    \"gas CHP\",\n",
    "    \"OCGT\",\n",
    "    \"home battery charger\",\n",
    "    \"home battery discharger\",\n",
    "    \"H2 Fuel Cell\",\n",
    "    \"gas CHP CC\",\n",
    "    \"DAC\"\n",
    "]\n",
    "\n",
    "carriers_el_gen_exp = [\n",
    "    \"onwind\",\n",
    "    \"solar\",\n",
    "    \"BEV charger\",\n",
    "    \"offwind-dc\",\n",
    "    \"ror\",\n",
    "    \"hydro\",\n",
    "    \"solar rooftop\",\n",
    "    \"offwind-ac\",\n",
    "    \"battery charger\",\n",
    "    \"battery discharger\",\n",
    "    \"biomass CHP CC\",\n",
    "    \"biomass CHP\",\n",
    "    \"V2G\",\n",
    "    \"PHS\",\n",
    "    \"gas CHP\",\n",
    "    \"OCGT\",\n",
    "    \"home battery charger\",\n",
    "    \"home battery discharger\",\n",
    "]"
   ]
  },
  {
   "cell_type": "code",
   "execution_count": null,
   "metadata": {
    "pycharm": {
     "name": "#%%\n"
    }
   },
   "outputs": [],
   "source": [
    "# overall electricity generation in TWh\n",
    "\n",
    "model = \"EXP\"\n",
    "\n",
    "if model == \"STST\":\n",
    "    n = n_no\n",
    "    index = carriers_el_gen_stst\n",
    "\n",
    "elif model == \"EXP\":\n",
    "    n = n_h2\n",
    "    index = carriers_el_gen_exp\n",
    "\n",
    "carrier = [\"AC\", \"low voltage\"]\n",
    "nb = nodal_balance(n, carrier=carrier, time=\"2013\", aggregate=['component', 'bus'], energy=True)\n",
    "# convert from MWh to GWh\n",
    "nb = nb.unstack(level=[1]) / 1000\n",
    "# condense condense_groups\n",
    "nb = get_condense_sum(nb, c1_groups, c1_groups_name)\n",
    "# rename unhandy column names\n",
    "nb.rename(columns=carrier_renaming, inplace=True)\n",
    "# calc sum and convert to TWh\n",
    "nb[nb > 0].sum()[index].sum() / 1e3\n",
    "\n",
    "# STST: 10202\n",
    "# EXP: 9172"
   ]
  },
  {
   "cell_type": "code",
   "execution_count": null,
   "metadata": {
    "pycharm": {
     "name": "#%%\n"
    }
   },
   "outputs": [],
   "source": [
    "# overall generation and share of all wind and solar technologies:\n",
    "# wind:  STST: 5347 TWh, 52 % ; EXP: 5708 TWh, 62 %\n",
    "# solar: STST: 3584 TWh, 35 %; EXP: 2603 TWh, 28 %\n",
    "# Together: STST: 8931 TWh, 88 % ; EXP: 8311 TWh, 91 \\%\n",
    "# (nb[nb > 0].sum()[[\"solar\", \"solar rooftop\"]].sum() / 1000 ) / (nb[nb > 0].sum().sum() / 1000)\n",
    "(nb[nb > 0].sum()[[\"onwind\", \"offwind-ac\", \"offwind-dc\", \"solar\", \"solar rooftop\"]].sum() / 1000 ) #/ (nb[nb > 0].sum().sum() / 1000)\n"
   ]
  },
  {
   "cell_type": "code",
   "execution_count": null,
   "metadata": {
    "pycharm": {
     "name": "#%%\n"
    }
   },
   "outputs": [],
   "source": [
    "# overall electricity consumption in TWh\n",
    "\n",
    "carrier = [\"AC\", \"low voltage\"]\n",
    "nb = nodal_balance(n_no, carrier=carrier, time=\"2013\", aggregate=['component', 'bus'], energy=True)\n",
    "# convert from MWh to GWh\n",
    "nb = nb.unstack(level=[1]) / 1000\n",
    "# condense condense_groups\n",
    "nb = get_condense_sum(nb, c1_groups, c1_groups_name)\n",
    "# rename unhandy column names\n",
    "nb.rename(columns=carrier_renaming, inplace=True)\n",
    "# calc sum and convert to TWh\n",
    "nb[nb < 0].sum().sum() / 1000\n",
    "\n",
    "# STST: -10202\n",
    "# EXP: -9172"
   ]
  },
  {
   "cell_type": "code",
   "execution_count": null,
   "metadata": {
    "pycharm": {
     "name": "#%%\n"
    }
   },
   "outputs": [],
   "source": [
    "# Direct Air Capture consumes 12 TWh in total? (STST)\n",
    "nb[nb < 0].sum()[\"DAC\"] / 1e3"
   ]
  },
  {
   "cell_type": "code",
   "execution_count": null,
   "metadata": {
    "pycharm": {
     "name": "#%%\n"
    }
   },
   "outputs": [],
   "source": [
    "# generation and consumption (heat)\n",
    "\n",
    "fig, axs = plt.subplots(nrows=2, ncols=2, figsize=(15, 11))\n",
    "\n",
    "for n in [n_no, n_h2]:\n",
    "\n",
    "    carrier = [\"urban central heat\"]\n",
    "    nb = nodal_balance(n, carrier=carrier, time=\"2013\", aggregate=['component', 'bus'], energy=True)\n",
    "    # convert from MW to GW\n",
    "    nb = nb.unstack(level=[1]) / 1000\n",
    "\n",
    "    nb_pos = nb.sum()[nb.sum() > 0].sort_values(ascending=False)\n",
    "    # exclude all shares smaller than 1 %\n",
    "    nb_pos = nb_pos[(nb_pos / nb_pos.sum()) > 0.01]\n",
    "\n",
    "    nb_neg = abs(nb.sum()[nb.sum() < 0]).sort_values(ascending=False)\n",
    "    # exclude all shares smaller than 1 %\n",
    "    nb_neg = nb_neg[(nb_neg / nb_neg.sum()) > 0.01]\n",
    "\n",
    "    if n==n_no:\n",
    "        ax_gen=axs[0, 0]\n",
    "        ax_con=axs[0, 1]\n",
    "        title_gen=f\"Generation: {carrier} (STST)\"\n",
    "        title_con=f\"Consumption: {carrier} (STST)\"\n",
    "\n",
    "    elif n==n_h2:\n",
    "        ax_gen=axs[1, 0]\n",
    "        ax_con=axs[1, 1]\n",
    "        title_gen=f\"Generation: {carrier} (EXP)\"\n",
    "        title_con=f\"Consumption: {carrier} (EXP)\"\n",
    "\n",
    "    # generation\n",
    "    c = [carrier_colors[col] for col in nb_pos.index]\n",
    "    percents = nb_pos.to_numpy() * 100 / nb_pos.to_numpy().sum()\n",
    "    labels = ['%s (%1.1f %%)' % (l, s) for l, s in zip(nb_pos.index, percents)]\n",
    "\n",
    "    patches, texts = ax_gen.pie(nb_pos, colors=c, startangle=0, labels=labels)\n",
    "    ax_gen.axis('equal')\n",
    "    ax_gen.set_title(title_gen, pad=20, fontweight=\"bold\")\n",
    "\n",
    "    # consumption\n",
    "    c = [carrier_colors[col] for col in nb_neg.index]\n",
    "    percents = nb_neg.to_numpy() * 100 / nb_neg.to_numpy().sum()\n",
    "    labels = ['%s (%1.1f %%)' % (l, s) for l, s in zip(nb_neg.index, percents)]\n",
    "\n",
    "    patches, texts = ax_con.pie(nb_neg, colors=c, startangle=0, labels=labels)\n",
    "    ax_con.axis('equal')\n",
    "\n",
    "    ax_con.set_title(title_con, pad=20, fontweight=\"bold\")\n",
    "\n",
    "fig.tight_layout(pad=2)\n",
    "#plt.close()\n",
    "plt.show()\n",
    "\n",
    "# Fischer Tropsch nebenprdukt Heat"
   ]
  },
  {
   "cell_type": "markdown",
   "metadata": {
    "pycharm": {
     "name": "#%% md\n"
    }
   },
   "source": [
    "#### Correlation of Capacity"
   ]
  },
  {
   "cell_type": "code",
   "execution_count": null,
   "metadata": {
    "pycharm": {
     "name": "#%%\n"
    }
   },
   "outputs": [],
   "source": [
    "cap_no.corr()[\"PHS\"].sort_values(ascending=False)"
   ]
  },
  {
   "cell_type": "code",
   "execution_count": null,
   "metadata": {
    "pycharm": {
     "name": "#%%\n"
    }
   },
   "outputs": [],
   "source": [
    "cap_h2.corr()[\"H2 pipeline retrofitted\"].sort_values(ascending=False)"
   ]
  },
  {
   "cell_type": "code",
   "execution_count": null,
   "metadata": {
    "pycharm": {
     "name": "#%%\n"
    }
   },
   "outputs": [],
   "source": [
    "# check correlation of capacities to check at which locations similar technologies are present\n",
    "fig = plt.figure(figsize=(28, 14))\n",
    "sns.heatmap(cap_no.corr()[(abs(cap_no.corr()) > 0.1) & (abs(cap_no.corr()) < 0.8)], annot=True)\n",
    "plt.close()\n",
    "plt.show()\n",
    "# fig.savefig(f\"{PLOT_DIR}01_general/4.1_system_overview/no_h2_capa_corr.png\")"
   ]
  },
  {
   "cell_type": "code",
   "execution_count": null,
   "metadata": {
    "pycharm": {
     "name": "#%%\n"
    }
   },
   "outputs": [],
   "source": [
    "# check correlation of capacities to check at which location similar technologies are present\n",
    "fig = plt.figure(figsize=(28, 14))\n",
    "sns.heatmap(cap_h2.corr()[(abs(cap_h2.corr()) > 0.6) & (abs(cap_h2.corr()) < 0.9)], annot=True)\n",
    "plt.show()\n",
    "# fig.savefig(f\"{PLOT_DIR}01_general/4.1_system_overview/h2_capa_corr.png\")"
   ]
  },
  {
   "cell_type": "code",
   "execution_count": null,
   "metadata": {
    "pycharm": {
     "name": "#%%\n"
    }
   },
   "outputs": [],
   "source": [
    "fig = plt.figure(figsize=(28, 14))\n",
    "diff_cap = cap_no.corr() - cap_h2.corr()\n",
    "sns.heatmap(diff_cap[(abs(diff_cap) > 0.4) & (abs(diff_cap) < 0.5)], annot=True)\n",
    "plt.close()\n",
    "plt.show()\n",
    "# fig.savefig(f\"{PLOT_DIR}01_general/4.1_system_overview/capa_corr_diff_no_minus_h2.png\")"
   ]
  },
  {
   "cell_type": "markdown",
   "metadata": {
    "pycharm": {
     "name": "#%% md\n"
    }
   },
   "source": [
    "Findings: correlation of capacities amogn the scenarios\n",
    "\n",
    "Interesting and making sense:\n",
    "- H2 Electrolysis and onwind: (no: 0.67; h2: 0.76) -> onshore wind dominantly used for hydrogen production\n",
    "- H2 Electrolysis and solar: (no: 0.32; h2: 0.37) -> solar wind partly used for hydrogen production\n",
    "- H2 Electrolysis and H2 pipeline: 0.66 -> hydrogen production at locations with pipelines\n",
    "- onwind and h2 pipeline. 0.57 -> onwind used for hydrogen production close to h2 pipelines; pipelines are build where a lot of onwind is located\n",
    "- offwind-dc and H2 liquefaction: 0.61 ; 0.35 -> offshore wind used to produced liquefied hydrogen (more present in STST scenario as there is less possibility to transport away the offshore wind power generation)\n",
    "\n",
    "- solar and battery charger: (no: 0.59; h2: 0.54) -> solar used for utility scale battery charging\n",
    "- BEV and solar rooftop: (STST: 0.63 ; EXP: 0.56) -> solar used to charge vehicles\n",
    "- BEV and solar: (STST: 0.53 ; EXP: 0.22) -> solar used to charge vehicles\n",
    "\n",
    "- gas CHP and heat pump / gas boilder / resistive heater : (no: 0.83, 0.72, 0.72 ; h2: 0.71 , 0.7, 0.58) -> all heat sources are at the same location\n",
    "- gas CHP and biomass CHP / biomas CHP CC: 0.67 / 0.67 ; 0.44 / 0.3 -> all heat sources are at the same location\n",
    "- gas CHP and water tanks charger: 0.66 ; 0.53 -> heat used for charging thermal storage\n",
    "- water tanks charger and heat pump / gas boiler / resisitive heater: 0.68 / 0.65 / 0.67 ; 0.73/ 0.72 / 0.65 -> heat used for charging thermal storage\n",
    "\n",
    "Not making sense or not interesting?:\n",
    "- biomas CHP and water tanks charger / discharger; (no: 0.007/ 0.048 ; h2: 0.59, 0.55) -> Why no correlation in STST case?\n",
    "- biomass CHP and home battery charger: -0.52 ; -0.23\n",
    "- gas CHP CC and home battery charger: -0.65 ; -0.7\n",
    "- H2 Electrolysis and water tanks charger / water tanks discharger: ( no: 0.39 / 0.44 ; -0.12 / < abs(0.1)) -> rather random?\n",
    "\n",
    "Not interesting and making sense:\n",
    "- solar and solar rooftop (0.5 ; 0.47)\n",
    "- solar thermal and solar: 0.56 ; 0.41\n",
    "\n",
    "Not interesting and not making sense:\n",
    "- H2 Fuel cell and home battery charger / home battery discharger: (no: -0.032; h2: -0.69) not very relevant as there is almost no capacity of fuel cell\n",
    "- SMR CC and H2 liquefaction: (no: 0.72; h2: -0.16) strong correlation with SMR CC and H2 liquefaction in STST scenario; small correlation in EXP scenario random due to little capacity of SMR CC\n",
    "- H2 Fuel Cell and biomass CHP / biomass CHP CC: (no: 0.032 / <0.01 ; ) H2 Fuel Cell has no relevance"
   ]
  },
  {
   "cell_type": "markdown",
   "metadata": {
    "pycharm": {
     "name": "#%% md\n"
    }
   },
   "source": [
    "#### Capacity Coverage (%)\n",
    "- calc capacities in percentage\n",
    "- calc the min(capA, capB) for every location to see how many percentage points are present at a location from both technologies. If it is 100, the distributio of capacity is the same, if it is 0, there is no capacity present of technology A at the same location where capacity of technology B is present.\n",
    "- measure the similarity of the distribution\n",
    "how to calc that?"
   ]
  },
  {
   "cell_type": "code",
   "execution_count": null,
   "metadata": {
    "pycharm": {
     "name": "#%%\n"
    }
   },
   "outputs": [],
   "source": [
    "# Note: gas, oil, sabatier, biogas to gas, ... only have capacity at EU bus\n",
    "\n",
    "cap_no_perc = pd.DataFrame(cap_no.fillna(0) / cap_no.fillna(0).sum())\n",
    "cap_h2_perc = pd.DataFrame(cap_h2.fillna(0) / cap_h2.fillna(0).sum())\n",
    "\n",
    "# exclude all carriers that only have capacity at EU bus\n",
    "cap_no_perc = cap_no_perc[cap_no_perc.columns[cap_no_perc.loc[\"EU\"]!=1]]\n",
    "cap_h2_perc = cap_h2_perc[cap_h2_perc.columns[cap_h2_perc.loc[\"EU\"]!=1]]\n",
    "\n",
    "# drop EU row\n",
    "cap_no_perc.drop(\"EU\", inplace=True)\n",
    "cap_h2_perc.drop(\"EU\", inplace=True)\n",
    "\n",
    "cap_no_cc = pd.DataFrame(index=cap_no_perc.columns, columns=cap_no_perc.columns)\n",
    "cap_h2_cc = pd.DataFrame(index=cap_h2_perc.columns, columns=cap_h2_perc.columns)\n",
    "\n",
    "for c1 in cap_no_cc.columns:\n",
    "    for c2 in cap_no_cc.index:\n",
    "        cap_no_cc.loc[c1, c2] = cap_no_perc[[c1, c2]].min(axis=1).sum()\n",
    "\n",
    "for c1 in cap_h2_cc.columns:\n",
    "    for c2 in cap_h2_cc.index:\n",
    "        cap_h2_cc.loc[c1, c2] = cap_h2_perc[[c1, c2]].min(axis=1).sum()\n",
    "\n",
    "# convert to float\n",
    "cap_no_cc = cap_no_cc.astype(float)\n",
    "cap_h2_cc = cap_h2_cc.astype(float)"
   ]
  },
  {
   "cell_type": "code",
   "execution_count": null,
   "metadata": {
    "pycharm": {
     "name": "#%%\n"
    }
   },
   "outputs": [],
   "source": [
    "fig = plt.figure(figsize=(28, 14))\n",
    "sns.heatmap(cap_no_cc[cap_no_cc >0.8], annot=True)\n",
    "plt.close()\n",
    "plt.show()"
   ]
  },
  {
   "cell_type": "code",
   "execution_count": null,
   "metadata": {
    "pycharm": {
     "name": "#%%\n"
    }
   },
   "outputs": [],
   "source": [
    "fig = plt.figure(figsize=(28, 14))\n",
    "sns.heatmap(cap_h2_cc[cap_h2_cc > 0.8], annot=True)\n",
    "plt.close()\n",
    "plt.show()"
   ]
  },
  {
   "cell_type": "code",
   "execution_count": null,
   "metadata": {
    "pycharm": {
     "name": "#%%\n"
    }
   },
   "outputs": [],
   "source": [
    "round(cap_no_cc - cap_h2_cc.loc[cap_no_cc.index, cap_no_cc.columns], 2)"
   ]
  },
  {
   "cell_type": "code",
   "execution_count": null,
   "metadata": {
    "pycharm": {
     "name": "#%%\n"
    }
   },
   "outputs": [],
   "source": [
    "fig = plt.figure(figsize=(28, 14))\n",
    "diff_cc = round(cap_no_cc - cap_h2_cc.loc[cap_no_cc.index, cap_no_cc.columns], 2)\n",
    "sns.heatmap(diff_cc[abs(diff_cc) > 0.5], annot=True)\n",
    "plt.close()\n",
    "plt.show()"
   ]
  },
  {
   "cell_type": "markdown",
   "metadata": {
    "pycharm": {
     "name": "#%% md\n"
    }
   },
   "source": [
    "### Correlation of generation\n",
    "- temporal correlation\n",
    "- spatial correlation"
   ]
  },
  {
   "cell_type": "code",
   "execution_count": null,
   "metadata": {
    "pycharm": {
     "name": "#%%\n"
    }
   },
   "outputs": [],
   "source": [
    "# Spatial correlation of gen STST and EXP\n",
    "# correlation of the whole generation and consumption aggregated for all locations\n",
    "\n",
    "fig, axs = plt.subplots(ncols=2, figsize=(20, 7))\n",
    "\n",
    "for i, df, ax in zip([0,1], [df_stst_ons, df_exp_ons], axs):\n",
    "    corr = df[[c + \"_gen\" for c in c_el_gen_s] + [c + \"_con_el\" for c in c_el_con_s]].corr()\n",
    "    corr.index = [carrier_renaming.get(n, n) for n in c_el_gen_s] + [carrier_renaming.get(n, n) + \" (con)\" for n in c_el_con_s]\n",
    "    corr.columns = [carrier_renaming.get(n, n) for n in c_el_gen_s] + [carrier_renaming.get(n, n)+ \" (con)\" for n in c_el_con_s]\n",
    "\n",
    "    mask = np.triu(np.ones_like(corr, dtype=bool))\n",
    "\n",
    "    sns.heatmap(corr[abs(corr) > 0.4], mask=mask, cmap=\"magma_r\", annot=True, ax=ax)\n",
    "    ax.set_title('STST' if i == 0 else 'EXP')\n",
    "    \n",
    "fig.tight_layout(pad=1.5)\n",
    "plt.close()\n",
    "plt.show()\n",
    "\n",
    "#fig.savefig(f\"{PLOT_DIR}01_general/4.1_system_overview/el_gen_con_spatial_corr.png\")"
   ]
  },
  {
   "cell_type": "code",
   "execution_count": null,
   "metadata": {
    "pycharm": {
     "name": "#%%\n"
    }
   },
   "outputs": [],
   "source": [
    "# temporal correlation of gen STST and EXP (1)\n",
    "# correlation of the generation / consumption per time step aggregated over the locations\n",
    "\n",
    "fig, axs = plt.subplots(ncols=2, figsize=(20, 7))\n",
    "\n",
    "for i, df, ax in zip([0,1], [df_stst_ts, df_exp_ts], axs):\n",
    "    corr = df[[c + \"_gen_el\" for c in c_el_gen_s] + [c + \"_con_el\" for c in c_el_con_s]].corr()\n",
    "    corr.index = [carrier_renaming.get(n, n) for n in c_el_gen_s] + [carrier_renaming.get(n, n) + \" (con)\" for n in c_el_con_s]\n",
    "    corr.columns = [carrier_renaming.get(n, n) for n in c_el_gen_s] + [carrier_renaming.get(n, n)+ \" (con)\" for n in c_el_con_s]\n",
    "\n",
    "    mask = np.triu(np.ones_like(corr, dtype=bool))\n",
    "\n",
    "    sns.heatmap(corr[abs(corr) > 0.4], mask=mask, cmap=\"magma_r\", annot=True, ax=ax)\n",
    "    ax.set_title('STST' if i == 0 else 'EXP')\n",
    "\n",
    "\n",
    "fig.tight_layout(pad=1.5)\n",
    "plt.close()\n",
    "plt.show()\n",
    "\n",
    "#fig.savefig(f\"{PLOT_DIR}01_general/4.1_system_overview/el_gen_con_temporal_corr.png\")"
   ]
  },
  {
   "cell_type": "code",
   "execution_count": null,
   "metadata": {
    "pycharm": {
     "name": "#%%\n"
    }
   },
   "outputs": [],
   "source": [
    "# thesis plot\n",
    "\n",
    "# Spatial and temporal correlation of gen STST and EXP\n",
    "\n",
    "fig, axs = plt.subplots(nrows=2, ncols=2, figsize=(22, 18))\n",
    "\n",
    "for title, df, ax in zip([\"STST (spatial)\", \"EXP (spatial)\", \"STST (temporal)\", \"EXP (temporal)\"], [df_stst_ons, df_exp_ons, df_stst_ts, df_exp_ts], axs.reshape(-1)):\n",
    "    corr = df[[c + \"_gen_el\" for c in c_el_gen_s] + [c + \"_con_el\" for c in c_el_con_s]].corr()\n",
    "    corr.index = [carrier_renaming.get(n, n) for n in c_el_gen_s] + [carrier_renaming.get(n, n) + \" (con)\" for n in c_el_con_s]\n",
    "    corr.columns = [carrier_renaming.get(n, n) for n in c_el_gen_s] + [carrier_renaming.get(n, n)+ \" (con)\" for n in c_el_con_s]\n",
    "\n",
    "    mask = np.triu(np.ones_like(corr, dtype=bool))\n",
    "\n",
    "    sns.heatmap(corr[abs(corr) > 0.4], mask=mask, cmap=\"magma_r\", annot=True, ax=ax)\n",
    "    ax.xaxis.set_tick_params(labelsize=16)\n",
    "    ax.yaxis.set_tick_params(labelsize=16)\n",
    "    ax.set_title(title, fontsize=25, **font1)\n",
    "\n",
    "fig.tight_layout(pad=1.5)\n",
    "#plt.close()\n",
    "plt.show()\n",
    "\n",
    "#fig.savefig(f\"{PLOT_DIR}01_general/4.1_system_overview/el_gen_con_spatial_temporal_corr.png\")"
   ]
  },
  {
   "cell_type": "code",
   "execution_count": null,
   "metadata": {
    "pycharm": {
     "name": "#%%\n"
    }
   },
   "outputs": [],
   "source": [
    "def get_generation(carrier = \"onwind\", n=n_no, period=\"2013\"):\n",
    "\n",
    "    if carrier in n.generators.carrier.unique().tolist():\n",
    "        result = n.generators_t.p.loc[period, n.generators.carrier == carrier]\n",
    "        result.columns = result.columns.map(n.generators.bus)\n",
    "        result.columns = result.columns.map(n.buses.location)\n",
    "\n",
    "    elif carrier in n.links.carrier.unique().tolist():\n",
    "        result = -n.links_t.p1.loc[period, n.links.carrier == carrier]\n",
    "        result.columns = result.columns.map(n.links.bus1)\n",
    "        result = result.groupby(result.columns, axis=1).sum()\n",
    "        result.columns = result.columns.map(n.buses.location)\n",
    "\n",
    "    elif carrier in n.storage_units.carrier.unique().tolist():\n",
    "        result = n.storage_units_t.p_dispatch.loc[period, n.storage_units.carrier == carrier]\n",
    "        result.columns = result.columns.map(n.storage_units.bus)\n",
    "        result.columns = result.columns.map(n.buses.location)\n",
    "\n",
    "    elif carrier in n.loads.carrier.unique().tolist():\n",
    "        result = n.loads_t.p.loc[period, n.loads.carrier == carrier]\n",
    "        result.columns = result.columns.map(n.loads.bus)\n",
    "        result.columns = result.columns.map(n.buses.location)\n",
    "\n",
    "    else:\n",
    "        result = None\n",
    "\n",
    "    return result"
   ]
  },
  {
   "cell_type": "code",
   "execution_count": null,
   "metadata": {
    "pycharm": {
     "name": "#%%\n"
    }
   },
   "outputs": [],
   "source": [
    "# generation weighted temporal correlation per location\n",
    "# corr calculated as: correlation of ts of every time step and every location with all locations ->y 181 correlations; \n",
    "# then taking the generation weighted average of these correlations\n",
    "\n",
    "carriers = c_el_gen_s\n",
    "n = n_no\n",
    "res_temp_n_no = pd.DataFrame(index=carriers, columns=carriers)\n",
    "\n",
    "for c1 in carriers:\n",
    "    for c2 in carriers:\n",
    "\n",
    "        gen1 = get_generation(carrier=c1, n=n)\n",
    "        gen2 = get_generation(carrier=c2, n=n)\n",
    "\n",
    "        com_cols = gen1.columns.intersection(gen2.columns)\n",
    "        loc_res = pd.DataFrame(index=com_cols, columns=[\"corr\"])\n",
    "\n",
    "        for loc in com_cols:\n",
    "            loc_res.loc[loc,\"corr\"] = gen1[loc].corr(gen2[loc])\n",
    "\n",
    "        # correlation of two vectors with constant values is nan\n",
    "        loc_res.dropna(inplace=True)\n",
    "\n",
    "        # generation weighted mean of correlations per location\n",
    "        res_temp_n_no.loc[c1,c2] = round((gen1[loc_res.index].sum() * loc_res.T / gen1[loc_res.index].sum().sum()).sum().sum(), 2)\n",
    "\n",
    "res_temp_n_no = res_temp_n_no.astype(\"float\")\n",
    "\n",
    "fig = plt.figure(figsize=(16, 8))\n",
    "sns.heatmap(res_temp_n_no[abs(res_temp_n_no) > 0.5], annot=True)\n",
    "plt.close()\n",
    "plt.show()"
   ]
  },
  {
   "cell_type": "markdown",
   "metadata": {
    "pycharm": {
     "name": "#%% md\n"
    }
   },
   "source": [
    "## Energy Flow"
   ]
  },
  {
   "cell_type": "markdown",
   "metadata": {
    "pycharm": {
     "name": "#%% md\n"
    }
   },
   "source": [
    "### Balance map"
   ]
  },
  {
   "cell_type": "code",
   "execution_count": null,
   "metadata": {
    "pycharm": {
     "name": "#%%\n"
    }
   },
   "outputs": [],
   "source": [
    "# plot map with overall electricity balance  per region"
   ]
  },
  {
   "cell_type": "code",
   "execution_count": null,
   "metadata": {
    "pycharm": {
     "name": "#%%\n"
    }
   },
   "outputs": [],
   "source": [
    "# Calc nodal balances\n",
    "\n",
    "ac_balance = nodal_balance(n_no, \"AC\", aggregate=[\"snapshot\"])\n",
    "# change sing so that exports are positive and imports negative\n",
    "df_stst_ons[\"el_balance\"] = -(ac_balance.droplevel(0).unstack(\"carrier\")[[\"AC\", \"DC\"]].sum(axis=1).div(1e6))\n",
    "\n",
    "ac_balance = nodal_balance(n_h2, \"AC\", aggregate=[\"snapshot\"])\n",
    "# change sing so that exports are positive and imports negative\n",
    "df_exp_ons[\"el_balance\"] = -(ac_balance.droplevel(0).unstack(\"carrier\")[[\"AC\", \"DC\"]].sum(axis=1).div(1e6))"
   ]
  },
  {
   "cell_type": "code",
   "execution_count": null,
   "metadata": {
    "pycharm": {
     "name": "#%%\n"
    }
   },
   "outputs": [],
   "source": [
    "# nodal balance electricity and hydrogen\n",
    "\n",
    "fig, axs = plt.subplots(ncols=2, nrows=1, subplot_kw={'projection': ccrs.EqualEarth()},\n",
    "                        figsize=(18, 8))\n",
    "crs = ccrs.EqualEarth()\n",
    "\n",
    "\n",
    "for i, ax in enumerate(axs.reshape(-1)):\n",
    "\n",
    "    if i == 0:\n",
    "        df = df_stst_ons\n",
    "        model = \"STST\"\n",
    "        \n",
    "    elif i == 1:\n",
    "        df = df_exp_ons\n",
    "        model = \"EXP\"\n",
    "\n",
    "    ax.add_feature(cartopy.feature.BORDERS, edgecolor='black', linewidth=0.5)\n",
    "    ax.coastlines(edgecolor='black', linewidth=0.5)\n",
    "    ax.set_facecolor('white')\n",
    "    ax.add_feature(cartopy.feature.OCEAN, color='azure')\n",
    "    \n",
    "    abs_max = max(abs(df[\"el_balance\"].max()) , abs(df[\"el_balance\"].min()))\n",
    "\n",
    "    df.to_crs(crs.proj4_init).plot(column=\"el_balance\",\n",
    "                                                   ax=ax,\n",
    "                                                   cmap=plt.get_cmap('BrBG_r'),\n",
    "                                                   vmax=abs_max,\n",
    "                                                   vmin=-abs_max,\n",
    "                                                   linewidth=0.05,\n",
    "                                                   edgecolor = 'grey',\n",
    "                                                   legend=True,\n",
    "                                                   legend_kwds={'label':\"Electricity balance [TWh]\",\n",
    "                            'orientation': \"vertical\",\n",
    "                                      'shrink' : 0.8})\n",
    "    \n",
    "    ax.set_title(f\"Electricity balance ({model})\", fontsize=22, **font1)\n",
    " \n",
    "fig.tight_layout() \n",
    "plt.show()"
   ]
  },
  {
   "attachments": {
    "Screenshot_20230215_101123.png": {
     "image/png": "[encoded data removed]"
    }
   },
   "cell_type": "markdown",
   "metadata": {
    "pycharm": {
     "name": "#%% md\n"
    }
   },
   "source": [
    "**Figure 6 in Neumann paper**\n",
    "- how is methane determined\n",
    "- how can this even be plotted with oil? oil is and EU bus? (omplicated)\n",
    "\n",
    "![Screenshot_20230215_101123.png](attachment:Screenshot_20230215_101123.png)"
   ]
  },
  {
   "cell_type": "markdown",
   "metadata": {
    "pycharm": {
     "name": "#%% md\n"
    }
   },
   "source": [
    "### Balance Flow"
   ]
  },
  {
   "cell_type": "markdown",
   "metadata": {
    "pycharm": {
     "name": "#%% md\n"
    }
   },
   "source": [
    "![](../../../../Pictures/Screenshots/Screenshot_20230215_101816.png)"
   ]
  },
  {
   "cell_type": "code",
   "execution_count": null,
   "metadata": {
    "pycharm": {
     "name": "#%%\n"
    }
   },
   "outputs": [],
   "source": [
    "n_no.lines_t.p0.sum()"
   ]
  },
  {
   "cell_type": "code",
   "execution_count": null,
   "metadata": {
    "pycharm": {
     "name": "#%%\n"
    }
   },
   "outputs": [],
   "source": [
    "# Electricity network\n",
    "\n",
    "fig, (ax1, ax2) = plt.subplots(1, 2, subplot_kw={\"projection\": ccrs.EqualEarth()}, figsize=(18, 9))\n",
    "\n",
    "\n",
    "m_no.plot(ax=ax1, projection=ccrs.EqualEarth(), bus_colors=\"black\", line_colors=\"goldenrod\", link_colors=\"deepskyblue\",\n",
    "          line_widths=5e-4, link_widths=1e-2, flow=\"sum\")\n",
    "pypsa.plot.add_legend_patches(ax=ax1, labels=[\"HVAC lines\", \"HVDC lines\"], colors=[\"goldenrod\",\"deepskyblue\"], legend_kw={'loc': 'upper left'})\n",
    "ax1.set_title(\"Electricity Flow (STST)\", fontsize=15, pad=10)\n",
    "ax1.add_feature(cartopy.feature.BORDERS, edgecolor='black', linewidth=0.5)\n",
    "ax1.coastlines(edgecolor='black', linewidth=0.5)\n",
    "ax1.set_facecolor('white')\n",
    "ax1.add_feature(cartopy.feature.OCEAN, color='azure')\n",
    "\n",
    "\n",
    "m_h2.plot(ax=ax2, projection=ccrs.EqualEarth(), bus_colors=\"black\", line_colors=\"goldenrod\", link_colors=\"deepskyblue\",\n",
    "          line_widths=5e-4, link_widths=1e-3, flow=\"sum\")\n",
    "pypsa.plot.add_legend_patches(ax=ax2, labels=[\"HVAC lines\", \"HVDC lines\"], colors=[\"goldenrod\",\"deepskyblue\"], legend_kw={'loc': 'upper left'})\n",
    "ax2.set_title(\"Electricity Flow (EXP)\", fontsize=15, pad=10)\n",
    "ax2.add_feature(cartopy.feature.BORDERS, edgecolor='black', linewidth=0.5)\n",
    "ax2.coastlines(edgecolor='black', linewidth=0.5)\n",
    "ax2.set_facecolor('white')\n",
    "ax2.add_feature(cartopy.feature.OCEAN, color='azure')\n",
    "\n",
    "fig.tight_layout(pad=1)\n",
    "plt.show()\n",
    "\n",
    "#fig.savefig(f\"{PLOT_DIR}01_general/4.1_system_overview/el_grid_flow.png\")"
   ]
  },
  {
   "cell_type": "code",
   "execution_count": null,
   "metadata": {
    "pycharm": {
     "name": "#%%\n"
    }
   },
   "outputs": [],
   "source": [
    "# nodal balance electricity and flow\n",
    "\n",
    "fig, axs = plt.subplots(ncols=2, nrows=1, subplot_kw={'projection': ccrs.EqualEarth()},\n",
    "                        figsize=(17, 7))\n",
    "crs = ccrs.EqualEarth()\n",
    "\n",
    "\n",
    "for i, ax in enumerate(axs.reshape(-1)):\n",
    "\n",
    "    if i == 0:\n",
    "        df = df_stst_ons\n",
    "        n = m_no\n",
    "        link_widths = 1e-2\n",
    "        model = \"STST\"\n",
    "        \n",
    "    elif i == 1:\n",
    "        df = df_exp_ons\n",
    "        n = m_h2\n",
    "        link_widths = 1e-3\n",
    "        model = \"EXP\"\n",
    "\n",
    "    ax.add_feature(cartopy.feature.BORDERS, edgecolor='black', linewidth=0.5)\n",
    "    ax.coastlines(edgecolor='black', linewidth=0.5)\n",
    "    ax.set_facecolor('white')\n",
    "    ax.add_feature(cartopy.feature.OCEAN, color='azure')\n",
    "    \n",
    "    abs_max = max(abs(df[\"el_balance\"].max()) , abs(df[\"el_balance\"].min()))\n",
    "\n",
    "    df.to_crs(crs.proj4_init).plot(column=\"el_balance\",\n",
    "                                                   ax=ax,\n",
    "                                                   cmap=plt.get_cmap('BrBG_r'),\n",
    "                                                   vmax=abs_max,\n",
    "                                                   vmin=-abs_max,\n",
    "                                                   linewidth=0.05,\n",
    "                                                   edgecolor = 'grey',\n",
    "                                                   legend=True,\n",
    "                                                   legend_kwds={'label':\"Electricity balance [TWh]\",\n",
    "                            'orientation': \"vertical\",\n",
    "                                      'shrink' : 0.8})\n",
    "    \n",
    "    n.plot(ax=ax, projection=ccrs.EqualEarth(), bus_colors=\"black\", line_colors=\"goldenrod\", link_colors=\"deepskyblue\",\n",
    "        line_widths=5e-4, link_widths=link_widths, flow=\"sum\")\n",
    "    pypsa.plot.add_legend_patches(ax=ax, labels=[\"HVAC lines\", \"HVDC lines\"], colors=[\"goldenrod\",\"deepskyblue\"], legend_kw={'loc': 'upper left'})\n",
    "\n",
    "\n",
    "    ax.set_title(f\"Electricity balance and flow ({model})\", fontsize=16, **font1)\n",
    " \n",
    "fig.tight_layout() \n",
    "plt.show()\n",
    "\n",
    "# fig.savefig(f\"{PLOT_DIR}01_general/4.1_system_overview/el_grid_flow+balance.png\")"
   ]
  },
  {
   "cell_type": "code",
   "execution_count": null,
   "metadata": {
    "pycharm": {
     "name": "#%%\n"
    }
   },
   "outputs": [],
   "source": [
    "df_stst_ons[\"el_balance\"].sort_values().tail(10)"
   ]
  },
  {
   "cell_type": "code",
   "execution_count": null,
   "metadata": {
    "pycharm": {
     "name": "#%%\n"
    }
   },
   "outputs": [],
   "source": [
    "df_exp_ons[\"el_balance\"].sort_values().tail(10)"
   ]
  },
  {
   "cell_type": "code",
   "execution_count": null,
   "metadata": {
    "pycharm": {
     "name": "#%%\n"
    }
   },
   "outputs": [],
   "source": [
    "# major flows"
   ]
  },
  {
   "cell_type": "code",
   "execution_count": null,
   "metadata": {
    "pycharm": {
     "name": "#%%\n"
    }
   },
   "outputs": [],
   "source": [
    "n = n_no\n",
    "n.lines_t.p0.sum().sort_values() / 1e6 * 3"
   ]
  },
  {
   "cell_type": "code",
   "execution_count": null,
   "metadata": {
    "pycharm": {
     "name": "#%%\n"
    }
   },
   "outputs": [],
   "source": [
    "n.lines.loc[\"135\"]"
   ]
  },
  {
   "cell_type": "code",
   "execution_count": null,
   "metadata": {
    "pycharm": {
     "name": "#%%\n"
    }
   },
   "outputs": [],
   "source": [
    "n.links_t.p0.loc[: , n.links.carrier == \"DC\"].sum().sort_values() /1e6 * 3 "
   ]
  },
  {
   "cell_type": "code",
   "execution_count": null,
   "metadata": {
    "pycharm": {
     "name": "#%%\n"
    }
   },
   "outputs": [],
   "source": [
    "n.links.loc[\"14550\"]"
   ]
  },
  {
   "cell_type": "code",
   "execution_count": null,
   "metadata": {},
   "outputs": [],
   "source": [
    "n = n_h2\n",
    "n.lines_t.p0.sum().sort_values() / 1e6 * 3"
   ]
  },
  {
   "cell_type": "code",
   "execution_count": null,
   "metadata": {},
   "outputs": [],
   "source": [
    "# Overall flow in absolute values\n",
    "n = n_no\n",
    "n.lines_t.p0.abs().sum().sum() / 1e6 * 3  + n.links_t.p0.loc[: , n.links.carrier == \"DC\"].abs().sum().sum() /1e6 * 3 \n",
    "\n",
    "# STST: 4795 TWh ( 4665 (AC) + 129 (DC))\n",
    "# EXP: 11421 TWh ( 10135 (AC) + 1286 (DC))\n",
    "# relation: 2.38 "
   ]
  },
  {
   "cell_type": "code",
   "execution_count": null,
   "metadata": {},
   "outputs": [],
   "source": [
    "11421 / 4795"
   ]
  },
  {
   "cell_type": "markdown",
   "metadata": {
    "pycharm": {
     "name": "#%% md\n"
    }
   },
   "source": [
    "### Electricity demand"
   ]
  },
  {
   "cell_type": "code",
   "execution_count": null,
   "metadata": {
    "pycharm": {
     "name": "#%%\n"
    }
   },
   "outputs": [],
   "source": [
    "n_no.loads.carrier.unique()"
   ]
  },
  {
   "cell_type": "code",
   "execution_count": null,
   "metadata": {
    "pycharm": {
     "name": "#%%\n"
    }
   },
   "outputs": [],
   "source": [
    "n_no.loads.carrier[n_no.loads.carrier.str.contains(\"electricity\")].unique()"
   ]
  },
  {
   "cell_type": "code",
   "execution_count": null,
   "metadata": {
    "pycharm": {
     "name": "#%%\n"
    }
   },
   "outputs": [],
   "source": [
    "# Temporal "
   ]
  },
  {
   "cell_type": "code",
   "execution_count": null,
   "metadata": {
    "pycharm": {
     "name": "#%%\n"
    }
   },
   "outputs": [],
   "source": [
    "loads = [\"electricity\", \"industry electricity\", \"agriculture electricity\"]\n",
    "n_no_loads_ts = n_no.loads_t.p.loc[:, n_no.loads.carrier.isin(loads)].sum(axis=1) / 1000 * 3\n",
    "\n",
    "fig, (ax1, ax2) = plt.subplots(ncols=1, nrows=2,  height_ratios=[1.5, 1],\n",
    "                        figsize=(14, 7))\n",
    "\n",
    "# whole year\n",
    "ax1.plot(n_no_loads_ts, color=\"sandybrown\", lw=0.75)\n",
    "# ax1.plot(n_no_loads_ts.resample(\"D\").mean(), color=\"black\", lw=1)\n",
    "ax1.set_title(f\"Electricity demand (all year)\", fontsize=16, **font1)\n",
    "ax1.set_ylabel(\"GW\")\n",
    "\n",
    "# January\n",
    "ax2.plot(n_no_loads_ts[\"2013-01\"], color=\"sandybrown\") # [\"2013-01-03\":\"2013-01-05\"]\n",
    "ax2.set_title(f\"Electricity demand (January)\", fontsize=16, **font1)\n",
    "ax2.set_ylabel(\"GW\")\n",
    "\n",
    "fig.tight_layout(pad=1)\n",
    "plt.show()\n",
    "\n",
    "fig.savefig(f\"{PLOT_DIR}01_general/4.1_system_overview/el_demand_temporal.png\")"
   ]
  },
  {
   "cell_type": "code",
   "execution_count": null,
   "metadata": {
    "pycharm": {
     "name": "#%%\n"
    }
   },
   "outputs": [],
   "source": [
    "n_h2_loads_ts = n_h2.loads_t.p.loc[:, n_h2.loads.carrier.isin(loads)].sum(axis=1) / 1000 * 3\n",
    "#plt.plot(n_h2_loads_ts)\n",
    "#plt.plot(n_h2_loads_ts[\"2013-01\"])"
   ]
  },
  {
   "cell_type": "code",
   "execution_count": null,
   "metadata": {
    "pycharm": {
     "name": "#%%\n"
    }
   },
   "outputs": [],
   "source": [
    "n = n_no\n",
    "n_no_loads_sp = n_no.loads_t.p.loc[:, n_no.loads.carrier.isin(loads)].sum(axis=0) / 1000 / 1000 * 3\n",
    "n_no_loads_sp.index = n_no_loads_sp.index.map(n.loads.bus)\n",
    "n_no_loads_sp.index = n_no_loads_sp.index.map(n.buses.location)\n",
    "n_no_loads_sp = n_no_loads_sp.groupby(n_no_loads_sp.index, axis=0).sum()\n",
    "df_stst_ons[\"el_demand\"] = n_no_loads_sp\n",
    "\n",
    "n = n_h2\n",
    "n_h2_loads_sp = n_h2.loads_t.p.loc[:, n_h2.loads.carrier.isin(loads)].sum(axis=0) / 1000 / 1000 * 3\n",
    "n_h2_loads_sp.index = n_h2_loads_sp.index.map(n.loads.bus)\n",
    "n_h2_loads_sp.index = n_h2_loads_sp.index.map(n.buses.location)\n",
    "n_h2_loads_sp = n_h2_loads_sp.groupby(n_h2_loads_sp.index, axis=0).sum()\n",
    "df_exp_ons[\"el_demand\"] = n_h2_loads_sp\n",
    "\n",
    "for c in loads:\n",
    "    \n",
    "    n = n_no\n",
    "    n_no_loads_sp = n_no.loads_t.p.loc[:, n_no.loads.carrier == c].sum(axis=0) / 1000 / 1000 * 3\n",
    "    n_no_loads_sp.index = n_no_loads_sp.index.map(n.loads.bus)\n",
    "    n_no_loads_sp.index = n_no_loads_sp.index.map(n.buses.location)\n",
    "    n_no_loads_sp = n_no_loads_sp.groupby(n_no_loads_sp.index, axis=0).sum()\n",
    "    df_stst_ons[f\"el_demand_{c}\"] = n_no_loads_sp\n",
    "\n",
    "    n = n_h2\n",
    "    n_h2_loads_sp = n_h2.loads_t.p.loc[:, n_h2.loads.carrier == c].sum(axis=0) / 1000 / 1000 * 3\n",
    "    n_h2_loads_sp.index = n_h2_loads_sp.index.map(n.loads.bus)\n",
    "    n_h2_loads_sp.index = n_h2_loads_sp.index.map(n.buses.location)\n",
    "    n_h2_loads_sp = n_h2_loads_sp.groupby(n_h2_loads_sp.index, axis=0).sum()\n",
    "    df_exp_ons[\"el_demand_{c}\"] = n_h2_loads_sp"
   ]
  },
  {
   "cell_type": "code",
   "execution_count": null,
   "metadata": {
    "pycharm": {
     "name": "#%%\n"
    }
   },
   "outputs": [],
   "source": [
    "# demand is the same in both scenarios\n",
    "(df_stst_ons[\"el_demand\"] == df_exp_ons[\"el_demand\"]).sum()"
   ]
  },
  {
   "cell_type": "code",
   "execution_count": null,
   "metadata": {
    "pycharm": {
     "name": "#%%\n"
    }
   },
   "outputs": [],
   "source": [
    "# electricity demand\n",
    "df = df_stst_ons\n",
    "\n",
    "fig, ax3 = plt.subplots(ncols=1, nrows=1,\n",
    "                       subplot_kw={'projection': ccrs.EqualEarth()},\n",
    "                        figsize=(7, 6))\n",
    "crs = ccrs.EqualEarth()\n",
    "\n",
    "\n",
    "ax3.add_feature(cartopy.feature.BORDERS, edgecolor='black', linewidth=0.5)\n",
    "ax3.coastlines(edgecolor='black', linewidth=0.5)\n",
    "ax3.set_facecolor('white')\n",
    "ax3.add_feature(cartopy.feature.OCEAN, color='azure')\n",
    "\n",
    "\n",
    "df.to_crs(crs.proj4_init).plot(column=\"el_demand\",\n",
    "                                               ax=ax3,\n",
    "                                               cmap=plt.get_cmap('copper_r'),\n",
    "                                               linewidth=0.05,\n",
    "                                               edgecolor = 'grey',\n",
    "                                               legend=True,\n",
    "                                               legend_kwds={'label':\"Electricity demand [TWh]\",\n",
    "                                                            'orientation': \"vertical\",\n",
    "                                                            'shrink' : 0.9}\n",
    "                               )\n",
    "\n",
    "#ax3.set_title(f\"Electricity demand\", fontsize=16, **font1)\n",
    "\n",
    "fig.tight_layout()\n",
    "plt.show()\n",
    "\n",
    "# fig.savefig(f\"{PLOT_DIR}01_general/4.1_system_overview/el_demand_spatial.png\")"
   ]
  },
  {
   "cell_type": "code",
   "execution_count": null,
   "metadata": {
    "pycharm": {
     "name": "#%%\n"
    }
   },
   "outputs": [],
   "source": [
    "# overall demand\n",
    "n_no.loads_t.p.loc[:, n_no.loads.carrier.isin(loads)].sum().sum() / 1e6 * 3"
   ]
  },
  {
   "cell_type": "code",
   "execution_count": null,
   "metadata": {
    "pycharm": {
     "name": "#%%\n"
    }
   },
   "outputs": [],
   "source": [
    "# subdivison\n",
    "n_no.loads_t.p.loc[:, n_no.loads.carrier == \"industry electricity\"].sum().sum() / 1e6 * 3"
   ]
  },
  {
   "cell_type": "code",
   "execution_count": null,
   "metadata": {
    "pycharm": {
     "name": "#%%\n"
    }
   },
   "outputs": [],
   "source": [
    "df_stst_ons[\"el_demand\"].sort_values()"
   ]
  },
  {
   "cell_type": "code",
   "execution_count": null,
   "metadata": {
    "pycharm": {
     "name": "#%%\n"
    }
   },
   "outputs": [],
   "source": [
    "# electricity demand\n",
    "carriers = [\"el_demand\",\"el_demand_electricity\", \"el_demand_industry electricity\", \"el_demand_agriculture electricity\" ]\n",
    "df = df_stst_ons\n",
    "\n",
    "fig, axs = plt.subplots(ncols=2, nrows=2, subplot_kw={'projection': ccrs.EqualEarth()},\n",
    "                        figsize=(18, 14))\n",
    "crs = ccrs.EqualEarth()\n",
    "\n",
    "\n",
    "for i, ax in enumerate(axs.reshape(-1)):\n",
    "\n",
    "    ax.add_feature(cartopy.feature.BORDERS, edgecolor='black', linewidth=0.5)\n",
    "    ax.coastlines(edgecolor='black', linewidth=0.5)\n",
    "    ax.set_facecolor('white')\n",
    "    ax.add_feature(cartopy.feature.OCEAN, color='azure')\n",
    "\n",
    "    df.to_crs(crs.proj4_init).plot(column=f\"{carriers[i]}\",\n",
    "                                                   ax=ax,\n",
    "                                                   cmap=plt.get_cmap('copper_r'),\n",
    "                                                   linewidth=0.05,\n",
    "                                                   edgecolor = 'grey',\n",
    "                                                   legend=True,\n",
    "                                                   legend_kwds={'label':\"Electricity balance [TWh]\",\n",
    "                            'orientation': \"vertical\",\n",
    "                                      'shrink' : 0.8})\n",
    "    \n",
    "\n",
    "    ax.set_title(f\"{carriers[i]}\", fontsize=16, **font1)\n",
    " \n",
    "fig.tight_layout() \n",
    "plt.show()"
   ]
  },
  {
   "cell_type": "code",
   "execution_count": null,
   "metadata": {
    "pycharm": {
     "name": "#%%\n"
    }
   },
   "outputs": [],
   "source": [
    "df_stst_ons[\"el_demand_industry electricity\"].sort_values()"
   ]
  },
  {
   "cell_type": "code",
   "execution_count": null,
   "metadata": {
    "pycharm": {
     "name": "#%%\n"
    }
   },
   "outputs": [],
   "source": [
    "df_stst_ons[\"el_demand_electricity\"].sort_values()"
   ]
  },
  {
   "cell_type": "code",
   "execution_count": null,
   "metadata": {},
   "outputs": [],
   "source": []
  }
 ],
 "metadata": {
  "kernelspec": {
   "display_name": "Python 3 (ipykernel)",
   "language": "python",
   "name": "python3"
  },
  "language_info": {
   "codemirror_mode": {
    "name": "ipython",
    "version": 3
   },
   "file_extension": ".py",
   "mimetype": "text/x-python",
   "name": "python",
   "nbconvert_exporter": "python",
   "pygments_lexer": "ipython3",
   "version": "3.10.6"
  }
 },
 "nbformat": 4,
 "nbformat_minor": 1
}
