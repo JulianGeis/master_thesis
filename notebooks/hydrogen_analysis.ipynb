{
 "cells": [
  {
   "cell_type": "markdown",
   "metadata": {
    "pycharm": {
     "name": "#%% md\n"
    }
   },
   "source": [
    "# Plots for section 5"
   ]
  },
  {
   "cell_type": "code",
   "execution_count": null,
   "metadata": {
    "pycharm": {
     "name": "#%%\n"
    }
   },
   "outputs": [],
   "source": [
    "#TODO: Try to replicate some plots from Ruhnau Paper (have another look at it)"
   ]
  },
  {
   "cell_type": "markdown",
   "metadata": {
    "pycharm": {
     "name": "#%% md\n"
    }
   },
   "source": [
    "### Imports"
   ]
  },
  {
   "cell_type": "code",
   "execution_count": null,
   "metadata": {
    "pycharm": {
     "name": "#%%\n"
    }
   },
   "outputs": [],
   "source": [
    "import pandas as pd\n",
    "import matplotlib\n",
    "import numpy as np\n",
    "import pypsa\n",
    "import matplotlib.pyplot as plt\n",
    "import cartopy\n",
    "import cartopy.crs as ccrs\n",
    "import geopandas as gpd\n",
    "\n",
    "from utils import market_values, market_values_links, market_values_by_time_index, market_values_links_con, congestion_rent_link, convert_ISO_3166_2_to_1, generation, generation_links, market_values_storage_units, generation_storage_units\n",
    "\n",
    "# imported own functions\n",
    "from utils import market_values, market_values_by_time_index, nodal_balance, capacity, capacity_links, capacity_storage_units, get_condense_sum\n",
    "\n",
    "# imported own definitions\n",
    "from utils import carrier_colors, carrier_renaming, resistive_heater, gas_boiler, heat_pump, water_tanks_charger, water_tanks_discharger, solar_thermal\n",
    "\n",
    "# general variables\n",
    "font1 = {'fontname':'Calibri'}\n",
    "PLOT_DIR = 'C:/Users/Julian/Studies/Master/01 TU Berlin/3. Semester - Masterarbeit/MA Marktwerte FEE/data/plots/'\n",
    "onshore_regions = gpd.read_file(\"../data/external/regions_onshore_elec_s_181.geojson\")\n",
    "offshore_regions = gpd.read_file(\"../data/external/regions_offshore_elec_s_181.geojson\")\n",
    "onshore_regions = onshore_regions.set_index('name')\n",
    "offshore_regions = offshore_regions.set_index('name')"
   ]
  },
  {
   "cell_type": "code",
   "execution_count": null,
   "metadata": {
    "pycharm": {
     "name": "#%%\n"
    }
   },
   "outputs": [],
   "source": [
    "# Network imports\n",
    "n_no =pypsa.Network(\"../data/raw/elec_s_181_lv1.0__Co2L0-3H-T-H-B-I-A-solar+p3-linemaxext10-noH2network_2030.nc\")\n",
    "n_h2 =pypsa.Network(\"../data/raw/elec_s_181_lvopt__Co2L0-3H-T-H-B-I-A-solar+p3-linemaxext10_2030.nc\")"
   ]
  },
  {
   "cell_type": "code",
   "execution_count": null,
   "metadata": {
    "pycharm": {
     "name": "#%%\n"
    }
   },
   "outputs": [],
   "source": [
    "# Notebook Definitions\n",
    "\n",
    "c1_groups = [resistive_heater, gas_boiler, heat_pump, water_tanks_charger, water_tanks_discharger, solar_thermal]\n",
    "c1_groups_name = [\"resistive heater\", \"gas boiler\", \"heat pump\", \"water tanks charger\", \"water tanks discharger\", \"solar thermal\"]"
   ]
  },
  {
   "cell_type": "code",
   "execution_count": null,
   "metadata": {
    "pycharm": {
     "name": "#%%\n"
    }
   },
   "outputs": [],
   "source": [
    "# Notebook Functions\n",
    "\n",
    "def get_df(df_no, df_h2, carriers):\n",
    "    result = pd.DataFrame(index = [\"no H2 network\", \"H2 network\"])\n",
    "\n",
    "    for c in carriers:\n",
    "        result.loc[\"no H2 network\" , c] = df_no[c].values\n",
    "        result.loc[\"H2 network\" , c] = df_h2[c].values\n",
    "    return result"
   ]
  },
  {
   "cell_type": "code",
   "execution_count": null,
   "metadata": {
    "pycharm": {
     "name": "#%%\n"
    }
   },
   "outputs": [],
   "source": [
    "# Regions\n",
    "\n",
    "onshore_regions['coords'] = onshore_regions['geometry'].apply(lambda x: x.representative_point().coords[:])\n",
    "onshore_regions['coords'] = [coords[0] for coords in onshore_regions['coords']]\n",
    "onshore_regions[\"name\"] = onshore_regions.index\n",
    "offshore_regions['coords'] = offshore_regions['geometry'].apply(lambda x: x.representative_point().coords[:])\n",
    "offshore_regions['coords'] = [coords[0] for coords in offshore_regions['coords']]\n",
    "offshore_regions[\"name\"] = offshore_regions.index"
   ]
  },
  {
   "cell_type": "markdown",
   "metadata": {
    "pycharm": {
     "name": "#%% md\n"
    }
   },
   "source": [
    "### General\n",
    "- round trip efficiency of hydrogen and batter storage (grafik mit power point machen) strom -> electrolyse -> storage -> fuel cell -> strom\n"
   ]
  },
  {
   "cell_type": "code",
   "execution_count": null,
   "metadata": {
    "pycharm": {
     "name": "#%%\n"
    }
   },
   "outputs": [],
   "source": [
    "n_no.links[n_no.links.carrier == \"H2 Electrolysis\"].efficiency.unique() # Electrolysis: 68 % efficiency\n",
    "n_no.links[n_no.links.carrier == \"H2 Fuel Cell\"].efficiency.unique() # Fuel Cell: 50 % efficiency\n",
    "n_no.links[n_no.links.carrier == \"battery charger\"].efficiency.unique() # Fuel Cell: 0.979796 efficiency\n",
    "n_no.links[n_no.links.carrier == \"battery discharger\"].efficiency.unique() # Fuel Cell: 0.979796 efficiency\n",
    "\n",
    "# storage losses?"
   ]
  },
  {
   "cell_type": "markdown",
   "metadata": {
    "pycharm": {
     "name": "#%% md\n"
    }
   },
   "source": [
    "![](../../../../Pictures/Screenshots/Screenshot_20230219_110123.png)\n",
    "Colbertado"
   ]
  },
  {
   "cell_type": "markdown",
   "metadata": {
    "pycharm": {
     "name": "#%% md\n"
    }
   },
   "source": [
    "### Capacity"
   ]
  },
  {
   "cell_type": "code",
   "execution_count": null,
   "metadata": {
    "pycharm": {
     "name": "#%%\n"
    }
   },
   "outputs": [],
   "source": [
    "cap_no = pd.DataFrame(index=n_no.buses.location.unique())\n",
    "cap_h2 = pd.DataFrame(index=n_h2.buses.location.unique())\n",
    "\n",
    "for n, df in zip([n_no, n_h2], [cap_no,cap_h2]):\n",
    "\n",
    "    for c in n.generators.carrier.unique():\n",
    "        # capacity in GW\n",
    "        df[c] = capacity(n, c) / 1000\n",
    "\n",
    "    for c in n.links.carrier.unique():\n",
    "        # capacity in GW\n",
    "        df[c] = capacity_links(n, c) / 1000\n",
    "\n",
    "    for c in n.storage_units.carrier.unique():\n",
    "        # capacity in GW\n",
    "        df[c] = capacity_storage_units(n, c) / 1000\n",
    "\n",
    "# condense groups\n",
    "cap_no = get_condense_sum(cap_no, c1_groups, c1_groups_name)\n",
    "cap_h2 = get_condense_sum(cap_h2, c1_groups, c1_groups_name)\n",
    "# rename unhandy column names\n",
    "cap_no.rename(columns=carrier_renaming, inplace=True)\n",
    "cap_h2.rename(columns=carrier_renaming, inplace=True)\n",
    "# take sum\n",
    "cap_no_sum = pd.DataFrame(cap_no.sum().sort_values(ascending=False)).transpose()\n",
    "cap_h2_sum = pd.DataFrame(cap_h2.sum().sort_values(ascending=False)).transpose()"
   ]
  },
  {
   "cell_type": "code",
   "execution_count": null,
   "metadata": {
    "pycharm": {
     "name": "#%%\n"
    }
   },
   "outputs": [],
   "source": [
    "# electrolyzer capcity\n",
    "carriers = [\"H2 Electrolysis\"]\n",
    "get_df(cap_no_sum, cap_h2_sum, carriers)"
   ]
  },
  {
   "cell_type": "code",
   "execution_count": null,
   "metadata": {
    "pycharm": {
     "name": "#%%\n"
    }
   },
   "outputs": [],
   "source": [
    "# H2 storage capcity\n",
    "index_h2stores_no = n_no.stores[n_no.stores.carrier == \"H2\"].index"
   ]
  },
  {
   "cell_type": "code",
   "execution_count": null,
   "metadata": {
    "pycharm": {
     "name": "#%%\n"
    }
   },
   "outputs": [],
   "source": [
    "n_no.stores[n_no.stores.carrier == \"H2\"]"
   ]
  },
  {
   "cell_type": "code",
   "execution_count": null,
   "metadata": {
    "pycharm": {
     "name": "#%%\n"
    }
   },
   "outputs": [],
   "source": [
    "# Optimised nominal energy capacity outputed by OPF.\n",
    "df = n_no.stores.e_nom_opt[index_h2stores_no]\n",
    "df.index = df.index.map(n_no.stores.bus).map(n_no.buses.location)\n",
    "onshore_regions[\"h2_cap_no\"] = df"
   ]
  },
  {
   "cell_type": "code",
   "execution_count": null,
   "metadata": {
    "pycharm": {
     "name": "#%%\n"
    }
   },
   "outputs": [],
   "source": [
    "plt.plot(df)"
   ]
  },
  {
   "cell_type": "code",
   "execution_count": null,
   "metadata": {
    "pycharm": {
     "name": "#%%\n"
    }
   },
   "outputs": [],
   "source": [
    "fig = plt.figure(figsize=(12, 8))\n",
    "crs = ccrs.EqualEarth()\n",
    "\n",
    "ax = plt.axes(projection=ccrs.EqualEarth())\n",
    "ax.add_feature(cartopy.feature.BORDERS, edgecolor='black', linewidth=0.5)\n",
    "ax.coastlines(edgecolor='black', linewidth=0.5)\n",
    "ax.set_facecolor('white')\n",
    "ax.add_feature(cartopy.feature.OCEAN, color='azure')\n",
    "ax.set_title(\"h2_cap\", fontsize=16, **font1)\n",
    "\n",
    "onshore_regions.to_crs(crs.proj4_init).plot(column=\"h2_cap_no\",\n",
    "                     ax=ax,\n",
    "                     cmap=plt.get_cmap(\"magma_r\"),\n",
    "                     linewidth=0.05,\n",
    "                     edgecolor = 'grey',\n",
    "                     legend=True,\n",
    "                     legend_kwds={'label':\"MWh\",\n",
    "                        'orientation': \"vertical\"})\n",
    "\n",
    "plt.show()"
   ]
  },
  {
   "cell_type": "code",
   "execution_count": null,
   "metadata": {
    "pycharm": {
     "name": "#%%\n"
    }
   },
   "outputs": [],
   "source": [
    "# Why are the hydrogen capacities located there?\n",
    "# calc Correlation with wind, solar and other power plant capacity (e.g."
   ]
  },
  {
   "cell_type": "markdown",
   "metadata": {
    "pycharm": {
     "name": "#%% md\n"
    }
   },
   "source": []
  },
  {
   "cell_type": "markdown",
   "source": [
    "### Generation and Consumption"
   ],
   "metadata": {
    "collapsed": false,
    "pycharm": {
     "name": "#%% md\n"
    }
   }
  },
  {
   "cell_type": "code",
   "execution_count": null,
   "outputs": [],
   "source": [
    "fig, axs = plt.subplots(nrows=2, ncols=2, figsize=(15, 11))\n",
    "\n",
    "for n in [n_no, n_h2]:\n",
    "\n",
    "    carrier = [\"H2\"]\n",
    "    nb = nodal_balance(n, carrier=carrier, time=\"2013\", aggregate=['component', 'bus'], energy=True)\n",
    "    # convert from MW to GW\n",
    "    nb = nb.unstack(level=[1]) / 1000\n",
    "\n",
    "    nb_pos = nb.sum()[nb.sum() > 0].sort_values(ascending=False)\n",
    "    # exclude all shares smaller than 1 %\n",
    "    nb_pos = nb_pos[(nb_pos / nb_pos.sum()) > 0.01]\n",
    "\n",
    "    nb_neg = abs(nb.sum()[nb.sum() < 0]).sort_values(ascending=False)\n",
    "    # exclude all shares smaller than 1 %\n",
    "    nb_neg = nb_neg[(nb_neg / nb_neg.sum()) > 0.01]\n",
    "\n",
    "    if n==n_no:\n",
    "        ax_gen=axs[0, 0]\n",
    "        ax_con=axs[0, 1]\n",
    "        title_gen=f\"Generation: {carrier} (no H2 network)\"\n",
    "        title_con=f\"Consumption: {carrier} (no H2 network)\"\n",
    "\n",
    "    elif n==n_h2:\n",
    "        ax_gen=axs[1, 0]\n",
    "        ax_con=axs[1, 1]\n",
    "        title_gen=f\"Generation: {carrier} (with H2 network)\"\n",
    "        title_con=f\"Consumption: {carrier} (with H2 network)\"\n",
    "\n",
    "    # generation\n",
    "    c = [carrier_colors[col] for col in nb_pos.index]\n",
    "    percents = nb_pos.to_numpy() * 100 / nb_pos.to_numpy().sum()\n",
    "    labels = ['%s (%1.1f %%)' % (l, s) for l, s in zip(nb_pos.index, percents)]\n",
    "\n",
    "    patches, texts = ax_gen.pie(nb_pos, colors=c, startangle=0, labels=labels)\n",
    "    ax_gen.axis('equal')\n",
    "    ax_gen.set_title(title_gen, pad=20, fontweight=\"bold\")\n",
    "\n",
    "    # consumption\n",
    "    c = [carrier_colors[col] for col in nb_neg.index]\n",
    "    percents = nb_neg.to_numpy() * 100 / nb_neg.to_numpy().sum()\n",
    "    labels = ['%s (%1.1f %%)' % (l, s) for l, s in zip(nb_neg.index, percents)]\n",
    "\n",
    "    patches, texts = ax_con.pie(nb_neg, colors=c, startangle=0, labels=labels)\n",
    "    ax_con.axis('equal')\n",
    "\n",
    "    ax_con.set_title(title_con, pad=20, fontweight=\"bold\")\n",
    "\n",
    "fig.tight_layout(pad=2)\n",
    "plt.show()\n",
    "\n",
    "# fig.savefig(f\"{PLOT_DIR}01_general/5.1_hydrogen_overview/gen_con_h2.png\")"
   ],
   "metadata": {
    "collapsed": false,
    "pycharm": {
     "name": "#%%\n"
    }
   }
  },
  {
   "cell_type": "markdown",
   "metadata": {
    "pycharm": {
     "name": "#%% md\n"
    }
   },
   "source": [
    "### Generation"
   ]
  },
  {
   "cell_type": "code",
   "execution_count": null,
   "metadata": {
    "pycharm": {
     "name": "#%%\n"
    }
   },
   "outputs": [],
   "source": [
    "# how long are the electrolyzers running\n",
    "# load duration curve\n",
    "# capacity factors\n",
    "# pie chart of which electricity (from which source?) is used for electrolysers (is that possible)"
   ]
  },
  {
   "cell_type": "markdown",
   "metadata": {
    "pycharm": {
     "name": "#%% md\n"
    }
   },
   "source": [
    "![](../../../../Pictures/Screenshots/Screenshot_20230215_163455.png)"
   ]
  },
  {
   "cell_type": "code",
   "execution_count": null,
   "metadata": {
    "pycharm": {
     "name": "#%%\n"
    }
   },
   "outputs": [],
   "source": [
    "# get generation of all carriers\n",
    "gen_no = pd.DataFrame(index=n_no.generators_t.p.index)\n",
    "gen_h2 = pd.DataFrame(index=n_h2.generators_t.p.index)\n",
    "\n",
    "for n, gen in zip([n_no, n_h2], [gen_no, gen_h2]):\n",
    "\n",
    "    for carrier in n.generators.carrier.unique():\n",
    "        gen[carrier]= n.generators_t.p.loc[:, n.generators.carrier == carrier].mean(axis=1)\n",
    "\n",
    "    for carrier in n.links.carrier.unique():\n",
    "        gen[carrier]= abs(n.links_t.p1.loc[:, n.links.carrier == carrier]).mean(axis=1)\n",
    "\n",
    "    for carrier in n.storage_units.carrier.unique():\n",
    "        gen[carrier]= n.storage_units_t.p.loc[:, n.storage_units.carrier == carrier].mean(axis=1)\n",
    "\n",
    "gen_no.head()\n",
    "gen_h2.head()"
   ]
  },
  {
   "cell_type": "code",
   "execution_count": null,
   "metadata": {
    "pycharm": {
     "name": "#%%\n"
    }
   },
   "outputs": [],
   "source": [
    "# why is this in a whole other magnitude than capacity?\n",
    "# does sorting the whole df make sense? shouldtn the be sorted seperately?\n",
    "\n",
    "df = pd.DataFrame(gen_no[\"H2 Electrolysis\"].sort_values(ascending=False)).set_index(pd.Index(np.linspace(0, 1, num=2920)))\n",
    "df[\"H2 Electrolysis no h2\"] = pd.DataFrame(gen_h2[\"H2 Electrolysis\"].sort_values(ascending=False)).set_index(pd.Index(np.linspace(0, 1, num=2920)))\n",
    "df.columns = [\"no h2 network\",\"with h2 network\" ]\n",
    "\n",
    "plt.figure(figsize=(10, 6))\n",
    "df.plot()\n",
    "plt.title(\"Electrolyzer system load duration curve\")\n",
    "plt.ylabel(\"Electrolyzer load [MWh]\")\n",
    "plt.xlabel(\"Fraction of total time\")\n",
    "plt.legend()\n",
    "plt.show()"
   ]
  },
  {
   "cell_type": "markdown",
   "metadata": {
    "pycharm": {
     "name": "#%% md\n"
    }
   },
   "source": [
    "### Storage Behavior"
   ]
  },
  {
   "cell_type": "markdown",
   "metadata": {
    "pycharm": {
     "name": "#%% md\n"
    }
   },
   "source": [
    "#### Feed-in and feed-out pattern"
   ]
  },
  {
   "cell_type": "code",
   "execution_count": null,
   "metadata": {
    "pycharm": {
     "name": "#%%\n"
    }
   },
   "outputs": [],
   "source": [
    "# Energy as calculated by the OPF.\n",
    "n.stores_t.p[index_h2stores].sum(axis=1).plot()\n",
    "plt.show()"
   ]
  },
  {
   "cell_type": "markdown",
   "metadata": {
    "pycharm": {
     "name": "#%% md\n"
    }
   },
   "source": [
    "#### Storage level over time"
   ]
  },
  {
   "cell_type": "code",
   "execution_count": null,
   "metadata": {
    "pycharm": {
     "name": "#%%\n"
    }
   },
   "outputs": [],
   "source": [
    "# Energy as calculated by the OPF.\n",
    "n.stores_t.e[index_h2stores].sum(axis=1).plot()\n",
    "plt.show()"
   ]
  },
  {
   "cell_type": "code",
   "execution_count": null,
   "metadata": {
    "pycharm": {
     "name": "#%%\n"
    }
   },
   "outputs": [],
   "source": [
    "# storage level of 10 largest stores\n",
    "index = n.stores.e_nom_opt[index_h2stores].sort_values(ascending=False).head(10).index\n",
    "\n",
    "# yearly plot\n",
    "for store in index:\n",
    "    fig, ax = plt.subplots()\n",
    "    n.stores_t.e[store].plot(ax=ax, ylabel=store)"
   ]
  },
  {
   "cell_type": "markdown",
   "metadata": {
    "pycharm": {
     "name": "#%% md\n"
    }
   },
   "source": []
  },
  {
   "cell_type": "markdown",
   "metadata": {
    "pycharm": {
     "name": "#%% md\n"
    }
   },
   "source": [
    "## Ideas:\n",
    "- Calc capacity factors / system load duration curves for electrolysis in different regions and try to investigate in differences (amount of wind generation, solar) Is only excess electrolysis consumed by electrolysis?\n",
    "- Try to determine connection between electrolysis and excess solar / wind production\n",
    "- Try to determine percent / amount of excess electricity that is used to produce hydrogen. (Basically all energy from renewables that went into electrolysis?)\n",
    "- pie chart of percentage of electricity that is used directly, used for Electrolysis, battery, ... (startup script)\n",
    "- Reproduce graph from Victoria, Zhu et al. 2019 – The role of storage technologies (in hydrogen word document); try to find patterns within the charging of battery and the charging with hydrogen (electrolysis -> fuel cell)\n",
    "-"
   ]
  },
  {
   "cell_type": "markdown",
   "metadata": {
    "pycharm": {
     "name": "#%% md\n"
    }
   },
   "source": []
  },
  {
   "cell_type": "markdown",
   "metadata": {
    "pycharm": {
     "name": "#%% md\n"
    }
   },
   "source": []
  }
 ],
 "metadata": {
  "kernelspec": {
   "display_name": "Python 3 (ipykernel)",
   "language": "python",
   "name": "python3"
  },
  "language_info": {
   "codemirror_mode": {
    "name": "ipython",
    "version": 3
   },
   "file_extension": ".py",
   "mimetype": "text/x-python",
   "name": "python",
   "nbconvert_exporter": "python",
   "pygments_lexer": "ipython3",
   "version": "3.10.6"
  }
 },
 "nbformat": 4,
 "nbformat_minor": 1
}