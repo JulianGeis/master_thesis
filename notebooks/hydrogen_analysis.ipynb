{
 "cells": [
  {
   "cell_type": "markdown",
   "metadata": {
    "pycharm": {
     "name": "#%% md\n"
    }
   },
   "source": [
    "# Plots for section 5"
   ]
  },
  {
   "cell_type": "code",
   "execution_count": null,
   "metadata": {
    "pycharm": {
     "name": "#%%\n"
    }
   },
   "outputs": [],
   "source": [
    "#TODO: Try to replicate some plots from Ruhnau Paper (have another look at it)"
   ]
  },
  {
   "cell_type": "markdown",
   "metadata": {
    "pycharm": {
     "name": "#%% md\n"
    }
   },
   "source": [
    "### Imports"
   ]
  },
  {
   "cell_type": "code",
   "execution_count": null,
   "metadata": {
    "pycharm": {
     "name": "#%%\n"
    }
   },
   "outputs": [],
   "source": [
    "import pandas as pd\n",
    "import matplotlib\n",
    "import numpy as np\n",
    "import pypsa\n",
    "import matplotlib.pyplot as plt\n",
    "import cartopy\n",
    "import cartopy.crs as ccrs\n",
    "import geopandas as gpd\n",
    "import warnings\n",
    "warnings.filterwarnings(\"ignore\")\n",
    "from shapely.geometry import Point, LineString\n",
    "from datetime import datetime\n",
    "import matplotlib.patheffects as pe\n",
    "import matplotlib.colors as mcolors\n",
    "\n",
    "from utils import market_values, market_values_links, market_values_by_time_index, market_values_links_con, congestion_rent_link, convert_ISO_3166_2_to_1, generation, generation_links, market_values_storage_units, generation_storage_units\n",
    "\n",
    "# imported own functions\n",
    "from utils import market_values, market_values_by_time_index, nodal_balance, capacity, capacity_links, capacity_storage_units, get_condense_sum\n",
    "\n",
    "# imported own definitions\n",
    "from utils import carrier_colors, carrier_renaming, resistive_heater, gas_boiler, heat_pump, water_tanks_charger, water_tanks_discharger, solar_thermal\n",
    "\n",
    "# general variables\n",
    "font1 = {'fontname':'Calibri'}\n",
    "PLOT_DIR = 'C:/Users/Julian/Studies/Master/01 TU Berlin/3. Semester - Masterarbeit/MA Marktwerte FEE/data/plots/'\n",
    "onshore_regions = gpd.read_file(\"../data/external/regions_onshore_elec_s_181.geojson\")\n",
    "offshore_regions = gpd.read_file(\"../data/external/regions_offshore_elec_s_181.geojson\")\n",
    "onshore_regions = onshore_regions.set_index('name')\n",
    "offshore_regions = offshore_regions.set_index('name')"
   ]
  },
  {
   "cell_type": "code",
   "execution_count": null,
   "metadata": {
    "pycharm": {
     "name": "#%%\n"
    }
   },
   "outputs": [],
   "source": [
    "# Network imports\n",
    "stst =pypsa.Network(\"../data/raw/elec_s_181_lv1.0__Co2L0-3H-T-H-B-I-A-solar+p3-linemaxext10-noH2network_2030.nc\")\n",
    "exp =pypsa.Network(\"../data/raw/elec_s_181_lvopt__Co2L0-3H-T-H-B-I-A-solar+p3-linemaxext10_2030.nc\")"
   ]
  },
  {
   "cell_type": "code",
   "execution_count": null,
   "metadata": {
    "pycharm": {
     "name": "#%%\n"
    }
   },
   "outputs": [],
   "source": [
    "# Notebook Definitions\n",
    "\n",
    "c1_groups = [resistive_heater, gas_boiler, heat_pump, water_tanks_charger, water_tanks_discharger, solar_thermal]\n",
    "c1_groups_name = [\"resistive heater\", \"gas boiler\", \"heat pump\", \"water tanks charger\", \"water tanks discharger\", \"solar thermal\"]"
   ]
  },
  {
   "cell_type": "code",
   "execution_count": null,
   "metadata": {
    "pycharm": {
     "name": "#%%\n"
    }
   },
   "outputs": [],
   "source": [
    "# Notebook Functions\n",
    "\n",
    "def get_df(df_no, df_h2, carriers):\n",
    "    result = pd.DataFrame(index = [\"no H2 network\", \"H2 network\"])\n",
    "\n",
    "    for c in carriers:\n",
    "        result.loc[\"no H2 network\" , c] = df_no[c].values\n",
    "        result.loc[\"H2 network\" , c] = df_h2[c].values\n",
    "    return result"
   ]
  },
  {
   "cell_type": "code",
   "execution_count": null,
   "metadata": {
    "pycharm": {
     "name": "#%%\n"
    }
   },
   "outputs": [],
   "source": [
    "# Regions\n",
    "\n",
    "onshore_regions['coords'] = onshore_regions['geometry'].apply(lambda x: x.representative_point().coords[:])\n",
    "onshore_regions['coords'] = [coords[0] for coords in onshore_regions['coords']]\n",
    "onshore_regions[\"name\"] = onshore_regions.index\n",
    "offshore_regions['coords'] = offshore_regions['geometry'].apply(lambda x: x.representative_point().coords[:])\n",
    "offshore_regions['coords'] = [coords[0] for coords in offshore_regions['coords']]\n",
    "offshore_regions[\"name\"] = offshore_regions.index"
   ]
  },
  {
   "cell_type": "code",
   "execution_count": null,
   "outputs": [],
   "source": [],
   "metadata": {
    "collapsed": false,
    "pycharm": {
     "name": "#%%\n"
    }
   }
  },
  {
   "cell_type": "markdown",
   "metadata": {
    "pycharm": {
     "name": "#%% md\n"
    }
   },
   "source": [
    "### General\n",
    "- round trip efficiency of hydrogen and batter storage (grafik mit power point machen) strom -> electrolyse -> storage -> fuel cell -> strom\n"
   ]
  },
  {
   "cell_type": "markdown",
   "source": [
    "### Network"
   ],
   "metadata": {
    "collapsed": false,
    "pycharm": {
     "name": "#%% md\n"
    }
   }
  },
  {
   "cell_type": "code",
   "execution_count": null,
   "outputs": [],
   "source": [
    "l_h2 = exp.copy()\n",
    "\n",
    "locs = l_h2.buses[l_h2.buses.carrier == \"AC\"][[\"x\",\"y\"]]\n",
    "mapping = pd.DataFrame(l_h2.buses[l_h2.buses.carrier == \"H2\"].location)\n",
    "mapping[\"bus\"] = mapping.index\n",
    "mapping.set_index(\"location\", inplace =True)\n",
    "locs.index = locs.index.map(mapping.to_dict()['bus'])\n",
    "l_h2.buses.x[l_h2.buses.carrier == \"H2\"] = locs.x\n",
    "l_h2.buses.y[l_h2.buses.carrier == \"H2\"] = locs.y\n",
    "\n",
    "l_h2.mremove(\"Bus\",l_h2.buses[l_h2.buses.carrier != \"H2\"].index)\n",
    "\n",
    "# write LineStrign into pipes (links)\n",
    "h2_pipes = l_h2.links[l_h2.links.carrier.isin([\"H2 pipeline retrofitted\" , \"H2 pipeline\"])].index\n",
    "other_links = l_h2.links[-l_h2.links.carrier.isin([\"H2 pipeline retrofitted\" , \"H2 pipeline\"])].index\n",
    "\n",
    "for pipe in h2_pipes:\n",
    "    loc1 = l_h2.buses.loc[l_h2.links.loc[pipe].bus0][[\"x\", \"y\"]]\n",
    "    loc2 = l_h2.buses.loc[l_h2.links.loc[pipe].bus1][[\"x\", \"y\"]]\n",
    "    l_h2.links.geometry.loc[pipe] = LineString([Point(loc1), Point(loc2)]).wkt\n",
    "\n",
    "l_h2.mremove(\"Link\", other_links)\n",
    "l_h2.mremove(\"Line\", l_h2.lines.index)"
   ],
   "metadata": {
    "collapsed": false,
    "pycharm": {
     "name": "#%%\n"
    }
   }
  },
  {
   "cell_type": "code",
   "execution_count": null,
   "outputs": [],
   "source": [
    "fig, ax = plt.subplots(1, 1, subplot_kw={\"projection\": ccrs.EqualEarth()}, figsize=(8, 6))\n",
    "\n",
    "l_h2.plot(ax=ax, link_colors=\"pink\", link_widths=0.8,  projection=ccrs.EqualEarth())\n",
    "pypsa.plot.add_legend_patches(ax=ax, labels=[\"hydrogen pipes\"], colors=[\"pink\"], legend_kw={'loc': 'upper left'})\n",
    "ax.set_title(\"H2 network\", pad=20)\n",
    "plt.show()"
   ],
   "metadata": {
    "collapsed": false,
    "pycharm": {
     "name": "#%%\n"
    }
   }
  },
  {
   "cell_type": "code",
   "execution_count": null,
   "outputs": [],
   "source": [
    "# adding colorbar to this\n",
    "\n",
    "fig, ax = plt.subplots(1, 1, subplot_kw={\"projection\": ccrs.EqualEarth()}, figsize=(8, 6))\n",
    "\n",
    "l_h2.links.p_max_pu\n",
    "l_h2.plot(ax=ax, link_colors=l_h2.links.p_nom_opt, link_cmap=plt.get_cmap(\"magma_r\"), link_widths=np.log10(l_h2.links.p_nom_opt)/2,  projection=ccrs.EqualEarth())\n",
    "ax.set_title(\"H2 network\", pad=10)\n",
    "plt.show()"
   ],
   "metadata": {
    "collapsed": false,
    "pycharm": {
     "name": "#%%\n"
    }
   }
  },
  {
   "cell_type": "code",
   "execution_count": null,
   "outputs": [],
   "source": [
    "# with colorbar\n",
    "\n",
    "fig, ax = plt.subplots(1, 1, subplot_kw={\"projection\": ccrs.EqualEarth()}, figsize=(8, 6))\n",
    "\n",
    "# GW\n",
    "link_loading = l_h2.links.p_nom_opt / 1000\n",
    "\n",
    "cmap= plt.cm.magma_r\n",
    "norm = mcolors.Normalize(vmin=link_loading.min(), vmax=link_loading.max())\n",
    "sm = plt.cm.ScalarMappable(cmap=cmap, norm=norm)\n",
    "sm.set_array([])\n",
    "colors = list(map(mcolors.to_hex, cmap(norm(link_loading))))\n",
    "\n",
    "l_h2.plot(ax=ax, link_colors=colors, link_widths=2,  projection=ccrs.EqualEarth())\n",
    "plt.colorbar(sm, orientation='vertical', shrink=0.9, ax=ax, label=\"Capacity in GW\")\n",
    "plt.title(\"Hydrogen network (EXP)\", pad=10)\n",
    "\n",
    "plt.show()"
   ],
   "metadata": {
    "collapsed": false,
    "pycharm": {
     "name": "#%%\n"
    }
   }
  },
  {
   "cell_type": "code",
   "execution_count": null,
   "outputs": [],
   "source": [
    "# hydrogen pipeline network in km\n",
    "exp.links[exp.links.carrier.isin([\"H2 pipeline retrofitted\" , \"H2 pipeline\"])].length.sum()"
   ],
   "metadata": {
    "collapsed": false,
    "pycharm": {
     "name": "#%%\n"
    }
   }
  },
  {
   "cell_type": "code",
   "execution_count": null,
   "outputs": [],
   "source": [
    "exp.links[exp.links.carrier.isin([\"H2 pipeline retrofitted\" , \"H2 pipeline\"])]"
   ],
   "metadata": {
    "collapsed": false,
    "pycharm": {
     "name": "#%%\n"
    }
   }
  },
  {
   "cell_type": "code",
   "execution_count": null,
   "outputs": [],
   "source": [],
   "metadata": {
    "collapsed": false,
    "pycharm": {
     "name": "#%%\n"
    }
   }
  },
  {
   "cell_type": "code",
   "execution_count": null,
   "metadata": {
    "pycharm": {
     "name": "#%%\n"
    }
   },
   "outputs": [],
   "source": [
    "stst.links[stst.links.carrier == \"H2 Electrolysis\"].efficiency.unique() # Electrolysis: 68 % efficiency\n",
    "stst.links[stst.links.carrier == \"H2 Fuel Cell\"].efficiency.unique() # Fuel Cell: 50 % efficiency\n",
    "stst.links[stst.links.carrier == \"battery charger\"].efficiency.unique() # Fuel Cell: 0.979796 efficiency\n",
    "stst.links[stst.links.carrier == \"battery discharger\"].efficiency.unique() # Fuel Cell: 0.979796 efficiency\n",
    "\n",
    "# storage losses?"
   ]
  },
  {
   "cell_type": "markdown",
   "metadata": {
    "pycharm": {
     "name": "#%% md\n"
    }
   },
   "source": [
    "![](../../../../Pictures/Screenshots/Screenshot_20230219_110123.png)\n",
    "Colbertado"
   ]
  },
  {
   "cell_type": "markdown",
   "metadata": {
    "pycharm": {
     "name": "#%% md\n"
    }
   },
   "source": [
    "### Capacity"
   ]
  },
  {
   "cell_type": "code",
   "execution_count": null,
   "metadata": {
    "pycharm": {
     "name": "#%%\n"
    }
   },
   "outputs": [],
   "source": [
    "cap_no = pd.DataFrame(index=stst.buses.location.unique())\n",
    "cap_h2 = pd.DataFrame(index=exp.buses.location.unique())\n",
    "\n",
    "for n, df in zip([stst, exp], [cap_no,cap_h2]):\n",
    "\n",
    "    for c in n.generators.carrier.unique():\n",
    "        # capacity in GW\n",
    "        df[c] = capacity(n, c) / 1000\n",
    "\n",
    "    for c in n.links.carrier.unique():\n",
    "        # capacity in GW\n",
    "        df[c] = capacity_links(n, c) / 1000\n",
    "\n",
    "    for c in n.storage_units.carrier.unique():\n",
    "        # capacity in GW\n",
    "        df[c] = capacity_storage_units(n, c) / 1000\n",
    "\n",
    "# condense groups\n",
    "cap_no = get_condense_sum(cap_no, c1_groups, c1_groups_name)\n",
    "cap_h2 = get_condense_sum(cap_h2, c1_groups, c1_groups_name)\n",
    "# rename unhandy column names\n",
    "cap_no.rename(columns=carrier_renaming, inplace=True)\n",
    "cap_h2.rename(columns=carrier_renaming, inplace=True)\n",
    "# take sum\n",
    "cap_no_sum = pd.DataFrame(cap_no.sum().sort_values(ascending=False)).transpose()\n",
    "cap_h2_sum = pd.DataFrame(cap_h2.sum().sort_values(ascending=False)).transpose()"
   ]
  },
  {
   "cell_type": "code",
   "execution_count": null,
   "metadata": {
    "pycharm": {
     "name": "#%%\n"
    }
   },
   "outputs": [],
   "source": [
    "# electrolyzer capcity\n",
    "carriers = [\"H2 Electrolysis\"]\n",
    "get_df(cap_no_sum, cap_h2_sum, carriers)"
   ]
  },
  {
   "cell_type": "code",
   "execution_count": null,
   "metadata": {
    "pycharm": {
     "name": "#%%\n"
    }
   },
   "outputs": [],
   "source": [
    "# H2 storage capcity\n",
    "index_h2stores_no = stst.stores[stst.stores.carrier == \"H2\"].index"
   ]
  },
  {
   "cell_type": "code",
   "execution_count": null,
   "metadata": {
    "pycharm": {
     "name": "#%%\n"
    }
   },
   "outputs": [],
   "source": [
    "stst.stores[stst.stores.carrier == \"H2\"]"
   ]
  },
  {
   "cell_type": "code",
   "execution_count": null,
   "metadata": {
    "pycharm": {
     "name": "#%%\n"
    }
   },
   "outputs": [],
   "source": [
    "# Optimised nominal energy capacity outputed by OPF.\n",
    "df = stst.stores.e_nom_opt[index_h2stores_no]\n",
    "df.index = df.index.map(stst.stores.bus).map(stst.buses.location)\n",
    "onshore_regions[\"h2_cap_no\"] = df"
   ]
  },
  {
   "cell_type": "code",
   "execution_count": null,
   "metadata": {
    "pycharm": {
     "name": "#%%\n"
    }
   },
   "outputs": [],
   "source": [
    "plt.plot(df)"
   ]
  },
  {
   "cell_type": "code",
   "execution_count": null,
   "metadata": {
    "pycharm": {
     "name": "#%%\n"
    }
   },
   "outputs": [],
   "source": [
    "fig = plt.figure(figsize=(12, 8))\n",
    "crs = ccrs.EqualEarth()\n",
    "\n",
    "ax = plt.axes(projection=ccrs.EqualEarth())\n",
    "ax.add_feature(cartopy.feature.BORDERS, edgecolor='black', linewidth=0.5)\n",
    "ax.coastlines(edgecolor='black', linewidth=0.5)\n",
    "ax.set_facecolor('white')\n",
    "ax.add_feature(cartopy.feature.OCEAN, color='azure')\n",
    "ax.set_title(\"h2_cap\", fontsize=16, **font1)\n",
    "\n",
    "onshore_regions.to_crs(crs.proj4_init).plot(column=\"h2_cap_no\",\n",
    "                     ax=ax,\n",
    "                     cmap=plt.get_cmap(\"magma_r\"),\n",
    "                     linewidth=0.05,\n",
    "                     edgecolor = 'grey',\n",
    "                     legend=True,\n",
    "                     legend_kwds={'label':\"MWh\",\n",
    "                        'orientation': \"vertical\"})\n",
    "\n",
    "plt.show()"
   ]
  },
  {
   "cell_type": "code",
   "execution_count": null,
   "metadata": {
    "pycharm": {
     "name": "#%%\n"
    }
   },
   "outputs": [],
   "source": [
    "# Why are the hydrogen capacities located there?\n",
    "# calc Correlation with wind, solar and other power plant capacity (e.g."
   ]
  },
  {
   "cell_type": "markdown",
   "metadata": {
    "pycharm": {
     "name": "#%% md\n"
    }
   },
   "source": []
  },
  {
   "cell_type": "markdown",
   "source": [
    "### Generation and Consumption"
   ],
   "metadata": {
    "collapsed": false,
    "pycharm": {
     "name": "#%% md\n"
    }
   }
  },
  {
   "cell_type": "code",
   "execution_count": null,
   "outputs": [],
   "source": [
    "fig, axs = plt.subplots(nrows=2, ncols=2, figsize=(15, 11))\n",
    "\n",
    "for n in [stst, exp]:\n",
    "\n",
    "    carrier = [\"H2\"]\n",
    "    nb = nodal_balance(n, carrier=carrier, time=\"2013\", aggregate=['component', 'bus'], energy=True)\n",
    "    # convert from MW to GW\n",
    "    nb = nb.unstack(level=[1]) / 1000\n",
    "\n",
    "    nb_pos = nb.sum()[nb.sum() > 0].sort_values(ascending=False)\n",
    "    # exclude all shares smaller than 1 %\n",
    "    nb_pos = nb_pos[(nb_pos / nb_pos.sum()) > 0.01]\n",
    "\n",
    "    nb_neg = abs(nb.sum()[nb.sum() < 0]).sort_values(ascending=False)\n",
    "    # exclude all shares smaller than 1 %\n",
    "    nb_neg = nb_neg[(nb_neg / nb_neg.sum()) > 0.01]\n",
    "\n",
    "    if n==stst:\n",
    "        ax_gen=axs[0, 0]\n",
    "        ax_con=axs[0, 1]\n",
    "        title_gen=f\"Generation: {carrier} (no H2 network)\"\n",
    "        title_con=f\"Consumption: {carrier} (no H2 network)\"\n",
    "\n",
    "    elif n==exp:\n",
    "        ax_gen=axs[1, 0]\n",
    "        ax_con=axs[1, 1]\n",
    "        title_gen=f\"Generation: {carrier} (with H2 network)\"\n",
    "        title_con=f\"Consumption: {carrier} (with H2 network)\"\n",
    "\n",
    "    # generation\n",
    "    c = [carrier_colors[col] for col in nb_pos.index]\n",
    "    percents = nb_pos.to_numpy() * 100 / nb_pos.to_numpy().sum()\n",
    "    labels = ['%s (%1.1f %%)' % (l, s) for l, s in zip(nb_pos.index, percents)]\n",
    "\n",
    "    patches, texts = ax_gen.pie(nb_pos, colors=c, startangle=0, labels=labels)\n",
    "    ax_gen.axis('equal')\n",
    "    ax_gen.set_title(title_gen, pad=20, fontweight=\"bold\")\n",
    "\n",
    "    # consumption\n",
    "    c = [carrier_colors[col] for col in nb_neg.index]\n",
    "    percents = nb_neg.to_numpy() * 100 / nb_neg.to_numpy().sum()\n",
    "    labels = ['%s (%1.1f %%)' % (l, s) for l, s in zip(nb_neg.index, percents)]\n",
    "\n",
    "    patches, texts = ax_con.pie(nb_neg, colors=c, startangle=0, labels=labels)\n",
    "    ax_con.axis('equal')\n",
    "\n",
    "    ax_con.set_title(title_con, pad=20, fontweight=\"bold\")\n",
    "\n",
    "fig.tight_layout(pad=2)\n",
    "plt.show()\n",
    "\n",
    "# fig.savefig(f\"{PLOT_DIR}01_general/5.1_hydrogen_overview/gen_con_hydrogen.png\")"
   ],
   "metadata": {
    "collapsed": false,
    "pycharm": {
     "name": "#%%\n"
    }
   }
  },
  {
   "cell_type": "markdown",
   "metadata": {
    "pycharm": {
     "name": "#%% md\n"
    }
   },
   "source": [
    "### Generation"
   ]
  },
  {
   "cell_type": "code",
   "execution_count": null,
   "metadata": {
    "pycharm": {
     "name": "#%%\n"
    }
   },
   "outputs": [],
   "source": [
    "# how long are the electrolyzers running\n",
    "# load duration curve\n",
    "# capacity factors\n",
    "# pie chart of which electricity (from which source?) is used for electrolysers (is that possible)"
   ]
  },
  {
   "cell_type": "markdown",
   "metadata": {
    "pycharm": {
     "name": "#%% md\n"
    }
   },
   "source": [
    "![](../../../../Pictures/Screenshots/Screenshot_20230215_163455.png)"
   ]
  },
  {
   "cell_type": "code",
   "execution_count": null,
   "metadata": {
    "pycharm": {
     "name": "#%%\n"
    }
   },
   "outputs": [],
   "source": [
    "# get generation of all carriers\n",
    "gen_stst = pd.DataFrame(index=stst.generators_t.p.index)\n",
    "gen_exp = pd.DataFrame(index=exp.generators_t.p.index)\n",
    "\n",
    "for n, gen in zip([stst, exp], [gen_stst, gen_exp]):\n",
    "\n",
    "    for carrier in n.generators.carrier.unique():\n",
    "        gen[carrier]= n.generators_t.p.loc[:, n.generators.carrier == carrier].mean(axis=1)\n",
    "\n",
    "    for carrier in n.links.carrier.unique():\n",
    "        gen[carrier]= abs(n.links_t.p1.loc[:, n.links.carrier == carrier]).mean(axis=1)\n",
    "\n",
    "    for carrier in n.storage_units.carrier.unique():\n",
    "        gen[carrier]= n.storage_units_t.p.loc[:, n.storage_units.carrier == carrier].mean(axis=1)\n",
    "\n",
    "gen_stst.head()\n",
    "gen_exp.head()"
   ]
  },
  {
   "cell_type": "code",
   "execution_count": null,
   "metadata": {
    "pycharm": {
     "name": "#%%\n"
    }
   },
   "outputs": [],
   "source": [
    "# why is this in a whole other magnitude than capacity?\n",
    "# does sorting the whole df make sense? shouldtn the be sorted seperately?\n",
    "\n",
    "df = pd.DataFrame(gen_stst[\"H2 Electrolysis\"].sort_values(ascending=False)).set_index(pd.Index(np.linspace(0, 1, num=2920)))\n",
    "df[\"H2 Electrolysis no h2\"] = pd.DataFrame(gen_exp[\"H2 Electrolysis\"].sort_values(ascending=False)).set_index(pd.Index(np.linspace(0, 1, num=2920)))\n",
    "df.columns = [\"no h2 network\",\"with h2 network\" ]\n",
    "\n",
    "plt.figure(figsize=(10, 6))\n",
    "df.plot()\n",
    "plt.title(\"Electrolyzer system load duration curve\")\n",
    "plt.ylabel(\"Electrolyzer load [MWh]\")\n",
    "plt.xlabel(\"Fraction of total time\")\n",
    "plt.legend()\n",
    "plt.show()"
   ]
  },
  {
   "cell_type": "markdown",
   "source": [
    "## Balance Flow"
   ],
   "metadata": {
    "collapsed": false,
    "pycharm": {
     "name": "#%% md\n"
    }
   }
  },
  {
   "cell_type": "code",
   "execution_count": null,
   "outputs": [],
   "source": [],
   "metadata": {
    "collapsed": false,
    "pycharm": {
     "name": "#%%\n"
    }
   }
  },
  {
   "cell_type": "code",
   "execution_count": null,
   "outputs": [],
   "source": [
    "l_h2 = exp.copy()\n",
    "\n",
    "locs = l_h2.buses[l_h2.buses.carrier == \"AC\"][[\"x\",\"y\"]]\n",
    "mapping = pd.DataFrame(l_h2.buses[l_h2.buses.carrier == \"H2\"].location)\n",
    "mapping[\"bus\"] = mapping.index\n",
    "mapping.set_index(\"location\", inplace =True)\n",
    "locs.index = locs.index.map(mapping.to_dict()['bus'])\n",
    "l_h2.buses.x[l_h2.buses.carrier == \"H2\"] = locs.x\n",
    "l_h2.buses.y[l_h2.buses.carrier == \"H2\"] = locs.y\n",
    "\n",
    "l_h2.mremove(\"Bus\",l_h2.buses[l_h2.buses.carrier != \"H2\"].index)\n",
    "\n",
    "# write LineStrign into pipes (links)\n",
    "h2_pipes = l_h2.links[l_h2.links.carrier.isin([\"H2 pipeline retrofitted\" , \"H2 pipeline\"])].index\n",
    "other_links = l_h2.links[-l_h2.links.carrier.isin([\"H2 pipeline retrofitted\" , \"H2 pipeline\"])].index\n",
    "\n",
    "for pipe in h2_pipes:\n",
    "    loc1 = l_h2.buses.loc[l_h2.links.loc[pipe].bus0][[\"x\", \"y\"]]\n",
    "    loc2 = l_h2.buses.loc[l_h2.links.loc[pipe].bus1][[\"x\", \"y\"]]\n",
    "    l_h2.links.geometry.loc[pipe] = LineString([Point(loc1), Point(loc2)]).wkt\n",
    "\n",
    "l_h2.mremove(\"Link\", other_links)\n",
    "l_h2.mremove(\"Line\", l_h2.lines.index)"
   ],
   "metadata": {
    "collapsed": false,
    "pycharm": {
     "name": "#%%\n"
    }
   }
  },
  {
   "cell_type": "code",
   "execution_count": null,
   "outputs": [],
   "source": [
    "# Hydrogen network\n",
    "# link_cmap=plt.get_cmap(\"magma_r\")\n",
    "\n",
    "fig, ax = plt.subplots(1, 1, subplot_kw={\"projection\": ccrs.EqualEarth()}, figsize=(8, 8))\n",
    "\n",
    "l_h2.plot(ax=ax, link_colors=\"pink\", link_widths=2e-5,  flow=\"sum\", projection=ccrs.EqualEarth())\n",
    "pypsa.plot.add_legend_patches(ax=ax, labels=[\"hydrogen pipes\"], colors=[\"pink\"], legend_kw={'loc': 'upper left'})\n",
    "ax.set_title(\"H2 network\", pad=20)\n",
    "plt.show()"
   ],
   "metadata": {
    "collapsed": false,
    "pycharm": {
     "name": "#%%\n"
    }
   }
  },
  {
   "cell_type": "markdown",
   "metadata": {
    "pycharm": {
     "name": "#%% md\n"
    }
   },
   "source": [
    "### Storage Behavior"
   ]
  },
  {
   "cell_type": "markdown",
   "metadata": {
    "pycharm": {
     "name": "#%% md\n"
    }
   },
   "source": [
    "#### Feed-in and feed-out pattern"
   ]
  },
  {
   "cell_type": "code",
   "execution_count": null,
   "metadata": {
    "pycharm": {
     "name": "#%%\n"
    }
   },
   "outputs": [],
   "source": [
    "# Energy as calculated by the OPF.\n",
    "index_h2stores = stst.stores[stst.stores.carrier == \"H2\"].index\n",
    "\n",
    "n.stores_t.p[index_h2stores].sum(axis=1).plot()\n",
    "plt.show()"
   ]
  },
  {
   "cell_type": "markdown",
   "metadata": {
    "pycharm": {
     "name": "#%% md\n"
    }
   },
   "source": [
    "#### Storage level over time"
   ]
  },
  {
   "cell_type": "code",
   "execution_count": null,
   "metadata": {
    "pycharm": {
     "name": "#%%\n"
    }
   },
   "outputs": [],
   "source": [
    "# Energy as calculated by the OPF.\n",
    "n.stores_t.e[index_h2stores].sum(axis=1).plot()\n",
    "plt.show()"
   ]
  },
  {
   "cell_type": "code",
   "execution_count": null,
   "metadata": {
    "pycharm": {
     "name": "#%%\n"
    }
   },
   "outputs": [],
   "source": [
    "# storage level of 10 largest stores\n",
    "index = n.stores.e_nom_opt[index_h2stores].sort_values(ascending=False).head(10).index\n",
    "\n",
    "# yearly plot\n",
    "for store in index:\n",
    "    fig, ax = plt.subplots()\n",
    "    n.stores_t.e[store].plot(ax=ax, ylabel=store)"
   ]
  },
  {
   "cell_type": "markdown",
   "source": [
    "## Coming from Storage and Going to Storage"
   ],
   "metadata": {
    "collapsed": false,
    "pycharm": {
     "name": "#%% md\n"
    }
   }
  },
  {
   "cell_type": "code",
   "execution_count": null,
   "outputs": [],
   "source": [
    "#### Where ist the hydrogen that is stored coming from and going to?\n",
    "\n",
    "fig, axs = plt.subplots(nrows=2, ncols=2, figsize=(15, 11))\n",
    "\n",
    "for n in [stst, exp]:\n",
    "\n",
    "    h2_buses = n.stores[n.stores.carrier == \"H2\"].bus\n",
    "\n",
    "    # H2 delivering technologies\n",
    "    n.links[n.links.bus1.isin(h2_buses)]\n",
    "    i_h2 = n.links[n.links.bus1.isin(h2_buses)].index\n",
    "    df = pd.DataFrame(n.links_t.p1[i_h2].sum())\n",
    "    df[\"carrier\"] = df.index.map(n.links.carrier).values\n",
    "    result_del = abs(df.groupby(\"carrier\").sum())\n",
    "\n",
    "    # H2 receiving technologies\n",
    "    n.links[n.links.bus0.isin(h2_buses)]\n",
    "    i_h2 = n.links[n.links.bus0.isin(h2_buses)].index\n",
    "    df = pd.DataFrame(n.links_t.p0[i_h2].sum())\n",
    "    df[\"carrier\"] = df.index.map(n.links.carrier).values\n",
    "    result_rec = abs(df.groupby(\"carrier\").sum())\n",
    "\n",
    "    if n==stst:\n",
    "        ax_del=axs[0, 0]\n",
    "        ax_rec=axs[0, 1]\n",
    "        title_del=f\"Delivering H2 to stroage (STST)\"\n",
    "        title_rec=f\"Recieving H2 from storage (STST)\"\n",
    "\n",
    "    elif n==exp:\n",
    "        ax_del=axs[1, 0]\n",
    "        ax_rec=axs[1, 1]\n",
    "        title_del=f\"Delivering H2 to stroage (EXP)\"\n",
    "        title_rec=f\"Delivering H2 to stroage (EXP)\"\n",
    "\n",
    "    # plot delivering\n",
    "    c = [carrier_colors[col] for col in result_del.index]\n",
    "    percents = result_del.to_numpy() * 100 / result_del.to_numpy().sum()\n",
    "    labels = ['%s (%1.1f %%)' % (l, s) for l, s in zip(result_del.index, percents)]\n",
    "\n",
    "    patches, texts = ax_del.pie(result_del.values.flatten(), colors=c, startangle=0, labels=labels)\n",
    "    ax_del.axis('equal')\n",
    "    ax_del.set_title(title_del, pad=20, fontweight=\"bold\")\n",
    "\n",
    "    # plot receiving\n",
    "    c = [carrier_colors[col] for col in result_rec.index]\n",
    "    percents = result_rec.to_numpy() * 100 / result_rec.to_numpy().sum()\n",
    "    labels = ['%s (%1.1f %%)' % (l, s) for l, s in zip(result_rec.index, percents)]\n",
    "\n",
    "    patches, texts = ax_rec.pie(result_rec.values.flatten(), colors=c, startangle=0, labels=labels)\n",
    "    ax_rec.axis('equal')\n",
    "    ax_rec.set_title(title_rec, pad=20, fontweight=\"bold\")\n",
    "\n",
    "fig.tight_layout(pad=5)\n",
    "plt.show()"
   ],
   "metadata": {
    "collapsed": false,
    "pycharm": {
     "name": "#%%\n"
    }
   }
  },
  {
   "cell_type": "code",
   "execution_count": null,
   "outputs": [],
   "source": [
    "n = exp\n",
    "h2_buses = n.stores[n.stores.carrier == \"H2\"].bus"
   ],
   "metadata": {
    "collapsed": false,
    "pycharm": {
     "name": "#%%\n"
    }
   }
  },
  {
   "cell_type": "code",
   "execution_count": null,
   "outputs": [],
   "source": [
    "# technologies delivering the hydrogen\n",
    "n.links[n.links.bus1.isin(h2_buses)].carrier.unique()"
   ],
   "metadata": {
    "collapsed": false,
    "pycharm": {
     "name": "#%%\n"
    }
   }
  },
  {
   "cell_type": "code",
   "execution_count": null,
   "outputs": [],
   "source": [
    "# technologies receiving the hydrogen\n",
    "n.links[n.links.bus0.isin(h2_buses)].carrier.unique()"
   ],
   "metadata": {
    "collapsed": false,
    "pycharm": {
     "name": "#%%\n"
    }
   }
  },
  {
   "cell_type": "code",
   "execution_count": null,
   "outputs": [],
   "source": [
    "# links indices\n",
    "i_h2 = n.links[n.links.bus0.isin(h2_buses)].index\n",
    "# generation\n",
    "df = pd.DataFrame(n.links_t.p0[i_h2].sum())\n",
    "# carrier\n",
    "df[\"carrier\"] = df.index.map(n.links.carrier).values"
   ],
   "metadata": {
    "collapsed": false,
    "pycharm": {
     "name": "#%%\n"
    }
   }
  },
  {
   "cell_type": "code",
   "execution_count": null,
   "outputs": [],
   "source": [
    "result = df.groupby(\"carrier\").sum()\n",
    "result"
   ],
   "metadata": {
    "collapsed": false,
    "pycharm": {
     "name": "#%%\n"
    }
   }
  },
  {
   "cell_type": "code",
   "execution_count": null,
   "outputs": [],
   "source": [
    "# receiving hydrogen from stores\n",
    "# sign of pipelines are wrong but does not matter as the amounts are the same\n",
    "\n",
    "fig, axs = plt.subplots(nrows=1, ncols=2, figsize=(15, 11))\n",
    "\n",
    "for n, ax in zip([stst, exp],axs):\n",
    "\n",
    "    # data\n",
    "    h2_buses = n.stores[n.stores.carrier == \"H2\"].bus\n",
    "    # links of reciever\n",
    "    n.links[n.links.bus0.isin(h2_buses)]\n",
    "    # links indices\n",
    "    i_h2 = n.links[n.links.bus0.isin(h2_buses)].index\n",
    "    # generation\n",
    "    df = pd.DataFrame(n.links_t.p0[i_h2].sum())\n",
    "    # carrier\n",
    "    df[\"carrier\"] = df.index.map(n.links.carrier).values\n",
    "    result = abs(df.groupby(\"carrier\").sum())\n",
    "\n",
    "    c = [carrier_colors[col] for col in result.index]\n",
    "    percents = result.to_numpy() * 100 / result.to_numpy().sum()\n",
    "    labels = ['%s (%1.1f %%)' % (l, s) for l, s in zip(result.index, percents)]\n",
    "\n",
    "    patches, texts = ax.pie(result.values.flatten(), colors=c, startangle=0, labels=labels)\n",
    "    ax.axis('equal')\n",
    "    ax.set_title(f\"{n}\", pad=20, fontweight=\"bold\")\n"
   ],
   "metadata": {
    "collapsed": false,
    "pycharm": {
     "name": "#%%\n"
    }
   }
  },
  {
   "cell_type": "code",
   "execution_count": null,
   "outputs": [],
   "source": [
    "carrier = \"Li ion\"  # \"battery\"\n",
    "\n",
    "fig, axs = plt.subplots(nrows=2, ncols=2, figsize=(15, 11))\n",
    "\n",
    "for n in [stst, exp]:\n",
    "\n",
    "    buses = n.stores[n.stores.carrier == carrier].bus\n",
    "\n",
    "    # H2 delivering technologies\n",
    "    n.links[n.links.bus1.isin(buses)]\n",
    "    i_buses = n.links[n.links.bus1.isin(buses)].index\n",
    "    df = pd.DataFrame(n.links_t.p1[i_buses].sum())\n",
    "    df[\"carrier\"] = df.index.map(n.links.carrier).values\n",
    "    result_del = abs(df.groupby(\"carrier\").sum())\n",
    "\n",
    "    # H2 receiving technologies\n",
    "    n.links[n.links.bus0.isin(buses)]\n",
    "    i_buses = n.links[n.links.bus0.isin(buses)].index\n",
    "    df = pd.DataFrame(n.links_t.p0[i_buses].sum())\n",
    "    df[\"carrier\"] = df.index.map(n.links.carrier).values\n",
    "    result_rec = abs(df.groupby(\"carrier\").sum())\n",
    "\n",
    "    if n == stst:\n",
    "        ax_del = axs[0, 0]\n",
    "        ax_rec = axs[0, 1]\n",
    "        title_del = f\"Delivering {carrier} to stroage (STST)\"\n",
    "        title_rec = f\"Recieving {carrier} from storage (STST)\"\n",
    "\n",
    "    elif n == exp:\n",
    "        ax_del = axs[1, 0]\n",
    "        ax_rec = axs[1, 1]\n",
    "        title_del = f\"Delivering {carrier} to stroage (EXP)\"\n",
    "        title_rec = f\"Delivering {carrier} to stroage (EXP)\"\n",
    "\n",
    "    # plot delivering\n",
    "    c = [carrier_colors[col] for col in result_del.index]\n",
    "    percents = result_del.to_numpy() * 100 / result_del.to_numpy().sum()\n",
    "    labels = ['%s (%1.1f %%)' % (l, s) for l, s in zip(result_del.index, percents)]\n",
    "\n",
    "    patches, texts = ax_del.pie(result_del.values.flatten(), colors=c, startangle=0, labels=labels)\n",
    "    ax_del.axis('equal')\n",
    "    ax_del.set_title(title_del, pad=20, fontweight=\"bold\")\n",
    "\n",
    "    # plot receiving\n",
    "    c = [carrier_colors[col] for col in result_rec.index]\n",
    "    percents = result_rec.to_numpy() * 100 / result_rec.to_numpy().sum()\n",
    "    labels = ['%s (%1.1f %%)' % (l, s) for l, s in zip(result_rec.index, percents)]\n",
    "\n",
    "    patches, texts = ax_rec.pie(result_rec.values.flatten(), colors=c, startangle=0, labels=labels)\n",
    "    ax_rec.axis('equal')\n",
    "    ax_rec.set_title(title_rec, pad=20, fontweight=\"bold\")\n",
    "\n",
    "fig.tight_layout(pad=5)\n",
    "plt.show()"
   ],
   "metadata": {
    "collapsed": false,
    "pycharm": {
     "name": "#%%\n"
    }
   }
  },
  {
   "cell_type": "code",
   "execution_count": null,
   "outputs": [],
   "source": [
    "#### How much of the produced hydrogen is being stored and how much is directly used by consuming technologies?"
   ],
   "metadata": {
    "collapsed": false,
    "pycharm": {
     "name": "#%%\n"
    }
   }
  },
  {
   "cell_type": "markdown",
   "metadata": {
    "pycharm": {
     "name": "#%% md\n"
    }
   },
   "source": []
  },
  {
   "cell_type": "markdown",
   "metadata": {
    "pycharm": {
     "name": "#%% md\n"
    }
   },
   "source": [
    "## Ideas:\n",
    "- Calc capacity factors / system load duration curves for electrolysis in different regions and try to investigate in differences (amount of wind generation, solar) Is only excess electrolysis consumed by electrolysis?\n",
    "- Try to determine connection between electrolysis and excess solar / wind production\n",
    "- Try to determine percent / amount of excess electricity that is used to produce hydrogen. (Basically all energy from renewables that went into electrolysis?)\n",
    "- pie chart of percentage of electricity that is used directly, used for Electrolysis, battery, ... (startup script)\n",
    "- Reproduce graph from Victoria, Zhu et al. 2019 – The role of storage technologies (in hydrogen word document); try to find patterns within the charging of battery and the charging with hydrogen (electrolysis -> fuel cell)\n",
    "-"
   ]
  },
  {
   "cell_type": "markdown",
   "metadata": {
    "pycharm": {
     "name": "#%% md\n"
    }
   },
   "source": []
  },
  {
   "cell_type": "markdown",
   "metadata": {
    "pycharm": {
     "name": "#%% md\n"
    }
   },
   "source": []
  }
 ],
 "metadata": {
  "kernelspec": {
   "display_name": "Python 3 (ipykernel)",
   "language": "python",
   "name": "python3"
  },
  "language_info": {
   "codemirror_mode": {
    "name": "ipython",
    "version": 3
   },
   "file_extension": ".py",
   "mimetype": "text/x-python",
   "name": "python",
   "nbconvert_exporter": "python",
   "pygments_lexer": "ipython3",
   "version": "3.10.6"
  }
 },
 "nbformat": 4,
 "nbformat_minor": 1
}