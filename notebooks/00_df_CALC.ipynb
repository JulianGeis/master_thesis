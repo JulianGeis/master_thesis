{
 "cells": [
  {
   "cell_type": "markdown",
   "source": [
    "## Notebook to calculate all important metrics for the networks and save them"
   ],
   "metadata": {
    "collapsed": false,
    "pycharm": {
     "name": "#%% md\n"
    }
   }
  },
  {
   "cell_type": "markdown",
   "source": [
    "## Imports"
   ],
   "metadata": {
    "collapsed": false,
    "pycharm": {
     "name": "#%% md\n"
    }
   }
  },
  {
   "cell_type": "code",
   "execution_count": 1,
   "outputs": [],
   "source": [
    "import pandas as pd\n",
    "import geopandas as gpd\n",
    "import numpy as np\n",
    "import pypsa\n",
    "import warnings\n",
    "\n",
    "warnings.filterwarnings(\"ignore\")\n",
    "\n",
    "\n",
    "# imported own functions\n",
    "from utils import market_values, capacity, generation\n",
    "from utils import generation_storage_units, consumption_storage_units, capacity_storage_units, capacity_storage_units_con, market_values_storage_units, market_values_storage_units_con\n",
    "from utils import generation_links, generation_links_bus, capacity_links, capacity_links_bus, market_values_links, market_values_links_bus\n",
    "\n",
    "# imported own definitions\n",
    "from utils import resistive_heater, gas_boiler, heat_pump, water_tanks_charger, water_tanks_discharger, solar_thermal\n",
    "\n",
    "# general variables\n",
    "onshore_regions = gpd.read_file(\"../data/external/regions_onshore_elec_s_181.geojson\")\n",
    "offshore_regions = gpd.read_file(\"../data/external/regions_offshore_elec_s_181.geojson\")\n",
    "onshore_regions = onshore_regions.set_index('name')\n",
    "offshore_regions = offshore_regions.set_index('name')\n",
    "\n",
    "# Regions\n",
    "onshore_regions['coords'] = onshore_regions['geometry'].apply(lambda x: x.representative_point().coords[:])\n",
    "onshore_regions['coords'] = [coords[0] for coords in onshore_regions['coords']]\n",
    "onshore_regions[\"name\"] = onshore_regions.index\n",
    "offshore_regions['coords'] = offshore_regions['geometry'].apply(lambda x: x.representative_point().coords[:])\n",
    "offshore_regions['coords'] = [coords[0] for coords in offshore_regions['coords']]\n",
    "offshore_regions[\"name\"] = offshore_regions.index\n",
    "\n",
    "# carrier lists\n",
    "from utils import c_el_gen_s, c_el_con_s, c_h2_gen, c_h2_con\n",
    "\n",
    "# Notebook Definitions\n",
    "c1_groups = [resistive_heater, gas_boiler, heat_pump, water_tanks_charger, water_tanks_discharger, solar_thermal]\n",
    "c1_groups_name = [\"resistive heater\", \"gas boiler\", \"heat pump\", \"water tanks charger\", \"water tanks discharger\",\n",
    "                  \"solar thermal\"]"
   ],
   "metadata": {
    "collapsed": false,
    "pycharm": {
     "name": "#%%\n"
    }
   }
  },
  {
   "cell_type": "code",
   "execution_count": 2,
   "outputs": [
    {
     "name": "stderr",
     "output_type": "stream",
     "text": [
      "WARNING:pypsa.io:\n",
      "Importing PyPSA from older version of PyPSA than current version.\n",
      "Please read the release notes at https://pypsa.readthedocs.io/en/latest/release_notes.html\n",
      "carefully to prepare your network for import.\n",
      "Currently used PyPSA version [0, 20, 1], imported network file PyPSA version [0, 18, 1].\n",
      "\n",
      "INFO:pypsa.io:Imported network elec_s_181_lv1.0__Co2L0-3H-T-H-B-I-A-solar+p3-linemaxext10-noH2network_2030.nc has buses, carriers, generators, global_constraints, lines, links, loads, storage_units, stores\n",
      "WARNING:pypsa.io:\n",
      "Importing PyPSA from older version of PyPSA than current version.\n",
      "Please read the release notes at https://pypsa.readthedocs.io/en/latest/release_notes.html\n",
      "carefully to prepare your network for import.\n",
      "Currently used PyPSA version [0, 20, 1], imported network file PyPSA version [0, 18, 1].\n",
      "\n",
      "INFO:pypsa.io:Imported network elec_s_181_lvopt__Co2L0-3H-T-H-B-I-A-solar+p3-linemaxext10_2030.nc has buses, carriers, generators, global_constraints, lines, links, loads, storage_units, stores\n"
     ]
    }
   ],
   "source": [
    "# Network imports\n",
    "stst = pypsa.Network(\"../data/raw/elec_s_181_lv1.0__Co2L0-3H-T-H-B-I-A-solar+p3-linemaxext10-noH2network_2030.nc\")\n",
    "exp = pypsa.Network(\"../data/raw/elec_s_181_lvopt__Co2L0-3H-T-H-B-I-A-solar+p3-linemaxext10_2030.nc\")"
   ],
   "metadata": {
    "collapsed": false,
    "pycharm": {
     "name": "#%%\n"
    }
   }
  },
  {
   "cell_type": "markdown",
   "source": [
    "## Spatial dfs"
   ],
   "metadata": {
    "collapsed": false,
    "pycharm": {
     "name": "#%% md\n"
    }
   }
  },
  {
   "cell_type": "markdown",
   "source": [
    "### old CALC"
   ],
   "metadata": {
    "collapsed": false,
    "pycharm": {
     "name": "#%% md\n"
    }
   }
  },
  {
   "cell_type": "code",
   "execution_count": 3,
   "outputs": [],
   "source": [
    "# calc market values, generation, lmps, capacity factors for generators, links and storage units\n",
    "for n in [stst, exp]:\n",
    "    df_regions_onshore = onshore_regions.copy()\n",
    "    df_regions_offshore = offshore_regions.copy()\n",
    "\n",
    "    # function for carriers in n.generators.carrier.unique() # 13 / 13\n",
    "    for carrier in n.generators.carrier.unique():\n",
    "        df_regions_onshore[f\"{carrier}_mv\"] = market_values(n, carrier)\n",
    "        df_regions_offshore[f\"{carrier}_mv\"] = market_values(n, carrier)\n",
    "        df_regions_onshore[f\"{carrier}_gen\"] = generation(n, carrier) / 1000 * 3\n",
    "        df_regions_offshore[f\"{carrier}_gen\"] = generation(n, carrier) / 1000 * 3\n",
    "        df_regions_onshore[f\"{carrier}_cap\"] = capacity(n, carrier) / 1000\n",
    "        df_regions_offshore[f\"{carrier}_cap\"] = capacity(n, carrier) / 1000\n",
    "        # lmps\n",
    "        # capacity factors This calculation is correct? as capacity is multiplied by 2920 is the same as multiplying the generation by 3 and then dividing it by the capacity times 8760 (as cap is in MW?)\n",
    "        df_regions_onshore[f\"{carrier}_cf\"] = generation(n, carrier) / (capacity(n, carrier) * 2920)\n",
    "        df_regions_offshore[f\"{carrier}_cf\"] = generation(n, carrier) / (capacity(n, carrier) * 2920)\n",
    "\n",
    "    # function for carriers in n.links.carrier.unique() # 53 / 55\n",
    "    for carrier in n.links.carrier.unique():\n",
    "        df_regions_onshore[f\"{carrier}_mv\"] = market_values_links(n, carrier)\n",
    "        df_regions_onshore[f\"{carrier}_gen\"] = generation_links(n, carrier) / 1000 * 3\n",
    "        df_regions_onshore[f\"{carrier}_cap\"] = capacity_links(n, carrier) / 1000\n",
    "        df_regions_onshore[f\"{carrier}_cf\"] = generation_links(n, carrier) / (capacity_links(n, carrier) * 2920)\n",
    "\n",
    "    # function for carriers in n.storage_units.carrier.unique() # 2 / 2\n",
    "    for carrier in n.storage_units.carrier.unique():\n",
    "        df_regions_onshore[f\"{carrier}_mv\"] = market_values_storage_units(n, carrier)\n",
    "        df_regions_onshore[f\"{carrier}_gen\"] = generation_storage_units(n, carrier) / 1000 * 3\n",
    "        df_regions_onshore[f\"{carrier}_cap\"] = capacity_storage_units(n, carrier) / 1000\n",
    "        # capacity factors (both generation and consumption(loading) is considered\n",
    "        gen = abs(n.storage_units_t.p.loc[:, n.storage_units.carrier == carrier])\n",
    "        gen.columns = gen.columns.map(n.storage_units.bus)\n",
    "        gen.columns = gen.columns.map(n.buses.location)\n",
    "        df_regions_onshore[f\"{carrier}_cf\"] = gen.sum() / (2*capacity_storage_units(n, carrier) * 2920)\n",
    "\n",
    "    # set market values to nan where generation in corresponding region is lower than % quantile ( for generators, links, su)\n",
    "    qt = 0.2\n",
    "    for carrier in (n.generators.carrier.unique().tolist() +\n",
    "                    n.links.carrier.unique().tolist() +\n",
    "                    n.storage_units.carrier.unique().tolist()):\n",
    "        # onshore\n",
    "        index = df_regions_onshore[f\"{carrier}_gen\"] <= np.nanquantile(df_regions_onshore[f\"{carrier}_gen\"], qt)\n",
    "        df_regions_onshore[f\"{carrier}_mv_qt\"] = df_regions_onshore[f\"{carrier}_mv\"]\n",
    "        df_regions_onshore[f\"{carrier}_mv_qt\"][index] = np.nan\n",
    "\n",
    "        # offshore\n",
    "        if carrier in [\"offwind-dc\", \"offwind-ac\"]:\n",
    "            index = df_regions_offshore[f\"{carrier}_gen\"] <= np.nanquantile(df_regions_offshore[f\"{carrier}_gen\"], qt)\n",
    "            df_regions_offshore[f\"{carrier}_mv_qt\"] = df_regions_offshore[f\"{carrier}_mv\"]\n",
    "            df_regions_offshore[f\"{carrier}_mv_qt\"][index] = np.nan\n",
    "\n",
    "    # calc lmps at the buses (lmps that are only present for EU (e.g. oil) are nan at the moment)\n",
    "    # TODO: decide if EU lmps are used as lmp for all regions\n",
    "    for carrier_bus in n.buses.carrier.unique():\n",
    "        # index would be same names as the bus (not the location as it is in the index of\n",
    "        # df_regions_onshore so far -> map location to make sure the right lmp is set\n",
    "        locs = n.buses.location[n.buses[n.buses.carrier == carrier_bus].index]\n",
    "        lmps = n.buses_t.marginal_price[n.buses[n.buses.carrier == carrier_bus].index].mean()\n",
    "        df = pd.concat([lmps, locs], axis=1).rename(columns={0: f\"{carrier_bus}_lmp\"})\n",
    "        df.set_index(\"location\", inplace=True)\n",
    "        if df.size == 1:\n",
    "            if df.index == \"EU\":\n",
    "                df = pd.DataFrame(np.repeat(df.values, 181), index=df_regions_onshore.index,\n",
    "                                  columns=[f\"{carrier_bus}_lmp\"])\n",
    "                df_regions_onshore[f\"{carrier_bus}_lmp\"] = df[f\"{carrier_bus}_lmp\"]\n",
    "        else:\n",
    "            df_regions_onshore[f\"{carrier_bus}_lmp\"] = df[f\"{carrier_bus}_lmp\"]\n",
    "\n",
    "    if n == stst:\n",
    "        df_stst_ons = df_regions_onshore\n",
    "        df_stst_off = df_regions_offshore\n",
    "\n",
    "    if n == exp:\n",
    "        df_exp_ons = df_regions_onshore\n",
    "        df_exp_off = df_regions_offshore"
   ],
   "metadata": {
    "collapsed": false,
    "pycharm": {
     "name": "#%%\n"
    }
   }
  },
  {
   "cell_type": "code",
   "execution_count": 4,
   "outputs": [],
   "source": [
    "# subdivide all carriers: stst.buses.carrier.unique().tolist()\n",
    "\n",
    "electricity = ['AC', 'battery', 'Li ion', 'low voltage', 'home battery' ]\n",
    "hydrogen = ['H2', 'H2 liquid']\n",
    "heat = ['residential rural heat',\n",
    " 'residential rural water tanks',\n",
    " 'services rural heat',\n",
    " 'services rural water tanks',\n",
    " 'residential urban decentral heat',\n",
    " 'residential urban decentral water tanks',\n",
    " 'services urban decentral heat',\n",
    " 'services urban decentral water tanks',\n",
    " 'urban central heat',\n",
    " 'urban central water tanks']\n",
    "gas = ['gas', 'biogas', 'gas for industry']\n",
    "oil = ['oil']\n",
    "biomass = ['solid biomass','solid biomass for industry']\n",
    "co2 = ['co2','co2 stored']\n",
    "process_emisisons = ['process emissions']\n",
    "\n",
    "c_tags = {\n",
    "    'AC': \"el\",\n",
    "    'battery': \"el\",\n",
    "    'Li ion': \"el\",\n",
    "    'low voltage': \"el\",\n",
    "    'home battery': \"el\",\n",
    "    'H2': \"h2\",\n",
    "    'H2 liquid': \"h2\",\n",
    "    'residential rural heat': \"heat\",\n",
    "    'residential rural water tanks': \"heat\",\n",
    "    'services rural heat': \"heat\",\n",
    "    'services rural water tanks': \"heat\",\n",
    "    'residential urban decentral heat': \"heat\",\n",
    "    'residential urban decentral water tanks': \"heat\",\n",
    "    'services urban decentral heat': \"heat\",\n",
    "    'services urban decentral water tanks': \"heat\",\n",
    "    'urban central heat': \"heat\",\n",
    "    'urban central water tanks': \"heat\",\n",
    "    'gas': \"gas\",\n",
    "    'biogas': \"gas\",\n",
    "    'gas for industry': \"gas\",\n",
    "    'oil': \"oil\",\n",
    "    'solid biomass': \"biom\",\n",
    "    'solid biomass for industry': \"biom\",\n",
    "    'co2': \"co2\",\n",
    "    'co2 stored': \"co2\",\n",
    "    'process emissions': \"pe\"\n",
    "}"
   ],
   "metadata": {
    "collapsed": false,
    "pycharm": {
     "name": "#%%\n"
    }
   }
  },
  {
   "cell_type": "markdown",
   "source": [
    "### new CALC"
   ],
   "metadata": {
    "collapsed": false,
    "pycharm": {
     "name": "#%% md\n"
    }
   }
  },
  {
   "cell_type": "code",
   "execution_count": 5,
   "outputs": [],
   "source": [
    "# df_stst_ons, df_stst_off, df_exp_ons, df_exp_off\n",
    "# conventions: consumption is negative, values in GW, GWh\n",
    "# subdivide gen, mv, cap and cf into electricity, heat, hydrogen, .\n",
    "\n",
    "buses = [\"bus0\", \"bus1\", \"bus2\", \"bus3\", \"bus4\"]\n",
    "ps = [\"p0\", \"p1\", \"p2\", \"p3\", \"p4\"]\n",
    "\n",
    "for n, dfs in zip([stst, exp], [[df_stst_ons, df_stst_off], [df_exp_ons, df_exp_off]]):\n",
    "\n",
    "    # generators: can only generate energy, have only one bus, have only one capacity, can have only one carrier\n",
    "    for c in n.generators.carrier.unique().tolist():\n",
    "        # get tag\n",
    "        c_bus = n.generators[n.generators.carrier == c].bus.map(n.buses.carrier).unique()[0]\n",
    "        c_tag = c_tags[c_bus]\n",
    "        for df in dfs:\n",
    "            df[f\"{c}_gen_{c_tag}\"] = generation(n, c) / 1000 * 3\n",
    "            df[f\"{c}_cap_gen_{c_tag}\"] = capacity(n, c) / 1000\n",
    "            df[f\"{c}_mv_gen_{c_tag}\"] = market_values(n, c)\n",
    "            df[f\"{c}_cf_gen_{c_tag}\"] = generation(n, c) / (capacity(n, c) * 2920)\n",
    "            # only for onshore\n",
    "            if len(df) != 100:\n",
    "                df[f\"{c}_mv-lmp_gen_{c_tag}\"] = df[f\"{c}_mv_gen_{c_tag}\"] - df[f\"{c_bus}_lmp\"]\n",
    "                df[f\"{c}_vf_gen_{c_tag}\"] = df[f\"{c}_mv_gen_{c_tag}\"] / df[f\"{c_bus}_lmp\"]\n",
    "\n",
    "    # storage units: can generate and consume, have only one bus, have twoe capacities?, can have only one carrier\n",
    "    for c in n.storage_units.carrier.unique().tolist():\n",
    "        # get tag\n",
    "        c_bus = n.storage_units[n.storage_units.carrier == c].bus.map(n.buses.carrier).unique()[0]\n",
    "        c_tag = c_tags[c_bus]\n",
    "        for df in dfs:\n",
    "            df[f\"{c}_gen_{c_tag}\"] = generation_storage_units(n, c) / 1000 * 3\n",
    "            df[f\"{c}_con_{c_tag}\"] = consumption_storage_units(n, c) / 1000 * 3\n",
    "            df[f\"{c}_cap_gen_{c_tag}\"] = capacity_storage_units(n, c) / 1000\n",
    "            df[f\"{c}_cap_con_{c_tag}\"] = capacity_storage_units_con(n, c) / 1000\n",
    "            df[f\"{c}_mv_gen_{c_tag}\"] = market_values_storage_units(n, c)\n",
    "            df[f\"{c}_mv_con_{c_tag}\"] = market_values_storage_units_con(n, c)\n",
    "            df[f\"{c}_cf_gen_{c_tag}\"] = generation_storage_units(n, c) / (capacity_storage_units(n, c) * 2920)\n",
    "            df[f\"{c}_cf_con_{c_tag}\"] = consumption_storage_units(n, c) / (capacity_storage_units(n, c) * 2920)\n",
    "            # capacity factor of consumption and generation\n",
    "            df[f\"{c}_cf_gen+con_{c_tag}\"] = (generation_storage_units(n, c) + consumption_storage_units(n, c)) / ((capacity_storage_units(n, c) + capacity_storage_units_con(n, c)) * 2920)\n",
    "            # only for onshore\n",
    "            if len(df) != 100:\n",
    "                df[f\"{c}_mv-lmp_gen_{c_tag}\"] = df[f\"{c}_mv_gen_{c_tag}\"] - df[f\"{c_bus}_lmp\"]\n",
    "                df[f\"{c}_vf_gen_{c_tag}\"] = df[f\"{c}_mv_gen_{c_tag}\"] / df[f\"{c_bus}_lmp\"]\n",
    "                df[f\"{c}_mv-lmp_con_{c_tag}\"] = df[f\"{c}_mv_con_{c_tag}\"] - df[f\"{c_bus}_lmp\"]\n",
    "                df[f\"{c}_vf_con_{c_tag}\"] = df[f\"{c}_mv_con_{c_tag}\"] / df[f\"{c_bus}_lmp\"]\n",
    "\n",
    "    # links: can generate and consume, have several buses with different numbers, have several capacities, can have several carriers even per bus (e.g. DAC bus3 generates heat for urban central and urban decentral)\n",
    "    for c in n.links.carrier.unique():\n",
    "        for i, bus in enumerate(buses):\n",
    "            # check if bus exists\n",
    "            if n.links[n.links.carrier == c][bus][0] != \"\":\n",
    "                # tag\n",
    "                c_bus = n.links[n.links.carrier == c][bus].map(n.buses.carrier).unique()[0]\n",
    "                c_tag = c_tags[c_bus]\n",
    "\n",
    "                for df in dfs:\n",
    "                    # check if consumption or generation\n",
    "                    gen = generation_links_bus(n, c, i)\n",
    "                    gen_tag = \"gen\" if gen.sum() > 0 else \"con\"\n",
    "                    df[f\"{c}_{gen_tag}_{c_tag}\"] = gen / 1000 * 3\n",
    "                    df[f\"{c}_cap_{gen_tag}_{c_tag}\"] = capacity_links_bus(n, c, i) / 1000\n",
    "                    df[f\"{c}_cf_{gen_tag}_{c_tag}\"] = abs(gen) / (capacity_links_bus(n, c, i) * 2920)\n",
    "                    df[f\"{c}_mv_{gen_tag}_{c_tag}\"] = market_values_links_bus(n, c, i)\n",
    "                    # only for onshore\n",
    "                    if len(df) != 100:\n",
    "                        df[f\"{c}_mv-lmp_{gen_tag}_{c_tag}\"] = df[f\"{c}_mv_{gen_tag}_{c_tag}\"] - df[f\"{c_bus}_lmp\"]\n",
    "                        df[f\"{c}_vf_{gen_tag}_{c_tag}\"] = df[f\"{c}_mv_{gen_tag}_{c_tag}\"] / df[f\"{c_bus}_lmp\"]\n",
    "\n",
    "# set market values to nan where generation / consumption in corresponding region is lower / higher than 20%  / 80 % quantile\n",
    "gen_qt = 0.2\n",
    "con_qt = 0.8\n",
    "\n",
    "for df in [df_stst_ons, df_stst_off, df_exp_ons, df_exp_off]:\n",
    "\n",
    "    # generation\n",
    "    for col in df.columns[df.columns.str.contains(\"mv_gen\")].tolist():\n",
    "        index = df[col.replace(\"mv_\", \"\")] <= np.nanquantile(df[col.replace(\"mv_\", \"\")], gen_qt)\n",
    "        df[f\"{col}_qt\"] = df[col]\n",
    "        df[f\"{col}_qt\"][index] = np.nan\n",
    "\n",
    "    #consumption\n",
    "    for col in df.columns[df.columns.str.contains(\"mv_con\")].tolist():\n",
    "        index = df[col.replace(\"mv_\", \"\")] >= np.nanquantile(df[col.replace(\"mv_\", \"\")], con_qt)\n",
    "        df[f\"{col}_qt\"] = df[col]\n",
    "        df[f\"{col}_qt\"][index] = np.nan\n",
    "\n",
    "    # generation\n",
    "    for col in df.columns[df.columns.str.contains(\"vf_gen\")].tolist():\n",
    "        index = df[col.replace(\"vf_\", \"\")] <= np.nanquantile(df[col.replace(\"vf_\", \"\")], gen_qt)\n",
    "        df[f\"{col}_qt\"] = df[col]\n",
    "        df[f\"{col}_qt\"][index] = np.nan\n",
    "\n",
    "    #consumption\n",
    "    for col in df.columns[df.columns.str.contains(\"vf_con\")].tolist():\n",
    "        index = df[col.replace(\"vf_\", \"\")] >= np.nanquantile(df[col.replace(\"vf_\", \"\")], con_qt)\n",
    "        df[f\"{col}_qt\"] = df[col]\n",
    "        df[f\"{col}_qt\"][index] = np.nan\n",
    "\n",
    "    # generation\n",
    "    for col in df.columns[df.columns.str.contains(\"mv-lmp_gen\")].tolist():\n",
    "        index = df[col.replace(\"mv-lmp_\", \"\")] <= np.nanquantile(df[col.replace(\"mv-lmp_\", \"\")], gen_qt)\n",
    "        df[f\"{col}_qt\"] = df[col]\n",
    "        df[f\"{col}_qt\"][index] = np.nan\n",
    "\n",
    "    #consumption\n",
    "    for col in df.columns[df.columns.str.contains(\"mv-lmp_con\")].tolist():\n",
    "        index = df[col.replace(\"mv-lmp_\", \"\")] >= np.nanquantile(df[col.replace(\"mv-lmp_\", \"\")], con_qt)\n",
    "        df[f\"{col}_qt\"] = df[col]\n",
    "        df[f\"{col}_qt\"][index] = np.nan"
   ],
   "metadata": {
    "collapsed": false,
    "pycharm": {
     "name": "#%%\n"
    }
   }
  },
  {
   "cell_type": "markdown",
   "source": [
    "### Consumed electric energy and prices payed"
   ],
   "metadata": {
    "collapsed": false,
    "pycharm": {
     "name": "#%% md\n"
    }
   }
  },
  {
   "cell_type": "code",
   "execution_count": 6,
   "outputs": [],
   "source": [
    "# consumed electric energy and prices payed\n",
    "# AC and low voltage are the main buses for electricity (why the difference?) Investigate in differences in lmps?\n",
    "\n",
    "for n , df in zip([stst, exp], [df_stst_ons, df_exp_ons]):\n",
    "\n",
    "    for c in c_el_con_s:\n",
    "\n",
    "        # links\n",
    "        if c in n.links.carrier.unique().tolist():\n",
    "            # check if bus 0 is AC or low voltage bus\n",
    "            if n.links[n.links.carrier == c].bus0.map(n.buses.carrier).unique() in [\"AC\", \"low voltage\"]:\n",
    "\n",
    "                # consumption of link at bus 0\n",
    "                con = n.links_t.p0.loc[:, n.links.carrier == c]\n",
    "                con.columns = con.columns.map(n.links.bus0)\n",
    "                # save consumption per location to df\n",
    "                con_sum = con.sum()\n",
    "                con_sum.index = con_sum.index.map(n.buses.location)\n",
    "                # convert to TWh and make negative\n",
    "                df[f\"{c}_con_el2\"] = con_sum / 1000 * 3 * -1\n",
    "                # get lmp of buses where the links consumes from\n",
    "                lmp_con = n.buses_t.marginal_price.loc[:, con.columns]\n",
    "                # calculate costs for every time step and location\n",
    "                overall_cost = con * lmp_con\n",
    "                # calc consumption weighted average per location: overall cost per location / overall generation per location\n",
    "                cost_mv = overall_cost.sum() / con.sum()\n",
    "                cost_mv.index = cost_mv.index.map(n.buses.location)\n",
    "                # save cost_mv to df (€/MWH_el)\n",
    "                df[f\"{c}_cost_mv_el\"] = cost_mv\n",
    "\n",
    "        # storage unit: only PHS can store\n",
    "        elif c in n.storage_units.carrier.unique().tolist():\n",
    "\n",
    "                # consumption of su\n",
    "                con = n.storage_units_t.p_store.loc[:, n.storage_units.carrier == c]\n",
    "                con.columns = con.columns.map(n.storage_units.bus)\n",
    "                # save consumption per location to df in TWh and make negative\n",
    "                df[f\"{c}_con_el2\"] = con.sum() / 1000 * 3 * -1\n",
    "                # get lmp of buses where the su consumes from\n",
    "                lmp_con = n.buses_t.marginal_price.loc[:, con.columns]\n",
    "                # calculate costs for every time step and location\n",
    "                overall_cost = con * lmp_con\n",
    "                # calc consumption weighted average per location: overall cost per location / overall generation per location\n",
    "                cost_mv = overall_cost.sum() / con.sum()\n",
    "                # save cost_mv to df\n",
    "                df[f\"{c}_cost_mv_el\"] = cost_mv\n",
    "\n",
    "        else:\n",
    "            print(f\"{c} not found!\")\n",
    "\n",
    "        # set pries to nan where consumption in corresponding region is lower than % quantile\n",
    "        # watch out for negative values here!!!!\n",
    "        qt = 0.8\n",
    "        index = df[f\"{c}_con_el2\"] >= np.nanquantile(df[f\"{c}_con_el2\"], qt)\n",
    "        df[f\"{c}_cost_mv_el_qt\"] = df[f\"{c}_cost_mv_el\"]\n",
    "        df[f\"{c}_cost_mv_el_qt\"][index] = np.nan"
   ],
   "metadata": {
    "collapsed": false,
    "pycharm": {
     "name": "#%%\n"
    }
   }
  },
  {
   "cell_type": "markdown",
   "source": [
    "### Utilisation rate"
   ],
   "metadata": {
    "collapsed": false,
    "pycharm": {
     "name": "#%% md\n"
    }
   }
  },
  {
   "cell_type": "code",
   "execution_count": 7,
   "outputs": [],
   "source": [
    "# utilisation rate\n",
    "\n",
    "# what you actually want to measure is on how much of possible generation is utilized\n",
    "# utilitazation rate???\n",
    "# Problem if you calc the rate for every time step and location independently and then take the mean, all urs have the same weight. That makes no sense, as at times with almost no generation there is numerical issues with the rate\n",
    "# better calc ur for every region as the ratio of the sum over all gen and the sum over all possible gen (make sure only valid regions make it to the plot, e.g. minimun generation of o,2 quantile)\n",
    "\n",
    "th = 0.01 # MWh\n",
    "method = 1\n",
    "\n",
    "th_p = 0.01 # share of mean generation\n",
    "\n",
    "# how much of the whole possible energy that can be generated is utilized (sum over all time steps and location than take ratio)\n",
    "overall_ur_stst = pd.DataFrame(index=range(1))\n",
    "overall_ur_exp = pd.DataFrame(index=range(1))\n",
    "\n",
    "for n, df, overall_ur in zip([stst, exp], [df_stst_ons, df_exp_ons], [overall_ur_stst, overall_ur_exp]):\n",
    "\n",
    "    # generators\n",
    "    max_out_gen = n.generators_t.p_max_pu * n.generators.p_nom_opt[n.generators_t.p_max_pu.columns]\n",
    "    real_out_gen = n.generators_t.p[n.generators_t.p_max_pu.columns]\n",
    "    out_ratio_gen = (real_out_gen / max_out_gen) [real_out_gen > th]\n",
    "    out_ratio_gen_sum = real_out_gen.sum() / max_out_gen.sum()\n",
    "\n",
    "    # links\n",
    "    # gen\n",
    "    n_links_p1 = n.links_t.p1 *-1\n",
    "    # some links have a static p_max_pu value and some have an alternating (series)\n",
    "    index_series_li = n.links_t.p_max_pu.columns\n",
    "    index_static_li = n.links.index.difference(n.links_t.p_max_pu.columns)\n",
    "\n",
    "    # calculate the possible output for the link for every time step\n",
    "    if method == 1:\n",
    "        # use p_max_pu * p_nom_op\n",
    "        max_output_links_static = n.links.loc[index_static_li].p_max_pu * n.links.loc[index_static_li].p_nom_opt\n",
    "    elif method == 2:\n",
    "        # alternatively use the maximum of the real output and set it as the maximum capacity\n",
    "        max_output_links_static= n_links_p1[index_static_li].max()\n",
    "\n",
    "    # make ts of max_output_links_static\n",
    "    max_output_links_ts_static = n.links_t.p0[index_static_li].copy()\n",
    "    for snap in n.links_t.p0.index:\n",
    "        max_output_links_ts_static.loc[snap] = max_output_links_static[index_static_li]\n",
    "\n",
    "    # calc time series of time dependent p_max_pu links\n",
    "    max_output_links_ts_series = n.links_t.p_max_pu * n.links.p_nom_opt[index_series_li]\n",
    "\n",
    "    # merge static and series values and reorder columns\n",
    "    max_output_links_ts = pd.concat([max_output_links_ts_static, max_output_links_ts_series], axis=1)[n.links_t.p0.columns]\n",
    "\n",
    "    # compare to real output\n",
    "    out_ratio_links = (n_links_p1 / max_output_links_ts) [n_links_p1 > th]\n",
    "    # calc out ratio weighted by generation (sum of all gen / sum of all cap / max_output)\n",
    "    out_ratio_links_sum = n_links_p1.sum() / max_output_links_ts.sum()\n",
    "\n",
    "    # storage units\n",
    "    max_output = n.storage_units.p_max_pu * n.storage_units.p_nom_opt\n",
    "    max_output_ts_su = n.storage_units_t.p.copy()\n",
    "    for snap in n.storage_units_t.p.index:\n",
    "        max_output_ts_su.loc[snap] = max_output[n.storage_units_t.p.columns]\n",
    "    # compare to real output\n",
    "    out_ratio_su = (n.storage_units_t.p_dispatch / max_output_ts_su) [n.storage_units_t.p_dispatch > th]\n",
    "    out_ratio_su_sum = n.storage_units_t.p_dispatch.sum() / max_output_ts_su.sum()\n",
    "\n",
    "    #######\n",
    "    #######\n",
    "\n",
    "    # gens\n",
    "    for carrier in n.generators.carrier.unique():\n",
    "        if carrier in ['gas', 'oil']:\n",
    "            continue\n",
    "        # calc ur as mean of all urs per time and space\n",
    "        index = n.generators[n.generators.carrier == carrier].index\n",
    "        ur = out_ratio_gen[index].mean()\n",
    "        ur.index = ur.index.map(n.generators.bus).map(n.buses.location)\n",
    "        df[f\"{carrier}_ur_mean\"] = ur\n",
    "\n",
    "        # calc ur as ratio of sum of all gen and sum of all output\n",
    "        ur_s = out_ratio_gen_sum[index][real_out_gen[index].sum() > real_out_gen[index].sum().mean() * th_p]\n",
    "        ur_s.index = ur_s.index.map(n.generators.bus).map(n.buses.location)\n",
    "        df[f\"{carrier}_ur\"] = ur_s\n",
    "\n",
    "        # overall ur\n",
    "        overall_ur[f\"{carrier}\"] = real_out_gen[index].sum().sum() / max_out_gen[index].sum().sum()\n",
    "\n",
    "    # links\n",
    "    for carrier in n.links.carrier.unique():\n",
    "        # calc\n",
    "        index = n.links[n.links.carrier == carrier].index\n",
    "        ur = out_ratio_links[index].mean()\n",
    "        ur.index = ur.index.map(n.links.bus1).map(n.buses.location)\n",
    "        # group duplicate index entries\n",
    "        ur = ur.groupby(by=[\"Link\"], axis=\"index\").mean()\n",
    "        df[f\"{carrier}_ur_mean\"] = ur\n",
    "\n",
    "        # calc ur as ratio of sum of all gen and sum of all output\n",
    "        ur_s = out_ratio_links_sum[index][n_links_p1[index].sum() > n_links_p1[index].sum().mean() * th_p]\n",
    "        ur_s.index = ur_s.index.map(n.links.bus1).map(n.buses.location)\n",
    "        # group duplicate index entries\n",
    "        ur_s = ur_s.groupby(by=[\"Link\"], axis=\"index\").mean()\n",
    "        df[f\"{carrier}_ur\"] = ur_s\n",
    "\n",
    "        # overall ur\n",
    "        overall_ur[f\"{carrier}\"] = n_links_p1[index].sum().sum() / max_output_links_ts[index].sum().sum()\n",
    "\n",
    "    # storage units\n",
    "    for carrier in n.storage_units.carrier.unique():\n",
    "        # calc\n",
    "        index = n.storage_units[n.storage_units.carrier == carrier].index\n",
    "        ur = out_ratio_su[index].mean()\n",
    "        ur.index = ur.index.map(n.storage_units.bus).map(n.buses.location)\n",
    "        df[f\"{carrier}_ur_mean\"] = ur\n",
    "\n",
    "        #\n",
    "        ur_s = out_ratio_su_sum[index][n.storage_units_t.p_dispatch[index].sum() > n.storage_units_t.p_dispatch[index].sum().mean() * th_p]\n",
    "        ur_s.index = ur_s.index.map(n.storage_units.bus).map(n.buses.location)\n",
    "        df[f\"{carrier}_ur\"] = ur_s\n",
    "\n",
    "        # overall ur\n",
    "        overall_ur[f\"{carrier}\"] = n.storage_units_t.p_dispatch[index].sum().sum() / max_output_ts_su[index].sum().sum()\n"
   ],
   "metadata": {
    "collapsed": false,
    "pycharm": {
     "name": "#%%\n"
    }
   }
  },
  {
   "cell_type": "code",
   "execution_count": 8,
   "outputs": [
    {
     "data": {
      "text/plain": "                                                geometry  \\\nname                                                       \nAL0 0  POLYGON ((20.32207 39.91318, 20.39703 39.81809...   \nAT0 0  POLYGON ((16.45660 47.41184, 16.43396 47.39685...   \nAT0 1  POLYGON ((10.08288 47.35907, 10.20928 47.37248...   \nAT0 2  POLYGON ((13.47802 46.56357, 13.23111 46.55217...   \nBA0 0  POLYGON ((17.82716 42.85312, 17.81176 42.90986...   \n\n                                         coords   name  offwind-ac_mv  \\\nname                                                                    \nAL0 0    (20.00648437943388, 41.14563914300007)  AL0 0     126.148417   \nAT0 0  (15.700718667666258, 47.896990619088925)  AT0 0            NaN   \nAT0 1   (10.379200993764837, 47.18231496200006)  AT0 1            NaN   \nAT0 2   (13.805469952867842, 47.57283376100011)  AT0 2            NaN   \nBA0 0    (17.97055162265331, 43.88773569750005)  BA0 0            NaN   \n\n       offwind-ac_gen  offwind-ac_cap  offwind-ac_cf   onwind_mv  \\\nname                                                               \nAL0 0        0.029238        0.000037       0.090705  131.075254   \nAT0 0             NaN             NaN            NaN   83.457109   \nAT0 1             NaN             NaN            NaN   84.612302   \nAT0 2             NaN             NaN            NaN   90.012931   \nBA0 0             NaN             NaN            NaN  119.715551   \n\n         onwind_gen  onwind_cap  ...  electricity distribution grid_ur_mean  \\\nname                             ...                                          \nAL0 0      0.015125    0.000045  ...                               0.563977   \nAT0 0  30395.904252   23.183878  ...                               0.734131   \nAT0 1      0.000348    0.000008  ...                               0.769134   \nAT0 2      0.014320    0.000042  ...                               0.782821   \nBA0 0      0.014059    0.000050  ...                               0.721541   \n\n       electricity distribution grid_ur  home battery charger_ur_mean  \\\nname                                                                    \nAL0 0                          0.527220                      0.455364   \nAT0 0                          0.734131                      0.443735   \nAT0 1                          0.769134                      0.414851   \nAT0 2                          0.782821                      0.443474   \nBA0 0                          0.702079                      0.449194   \n\n       home battery charger_ur  home battery discharger_ur_mean  \\\nname                                                              \nAL0 0                 0.454625                         0.436440   \nAT0 0                 0.443452                         0.425714   \nAT0 1                 0.413955                         0.398248   \nAT0 2                 0.442636                         0.424931   \nBA0 0                 0.447618                         0.429713   \n\n       home battery discharger_ur  hydro_ur_mean  hydro_ur  PHS_ur_mean  \\\nname                                                                      \nAL0 0                    0.436440            NaN       NaN          NaN   \nAT0 0                    0.425714       0.555810  0.383551          NaN   \nAT0 1                    0.397396       0.561114  0.383557     0.085168   \nAT0 2                    0.424931       0.529295  0.383558     0.312799   \nBA0 0                    0.429713            NaN       NaN          NaN   \n\n         PHS_ur  \nname             \nAL0 0       NaN  \nAT0 0       NaN  \nAT0 1  0.078839  \nAT0 2  0.229673  \nBA0 0       NaN  \n\n[5 rows x 1871 columns]",
      "text/html": "<div>\n<style scoped>\n    .dataframe tbody tr th:only-of-type {\n        vertical-align: middle;\n    }\n\n    .dataframe tbody tr th {\n        vertical-align: top;\n    }\n\n    .dataframe thead th {\n        text-align: right;\n    }\n</style>\n<table border=\"1\" class=\"dataframe\">\n  <thead>\n    <tr style=\"text-align: right;\">\n      <th></th>\n      <th>geometry</th>\n      <th>coords</th>\n      <th>name</th>\n      <th>offwind-ac_mv</th>\n      <th>offwind-ac_gen</th>\n      <th>offwind-ac_cap</th>\n      <th>offwind-ac_cf</th>\n      <th>onwind_mv</th>\n      <th>onwind_gen</th>\n      <th>onwind_cap</th>\n      <th>...</th>\n      <th>electricity distribution grid_ur_mean</th>\n      <th>electricity distribution grid_ur</th>\n      <th>home battery charger_ur_mean</th>\n      <th>home battery charger_ur</th>\n      <th>home battery discharger_ur_mean</th>\n      <th>home battery discharger_ur</th>\n      <th>hydro_ur_mean</th>\n      <th>hydro_ur</th>\n      <th>PHS_ur_mean</th>\n      <th>PHS_ur</th>\n    </tr>\n    <tr>\n      <th>name</th>\n      <th></th>\n      <th></th>\n      <th></th>\n      <th></th>\n      <th></th>\n      <th></th>\n      <th></th>\n      <th></th>\n      <th></th>\n      <th></th>\n      <th></th>\n      <th></th>\n      <th></th>\n      <th></th>\n      <th></th>\n      <th></th>\n      <th></th>\n      <th></th>\n      <th></th>\n      <th></th>\n      <th></th>\n    </tr>\n  </thead>\n  <tbody>\n    <tr>\n      <th>AL0 0</th>\n      <td>POLYGON ((20.32207 39.91318, 20.39703 39.81809...</td>\n      <td>(20.00648437943388, 41.14563914300007)</td>\n      <td>AL0 0</td>\n      <td>126.148417</td>\n      <td>0.029238</td>\n      <td>0.000037</td>\n      <td>0.090705</td>\n      <td>131.075254</td>\n      <td>0.015125</td>\n      <td>0.000045</td>\n      <td>...</td>\n      <td>0.563977</td>\n      <td>0.527220</td>\n      <td>0.455364</td>\n      <td>0.454625</td>\n      <td>0.436440</td>\n      <td>0.436440</td>\n      <td>NaN</td>\n      <td>NaN</td>\n      <td>NaN</td>\n      <td>NaN</td>\n    </tr>\n    <tr>\n      <th>AT0 0</th>\n      <td>POLYGON ((16.45660 47.41184, 16.43396 47.39685...</td>\n      <td>(15.700718667666258, 47.896990619088925)</td>\n      <td>AT0 0</td>\n      <td>NaN</td>\n      <td>NaN</td>\n      <td>NaN</td>\n      <td>NaN</td>\n      <td>83.457109</td>\n      <td>30395.904252</td>\n      <td>23.183878</td>\n      <td>...</td>\n      <td>0.734131</td>\n      <td>0.734131</td>\n      <td>0.443735</td>\n      <td>0.443452</td>\n      <td>0.425714</td>\n      <td>0.425714</td>\n      <td>0.555810</td>\n      <td>0.383551</td>\n      <td>NaN</td>\n      <td>NaN</td>\n    </tr>\n    <tr>\n      <th>AT0 1</th>\n      <td>POLYGON ((10.08288 47.35907, 10.20928 47.37248...</td>\n      <td>(10.379200993764837, 47.18231496200006)</td>\n      <td>AT0 1</td>\n      <td>NaN</td>\n      <td>NaN</td>\n      <td>NaN</td>\n      <td>NaN</td>\n      <td>84.612302</td>\n      <td>0.000348</td>\n      <td>0.000008</td>\n      <td>...</td>\n      <td>0.769134</td>\n      <td>0.769134</td>\n      <td>0.414851</td>\n      <td>0.413955</td>\n      <td>0.398248</td>\n      <td>0.397396</td>\n      <td>0.561114</td>\n      <td>0.383557</td>\n      <td>0.085168</td>\n      <td>0.078839</td>\n    </tr>\n    <tr>\n      <th>AT0 2</th>\n      <td>POLYGON ((13.47802 46.56357, 13.23111 46.55217...</td>\n      <td>(13.805469952867842, 47.57283376100011)</td>\n      <td>AT0 2</td>\n      <td>NaN</td>\n      <td>NaN</td>\n      <td>NaN</td>\n      <td>NaN</td>\n      <td>90.012931</td>\n      <td>0.014320</td>\n      <td>0.000042</td>\n      <td>...</td>\n      <td>0.782821</td>\n      <td>0.782821</td>\n      <td>0.443474</td>\n      <td>0.442636</td>\n      <td>0.424931</td>\n      <td>0.424931</td>\n      <td>0.529295</td>\n      <td>0.383558</td>\n      <td>0.312799</td>\n      <td>0.229673</td>\n    </tr>\n    <tr>\n      <th>BA0 0</th>\n      <td>POLYGON ((17.82716 42.85312, 17.81176 42.90986...</td>\n      <td>(17.97055162265331, 43.88773569750005)</td>\n      <td>BA0 0</td>\n      <td>NaN</td>\n      <td>NaN</td>\n      <td>NaN</td>\n      <td>NaN</td>\n      <td>119.715551</td>\n      <td>0.014059</td>\n      <td>0.000050</td>\n      <td>...</td>\n      <td>0.721541</td>\n      <td>0.702079</td>\n      <td>0.449194</td>\n      <td>0.447618</td>\n      <td>0.429713</td>\n      <td>0.429713</td>\n      <td>NaN</td>\n      <td>NaN</td>\n      <td>NaN</td>\n      <td>NaN</td>\n    </tr>\n  </tbody>\n</table>\n<p>5 rows × 1871 columns</p>\n</div>"
     },
     "execution_count": 8,
     "metadata": {},
     "output_type": "execute_result"
    }
   ],
   "source": [
    "df_stst_ons.head()"
   ],
   "metadata": {
    "collapsed": false,
    "pycharm": {
     "name": "#%%\n"
    }
   }
  },
  {
   "cell_type": "code",
   "execution_count": 9,
   "outputs": [
    {
     "data": {
      "text/plain": "                                                 geometry  \\\nname                                                        \nAL0 0   POLYGON ((19.98542 39.69475, 20.01003 39.69120...   \nBE0 0   POLYGON ((3.25367 51.34858, 3.10403 51.31485, ...   \nBG0 0   POLYGON ((29.34583 42.24111, 28.32389 41.99778...   \nDE0 11  POLYGON ((8.28604 53.42089, 8.24317 53.41079, ...   \nDE0 15  MULTIPOLYGON (((8.81986 54.19861, 8.81277 54.1...   \n\n                                         coords    name  offwind-ac_mv  \\\nname                                                                     \nAL0 0   (19.04227857401803, 40.790848115835146)   AL0 0     126.148417   \nBE0 0           (2.728512798889029, 51.5008335)   BE0 0      78.122119   \nBG0 0    (29.28183834594244, 42.87333189200004)   BG0 0      95.498412   \nDE0 11     (6.336794924479278, 54.505438310008)  DE0 11      53.873868   \nDE0 15    (8.17932998604675, 54.53228697800006)  DE0 15      62.126430   \n\n        offwind-ac_gen  offwind-ac_cap  offwind-ac_cf   onwind_mv  \\\nname                                                                \nAL0 0         0.029238        0.000037       0.090705  131.075254   \nBE0 0      6139.041623        1.781974       0.393274   73.103671   \nBG0 0         0.148386        0.000096       0.176485   87.582734   \nDE0 11        0.669227        0.000210       0.364074   44.498808   \nDE0 15        0.790338        0.000282       0.319996   52.030347   \n\n          onwind_gen  onwind_cap  ...  Fischer-Tropsch_mv_con_h2_qt  \\\nname                              ...                                 \nAL0 0       0.015125    0.000045  ...                     77.368912   \nBE0 0    9140.702915    3.339024  ...                           NaN   \nBG0 0   11052.570807    8.847056  ...                           NaN   \nDE0 11  43594.793974   16.821369  ...                     85.206181   \nDE0 15  89617.262854   31.903299  ...                     90.450852   \n\n        Fischer-Tropsch_mv_con_co2_qt  process emissions_mv_con_pe_qt  \\\nname                                                                    \nAL0 0                             NaN                             NaN   \nBE0 0                             NaN                             NaN   \nBG0 0                             NaN                             NaN   \nDE0 11                            NaN                             NaN   \nDE0 15                            NaN                             NaN   \n\n        process emissions CC_mv_con_pe_qt  DAC_mv_con_co2_qt  \\\nname                                                           \nAL0 0                                 NaN                NaN   \nBE0 0                                 NaN                NaN   \nBG0 0                                 NaN                NaN   \nDE0 11                                NaN                NaN   \nDE0 15                                NaN                NaN   \n\n        DAC_mv_con_el_qt  DAC_mv_con_heat_qt  \\\nname                                           \nAL0 0          65.527532           25.439011   \nBE0 0                NaN                 NaN   \nBG0 0          68.697408           29.538885   \nDE0 11         60.492987           19.160066   \nDE0 15         64.050590           24.421675   \n\n        electricity distribution grid_mv_con_el_qt  \\\nname                                                 \nAL0 0                                          NaN   \nBE0 0                                   102.570056   \nBG0 0                                   104.376579   \nDE0 11                                   72.757860   \nDE0 15                                   81.894083   \n\n        home battery charger_mv_con_el_qt  \\\nname                                        \nAL0 0                                 NaN   \nBE0 0                                 NaN   \nBG0 0                           77.222146   \nDE0 11                          64.131981   \nDE0 15                          73.653738   \n\n        home battery discharger_mv_con_el_qt  \nname                                          \nAL0 0                                    NaN  \nBE0 0                                    NaN  \nBG0 0                              89.178247  \nDE0 11                             69.611323  \nDE0 15                             80.927485  \n\n[5 rows x 809 columns]",
      "text/html": "<div>\n<style scoped>\n    .dataframe tbody tr th:only-of-type {\n        vertical-align: middle;\n    }\n\n    .dataframe tbody tr th {\n        vertical-align: top;\n    }\n\n    .dataframe thead th {\n        text-align: right;\n    }\n</style>\n<table border=\"1\" class=\"dataframe\">\n  <thead>\n    <tr style=\"text-align: right;\">\n      <th></th>\n      <th>geometry</th>\n      <th>coords</th>\n      <th>name</th>\n      <th>offwind-ac_mv</th>\n      <th>offwind-ac_gen</th>\n      <th>offwind-ac_cap</th>\n      <th>offwind-ac_cf</th>\n      <th>onwind_mv</th>\n      <th>onwind_gen</th>\n      <th>onwind_cap</th>\n      <th>...</th>\n      <th>Fischer-Tropsch_mv_con_h2_qt</th>\n      <th>Fischer-Tropsch_mv_con_co2_qt</th>\n      <th>process emissions_mv_con_pe_qt</th>\n      <th>process emissions CC_mv_con_pe_qt</th>\n      <th>DAC_mv_con_co2_qt</th>\n      <th>DAC_mv_con_el_qt</th>\n      <th>DAC_mv_con_heat_qt</th>\n      <th>electricity distribution grid_mv_con_el_qt</th>\n      <th>home battery charger_mv_con_el_qt</th>\n      <th>home battery discharger_mv_con_el_qt</th>\n    </tr>\n    <tr>\n      <th>name</th>\n      <th></th>\n      <th></th>\n      <th></th>\n      <th></th>\n      <th></th>\n      <th></th>\n      <th></th>\n      <th></th>\n      <th></th>\n      <th></th>\n      <th></th>\n      <th></th>\n      <th></th>\n      <th></th>\n      <th></th>\n      <th></th>\n      <th></th>\n      <th></th>\n      <th></th>\n      <th></th>\n      <th></th>\n    </tr>\n  </thead>\n  <tbody>\n    <tr>\n      <th>AL0 0</th>\n      <td>POLYGON ((19.98542 39.69475, 20.01003 39.69120...</td>\n      <td>(19.04227857401803, 40.790848115835146)</td>\n      <td>AL0 0</td>\n      <td>126.148417</td>\n      <td>0.029238</td>\n      <td>0.000037</td>\n      <td>0.090705</td>\n      <td>131.075254</td>\n      <td>0.015125</td>\n      <td>0.000045</td>\n      <td>...</td>\n      <td>77.368912</td>\n      <td>NaN</td>\n      <td>NaN</td>\n      <td>NaN</td>\n      <td>NaN</td>\n      <td>65.527532</td>\n      <td>25.439011</td>\n      <td>NaN</td>\n      <td>NaN</td>\n      <td>NaN</td>\n    </tr>\n    <tr>\n      <th>BE0 0</th>\n      <td>POLYGON ((3.25367 51.34858, 3.10403 51.31485, ...</td>\n      <td>(2.728512798889029, 51.5008335)</td>\n      <td>BE0 0</td>\n      <td>78.122119</td>\n      <td>6139.041623</td>\n      <td>1.781974</td>\n      <td>0.393274</td>\n      <td>73.103671</td>\n      <td>9140.702915</td>\n      <td>3.339024</td>\n      <td>...</td>\n      <td>NaN</td>\n      <td>NaN</td>\n      <td>NaN</td>\n      <td>NaN</td>\n      <td>NaN</td>\n      <td>NaN</td>\n      <td>NaN</td>\n      <td>102.570056</td>\n      <td>NaN</td>\n      <td>NaN</td>\n    </tr>\n    <tr>\n      <th>BG0 0</th>\n      <td>POLYGON ((29.34583 42.24111, 28.32389 41.99778...</td>\n      <td>(29.28183834594244, 42.87333189200004)</td>\n      <td>BG0 0</td>\n      <td>95.498412</td>\n      <td>0.148386</td>\n      <td>0.000096</td>\n      <td>0.176485</td>\n      <td>87.582734</td>\n      <td>11052.570807</td>\n      <td>8.847056</td>\n      <td>...</td>\n      <td>NaN</td>\n      <td>NaN</td>\n      <td>NaN</td>\n      <td>NaN</td>\n      <td>NaN</td>\n      <td>68.697408</td>\n      <td>29.538885</td>\n      <td>104.376579</td>\n      <td>77.222146</td>\n      <td>89.178247</td>\n    </tr>\n    <tr>\n      <th>DE0 11</th>\n      <td>POLYGON ((8.28604 53.42089, 8.24317 53.41079, ...</td>\n      <td>(6.336794924479278, 54.505438310008)</td>\n      <td>DE0 11</td>\n      <td>53.873868</td>\n      <td>0.669227</td>\n      <td>0.000210</td>\n      <td>0.364074</td>\n      <td>44.498808</td>\n      <td>43594.793974</td>\n      <td>16.821369</td>\n      <td>...</td>\n      <td>85.206181</td>\n      <td>NaN</td>\n      <td>NaN</td>\n      <td>NaN</td>\n      <td>NaN</td>\n      <td>60.492987</td>\n      <td>19.160066</td>\n      <td>72.757860</td>\n      <td>64.131981</td>\n      <td>69.611323</td>\n    </tr>\n    <tr>\n      <th>DE0 15</th>\n      <td>MULTIPOLYGON (((8.81986 54.19861, 8.81277 54.1...</td>\n      <td>(8.17932998604675, 54.53228697800006)</td>\n      <td>DE0 15</td>\n      <td>62.126430</td>\n      <td>0.790338</td>\n      <td>0.000282</td>\n      <td>0.319996</td>\n      <td>52.030347</td>\n      <td>89617.262854</td>\n      <td>31.903299</td>\n      <td>...</td>\n      <td>90.450852</td>\n      <td>NaN</td>\n      <td>NaN</td>\n      <td>NaN</td>\n      <td>NaN</td>\n      <td>64.050590</td>\n      <td>24.421675</td>\n      <td>81.894083</td>\n      <td>73.653738</td>\n      <td>80.927485</td>\n    </tr>\n  </tbody>\n</table>\n<p>5 rows × 809 columns</p>\n</div>"
     },
     "execution_count": 9,
     "metadata": {},
     "output_type": "execute_result"
    }
   ],
   "source": [
    "df_stst_off.head()"
   ],
   "metadata": {
    "collapsed": false,
    "pycharm": {
     "name": "#%%\n"
    }
   }
  },
  {
   "cell_type": "code",
   "execution_count": 10,
   "outputs": [
    {
     "data": {
      "text/plain": "                                                geometry  \\\nname                                                       \nAL0 0  POLYGON ((20.32207 39.91318, 20.39703 39.81809...   \nAT0 0  POLYGON ((16.45660 47.41184, 16.43396 47.39685...   \nAT0 1  POLYGON ((10.08288 47.35907, 10.20928 47.37248...   \nAT0 2  POLYGON ((13.47802 46.56357, 13.23111 46.55217...   \nBA0 0  POLYGON ((17.82716 42.85312, 17.81176 42.90986...   \n\n                                         coords   name  offwind-ac_mv  \\\nname                                                                    \nAL0 0    (20.00648437943388, 41.14563914300007)  AL0 0     106.977597   \nAT0 0  (15.700718667666258, 47.896990619088925)  AT0 0            NaN   \nAT0 1   (10.379200993764837, 47.18231496200006)  AT0 1            NaN   \nAT0 2   (13.805469952867842, 47.57283376100011)  AT0 2            NaN   \nBA0 0    (17.97055162265331, 43.88773569750005)  BA0 0            NaN   \n\n       offwind-ac_gen  offwind-ac_cap  offwind-ac_cf   onwind_mv  onwind_gen  \\\nname                                                                           \nAL0 0        0.016331        0.000021       0.087899  106.502516    0.016423   \nAT0 0             NaN             NaN            NaN   79.253841    0.567355   \nAT0 1             NaN             NaN            NaN   55.398932    0.000326   \nAT0 2             NaN             NaN            NaN   76.058289    0.012936   \nBA0 0             NaN             NaN            NaN   92.921744    0.010620   \n\n       onwind_cap  ...  electricity distribution grid_ur_mean  \\\nname               ...                                          \nAL0 0    0.000043  ...                               0.637399   \nAT0 0    0.000448  ...                               0.783561   \nAT0 1    0.000008  ...                               0.762499   \nAT0 2    0.000033  ...                               0.792735   \nBA0 0    0.000038  ...                               0.724753   \n\n       electricity distribution grid_ur  home battery charger_ur_mean  \\\nname                                                                    \nAL0 0                          0.509638                      0.495306   \nAT0 0                          0.783561                      0.477441   \nAT0 1                          0.762072                      0.421303   \nAT0 2                          0.792735                      0.498795   \nBA0 0                          0.709851                      0.507094   \n\n       home battery charger_ur  home battery discharger_ur_mean  \\\nname                                                              \nAL0 0                 0.493596                         0.474148   \nAT0 0                 0.475798                         0.457326   \nAT0 1                 0.419260                         0.403554   \nAT0 2                 0.497374                         0.478063   \nBA0 0                 0.505647                         0.485725   \n\n       home battery discharger_ur  hydro_ur_mean  hydro_ur  PHS_ur_mean  \\\nname                                                                      \nAL0 0                    0.473852            NaN       NaN          NaN   \nAT0 0                    0.456767       0.532048  0.383553          NaN   \nAT0 1                    0.402489       0.504497  0.383557     0.070841   \nAT0 2                    0.477479       0.474170  0.383558     0.242249   \nBA0 0                    0.485421            NaN       NaN          NaN   \n\n         PHS_ur  \nname             \nAL0 0       NaN  \nAT0 0       NaN  \nAT0 1  0.067639  \nAT0 2  0.197699  \nBA0 0       NaN  \n\n[5 rows x 1921 columns]",
      "text/html": "<div>\n<style scoped>\n    .dataframe tbody tr th:only-of-type {\n        vertical-align: middle;\n    }\n\n    .dataframe tbody tr th {\n        vertical-align: top;\n    }\n\n    .dataframe thead th {\n        text-align: right;\n    }\n</style>\n<table border=\"1\" class=\"dataframe\">\n  <thead>\n    <tr style=\"text-align: right;\">\n      <th></th>\n      <th>geometry</th>\n      <th>coords</th>\n      <th>name</th>\n      <th>offwind-ac_mv</th>\n      <th>offwind-ac_gen</th>\n      <th>offwind-ac_cap</th>\n      <th>offwind-ac_cf</th>\n      <th>onwind_mv</th>\n      <th>onwind_gen</th>\n      <th>onwind_cap</th>\n      <th>...</th>\n      <th>electricity distribution grid_ur_mean</th>\n      <th>electricity distribution grid_ur</th>\n      <th>home battery charger_ur_mean</th>\n      <th>home battery charger_ur</th>\n      <th>home battery discharger_ur_mean</th>\n      <th>home battery discharger_ur</th>\n      <th>hydro_ur_mean</th>\n      <th>hydro_ur</th>\n      <th>PHS_ur_mean</th>\n      <th>PHS_ur</th>\n    </tr>\n    <tr>\n      <th>name</th>\n      <th></th>\n      <th></th>\n      <th></th>\n      <th></th>\n      <th></th>\n      <th></th>\n      <th></th>\n      <th></th>\n      <th></th>\n      <th></th>\n      <th></th>\n      <th></th>\n      <th></th>\n      <th></th>\n      <th></th>\n      <th></th>\n      <th></th>\n      <th></th>\n      <th></th>\n      <th></th>\n      <th></th>\n    </tr>\n  </thead>\n  <tbody>\n    <tr>\n      <th>AL0 0</th>\n      <td>POLYGON ((20.32207 39.91318, 20.39703 39.81809...</td>\n      <td>(20.00648437943388, 41.14563914300007)</td>\n      <td>AL0 0</td>\n      <td>106.977597</td>\n      <td>0.016331</td>\n      <td>0.000021</td>\n      <td>0.087899</td>\n      <td>106.502516</td>\n      <td>0.016423</td>\n      <td>0.000043</td>\n      <td>...</td>\n      <td>0.637399</td>\n      <td>0.509638</td>\n      <td>0.495306</td>\n      <td>0.493596</td>\n      <td>0.474148</td>\n      <td>0.473852</td>\n      <td>NaN</td>\n      <td>NaN</td>\n      <td>NaN</td>\n      <td>NaN</td>\n    </tr>\n    <tr>\n      <th>AT0 0</th>\n      <td>POLYGON ((16.45660 47.41184, 16.43396 47.39685...</td>\n      <td>(15.700718667666258, 47.896990619088925)</td>\n      <td>AT0 0</td>\n      <td>NaN</td>\n      <td>NaN</td>\n      <td>NaN</td>\n      <td>NaN</td>\n      <td>79.253841</td>\n      <td>0.567355</td>\n      <td>0.000448</td>\n      <td>...</td>\n      <td>0.783561</td>\n      <td>0.783561</td>\n      <td>0.477441</td>\n      <td>0.475798</td>\n      <td>0.457326</td>\n      <td>0.456767</td>\n      <td>0.532048</td>\n      <td>0.383553</td>\n      <td>NaN</td>\n      <td>NaN</td>\n    </tr>\n    <tr>\n      <th>AT0 1</th>\n      <td>POLYGON ((10.08288 47.35907, 10.20928 47.37248...</td>\n      <td>(10.379200993764837, 47.18231496200006)</td>\n      <td>AT0 1</td>\n      <td>NaN</td>\n      <td>NaN</td>\n      <td>NaN</td>\n      <td>NaN</td>\n      <td>55.398932</td>\n      <td>0.000326</td>\n      <td>0.000008</td>\n      <td>...</td>\n      <td>0.762499</td>\n      <td>0.762072</td>\n      <td>0.421303</td>\n      <td>0.419260</td>\n      <td>0.403554</td>\n      <td>0.402489</td>\n      <td>0.504497</td>\n      <td>0.383557</td>\n      <td>0.070841</td>\n      <td>0.067639</td>\n    </tr>\n    <tr>\n      <th>AT0 2</th>\n      <td>POLYGON ((13.47802 46.56357, 13.23111 46.55217...</td>\n      <td>(13.805469952867842, 47.57283376100011)</td>\n      <td>AT0 2</td>\n      <td>NaN</td>\n      <td>NaN</td>\n      <td>NaN</td>\n      <td>NaN</td>\n      <td>76.058289</td>\n      <td>0.012936</td>\n      <td>0.000033</td>\n      <td>...</td>\n      <td>0.792735</td>\n      <td>0.792735</td>\n      <td>0.498795</td>\n      <td>0.497374</td>\n      <td>0.478063</td>\n      <td>0.477479</td>\n      <td>0.474170</td>\n      <td>0.383558</td>\n      <td>0.242249</td>\n      <td>0.197699</td>\n    </tr>\n    <tr>\n      <th>BA0 0</th>\n      <td>POLYGON ((17.82716 42.85312, 17.81176 42.90986...</td>\n      <td>(17.97055162265331, 43.88773569750005)</td>\n      <td>BA0 0</td>\n      <td>NaN</td>\n      <td>NaN</td>\n      <td>NaN</td>\n      <td>NaN</td>\n      <td>92.921744</td>\n      <td>0.010620</td>\n      <td>0.000038</td>\n      <td>...</td>\n      <td>0.724753</td>\n      <td>0.709851</td>\n      <td>0.507094</td>\n      <td>0.505647</td>\n      <td>0.485725</td>\n      <td>0.485421</td>\n      <td>NaN</td>\n      <td>NaN</td>\n      <td>NaN</td>\n      <td>NaN</td>\n    </tr>\n  </tbody>\n</table>\n<p>5 rows × 1921 columns</p>\n</div>"
     },
     "execution_count": 10,
     "metadata": {},
     "output_type": "execute_result"
    }
   ],
   "source": [
    "df_exp_ons.head()"
   ],
   "metadata": {
    "collapsed": false,
    "pycharm": {
     "name": "#%%\n"
    }
   }
  },
  {
   "cell_type": "code",
   "execution_count": 11,
   "outputs": [
    {
     "data": {
      "text/plain": "                                                 geometry  \\\nname                                                        \nAL0 0   POLYGON ((19.98542 39.69475, 20.01003 39.69120...   \nBE0 0   POLYGON ((3.25367 51.34858, 3.10403 51.31485, ...   \nBG0 0   POLYGON ((29.34583 42.24111, 28.32389 41.99778...   \nDE0 11  POLYGON ((8.28604 53.42089, 8.24317 53.41079, ...   \nDE0 15  MULTIPOLYGON (((8.81986 54.19861, 8.81277 54.1...   \n\n                                         coords    name  offwind-ac_mv  \\\nname                                                                     \nAL0 0   (19.04227857401803, 40.790848115835146)   AL0 0     106.977597   \nBE0 0           (2.728512798889029, 51.5008335)   BE0 0      56.352353   \nBG0 0    (29.28183834594244, 42.87333189200004)   BG0 0      94.568790   \nDE0 11     (6.336794924479278, 54.505438310008)  DE0 11      51.455031   \nDE0 15    (8.17932998604675, 54.53228697800006)  DE0 15      60.568652   \n\n        offwind-ac_gen  offwind-ac_cap  offwind-ac_cf   onwind_mv  \\\nname                                                                \nAL0 0         0.016331        0.000021       0.087899  106.502516   \nBE0 0      6343.446483        1.781972       0.406369   52.212890   \nBG0 0         0.100601        0.000064       0.178239   85.769797   \nDE0 11     8441.804726        2.216633       0.434748   47.257302   \nDE0 15        0.306136        0.000113       0.308317   50.245283   \n\n          onwind_gen  onwind_cap  ...  Fischer-Tropsch_mv_con_h2_qt  \\\nname                              ...                                 \nAL0 0       0.016423    0.000043  ...                     84.766504   \nBE0 0    9585.550789    3.339025  ...                     85.820144   \nBG0 0       8.556417    0.006758  ...                     84.234526   \nDE0 11  45018.091917   16.821408  ...                     85.775631   \nDE0 15  89980.590188   31.903305  ...                     85.894441   \n\n        Fischer-Tropsch_mv_con_co2_qt  process emissions_mv_con_pe_qt  \\\nname                                                                    \nAL0 0                             NaN                             NaN   \nBE0 0                             NaN                             NaN   \nBG0 0                             NaN                             NaN   \nDE0 11                            NaN                             NaN   \nDE0 15                            NaN                             NaN   \n\n        process emissions CC_mv_con_pe_qt  DAC_mv_con_co2_qt  \\\nname                                                           \nAL0 0                                 NaN                NaN   \nBE0 0                                 NaN                NaN   \nBG0 0                                 NaN                NaN   \nDE0 11                                NaN                NaN   \nDE0 15                                NaN                NaN   \n\n        DAC_mv_con_el_qt  DAC_mv_con_heat_qt  \\\nname                                           \nAL0 0          63.016600           29.635572   \nBE0 0          59.826068           30.698091   \nBG0 0          63.840659           31.105908   \nDE0 11         56.850463           31.887282   \nDE0 15         58.959474           31.528490   \n\n        electricity distribution grid_mv_con_el_qt  \\\nname                                                 \nAL0 0                                          NaN   \nBE0 0                                    76.869220   \nBG0 0                                    85.731845   \nDE0 11                                   71.917315   \nDE0 15                                   74.722476   \n\n        home battery charger_mv_con_el_qt  \\\nname                                        \nAL0 0                           70.189710   \nBE0 0                                 NaN   \nBG0 0                           70.062562   \nDE0 11                          64.423023   \nDE0 15                                NaN   \n\n        home battery discharger_mv_con_el_qt  \nname                                          \nAL0 0                              75.532580  \nBE0 0                                    NaN  \nBG0 0                              75.908383  \nDE0 11                             66.613677  \nDE0 15                                   NaN  \n\n[5 rows x 829 columns]",
      "text/html": "<div>\n<style scoped>\n    .dataframe tbody tr th:only-of-type {\n        vertical-align: middle;\n    }\n\n    .dataframe tbody tr th {\n        vertical-align: top;\n    }\n\n    .dataframe thead th {\n        text-align: right;\n    }\n</style>\n<table border=\"1\" class=\"dataframe\">\n  <thead>\n    <tr style=\"text-align: right;\">\n      <th></th>\n      <th>geometry</th>\n      <th>coords</th>\n      <th>name</th>\n      <th>offwind-ac_mv</th>\n      <th>offwind-ac_gen</th>\n      <th>offwind-ac_cap</th>\n      <th>offwind-ac_cf</th>\n      <th>onwind_mv</th>\n      <th>onwind_gen</th>\n      <th>onwind_cap</th>\n      <th>...</th>\n      <th>Fischer-Tropsch_mv_con_h2_qt</th>\n      <th>Fischer-Tropsch_mv_con_co2_qt</th>\n      <th>process emissions_mv_con_pe_qt</th>\n      <th>process emissions CC_mv_con_pe_qt</th>\n      <th>DAC_mv_con_co2_qt</th>\n      <th>DAC_mv_con_el_qt</th>\n      <th>DAC_mv_con_heat_qt</th>\n      <th>electricity distribution grid_mv_con_el_qt</th>\n      <th>home battery charger_mv_con_el_qt</th>\n      <th>home battery discharger_mv_con_el_qt</th>\n    </tr>\n    <tr>\n      <th>name</th>\n      <th></th>\n      <th></th>\n      <th></th>\n      <th></th>\n      <th></th>\n      <th></th>\n      <th></th>\n      <th></th>\n      <th></th>\n      <th></th>\n      <th></th>\n      <th></th>\n      <th></th>\n      <th></th>\n      <th></th>\n      <th></th>\n      <th></th>\n      <th></th>\n      <th></th>\n      <th></th>\n      <th></th>\n    </tr>\n  </thead>\n  <tbody>\n    <tr>\n      <th>AL0 0</th>\n      <td>POLYGON ((19.98542 39.69475, 20.01003 39.69120...</td>\n      <td>(19.04227857401803, 40.790848115835146)</td>\n      <td>AL0 0</td>\n      <td>106.977597</td>\n      <td>0.016331</td>\n      <td>0.000021</td>\n      <td>0.087899</td>\n      <td>106.502516</td>\n      <td>0.016423</td>\n      <td>0.000043</td>\n      <td>...</td>\n      <td>84.766504</td>\n      <td>NaN</td>\n      <td>NaN</td>\n      <td>NaN</td>\n      <td>NaN</td>\n      <td>63.016600</td>\n      <td>29.635572</td>\n      <td>NaN</td>\n      <td>70.189710</td>\n      <td>75.532580</td>\n    </tr>\n    <tr>\n      <th>BE0 0</th>\n      <td>POLYGON ((3.25367 51.34858, 3.10403 51.31485, ...</td>\n      <td>(2.728512798889029, 51.5008335)</td>\n      <td>BE0 0</td>\n      <td>56.352353</td>\n      <td>6343.446483</td>\n      <td>1.781972</td>\n      <td>0.406369</td>\n      <td>52.212890</td>\n      <td>9585.550789</td>\n      <td>3.339025</td>\n      <td>...</td>\n      <td>85.820144</td>\n      <td>NaN</td>\n      <td>NaN</td>\n      <td>NaN</td>\n      <td>NaN</td>\n      <td>59.826068</td>\n      <td>30.698091</td>\n      <td>76.869220</td>\n      <td>NaN</td>\n      <td>NaN</td>\n    </tr>\n    <tr>\n      <th>BG0 0</th>\n      <td>POLYGON ((29.34583 42.24111, 28.32389 41.99778...</td>\n      <td>(29.28183834594244, 42.87333189200004)</td>\n      <td>BG0 0</td>\n      <td>94.568790</td>\n      <td>0.100601</td>\n      <td>0.000064</td>\n      <td>0.178239</td>\n      <td>85.769797</td>\n      <td>8.556417</td>\n      <td>0.006758</td>\n      <td>...</td>\n      <td>84.234526</td>\n      <td>NaN</td>\n      <td>NaN</td>\n      <td>NaN</td>\n      <td>NaN</td>\n      <td>63.840659</td>\n      <td>31.105908</td>\n      <td>85.731845</td>\n      <td>70.062562</td>\n      <td>75.908383</td>\n    </tr>\n    <tr>\n      <th>DE0 11</th>\n      <td>POLYGON ((8.28604 53.42089, 8.24317 53.41079, ...</td>\n      <td>(6.336794924479278, 54.505438310008)</td>\n      <td>DE0 11</td>\n      <td>51.455031</td>\n      <td>8441.804726</td>\n      <td>2.216633</td>\n      <td>0.434748</td>\n      <td>47.257302</td>\n      <td>45018.091917</td>\n      <td>16.821408</td>\n      <td>...</td>\n      <td>85.775631</td>\n      <td>NaN</td>\n      <td>NaN</td>\n      <td>NaN</td>\n      <td>NaN</td>\n      <td>56.850463</td>\n      <td>31.887282</td>\n      <td>71.917315</td>\n      <td>64.423023</td>\n      <td>66.613677</td>\n    </tr>\n    <tr>\n      <th>DE0 15</th>\n      <td>MULTIPOLYGON (((8.81986 54.19861, 8.81277 54.1...</td>\n      <td>(8.17932998604675, 54.53228697800006)</td>\n      <td>DE0 15</td>\n      <td>60.568652</td>\n      <td>0.306136</td>\n      <td>0.000113</td>\n      <td>0.308317</td>\n      <td>50.245283</td>\n      <td>89980.590188</td>\n      <td>31.903305</td>\n      <td>...</td>\n      <td>85.894441</td>\n      <td>NaN</td>\n      <td>NaN</td>\n      <td>NaN</td>\n      <td>NaN</td>\n      <td>58.959474</td>\n      <td>31.528490</td>\n      <td>74.722476</td>\n      <td>NaN</td>\n      <td>NaN</td>\n    </tr>\n  </tbody>\n</table>\n<p>5 rows × 829 columns</p>\n</div>"
     },
     "execution_count": 11,
     "metadata": {},
     "output_type": "execute_result"
    }
   ],
   "source": [
    "df_exp_off.head()"
   ],
   "metadata": {
    "collapsed": false,
    "pycharm": {
     "name": "#%%\n"
    }
   }
  },
  {
   "cell_type": "code",
   "execution_count": 12,
   "outputs": [],
   "source": [
    "# save to pickle\n",
    "df_stst_ons.to_pickle(\"../data/processed/df_stst_ons.pkl\")\n",
    "df_stst_off.to_pickle(\"../data/processed/df_stst_off.pkl\")\n",
    "df_exp_ons.to_pickle(\"../data/processed/df_exp_ons.pkl\")\n",
    "df_exp_off.to_pickle(\"../data/processed/df_exp_off.pkl\")\n",
    "\n",
    "overall_ur_stst.to_pickle(\"../data/processed/overall_ur_stst.pkl\")\n",
    "overall_ur_exp.to_pickle(\"../data/processed/overall_ur_exp.pkl\")"
   ],
   "metadata": {
    "collapsed": false,
    "pycharm": {
     "name": "#%%\n"
    }
   }
  },
  {
   "cell_type": "code",
   "execution_count": 13,
   "outputs": [],
   "source": [
    "# verify reload\n",
    "df_stst_ons = pd.read_pickle(\"../data/processed/df_stst_ons.pkl\")\n",
    "df_stst_off = pd.read_pickle(\"../data/processed/df_stst_off.pkl\")\n",
    "df_exp_ons = pd.read_pickle(\"../data/processed/df_exp_ons.pkl\")\n",
    "df_exp_off = pd.read_pickle(\"../data/processed/df_exp_off.pkl\")"
   ],
   "metadata": {
    "collapsed": false,
    "pycharm": {
     "name": "#%%\n"
    }
   }
  },
  {
   "cell_type": "code",
   "execution_count": 14,
   "outputs": [
    {
     "data": {
      "text/plain": "name\nAL0 0    0.223455\nAT0 0    0.000058\nAT0 1    0.000043\nAT0 2    0.000102\nBA0 0    0.000078\n           ...   \nSE3 5    0.006823\nSE3 6    0.000085\nSE3 7    0.002637\nSI0 0    0.000048\nSK0 0    0.000057\nName: Fischer-Tropsch_cap_con_h2, Length: 181, dtype: float64"
     },
     "execution_count": 14,
     "metadata": {},
     "output_type": "execute_result"
    }
   ],
   "source": [
    "df_stst_ons[\"Fischer-Tropsch_cap_con_h2\"]"
   ],
   "metadata": {
    "collapsed": false,
    "pycharm": {
     "name": "#%%\n"
    }
   }
  },
  {
   "cell_type": "code",
   "execution_count": 15,
   "outputs": [
    {
     "data": {
      "text/plain": "geometry                      geometry\ncoords                          object\nname                            object\noffwind-ac_mv                  float64\noffwind-ac_gen                 float64\n                                ...   \nhome battery discharger_ur     float64\nhydro_ur_mean                  float64\nhydro_ur                       float64\nPHS_ur_mean                    float64\nPHS_ur                         float64\nLength: 1871, dtype: object"
     },
     "execution_count": 15,
     "metadata": {},
     "output_type": "execute_result"
    }
   ],
   "source": [
    "df_stst_ons.head().dtypes"
   ],
   "metadata": {
    "collapsed": false,
    "pycharm": {
     "name": "#%%\n"
    }
   }
  },
  {
   "cell_type": "code",
   "execution_count": 16,
   "outputs": [
    {
     "data": {
      "text/plain": "                                                 geometry  \\\nname                                                        \nAL0 0   POLYGON ((19.98542 39.69475, 20.01003 39.69120...   \nBE0 0   POLYGON ((3.25367 51.34858, 3.10403 51.31485, ...   \nBG0 0   POLYGON ((29.34583 42.24111, 28.32389 41.99778...   \nDE0 11  POLYGON ((8.28604 53.42089, 8.24317 53.41079, ...   \nDE0 15  MULTIPOLYGON (((8.81986 54.19861, 8.81277 54.1...   \n\n                                         coords    name  offwind-ac_mv  \\\nname                                                                     \nAL0 0   (19.04227857401803, 40.790848115835146)   AL0 0     126.148417   \nBE0 0           (2.728512798889029, 51.5008335)   BE0 0      78.122119   \nBG0 0    (29.28183834594244, 42.87333189200004)   BG0 0      95.498412   \nDE0 11     (6.336794924479278, 54.505438310008)  DE0 11      53.873868   \nDE0 15    (8.17932998604675, 54.53228697800006)  DE0 15      62.126430   \n\n        offwind-ac_gen  offwind-ac_cap  offwind-ac_cf   onwind_mv  \\\nname                                                                \nAL0 0         0.029238        0.000037       0.090705  131.075254   \nBE0 0      6139.041623        1.781974       0.393274   73.103671   \nBG0 0         0.148386        0.000096       0.176485   87.582734   \nDE0 11        0.669227        0.000210       0.364074   44.498808   \nDE0 15        0.790338        0.000282       0.319996   52.030347   \n\n          onwind_gen  onwind_cap  ...  Fischer-Tropsch_mv_con_h2_qt  \\\nname                              ...                                 \nAL0 0       0.015125    0.000045  ...                     77.368912   \nBE0 0    9140.702915    3.339024  ...                           NaN   \nBG0 0   11052.570807    8.847056  ...                           NaN   \nDE0 11  43594.793974   16.821369  ...                     85.206181   \nDE0 15  89617.262854   31.903299  ...                     90.450852   \n\n        Fischer-Tropsch_mv_con_co2_qt  process emissions_mv_con_pe_qt  \\\nname                                                                    \nAL0 0                             NaN                             NaN   \nBE0 0                             NaN                             NaN   \nBG0 0                             NaN                             NaN   \nDE0 11                            NaN                             NaN   \nDE0 15                            NaN                             NaN   \n\n        process emissions CC_mv_con_pe_qt  DAC_mv_con_co2_qt  \\\nname                                                           \nAL0 0                                 NaN                NaN   \nBE0 0                                 NaN                NaN   \nBG0 0                                 NaN                NaN   \nDE0 11                                NaN                NaN   \nDE0 15                                NaN                NaN   \n\n        DAC_mv_con_el_qt  DAC_mv_con_heat_qt  \\\nname                                           \nAL0 0          65.527532           25.439011   \nBE0 0                NaN                 NaN   \nBG0 0          68.697408           29.538885   \nDE0 11         60.492987           19.160066   \nDE0 15         64.050590           24.421675   \n\n        electricity distribution grid_mv_con_el_qt  \\\nname                                                 \nAL0 0                                          NaN   \nBE0 0                                   102.570056   \nBG0 0                                   104.376579   \nDE0 11                                   72.757860   \nDE0 15                                   81.894083   \n\n        home battery charger_mv_con_el_qt  \\\nname                                        \nAL0 0                                 NaN   \nBE0 0                                 NaN   \nBG0 0                           77.222146   \nDE0 11                          64.131981   \nDE0 15                          73.653738   \n\n        home battery discharger_mv_con_el_qt  \nname                                          \nAL0 0                                    NaN  \nBE0 0                                    NaN  \nBG0 0                              89.178247  \nDE0 11                             69.611323  \nDE0 15                             80.927485  \n\n[5 rows x 809 columns]",
      "text/html": "<div>\n<style scoped>\n    .dataframe tbody tr th:only-of-type {\n        vertical-align: middle;\n    }\n\n    .dataframe tbody tr th {\n        vertical-align: top;\n    }\n\n    .dataframe thead th {\n        text-align: right;\n    }\n</style>\n<table border=\"1\" class=\"dataframe\">\n  <thead>\n    <tr style=\"text-align: right;\">\n      <th></th>\n      <th>geometry</th>\n      <th>coords</th>\n      <th>name</th>\n      <th>offwind-ac_mv</th>\n      <th>offwind-ac_gen</th>\n      <th>offwind-ac_cap</th>\n      <th>offwind-ac_cf</th>\n      <th>onwind_mv</th>\n      <th>onwind_gen</th>\n      <th>onwind_cap</th>\n      <th>...</th>\n      <th>Fischer-Tropsch_mv_con_h2_qt</th>\n      <th>Fischer-Tropsch_mv_con_co2_qt</th>\n      <th>process emissions_mv_con_pe_qt</th>\n      <th>process emissions CC_mv_con_pe_qt</th>\n      <th>DAC_mv_con_co2_qt</th>\n      <th>DAC_mv_con_el_qt</th>\n      <th>DAC_mv_con_heat_qt</th>\n      <th>electricity distribution grid_mv_con_el_qt</th>\n      <th>home battery charger_mv_con_el_qt</th>\n      <th>home battery discharger_mv_con_el_qt</th>\n    </tr>\n    <tr>\n      <th>name</th>\n      <th></th>\n      <th></th>\n      <th></th>\n      <th></th>\n      <th></th>\n      <th></th>\n      <th></th>\n      <th></th>\n      <th></th>\n      <th></th>\n      <th></th>\n      <th></th>\n      <th></th>\n      <th></th>\n      <th></th>\n      <th></th>\n      <th></th>\n      <th></th>\n      <th></th>\n      <th></th>\n      <th></th>\n    </tr>\n  </thead>\n  <tbody>\n    <tr>\n      <th>AL0 0</th>\n      <td>POLYGON ((19.98542 39.69475, 20.01003 39.69120...</td>\n      <td>(19.04227857401803, 40.790848115835146)</td>\n      <td>AL0 0</td>\n      <td>126.148417</td>\n      <td>0.029238</td>\n      <td>0.000037</td>\n      <td>0.090705</td>\n      <td>131.075254</td>\n      <td>0.015125</td>\n      <td>0.000045</td>\n      <td>...</td>\n      <td>77.368912</td>\n      <td>NaN</td>\n      <td>NaN</td>\n      <td>NaN</td>\n      <td>NaN</td>\n      <td>65.527532</td>\n      <td>25.439011</td>\n      <td>NaN</td>\n      <td>NaN</td>\n      <td>NaN</td>\n    </tr>\n    <tr>\n      <th>BE0 0</th>\n      <td>POLYGON ((3.25367 51.34858, 3.10403 51.31485, ...</td>\n      <td>(2.728512798889029, 51.5008335)</td>\n      <td>BE0 0</td>\n      <td>78.122119</td>\n      <td>6139.041623</td>\n      <td>1.781974</td>\n      <td>0.393274</td>\n      <td>73.103671</td>\n      <td>9140.702915</td>\n      <td>3.339024</td>\n      <td>...</td>\n      <td>NaN</td>\n      <td>NaN</td>\n      <td>NaN</td>\n      <td>NaN</td>\n      <td>NaN</td>\n      <td>NaN</td>\n      <td>NaN</td>\n      <td>102.570056</td>\n      <td>NaN</td>\n      <td>NaN</td>\n    </tr>\n    <tr>\n      <th>BG0 0</th>\n      <td>POLYGON ((29.34583 42.24111, 28.32389 41.99778...</td>\n      <td>(29.28183834594244, 42.87333189200004)</td>\n      <td>BG0 0</td>\n      <td>95.498412</td>\n      <td>0.148386</td>\n      <td>0.000096</td>\n      <td>0.176485</td>\n      <td>87.582734</td>\n      <td>11052.570807</td>\n      <td>8.847056</td>\n      <td>...</td>\n      <td>NaN</td>\n      <td>NaN</td>\n      <td>NaN</td>\n      <td>NaN</td>\n      <td>NaN</td>\n      <td>68.697408</td>\n      <td>29.538885</td>\n      <td>104.376579</td>\n      <td>77.222146</td>\n      <td>89.178247</td>\n    </tr>\n    <tr>\n      <th>DE0 11</th>\n      <td>POLYGON ((8.28604 53.42089, 8.24317 53.41079, ...</td>\n      <td>(6.336794924479278, 54.505438310008)</td>\n      <td>DE0 11</td>\n      <td>53.873868</td>\n      <td>0.669227</td>\n      <td>0.000210</td>\n      <td>0.364074</td>\n      <td>44.498808</td>\n      <td>43594.793974</td>\n      <td>16.821369</td>\n      <td>...</td>\n      <td>85.206181</td>\n      <td>NaN</td>\n      <td>NaN</td>\n      <td>NaN</td>\n      <td>NaN</td>\n      <td>60.492987</td>\n      <td>19.160066</td>\n      <td>72.757860</td>\n      <td>64.131981</td>\n      <td>69.611323</td>\n    </tr>\n    <tr>\n      <th>DE0 15</th>\n      <td>MULTIPOLYGON (((8.81986 54.19861, 8.81277 54.1...</td>\n      <td>(8.17932998604675, 54.53228697800006)</td>\n      <td>DE0 15</td>\n      <td>62.126430</td>\n      <td>0.790338</td>\n      <td>0.000282</td>\n      <td>0.319996</td>\n      <td>52.030347</td>\n      <td>89617.262854</td>\n      <td>31.903299</td>\n      <td>...</td>\n      <td>90.450852</td>\n      <td>NaN</td>\n      <td>NaN</td>\n      <td>NaN</td>\n      <td>NaN</td>\n      <td>64.050590</td>\n      <td>24.421675</td>\n      <td>81.894083</td>\n      <td>73.653738</td>\n      <td>80.927485</td>\n    </tr>\n  </tbody>\n</table>\n<p>5 rows × 809 columns</p>\n</div>"
     },
     "execution_count": 16,
     "metadata": {},
     "output_type": "execute_result"
    }
   ],
   "source": [
    "df_stst_off.head()"
   ],
   "metadata": {
    "collapsed": false,
    "pycharm": {
     "name": "#%%\n"
    }
   }
  },
  {
   "cell_type": "code",
   "execution_count": 17,
   "outputs": [
    {
     "data": {
      "text/plain": "                                                geometry  \\\nname                                                       \nAL0 0  POLYGON ((20.32207 39.91318, 20.39703 39.81809...   \nAT0 0  POLYGON ((16.45660 47.41184, 16.43396 47.39685...   \nAT0 1  POLYGON ((10.08288 47.35907, 10.20928 47.37248...   \nAT0 2  POLYGON ((13.47802 46.56357, 13.23111 46.55217...   \nBA0 0  POLYGON ((17.82716 42.85312, 17.81176 42.90986...   \n\n                                         coords   name  offwind-ac_mv  \\\nname                                                                    \nAL0 0    (20.00648437943388, 41.14563914300007)  AL0 0     106.977597   \nAT0 0  (15.700718667666258, 47.896990619088925)  AT0 0            NaN   \nAT0 1   (10.379200993764837, 47.18231496200006)  AT0 1            NaN   \nAT0 2   (13.805469952867842, 47.57283376100011)  AT0 2            NaN   \nBA0 0    (17.97055162265331, 43.88773569750005)  BA0 0            NaN   \n\n       offwind-ac_gen  offwind-ac_cap  offwind-ac_cf   onwind_mv  onwind_gen  \\\nname                                                                           \nAL0 0        0.016331        0.000021       0.087899  106.502516    0.016423   \nAT0 0             NaN             NaN            NaN   79.253841    0.567355   \nAT0 1             NaN             NaN            NaN   55.398932    0.000326   \nAT0 2             NaN             NaN            NaN   76.058289    0.012936   \nBA0 0             NaN             NaN            NaN   92.921744    0.010620   \n\n       onwind_cap  ...  electricity distribution grid_ur_mean  \\\nname               ...                                          \nAL0 0    0.000043  ...                               0.637399   \nAT0 0    0.000448  ...                               0.783561   \nAT0 1    0.000008  ...                               0.762499   \nAT0 2    0.000033  ...                               0.792735   \nBA0 0    0.000038  ...                               0.724753   \n\n       electricity distribution grid_ur  home battery charger_ur_mean  \\\nname                                                                    \nAL0 0                          0.509638                      0.495306   \nAT0 0                          0.783561                      0.477441   \nAT0 1                          0.762072                      0.421303   \nAT0 2                          0.792735                      0.498795   \nBA0 0                          0.709851                      0.507094   \n\n       home battery charger_ur  home battery discharger_ur_mean  \\\nname                                                              \nAL0 0                 0.493596                         0.474148   \nAT0 0                 0.475798                         0.457326   \nAT0 1                 0.419260                         0.403554   \nAT0 2                 0.497374                         0.478063   \nBA0 0                 0.505647                         0.485725   \n\n       home battery discharger_ur  hydro_ur_mean  hydro_ur  PHS_ur_mean  \\\nname                                                                      \nAL0 0                    0.473852            NaN       NaN          NaN   \nAT0 0                    0.456767       0.532048  0.383553          NaN   \nAT0 1                    0.402489       0.504497  0.383557     0.070841   \nAT0 2                    0.477479       0.474170  0.383558     0.242249   \nBA0 0                    0.485421            NaN       NaN          NaN   \n\n         PHS_ur  \nname             \nAL0 0       NaN  \nAT0 0       NaN  \nAT0 1  0.067639  \nAT0 2  0.197699  \nBA0 0       NaN  \n\n[5 rows x 1921 columns]",
      "text/html": "<div>\n<style scoped>\n    .dataframe tbody tr th:only-of-type {\n        vertical-align: middle;\n    }\n\n    .dataframe tbody tr th {\n        vertical-align: top;\n    }\n\n    .dataframe thead th {\n        text-align: right;\n    }\n</style>\n<table border=\"1\" class=\"dataframe\">\n  <thead>\n    <tr style=\"text-align: right;\">\n      <th></th>\n      <th>geometry</th>\n      <th>coords</th>\n      <th>name</th>\n      <th>offwind-ac_mv</th>\n      <th>offwind-ac_gen</th>\n      <th>offwind-ac_cap</th>\n      <th>offwind-ac_cf</th>\n      <th>onwind_mv</th>\n      <th>onwind_gen</th>\n      <th>onwind_cap</th>\n      <th>...</th>\n      <th>electricity distribution grid_ur_mean</th>\n      <th>electricity distribution grid_ur</th>\n      <th>home battery charger_ur_mean</th>\n      <th>home battery charger_ur</th>\n      <th>home battery discharger_ur_mean</th>\n      <th>home battery discharger_ur</th>\n      <th>hydro_ur_mean</th>\n      <th>hydro_ur</th>\n      <th>PHS_ur_mean</th>\n      <th>PHS_ur</th>\n    </tr>\n    <tr>\n      <th>name</th>\n      <th></th>\n      <th></th>\n      <th></th>\n      <th></th>\n      <th></th>\n      <th></th>\n      <th></th>\n      <th></th>\n      <th></th>\n      <th></th>\n      <th></th>\n      <th></th>\n      <th></th>\n      <th></th>\n      <th></th>\n      <th></th>\n      <th></th>\n      <th></th>\n      <th></th>\n      <th></th>\n      <th></th>\n    </tr>\n  </thead>\n  <tbody>\n    <tr>\n      <th>AL0 0</th>\n      <td>POLYGON ((20.32207 39.91318, 20.39703 39.81809...</td>\n      <td>(20.00648437943388, 41.14563914300007)</td>\n      <td>AL0 0</td>\n      <td>106.977597</td>\n      <td>0.016331</td>\n      <td>0.000021</td>\n      <td>0.087899</td>\n      <td>106.502516</td>\n      <td>0.016423</td>\n      <td>0.000043</td>\n      <td>...</td>\n      <td>0.637399</td>\n      <td>0.509638</td>\n      <td>0.495306</td>\n      <td>0.493596</td>\n      <td>0.474148</td>\n      <td>0.473852</td>\n      <td>NaN</td>\n      <td>NaN</td>\n      <td>NaN</td>\n      <td>NaN</td>\n    </tr>\n    <tr>\n      <th>AT0 0</th>\n      <td>POLYGON ((16.45660 47.41184, 16.43396 47.39685...</td>\n      <td>(15.700718667666258, 47.896990619088925)</td>\n      <td>AT0 0</td>\n      <td>NaN</td>\n      <td>NaN</td>\n      <td>NaN</td>\n      <td>NaN</td>\n      <td>79.253841</td>\n      <td>0.567355</td>\n      <td>0.000448</td>\n      <td>...</td>\n      <td>0.783561</td>\n      <td>0.783561</td>\n      <td>0.477441</td>\n      <td>0.475798</td>\n      <td>0.457326</td>\n      <td>0.456767</td>\n      <td>0.532048</td>\n      <td>0.383553</td>\n      <td>NaN</td>\n      <td>NaN</td>\n    </tr>\n    <tr>\n      <th>AT0 1</th>\n      <td>POLYGON ((10.08288 47.35907, 10.20928 47.37248...</td>\n      <td>(10.379200993764837, 47.18231496200006)</td>\n      <td>AT0 1</td>\n      <td>NaN</td>\n      <td>NaN</td>\n      <td>NaN</td>\n      <td>NaN</td>\n      <td>55.398932</td>\n      <td>0.000326</td>\n      <td>0.000008</td>\n      <td>...</td>\n      <td>0.762499</td>\n      <td>0.762072</td>\n      <td>0.421303</td>\n      <td>0.419260</td>\n      <td>0.403554</td>\n      <td>0.402489</td>\n      <td>0.504497</td>\n      <td>0.383557</td>\n      <td>0.070841</td>\n      <td>0.067639</td>\n    </tr>\n    <tr>\n      <th>AT0 2</th>\n      <td>POLYGON ((13.47802 46.56357, 13.23111 46.55217...</td>\n      <td>(13.805469952867842, 47.57283376100011)</td>\n      <td>AT0 2</td>\n      <td>NaN</td>\n      <td>NaN</td>\n      <td>NaN</td>\n      <td>NaN</td>\n      <td>76.058289</td>\n      <td>0.012936</td>\n      <td>0.000033</td>\n      <td>...</td>\n      <td>0.792735</td>\n      <td>0.792735</td>\n      <td>0.498795</td>\n      <td>0.497374</td>\n      <td>0.478063</td>\n      <td>0.477479</td>\n      <td>0.474170</td>\n      <td>0.383558</td>\n      <td>0.242249</td>\n      <td>0.197699</td>\n    </tr>\n    <tr>\n      <th>BA0 0</th>\n      <td>POLYGON ((17.82716 42.85312, 17.81176 42.90986...</td>\n      <td>(17.97055162265331, 43.88773569750005)</td>\n      <td>BA0 0</td>\n      <td>NaN</td>\n      <td>NaN</td>\n      <td>NaN</td>\n      <td>NaN</td>\n      <td>92.921744</td>\n      <td>0.010620</td>\n      <td>0.000038</td>\n      <td>...</td>\n      <td>0.724753</td>\n      <td>0.709851</td>\n      <td>0.507094</td>\n      <td>0.505647</td>\n      <td>0.485725</td>\n      <td>0.485421</td>\n      <td>NaN</td>\n      <td>NaN</td>\n      <td>NaN</td>\n      <td>NaN</td>\n    </tr>\n  </tbody>\n</table>\n<p>5 rows × 1921 columns</p>\n</div>"
     },
     "execution_count": 17,
     "metadata": {},
     "output_type": "execute_result"
    }
   ],
   "source": [
    "df_exp_ons.head()"
   ],
   "metadata": {
    "collapsed": false,
    "pycharm": {
     "name": "#%%\n"
    }
   }
  },
  {
   "cell_type": "code",
   "execution_count": 18,
   "outputs": [
    {
     "data": {
      "text/plain": "                                                 geometry  \\\nname                                                        \nAL0 0   POLYGON ((19.98542 39.69475, 20.01003 39.69120...   \nBE0 0   POLYGON ((3.25367 51.34858, 3.10403 51.31485, ...   \nBG0 0   POLYGON ((29.34583 42.24111, 28.32389 41.99778...   \nDE0 11  POLYGON ((8.28604 53.42089, 8.24317 53.41079, ...   \nDE0 15  MULTIPOLYGON (((8.81986 54.19861, 8.81277 54.1...   \n\n                                         coords    name  offwind-ac_mv  \\\nname                                                                     \nAL0 0   (19.04227857401803, 40.790848115835146)   AL0 0     106.977597   \nBE0 0           (2.728512798889029, 51.5008335)   BE0 0      56.352353   \nBG0 0    (29.28183834594244, 42.87333189200004)   BG0 0      94.568790   \nDE0 11     (6.336794924479278, 54.505438310008)  DE0 11      51.455031   \nDE0 15    (8.17932998604675, 54.53228697800006)  DE0 15      60.568652   \n\n        offwind-ac_gen  offwind-ac_cap  offwind-ac_cf   onwind_mv  \\\nname                                                                \nAL0 0         0.016331        0.000021       0.087899  106.502516   \nBE0 0      6343.446483        1.781972       0.406369   52.212890   \nBG0 0         0.100601        0.000064       0.178239   85.769797   \nDE0 11     8441.804726        2.216633       0.434748   47.257302   \nDE0 15        0.306136        0.000113       0.308317   50.245283   \n\n          onwind_gen  onwind_cap  ...  Fischer-Tropsch_mv_con_h2_qt  \\\nname                              ...                                 \nAL0 0       0.016423    0.000043  ...                     84.766504   \nBE0 0    9585.550789    3.339025  ...                     85.820144   \nBG0 0       8.556417    0.006758  ...                     84.234526   \nDE0 11  45018.091917   16.821408  ...                     85.775631   \nDE0 15  89980.590188   31.903305  ...                     85.894441   \n\n        Fischer-Tropsch_mv_con_co2_qt  process emissions_mv_con_pe_qt  \\\nname                                                                    \nAL0 0                             NaN                             NaN   \nBE0 0                             NaN                             NaN   \nBG0 0                             NaN                             NaN   \nDE0 11                            NaN                             NaN   \nDE0 15                            NaN                             NaN   \n\n        process emissions CC_mv_con_pe_qt  DAC_mv_con_co2_qt  \\\nname                                                           \nAL0 0                                 NaN                NaN   \nBE0 0                                 NaN                NaN   \nBG0 0                                 NaN                NaN   \nDE0 11                                NaN                NaN   \nDE0 15                                NaN                NaN   \n\n        DAC_mv_con_el_qt  DAC_mv_con_heat_qt  \\\nname                                           \nAL0 0          63.016600           29.635572   \nBE0 0          59.826068           30.698091   \nBG0 0          63.840659           31.105908   \nDE0 11         56.850463           31.887282   \nDE0 15         58.959474           31.528490   \n\n        electricity distribution grid_mv_con_el_qt  \\\nname                                                 \nAL0 0                                          NaN   \nBE0 0                                    76.869220   \nBG0 0                                    85.731845   \nDE0 11                                   71.917315   \nDE0 15                                   74.722476   \n\n        home battery charger_mv_con_el_qt  \\\nname                                        \nAL0 0                           70.189710   \nBE0 0                                 NaN   \nBG0 0                           70.062562   \nDE0 11                          64.423023   \nDE0 15                                NaN   \n\n        home battery discharger_mv_con_el_qt  \nname                                          \nAL0 0                              75.532580  \nBE0 0                                    NaN  \nBG0 0                              75.908383  \nDE0 11                             66.613677  \nDE0 15                                   NaN  \n\n[5 rows x 829 columns]",
      "text/html": "<div>\n<style scoped>\n    .dataframe tbody tr th:only-of-type {\n        vertical-align: middle;\n    }\n\n    .dataframe tbody tr th {\n        vertical-align: top;\n    }\n\n    .dataframe thead th {\n        text-align: right;\n    }\n</style>\n<table border=\"1\" class=\"dataframe\">\n  <thead>\n    <tr style=\"text-align: right;\">\n      <th></th>\n      <th>geometry</th>\n      <th>coords</th>\n      <th>name</th>\n      <th>offwind-ac_mv</th>\n      <th>offwind-ac_gen</th>\n      <th>offwind-ac_cap</th>\n      <th>offwind-ac_cf</th>\n      <th>onwind_mv</th>\n      <th>onwind_gen</th>\n      <th>onwind_cap</th>\n      <th>...</th>\n      <th>Fischer-Tropsch_mv_con_h2_qt</th>\n      <th>Fischer-Tropsch_mv_con_co2_qt</th>\n      <th>process emissions_mv_con_pe_qt</th>\n      <th>process emissions CC_mv_con_pe_qt</th>\n      <th>DAC_mv_con_co2_qt</th>\n      <th>DAC_mv_con_el_qt</th>\n      <th>DAC_mv_con_heat_qt</th>\n      <th>electricity distribution grid_mv_con_el_qt</th>\n      <th>home battery charger_mv_con_el_qt</th>\n      <th>home battery discharger_mv_con_el_qt</th>\n    </tr>\n    <tr>\n      <th>name</th>\n      <th></th>\n      <th></th>\n      <th></th>\n      <th></th>\n      <th></th>\n      <th></th>\n      <th></th>\n      <th></th>\n      <th></th>\n      <th></th>\n      <th></th>\n      <th></th>\n      <th></th>\n      <th></th>\n      <th></th>\n      <th></th>\n      <th></th>\n      <th></th>\n      <th></th>\n      <th></th>\n      <th></th>\n    </tr>\n  </thead>\n  <tbody>\n    <tr>\n      <th>AL0 0</th>\n      <td>POLYGON ((19.98542 39.69475, 20.01003 39.69120...</td>\n      <td>(19.04227857401803, 40.790848115835146)</td>\n      <td>AL0 0</td>\n      <td>106.977597</td>\n      <td>0.016331</td>\n      <td>0.000021</td>\n      <td>0.087899</td>\n      <td>106.502516</td>\n      <td>0.016423</td>\n      <td>0.000043</td>\n      <td>...</td>\n      <td>84.766504</td>\n      <td>NaN</td>\n      <td>NaN</td>\n      <td>NaN</td>\n      <td>NaN</td>\n      <td>63.016600</td>\n      <td>29.635572</td>\n      <td>NaN</td>\n      <td>70.189710</td>\n      <td>75.532580</td>\n    </tr>\n    <tr>\n      <th>BE0 0</th>\n      <td>POLYGON ((3.25367 51.34858, 3.10403 51.31485, ...</td>\n      <td>(2.728512798889029, 51.5008335)</td>\n      <td>BE0 0</td>\n      <td>56.352353</td>\n      <td>6343.446483</td>\n      <td>1.781972</td>\n      <td>0.406369</td>\n      <td>52.212890</td>\n      <td>9585.550789</td>\n      <td>3.339025</td>\n      <td>...</td>\n      <td>85.820144</td>\n      <td>NaN</td>\n      <td>NaN</td>\n      <td>NaN</td>\n      <td>NaN</td>\n      <td>59.826068</td>\n      <td>30.698091</td>\n      <td>76.869220</td>\n      <td>NaN</td>\n      <td>NaN</td>\n    </tr>\n    <tr>\n      <th>BG0 0</th>\n      <td>POLYGON ((29.34583 42.24111, 28.32389 41.99778...</td>\n      <td>(29.28183834594244, 42.87333189200004)</td>\n      <td>BG0 0</td>\n      <td>94.568790</td>\n      <td>0.100601</td>\n      <td>0.000064</td>\n      <td>0.178239</td>\n      <td>85.769797</td>\n      <td>8.556417</td>\n      <td>0.006758</td>\n      <td>...</td>\n      <td>84.234526</td>\n      <td>NaN</td>\n      <td>NaN</td>\n      <td>NaN</td>\n      <td>NaN</td>\n      <td>63.840659</td>\n      <td>31.105908</td>\n      <td>85.731845</td>\n      <td>70.062562</td>\n      <td>75.908383</td>\n    </tr>\n    <tr>\n      <th>DE0 11</th>\n      <td>POLYGON ((8.28604 53.42089, 8.24317 53.41079, ...</td>\n      <td>(6.336794924479278, 54.505438310008)</td>\n      <td>DE0 11</td>\n      <td>51.455031</td>\n      <td>8441.804726</td>\n      <td>2.216633</td>\n      <td>0.434748</td>\n      <td>47.257302</td>\n      <td>45018.091917</td>\n      <td>16.821408</td>\n      <td>...</td>\n      <td>85.775631</td>\n      <td>NaN</td>\n      <td>NaN</td>\n      <td>NaN</td>\n      <td>NaN</td>\n      <td>56.850463</td>\n      <td>31.887282</td>\n      <td>71.917315</td>\n      <td>64.423023</td>\n      <td>66.613677</td>\n    </tr>\n    <tr>\n      <th>DE0 15</th>\n      <td>MULTIPOLYGON (((8.81986 54.19861, 8.81277 54.1...</td>\n      <td>(8.17932998604675, 54.53228697800006)</td>\n      <td>DE0 15</td>\n      <td>60.568652</td>\n      <td>0.306136</td>\n      <td>0.000113</td>\n      <td>0.308317</td>\n      <td>50.245283</td>\n      <td>89980.590188</td>\n      <td>31.903305</td>\n      <td>...</td>\n      <td>85.894441</td>\n      <td>NaN</td>\n      <td>NaN</td>\n      <td>NaN</td>\n      <td>NaN</td>\n      <td>58.959474</td>\n      <td>31.528490</td>\n      <td>74.722476</td>\n      <td>NaN</td>\n      <td>NaN</td>\n    </tr>\n  </tbody>\n</table>\n<p>5 rows × 829 columns</p>\n</div>"
     },
     "execution_count": 18,
     "metadata": {},
     "output_type": "execute_result"
    }
   ],
   "source": [
    "df_exp_off.head()"
   ],
   "metadata": {
    "collapsed": false,
    "pycharm": {
     "name": "#%%\n"
    }
   }
  },
  {
   "cell_type": "code",
   "execution_count": 19,
   "outputs": [],
   "source": [
    "all_c = exp.links.carrier.unique().tolist() + exp.generators.carrier.unique().tolist() + exp.storage_units.carrier.unique().tolist()"
   ],
   "metadata": {
    "collapsed": false,
    "pycharm": {
     "name": "#%%\n"
    }
   }
  },
  {
   "cell_type": "markdown",
   "source": [
    "## Temporal dfs"
   ],
   "metadata": {
    "collapsed": false,
    "pycharm": {
     "name": "#%% md\n"
    }
   }
  },
  {
   "cell_type": "code",
   "execution_count": 20,
   "outputs": [
    {
     "name": "stdout",
     "output_type": "stream",
     "text": [
      "H2 pipeline retrofitted is not a known carrier in PyPSA Network\n",
      "Components:\n",
      " - Bus: 3086\n",
      " - Carrier: 30\n",
      " - Generator: 1707\n",
      " - GlobalConstraint: 3\n",
      " - Line: 323\n",
      " - Link: 8375\n",
      " - Load: 2542\n",
      " - StorageUnit: 170\n",
      " - Store: 1635\n",
      "Snapshots: 2920\n",
      "H2 pipeline is not a known carrier in PyPSA Network\n",
      "Components:\n",
      " - Bus: 3086\n",
      " - Carrier: 30\n",
      " - Generator: 1707\n",
      " - GlobalConstraint: 3\n",
      " - Line: 323\n",
      " - Link: 8375\n",
      " - Load: 2542\n",
      " - StorageUnit: 170\n",
      " - Store: 1635\n",
      "Snapshots: 2920\n"
     ]
    }
   ],
   "source": [
    "# calc electricity and hydrogen generation or consumption for every time step\n",
    "\n",
    "df_stst_ts = pd.DataFrame(index=stst.generators_t.p.index)\n",
    "df_exp_ts = pd.DataFrame(index=exp.generators_t.p.index)\n",
    "\n",
    "for n, df in zip([stst, exp],[df_stst_ts, df_exp_ts]):\n",
    "    for c in all_c: #(c_el_gen_s + c_el_con_s + c_h2_gen + c_h2_con):\n",
    "\n",
    "        if c in n.generators.carrier.unique():\n",
    "            c_bus = n.generators[n.generators.carrier == c].bus.map(n.buses.carrier).unique()[0]\n",
    "            c_tag = c_tags[c_bus]\n",
    "            df[f\"{c}_gen_{c_tag}\"] = n.generators_t.p.loc[:, n.generators.carrier == c].sum(axis=1) * 3\n",
    "\n",
    "        elif c in n.links.carrier.unique():\n",
    "\n",
    "            for i, bus in enumerate(buses):\n",
    "                # check if bus exists\n",
    "                if n.links[n.links.carrier == c][bus][0] != \"\":\n",
    "                    # tag\n",
    "                    c_bus = n.links[n.links.carrier == c][bus].map(n.buses.carrier).unique()[0]\n",
    "                    c_tag = c_tags[c_bus]\n",
    "                    # check if consumption or generation\n",
    "                    gen = generation_links_bus(n, c, i)\n",
    "                    gen_tag = \"gen\" if gen.sum() > 0 else \"con\"\n",
    "                    df[f\"{c}_{gen_tag}_{c_tag}\"] = n.links_t[ps[i]].loc[:, n.links.carrier == c].sum(axis=1) * 3 * -1\n",
    "\n",
    "        elif c in n.storage_units.carrier.unique():\n",
    "            c_bus = n.storage_units[n.storage_units.carrier == c].bus.map(n.buses.carrier).unique()[0]\n",
    "            c_tag = c_tags[c_bus]\n",
    "            df[f\"{c}_gen_el\"] = n.storage_units_t.p_dispatch.loc[:, n.storage_units.carrier == c].sum(axis=1) * 3\n",
    "            df[f\"{c}_con_el\"] = n.storage_units_t.p_store.loc[:, n.storage_units.carrier == c].sum(axis=1) * 3 * -1\n",
    "\n",
    "        else:\n",
    "            print(f\"{c} is not a known carrier in {n}\")"
   ],
   "metadata": {
    "collapsed": false,
    "pycharm": {
     "name": "#%%\n"
    }
   }
  },
  {
   "cell_type": "code",
   "execution_count": 21,
   "outputs": [
    {
     "data": {
      "text/plain": "Index([], dtype='object')"
     },
     "execution_count": 21,
     "metadata": {},
     "output_type": "execute_result"
    }
   ],
   "source": [
    "df_stst_ts.columns[df_stst_ts.columns.str.contains(\"pipe\")]"
   ],
   "metadata": {
    "collapsed": false,
    "pycharm": {
     "name": "#%%\n"
    }
   }
  },
  {
   "cell_type": "code",
   "execution_count": 22,
   "outputs": [
    {
     "data": {
      "text/plain": "                        DC_gen_el     DC_con_el  OCGT_con_gas  OCGT_gen_el  \\\nsnapshot                                                                     \n2013-01-01 00:00:00 -15413.514456  15413.514456     -1.922813     0.788353   \n2013-01-01 03:00:00 -14628.309014  14628.309014     -1.926923     0.790038   \n2013-01-01 06:00:00  -5340.288110   5340.288110     -1.785961     0.732244   \n2013-01-01 09:00:00   -974.251677    974.251677     -1.533961     0.628924   \n2013-01-01 12:00:00   1246.622888  -1246.622888     -1.721517     0.705822   \n\n                     OCGT_gen_co2  H2 Electrolysis_con_el  \\\nsnapshot                                                    \n2013-01-01 00:00:00      0.384563           -2.086690e+06   \n2013-01-01 03:00:00      0.385385           -1.902045e+06   \n2013-01-01 06:00:00      0.357192           -1.845441e+06   \n2013-01-01 09:00:00      0.306792           -2.721090e+06   \n2013-01-01 12:00:00      0.344303           -2.420510e+06   \n\n                     H2 Electrolysis_gen_h2  H2 Fuel Cell_con_h2  \\\nsnapshot                                                           \n2013-01-01 00:00:00            1.418949e+06            -5.311388   \n2013-01-01 03:00:00            1.293391e+06            -5.809048   \n2013-01-01 06:00:00            1.254900e+06            -5.446287   \n2013-01-01 09:00:00            1.850341e+06            -4.202362   \n2013-01-01 12:00:00            1.645946e+06            -5.092028   \n\n                     H2 Fuel Cell_gen_el  H2 Fuel Cell_gen_heat  ...  \\\nsnapshot                                                         ...   \n2013-01-01 00:00:00             2.655694               2.390125  ...   \n2013-01-01 03:00:00             2.904524               2.614072  ...   \n2013-01-01 06:00:00             2.723144               2.450829  ...   \n2013-01-01 09:00:00             2.101181               1.891063  ...   \n2013-01-01 12:00:00             2.546014               2.291413  ...   \n\n                     services rural solar thermal_gen_heat  \\\nsnapshot                                                     \n2013-01-01 00:00:00                               0.000000   \n2013-01-01 03:00:00                               0.000000   \n2013-01-01 06:00:00                               0.009103   \n2013-01-01 09:00:00                               1.682854   \n2013-01-01 12:00:00                               2.289670   \n\n                     residential urban decentral solar thermal_gen_heat  \\\nsnapshot                                                                  \n2013-01-01 00:00:00                                           0.000000    \n2013-01-01 03:00:00                                           0.000000    \n2013-01-01 06:00:00                                           0.017469    \n2013-01-01 09:00:00                                           4.135595    \n2013-01-01 12:00:00                                           9.176658    \n\n                     services urban decentral solar thermal_gen_heat  \\\nsnapshot                                                               \n2013-01-01 00:00:00                                         0.000000   \n2013-01-01 03:00:00                                         0.000000   \n2013-01-01 06:00:00                                         0.016428   \n2013-01-01 09:00:00                                         3.068309   \n2013-01-01 12:00:00                                         5.489086   \n\n                     urban central solar thermal_gen_heat   oil_gen_oil  \\\nsnapshot                                                                  \n2013-01-01 00:00:00                              0.000000  10737.165572   \n2013-01-01 03:00:00                              0.000000  10735.126215   \n2013-01-01 06:00:00                            112.953017  10731.275693   \n2013-01-01 09:00:00                          19222.708845  10732.261394   \n2013-01-01 12:00:00                          24827.412763  10733.619423   \n\n                     solar rooftop_gen_el   hydro_gen_el  hydro_con_el  \\\nsnapshot                                                                 \n2013-01-01 00:00:00              0.000000   97849.222057          -0.0   \n2013-01-01 03:00:00              0.000000  103751.361869          -0.0   \n2013-01-01 06:00:00          52108.895579  107562.528411          -0.0   \n2013-01-01 09:00:00         231052.636076   73849.408429          -0.0   \n2013-01-01 12:00:00         173988.919023  128774.457728          -0.0   \n\n                       PHS_gen_el    PHS_con_el  \nsnapshot                                         \n2013-01-01 00:00:00  14940.735029 -23131.950733  \n2013-01-01 03:00:00  18019.877215 -15955.106526  \n2013-01-01 06:00:00   9736.937570 -18832.825794  \n2013-01-01 09:00:00   9118.604851 -80283.693813  \n2013-01-01 12:00:00   9244.432016 -26411.808302  \n\n[5 rows x 150 columns]",
      "text/html": "<div>\n<style scoped>\n    .dataframe tbody tr th:only-of-type {\n        vertical-align: middle;\n    }\n\n    .dataframe tbody tr th {\n        vertical-align: top;\n    }\n\n    .dataframe thead th {\n        text-align: right;\n    }\n</style>\n<table border=\"1\" class=\"dataframe\">\n  <thead>\n    <tr style=\"text-align: right;\">\n      <th></th>\n      <th>DC_gen_el</th>\n      <th>DC_con_el</th>\n      <th>OCGT_con_gas</th>\n      <th>OCGT_gen_el</th>\n      <th>OCGT_gen_co2</th>\n      <th>H2 Electrolysis_con_el</th>\n      <th>H2 Electrolysis_gen_h2</th>\n      <th>H2 Fuel Cell_con_h2</th>\n      <th>H2 Fuel Cell_gen_el</th>\n      <th>H2 Fuel Cell_gen_heat</th>\n      <th>...</th>\n      <th>services rural solar thermal_gen_heat</th>\n      <th>residential urban decentral solar thermal_gen_heat</th>\n      <th>services urban decentral solar thermal_gen_heat</th>\n      <th>urban central solar thermal_gen_heat</th>\n      <th>oil_gen_oil</th>\n      <th>solar rooftop_gen_el</th>\n      <th>hydro_gen_el</th>\n      <th>hydro_con_el</th>\n      <th>PHS_gen_el</th>\n      <th>PHS_con_el</th>\n    </tr>\n    <tr>\n      <th>snapshot</th>\n      <th></th>\n      <th></th>\n      <th></th>\n      <th></th>\n      <th></th>\n      <th></th>\n      <th></th>\n      <th></th>\n      <th></th>\n      <th></th>\n      <th></th>\n      <th></th>\n      <th></th>\n      <th></th>\n      <th></th>\n      <th></th>\n      <th></th>\n      <th></th>\n      <th></th>\n      <th></th>\n      <th></th>\n    </tr>\n  </thead>\n  <tbody>\n    <tr>\n      <th>2013-01-01 00:00:00</th>\n      <td>-15413.514456</td>\n      <td>15413.514456</td>\n      <td>-1.922813</td>\n      <td>0.788353</td>\n      <td>0.384563</td>\n      <td>-2.086690e+06</td>\n      <td>1.418949e+06</td>\n      <td>-5.311388</td>\n      <td>2.655694</td>\n      <td>2.390125</td>\n      <td>...</td>\n      <td>0.000000</td>\n      <td>0.000000</td>\n      <td>0.000000</td>\n      <td>0.000000</td>\n      <td>10737.165572</td>\n      <td>0.000000</td>\n      <td>97849.222057</td>\n      <td>-0.0</td>\n      <td>14940.735029</td>\n      <td>-23131.950733</td>\n    </tr>\n    <tr>\n      <th>2013-01-01 03:00:00</th>\n      <td>-14628.309014</td>\n      <td>14628.309014</td>\n      <td>-1.926923</td>\n      <td>0.790038</td>\n      <td>0.385385</td>\n      <td>-1.902045e+06</td>\n      <td>1.293391e+06</td>\n      <td>-5.809048</td>\n      <td>2.904524</td>\n      <td>2.614072</td>\n      <td>...</td>\n      <td>0.000000</td>\n      <td>0.000000</td>\n      <td>0.000000</td>\n      <td>0.000000</td>\n      <td>10735.126215</td>\n      <td>0.000000</td>\n      <td>103751.361869</td>\n      <td>-0.0</td>\n      <td>18019.877215</td>\n      <td>-15955.106526</td>\n    </tr>\n    <tr>\n      <th>2013-01-01 06:00:00</th>\n      <td>-5340.288110</td>\n      <td>5340.288110</td>\n      <td>-1.785961</td>\n      <td>0.732244</td>\n      <td>0.357192</td>\n      <td>-1.845441e+06</td>\n      <td>1.254900e+06</td>\n      <td>-5.446287</td>\n      <td>2.723144</td>\n      <td>2.450829</td>\n      <td>...</td>\n      <td>0.009103</td>\n      <td>0.017469</td>\n      <td>0.016428</td>\n      <td>112.953017</td>\n      <td>10731.275693</td>\n      <td>52108.895579</td>\n      <td>107562.528411</td>\n      <td>-0.0</td>\n      <td>9736.937570</td>\n      <td>-18832.825794</td>\n    </tr>\n    <tr>\n      <th>2013-01-01 09:00:00</th>\n      <td>-974.251677</td>\n      <td>974.251677</td>\n      <td>-1.533961</td>\n      <td>0.628924</td>\n      <td>0.306792</td>\n      <td>-2.721090e+06</td>\n      <td>1.850341e+06</td>\n      <td>-4.202362</td>\n      <td>2.101181</td>\n      <td>1.891063</td>\n      <td>...</td>\n      <td>1.682854</td>\n      <td>4.135595</td>\n      <td>3.068309</td>\n      <td>19222.708845</td>\n      <td>10732.261394</td>\n      <td>231052.636076</td>\n      <td>73849.408429</td>\n      <td>-0.0</td>\n      <td>9118.604851</td>\n      <td>-80283.693813</td>\n    </tr>\n    <tr>\n      <th>2013-01-01 12:00:00</th>\n      <td>1246.622888</td>\n      <td>-1246.622888</td>\n      <td>-1.721517</td>\n      <td>0.705822</td>\n      <td>0.344303</td>\n      <td>-2.420510e+06</td>\n      <td>1.645946e+06</td>\n      <td>-5.092028</td>\n      <td>2.546014</td>\n      <td>2.291413</td>\n      <td>...</td>\n      <td>2.289670</td>\n      <td>9.176658</td>\n      <td>5.489086</td>\n      <td>24827.412763</td>\n      <td>10733.619423</td>\n      <td>173988.919023</td>\n      <td>128774.457728</td>\n      <td>-0.0</td>\n      <td>9244.432016</td>\n      <td>-26411.808302</td>\n    </tr>\n  </tbody>\n</table>\n<p>5 rows × 150 columns</p>\n</div>"
     },
     "execution_count": 22,
     "metadata": {},
     "output_type": "execute_result"
    }
   ],
   "source": [
    "df_stst_ts.head()"
   ],
   "metadata": {
    "collapsed": false,
    "pycharm": {
     "name": "#%%\n"
    }
   }
  },
  {
   "cell_type": "code",
   "execution_count": 23,
   "outputs": [],
   "source": [
    "# save to pickle\n",
    "df_stst_ts.to_pickle(\"../data/processed/df_stst_ts.pkl\")\n",
    "df_exp_ts.to_pickle(\"../data/processed/df_exp_ts.pkl\")\n",
    "\n",
    "# verify reload\n",
    "df_stst_ts = pd.read_pickle(\"../data/processed/df_stst_ts.pkl\")\n",
    "df_exp_ts = pd.read_pickle(\"../data/processed/df_exp_ts.pkl\")"
   ],
   "metadata": {
    "collapsed": false,
    "pycharm": {
     "name": "#%%\n"
    }
   }
  },
  {
   "cell_type": "code",
   "execution_count": 24,
   "outputs": [
    {
     "data": {
      "text/plain": "                        DC_gen_el     DC_con_el  OCGT_con_gas  OCGT_gen_el  \\\nsnapshot                                                                     \n2013-01-01 00:00:00 -15413.514456  15413.514456     -1.922813     0.788353   \n2013-01-01 03:00:00 -14628.309014  14628.309014     -1.926923     0.790038   \n2013-01-01 06:00:00  -5340.288110   5340.288110     -1.785961     0.732244   \n2013-01-01 09:00:00   -974.251677    974.251677     -1.533961     0.628924   \n2013-01-01 12:00:00   1246.622888  -1246.622888     -1.721517     0.705822   \n\n                     OCGT_gen_co2  H2 Electrolysis_con_el  \\\nsnapshot                                                    \n2013-01-01 00:00:00      0.384563           -2.086690e+06   \n2013-01-01 03:00:00      0.385385           -1.902045e+06   \n2013-01-01 06:00:00      0.357192           -1.845441e+06   \n2013-01-01 09:00:00      0.306792           -2.721090e+06   \n2013-01-01 12:00:00      0.344303           -2.420510e+06   \n\n                     H2 Electrolysis_gen_h2  H2 Fuel Cell_con_h2  \\\nsnapshot                                                           \n2013-01-01 00:00:00            1.418949e+06            -5.311388   \n2013-01-01 03:00:00            1.293391e+06            -5.809048   \n2013-01-01 06:00:00            1.254900e+06            -5.446287   \n2013-01-01 09:00:00            1.850341e+06            -4.202362   \n2013-01-01 12:00:00            1.645946e+06            -5.092028   \n\n                     H2 Fuel Cell_gen_el  H2 Fuel Cell_gen_heat  ...  \\\nsnapshot                                                         ...   \n2013-01-01 00:00:00             2.655694               2.390125  ...   \n2013-01-01 03:00:00             2.904524               2.614072  ...   \n2013-01-01 06:00:00             2.723144               2.450829  ...   \n2013-01-01 09:00:00             2.101181               1.891063  ...   \n2013-01-01 12:00:00             2.546014               2.291413  ...   \n\n                     services rural solar thermal_gen_heat  \\\nsnapshot                                                     \n2013-01-01 00:00:00                               0.000000   \n2013-01-01 03:00:00                               0.000000   \n2013-01-01 06:00:00                               0.009103   \n2013-01-01 09:00:00                               1.682854   \n2013-01-01 12:00:00                               2.289670   \n\n                     residential urban decentral solar thermal_gen_heat  \\\nsnapshot                                                                  \n2013-01-01 00:00:00                                           0.000000    \n2013-01-01 03:00:00                                           0.000000    \n2013-01-01 06:00:00                                           0.017469    \n2013-01-01 09:00:00                                           4.135595    \n2013-01-01 12:00:00                                           9.176658    \n\n                     services urban decentral solar thermal_gen_heat  \\\nsnapshot                                                               \n2013-01-01 00:00:00                                         0.000000   \n2013-01-01 03:00:00                                         0.000000   \n2013-01-01 06:00:00                                         0.016428   \n2013-01-01 09:00:00                                         3.068309   \n2013-01-01 12:00:00                                         5.489086   \n\n                     urban central solar thermal_gen_heat   oil_gen_oil  \\\nsnapshot                                                                  \n2013-01-01 00:00:00                              0.000000  10737.165572   \n2013-01-01 03:00:00                              0.000000  10735.126215   \n2013-01-01 06:00:00                            112.953017  10731.275693   \n2013-01-01 09:00:00                          19222.708845  10732.261394   \n2013-01-01 12:00:00                          24827.412763  10733.619423   \n\n                     solar rooftop_gen_el   hydro_gen_el  hydro_con_el  \\\nsnapshot                                                                 \n2013-01-01 00:00:00              0.000000   97849.222057          -0.0   \n2013-01-01 03:00:00              0.000000  103751.361869          -0.0   \n2013-01-01 06:00:00          52108.895579  107562.528411          -0.0   \n2013-01-01 09:00:00         231052.636076   73849.408429          -0.0   \n2013-01-01 12:00:00         173988.919023  128774.457728          -0.0   \n\n                       PHS_gen_el    PHS_con_el  \nsnapshot                                         \n2013-01-01 00:00:00  14940.735029 -23131.950733  \n2013-01-01 03:00:00  18019.877215 -15955.106526  \n2013-01-01 06:00:00   9736.937570 -18832.825794  \n2013-01-01 09:00:00   9118.604851 -80283.693813  \n2013-01-01 12:00:00   9244.432016 -26411.808302  \n\n[5 rows x 150 columns]",
      "text/html": "<div>\n<style scoped>\n    .dataframe tbody tr th:only-of-type {\n        vertical-align: middle;\n    }\n\n    .dataframe tbody tr th {\n        vertical-align: top;\n    }\n\n    .dataframe thead th {\n        text-align: right;\n    }\n</style>\n<table border=\"1\" class=\"dataframe\">\n  <thead>\n    <tr style=\"text-align: right;\">\n      <th></th>\n      <th>DC_gen_el</th>\n      <th>DC_con_el</th>\n      <th>OCGT_con_gas</th>\n      <th>OCGT_gen_el</th>\n      <th>OCGT_gen_co2</th>\n      <th>H2 Electrolysis_con_el</th>\n      <th>H2 Electrolysis_gen_h2</th>\n      <th>H2 Fuel Cell_con_h2</th>\n      <th>H2 Fuel Cell_gen_el</th>\n      <th>H2 Fuel Cell_gen_heat</th>\n      <th>...</th>\n      <th>services rural solar thermal_gen_heat</th>\n      <th>residential urban decentral solar thermal_gen_heat</th>\n      <th>services urban decentral solar thermal_gen_heat</th>\n      <th>urban central solar thermal_gen_heat</th>\n      <th>oil_gen_oil</th>\n      <th>solar rooftop_gen_el</th>\n      <th>hydro_gen_el</th>\n      <th>hydro_con_el</th>\n      <th>PHS_gen_el</th>\n      <th>PHS_con_el</th>\n    </tr>\n    <tr>\n      <th>snapshot</th>\n      <th></th>\n      <th></th>\n      <th></th>\n      <th></th>\n      <th></th>\n      <th></th>\n      <th></th>\n      <th></th>\n      <th></th>\n      <th></th>\n      <th></th>\n      <th></th>\n      <th></th>\n      <th></th>\n      <th></th>\n      <th></th>\n      <th></th>\n      <th></th>\n      <th></th>\n      <th></th>\n      <th></th>\n    </tr>\n  </thead>\n  <tbody>\n    <tr>\n      <th>2013-01-01 00:00:00</th>\n      <td>-15413.514456</td>\n      <td>15413.514456</td>\n      <td>-1.922813</td>\n      <td>0.788353</td>\n      <td>0.384563</td>\n      <td>-2.086690e+06</td>\n      <td>1.418949e+06</td>\n      <td>-5.311388</td>\n      <td>2.655694</td>\n      <td>2.390125</td>\n      <td>...</td>\n      <td>0.000000</td>\n      <td>0.000000</td>\n      <td>0.000000</td>\n      <td>0.000000</td>\n      <td>10737.165572</td>\n      <td>0.000000</td>\n      <td>97849.222057</td>\n      <td>-0.0</td>\n      <td>14940.735029</td>\n      <td>-23131.950733</td>\n    </tr>\n    <tr>\n      <th>2013-01-01 03:00:00</th>\n      <td>-14628.309014</td>\n      <td>14628.309014</td>\n      <td>-1.926923</td>\n      <td>0.790038</td>\n      <td>0.385385</td>\n      <td>-1.902045e+06</td>\n      <td>1.293391e+06</td>\n      <td>-5.809048</td>\n      <td>2.904524</td>\n      <td>2.614072</td>\n      <td>...</td>\n      <td>0.000000</td>\n      <td>0.000000</td>\n      <td>0.000000</td>\n      <td>0.000000</td>\n      <td>10735.126215</td>\n      <td>0.000000</td>\n      <td>103751.361869</td>\n      <td>-0.0</td>\n      <td>18019.877215</td>\n      <td>-15955.106526</td>\n    </tr>\n    <tr>\n      <th>2013-01-01 06:00:00</th>\n      <td>-5340.288110</td>\n      <td>5340.288110</td>\n      <td>-1.785961</td>\n      <td>0.732244</td>\n      <td>0.357192</td>\n      <td>-1.845441e+06</td>\n      <td>1.254900e+06</td>\n      <td>-5.446287</td>\n      <td>2.723144</td>\n      <td>2.450829</td>\n      <td>...</td>\n      <td>0.009103</td>\n      <td>0.017469</td>\n      <td>0.016428</td>\n      <td>112.953017</td>\n      <td>10731.275693</td>\n      <td>52108.895579</td>\n      <td>107562.528411</td>\n      <td>-0.0</td>\n      <td>9736.937570</td>\n      <td>-18832.825794</td>\n    </tr>\n    <tr>\n      <th>2013-01-01 09:00:00</th>\n      <td>-974.251677</td>\n      <td>974.251677</td>\n      <td>-1.533961</td>\n      <td>0.628924</td>\n      <td>0.306792</td>\n      <td>-2.721090e+06</td>\n      <td>1.850341e+06</td>\n      <td>-4.202362</td>\n      <td>2.101181</td>\n      <td>1.891063</td>\n      <td>...</td>\n      <td>1.682854</td>\n      <td>4.135595</td>\n      <td>3.068309</td>\n      <td>19222.708845</td>\n      <td>10732.261394</td>\n      <td>231052.636076</td>\n      <td>73849.408429</td>\n      <td>-0.0</td>\n      <td>9118.604851</td>\n      <td>-80283.693813</td>\n    </tr>\n    <tr>\n      <th>2013-01-01 12:00:00</th>\n      <td>1246.622888</td>\n      <td>-1246.622888</td>\n      <td>-1.721517</td>\n      <td>0.705822</td>\n      <td>0.344303</td>\n      <td>-2.420510e+06</td>\n      <td>1.645946e+06</td>\n      <td>-5.092028</td>\n      <td>2.546014</td>\n      <td>2.291413</td>\n      <td>...</td>\n      <td>2.289670</td>\n      <td>9.176658</td>\n      <td>5.489086</td>\n      <td>24827.412763</td>\n      <td>10733.619423</td>\n      <td>173988.919023</td>\n      <td>128774.457728</td>\n      <td>-0.0</td>\n      <td>9244.432016</td>\n      <td>-26411.808302</td>\n    </tr>\n  </tbody>\n</table>\n<p>5 rows × 150 columns</p>\n</div>"
     },
     "execution_count": 24,
     "metadata": {},
     "output_type": "execute_result"
    }
   ],
   "source": [
    "df_stst_ts.head()"
   ],
   "metadata": {
    "collapsed": false,
    "pycharm": {
     "name": "#%%\n"
    }
   }
  },
  {
   "cell_type": "code",
   "execution_count": 25,
   "outputs": [
    {
     "data": {
      "text/plain": "                        DC_gen_el     DC_con_el  OCGT_con_gas  OCGT_gen_el  \\\nsnapshot                                                                     \n2013-01-01 00:00:00  10374.653340 -10374.653340     -1.134679     0.465218   \n2013-01-01 03:00:00   -748.171826    748.171826     -1.137832     0.466511   \n2013-01-01 06:00:00 -45965.612753  45965.612753     -1.062359     0.435567   \n2013-01-01 09:00:00  27411.534102 -27411.534102     -1.010343     0.414241   \n2013-01-01 12:00:00  -8152.687480   8152.687480     -1.047872     0.429628   \n\n                     OCGT_gen_co2  H2 Electrolysis_con_el  \\\nsnapshot                                                    \n2013-01-01 00:00:00      0.226936           -1.692677e+06   \n2013-01-01 03:00:00      0.227566           -1.518028e+06   \n2013-01-01 06:00:00      0.212472           -1.350728e+06   \n2013-01-01 09:00:00      0.202069           -2.169452e+06   \n2013-01-01 12:00:00      0.209574           -1.947604e+06   \n\n                     H2 Electrolysis_gen_h2  H2 Fuel Cell_con_h2  \\\nsnapshot                                                           \n2013-01-01 00:00:00            1.151020e+06            -9.535643   \n2013-01-01 03:00:00            1.032259e+06            -9.860513   \n2013-01-01 06:00:00            9.184951e+05            -8.912409   \n2013-01-01 09:00:00            1.475227e+06            -9.018079   \n2013-01-01 12:00:00            1.324371e+06            -7.789301   \n\n                     H2 Fuel Cell_gen_el  H2 Fuel Cell_gen_heat  ...  \\\nsnapshot                                                         ...   \n2013-01-01 00:00:00             4.767822               4.291040  ...   \n2013-01-01 03:00:00             4.930257               4.437231  ...   \n2013-01-01 06:00:00             4.456204               4.010584  ...   \n2013-01-01 09:00:00             4.509040               4.058136  ...   \n2013-01-01 12:00:00             3.894651               3.505186  ...   \n\n                     services rural solar thermal_gen_heat  \\\nsnapshot                                                     \n2013-01-01 00:00:00                               0.000000   \n2013-01-01 03:00:00                               0.000000   \n2013-01-01 06:00:00                               0.005117   \n2013-01-01 09:00:00                               1.067529   \n2013-01-01 12:00:00                               1.466930   \n\n                     residential urban decentral solar thermal_gen_heat  \\\nsnapshot                                                                  \n2013-01-01 00:00:00                                           0.000000    \n2013-01-01 03:00:00                                           0.000000    \n2013-01-01 06:00:00                                           0.008464    \n2013-01-01 09:00:00                                           1.541567    \n2013-01-01 12:00:00                                           3.217122    \n\n                     services urban decentral solar thermal_gen_heat  \\\nsnapshot                                                               \n2013-01-01 00:00:00                                         0.000000   \n2013-01-01 03:00:00                                         0.000000   \n2013-01-01 06:00:00                                         0.007792   \n2013-01-01 09:00:00                                         1.469724   \n2013-01-01 12:00:00                                         2.185254   \n\n                     urban central solar thermal_gen_heat   oil_gen_oil  \\\nsnapshot                                                                  \n2013-01-01 00:00:00                              0.000000  13420.826106   \n2013-01-01 03:00:00                              0.000000  13419.528448   \n2013-01-01 06:00:00                             40.438480  13418.054125   \n2013-01-01 09:00:00                           9490.412941  13416.012851   \n2013-01-01 12:00:00                          12071.098472  13414.875935   \n\n                     solar rooftop_gen_el  hydro_gen_el  hydro_con_el  \\\nsnapshot                                                                \n2013-01-01 00:00:00              0.000000  48763.134781          -0.0   \n2013-01-01 03:00:00              0.000000  48950.557304          -0.0   \n2013-01-01 06:00:00          45800.764386   1219.851062          -0.0   \n2013-01-01 09:00:00         197670.105823   1213.944084          -0.0   \n2013-01-01 12:00:00         152098.897781   1269.847038          -0.0   \n\n                       PHS_gen_el     PHS_con_el  \nsnapshot                                          \n2013-01-01 00:00:00   9634.161558  -18205.181652  \n2013-01-01 03:00:00  20170.145019  -14648.256479  \n2013-01-01 06:00:00   3405.800839  -47261.429923  \n2013-01-01 09:00:00     80.309716 -121841.120254  \n2013-01-01 12:00:00    406.769320  -95349.745010  \n\n[5 rows x 154 columns]",
      "text/html": "<div>\n<style scoped>\n    .dataframe tbody tr th:only-of-type {\n        vertical-align: middle;\n    }\n\n    .dataframe tbody tr th {\n        vertical-align: top;\n    }\n\n    .dataframe thead th {\n        text-align: right;\n    }\n</style>\n<table border=\"1\" class=\"dataframe\">\n  <thead>\n    <tr style=\"text-align: right;\">\n      <th></th>\n      <th>DC_gen_el</th>\n      <th>DC_con_el</th>\n      <th>OCGT_con_gas</th>\n      <th>OCGT_gen_el</th>\n      <th>OCGT_gen_co2</th>\n      <th>H2 Electrolysis_con_el</th>\n      <th>H2 Electrolysis_gen_h2</th>\n      <th>H2 Fuel Cell_con_h2</th>\n      <th>H2 Fuel Cell_gen_el</th>\n      <th>H2 Fuel Cell_gen_heat</th>\n      <th>...</th>\n      <th>services rural solar thermal_gen_heat</th>\n      <th>residential urban decentral solar thermal_gen_heat</th>\n      <th>services urban decentral solar thermal_gen_heat</th>\n      <th>urban central solar thermal_gen_heat</th>\n      <th>oil_gen_oil</th>\n      <th>solar rooftop_gen_el</th>\n      <th>hydro_gen_el</th>\n      <th>hydro_con_el</th>\n      <th>PHS_gen_el</th>\n      <th>PHS_con_el</th>\n    </tr>\n    <tr>\n      <th>snapshot</th>\n      <th></th>\n      <th></th>\n      <th></th>\n      <th></th>\n      <th></th>\n      <th></th>\n      <th></th>\n      <th></th>\n      <th></th>\n      <th></th>\n      <th></th>\n      <th></th>\n      <th></th>\n      <th></th>\n      <th></th>\n      <th></th>\n      <th></th>\n      <th></th>\n      <th></th>\n      <th></th>\n      <th></th>\n    </tr>\n  </thead>\n  <tbody>\n    <tr>\n      <th>2013-01-01 00:00:00</th>\n      <td>10374.653340</td>\n      <td>-10374.653340</td>\n      <td>-1.134679</td>\n      <td>0.465218</td>\n      <td>0.226936</td>\n      <td>-1.692677e+06</td>\n      <td>1.151020e+06</td>\n      <td>-9.535643</td>\n      <td>4.767822</td>\n      <td>4.291040</td>\n      <td>...</td>\n      <td>0.000000</td>\n      <td>0.000000</td>\n      <td>0.000000</td>\n      <td>0.000000</td>\n      <td>13420.826106</td>\n      <td>0.000000</td>\n      <td>48763.134781</td>\n      <td>-0.0</td>\n      <td>9634.161558</td>\n      <td>-18205.181652</td>\n    </tr>\n    <tr>\n      <th>2013-01-01 03:00:00</th>\n      <td>-748.171826</td>\n      <td>748.171826</td>\n      <td>-1.137832</td>\n      <td>0.466511</td>\n      <td>0.227566</td>\n      <td>-1.518028e+06</td>\n      <td>1.032259e+06</td>\n      <td>-9.860513</td>\n      <td>4.930257</td>\n      <td>4.437231</td>\n      <td>...</td>\n      <td>0.000000</td>\n      <td>0.000000</td>\n      <td>0.000000</td>\n      <td>0.000000</td>\n      <td>13419.528448</td>\n      <td>0.000000</td>\n      <td>48950.557304</td>\n      <td>-0.0</td>\n      <td>20170.145019</td>\n      <td>-14648.256479</td>\n    </tr>\n    <tr>\n      <th>2013-01-01 06:00:00</th>\n      <td>-45965.612753</td>\n      <td>45965.612753</td>\n      <td>-1.062359</td>\n      <td>0.435567</td>\n      <td>0.212472</td>\n      <td>-1.350728e+06</td>\n      <td>9.184951e+05</td>\n      <td>-8.912409</td>\n      <td>4.456204</td>\n      <td>4.010584</td>\n      <td>...</td>\n      <td>0.005117</td>\n      <td>0.008464</td>\n      <td>0.007792</td>\n      <td>40.438480</td>\n      <td>13418.054125</td>\n      <td>45800.764386</td>\n      <td>1219.851062</td>\n      <td>-0.0</td>\n      <td>3405.800839</td>\n      <td>-47261.429923</td>\n    </tr>\n    <tr>\n      <th>2013-01-01 09:00:00</th>\n      <td>27411.534102</td>\n      <td>-27411.534102</td>\n      <td>-1.010343</td>\n      <td>0.414241</td>\n      <td>0.202069</td>\n      <td>-2.169452e+06</td>\n      <td>1.475227e+06</td>\n      <td>-9.018079</td>\n      <td>4.509040</td>\n      <td>4.058136</td>\n      <td>...</td>\n      <td>1.067529</td>\n      <td>1.541567</td>\n      <td>1.469724</td>\n      <td>9490.412941</td>\n      <td>13416.012851</td>\n      <td>197670.105823</td>\n      <td>1213.944084</td>\n      <td>-0.0</td>\n      <td>80.309716</td>\n      <td>-121841.120254</td>\n    </tr>\n    <tr>\n      <th>2013-01-01 12:00:00</th>\n      <td>-8152.687480</td>\n      <td>8152.687480</td>\n      <td>-1.047872</td>\n      <td>0.429628</td>\n      <td>0.209574</td>\n      <td>-1.947604e+06</td>\n      <td>1.324371e+06</td>\n      <td>-7.789301</td>\n      <td>3.894651</td>\n      <td>3.505186</td>\n      <td>...</td>\n      <td>1.466930</td>\n      <td>3.217122</td>\n      <td>2.185254</td>\n      <td>12071.098472</td>\n      <td>13414.875935</td>\n      <td>152098.897781</td>\n      <td>1269.847038</td>\n      <td>-0.0</td>\n      <td>406.769320</td>\n      <td>-95349.745010</td>\n    </tr>\n  </tbody>\n</table>\n<p>5 rows × 154 columns</p>\n</div>"
     },
     "execution_count": 25,
     "metadata": {},
     "output_type": "execute_result"
    }
   ],
   "source": [
    "df_exp_ts.head()"
   ],
   "metadata": {
    "collapsed": false,
    "pycharm": {
     "name": "#%%\n"
    }
   }
  },
  {
   "cell_type": "code",
   "execution_count": 25,
   "outputs": [],
   "source": [],
   "metadata": {
    "collapsed": false,
    "pycharm": {
     "name": "#%%\n"
    }
   }
  }
 ],
 "metadata": {
  "kernelspec": {
   "display_name": "Python 3",
   "language": "python",
   "name": "python3"
  },
  "language_info": {
   "codemirror_mode": {
    "name": "ipython",
    "version": 2
   },
   "file_extension": ".py",
   "mimetype": "text/x-python",
   "name": "python",
   "nbconvert_exporter": "python",
   "pygments_lexer": "ipython2",
   "version": "2.7.6"
  }
 },
 "nbformat": 4,
 "nbformat_minor": 0
}