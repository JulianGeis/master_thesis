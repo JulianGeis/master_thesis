{
 "cells": [
  {
   "cell_type": "code",
   "execution_count": null,
   "metadata": {
    "pycharm": {
     "name": "#%%\n"
    }
   },
   "outputs": [],
   "source": [
    "# Plots for section 4.3 (mv and technology operation)"
   ]
  },
  {
   "cell_type": "code",
   "execution_count": null,
   "metadata": {
    "pycharm": {
     "name": "#%%\n"
    }
   },
   "outputs": [],
   "source": [
    "# TODO"
   ]
  },
  {
   "cell_type": "markdown",
   "metadata": {
    "pycharm": {
     "name": "#%% md\n"
    }
   },
   "source": [
    "## Imports"
   ]
  },
  {
   "cell_type": "code",
   "execution_count": null,
   "metadata": {
    "pycharm": {
     "name": "#%%\n"
    }
   },
   "outputs": [],
   "source": [
    "import pandas as pd\n",
    "import geopandas as gpd\n",
    "import numpy as np\n",
    "import pypsa\n",
    "import math\n",
    "import seaborn as sns\n",
    "import cartopy\n",
    "import cartopy.crs as ccrs\n",
    "import matplotlib\n",
    "import matplotlib.colors as mcolors\n",
    "import matplotlib.pyplot as plt\n",
    "import warnings\n",
    "\n",
    "warnings.filterwarnings(\"ignore\")\n",
    "from shapely.geometry import Point, LineString\n",
    "import matplotlib.patheffects as pe\n",
    "import matplotlib.colors as mcolors\n",
    "from matplotlib.lines import Line2D\n",
    "from datetime import date, datetime, time, timedelta\n",
    "\n",
    "# imported own functions\n",
    "from utils import market_values, market_values_by_time_index, nodal_balance, capacity, capacity_links, \\\n",
    "    capacity_storage_units, get_condense_sum, nodal_balance, generation, generation_links, \\\n",
    "    generation_storage_units, market_values_storage_units, market_values_links, time_stored_LIFO\n",
    "\n",
    "# imported own definitions\n",
    "from utils import carrier_colors, carrier_renaming, carrier_renaming_reverse, resistive_heater, gas_boiler, heat_pump,\\\n",
    "    water_tanks_charger, water_tanks_discharger, solar_thermal\n",
    "\n",
    "# general variables\n",
    "font1 = {'fontname': 'Calibri'}\n",
    "PLOT_DIR = 'C:/Users/Julian/Studies/Master/01 TU Berlin/3. Semester - Masterarbeit/MA Marktwerte FEE/data/plots/01_general/4.3_systems_mv'\n",
    "onshore_regions = gpd.read_file(\"../data/external/regions_onshore_elec_s_181.geojson\")\n",
    "offshore_regions = gpd.read_file(\"../data/external/regions_offshore_elec_s_181.geojson\")\n",
    "onshore_regions = onshore_regions.set_index('name')\n",
    "offshore_regions = offshore_regions.set_index('name')\n",
    "\n",
    "# Network imports\n",
    "stst = pypsa.Network(\"../data/raw/elec_s_181_lv1.0__Co2L0-3H-T-H-B-I-A-solar+p3-linemaxext10-noH2network_2030.nc\")\n",
    "exp = pypsa.Network(\"../data/raw/elec_s_181_lvopt__Co2L0-3H-T-H-B-I-A-solar+p3-linemaxext10_2030.nc\")\n",
    "\n",
    "# Notebook Definitions\n",
    "c1_groups = [resistive_heater, gas_boiler, heat_pump, water_tanks_charger, water_tanks_discharger, solar_thermal]\n",
    "c1_groups_name = [\"resistive heater\", \"gas boiler\", \"heat pump\", \"water tanks charger\", \"water tanks discharger\",\n",
    "                  \"solar thermal\"]\n",
    "markers = [\"v\", \"^\", \"<\", \">\", \"1\", \"2\", \"3\", \"4\", \"*\", \"+\", \"d\", \"o\", \"|\", \"s\", \"P\", \"p\", \"h\"]"
   ]
  },
  {
   "cell_type": "code",
   "execution_count": null,
   "metadata": {
    "pycharm": {
     "name": "#%%\n"
    }
   },
   "outputs": [],
   "source": [
    "# Notebook Functions\n",
    "\n",
    "def gini(x):\n",
    "    # (Warning: This is a concise implementation, but it is O(n**2)\n",
    "    # in time and memory, where n = len(x).  *Don't* pass in huge\n",
    "    # samples!)\n",
    "\n",
    "    # Mean absolute difference\n",
    "    mad = np.abs(np.subtract.outer(x, x)).mean()\n",
    "    # Relative mean absolute difference\n",
    "    rmad = mad/np.mean(x)\n",
    "    # Gini coefficient\n",
    "    g = 0.5 * rmad\n",
    "    return g\n"
   ]
  },
  {
   "cell_type": "code",
   "execution_count": null,
   "metadata": {
    "pycharm": {
     "name": "#%%\n"
    }
   },
   "outputs": [],
   "source": [
    "# Regions\n",
    "onshore_regions['coords'] = onshore_regions['geometry'].apply(lambda x: x.representative_point().coords[:])\n",
    "onshore_regions['coords'] = [coords[0] for coords in onshore_regions['coords']]\n",
    "onshore_regions[\"name\"] = onshore_regions.index\n",
    "offshore_regions['coords'] = offshore_regions['geometry'].apply(lambda x: x.representative_point().coords[:])\n",
    "offshore_regions['coords'] = [coords[0] for coords in offshore_regions['coords']]\n",
    "offshore_regions[\"name\"] = offshore_regions.index"
   ]
  },
  {
   "cell_type": "markdown",
   "metadata": {
    "pycharm": {
     "name": "#%% md\n"
    }
   },
   "source": [
    "## CALC"
   ]
  },
  {
   "cell_type": "code",
   "execution_count": null,
   "metadata": {
    "pycharm": {
     "name": "#%%\n"
    }
   },
   "outputs": [],
   "source": [
    "# calc market values, generation, lmps, capacity factors for generators, links and storage units\n",
    "for n in [stst, exp]:\n",
    "    df_regions_onshore = onshore_regions.copy()\n",
    "    df_regions_offshore = offshore_regions.copy()\n",
    "\n",
    "    # function for carriers in n.generators.carrier.unique() #13\n",
    "    for carrier in n.generators.carrier.unique():\n",
    "        df_regions_onshore[f\"{carrier}_mv\"] = market_values(n, carrier)\n",
    "        df_regions_offshore[f\"{carrier}_mv\"] = market_values(n, carrier)\n",
    "        # ???????generation in GWh (does this have to be multiplied by 3???????\n",
    "        df_regions_onshore[f\"{carrier}_gen\"] = generation(n, carrier) / 1000 * 3\n",
    "        df_regions_offshore[f\"{carrier}_gen\"] = generation(n, carrier) / 1000 * 3\n",
    "        # lmps\n",
    "        # capacity factors This calculation is correct? as capacity is multiplied by 2920 is the same as multiplying the generation by 3 and then dividing it by the capacity times 8760 (as cap is in MWh?)\n",
    "        df_regions_onshore[f\"{carrier}_cf\"] = generation(n, carrier) / (capacity(n, carrier) * 2920)\n",
    "        df_regions_offshore[f\"{carrier}_cf\"] = generation(n, carrier) / (capacity(n, carrier) * 2920)\n",
    "\n",
    "    # function for carriers in n.links.carrier.unique() #53\n",
    "    for carrier in n.links.carrier.unique():\n",
    "        df_regions_onshore[f\"{carrier}_mv\"] = market_values_links(n, carrier)\n",
    "        df_regions_onshore[f\"{carrier}_gen\"] = generation_links(n, carrier) / 1000 * 3\n",
    "        df_regions_onshore[f\"{carrier}_cf\"] = generation_links(n, carrier) / (capacity_links(n, carrier) * 2920)\n",
    "\n",
    "    # function for carriers in n.storage_units.carrier.unique() #2\n",
    "    for carrier in n.storage_units.carrier.unique():\n",
    "        df_regions_onshore[f\"{carrier}_mv\"] = market_values_storage_units(n, carrier)\n",
    "        df_regions_onshore[f\"{carrier}_gen\"] = generation_storage_units(n, carrier) / 1000 * 3\n",
    "        # capacity factors (both generation and consumption(loading) is considered\n",
    "        gen = abs(n.storage_units_t.p.loc[:, n.storage_units.carrier == carrier])\n",
    "        gen.columns = gen.columns.map(n.storage_units.bus)\n",
    "        gen.columns = gen.columns.map(n.buses.location)\n",
    "        df_regions_onshore[f\"{carrier}_cf\"] = gen.sum() / (capacity_storage_units(n, carrier) * 2920)\n",
    "\n",
    "    # set market values to nan where generation in corresponding region is lower than % quantile\n",
    "    qt = 0.2\n",
    "    for carrier in (n.generators.carrier.unique().tolist() +\n",
    "                    n.links.carrier.unique().tolist() +\n",
    "                    n.storage_units.carrier.unique().tolist()):\n",
    "        index = df_regions_onshore[f\"{carrier}_gen\"] <= np.nanquantile(df_regions_onshore[f\"{carrier}_gen\"], qt)\n",
    "        df_regions_onshore[f\"{carrier}_mv\"][index] = np.nan\n",
    "\n",
    "    # calc lmps at the buses (lmps that are only present for EU (e.g. oil) are nan at the moment)\n",
    "    # TODO: decide if EU lmps are used as lmp for all regions\n",
    "    for carrier_bus in n.buses.carrier.unique():\n",
    "        # index would be same names as the bus (not the location as it is in the index of\n",
    "        # df_regions_onshore so far -> map location to make sure the right lmp is set\n",
    "        locs = n.buses.location[n.buses[n.buses.carrier == carrier_bus].index]\n",
    "        lmps = n.buses_t.marginal_price[n.buses[n.buses.carrier == carrier_bus].index].mean()\n",
    "        df = pd.concat([lmps, locs], axis=1).rename(columns={0: f\"{carrier_bus}_lmp\"})\n",
    "        df.set_index(\"location\", inplace=True)\n",
    "        if df.size == 1:\n",
    "            if df.index == \"EU\":\n",
    "                df = pd.DataFrame(np.repeat(df.values, 181), index=df_regions_onshore.index,\n",
    "                                  columns=[f\"{carrier_bus}_lmp\"])\n",
    "                df_regions_onshore[f\"{carrier_bus}_lmp\"] = df[f\"{carrier_bus}_lmp\"]\n",
    "        else:\n",
    "            df_regions_onshore[f\"{carrier_bus}_lmp\"] = df[f\"{carrier_bus}_lmp\"]\n",
    "\n",
    "    if n == stst:\n",
    "        df_stst_ons = df_regions_onshore\n",
    "        df_stst_off = df_regions_offshore\n",
    "\n",
    "    if n == exp:\n",
    "        df_exp_ons = df_regions_onshore\n",
    "        df_exp_off = df_regions_offshore\n",
    "\n",
    "df_stst_ons.head()"
   ]
  },
  {
   "cell_type": "code",
   "execution_count": null,
   "metadata": {
    "pycharm": {
     "name": "#%%\n"
    }
   },
   "outputs": [],
   "source": [
    "#assert 0"
   ]
  },
  {
   "cell_type": "markdown",
   "metadata": {
    "pycharm": {
     "name": "#%% md\n"
    }
   },
   "source": [
    "## General (4.3.1)"
   ]
  },
  {
   "cell_type": "code",
   "execution_count": null,
   "metadata": {
    "pycharm": {
     "name": "#%%\n"
    }
   },
   "outputs": [],
   "source": [
    "# investigate in carriers with most generation for both networks\n",
    "# without grid (\"electricity distribution grid\", \"DC\", \"H2 pipeline\", \"H2 pipeline retrofitted\")\n",
    "# storage technologies:\n",
    "\n",
    "carriers_el_gen = [\n",
    "    \"electricity distribution grid\",\n",
    "    \"onwind\",\n",
    "    \"solar\",\n",
    "    \"BEV charger\",\n",
    "    \"offwind-dc\",\n",
    "    \"ror\",\n",
    "    \"hydro\",\n",
    "    \"solar rooftop\",\n",
    "    \"offwind-ac\",\n",
    "    \"battery charger\",\n",
    "    \"battery discharger\",\n",
    "    \"urban central solid biomass CHP CC\",\n",
    "    \"V2G\",\n",
    "    \"PHS\",\n",
    "    \"urban central gas CHP\",\n",
    "    \"urban central solid biomass CHP\",\n",
    "    \"OCGT\",\n",
    "    \"home battery charger\",\n",
    "    \"home battery discharger\",\n",
    "    \"H2 Fuel Cell\",\n",
    "    \"urban central gas CHP CC\",\n",
    "    \"DC\"\n",
    "]\n",
    "\n",
    "carriers_el_con = [\n",
    "    \"PHS\",\n",
    "    \"electricity distribution grid\",\n",
    "    \"H2 Electrolysis\",\n",
    "    \"BEV charger\",\n",
    "    \"urban central air heat pump\",\n",
    "    \"residential urban decentral air heat pump\",\n",
    "    \"residential rural ground heat pump\",\n",
    "    \"services rural ground heat pump\",\n",
    "    \"services urban decentral air heat pump\",\n",
    "    \"urban central resistive heater\",\n",
    "    \"battery charger\",\n",
    "    \"battery discharger\",\n",
    "    \"V2G\",\n",
    "    \"residential urban decentral resistive heater\",\n",
    "    \"residential rural resistive heater\",\n",
    "    \"services urban decentral resistive heater\",\n",
    "    \"services rural resistive heater\",\n",
    "    \"home battery charger\",\n",
    "    \"home battery discharger\",\n",
    "    \"DC\",\n",
    "    \"DAC\",\n",
    "]\n",
    "\n",
    "carriers_h2_gen = [\n",
    "    \"H2 Electrolysis\",\n",
    "    \"SMR CC\",\n",
    "    \"SMR\"\n",
    "]\n",
    "\n",
    "carriers_h2_con = [\n",
    "    \"H2 liquefaction\",\n",
    "    \"H2 Fuel Cell\",\n",
    "    \"Sabatier\",\n",
    "    \"Fischer-Tropsch\"\n",
    "]\n",
    "\n",
    "carriers_heat_gen1 = [\n",
    "    \"urban central air heat pump\",\n",
    "    \"residential urban decentral air heat pump\",\n",
    "    \"residential rural ground heat pump\",\n",
    "    \"services rural ground heat pump\",\n",
    "    \"services urban decentral air heat pump\",\n",
    "    \"urban central gas boiler\",\n",
    "    \"urban central resistive heater\",\n",
    "    \"residential urban decentral gas boiler\",\n",
    "    \"urban central water tanks charger\",\n",
    "    \"urban central water tanks discharger\",\n",
    "    \"residential urban decentral resistive heater\",\n",
    "    \"services urban decentral gas boiler\",\n",
    "    \"urban central solar thermal\",\n",
    "    \"residential rural resistive heater\",\n",
    "    \"services urban decentral resistive heater\",\n",
    "    \"residential rural gas boiler\",\n",
    "    \"services rural resistive heater\",\n",
    "    \"services rural gas boiler\",\n",
    "    \"services rural water tanks charger\",\n",
    "    \"residential rural water tanks charger\",\n",
    "    \"services rural water tanks discharger\",\n",
    "    \"residential rural water tanks discharger\",\n",
    "    \"services urban decentral water tanks charger\",\n",
    "    \"residential urban decentral water tanks charger\",\n",
    "    \"services urban decentral water tanks discharger\",\n",
    "    \"residential urban decentral water tanks discharger\",\n",
    "    \"residential urban decentral solar thermal\",\n",
    "    \"services urban decentral solar thermal\",\n",
    "    \"residential rural solar thermal\",\n",
    "    \"services rural solar thermal\"\n",
    "]\n",
    "\n",
    "carriers_heat_gen2 = [\n",
    "    \"urban central solid biomass CHP CC\",\n",
    "    \"urban central gas CHP\",\n",
    "    \"urban central solid biomass CHP\",\n",
    "    \"H2 Fuel Cell\",\n",
    "    \"urban central gas CHP CC\",\n",
    "    \"DAC\"\n",
    "]\n",
    "\n",
    "carriers_heat_con = [\n",
    "\"urban central water tanks charger\",\n",
    "\"urban central water tanks discharger\",\n",
    "\"services rural water tanks charger\",\n",
    "\"residential rural water tanks charger\",\n",
    "\"services rural water tanks discharger\",\n",
    "\"residential rural water tanks discharger\",\n",
    "\"services urban decentral water tanks charger\",\n",
    "\"residential urban decentral water tanks charger\",\n",
    "\"services urban decentral water tanks discharger\",\n",
    "\"residential urban decentral water tanks discharger\",\n",
    "]\n",
    "\n",
    "# for gas, biomass, oil, process emission, C02 refer to excel table"
   ]
  },
  {
   "cell_type": "code",
   "execution_count": null,
   "metadata": {
    "pycharm": {
     "name": "#%%\n"
    }
   },
   "outputs": [],
   "source": [
    "n.links[n.links.carrier == \"DAC\"]"
   ]
  },
  {
   "cell_type": "code",
   "execution_count": null,
   "metadata": {
    "pycharm": {
     "name": "#%%\n"
    }
   },
   "outputs": [],
   "source": [
    "all_c = n.generators.carrier.unique().tolist() + n.links.carrier.unique().tolist() + n.storage_units.carrier.unique().tolist()\n",
    "\n",
    "# carriers not in any list:\n",
    "set(all_c).difference(carriers_el_gen + carriers_el_con + carriers_h2_gen + carriers_h2_con + carriers_heat_gen1 + carriers_heat_con)"
   ]
  },
  {
   "cell_type": "code",
   "execution_count": null,
   "metadata": {
    "pycharm": {
     "name": "#%%\n"
    }
   },
   "outputs": [],
   "source": [
    "# Check second and third output of links\n",
    "# what is with DAC?"
   ]
  },
  {
   "cell_type": "code",
   "execution_count": null,
   "metadata": {
    "pycharm": {
     "name": "#%%\n"
    }
   },
   "outputs": [],
   "source": [
    "# select carriers which make most sense\n",
    "\n",
    "# ordered according to (df_stst_ons[[c + \"_gen\" for c in c_el_gen_s]].sum() + df_exp_ons[[c + \"_gen\" for c in c_el_gen_s]].sum()).sort_values(ascending=False)\n",
    "# overall less than 50 TWh: urban central gas CHP CC, fuel cell, home battery discharger, OCGT, urban central solid bioass CHP,\n",
    "c_el_gen_s = [\n",
    "    \"onwind\",\n",
    "    \"solar\",\n",
    "    \"offwind-dc\",\n",
    "    \"hydro\",\n",
    "    \"solar rooftop\",\n",
    "    \"battery discharger\",\n",
    "    \"offwind-ac\",\n",
    "    \"ror\",\n",
    "    \"urban central gas CHP\",\n",
    "    \"urban central solid biomass CHP CC\",\n",
    "    \"V2G\",\n",
    "    \"PHS\"\n",
    "]\n",
    "\n",
    "# use urban central air heat pump as only heat pump (max generation)\n",
    "# use urban central resistive heater (max generation)\n",
    "# overall less than 50 TWh: home battery charger\n",
    "# ordered according to (df_stst_ons[[c + \"_con_el\" for c in c_el_con_s]].sum() + df_exp_ons[[c + \"_con_el\" for c in c_el_con_s]].sum()).sort_values(ascending=False)\n",
    "c_el_con_s = [\n",
    "    \"H2 Electrolysis\",\n",
    "    \"BEV charger\",\n",
    "    \"battery charger\",\n",
    "    \"urban central air heat pump\",\n",
    "    \"urban central resistive heater\",\n",
    "    \"PHS\",\n",
    "]\n",
    "\n",
    "carriers_h2_gen = [\n",
    "    \"H2 Electrolysis\",\n",
    "    \"SMR CC\",\n",
    "    \"SMR\"\n",
    "]\n",
    "\n",
    "carriers_h2_con = [\n",
    "    \"H2 liquefaction\",\n",
    "    \"H2 Fuel Cell\"\n",
    "    \"Sabatier\",\n",
    "    \"Fischer-Tropsch\"\n",
    "]\n",
    "\n",
    "# use urban central air heat pump as only heat pump (max generation)\n",
    "# use urban central resistive heater (max generation)\n",
    "# use urban central gas boiler (max generation)\n",
    "# use urban central water tanks charger (max generation)\n",
    "# use urban central solar thermal (max generation)\n",
    "\n",
    "carriers_heat_gen1 = [\n",
    "    \"urban central air heat pump\"\n",
    "    \"urban central gas boiler\"\n",
    "    \"urban central resistive heater\"\n",
    "    \"urban central water tanks discharger\"\n",
    "    \"urban central solar thermal\"\n",
    "]\n",
    "\n",
    "carriers_heat_gen2 = [\n",
    "    \"urban central solid biomass CHP CC\",\n",
    "    \"urban central gas CHP\",\n",
    "    \"urban central solid biomass CHP\",\n",
    "    \"H2 Fuel Cell\",\n",
    "    \"urban central gas CHP CC\",\n",
    "    \"DAC\"\n",
    "]\n",
    "\n",
    "carriers_heat_con = [\n",
    "\"urban central water tanks charger\",\n",
    "]\n",
    "\n",
    "# for gas, biomass, oil, process emission, C02 refer to excel table"
   ]
  },
  {
   "cell_type": "markdown",
   "metadata": {
    "pycharm": {
     "name": "#%% md\n"
    }
   },
   "source": [
    "#### MV across regions"
   ]
  },
  {
   "cell_type": "code",
   "execution_count": null,
   "metadata": {
    "pycharm": {
     "name": "#%%\n"
    }
   },
   "outputs": [],
   "source": [
    "# electricity generating technologies\n",
    "\n",
    "# boxplot propertes\n",
    "medianprops = dict(color=\"black\",linewidth=1.5)\n",
    "meanprops = {\"marker\":\"d\",\"markerfacecolor\":\"white\", \"markeredgecolor\":\"black\"}\n",
    "flierprops= {'marker': 'x', 'markersize': 5, 'markeredgecolor': 'black'}\n",
    "whiskerprops = dict(linestyle='-',linewidth=1.0, color='black')\n",
    "\n",
    "# data\n",
    "stst_el_gen = df_stst_ons[[c + \"_mv\" for c in c_el_gen_s]]\n",
    "stst_el_gen = stst_el_gen.values\n",
    "exp_el_gen = df_exp_ons[[c + \"_mv\" for c in c_el_gen_s]]\n",
    "exp_el_gen = exp_el_gen.values\n",
    "\n",
    "# Filter data using np.isnan\n",
    "mask_stst = ~np.isnan(stst_el_gen)\n",
    "filtered_stst = [d[m] for d, m in zip(stst_el_gen.T, mask_stst.T)]\n",
    "mask_exp = ~np.isnan(exp_el_gen)\n",
    "filtered_exp = [d[m] for d, m in zip(exp_el_gen.T, mask_exp.T)]\n",
    "\n",
    "ticks = [carrier_renaming.get(n, n) for n in c_el_gen_s]\n",
    "index = c_el_gen_s\n",
    "fig, ax = plt.subplots(figsize=(12, 6))\n",
    "\n",
    "stst_plot = plt.boxplot(filtered_stst,\n",
    "                        positions=np.array(np.arange(len(ticks)))*2.0-0.35,\n",
    "                        widths=0.6,\n",
    "                        patch_artist=True,\n",
    "                        showmeans=True,\n",
    "                        meanprops=meanprops,\n",
    "                        medianprops=medianprops,\n",
    "                        flierprops=flierprops,\n",
    "                        whiskerprops=whiskerprops\n",
    "                        )\n",
    "\n",
    "exp_plot = plt.boxplot(filtered_exp,\n",
    "                       positions=np.array(np.arange(len(ticks)))*2.0+0.35,\n",
    "                       widths=0.6,\n",
    "                       patch_artist=True,\n",
    "                       showmeans=True,\n",
    "                       meanprops=meanprops,\n",
    "                       medianprops=medianprops,\n",
    "                       flierprops=flierprops,\n",
    "                       whiskerprops=whiskerprops\n",
    "                       )\n",
    "\n",
    "\n",
    "for box, col in zip(stst_plot['boxes'],[carrier_colors[c] for c in index]):\n",
    "    # change outline color\n",
    "    box.set_facecolor(col)\n",
    "    box.set_linestyle('--')\n",
    "\n",
    "for box, col in zip(exp_plot['boxes'],[carrier_colors[c] for c in index]):\n",
    "    # change outline color\n",
    "    box.set_facecolor(col)\n",
    "\n",
    "# sample sizes\n",
    "for i, sample_size in enumerate(df_stst_ons[[f\"{i}_mv\" for i in index]].count()):\n",
    "    ax.annotate(sample_size, xy=(0,0),  xycoords='axes fraction',\n",
    "        xytext=((i+0.35)/len(index),1), textcoords='axes fraction', color=\"blue\")\n",
    "\n",
    "#for i, sample_size in enumerate(df_exp_ons[[f\"{i}_mv\" for i in index]].count()):\n",
    "#    ax.annotate(sample_size, xy=(0,0),  xycoords='axes fraction',\n",
    "#        xytext=((i+0.55)/len(index),1), textcoords='axes fraction', color=\"red\")\n",
    "\n",
    "# explanations\n",
    "plt.xticks(np.arange(0, len(ticks) * 2, 2), ticks)\n",
    "plt.ylabel(\"$€/MWh_{el}$\")\n",
    "plt.xticks(rotation=90)\n",
    "# plt.title(\"Market values of electricity generating technologies across the regions (STST vs. EXP)\", fontsize=16, pad=20,  **font1)\n",
    "\n",
    "# cosmetics\n",
    "ax.patch.set_facecolor('lightgrey')\n",
    "ax.patch.set_alpha(0.5)\n",
    "\n",
    "# horizontal lines\n",
    "ax.axhline(df_stst_ons[[c + \"_mv\" for c in c_el_gen_s]].mean().mean(), ls=\"--\", c='black',linewidth=0.5)\n",
    "ax.axhline(df_exp_ons[[c + \"_mv\" for c in c_el_gen_s]].mean().mean(), ls=\"-\", c='black', linewidth=0.5)\n",
    "\n",
    "# legend\n",
    "patch1 = matplotlib.patches.Patch(ls=\"--\", facecolor=\"white\", edgecolor=\"black\")\n",
    "patch2 = matplotlib.patches.Patch(ls=\"-\", facecolor=\"white\", edgecolor=\"black\")\n",
    "line1 = Line2D([0], [0], ls=\"--\", c='black', label=\"mean (STST)\", linewidth=0.5)\n",
    "line2 = Line2D([0], [0], ls=\"-\", c='black', label=\"mean (EXP)\", linewidth=0.5)\n",
    "ax.legend([patch1, patch2, line1, line2], ['STST', 'EXP', 'mean (STST)','mean (EXP)'])\n",
    "\n",
    "fig.tight_layout()\n",
    "plt.show()\n",
    "\n",
    "# fig.savefig(f\"{PLOT_DIR}/mv_el_gen_both_box.png\")"
   ]
  },
  {
   "cell_type": "code",
   "execution_count": null,
   "metadata": {
    "pycharm": {
     "name": "#%%\n"
    }
   },
   "outputs": [],
   "source": [
    "# exclude technologies with less than 50 TWh of overall generation in both scenarios:\n",
    "stst_car = df_stst_ons[[c + \"_gen\" for c in carriers_el_gen]].sum()[df_stst_ons[[c + \"_gen\" for c in carriers_el_gen]].sum() < 50*1e3].index\n",
    "exp_car   = df_exp_ons[[c + \"_gen\" for c in carriers_el_gen]].sum()[df_exp_ons[[c + \"_gen\" for c in carriers_el_gen]].sum() < 50*1e3].index\n",
    "set(stst_car).intersection(exp_car)"
   ]
  },
  {
   "cell_type": "code",
   "execution_count": null,
   "metadata": {
    "pycharm": {
     "name": "#%%\n"
    }
   },
   "outputs": [],
   "source": [
    "# Further investigation:\n",
    "\n",
    "df_stst_ons[[c + \"_mv\" for c in c_el_gen_s]].mean().mean()\n",
    "df_exp_ons[[c + \"_mv\" for c in c_el_gen_s]].mean().mean()\n",
    "\n",
    "df_stst_ons[[c + \"_mv\" for c in c_el_gen_s]].mean() - df_exp_ons[[c + \"_mv\" for c in c_el_gen_s]].mean()\n",
    "(df_stst_ons[[c + \"_mv\" for c in c_el_gen_s]].mean() - df_exp_ons[[c + \"_mv\" for c in c_el_gen_s]].mean()) / df_stst_ons[[c + \"_mv\" for c in c_el_gen_s]].mean()\n",
    "\n",
    "(df_stst_ons[[c + \"_mv\" for c in c_el_gen_s]].describe().loc[\"75%\"] - df_stst_ons[[c + \"_mv\" for c in c_el_gen_s]].describe().loc[\"25%\"]) - (df_exp_ons[[c + \"_mv\" for c in c_el_gen_s]].describe().loc[\"75%\"] - df_exp_ons[[c + \"_mv\" for c in c_el_gen_s]].describe().loc[\"25%\"])\n",
    "\n",
    "(df_stst_ons[[c + \"_mv\" for c in c_el_gen_s]].describe().loc[\"std\"] - df_exp_ons[[c + \"_mv\" for c in c_el_gen_s]].describe().loc[\"std\"])\n",
    "\n",
    "df_stst_ons[[c + \"_mv\" for c in c_el_gen_s]].mean().sort_values()\n",
    "df_exp_ons[[c + \"_mv\" for c in c_el_gen_s]].mean().sort_values()"
   ]
  },
  {
   "cell_type": "code",
   "execution_count": null,
   "metadata": {
    "pycharm": {
     "name": "#%%\n"
    }
   },
   "outputs": [],
   "source": [
    "# electricity consuming technologies\n",
    "c_el_con_s"
   ]
  },
  {
   "cell_type": "code",
   "execution_count": null,
   "metadata": {
    "pycharm": {
     "name": "#%%\n"
    }
   },
   "outputs": [],
   "source": [
    "# consumed electric energy and prices payed\n",
    "# AC and low voltage are the main buses for electricity (why the difference?) Investigate in differences in lmps?\n",
    "\n",
    "for n , df in zip([stst, exp], [df_stst_ons, df_exp_ons]):\n",
    "\n",
    "    for c in c_el_con_s:\n",
    "\n",
    "        # links\n",
    "        if c in n.links.carrier.unique().tolist():\n",
    "            # check if bus 0 is AC or low voltage bus\n",
    "            if n.links[n.links.carrier == c].bus0.map(n.buses.carrier).unique() in [\"AC\", \"low voltage\"]:\n",
    "\n",
    "                # consumption of link at bus 0\n",
    "                con = n.links_t.p0.loc[:, n.links.carrier == c]\n",
    "                con.columns = con.columns.map(n.links.bus0)\n",
    "                # save consumption per location to df\n",
    "                con_sum = con.sum()\n",
    "                con_sum.index = con_sum.index.map(n.buses.location)\n",
    "                # convert to TWh\n",
    "                df[f\"{c}_con_el\"] = con_sum / 1000 * 3\n",
    "                # get lmp of buses where the links consumes from\n",
    "                lmp_con = n.buses_t.marginal_price.loc[:, con.columns]\n",
    "                # calculate costs for every time step and location\n",
    "                overall_cost = con * lmp_con\n",
    "                # calc consumption weighted average per location: overall cost per location / overall generation per location\n",
    "                cost_mv = overall_cost.sum() / con.sum()\n",
    "                cost_mv.index = cost_mv.index.map(n.buses.location)\n",
    "                # save cost_mv to df (€/MWH_el)\n",
    "                df[f\"{c}_cost_mv_el\"] = cost_mv\n",
    "\n",
    "        # storage unit: only PHS can store\n",
    "        elif c in n.storage_units.carrier.unique().tolist():\n",
    "\n",
    "                # consumption of su\n",
    "                con = n.storage_units_t.p_store.loc[:, n.storage_units.carrier == c]\n",
    "                con.columns = con.columns.map(n.storage_units.bus)\n",
    "                # save consumption per location to df in TWh\n",
    "                df[f\"{c}_con_el\"] = con.sum() / 1000 * 3\n",
    "                # get lmp of buses where the su consumes from\n",
    "                lmp_con = n.buses_t.marginal_price.loc[:, con.columns]\n",
    "                # calculate costs for every time step and location\n",
    "                overall_cost = con * lmp_con\n",
    "                # calc consumption weighted average per location: overall cost per location / overall generation per location\n",
    "                cost_mv = overall_cost.sum() / con.sum()\n",
    "                # save cost_mv to df\n",
    "                df[f\"{c}_cost_mv_el\"] = cost_mv\n",
    "\n",
    "        else:\n",
    "            print(f\"{c} not found!\")\n",
    "\n",
    "        # set pries to nan where generation in corresponding region is lower than % quantile\n",
    "        qt = 0.2\n",
    "        index = df[f\"{c}_con_el\"] <= np.nanquantile(df[f\"{c}_con_el\"], qt)\n",
    "        df[f\"{c}_cost_mv_el\"][index] = np.nan"
   ]
  },
  {
   "cell_type": "code",
   "execution_count": null,
   "metadata": {
    "pycharm": {
     "name": "#%%\n"
    }
   },
   "outputs": [],
   "source": [
    "# exclude ones with less than 50 TWh consumption in both scenarios: home battery charger\n",
    "#df_exp_ons[\"H2 Electrolysis_con_el\"].sum() < 50*1e3"
   ]
  },
  {
   "cell_type": "code",
   "execution_count": null,
   "metadata": {
    "pycharm": {
     "name": "#%%\n"
    }
   },
   "outputs": [],
   "source": [
    "# electricity consuming technologies\n",
    "\n",
    "# boxplot properties\n",
    "medianprops = dict(color=\"black\",linewidth=1.5)\n",
    "meanprops = {\"marker\":\"d\",\"markerfacecolor\":\"white\", \"markeredgecolor\":\"black\"}\n",
    "flierprops= {'marker': 'x', 'markersize': 5, 'markeredgecolor': 'black'}\n",
    "whiskerprops = dict(linestyle='-',linewidth=1.0, color='black')\n",
    "\n",
    "# data\n",
    "stst_el_con = df_stst_ons[[c + \"_cost_mv_el\" for c in c_el_con_s]]\n",
    "stst_el_con = stst_el_con.values\n",
    "exp_el_con = df_exp_ons[[c + \"_cost_mv_el\" for c in c_el_con_s]]\n",
    "exp_el_con = exp_el_con.values\n",
    "\n",
    "# Filter data using np.isnan\n",
    "mask_stst = ~np.isnan(stst_el_con)\n",
    "filtered_stst = [d[m] for d, m in zip(stst_el_con.T, mask_stst.T)]\n",
    "mask_exp = ~np.isnan(exp_el_con)\n",
    "filtered_exp = [d[m] for d, m in zip(exp_el_con.T, mask_exp.T)]\n",
    "\n",
    "ticks = [carrier_renaming.get(n, n) for n in c_el_con_s]\n",
    "index = c_el_con_s\n",
    "fig, ax = plt.subplots(figsize=(12, 6))\n",
    "\n",
    "stst_plot = plt.boxplot(filtered_stst,\n",
    "                        positions=np.array(np.arange(len(ticks)))*2.0-0.35,\n",
    "                        widths=0.6,\n",
    "                        patch_artist=True,\n",
    "                        showmeans=True,\n",
    "                        meanprops=meanprops,\n",
    "                        medianprops=medianprops,\n",
    "                        flierprops=flierprops,\n",
    "                        whiskerprops=whiskerprops\n",
    "                        )\n",
    "\n",
    "exp_plot = plt.boxplot(filtered_exp,\n",
    "                       positions=np.array(np.arange(len(ticks)))*2.0+0.35,\n",
    "                       widths=0.6,\n",
    "                       patch_artist=True,\n",
    "                       showmeans=True,\n",
    "                       meanprops=meanprops,\n",
    "                       medianprops=medianprops,\n",
    "                       flierprops=flierprops,\n",
    "                       whiskerprops=whiskerprops\n",
    "                       )\n",
    "\n",
    "\n",
    "for box, col in zip(stst_plot['boxes'],[carrier_colors[c] for c in index]):\n",
    "    # change outline color\n",
    "    box.set_facecolor(col)\n",
    "    box.set_linestyle('--')\n",
    "\n",
    "for box, col in zip(exp_plot['boxes'],[carrier_colors[c] for c in index]):\n",
    "    # change outline color\n",
    "    box.set_facecolor(col)\n",
    "\n",
    "# sample sizes\n",
    "for i, sample_size in enumerate(df_stst_ons[[f\"{i}_cost_mv_el\" for i in index]].count()):\n",
    "    ax.annotate(sample_size, xy=(0,0),  xycoords='axes fraction',\n",
    "        xytext=((i+0.35)/len(index),1), textcoords='axes fraction', color=\"blue\")\n",
    "\n",
    "#for i, sample_size in enumerate(df_exp_ons[[f\"{i}_cost_mv_el\" for i in index]].count()):\n",
    "#    ax.annotate(sample_size, xy=(0,0),  xycoords='axes fraction',\n",
    "#        xytext=((i+0.55)/len(index),1), textcoords='axes fraction', color=\"red\")\n",
    "\n",
    "# explanations\n",
    "plt.xticks(np.arange(0, len(ticks) * 2, 2), ticks)\n",
    "plt.ylabel(\"$€/MWh_{el}$\")\n",
    "plt.xticks(rotation=90)\n",
    "# plt.title(\"Market values of electricity consuming technologies across the regions (STST vs. EXP)\", fontsize=16, pad=20,  **font1)\n",
    "\n",
    "# cosmetics\n",
    "ax.patch.set_facecolor('lightgrey')\n",
    "ax.patch.set_alpha(0.5)\n",
    "\n",
    "# horizontal lines\n",
    "ax.axhline(df_stst_ons[[c + \"_cost_mv_el\" for c in c_el_con_s]].mean().mean(), ls=\"--\", c='black',linewidth=0.5)\n",
    "ax.axhline(df_exp_ons[[c + \"_cost_mv_el\" for c in c_el_con_s]].mean().mean(), ls=\"-\", c='black', linewidth=0.5)\n",
    "\n",
    "# legend\n",
    "patch1 = matplotlib.patches.Patch(ls=\"--\", facecolor=\"white\", edgecolor=\"black\")\n",
    "patch2 = matplotlib.patches.Patch(ls=\"-\", facecolor=\"white\", edgecolor=\"black\")\n",
    "line1 = Line2D([0], [0], ls=\"--\", c='black', label=\"mean (STST)\", linewidth=0.5)\n",
    "line2 = Line2D([0], [0], ls=\"-\", c='black', label=\"mean (EXP)\", linewidth=0.5)\n",
    "ax.legend([patch1, patch2, line1, line2], ['STST', 'EXP', 'mean (STST)','mean (EXP)'], loc=\"upper left\")\n",
    "\n",
    "fig.tight_layout()\n",
    "plt.show()\n",
    "\n",
    "fig.savefig(f\"{PLOT_DIR}/mv_el_con_both_box.png\")"
   ]
  },
  {
   "cell_type": "code",
   "execution_count": null,
   "metadata": {
    "pycharm": {
     "name": "#%%\n"
    }
   },
   "outputs": [],
   "source": [
    "# Further investigation\n",
    "df_stst_ons[[c + \"_cost_mv_el\" for c in c_el_con_s]].mean().mean()\n",
    "df_exp_ons[[c + \"_cost_mv_el\" for c in c_el_con_s]].mean().mean()\n",
    "\n",
    "df_stst_ons[[c + \"_cost_mv_el\" for c in c_el_con_s]].mean() - df_exp_ons[[c + \"_cost_mv_el\" for c in c_el_con_s]].mean()\n",
    "\n",
    "(df_stst_ons[[c + \"_cost_mv_el\" for c in c_el_con_s]].describe().loc[\"75%\"] -\n",
    " df_stst_ons[[c + \"_cost_mv_el\" for c in c_el_con_s]].describe().loc[\"25%\"]) - (\n",
    "            df_exp_ons[[c + \"_cost_mv_el\" for c in c_el_con_s]].describe().loc[\"75%\"] -\n",
    "            df_exp_ons[[c + \"_cost_mv_el\" for c in c_el_con_s]].describe().loc[\"25%\"])\n",
    "\n",
    "(df_stst_ons[[c + \"_cost_mv_el\" for c in c_el_con_s]].describe().loc[\"std\"] -\n",
    " df_exp_ons[[c + \"_cost_mv_el\" for c in c_el_con_s]].describe().loc[\"std\"])\n",
    "\n",
    "df_stst_ons[[c + \"_cost_mv_el\" for c in c_el_con_s]].mean().sort_values()"
   ]
  },
  {
   "cell_type": "markdown",
   "metadata": {
    "pycharm": {
     "name": "#%% md\n"
    }
   },
   "source": [
    "## Spatial Differences (4.3.2)"
   ]
  },
  {
   "cell_type": "markdown",
   "metadata": {
    "pycharm": {
     "name": "#%% md\n"
    }
   },
   "source": [
    "### Spatial correlation of mv, gen"
   ]
  },
  {
   "cell_type": "code",
   "execution_count": null,
   "metadata": {
    "pycharm": {
     "name": "#%%\n"
    }
   },
   "outputs": [],
   "source": [
    "# Spatial correlation of mv\n",
    "\n",
    "fig, axs = plt.subplots(ncols=2, figsize=(15, 5))\n",
    "\n",
    "for i, df, ax in zip([0,1], [df_stst_ons, df_exp_ons], axs):\n",
    "\n",
    "    corr = df[[c + \"_mv\" for c in c_el_gen_s]].corr()\n",
    "    corr.index = [carrier_renaming.get(n, n) for n in c_el_gen_s]\n",
    "    corr.columns = [carrier_renaming.get(n, n) for n in c_el_gen_s]\n",
    "    mask = np.triu(np.ones_like(corr, dtype=bool))\n",
    "\n",
    "    sns.heatmap(corr[abs(corr) > 0.4], mask=mask, cmap=\"magma_r\", annot=True, ax=ax)\n",
    "    ax.set_title('STST' if i == 0 else 'EXP')\n",
    "\n",
    "fig.tight_layout(pad=1.5)\n",
    "plt.show()\n",
    "\n",
    "fig.savefig(f\"{PLOT_DIR}/mv_el_gen_both_corr.png\")"
   ]
  },
  {
   "cell_type": "code",
   "execution_count": null,
   "metadata": {
    "pycharm": {
     "name": "#%%\n"
    }
   },
   "outputs": [],
   "source": [
    "# Spatial correlation of purchasing prices\n",
    "\n",
    "fig, axs = plt.subplots(ncols=2, figsize=(8, 3))\n",
    "\n",
    "for df, ax in zip([df_stst_ons, df_exp_ons], axs):\n",
    "    corr = df[[c + \"_cost_mv_el\" for c in c_el_con_s]].corr()\n",
    "    corr.index = [carrier_renaming.get(n, n) for n in c_el_con_s]\n",
    "    corr.columns = [carrier_renaming.get(n, n) for n in c_el_con_s]\n",
    "\n",
    "    mask = np.triu(np.ones_like(corr, dtype=bool))\n",
    "\n",
    "    sns.heatmap(corr[abs(corr) > 0.5], mask=mask, cmap=\"magma_r\", annot=True, ax=ax)\n",
    "fig.tight_layout(pad=1.5)\n",
    "plt.show()"
   ]
  },
  {
   "cell_type": "code",
   "execution_count": null,
   "metadata": {
    "pycharm": {
     "name": "#%%\n"
    }
   },
   "outputs": [],
   "source": [
    "# Spatial correlation of both\n",
    "\n",
    "fig, axs = plt.subplots(ncols=2, figsize=(17, 6))\n",
    "\n",
    "for df, ax in zip([df_stst_ons, df_exp_ons], axs):\n",
    "    corr = df[[c + \"_mv\" for c in c_el_gen_s] + [c + \"_cost_mv_el\" for c in c_el_con_s]].corr()\n",
    "    corr.index = [carrier_renaming.get(n, n) for n in c_el_gen_s] + [carrier_renaming.get(n, n) + \" (con)\" for n in c_el_con_s]\n",
    "    corr.columns = [carrier_renaming.get(n, n) for n in c_el_gen_s] + [carrier_renaming.get(n, n)+ \" (con)\" for n in c_el_con_s]\n",
    "\n",
    "    mask = np.triu(np.ones_like(corr, dtype=bool))\n",
    "\n",
    "    sns.heatmap(corr[abs(corr) > 0.5], mask=mask, cmap=\"magma_r\", annot=True, ax=ax)\n",
    "fig.tight_layout(pad=1.5)\n",
    "plt.show()"
   ]
  },
  {
   "cell_type": "code",
   "execution_count": null,
   "metadata": {
    "pycharm": {
     "name": "#%%\n"
    }
   },
   "outputs": [],
   "source": [
    "# correlation analysis\n",
    "# what do you want to find?\n",
    "\n",
    "\n",
    "corr_gini_res = pd.DataFrame(index=c_el_gen_s, columns=[[\"corr_mv_gen_STST\", \"cor_mv_gen_EXP\", \"gini_gen_STST\", \"gini_gen_EXP\", \"gini_gen_diff_EXP-STST\", \"gini_mv_STST\", \"gini_mv_EXP\", \"gini_mv_diff_EXP-STST\"]])\n",
    "for c in c_el_gen_s:\n",
    "    corr_gini_res.loc[c,\"corr_mv_gen_STST\"] = df_stst_ons[f\"{c}_mv\"].corr(df_stst_ons[f\"{c}_gen\"])\n",
    "    corr_gini_res.loc[c,\"cor_mv_gen_EXP\"] = df_exp_ons[f\"{c}_mv\"].corr(df_exp_ons[f\"{c}_gen\"])\n",
    "    corr_gini_res.loc[c,\"gini_gen_STST\"] = gini(df_stst_ons[[f\"{c}_gen\"]].dropna().values)\n",
    "    corr_gini_res.loc[c,\"gini_gen_EXP\"] = gini(df_exp_ons[[f\"{c}_gen\"]].dropna().values)\n",
    "    corr_gini_res.loc[c,\"gini_gen_EXP\"] = gini(df_exp_ons[[f\"{c}_gen\"]].dropna().values)\n",
    "    corr_gini_res.loc[c,\"gini_mv_STST\"] = gini(df_stst_ons[[f\"{c}_mv\"]].dropna().values)\n",
    "    corr_gini_res.loc[c,\"gini_mv_EXP\"] = gini(df_exp_ons[[f\"{c}_mv\"]].dropna().values)\n",
    "\n",
    "corr_gini_res[\"gini_gen_diff_EXP-STST\"] = corr_gini_res[\"gini_gen_EXP\"].values - corr_gini_res[\"gini_gen_STST\"].values\n",
    "corr_gini_res[\"gini_mv_diff_EXP-STST\"] = corr_gini_res[\"gini_mv_EXP\"].values - corr_gini_res[\"gini_mv_STST\"].values\n",
    "corr_gini_res"
   ]
  },
  {
   "cell_type": "markdown",
   "metadata": {
    "pycharm": {
     "name": "#%% md\n"
    }
   },
   "source": [
    "**Findings:**\n",
    "- gini: the higher, the more uneven distributed\n",
    "- generation is more uneven distributed in EXP case\n",
    "- mv are more evenly distributed in EXP case"
   ]
  },
  {
   "cell_type": "markdown",
   "metadata": {
    "pycharm": {
     "name": "#%% md\n"
    }
   },
   "source": [
    "### Electricity producing technologies"
   ]
  },
  {
   "cell_type": "markdown",
   "metadata": {
    "pycharm": {
     "name": "#%% md\n"
    }
   },
   "source": [
    "#### VRE"
   ]
  },
  {
   "cell_type": "code",
   "execution_count": null,
   "metadata": {
    "pycharm": {
     "name": "#%%\n"
    }
   },
   "outputs": [],
   "source": [
    "# VRE\n",
    "\n",
    "# market values across regions as map\n",
    "carriers = [\"onwind\", \"solar\",\"offwind-dc\", \"ror\"]\n",
    "\n",
    "fig, axs = plt.subplots(ncols=2, nrows=2, subplot_kw={'projection': ccrs.EqualEarth()},\n",
    "                        figsize=(18, 16))\n",
    "crs = ccrs.EqualEarth()\n",
    "\n",
    "for i, ax in enumerate(axs.reshape(-1)):\n",
    "\n",
    "    if carriers[i] in [\"offwind-dc\", \"offwind-ac\"]:\n",
    "        df = df_stst_off\n",
    "    else:\n",
    "        df = df_stst_ons\n",
    "\n",
    "    ax.add_feature(cartopy.feature.BORDERS, edgecolor='black', linewidth=0.5)\n",
    "    ax.coastlines(edgecolor='black', linewidth=0.5)\n",
    "    ax.set_facecolor('white')\n",
    "    ax.add_feature(cartopy.feature.OCEAN, color='azure')\n",
    "\n",
    "    df.to_crs(crs.proj4_init).plot(column=f\"{carriers[i]}_mv\",\n",
    "                                   ax=ax,\n",
    "                                   cmap=plt.get_cmap(\"magma_r\"),\n",
    "                                   linewidth=0.05,\n",
    "                                   edgecolor = 'grey',\n",
    "                                   legend=True,\n",
    "                                   legend_kwds={'label':\"market values ($€/MWh_{el}$)\",'orientation': \"vertical\",'shrink' : 0.9}\n",
    "                                   )\n",
    "\n",
    "    max_size = df[f\"{carriers[i]}_gen\"].max()\n",
    "    df.to_crs(crs.proj4_init).centroid.plot(ax=ax, sizes=df[f\"{carriers[i]}_gen\"] / max_size *300,  color=\"black\", edgecolor=\"white\")\n",
    "    pypsa.plot.add_legend_circles(ax=ax, sizes=[0.6], labels=[\"Generation magnitude\"], patch_kw={'color': 'black', 'edgecolor': 'white'}, legend_kw={'loc': 'upper left'})\n",
    "\n",
    "    # always select same section\n",
    "    xmin, ymin, xmax, ymax = df_stst_off.to_crs(crs.proj4_init).total_bounds\n",
    "    pad = 1 * 1e5  # add a padding around the geometry\n",
    "    ax.set_xlim(xmin-pad, xmax+pad)\n",
    "    ax.set_ylim(ymin-pad, ymax+pad)\n",
    "\n",
    "    ax.set_title(f\"{carriers[i]}\", fontsize=16, **font1)\n",
    "\n",
    "# fig.suptitle(\"Spatial Differences in the electricity generation of the VRE technologies (STST)\", fontsize=16, **font1)\n",
    "fig.tight_layout()\n",
    "plt.show()\n",
    "\n",
    "# fig.savefig(f\"{PLOT_DIR}/mv_el_gen_vre_STST_map.png\")"
   ]
  },
  {
   "cell_type": "code",
   "execution_count": null,
   "metadata": {
    "pycharm": {
     "name": "#%%\n"
    }
   },
   "outputs": [],
   "source": [
    "# Further investigation\n",
    "# TODO why is the correlation between mv and cp for ror positive\n",
    "c_vre = [\"onwind\", \"solar\", \"offwind-dc\", \"solar rooftop\", \"offwind-ac\", \"ror\"]\n",
    "for c in c_vre:\n",
    "    print(c)\n",
    "    print(df_stst_ons[f\"{c}_mv\"].corr(df_stst_ons[f\"{c}_gen\"]))\n",
    "    print(df_stst_ons[f\"{c}_mv\"].corr(df_stst_ons[f\"{c}_cf\"]))\n",
    "\n",
    "# generation weighted market value\n",
    "c = \"ror\"\n",
    "((df_stst_ons[f\"{c}_gen\"] / df_stst_ons[f\"{c}_gen\"].sum()) * df_stst_ons[f\"{c}_mv\"]).sum()"
   ]
  },
  {
   "cell_type": "code",
   "execution_count": null,
   "metadata": {
    "pycharm": {
     "name": "#%%\n"
    }
   },
   "outputs": [],
   "source": [
    "# VRE difference\n",
    "\n",
    "# market values across regions as map\n",
    "carriers = [\"onwind\", \"solar\",\"offwind-dc\", \"ror\"]\n",
    "\n",
    "for c in carriers:\n",
    "    # if one mv is nan the result is nan as well\n",
    "    if c in [\"offwind-dc\", \"offwind-ac\"]:\n",
    "        df_stst_off[f\"{c}_mv_STST-EXP\"] = df_stst_off[f\"{c}_mv\"] - df_exp_off[f\"{c}_mv\"]\n",
    "    else:\n",
    "        df_stst_ons[f\"{c}_mv_STST-EXP\"] = df_stst_ons[f\"{c}_mv\"] - df_exp_ons[f\"{c}_mv\"]\n",
    "\n",
    "fig, axs = plt.subplots(ncols=2, nrows=2, subplot_kw={'projection': ccrs.EqualEarth()},\n",
    "                        figsize=(18, 16))\n",
    "crs = ccrs.EqualEarth()\n",
    "\n",
    "for i, ax in enumerate(axs.reshape(-1)):\n",
    "\n",
    "    if carriers[i] in [\"offwind-dc\", \"offwind-ac\"]:\n",
    "        df = df_stst_off\n",
    "        df_2 = df_exp_off\n",
    "    else:\n",
    "        df = df_stst_ons\n",
    "        df_2 = df_exp_ons\n",
    "\n",
    "    abs_max = max(abs(df[f\"{carriers[i]}_mv_STST-EXP\"].max()) , abs(df[f\"{carriers[i]}_mv_STST-EXP\"].max()))\n",
    "\n",
    "    ax.add_feature(cartopy.feature.BORDERS, edgecolor='black', linewidth=0.5)\n",
    "    ax.coastlines(edgecolor='black', linewidth=0.5)\n",
    "    ax.set_facecolor('white')\n",
    "    ax.add_feature(cartopy.feature.OCEAN, color='azure')\n",
    "\n",
    "    df.to_crs(crs.proj4_init).plot(column=f\"{carriers[i]}_mv_STST-EXP\",\n",
    "                                   ax=ax,\n",
    "                                   cmap=plt.get_cmap('RdYlGn'),\n",
    "                                   vmax=abs_max,\n",
    "                                   vmin=-abs_max,\n",
    "                                   linewidth=0.05,\n",
    "                                   edgecolor = 'grey',\n",
    "                                   legend=True,\n",
    "                                   legend_kwds={'label':\"market value differences ($€/MWh_{el}$)\",'orientation': \"vertical\",'shrink' : 0.8}\n",
    "                                   )\n",
    "\n",
    "    # difference in generation (STST-EXP)\n",
    "    gen_diff = df[f\"{carriers[i]}_gen\"] - df_2[f\"{carriers[i]}_gen\"]\n",
    "    # red if negative and green if positive\n",
    "    colors = ['red' if (x < 0) else 'green' for x in gen_diff ]\n",
    "\n",
    "    max_size = abs(gen_diff).max()\n",
    "    df.to_crs(crs.proj4_init).centroid.plot(ax=ax, sizes=(abs(gen_diff) / max_size) * 500,  color=colors, edgecolor=\"white\")\n",
    "    circle1 = Line2D([], [], color=\"white\", marker='o', markerfacecolor=\"green\", markeredgecolor=\"white\", markersize=10)\n",
    "    circle2 = Line2D([], [], color=\"white\", marker='o', markerfacecolor=\"red\", markeredgecolor=\"white\", markersize=10)\n",
    "    circle3 = Line2D([], [], color=\"white\", marker='o', markerfacecolor=\"white\", markeredgecolor=\"black\", markersize=10)\n",
    "\n",
    "    unit = \"TWh\" if max_size > 1e3 else \"GWh\"\n",
    "    max_size = max_size / 1e3 if max_size > 1e3 else max_size\n",
    "    ax.legend((circle1, circle2, circle3), ('Increased production in STST', 'Increased production in EXP', f\"max circle size: {round(max_size)} {unit}\"), numpoints=1, loc=\"upper left\")\n",
    "\n",
    "\n",
    "    # always select same section\n",
    "    xmin, ymin, xmax, ymax = df_stst_off.to_crs(crs.proj4_init).total_bounds\n",
    "    pad = 1 * 1e5  # add a padding around the geometry\n",
    "    ax.set_xlim(xmin-pad, xmax+pad)\n",
    "    ax.set_ylim(ymin-pad, ymax+pad)\n",
    "\n",
    "    ax.set_title(f\"{carriers[i]} mv (STST - EXP)\", fontsize=16, **font1)\n",
    "\n",
    "# fig.suptitle(\"Spatial Differences in the electricity generation of the VRE technologies (STST)\", fontsize=16, **font1)\n",
    "fig.tight_layout()\n",
    "plt.show()\n",
    "fig.savefig(f\"{PLOT_DIR}/mv_el_gen_vre_STST-EXP_map.png\")"
   ]
  },
  {
   "cell_type": "markdown",
   "metadata": {
    "pycharm": {
     "name": "#%% md\n"
    }
   },
   "source": [
    "#### Storage"
   ]
  },
  {
   "cell_type": "code",
   "execution_count": null,
   "metadata": {
    "pycharm": {
     "name": "#%%\n"
    }
   },
   "outputs": [],
   "source": [
    "# Storage\n",
    "\n",
    "# market values across regions as map\n",
    "carriers = [\"hydro\", \"battery discharger\", \"V2G\", \"PHS\"]\n",
    "\n",
    "fig, axs = plt.subplots(ncols=2, nrows=2, subplot_kw={'projection': ccrs.EqualEarth()},\n",
    "                        figsize=(18, 16))\n",
    "crs = ccrs.EqualEarth()\n",
    "\n",
    "for i, ax in enumerate(axs.reshape(-1)):\n",
    "\n",
    "    if carriers[i] in [\"offwind-dc\", \"offwind-ac\"]:\n",
    "        df = df_stst_off\n",
    "    else:\n",
    "        df = df_stst_ons\n",
    "\n",
    "    ax.add_feature(cartopy.feature.BORDERS, edgecolor='black', linewidth=0.5)\n",
    "    ax.coastlines(edgecolor='black', linewidth=0.5)\n",
    "    ax.set_facecolor('white')\n",
    "    ax.add_feature(cartopy.feature.OCEAN, color='azure')\n",
    "\n",
    "    df.to_crs(crs.proj4_init).plot(column=f\"{carriers[i]}_mv\",\n",
    "                                   ax=ax,\n",
    "                                   cmap=plt.get_cmap(\"magma_r\"),\n",
    "                                   linewidth=0.05,\n",
    "                                   edgecolor = 'grey',\n",
    "                                   legend=True,\n",
    "                                   legend_kwds={'label':\"market values ($€/MWh_{el}$)\",'orientation': \"vertical\",'shrink' : 0.9}\n",
    "                                   )\n",
    "\n",
    "    max_size = df[f\"{carriers[i]}_gen\"].max()\n",
    "    df.to_crs(crs.proj4_init).centroid.plot(ax=ax, sizes=df[f\"{carriers[i]}_gen\"] / max_size *300,  color=\"black\", edgecolor=\"white\")\n",
    "    pypsa.plot.add_legend_circles(ax=ax, sizes=[0.6], labels=[\"Generation magnitude\"], patch_kw={'color': 'black', 'edgecolor': 'white'}, legend_kw={'loc': 'upper left'})\n",
    "\n",
    "    # always select same section\n",
    "    xmin, ymin, xmax, ymax = df_stst_off.to_crs(crs.proj4_init).total_bounds\n",
    "    pad = 1 * 1e5  # add a padding around the geometry\n",
    "    ax.set_xlim(xmin-pad, xmax+pad)\n",
    "    ax.set_ylim(ymin-pad, ymax+pad)\n",
    "\n",
    "    ax.set_title(f\"{carriers[i]}\", fontsize=16, **font1)\n",
    "\n",
    "# fig.suptitle(\"Spatial Differences in the electricity generation of the VRE technologies (STST)\", fontsize=16, **font1)\n",
    "fig.tight_layout()\n",
    "plt.show()\n",
    "\n",
    "#fig.savefig(f\"{PLOT_DIR}/mv_el_gen_store_STST_map.png\")"
   ]
  },
  {
   "cell_type": "code",
   "execution_count": null,
   "metadata": {
    "pycharm": {
     "name": "#%%\n"
    }
   },
   "outputs": [],
   "source": [
    "# Storage difference\n",
    "\n",
    "# market values across regions as map\n",
    "carriers = [\"hydro\", \"battery discharger\", \"V2G\", \"PHS\"]\n",
    "\n",
    "for c in carriers:\n",
    "    # if one mv is nan the result is nan as well\n",
    "    if c in [\"offwind-dc\", \"offwind-ac\"]:\n",
    "        df_stst_off[f\"{c}_mv_STST-EXP\"] = df_stst_off[f\"{c}_mv\"] - df_exp_off[f\"{c}_mv\"]\n",
    "    else:\n",
    "        df_stst_ons[f\"{c}_mv_STST-EXP\"] = df_stst_ons[f\"{c}_mv\"] - df_exp_ons[f\"{c}_mv\"]\n",
    "\n",
    "fig, axs = plt.subplots(ncols=2, nrows=2, subplot_kw={'projection': ccrs.EqualEarth()},\n",
    "                        figsize=(18, 16))\n",
    "crs = ccrs.EqualEarth()\n",
    "\n",
    "for i, ax in enumerate(axs.reshape(-1)):\n",
    "\n",
    "    if carriers[i] in [\"offwind-dc\", \"offwind-ac\"]:\n",
    "        df = df_stst_off\n",
    "        df_2 = df_exp_off\n",
    "    else:\n",
    "        df = df_stst_ons\n",
    "        df_2 = df_exp_ons\n",
    "\n",
    "    abs_max = max(abs(df[f\"{carriers[i]}_mv_STST-EXP\"].max()) , abs(df[f\"{carriers[i]}_mv_STST-EXP\"].max()))\n",
    "\n",
    "    ax.add_feature(cartopy.feature.BORDERS, edgecolor='black', linewidth=0.5)\n",
    "    ax.coastlines(edgecolor='black', linewidth=0.5)\n",
    "    ax.set_facecolor('white')\n",
    "    ax.add_feature(cartopy.feature.OCEAN, color='azure')\n",
    "\n",
    "    df.to_crs(crs.proj4_init).plot(column=f\"{carriers[i]}_mv_STST-EXP\",\n",
    "                                   ax=ax,\n",
    "                                   cmap=plt.get_cmap('RdYlGn'),\n",
    "                                   vmax=abs_max,\n",
    "                                   vmin=-abs_max,\n",
    "                                   linewidth=0.05,\n",
    "                                   edgecolor = 'grey',\n",
    "                                   legend=True,\n",
    "                                   legend_kwds={'label':\"market value differences ($€/MWh_{el}$)\",'orientation': \"vertical\",'shrink' : 0.8}\n",
    "                                   )\n",
    "\n",
    "    # difference in generation (STST-EXP)\n",
    "    gen_diff = df[f\"{carriers[i]}_gen\"] - df_2[f\"{carriers[i]}_gen\"]\n",
    "    # red if negative and green if positive\n",
    "    colors = ['red' if (x < 0) else 'green' for x in gen_diff ]\n",
    "\n",
    "    max_size = abs(gen_diff).max()\n",
    "    df.to_crs(crs.proj4_init).centroid.plot(ax=ax, sizes=(abs(gen_diff) / max_size) * 500,  color=colors, edgecolor=\"white\")\n",
    "    circle1 = Line2D([], [], color=\"white\", marker='o', markerfacecolor=\"green\", markeredgecolor=\"white\", markersize=10)\n",
    "    circle2 = Line2D([], [], color=\"white\", marker='o', markerfacecolor=\"red\", markeredgecolor=\"white\", markersize=10)\n",
    "    circle3 = Line2D([], [], color=\"white\", marker='o', markerfacecolor=\"white\", markeredgecolor=\"black\", markersize=10)\n",
    "\n",
    "    unit = \"TWh\" if max_size > 1e3 else \"GWh\"\n",
    "    max_size = max_size / 1e3 if max_size > 1e3 else max_size\n",
    "    ax.legend((circle1, circle2, circle3), ('Increased production in STST', 'Increased production in EXP', f\"max circle size: {round(max_size)} {unit}\"), numpoints=1, loc=\"upper left\")\n",
    "\n",
    "\n",
    "    # always select same section\n",
    "    xmin, ymin, xmax, ymax = df_stst_off.to_crs(crs.proj4_init).total_bounds\n",
    "    pad = 1 * 1e5  # add a padding around the geometry\n",
    "    ax.set_xlim(xmin-pad, xmax+pad)\n",
    "    ax.set_ylim(ymin-pad, ymax+pad)\n",
    "\n",
    "    ax.set_title(f\"{carriers[i]} mv (STST - EXP)\", fontsize=16, **font1)\n",
    "\n",
    "# fig.suptitle(\"Spatial Differences in the electricity generation of the VRE technologies (STST)\", fontsize=16, **font1)\n",
    "fig.tight_layout()\n",
    "plt.show()\n",
    "fig.savefig(f\"{PLOT_DIR}/mv_el_gen_store_STST-EXP_map.png\")"
   ]
  },
  {
   "cell_type": "code",
   "execution_count": null,
   "metadata": {
    "pycharm": {
     "name": "#%%\n"
    }
   },
   "outputs": [],
   "source": [
    "# Storage\n",
    "# \"hydro\", \"battery discharger\", \"V2G\", \"PHS\"\n",
    "\n",
    "carriers = [\"hydro\", \"V2G\"]\n",
    "\n",
    "fig, axs = plt.subplots(ncols=2, nrows=1, subplot_kw={'projection': ccrs.EqualEarth()}, figsize=(18, 8),\n",
    "                        gridspec_kw={'width_ratios': [1, 1], 'height_ratios': [1]}\n",
    "                        )\n",
    "crs = ccrs.EqualEarth()\n",
    "\n",
    "for i, ax in enumerate(axs):\n",
    "\n",
    "    if carriers[i] in [\"offwind-dc\", \"offwind-ac\"]:\n",
    "        df = df_stst_off\n",
    "    else:\n",
    "        df = df_stst_ons\n",
    "\n",
    "    ax.add_feature(cartopy.feature.BORDERS, edgecolor='black', linewidth=0.5)\n",
    "    ax.coastlines(edgecolor='black', linewidth=0.5)\n",
    "    ax.set_facecolor('white')\n",
    "    ax.add_feature(cartopy.feature.OCEAN, color='azure')\n",
    "\n",
    "    df.to_crs(crs.proj4_init).plot(column=f\"{carriers[i]}_mv\",\n",
    "                                   ax=ax,\n",
    "                                   cmap=plt.get_cmap(\"magma_r\"),\n",
    "                                   linewidth=0.05,\n",
    "                                   edgecolor = 'grey',\n",
    "                                   legend=True,\n",
    "                                   legend_kwds={'label':\"market values ($€/MWh_{el}$)\",'orientation': \"vertical\",'shrink' : 0.9}\n",
    "                                   )\n",
    "\n",
    "    max_size = df[f\"{carriers[i]}_gen\"].max()\n",
    "    df.to_crs(crs.proj4_init).centroid.plot(ax=ax, sizes=df[f\"{carriers[i]}_gen\"] / max_size *300,  color=\"black\", edgecolor=\"white\")\n",
    "    pypsa.plot.add_legend_circles(ax=ax, sizes=[0.6], labels=[\"Generation magnitude\"], patch_kw={'color': 'black', 'edgecolor': 'white'}, legend_kw={'loc': 'upper left'})\n",
    "\n",
    "    # always select same section\n",
    "    xmin, ymin, xmax, ymax = df_stst_ons.to_crs(crs.proj4_init).total_bounds\n",
    "    pad = 1 * 1e5  # add a padding around the geometry\n",
    "    ax.set_xlim(xmin-pad, xmax+pad)\n",
    "    ax.set_ylim(ymin-pad, ymax+pad)\n",
    "\n",
    "    ax.set_title(f\"{carriers[i]}\", fontsize=16, **font1)\n",
    "\n",
    "# fig.suptitle(\"Spatial Differences in the electricity generation of the VRE technologies (STST)\", fontsize=16, **font1)\n",
    "fig.tight_layout()\n",
    "plt.show()\n",
    "\n",
    "# fig.savefig(f\"{PLOT_DIR}/mv_el_gen_stor_hydro_V2G_STST_map.png\")"
   ]
  },
  {
   "cell_type": "code",
   "execution_count": null,
   "metadata": {
    "pycharm": {
     "name": "#%%\n"
    }
   },
   "outputs": [],
   "source": [
    "# plot difference\n",
    "\n",
    "# Storage difference\n",
    "# \"hydro\", \"battery discharger\", \"V2G\", \"PHS\"\n",
    "\n",
    "carriers = [\"hydro\", \"V2G\"]\n",
    "for c in carriers:\n",
    "    # if one mv is nan the result is nan as well\n",
    "    df_stst_ons[f\"{c}_mv_STST-EXP\"] = df_stst_ons[f\"{c}_mv\"] - df_exp_ons[f\"{c}_mv\"]\n",
    "\n",
    "fig, axs = plt.subplots(ncols=2, nrows=1, subplot_kw={'projection': ccrs.EqualEarth()}, figsize=(18, 8),\n",
    "                        gridspec_kw={'width_ratios': [1, 1], 'height_ratios': [1]}\n",
    "                        )\n",
    "crs = ccrs.EqualEarth()\n",
    "\n",
    "for i, ax in enumerate(axs):\n",
    "\n",
    "    if carriers[i] in [\"offwind-dc\", \"offwind-ac\"]:\n",
    "        df = df_stst_off\n",
    "    else:\n",
    "        df = df_stst_ons\n",
    "\n",
    "    ax.add_feature(cartopy.feature.BORDERS, edgecolor='black', linewidth=0.5)\n",
    "    ax.coastlines(edgecolor='black', linewidth=0.5)\n",
    "    ax.set_facecolor('white')\n",
    "    ax.add_feature(cartopy.feature.OCEAN, color='azure')\n",
    "\n",
    "    df.to_crs(crs.proj4_init).plot(column=f\"{carriers[i]}_mv_STST-EXP\",\n",
    "                                   ax=ax,\n",
    "                                   cmap=plt.get_cmap(\"magma_r\"),\n",
    "                                   linewidth=0.05,\n",
    "                                   edgecolor = 'grey',\n",
    "                                   legend=True,\n",
    "                                   legend_kwds={'label':\"market values ($€/MWh_{el}$)\",'orientation': \"vertical\",'shrink' : 0.9}\n",
    "                                   )\n",
    "\n",
    "    max_size = df[f\"{carriers[i]}_gen\"].max()\n",
    "    df.to_crs(crs.proj4_init).centroid.plot(ax=ax, sizes=df[f\"{carriers[i]}_gen\"] / max_size *300,  color=\"black\", edgecolor=\"white\")\n",
    "    pypsa.plot.add_legend_circles(ax=ax, sizes=[0.6], labels=[\"Generation magnitude\"], patch_kw={'color': 'black', 'edgecolor': 'white'}, legend_kw={'loc': 'upper left'})\n",
    "\n",
    "    # always select same section\n",
    "    xmin, ymin, xmax, ymax = df_stst_ons.to_crs(crs.proj4_init).total_bounds\n",
    "    pad = 1 * 1e5  # add a padding around the geometry\n",
    "    ax.set_xlim(xmin-pad, xmax+pad)\n",
    "    ax.set_ylim(ymin-pad, ymax+pad)\n",
    "\n",
    "    ax.set_title(f\"{carriers[i]}\", fontsize=16, **font1)\n",
    "\n",
    "# fig.suptitle(\"Spatial Differences in the electricity generation of the VRE technologies (STST)\", fontsize=16, **font1)\n",
    "fig.tight_layout()\n",
    "plt.show()\n",
    "\n",
    "# fig.savefig(f\"{PLOT_DIR}/mv_el_gen_stor_hydro_V2G_STST-EXP_map.png\")"
   ]
  },
  {
   "cell_type": "code",
   "execution_count": null,
   "metadata": {
    "pycharm": {
     "name": "#%%\n"
    }
   },
   "outputs": [],
   "source": [
    "# Further investigation\n",
    "c = \"V2G\"\n",
    "df_stst_ons[[f\"{c}_mv\",f\"{c}_gen\"]].sort_values(by=f\"{c}_mv\")"
   ]
  },
  {
   "cell_type": "code",
   "execution_count": null,
   "metadata": {
    "pycharm": {
     "name": "#%%\n"
    }
   },
   "outputs": [],
   "source": [
    "df_exp_ons[[f\"{c}_mv\",f\"{c}_gen\"]].sort_values(by=f\"{c}_mv\")"
   ]
  },
  {
   "cell_type": "code",
   "execution_count": null,
   "metadata": {
    "pycharm": {
     "name": "#%%\n"
    }
   },
   "outputs": [],
   "source": [
    "# difference in mv\n",
    "pd.concat([df_stst_ons[f\"{c}_mv\"] - df_exp_ons[f\"{c}_mv\"], df_stst_ons[f\"{c}_gen\"],df_exp_ons[f\"{c}_gen\"]], axis=1).sort_values(by=f\"{c}_mv\")"
   ]
  },
  {
   "cell_type": "code",
   "execution_count": null,
   "metadata": {
    "pycharm": {
     "name": "#%%\n"
    }
   },
   "outputs": [],
   "source": [
    "for c in c_el_gen_s:\n",
    "    print(c)\n",
    "    mv_diff = df_stst_ons[f\"{c}_mv\"] - df_exp_ons[f\"{c}_mv\"]\n",
    "    gen_diff = df_stst_ons[f\"{c}_gen\"] - df_exp_ons[f\"{c}_gen\"]\n",
    "    print(mv_diff.corr(gen_diff))"
   ]
  },
  {
   "cell_type": "code",
   "execution_count": null,
   "metadata": {
    "pycharm": {
     "name": "#%%\n"
    }
   },
   "outputs": [],
   "source": [
    "# Norway analysis\n",
    "i_no = df_stst_ons.index[df_stst_ons.index.str.contains(\"NO\")]\n",
    "# generation weighted market value\n",
    "c = \"hydro\"\n",
    "((df_stst_ons.loc[i_no, f\"{c}_gen\"] / df_stst_ons.loc[i_no, f\"{c}_gen\"].sum()) * df_stst_ons.loc[i_no,f\"{c}_mv\"]).sum()\n",
    "#df_stst_ons.loc[i_no, f\"{c}_gen\"].sum()"
   ]
  },
  {
   "cell_type": "code",
   "execution_count": null,
   "metadata": {
    "pycharm": {
     "name": "#%%\n"
    }
   },
   "outputs": [],
   "source": [
    "c = \"V2G\"\n",
    "((df_exp_ons.loc[i_no, f\"{c}_gen\"] / df_exp_ons.loc[i_no, f\"{c}_gen\"].sum()) * df_exp_ons.loc[i_no,f\"{c}_mv\"]).sum()\n",
    "df_exp_ons.loc[i_no, f\"{c}_gen\"].sum()"
   ]
  },
  {
   "cell_type": "code",
   "execution_count": null,
   "metadata": {
    "pycharm": {
     "name": "#%%\n"
    }
   },
   "outputs": [],
   "source": [
    "c_vre = [\"hydro\", \"battery discharger\", \"V2G\", \"PHS\"]\n",
    "for c in c_vre:\n",
    "    print(c)\n",
    "    print(df_stst_ons[f\"{c}_mv\"].corr(df_stst_ons[f\"{c}_gen\"]))\n",
    "    print(df_stst_ons[f\"{c}_mv\"].corr(df_stst_ons[f\"{c}_cf\"]))"
   ]
  },
  {
   "cell_type": "code",
   "execution_count": null,
   "metadata": {
    "pycharm": {
     "name": "#%%\n"
    }
   },
   "outputs": [],
   "source": [
    "c_vre = [\"hydro\", \"battery discharger\", \"V2G\", \"PHS\"]\n",
    "for c in c_vre:\n",
    "    print(c)\n",
    "    print(df_exp_ons[f\"{c}_mv\"].corr(df_stst_ons[f\"{c}_gen\"]))\n",
    "    print(df_exp_ons[f\"{c}_mv\"].corr(df_stst_ons[f\"{c}_cf\"]))"
   ]
  },
  {
   "cell_type": "code",
   "execution_count": null,
   "metadata": {
    "pycharm": {
     "name": "#%%\n"
    }
   },
   "outputs": [],
   "source": [
    "# generation weighted market value\n",
    "c = \"hydro\"\n",
    "((df_stst_ons[f\"{c}_gen\"] / df_stst_ons[f\"{c}_gen\"].sum()) * df_stst_ons[f\"{c}_mv\"]).sum()"
   ]
  },
  {
   "cell_type": "code",
   "execution_count": null,
   "metadata": {
    "pycharm": {
     "name": "#%%\n"
    }
   },
   "outputs": [],
   "source": [
    "# generation weighted market value\n",
    "c = \"hydro\"\n",
    "((df_exp_ons[f\"{c}_gen\"] / df_exp_ons[f\"{c}_gen\"].sum()) * df_exp_ons[f\"{c}_mv\"]).sum()"
   ]
  },
  {
   "cell_type": "code",
   "execution_count": null,
   "metadata": {
    "pycharm": {
     "name": "#%%\n"
    }
   },
   "outputs": [],
   "source": [
    "# Storage: Battery Discharger\n",
    "\n",
    "carriers = [\"battery discharger\", \"battery discharger\"]\n",
    "\n",
    "fig, axs = plt.subplots(ncols=2, nrows=1, subplot_kw={'projection': ccrs.EqualEarth()},figsize=(18, 8),\n",
    "                        gridspec_kw={'width_ratios': [1, 0.96], 'height_ratios': [1]})\n",
    "crs = ccrs.EqualEarth()\n",
    "\n",
    "# same colorbar withds:\n",
    "vmin = min(np.nanmin(df_stst_ons[f\"{carriers[i]}_mv\"]), np.nanmin(df_exp_ons[f\"{carriers[i]}_mv\"]))\n",
    "vmax = max(np.nanmax(df_stst_ons[f\"{carriers[i]}_mv\"]), np.nanmax(df_exp_ons[f\"{carriers[i]}_mv\"]))\n",
    "\n",
    "for i, ax in enumerate(axs):\n",
    "\n",
    "    if i == 0:\n",
    "        df = df_stst_ons\n",
    "    else:\n",
    "        df = df_exp_ons\n",
    "\n",
    "    ax.add_feature(cartopy.feature.BORDERS, edgecolor='black', linewidth=0.5)\n",
    "    ax.coastlines(edgecolor='black', linewidth=0.5)\n",
    "    ax.set_facecolor('white')\n",
    "    ax.add_feature(cartopy.feature.OCEAN, color='azure')\n",
    "\n",
    "    df.to_crs(crs.proj4_init).plot(column=f\"{carriers[i]}_mv\",\n",
    "                                   ax=ax,\n",
    "                                   cmap=plt.get_cmap(\"magma_r\"),\n",
    "                                   vmin=vmin,\n",
    "                                   vmax=vmax,\n",
    "                                   linewidth=0.05,\n",
    "                                   edgecolor = 'grey',\n",
    "                                   legend=True,\n",
    "                                   legend_kwds={'label':\"market values ($€/MWh_{el}$)\",'orientation': \"vertical\",'shrink' : 0.9}\n",
    "                                   )\n",
    "\n",
    "    max_size = df[f\"{carriers[i]}_gen\"].max()\n",
    "    df.to_crs(crs.proj4_init).centroid.plot(ax=ax, sizes=df[f\"{carriers[i]}_gen\"] / max_size *300,  color=\"black\", edgecolor=\"white\")\n",
    "    pypsa.plot.add_legend_circles(ax=ax, sizes=[0.6], labels=[\"Generation magnitude\"], patch_kw={'color': 'black', 'edgecolor': 'white'}, legend_kw={'loc': 'upper left'})\n",
    "\n",
    "    # always select same section\n",
    "    xmin, ymin, xmax, ymax = df_stst_ons.to_crs(crs.proj4_init).total_bounds\n",
    "    pad = 1 * 1e5  # add a padding around the geometry\n",
    "    ax.set_xlim(xmin-pad, xmax+pad)\n",
    "    ax.set_ylim(ymin-pad, ymax+pad)\n",
    "\n",
    "    model = 'STST' if i == 0 else 'EXP'\n",
    "    ax.set_title(f\"{carriers[i]} ({model})\", fontsize=16, **font1)\n",
    "\n",
    "fig.tight_layout()\n",
    "plt.show()\n",
    "\n",
    "#fig.savefig(f\"{PLOT_DIR}/mv_el_gen_bat_disch_STST_EXP_map.png\")"
   ]
  },
  {
   "cell_type": "code",
   "execution_count": null,
   "metadata": {
    "pycharm": {
     "name": "#%%\n"
    }
   },
   "outputs": [],
   "source": [
    "#### Peak plants"
   ]
  },
  {
   "cell_type": "code",
   "execution_count": null,
   "metadata": {
    "pycharm": {
     "name": "#%%\n"
    }
   },
   "outputs": [],
   "source": [
    "# Peak plants\n",
    "\n",
    "carriers = [\"urban central gas CHP\", \"urban central solid biomass CHP CC\"]\n",
    "\n",
    "fig, axs = plt.subplots(ncols=2, nrows=1,\n",
    "                        subplot_kw={'projection': ccrs.EqualEarth()},\n",
    "                        figsize=(18, 8))\n",
    "crs = ccrs.EqualEarth()\n",
    "\n",
    "for i, ax in enumerate(axs):\n",
    "\n",
    "    if carriers[i] in [\"offwind-dc\", \"offwind-ac\"]:\n",
    "        df = df_exp_off\n",
    "    else:\n",
    "        df = df_exp_ons\n",
    "\n",
    "    ax.add_feature(cartopy.feature.BORDERS, edgecolor='black', linewidth=0.5)\n",
    "    ax.coastlines(edgecolor='black', linewidth=0.5)\n",
    "    ax.set_facecolor('white')\n",
    "    ax.add_feature(cartopy.feature.OCEAN, color='azure')\n",
    "\n",
    "    df.to_crs(crs.proj4_init).plot(column=f\"{carriers[i]}_mv\",\n",
    "                                   ax=ax,\n",
    "                                   cmap=plt.get_cmap(\"magma_r\"),\n",
    "                                   linewidth=0.05,\n",
    "                                   edgecolor = 'grey',\n",
    "                                   legend=True,\n",
    "                                   legend_kwds={'label':\"market values ($€/MWh_{el}$)\",'orientation': \"vertical\",'shrink' : 0.9}\n",
    "                                   )\n",
    "\n",
    "    max_size = df[f\"{carriers[i]}_gen\"].max()\n",
    "    df.to_crs(crs.proj4_init).centroid.plot(ax=ax, sizes=df[f\"{carriers[i]}_gen\"] / max_size *300,  color=\"black\", edgecolor=\"white\")\n",
    "    pypsa.plot.add_legend_circles(ax=ax, sizes=[0.6], labels=[\"Generation magnitude\"], patch_kw={'color': 'black', 'edgecolor': 'white'}, legend_kw={'loc': 'upper left'})\n",
    "\n",
    "    # always select same section\n",
    "    xmin, ymin, xmax, ymax = df_stst_ons.to_crs(crs.proj4_init).total_bounds\n",
    "    pad = 1 * 1e5  # add a padding around the geometry\n",
    "    ax.set_xlim(xmin-pad, xmax+pad)\n",
    "    ax.set_ylim(ymin-pad, ymax+pad)\n",
    "\n",
    "    ax.set_title(f\"{carrier_renaming[carriers[i]]}\", fontsize=16, **font1)\n",
    "\n",
    "# fig.suptitle(\"Spatial Differences in the electricity generation of the VRE technologies (STST)\", fontsize=16, **font1)\n",
    "fig.tight_layout()\n",
    "plt.show()\n",
    "\n",
    "# fig.savefig(f\"{PLOT_DIR}/mv_el_gen_peak_EXP_map.png\")"
   ]
  },
  {
   "cell_type": "code",
   "execution_count": null,
   "metadata": {
    "pycharm": {
     "name": "#%%\n"
    }
   },
   "outputs": [],
   "source": [
    "# Storage difference\n",
    "\n",
    "# market values across regions as map\n",
    "carriers = [\"urban central gas CHP\", \"urban central solid biomass CHP CC\"]\n",
    "\n",
    "for c in carriers:\n",
    "    # if one mv is nan the result is nan as well\n",
    "    if c in [\"offwind-dc\", \"offwind-ac\"]:\n",
    "        df_stst_off[f\"{c}_mv_STST-EXP\"] = df_stst_off[f\"{c}_mv\"] - df_exp_off[f\"{c}_mv\"]\n",
    "    else:\n",
    "        df_stst_ons[f\"{c}_mv_STST-EXP\"] = df_stst_ons[f\"{c}_mv\"] - df_exp_ons[f\"{c}_mv\"]\n",
    "\n",
    "fig, axs = plt.subplots(ncols=2, nrows=1, subplot_kw={'projection': ccrs.EqualEarth()},\n",
    "                        figsize=(18, 8))\n",
    "crs = ccrs.EqualEarth()\n",
    "\n",
    "for i, ax in enumerate(axs):\n",
    "\n",
    "    if carriers[i] in [\"offwind-dc\", \"offwind-ac\"]:\n",
    "        df = df_stst_off\n",
    "        df_2 = df_exp_off\n",
    "    else:\n",
    "        df = df_stst_ons\n",
    "        df_2 = df_exp_ons\n",
    "\n",
    "    abs_max = max(abs(df[f\"{carriers[i]}_mv_STST-EXP\"].max()) , abs(df[f\"{carriers[i]}_mv_STST-EXP\"].max()))\n",
    "\n",
    "    ax.add_feature(cartopy.feature.BORDERS, edgecolor='black', linewidth=0.5)\n",
    "    ax.coastlines(edgecolor='black', linewidth=0.5)\n",
    "    ax.set_facecolor('white')\n",
    "    ax.add_feature(cartopy.feature.OCEAN, color='azure')\n",
    "\n",
    "    df.to_crs(crs.proj4_init).plot(column=f\"{carriers[i]}_mv_STST-EXP\",\n",
    "                                   ax=ax,\n",
    "                                   cmap=plt.get_cmap('RdYlGn'),\n",
    "                                   vmax=abs_max,\n",
    "                                   vmin=-abs_max,\n",
    "                                   linewidth=0.05,\n",
    "                                   edgecolor = 'grey',\n",
    "                                   legend=True,\n",
    "                                   legend_kwds={'label':\"market value differences ($€/MWh_{el}$)\",'orientation': \"vertical\",'shrink' : 0.8}\n",
    "                                   )\n",
    "\n",
    "    # difference in generation (STST-EXP)\n",
    "    gen_diff = df[f\"{carriers[i]}_gen\"] - df_2[f\"{carriers[i]}_gen\"]\n",
    "    # red if negative and green if positive\n",
    "    colors = ['red' if (x < 0) else 'green' for x in gen_diff ]\n",
    "\n",
    "    max_size = abs(gen_diff).max()\n",
    "    df.to_crs(crs.proj4_init).centroid.plot(ax=ax, sizes=(abs(gen_diff) / max_size) * 500,  color=colors, edgecolor=\"white\")\n",
    "    circle1 = Line2D([], [], color=\"white\", marker='o', markerfacecolor=\"green\", markeredgecolor=\"white\", markersize=10)\n",
    "    circle2 = Line2D([], [], color=\"white\", marker='o', markerfacecolor=\"red\", markeredgecolor=\"white\", markersize=10)\n",
    "    circle3 = Line2D([], [], color=\"white\", marker='o', markerfacecolor=\"white\", markeredgecolor=\"black\", markersize=10)\n",
    "\n",
    "    unit = \"TWh\" if max_size > 1e3 else \"GWh\"\n",
    "    max_size = max_size / 1e3 if max_size > 1e3 else max_size\n",
    "    ax.legend((circle1, circle2, circle3), ('Increased production in STST', 'Increased production in EXP', f\"max circle size: {round(max_size)} {unit}\"), numpoints=1, loc=\"upper left\")\n",
    "\n",
    "\n",
    "    # always select same section\n",
    "    xmin, ymin, xmax, ymax = df_stst_off.to_crs(crs.proj4_init).total_bounds\n",
    "    pad = 1 * 1e5  # add a padding around the geometry\n",
    "    ax.set_xlim(xmin-pad, xmax+pad)\n",
    "    ax.set_ylim(ymin-pad, ymax+pad)\n",
    "\n",
    "    ax.set_title(f\"{carrier_renaming[carriers[i]]} mv (STST - EXP)\", fontsize=16, **font1)\n",
    "\n",
    "# fig.suptitle(\"Spatial Differences in the electricity generation of the VRE technologies (STST)\", fontsize=16, **font1)\n",
    "fig.tight_layout()\n",
    "plt.show()\n",
    "\n",
    "fig.savefig(f\"{PLOT_DIR}/mv_el_gen_peak_STST-EXP_map.png\")"
   ]
  },
  {
   "cell_type": "code",
   "execution_count": null,
   "metadata": {
    "pycharm": {
     "name": "#%%\n"
    }
   },
   "outputs": [],
   "source": []
  }
 ],
 "metadata": {
  "kernelspec": {
   "display_name": "Python 3 (ipykernel)",
   "language": "python",
   "name": "python3"
  },
  "language_info": {
   "codemirror_mode": {
    "name": "ipython",
    "version": 3
   },
   "file_extension": ".py",
   "mimetype": "text/x-python",
   "name": "python",
   "nbconvert_exporter": "python",
   "pygments_lexer": "ipython3",
   "version": "3.10.6"
  }
 },
 "nbformat": 4,
 "nbformat_minor": 1
}