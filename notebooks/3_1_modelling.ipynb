{
 "cells": [
  {
   "cell_type": "code",
   "execution_count": 2,
   "metadata": {
    "collapsed": true,
    "pycharm": {
     "name": "#%%\n"
    }
   },
   "outputs": [],
   "source": [
    "# Modelling related stuff"
   ]
  },
  {
   "cell_type": "code",
   "execution_count": 3,
   "outputs": [
    {
     "name": "stderr",
     "output_type": "stream",
     "text": [
      "WARNING:pypsa.io:\n",
      "Importing PyPSA from older version of PyPSA than current version.\n",
      "Please read the release notes at https://pypsa.readthedocs.io/en/latest/release_notes.html\n",
      "carefully to prepare your network for import.\n",
      "Currently used PyPSA version [0, 20, 1], imported network file PyPSA version [0, 18, 1].\n",
      "\n",
      "INFO:pypsa.io:Imported network elec_s_181_lv1.0__Co2L0-3H-T-H-B-I-A-solar+p3-linemaxext10-noH2network_2030.nc has buses, carriers, generators, global_constraints, lines, links, loads, storage_units, stores\n",
      "WARNING:pypsa.io:\n",
      "Importing PyPSA from older version of PyPSA than current version.\n",
      "Please read the release notes at https://pypsa.readthedocs.io/en/latest/release_notes.html\n",
      "carefully to prepare your network for import.\n",
      "Currently used PyPSA version [0, 20, 1], imported network file PyPSA version [0, 18, 1].\n",
      "\n",
      "INFO:pypsa.io:Imported network elec_s_181_lvopt__Co2L0-3H-T-H-B-I-A-solar+p3-linemaxext10_2030.nc has buses, carriers, generators, global_constraints, lines, links, loads, storage_units, stores\n"
     ]
    }
   ],
   "source": [
    "# imports\n",
    "import pypsa\n",
    "\n",
    "# Network imports\n",
    "stst = pypsa.Network(\"../data/raw/elec_s_181_lv1.0__Co2L0-3H-T-H-B-I-A-solar+p3-linemaxext10-noH2network_2030.nc\")\n",
    "exp = pypsa.Network(\"../data/raw/elec_s_181_lvopt__Co2L0-3H-T-H-B-I-A-solar+p3-linemaxext10_2030.nc\")"
   ],
   "metadata": {
    "collapsed": false,
    "pycharm": {
     "name": "#%%\n"
    }
   }
  },
  {
   "cell_type": "code",
   "execution_count": null,
   "outputs": [],
   "source": [
    "print(stst)"
   ],
   "metadata": {
    "collapsed": false,
    "pycharm": {
     "name": "#%%\n"
    }
   }
  },
  {
   "cell_type": "code",
   "execution_count": null,
   "outputs": [],
   "source": [
    "print(exp)"
   ],
   "metadata": {
    "collapsed": false,
    "pycharm": {
     "name": "#%%\n"
    }
   }
  },
  {
   "cell_type": "code",
   "execution_count": 4,
   "outputs": [
    {
     "data": {
      "text/plain": "                                                        type  \\\nGlobalConstraint                                               \nlv_limit                 transmission_volume_expansion_limit   \nCO2Limit                                      primary_energy   \nco2_sequestration_limit                                  nan   \n\n                        carrier_attribute sense      constant          mu  \\\nGlobalConstraint                                                            \nlv_limit                           AC, DC    <=  3.222256e+08         NaN   \nCO2Limit                    co2_emissions    <=  0.000000e+00  513.293385   \nco2_sequestration_limit               nan    <=  2.000000e+08  338.688272   \n\n                         investment_period  \nGlobalConstraint                            \nlv_limit                               NaN  \nCO2Limit                               NaN  \nco2_sequestration_limit                NaN  ",
      "text/html": "<div>\n<style scoped>\n    .dataframe tbody tr th:only-of-type {\n        vertical-align: middle;\n    }\n\n    .dataframe tbody tr th {\n        vertical-align: top;\n    }\n\n    .dataframe thead th {\n        text-align: right;\n    }\n</style>\n<table border=\"1\" class=\"dataframe\">\n  <thead>\n    <tr style=\"text-align: right;\">\n      <th></th>\n      <th>type</th>\n      <th>carrier_attribute</th>\n      <th>sense</th>\n      <th>constant</th>\n      <th>mu</th>\n      <th>investment_period</th>\n    </tr>\n    <tr>\n      <th>GlobalConstraint</th>\n      <th></th>\n      <th></th>\n      <th></th>\n      <th></th>\n      <th></th>\n      <th></th>\n    </tr>\n  </thead>\n  <tbody>\n    <tr>\n      <th>lv_limit</th>\n      <td>transmission_volume_expansion_limit</td>\n      <td>AC, DC</td>\n      <td>&lt;=</td>\n      <td>3.222256e+08</td>\n      <td>NaN</td>\n      <td>NaN</td>\n    </tr>\n    <tr>\n      <th>CO2Limit</th>\n      <td>primary_energy</td>\n      <td>co2_emissions</td>\n      <td>&lt;=</td>\n      <td>0.000000e+00</td>\n      <td>513.293385</td>\n      <td>NaN</td>\n    </tr>\n    <tr>\n      <th>co2_sequestration_limit</th>\n      <td>nan</td>\n      <td>nan</td>\n      <td>&lt;=</td>\n      <td>2.000000e+08</td>\n      <td>338.688272</td>\n      <td>NaN</td>\n    </tr>\n  </tbody>\n</table>\n</div>"
     },
     "execution_count": 4,
     "metadata": {},
     "output_type": "execute_result"
    }
   ],
   "source": [
    "# difference in global constraints\n",
    "stst.global_constraints"
   ],
   "metadata": {
    "collapsed": false,
    "pycharm": {
     "name": "#%%\n"
    }
   }
  },
  {
   "cell_type": "code",
   "execution_count": 5,
   "outputs": [
    {
     "data": {
      "text/plain": "                        sense            type carrier_attribute     constant  \\\nGlobalConstraint                                                               \nCO2Limit                   <=  primary_energy     co2_emissions          0.0   \nco2_sequestration_limit    <=             nan               nan  200000000.0   \n\n                                 mu  investment_period  \nGlobalConstraint                                        \nCO2Limit                 436.547988                NaN  \nco2_sequestration_limit  306.234170                NaN  ",
      "text/html": "<div>\n<style scoped>\n    .dataframe tbody tr th:only-of-type {\n        vertical-align: middle;\n    }\n\n    .dataframe tbody tr th {\n        vertical-align: top;\n    }\n\n    .dataframe thead th {\n        text-align: right;\n    }\n</style>\n<table border=\"1\" class=\"dataframe\">\n  <thead>\n    <tr style=\"text-align: right;\">\n      <th></th>\n      <th>sense</th>\n      <th>type</th>\n      <th>carrier_attribute</th>\n      <th>constant</th>\n      <th>mu</th>\n      <th>investment_period</th>\n    </tr>\n    <tr>\n      <th>GlobalConstraint</th>\n      <th></th>\n      <th></th>\n      <th></th>\n      <th></th>\n      <th></th>\n      <th></th>\n    </tr>\n  </thead>\n  <tbody>\n    <tr>\n      <th>CO2Limit</th>\n      <td>&lt;=</td>\n      <td>primary_energy</td>\n      <td>co2_emissions</td>\n      <td>0.0</td>\n      <td>436.547988</td>\n      <td>NaN</td>\n    </tr>\n    <tr>\n      <th>co2_sequestration_limit</th>\n      <td>&lt;=</td>\n      <td>nan</td>\n      <td>nan</td>\n      <td>200000000.0</td>\n      <td>306.234170</td>\n      <td>NaN</td>\n    </tr>\n  </tbody>\n</table>\n</div>"
     },
     "execution_count": 5,
     "metadata": {},
     "output_type": "execute_result"
    }
   ],
   "source": [
    "exp.global_constraints"
   ],
   "metadata": {
    "collapsed": false,
    "pycharm": {
     "name": "#%%\n"
    }
   }
  },
  {
   "cell_type": "code",
   "execution_count": 5,
   "outputs": [],
   "source": [],
   "metadata": {
    "collapsed": false,
    "pycharm": {
     "name": "#%%\n"
    }
   }
  }
 ],
 "metadata": {
  "kernelspec": {
   "display_name": "Python 3",
   "language": "python",
   "name": "python3"
  },
  "language_info": {
   "codemirror_mode": {
    "name": "ipython",
    "version": 2
   },
   "file_extension": ".py",
   "mimetype": "text/x-python",
   "name": "python",
   "nbconvert_exporter": "python",
   "pygments_lexer": "ipython2",
   "version": "2.7.6"
  }
 },
 "nbformat": 4,
 "nbformat_minor": 0
}