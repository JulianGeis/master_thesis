{
 "cells": [
  {
   "cell_type": "markdown",
   "source": [
    "## Notebook to determine important carriers for the STST and EXP networks"
   ],
   "metadata": {
    "collapsed": false,
    "pycharm": {
     "name": "#%% md\n"
    }
   }
  },
  {
   "cell_type": "code",
   "execution_count": 1,
   "outputs": [],
   "source": [
    "# imports\n",
    "import pypsa"
   ],
   "metadata": {
    "collapsed": false,
    "pycharm": {
     "name": "#%%\n"
    }
   }
  },
  {
   "cell_type": "code",
   "execution_count": 2,
   "outputs": [
    {
     "name": "stderr",
     "output_type": "stream",
     "text": [
      "WARNING:pypsa.io:\n",
      "Importing PyPSA from older version of PyPSA than current version.\n",
      "Please read the release notes at https://pypsa.readthedocs.io/en/latest/release_notes.html\n",
      "carefully to prepare your network for import.\n",
      "Currently used PyPSA version [0, 20, 1], imported network file PyPSA version [0, 18, 1].\n",
      "\n",
      "INFO:pypsa.io:Imported network elec_s_181_lv1.0__Co2L0-3H-T-H-B-I-A-solar+p3-linemaxext10-noH2network_2030.nc has buses, carriers, generators, global_constraints, lines, links, loads, storage_units, stores\n",
      "WARNING:pypsa.io:\n",
      "Importing PyPSA from older version of PyPSA than current version.\n",
      "Please read the release notes at https://pypsa.readthedocs.io/en/latest/release_notes.html\n",
      "carefully to prepare your network for import.\n",
      "Currently used PyPSA version [0, 20, 1], imported network file PyPSA version [0, 18, 1].\n",
      "\n",
      "INFO:pypsa.io:Imported network elec_s_181_lvopt__Co2L0-3H-T-H-B-I-A-solar+p3-linemaxext10_2030.nc has buses, carriers, generators, global_constraints, lines, links, loads, storage_units, stores\n"
     ]
    }
   ],
   "source": [
    "# Network imports\n",
    "stst = pypsa.Network(\"../data/raw/elec_s_181_lv1.0__Co2L0-3H-T-H-B-I-A-solar+p3-linemaxext10-noH2network_2030.nc\")\n",
    "exp = pypsa.Network(\"../data/raw/elec_s_181_lvopt__Co2L0-3H-T-H-B-I-A-solar+p3-linemaxext10_2030.nc\")"
   ],
   "metadata": {
    "collapsed": false,
    "pycharm": {
     "name": "#%%\n"
    }
   }
  },
  {
   "cell_type": "code",
   "execution_count": 7,
   "outputs": [
    {
     "name": "stdout",
     "output_type": "stream",
     "text": [
      "PyPSA Network\n",
      "Components:\n",
      " - Bus: 3086\n",
      " - Carrier: 30\n",
      " - Generator: 1707\n",
      " - GlobalConstraint: 3\n",
      " - Line: 323\n",
      " - Link: 8375\n",
      " - Load: 2542\n",
      " - StorageUnit: 170\n",
      " - Store: 1635\n",
      "Snapshots: 2920\n"
     ]
    }
   ],
   "source": [
    "print(stst)"
   ],
   "metadata": {
    "collapsed": false,
    "pycharm": {
     "name": "#%%\n"
    }
   }
  },
  {
   "cell_type": "code",
   "execution_count": 8,
   "outputs": [
    {
     "name": "stdout",
     "output_type": "stream",
     "text": [
      "PyPSA Network\n",
      "Components:\n",
      " - Bus: 3086\n",
      " - Carrier: 30\n",
      " - Generator: 1707\n",
      " - GlobalConstraint: 2\n",
      " - Line: 323\n",
      " - Link: 9192\n",
      " - Load: 2542\n",
      " - StorageUnit: 170\n",
      " - Store: 1635\n",
      "Snapshots: 2920\n"
     ]
    }
   ],
   "source": [
    "print(exp)"
   ],
   "metadata": {
    "collapsed": false,
    "pycharm": {
     "name": "#%%\n"
    }
   }
  },
  {
   "cell_type": "markdown",
   "source": [
    "### Carrier differences"
   ],
   "metadata": {
    "collapsed": false,
    "pycharm": {
     "name": "#%% md\n"
    }
   }
  },
  {
   "cell_type": "code",
   "execution_count": 11,
   "outputs": [
    {
     "data": {
      "text/plain": "['offwind-ac',\n 'onwind',\n 'solar',\n 'ror',\n 'offwind-dc',\n 'gas',\n 'residential rural solar thermal',\n 'services rural solar thermal',\n 'residential urban decentral solar thermal',\n 'services urban decentral solar thermal',\n 'urban central solar thermal',\n 'oil',\n 'solar rooftop']"
     },
     "execution_count": 11,
     "metadata": {},
     "output_type": "execute_result"
    }
   ],
   "source": [
    "# same carriers for generators\n",
    "set(exp.generators.carrier.unique().tolist()).difference(stst.generators.carrier.unique().tolist())\n",
    "stst.generators.carrier.unique().tolist()"
   ],
   "metadata": {
    "collapsed": false,
    "pycharm": {
     "name": "#%%\n"
    }
   }
  },
  {
   "cell_type": "code",
   "execution_count": 15,
   "outputs": [
    {
     "data": {
      "text/plain": "['DC',\n 'OCGT',\n 'H2 Electrolysis',\n 'H2 Fuel Cell',\n 'H2 pipeline retrofitted',\n 'H2 pipeline',\n 'battery charger',\n 'battery discharger',\n 'Sabatier',\n 'SMR CC',\n 'SMR',\n 'BEV charger',\n 'V2G',\n 'residential rural ground heat pump',\n 'residential rural water tanks charger',\n 'residential rural water tanks discharger',\n 'residential rural resistive heater',\n 'residential rural gas boiler',\n 'services rural ground heat pump',\n 'services rural water tanks charger',\n 'services rural water tanks discharger',\n 'services rural resistive heater',\n 'services rural gas boiler',\n 'residential urban decentral air heat pump',\n 'residential urban decentral water tanks charger',\n 'residential urban decentral water tanks discharger',\n 'residential urban decentral resistive heater',\n 'residential urban decentral gas boiler',\n 'services urban decentral air heat pump',\n 'services urban decentral water tanks charger',\n 'services urban decentral water tanks discharger',\n 'services urban decentral resistive heater',\n 'services urban decentral gas boiler',\n 'urban central air heat pump',\n 'urban central water tanks charger',\n 'urban central water tanks discharger',\n 'urban central resistive heater',\n 'urban central gas boiler',\n 'urban central gas CHP',\n 'urban central gas CHP CC',\n 'biogas to gas',\n 'urban central solid biomass CHP',\n 'urban central solid biomass CHP CC',\n 'solid biomass for industry',\n 'solid biomass for industry CC',\n 'gas for industry',\n 'gas for industry CC',\n 'H2 liquefaction',\n 'Fischer-Tropsch',\n 'process emissions',\n 'process emissions CC',\n 'DAC',\n 'electricity distribution grid',\n 'home battery charger',\n 'home battery discharger']"
     },
     "execution_count": 15,
     "metadata": {},
     "output_type": "execute_result"
    }
   ],
   "source": [
    "# EXP has two additional links: 'H2 pipeline', 'H2 pipeline retrofitted'\n",
    "set(exp.links.carrier.unique().tolist()).difference(stst.links.carrier.unique().tolist())\n",
    "exp.links.carrier.unique().tolist()"
   ],
   "metadata": {
    "collapsed": false,
    "pycharm": {
     "name": "#%%\n"
    }
   }
  },
  {
   "cell_type": "code",
   "execution_count": 18,
   "outputs": [
    {
     "data": {
      "text/plain": "['hydro', 'PHS']"
     },
     "execution_count": 18,
     "metadata": {},
     "output_type": "execute_result"
    }
   ],
   "source": [
    "# same carriers for storage units\n",
    "set(stst.storage_units.carrier.unique().tolist()).difference(exp.storage_units.carrier.unique().tolist())\n",
    "stst.storage_units.carrier.unique().tolist()"
   ],
   "metadata": {
    "collapsed": false,
    "pycharm": {
     "name": "#%%\n"
    }
   }
  },
  {
   "cell_type": "markdown",
   "source": [
    "### Relevant carriers per technology\n",
    "- classify in electricity (gen / con), hydrogen (gen, con) and heat (gen, con)\n",
    "- determine by share of generation / consumption"
   ],
   "metadata": {
    "collapsed": false,
    "pycharm": {
     "name": "#%% md\n"
    }
   }
  },
  {
   "cell_type": "code",
   "execution_count": null,
   "outputs": [],
   "source": [],
   "metadata": {
    "collapsed": false,
    "pycharm": {
     "name": "#%%\n"
    }
   }
  },
  {
   "cell_type": "code",
   "execution_count": null,
   "outputs": [],
   "source": [
    "# investigate in carriers with most generation for both networks\n",
    "# without grid (\"electricity distribution grid\", \"DC\", \"H2 pipeline\", \"H2 pipeline retrofitted\")\n",
    "# storage technologies:\n",
    "\n",
    "carriers_el_gen = [\n",
    "    \"electricity distribution grid\",\n",
    "    \"onwind\",\n",
    "    \"solar\",\n",
    "    \"BEV charger\",\n",
    "    \"offwind-dc\",\n",
    "    \"ror\",\n",
    "    \"hydro\",\n",
    "    \"solar rooftop\",\n",
    "    \"offwind-ac\",\n",
    "    \"battery charger\",\n",
    "    \"battery discharger\",\n",
    "    \"urban central solid biomass CHP CC\",\n",
    "    \"V2G\",\n",
    "    \"PHS\",\n",
    "    \"urban central gas CHP\",\n",
    "    \"urban central solid biomass CHP\",\n",
    "    \"OCGT\",\n",
    "    \"home battery charger\",\n",
    "    \"home battery discharger\",\n",
    "    \"H2 Fuel Cell\",\n",
    "    \"urban central gas CHP CC\",\n",
    "    \"DC\"\n",
    "]\n",
    "\n",
    "carriers_el_con = [\n",
    "    \"PHS\",\n",
    "    \"electricity distribution grid\",\n",
    "    \"H2 Electrolysis\",\n",
    "    \"BEV charger\",\n",
    "    \"urban central air heat pump\",\n",
    "    \"residential urban decentral air heat pump\",\n",
    "    \"residential rural ground heat pump\",\n",
    "    \"services rural ground heat pump\",\n",
    "    \"services urban decentral air heat pump\",\n",
    "    \"urban central resistive heater\",\n",
    "    \"battery charger\",\n",
    "    \"battery discharger\",\n",
    "    \"V2G\",\n",
    "    \"residential urban decentral resistive heater\",\n",
    "    \"residential rural resistive heater\",\n",
    "    \"services urban decentral resistive heater\",\n",
    "    \"services rural resistive heater\",\n",
    "    \"home battery charger\",\n",
    "    \"home battery discharger\",\n",
    "    \"DC\",\n",
    "    \"DAC\",\n",
    "]\n",
    "\n",
    "carriers_h2_gen = [\n",
    "    \"H2 Electrolysis\",\n",
    "    \"SMR CC\",\n",
    "    \"SMR\"\n",
    "]\n",
    "\n",
    "carriers_h2_con = [\n",
    "    \"H2 liquefaction\",\n",
    "    \"H2 Fuel Cell\",\n",
    "    \"Sabatier\",\n",
    "    \"Fischer-Tropsch\"\n",
    "]\n",
    "\n",
    "carriers_heat_gen1 = [\n",
    "    \"urban central air heat pump\",\n",
    "    \"residential urban decentral air heat pump\",\n",
    "    \"residential rural ground heat pump\",\n",
    "    \"services rural ground heat pump\",\n",
    "    \"services urban decentral air heat pump\",\n",
    "    \"urban central gas boiler\",\n",
    "    \"urban central resistive heater\",\n",
    "    \"residential urban decentral gas boiler\",\n",
    "    \"urban central water tanks charger\",\n",
    "    \"urban central water tanks discharger\",\n",
    "    \"residential urban decentral resistive heater\",\n",
    "    \"services urban decentral gas boiler\",\n",
    "    \"urban central solar thermal\",\n",
    "    \"residential rural resistive heater\",\n",
    "    \"services urban decentral resistive heater\",\n",
    "    \"residential rural gas boiler\",\n",
    "    \"services rural resistive heater\",\n",
    "    \"services rural gas boiler\",\n",
    "    \"services rural water tanks charger\",\n",
    "    \"residential rural water tanks charger\",\n",
    "    \"services rural water tanks discharger\",\n",
    "    \"residential rural water tanks discharger\",\n",
    "    \"services urban decentral water tanks charger\",\n",
    "    \"residential urban decentral water tanks charger\",\n",
    "    \"services urban decentral water tanks discharger\",\n",
    "    \"residential urban decentral water tanks discharger\",\n",
    "    \"residential urban decentral solar thermal\",\n",
    "    \"services urban decentral solar thermal\",\n",
    "    \"residential rural solar thermal\",\n",
    "    \"services rural solar thermal\"\n",
    "]\n",
    "\n",
    "carriers_heat_gen2 = [\n",
    "    \"urban central solid biomass CHP CC\",\n",
    "    \"urban central gas CHP\",\n",
    "    \"urban central solid biomass CHP\",\n",
    "    \"H2 Fuel Cell\",\n",
    "    \"urban central gas CHP CC\",\n",
    "    \"DAC\"\n",
    "]\n",
    "\n",
    "carriers_heat_con = [\n",
    "\"urban central water tanks charger\",\n",
    "\"urban central water tanks discharger\",\n",
    "\"services rural water tanks charger\",\n",
    "\"residential rural water tanks charger\",\n",
    "\"services rural water tanks discharger\",\n",
    "\"residential rural water tanks discharger\",\n",
    "\"services urban decentral water tanks charger\",\n",
    "\"residential urban decentral water tanks charger\",\n",
    "\"services urban decentral water tanks discharger\",\n",
    "\"residential urban decentral water tanks discharger\",\n",
    "]\n",
    "\n",
    "# for gas, biomass, oil, process emission, C02 refer to excel table"
   ],
   "metadata": {
    "collapsed": false,
    "pycharm": {
     "name": "#%%\n"
    }
   }
  }
 ],
 "metadata": {
  "kernelspec": {
   "display_name": "Python 3",
   "language": "python",
   "name": "python3"
  },
  "language_info": {
   "codemirror_mode": {
    "name": "ipython",
    "version": 2
   },
   "file_extension": ".py",
   "mimetype": "text/x-python",
   "name": "python",
   "nbconvert_exporter": "python",
   "pygments_lexer": "ipython2",
   "version": "2.7.6"
  }
 },
 "nbformat": 4,
 "nbformat_minor": 0
}