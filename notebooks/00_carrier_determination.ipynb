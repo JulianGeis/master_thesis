{
 "cells": [
  {
   "cell_type": "markdown",
   "source": [
    "## Notebook to determine important carriers for the STST and EXP networks"
   ],
   "metadata": {
    "collapsed": false,
    "pycharm": {
     "name": "#%% md\n"
    }
   }
  },
  {
   "cell_type": "code",
   "execution_count": 1,
   "outputs": [],
   "source": [
    "# imports\n",
    "import pypsa\n",
    "import pandas as pd\n",
    "\n",
    "from utils import nodal_balance\n",
    "from utils import get_condense_sum, carrier_renaming, carrier_renaming_reverse\n",
    "from utils import resistive_heater, gas_boiler, heat_pump, water_tanks_charger, water_tanks_discharger, solar_thermal\n",
    "\n",
    "# Notebook Definitions\n",
    "c1_groups = [resistive_heater, gas_boiler, heat_pump, water_tanks_charger, water_tanks_discharger, solar_thermal]\n",
    "c1_groups_name = [\"resistive heater\", \"gas boiler\", \"heat pump\", \"water tanks charger\", \"water tanks discharger\", \"solar thermal\"]\n",
    "\n",
    "# stst and exp dataframes\n",
    "df_stst_ons = pd.read_pickle(\"../data/processed/df_stst_ons.pkl\")\n",
    "df_stst_off = pd.read_pickle(\"../data/processed/df_stst_off.pkl\")\n",
    "df_exp_ons = pd.read_pickle(\"../data/processed/df_exp_ons.pkl\")\n",
    "df_exp_off = pd.read_pickle(\"../data/processed/df_exp_off.pkl\")"
   ],
   "metadata": {
    "collapsed": false,
    "pycharm": {
     "name": "#%%\n"
    }
   }
  },
  {
   "cell_type": "code",
   "execution_count": 2,
   "outputs": [
    {
     "name": "stderr",
     "output_type": "stream",
     "text": [
      "WARNING:pypsa.io:\n",
      "Importing PyPSA from older version of PyPSA than current version.\n",
      "Please read the release notes at https://pypsa.readthedocs.io/en/latest/release_notes.html\n",
      "carefully to prepare your network for import.\n",
      "Currently used PyPSA version [0, 20, 1], imported network file PyPSA version [0, 18, 1].\n",
      "\n",
      "INFO:pypsa.io:Imported network elec_s_181_lv1.0__Co2L0-3H-T-H-B-I-A-solar+p3-linemaxext10-noH2network_2030.nc has buses, carriers, generators, global_constraints, lines, links, loads, storage_units, stores\n",
      "WARNING:pypsa.io:\n",
      "Importing PyPSA from older version of PyPSA than current version.\n",
      "Please read the release notes at https://pypsa.readthedocs.io/en/latest/release_notes.html\n",
      "carefully to prepare your network for import.\n",
      "Currently used PyPSA version [0, 20, 1], imported network file PyPSA version [0, 18, 1].\n",
      "\n",
      "INFO:pypsa.io:Imported network elec_s_181_lvopt__Co2L0-3H-T-H-B-I-A-solar+p3-linemaxext10_2030.nc has buses, carriers, generators, global_constraints, lines, links, loads, storage_units, stores\n"
     ]
    }
   ],
   "source": [
    "# Network imports\n",
    "stst = pypsa.Network(\"../data/raw/elec_s_181_lv1.0__Co2L0-3H-T-H-B-I-A-solar+p3-linemaxext10-noH2network_2030.nc\")\n",
    "exp = pypsa.Network(\"../data/raw/elec_s_181_lvopt__Co2L0-3H-T-H-B-I-A-solar+p3-linemaxext10_2030.nc\")"
   ],
   "metadata": {
    "collapsed": false,
    "pycharm": {
     "name": "#%%\n"
    }
   }
  },
  {
   "cell_type": "code",
   "execution_count": 3,
   "outputs": [
    {
     "name": "stdout",
     "output_type": "stream",
     "text": [
      "PyPSA Network\n",
      "Components:\n",
      " - Bus: 3086\n",
      " - Carrier: 30\n",
      " - Generator: 1707\n",
      " - GlobalConstraint: 3\n",
      " - Line: 323\n",
      " - Link: 8375\n",
      " - Load: 2542\n",
      " - StorageUnit: 170\n",
      " - Store: 1635\n",
      "Snapshots: 2920\n"
     ]
    }
   ],
   "source": [
    "print(stst)"
   ],
   "metadata": {
    "collapsed": false,
    "pycharm": {
     "name": "#%%\n"
    }
   }
  },
  {
   "cell_type": "code",
   "execution_count": 4,
   "outputs": [
    {
     "name": "stdout",
     "output_type": "stream",
     "text": [
      "PyPSA Network\n",
      "Components:\n",
      " - Bus: 3086\n",
      " - Carrier: 30\n",
      " - Generator: 1707\n",
      " - GlobalConstraint: 2\n",
      " - Line: 323\n",
      " - Link: 9192\n",
      " - Load: 2542\n",
      " - StorageUnit: 170\n",
      " - Store: 1635\n",
      "Snapshots: 2920\n"
     ]
    }
   ],
   "source": [
    "print(exp)"
   ],
   "metadata": {
    "collapsed": false,
    "pycharm": {
     "name": "#%%\n"
    }
   }
  },
  {
   "cell_type": "markdown",
   "source": [
    "### Carrier differences"
   ],
   "metadata": {
    "collapsed": false,
    "pycharm": {
     "name": "#%% md\n"
    }
   }
  },
  {
   "cell_type": "code",
   "execution_count": 5,
   "outputs": [
    {
     "data": {
      "text/plain": "['offwind-ac',\n 'onwind',\n 'solar',\n 'ror',\n 'offwind-dc',\n 'gas',\n 'residential rural solar thermal',\n 'services rural solar thermal',\n 'residential urban decentral solar thermal',\n 'services urban decentral solar thermal',\n 'urban central solar thermal',\n 'oil',\n 'solar rooftop']"
     },
     "execution_count": 5,
     "metadata": {},
     "output_type": "execute_result"
    }
   ],
   "source": [
    "# same carriers for generators\n",
    "set(exp.generators.carrier.unique().tolist()).difference(stst.generators.carrier.unique().tolist())\n",
    "stst.generators.carrier.unique().tolist()"
   ],
   "metadata": {
    "collapsed": false,
    "pycharm": {
     "name": "#%%\n"
    }
   }
  },
  {
   "cell_type": "code",
   "execution_count": 6,
   "outputs": [
    {
     "data": {
      "text/plain": "['DC',\n 'OCGT',\n 'H2 Electrolysis',\n 'H2 Fuel Cell',\n 'H2 pipeline retrofitted',\n 'H2 pipeline',\n 'battery charger',\n 'battery discharger',\n 'Sabatier',\n 'SMR CC',\n 'SMR',\n 'BEV charger',\n 'V2G',\n 'residential rural ground heat pump',\n 'residential rural water tanks charger',\n 'residential rural water tanks discharger',\n 'residential rural resistive heater',\n 'residential rural gas boiler',\n 'services rural ground heat pump',\n 'services rural water tanks charger',\n 'services rural water tanks discharger',\n 'services rural resistive heater',\n 'services rural gas boiler',\n 'residential urban decentral air heat pump',\n 'residential urban decentral water tanks charger',\n 'residential urban decentral water tanks discharger',\n 'residential urban decentral resistive heater',\n 'residential urban decentral gas boiler',\n 'services urban decentral air heat pump',\n 'services urban decentral water tanks charger',\n 'services urban decentral water tanks discharger',\n 'services urban decentral resistive heater',\n 'services urban decentral gas boiler',\n 'urban central air heat pump',\n 'urban central water tanks charger',\n 'urban central water tanks discharger',\n 'urban central resistive heater',\n 'urban central gas boiler',\n 'urban central gas CHP',\n 'urban central gas CHP CC',\n 'biogas to gas',\n 'urban central solid biomass CHP',\n 'urban central solid biomass CHP CC',\n 'solid biomass for industry',\n 'solid biomass for industry CC',\n 'gas for industry',\n 'gas for industry CC',\n 'H2 liquefaction',\n 'Fischer-Tropsch',\n 'process emissions',\n 'process emissions CC',\n 'DAC',\n 'electricity distribution grid',\n 'home battery charger',\n 'home battery discharger']"
     },
     "execution_count": 6,
     "metadata": {},
     "output_type": "execute_result"
    }
   ],
   "source": [
    "# EXP has two additional links: 'H2 pipeline', 'H2 pipeline retrofitted'\n",
    "set(exp.links.carrier.unique().tolist()).difference(stst.links.carrier.unique().tolist())\n",
    "exp.links.carrier.unique().tolist()"
   ],
   "metadata": {
    "collapsed": false,
    "pycharm": {
     "name": "#%%\n"
    }
   }
  },
  {
   "cell_type": "code",
   "execution_count": 7,
   "outputs": [
    {
     "data": {
      "text/plain": "['hydro', 'PHS']"
     },
     "execution_count": 7,
     "metadata": {},
     "output_type": "execute_result"
    }
   ],
   "source": [
    "# same carriers for storage units\n",
    "set(stst.storage_units.carrier.unique().tolist()).difference(exp.storage_units.carrier.unique().tolist())\n",
    "stst.storage_units.carrier.unique().tolist()"
   ],
   "metadata": {
    "collapsed": false,
    "pycharm": {
     "name": "#%%\n"
    }
   }
  },
  {
   "cell_type": "code",
   "execution_count": 8,
   "outputs": [
    {
     "data": {
      "text/plain": "68"
     },
     "execution_count": 8,
     "metadata": {},
     "output_type": "execute_result"
    }
   ],
   "source": [
    "# overall number of carriers:\n",
    "# STST: 68\n",
    "# EXP: 70\n",
    "len(stst.storage_units.carrier.unique().tolist() + stst.links.carrier.unique().tolist() + stst.generators.carrier.unique().tolist())"
   ],
   "metadata": {
    "collapsed": false,
    "pycharm": {
     "name": "#%%\n"
    }
   }
  },
  {
   "cell_type": "markdown",
   "source": [
    "### Relevant carriers per technology\n",
    "- classify in electricity (gen / con), hydrogen (gen, con) and heat (gen, con)\n",
    "- determine by share of generation / consumption"
   ],
   "metadata": {
    "collapsed": false,
    "pycharm": {
     "name": "#%% md\n"
    }
   }
  },
  {
   "cell_type": "code",
   "execution_count": 9,
   "outputs": [
    {
     "data": {
      "text/plain": "carrier\nsolar thermal                 0.000000\nBEV charger                   0.000000\nDAC                           0.000000\nwater tanks charger           0.000000\nH2 Electrolysis               0.000000\nheat pump                     0.000000\ngas boiler                    0.000000\nresistive heater              0.000000\nindustry electricity          0.000000\nagriculture electricity       0.000000\nbattery charger               0.000000\nwater tanks discharger        0.000000\nelectricity                   0.000000\nhome battery charger          0.000000\nAC                            0.000009\nDC                            0.000029\ngas CHP CC                    0.007028\nhome battery discharger       0.130558\nH2 Fuel Cell                  1.409125\nOCGT                          3.031344\nPHS                          46.621278\nV2G                          99.732769\nbiomass CHP CC              105.337329\nror                         138.641227\ngas CHP                     139.465576\noffwind-ac                  182.048413\nsolar rooftop               328.158738\nhydro                       348.187357\nbattery discharger          388.014856\noffwind-dc                  609.327531\nsolar                      3255.956798\nonwind                     4556.001892\ndtype: float64"
     },
     "execution_count": 9,
     "metadata": {},
     "output_type": "execute_result"
    }
   ],
   "source": [
    "# electricity\n",
    "\n",
    "# overall electricity generation in TWh per technology\n",
    "carrier = [\"AC\", \"low voltage\"]\n",
    "nb = nodal_balance(stst, carrier=carrier, time=\"2013\", aggregate=['component', 'bus'], energy=True)\n",
    "# convert from MWh to GWh\n",
    "nb = nb.unstack(level=[1]) / 1000\n",
    "# condense condense_groups\n",
    "nb = get_condense_sum(nb, c1_groups, c1_groups_name)\n",
    "# rename unhandy column names\n",
    "nb.rename(columns=carrier_renaming, inplace=True)\n",
    "# calc sum and convert to TWh\n",
    "(nb[nb > 0].sum() / 1000).sort_values()"
   ],
   "metadata": {
    "collapsed": false,
    "pycharm": {
     "name": "#%%\n"
    }
   }
  },
  {
   "cell_type": "code",
   "execution_count": 10,
   "outputs": [
    {
     "data": {
      "text/plain": "onwind                                4556.001892\nsolar                                 3255.956798\noffwind-dc                             609.327531\nbattery discharger                     388.014856\nhydro                                  348.187357\nsolar rooftop                          328.158738\noffwind-ac                             182.048413\nurban central gas CHP                  139.465576\nror                                    138.641227\nurban central solid biomass CHP CC     105.337329\nV2G                                     99.732769\nPHS                                     46.621278\nOCGT                                     3.031344\nH2 Fuel Cell                             1.409125\nhome battery discharger                  0.130558\nurban central gas CHP CC                 0.007028\ndtype: float64"
     },
     "execution_count": 10,
     "metadata": {},
     "output_type": "execute_result"
    }
   ],
   "source": [
    "pos_gen = (nb[nb > 0].sum() / 1000).sort_values(ascending=False)[(nb[nb > 0].sum() / 1000).sort_values(ascending=False) > 0.001]\n",
    "pos_gen.index = [carrier_renaming_reverse.get(n, n) for n in pos_gen.index]\n",
    "pos_gen.sort_values(ascending=False)"
   ],
   "metadata": {
    "collapsed": false,
    "pycharm": {
     "name": "#%%\n"
    }
   }
  },
  {
   "cell_type": "code",
   "execution_count": 11,
   "outputs": [
    {
     "data": {
      "text/plain": "onwind_gen                                0.446041\nsolar_gen                                 0.318764\noffwind-dc_gen                            0.059655\nbattery discharger_gen                    0.037989\nhydro_gen                                 0.034089\nsolar rooftop_gen                         0.032128\noffwind-ac_gen                            0.017824\nurban central gas CHP_gen                 0.013654\nror_gen                                   0.013573\nurban central solid biomass CHP CC_gen    0.010313\nV2G_gen                                   0.009767\nPHS_gen                                   0.005749\nOCGT_gen                                  0.000297\nH2 Fuel Cell_gen                          0.000139\nhome battery discharger_gen               0.000017\nurban central gas CHP CC_gen              0.000002\ndtype: float64"
     },
     "execution_count": 11,
     "metadata": {},
     "output_type": "execute_result"
    }
   ],
   "source": [
    "(df_stst_ons[[c + \"_gen\" for c in pos_gen.index]].sum() / 1000) / (df_stst_ons[[c + \"_gen\" for c in pos_gen.index]].sum() / 1000).sum()"
   ],
   "metadata": {
    "collapsed": false,
    "pycharm": {
     "name": "#%%\n"
    }
   }
  },
  {
   "cell_type": "code",
   "execution_count": 12,
   "outputs": [
    {
     "data": {
      "text/plain": "carrier\nindustry electricity       0.000000e+00\nwater tanks charger        0.000000e+00\nheat pump                  0.000000e+00\ngas boiler                 0.000000e+00\nresistive heater           0.000000e+00\nwater tanks discharger     0.000000e+00\nhome battery charger       0.000000e+00\nelectricity                0.000000e+00\nsolar thermal              0.000000e+00\nagriculture electricity    0.000000e+00\nBEV charger                0.000000e+00\nH2 Electrolysis            0.000000e+00\nbattery charger            0.000000e+00\nAC                         5.688746e-07\nDC                         2.994737e-05\nhome battery discharger    7.775209e-03\nOCGT                       2.957557e+00\nbiomass CHP                2.709590e+01\nPHS                        4.170369e+01\ngas CHP                    4.740043e+01\nV2G                        6.455862e+01\nbiomass CHP CC             8.104071e+01\nbattery discharger         1.085450e+02\nror                        1.393801e+02\noffwind-ac                 1.441592e+02\nsolar rooftop              2.632494e+02\nhydro                      3.481963e+02\noffwind-dc                 9.688398e+02\nsolar                      2.339819e+03\nonwind                     4.595271e+03\ndtype: float64"
     },
     "execution_count": 12,
     "metadata": {},
     "output_type": "execute_result"
    }
   ],
   "source": [
    "# electricity\n",
    "\n",
    "# overall electricity generation in TWh per technology\n",
    "carrier = [\"AC\", \"low voltage\"]\n",
    "nb = nodal_balance(exp, carrier=carrier, time=\"2013\", aggregate=['component', 'bus'], energy=True)\n",
    "# convert from MWh to GWh\n",
    "nb = nb.unstack(level=[1]) / 1000\n",
    "# condense condense_groups\n",
    "nb = get_condense_sum(nb, c1_groups, c1_groups_name)\n",
    "# rename unhandy column names\n",
    "nb.rename(columns=carrier_renaming, inplace=True)\n",
    "# calc sum and convert to TWh\n",
    "(nb[nb > 0].sum() / 1000).sort_values()"
   ],
   "metadata": {
    "collapsed": false,
    "pycharm": {
     "name": "#%%\n"
    }
   }
  },
  {
   "cell_type": "code",
   "execution_count": 13,
   "outputs": [
    {
     "data": {
      "text/plain": "H2 Electrolysis                  -3558.103289\nelectricity                      -1720.767554\nindustry electricity             -1702.520000\nBEV charger                       -946.278666\nheat pump                         -787.444014\nurban central resistive heater    -239.795041\nbattery charger                   -113.068737\nPHS                                -59.385843\nagriculture electricity            -44.861105\nhome battery charger                -0.015978\ndtype: float64"
     },
     "execution_count": 13,
     "metadata": {},
     "output_type": "execute_result"
    }
   ],
   "source": [
    "pos_gen = (nb[nb < 0].sum() / 1000).sort_values(ascending=False)[(nb[nb < 0].sum() / 1000).sort_values(ascending=False) < -0.001]\n",
    "pos_gen.index = [carrier_renaming_reverse.get(n, n) for n in pos_gen.index]\n",
    "pos_gen.sort_values(ascending=True)"
   ],
   "metadata": {
    "collapsed": false,
    "pycharm": {
     "name": "#%%\n"
    }
   }
  },
  {
   "cell_type": "code",
   "execution_count": 14,
   "outputs": [
    {
     "ename": "NameError",
     "evalue": "name 'carriers_el_gen' is not defined",
     "output_type": "error",
     "traceback": [
      "\u001B[1;31m---------------------------------------------------------------------------\u001B[0m",
      "\u001B[1;31mNameError\u001B[0m                                 Traceback (most recent call last)",
      "Input \u001B[1;32mIn [14]\u001B[0m, in \u001B[0;36m<cell line: 1>\u001B[1;34m()\u001B[0m\n\u001B[1;32m----> 1\u001B[0m (df_stst_ons[[c \u001B[38;5;241m+\u001B[39m \u001B[38;5;124m\"\u001B[39m\u001B[38;5;124m_gen\u001B[39m\u001B[38;5;124m\"\u001B[39m \u001B[38;5;28;01mfor\u001B[39;00m c \u001B[38;5;129;01min\u001B[39;00m \u001B[43mcarriers_el_gen\u001B[49m]]\u001B[38;5;241m.\u001B[39msum() \u001B[38;5;241m/\u001B[39m \u001B[38;5;241m1000\u001B[39m)\u001B[38;5;241m.\u001B[39msort_values(ascending\u001B[38;5;241m=\u001B[39m\u001B[38;5;28;01mFalse\u001B[39;00m)\n",
      "\u001B[1;31mNameError\u001B[0m: name 'carriers_el_gen' is not defined"
     ]
    }
   ],
   "source": [
    "(df_stst_ons[[c + \"_gen\" for c in carriers_el_gen]].sum() / 1000).sort_values(ascending=False)"
   ],
   "metadata": {
    "collapsed": false,
    "pycharm": {
     "name": "#%%\n"
    }
   }
  },
  {
   "cell_type": "code",
   "execution_count": null,
   "outputs": [],
   "source": [
    "(df_exp_ons[[c + \"_gen\" for c in carriers_el_gen]].sum() / 1000).sort_values(ascending=False)"
   ],
   "metadata": {
    "collapsed": false,
    "pycharm": {
     "name": "#%%\n"
    }
   }
  },
  {
   "cell_type": "code",
   "execution_count": null,
   "outputs": [],
   "source": [
    "# investigate in carriers with most generation for both networks\n",
    "# without grid (\"electricity distribution grid\", \"DC\", \"H2 pipeline\", \"H2 pipeline retrofitted\")\n",
    "# storage technologies:\n",
    "\n",
    "carriers_el_gen = [\n",
    "    \"electricity distribution grid\",\n",
    "    \"onwind\",\n",
    "    \"solar\",\n",
    "    \"BEV charger\",\n",
    "    \"offwind-dc\",\n",
    "    \"ror\",\n",
    "    \"hydro\",\n",
    "    \"solar rooftop\",\n",
    "    \"offwind-ac\",\n",
    "    \"battery charger\",\n",
    "    \"battery discharger\",\n",
    "    \"urban central solid biomass CHP CC\",\n",
    "    \"V2G\",\n",
    "    \"PHS\",\n",
    "    \"urban central gas CHP\",\n",
    "    \"urban central solid biomass CHP\",\n",
    "    \"OCGT\",\n",
    "    \"home battery charger\",\n",
    "    \"home battery discharger\",\n",
    "    \"H2 Fuel Cell\",\n",
    "    \"urban central gas CHP CC\",\n",
    "    \"DC\"\n",
    "]\n",
    "\n",
    "carriers_el_con = [\n",
    "    \"PHS\",\n",
    "    \"electricity distribution grid\",\n",
    "    \"H2 Electrolysis\",\n",
    "    \"BEV charger\",\n",
    "    \"urban central air heat pump\",\n",
    "    \"residential urban decentral air heat pump\",\n",
    "    \"residential rural ground heat pump\",\n",
    "    \"services rural ground heat pump\",\n",
    "    \"services urban decentral air heat pump\",\n",
    "    \"urban central resistive heater\",\n",
    "    \"battery charger\",\n",
    "    \"battery discharger\",\n",
    "    \"V2G\",\n",
    "    \"residential urban decentral resistive heater\",\n",
    "    \"residential rural resistive heater\",\n",
    "    \"services urban decentral resistive heater\",\n",
    "    \"services rural resistive heater\",\n",
    "    \"home battery charger\",\n",
    "    \"home battery discharger\",\n",
    "    \"DC\",\n",
    "    \"DAC\",\n",
    "]\n",
    "\n",
    "carriers_h2_gen = [\n",
    "    \"H2 Electrolysis\",\n",
    "    \"SMR CC\",\n",
    "    \"SMR\"\n",
    "]\n",
    "\n",
    "carriers_h2_con = [\n",
    "    \"H2 liquefaction\",\n",
    "    \"H2 Fuel Cell\",\n",
    "    \"Sabatier\",\n",
    "    \"Fischer-Tropsch\"\n",
    "]\n",
    "\n",
    "carriers_heat_gen1 = [\n",
    "    \"urban central air heat pump\",\n",
    "    \"residential urban decentral air heat pump\",\n",
    "    \"residential rural ground heat pump\",\n",
    "    \"services rural ground heat pump\",\n",
    "    \"services urban decentral air heat pump\",\n",
    "    \"urban central gas boiler\",\n",
    "    \"urban central resistive heater\",\n",
    "    \"residential urban decentral gas boiler\",\n",
    "    \"urban central water tanks charger\",\n",
    "    \"urban central water tanks discharger\",\n",
    "    \"residential urban decentral resistive heater\",\n",
    "    \"services urban decentral gas boiler\",\n",
    "    \"urban central solar thermal\",\n",
    "    \"residential rural resistive heater\",\n",
    "    \"services urban decentral resistive heater\",\n",
    "    \"residential rural gas boiler\",\n",
    "    \"services rural resistive heater\",\n",
    "    \"services rural gas boiler\",\n",
    "    \"services rural water tanks charger\",\n",
    "    \"residential rural water tanks charger\",\n",
    "    \"services rural water tanks discharger\",\n",
    "    \"residential rural water tanks discharger\",\n",
    "    \"services urban decentral water tanks charger\",\n",
    "    \"residential urban decentral water tanks charger\",\n",
    "    \"services urban decentral water tanks discharger\",\n",
    "    \"residential urban decentral water tanks discharger\",\n",
    "    \"residential urban decentral solar thermal\",\n",
    "    \"services urban decentral solar thermal\",\n",
    "    \"residential rural solar thermal\",\n",
    "    \"services rural solar thermal\"\n",
    "]\n",
    "\n",
    "carriers_heat_gen2 = [\n",
    "    \"urban central solid biomass CHP CC\",\n",
    "    \"urban central gas CHP\",\n",
    "    \"urban central solid biomass CHP\",\n",
    "    \"H2 Fuel Cell\",\n",
    "    \"urban central gas CHP CC\",\n",
    "    \"DAC\"\n",
    "]\n",
    "\n",
    "carriers_heat_con = [\n",
    "\"urban central water tanks charger\",\n",
    "\"urban central water tanks discharger\",\n",
    "\"services rural water tanks charger\",\n",
    "\"residential rural water tanks charger\",\n",
    "\"services rural water tanks discharger\",\n",
    "\"residential rural water tanks discharger\",\n",
    "\"services urban decentral water tanks charger\",\n",
    "\"residential urban decentral water tanks charger\",\n",
    "\"services urban decentral water tanks discharger\",\n",
    "\"residential urban decentral water tanks discharger\",\n",
    "]\n",
    "\n",
    "# for gas, biomass, oil, process emission, C02 refer to excel table"
   ],
   "metadata": {
    "collapsed": false,
    "pycharm": {
     "name": "#%%\n"
    }
   }
  },
  {
   "cell_type": "code",
   "execution_count": null,
   "outputs": [],
   "source": [
    "# select carriers which make most sense\n",
    "\n",
    "# ordered according to (df_stst_ons[[c + \"_gen\" for c in c_el_gen_s]].sum() + df_exp_ons[[c + \"_gen\" for c in c_el_gen_s]].sum()).sort_values(ascending=False)\n",
    "# overall less than 50 TWh: urban central gas CHP CC, fuel cell, home battery discharger, OCGT, urban central solid biomass CHP,\n",
    "c_el_gen_s = [\n",
    "    \"onwind\",\n",
    "    \"solar\",\n",
    "    \"offwind-dc\",\n",
    "    \"hydro\",\n",
    "    \"solar rooftop\",\n",
    "    \"battery discharger\",\n",
    "    \"offwind-ac\",\n",
    "    \"ror\",\n",
    "    \"urban central gas CHP\",\n",
    "    \"urban central solid biomass CHP CC\",\n",
    "    \"V2G\",\n",
    "    \"PHS\"\n",
    "]\n",
    "\n",
    "# use urban central air heat pump as only heat pump (max generation)\n",
    "# use urban central resistive heater (max generation)\n",
    "# overall less than 50 TWh: home battery charger\n",
    "# ordered according to (df_stst_ons[[c + \"_con_el\" for c in c_el_con_s]].sum() + df_exp_ons[[c + \"_con_el\" for c in c_el_con_s]].sum()).sort_values(ascending=False)\n",
    "c_el_con_s = [\n",
    "    \"H2 Electrolysis\",\n",
    "    \"BEV charger\",\n",
    "    \"battery charger\",\n",
    "    \"urban central air heat pump\",\n",
    "    \"urban central resistive heater\",\n",
    "    \"PHS\",\n",
    "]\n",
    "\n",
    "carriers_h2_gen = [\n",
    "    \"H2 Electrolysis\",\n",
    "    \"SMR CC\",\n",
    "    \"SMR\"\n",
    "]\n",
    "\n",
    "carriers_h2_con = [\n",
    "    \"H2 liquefaction\",\n",
    "    \"H2 Fuel Cell\"\n",
    "    \"Sabatier\",\n",
    "    \"Fischer-Tropsch\"\n",
    "]\n",
    "\n",
    "# use urban central air heat pump as only heat pump (max generation)\n",
    "# use urban central resistive heater (max generation)\n",
    "# use urban central gas boiler (max generation)\n",
    "# use urban central water tanks charger (max generation)\n",
    "# use urban central solar thermal (max generation)\n",
    "\n",
    "carriers_heat_gen1 = [\n",
    "    \"urban central air heat pump\"\n",
    "    \"urban central gas boiler\"\n",
    "    \"urban central resistive heater\"\n",
    "    \"urban central water tanks discharger\"\n",
    "    \"urban central solar thermal\"\n",
    "]\n",
    "\n",
    "carriers_heat_gen2 = [\n",
    "    \"urban central solid biomass CHP CC\",\n",
    "    \"urban central gas CHP\",\n",
    "    \"urban central solid biomass CHP\",\n",
    "    \"H2 Fuel Cell\",\n",
    "    \"urban central gas CHP CC\",\n",
    "    \"DAC\"\n",
    "]\n",
    "\n",
    "carriers_heat_con = [\n",
    "\"urban central water tanks charger\",\n",
    "]\n",
    "\n",
    "# for gas, biomass, oil, process emission, C02 refer to excel table"
   ],
   "metadata": {
    "collapsed": false,
    "pycharm": {
     "name": "#%%\n"
    }
   }
  },
  {
   "cell_type": "code",
   "execution_count": null,
   "outputs": [],
   "source": [
    "n = stst\n",
    "all_c = n.generators.carrier.unique().tolist() + n.links.carrier.unique().tolist() + n.storage_units.carrier.unique().tolist()\n",
    "\n",
    "# carriers not in any list:\n",
    "set(all_c).difference(carriers_el_gen + carriers_el_con + carriers_h2_gen + carriers_h2_con + carriers_heat_gen1 + carriers_heat_con)"
   ],
   "metadata": {
    "collapsed": false,
    "pycharm": {
     "name": "#%%\n"
    }
   }
  },
  {
   "cell_type": "code",
   "execution_count": null,
   "outputs": [],
   "source": [
    "# Check second and third output of links\n",
    "# what is with DAC?"
   ],
   "metadata": {
    "collapsed": false,
    "pycharm": {
     "name": "#%%\n"
    }
   }
  },
  {
   "cell_type": "code",
   "execution_count": null,
   "outputs": [],
   "source": [
    "n.links[n.links.carrier == \"DAC\"]"
   ],
   "metadata": {
    "collapsed": false,
    "pycharm": {
     "name": "#%%\n"
    }
   }
  },
  {
   "cell_type": "code",
   "execution_count": null,
   "outputs": [],
   "source": [
    "# exclude technologies with less than 0.5 % of total generation or consumption in both scenarios\n",
    "stst_car = df_stst_ons[[c + \"_gen\" for c in carriers_el_gen]].sum()[df_stst_ons[[c + \"_gen\" for c in carriers_el_gen]].sum() < 51*1e3].index\n",
    "exp_car   = df_exp_ons[[c + \"_gen\" for c in carriers_el_gen]].sum()[df_exp_ons[[c + \"_gen\" for c in carriers_el_gen]].sum() < 46*1e3].index\n",
    "set(stst_car).intersection(exp_car)"
   ],
   "metadata": {
    "collapsed": false,
    "pycharm": {
     "name": "#%%\n"
    }
   }
  },
  {
   "cell_type": "code",
   "execution_count": null,
   "outputs": [],
   "source": [
    "# Questions Fabian"
   ],
   "metadata": {
    "collapsed": false,
    "pycharm": {
     "name": "#%%\n"
    }
   }
  },
  {
   "cell_type": "code",
   "execution_count": 15,
   "outputs": [
    {
     "data": {
      "text/plain": "                                              bus0        bus1 carrier  \\\nLink                                                                     \nAL0 0 services urban decentral DAC  co2 atmosphere  co2 stored     DAC   \nAT0 0 services urban decentral DAC  co2 atmosphere  co2 stored     DAC   \nAT0 1 services urban decentral DAC  co2 atmosphere  co2 stored     DAC   \nAT0 2 services urban decentral DAC  co2 atmosphere  co2 stored     DAC   \nBA0 0 services urban decentral DAC  co2 atmosphere  co2 stored     DAC   \n...                                            ...         ...     ...   \nSE3 5 urban central DAC             co2 atmosphere  co2 stored     DAC   \nSE3 6 urban central DAC             co2 atmosphere  co2 stored     DAC   \nSE3 7 urban central DAC             co2 atmosphere  co2 stored     DAC   \nSI0 0 urban central DAC             co2 atmosphere  co2 stored     DAC   \nSK0 0 urban central DAC             co2 atmosphere  co2 stored     DAC   \n\n                                   geometry  length  p_nom tags  \\\nLink                                                              \nAL0 0 services urban decentral DAC              0.0    0.0        \nAT0 0 services urban decentral DAC              0.0    0.0        \nAT0 1 services urban decentral DAC              0.0    0.0        \nAT0 2 services urban decentral DAC              0.0    0.0        \nBA0 0 services urban decentral DAC              0.0    0.0        \n...                                     ...     ...    ...  ...   \nSE3 5 urban central DAC                         0.0    0.0        \nSE3 6 urban central DAC                         0.0    0.0        \nSE3 7 urban central DAC                         0.0    0.0        \nSI0 0 urban central DAC                         0.0    0.0        \nSK0 0 urban central DAC                         0.0    0.0        \n\n                                    under_construction  underground  p_min_pu  \\\nLink                                                                            \nAL0 0 services urban decentral DAC                 NaN          NaN       0.0   \nAT0 0 services urban decentral DAC                 NaN          NaN       0.0   \nAT0 1 services urban decentral DAC                 NaN          NaN       0.0   \nAT0 2 services urban decentral DAC                 NaN          NaN       0.0   \nBA0 0 services urban decentral DAC                 NaN          NaN       0.0   \n...                                                ...          ...       ...   \nSE3 5 urban central DAC                            NaN          NaN       0.0   \nSE3 6 urban central DAC                            NaN          NaN       0.0   \nSE3 7 urban central DAC                            NaN          NaN       0.0   \nSI0 0 urban central DAC                            NaN          NaN       0.0   \nSK0 0 urban central DAC                            NaN          NaN       0.0   \n\n                                    ...  p_nom_opt  charger_ratio  type  \\\nLink                                ...                                   \nAL0 0 services urban decentral DAC  ...   0.009234            NaN         \nAT0 0 services urban decentral DAC  ...   0.006710            NaN         \nAT0 1 services urban decentral DAC  ...   0.005143            NaN         \nAT0 2 services urban decentral DAC  ...   0.006415            NaN         \nBA0 0 services urban decentral DAC  ...   0.007397            NaN         \n...                                 ...        ...            ...   ...   \nSE3 5 urban central DAC             ...   0.007536            NaN         \nSE3 6 urban central DAC             ...   0.008375            NaN         \nSE3 7 urban central DAC             ...   0.007742            NaN         \nSI0 0 urban central DAC             ...   0.006090            NaN         \nSK0 0 urban central DAC             ...   0.006297            NaN         \n\n                                    build_year p_nom_min p_set p_max_pu  \\\nLink                                                                      \nAL0 0 services urban decentral DAC           0       0.0   0.0      1.0   \nAT0 0 services urban decentral DAC           0       0.0   0.0      1.0   \nAT0 1 services urban decentral DAC           0       0.0   0.0      1.0   \nAT0 2 services urban decentral DAC           0       0.0   0.0      1.0   \nBA0 0 services urban decentral DAC           0       0.0   0.0      1.0   \n...                                        ...       ...   ...      ...   \nSE3 5 urban central DAC                      0       0.0   0.0      1.0   \nSE3 6 urban central DAC                      0       0.0   0.0      1.0   \nSE3 7 urban central DAC                      0       0.0   0.0      1.0   \nSI0 0 urban central DAC                      0       0.0   0.0      1.0   \nSK0 0 urban central DAC                      0       0.0   0.0      1.0   \n\n                                    terrain_factor  ramp_limit_up  \\\nLink                                                                \nAL0 0 services urban decentral DAC             1.0            NaN   \nAT0 0 services urban decentral DAC             1.0            NaN   \nAT0 1 services urban decentral DAC             1.0            NaN   \nAT0 2 services urban decentral DAC             1.0            NaN   \nBA0 0 services urban decentral DAC             1.0            NaN   \n...                                            ...            ...   \nSE3 5 urban central DAC                        1.0            NaN   \nSE3 6 urban central DAC                        1.0            NaN   \nSE3 7 urban central DAC                        1.0            NaN   \nSI0 0 urban central DAC                        1.0            NaN   \nSK0 0 urban central DAC                        1.0            NaN   \n\n                                    ramp_limit_down  \nLink                                                 \nAL0 0 services urban decentral DAC              NaN  \nAT0 0 services urban decentral DAC              NaN  \nAT0 1 services urban decentral DAC              NaN  \nAT0 2 services urban decentral DAC              NaN  \nBA0 0 services urban decentral DAC              NaN  \n...                                             ...  \nSE3 5 urban central DAC                         NaN  \nSE3 6 urban central DAC                         NaN  \nSE3 7 urban central DAC                         NaN  \nSI0 0 urban central DAC                         NaN  \nSK0 0 urban central DAC                         NaN  \n\n[362 rows x 33 columns]",
      "text/html": "<div>\n<style scoped>\n    .dataframe tbody tr th:only-of-type {\n        vertical-align: middle;\n    }\n\n    .dataframe tbody tr th {\n        vertical-align: top;\n    }\n\n    .dataframe thead th {\n        text-align: right;\n    }\n</style>\n<table border=\"1\" class=\"dataframe\">\n  <thead>\n    <tr style=\"text-align: right;\">\n      <th></th>\n      <th>bus0</th>\n      <th>bus1</th>\n      <th>carrier</th>\n      <th>geometry</th>\n      <th>length</th>\n      <th>p_nom</th>\n      <th>tags</th>\n      <th>under_construction</th>\n      <th>underground</th>\n      <th>p_min_pu</th>\n      <th>...</th>\n      <th>p_nom_opt</th>\n      <th>charger_ratio</th>\n      <th>type</th>\n      <th>build_year</th>\n      <th>p_nom_min</th>\n      <th>p_set</th>\n      <th>p_max_pu</th>\n      <th>terrain_factor</th>\n      <th>ramp_limit_up</th>\n      <th>ramp_limit_down</th>\n    </tr>\n    <tr>\n      <th>Link</th>\n      <th></th>\n      <th></th>\n      <th></th>\n      <th></th>\n      <th></th>\n      <th></th>\n      <th></th>\n      <th></th>\n      <th></th>\n      <th></th>\n      <th></th>\n      <th></th>\n      <th></th>\n      <th></th>\n      <th></th>\n      <th></th>\n      <th></th>\n      <th></th>\n      <th></th>\n      <th></th>\n      <th></th>\n    </tr>\n  </thead>\n  <tbody>\n    <tr>\n      <th>AL0 0 services urban decentral DAC</th>\n      <td>co2 atmosphere</td>\n      <td>co2 stored</td>\n      <td>DAC</td>\n      <td></td>\n      <td>0.0</td>\n      <td>0.0</td>\n      <td></td>\n      <td>NaN</td>\n      <td>NaN</td>\n      <td>0.0</td>\n      <td>...</td>\n      <td>0.009234</td>\n      <td>NaN</td>\n      <td></td>\n      <td>0</td>\n      <td>0.0</td>\n      <td>0.0</td>\n      <td>1.0</td>\n      <td>1.0</td>\n      <td>NaN</td>\n      <td>NaN</td>\n    </tr>\n    <tr>\n      <th>AT0 0 services urban decentral DAC</th>\n      <td>co2 atmosphere</td>\n      <td>co2 stored</td>\n      <td>DAC</td>\n      <td></td>\n      <td>0.0</td>\n      <td>0.0</td>\n      <td></td>\n      <td>NaN</td>\n      <td>NaN</td>\n      <td>0.0</td>\n      <td>...</td>\n      <td>0.006710</td>\n      <td>NaN</td>\n      <td></td>\n      <td>0</td>\n      <td>0.0</td>\n      <td>0.0</td>\n      <td>1.0</td>\n      <td>1.0</td>\n      <td>NaN</td>\n      <td>NaN</td>\n    </tr>\n    <tr>\n      <th>AT0 1 services urban decentral DAC</th>\n      <td>co2 atmosphere</td>\n      <td>co2 stored</td>\n      <td>DAC</td>\n      <td></td>\n      <td>0.0</td>\n      <td>0.0</td>\n      <td></td>\n      <td>NaN</td>\n      <td>NaN</td>\n      <td>0.0</td>\n      <td>...</td>\n      <td>0.005143</td>\n      <td>NaN</td>\n      <td></td>\n      <td>0</td>\n      <td>0.0</td>\n      <td>0.0</td>\n      <td>1.0</td>\n      <td>1.0</td>\n      <td>NaN</td>\n      <td>NaN</td>\n    </tr>\n    <tr>\n      <th>AT0 2 services urban decentral DAC</th>\n      <td>co2 atmosphere</td>\n      <td>co2 stored</td>\n      <td>DAC</td>\n      <td></td>\n      <td>0.0</td>\n      <td>0.0</td>\n      <td></td>\n      <td>NaN</td>\n      <td>NaN</td>\n      <td>0.0</td>\n      <td>...</td>\n      <td>0.006415</td>\n      <td>NaN</td>\n      <td></td>\n      <td>0</td>\n      <td>0.0</td>\n      <td>0.0</td>\n      <td>1.0</td>\n      <td>1.0</td>\n      <td>NaN</td>\n      <td>NaN</td>\n    </tr>\n    <tr>\n      <th>BA0 0 services urban decentral DAC</th>\n      <td>co2 atmosphere</td>\n      <td>co2 stored</td>\n      <td>DAC</td>\n      <td></td>\n      <td>0.0</td>\n      <td>0.0</td>\n      <td></td>\n      <td>NaN</td>\n      <td>NaN</td>\n      <td>0.0</td>\n      <td>...</td>\n      <td>0.007397</td>\n      <td>NaN</td>\n      <td></td>\n      <td>0</td>\n      <td>0.0</td>\n      <td>0.0</td>\n      <td>1.0</td>\n      <td>1.0</td>\n      <td>NaN</td>\n      <td>NaN</td>\n    </tr>\n    <tr>\n      <th>...</th>\n      <td>...</td>\n      <td>...</td>\n      <td>...</td>\n      <td>...</td>\n      <td>...</td>\n      <td>...</td>\n      <td>...</td>\n      <td>...</td>\n      <td>...</td>\n      <td>...</td>\n      <td>...</td>\n      <td>...</td>\n      <td>...</td>\n      <td>...</td>\n      <td>...</td>\n      <td>...</td>\n      <td>...</td>\n      <td>...</td>\n      <td>...</td>\n      <td>...</td>\n      <td>...</td>\n    </tr>\n    <tr>\n      <th>SE3 5 urban central DAC</th>\n      <td>co2 atmosphere</td>\n      <td>co2 stored</td>\n      <td>DAC</td>\n      <td></td>\n      <td>0.0</td>\n      <td>0.0</td>\n      <td></td>\n      <td>NaN</td>\n      <td>NaN</td>\n      <td>0.0</td>\n      <td>...</td>\n      <td>0.007536</td>\n      <td>NaN</td>\n      <td></td>\n      <td>0</td>\n      <td>0.0</td>\n      <td>0.0</td>\n      <td>1.0</td>\n      <td>1.0</td>\n      <td>NaN</td>\n      <td>NaN</td>\n    </tr>\n    <tr>\n      <th>SE3 6 urban central DAC</th>\n      <td>co2 atmosphere</td>\n      <td>co2 stored</td>\n      <td>DAC</td>\n      <td></td>\n      <td>0.0</td>\n      <td>0.0</td>\n      <td></td>\n      <td>NaN</td>\n      <td>NaN</td>\n      <td>0.0</td>\n      <td>...</td>\n      <td>0.008375</td>\n      <td>NaN</td>\n      <td></td>\n      <td>0</td>\n      <td>0.0</td>\n      <td>0.0</td>\n      <td>1.0</td>\n      <td>1.0</td>\n      <td>NaN</td>\n      <td>NaN</td>\n    </tr>\n    <tr>\n      <th>SE3 7 urban central DAC</th>\n      <td>co2 atmosphere</td>\n      <td>co2 stored</td>\n      <td>DAC</td>\n      <td></td>\n      <td>0.0</td>\n      <td>0.0</td>\n      <td></td>\n      <td>NaN</td>\n      <td>NaN</td>\n      <td>0.0</td>\n      <td>...</td>\n      <td>0.007742</td>\n      <td>NaN</td>\n      <td></td>\n      <td>0</td>\n      <td>0.0</td>\n      <td>0.0</td>\n      <td>1.0</td>\n      <td>1.0</td>\n      <td>NaN</td>\n      <td>NaN</td>\n    </tr>\n    <tr>\n      <th>SI0 0 urban central DAC</th>\n      <td>co2 atmosphere</td>\n      <td>co2 stored</td>\n      <td>DAC</td>\n      <td></td>\n      <td>0.0</td>\n      <td>0.0</td>\n      <td></td>\n      <td>NaN</td>\n      <td>NaN</td>\n      <td>0.0</td>\n      <td>...</td>\n      <td>0.006090</td>\n      <td>NaN</td>\n      <td></td>\n      <td>0</td>\n      <td>0.0</td>\n      <td>0.0</td>\n      <td>1.0</td>\n      <td>1.0</td>\n      <td>NaN</td>\n      <td>NaN</td>\n    </tr>\n    <tr>\n      <th>SK0 0 urban central DAC</th>\n      <td>co2 atmosphere</td>\n      <td>co2 stored</td>\n      <td>DAC</td>\n      <td></td>\n      <td>0.0</td>\n      <td>0.0</td>\n      <td></td>\n      <td>NaN</td>\n      <td>NaN</td>\n      <td>0.0</td>\n      <td>...</td>\n      <td>0.006297</td>\n      <td>NaN</td>\n      <td></td>\n      <td>0</td>\n      <td>0.0</td>\n      <td>0.0</td>\n      <td>1.0</td>\n      <td>1.0</td>\n      <td>NaN</td>\n      <td>NaN</td>\n    </tr>\n  </tbody>\n</table>\n<p>362 rows × 33 columns</p>\n</div>"
     },
     "execution_count": 15,
     "metadata": {},
     "output_type": "execute_result"
    }
   ],
   "source": [
    "stst.links[stst.links.carrier == \"DAC\"]"
   ],
   "metadata": {
    "collapsed": false,
    "pycharm": {
     "name": "#%%\n"
    }
   }
  },
  {
   "cell_type": "code",
   "execution_count": 27,
   "outputs": [
    {
     "data": {
      "text/plain": "-0.472020381361872"
     },
     "execution_count": 27,
     "metadata": {},
     "output_type": "execute_result"
    }
   ],
   "source": [
    "stst.links_t.p1.loc[: ,stst.links.carrier == \"H2 Fuel Cell\"].sum().sum() / 1e6"
   ],
   "metadata": {
    "collapsed": false,
    "pycharm": {
     "name": "#%%\n"
    }
   }
  },
  {
   "cell_type": "code",
   "execution_count": 28,
   "outputs": [
    {
     "data": {
      "text/plain": "-0.002298661117573675"
     },
     "execution_count": 28,
     "metadata": {},
     "output_type": "execute_result"
    }
   ],
   "source": [
    "exp.links_t.p1.loc[: ,exp.links.carrier == \"H2 Fuel Cell\"].sum().sum() / 1e6"
   ],
   "metadata": {
    "collapsed": false,
    "pycharm": {
     "name": "#%%\n"
    }
   }
  },
  {
   "cell_type": "code",
   "execution_count": 20,
   "outputs": [
    {
     "data": {
      "text/plain": "0.001333884830489484"
     },
     "execution_count": 20,
     "metadata": {},
     "output_type": "execute_result"
    }
   ],
   "source": [
    "exp.links_t.p2.loc[: ,exp.links.carrier == \"DAC\"].sum().sum() / 1e6"
   ],
   "metadata": {
    "collapsed": false,
    "pycharm": {
     "name": "#%%\n"
    }
   }
  },
  {
   "cell_type": "code",
   "execution_count": 21,
   "outputs": [
    {
     "data": {
      "text/plain": "                               bus0   bus1                carrier geometry  \\\nLink                                                                         \nAL0 0 urban central gas CHP  EU gas  AL0 0  urban central gas CHP            \nAT0 0 urban central gas CHP  EU gas  AT0 0  urban central gas CHP            \nAT0 1 urban central gas CHP  EU gas  AT0 1  urban central gas CHP            \nAT0 2 urban central gas CHP  EU gas  AT0 2  urban central gas CHP            \nBA0 0 urban central gas CHP  EU gas  BA0 0  urban central gas CHP            \n...                             ...    ...                    ...      ...   \nSE3 5 urban central gas CHP  EU gas  SE3 5  urban central gas CHP            \nSE3 6 urban central gas CHP  EU gas  SE3 6  urban central gas CHP            \nSE3 7 urban central gas CHP  EU gas  SE3 7  urban central gas CHP            \nSI0 0 urban central gas CHP  EU gas  SI0 0  urban central gas CHP            \nSK0 0 urban central gas CHP  EU gas  SK0 0  urban central gas CHP            \n\n                             length  p_nom tags  under_construction  \\\nLink                                                                  \nAL0 0 urban central gas CHP     0.0    0.0                      NaN   \nAT0 0 urban central gas CHP     0.0    0.0                      NaN   \nAT0 1 urban central gas CHP     0.0    0.0                      NaN   \nAT0 2 urban central gas CHP     0.0    0.0                      NaN   \nBA0 0 urban central gas CHP     0.0    0.0                      NaN   \n...                             ...    ...  ...                 ...   \nSE3 5 urban central gas CHP     0.0    0.0                      NaN   \nSE3 6 urban central gas CHP     0.0    0.0                      NaN   \nSE3 7 urban central gas CHP     0.0    0.0                      NaN   \nSI0 0 urban central gas CHP     0.0    0.0                      NaN   \nSK0 0 urban central gas CHP     0.0    0.0                      NaN   \n\n                             underground  p_min_pu  ...    p_nom_opt  \\\nLink                                                ...                \nAL0 0 urban central gas CHP          NaN       0.0  ...   104.366725   \nAT0 0 urban central gas CHP          NaN       0.0  ...  2206.113812   \nAT0 1 urban central gas CHP          NaN       0.0  ...   186.336666   \nAT0 2 urban central gas CHP          NaN       0.0  ...   151.861355   \nBA0 0 urban central gas CHP          NaN       0.0  ...   235.885958   \n...                                  ...       ...  ...          ...   \nSE3 5 urban central gas CHP          NaN       0.0  ...     0.238039   \nSE3 6 urban central gas CHP          NaN       0.0  ...  1948.478570   \nSE3 7 urban central gas CHP          NaN       0.0  ...     0.140468   \nSI0 0 urban central gas CHP          NaN       0.0  ...   798.612984   \nSK0 0 urban central gas CHP          NaN       0.0  ...  2797.000703   \n\n                             charger_ratio  type  build_year p_nom_min p_set  \\\nLink                                                                           \nAL0 0 urban central gas CHP            NaN                 0       0.0   0.0   \nAT0 0 urban central gas CHP            NaN                 0       0.0   0.0   \nAT0 1 urban central gas CHP            NaN                 0       0.0   0.0   \nAT0 2 urban central gas CHP            NaN                 0       0.0   0.0   \nBA0 0 urban central gas CHP            NaN                 0       0.0   0.0   \n...                                    ...   ...         ...       ...   ...   \nSE3 5 urban central gas CHP            NaN                 0       0.0   0.0   \nSE3 6 urban central gas CHP            NaN                 0       0.0   0.0   \nSE3 7 urban central gas CHP            NaN                 0       0.0   0.0   \nSI0 0 urban central gas CHP            NaN                 0       0.0   0.0   \nSK0 0 urban central gas CHP            NaN                 0       0.0   0.0   \n\n                            p_max_pu  terrain_factor  ramp_limit_up  \\\nLink                                                                  \nAL0 0 urban central gas CHP      1.0             1.0            NaN   \nAT0 0 urban central gas CHP      1.0             1.0            NaN   \nAT0 1 urban central gas CHP      1.0             1.0            NaN   \nAT0 2 urban central gas CHP      1.0             1.0            NaN   \nBA0 0 urban central gas CHP      1.0             1.0            NaN   \n...                              ...             ...            ...   \nSE3 5 urban central gas CHP      1.0             1.0            NaN   \nSE3 6 urban central gas CHP      1.0             1.0            NaN   \nSE3 7 urban central gas CHP      1.0             1.0            NaN   \nSI0 0 urban central gas CHP      1.0             1.0            NaN   \nSK0 0 urban central gas CHP      1.0             1.0            NaN   \n\n                             ramp_limit_down  \nLink                                          \nAL0 0 urban central gas CHP              NaN  \nAT0 0 urban central gas CHP              NaN  \nAT0 1 urban central gas CHP              NaN  \nAT0 2 urban central gas CHP              NaN  \nBA0 0 urban central gas CHP              NaN  \n...                                      ...  \nSE3 5 urban central gas CHP              NaN  \nSE3 6 urban central gas CHP              NaN  \nSE3 7 urban central gas CHP              NaN  \nSI0 0 urban central gas CHP              NaN  \nSK0 0 urban central gas CHP              NaN  \n\n[181 rows x 33 columns]",
      "text/html": "<div>\n<style scoped>\n    .dataframe tbody tr th:only-of-type {\n        vertical-align: middle;\n    }\n\n    .dataframe tbody tr th {\n        vertical-align: top;\n    }\n\n    .dataframe thead th {\n        text-align: right;\n    }\n</style>\n<table border=\"1\" class=\"dataframe\">\n  <thead>\n    <tr style=\"text-align: right;\">\n      <th></th>\n      <th>bus0</th>\n      <th>bus1</th>\n      <th>carrier</th>\n      <th>geometry</th>\n      <th>length</th>\n      <th>p_nom</th>\n      <th>tags</th>\n      <th>under_construction</th>\n      <th>underground</th>\n      <th>p_min_pu</th>\n      <th>...</th>\n      <th>p_nom_opt</th>\n      <th>charger_ratio</th>\n      <th>type</th>\n      <th>build_year</th>\n      <th>p_nom_min</th>\n      <th>p_set</th>\n      <th>p_max_pu</th>\n      <th>terrain_factor</th>\n      <th>ramp_limit_up</th>\n      <th>ramp_limit_down</th>\n    </tr>\n    <tr>\n      <th>Link</th>\n      <th></th>\n      <th></th>\n      <th></th>\n      <th></th>\n      <th></th>\n      <th></th>\n      <th></th>\n      <th></th>\n      <th></th>\n      <th></th>\n      <th></th>\n      <th></th>\n      <th></th>\n      <th></th>\n      <th></th>\n      <th></th>\n      <th></th>\n      <th></th>\n      <th></th>\n      <th></th>\n      <th></th>\n    </tr>\n  </thead>\n  <tbody>\n    <tr>\n      <th>AL0 0 urban central gas CHP</th>\n      <td>EU gas</td>\n      <td>AL0 0</td>\n      <td>urban central gas CHP</td>\n      <td></td>\n      <td>0.0</td>\n      <td>0.0</td>\n      <td></td>\n      <td>NaN</td>\n      <td>NaN</td>\n      <td>0.0</td>\n      <td>...</td>\n      <td>104.366725</td>\n      <td>NaN</td>\n      <td></td>\n      <td>0</td>\n      <td>0.0</td>\n      <td>0.0</td>\n      <td>1.0</td>\n      <td>1.0</td>\n      <td>NaN</td>\n      <td>NaN</td>\n    </tr>\n    <tr>\n      <th>AT0 0 urban central gas CHP</th>\n      <td>EU gas</td>\n      <td>AT0 0</td>\n      <td>urban central gas CHP</td>\n      <td></td>\n      <td>0.0</td>\n      <td>0.0</td>\n      <td></td>\n      <td>NaN</td>\n      <td>NaN</td>\n      <td>0.0</td>\n      <td>...</td>\n      <td>2206.113812</td>\n      <td>NaN</td>\n      <td></td>\n      <td>0</td>\n      <td>0.0</td>\n      <td>0.0</td>\n      <td>1.0</td>\n      <td>1.0</td>\n      <td>NaN</td>\n      <td>NaN</td>\n    </tr>\n    <tr>\n      <th>AT0 1 urban central gas CHP</th>\n      <td>EU gas</td>\n      <td>AT0 1</td>\n      <td>urban central gas CHP</td>\n      <td></td>\n      <td>0.0</td>\n      <td>0.0</td>\n      <td></td>\n      <td>NaN</td>\n      <td>NaN</td>\n      <td>0.0</td>\n      <td>...</td>\n      <td>186.336666</td>\n      <td>NaN</td>\n      <td></td>\n      <td>0</td>\n      <td>0.0</td>\n      <td>0.0</td>\n      <td>1.0</td>\n      <td>1.0</td>\n      <td>NaN</td>\n      <td>NaN</td>\n    </tr>\n    <tr>\n      <th>AT0 2 urban central gas CHP</th>\n      <td>EU gas</td>\n      <td>AT0 2</td>\n      <td>urban central gas CHP</td>\n      <td></td>\n      <td>0.0</td>\n      <td>0.0</td>\n      <td></td>\n      <td>NaN</td>\n      <td>NaN</td>\n      <td>0.0</td>\n      <td>...</td>\n      <td>151.861355</td>\n      <td>NaN</td>\n      <td></td>\n      <td>0</td>\n      <td>0.0</td>\n      <td>0.0</td>\n      <td>1.0</td>\n      <td>1.0</td>\n      <td>NaN</td>\n      <td>NaN</td>\n    </tr>\n    <tr>\n      <th>BA0 0 urban central gas CHP</th>\n      <td>EU gas</td>\n      <td>BA0 0</td>\n      <td>urban central gas CHP</td>\n      <td></td>\n      <td>0.0</td>\n      <td>0.0</td>\n      <td></td>\n      <td>NaN</td>\n      <td>NaN</td>\n      <td>0.0</td>\n      <td>...</td>\n      <td>235.885958</td>\n      <td>NaN</td>\n      <td></td>\n      <td>0</td>\n      <td>0.0</td>\n      <td>0.0</td>\n      <td>1.0</td>\n      <td>1.0</td>\n      <td>NaN</td>\n      <td>NaN</td>\n    </tr>\n    <tr>\n      <th>...</th>\n      <td>...</td>\n      <td>...</td>\n      <td>...</td>\n      <td>...</td>\n      <td>...</td>\n      <td>...</td>\n      <td>...</td>\n      <td>...</td>\n      <td>...</td>\n      <td>...</td>\n      <td>...</td>\n      <td>...</td>\n      <td>...</td>\n      <td>...</td>\n      <td>...</td>\n      <td>...</td>\n      <td>...</td>\n      <td>...</td>\n      <td>...</td>\n      <td>...</td>\n      <td>...</td>\n    </tr>\n    <tr>\n      <th>SE3 5 urban central gas CHP</th>\n      <td>EU gas</td>\n      <td>SE3 5</td>\n      <td>urban central gas CHP</td>\n      <td></td>\n      <td>0.0</td>\n      <td>0.0</td>\n      <td></td>\n      <td>NaN</td>\n      <td>NaN</td>\n      <td>0.0</td>\n      <td>...</td>\n      <td>0.238039</td>\n      <td>NaN</td>\n      <td></td>\n      <td>0</td>\n      <td>0.0</td>\n      <td>0.0</td>\n      <td>1.0</td>\n      <td>1.0</td>\n      <td>NaN</td>\n      <td>NaN</td>\n    </tr>\n    <tr>\n      <th>SE3 6 urban central gas CHP</th>\n      <td>EU gas</td>\n      <td>SE3 6</td>\n      <td>urban central gas CHP</td>\n      <td></td>\n      <td>0.0</td>\n      <td>0.0</td>\n      <td></td>\n      <td>NaN</td>\n      <td>NaN</td>\n      <td>0.0</td>\n      <td>...</td>\n      <td>1948.478570</td>\n      <td>NaN</td>\n      <td></td>\n      <td>0</td>\n      <td>0.0</td>\n      <td>0.0</td>\n      <td>1.0</td>\n      <td>1.0</td>\n      <td>NaN</td>\n      <td>NaN</td>\n    </tr>\n    <tr>\n      <th>SE3 7 urban central gas CHP</th>\n      <td>EU gas</td>\n      <td>SE3 7</td>\n      <td>urban central gas CHP</td>\n      <td></td>\n      <td>0.0</td>\n      <td>0.0</td>\n      <td></td>\n      <td>NaN</td>\n      <td>NaN</td>\n      <td>0.0</td>\n      <td>...</td>\n      <td>0.140468</td>\n      <td>NaN</td>\n      <td></td>\n      <td>0</td>\n      <td>0.0</td>\n      <td>0.0</td>\n      <td>1.0</td>\n      <td>1.0</td>\n      <td>NaN</td>\n      <td>NaN</td>\n    </tr>\n    <tr>\n      <th>SI0 0 urban central gas CHP</th>\n      <td>EU gas</td>\n      <td>SI0 0</td>\n      <td>urban central gas CHP</td>\n      <td></td>\n      <td>0.0</td>\n      <td>0.0</td>\n      <td></td>\n      <td>NaN</td>\n      <td>NaN</td>\n      <td>0.0</td>\n      <td>...</td>\n      <td>798.612984</td>\n      <td>NaN</td>\n      <td></td>\n      <td>0</td>\n      <td>0.0</td>\n      <td>0.0</td>\n      <td>1.0</td>\n      <td>1.0</td>\n      <td>NaN</td>\n      <td>NaN</td>\n    </tr>\n    <tr>\n      <th>SK0 0 urban central gas CHP</th>\n      <td>EU gas</td>\n      <td>SK0 0</td>\n      <td>urban central gas CHP</td>\n      <td></td>\n      <td>0.0</td>\n      <td>0.0</td>\n      <td></td>\n      <td>NaN</td>\n      <td>NaN</td>\n      <td>0.0</td>\n      <td>...</td>\n      <td>2797.000703</td>\n      <td>NaN</td>\n      <td></td>\n      <td>0</td>\n      <td>0.0</td>\n      <td>0.0</td>\n      <td>1.0</td>\n      <td>1.0</td>\n      <td>NaN</td>\n      <td>NaN</td>\n    </tr>\n  </tbody>\n</table>\n<p>181 rows × 33 columns</p>\n</div>"
     },
     "execution_count": 21,
     "metadata": {},
     "output_type": "execute_result"
    }
   ],
   "source": [
    "stst.links[stst.links.carrier == \"urban central gas CHP\"]"
   ],
   "metadata": {
    "collapsed": false,
    "pycharm": {
     "name": "#%%\n"
    }
   }
  },
  {
   "cell_type": "code",
   "execution_count": 23,
   "outputs": [
    {
     "data": {
      "text/plain": "                                                      bus0   bus1  \\\nLink                                                                \nAL0 0 urban central solid biomass CHP CC  EU solid biomass  AL0 0   \nAT0 0 urban central solid biomass CHP CC  EU solid biomass  AT0 0   \nAT0 1 urban central solid biomass CHP CC  EU solid biomass  AT0 1   \nAT0 2 urban central solid biomass CHP CC  EU solid biomass  AT0 2   \nBA0 0 urban central solid biomass CHP CC  EU solid biomass  BA0 0   \n...                                                    ...    ...   \nSE3 5 urban central solid biomass CHP CC  EU solid biomass  SE3 5   \nSE3 6 urban central solid biomass CHP CC  EU solid biomass  SE3 6   \nSE3 7 urban central solid biomass CHP CC  EU solid biomass  SE3 7   \nSI0 0 urban central solid biomass CHP CC  EU solid biomass  SI0 0   \nSK0 0 urban central solid biomass CHP CC  EU solid biomass  SK0 0   \n\n                                                                     carrier  \\\nLink                                                                           \nAL0 0 urban central solid biomass CHP CC  urban central solid biomass CHP CC   \nAT0 0 urban central solid biomass CHP CC  urban central solid biomass CHP CC   \nAT0 1 urban central solid biomass CHP CC  urban central solid biomass CHP CC   \nAT0 2 urban central solid biomass CHP CC  urban central solid biomass CHP CC   \nBA0 0 urban central solid biomass CHP CC  urban central solid biomass CHP CC   \n...                                                                      ...   \nSE3 5 urban central solid biomass CHP CC  urban central solid biomass CHP CC   \nSE3 6 urban central solid biomass CHP CC  urban central solid biomass CHP CC   \nSE3 7 urban central solid biomass CHP CC  urban central solid biomass CHP CC   \nSI0 0 urban central solid biomass CHP CC  urban central solid biomass CHP CC   \nSK0 0 urban central solid biomass CHP CC  urban central solid biomass CHP CC   \n\n                                         geometry  length  p_nom tags  \\\nLink                                                                    \nAL0 0 urban central solid biomass CHP CC              0.0    0.0        \nAT0 0 urban central solid biomass CHP CC              0.0    0.0        \nAT0 1 urban central solid biomass CHP CC              0.0    0.0        \nAT0 2 urban central solid biomass CHP CC              0.0    0.0        \nBA0 0 urban central solid biomass CHP CC              0.0    0.0        \n...                                           ...     ...    ...  ...   \nSE3 5 urban central solid biomass CHP CC              0.0    0.0        \nSE3 6 urban central solid biomass CHP CC              0.0    0.0        \nSE3 7 urban central solid biomass CHP CC              0.0    0.0        \nSI0 0 urban central solid biomass CHP CC              0.0    0.0        \nSK0 0 urban central solid biomass CHP CC              0.0    0.0        \n\n                                          under_construction  underground  \\\nLink                                                                        \nAL0 0 urban central solid biomass CHP CC                 NaN          NaN   \nAT0 0 urban central solid biomass CHP CC                 NaN          NaN   \nAT0 1 urban central solid biomass CHP CC                 NaN          NaN   \nAT0 2 urban central solid biomass CHP CC                 NaN          NaN   \nBA0 0 urban central solid biomass CHP CC                 NaN          NaN   \n...                                                      ...          ...   \nSE3 5 urban central solid biomass CHP CC                 NaN          NaN   \nSE3 6 urban central solid biomass CHP CC                 NaN          NaN   \nSE3 7 urban central solid biomass CHP CC                 NaN          NaN   \nSI0 0 urban central solid biomass CHP CC                 NaN          NaN   \nSK0 0 urban central solid biomass CHP CC                 NaN          NaN   \n\n                                          p_min_pu  ...    p_nom_opt  \\\nLink                                                ...                \nAL0 0 urban central solid biomass CHP CC       0.0  ...    96.324958   \nAT0 0 urban central solid biomass CHP CC       0.0  ...  3553.439874   \nAT0 1 urban central solid biomass CHP CC       0.0  ...   190.422232   \nAT0 2 urban central solid biomass CHP CC       0.0  ...  1330.787761   \nBA0 0 urban central solid biomass CHP CC       0.0  ...   308.111935   \n...                                            ...  ...          ...   \nSE3 5 urban central solid biomass CHP CC       0.0  ...     0.024738   \nSE3 6 urban central solid biomass CHP CC       0.0  ...     0.036928   \nSE3 7 urban central solid biomass CHP CC       0.0  ...     0.021204   \nSI0 0 urban central solid biomass CHP CC       0.0  ...  1021.715623   \nSK0 0 urban central solid biomass CHP CC       0.0  ...  1731.191132   \n\n                                          charger_ratio  type  build_year  \\\nLink                                                                        \nAL0 0 urban central solid biomass CHP CC            NaN                 0   \nAT0 0 urban central solid biomass CHP CC            NaN                 0   \nAT0 1 urban central solid biomass CHP CC            NaN                 0   \nAT0 2 urban central solid biomass CHP CC            NaN                 0   \nBA0 0 urban central solid biomass CHP CC            NaN                 0   \n...                                                 ...   ...         ...   \nSE3 5 urban central solid biomass CHP CC            NaN                 0   \nSE3 6 urban central solid biomass CHP CC            NaN                 0   \nSE3 7 urban central solid biomass CHP CC            NaN                 0   \nSI0 0 urban central solid biomass CHP CC            NaN                 0   \nSK0 0 urban central solid biomass CHP CC            NaN                 0   \n\n                                         p_nom_min p_set p_max_pu  \\\nLink                                                                \nAL0 0 urban central solid biomass CHP CC       0.0   0.0      1.0   \nAT0 0 urban central solid biomass CHP CC       0.0   0.0      1.0   \nAT0 1 urban central solid biomass CHP CC       0.0   0.0      1.0   \nAT0 2 urban central solid biomass CHP CC       0.0   0.0      1.0   \nBA0 0 urban central solid biomass CHP CC       0.0   0.0      1.0   \n...                                            ...   ...      ...   \nSE3 5 urban central solid biomass CHP CC       0.0   0.0      1.0   \nSE3 6 urban central solid biomass CHP CC       0.0   0.0      1.0   \nSE3 7 urban central solid biomass CHP CC       0.0   0.0      1.0   \nSI0 0 urban central solid biomass CHP CC       0.0   0.0      1.0   \nSK0 0 urban central solid biomass CHP CC       0.0   0.0      1.0   \n\n                                          terrain_factor  ramp_limit_up  \\\nLink                                                                      \nAL0 0 urban central solid biomass CHP CC             1.0            NaN   \nAT0 0 urban central solid biomass CHP CC             1.0            NaN   \nAT0 1 urban central solid biomass CHP CC             1.0            NaN   \nAT0 2 urban central solid biomass CHP CC             1.0            NaN   \nBA0 0 urban central solid biomass CHP CC             1.0            NaN   \n...                                                  ...            ...   \nSE3 5 urban central solid biomass CHP CC             1.0            NaN   \nSE3 6 urban central solid biomass CHP CC             1.0            NaN   \nSE3 7 urban central solid biomass CHP CC             1.0            NaN   \nSI0 0 urban central solid biomass CHP CC             1.0            NaN   \nSK0 0 urban central solid biomass CHP CC             1.0            NaN   \n\n                                          ramp_limit_down  \nLink                                                       \nAL0 0 urban central solid biomass CHP CC              NaN  \nAT0 0 urban central solid biomass CHP CC              NaN  \nAT0 1 urban central solid biomass CHP CC              NaN  \nAT0 2 urban central solid biomass CHP CC              NaN  \nBA0 0 urban central solid biomass CHP CC              NaN  \n...                                                   ...  \nSE3 5 urban central solid biomass CHP CC              NaN  \nSE3 6 urban central solid biomass CHP CC              NaN  \nSE3 7 urban central solid biomass CHP CC              NaN  \nSI0 0 urban central solid biomass CHP CC              NaN  \nSK0 0 urban central solid biomass CHP CC              NaN  \n\n[181 rows x 33 columns]",
      "text/html": "<div>\n<style scoped>\n    .dataframe tbody tr th:only-of-type {\n        vertical-align: middle;\n    }\n\n    .dataframe tbody tr th {\n        vertical-align: top;\n    }\n\n    .dataframe thead th {\n        text-align: right;\n    }\n</style>\n<table border=\"1\" class=\"dataframe\">\n  <thead>\n    <tr style=\"text-align: right;\">\n      <th></th>\n      <th>bus0</th>\n      <th>bus1</th>\n      <th>carrier</th>\n      <th>geometry</th>\n      <th>length</th>\n      <th>p_nom</th>\n      <th>tags</th>\n      <th>under_construction</th>\n      <th>underground</th>\n      <th>p_min_pu</th>\n      <th>...</th>\n      <th>p_nom_opt</th>\n      <th>charger_ratio</th>\n      <th>type</th>\n      <th>build_year</th>\n      <th>p_nom_min</th>\n      <th>p_set</th>\n      <th>p_max_pu</th>\n      <th>terrain_factor</th>\n      <th>ramp_limit_up</th>\n      <th>ramp_limit_down</th>\n    </tr>\n    <tr>\n      <th>Link</th>\n      <th></th>\n      <th></th>\n      <th></th>\n      <th></th>\n      <th></th>\n      <th></th>\n      <th></th>\n      <th></th>\n      <th></th>\n      <th></th>\n      <th></th>\n      <th></th>\n      <th></th>\n      <th></th>\n      <th></th>\n      <th></th>\n      <th></th>\n      <th></th>\n      <th></th>\n      <th></th>\n      <th></th>\n    </tr>\n  </thead>\n  <tbody>\n    <tr>\n      <th>AL0 0 urban central solid biomass CHP CC</th>\n      <td>EU solid biomass</td>\n      <td>AL0 0</td>\n      <td>urban central solid biomass CHP CC</td>\n      <td></td>\n      <td>0.0</td>\n      <td>0.0</td>\n      <td></td>\n      <td>NaN</td>\n      <td>NaN</td>\n      <td>0.0</td>\n      <td>...</td>\n      <td>96.324958</td>\n      <td>NaN</td>\n      <td></td>\n      <td>0</td>\n      <td>0.0</td>\n      <td>0.0</td>\n      <td>1.0</td>\n      <td>1.0</td>\n      <td>NaN</td>\n      <td>NaN</td>\n    </tr>\n    <tr>\n      <th>AT0 0 urban central solid biomass CHP CC</th>\n      <td>EU solid biomass</td>\n      <td>AT0 0</td>\n      <td>urban central solid biomass CHP CC</td>\n      <td></td>\n      <td>0.0</td>\n      <td>0.0</td>\n      <td></td>\n      <td>NaN</td>\n      <td>NaN</td>\n      <td>0.0</td>\n      <td>...</td>\n      <td>3553.439874</td>\n      <td>NaN</td>\n      <td></td>\n      <td>0</td>\n      <td>0.0</td>\n      <td>0.0</td>\n      <td>1.0</td>\n      <td>1.0</td>\n      <td>NaN</td>\n      <td>NaN</td>\n    </tr>\n    <tr>\n      <th>AT0 1 urban central solid biomass CHP CC</th>\n      <td>EU solid biomass</td>\n      <td>AT0 1</td>\n      <td>urban central solid biomass CHP CC</td>\n      <td></td>\n      <td>0.0</td>\n      <td>0.0</td>\n      <td></td>\n      <td>NaN</td>\n      <td>NaN</td>\n      <td>0.0</td>\n      <td>...</td>\n      <td>190.422232</td>\n      <td>NaN</td>\n      <td></td>\n      <td>0</td>\n      <td>0.0</td>\n      <td>0.0</td>\n      <td>1.0</td>\n      <td>1.0</td>\n      <td>NaN</td>\n      <td>NaN</td>\n    </tr>\n    <tr>\n      <th>AT0 2 urban central solid biomass CHP CC</th>\n      <td>EU solid biomass</td>\n      <td>AT0 2</td>\n      <td>urban central solid biomass CHP CC</td>\n      <td></td>\n      <td>0.0</td>\n      <td>0.0</td>\n      <td></td>\n      <td>NaN</td>\n      <td>NaN</td>\n      <td>0.0</td>\n      <td>...</td>\n      <td>1330.787761</td>\n      <td>NaN</td>\n      <td></td>\n      <td>0</td>\n      <td>0.0</td>\n      <td>0.0</td>\n      <td>1.0</td>\n      <td>1.0</td>\n      <td>NaN</td>\n      <td>NaN</td>\n    </tr>\n    <tr>\n      <th>BA0 0 urban central solid biomass CHP CC</th>\n      <td>EU solid biomass</td>\n      <td>BA0 0</td>\n      <td>urban central solid biomass CHP CC</td>\n      <td></td>\n      <td>0.0</td>\n      <td>0.0</td>\n      <td></td>\n      <td>NaN</td>\n      <td>NaN</td>\n      <td>0.0</td>\n      <td>...</td>\n      <td>308.111935</td>\n      <td>NaN</td>\n      <td></td>\n      <td>0</td>\n      <td>0.0</td>\n      <td>0.0</td>\n      <td>1.0</td>\n      <td>1.0</td>\n      <td>NaN</td>\n      <td>NaN</td>\n    </tr>\n    <tr>\n      <th>...</th>\n      <td>...</td>\n      <td>...</td>\n      <td>...</td>\n      <td>...</td>\n      <td>...</td>\n      <td>...</td>\n      <td>...</td>\n      <td>...</td>\n      <td>...</td>\n      <td>...</td>\n      <td>...</td>\n      <td>...</td>\n      <td>...</td>\n      <td>...</td>\n      <td>...</td>\n      <td>...</td>\n      <td>...</td>\n      <td>...</td>\n      <td>...</td>\n      <td>...</td>\n      <td>...</td>\n    </tr>\n    <tr>\n      <th>SE3 5 urban central solid biomass CHP CC</th>\n      <td>EU solid biomass</td>\n      <td>SE3 5</td>\n      <td>urban central solid biomass CHP CC</td>\n      <td></td>\n      <td>0.0</td>\n      <td>0.0</td>\n      <td></td>\n      <td>NaN</td>\n      <td>NaN</td>\n      <td>0.0</td>\n      <td>...</td>\n      <td>0.024738</td>\n      <td>NaN</td>\n      <td></td>\n      <td>0</td>\n      <td>0.0</td>\n      <td>0.0</td>\n      <td>1.0</td>\n      <td>1.0</td>\n      <td>NaN</td>\n      <td>NaN</td>\n    </tr>\n    <tr>\n      <th>SE3 6 urban central solid biomass CHP CC</th>\n      <td>EU solid biomass</td>\n      <td>SE3 6</td>\n      <td>urban central solid biomass CHP CC</td>\n      <td></td>\n      <td>0.0</td>\n      <td>0.0</td>\n      <td></td>\n      <td>NaN</td>\n      <td>NaN</td>\n      <td>0.0</td>\n      <td>...</td>\n      <td>0.036928</td>\n      <td>NaN</td>\n      <td></td>\n      <td>0</td>\n      <td>0.0</td>\n      <td>0.0</td>\n      <td>1.0</td>\n      <td>1.0</td>\n      <td>NaN</td>\n      <td>NaN</td>\n    </tr>\n    <tr>\n      <th>SE3 7 urban central solid biomass CHP CC</th>\n      <td>EU solid biomass</td>\n      <td>SE3 7</td>\n      <td>urban central solid biomass CHP CC</td>\n      <td></td>\n      <td>0.0</td>\n      <td>0.0</td>\n      <td></td>\n      <td>NaN</td>\n      <td>NaN</td>\n      <td>0.0</td>\n      <td>...</td>\n      <td>0.021204</td>\n      <td>NaN</td>\n      <td></td>\n      <td>0</td>\n      <td>0.0</td>\n      <td>0.0</td>\n      <td>1.0</td>\n      <td>1.0</td>\n      <td>NaN</td>\n      <td>NaN</td>\n    </tr>\n    <tr>\n      <th>SI0 0 urban central solid biomass CHP CC</th>\n      <td>EU solid biomass</td>\n      <td>SI0 0</td>\n      <td>urban central solid biomass CHP CC</td>\n      <td></td>\n      <td>0.0</td>\n      <td>0.0</td>\n      <td></td>\n      <td>NaN</td>\n      <td>NaN</td>\n      <td>0.0</td>\n      <td>...</td>\n      <td>1021.715623</td>\n      <td>NaN</td>\n      <td></td>\n      <td>0</td>\n      <td>0.0</td>\n      <td>0.0</td>\n      <td>1.0</td>\n      <td>1.0</td>\n      <td>NaN</td>\n      <td>NaN</td>\n    </tr>\n    <tr>\n      <th>SK0 0 urban central solid biomass CHP CC</th>\n      <td>EU solid biomass</td>\n      <td>SK0 0</td>\n      <td>urban central solid biomass CHP CC</td>\n      <td></td>\n      <td>0.0</td>\n      <td>0.0</td>\n      <td></td>\n      <td>NaN</td>\n      <td>NaN</td>\n      <td>0.0</td>\n      <td>...</td>\n      <td>1731.191132</td>\n      <td>NaN</td>\n      <td></td>\n      <td>0</td>\n      <td>0.0</td>\n      <td>0.0</td>\n      <td>1.0</td>\n      <td>1.0</td>\n      <td>NaN</td>\n      <td>NaN</td>\n    </tr>\n  </tbody>\n</table>\n<p>181 rows × 33 columns</p>\n</div>"
     },
     "execution_count": 23,
     "metadata": {},
     "output_type": "execute_result"
    }
   ],
   "source": [
    "stst.links[stst.links.carrier == \"urban central solid biomass CHP CC\"]"
   ],
   "metadata": {
    "collapsed": false,
    "pycharm": {
     "name": "#%%\n"
    }
   }
  },
  {
   "cell_type": "code",
   "execution_count": null,
   "outputs": [],
   "source": [],
   "metadata": {
    "collapsed": false,
    "pycharm": {
     "name": "#%%\n"
    }
   }
  }
 ],
 "metadata": {
  "kernelspec": {
   "display_name": "Python 3",
   "language": "python",
   "name": "python3"
  },
  "language_info": {
   "codemirror_mode": {
    "name": "ipython",
    "version": 2
   },
   "file_extension": ".py",
   "mimetype": "text/x-python",
   "name": "python",
   "nbconvert_exporter": "python",
   "pygments_lexer": "ipython2",
   "version": "2.7.6"
  }
 },
 "nbformat": 4,
 "nbformat_minor": 0
}