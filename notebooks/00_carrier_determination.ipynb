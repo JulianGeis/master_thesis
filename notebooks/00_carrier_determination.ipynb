{
 "cells": [
  {
   "cell_type": "markdown",
   "source": [
    "## Notebook to determine important carriers for the STST and EXP networks"
   ],
   "metadata": {
    "collapsed": false,
    "pycharm": {
     "name": "#%% md\n"
    }
   }
  },
  {
   "cell_type": "code",
   "execution_count": 40,
   "outputs": [],
   "source": [
    "# imports\n",
    "import pypsa\n",
    "import pandas as pd\n",
    "\n",
    "from utils import nodal_balance\n",
    "from utils import get_condense_sum, carrier_renaming, carrier_renaming_reverse\n",
    "from utils import resistive_heater, gas_boiler, heat_pump, water_tanks_charger, water_tanks_discharger, solar_thermal\n",
    "\n",
    "# Notebook Definitions\n",
    "c1_groups = [resistive_heater, gas_boiler, heat_pump, water_tanks_charger, water_tanks_discharger, solar_thermal]\n",
    "c1_groups_name = [\"resistive heater\", \"gas boiler\", \"heat pump\", \"water tanks charger\", \"water tanks discharger\", \"solar thermal\"]\n",
    "\n",
    "# stst and exp dataframes\n",
    "df_stst_ons = pd.read_pickle(\"../data/processed/df_stst_ons.pkl\")\n",
    "df_stst_off = pd.read_pickle(\"../data/processed/df_stst_off.pkl\")\n",
    "df_exp_ons = pd.read_pickle(\"../data/processed/df_exp_ons.pkl\")\n",
    "df_exp_off = pd.read_pickle(\"../data/processed/df_exp_off.pkl\")"
   ],
   "metadata": {
    "collapsed": false,
    "pycharm": {
     "name": "#%%\n"
    }
   }
  },
  {
   "cell_type": "code",
   "execution_count": 2,
   "outputs": [
    {
     "name": "stderr",
     "output_type": "stream",
     "text": [
      "WARNING:pypsa.io:\n",
      "Importing PyPSA from older version of PyPSA than current version.\n",
      "Please read the release notes at https://pypsa.readthedocs.io/en/latest/release_notes.html\n",
      "carefully to prepare your network for import.\n",
      "Currently used PyPSA version [0, 20, 1], imported network file PyPSA version [0, 18, 1].\n",
      "\n",
      "INFO:pypsa.io:Imported network elec_s_181_lv1.0__Co2L0-3H-T-H-B-I-A-solar+p3-linemaxext10-noH2network_2030.nc has buses, carriers, generators, global_constraints, lines, links, loads, storage_units, stores\n",
      "WARNING:pypsa.io:\n",
      "Importing PyPSA from older version of PyPSA than current version.\n",
      "Please read the release notes at https://pypsa.readthedocs.io/en/latest/release_notes.html\n",
      "carefully to prepare your network for import.\n",
      "Currently used PyPSA version [0, 20, 1], imported network file PyPSA version [0, 18, 1].\n",
      "\n",
      "INFO:pypsa.io:Imported network elec_s_181_lvopt__Co2L0-3H-T-H-B-I-A-solar+p3-linemaxext10_2030.nc has buses, carriers, generators, global_constraints, lines, links, loads, storage_units, stores\n"
     ]
    }
   ],
   "source": [
    "# Network imports\n",
    "stst = pypsa.Network(\"../data/raw/elec_s_181_lv1.0__Co2L0-3H-T-H-B-I-A-solar+p3-linemaxext10-noH2network_2030.nc\")\n",
    "exp = pypsa.Network(\"../data/raw/elec_s_181_lvopt__Co2L0-3H-T-H-B-I-A-solar+p3-linemaxext10_2030.nc\")"
   ],
   "metadata": {
    "collapsed": false,
    "pycharm": {
     "name": "#%%\n"
    }
   }
  },
  {
   "cell_type": "code",
   "execution_count": 7,
   "outputs": [
    {
     "name": "stdout",
     "output_type": "stream",
     "text": [
      "PyPSA Network\n",
      "Components:\n",
      " - Bus: 3086\n",
      " - Carrier: 30\n",
      " - Generator: 1707\n",
      " - GlobalConstraint: 3\n",
      " - Line: 323\n",
      " - Link: 8375\n",
      " - Load: 2542\n",
      " - StorageUnit: 170\n",
      " - Store: 1635\n",
      "Snapshots: 2920\n"
     ]
    }
   ],
   "source": [
    "print(stst)"
   ],
   "metadata": {
    "collapsed": false,
    "pycharm": {
     "name": "#%%\n"
    }
   }
  },
  {
   "cell_type": "code",
   "execution_count": 8,
   "outputs": [
    {
     "name": "stdout",
     "output_type": "stream",
     "text": [
      "PyPSA Network\n",
      "Components:\n",
      " - Bus: 3086\n",
      " - Carrier: 30\n",
      " - Generator: 1707\n",
      " - GlobalConstraint: 2\n",
      " - Line: 323\n",
      " - Link: 9192\n",
      " - Load: 2542\n",
      " - StorageUnit: 170\n",
      " - Store: 1635\n",
      "Snapshots: 2920\n"
     ]
    }
   ],
   "source": [
    "print(exp)"
   ],
   "metadata": {
    "collapsed": false,
    "pycharm": {
     "name": "#%%\n"
    }
   }
  },
  {
   "cell_type": "markdown",
   "source": [
    "### Carrier differences"
   ],
   "metadata": {
    "collapsed": false,
    "pycharm": {
     "name": "#%% md\n"
    }
   }
  },
  {
   "cell_type": "code",
   "execution_count": 11,
   "outputs": [
    {
     "data": {
      "text/plain": "['offwind-ac',\n 'onwind',\n 'solar',\n 'ror',\n 'offwind-dc',\n 'gas',\n 'residential rural solar thermal',\n 'services rural solar thermal',\n 'residential urban decentral solar thermal',\n 'services urban decentral solar thermal',\n 'urban central solar thermal',\n 'oil',\n 'solar rooftop']"
     },
     "execution_count": 11,
     "metadata": {},
     "output_type": "execute_result"
    }
   ],
   "source": [
    "# same carriers for generators\n",
    "set(exp.generators.carrier.unique().tolist()).difference(stst.generators.carrier.unique().tolist())\n",
    "stst.generators.carrier.unique().tolist()"
   ],
   "metadata": {
    "collapsed": false,
    "pycharm": {
     "name": "#%%\n"
    }
   }
  },
  {
   "cell_type": "code",
   "execution_count": 15,
   "outputs": [
    {
     "data": {
      "text/plain": "['DC',\n 'OCGT',\n 'H2 Electrolysis',\n 'H2 Fuel Cell',\n 'H2 pipeline retrofitted',\n 'H2 pipeline',\n 'battery charger',\n 'battery discharger',\n 'Sabatier',\n 'SMR CC',\n 'SMR',\n 'BEV charger',\n 'V2G',\n 'residential rural ground heat pump',\n 'residential rural water tanks charger',\n 'residential rural water tanks discharger',\n 'residential rural resistive heater',\n 'residential rural gas boiler',\n 'services rural ground heat pump',\n 'services rural water tanks charger',\n 'services rural water tanks discharger',\n 'services rural resistive heater',\n 'services rural gas boiler',\n 'residential urban decentral air heat pump',\n 'residential urban decentral water tanks charger',\n 'residential urban decentral water tanks discharger',\n 'residential urban decentral resistive heater',\n 'residential urban decentral gas boiler',\n 'services urban decentral air heat pump',\n 'services urban decentral water tanks charger',\n 'services urban decentral water tanks discharger',\n 'services urban decentral resistive heater',\n 'services urban decentral gas boiler',\n 'urban central air heat pump',\n 'urban central water tanks charger',\n 'urban central water tanks discharger',\n 'urban central resistive heater',\n 'urban central gas boiler',\n 'urban central gas CHP',\n 'urban central gas CHP CC',\n 'biogas to gas',\n 'urban central solid biomass CHP',\n 'urban central solid biomass CHP CC',\n 'solid biomass for industry',\n 'solid biomass for industry CC',\n 'gas for industry',\n 'gas for industry CC',\n 'H2 liquefaction',\n 'Fischer-Tropsch',\n 'process emissions',\n 'process emissions CC',\n 'DAC',\n 'electricity distribution grid',\n 'home battery charger',\n 'home battery discharger']"
     },
     "execution_count": 15,
     "metadata": {},
     "output_type": "execute_result"
    }
   ],
   "source": [
    "# EXP has two additional links: 'H2 pipeline', 'H2 pipeline retrofitted'\n",
    "set(exp.links.carrier.unique().tolist()).difference(stst.links.carrier.unique().tolist())\n",
    "exp.links.carrier.unique().tolist()"
   ],
   "metadata": {
    "collapsed": false,
    "pycharm": {
     "name": "#%%\n"
    }
   }
  },
  {
   "cell_type": "code",
   "execution_count": 18,
   "outputs": [
    {
     "data": {
      "text/plain": "['hydro', 'PHS']"
     },
     "execution_count": 18,
     "metadata": {},
     "output_type": "execute_result"
    }
   ],
   "source": [
    "# same carriers for storage units\n",
    "set(stst.storage_units.carrier.unique().tolist()).difference(exp.storage_units.carrier.unique().tolist())\n",
    "stst.storage_units.carrier.unique().tolist()"
   ],
   "metadata": {
    "collapsed": false,
    "pycharm": {
     "name": "#%%\n"
    }
   }
  },
  {
   "cell_type": "code",
   "execution_count": 20,
   "outputs": [
    {
     "data": {
      "text/plain": "68"
     },
     "execution_count": 20,
     "metadata": {},
     "output_type": "execute_result"
    }
   ],
   "source": [
    "# overall number of carriers:\n",
    "# STST: 68\n",
    "# EXP: 70\n",
    "len(stst.storage_units.carrier.unique().tolist() + stst.links.carrier.unique().tolist() + stst.generators.carrier.unique().tolist())"
   ],
   "metadata": {
    "collapsed": false,
    "pycharm": {
     "name": "#%%\n"
    }
   }
  },
  {
   "cell_type": "markdown",
   "source": [
    "### Relevant carriers per technology\n",
    "- classify in electricity (gen / con), hydrogen (gen, con) and heat (gen, con)\n",
    "- determine by share of generation / consumption"
   ],
   "metadata": {
    "collapsed": false,
    "pycharm": {
     "name": "#%% md\n"
    }
   }
  },
  {
   "cell_type": "code",
   "execution_count": 23,
   "outputs": [
    {
     "data": {
      "text/plain": "carrier\nAC                            0.000009\nBEV charger                   0.000000\nDAC                           0.000000\nDC                            0.000029\nH2 Electrolysis               0.000000\nH2 Fuel Cell                  1.409125\nOCGT                          3.031344\nPHS                          46.621278\nV2G                          99.732769\nagriculture electricity       0.000000\nbattery charger               0.000000\nbattery discharger          388.014856\nelectricity                   0.000000\nhome battery charger          0.000000\nhome battery discharger       0.130558\nhydro                       348.187357\nindustry electricity          0.000000\noffwind-ac                  182.048413\noffwind-dc                  609.327531\nonwind                     4556.001892\nror                         138.641227\nsolar                      3255.956798\nsolar rooftop               328.158738\ngas CHP                     139.465576\ngas CHP CC                    0.007028\nbiomass CHP CC              105.337329\nresistive heater              0.000000\ngas boiler                    0.000000\nheat pump                     0.000000\nwater tanks charger           0.000000\nwater tanks discharger        0.000000\nsolar thermal                 0.000000\ndtype: float64"
     },
     "execution_count": 23,
     "metadata": {},
     "output_type": "execute_result"
    }
   ],
   "source": [
    "# electricity\n",
    "\n",
    "# overall electricity generation in TWh per technology\n",
    "carrier = [\"AC\", \"low voltage\"]\n",
    "nb = nodal_balance(stst, carrier=carrier, time=\"2013\", aggregate=['component', 'bus'], energy=True)\n",
    "# convert from MWh to GWh\n",
    "nb = nb.unstack(level=[1]) / 1000\n",
    "# condense condense_groups\n",
    "nb = get_condense_sum(nb, c1_groups, c1_groups_name)\n",
    "# rename unhandy column names\n",
    "nb.rename(columns=carrier_renaming, inplace=True)\n",
    "# calc sum and convert to TWh\n",
    "(nb[nb > 0].sum() / 1000).sort_values()"
   ],
   "metadata": {
    "collapsed": false,
    "pycharm": {
     "name": "#%%\n"
    }
   }
  },
  {
   "cell_type": "code",
   "execution_count": 65,
   "outputs": [
    {
     "data": {
      "text/plain": "onwind                                4595.271018\nsolar                                 2339.819359\noffwind-dc                             968.839829\nhydro                                  348.196304\nsolar rooftop                          263.249380\noffwind-ac                             144.159188\nror                                    139.380125\nbattery discharger                     108.545008\nurban central solid biomass CHP CC      81.040705\nV2G                                     64.558623\nurban central gas CHP                   47.400430\nPHS                                     41.703688\nurban central solid biomass CHP         27.095899\nOCGT                                     2.957557\nhome battery discharger                  0.007775\ndtype: float64"
     },
     "execution_count": 65,
     "metadata": {},
     "output_type": "execute_result"
    }
   ],
   "source": [
    "pos_gen = (nb[nb > 0].sum() / 1000).sort_values(ascending=False)[(nb[nb > 0].sum() / 1000).sort_values(ascending=False) > 0.001]\n",
    "pos_gen.index = [carrier_renaming_reverse.get(n, n) for n in pos_gen.index]\n",
    "pos_gen.sort_values(ascending=False)"
   ],
   "metadata": {
    "collapsed": false,
    "pycharm": {
     "name": "#%%\n"
    }
   }
  },
  {
   "cell_type": "code",
   "execution_count": 61,
   "outputs": [
    {
     "data": {
      "text/plain": "onwind_gen                                4.461034e-01\nsolar_gen                                 3.188086e-01\noffwind-dc_gen                            5.966305e-02\nhydro_gen                                 3.409345e-02\nsolar rooftop_gen                         3.213226e-02\noffwind-ac_gen                            1.782664e-02\nror_gen                                   1.357516e-02\nbattery discharger_gen                    3.799385e-02\nurban central solid biomass CHP CC_gen    1.031478e-02\nV2G_gen                                   9.768269e-03\nurban central gas CHP_gen                 1.365622e-02\nPHS_gen                                   5.749362e-03\nurban central solid biomass CHP_gen       6.304349e-07\nOCGT_gen                                  2.971311e-04\nhome battery discharger_gen               1.709538e-05\ndtype: float64"
     },
     "execution_count": 61,
     "metadata": {},
     "output_type": "execute_result"
    }
   ],
   "source": [
    "(df_stst_ons[[c + \"_gen\" for c in pos_gen.index]].sum() / 1000) / (df_stst_ons[[c + \"_gen\" for c in pos_gen.index]].sum() / 1000).sum()"
   ],
   "metadata": {
    "collapsed": false,
    "pycharm": {
     "name": "#%%\n"
    }
   }
  },
  {
   "cell_type": "code",
   "execution_count": 52,
   "outputs": [
    {
     "data": {
      "text/plain": "carrier\nindustry electricity       0.000000e+00\nwater tanks charger        0.000000e+00\nheat pump                  0.000000e+00\ngas boiler                 0.000000e+00\nresistive heater           0.000000e+00\nwater tanks discharger     0.000000e+00\nhome battery charger       0.000000e+00\nelectricity                0.000000e+00\nsolar thermal              0.000000e+00\nagriculture electricity    0.000000e+00\nBEV charger                0.000000e+00\nH2 Electrolysis            0.000000e+00\nbattery charger            0.000000e+00\nAC                         5.688746e-07\nDC                         2.994737e-05\nhome battery discharger    7.775209e-03\nOCGT                       2.957557e+00\nbiomass CHP                2.709590e+01\nPHS                        4.170369e+01\ngas CHP                    4.740043e+01\nV2G                        6.455862e+01\nbiomass CHP CC             8.104071e+01\nbattery discharger         1.085450e+02\nror                        1.393801e+02\noffwind-ac                 1.441592e+02\nsolar rooftop              2.632494e+02\nhydro                      3.481963e+02\noffwind-dc                 9.688398e+02\nsolar                      2.339819e+03\nonwind                     4.595271e+03\ndtype: float64"
     },
     "execution_count": 52,
     "metadata": {},
     "output_type": "execute_result"
    }
   ],
   "source": [
    "# electricity\n",
    "\n",
    "# overall electricity generation in TWh per technology\n",
    "carrier = [\"AC\", \"low voltage\"]\n",
    "nb = nodal_balance(exp, carrier=carrier, time=\"2013\", aggregate=['component', 'bus'], energy=True)\n",
    "# convert from MWh to GWh\n",
    "nb = nb.unstack(level=[1]) / 1000\n",
    "# condense condense_groups\n",
    "nb = get_condense_sum(nb, c1_groups, c1_groups_name)\n",
    "# rename unhandy column names\n",
    "nb.rename(columns=carrier_renaming, inplace=True)\n",
    "# calc sum and convert to TWh\n",
    "(nb[nb > 0].sum() / 1000).sort_values()"
   ],
   "metadata": {
    "collapsed": false,
    "pycharm": {
     "name": "#%%\n"
    }
   }
  },
  {
   "cell_type": "code",
   "execution_count": 63,
   "outputs": [
    {
     "data": {
      "text/plain": "H2 Electrolysis                  -3558.103289\nelectricity                      -1720.767554\nindustry electricity             -1702.520000\nBEV charger                       -946.278666\nheat pump                         -787.444014\nurban central resistive heater    -239.795041\nbattery charger                   -113.068737\nPHS                                -59.385843\nagriculture electricity            -44.861105\nhome battery charger                -0.015978\ndtype: float64"
     },
     "execution_count": 63,
     "metadata": {},
     "output_type": "execute_result"
    }
   ],
   "source": [
    "pos_gen = (nb[nb < 0].sum() / 1000).sort_values(ascending=False)[(nb[nb < 0].sum() / 1000).sort_values(ascending=False) < -0.001]\n",
    "pos_gen.index = [carrier_renaming_reverse.get(n, n) for n in pos_gen.index]\n",
    "pos_gen.sort_values(ascending=True)"
   ],
   "metadata": {
    "collapsed": false,
    "pycharm": {
     "name": "#%%\n"
    }
   }
  },
  {
   "cell_type": "code",
   "execution_count": 75,
   "outputs": [
    {
     "data": {
      "text/plain": "electricity distribution grid_gen         5048.708774\nonwind_gen                                4556.006981\nsolar_gen                                 3255.958746\nBEV charger_gen                            890.745672\noffwind-dc_gen                             609.332350\nbattery charger_gen                        396.028538\nbattery discharger_gen                     388.027177\nhydro_gen                                  348.192743\nsolar rooftop_gen                          328.163361\noffwind-ac_gen                             182.061598\nurban central gas CHP_gen                  139.469472\nror_gen                                    138.641710\nurban central solid biomass CHP CC_gen     105.343787\nV2G_gen                                     99.762294\nPHS_gen                                     58.717624\nOCGT_gen                                     3.034568\nH2 Fuel Cell_gen                             1.416061\nhome battery charger_gen                     0.178194\nhome battery discharger_gen                  0.174593\nurban central gas CHP CC_gen                 0.020838\nurban central solid biomass CHP_gen          0.006439\nDC_gen                                     -16.338929\ndtype: float64"
     },
     "execution_count": 75,
     "metadata": {},
     "output_type": "execute_result"
    }
   ],
   "source": [
    "(df_stst_ons[[c + \"_gen\" for c in carriers_el_gen]].sum() / 1000).sort_values(ascending=False)"
   ],
   "metadata": {
    "collapsed": false,
    "pycharm": {
     "name": "#%%\n"
    }
   }
  },
  {
   "cell_type": "code",
   "execution_count": 76,
   "outputs": [
    {
     "data": {
      "text/plain": "electricity distribution grid_gen         5113.896804\nonwind_gen                                4595.279875\nsolar_gen                                 2339.825054\noffwind-dc_gen                             968.844260\nBEV charger_gen                            851.662131\nhydro_gen                                  348.200933\nsolar rooftop_gen                          263.256595\noffwind-ac_gen                             144.170812\nror_gen                                    139.380591\nbattery charger_gen                        110.822269\nbattery discharger_gen                     108.583215\nurban central solid biomass CHP CC_gen      81.051047\nV2G_gen                                     64.587106\nPHS_gen                                     53.051560\nurban central gas CHP_gen                   47.403712\nurban central solid biomass CHP_gen         27.102189\nOCGT_gen                                     2.959376\nhome battery charger_gen                     0.116080\nhome battery discharger_gen                  0.113735\nH2 Fuel Cell_gen                             0.006896\nurban central gas CHP CC_gen                 0.003995\nDC_gen                                    -281.220827\ndtype: float64"
     },
     "execution_count": 76,
     "metadata": {},
     "output_type": "execute_result"
    }
   ],
   "source": [
    "(df_exp_ons[[c + \"_gen\" for c in carriers_el_gen]].sum() / 1000).sort_values(ascending=False)"
   ],
   "metadata": {
    "collapsed": false,
    "pycharm": {
     "name": "#%%\n"
    }
   }
  },
  {
   "cell_type": "code",
   "execution_count": 70,
   "outputs": [],
   "source": [
    "# investigate in carriers with most generation for both networks\n",
    "# without grid (\"electricity distribution grid\", \"DC\", \"H2 pipeline\", \"H2 pipeline retrofitted\")\n",
    "# storage technologies:\n",
    "\n",
    "carriers_el_gen = [\n",
    "    \"electricity distribution grid\",\n",
    "    \"onwind\",\n",
    "    \"solar\",\n",
    "    \"BEV charger\",\n",
    "    \"offwind-dc\",\n",
    "    \"ror\",\n",
    "    \"hydro\",\n",
    "    \"solar rooftop\",\n",
    "    \"offwind-ac\",\n",
    "    \"battery charger\",\n",
    "    \"battery discharger\",\n",
    "    \"urban central solid biomass CHP CC\",\n",
    "    \"V2G\",\n",
    "    \"PHS\",\n",
    "    \"urban central gas CHP\",\n",
    "    \"urban central solid biomass CHP\",\n",
    "    \"OCGT\",\n",
    "    \"home battery charger\",\n",
    "    \"home battery discharger\",\n",
    "    \"H2 Fuel Cell\",\n",
    "    \"urban central gas CHP CC\",\n",
    "    \"DC\"\n",
    "]\n",
    "\n",
    "carriers_el_con = [\n",
    "    \"PHS\",\n",
    "    \"electricity distribution grid\",\n",
    "    \"H2 Electrolysis\",\n",
    "    \"BEV charger\",\n",
    "    \"urban central air heat pump\",\n",
    "    \"residential urban decentral air heat pump\",\n",
    "    \"residential rural ground heat pump\",\n",
    "    \"services rural ground heat pump\",\n",
    "    \"services urban decentral air heat pump\",\n",
    "    \"urban central resistive heater\",\n",
    "    \"battery charger\",\n",
    "    \"battery discharger\",\n",
    "    \"V2G\",\n",
    "    \"residential urban decentral resistive heater\",\n",
    "    \"residential rural resistive heater\",\n",
    "    \"services urban decentral resistive heater\",\n",
    "    \"services rural resistive heater\",\n",
    "    \"home battery charger\",\n",
    "    \"home battery discharger\",\n",
    "    \"DC\",\n",
    "    \"DAC\",\n",
    "]\n",
    "\n",
    "carriers_h2_gen = [\n",
    "    \"H2 Electrolysis\",\n",
    "    \"SMR CC\",\n",
    "    \"SMR\"\n",
    "]\n",
    "\n",
    "carriers_h2_con = [\n",
    "    \"H2 liquefaction\",\n",
    "    \"H2 Fuel Cell\",\n",
    "    \"Sabatier\",\n",
    "    \"Fischer-Tropsch\"\n",
    "]\n",
    "\n",
    "carriers_heat_gen1 = [\n",
    "    \"urban central air heat pump\",\n",
    "    \"residential urban decentral air heat pump\",\n",
    "    \"residential rural ground heat pump\",\n",
    "    \"services rural ground heat pump\",\n",
    "    \"services urban decentral air heat pump\",\n",
    "    \"urban central gas boiler\",\n",
    "    \"urban central resistive heater\",\n",
    "    \"residential urban decentral gas boiler\",\n",
    "    \"urban central water tanks charger\",\n",
    "    \"urban central water tanks discharger\",\n",
    "    \"residential urban decentral resistive heater\",\n",
    "    \"services urban decentral gas boiler\",\n",
    "    \"urban central solar thermal\",\n",
    "    \"residential rural resistive heater\",\n",
    "    \"services urban decentral resistive heater\",\n",
    "    \"residential rural gas boiler\",\n",
    "    \"services rural resistive heater\",\n",
    "    \"services rural gas boiler\",\n",
    "    \"services rural water tanks charger\",\n",
    "    \"residential rural water tanks charger\",\n",
    "    \"services rural water tanks discharger\",\n",
    "    \"residential rural water tanks discharger\",\n",
    "    \"services urban decentral water tanks charger\",\n",
    "    \"residential urban decentral water tanks charger\",\n",
    "    \"services urban decentral water tanks discharger\",\n",
    "    \"residential urban decentral water tanks discharger\",\n",
    "    \"residential urban decentral solar thermal\",\n",
    "    \"services urban decentral solar thermal\",\n",
    "    \"residential rural solar thermal\",\n",
    "    \"services rural solar thermal\"\n",
    "]\n",
    "\n",
    "carriers_heat_gen2 = [\n",
    "    \"urban central solid biomass CHP CC\",\n",
    "    \"urban central gas CHP\",\n",
    "    \"urban central solid biomass CHP\",\n",
    "    \"H2 Fuel Cell\",\n",
    "    \"urban central gas CHP CC\",\n",
    "    \"DAC\"\n",
    "]\n",
    "\n",
    "carriers_heat_con = [\n",
    "\"urban central water tanks charger\",\n",
    "\"urban central water tanks discharger\",\n",
    "\"services rural water tanks charger\",\n",
    "\"residential rural water tanks charger\",\n",
    "\"services rural water tanks discharger\",\n",
    "\"residential rural water tanks discharger\",\n",
    "\"services urban decentral water tanks charger\",\n",
    "\"residential urban decentral water tanks charger\",\n",
    "\"services urban decentral water tanks discharger\",\n",
    "\"residential urban decentral water tanks discharger\",\n",
    "]\n",
    "\n",
    "# for gas, biomass, oil, process emission, C02 refer to excel table"
   ],
   "metadata": {
    "collapsed": false,
    "pycharm": {
     "name": "#%%\n"
    }
   }
  },
  {
   "cell_type": "code",
   "execution_count": 71,
   "outputs": [],
   "source": [
    "# select carriers which make most sense\n",
    "\n",
    "# ordered according to (df_stst_ons[[c + \"_gen\" for c in c_el_gen_s]].sum() + df_exp_ons[[c + \"_gen\" for c in c_el_gen_s]].sum()).sort_values(ascending=False)\n",
    "# overall less than 50 TWh: urban central gas CHP CC, fuel cell, home battery discharger, OCGT, urban central solid biomass CHP,\n",
    "c_el_gen_s = [\n",
    "    \"onwind\",\n",
    "    \"solar\",\n",
    "    \"offwind-dc\",\n",
    "    \"hydro\",\n",
    "    \"solar rooftop\",\n",
    "    \"battery discharger\",\n",
    "    \"offwind-ac\",\n",
    "    \"ror\",\n",
    "    \"urban central gas CHP\",\n",
    "    \"urban central solid biomass CHP CC\",\n",
    "    \"V2G\",\n",
    "    \"PHS\"\n",
    "]\n",
    "\n",
    "# use urban central air heat pump as only heat pump (max generation)\n",
    "# use urban central resistive heater (max generation)\n",
    "# overall less than 50 TWh: home battery charger\n",
    "# ordered according to (df_stst_ons[[c + \"_con_el\" for c in c_el_con_s]].sum() + df_exp_ons[[c + \"_con_el\" for c in c_el_con_s]].sum()).sort_values(ascending=False)\n",
    "c_el_con_s = [\n",
    "    \"H2 Electrolysis\",\n",
    "    \"BEV charger\",\n",
    "    \"battery charger\",\n",
    "    \"urban central air heat pump\",\n",
    "    \"urban central resistive heater\",\n",
    "    \"PHS\",\n",
    "]\n",
    "\n",
    "carriers_h2_gen = [\n",
    "    \"H2 Electrolysis\",\n",
    "    \"SMR CC\",\n",
    "    \"SMR\"\n",
    "]\n",
    "\n",
    "carriers_h2_con = [\n",
    "    \"H2 liquefaction\",\n",
    "    \"H2 Fuel Cell\"\n",
    "    \"Sabatier\",\n",
    "    \"Fischer-Tropsch\"\n",
    "]\n",
    "\n",
    "# use urban central air heat pump as only heat pump (max generation)\n",
    "# use urban central resistive heater (max generation)\n",
    "# use urban central gas boiler (max generation)\n",
    "# use urban central water tanks charger (max generation)\n",
    "# use urban central solar thermal (max generation)\n",
    "\n",
    "carriers_heat_gen1 = [\n",
    "    \"urban central air heat pump\"\n",
    "    \"urban central gas boiler\"\n",
    "    \"urban central resistive heater\"\n",
    "    \"urban central water tanks discharger\"\n",
    "    \"urban central solar thermal\"\n",
    "]\n",
    "\n",
    "carriers_heat_gen2 = [\n",
    "    \"urban central solid biomass CHP CC\",\n",
    "    \"urban central gas CHP\",\n",
    "    \"urban central solid biomass CHP\",\n",
    "    \"H2 Fuel Cell\",\n",
    "    \"urban central gas CHP CC\",\n",
    "    \"DAC\"\n",
    "]\n",
    "\n",
    "carriers_heat_con = [\n",
    "\"urban central water tanks charger\",\n",
    "]\n",
    "\n",
    "# for gas, biomass, oil, process emission, C02 refer to excel table"
   ],
   "metadata": {
    "collapsed": false,
    "pycharm": {
     "name": "#%%\n"
    }
   }
  },
  {
   "cell_type": "code",
   "execution_count": 79,
   "outputs": [
    {
     "data": {
      "text/plain": "{'Sabatier',\n 'biogas to gas',\n 'gas',\n 'gas for industry',\n 'gas for industry CC',\n 'oil',\n 'process emissions',\n 'process emissions CC',\n 'residential rural gas boiler',\n 'residential rural solar thermal',\n 'residential rural water tanks charger',\n 'residential rural water tanks discharger',\n 'residential urban decentral gas boiler',\n 'residential urban decentral solar thermal',\n 'residential urban decentral water tanks charger',\n 'residential urban decentral water tanks discharger',\n 'services rural gas boiler',\n 'services rural solar thermal',\n 'services rural water tanks charger',\n 'services rural water tanks discharger',\n 'services urban decentral gas boiler',\n 'services urban decentral solar thermal',\n 'services urban decentral water tanks charger',\n 'services urban decentral water tanks discharger',\n 'solid biomass for industry',\n 'solid biomass for industry CC',\n 'urban central gas boiler',\n 'urban central solar thermal',\n 'urban central water tanks discharger'}"
     },
     "execution_count": 79,
     "metadata": {},
     "output_type": "execute_result"
    }
   ],
   "source": [
    "n = stst\n",
    "all_c = n.generators.carrier.unique().tolist() + n.links.carrier.unique().tolist() + n.storage_units.carrier.unique().tolist()\n",
    "\n",
    "# carriers not in any list:\n",
    "set(all_c).difference(carriers_el_gen + carriers_el_con + carriers_h2_gen + carriers_h2_con + carriers_heat_gen1 + carriers_heat_con)"
   ],
   "metadata": {
    "collapsed": false,
    "pycharm": {
     "name": "#%%\n"
    }
   }
  },
  {
   "cell_type": "code",
   "execution_count": null,
   "outputs": [],
   "source": [
    "# Check second and third output of links\n",
    "# what is with DAC?"
   ],
   "metadata": {
    "collapsed": false,
    "pycharm": {
     "name": "#%%\n"
    }
   }
  },
  {
   "cell_type": "code",
   "execution_count": null,
   "outputs": [],
   "source": [
    "n.links[n.links.carrier == \"DAC\"]"
   ],
   "metadata": {
    "collapsed": false,
    "pycharm": {
     "name": "#%%\n"
    }
   }
  },
  {
   "cell_type": "code",
   "execution_count": 81,
   "outputs": [
    {
     "data": {
      "text/plain": "{'DC_gen',\n 'H2 Fuel Cell_gen',\n 'OCGT_gen',\n 'home battery charger_gen',\n 'home battery discharger_gen',\n 'urban central gas CHP CC_gen',\n 'urban central solid biomass CHP_gen'}"
     },
     "execution_count": 81,
     "metadata": {},
     "output_type": "execute_result"
    }
   ],
   "source": [
    "# exclude technologies with less than 0.5 % of total generation or consumption in both scenarios\n",
    "stst_car = df_stst_ons[[c + \"_gen\" for c in carriers_el_gen]].sum()[df_stst_ons[[c + \"_gen\" for c in carriers_el_gen]].sum() < 51*1e3].index\n",
    "exp_car   = df_exp_ons[[c + \"_gen\" for c in carriers_el_gen]].sum()[df_exp_ons[[c + \"_gen\" for c in carriers_el_gen]].sum() < 46*1e3].index\n",
    "set(stst_car).intersection(exp_car)"
   ],
   "metadata": {
    "collapsed": false,
    "pycharm": {
     "name": "#%%\n"
    }
   }
  },
  {
   "cell_type": "code",
   "execution_count": null,
   "outputs": [],
   "source": [],
   "metadata": {
    "collapsed": false,
    "pycharm": {
     "name": "#%%\n"
    }
   }
  }
 ],
 "metadata": {
  "kernelspec": {
   "display_name": "Python 3",
   "language": "python",
   "name": "python3"
  },
  "language_info": {
   "codemirror_mode": {
    "name": "ipython",
    "version": 2
   },
   "file_extension": ".py",
   "mimetype": "text/x-python",
   "name": "python",
   "nbconvert_exporter": "python",
   "pygments_lexer": "ipython2",
   "version": "2.7.6"
  }
 },
 "nbformat": 4,
 "nbformat_minor": 0
}