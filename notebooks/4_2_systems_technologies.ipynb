{
 "cells": [
  {
   "cell_type": "raw",
   "metadata": {
    "pycharm": {
     "name": ""
    }
   },
   "source": [
    "# Plots for section 4.2 (systems technologies)"
   ]
  },
  {
   "cell_type": "markdown",
   "metadata": {
    "pycharm": {
     "name": "#%% md\n"
    }
   },
   "source": [
    "## Imports"
   ]
  },
  {
   "cell_type": "code",
   "execution_count": null,
   "metadata": {
    "pycharm": {
     "name": "#%%\n"
    }
   },
   "outputs": [],
   "source": [
    "import pandas as pd\n",
    "import geopandas as gpd\n",
    "import numpy as np\n",
    "import pypsa\n",
    "import math\n",
    "import seaborn as sns\n",
    "import cartopy\n",
    "import cartopy.crs as ccrs\n",
    "import matplotlib\n",
    "import matplotlib.colors as mcolors\n",
    "import matplotlib.pyplot as plt\n",
    "import warnings\n",
    "warnings.filterwarnings(\"ignore\")\n",
    "from shapely.geometry import Point, LineString\n",
    "from datetime import datetime\n",
    "import matplotlib.patheffects as pe\n",
    "import matplotlib.colors as mcolors\n",
    "import matplotlib.dates as mdates\n",
    "from matplotlib.lines import Line2D\n",
    "import matplotlib.ticker as mtick\n",
    "\n",
    "from datetime import date, datetime, time, timedelta\n",
    "\n",
    "# imported own functions\n",
    "from utils import market_values, market_values_by_time_index, nodal_balance, capacity, capacity_links, capacity_storage_units, get_condense_sum, nodal_balance, generation, generation_links, generation_storage_units, market_values_storage_units, market_values_links, time_stored_LIFO\n",
    "\n",
    "# imported own definitions\n",
    "from utils import carrier_colors, carrier_renaming, carrier_renaming_reverse \n",
    "from utils import resistive_heater, gas_boiler, heat_pump, water_tanks_charger, water_tanks_discharger, solar_thermal\n",
    "from utils import c_el_gen_s, c_el_con_s\n",
    "\n",
    "# general variables\n",
    "font1 = {'fontname':'Calibri'}\n",
    "PLOT_DIR = 'C:/Users/Julian/Studies/Master/01 TU Berlin/3. Semester - Masterarbeit/MA Marktwerte FEE/data/plots/'\n",
    "onshore_regions = gpd.read_file(\"../data/external/regions_onshore_elec_s_181.geojson\")\n",
    "offshore_regions = gpd.read_file(\"../data/external/regions_offshore_elec_s_181.geojson\")\n",
    "onshore_regions = onshore_regions.set_index('name')\n",
    "offshore_regions = offshore_regions.set_index('name')"
   ]
  },
  {
   "cell_type": "code",
   "execution_count": null,
   "metadata": {
    "pycharm": {
     "name": "#%%\n"
    }
   },
   "outputs": [],
   "source": [
    "# Network imports\n",
    "n_no =pypsa.Network(\"../data/raw/elec_s_181_lv1.0__Co2L0-3H-T-H-B-I-A-solar+p3-linemaxext10-noH2network_2030.nc\")\n",
    "n_h2 =pypsa.Network(\"../data/raw/elec_s_181_lvopt__Co2L0-3H-T-H-B-I-A-solar+p3-linemaxext10_2030.nc\")"
   ]
  },
  {
   "cell_type": "code",
   "execution_count": null,
   "metadata": {
    "pycharm": {
     "name": "#%%\n"
    }
   },
   "outputs": [],
   "source": [
    "# stst and exp dataframes\n",
    "# spatial\n",
    "df_stst_ons = pd.read_pickle(\"../data/processed/df_stst_ons.pkl\")\n",
    "df_stst_off = pd.read_pickle(\"../data/processed/df_stst_off.pkl\")\n",
    "df_exp_ons = pd.read_pickle(\"../data/processed/df_exp_ons.pkl\")\n",
    "df_exp_off = pd.read_pickle(\"../data/processed/df_exp_off.pkl\")\n",
    "\n",
    "# temporal\n",
    "df_stst_ts = pd.read_pickle(\"../data/processed/df_stst_ts.pkl\")\n",
    "df_exp_ts = pd.read_pickle(\"../data/processed/df_exp_ts.pkl\")\n",
    "\n",
    "# other\n",
    "overall_ur_stst = pd.read_pickle(\"../data/processed/overall_ur_stst.pkl\")\n",
    "overall_ur_exp = pd.read_pickle(\"../data/processed/overall_ur_exp.pkl\")"
   ]
  },
  {
   "cell_type": "code",
   "execution_count": null,
   "metadata": {
    "pycharm": {
     "name": "#%%\n"
    }
   },
   "outputs": [],
   "source": [
    "# Notebook Definitions\n",
    "c1_groups = [resistive_heater, gas_boiler, heat_pump, water_tanks_charger, water_tanks_discharger, solar_thermal]\n",
    "c1_groups_name = [\"resistive heater\", \"gas boiler\", \"heat pump\", \"water tanks charger\", \"water tanks discharger\", \"solar thermal\"]\n",
    "markers =[\"v\", \"^\", \"<\", \">\", \"1\", \"2\", \"3\", \"4\", \"*\", \"+\", \"d\", \"o\", \"|\", \"s\", \"P\", \"p\", \"h\"]"
   ]
  },
  {
   "cell_type": "code",
   "execution_count": null,
   "metadata": {
    "pycharm": {
     "name": "#%%\n"
    }
   },
   "outputs": [],
   "source": [
    "# Notebook Functions\n",
    "\n",
    "def get_df(df_no, df_h2, carriers):\n",
    "    result = pd.DataFrame(index = [\"STST\", \"EXP\"])\n",
    "\n",
    "    for c in carriers:\n",
    "        result.loc[\"STST\" , c] = df_no[c].values\n",
    "        result.loc[\"EXP\" , c] = df_h2[c].values\n",
    "    return result\n",
    "\n",
    "def c_gen(carrier_list, network):\n",
    "    result = []\n",
    "    for c in carrier_list:\n",
    "        if c in network.generators.carrier.unique().tolist():\n",
    "            result.append(c)\n",
    "    return result\n",
    "\n",
    "def c_link(carrier_list, network):\n",
    "    result = []\n",
    "    for c in carrier_list:\n",
    "        if c in network.links.carrier.unique().tolist():\n",
    "            result.append(c)\n",
    "    return result\n",
    "\n",
    "def c_su(carrier_list, network):\n",
    "    result = []\n",
    "    for c in carrier_list:\n",
    "        if c in network.storage_units.carrier.unique().tolist():\n",
    "            result.append(c)\n",
    "    return result"
   ]
  },
  {
   "cell_type": "code",
   "execution_count": null,
   "metadata": {
    "pycharm": {
     "name": "#%%\n"
    }
   },
   "outputs": [],
   "source": [
    "# Regions\n",
    "\n",
    "onshore_regions['coords'] = onshore_regions['geometry'].apply(lambda x: x.representative_point().coords[:])\n",
    "onshore_regions['coords'] = [coords[0] for coords in onshore_regions['coords']]\n",
    "onshore_regions[\"name\"] = onshore_regions.index\n",
    "offshore_regions['coords'] = offshore_regions['geometry'].apply(lambda x: x.representative_point().coords[:])\n",
    "offshore_regions['coords'] = [coords[0] for coords in offshore_regions['coords']]\n",
    "offshore_regions[\"name\"] = offshore_regions.index"
   ]
  },
  {
   "cell_type": "markdown",
   "metadata": {
    "pycharm": {
     "name": "#%% md\n"
    }
   },
   "source": [
    "## CALC"
   ]
  },
  {
   "cell_type": "code",
   "execution_count": null,
   "metadata": {
    "pycharm": {
     "name": "#%%\n"
    }
   },
   "outputs": [],
   "source": [
    "# calc market values, generation, lmps, capacity factors for generators, links and storage units\n",
    "\n",
    "for n in [n_no, n_h2]:\n",
    "    df_regions_onshore = onshore_regions.copy()\n",
    "    df_regions_offshore = offshore_regions.copy()\n",
    "\n",
    "    # function for carriers in n.generators.carrier.unique() #13\n",
    "    for carrier in n.generators.carrier.unique():\n",
    "        df_regions_onshore[f\"{carrier}_mv\"] = market_values(n, carrier)\n",
    "        df_regions_offshore[f\"{carrier}_mv\"] = market_values(n, carrier)\n",
    "        # generation in TWh (does this have to be multiplied by 3??\n",
    "        df_regions_onshore[f\"{carrier}_gen\"] = generation(n, carrier) / 1000 * 3\n",
    "        df_regions_offshore[f\"{carrier}_gen\"] = generation(n, carrier) / 1000 * 3\n",
    "        # lmps\n",
    "        # capacity factors This calculation is correct? as capacity is multiplied by 2920 is the same as multiplying the generation by 3 and then dividing it by the capacity times 8760 (as cap is in MWh?)\n",
    "        df_regions_onshore[f\"{carrier}_cf\"] = generation(n, carrier) / (capacity(n, carrier) *2920)\n",
    "        df_regions_offshore[f\"{carrier}_cf\"] = generation(n, carrier) / (capacity(n, carrier) *2920)\n",
    "\n",
    "\n",
    "    # function for carriers in n.links.carrier.unique() #53\n",
    "    for carrier in n.links.carrier.unique():\n",
    "        df_regions_onshore[f\"{carrier}_mv\"] = market_values_links(n, carrier)\n",
    "        df_regions_onshore[f\"{carrier}_gen\"] = generation_links(n, carrier) / 1000 * 3\n",
    "        df_regions_onshore[f\"{carrier}_cf\"] = generation_links(n, carrier) / (capacity_links(n, carrier) *2920)\n",
    "\n",
    "    # function for carriers in n.storage_units.carrier.unique() #2\n",
    "    for carrier in n.storage_units.carrier.unique():\n",
    "        df_regions_onshore[f\"{carrier}_mv\"] = market_values_storage_units(n, carrier)\n",
    "        df_regions_onshore[f\"{carrier}_gen\"] = generation_storage_units(n, carrier) / 1000 * 3\n",
    "        # capacity factors (both generation and consumption(loading) is considered\n",
    "        gen = abs(n.storage_units_t.p.loc[:, n.storage_units.carrier == carrier])\n",
    "        gen.columns = gen.columns.map(n.storage_units.bus)\n",
    "        gen.columns = gen.columns.map(n.buses.location)\n",
    "        df_regions_onshore[f\"{carrier}_cf\"] = gen.sum() / (capacity_storage_units(n, carrier) *2920)\n",
    "\n",
    "    # set market values to nan where generation in corresponding region is lower than % quantile\n",
    "    qt = 0.2\n",
    "    for carrier in (n.generators.carrier.unique().tolist() +\n",
    "                    n.links.carrier.unique().tolist() +\n",
    "                    n.storage_units.carrier.unique().tolist()):\n",
    "        index = df_regions_onshore[f\"{carrier}_gen\"] <= np.quantile(df_regions_onshore[f\"{carrier}_gen\"], qt)\n",
    "        df_regions_onshore[f\"{carrier}_mv\"][index] = np.nan\n",
    "\n",
    "    # calc lmps at the buses (lmps that are only present for EU (e.g. oil) are nan at the moment)\n",
    "    # TODO: decide if EU lmps are used as lmp for all regions\n",
    "    for carrier_bus in n.buses.carrier.unique():\n",
    "        # index would be same names as the bus (not the location as it is in the index of\n",
    "        # df_regions_onshore so far -> map location to make sure the right lmp is set\n",
    "        locs = n.buses.location[n.buses[n.buses.carrier == carrier_bus].index]\n",
    "        lmps = n.buses_t.marginal_price[n.buses[n.buses.carrier == carrier_bus].index].mean()\n",
    "        df = pd.concat([lmps, locs], axis=1).rename(columns={0: f\"{carrier_bus}_lmp\"})\n",
    "        df.set_index(\"location\", inplace=True)\n",
    "        if df.size == 1:\n",
    "            if df.index == \"EU\":\n",
    "                df = pd.DataFrame(np.repeat(df.values, 181), index=df_regions_onshore.index, columns=[f\"{carrier_bus}_lmp\"])\n",
    "                df_regions_onshore[f\"{carrier_bus}_lmp\"] = df[f\"{carrier_bus}_lmp\"]\n",
    "        else:\n",
    "            df_regions_onshore[f\"{carrier_bus}_lmp\"] = df[f\"{carrier_bus}_lmp\"]\n",
    "\n",
    "    if n == n_no:\n",
    "        df_no_ons = df_regions_onshore\n",
    "        df_no_off = df_regions_offshore\n",
    "\n",
    "    if n == n_h2:\n",
    "        df_h2_ons = df_regions_onshore\n",
    "        df_h2_off = df_regions_offshore\n",
    "\n",
    "df_no_ons.head()"
   ]
  },
  {
   "cell_type": "code",
   "execution_count": null,
   "metadata": {
    "pycharm": {
     "name": "#%%\n"
    }
   },
   "outputs": [],
   "source": [
    "#assert 0"
   ]
  },
  {
   "cell_type": "markdown",
   "metadata": {
    "pycharm": {
     "name": "#%% md\n"
    }
   },
   "source": [
    "\n",
    "# 4.2 Important Technologies and their role"
   ]
  },
  {
   "cell_type": "markdown",
   "metadata": {
    "pycharm": {
     "name": "#%% md\n"
    }
   },
   "source": [
    "## Electricity Balances"
   ]
  },
  {
   "cell_type": "code",
   "execution_count": null,
   "metadata": {
    "pycharm": {
     "name": "#%%\n"
    }
   },
   "outputs": [],
   "source": [
    "carrier = [\"AC\", \"low voltage\"]\n",
    "loads = [\"electricity\", \"industry electricity\", \"agriculture electricity\"]\n",
    "period = \"2013-05\"\n",
    "nb_el_no = nodal_balance(n_no, carrier = carrier, time=period, aggregate=['component', 'bus'], energy=True)  # in units of energy\n",
    "nb_el_h2 = nodal_balance(n_h2, carrier = carrier, time=period, aggregate=['component', 'bus'], energy=True)  # in units of energy\n",
    "# convert from MW to GW and unstack\n",
    "nb_el_no = nb_el_no.unstack(level=[1]) / 1000\n",
    "nb_el_h2 = nb_el_h2.unstack(level=[1]) / 1000\n",
    "loads_el_no = abs(nb_el_no[loads].sum(axis=1))\n",
    "loads_el_h2 = abs(nb_el_h2[loads].sum(axis=1))\n",
    "#nb_el_no.drop(loads, axis=1, inplace=True)\n",
    "#nb_el_h2.drop(loads, axis=1, inplace=True)\n",
    "\n",
    "# condense groups\n",
    "nb_el_no = get_condense_sum(nb_el_no, c1_groups, c1_groups_name)\n",
    "nb_el_h2 = get_condense_sum(nb_el_h2, c1_groups, c1_groups_name)\n",
    "# rename unhandy column names\n",
    "nb_el_no.rename(columns=carrier_renaming, inplace=True)\n",
    "nb_el_h2.rename(columns=carrier_renaming, inplace=True)\n",
    "\n",
    "nb_el_no.head(3)"
   ]
  },
  {
   "cell_type": "code",
   "execution_count": null,
   "metadata": {
    "pycharm": {
     "name": "#%%\n"
    }
   },
   "outputs": [],
   "source": [
    "# differences\n",
    "nb_el_no.columns.difference(nb_el_h2.columns)"
   ]
  },
  {
   "cell_type": "markdown",
   "metadata": {
    "pycharm": {
     "name": "#%% md\n"
    }
   },
   "source": [
    "- network without H2 grid has no 'biomass CHP'\n",
    "- network with H2 grid has no Direct Air Capture, no H2 Fuel Cell, no gas CHP and no gas CHP CC"
   ]
  },
  {
   "cell_type": "code",
   "execution_count": null,
   "metadata": {
    "pycharm": {
     "name": "#%%\n"
    }
   },
   "outputs": [],
   "source": [
    "# thesis_plot\n",
    "\n",
    "fig, ax = plt.subplots(figsize=(14, 8))\n",
    "\n",
    "model = \"EXP\"\n",
    "\n",
    "if model == \"STST\":\n",
    "    n = n_no\n",
    "    df = nb_el_no\n",
    "    df_loads = loads_el_no\n",
    "elif model == \"EXP\":\n",
    "    n = n_h2\n",
    "    df = nb_el_h2\n",
    "    df_loads = loads_el_h2\n",
    "\n",
    "# split into df with positive and negative values\n",
    "df_neg, df_pos = df.clip(upper=0), df.clip(lower=0)\n",
    "# exclude all technologies that contribute less than th\n",
    "th = 0.005\n",
    "df_pos_share = df_pos.sum() / df_pos.sum().sum()\n",
    "df_pos = df_pos[df_pos_share[df_pos_share > th].sort_values(ascending=False).index]\n",
    "df_neg_share = df_neg.sum() / df_neg.sum().sum()\n",
    "df_neg = df_neg[df_neg_share[df_neg_share > th].sort_values(ascending=False).index]\n",
    "# get colors\n",
    "c_neg, c_pos = [carrier_colors[col] for col in df_neg.columns], [carrier_colors[col] for col in df_pos.columns]\n",
    "\n",
    "# plot positive values\n",
    "ax = df_pos.plot.area(ax=ax, stacked=True, color=c_pos, linewidth=0.)\n",
    "\n",
    "# rename negative values that are also present on positive side, so that they are not shown and plot negative values\n",
    "f = lambda c: '_' + c\n",
    "cols = [f(c) if (c in df_pos.columns) else c for c in  df_neg.columns]\n",
    "cols_map = dict(zip(df_neg.columns, cols))\n",
    "ax = df_neg.rename(columns=cols_map).plot.area(ax=ax, stacked=True, color=c_neg, linewidth=0.)\n",
    "\n",
    "# plot lmps\n",
    "lmps = n.buses_t.marginal_price[n.buses[n.buses.carrier.isin(carrier)].index].mean(axis=1)[period]\n",
    "ax2 = lmps.plot(style=\"--\", color=\"black\", label=\"lmp (mean over buses)\", secondary_y=True)\n",
    "ax2.grid(False)\n",
    "# set limits of secondary y-axis\n",
    "ax2.set_ylim([ - 1.5 * lmps.max() * abs(df_neg.sum(axis=1).min()) /  df_pos.sum(axis=1).max() , 1.5 * lmps.max()])\n",
    "\n",
    "# plot loads\n",
    "df_loads.plot(style=\":\", color=\"black\", label=\"electricity loads\")\n",
    "\n",
    "# rescale the y-axis\n",
    "ax.set_ylim([1.05*df_neg.sum(axis=1).min(), 1.05*df_pos.sum(axis=1).max()])\n",
    "ax.legend(ncol=1, loc=\"upper center\", bbox_to_anchor=(1.17, 1.01), title=\"Legend for left y-axis\")\n",
    "ax2.legend(title=\"Legend for right y-axis\",  loc=\"upper right\")\n",
    "ax.set_ylabel(\"total electriyity balance [GW]\")\n",
    "ax2.set_ylabel(\"lmp [€/MWh]\")\n",
    "ax.set_xlabel(\"\")\n",
    "ax.set_title(f\"Electricity balance May ({model})\", fontsize=16, pad=15,  **font1)\n",
    "ax.grid(True)\n",
    "fig.tight_layout()\n",
    "\n",
    "#plt.close()\n",
    "plt.show()\n",
    "\n",
    "fig.savefig(f\"{PLOT_DIR}01_general/4.2_systems_technologies/el_bal_may_{model}.png\")"
   ]
  },
  {
   "cell_type": "markdown",
   "metadata": {
    "pycharm": {
     "name": "#%% md\n"
    }
   },
   "source": [
    "#Further analysis"
   ]
  },
  {
   "cell_type": "code",
   "execution_count": null,
   "metadata": {
    "pycharm": {
     "name": "#%%\n"
    }
   },
   "outputs": [],
   "source": [
    "# check if technologies are ein plot which are not in index\n",
    "set(df_pos.columns).difference(c_el_gen_s)\n",
    "set(c_el_gen_s).difference(df_pos.columns)\n",
    "# gen: 'PHS', 'urban central gas CHP', 'urban central solid biomass CHP CC' are not in plot but in index\n",
    "# con: 'urban central air heat pump', 'urban central resistive heater' are present aggregated"
   ]
  },
  {
   "cell_type": "code",
   "execution_count": null,
   "metadata": {
    "pycharm": {
     "name": "#%%\n"
    }
   },
   "outputs": [],
   "source": [
    "set(df_neg.columns).difference(c_el_con_s)"
   ]
  },
  {
   "cell_type": "code",
   "execution_count": null,
   "metadata": {
    "pycharm": {
     "name": "#%%\n"
    }
   },
   "outputs": [],
   "source": [
    "df_pos.sum()"
   ]
  },
  {
   "cell_type": "markdown",
   "metadata": {
    "pycharm": {
     "name": "#%% md\n"
    }
   },
   "source": [
    "- onwind only slighlty with most generation (not the case for June, July and August)\n",
    "onwind,345562.363252\n",
    "solar,338931.403660"
   ]
  },
  {
   "cell_type": "markdown",
   "metadata": {
    "pycharm": {
     "name": "#%% md\n"
    }
   },
   "source": []
  },
  {
   "cell_type": "code",
   "execution_count": null,
   "metadata": {
    "pycharm": {
     "name": "#%%\n"
    }
   },
   "outputs": [],
   "source": [
    "df_neg"
   ]
  },
  {
   "cell_type": "code",
   "execution_count": null,
   "metadata": {
    "pycharm": {
     "name": "#%%\n"
    }
   },
   "outputs": [],
   "source": [
    "# correlation of solar generation and lmp\n",
    "nb_el_no[[\"solar\", \"solar rooftop\"]].sum(axis=1).corr(lmps) # -0.6751\n",
    "nb_el_no.onwind.corr(lmps) # -0.358751\n",
    "nb_el_no.PHS.corr(lmps) # 0.78373\n",
    "nb_el_no.PHS.corr(nb_el_no.solar) # -0.9022"
   ]
  },
  {
   "cell_type": "code",
   "execution_count": null,
   "metadata": {
    "pycharm": {
     "name": "#%%\n"
    }
   },
   "outputs": [],
   "source": [
    "# range of lmps\n",
    "lmps.describe()"
   ]
  },
  {
   "cell_type": "code",
   "execution_count": null,
   "metadata": {
    "pycharm": {
     "name": "#%%\n"
    }
   },
   "outputs": [],
   "source": [
    "# range of lmps\n",
    "lmps.describe()"
   ]
  },
  {
   "cell_type": "markdown",
   "metadata": {
    "pycharm": {
     "name": "#%% md\n"
    }
   },
   "source": [
    "### Electricity Balance (Jan)"
   ]
  },
  {
   "cell_type": "code",
   "execution_count": null,
   "metadata": {
    "pycharm": {
     "name": "#%%\n"
    }
   },
   "outputs": [],
   "source": [
    "carrier = [\"AC\", \"low voltage\"]\n",
    "loads = [\"electricity\", \"industry electricity\", \"agriculture electricity\"]\n",
    "period = \"2013-01\"\n",
    "nb_el_no = nodal_balance(n_no, carrier = carrier, time=period, aggregate=['component', 'bus'], energy=True)  # in units of energy\n",
    "nb_el_h2 = nodal_balance(n_h2, carrier = carrier, time=period, aggregate=['component', 'bus'], energy=True)  # in units of energy\n",
    "# convert from MW to GW and unstack\n",
    "nb_el_no = nb_el_no.unstack(level=[1]) / 1000\n",
    "nb_el_h2 = nb_el_h2.unstack(level=[1]) / 1000\n",
    "loads_el_no = abs(nb_el_no[loads].sum(axis=1))\n",
    "loads_el_h2 = abs(nb_el_h2[loads].sum(axis=1))\n",
    "#nb_el_no.drop(loads, axis=1, inplace=True)\n",
    "#nb_el_h2.drop(loads, axis=1, inplace=True)\n",
    "\n",
    "# condense groups\n",
    "nb_el_no = get_condense_sum(nb_el_no, c1_groups, c1_groups_name)\n",
    "nb_el_h2 = get_condense_sum(nb_el_h2, c1_groups, c1_groups_name)\n",
    "# rename unhandy column names\n",
    "nb_el_no.rename(columns=carrier_renaming, inplace=True)\n",
    "nb_el_h2.rename(columns=carrier_renaming, inplace=True)\n",
    "\n",
    "nb_el_no.head(3)"
   ]
  },
  {
   "cell_type": "code",
   "execution_count": null,
   "metadata": {
    "pycharm": {
     "name": "#%%\n"
    },
    "scrolled": true
   },
   "outputs": [],
   "source": [
    "# thesis plot\n",
    "\n",
    "fig, ax = plt.subplots(figsize=(14, 8))\n",
    "\n",
    "model = \"STST\"\n",
    "\n",
    "if model == \"STST\":\n",
    "    n = n_no\n",
    "    df = nb_el_no\n",
    "    df_loads = loads_el_no\n",
    "elif model == \"EXP\":\n",
    "    n = n_h2\n",
    "    df = nb_el_h2\n",
    "    df_loads = loads_el_h2\n",
    "\n",
    "\n",
    "# split into df with positive and negative values\n",
    "df_neg, df_pos = df.clip(upper=0), df.clip(lower=0)\n",
    "# exclude all technologies that contribute less than th\n",
    "th = 0.005\n",
    "df_pos_share = df_pos.sum() / df_pos.sum().sum()\n",
    "df_pos = df_pos[df_pos_share[df_pos_share > th].sort_values(ascending=False).index]\n",
    "df_neg_share = df_neg.sum() / df_neg.sum().sum()\n",
    "df_neg = df_neg[df_neg_share[df_neg_share > th].sort_values(ascending=False).index]\n",
    "# get colors\n",
    "c_neg, c_pos = [carrier_colors[col] for col in df_neg.columns], [carrier_colors[col] for col in df_pos.columns]\n",
    "\n",
    "# plot positive values\n",
    "ax = df_pos.plot.area(ax=ax, stacked=True, color=c_pos, linewidth=0.)\n",
    "\n",
    "# rename negative values that are also present on positive side, so that they are not shown and plot negative values\n",
    "f = lambda c: '_' + c\n",
    "cols = [f(c) if (c in df_pos.columns) else c for c in  df_neg.columns]\n",
    "cols_map = dict(zip(df_neg.columns, cols))\n",
    "ax = df_neg.rename(columns=cols_map).plot.area(ax=ax, stacked=True, color=c_neg, linewidth=0.)\n",
    "\n",
    "# plot lmps\n",
    "lmps = n.buses_t.marginal_price[n.buses[n.buses.carrier.isin(carrier)].index].mean(axis=1)[period]\n",
    "ax2 = lmps.plot(style=\"--\", color=\"black\", label=\"lmp (mean over buses)\", secondary_y=True)\n",
    "ax2.grid(False)\n",
    "# set limits of secondary y-axis\n",
    "ax2.set_ylim([ - 1.5 * lmps.max() * abs(df_neg.sum(axis=1).min()) /  df_pos.sum(axis=1).max() , 1.5 * lmps.max()])\n",
    "\n",
    "# plot loads\n",
    "df_loads.plot(style=\":\", color=\"black\", label=\"electricity loads\")\n",
    "\n",
    "# rescale the y-axis\n",
    "ax.set_ylim([1.05*df_neg.sum(axis=1).min(), 1.05*df_pos.sum(axis=1).max()])\n",
    "ax.legend(ncol=1, loc=\"upper center\", bbox_to_anchor=(1.17, 1.01), title=\"Legend for left y-axis\")\n",
    "ax2.legend(title=\"Legend for right y-axis\",  loc=\"upper right\")\n",
    "ax.set_ylabel(\"total electriyity balance [GW]\")\n",
    "ax2.set_ylabel(\"lmp [€/MWh]\")\n",
    "ax.set_xlabel(\"\")\n",
    "ax.grid(True)\n",
    "ax.set_title(f\"Electricity balance January ({model})\", fontsize=16, pad=15,  **font1)\n",
    "fig.tight_layout()\n",
    "\n",
    "#plt.close()\n",
    "plt.show()\n",
    "\n",
    "fig.savefig(f\"{PLOT_DIR}01_general/4.2_systems_technologies/el_bal_jan_{model}.png\")"
   ]
  },
  {
   "cell_type": "code",
   "execution_count": null,
   "metadata": {
    "pycharm": {
     "name": "#%%\n"
    }
   },
   "outputs": [],
   "source": [
    "# range of lmps\n",
    "lmps.describe()"
   ]
  },
  {
   "cell_type": "code",
   "execution_count": null,
   "metadata": {
    "pycharm": {
     "name": "#%%\n"
    }
   },
   "outputs": [],
   "source": [
    "# range of lmps\n",
    "lmps.describe()"
   ]
  },
  {
   "cell_type": "markdown",
   "metadata": {
    "pycharm": {
     "name": "#%% md\n"
    }
   },
   "source": [
    "### Electricity balance (all year)"
   ]
  },
  {
   "cell_type": "code",
   "execution_count": null,
   "metadata": {
    "pycharm": {
     "name": "#%%\n"
    }
   },
   "outputs": [],
   "source": [
    "carrier = [\"AC\", \"low voltage\"]\n",
    "loads = [\"electricity\", \"industry electricity\", \"agriculture electricity\"]\n",
    "period = \"2013\"\n",
    "nb_el_no = nodal_balance(n_no, carrier = carrier, time=period, aggregate=['component', 'bus'], energy=True)  # in units of energy\n",
    "nb_el_h2 = nodal_balance(n_h2, carrier = carrier, time=period, aggregate=['component', 'bus'], energy=True)  # in units of energy\n",
    "# convert from MW to GW and unstack\n",
    "nb_el_no = nb_el_no.unstack(level=[1]) / 1000\n",
    "nb_el_h2 = nb_el_h2.unstack(level=[1]) / 1000\n",
    "loads_el_no = abs(nb_el_no[loads].sum(axis=1))\n",
    "loads_el_h2 = abs(nb_el_h2[loads].sum(axis=1))\n",
    "nb_el_no.drop(loads, axis=1, inplace=True)\n",
    "nb_el_h2.drop(loads, axis=1, inplace=True)\n",
    "\n",
    "# condense groups\n",
    "nb_el_no_all = get_condense_sum(nb_el_no, c1_groups, c1_groups_name)\n",
    "nb_el_h2_all = get_condense_sum(nb_el_h2, c1_groups, c1_groups_name)\n",
    "# rename unhandy column names\n",
    "nb_el_no_all.rename(columns=carrier_renaming, inplace=True)\n",
    "nb_el_h2_all.rename(columns=carrier_renaming, inplace=True)\n",
    "\n",
    "nb_el_no_all.head(3)"
   ]
  },
  {
   "cell_type": "code",
   "execution_count": null,
   "metadata": {
    "pycharm": {
     "name": "#%%\n"
    }
   },
   "outputs": [],
   "source": [
    "fig, ax = plt.subplots(figsize=(14, 8))\n",
    "\n",
    "n = n_no\n",
    "# \"8h\", \"D\", \"W\", \"M\"\n",
    "res = \"D\"\n",
    "df = nb_el_no_all#.resample(res).sum()\n",
    "df_loads = loads_el_no#.resample(res).sum()\n",
    "\n",
    "# split into df with positive and negative values and get colors\n",
    "df_neg, df_pos = df.clip(upper=0), df.clip(lower=0)\n",
    "c_neg, c_pos = [carrier_colors[col] for col in df_neg.columns], [carrier_colors[col] for col in df_pos.columns]\n",
    "\n",
    "# plot positive values\n",
    "ax = df_pos.plot.area(ax=ax, stacked=True, color=c_pos, linewidth=0.)\n",
    "\n",
    "# rename negative values so that they are not shown and plot negative values\n",
    "ax = df_neg.rename(columns=lambda x: '_' + x).plot.area(ax=ax, stacked=True, color=c_neg, linewidth=0.)\n",
    "\n",
    "# plot lmps\n",
    "lmps = n.buses_t.marginal_price[n.buses[n.buses.carrier.isin(carrier)].index].mean(axis=1)[period].resample(res).mean()\n",
    "ax2 = lmps.plot(style=\"--\", color=\"black\", label=\"lmp (mean over buses) [€/MWh]\", secondary_y=True)\n",
    "ax2.grid(False)\n",
    "\n",
    "# plot loads\n",
    "df_loads.plot(style=\":\", color=\"black\", label=\"electricity loads [GWh]\")\n",
    "\n",
    "# set limits of secondary y-axis\n",
    "ax2.set_ylim([ - 1.5 * lmps.max() * abs(df_neg.sum(axis=1).min()) /  df_pos.sum(axis=1).max() , 1.5 * lmps.max()])\n",
    "\n",
    "# rescale the y-axis\n",
    "ax.set_ylim([1.05*df_neg.sum(axis=1).min(), 1.05*df_pos.sum(axis=1).max()])\n",
    "ax.legend(ncol=1, loc=\"upper center\", bbox_to_anchor=(1.15, 1), title=\"Legend for left y-axis\")\n",
    "ax2.legend(title=\"Legend for right y-axis\",  loc=\"upper right\")\n",
    "ax.set_ylabel(\"tota electriyity balance [GWh]\")\n",
    "ax.set_xlabel(\"\")\n",
    "ax.grid(True)\n",
    "ax.set_title(f\"{carrier}\")\n",
    "fig.tight_layout()\n",
    "\n",
    "#plt.close()\n",
    "plt.show()"
   ]
  },
  {
   "cell_type": "code",
   "execution_count": null,
   "metadata": {
    "pycharm": {
     "name": "#%%\n"
    }
   },
   "outputs": [],
   "source": [
    "# electricity balance all year with different resolutions\n",
    "\n",
    "fig, ax = plt.subplots(figsize=(14, 8))\n",
    "\n",
    "n = n_h2\n",
    "# \"8h\", \"D\", \"W\", \"M\"\n",
    "res = \"D\"\n",
    "df = nb_el_h2_all.resample(res).sum()\n",
    "df_loads = loads_el_h2.resample(res).sum()\n",
    "\n",
    "# split into df with positive and negative values and get colors\n",
    "df_neg, df_pos = df.clip(upper=0), df.clip(lower=0)\n",
    "c_neg, c_pos = [carrier_colors[col] for col in df_neg.columns], [carrier_colors[col] for col in df_pos.columns]\n",
    "\n",
    "# plot positive values\n",
    "ax = df_pos.plot.area(ax=ax, stacked=True, color=c_pos, linewidth=0.)\n",
    "\n",
    "# rename negative values so that they are not shown and plot negative values\n",
    "ax = df_neg.rename(columns=lambda x: '_' + x).plot.area(ax=ax, stacked=True, color=c_neg, linewidth=0.)\n",
    "\n",
    "# plot lmps\n",
    "lmps = n.buses_t.marginal_price[n.buses[n.buses.carrier.isin(carrier)].index].mean(axis=1)[period].resample(res).mean()\n",
    "ax2 = lmps.plot(style=\"--\", color=\"black\", label=\"lmp (mean over buses) [€/MWh]\", secondary_y=True)\n",
    "ax2.grid(False)\n",
    "\n",
    "# plot loads\n",
    "df_loads.plot(style=\":\", color=\"black\", label=\"electricity loads [GWh]\")\n",
    "\n",
    "# set limits of secondary y-axis\n",
    "ax2.set_ylim([ - 1.5 * lmps.max() * abs(df_neg.sum(axis=1).min()) /  df_pos.sum(axis=1).max() , 1.5 * lmps.max()])\n",
    "\n",
    "# rescale the y-axis\n",
    "ax.set_ylim([1.05*df_neg.sum(axis=1).min(), 1.05*df_pos.sum(axis=1).max()])\n",
    "ax.legend(ncol=1, loc=\"upper center\", bbox_to_anchor=(1.15, 1), title=\"Legend for left y-axis\")\n",
    "ax2.legend(title=\"Legend for right y-axis\",  loc=\"upper right\")\n",
    "ax.set_ylabel(\"tota electriyity balance [GWh]\")\n",
    "ax.set_xlabel(\"\")\n",
    "ax.grid(True)\n",
    "ax.set_title(f\"{carrier}\")\n",
    "fig.tight_layout()"
   ]
  },
  {
   "cell_type": "markdown",
   "metadata": {
    "pycharm": {
     "name": "#%% md\n"
    }
   },
   "source": [
    "### Electricity Balances special cases"
   ]
  },
  {
   "cell_type": "code",
   "execution_count": null,
   "metadata": {
    "pycharm": {
     "name": "#%%\n"
    }
   },
   "outputs": [],
   "source": [
    "carrier = [\"AC\", \"low voltage\"]\n",
    "loads = [\"electricity\", \"industry electricity\", \"agriculture electricity\"]\n",
    "start_date = \"2013-01-22 00:00:00\"\n",
    "end_date = \"2013-01-26 00:00:00\"\n",
    "period = n_no.generators_t.p.index[(n_no.generators_t.p.index >= start_date) & (n_no.generators_t.p.index <= end_date)]\n",
    "nb_el_no = nodal_balance(n_no, carrier = carrier, time=period, aggregate=['component', 'bus'], energy=True)  # in units of energy\n",
    "nb_el_h2 = nodal_balance(n_h2, carrier = carrier, time=period, aggregate=['component', 'bus'], energy=True)  # in units of energy\n",
    "# convert from MW to GW and unstack\n",
    "nb_el_no = nb_el_no.unstack(level=[1]) / 1000\n",
    "nb_el_h2 = nb_el_h2.unstack(level=[1]) / 1000\n",
    "loads_el_no = abs(nb_el_no[loads].sum(axis=1))\n",
    "loads_el_h2 = abs(nb_el_h2[loads].sum(axis=1))\n",
    "#nb_el_no.drop(loads, axis=1, inplace=True)\n",
    "#nb_el_h2.drop(loads, axis=1, inplace=True)\n",
    "\n",
    "# condense groups\n",
    "nb_el_no = get_condense_sum(nb_el_no, c1_groups, c1_groups_name)\n",
    "nb_el_h2 = get_condense_sum(nb_el_h2, c1_groups, c1_groups_name)\n",
    "# rename unhandy column names\n",
    "nb_el_no.rename(columns=carrier_renaming, inplace=True)\n",
    "nb_el_h2.rename(columns=carrier_renaming, inplace=True)\n",
    "\n",
    "nb_el_no.head(3)"
   ]
  },
  {
   "cell_type": "code",
   "execution_count": null,
   "metadata": {
    "pycharm": {
     "name": "#%%\n"
    }
   },
   "outputs": [],
   "source": [
    "fig, ax = plt.subplots(figsize=(14, 8))\n",
    "\n",
    "model = \"EXP\"\n",
    "\n",
    "if model == \"STST\":\n",
    "    n = n_no\n",
    "    df = nb_el_no\n",
    "    df_loads = loads_el_no\n",
    "elif model == \"EXP\":\n",
    "    n = n_h2\n",
    "    df = nb_el_h2\n",
    "    df_loads = loads_el_h2\n",
    "\n",
    "# split into df with positive and negative values\n",
    "df_neg, df_pos = df.clip(upper=0), df.clip(lower=0)\n",
    "# exclude all technologies that contribute less than th\n",
    "th = 0.005\n",
    "df_pos_share = df_pos.sum() / df_pos.sum().sum()\n",
    "df_pos = df_pos[df_pos_share[df_pos_share > th].sort_values(ascending=False).index]\n",
    "df_neg_share = df_neg.sum() / df_neg.sum().sum()\n",
    "df_neg = df_neg[df_neg_share[df_neg_share > th].sort_values(ascending=False).index]\n",
    "# get colors\n",
    "c_neg, c_pos = [carrier_colors[col] for col in df_neg.columns], [carrier_colors[col] for col in df_pos.columns]\n",
    "\n",
    "# plot positive values\n",
    "ax = df_pos.plot.area(ax=ax, stacked=True, color=c_pos, linewidth=0.)\n",
    "\n",
    "# rename negative values that are also present on positive side, so that they are not shown and plot negative values\n",
    "f = lambda c: '_' + c\n",
    "cols = [f(c) if (c in df_pos.columns) else c for c in  df_neg.columns]\n",
    "cols_map = dict(zip(df_neg.columns, cols))\n",
    "ax = df_neg.rename(columns=cols_map).plot.area(ax=ax, stacked=True, color=c_neg, linewidth=0.)\n",
    "\n",
    "# plot lmps\n",
    "lmps = n.buses_t.marginal_price[n.buses[n.buses.carrier.isin(carrier)].index].mean(axis=1)[period]\n",
    "ax2 = lmps.plot(style=\"--\", color=\"black\", label=\"lmp (mean over buses)\", secondary_y=True)\n",
    "ax2.grid(False)\n",
    "# set limits of secondary y-axis\n",
    "ax2.set_ylim([ - 1.5 * lmps.max() * abs(df_neg.sum(axis=1).min()) /  df_pos.sum(axis=1).max() , 1.5 * lmps.max()])\n",
    "\n",
    "# plot loads\n",
    "df_loads.plot(style=\":\", color=\"black\", label=\"electricity loads\")\n",
    "\n",
    "# rescale the y-axis\n",
    "ax.set_ylim([1.05*df_neg.sum(axis=1).min(), 1.05*df_pos.sum(axis=1).max()])\n",
    "ax.legend(ncol=1, loc=\"upper center\", bbox_to_anchor=(1.17, 1.01), title=\"Legend for left y-axis\")\n",
    "ax2.legend(title=\"Legend for right y-axis\",  loc=\"upper right\")\n",
    "ax.set_ylabel(\"total electriyity balance [GW]\")\n",
    "ax2.set_ylabel(\"lmp  [€/MWh]\")\n",
    "ax.set_xlabel(\"\")\n",
    "ax.grid(True)\n",
    "ax.set_title(f\"Electricity balance from {start_date} until {end_date} ({model})\", fontsize=16, pad=15,  **font1)\n",
    "fig.tight_layout()\n",
    "\n",
    "#plt.close()\n",
    "plt.show()\n",
    "\n",
    "fig.savefig(f\"{PLOT_DIR}01_general/4.2_systems_technologies/el_bal_{datetime.strptime(start_date, '%Y-%m-%d %H:%M:%S').strftime('%Y-%m-%d_%H_%M_%S')}__{datetime.strptime(end_date, '%Y-%m-%d %H:%M:%S').strftime('%Y-%m-%d_%H_%M_%S')}_{model}.png\")"
   ]
  },
  {
   "cell_type": "code",
   "execution_count": null,
   "metadata": {
    "pycharm": {
     "name": "#%%\n"
    }
   },
   "outputs": [],
   "source": [
    "# Investigate in special case\n",
    "\n",
    "# generation per hour\n",
    "c =\"battery discharger\"\n",
    "max(nb_el_h2.loc[\"2013-01-23 15:00:00\" : \"2013-01-25 00:00:00\",c] / 3)"
   ]
  },
  {
   "cell_type": "code",
   "execution_count": null,
   "metadata": {
    "pycharm": {
     "name": "#%%\n"
    }
   },
   "outputs": [],
   "source": [
    "# check if running peak plants are running on max cap for their location\n",
    "# generation / capacity\n",
    "(-n_no.links_t.p1.loc[\"2013-01-23 15:00:00\" : \"2013-01-25 00:00:00\", n_no.links.carrier == \"urban central solid biomass CHP CC\"] / n_no.links.p_nom_opt[n_no.links.carrier == \"urban central solid biomass CHP CC\"]).head()"
   ]
  },
  {
   "cell_type": "code",
   "execution_count": null,
   "metadata": {
    "pycharm": {
     "name": "#%%\n"
    }
   },
   "outputs": [],
   "source": [
    "n_no.links.efficiency[n_no.links.carrier == \"urban central solid biomass CHP CC\"].head()"
   ]
  },
  {
   "cell_type": "markdown",
   "metadata": {
    "pycharm": {
     "name": "#%% md\n"
    }
   },
   "source": [
    "max/min gen/con / average gen/con from from \"2013-01-23 15:00:00\" : \"2013-01-25 00:00:00\"\n",
    "\n",
    "|technology   |STST   |EXP   |\n",
    "|---|---|---|\n",
    "|'gas CHP'   |143 / 135  |84 / 84 |   \n",
    "|'biomas CHP CC'   | 26 / 26  |  20 / 20 |  \n",
    "|'battery discharger'  |69 / 41   |32 /   15|  \n",
    "|  'heat pump' | -138 /  -121| -124 / -111 |   \n",
    "| 'resistive heater'  |-108/ -45  |-58 /  -130  \n",
    "| 'PHS'    |18 / 10 |35 /  15|\n",
    "| 'hydro'    |91 /  88|99/  96|"
   ]
  },
  {
   "cell_type": "markdown",
   "metadata": {
    "pycharm": {
     "name": "#%% md\n"
    }
   },
   "source": [
    "### Monthly Balance"
   ]
  },
  {
   "cell_type": "code",
   "execution_count": null,
   "metadata": {
    "pycharm": {
     "name": "#%%\n"
    }
   },
   "outputs": [],
   "source": [
    "# get list of months\n",
    "month_list = pd.period_range(start='2013-01-01', end='2013-12-31', freq='M')\n",
    "month_list = [month.strftime(\"%b-%Y\") for month in month_list]\n",
    "\n",
    "res_no_all_pos = pd.DataFrame(index=month_list, columns= nb_el_no_all.columns)\n",
    "res_no_all_neg = pd.DataFrame(index=month_list, columns= nb_el_no_all.columns)\n",
    "res_h2_all_pos = pd.DataFrame(index=month_list, columns= nb_el_h2_all.columns)\n",
    "res_h2_all_neg = pd.DataFrame(index=month_list, columns= nb_el_h2_all.columns)\n",
    "\n",
    "iterables = [month_list, [\"no H2 network\", \"H2 network\"]]\n",
    "multiindex = pd.MultiIndex.from_product(iterables, names=[\"month\", \"scenario\"])\n",
    "index_union = nb_el_no_all.columns.union(nb_el_h2_all.columns)\n",
    "res_pos = pd.DataFrame(index=multiindex, columns=index_union)\n",
    "res_neg = pd.DataFrame(index=multiindex, columns=index_union)\n",
    "\n",
    "df_no_neg, df_no_pos = nb_el_no_all.clip(upper=0), nb_el_no_all.clip(lower=0)\n",
    "df_h2_neg, df_h2_pos = nb_el_h2_all.clip(upper=0), nb_el_h2_all.clip(lower=0)\n",
    "\n",
    "for month in month_list:\n",
    "    res_no_all_pos.loc[month] = df_no_pos[month].sum()\n",
    "    res_no_all_neg.loc[month] = df_no_neg[month].sum()\n",
    "    res_h2_all_pos.loc[month] = df_h2_pos[month].sum()\n",
    "    res_h2_all_neg.loc[month] = df_h2_neg[month].sum()\n",
    "\n",
    "    res_pos.loc[month, \"no H2 network\"] = df_no_pos[month].sum()\n",
    "    res_pos.loc[month, \"H2 network\"] = df_h2_pos[month].sum()\n",
    "    res_neg.loc[month, \"no H2 network\"] = df_no_neg[month].sum()\n",
    "    res_neg.loc[month, \"H2 network\"] = df_h2_neg[month].sum()"
   ]
  },
  {
   "cell_type": "code",
   "execution_count": null,
   "metadata": {
    "pycharm": {
     "name": "#%%\n"
    }
   },
   "outputs": [],
   "source": [
    "df_no_pos"
   ]
  },
  {
   "cell_type": "code",
   "execution_count": null,
   "metadata": {
    "pycharm": {
     "name": "#%%\n"
    }
   },
   "outputs": [],
   "source": [
    "# thesis plot (STST)\n",
    "\n",
    "fig, (ax1, ax2) = plt.subplots(ncols=1, nrows=2, figsize=(20, 10))\n",
    "\n",
    "# sort carriers by ouptut and exclude all with less than 40 GW\n",
    "i_no_gen = res_no_all_pos.sum().sort_values(ascending=False)[res_no_all_pos.sum().sort_values(ascending=False) > 40 * 1e3].index\n",
    "\n",
    "(res_no_all_pos[i_no_gen]/1000).plot(ax=ax1, kind=\"bar\", stacked=True, grid=False, color=[carrier_colors[c] for c in res_no_all_pos[i_no_gen].columns])\n",
    "ax1.legend(ncol=1, bbox_to_anchor=(1, 1))\n",
    "ax1.set_title(\"Monthly distribution of electricity generation (STST)\", fontsize=16, pad=15,  **font1)\n",
    "ax1.set_ylabel(\"Generation in TWh\")\n",
    "ax1.set_xticks(ticks=ax1.get_xticks(), labels=[month[:3] for month in month_list], rotation=0)\n",
    "\n",
    "# exclude solar and onwind\n",
    "i_no_gen_ex = i_no_gen.drop([\"onwind\", \"solar\"])\n",
    "\n",
    "(res_no_all_pos[i_no_gen_ex]/1000).plot(ax=ax2, kind=\"bar\", stacked=True, grid=False, color=[carrier_colors[c] for c in res_pos[i_no_gen_ex].columns])\n",
    "ax2.legend(ncol=1, bbox_to_anchor=(1, 1))\n",
    "ax2.set_title(\"Monthly distribution of electricity generation without wind and solar (STST)\", fontsize=16, pad=15,  **font1)\n",
    "ax2.set_ylabel(\"Generation in TWh\")\n",
    "ax2.set_xticks(ticks=ax2.get_xticks(), labels=[month[:3] for month in month_list], rotation=0)\n",
    "\n",
    "fig.tight_layout(pad=3)\n",
    "fig.show()\n",
    "\n",
    "#fig.savefig(f\"{PLOT_DIR}01_general/4.2_systems_technologies/el_bal_monthly_STST.png\")"
   ]
  },
  {
   "cell_type": "code",
   "execution_count": null,
   "metadata": {
    "pycharm": {
     "name": "#%%\n"
    }
   },
   "outputs": [],
   "source": [
    "# Further investigation\n",
    "res_no_all_pos[i_no_gen_ex][\"gas CHP\"].loc[[\"Jan-2013\", \"Feb-2013\"]].sum() / (res_no_all_pos[i_no_gen_ex][\"gas CHP\"].sum() - res_no_all_pos[i_no_gen_ex][\"gas CHP\"].loc[[\"Jan-2013\", \"Feb-2013\"]].sum())"
   ]
  },
  {
   "cell_type": "code",
   "execution_count": null,
   "metadata": {
    "pycharm": {
     "name": "#%%\n"
    }
   },
   "outputs": [],
   "source": [
    "# EXP\n",
    "\n",
    "fig, (ax1, ax2) = plt.subplots(ncols=1, nrows=2, figsize=(20, 10))\n",
    "\n",
    "# sort carriers by ouptut and exclude all with less than 40 GW\n",
    "i_h2_gen = res_h2_all_pos.sum().sort_values(ascending=False)[res_h2_all_pos.sum().sort_values(ascending=False) > 40 * 1e3].index\n",
    "\n",
    "(res_h2_all_pos[i_no_gen]/1000).plot(ax=ax1, kind=\"bar\", stacked=True, grid=False, color=[carrier_colors[c] for c in res_h2_all_pos[i_no_gen].columns])\n",
    "ax1.legend(ncol=1, bbox_to_anchor=(1, 1))\n",
    "ax1.set_title(\"Monthly distribution of electricity generation (EXP)\", fontsize=16, pad=15,  **font1)\n",
    "ax1.set_ylabel(\"Generation in TWh\")\n",
    "ax1.set_xticks(ticks=ax1.get_xticks(), labels=[month[:3] for month in month_list], rotation=0)\n",
    "ax1.set_ylim([0,1000])\n",
    "\n",
    "# exclude solar and onwind\n",
    "i_h2_gen_ex = i_h2_gen.drop([\"onwind\", \"solar\"])\n",
    "\n",
    "(res_h2_all_pos[i_h2_gen_ex]/1000).plot(ax=ax2, kind=\"bar\", stacked=True, grid=False, color=[carrier_colors[c] for c in res_pos[i_h2_gen_ex].columns])\n",
    "ax2.legend(ncol=1, bbox_to_anchor=(1, 1))\n",
    "ax2.set_title(\"Monthly distribution of electricity generation without wind and solar (EXP)\", fontsize=16, pad=15,  **font1)\n",
    "ax2.set_ylabel(\"Generation in TWh\")\n",
    "ax2.set_xticks(ticks=ax2.get_xticks(), labels=[month[:3] for month in month_list], rotation=0)\n",
    "\n",
    "fig.tight_layout(pad=3)\n",
    "plt.close()\n",
    "fig.show()\n",
    "\n",
    "#fig.savefig(f\"{PLOT_DIR}01_general/4.2_systems_technologies/el_bal_monthly_EXP.png\")"
   ]
  },
  {
   "cell_type": "code",
   "execution_count": null,
   "metadata": {
    "pycharm": {
     "name": "#%%\n"
    }
   },
   "outputs": [],
   "source": [
    "# both scenarios\n",
    "\n",
    "fig, (ax1, ax2) = plt.subplots(ncols=1, nrows=2, figsize=(20, 12))\n",
    "\n",
    "# sort carriers by ouptut and exclude all with less than 40 GWh\n",
    "index = res_pos.sum().sort_values(ascending=False)[res_pos.sum().sort_values(ascending=False) > 40*1e3].index\n",
    "\n",
    "res_pos[index].plot(ax=ax1, kind=\"bar\", stacked=True, grid=False, color=[carrier_colors[c] for c in res_pos[index].columns], width=0.8)\n",
    "ax1.legend(ncol=1, bbox_to_anchor=(1, 1))\n",
    "ax1.set_title(\"Monthly distribution of electricity generation\", fontsize=16, pad=15,  **font1)\n",
    "\n",
    "# exclude solar and onwind\n",
    "index = index.drop([\"onwind\", \"solar\"])\n",
    "\n",
    "res_pos[index].plot(ax=ax2, kind=\"bar\", stacked=True, grid=False, color=[carrier_colors[c] for c in res_pos[index].columns], width=0.8)\n",
    "ax2.legend(ncol=1, bbox_to_anchor=(1, 1))\n",
    "ax2.set_title(\"Monthly distribution of electricity generation without wind and solar\", fontsize=16, pad=15,  **font1)\n",
    "\n",
    "fig.tight_layout(pad=3)\n",
    "\n",
    "plt.close()\n",
    "fig.show()"
   ]
  },
  {
   "cell_type": "code",
   "execution_count": null,
   "metadata": {
    "pycharm": {
     "name": "#%%\n"
    }
   },
   "outputs": [],
   "source": [
    "# consumption carriers\n",
    "abs(res_no_all_neg.sum()).sort_values(ascending=False)[abs(res_no_all_neg.sum()).sort_values(ascending=False) > 1].index"
   ]
  },
  {
   "cell_type": "code",
   "execution_count": null,
   "metadata": {
    "pycharm": {
     "name": "#%%\n"
    }
   },
   "outputs": [],
   "source": [
    "# STST\n",
    "\n",
    "fig, (ax1, ax2) = plt.subplots(ncols=1, nrows=2, figsize=(20, 12))\n",
    "\n",
    "# sort carriers by ouptut and exclude all with less than 1 GW\n",
    "i_no_con = abs(res_no_all_neg.sum()).sort_values(ascending=False)[abs(res_no_all_neg.sum()).sort_values(ascending=False) > 1].index\n",
    "\n",
    "res_no_all_neg[i_no_con].plot(ax=ax1, kind=\"bar\", stacked=True, grid=False, color=[carrier_colors[c] for c in res_no_all_neg[i_no_con].columns])\n",
    "ax1.legend(ncol=1, bbox_to_anchor=(1, 1))\n",
    "ax1.set_title(\"Monthly distribution of electricity consumption (STST)\", fontsize=16, pad=15,  **font1)\n",
    "\n",
    "# exclude\n",
    "i_no_con_ex = i_no_con.drop([\"H2 Electrolysis\", \"BEV charger\", \"heat pump\"])\n",
    "\n",
    "res_no_all_neg[i_no_con_ex].plot(ax=ax2, kind=\"bar\", stacked=True, grid=False, color=[carrier_colors[c] for c in res_no_all_neg[i_no_con_ex].columns])\n",
    "ax2.legend(ncol=1, bbox_to_anchor=(1, 1))\n",
    "ax2.set_title(\"Monthly distribution of electricity consumption without electrolysis, BEV charger and heat pump\", fontsize=16, pad=15,  **font1)\n",
    "\n",
    "fig.tight_layout(pad=3)\n",
    "fig.show()"
   ]
  },
  {
   "cell_type": "code",
   "execution_count": null,
   "metadata": {
    "pycharm": {
     "name": "#%%\n"
    }
   },
   "outputs": [],
   "source": [
    "# both\n",
    "\n",
    "fig, (ax1, ax2) = plt.subplots(ncols=1, nrows=2, figsize=(20, 12))\n",
    "\n",
    "# sort carriers by ouptut and exclude all with less than 1 GW\n",
    "index = abs(res_neg.sum()).sort_values(ascending=False)[abs(res_neg.sum()).sort_values(ascending=False) > 1].index\n",
    "\n",
    "res_neg[index].plot(ax=ax1, kind=\"bar\", stacked=True, grid=False, color=[carrier_colors[c] for c in res_neg[index].columns], width=0.8)\n",
    "ax1.legend(ncol=1, bbox_to_anchor=(1, 1))\n",
    "ax1.set_title(\"Monthly distribution of electricity consumption\", fontsize=16, pad=15,  **font1)\n",
    "\n",
    "# exclude\n",
    "index = index.drop([\"H2 Electrolysis\", \"BEV charger\"])\n",
    "\n",
    "res_neg[index].plot(ax=ax2, kind=\"bar\", stacked=True, grid=False, color=[carrier_colors[c] for c in res_neg[index].columns], width=0.8)\n",
    "ax2.legend(ncol=1, bbox_to_anchor=(1, 1))\n",
    "ax2.set_title(\"Monthly distribution of electricity consumption without electrolysis and BEV charger\", fontsize=16, pad=15,  **font1)\n",
    "\n",
    "fig.tight_layout(pad=3)\n",
    "plt.close()\n",
    "fig.show()"
   ]
  },
  {
   "cell_type": "markdown",
   "metadata": {
    "pycharm": {
     "name": "#%% md\n"
    }
   },
   "source": [
    "## Focus on technologies"
   ]
  },
  {
   "cell_type": "markdown",
   "metadata": {
    "pycharm": {
     "name": "#%% md\n"
    }
   },
   "source": [
    "### Duration curves"
   ]
  },
  {
   "cell_type": "code",
   "execution_count": null,
   "metadata": {
    "pycharm": {
     "name": "#%%\n"
    }
   },
   "outputs": [],
   "source": [
    "# thesis plot\n",
    "# Duration curves of electricity generating technologies\n",
    "\n",
    "model = \"STST\"\n",
    "\n",
    "if model == \"STST\":\n",
    "    n = n_no\n",
    "elif model == \"EXP\":\n",
    "    n = n_h2\n",
    "\n",
    "# reverse renaming to find all carriers in network\n",
    "i_no_gen_ex_rev = [carrier_renaming_reverse.get(n, n) for n in i_no_gen_ex]\n",
    "index = list(i_no_gen_ex_rev)\n",
    "\n",
    "fig, (ax1, ax2) = plt.subplots(ncols=2, nrows=1, figsize=(16, 7))\n",
    "\n",
    "for c in [\"onwind\", \"solar\"]:\n",
    "    gen = (n.generators_t.p.loc[:, n.generators.carrier == c] / 1000)\n",
    "    gen = pd.DataFrame(gen.sum(axis=1).sort_values(ascending=False)).set_index(pd.Index(np.linspace(0, 1, num=2920)))\n",
    "    ax1.plot(gen, color = carrier_colors[c], label=c)\n",
    "\n",
    "# plot solar + onwind\n",
    "gen = (n.generators_t.p.loc[:, (n.generators.carrier == \"onwind\") | (n.generators.carrier == \"solar\")] / 1000)\n",
    "gen = pd.DataFrame(gen.sum(axis=1).sort_values(ascending=False)).set_index(pd.Index(np.linspace(0, 1, num=2920)))\n",
    "ax1.plot(gen, color = \"black\", label= \"onwind + solar\")\n",
    "\n",
    "# plot load\n",
    "load = (n.loads_t.p.loc[: , n.loads.carrier.isin([\"electricity\", \"industry electricity\", \"agriculture electricity\"])].sum(axis=1) / 1000) \n",
    "ax1.hlines(y=load.mean(), xmin=0, xmax=1, ls=\"dashed\", linewidth=2, color='saddlebrown', label=\"electricity load (mean)\")\n",
    "ax1.hlines(y=load.max(), xmin=0, xmax=1, ls=\"dashed\", linewidth=2, color='red', label = \"electricity load (max)\")\n",
    "\n",
    "ax1.set_ylabel(\"generation [GW]\")\n",
    "ax1.set_xlabel(\"Fraction of total time\")\n",
    "ax1.set_facecolor(\"lightgrey\")\n",
    "ax1.legend()\n",
    "ax1.grid(True)\n",
    "\n",
    "for c in c_gen(index, n):\n",
    "    if c == \"\":\n",
    "        continue\n",
    "    gen = (n.generators_t.p.loc[:, n.generators.carrier == c] / 1000)\n",
    "    gen = pd.DataFrame(gen.sum(axis=1).sort_values(ascending=False)).set_index(pd.Index(np.linspace(0, 1, num=2920)))\n",
    "    ax2.plot(gen, color = carrier_colors[c], label=c, marker=markers[index.index(c)], markevery=[0,int(0.25*2920), int(0.5*2920),int(0.75*2920)-1])\n",
    "\n",
    "for c in c_link(index, n):\n",
    "    gen = (-n.links_t.p1.loc[:, n.links.carrier == c] / 1000)\n",
    "    gen = pd.DataFrame(gen.sum(axis=1).sort_values(ascending=False)).set_index(pd.Index(np.linspace(0, 1, num=2920)))\n",
    "    ax2.plot(gen, color = carrier_colors[c], label=c.replace(\"urban central solid \", \"\").replace(\"urban central \", \"\"),marker=markers[index.index(c)], markevery=[0,int(0.25*2920), int(0.5*2920),int(0.75*2920)-1])\n",
    "\n",
    "for c in c_su(index, n):\n",
    "    gen = (n.storage_units_t.p.loc[:, n.storage_units.carrier == c] / 1000)\n",
    "    gen = pd.DataFrame(gen.sum(axis=1).sort_values(ascending=False)).set_index(pd.Index(np.linspace(0, 1, num=2920)))\n",
    "    ax2.plot(gen, color = carrier_colors[c], label=c, marker=markers[index.index(c)], markevery=[0,int(0.25*2920), int(0.5*2920),int(0.75*2920)-1])\n",
    "\n",
    "ax2.set_ylabel(\"Generation [GW]\")\n",
    "ax2.set_xlabel(\"Fraction of total time\")\n",
    "ax2.set_facecolor(\"lightgrey\")\n",
    "ax2.legend(ncol=2)\n",
    "ax2.grid(True)\n",
    "\n",
    "fig.suptitle(f\"Duration curves of electricity generating technologies ({model})\", fontsize=20, **font1)\n",
    "fig.tight_layout()\n",
    "#plt.close()\n",
    "plt.show()\n",
    "\n",
    "fig.savefig(f\"{PLOT_DIR}01_general/4.2_systems_technologies/el_gen_dur_{model}.png\")"
   ]
  },
  {
   "cell_type": "code",
   "execution_count": null,
   "metadata": {
    "pycharm": {
     "name": "#%%\n"
    }
   },
   "outputs": [],
   "source": [
    "# check if all el_gen are there:\n",
    "set(c_el_gen_s).difference(ax1.get_legend_handles_labels()[1] + ax2.get_legend_handles_labels()[1])"
   ]
  },
  {
   "cell_type": "code",
   "execution_count": null,
   "metadata": {
    "pycharm": {
     "name": "#%%\n"
    }
   },
   "outputs": [],
   "source": [
    "load = (n_no.loads_t.p.loc[: , n_no.loads.carrier.isin([\"electricity\", \"industry electricity\", \"agriculture electricity\"])].sum(axis=1) / 1000) * 3\n",
    "plt.plot(load)\n",
    "load.mean()"
   ]
  },
  {
   "cell_type": "code",
   "execution_count": null,
   "metadata": {},
   "outputs": [],
   "source": [
    "# thesis plot\n",
    "# Duration curves of electricity generating technologies\n",
    "\n",
    "model = \"EXP\"\n",
    "\n",
    "if model == \"STST\":\n",
    "    n = n_no\n",
    "    df = df_stst_ons\n",
    "elif model == \"EXP\":\n",
    "    n = n_h2\n",
    "    df = df_exp_ons\n",
    "\n",
    "# reverse renaming to find all carriers in network\n",
    "i_no_gen_ex_rev = [carrier_renaming_reverse.get(n, n) for n in i_no_gen_ex]\n",
    "index = list(i_no_gen_ex_rev)\n",
    "\n",
    "fig, (ax1, ax2) = plt.subplots(ncols=2, nrows=1, figsize=(16, 7))\n",
    "\n",
    "for c in [\"onwind\", \"solar\"]:\n",
    "    gen = (n.generators_t.p.loc[:, n.generators.carrier == c] / 1000)\n",
    "    gen = pd.DataFrame((gen.sum(axis=1)/df[f\"{c}_cap_gen_el\"].sum()).sort_values(ascending=False)).set_index(pd.Index(np.linspace(0, 1, num=2920)))\n",
    "    ax1.plot(gen, color = carrier_colors[c], label=c)\n",
    "\n",
    "ax1.set_ylabel(\"Generation in unit of maximum capacity (%)\")\n",
    "ax1.set_xlabel(\"Fraction of total time\")\n",
    "ax1.set_facecolor(\"lightgrey\")\n",
    "ax1.legend()\n",
    "ax1.grid(True)\n",
    "\n",
    "for c in c_gen(index, n):\n",
    "    if c == \"\":\n",
    "        continue\n",
    "    gen = (n.generators_t.p.loc[:, n.generators.carrier == c] / 1000)\n",
    "    gen = pd.DataFrame((gen.sum(axis=1)/df[f\"{c}_cap_gen_el\"].sum()).sort_values(ascending=False)).set_index(pd.Index(np.linspace(0, 1, num=2920)))\n",
    "    ax2.plot(gen, color = carrier_colors[c], label=c, marker=markers[index.index(c)], markevery=[0,int(0.25*2920), int(0.5*2920),int(0.75*2920)-1])\n",
    "\n",
    "for c in c_link(index, n):\n",
    "    gen = (-n.links_t.p1.loc[:, n.links.carrier == c] / 1000)\n",
    "    gen = pd.DataFrame((gen.sum(axis=1)/df[f\"{c}_cap_gen_el\"].sum()).sort_values(ascending=False)).set_index(pd.Index(np.linspace(0, 1, num=2920)))\n",
    "    ax2.plot(gen, color = carrier_colors[c], label=c.replace(\"urban central solid \", \"\").replace(\"urban central \", \"\"),marker=markers[index.index(c)], markevery=[0,int(0.25*2920), int(0.5*2920),int(0.75*2920)-1])\n",
    "\n",
    "for c in c_su(index, n):\n",
    "    gen = (n.storage_units_t.p.loc[:, n.storage_units.carrier == c] / 1000)\n",
    "    gen = pd.DataFrame((gen.sum(axis=1)/df[f\"{c}_cap_gen_el\"].sum()).sort_values(ascending=False)).set_index(pd.Index(np.linspace(0, 1, num=2920)))\n",
    "    ax2.plot(gen, color = carrier_colors[c], label=c, marker=markers[index.index(c)], markevery=[0,int(0.25*2920), int(0.5*2920),int(0.75*2920)-1])\n",
    "\n",
    "ax2.set_ylabel(\"Generation in unit of maximum capacity (%)\")\n",
    "ax2.set_xlabel(\"Fraction of total time\")\n",
    "ax2.set_facecolor(\"lightgrey\")\n",
    "ax2.legend(ncol=2)\n",
    "ax2.grid(True)\n",
    "\n",
    "fig.suptitle(f\"Normalised duration curves of electricity generating technologies ({model})\", fontsize=20, **font1)\n",
    "fig.tight_layout()\n",
    "#plt.close()\n",
    "plt.show()\n",
    "\n",
    "fig.savefig(f\"{PLOT_DIR}01_general/4.2_systems_technologies/el_gen_dur_{model}_normalised.png\")"
   ]
  },
  {
   "cell_type": "code",
   "execution_count": null,
   "metadata": {},
   "outputs": [],
   "source": [
    "c = \"hydro\"\n",
    "gen = (n.storage_units_t.p.loc[:, n.storage_units.carrier == c] / 1000)\n",
    "gen = pd.DataFrame((gen.sum(axis=1)).sort_values(ascending=False)).set_index(pd.Index(np.linspace(0, 1, num=2920)))\n",
    "gen"
   ]
  },
  {
   "cell_type": "code",
   "execution_count": null,
   "metadata": {},
   "outputs": [],
   "source": [
    "n.storage_units.p_nom_opt[n.storage_units.carrier == c].sum() / 1e3"
   ]
  },
  {
   "cell_type": "code",
   "execution_count": null,
   "metadata": {},
   "outputs": [],
   "source": [
    "carrier_colors = {\n",
    "    'AC': 'dimgrey',\n",
    "    'BEV charger': 'lightyellow',\n",
    "    'DAC': 'darkgrey',\n",
    "    'DC': 'lightgrey',\n",
    "    'Fischer-Tropsch': 'gold',\n",
    "    'H2': 'turquoise',\n",
    "    'H2 Electrolysis': 'fuchsia',\n",
    "    'H2 Fuel Cell': 'indigo',\n",
    "    'H2 for industry': 'cadetblue',\n",
    "    'H2 for shipping': 'navy',\n",
    "    'H2 liquefaction': 'lightskyblue',\n",
    "    'Li ion': 'greenyellow',\n",
    "    'low-temperature heat for industry': \"lightsalmon\",\n",
    "    'OCGT': 'saddlebrown',\n",
    "    'PHS': 'dodgerblue',\n",
    "    'SMR': 'darkseagreen',\n",
    "    'SMR CC': 'palegreen',\n",
    "    'Sabatier': 'peachpuff',\n",
    "    'V2G': 'honeydew',\n",
    "    'agriculture electricity': 'goldenrod',\n",
    "    'agriculture heat': 'peru',\n",
    "    'battery': 'hotpink',\n",
    "    'battery charger': 'darkorange',\n",
    "    'battery discharger': 'thistle',\n",
    "    'electricity': 'palegoldenrod',\n",
    "    'electricity distribution grid': 'thistle',\n",
    "    'gas': 'orange',\n",
    "    'home battery': 'violet',\n",
    "    'home battery charger': 'blueviolet',\n",
    "    'home battery discharger': 'plum',\n",
    "    'hydro': 'cornflowerblue',\n",
    "    'industry electricity': 'rosybrown',\n",
    "    'land transport EV': 'chocolate',\n",
    "    'land transport fuel cell': 'peru',\n",
    "    'offwind-ac': 'cyan',\n",
    "    'offwind-dc': 'maroon',\n",
    "    'oil': 'k',\n",
    "    'onwind': 'green',\n",
    "    'residential rural gas boiler': 'gold',\n",
    "    'residential rural ground heat pump': 'darkred',\n",
    "    'residential rural heat': 'rosybrown',\n",
    "    'residential rural resistive heater': 'lightgreen',\n",
    "    'residential rural water tanks charger': 'cadetblue',\n",
    "    'residential rural water tanks discharger': 'palevioletred',\n",
    "    'residential urban decentral air heat pump': 'firebrick',\n",
    "    'residential urban decentral gas boiler': 'lemonchiffon',\n",
    "    'residential urban decentral heat': 'lightcoral',\n",
    "    'residential urban decentral resistive heater': 'lightseagreen',\n",
    "    'residential urban decentral solar thermal': 'salmon',\n",
    "    'residential urban decentral water tanks charger': 'powderblue',\n",
    "    'residential urban decentral water tanks discharger': 'crimson',\n",
    "    'ror': 'blue',\n",
    "    'services rural gas boiler': 'khaki',\n",
    "    'services rural ground heat pump': 'maroon',\n",
    "    'services rural heat': 'indianred',\n",
    "    'services rural resistive heater': 'seagreen',\n",
    "    'services rural water tanks charger': 'lightblue',\n",
    "    'services rural water tanks discharger': 'pink',\n",
    "    'services urban decentral air heat pump': 'orangered',\n",
    "    'services urban decentral gas boiler': 'palegoldenrod',\n",
    "    'services urban decentral heat': 'brown',\n",
    "    'services urban decentral resistive heater': 'mediumspringgreen',\n",
    "    'services urban decentral solar thermal': 'tomato',\n",
    "    'services urban decentral water tanks charger': 'deepskyblue',\n",
    "    'services urban decentral water tanks discharger': 'lightpink',\n",
    "    'solar': 'yellow',\n",
    "    'solar rooftop': 'brown',\n",
    "    'urban central air heat pump': 'red',\n",
    "    'urban central gas CHP': 'darkorange',\n",
    "    'gas CHP': 'darkorange',\n",
    "    'urban central gas CHP CC': 'navajowhite',\n",
    "    'gas CHP CC': 'navajowhite',\n",
    "    'urban central gas boiler': 'darkkhaki',\n",
    "    'urban central heat': 'firebrick',\n",
    "    'urban central resistive heater': 'lime',\n",
    "    'urban central solar thermal': 'pink',\n",
    "    'urban central solid biomass CHP CC': 'navajowhite',\n",
    "    'biomass CHP CC': 'navajowhite',\n",
    "    'urban central solid biomass CHP': 'sandybrown',\n",
    "    'biomass CHP': 'sandybrown',\n",
    "    'urban central water tanks charger': 'skyblue',\n",
    "    'urban central water tanks discharger': 'mediumvioletred',\n",
    "    'resistive heater': 'seagreen',\n",
    "    'gas boiler': 'khaki',\n",
    "    'heat pump': 'darkred',\n",
    "    'water tanks charger': 'cadetblue',\n",
    "    'water tanks discharger': 'palevioletred',\n",
    "    'solar thermal': 'tomato',\n",
    "    'H2 pipeline': 'pink',\n",
    "    'H2 pipeline retrofitted': 'violet',\n",
    "}"
   ]
  },
  {
   "cell_type": "code",
   "execution_count": null,
   "metadata": {},
   "outputs": [],
   "source": [
    "# Duration curves of electricity consuming technologies\n",
    "\n",
    "model = \"EXP\"\n",
    "\n",
    "if model == \"STST\":\n",
    "    n = n_no\n",
    "elif model == \"EXP\":\n",
    "    n = n_h2\n",
    "\n",
    "# reverse renaming to find all carriers in network\n",
    "i_no_gen_ex_rev = [carrier_renaming_reverse.get(n, n) for n in i_no_gen_ex]\n",
    "index = list(i_no_gen_ex_rev)\n",
    "\n",
    "\n",
    "fig, (ax1, ax2) = plt.subplots(ncols=2, nrows=1, figsize=(16, 7))\n",
    "\n",
    "index = [\"H2 Electrolysis\", \"BEV charger\"]  #heat_pump # heat pump is missing due to grouping\n",
    "\n",
    "for c in c_gen(index, n_no):\n",
    "    gen = n.generators_t.p.loc[:, n.generators.carrier == c] / 1000\n",
    "    gen = pd.DataFrame(gen.sum(axis=1).sort_values(ascending=True)).set_index(pd.Index(np.linspace(0, 1, num=2920)))\n",
    "    ax1.plot(gen, color = carrier_colors[c], label=c)\n",
    "\n",
    "for c in c_link(index, n_no):\n",
    "    gen = -n.links_t.p0.loc[:, n.links.carrier == c] / 1000 \n",
    "    gen = pd.DataFrame(gen.sum(axis=1).sort_values(ascending=True)).set_index(pd.Index(np.linspace(0, 1, num=2920)))\n",
    "    ax1.plot(gen, color = carrier_colors[c], label=c.replace(\"urban central solid \", \"\").replace(\"urban central \", \"\"), marker=markers[index.index(c)], markevery=[0,int(0.25*2920), int(0.5*2920),int(0.75*2920)-1])\n",
    "\n",
    "ax1.set_ylabel(\"Consumption [GW]\")\n",
    "ax1.set_xlabel(\"Fraction of total time\")\n",
    "ax1.legend(loc=\"lower right\")\n",
    "ax1.set_facecolor(\"lightgrey\")\n",
    "ax1.grid(True)\n",
    "\n",
    "index = list(i_no_con_ex) + [\"urban central resistive heater\"]+ [\"urban central air heat pump\"] #resistive_heater # resistive heater is missing due to grouping\n",
    "# remove\n",
    "if 'DAC' in index: index.remove('DAC')\n",
    "if 'home battery charger' in index: index.remove('home battery charger')\n",
    "\n",
    "for c in c_gen(index, n_no):\n",
    "    gen = n.generators_t.p.loc[:, n.generators.carrier == c] / 1000 \n",
    "    gen = pd.DataFrame(gen.sum(axis=1).sort_values(ascending=Ture)).set_index(pd.Index(np.linspace(0, 1, num=2920)))\n",
    "    ax2.plot(gen, color = carrier_colors[c], label=c, marker=markers[index.index(c)], markevery=[0,int(0.25*2920), int(0.5*2920),int(0.75*2920)-1])\n",
    "\n",
    "for c in c_link(index, n_no):\n",
    "    gen = -n.links_t.p0.loc[:, n.links.carrier == c] / 1000 \n",
    "    gen = pd.DataFrame(gen.sum(axis=1).sort_values(ascending=True)).set_index(pd.Index(np.linspace(0, 1, num=2920)))\n",
    "    ax2.plot(gen, color = carrier_colors[c], label=c.replace(\"urban central solid \", \"\").replace(\"urban central \", \"\"), marker=markers[index.index(c)], markevery=[0,int(0.25*2920), int(0.5*2920),int(0.75*2920)-1])\n",
    "\n",
    "for c in c_su(index, n_no):\n",
    "    gen = n.storage_units_t.p.loc[:, n.storage_units.carrier == c] / 1000 \n",
    "    gen = pd.DataFrame(gen.sum(axis=1).sort_values(ascending=True)).set_index(pd.Index(np.linspace(0, 1, num=2920)))\n",
    "    ax2.plot(gen, color = carrier_colors[c], label=c, marker=markers[index.index(c)], markevery=[0,int(0.25*2920), int(0.5*2920),int(0.75*2920)-1])\n",
    "\n",
    "ax2.set_ylabel(\"Consumption [GW]\")\n",
    "ax2.set_xlabel(\"Fraction of total time\")\n",
    "ax2.legend(loc=\"lower right\", ncol=1)\n",
    "ax2.set_facecolor(\"lightgrey\")\n",
    "ax2.grid(True)\n",
    "\n",
    "fig.suptitle(f\"Duration curves of electricity consuming technologies ({model})\", fontsize=20, **font1)\n",
    "fig.tight_layout()\n",
    "# plt.close()\n",
    "plt.show()\n",
    "\n",
    "fig.savefig(f\"{PLOT_DIR}01_general/4.2_systems_technologies/el_con_dur_{model}.png\")"
   ]
  },
  {
   "cell_type": "markdown",
   "metadata": {
    "pycharm": {
     "name": "#%% md\n"
    }
   },
   "source": [
    "Questions:\n",
    "- Does it make more sense for the consuming carriers to look at p0 or p1? just difference in magnitude and sign -> probably p0 as this is the electricity consumption (for electricity generating links you also look at p1 which is the electricity generating bus\n"
   ]
  },
  {
   "cell_type": "code",
   "execution_count": null,
   "metadata": {
    "pycharm": {
     "name": "#%%\n"
    }
   },
   "outputs": [],
   "source": [
    "# load duration curves of electricity consuming technologies\n",
    "\n",
    "model = \"EXP\"\n",
    "\n",
    "if model == \"STST\":\n",
    "    n = n_no\n",
    "    df = df_stst_ons\n",
    "elif model == \"EXP\":\n",
    "    n = n_h2\n",
    "    df = df_exp_ons\n",
    "\n",
    "# reverse renaming to find all carriers in network\n",
    "i_no_gen_ex_rev = [carrier_renaming_reverse.get(n, n) for n in i_no_gen_ex]\n",
    "index = list(i_no_gen_ex_rev)\n",
    "\n",
    "\n",
    "fig, (ax1, ax2) = plt.subplots(ncols=2, nrows=1, figsize=(16, 7))\n",
    "\n",
    "index = [\"H2 Electrolysis\", \"BEV charger\"]  #heat_pump # heat pump is missing due to grouping\n",
    "\n",
    "for c in c_gen(index, n_no):\n",
    "    gen = n.generators_t.p.loc[:, n.generators.carrier == c] / 1000\n",
    "    gen = pd.DataFrame(gen.sum(axis=1).sort_values(ascending=True)).set_index(pd.Index(np.linspace(0, 1, num=2920)))\n",
    "    ax1.plot(gen, color = carrier_colors[c], label=c)\n",
    "\n",
    "for c in c_link(index, n_no):\n",
    "    gen = -n.links_t.p0.loc[:, n.links.carrier == c] / 1000 \n",
    "    gen = pd.DataFrame((gen.sum(axis=1)/df[f\"{c}_cap_con_el\"].sum()).sort_values(ascending=True)).set_index(pd.Index(np.linspace(0, 1, num=2920)))\n",
    "    ax1.plot(gen, color = carrier_colors[c], label=c.replace(\"urban central solid \", \"\").replace(\"urban central \", \"\"), marker=markers[index.index(c)], markevery=[0,int(0.25*2920), int(0.5*2920),int(0.75*2920)-1])\n",
    "\n",
    "ax1.set_ylabel(\"Consumption in unit of maximum capacity (%)\")\n",
    "ax1.set_xlabel(\"Fraction of total time\")\n",
    "ax1.legend(loc=\"lower right\")\n",
    "ax1.set_facecolor(\"lightgrey\")\n",
    "ax1.grid(True)\n",
    "\n",
    "index = list(i_no_con_ex) + [\"urban central resistive heater\"]+ [\"urban central air heat pump\"] #resistive_heater # resistive heater is missing due to grouping\n",
    "# remove\n",
    "if 'DAC' in index: index.remove('DAC')\n",
    "if 'home battery charger' in index: index.remove('home battery charger')\n",
    "\n",
    "for c in c_gen(index, n_no):\n",
    "    gen = n.generators_t.p.loc[:, n.generators.carrier == c] / 1000 \n",
    "    gen = pd.DataFrame((gen.sum(axis=1)/df[f\"{c}_cap_con_el\"].sum()).sort_values(ascending=Ture)).set_index(pd.Index(np.linspace(0, 1, num=2920)))\n",
    "    ax2.plot(gen, color = carrier_colors[c], label=c, marker=markers[index.index(c)], markevery=[0,int(0.25*2920), int(0.5*2920),int(0.75*2920)-1])\n",
    "\n",
    "for c in c_link(index, n_no):\n",
    "    gen = -n.links_t.p0.loc[:, n.links.carrier == c] / 1000 \n",
    "    gen = pd.DataFrame((gen.sum(axis=1)/df[f\"{c}_cap_con_el\"].sum()).sort_values(ascending=True)).set_index(pd.Index(np.linspace(0, 1, num=2920)))\n",
    "    ax2.plot(gen, color = carrier_colors[c], label=c.replace(\"urban central solid \", \"\").replace(\"urban central \", \"\"), marker=markers[index.index(c)], markevery=[0,int(0.25*2920), int(0.5*2920),int(0.75*2920)-1])\n",
    "\n",
    "for c in c_su(index, n_no):\n",
    "    gen = n.storage_units_t.p.loc[:, n.storage_units.carrier == c] / 1000 \n",
    "    gen = pd.DataFrame((gen.sum(axis=1)/df[f\"{c}_cap_con_el\"].sum()).sort_values(ascending=True)).set_index(pd.Index(np.linspace(0, 1, num=2920)))\n",
    "    ax2.plot(gen, color = carrier_colors[c], label=c, marker=markers[index.index(c)], markevery=[0,int(0.25*2920), int(0.5*2920),int(0.75*2920)-1])\n",
    "\n",
    "ax2.set_ylabel(\"Consumption in unit of maximum capacity (%)\")\n",
    "ax2.set_xlabel(\"Fraction of total time\")\n",
    "ax2.legend(loc=\"lower right\", ncol=1)\n",
    "ax2.set_facecolor(\"lightgrey\")\n",
    "ax2.grid(True)\n",
    "\n",
    "fig.suptitle(f\"Normalised duration curves of electricity consuming technologies ({model})\", fontsize=20, **font1)\n",
    "fig.tight_layout()\n",
    "# plt.close()\n",
    "plt.show()\n",
    "\n",
    "fig.savefig(f\"{PLOT_DIR}01_general/4.2_systems_technologies/el_con_dur_{model}_normalised.png\")"
   ]
  },
  {
   "cell_type": "markdown",
   "metadata": {
    "pycharm": {
     "name": "#%% md\n"
    }
   },
   "source": [
    "### Capacity factors"
   ]
  },
  {
   "cell_type": "markdown",
   "metadata": {
    "pycharm": {
     "name": "#%% md\n"
    }
   },
   "source": [
    "**Question:**\n",
    "- You have to aggregate over two dimensions: space and time\n",
    "- Which dimension makes more sense to aggregate over\n",
    "- You could visualize space coponent via map or boxplot\n",
    "- You could visualize time component via heatmap"
   ]
  },
  {
   "cell_type": "code",
   "execution_count": null,
   "metadata": {
    "pycharm": {
     "name": "#%%\n"
    }
   },
   "outputs": [],
   "source": [
    "# capacity factors across regions as boxplot (STST & EXP)\n",
    "\n",
    "# boxplot propertes\n",
    "medianprops = dict(color=\"black\",linewidth=1.5)\n",
    "meanprops = {\"marker\":\"d\",\"markerfacecolor\":\"white\", \"markeredgecolor\":\"black\"}\n",
    "flierprops= {'marker': 'x', 'markersize': 5, 'markeredgecolor': 'black'}\n",
    "whiskerprops = dict(linestyle='-',linewidth=1.0, color='black')\n",
    "\n",
    "# data\n",
    "stst_el_gen = df_stst_ons[[c + \"_cf\" for c in c_el_gen_s]]\n",
    "stst_el_gen = stst_el_gen.values\n",
    "exp_el_gen = df_exp_ons[[c + \"_cf\" for c in c_el_gen_s]]\n",
    "exp_el_gen = exp_el_gen.values\n",
    "\n",
    "# Filter data using np.isnan\n",
    "mask_stst = ~np.isnan(stst_el_gen)\n",
    "filtered_stst = [d[m] for d, m in zip(stst_el_gen.T, mask_stst.T)]\n",
    "mask_exp = ~np.isnan(exp_el_gen)\n",
    "filtered_exp = [d[m] for d, m in zip(exp_el_gen.T, mask_exp.T)]\n",
    "\n",
    "ticks = [carrier_renaming.get(n, n) for n in c_el_gen_s]\n",
    "index = c_el_gen_s\n",
    "fig, ax = plt.subplots(figsize=(12, 6))\n",
    "\n",
    "stst_plot = plt.boxplot(filtered_stst,\n",
    "                        positions=np.array(np.arange(len(ticks)))*2.0-0.35,\n",
    "                        widths=0.6,\n",
    "                        patch_artist=True,\n",
    "                        showmeans=True,\n",
    "                        meanprops=meanprops,\n",
    "                        medianprops=medianprops,\n",
    "                        flierprops=flierprops,\n",
    "                        whiskerprops=whiskerprops,\n",
    "                        zorder=1\n",
    "                        )\n",
    "\n",
    "exp_plot = plt.boxplot(filtered_exp,\n",
    "                       positions=np.array(np.arange(len(ticks)))*2.0+0.35,\n",
    "                       widths=0.6,\n",
    "                       patch_artist=True,\n",
    "                       showmeans=True,\n",
    "                       meanprops=meanprops,\n",
    "                       medianprops=medianprops,\n",
    "                       flierprops=flierprops,\n",
    "                       whiskerprops=whiskerprops,\n",
    "                       zorder=2\n",
    "                       )\n",
    "\n",
    "# generation weighted mean\n",
    "gwm_cf_stst =np.multiply(df_stst_ons[[c + \"_cf\" for c in c_el_gen_s]], (df_stst_ons[[c + \"_gen\" for c in c_el_gen_s]] / df_stst_ons[[c + \"_gen\" for c in c_el_gen_s]].sum())).sum()\n",
    "gwm_cf_exp =np.multiply(df_exp_ons[[c + \"_cf\" for c in c_el_gen_s]], (df_exp_ons[[c + \"_gen\" for c in c_el_gen_s]] / df_exp_ons[[c + \"_gen\" for c in c_el_gen_s]].sum())).sum()\n",
    "ax.plot(np.array(np.arange(len(ticks)))*2.0-0.35, gwm_cf_stst.transpose(),\"x\", marker='*', color=\"red\", markersize= 10, markerfacecolor=\"white\", zorder=3)\n",
    "ax.plot(np.array(np.arange(len(ticks)))*2.0+0.35, gwm_cf_exp.transpose(),\"x\", marker='*', color=\"red\", markersize= 10, markerfacecolor=\"white\",zorder=4)\n",
    "\n",
    "\n",
    "for box, col in zip(stst_plot['boxes'],[carrier_colors[c] for c in index]):\n",
    "    # change outline color\n",
    "    box.set_facecolor(col)\n",
    "    box.set_linestyle('--')\n",
    "\n",
    "for box, col in zip(exp_plot['boxes'],[carrier_colors[c] for c in index]):\n",
    "    # change outline color\n",
    "    box.set_facecolor(col)\n",
    "\n",
    "# sample sizes\n",
    "for i, sample_size in enumerate(df_stst_ons[[f\"{i}_cf\" for i in index]].count()):\n",
    "    ax.annotate(sample_size, xy=(0,0),  xycoords='axes fraction',\n",
    "        xytext=((i+0.35)/len(index),1.01), textcoords='axes fraction', color=\"blue\")\n",
    "\n",
    "#for i, sample_size in enumerate(df_exp_ons[[f\"{i}_cf\" for i in index]].count()):\n",
    "#    ax.annotate(sample_size, xy=(0,0),  xycoords='axes fraction',\n",
    "#        xytext=((i+0.55)/len(index),1), textcoords='axes fraction', color=\"red\")\n",
    "\n",
    "# explanations\n",
    "plt.xticks(np.arange(0, len(ticks) * 2, 2), ticks)\n",
    "plt.xticks(rotation=90)\n",
    "# plt.title(\"Market values of electricity generating technologies across the regions (STST vs. EXP)\", fontsize=16, pad=20,  **font1)\n",
    "\n",
    "# cosmetics\n",
    "ax.patch.set_facecolor('lightgrey')\n",
    "ax.patch.set_alpha(0.5)\n",
    "ax.grid(True)\n",
    "ax.yaxis.set_major_formatter(mtick.PercentFormatter(1.0))\n",
    "ax.set_ylabel(\"capacity factor [%]\")\n",
    "\n",
    "# legend\n",
    "patch1 = matplotlib.patches.Patch(ls=\"--\", facecolor=\"white\", edgecolor=\"black\")\n",
    "patch2 = matplotlib.patches.Patch(ls=\"-\", facecolor=\"white\", edgecolor=\"black\")\n",
    "ax.legend([patch1, patch2], ['STST', 'EXP'], loc=\"upper left\")\n",
    "\n",
    "fig.tight_layout()\n",
    "plt.show()\n",
    "\n",
    "fig.savefig(f\"{PLOT_DIR}01_general/4.2_systems_technologies/el_gen_cap_fac_STST_EXP.png\")"
   ]
  },
  {
   "cell_type": "code",
   "execution_count": null,
   "metadata": {
    "pycharm": {
     "name": "#%%\n"
    }
   },
   "outputs": [],
   "source": [
    "# Further analysis\n",
    "c = \"onwind\"\n",
    "df_exp_ons.loc[:, [f\"{c}_cf\", f\"{c}_gen\"]].sort_values(by=f\"{c}_gen\", ascending=False).head(10).mean()"
   ]
  },
  {
   "cell_type": "code",
   "execution_count": null,
   "metadata": {
    "pycharm": {
     "name": "#%%\n"
    }
   },
   "outputs": [],
   "source": [
    "# Norway analysis\n",
    "i_no = df_stst_ons.index[df_stst_ons.index.str.contains(\"NO\")]\n",
    "df_exp_ons.loc[i_no, \"hydro_cf\"]"
   ]
  },
  {
   "cell_type": "code",
   "execution_count": null,
   "metadata": {
    "pycharm": {
     "name": "#%%\n"
    }
   },
   "outputs": [],
   "source": [
    "i_no = df_stst_ons.index[df_stst_ons.index.str.contains(\"NO\")]\n",
    "df_stst_ons.loc[i_no, \"hydro_cf\"]"
   ]
  },
  {
   "cell_type": "code",
   "execution_count": null,
   "metadata": {
    "pycharm": {
     "name": "#%%\n"
    }
   },
   "outputs": [],
   "source": [
    "df_stst_ons[[c + \"_cf\" for c in c_el_gen_s]].describe()"
   ]
  },
  {
   "cell_type": "code",
   "execution_count": null,
   "metadata": {
    "pycharm": {
     "name": "#%%\n"
    }
   },
   "outputs": [],
   "source": [
    "df_exp_ons[[c + \"_cf\" for c in c_el_gen_s]].describe()"
   ]
  },
  {
   "cell_type": "code",
   "execution_count": null,
   "metadata": {
    "pycharm": {
     "name": "#%%\n"
    },
    "scrolled": true
   },
   "outputs": [],
   "source": [
    "# thesis plot\n",
    "# capacity factors across regions as map VRE\n",
    "\n",
    "carriers = [\"onwind\", \"solar\", \"offwind-dc\", \"ror\"]\n",
    "model = \"STST\"\n",
    "\n",
    "fig, axs = plt.subplots(ncols=2, nrows=2, subplot_kw={'projection': ccrs.EqualEarth()},\n",
    "                        figsize=(15, 12))\n",
    "crs = ccrs.EqualEarth()\n",
    "\n",
    "for i, ax in enumerate(axs.reshape(-1)):\n",
    "    \n",
    "    if model == \"STST\":\n",
    "        if carriers[i] in [\"offwind-dc\", \"offwind-ac\"]:\n",
    "            df = df_no_off\n",
    "        else:\n",
    "            df = df_no_ons\n",
    "            \n",
    "    elif model == \"EXP\":\n",
    "        if carriers[i] in [\"offwind-dc\", \"offwind-ac\"]:\n",
    "            df = df_h2_off\n",
    "        else:\n",
    "            df = df_h2_ons\n",
    "\n",
    "    ax.add_feature(cartopy.feature.BORDERS, edgecolor='black', linewidth=0.5)\n",
    "    ax.coastlines(edgecolor='black', linewidth=0.5)\n",
    "    ax.set_facecolor('white')\n",
    "    ax.add_feature(cartopy.feature.OCEAN, color='azure')\n",
    "\n",
    "    df.to_crs(crs.proj4_init).plot(column=f\"{carriers[i]}_cf\",\n",
    "                                                   ax=ax,\n",
    "                                                   cmap=plt.get_cmap(\"magma_r\"),\n",
    "                                                   linewidth=0.05,\n",
    "                                                   edgecolor = 'grey',\n",
    "                                                   legend=True,\n",
    "                                                   legend_kwds={'label':\"capacity factors\",\n",
    "                            'orientation': \"vertical\",\n",
    "                                      'shrink' : 0.9})\n",
    "\n",
    "    max_size = df[f\"{carriers[i]}_gen\"].max()\n",
    "    df.to_crs(crs.proj4_init).centroid.plot(ax=ax, sizes=df[f\"{carriers[i]}_gen\"] / max_size * 200,  color=\"black\", edgecolor=\"white\")\n",
    "    pypsa.plot.add_legend_circles(ax=ax, sizes=[0.6], labels=[\"Generation magnitude\"], patch_kw={'color': 'black', 'edgecolor': 'white'}, legend_kw={'loc': 'upper left'})\n",
    "\n",
    "    # always select same section\n",
    "    xmin, ymin, xmax, ymax = df_no_off.to_crs(crs.proj4_init).total_bounds\n",
    "    pad = 1 * 1e5  # add a padding around the geometry\n",
    "    ax.set_xlim(xmin-pad, xmax+pad)\n",
    "    ax.set_ylim(ymin-pad, ymax+pad)\n",
    "    \n",
    "    \n",
    "    ax.set_title(f\"{carriers[i]}\", fontsize=18, **font1)\n",
    "\n",
    "# fig.suptitle(f\"Spatial Differences in the electricity generation of the VRE technologies ({model})\", fontsize=16, **font1)\n",
    "fig.tight_layout(pad=1)\n",
    "plt.show()\n",
    "\n",
    "fig.savefig(f\"{PLOT_DIR}01_general/4.2_systems_technologies/cap_fac_el_gen_vre_{model}.png\")"
   ]
  },
  {
   "cell_type": "code",
   "execution_count": null,
   "metadata": {
    "pycharm": {
     "name": "#%%\n"
    }
   },
   "outputs": [],
   "source": [
    "carrier = \"onwind\"\n",
    "# correlation capacity factors and generation\n",
    "df_no_ons[f\"{carrier}_cf\"].corr(df_no_ons[f\"{carrier}_gen\"])"
   ]
  },
  {
   "cell_type": "code",
   "execution_count": null,
   "metadata": {
    "pycharm": {
     "name": "#%%\n"
    }
   },
   "outputs": [],
   "source": [
    "# correlation with latitude\n",
    "latitudes = pd.DataFrame([Point(coords).y for coords in df_no_ons['coords']], index=df_no_ons.index)\n",
    "df_no_ons[f\"{carrier}_cf\"].corr(latitudes[0])"
   ]
  },
  {
   "cell_type": "code",
   "execution_count": null,
   "metadata": {
    "pycharm": {
     "name": "#%%\n"
    }
   },
   "outputs": [],
   "source": [
    "df_no_ons[f\"{carrier}_gen\"].sort_values(ascending=False)"
   ]
  },
  {
   "cell_type": "code",
   "execution_count": null,
   "metadata": {
    "pycharm": {
     "name": "#%%\n"
    }
   },
   "outputs": [],
   "source": [
    "from sklearn import preprocessing\n",
    "\n",
    "sns.distplot(preprocessing.normalize(df_no_ons[\"solar_cf\"].dropna().values.reshape(1, -1)), hist=False, rug=True, label=\"solar\")\n",
    "sns.distplot(preprocessing.normalize(df_no_ons[\"onwind_cf\"].dropna().values.reshape(1, -1)), hist=False, rug=True, label=\"onwind\")\n",
    "\n",
    "plt.legend()\n",
    "plt.show()"
   ]
  },
  {
   "cell_type": "code",
   "execution_count": null,
   "metadata": {
    "pycharm": {
     "name": "#%%\n"
    }
   },
   "outputs": [],
   "source": [
    "# capacity factors across regions as map\n",
    "carriers = [\"offwind-dc\", \"offwind-ac\"]\n",
    "\n",
    "fig, axs = plt.subplots(ncols=2, nrows=1, subplot_kw={'projection': ccrs.EqualEarth()},\n",
    "                        figsize=(18, 16))\n",
    "crs = ccrs.EqualEarth()\n",
    "\n",
    "for i, ax in enumerate(axs.reshape(-1)):\n",
    "\n",
    "    if carriers[i] in [\"offwind-dc\", \"offwind-ac\"]:\n",
    "        df = df_no_off\n",
    "    else:\n",
    "        df = df_no_ons\n",
    "\n",
    "    ax.add_feature(cartopy.feature.BORDERS, edgecolor='black', linewidth=0.5)\n",
    "    ax.coastlines(edgecolor='black', linewidth=0.5)\n",
    "    ax.set_facecolor('white')\n",
    "    ax.add_feature(cartopy.feature.OCEAN, color='azure')\n",
    "\n",
    "    df.to_crs(crs.proj4_init).plot(column=f\"{carriers[i]}_cf\",\n",
    "                                                   ax=ax,\n",
    "                                                   cmap=plt.get_cmap(\"magma_r\"),\n",
    "                                                   linewidth=0.05,\n",
    "                                                   edgecolor = 'grey',\n",
    "                                                   legend=True,\n",
    "                                                   legend_kwds={'label':\"capacity factors\",\n",
    "                            'orientation': \"vertical\",\n",
    "                                      'shrink' : 0.4})\n",
    "\n",
    "    max_size = df[f\"{carriers[i]}_gen\"].max()\n",
    "    df.to_crs(crs.proj4_init).centroid.plot(ax=ax, sizes=df[f\"{carriers[i]}_gen\"] / max_size *300,  color=\"black\", edgecolor=\"white\")\n",
    "    pypsa.plot.add_legend_circles(ax=ax, sizes=[0.6], labels=[\"Generation magnitude\"], patch_kw={'color': 'black', 'edgecolor': 'white'}, legend_kw={'loc': 'upper left', 'facecolor': 'lightgrey'})\n",
    "\n",
    "    ax.set_title(f\"{carriers[i]}\", fontsize=16, **font1)\n",
    "fig.tight_layout()\n",
    "plt.show()\n",
    "\n",
    "# Backup\n",
    "#m_no.plot(ax=ax, projection=ccrs.EqualEarth(), bus_colors=\"black\", bus_sizes=df[f\"{carriers[i]}_gen\"] / max_size, line_widths=0, link_widths=0)"
   ]
  },
  {
   "cell_type": "code",
   "execution_count": null,
   "metadata": {
    "pycharm": {
     "name": "#%%\n"
    }
   },
   "outputs": [],
   "source": [
    "# thesis plot\n",
    "# capacity factors across regions as map: Storage\n",
    "\n",
    "carriers = [\"battery discharger\", \"hydro\", \"V2G\", \"PHS\"]\n",
    "model = \"STST\"\n",
    "\n",
    "if model == \"STST\":\n",
    "    df = df_no_ons\n",
    "\n",
    "elif model == \"EXP\":\n",
    "    df = df_h2_ons\n",
    "\n",
    "fig, axs = plt.subplots(ncols=2, nrows=2, subplot_kw={'projection': ccrs.EqualEarth()},\n",
    "                        figsize=(15, 12))\n",
    "crs = ccrs.EqualEarth()\n",
    "\n",
    "for i, ax in enumerate(axs.reshape(-1)):\n",
    "\n",
    "    ax.add_feature(cartopy.feature.BORDERS, edgecolor='black', linewidth=0.5)\n",
    "    ax.coastlines(edgecolor='black', linewidth=0.5)\n",
    "    ax.set_facecolor('white')\n",
    "    ax.add_feature(cartopy.feature.OCEAN, color='azure')\n",
    "\n",
    "    df.to_crs(crs.proj4_init).plot(column=f\"{carriers[i]}_cf\",\n",
    "                                                   ax=ax,\n",
    "                                                   cmap=plt.get_cmap(\"magma_r\"),\n",
    "                                                   linewidth=0.05,\n",
    "                                                   edgecolor = 'grey',\n",
    "                                                   legend=True,\n",
    "                                                   legend_kwds={'label':\"capacity factors\",\n",
    "                            'orientation': \"vertical\",\n",
    "                                      'shrink' : 0.9})\n",
    "\n",
    "    max_size = df[f\"{carriers[i]}_gen\"].max()\n",
    "    df.to_crs(crs.proj4_init).centroid.plot(ax=ax, sizes=df[f\"{carriers[i]}_gen\"] / max_size *200,  color=\"black\", edgecolor=\"white\")\n",
    "    pypsa.plot.add_legend_circles(ax=ax, sizes=[0.6], labels=[\"Generation magnitude\"], patch_kw={'color': 'black', 'edgecolor': 'white'}, legend_kw={'loc': 'upper left'})\n",
    "\n",
    "     # always select same section\n",
    "    xmin, ymin, xmax, ymax = df_no_ons.to_crs(crs.proj4_init).total_bounds\n",
    "    pad = 1 * 1e5  # add a padding around the geometry\n",
    "    ax.set_xlim(xmin-pad, xmax+pad)\n",
    "    ax.set_ylim(ymin-pad, ymax+pad)\n",
    "    \n",
    "    ax.set_title(f\"{carriers[i]}\", fontsize=18, **font1)\n",
    "\n",
    "# fig.suptitle(f\"Spatial Differences in the electricity generation of the VRE technologies ({model})\", fontsize=16, **font1)\n",
    "fig.tight_layout()\n",
    "plt.show()\n",
    "\n",
    "fig.savefig(f\"{PLOT_DIR}01_general/4.2_systems_technologies/cap_fac_el_gen_store_{model}.png\")"
   ]
  },
  {
   "cell_type": "code",
   "execution_count": null,
   "metadata": {
    "pycharm": {
     "name": "#%%\n"
    }
   },
   "outputs": [],
   "source": [
    "carrier = \"home battery discharger\"\n",
    "df_no_ons[f\"{carrier}_gen\"].describe()"
   ]
  },
  {
   "cell_type": "code",
   "execution_count": null,
   "metadata": {
    "pycharm": {
     "name": "#%%\n"
    }
   },
   "outputs": [],
   "source": [
    "0.385120 / 0.182673"
   ]
  },
  {
   "cell_type": "code",
   "execution_count": null,
   "metadata": {
    "pycharm": {
     "name": "#%%\n"
    }
   },
   "outputs": [],
   "source": [
    "# generation weighted capacity factor\n",
    "carrier = \"home battery discharger\"\n",
    "((df_no_ons[f\"{carrier}_gen\"] / df_no_ons[f\"{carrier}_gen\"].sum()) * df_no_ons[f\"{carrier}_cf\"]).sum()"
   ]
  },
  {
   "cell_type": "code",
   "execution_count": null,
   "metadata": {
    "pycharm": {
     "name": "#%%\n"
    }
   },
   "outputs": [],
   "source": [
    "# Norway indices\n",
    "no_i = df_no_ons[f\"{carrier}_gen\"].index[df_no_ons[f\"{carrier}_gen\"].index.str.contains('NO')]\n",
    "\n",
    "carrier = \"PHS\"\n",
    "df_no_ons[f\"{carrier}_gen\"].sort_values(ascending=False)"
   ]
  },
  {
   "cell_type": "code",
   "execution_count": null,
   "metadata": {
    "pycharm": {
     "name": "#%%\n"
    }
   },
   "outputs": [],
   "source": [
    "df_no_ons[f\"{carrier}_gen\"][no_i].sum() / df_no_ons[f\"{carrier}_gen\"].sum()"
   ]
  },
  {
   "cell_type": "code",
   "execution_count": null,
   "metadata": {
    "pycharm": {
     "name": "#%%\n"
    }
   },
   "outputs": [],
   "source": [
    "# thesis plot\n",
    "# Difference of battery discharger\n",
    "\n",
    "carriers = [\"battery discharger\", \"battery discharger\"]\n",
    "\n",
    "\n",
    "fig, axs = plt.subplots(ncols=2, nrows=1, subplot_kw={'projection': ccrs.EqualEarth()},\n",
    "                        figsize=(15, 6))\n",
    "crs = ccrs.EqualEarth()\n",
    "\n",
    "for i, ax in enumerate(axs.reshape(-1)):\n",
    "            \n",
    "    if i == 0:\n",
    "            df = df_stst_ons\n",
    "            model = \"STST\"\n",
    "\n",
    "    elif i == 1:\n",
    "            df = df_exp_ons\n",
    "            model = \"EXP\"\n",
    "\n",
    "    ax.add_feature(cartopy.feature.BORDERS, edgecolor='black', linewidth=0.5)\n",
    "    ax.coastlines(edgecolor='black', linewidth=0.5)\n",
    "    ax.set_facecolor('white')\n",
    "    ax.add_feature(cartopy.feature.OCEAN, color='azure')\n",
    "\n",
    "    df.to_crs(crs.proj4_init).plot(column=f\"{carriers[i]}_cap\",\n",
    "                                                   ax=ax,\n",
    "                                                   cmap=plt.get_cmap(\"magma_r\"),\n",
    "                                                   linewidth=0.05,\n",
    "                                                   edgecolor = 'grey',\n",
    "                                                   legend=True,\n",
    "                                                   legend_kwds={'label':\"capacity [GW]\",\n",
    "                            'orientation': \"vertical\",\n",
    "                                      'shrink' : 0.9})\n",
    "\n",
    "    max_size = df[f\"{carriers[i]}_gen\"].max()\n",
    "    df.to_crs(crs.proj4_init).centroid.plot(ax=ax, sizes=df[f\"{carriers[i]}_gen\"] / max_size *200,  color=\"black\", edgecolor=\"white\")\n",
    "    pypsa.plot.add_legend_circles(ax=ax, sizes=[0.6], labels=[\"Generation magnitude\"], patch_kw={'color': 'black', 'edgecolor': 'white'}, legend_kw={'loc': 'upper left'})\n",
    "\n",
    "     # always select same section\n",
    "    xmin, ymin, xmax, ymax = df_stst_ons.to_crs(crs.proj4_init).total_bounds\n",
    "    pad = 1 * 1e5  # add a padding around the geometry\n",
    "    ax.set_xlim(xmin-pad, xmax+pad)\n",
    "    ax.set_ylim(ymin-pad, ymax+pad)\n",
    "    \n",
    "    ax.set_title(f\"{carriers[i]} ({model})\", fontsize=18, **font1)\n",
    "\n",
    "fig.tight_layout()\n",
    "plt.show()\n",
    "\n",
    "fig.savefig(f\"{PLOT_DIR}01_general/4.2_systems_technologies/cap_fac_el_gen_battery_discharger_STST_EXP.png\")"
   ]
  },
  {
   "cell_type": "code",
   "execution_count": null,
   "metadata": {
    "pycharm": {
     "name": "#%%\n"
    }
   },
   "outputs": [],
   "source": [
    "c = \"battery discharger\"\n",
    "df_stst_ons[f\"{c}_cap\"].sort_values(ascending=False).head(30)"
   ]
  },
  {
   "cell_type": "code",
   "execution_count": null,
   "metadata": {
    "pycharm": {
     "name": "#%%\n"
    }
   },
   "outputs": [],
   "source": [
    "# thesis plot\n",
    "# capacity factors across regions as map: Peak plants\n",
    "\n",
    "carriers = [\"urban central gas CHP\", \"urban central solid biomass CHP CC\" ]\n",
    "model = \"STST\"\n",
    "\n",
    "if model == \"STST\":\n",
    "    df = df_no_ons\n",
    "\n",
    "elif model == \"EXP\":\n",
    "    df = df_h2_ons\n",
    "\n",
    "fig, axs = plt.subplots(ncols=2, nrows=1, subplot_kw={'projection': ccrs.EqualEarth()},\n",
    "                        figsize=(15, 6))\n",
    "crs = ccrs.EqualEarth()\n",
    "\n",
    "for i, ax in enumerate(axs):\n",
    "    \n",
    "    ax.add_feature(cartopy.feature.BORDERS, edgecolor='black', linewidth=0.5)\n",
    "    ax.coastlines(edgecolor='black', linewidth=0.5)\n",
    "    ax.set_facecolor('white')\n",
    "    ax.add_feature(cartopy.feature.OCEAN, color='azure')\n",
    "\n",
    "    df.to_crs(crs.proj4_init).plot(column=f\"{carriers[i]}_cf\",\n",
    "                                                   ax=ax,\n",
    "                                                   cmap=plt.get_cmap(\"magma_r\"),\n",
    "                                                   linewidth=0.05,\n",
    "                                                   edgecolor = 'grey',\n",
    "                                                   legend=True,\n",
    "                                                   legend_kwds={'label':\"capacity factors\", 'orientation': \"vertical\", 'shrink' : 0.9}\n",
    "                                   )\n",
    "\n",
    "    max_size = df[f\"{carriers[i]}_gen\"].max()\n",
    "    df.to_crs(crs.proj4_init).centroid.plot(ax=ax, sizes=df[f\"{carriers[i]}_gen\"] / max_size *200,  color=\"black\", edgecolor=\"white\")\n",
    "    pypsa.plot.add_legend_circles(ax=ax, sizes=[0.6], labels=[\"Generation magnitude\"], patch_kw={'color': 'black', 'edgecolor': 'white'}, legend_kw={'loc': 'upper left', 'facecolor': 'lightgrey'})\n",
    "\n",
    "    # always select same section\n",
    "    xmin, ymin, xmax, ymax = df_no_ons.to_crs(crs.proj4_init).total_bounds\n",
    "    pad = 1 * 1e5  # add a padding around the geometry\n",
    "    ax.set_xlim(xmin-pad, xmax+pad)\n",
    "    ax.set_ylim(ymin-pad, ymax+pad)\n",
    "    \n",
    "    ax.set_title(carriers[i].replace(\"urban central solid \", \"\").replace(\"urban central \", \"\"), fontsize=18, **font1)\n",
    "\n",
    "fig.tight_layout()\n",
    "plt.show()\n",
    "\n",
    "fig.savefig(f\"{PLOT_DIR}01_general/4.2_systems_technologies/cap_fac_el_gen_peak_{model}.png\")"
   ]
  },
  {
   "cell_type": "code",
   "execution_count": null,
   "metadata": {
    "pycharm": {
     "name": "#%%\n"
    }
   },
   "outputs": [],
   "source": []
  },
  {
   "cell_type": "code",
   "execution_count": null,
   "metadata": {
    "pycharm": {
     "name": "#%%\n"
    }
   },
   "outputs": [],
   "source": [
    "# generation weighted capacity factor\n",
    "carrier = \"urban central gas CHP\" #urban central solid biomass CHP CC' #\"urban central gas CHP\"\n",
    "((df_no_ons[f\"{carrier}_gen\"] / df_no_ons[f\"{carrier}_gen\"].sum()) * df_no_ons[f\"{carrier}_cf\"]).sum()"
   ]
  },
  {
   "cell_type": "code",
   "execution_count": null,
   "metadata": {
    "pycharm": {
     "name": "#%%\n"
    }
   },
   "outputs": [],
   "source": [
    "# generation through time as heatmap\n",
    "\n",
    "carrier = \"onwind\"\n",
    "\n",
    "# get generation in TWh\n",
    "df = pd.DataFrame(n.generators_t.p.loc[:, n.generators.carrier == carrier].sum(axis=1)) / 1000\n",
    "\n",
    "hours = df.index.hour.unique()[::-1]\n",
    "df_start = pd.DataFrame(index=pd.Index(df.index.date).unique())\n",
    "\n",
    "for hour in hours:\n",
    "    df_start[str(hour)] = df[df.index.hour==hour].values\n",
    "\n",
    "plt.figure(figsize=(12, 5))\n",
    "ax = sns.heatmap(df_start.transpose(),\n",
    "                 cmap=plt.get_cmap(\"magma_r\"),\n",
    "                 linewidth=0.001,\n",
    "                 xticklabels=15,\n",
    "                 cbar_kws={'label': 'generation in TWh'})\n",
    "\n",
    "plt.title(f\"{carrier}\", fontsize=16, **font1)\n",
    "plt.ylabel(\"hour of the day\", fontsize=12, **font1)\n",
    "plt.xlabel(\"day of the year\", fontsize=12, **font1)\n",
    "\n",
    "# Rewrite the y labels\n",
    "x_labels = ax.get_xticks()\n",
    "ax.xaxis.set_major_formatter(matplotlib.dates.DateFormatter('%d-%b'))\n",
    "\n",
    "plt.show()"
   ]
  },
  {
   "cell_type": "code",
   "execution_count": null,
   "metadata": {
    "pycharm": {
     "name": "#%%\n"
    }
   },
   "outputs": [],
   "source": [
    "#TODO: you could calc capacity factors for every time step and also plot them as heatmap"
   ]
  },
  {
   "cell_type": "markdown",
   "metadata": {
    "pycharm": {
     "name": "#%% md\n"
    }
   },
   "source": [
    "### Capacity and Generation difference"
   ]
  },
  {
   "cell_type": "code",
   "execution_count": null,
   "metadata": {
    "pycharm": {
     "name": "#%%\n"
    }
   },
   "outputs": [],
   "source": [
    "# VRE capacity and generation difference\n",
    "# [\"onwind\", \"solar\", \"offwind-dc\", \"ror\"]\n",
    "#[\"onwind\", \"ror\", \"solar\", \"solar rooftop\", \"offwind-dc\", \"offwind-ac\"]\n",
    "\n",
    "carriers = [\"onwind\", \"ror\", \"solar\", \"solar rooftop\", \"offwind-dc\", \"offwind-ac\"]\n",
    "\n",
    "# STST - EXP\n",
    "for c in carriers:\n",
    "    # if one mv is nan the result is nan as well\n",
    "    if c in [\"offwind-dc\", \"offwind-ac\"]:\n",
    "        df_stst_off[f\"{c}_cap_STST-EXP\"] = df_stst_off[f\"{c}_cap\"] - df_exp_off[f\"{c}_cap\"]\n",
    "    else:\n",
    "        df_stst_ons[f\"{c}_cap_STST-EXP\"] = df_stst_ons[f\"{c}_cap\"] - df_exp_ons[f\"{c}_cap\"]\n",
    "\n",
    "fig, axs = plt.subplots(ncols=2, nrows=int(len(carriers)/2), subplot_kw={'projection': ccrs.EqualEarth()},\n",
    "                        figsize=(15, len(carriers)/2*6))\n",
    "crs = ccrs.EqualEarth()\n",
    "\n",
    "for i, ax in enumerate(axs.reshape(-1)):\n",
    "\n",
    "    if carriers[i] in [\"offwind-dc\", \"offwind-ac\"]:\n",
    "        df = df_stst_off\n",
    "        df_2 = df_exp_off\n",
    "    else:\n",
    "        df = df_stst_ons\n",
    "        df_2 = df_exp_ons\n",
    "        \n",
    "    if carriers[i] == \"ror\":\n",
    "        ax.axis('off')\n",
    "        continue\n",
    "\n",
    "    abs_max = max(abs(df[f\"{carriers[i]}_cap_STST-EXP\"].max()) , abs(df[f\"{carriers[i]}_cap_STST-EXP\"].min()))\n",
    "    #unit_cap = \"TW\" if abs_max > 1e4 else \"GW\"\n",
    "    #df[f\"{carriers[i]}_cap_STST-EXP\"] = (df[f\"{carriers[i]}_cap_STST-EXP\"] / 1e3) if abs_max > 1e4 else df[f\"{carriers[i]}_cap_STST-EXP\"]\n",
    "    #abs_max = abs_max / 1e3 if abs_max > 1e4 else abs_max\n",
    "    \n",
    "    ax.add_feature(cartopy.feature.BORDERS, edgecolor='black', linewidth=0.5)\n",
    "    ax.coastlines(edgecolor='black', linewidth=0.5)\n",
    "    ax.set_facecolor('white')\n",
    "    ax.add_feature(cartopy.feature.OCEAN, color='azure')\n",
    "\n",
    "    df.to_crs(crs.proj4_init).plot(column=f\"{carriers[i]}_cap_STST-EXP\",\n",
    "                                   ax=ax,\n",
    "                                   cmap=plt.get_cmap('RdYlGn'),\n",
    "                                   vmax=abs_max,\n",
    "                                   vmin=-abs_max,\n",
    "                                   linewidth=0.05,\n",
    "                                   edgecolor = 'grey',\n",
    "                                   legend=True,\n",
    "                                   legend_kwds={'label':f\"Capacity differences (GW)\",'orientation': \"vertical\",'shrink' : 0.9}\n",
    "                                   )\n",
    "\n",
    "    # difference in generation (STST-EXP)\n",
    "    gen_diff = df[f\"{carriers[i]}_gen\"] - df_2[f\"{carriers[i]}_gen\"]\n",
    "    # red if negative and green if positive\n",
    "    colors = ['red' if (x < 0) else 'green' for x in gen_diff ]\n",
    "\n",
    "    max_size = abs(gen_diff).max()\n",
    "    df.to_crs(crs.proj4_init).centroid.plot(ax=ax, sizes=(abs(gen_diff) / max_size) * 200,  color=colors, edgecolor=\"white\")\n",
    "    circle1 = Line2D([], [], color=\"white\", marker='o', markerfacecolor=\"green\", markeredgecolor=\"white\", markersize=10)\n",
    "    circle2 = Line2D([], [], color=\"white\", marker='o', markerfacecolor=\"red\", markeredgecolor=\"white\", markersize=10)\n",
    "    circle3 = Line2D([], [], color=\"white\", marker='o', markerfacecolor=\"white\", markeredgecolor=\"black\", markersize=10)\n",
    "\n",
    "    unit = \"TWh\" if max_size > 1e3 else \"GWh\"\n",
    "    max_size = max_size / 1e3 if max_size > 1e3 else max_size\n",
    "    ax.legend((circle1, circle2, circle3), ('Increased generation in STST', 'Increased generation in EXP', f\"max circle size: {round(max_size)} {unit}\"), numpoints=1, loc=\"upper left\")\n",
    "\n",
    "\n",
    "    # always select same section\n",
    "    xmin, ymin, xmax, ymax = df_stst_off.to_crs(crs.proj4_init).total_bounds\n",
    "    pad = 1 * 1e5  # add a padding around the geometry\n",
    "    ax.set_xlim(xmin-pad, xmax+pad)\n",
    "    ax.set_ylim(ymin-pad, ymax+pad)\n",
    "\n",
    "    ax.set_title(f\"{carrier_renaming[carriers[i]] if carriers[i] in carrier_renaming else carriers[i]} capacity (STST - EXP)\", fontsize=18, **font1)\n",
    "\n",
    "# fig.suptitle(\"Spatial Differences in the capacity and generation for electricity generating VRE technologies (STST -EXP)\", fontsize=16, **font1)\n",
    "fig.tight_layout(pad=1)\n",
    "\n",
    "#plt.close()\n",
    "plt.show()\n",
    "\n",
    "fig.savefig(f\"{PLOT_DIR}01_general/4.2_systems_technologies/el_gen_vre_cap_gen_STST-EXP_map_all-ror.png\")"
   ]
  },
  {
   "cell_type": "code",
   "execution_count": null,
   "metadata": {
    "pycharm": {
     "name": "#%%\n"
    }
   },
   "outputs": [],
   "source": [
    "# cap diff in GW\n",
    "df0 = pd.concat([df_stst_ons[f\"{c}_cap\"] - df_exp_ons[f\"{c}_cap\"], df_stst_ons[f\"{c}_cap\"], df_exp_ons[[f\"{c}_cap\"]]], axis=1)\n",
    "df0.columns = [\"1\", \"2\", \"3\"]\n",
    "(df0.sort_values(by=\"1\", ascending=False)).dropna().head(10)"
   ]
  },
  {
   "cell_type": "code",
   "execution_count": null,
   "metadata": {
    "pycharm": {
     "name": "#%%\n"
    }
   },
   "outputs": [],
   "source": [
    "# gen diff in TWh\n",
    "df1 = pd.concat([df_stst_ons[f\"{c}_gen\"] - df_exp_ons[f\"{c}_gen\"], df_stst_ons[f\"{c}_gen\"], df_exp_ons[[f\"{c}_gen\"]]], axis=1)\n",
    "df1.columns = [\"1\", \"2\", \"3\"]\n",
    "(df1.sort_values(by=\"1\", ascending=False) / 1000).dropna().tail(10)"
   ]
  },
  {
   "cell_type": "code",
   "execution_count": null,
   "metadata": {
    "pycharm": {
     "name": "#%%\n"
    }
   },
   "outputs": [],
   "source": [
    "(df1.sort_values(by=\"1\", ascending=False) / 1000).tail(10)"
   ]
  },
  {
   "cell_type": "code",
   "execution_count": null,
   "metadata": {
    "pycharm": {
     "name": "#%%\n"
    }
   },
   "outputs": [],
   "source": [
    "df_stst_ons[f\"{c}_cap\"].describe()"
   ]
  },
  {
   "cell_type": "code",
   "execution_count": null,
   "metadata": {
    "pycharm": {
     "name": "#%%\n"
    }
   },
   "outputs": [],
   "source": [
    "df_exp_ons[f\"{c}_cap\"].describe()"
   ]
  },
  {
   "cell_type": "code",
   "execution_count": null,
   "metadata": {
    "pycharm": {
     "name": "#%%\n"
    }
   },
   "outputs": [],
   "source": [
    "# Storage capacity and generation difference\n",
    "# [\"battery discharger\", \"hydro\", \"V2G\", \"PHS\"]\n",
    "\n",
    "carriers = [\"battery discharger\", \"V2G\", \"PHS\"]\n",
    "\n",
    "# STST - EXP\n",
    "for c in carriers:\n",
    "    # if one mv is nan the result is nan as well\n",
    "    df_stst_ons[f\"{c}_cap_STST-EXP\"] = df_stst_ons[f\"{c}_cap\"] - df_exp_ons[f\"{c}_cap\"]\n",
    "    \n",
    "df = df_stst_ons\n",
    "df_2 = df_exp_ons\n",
    "\n",
    "fig, axs = plt.subplots(ncols=3, nrows=1, subplot_kw={'projection': ccrs.EqualEarth()},\n",
    "                        figsize=(15, 6), width_ratios=[1.25,1, 1])\n",
    "crs = ccrs.EqualEarth()\n",
    "\n",
    "plt.rcParams[\"figure.autolayout\"] = True\n",
    "\n",
    "for i, ax in enumerate(axs.reshape(-1)):\n",
    "    \n",
    "    if carriers[i] == \"hydro\":\n",
    "        ax.axis('off')\n",
    "        continue\n",
    "\n",
    "    abs_max = max(abs(df[f\"{carriers[i]}_cap_STST-EXP\"].max()) , abs(df[f\"{carriers[i]}_cap_STST-EXP\"].min()))\n",
    "    #unit_cap = \"TW\" if abs_max > 1e4 else \"GW\"\n",
    "    #df[f\"{carriers[i]}_cap_STST-EXP\"] = (df[f\"{carriers[i]}_cap_STST-EXP\"] / 1e3) if abs_max > 1e4 else df[f\"{carriers[i]}_cap_STST-EXP\"]\n",
    "    #abs_max = abs_max / 1e3 if abs_max > 1e4 else abs_max\n",
    "    \n",
    "    ax.add_feature(cartopy.feature.BORDERS, edgecolor='black', linewidth=0.5)\n",
    "    ax.coastlines(edgecolor='black', linewidth=0.5)\n",
    "    ax.set_facecolor('white')\n",
    "    ax.add_feature(cartopy.feature.OCEAN, color='azure')\n",
    "    \n",
    "    if carriers[i] == \"battery discharger\":\n",
    "\n",
    "        df.to_crs(crs.proj4_init).plot(column=f\"{carriers[i]}_cap_STST-EXP\",\n",
    "                                       ax=ax,\n",
    "                                       cmap=plt.get_cmap('RdYlGn'),\n",
    "                                       vmax=abs_max,\n",
    "                                       vmin=-abs_max,\n",
    "                                       linewidth=0.05,\n",
    "                                       edgecolor = 'grey',\n",
    "                                       legend=True,\n",
    "                                       legend_kwds={'label':f\"Capacity differences (GW)\",'orientation': \"vertical\",'shrink' : 0.8}\n",
    "                                       )\n",
    "\n",
    "\n",
    "    # difference in generation (STST-EXP)\n",
    "    gen_diff = df[f\"{carriers[i]}_gen\"] - df_2[f\"{carriers[i]}_gen\"]\n",
    "    # red if negative and green if positive\n",
    "    colors = ['red' if (x < 0) else 'green' for x in gen_diff ]\n",
    "\n",
    "    max_size = abs(gen_diff).max()\n",
    "    df.to_crs(crs.proj4_init).centroid.plot(ax=ax, sizes=(abs(gen_diff) / max_size) * 300,  color=colors, edgecolor=\"white\")\n",
    "    circle1 = Line2D([], [], color=\"white\", marker='o', markerfacecolor=\"green\", markeredgecolor=\"white\", markersize=10)\n",
    "    circle2 = Line2D([], [], color=\"white\", marker='o', markerfacecolor=\"red\", markeredgecolor=\"white\", markersize=10)\n",
    "    circle3 = Line2D([], [], color=\"white\", marker='o', markerfacecolor=\"white\", markeredgecolor=\"black\", markersize=10)\n",
    "\n",
    "    unit = \"TWh\" if max_size > 1e3 else \"GWh\"\n",
    "    max_size = max_size / 1e3 if max_size > 1e3 else max_size\n",
    "    ax.legend((circle1, circle2, circle3), ('Increased generation in STST', 'Increased generation in EXP', f\"max circle size: {round(max_size)} {unit}\"), numpoints=1, loc=\"upper left\")\n",
    "\n",
    "\n",
    "    # always select same section\n",
    "    xmin, ymin, xmax, ymax = df_stst_ons.to_crs(crs.proj4_init).total_bounds\n",
    "    pad = 1 * 1e5  # add a padding around the geometry\n",
    "    ax.set_xlim(xmin-pad, xmax+pad)\n",
    "    ax.set_ylim(ymin-pad, ymax+pad)\n",
    "    \n",
    "\n",
    "    ax.set_title(f\"{carrier_renaming[carriers[i]] if carriers[i] in carrier_renaming else carriers[i]} capacity (STST - EXP)\", fontsize=16, **font1)\n",
    "\n",
    "# fig.suptitle(\"Spatial Differences in the capacity and generation for electricity generating Storage technologies (STST -EXP)\", fontsize=16, **font1)\n",
    "fig.tight_layout()\n",
    "\n",
    "#plt.close()\n",
    "plt.show()\n",
    "\n",
    "fig.savefig(f\"{PLOT_DIR}01_general/4.2_systems_technologies/el_gen_store_cap_gen_STST-EXP_map_all-hydro.png\")"
   ]
  },
  {
   "cell_type": "code",
   "execution_count": null,
   "metadata": {
    "pycharm": {
     "name": "#%%\n"
    }
   },
   "outputs": [],
   "source": [
    "c = \"battery discharger\"\n",
    "\n",
    "# cap diff in GW\n",
    "df0 = pd.concat([df_stst_ons[f\"{c}_cap\"] - df_exp_ons[f\"{c}_cap\"], df_stst_ons[f\"{c}_cap\"], df_exp_ons[[f\"{c}_cap\"]]], axis=1)\n",
    "df0.columns = [\"1\", \"2\", \"3\"]\n",
    "(df0.sort_values(by=\"1\", ascending=False)).dropna().tail(10)"
   ]
  },
  {
   "cell_type": "code",
   "execution_count": null,
   "metadata": {
    "pycharm": {
     "name": "#%%\n"
    }
   },
   "outputs": [],
   "source": [
    "# Peak plants capacity and generation difference\n",
    "# [\"urban central gas CHP\", \"urban central solid biomass CHP CC\" ]\n",
    "\n",
    "carriers = [\"urban central gas CHP\", \"urban central solid biomass CHP CC\" ]\n",
    "\n",
    "# STST - EXP\n",
    "for c in carriers:\n",
    "    # if one mv is nan the result is nan as well\n",
    "    df_stst_ons[f\"{c}_cap_STST-EXP\"] = df_stst_ons[f\"{c}_cap\"] - df_exp_ons[f\"{c}_cap\"]\n",
    "    \n",
    "df = df_stst_ons\n",
    "df_2 = df_exp_ons\n",
    "\n",
    "fig, axs = plt.subplots(ncols=2, nrows=int(len(carriers)/2), subplot_kw={'projection': ccrs.EqualEarth()},\n",
    "                        figsize=(15, len(carriers)/2*6))\n",
    "crs = ccrs.EqualEarth()\n",
    "\n",
    "for i, ax in enumerate(axs.reshape(-1)):\n",
    "\n",
    "    abs_max = max(abs(df[f\"{carriers[i]}_cap_STST-EXP\"].max()) , abs(df[f\"{carriers[i]}_cap_STST-EXP\"].min()))\n",
    "    #unit_cap = \"TW\" if abs_max > 1e4 else \"GW\"\n",
    "    #df[f\"{carriers[i]}_cap_STST-EXP\"] = (df[f\"{carriers[i]}_cap_STST-EXP\"] / 1e3) if abs_max > 1e4 else df[f\"{carriers[i]}_cap_STST-EXP\"]\n",
    "    #abs_max = abs_max / 1e3 if abs_max > 1e4 else abs_max\n",
    "    \n",
    "    ax.add_feature(cartopy.feature.BORDERS, edgecolor='black', linewidth=0.5)\n",
    "    ax.coastlines(edgecolor='black', linewidth=0.5)\n",
    "    ax.set_facecolor('white')\n",
    "    ax.add_feature(cartopy.feature.OCEAN, color='azure')\n",
    "\n",
    "    df.to_crs(crs.proj4_init).plot(column=f\"{carriers[i]}_cap_STST-EXP\",\n",
    "                                   ax=ax,\n",
    "                                   cmap=plt.get_cmap('RdYlGn'),\n",
    "                                   vmax=abs_max,\n",
    "                                   vmin=-abs_max,\n",
    "                                   linewidth=0.05,\n",
    "                                   edgecolor = 'grey',\n",
    "                                   legend=True,\n",
    "                                   legend_kwds={'label':f\"Capacity differences (GW)\",'orientation': \"vertical\",'shrink' : 0.9}\n",
    "                                   )\n",
    "\n",
    "    # difference in generation (STST-EXP)\n",
    "    gen_diff = df[f\"{carriers[i]}_gen\"] - df_2[f\"{carriers[i]}_gen\"]\n",
    "    # red if negative and green if positive\n",
    "    colors = ['red' if (x < 0) else 'green' for x in gen_diff ]\n",
    "\n",
    "    max_size = abs(gen_diff).max()\n",
    "    df.to_crs(crs.proj4_init).centroid.plot(ax=ax, sizes=(abs(gen_diff) / max_size) * 300,  color=colors, edgecolor=\"white\")\n",
    "    circle1 = Line2D([], [], color=\"white\", marker='o', markerfacecolor=\"green\", markeredgecolor=\"white\", markersize=10)\n",
    "    circle2 = Line2D([], [], color=\"white\", marker='o', markerfacecolor=\"red\", markeredgecolor=\"white\", markersize=10)\n",
    "    circle3 = Line2D([], [], color=\"white\", marker='o', markerfacecolor=\"white\", markeredgecolor=\"black\", markersize=10)\n",
    "\n",
    "    unit = \"TWh\" if max_size > 1e3 else \"GWh\"\n",
    "    max_size = max_size / 1e3 if max_size > 1e3 else max_size\n",
    "    ax.legend((circle1, circle2, circle3), ('Increased generation in STST', 'Increased generation in EXP', f\"max circle size: {round(max_size)} {unit}\"), numpoints=1, loc=\"upper left\")\n",
    "\n",
    "\n",
    "    # always select same section\n",
    "    xmin, ymin, xmax, ymax = df_stst_ons.to_crs(crs.proj4_init).total_bounds\n",
    "    pad = 1 * 1e5  # add a padding around the geometry\n",
    "    ax.set_xlim(xmin-pad, xmax+pad)\n",
    "    ax.set_ylim(ymin-pad, ymax+pad)\n",
    "\n",
    "    ax.set_title(f\"{carrier_renaming[carriers[i]] if carriers[i] in carrier_renaming else carriers[i]} capacity (STST - EXP)\", fontsize=18, **font1)\n",
    "\n",
    "# fig.suptitle(\"Spatial Differences in the capacity and generation for electricity generating peak plant technologies (STST -EXP)\", fontsize=16, **font1)\n",
    "fig.tight_layout()\n",
    "\n",
    "#plt.close()\n",
    "plt.show()\n",
    "\n",
    "fig.savefig(f\"{PLOT_DIR}01_general/4.2_systems_technologies/el_gen_peak_cap_gen_STST-EXP_map_all.png\")"
   ]
  },
  {
   "cell_type": "code",
   "execution_count": null,
   "metadata": {
    "pycharm": {
     "name": "#%%\n"
    }
   },
   "outputs": [],
   "source": [
    "c =\"urban central solid biomass CHP CC\" # \"urban central gas CHP\" # \n",
    "# cap diff in GW\n",
    "df0 = pd.concat([df_stst_ons[f\"{c}_cap\"] - df_exp_ons[f\"{c}_cap\"], df_stst_ons[f\"{c}_cap\"], df_exp_ons[[f\"{c}_cap\"]]], axis=1)\n",
    "df0.columns = [\"1\", \"2\", \"3\"]\n",
    "(df0.sort_values(by=\"1\", ascending=False)).dropna().tail(10)"
   ]
  },
  {
   "cell_type": "markdown",
   "metadata": {
    "pycharm": {
     "name": "#%% md\n"
    }
   },
   "source": [
    "### Full load hours"
   ]
  },
  {
   "cell_type": "code",
   "execution_count": null,
   "metadata": {
    "pycharm": {
     "name": "#%%\n"
    }
   },
   "outputs": [],
   "source": [
    "# how are the full load hours aggregated:\n",
    "# sum over the flh in every region adn time step (sumover time) -> you recieve flh for every region over the time\n",
    "\n",
    "th = 0.9\n",
    "n = n_no\n",
    "df = df_no_ons\n",
    "\n",
    "# get full_load hours (generators)\n",
    "for carrier in n.generators.carrier.unique():\n",
    "    gen = n.generators_t.p[n.generators[n.generators.carrier == carrier].index]\n",
    "    # max_output = n.generators.p_nom_opt[n.generators.carrier == carrier]\n",
    "    max_output = gen.max()\n",
    "\n",
    "    # ts with max_output\n",
    "    max_output_ts = gen.copy()\n",
    "    for snap in n.storage_units_t.p.index:\n",
    "        max_output_ts.loc[snap] = max_output[max_output_ts.columns]\n",
    "\n",
    "    # calc full load hours\n",
    "    flh = (gen >= th * max_output_ts).sum()\n",
    "    flh.index = flh.index.map(n.generators.bus).map(n.buses.location)\n",
    "    df[f\"{carrier}_flh\"] = flh\n",
    "\n",
    "# links\n",
    "for carrier in n.links.carrier.unique():\n",
    "    gen = abs(n.links_t.p1.loc[:, n.links.carrier == carrier])\n",
    "    # use p_nom_opt as indicator for full load hour\n",
    "    # max_output = n.links.p_nom_opt[n.links.carrier == carrier]\n",
    "    # use maximum of generation output as indicator for full load hour\n",
    "    max_output = gen.max()\n",
    "\n",
    "    # ts with p_nom_opt\n",
    "    max_output_ts = gen.copy()\n",
    "    for snap in n.storage_units_t.p.index:\n",
    "        max_output_ts.loc[snap] = max_output[max_output_ts.columns]\n",
    "\n",
    "    # calc full load hours\n",
    "    flh = (gen >= th * max_output_ts).sum()\n",
    "    flh.index = flh.index.map(n.links.bus1).map(n.buses.location)\n",
    "    # group duplicate index entries\n",
    "    flh = flh.groupby(by=[\"Link\"], axis=\"index\").sum()\n",
    "    df[f\"{carrier}_flh\"] = flh\n",
    "\n",
    "# storage units\n",
    "for carrier in n.storage_units.carrier.unique():\n",
    "    gen = n.storage_units_t.p_dispatch.loc[:, n.storage_units.carrier == carrier]\n",
    "    max_output = gen.max()\n",
    "\n",
    "    max_output_ts = gen.copy()\n",
    "    for snap in n.storage_units_t.p.index:\n",
    "        max_output_ts.loc[snap] = max_output[max_output_ts.columns]\n",
    "\n",
    "    # calc full load hours\n",
    "    flh = (gen >= th * max_output_ts).sum()\n",
    "    flh.index = flh.index.map(n.storage_units.bus).map(n.buses.location)\n",
    "    df[f\"{carrier}_flh\"] = flh\n",
    "\n",
    "df.head(3)"
   ]
  },
  {
   "cell_type": "code",
   "execution_count": null,
   "metadata": {
    "pycharm": {
     "name": "#%%\n"
    }
   },
   "outputs": [],
   "source": [
    "# full load hours\n",
    "boxprops=dict(facecolor=\"white\", color=\"white\")\n",
    "medianprops = dict(color=\"black\",linewidth=1.5)\n",
    "meanprops = {\"marker\":\"d\",\"markerfacecolor\":\"white\", \"markeredgecolor\":\"black\"}\n",
    "\n",
    "i_no_gen_rev = [carrier_renaming_reverse.get(n, n) for n in i_no_gen]\n",
    "# multiply with 3 to account for the 3h resolution\n",
    "df = df_no_ons[[f\"{i}_flh\" for i in i_no_gen_rev]]*3\n",
    "df = df.values\n",
    "\n",
    "# Filter data using np.isnan\n",
    "mask = ~np.isnan(df)\n",
    "filtered_data = [d[m] for d, m in zip(df.T, mask.T)]\n",
    "\n",
    "fig, ax = plt.subplots(figsize=(12, 4))\n",
    "bp = plt.boxplot(x=filtered_data, labels =i_no_gen, patch_artist=True, showmeans=True, boxprops=boxprops, meanprops=meanprops, medianprops=medianprops)\n",
    "\n",
    "for box, col in zip(bp['boxes'],[carrier_colors[c] for c in i_no_gen]):\n",
    "    # change outline color\n",
    "    box.set(color=col, linewidth=2)\n",
    "\n",
    "plt.title(\"Title\")\n",
    "ax.patch.set_facecolor('lightgrey')\n",
    "ax.patch.set_alpha(0.5)\n",
    "plt.xticks(rotation=90)\n",
    "plt.title(\"Full load hours\", fontsize=16, pad=15,  **font1)\n",
    "plt.show()"
   ]
  },
  {
   "cell_type": "markdown",
   "metadata": {
    "pycharm": {
     "name": "#%% md\n"
    }
   },
   "source": [
    "### Utilitisation rate\n",
    "(calc shifted to 00_CALC notebook)"
   ]
  },
  {
   "cell_type": "code",
   "execution_count": null,
   "metadata": {
    "pycharm": {
     "name": "#%%\n"
    }
   },
   "outputs": [],
   "source": [
    "# utilisation rates across regions as boxplot (STST & EXP)\n",
    "\n",
    "# boxplot propertes\n",
    "medianprops = dict(color=\"black\",linewidth=1.5)\n",
    "meanprops = {\"marker\":\"d\",\"markerfacecolor\":\"white\", \"markeredgecolor\":\"black\"}\n",
    "flierprops= {'marker': 'x', 'markersize': 5, 'markeredgecolor': 'black'}\n",
    "whiskerprops = dict(linestyle='-',linewidth=1.0, color='black')\n",
    "\n",
    "# data\n",
    "stst_el_gen = df_stst_ons[[c + \"_ur\" for c in c_el_gen_s]]\n",
    "stst_el_gen = stst_el_gen.values\n",
    "exp_el_gen = df_exp_ons[[c + \"_ur\" for c in c_el_gen_s]]\n",
    "exp_el_gen = exp_el_gen.values\n",
    "\n",
    "# Filter data using np.isnan\n",
    "mask_stst = ~np.isnan(stst_el_gen)\n",
    "filtered_stst = [d[m] for d, m in zip(stst_el_gen.T, mask_stst.T)]\n",
    "mask_exp = ~np.isnan(exp_el_gen)\n",
    "filtered_exp = [d[m] for d, m in zip(exp_el_gen.T, mask_exp.T)]\n",
    "\n",
    "ticks = [carrier_renaming.get(n, n) for n in c_el_gen_s]\n",
    "index = c_el_gen_s\n",
    "fig, ax = plt.subplots(figsize=(12, 6))\n",
    "\n",
    "stst_plot = plt.boxplot(filtered_stst,\n",
    "                        positions=np.array(np.arange(len(ticks)))*2.0-0.35,\n",
    "                        widths=0.6,\n",
    "                        patch_artist=True,\n",
    "                        showmeans=False,\n",
    "                        meanprops=meanprops,\n",
    "                        medianprops=medianprops,\n",
    "                        flierprops=flierprops,\n",
    "                        whiskerprops=whiskerprops,\n",
    "                        zorder=1\n",
    "                        )\n",
    "\n",
    "exp_plot = plt.boxplot(filtered_exp,\n",
    "                       positions=np.array(np.arange(len(ticks)))*2.0+0.35,\n",
    "                       widths=0.6,\n",
    "                       patch_artist=True,\n",
    "                       showmeans=False,\n",
    "                       meanprops=meanprops,\n",
    "                       medianprops=medianprops,\n",
    "                       flierprops=flierprops,\n",
    "                       whiskerprops=whiskerprops,\n",
    "                       zorder=2\n",
    "                       )\n",
    "\n",
    "\n",
    "for box, col in zip(stst_plot['boxes'],[carrier_colors[c] for c in index]):\n",
    "    # change outline color\n",
    "    box.set_facecolor(col)\n",
    "    box.set_linestyle('--')\n",
    "\n",
    "for box, col in zip(exp_plot['boxes'],[carrier_colors[c] for c in index]):\n",
    "    # change outline color\n",
    "    box.set_facecolor(col)\n",
    "\n",
    "# sample sizes\n",
    "#for i, sample_size in enumerate(df_stst_ons[[f\"{i}_ur\" for i in index]].count()):\n",
    "#    ax.annotate(sample_size, xy=(0,0),  xycoords='axes fraction',\n",
    "#        xytext=((i+0.3)/len(index),1.01), textcoords='axes fraction', color=\"blue\")\n",
    "\n",
    "#for i, sample_size in enumerate(df_exp_ons[[f\"{i}_ur\" for i in index]].count()):\n",
    "#    ax.annotate(sample_size, xy=(0,0),  xycoords='axes fraction',\n",
    "#        xytext=((i+0.6)/len(index),1.01), textcoords='axes fraction', color=\"red\")\n",
    "    \n",
    "# annotate both sample sizes\n",
    "sample_size1 = df_stst_ons[[f\"{i}_ur\" for i in index]].count()\n",
    "sample_size2 = df_exp_ons[[f\"{i}_ur\" for i in index]].count()\n",
    "\n",
    "for i, sz1, sz2 in zip(np.arange(len(index)), sample_size1, sample_size2):\n",
    "    ax.annotate(f\"({sz1} / {sz2} )\", xy=(0,0),  xycoords='axes fraction',\n",
    "        xytext=((i+0.15)/len(index),1.01), textcoords='axes fraction', color=\"blue\")\n",
    "\n",
    "# overall ur\n",
    "ax.plot(np.array(np.arange(len(ticks)))*2.0-0.35, overall_ur_stst[index].transpose(),\"x\", marker='*', color=\"red\", markersize= 10, markerfacecolor=\"white\", zorder=3)\n",
    "ax.plot(np.array(np.arange(len(ticks)))*2.0+0.35, overall_ur_exp[index].transpose(),\"x\", marker='*', color=\"red\", markersize= 10, markerfacecolor=\"white\",zorder=4)\n",
    " \n",
    "# explanations\n",
    "plt.xticks(np.arange(0, len(ticks) * 2, 2), ticks)\n",
    "plt.xticks(rotation=90)\n",
    "# plt.title(\"Market values of electricity generating technologies across the regions (STST vs. EXP)\", fontsize=16, pad=20,  **font1)\n",
    "\n",
    "# cosmetics\n",
    "ax.patch.set_facecolor('lightgrey')\n",
    "ax.patch.set_alpha(0.5)\n",
    "ax.grid(True)\n",
    "ax.yaxis.set_major_formatter(mtick.PercentFormatter(1.0))\n",
    "ax.set_ylabel(\"utilisation rate [%]\")\n",
    "\n",
    "# legend\n",
    "patch1 = matplotlib.patches.Patch(ls=\"--\", facecolor=\"white\", edgecolor=\"black\")\n",
    "patch2 = matplotlib.patches.Patch(ls=\"-\", facecolor=\"white\", edgecolor=\"black\")\n",
    "ax.legend([patch1, patch2], ['STST', 'EXP'], loc=\"lower left\")\n",
    "\n",
    "fig.tight_layout()\n",
    "plt.show()\n",
    "\n",
    "fig.savefig(f\"{PLOT_DIR}01_general/4.2_systems_technologies/el_gen_ur_STST_EXP.png\")"
   ]
  },
  {
   "cell_type": "code",
   "execution_count": null,
   "metadata": {
    "pycharm": {
     "name": "#%%\n"
    }
   },
   "outputs": [],
   "source": [
    "overall_ur_stst[c_el_gen_s]"
   ]
  },
  {
   "cell_type": "code",
   "execution_count": null,
   "metadata": {
    "pycharm": {
     "name": "#%%\n"
    }
   },
   "outputs": [],
   "source": [
    "overall_ur_exp[c_el_gen_s]"
   ]
  },
  {
   "cell_type": "code",
   "execution_count": null,
   "metadata": {
    "pycharm": {
     "name": "#%%\n"
    }
   },
   "outputs": [],
   "source": [
    "(overall_ur_exp - overall_ur_stst) [c_el_gen_s]"
   ]
  },
  {
   "cell_type": "code",
   "execution_count": null,
   "metadata": {
    "pycharm": {
     "name": "#%%\n"
    }
   },
   "outputs": [],
   "source": [
    "# 1: what does it mean if the star is outside the box / whiskers: star below box (hydro) means that most of the regions are having higher ur than the overall utilitization. The regions with most generation have a lower ur than the average\n",
    "\n",
    "# 2: what is the difference between the capacity facotr and the utilitization rate for technologies with a constant capacity e.g. gas CHP? Shouldnt this be the same? Because it is not."
   ]
  },
  {
   "cell_type": "markdown",
   "metadata": {
    "pycharm": {
     "name": "#%% md\n"
    }
   },
   "source": [
    "### Generation profiles"
   ]
  },
  {
   "cell_type": "code",
   "execution_count": null,
   "metadata": {
    "pycharm": {
     "name": "#%%\n"
    }
   },
   "outputs": [],
   "source": [
    "# generators, links, and storage units\n",
    "carriers = [\"battery discharger\", \"hydro\"]\n",
    "n = n_no\n",
    "\n",
    "fig, axs = plt.subplots(nrows=1,ncols=2, figsize=(18, 6))\n",
    "\n",
    "for i, ax in enumerate(axs):\n",
    "\n",
    "    if carriers[i] in n.generators.carrier.unique().tolist():\n",
    "        # get generation in TWh\n",
    "        df = pd.DataFrame(n.generators_t.p.loc[:, n.generators.carrier == carriers[i]].sum(axis=1)) / 1000\n",
    "\n",
    "    elif carriers[i] in n.links.carrier.unique().tolist():\n",
    "        # get generation in TWh\n",
    "        df = pd.DataFrame(n.links_t.p0.loc[:, n.links.carrier == carriers[i]].sum(axis=1)) / 1000\n",
    "\n",
    "    elif carriers[i] in n.storage_units.carrier.unique().tolist():\n",
    "        # get generation in TWh\n",
    "        df = pd.DataFrame(n.storage_units_t.p_dispatch.loc[:, n.storage_units.carrier == carriers[i]].sum(axis=1)) / 1000\n",
    "\n",
    "    hours = df.index.hour.unique()[::-1]\n",
    "    df_start = pd.DataFrame(index=pd.Index(df.index.date).unique())\n",
    "\n",
    "    for hour in hours:\n",
    "        df_start[str(hour)] = df[df.index.hour==hour].values\n",
    "\n",
    "    sns.heatmap(df_start.transpose(),\n",
    "                ax=ax,\n",
    "                cmap=plt.get_cmap(\"magma_r\"),\n",
    "                linewidth=0.001,\n",
    "                xticklabels=15,\n",
    "                cbar_kws={'label': 'Generation in TWh', 'pad': 0.09}\n",
    "                )\n",
    "\n",
    "\n",
    "    ax.set_title(f\"{carriers[i]}\", fontsize=16, **font1)\n",
    "    ax.set_ylabel(\"hour of the day\", fontsize=12, **font1)\n",
    "    ax.set_xlabel(\"day of the year\", fontsize=12, **font1)\n",
    "    #plt.colorbar(im,fraction=0.046, pad=0.04)\n",
    "\n",
    "    # Rewrite the y labels\n",
    "    ax_labels = ax.get_xticks()\n",
    "    ax.xaxis.set_major_formatter(matplotlib.dates.DateFormatter('%d-%b'))\n",
    "\n",
    "    # Plot generation profile on second y-axis\n",
    "    # resample and transform axis of date to index (heatmap works not with dates)\n",
    "    df2 = df.resample(\"5D\").sum()\n",
    "    df2 = df2[df2.index.year == 2013]\n",
    "    df2.index = df2.index.dayofyear - 0.5\n",
    "\n",
    "    ax2 = ax.twinx()\n",
    "    ax2.plot(df2, color=\"white\", lw=2, path_effects=[pe.Stroke(linewidth=3, foreground='black'), pe.Normal()])\n",
    "    ax2.legend( loc='lower right', labels=['Daily generation (right axis)'])\n",
    "    ax2.set_ylabel(\"Sum of daily generation in TWh\", fontsize=12, **font1)\n",
    "    ax2.grid(False)\n",
    "\n",
    "fig.tight_layout(pad=3)\n",
    "plt.show()"
   ]
  },
  {
   "cell_type": "code",
   "execution_count": null,
   "metadata": {
    "pycharm": {
     "name": "#%%\n"
    }
   },
   "outputs": [],
   "source": [
    "# thesis plot\n",
    "# Generation heatmap and average: VRE\n",
    "[\"onwind\", \"ror\", \"solar\", \"solar rooftop\", \"offwind-dc\", \"offwind-ac\"]\n",
    "\n",
    "carriers = [\"onwind\", \"solar\", \"offwind-dc\", \"ror\"]\n",
    "model = \"STST\"\n",
    "\n",
    "if model == \"STST\":\n",
    "    n = n_no\n",
    "\n",
    "elif model == \"EXP\":\n",
    "    n = n_h2\n",
    "\n",
    "fig, axs = plt.subplots(nrows=int(len(carriers)/2), ncols=2, figsize=(16, len(carriers)/2*4.5))\n",
    "\n",
    "for i, ax in enumerate(axs.reshape(-1)):\n",
    "\n",
    "    if carriers[i] in n.generators.carrier.unique().tolist():\n",
    "        # get generation in TWh\n",
    "        df = pd.DataFrame(n.generators_t.p.loc[:, n.generators.carrier == carriers[i]].sum(axis=1)) / 1000 * 3\n",
    "\n",
    "    elif carriers[i] in n.links.carrier.unique().tolist():\n",
    "        # get generation in TWh\n",
    "        df = pd.DataFrame(n.links_t.p0.loc[:, n.links.carrier == carriers[i]].sum(axis=1)) / 1000 * 3\n",
    "\n",
    "    elif carriers[i] in n.storage_units.carrier.unique().tolist():\n",
    "        # get generation in TWh\n",
    "        df = pd.DataFrame(n.storage_units_t.p_dispatch.loc[:, n.storage_units.carrier == carriers[i]].sum(axis=1)) / 1000 * 3\n",
    "\n",
    "    else:\n",
    "        print(f\"{carriers[i]} does not exist!\")\n",
    "\n",
    "\n",
    "    hours = df.index.hour.unique()[::-1]\n",
    "    df_start = pd.DataFrame(index=pd.Index(df.index.date).unique())\n",
    "\n",
    "    for hour in hours:\n",
    "        df_start[str(hour)] = df[df.index.hour==hour].values\n",
    "\n",
    "    sns.heatmap(df_start.transpose(),\n",
    "                ax=ax,\n",
    "                cmap=plt.get_cmap(\"magma_r\"),\n",
    "                linewidth=0.001,\n",
    "                xticklabels=15,\n",
    "                cbar_kws={'label': 'Generation in GWh', 'pad': 0.1})\n",
    "\n",
    "    ax.set_title(f\"{carriers[i]}\", fontsize=18, **font1)\n",
    "    ax.set_ylabel(\"hour of the day\", fontsize=12, **font1)\n",
    "    ax.set_xlabel(\"day of the year\", fontsize=12, **font1)\n",
    "\n",
    "    # Rewrite the y labels\n",
    "    x_labels = ax.get_xticks()\n",
    "    ax.xaxis.set_major_formatter(matplotlib.dates.DateFormatter('%d-%b'))\n",
    "\n",
    "    # Plot generation profile on second y-axis\n",
    "    # resample and transform axis of date to index (heatmap works not with dates)\n",
    "    df2 = df.resample(\"5D\").sum() / 1000\n",
    "    df2 = df2[df2.index.year == 2013]\n",
    "    df2.index = df2.index.dayofyear - 0.5\n",
    "\n",
    "    ax2 = ax.twinx()\n",
    "    ax2.plot(df2, color=\"white\", lw=2, path_effects=[pe.Stroke(linewidth=3, foreground='black'), pe.Normal()])\n",
    "    ax2.legend( loc='lower right', labels=['Generation (right axis)'])\n",
    "    ax2.set_ylabel(\"Generation in TWh (5-day sum)\", fontsize=12, **font1)\n",
    "    ax2.grid(False)\n",
    "\n",
    "fig.tight_layout(pad=3)\n",
    "plt.show()\n",
    "\n",
    "fig.savefig(f\"{PLOT_DIR}01_general/4.2_systems_technologies/el_gen_profile_vre_{model}.png\")"
   ]
  },
  {
   "cell_type": "code",
   "execution_count": null,
   "metadata": {
    "pycharm": {
     "name": "#%%\n"
    }
   },
   "outputs": [],
   "source": [
    "# thesis plot\n",
    "# Generation heatmap and average: Storage\n",
    "\n",
    "carriers = [\"battery discharger\", \"hydro\", \"V2G\", \"PHS\"]\n",
    "model = \"EXP\"\n",
    "\n",
    "if model == \"STST\":\n",
    "    n = n_no\n",
    "\n",
    "elif model == \"EXP\":\n",
    "    n = n_h2\n",
    "\n",
    "\n",
    "fig, axs = plt.subplots(nrows=2,ncols=2, figsize=(16, 9))\n",
    "\n",
    "for i, ax in enumerate(axs.reshape(-1)):\n",
    "\n",
    "    if carriers[i] in n.generators.carrier.unique().tolist():\n",
    "        # get generation in TWh\n",
    "        df = pd.DataFrame(n.generators_t.p.loc[:, n.generators.carrier == carriers[i]].sum(axis=1)) / 1000 * 3\n",
    "\n",
    "    elif carriers[i] in n.links.carrier.unique().tolist():\n",
    "        # get generation in TWh\n",
    "        df = pd.DataFrame(n.links_t.p0.loc[:, n.links.carrier == carriers[i]].sum(axis=1)) / 1000 * 3\n",
    "\n",
    "    elif carriers[i] in n.storage_units.carrier.unique().tolist():\n",
    "        # get generation in TWh\n",
    "        df = pd.DataFrame(n.storage_units_t.p_dispatch.loc[:, n.storage_units.carrier == carriers[i]].sum(axis=1)) / 1000 * 3\n",
    "\n",
    "    else:\n",
    "        print(f\"{carriers[i]} does not exist!\")\n",
    "\n",
    "\n",
    "    hours = df.index.hour.unique()[::-1]\n",
    "    df_start = pd.DataFrame(index=pd.Index(df.index.date).unique())\n",
    "\n",
    "    for hour in hours:\n",
    "        df_start[str(hour)] = df[df.index.hour==hour].values\n",
    "\n",
    "    sns.heatmap(df_start.transpose(),\n",
    "                ax=ax,\n",
    "                cmap=plt.get_cmap(\"magma_r\"),\n",
    "                linewidth=0.001,\n",
    "                xticklabels=15,\n",
    "                cbar_kws={'label': 'Generation in GWh', 'pad': 0.1})\n",
    "\n",
    "    ax.set_title(f\"{carriers[i]}\", fontsize=18, **font1)\n",
    "    ax.set_ylabel(\"hour of the day\", fontsize=12, **font1)\n",
    "    ax.set_xlabel(\"day of the year\", fontsize=12, **font1)\n",
    "\n",
    "    # Rewrite the y labels\n",
    "    x_labels = ax.get_xticks()\n",
    "    ax.xaxis.set_major_formatter(matplotlib.dates.DateFormatter('%d-%b'))\n",
    "\n",
    "    # Plot generation profile on second y-axis\n",
    "    # resample and transform axis of date to index (heatmap works not with dates)\n",
    "    df2 = df.resample(\"5D\").sum() / 1000\n",
    "    df2 = df2[df2.index.year == 2013]\n",
    "    df2.index = df2.index.dayofyear - 0.5\n",
    "\n",
    "    ax2 = ax.twinx()\n",
    "    ax2.plot(df2, color=\"white\", lw=2, path_effects=[pe.Stroke(linewidth=3, foreground='black'), pe.Normal()])\n",
    "    ax2.legend( loc='lower right', labels=['Generation (right axis)'])\n",
    "    ax2.set_ylabel(\"Generation in TWh (5-day sum)\", fontsize=12, **font1)\n",
    "    ax2.grid(False)\n",
    "\n",
    "fig.tight_layout(pad=3)\n",
    "plt.show()\n",
    "\n",
    "fig.savefig(f\"{PLOT_DIR}01_general/4.2_systems_technologies/el_gen_profile_store_{model}.png\")"
   ]
  },
  {
   "cell_type": "code",
   "execution_count": null,
   "metadata": {
    "pycharm": {
     "name": "#%%\n"
    }
   },
   "outputs": [],
   "source": [
    "# thesis plot\n",
    "# Generation heatmap and average: Peakplants\n",
    "\n",
    "carriers = [\"urban central gas CHP\", \"urban central solid biomass CHP CC\" ]\n",
    "model = \"STST\"\n",
    "\n",
    "if model == \"STST\":\n",
    "    n = n_no\n",
    "\n",
    "elif model == \"EXP\":\n",
    "    n = n_h2\n",
    "\n",
    "\n",
    "fig, axs = plt.subplots(nrows=1,ncols=2, figsize=(16, 4.5))\n",
    "\n",
    "for i, ax in enumerate(axs):\n",
    "\n",
    "    if carriers[i] in n.generators.carrier.unique().tolist():\n",
    "        # get generation in TWh\n",
    "        df = pd.DataFrame(n.generators_t.p.loc[:, n.generators.carrier == carriers[i]].sum(axis=1)) / 1000 * 3\n",
    "\n",
    "    elif carriers[i] in n.links.carrier.unique().tolist():\n",
    "        # get generation in TWh\n",
    "        df = pd.DataFrame(n.links_t.p0.loc[:, n.links.carrier == carriers[i]].sum(axis=1)) / 1000 * 3\n",
    "\n",
    "    elif carriers[i] in n.storage_units.carrier.unique().tolist():\n",
    "        # get generation in TWh\n",
    "        df = pd.DataFrame(n.storage_units_t.p_dispatch.loc[:, n.storage_units.carrier == carriers[i]].sum(axis=1)) / 1000 * 3\n",
    "\n",
    "    else:\n",
    "        print(f\"{carriers[i]} does not exist!\")\n",
    "\n",
    "\n",
    "    hours = df.index.hour.unique()[::-1]\n",
    "    df_start = pd.DataFrame(index=pd.Index(df.index.date).unique())\n",
    "\n",
    "    for hour in hours:\n",
    "        df_start[str(hour)] = df[df.index.hour==hour].values\n",
    "\n",
    "    sns.heatmap(df_start.transpose(),\n",
    "                ax=ax,\n",
    "                cmap=plt.get_cmap(\"magma_r\"),\n",
    "                linewidth=0.001,\n",
    "                xticklabels=15,\n",
    "                cbar_kws={'label': 'Generation in GWh', 'pad': 0.1})\n",
    "\n",
    "    ax.set_title(carriers[i].replace(\"urban central solid \", \"\").replace(\"urban central \", \"\"), fontsize=18, **font1)\n",
    "    ax.set_ylabel(\"hour of the day\", fontsize=12, **font1)\n",
    "    ax.set_xlabel(\"day of the year\", fontsize=12, **font1)\n",
    "\n",
    "    # Rewrite the y labels\n",
    "    x_labels = ax.get_xticks()\n",
    "    ax.xaxis.set_major_formatter(matplotlib.dates.DateFormatter('%d-%b'))\n",
    "\n",
    "    # Plot generation profile on second y-axis\n",
    "    # resample and transform axis of date to index (heatmap works not with dates)\n",
    "    df2 = df.resample(\"5D\").sum() / 1000\n",
    "    df2 = df2[df2.index.year == 2013]\n",
    "    df2.index = df2.index.dayofyear - 0.5\n",
    "\n",
    "    ax2 = ax.twinx()\n",
    "    ax2.plot(df2, color=\"white\", lw=2, path_effects=[pe.Stroke(linewidth=3, foreground='black'), pe.Normal()])\n",
    "    ax2.legend( loc='lower right', labels=['Generation (right axis)'])\n",
    "    ax2.set_ylabel(\"Generation in TWh (5-day sum)\", fontsize=12, **font1)\n",
    "    ax2.grid(False)\n",
    "\n",
    "\n",
    "fig.tight_layout(pad=3)\n",
    "plt.show()\n",
    "\n",
    "fig.savefig(f\"{PLOT_DIR}01_general/4.2_systems_technologies/el_gen_profile_peak_{model}.png\")"
   ]
  },
  {
   "cell_type": "markdown",
   "metadata": {
    "pycharm": {
     "name": "#%% md\n"
    }
   },
   "source": [
    "### Storage"
   ]
  },
  {
   "cell_type": "code",
   "execution_count": null,
   "metadata": {
    "pycharm": {
     "name": "#%%\n"
    }
   },
   "outputs": [],
   "source": [
    "### hydro generation\n",
    "# plt.plot(n.storage_units_t.p_dispatch.loc[:, n.storage_units.carrier == \"hydro\"].sum(axis=1))"
   ]
  },
  {
   "cell_type": "code",
   "execution_count": null,
   "metadata": {
    "pycharm": {
     "name": "#%%\n"
    }
   },
   "outputs": [],
   "source": [
    "### hydro water availability\n",
    "plt.plot(n.storage_units_t.inflow.loc[:, n.storage_units.carrier == \"hydro\"].sum(axis=1).cumsum())"
   ]
  },
  {
   "cell_type": "code",
   "execution_count": null,
   "metadata": {
    "pycharm": {
     "name": "#%%\n"
    }
   },
   "outputs": [],
   "source": [
    "### hydro water availability\n",
    "plt.plot(n.storage_units_t.spill.loc[:, n.storage_units.carrier == \"hydro\"].sum(axis=1))"
   ]
  },
  {
   "cell_type": "code",
   "execution_count": null,
   "metadata": {
    "pycharm": {
     "name": "#%%\n"
    }
   },
   "outputs": [],
   "source": [
    "# State of charge [per unit of max] (all stores and storage units)\n",
    "# Ratio of total generation of max state of charge\n",
    "\n",
    "gen_charge_ratio= []\n",
    "max_charge= []\n",
    "\n",
    "st_carriers = [\"battery\", \"Li ion\", \"hydro\", \"PHS\", \"H2\"] # \"battery\", \"Li ion\",\n",
    "carriers = [\"battery discharger\", \"V2G\", \"hydro\", \"PHS\", \"H2\"] # \"battery discharger\", \"V2G\",\n",
    "period= \"2013\"\n",
    "model = \"STST\"\n",
    "\n",
    "if model == \"STST\":\n",
    "    n = n_no\n",
    "\n",
    "elif model == \"EXP\":\n",
    "    n = n_h2\n",
    "\n",
    "\n",
    "stor_res = pd.DataFrame(index = st_carriers, columns =[\"max_charge\", \"gen_charge_ratio\", \"max_stor_cap\", \"gen_charge_cap_ratio\", \"gen_sum\" ])\n",
    "\n",
    "fig, (ax1, ax2) = plt.subplots(2, 1, figsize=(9,10), height_ratios=[1, 1.5])\n",
    "\n",
    "for i, c in enumerate(st_carriers):\n",
    "    if c in n.storage_units.carrier.unique().tolist():\n",
    "        # state of charge (sum over locations: 2920 values)\n",
    "        charge = n.storage_units_t.state_of_charge.loc[:, n.storage_units.carrier == c].sum(axis=1)[period]\n",
    "        gen_sum = n.storage_units_t.p_dispatch.loc[period, n.storage_units.carrier == carriers[i]].sum().sum()\n",
    "        gen = n.storage_units_t.p_dispatch.loc[period, n.storage_units.carrier == carriers[i]].sum(axis=1)\n",
    "        index = n.storage_units[n.storage_units.carrier == c].index\n",
    "        max_stor_cap = (n.storage_units.max_hours * n.storage_units.p_nom_opt)[index].sum()\n",
    "        stor_res.loc[c, \"max_charge\"] = charge.max()\n",
    "        stor_res.loc[c, \"gen_charge_ratio\"] = gen_sum/charge.max()\n",
    "        stor_res.loc[c, \"max_stor_cap\"] = max_stor_cap\n",
    "        stor_res.loc[c, \"gen_charge_cap_ratio\"] = gen_sum/max_stor_cap\n",
    "        stor_res.loc[c, \"gen_sum\"] = gen_sum\n",
    "\n",
    "    elif c in n.stores.carrier.unique().tolist():\n",
    "        # state of charge (sum over locations: 2920 values)\n",
    "        charge = n.stores_t.e.loc[:, n.stores.carrier == c].sum(axis=1)[period]\n",
    "        gen_sum = -n.links_t.p1.loc[period, n.links.carrier == carriers[i]].sum().sum()\n",
    "        max_stor_cap = n.stores.e_nom_opt[n.stores[n.stores.carrier == c].index].sum()\n",
    "        stor_res.loc[c, \"max_charge\"] = charge.max()\n",
    "        stor_res.loc[c, \"gen_charge_ratio\"] = gen_sum/charge.max()\n",
    "        stor_res.loc[c, \"max_stor_cap\"] = max_stor_cap\n",
    "        stor_res.loc[c, \"gen_charge_cap_ratio\"] = gen_sum/max_stor_cap\n",
    "        stor_res.loc[c, \"gen_sum\"] = gen_sum\n",
    "        \n",
    "    if c in [\"battery\", \"Li ion\"]:\n",
    "        ax1.plot(charge/max_stor_cap, label=c, color=carrier_colors[c], marker=markers[i], markevery=[0], mfc='white', mec='black')\n",
    "        \n",
    "    else:\n",
    "        ax2.plot(charge/max_stor_cap, label=c, color=carrier_colors[c], marker=markers[i], markevery=[0], mfc='white', mec='black')\n",
    "\n",
    "ax1.set_title(\"State of charge of short-term storage technologies\")\n",
    "ax2.set_title(\"State of charge of mid- and long-term storage technologies\")\n",
    "ax1.set_ylabel(\"State of charge [per unit of max storage capacity]\")\n",
    "ax2.set_ylabel(\"State of charge [per unit of max storage capacity]\")\n",
    "ax1.legend(loc=\"lower right\")\n",
    "ax2.legend(loc=\"lower right\")\n",
    "               \n",
    "fig.tight_layout(pad=3)\n",
    "plt.show()\n",
    "\n",
    "fig.savefig(f\"{PLOT_DIR}01_general/4.2_systems_technologies/charge_state_store_{model}.png\")"
   ]
  },
  {
   "cell_type": "code",
   "execution_count": null,
   "metadata": {
    "pycharm": {
     "name": "#%%\n"
    }
   },
   "outputs": [],
   "source": [
    "# Ratio of total generation of max state of charge\n",
    "stor_res[\"max_charge_max_stor_cap_ratio\"] =  stor_res[\"max_charge\"] / stor_res[\"max_stor_cap\"]\n",
    "stor_res"
   ]
  },
  {
   "cell_type": "code",
   "execution_count": null,
   "metadata": {
    "pycharm": {
     "name": "#%%\n"
    }
   },
   "outputs": [],
   "source": [
    "# TWh\n",
    "stor_res[\"max_stor_cap\"] / 1e6"
   ]
  },
  {
   "cell_type": "code",
   "execution_count": null,
   "metadata": {
    "pycharm": {
     "name": "#%%\n"
    }
   },
   "outputs": [],
   "source": [
    "# how do I get the maximum storage capacity?\n",
    "\n",
    "# stores:\n",
    "c = \"battery\"\n",
    "index = n.stores[n.stores.carrier == c].index\n",
    "n.stores.e_nom_opt[index]\n",
    "\n",
    "# storage units:\n",
    "c = \"hydro\"\n",
    "index = n.storage_units[n.storage_units.carrier == c].index\n",
    "(n.storage_units.max_hours * n.storage_units.p_nom_opt)[index].sum()"
   ]
  },
  {
   "cell_type": "code",
   "execution_count": null,
   "metadata": {
    "pycharm": {
     "name": "#%%\n"
    }
   },
   "outputs": [],
   "source": [
    "# State of charge [per unit of max] (all stores and storage units)\n",
    "# Ratio of total generation of max state of charge\n",
    "\n",
    "gen_charge_ratio= []\n",
    "max_charge= []\n",
    "\n",
    "carriers = [\"battery\", \"battery discharger\", \"battery charger\"]\n",
    "n = n_no\n",
    "start_date = \"2013-06-1 00:00:00\"\n",
    "end_date = \"2013-06-09 00:00:00\"\n",
    "period = n_no.generators_t.p.index[(n_no.generators_t.p.index >= start_date) & (n_no.generators_t.p.index <= end_date)]\n",
    "\n",
    "fig = plt.figure(figsize=(8,4))\n",
    "\n",
    "for i, c in enumerate(carriers):\n",
    "    if c in n.storage_units.carrier.unique().tolist():\n",
    "        # state of charge (sum over locations: 2920 values)\n",
    "        charge = n.storage_units_t.state_of_charge.loc[:, n.storage_units.carrier == c].sum(axis=1)[period]\n",
    "        gen_sum = n.storage_units_t.p_dispatch.loc[period, n.storage_units.carrier == carriers[i]].sum().sum()\n",
    "        gen = n.storage_units_t.p_dispatch.loc[period, n.storage_units.carrier == carriers[i]].sum(axis=1)\n",
    "        index = n.storage_units[n.storage_units.carrier == c].index\n",
    "        max_stor_cap = (n.storage_units.max_hours * n.storage_units.p_nom_opt)[index].sum()\n",
    "        stor_res.loc[c, \"max_charge\"] = charge.max()\n",
    "        stor_res.loc[c, \"gen_charge_ratio\"] = gen_sum/charge.max()\n",
    "        stor_res.loc[c, \"max_stor_cap\"] = max_stor_cap\n",
    "\n",
    "        plt.plot(charge/max_stor_cap, label=c, color=carrier_colors[c], marker=markers[i], markevery=[0], mfc='white', mec='black',linewidth=3)\n",
    "        plt.plot(gen/gen.max(), label=f\"{c}\", color=carrier_colors[c], marker=markers[i], markevery=[0], mfc='white', mec='black', ls=\"--\", linewidth=3)\n",
    "\n",
    "    elif c in n.links.carrier.unique().tolist():\n",
    "        gen = -n.links_t.p1.loc[period, n.links.carrier == c].sum(axis=1)\n",
    "\n",
    "        plt.plot(gen/gen.max(), label=f\"{c}\", color=carrier_colors[c], marker=markers[i], markevery=[0], mfc='white', mec='black', ls=\":\", linewidth=3)\n",
    "\n",
    "    elif c in n.stores.carrier.unique().tolist():\n",
    "        # state of charge (sum over locations: 2920 values)\n",
    "        charge = n.stores_t.e.loc[:, n.stores.carrier == c].sum(axis=1)[period]\n",
    "        gen_sum = -n.links_t.p1.loc[period, n.links.carrier == carriers[i]].sum().sum()\n",
    "        max_stor_cap = n.stores.e_nom_opt[n.stores[n.stores.carrier == c].index].sum()\n",
    "        stor_res.loc[c, \"max_charge\"] = charge.max()\n",
    "        stor_res.loc[c, \"gen_charge_ratio\"] = gen_sum/charge.max()\n",
    "        stor_res.loc[c, \"max_stor_cap\"] = max_stor_cap\n",
    "\n",
    "        plt.plot(charge/max_stor_cap, label=c, color=carrier_colors[c], marker=markers[i], markevery=[0], mfc='white', mec='black',linewidth=3)\n",
    "\n",
    "plt.gca().xaxis.set_major_formatter(matplotlib.dates.DateFormatter('%H')) # %d-%m\n",
    "plt.gca().xaxis.set_major_locator(mtick.MultipleLocator(0.125))\n",
    "plt.ylabel(\"State of charge and generation [per unit of max]\")\n",
    "plt.xlabel(\"Hour of the day\")\n",
    "plt.legend(loc=\"upper right\")\n",
    "plt.tight_layout()\n",
    "plt.show()\n"
   ]
  },
  {
   "cell_type": "code",
   "execution_count": null,
   "metadata": {
    "pycharm": {
     "name": "#%%\n"
    }
   },
   "outputs": [],
   "source": [
    "# State of charge [per unit of max] (all stores and storage units)\n",
    "# Ratio of total generation of max state of charge\n",
    "\n",
    "temp_colors = {\n",
    "    'PHS': 'darkorange',\n",
    "    'hydro': 'navy'\n",
    "}\n",
    "\n",
    "carrier_lists =[[\"battery\", \"battery discharger\", \"battery charger\"],[\"hydro\", \"PHS\"]]\n",
    "model = \"EXP\"\n",
    "\n",
    "if model == \"STST\":\n",
    "    n = n_no\n",
    "\n",
    "elif model == \"EXP\":\n",
    "    n = n_h2\n",
    "\n",
    "start_date = \"2013-06-6 00:00:00\"\n",
    "end_date = \"2013-06-10 00:00:00\"\n",
    "period = n.generators_t.p.index[(n.generators_t.p.index >= start_date) & (n.generators_t.p.index <= end_date)]\n",
    "\n",
    "fig, axs = plt.subplots(nrows=2,ncols=1, figsize=(10,6))\n",
    "\n",
    "for j, ax in enumerate(axs):\n",
    "    carriers = carrier_lists[j]\n",
    "\n",
    "    for i, c in enumerate(carriers):\n",
    "        if c in n.storage_units.carrier.unique().tolist():\n",
    "            # state of charge (sum over locations: 2920 values)\n",
    "            charge = n.storage_units_t.state_of_charge.loc[:, n.storage_units.carrier == c].sum(axis=1)[period]\n",
    "            gen_sum = n.storage_units_t.p_dispatch.loc[period, n.storage_units.carrier == carriers[i]].sum().sum()\n",
    "            gen = n.storage_units_t.p_dispatch.loc[period, n.storage_units.carrier == carriers[i]].sum(axis=1)\n",
    "            index = n.storage_units[n.storage_units.carrier == c].index\n",
    "            max_stor_cap = (n.storage_units.max_hours * n.storage_units.p_nom_opt)[index].sum()\n",
    "            stor_res.loc[c, \"max_charge\"] = charge.max()\n",
    "            stor_res.loc[c, \"gen_charge_ratio\"] = gen_sum/charge.max()\n",
    "            stor_res.loc[c, \"max_stor_cap\"] = max_stor_cap\n",
    "\n",
    "            ax.plot(charge/max_stor_cap, label=c, color=temp_colors[c], marker=markers[i], markevery=[0], mfc='white', mec='black',linewidth=2)\n",
    "            ax.plot(gen/gen.max(), label=f\"{c} (generation)\", color=temp_colors[c], marker=markers[i], markevery=[0], mfc='white', mec='black', ls=\":\", linewidth=3)\n",
    "\n",
    "        elif c in n.links.carrier.unique().tolist():\n",
    "            gen = -n.links_t.p1.loc[period, n.links.carrier == c].sum(axis=1)\n",
    "\n",
    "            ax.plot(gen/gen.max(), label=f\"{c}\", color=carrier_colors[c], marker=markers[i], markevery=[0], mfc='white', mec='black', ls=\":\", linewidth=3)\n",
    "\n",
    "        elif c in n.stores.carrier.unique().tolist():\n",
    "            # state of charge (sum over locations: 2920 values)\n",
    "            charge = n.stores_t.e.loc[:, n.stores.carrier == c].sum(axis=1)[period]\n",
    "            gen_sum = -n.links_t.p1.loc[period, n.links.carrier == carriers[i]].sum().sum()\n",
    "            max_stor_cap = n.stores.e_nom_opt[n.stores[n.stores.carrier == c].index].sum()\n",
    "            stor_res.loc[c, \"max_charge\"] = charge.max()\n",
    "            stor_res.loc[c, \"gen_charge_ratio\"] = gen_sum/charge.max()\n",
    "            stor_res.loc[c, \"max_stor_cap\"] = max_stor_cap\n",
    "\n",
    "            ax.plot(charge/max_stor_cap, label=c, color=carrier_colors[c], marker=markers[i], markevery=[0], mfc='white', mec='black',linewidth=3)\n",
    "\n",
    "    ax.xaxis.set_major_formatter(matplotlib.dates.DateFormatter('%H')) # %d-%m\n",
    "    ax.xaxis.set_major_locator(mtick.MultipleLocator(0.125))\n",
    "    ax.set_ylabel(\"Charge / generation [per unit of max]\")\n",
    "    ax.set_xlabel(\"Hour of the day\")\n",
    "    ax.legend(loc=\"upper right\")\n",
    "\n",
    "plt.tight_layout()\n",
    "plt.show()\n",
    "\n",
    "# fig.savefig(f\"{PLOT_DIR}01_general/4.2_systems_technologies/charge_state_store_daily_{model}.png\")"
   ]
  },
  {
   "cell_type": "code",
   "execution_count": null,
   "metadata": {
    "pycharm": {
     "name": "#%%\n"
    }
   },
   "outputs": [],
   "source": [
    "stor_res"
   ]
  },
  {
   "cell_type": "code",
   "execution_count": null,
   "metadata": {
    "pycharm": {
     "name": "#%%\n"
    }
   },
   "outputs": [],
   "source": [
    "charge = n.stores_t.e.loc[:, n.stores.carrier == \"battery\"].sum(axis=1)\n",
    "gen = n.links_t.p1.loc[:, n.links.carrier == \"battery discharger\"].sum().sum()"
   ]
  },
  {
   "cell_type": "code",
   "execution_count": null,
   "metadata": {
    "pycharm": {
     "name": "#%%\n"
    }
   },
   "outputs": [],
   "source": [
    "# State of charge [per unit of max]\n",
    "carrier = \"H2\"\n",
    "\n",
    "# state of charge (sum over locations: 2920 values)\n",
    "charge = n.stores_t.e.loc[:, n.stores.carrier == carrier].sum(axis=1)"
   ]
  },
  {
   "cell_type": "code",
   "execution_count": null,
   "metadata": {
    "pycharm": {
     "name": "#%%\n"
    }
   },
   "outputs": [],
   "source": [
    "plt.plot(charge/charge.max())"
   ]
  },
  {
   "cell_type": "markdown",
   "metadata": {
    "pycharm": {
     "name": "#%% md\n"
    }
   },
   "source": [
    "#### How long is one unit on average stored?\n",
    "- LIFO\n",
    "- Distribution of storage time over the year\n",
    "- watch out as the smallest can be ony minimum 3h steps"
   ]
  },
  {
   "cell_type": "code",
   "execution_count": null,
   "metadata": {
    "pycharm": {
     "name": "#%%\n"
    }
   },
   "outputs": [],
   "source": [
    "temp_colors = {\n",
    "    'PHS': 'purple',\n",
    "    'hydro': 'navy',\n",
    "    'battery': 'hotpink',\n",
    "    'gas': 'orange',\n",
    "    'H2': 'turquoise',\n",
    "    'Li ion': 'greenyellow',\n",
    "    'home battery': 'violet',\n",
    "    'oil': 'k',\n",
    "    'solid biomass': 'sandybrown',\n",
    "    'biogas': 'palegoldenrod',\n",
    "}"
   ]
  },
  {
   "cell_type": "code",
   "execution_count": null,
   "metadata": {
    "pycharm": {
     "name": "#%%\n"
    }
   },
   "outputs": [],
   "source": [
    "# singel case\n",
    "c = \"battery\"\n",
    "charge = n.stores_t.e.loc[:, n.stores.carrier == c].sum(axis=1)\n",
    "result = time_stored_LIFO(charge)\n",
    "\n",
    "amounts = pd.DataFrame(result[[f\"amount{i}\" for i in range(1,int(((len(result.columns) - 3) / 2)))]].values.flatten())\n",
    "timedeltas = pd.DataFrame(result[[f\"timedelta{i}\" for i in range(1,int(((len(result.columns) - 3) / 2)))]].values.flatten())\n",
    "\n",
    "all_df = pd.concat([ amounts, timedeltas], axis=1).dropna()\n",
    "all_df.columns = [\"amounts\", \"timedeltas\"]\n",
    "all_df[\"hours\"] = (all_df[\"timedeltas\"] /  timedelta(hours=1)).astype(int)"
   ]
  },
  {
   "cell_type": "code",
   "execution_count": null,
   "metadata": {
    "pycharm": {
     "name": "#%%\n"
    }
   },
   "outputs": [],
   "source": [
    "# Barplot: duration of storage per amountof stored energy\n",
    "\n",
    "average_storing_time = pd.DataFrame(index=range(1))\n",
    "carriers = [\"battery\", \"PHS\", \"hydro\", \"gas\", \"H2\", \"Li ion\", \"oil\"]\n",
    "model = \"EXP\"\n",
    "\n",
    "if model == \"STST\":\n",
    "    n = n_no\n",
    "\n",
    "elif model == \"EXP\":\n",
    "    n = n_h2\n",
    "        \n",
    "start_date = \"2013-06-6 00:00:00\"\n",
    "end_date = \"2013-06-10 00:00:00\"\n",
    "period = n.generators_t.p.index[(n.generators_t.p.index >= start_date) & (n.generators_t.p.index <= end_date)]\n",
    "period=\"2013\"\n",
    "\n",
    "bins = [0, 6, 12, 18, 24, 2*24, 3*24, 7*24, 14*24, 30*24,60*24,120*24, np.inf]\n",
    "bins_labels = [\"[0h,6h]\", \"(6h,12h]\", \"(12h,18h]\", \"(18h,24h]\", \"(24h,2d]\",\"(2d,3d]\",\"(3d,7d]\", \"(7d,14d]\", \"(14d,30d]\",\"(30d,60d]\",\"(60d,120d]\", \" > 120d\" ]\n",
    "\n",
    "res_grouped = pd.DataFrame(index= bins_labels)\n",
    "\n",
    "for c in carriers:\n",
    "        if c in n.storage_units.carrier.unique().tolist():\n",
    "            # state of charge (sum over locations: 2920 values)\n",
    "            charge = n.storage_units_t.state_of_charge.loc[:, n.storage_units.carrier == c].sum(axis=1)[period]\n",
    "\n",
    "        elif c in n.stores.carrier.unique().tolist():\n",
    "            # state of charge (sum over locations: 2920 values)\n",
    "            charge = n.stores_t.e.loc[:, n.stores.carrier == c].sum(axis=1)[period]\n",
    "\n",
    "        else:\n",
    "            print(f\"{c} does not exist!\")\n",
    "\n",
    "        result = time_stored_LIFO(charge)\n",
    "\n",
    "        # get amounts and timedeltas\n",
    "        i = int(((len(result.columns) - 3) / 2))\n",
    "        amounts = pd.DataFrame(result[[f\"amount{i}\" for i in range(1,i+1)]].values.flatten(order='C'))\n",
    "        timedeltas = pd.DataFrame(result[[f\"timedelta{i}\" for i in range(1,i+1)]].values.flatten(order='C'))\n",
    "        all_df = pd.concat([ amounts, timedeltas], axis=1).dropna()\n",
    "        all_df.columns = [\"amounts\", \"timedeltas\"]\n",
    "        all_df[\"hours\"] = (all_df[\"timedeltas\"] /  timedelta(hours=1)).astype(int)\n",
    "        \n",
    "        # how long is one unit on average stored\n",
    "        average_storing_time[c] = (all_df.amounts * all_df.hours / all_df.amounts.sum()).sum()\n",
    "\n",
    "        # groupby hours and normalise\n",
    "        all_df_grouped = all_df[[\"amounts\", \"hours\"]].groupby(by=\"hours\").sum() / all_df[\"amounts\"].sum()\n",
    "\n",
    "        #binning\n",
    "        all_df_grouped[\"bins\"] = pd.cut(x=all_df_grouped.index, bins=bins, labels=bins_labels, right=True)\n",
    "\n",
    "        # save to result\n",
    "        res_grouped[c] = all_df_grouped[[\"amounts\", \"bins\"]].groupby(by=\"bins\").sum()\n",
    "        \n",
    "\n",
    "fig = res_grouped.reset_index().plot(x=\"index\", y=carriers, kind=\"bar\",\n",
    "                               rot=0,\n",
    "                               figsize=(11,4),\n",
    "                               color=[temp_colors[c] for c in carriers],\n",
    "                               xlabel=\"\",\n",
    "                               ylabel=\"Amount of stored energy (%)\",\n",
    "                               width=0.85\n",
    "                               ).get_figure()\n",
    "plt.show()\n",
    "\n",
    "fig.savefig(f\"{PLOT_DIR}01_general/4.2_systems_technologies/storage_time_bars_{model}.png\")"
   ]
  },
  {
   "cell_type": "code",
   "execution_count": null,
   "metadata": {
    "pycharm": {
     "name": "#%%\n"
    }
   },
   "outputs": [],
   "source": [
    "# discharged after only 6 hours or less\n",
    "res_grouped.loc[:\"[0h,6h]\"].sum()"
   ]
  },
  {
   "cell_type": "code",
   "execution_count": null,
   "metadata": {
    "pycharm": {
     "name": "#%%\n"
    }
   },
   "outputs": [],
   "source": [
    "# discharged withing 24 hours\n",
    "res_grouped.loc[:\"(18h,24h]\"].sum()"
   ]
  },
  {
   "cell_type": "code",
   "execution_count": null,
   "metadata": {
    "pycharm": {
     "name": "#%%\n"
    }
   },
   "outputs": [],
   "source": [
    "# discharged within one week until 4 months\n",
    "res_grouped.loc[\"(7d,14d]\":\"(60d,120d]\"].sum()"
   ]
  },
  {
   "cell_type": "code",
   "execution_count": null,
   "metadata": {
    "pycharm": {
     "name": "#%%\n"
    }
   },
   "outputs": [],
   "source": [
    "# discharged within 18 hours\n",
    "res_grouped.loc[:\"(12h,18h]\"].sum()"
   ]
  },
  {
   "cell_type": "code",
   "execution_count": null,
   "metadata": {
    "pycharm": {
     "name": "#%%\n"
    }
   },
   "outputs": [],
   "source": [
    "# discharged within one week until 4 months\n",
    "res_grouped.loc[\"(24h,2d]\":\"(30d,60d]\"].sum()"
   ]
  },
  {
   "cell_type": "code",
   "execution_count": null,
   "metadata": {
    "pycharm": {
     "name": "#%%\n"
    }
   },
   "outputs": [],
   "source": [
    "res_grouped"
   ]
  },
  {
   "cell_type": "code",
   "execution_count": null,
   "metadata": {
    "pycharm": {
     "name": "#%%\n"
    }
   },
   "outputs": [],
   "source": [
    "average_storing_time"
   ]
  },
  {
   "cell_type": "code",
   "execution_count": null,
   "metadata": {
    "pycharm": {
     "name": "#%%\n"
    }
   },
   "outputs": [],
   "source": [
    "average_storing_time / 24"
   ]
  },
  {
   "cell_type": "code",
   "execution_count": null,
   "metadata": {
    "pycharm": {
     "name": "#%%\n"
    }
   },
   "outputs": [],
   "source": [
    "# how long is one unit on average stored\n",
    "(all_df.amounts * all_df.hours / all_df.amounts.sum()).sum()"
   ]
  },
  {
   "cell_type": "code",
   "execution_count": null,
   "metadata": {
    "pycharm": {
     "name": "#%%\n"
    }
   },
   "outputs": [],
   "source": [
    "# Distribution of storage time over the year\n",
    "\n",
    "carriers = [\"battery\", \"PHS\", \"hydro\", \"gas\", \"H2\", \"Li ion\", \"biogas\", \"solid biomass\", \"oil\", \"home battery\" ]\n",
    "model = \"EXP\"\n",
    "\n",
    "if model == \"STST\":\n",
    "    n = n_no\n",
    "\n",
    "elif model == \"EXP\":\n",
    "    n = n_h2\n",
    "\n",
    "start_date = \"2013-06-6 00:00:00\"\n",
    "end_date = \"2013-06-10 00:00:00\"\n",
    "period = n.generators_t.p.index[(n.generators_t.p.index >= start_date) & (n.generators_t.p.index <= end_date)]\n",
    "period=\"2013\"\n",
    "\n",
    "res = pd.DataFrame(index= np.arange(1,13))\n",
    "\n",
    "for c in carriers:\n",
    "        if c in n.storage_units.carrier.unique().tolist():\n",
    "            # state of charge (sum over locations: 2920 values)\n",
    "            charge = n.storage_units_t.state_of_charge.loc[:, n.storage_units.carrier == c].sum(axis=1)[period]\n",
    "\n",
    "        elif c in n.stores.carrier.unique().tolist():\n",
    "            # state of charge (sum over locations: 2920 values)\n",
    "            charge = n.stores_t.e.loc[:, n.stores.carrier == c].sum(axis=1)[period]\n",
    "\n",
    "        else:\n",
    "            print(f\"{c} does not exist!\")\n",
    "\n",
    "        result = time_stored_LIFO(charge)\n",
    "\n",
    "        # get amounts and timedeltas\n",
    "        i = int(((len(result.columns) - 3) / 2))\n",
    "        amounts = pd.DataFrame(result[[f\"amount{i}\" for i in range(1,i+1)]].values.flatten(order='C'))\n",
    "        timedeltas = pd.DataFrame(result[[f\"timedelta{i}\" for i in range(1,i+1)]].values.flatten(order='C'))\n",
    "\n",
    "        #\n",
    "        all_df = pd.concat([ amounts, timedeltas], axis=1)\n",
    "        all_df.columns = [\"amounts\", \"timedeltas\"]\n",
    "        all_df.index = result.index.repeat(i)\n",
    "        all_df.dropna(inplace=True)\n",
    "        all_df[\"hours\"] = (all_df[\"timedeltas\"] /  timedelta(hours=1)).astype(int)\n",
    "        all_df[\"months\"] = all_df.index.month\n",
    "        all_df[\"amounts_hours\"] = all_df.amounts * all_df.hours\n",
    "\n",
    "        # calc generation weighted average\n",
    "        res[c] = all_df.groupby(by=\"months\")[\"amounts_hours\"].sum() / all_df.groupby(by=\"months\")[\"amounts\"].sum()\n",
    "\n",
    "        \n",
    "fig, (ax1, ax2) = plt.subplots(nrows=2,ncols=1, figsize=(10, 6))\n",
    "\n",
    "# plot 1 (hours)\n",
    "c_plot = [\"battery\", \"Li ion\"] # home battery\n",
    "res[c_plot].reset_index().plot(x=\"index\", y=c_plot, kind=\"bar\",\n",
    "                               rot=0,\n",
    "                               color=[temp_colors[c] for c in c_plot],\n",
    "                               xlabel=\"Month\",\n",
    "                               ylabel=\"Hours stored\",\n",
    "                               ax=ax1\n",
    "                               )\n",
    "\n",
    "# plot 2 (days)\n",
    "c_plot = [\"PHS\", \"hydro\", \"gas\", \"H2\", \"oil\"] # \"biogas\",, \"solid biomass\"\n",
    "\n",
    "# days\n",
    "df = res[c_plot] / 24\n",
    "df.reset_index().plot(x=\"index\",\n",
    "                      y=c_plot, kind=\"bar\",\n",
    "                      rot=0,\n",
    "                      color=[temp_colors[c] for c in c_plot],\n",
    "                      xlabel=\"Month\",\n",
    "                      ylabel=\"Days stored\",\n",
    "                      ax=ax2,\n",
    "                      width=0.85\n",
    "                      )\n",
    "\n",
    "plt.show()\n",
    "\n",
    "#fig.savefig(f\"{PLOT_DIR}01_general/4.2_systems_technologies/storage_time_months_{model}.png\")"
   ]
  },
  {
   "cell_type": "code",
   "execution_count": null,
   "metadata": {
    "pycharm": {
     "name": "#%%\n"
    }
   },
   "outputs": [],
   "source": [
    "res"
   ]
  },
  {
   "cell_type": "code",
   "execution_count": null,
   "metadata": {
    "pycharm": {
     "name": "#%%\n"
    }
   },
   "outputs": [],
   "source": [
    "res[9:12].mean()"
   ]
  },
  {
   "cell_type": "code",
   "execution_count": null,
   "metadata": {
    "pycharm": {
     "name": "#%%\n"
    }
   },
   "outputs": [],
   "source": [
    "c = \"H2\"\n",
    "\n",
    "start_date = \"2013-02-1 00:00:00\"\n",
    "end_date = \"2013-03-01 00:00:00\"\n",
    "period = n_no.generators_t.p.index[(n_no.generators_t.p.index >= start_date) & (n_no.generators_t.p.index <= end_date)]\n",
    "period = \"2013\"\n",
    "\n",
    "if c in n.storage_units.carrier.unique().tolist():\n",
    "    # state of charge (sum over locations: 2920 values)\n",
    "    charge = n.storage_units_t.state_of_charge.loc[:, n.storage_units.carrier == c].sum(axis=1)[period]\n",
    "\n",
    "elif c in n.stores.carrier.unique().tolist():\n",
    "    # state of charge (sum over locations: 2920 values)\n",
    "    charge = n.stores_t.e.loc[:, n.stores.carrier == c].sum(axis=1)[period]\n",
    "\n",
    "fig, (ax1, ax2, ax3) = plt.subplots(nrows=3,ncols=1, figsize=(12, 10))\n",
    "\n",
    "ax1.plot(charge - charge.mean(), color=\"blue\")\n",
    "ax1.set_title(f\"State of charge ({c})\")\n",
    "ax2.plot(charge.diff()[charge.diff() > 0], color=\"red\", lw=2) # .resample(\"3h\").mean()\n",
    "ax2.set_title(f\"Charging ({c})\")\n",
    "ax3.plot(charge.diff()[charge.diff() < 0].resample(\"3h\").mean(), color=\"gold\", lw=2)\n",
    "ax3.set_title(f\"Discharging ({c})\")\n",
    "fig.tight_layout()\n",
    "plt.show()"
   ]
  },
  {
   "cell_type": "code",
   "execution_count": null,
   "metadata": {
    "pycharm": {
     "name": "#%%\n"
    }
   },
   "outputs": [],
   "source": [
    "plt.plot(charge.diff())"
   ]
  },
  {
   "cell_type": "code",
   "execution_count": null,
   "metadata": {
    "pycharm": {
     "name": "#%%\n"
    }
   },
   "outputs": [],
   "source": [
    "c_plot = [\"biogas\", \"solid biomass\"]\n",
    "\n",
    "# days\n",
    "df = res[c_plot] / 24\n",
    "df.reset_index().plot(x=\"index\",\n",
    "                      y=c_plot, kind=\"bar\",\n",
    "                      rot=0,\n",
    "                      figsize=(12,4),\n",
    "                      color=[temp_colors[c] for c in c_plot],\n",
    "                      xlabel=\"Month\",\n",
    "                      ylabel=\"Days stored\",\n",
    "                      )\n",
    "\n",
    "plt.show()"
   ]
  },
  {
   "cell_type": "code",
   "execution_count": null,
   "metadata": {
    "pycharm": {
     "name": "#%%\n"
    }
   },
   "outputs": [],
   "source": [
    "# furier transform to detect seasonality of state of charge\n",
    "\n",
    "carriers = [\"battery\", \"PHS\", \"hydro\", \"gas\", \"H2\", \"Li ion\", \"biogas\", \"solid biomass\", \"oil\", \"home battery\" ]\n",
    "\n",
    "n = n_no\n",
    "period=\"2013\"\n",
    "\n",
    "res_charge_state = pd.DataFrame(index= charge.index)\n",
    "\n",
    "for c in carriers:\n",
    "        if c in n.storage_units.carrier.unique().tolist():\n",
    "            # state of charge (sum over locations: 2920 values)\n",
    "            charge = n.storage_units_t.state_of_charge.loc[:, n.storage_units.carrier == c].sum(axis=1)[period]\n",
    "\n",
    "        elif c in n.stores.carrier.unique().tolist():\n",
    "            # state of charge (sum over locations: 2920 values)\n",
    "            charge = n.stores_t.e.loc[:, n.stores.carrier == c].sum(axis=1)[period]\n",
    "\n",
    "        else:\n",
    "            print(f\"{c} does not exist!\")\n",
    "\n",
    "        res_charge_state[c] = charge\n"
   ]
  },
  {
   "cell_type": "code",
   "execution_count": null,
   "metadata": {
    "pycharm": {
     "name": "#%%\n"
    }
   },
   "outputs": [],
   "source": [
    "for c, d in res_charge_state.iteritems():\n",
    "    fig, ax = plt.subplots()\n",
    "    fft = abs(pd.Series(np.fft.rfft(d - d.mean()), index=np.fft.rfftfreq(len(d), d=1./2920))**2)\n",
    "    fft.plot(xlim=[0,1000], ylabel=f\"??? Density ({c})\", xlabel=\"Frequency (1/year)\")\n",
    "    print(c)\n",
    "    print(pd.DataFrame(fft).sort_values(by=0, ascending=False).head(20))"
   ]
  },
  {
   "cell_type": "markdown",
   "metadata": {
    "pycharm": {
     "name": "#%% md\n"
    }
   },
   "source": []
  },
  {
   "cell_type": "markdown",
   "metadata": {
    "pycharm": {
     "name": "#%% md\n"
    }
   },
   "source": [
    "#### Paper stuff: The role of storage technologies throughout the decarbonisation of the sector-coupled European Energy system\n",
    "- watch out for the scenario in paper"
   ]
  },
  {
   "cell_type": "code",
   "execution_count": null,
   "metadata": {
    "pycharm": {
     "name": "#%%\n"
    }
   },
   "outputs": [],
   "source": [
    "loads = [\"electricity\", \"industry electricity\", \"agriculture electricity\"]\n",
    "n = n_no\n",
    "\n",
    "# average hourly load (paper: 326 GWh)\n",
    "avhl = n.loads_t.p.loc[:, n.loads.carrier.isin(loads)].sum().sum() / 1000 * 3 / 365 / 24\n",
    "avhl"
   ]
  },
  {
   "cell_type": "code",
   "execution_count": null,
   "metadata": {
    "pycharm": {
     "name": "#%%\n"
    }
   },
   "outputs": [],
   "source": [
    "# max storage capacity / energy capacity\n",
    "\n",
    "res_stor_stst = pd.DataFrame(index = n_no.storage_units.carrier.unique().tolist() + n_no.stores.carrier.unique().tolist(), columns = [\"max_stor_cap\"])\n",
    "res_stor_exp = pd.DataFrame(index = n_h2.storage_units.carrier.unique().tolist() + n_h2.stores.carrier.unique().tolist(), columns = [\"max_stor_cap\"])\n",
    "\n",
    "\n",
    "for n, res_stor in zip([n_no, n_h2], [res_stor_stst, res_stor_exp]):\n",
    "    \n",
    "    for c in n.storage_units.carrier.unique().tolist():\n",
    "        index = n.storage_units[n.storage_units.carrier == c].index\n",
    "        res_stor.loc[c, \"max_stor_cap\"] = (n.storage_units.max_hours * n.storage_units.p_nom_opt)[index].sum() / 1000\n",
    "\n",
    "    for c in n.stores.carrier.unique().tolist():\n",
    "        res_stor.loc[c, \"max_stor_cap\"] = n.stores.e_nom_opt[n.stores.carrier == c].sum() / 1000"
   ]
  },
  {
   "cell_type": "code",
   "execution_count": null,
   "metadata": {
    "pycharm": {
     "name": "#%%\n"
    }
   },
   "outputs": [],
   "source": [
    "# TWh (STST)\n",
    "res_stor_stst.loc[[\"hydro\", \"PHS\", \"H2\", \"battery\", \"Li ion\"]] / 1000"
   ]
  },
  {
   "cell_type": "code",
   "execution_count": null,
   "metadata": {
    "pycharm": {
     "name": "#%%\n"
    }
   },
   "outputs": [],
   "source": [
    "# TWh (EXP)\n",
    "res_stor_exp.loc[[\"hydro\", \"PHS\", \"H2\", \"battery\", \"Li ion\"]] / 1000"
   ]
  },
  {
   "cell_type": "markdown",
   "metadata": {
    "pycharm": {
     "name": "#%% md\n"
    }
   },
   "source": [
    "Values from paper:\n",
    "\n",
    "|technology   |energy capacity   |power capacity   | discharge time | ratio (energy capacity / avhl) | ratio (pow cap/avhl)\n",
    "|---|---|---|---|---|---|\n",
    "|'PHS'   |285 GWh   |47.5 GW   |   | ||\n",
    "|'Hydro'   |   |   |   | ||\n",
    "|'H2'   |6324 GWh   |156.48 GW  |   | ||\n",
    "|'Battery'   |456.4 GWh   |81.5 GW   | 5.6h  | 1.4 | 0.25|\n",
    "|'Li-ion'   |6100 GWh   | 1300 GW  |   | 19.4 ||\n",
    "\n",
    "For 95% CO2 reductions, the optimal system includes electric batteries and hydrogen storage energy capacities equivalent to 1.4 and 19.4 times the average hourly electricity demand."
   ]
  },
  {
   "cell_type": "code",
   "execution_count": null,
   "metadata": {
    "pycharm": {
     "name": "#%%\n"
    }
   },
   "outputs": [],
   "source": [
    "# Power capacity (GW)\n",
    "\n",
    "carriers = [\"hydro\", \"PHS\", \"battery discharger\", \"V2G\"]\n",
    "\n",
    "res_pow_stst = pd.DataFrame(index = carriers, columns = [\"max_stor_cap\"])\n",
    "res_pow_exp = pd.DataFrame(index = carriers, columns = [\"max_stor_cap\"])\n",
    "\n",
    "\n",
    "for n, res_pow in zip([n_no, n_h2], [res_pow_stst, res_pow_exp]):\n",
    "    \n",
    "    for c in [\"hydro\", \"PHS\"]:\n",
    "        res_pow.loc[c, \"max_stor_cap\"] = n.storage_units.p_nom_opt[n.storage_units.carrier == \"hydro\"].sum() / 1000\n",
    "\n",
    "    for c in [\"battery discharger\", \"V2G\"]:\n",
    "        res_pow.loc[c, \"max_stor_cap\"] = n.links[n.links.carrier == c].p_nom_opt.sum() / 1000\n"
   ]
  },
  {
   "cell_type": "code",
   "execution_count": null,
   "metadata": {
    "pycharm": {
     "name": "#%%\n"
    }
   },
   "outputs": [],
   "source": [
    "res_pow_stst"
   ]
  },
  {
   "cell_type": "code",
   "execution_count": null,
   "metadata": {
    "pycharm": {
     "name": "#%%\n"
    }
   },
   "outputs": [],
   "source": [
    "res_pow_exp"
   ]
  },
  {
   "cell_type": "code",
   "execution_count": null,
   "metadata": {
    "pycharm": {
     "name": "#%%\n"
    }
   },
   "outputs": [],
   "source": [
    "# STST discharge time (h)\n",
    "res_stor_stst.loc[[\"hydro\", \"PHS\", \"battery\", \"Li ion\"]] # GWh\n",
    "res_pow_stst.loc[[\"hydro\", \"PHS\", \"battery discharger\", \"V2G\"]] # GW\n",
    "\n",
    "res_stor_stst.loc[[\"hydro\", \"PHS\", \"battery\", \"Li ion\"]].values / res_pow_stst.loc[[\"hydro\", \"PHS\", \"battery discharger\", \"V2G\"]].values"
   ]
  },
  {
   "cell_type": "code",
   "execution_count": null,
   "metadata": {
    "pycharm": {
     "name": "#%%\n"
    }
   },
   "outputs": [],
   "source": [
    "# EXP discharge time (h)\n",
    "res_stor_exp.loc[[\"hydro\", \"PHS\", \"battery\", \"Li ion\"]].values / res_pow_exp.loc[[\"hydro\", \"PHS\", \"battery discharger\", \"V2G\"]].values"
   ]
  },
  {
   "cell_type": "code",
   "execution_count": null,
   "metadata": {
    "pycharm": {
     "name": "#%%\n"
    }
   },
   "outputs": [],
   "source": [
    "# energy capacity ratio (normalised by avhl)\n",
    "res_stor_stst.loc[[\"hydro\", \"PHS\", \"H2\", \"battery\", \"Li ion\"]] / avhl"
   ]
  },
  {
   "cell_type": "code",
   "execution_count": null,
   "metadata": {
    "pycharm": {
     "name": "#%%\n"
    }
   },
   "outputs": [],
   "source": [
    "# energy capacity ratio (normalised by avhl)\n",
    "res_stor_exp.loc[[\"hydro\", \"PHS\", \"H2\", \"battery\", \"Li ion\"]] / avhl"
   ]
  },
  {
   "cell_type": "code",
   "execution_count": null,
   "metadata": {
    "pycharm": {
     "name": "#%%\n"
    }
   },
   "outputs": [],
   "source": [
    "# power capacity ratio (normalised by avhl)\n",
    "res_pow_stst.loc[[\"hydro\", \"PHS\", \"battery discharger\", \"V2G\"]] / avhl"
   ]
  },
  {
   "cell_type": "code",
   "execution_count": null,
   "metadata": {
    "pycharm": {
     "name": "#%%\n"
    }
   },
   "outputs": [],
   "source": [
    "# power capacity ratio (normalised by avhl)\n",
    "res_pow_exp.loc[[\"hydro\", \"PHS\", \"battery discharger\", \"V2G\"]] / avhl"
   ]
  },
  {
   "cell_type": "code",
   "execution_count": null,
   "metadata": {
    "pycharm": {
     "name": "#%%\n"
    }
   },
   "outputs": [],
   "source": [
    "# hydrogen power capacity (paper: 156.48)\n",
    "# How is that calculated for a store that has no single discharger?"
   ]
  }
 ],
 "metadata": {
  "kernelspec": {
   "display_name": "Python 3 (ipykernel)",
   "language": "python",
   "name": "python3"
  },
  "language_info": {
   "codemirror_mode": {
    "name": "ipython",
    "version": 3
   },
   "file_extension": ".py",
   "mimetype": "text/x-python",
   "name": "python",
   "nbconvert_exporter": "python",
   "pygments_lexer": "ipython3",
   "version": "3.10.6"
  }
 },
 "nbformat": 4,
 "nbformat_minor": 1
}
