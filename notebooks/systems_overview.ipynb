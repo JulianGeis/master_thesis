{
 "cells": [
  {
   "cell_type": "raw",
   "metadata": {
    "pycharm": {
     "name": ""
    }
   },
   "source": [
    "##%% md\n",
    "# Plots for section 4. & 4.2 (systems)"
   ]
  },
  {
   "cell_type": "code",
   "execution_count": null,
   "metadata": {
    "pycharm": {
     "name": "#%%\n"
    }
   },
   "outputs": [],
   "source": [
    "# TODO\n",
    "# Visualizing the demand?\n",
    "# Share of annual output per storage technology\n",
    "# more comprehensive correlation analysis: n technologies with most generation / consumption and their generation and capacity correlation"
   ]
  },
  {
   "cell_type": "markdown",
   "metadata": {
    "pycharm": {
     "name": "#%% md\n"
    }
   },
   "source": [
    "## Imports"
   ]
  },
  {
   "cell_type": "code",
   "execution_count": null,
   "metadata": {
    "pycharm": {
     "name": "#%%\n"
    }
   },
   "outputs": [],
   "source": [
    "import pandas as pd\n",
    "import geopandas as gpd\n",
    "import numpy as np\n",
    "import pypsa\n",
    "import math\n",
    "import seaborn as sns\n",
    "import cartopy\n",
    "import cartopy.crs as ccrs\n",
    "import matplotlib\n",
    "import matplotlib.colors as mcolors\n",
    "import matplotlib.pyplot as plt\n",
    "import warnings\n",
    "warnings.filterwarnings(\"ignore\")\n",
    "from shapely.geometry import Point, LineString\n",
    "from datetime import datetime\n",
    "import matplotlib.patheffects as pe\n",
    "import matplotlib.colors as mcolors\n",
    "\n",
    "from datetime import date, datetime, time, timedelta\n",
    "\n",
    "# imported own functions\n",
    "from utils import market_values, market_values_by_time_index, nodal_balance, capacity, capacity_links, capacity_storage_units, get_condense_sum, nodal_balance, generation, generation_links, generation_storage_units, market_values_storage_units, market_values_links, time_stored_LIFO\n",
    "\n",
    "# imported own definitions\n",
    "from utils import carrier_colors, carrier_renaming, carrier_renaming_reverse, resistive_heater, gas_boiler, heat_pump, water_tanks_charger, water_tanks_discharger, solar_thermal\n",
    "\n",
    "# general variables\n",
    "font1 = {'fontname':'Calibri'}\n",
    "PLOT_DIR = 'C:/Users/Julian/Studies/Master/01 TU Berlin/3. Semester - Masterarbeit/MA Marktwerte FEE/data/plots/'\n",
    "onshore_regions = gpd.read_file(\"../data/external/regions_onshore_elec_s_181.geojson\")\n",
    "offshore_regions = gpd.read_file(\"../data/external/regions_offshore_elec_s_181.geojson\")\n",
    "onshore_regions = onshore_regions.set_index('name')\n",
    "offshore_regions = offshore_regions.set_index('name')"
   ]
  },
  {
   "cell_type": "code",
   "execution_count": null,
   "metadata": {
    "pycharm": {
     "name": "#%%\n"
    }
   },
   "outputs": [],
   "source": [
    "# Network imports\n",
    "n_no =pypsa.Network(\"../data/raw/elec_s_181_lv1.0__Co2L0-3H-T-H-B-I-A-solar+p3-linemaxext10-noH2network_2030.nc\")\n",
    "n_h2 =pypsa.Network(\"../data/raw/elec_s_181_lvopt__Co2L0-3H-T-H-B-I-A-solar+p3-linemaxext10_2030.nc\")"
   ]
  },
  {
   "cell_type": "code",
   "execution_count": null,
   "metadata": {
    "pycharm": {
     "name": "#%%\n"
    }
   },
   "outputs": [],
   "source": [
    "# Notebook Definitions\n",
    "c1_groups = [resistive_heater, gas_boiler, heat_pump, water_tanks_charger, water_tanks_discharger, solar_thermal]\n",
    "c1_groups_name = [\"resistive heater\", \"gas boiler\", \"heat pump\", \"water tanks charger\", \"water tanks discharger\", \"solar thermal\"]\n",
    "markers =[\"v\", \"^\", \"<\", \">\", \"1\", \"2\", \"3\", \"4\", \"*\", \"+\", \"d\", \"o\", \"|\", \"s\", \"P\", \"p\", \"h\"]"
   ]
  },
  {
   "cell_type": "code",
   "execution_count": null,
   "metadata": {
    "pycharm": {
     "name": "#%%\n"
    }
   },
   "outputs": [],
   "source": [
    "# Notebook Functions\n",
    "\n",
    "def get_df(df_no, df_h2, carriers):\n",
    "    result = pd.DataFrame(index = [\"STST\", \"EXP\"])\n",
    "\n",
    "    for c in carriers:\n",
    "        result.loc[\"STST\" , c] = df_no[c].values\n",
    "        result.loc[\"EXP\" , c] = df_h2[c].values\n",
    "    return result\n",
    "\n",
    "def c_gen(carrier_list, network):\n",
    "    result = []\n",
    "    for c in carrier_list:\n",
    "        if c in network.generators.carrier.unique().tolist():\n",
    "            result.append(c)\n",
    "    return result\n",
    "\n",
    "def c_link(carrier_list, network):\n",
    "    result = []\n",
    "    for c in carrier_list:\n",
    "        if c in network.links.carrier.unique().tolist():\n",
    "            result.append(c)\n",
    "    return result\n",
    "\n",
    "def c_su(carrier_list, network):\n",
    "    result = []\n",
    "    for c in carrier_list:\n",
    "        if c in network.storage_units.carrier.unique().tolist():\n",
    "            result.append(c)\n",
    "    return result"
   ]
  },
  {
   "cell_type": "code",
   "execution_count": null,
   "metadata": {
    "pycharm": {
     "name": "#%%\n"
    }
   },
   "outputs": [],
   "source": [
    "# Regions\n",
    "\n",
    "onshore_regions['coords'] = onshore_regions['geometry'].apply(lambda x: x.representative_point().coords[:])\n",
    "onshore_regions['coords'] = [coords[0] for coords in onshore_regions['coords']]\n",
    "onshore_regions[\"name\"] = onshore_regions.index\n",
    "offshore_regions['coords'] = offshore_regions['geometry'].apply(lambda x: x.representative_point().coords[:])\n",
    "offshore_regions['coords'] = [coords[0] for coords in offshore_regions['coords']]\n",
    "offshore_regions[\"name\"] = offshore_regions.index"
   ]
  },
  {
   "cell_type": "markdown",
   "metadata": {
    "pycharm": {
     "name": "#%% md\n"
    }
   },
   "source": [
    "## CALC"
   ]
  },
  {
   "cell_type": "code",
   "execution_count": null,
   "metadata": {
    "pycharm": {
     "name": "#%%\n"
    }
   },
   "outputs": [],
   "source": [
    "# calc market values, generation, lmps, capacity factors for generators, links and storage units\n",
    "\n",
    "for n in [n_no, n_h2]:\n",
    "    df_regions_onshore = onshore_regions.copy()\n",
    "    df_regions_offshore = offshore_regions.copy()\n",
    "\n",
    "    # function for carriers in n.generators.carrier.unique() #13\n",
    "    for carrier in n.generators.carrier.unique():\n",
    "        df_regions_onshore[f\"{carrier}_mv\"] = market_values(n, carrier)\n",
    "        df_regions_offshore[f\"{carrier}_mv\"] = market_values(n, carrier)\n",
    "        # generation in TWh (does this have to be multiplied by 3??\n",
    "        df_regions_onshore[f\"{carrier}_gen\"] = generation(n, carrier) / 1000\n",
    "        df_regions_offshore[f\"{carrier}_gen\"] = generation(n, carrier) / 1000\n",
    "        # lmps\n",
    "        # capacity factors This calculation is correct? as capacity is multiplied by 2920 is the same as multiplying the generation by 3 and then dividing it by the capacity times 8760 (as cap is in MWh?)\n",
    "        df_regions_onshore[f\"{carrier}_cf\"] = generation(n, carrier) / (capacity(n, carrier) *2920)\n",
    "        df_regions_offshore[f\"{carrier}_cf\"] = generation(n, carrier) / (capacity(n, carrier) *2920)\n",
    "\n",
    "\n",
    "    # function for carriers in n.links.carrier.unique() #53\n",
    "    for carrier in n.links.carrier.unique():\n",
    "        df_regions_onshore[f\"{carrier}_mv\"] = market_values_links(n, carrier)\n",
    "        df_regions_onshore[f\"{carrier}_gen\"] = generation_links(n, carrier) / 1000\n",
    "        df_regions_onshore[f\"{carrier}_cf\"] = generation_links(n, carrier) / (capacity_links(n, carrier) *2920)\n",
    "\n",
    "    # function for carriers in n.storage_units.carrier.unique() #2\n",
    "    for carrier in n.storage_units.carrier.unique():\n",
    "        df_regions_onshore[f\"{carrier}_mv\"] = market_values_storage_units(n, carrier)\n",
    "        df_regions_onshore[f\"{carrier}_gen\"] = generation_storage_units(n, carrier) / 1000\n",
    "        # capacity factors (both generation and consumption(loading) is considered\n",
    "        gen = abs(n.storage_units_t.p.loc[:, n.storage_units.carrier == carrier])\n",
    "        gen.columns = gen.columns.map(n.storage_units.bus)\n",
    "        gen.columns = gen.columns.map(n.buses.location)\n",
    "        df_regions_onshore[f\"{carrier}_cf\"] = gen.sum() / (capacity_storage_units(n, carrier) *2920)\n",
    "\n",
    "    # set market values to nan where generation in corresponding region is lower than % quantile\n",
    "    qt = 0.2\n",
    "    for carrier in (n.generators.carrier.unique().tolist() +\n",
    "                    n.links.carrier.unique().tolist() +\n",
    "                    n.storage_units.carrier.unique().tolist()):\n",
    "        index = df_regions_onshore[f\"{carrier}_gen\"] <= np.quantile(df_regions_onshore[f\"{carrier}_gen\"], qt)\n",
    "        df_regions_onshore[f\"{carrier}_mv\"][index] = np.nan\n",
    "\n",
    "    # calc lmps at the buses (lmps that are only present for EU (e.g. oil) are nan at the moment)\n",
    "    # TODO: decide if EU lmps are used as lmp for all regions\n",
    "    for carrier_bus in n.buses.carrier.unique():\n",
    "        # index would be same names as the bus (not the location as it is in the index of\n",
    "        # df_regions_onshore so far -> map location to make sure the right lmp is set\n",
    "        locs = n.buses.location[n.buses[n.buses.carrier == carrier_bus].index]\n",
    "        lmps = n.buses_t.marginal_price[n.buses[n.buses.carrier == carrier_bus].index].mean()\n",
    "        df = pd.concat([lmps, locs], axis=1).rename(columns={0: f\"{carrier_bus}_lmp\"})\n",
    "        df.set_index(\"location\", inplace=True)\n",
    "        if df.size == 1:\n",
    "            if df.index == \"EU\":\n",
    "                df = pd.DataFrame(np.repeat(df.values, 181), index=df_regions_onshore.index, columns=[f\"{carrier_bus}_lmp\"])\n",
    "                df_regions_onshore[f\"{carrier_bus}_lmp\"] = df[f\"{carrier_bus}_lmp\"]\n",
    "        else:\n",
    "            df_regions_onshore[f\"{carrier_bus}_lmp\"] = df[f\"{carrier_bus}_lmp\"]\n",
    "\n",
    "    if n == n_no:\n",
    "        df_no_ons = df_regions_onshore\n",
    "        df_no_off = df_regions_offshore\n",
    "\n",
    "    if n == n_h2:\n",
    "        df_h2_ons = df_regions_onshore\n",
    "        df_h2_off = df_regions_offshore\n",
    "\n",
    "df_no_ons.head()"
   ]
  },
  {
   "cell_type": "code",
   "execution_count": null,
   "metadata": {
    "pycharm": {
     "name": "#%%\n"
    }
   },
   "outputs": [],
   "source": [
    "# calc market values, generation, lmps, capacity factors for generators, links and storage units\n",
    "df_regions_onshore = onshore_regions.copy()\n",
    "df_regions_offshore = offshore_regions.copy()\n",
    "n = n_h2\n",
    "\n",
    "# function for carriers in n.generators.carrier.unique() #13\n",
    "for carrier in n.generators.carrier.unique():\n",
    "    df_regions_onshore[f\"{carrier}_mv\"] = market_values(n, carrier)\n",
    "    df_regions_offshore[f\"{carrier}_mv\"] = market_values(n, carrier)\n",
    "    # generation in TWh\n",
    "    df_regions_onshore[f\"{carrier}_gen\"] = generation(n, carrier) / 1000\n",
    "    df_regions_offshore[f\"{carrier}_gen\"] = generation(n, carrier) / 1000\n",
    "    # lmps\n",
    "    df_regions_onshore[f\"{carrier}_gen\"] = generation(n, carrier) / 1000\n",
    "    df_regions_offshore[f\"{carrier}_gen\"] = generation(n, carrier) / 1000\n",
    "\n",
    "# function for carriers in n.links.carrier.unique() #53\n",
    "for carrier in n.links.carrier.unique():\n",
    "    df_regions_onshore[f\"{carrier}_mv\"] = market_values_links(n, carrier)\n",
    "    df_regions_onshore[f\"{carrier}_gen\"] = generation_links(n, carrier) / 1000\n",
    "\n",
    "# function for carriers in n.storage_units.carrier.unique() #2\n",
    "for carrier in n.storage_units.carrier.unique():\n",
    "    df_regions_onshore[f\"{carrier}_mv\"] = market_values_storage_units(n, carrier)\n",
    "    df_regions_onshore[f\"{carrier}_gen\"] = generation_storage_units(n, carrier) / 1000\n",
    "\n",
    "# set market values to nan where generation in corresponding region is lower than % quantile\n",
    "qt = 0.2\n",
    "for carrier in (n.generators.carrier.unique().tolist() +\n",
    "                n.links.carrier.unique().tolist() +\n",
    "                n.storage_units.carrier.unique().tolist()):\n",
    "    index = df_regions_onshore[f\"{carrier}_gen\"] <= np.quantile(df_regions_onshore[f\"{carrier}_gen\"], qt)\n",
    "    df_regions_onshore[f\"{carrier}_mv\"][index] = np.nan\n",
    "\n",
    "# calc lmps at the buses (lmps that are only present for EU (e.g. oil) are nan at the moment)\n",
    "# TODO: decide if EU lmps are used as lmp for all regions\n",
    "for carrier_bus in n.buses.carrier.unique():\n",
    "    # index would be same names as the bus (not the location as it is in the index of\n",
    "    # df_regions_onshore so far -> map location to make sure the right lmp is set\n",
    "    locs = n.buses.location[n.buses[n.buses.carrier == carrier_bus].index]\n",
    "    lmps = n.buses_t.marginal_price[n.buses[n.buses.carrier == carrier_bus].index].mean()\n",
    "    df = pd.concat([lmps, locs], axis=1).rename(columns={0: f\"{carrier_bus}_lmp\"})\n",
    "    df.set_index(\"location\", inplace=True)\n",
    "    if df.size == 1:\n",
    "        if df.index == \"EU\":\n",
    "            df = pd.DataFrame(np.repeat(df.values, 181), index=df_regions_onshore.index, columns=[f\"{carrier_bus}_lmp\"])\n",
    "            df_regions_onshore[f\"{carrier_bus}_lmp\"] = df[f\"{carrier_bus}_lmp\"]\n",
    "    else:\n",
    "        df_regions_onshore[f\"{carrier_bus}_lmp\"] = df[f\"{carrier_bus}_lmp\"]\n",
    "\n",
    "df_regions_onshore.head(3)\n",
    "# df_regions_offshore.head(3)\n",
    "\n",
    "df_h2_ons = df_regions_onshore\n",
    "df_h2_off = df_regions_offshore"
   ]
  },
  {
   "cell_type": "code",
   "execution_count": null,
   "metadata": {
    "pycharm": {
     "name": "#%%\n"
    }
   },
   "outputs": [],
   "source": [
    "#assert 0"
   ]
  },
  {
   "cell_type": "markdown",
   "metadata": {
    "pycharm": {
     "name": "#%% md\n"
    }
   },
   "source": [
    "# 4.1 Overview"
   ]
  },
  {
   "cell_type": "markdown",
   "metadata": {
    "pycharm": {
     "name": "#%% md\n"
    }
   },
   "source": [
    "## Network Overview"
   ]
  },
  {
   "cell_type": "code",
   "execution_count": null,
   "metadata": {
    "pycharm": {
     "name": "#%%\n"
    }
   },
   "outputs": [],
   "source": [
    "print(n_no)"
   ]
  },
  {
   "cell_type": "code",
   "execution_count": null,
   "metadata": {
    "pycharm": {
     "name": "#%%\n"
    }
   },
   "outputs": [],
   "source": [
    "print(n_h2)"
   ]
  },
  {
   "cell_type": "markdown",
   "metadata": {
    "pycharm": {
     "name": "#%% md\n"
    }
   },
   "source": [
    "### Electricity network"
   ]
  },
  {
   "cell_type": "code",
   "execution_count": null,
   "metadata": {
    "pycharm": {
     "name": "#%%\n"
    }
   },
   "outputs": [],
   "source": [
    "m_no = n_no.copy()\n",
    "m_no.mremove(\"Bus\",m_no.buses[m_no.buses.x == 0].index )\n",
    "\n",
    "m_h2 = n_h2.copy()\n",
    "m_h2.mremove(\"Bus\",m_h2.buses[m_h2.buses.x == 0].index )"
   ]
  },
  {
   "cell_type": "code",
   "execution_count": null,
   "metadata": {
    "pycharm": {
     "name": "#%%\n"
    }
   },
   "outputs": [],
   "source": [
    "fig, ax = plt.subplots(1, 1, subplot_kw={\"projection\": ccrs.EqualEarth()}, figsize=(8, 6))\n",
    "\n",
    "bus_locs = pd.Index(m_no.buses.location.unique())\n",
    "load_distribution = m_no.loads_t.p[bus_locs].sum()/m_no.loads_t.p[bus_locs].sum().max()\n",
    "\n",
    "m_no.plot(bus_sizes=1*load_distribution, ax=ax, projection=ccrs.EqualEarth())\n",
    "ax.set_title(\"Load distribution\", pad=20)\n",
    "plt.show()\n",
    "# same for m_h2"
   ]
  },
  {
   "cell_type": "markdown",
   "metadata": {
    "pycharm": {
     "name": "#%% md\n"
    }
   },
   "source": []
  },
  {
   "cell_type": "markdown",
   "metadata": {
    "pycharm": {
     "name": "#%% md\n"
    }
   },
   "source": []
  },
  {
   "cell_type": "code",
   "execution_count": null,
   "metadata": {
    "pycharm": {
     "name": "#%%\n"
    }
   },
   "outputs": [],
   "source": [
    "fig, (ax1, ax2) = plt.subplots(1, 2, subplot_kw={\"projection\": ccrs.EqualEarth()}, figsize=(14, 10))\n",
    "\n",
    "# STST\n",
    "hvac_weights = n_no.lines.s_nom_opt / n_no.lines.s_nom_opt.max() * 5\n",
    "hvdc_weights = n_no.links.p_nom_opt.replace(0, 1) / n_no.links.p_nom_opt.max() * 50\n",
    "\n",
    "m_no.plot(ax=ax1, projection=ccrs.EqualEarth(), bus_colors=\"black\", line_colors=\"gold\", link_colors=\"deepskyblue\", line_widths=hvac_weights, link_widths=hvdc_weights )\n",
    "pypsa.plot.add_legend_patches(ax=ax1, labels=[\"HVAC lines\", \"HVDC lines\"], colors=[\"gold\",\"deepskyblue\"], legend_kw={'loc': 'upper left'})\n",
    "ax1.set_title(\"Electricity grid (STST)\", pad=10)\n",
    "\n",
    "# EXP\n",
    "hvac_weights = n_h2.lines.s_nom_opt / n_h2.lines.s_nom_opt.max() * 5\n",
    "hvdc_weights = n_h2.links.p_nom_opt.replace(0, 1) / n_h2.links.p_nom_opt.max() * 50\n",
    "\n",
    "m_h2.plot(ax=ax2, projection=ccrs.EqualEarth(), bus_colors=\"black\", line_colors=\"gold\", link_colors=\"deepskyblue\", line_widths=hvac_weights, link_widths=hvdc_weights )\n",
    "pypsa.plot.add_legend_patches(ax=ax2, labels=[\"HVAC lines\", \"HVDC lines\"], colors=[\"gold\",\"deepskyblue\"], legend_kw={'loc': 'upper left'})\n",
    "ax2.set_title(\"Electricity grid (EXP)\", pad=10)\n",
    "\n",
    "plt.show()"
   ]
  },
  {
   "cell_type": "code",
   "execution_count": null,
   "metadata": {
    "pycharm": {
     "name": "#%%\n"
    }
   },
   "outputs": [],
   "source": [
    "# AC lines"
   ]
  },
  {
   "cell_type": "code",
   "execution_count": null,
   "metadata": {
    "pycharm": {
     "name": "#%%\n"
    }
   },
   "outputs": [],
   "source": [
    "# all AC network lines are froms same type\n",
    "n_no.lines.type.unique()"
   ]
  },
  {
   "cell_type": "code",
   "execution_count": null,
   "metadata": {
    "pycharm": {
     "name": "#%%\n"
    }
   },
   "outputs": [],
   "source": [
    "# Optimised capacity for apparent power: capacities in megavolt amperes (MVA)\n",
    "n_h2.lines.s_nom_opt.sum()\n",
    "n_no.lines.s_nom_opt.sum()"
   ]
  },
  {
   "cell_type": "code",
   "execution_count": null,
   "metadata": {
    "pycharm": {
     "name": "#%%\n"
    }
   },
   "outputs": [],
   "source": [
    "# sum of all capacities of all AC lines is almost twice as high for the second network\n",
    "n_h2.lines.s_nom_opt.sum() / n_no.lines.s_nom_opt.sum()"
   ]
  },
  {
   "cell_type": "code",
   "execution_count": null,
   "metadata": {
    "pycharm": {
     "name": "#%%\n"
    }
   },
   "outputs": [],
   "source": [
    "# DC cables"
   ]
  },
  {
   "cell_type": "code",
   "execution_count": null,
   "metadata": {
    "pycharm": {
     "name": "#%%\n"
    }
   },
   "outputs": [],
   "source": [
    "n_no.links[n_no.links.carrier == \"DC\"].p_nom_opt.sum()"
   ]
  },
  {
   "cell_type": "code",
   "execution_count": null,
   "metadata": {
    "pycharm": {
     "name": "#%%\n"
    }
   },
   "outputs": [],
   "source": [
    "n_h2.links[n_h2.links.carrier == \"DC\"].p_nom_opt.sum()"
   ]
  },
  {
   "cell_type": "code",
   "execution_count": null,
   "metadata": {
    "pycharm": {
     "name": "#%%\n"
    }
   },
   "outputs": [],
   "source": [
    "n_h2.links[n_h2.links.carrier == \"DC\"].p_nom_opt.sum() / n_no.links[n_no.links.carrier == \"DC\"].p_nom_opt.sum()"
   ]
  },
  {
   "cell_type": "code",
   "execution_count": null,
   "metadata": {
    "pycharm": {
     "name": "#%%\n"
    }
   },
   "outputs": [],
   "source": [
    "# overall length of network"
   ]
  },
  {
   "cell_type": "code",
   "execution_count": null,
   "metadata": {
    "pycharm": {
     "name": "#%%\n"
    }
   },
   "outputs": [],
   "source": [
    "# AC lines (km)\n",
    "n_no.lines.length.sum()"
   ]
  },
  {
   "cell_type": "code",
   "execution_count": null,
   "metadata": {
    "pycharm": {
     "name": "#%%\n"
    }
   },
   "outputs": [],
   "source": [
    "# DC lines (km)\n",
    "n_no.links[n_no.links.carrier == \"DC\"].length.sum()"
   ]
  },
  {
   "cell_type": "code",
   "execution_count": null,
   "metadata": {
    "pycharm": {
     "name": "#%%\n"
    }
   },
   "outputs": [],
   "source": [
    "# AC lines (km)\n",
    "n_h2.lines.length.sum()"
   ]
  },
  {
   "cell_type": "code",
   "execution_count": null,
   "metadata": {
    "pycharm": {
     "name": "#%%\n"
    }
   },
   "outputs": [],
   "source": [
    "n_h2.links[n_h2.links.carrier == \"DC\"].length.sum()"
   ]
  },
  {
   "cell_type": "markdown",
   "metadata": {
    "pycharm": {
     "name": "#%% md\n"
    }
   },
   "source": [
    "Findings:\n",
    "- electricity network has the same lines in both scenarios, difference is in the capacity\n",
    "- the lines (AC, DC) also have the same length\n",
    "- The capacity of the AC lines are twice as high in the h2 case\n",
    "- The capacity of the DC lines are 11 times higher than in the no case"
   ]
  },
  {
   "cell_type": "markdown",
   "metadata": {
    "pycharm": {
     "name": "#%% md\n"
    }
   },
   "source": [
    "### Hydrogen network"
   ]
  },
  {
   "cell_type": "code",
   "execution_count": null,
   "metadata": {
    "pycharm": {
     "name": "#%%\n"
    }
   },
   "outputs": [],
   "source": [
    "l_h2 = n_h2.copy()\n",
    "\n",
    "locs = l_h2.buses[l_h2.buses.carrier == \"AC\"][[\"x\",\"y\"]]\n",
    "mapping = pd.DataFrame(l_h2.buses[l_h2.buses.carrier == \"H2\"].location)\n",
    "mapping[\"bus\"] = mapping.index\n",
    "mapping.set_index(\"location\", inplace =True)\n",
    "locs.index = locs.index.map(mapping.to_dict()['bus'])\n",
    "l_h2.buses.x[l_h2.buses.carrier == \"H2\"] = locs.x\n",
    "l_h2.buses.y[l_h2.buses.carrier == \"H2\"] = locs.y\n",
    "\n",
    "l_h2.mremove(\"Bus\",l_h2.buses[l_h2.buses.carrier != \"H2\"].index)\n",
    "\n",
    "# write LineStrign into pipes (links)\n",
    "h2_pipes = l_h2.links[l_h2.links.carrier.isin([\"H2 pipeline retrofitted\" , \"H2 pipeline\"])].index\n",
    "other_links = l_h2.links[-l_h2.links.carrier.isin([\"H2 pipeline retrofitted\" , \"H2 pipeline\"])].index\n",
    "\n",
    "for pipe in h2_pipes:\n",
    "    loc1 = l_h2.buses.loc[l_h2.links.loc[pipe].bus0][[\"x\", \"y\"]]\n",
    "    loc2 = l_h2.buses.loc[l_h2.links.loc[pipe].bus1][[\"x\", \"y\"]]\n",
    "    l_h2.links.geometry.loc[pipe] = LineString([Point(loc1), Point(loc2)]).wkt\n",
    "\n",
    "l_h2.mremove(\"Link\", other_links)\n",
    "l_h2.mremove(\"Line\", l_h2.lines.index)"
   ]
  },
  {
   "cell_type": "code",
   "execution_count": null,
   "metadata": {
    "pycharm": {
     "name": "#%%\n"
    }
   },
   "outputs": [],
   "source": [
    "fig, ax = plt.subplots(1, 1, subplot_kw={\"projection\": ccrs.EqualEarth()}, figsize=(8, 6))\n",
    "\n",
    "l_h2.plot(ax=ax, link_colors=\"pink\", link_widths=0.8,  projection=ccrs.EqualEarth())\n",
    "pypsa.plot.add_legend_patches(ax=ax, labels=[\"hydrogen pipes\"], colors=[\"pink\"], legend_kw={'loc': 'upper left'})\n",
    "ax.set_title(\"H2 network\", pad=20)\n",
    "plt.show()"
   ]
  },
  {
   "cell_type": "code",
   "execution_count": null,
   "metadata": {
    "pycharm": {
     "name": "#%%\n"
    }
   },
   "outputs": [],
   "source": [
    "# adding colorbar to this\n",
    "\n",
    "fig, ax = plt.subplots(1, 1, subplot_kw={\"projection\": ccrs.EqualEarth()}, figsize=(8, 6))\n",
    "\n",
    "l_h2.links.p_max_pu\n",
    "l_h2.plot(ax=ax, link_colors=l_h2.links.p_nom_opt, link_cmap=plt.get_cmap(\"magma_r\"), link_widths=np.log10(l_h2.links.p_nom_opt)/2,  projection=ccrs.EqualEarth())\n",
    "ax.set_title(\"H2 network\", pad=10)\n",
    "plt.show()"
   ]
  },
  {
   "cell_type": "code",
   "execution_count": null,
   "metadata": {
    "pycharm": {
     "name": "#%%\n"
    }
   },
   "outputs": [],
   "source": [
    "# with colorbar\n",
    "\n",
    "fig, ax = plt.subplots(1, 1, subplot_kw={\"projection\": ccrs.EqualEarth()}, figsize=(8, 6))\n",
    "\n",
    "# GW\n",
    "link_loading = l_h2.links.p_nom_opt / 1000\n",
    "\n",
    "cmap= plt.cm.magma_r\n",
    "norm = mcolors.Normalize(vmin=link_loading.min(), vmax=link_loading.max())\n",
    "sm = plt.cm.ScalarMappable(cmap=cmap, norm=norm)\n",
    "sm.set_array([])\n",
    "colors = list(map(mcolors.to_hex, cmap(norm(link_loading))))\n",
    "\n",
    "l_h2.plot(ax=ax, link_colors=colors, link_widths=2,  projection=ccrs.EqualEarth())\n",
    "plt.colorbar(sm, orientation='vertical', shrink=0.9, ax=ax, label=\"Capacity in GW\")\n",
    "plt.title(\"Hydrogen network (EXP)\", pad=10)\n",
    "\n",
    "plt.show()"
   ]
  },
  {
   "cell_type": "code",
   "execution_count": null,
   "metadata": {
    "pycharm": {
     "name": "#%%\n"
    }
   },
   "outputs": [],
   "source": [
    "l_h2.links.p_nom_opt.max()"
   ]
  },
  {
   "cell_type": "code",
   "execution_count": null,
   "metadata": {
    "pycharm": {
     "name": "#%%\n"
    }
   },
   "outputs": [],
   "source": [
    "sm"
   ]
  },
  {
   "cell_type": "code",
   "execution_count": null,
   "metadata": {
    "pycharm": {
     "name": "#%%\n"
    }
   },
   "outputs": [],
   "source": [
    "plt.plot(l_h2.links.p_nom_opt, \"x\")"
   ]
  },
  {
   "cell_type": "code",
   "execution_count": null,
   "metadata": {
    "pycharm": {
     "name": "#%%\n"
    }
   },
   "outputs": [],
   "source": [
    "# hydrogen pipeline network in km\n",
    "n_h2.links[n_h2.links.carrier.isin([\"H2 pipeline retrofitted\" , \"H2 pipeline\"])].length.sum()"
   ]
  },
  {
   "cell_type": "code",
   "execution_count": null,
   "metadata": {
    "pycharm": {
     "name": "#%%\n"
    }
   },
   "outputs": [],
   "source": [
    "n_h2.links[n_h2.links.carrier.isin([\"H2 pipeline retrofitted\" , \"H2 pipeline\"])]"
   ]
  },
  {
   "cell_type": "markdown",
   "metadata": {
    "pycharm": {
     "name": "#%% md\n"
    }
   },
   "source": [
    "## Installed Capacity, Generation, Consumption"
   ]
  },
  {
   "cell_type": "code",
   "execution_count": null,
   "metadata": {
    "pycharm": {
     "name": "#%%\n"
    }
   },
   "outputs": [],
   "source": [
    "cap_no = pd.DataFrame(index=n_no.buses.location.unique())\n",
    "cap_h2 = pd.DataFrame(index=n_h2.buses.location.unique())\n",
    "\n",
    "for n, df in zip([n_no, n_h2], [cap_no,cap_h2]):\n",
    "\n",
    "    for c in n.generators.carrier.unique():\n",
    "        # capacity in GW\n",
    "        df[c] = capacity(n, c) / 1000\n",
    "\n",
    "    for c in n.links.carrier.unique():\n",
    "        # capacity in GW\n",
    "        df[c] = capacity_links(n, c) / 1000\n",
    "\n",
    "    for c in n.storage_units.carrier.unique():\n",
    "        # capacity in GW\n",
    "        df[c] = capacity_storage_units(n, c) / 1000\n",
    "\n",
    "# condense groups\n",
    "cap_no = get_condense_sum(cap_no, c1_groups, c1_groups_name)\n",
    "cap_h2 = get_condense_sum(cap_h2, c1_groups, c1_groups_name)\n",
    "# rename unhandy column names\n",
    "cap_no.rename(columns=carrier_renaming, inplace=True)\n",
    "cap_h2.rename(columns=carrier_renaming, inplace=True)"
   ]
  },
  {
   "cell_type": "markdown",
   "metadata": {
    "pycharm": {
     "name": "#%% md\n"
    }
   },
   "source": []
  },
  {
   "cell_type": "code",
   "execution_count": null,
   "metadata": {
    "pycharm": {
     "name": "#%%\n"
    }
   },
   "outputs": [],
   "source": [
    "cap_no_sum = pd.DataFrame(cap_no.sum().sort_values(ascending=False)).transpose()\n",
    "sns.set(rc={'figure.figsize': (20, 5)})\n",
    "sns.barplot(data=cap_no_sum.iloc[: , 1:40])\n",
    "ticks = plt.xticks(rotation=90)\n",
    "plt.show()"
   ]
  },
  {
   "cell_type": "code",
   "execution_count": null,
   "metadata": {
    "pycharm": {
     "name": "#%%\n"
    }
   },
   "outputs": [],
   "source": [
    "cap_h2_sum = pd.DataFrame(cap_h2.sum().sort_values(ascending=False)).transpose()\n",
    "sns.set(rc={'figure.figsize': (20, 5)})\n",
    "sns.barplot(data=cap_h2_sum.iloc[: , 1:40])\n",
    "ticks = plt.xticks(rotation=90)\n",
    "plt.show()"
   ]
  },
  {
   "cell_type": "code",
   "execution_count": null,
   "metadata": {
    "pycharm": {
     "name": "#%%\n"
    }
   },
   "outputs": [],
   "source": [
    "# thesis_plot\n",
    "# capacity of important technologies\n",
    "\n",
    "fig, (ax0, ax1, ax2, ax3, ax4) = plt.subplots(nrows=1, ncols=5, figsize=(12, 6))\n",
    "bbox = (0.5, 1.25)\n",
    "\n",
    "carriers = [\"solar\" , \"solar rooftop\"]\n",
    "get_df(cap_no_sum, cap_h2_sum, carriers).plot(ax = ax0, kind=\"bar\", stacked=True, grid=False, color=[carrier_colors[c] for c in carriers], ylabel=\"Capacity [GW]\")\n",
    "ax0.legend(loc='upper center', bbox_to_anchor=bbox)\n",
    "\n",
    "carriers = [\"onwind\", \"offwind-dc\", \"offwind-ac\"]\n",
    "get_df(cap_no_sum, cap_h2_sum, carriers).plot(ax = ax1, kind=\"bar\", stacked=True, grid=False, color=[carrier_colors[c] for c in carriers], ylabel=\"Capacity [GW]\")\n",
    "ax1.legend(loc='upper center', bbox_to_anchor=bbox)\n",
    "\n",
    "carriers = [\"H2 Electrolysis\", \"SMR\", \"SMR CC\"]\n",
    "get_df(cap_no_sum, cap_h2_sum, carriers).plot(ax = ax2, kind=\"bar\", stacked=True, grid=False, color=[carrier_colors[c] for c in carriers], ylabel=\"Capacity [GW]\")\n",
    "ax2.legend(loc='upper center', bbox_to_anchor=bbox)\n",
    "\n",
    "carriers = [\"Fischer-Tropsch\", \"Sabatier\", \"H2 liquefaction\"]\n",
    "get_df(cap_no_sum, cap_h2_sum, carriers).plot(ax = ax3, kind=\"bar\", stacked=True, grid=False, color=[carrier_colors[c] for c in carriers], ylabel=\"Capacity [GW]\")\n",
    "ax3.legend(loc='upper center', bbox_to_anchor=bbox)\n",
    "\n",
    "carriers = [\"battery charger\", \"battery discharger\"]\n",
    "get_df(cap_no_sum, cap_h2_sum, carriers).plot(ax = ax4, kind=\"bar\", stacked=True, grid=False, color=[carrier_colors[c] for c in carriers], ylabel=\"Capacity [GW]\")\n",
    "ax4.legend(loc='upper center', bbox_to_anchor=bbox)\n",
    "\n",
    "fig.tight_layout()\n",
    "plt.show()\n",
    "\n",
    "fig.savefig(f\"{PLOT_DIR}01_general/4.1_system_overview/capa_scenarios.png\")"
   ]
  },
  {
   "cell_type": "code",
   "execution_count": null,
   "metadata": {
    "pycharm": {
     "name": "#%%\n"
    }
   },
   "outputs": [],
   "source": [
    "carriers = [\"hydro\"]\n",
    "get_df(cap_no_sum, cap_h2_sum, carriers)"
   ]
  },
  {
   "cell_type": "code",
   "execution_count": null,
   "metadata": {
    "pycharm": {
     "name": "#%%\n"
    }
   },
   "outputs": [],
   "source": [
    "# magnitude is in GW\n",
    "carriers = [\"battery charger\", \"battery discharger\"]\n",
    "round(get_df(cap_no_sum, cap_h2_sum, carriers), 0).transpose() / round(get_df(cap_no_sum, cap_h2_sum, carriers), 0).transpose().sum()\n",
    "# round(get_df(cap_no_sum, cap_h2_sum, carriers), 0).sum(axis=1)"
   ]
  },
  {
   "cell_type": "code",
   "execution_count": null,
   "metadata": {
    "pycharm": {
     "name": "#%%\n"
    }
   },
   "outputs": [],
   "source": [
    "# magnitude is in GW\n",
    "carriers = [\"H2 Fuel Cell\"]\n",
    "round(get_df(cap_no_sum, cap_h2_sum, carriers), 0).transpose()\n",
    "# round(get_df(cap_no_sum, cap_h2_sum, carriers), 0).sum(axis=1)"
   ]
  },
  {
   "cell_type": "markdown",
   "metadata": {
    "pycharm": {
     "name": "#%% md\n"
    }
   },
   "source": [
    "\n",
    "Notes:\n",
    "- 'H2 pipeline', 'H2 pipeline retrofitted' are the only difference in the carriers (n_no does not have them)\n",
    "- H2 Fuel Cell Capacity is not really existent: capacity without H2 network is 1 GW and with H2 network it is 0\n"
   ]
  },
  {
   "cell_type": "code",
   "execution_count": null,
   "metadata": {
    "pycharm": {
     "name": "#%%\n"
    }
   },
   "outputs": [],
   "source": [
    "# capacity of peak power plants\n",
    "\n",
    "fig, (ax0, ax1, ax2, ax3, ax4) = plt.subplots(nrows=1, ncols=5, figsize=(12, 6))\n",
    "bbox = (0.5, 1.25)\n",
    "\n",
    "carriers = [\"gas CHP CC\", \"gas CHP\"]\n",
    "get_df(cap_no_sum, cap_h2_sum, carriers).plot(ax = ax0, kind=\"bar\", stacked=True, grid=False, color=[carrier_colors[c] for c in carriers], ylabel=\"Capacity [GW]\")\n",
    "ax0.legend(loc='upper center', bbox_to_anchor=bbox)\n",
    "\n",
    "carriers = [\"hydro\", \"PHS\"]\n",
    "get_df(cap_no_sum, cap_h2_sum, carriers).plot(ax = ax1, kind=\"bar\", stacked=True, grid=False, color=[carrier_colors[c] for c in carriers], ylabel=\"Capacity [GW]\")\n",
    "ax1.legend(loc='upper center', bbox_to_anchor=bbox)\n",
    "\n",
    "\n",
    "carriers = [\"biomass CHP CC\" , \"biomass CHP\"]\n",
    "get_df(cap_no_sum, cap_h2_sum, carriers).plot(ax = ax2, kind=\"bar\", stacked=True, grid=False, color=[carrier_colors[c] for c in carriers], ylabel=\"Capacity [GW]\")\n",
    "ax2.legend(loc='upper center', bbox_to_anchor=bbox)\n",
    "\n",
    "carriers = [\"OCGT\"]\n",
    "get_df(cap_no_sum, cap_h2_sum, carriers).plot(ax = ax3, kind=\"bar\", stacked=True, grid=False, color=[carrier_colors[c] for c in carriers], ylabel=\"Capacity [GW]\")\n",
    "ax3.legend(loc='upper center', bbox_to_anchor=bbox)\n",
    "\n",
    "carriers = [\"V2G\"]\n",
    "get_df(cap_no_sum, cap_h2_sum, carriers).plot(ax = ax4, kind=\"bar\", stacked=True, grid=False, color=[carrier_colors[c] for c in carriers], ylabel=\"Capacity [GW]\")\n",
    "ax4.legend(loc='upper center', bbox_to_anchor=bbox)\n",
    "\n",
    "fig.tight_layout()\n",
    "plt.show()\n",
    "\n",
    "fig.savefig(f\"{PLOT_DIR}01_general/4.1_system_overview/capa_peak_scenarios.png\")"
   ]
  },
  {
   "cell_type": "markdown",
   "metadata": {
    "pycharm": {
     "name": "#%% md\n"
    }
   },
   "source": [
    "#### Generation"
   ]
  },
  {
   "cell_type": "code",
   "execution_count": null,
   "metadata": {
    "pycharm": {
     "name": "#%%\n"
    }
   },
   "outputs": [],
   "source": [
    "# thesis_plot:\n",
    "\n",
    "fig, axs = plt.subplots(nrows=2, ncols=2, figsize=(15, 11))\n",
    "\n",
    "for n in [n_no, n_h2]:\n",
    "\n",
    "    carrier = [\"AC\", \"low voltage\"]\n",
    "    nb = nodal_balance(n, carrier=carrier, time=\"2013\", aggregate=['component', 'bus'], energy=True)\n",
    "    # convert from MWh to GWh\n",
    "    nb = nb.unstack(level=[1]) / 1000\n",
    "    # condense condense_groups\n",
    "    nb = get_condense_sum(nb, c1_groups, c1_groups_name)\n",
    "    # rename unhandy column names\n",
    "    nb.rename(columns=carrier_renaming, inplace=True)\n",
    "\n",
    "    nb_pos = nb[nb > 0].sum().sort_values(ascending=False)\n",
    "    # exclude all shares smaller than 1 %\n",
    "    nb_pos = nb_pos[(nb_pos / nb_pos.sum()) > 0.01]\n",
    "\n",
    "    nb_neg = abs(nb[nb < 0].sum()).sort_values(ascending=False)\n",
    "    # exclude all shares smaller than 1 %\n",
    "    nb_neg = nb_neg[(nb_neg / nb_neg.sum()) > 0.01]\n",
    "\n",
    "    if n==n_no:\n",
    "        ax_gen=axs[0, 0]\n",
    "        ax_con=axs[0, 1]\n",
    "        title_gen=f\"Electricity generation (STST)\"\n",
    "        title_con=f\"Electricity consumption (STST)\"\n",
    "\n",
    "    elif n==n_h2:\n",
    "        ax_gen=axs[1, 0]\n",
    "        ax_con=axs[1, 1]\n",
    "        title_gen=f\"Electricity generation (EXP)\"\n",
    "        title_con=f\"Electricity consumption (EXP)\"\n",
    "\n",
    "    # generation\n",
    "    c = [carrier_colors[col] for col in nb_pos.index]\n",
    "    percents = nb_pos.to_numpy() * 100 / nb_pos.to_numpy().sum()\n",
    "    labels = ['%s (%1.1f %%)' % (l, s) for l, s in zip(nb_pos.index, percents)]\n",
    "\n",
    "    patches, texts = ax_gen.pie(nb_pos, colors=c, startangle=0, labels=labels)\n",
    "    ax_gen.axis('equal')\n",
    "    ax_gen.set_title(title_gen, pad=20, fontweight=\"bold\")\n",
    "\n",
    "    # consumption\n",
    "    c = [carrier_colors[col] for col in nb_neg.index]\n",
    "    percents = nb_neg.to_numpy() * 100 / nb_neg.to_numpy().sum()\n",
    "    labels = ['%s (%1.1f %%)' % (l, s) for l, s in zip(nb_neg.index, percents)]\n",
    "\n",
    "    patches, texts = ax_con.pie(nb_neg, colors=c, startangle=0, labels=labels)\n",
    "    ax_con.axis('equal')\n",
    "\n",
    "    ax_con.set_title(title_con, pad=20, fontweight=\"bold\")\n",
    "\n",
    "fig.tight_layout(pad=5)\n",
    "plt.show()\n",
    "\n",
    "#fig.savefig(f\"{PLOT_DIR}01_general/4.1_system_overview/gen_con_ac_lowvoltage.png\")"
   ]
  },
  {
   "cell_type": "code",
   "execution_count": null,
   "metadata": {
    "pycharm": {
     "name": "#%%\n"
    }
   },
   "outputs": [],
   "source": [
    "nb[nb > 0].sum().sort_values(ascending=False) / nb[nb > 0].sum().sort_values(ascending=False).sum()"
   ]
  },
  {
   "cell_type": "code",
   "execution_count": null,
   "metadata": {
    "pycharm": {
     "name": "#%%\n"
    }
   },
   "outputs": [],
   "source": [
    "# overall electricity generation in TWh\n",
    "\n",
    "carrier = [\"AC\", \"low voltage\"]\n",
    "nb = nodal_balance(n_h2, carrier=carrier, time=\"2013\", aggregate=['component', 'bus'], energy=True)\n",
    "# convert from MWh to GWh\n",
    "nb = nb.unstack(level=[1]) / 1000\n",
    "# condense condense_groups\n",
    "nb = get_condense_sum(nb, c1_groups, c1_groups_name)\n",
    "# rename unhandy column names\n",
    "nb.rename(columns=carrier_renaming, inplace=True)\n",
    "# calc sum and convert to TWh\n",
    "nb[nb > 0].sum().sum() / 1000\n",
    "\n",
    "# STST: 10202\n",
    "# EXP: 9172"
   ]
  },
  {
   "cell_type": "code",
   "execution_count": null,
   "metadata": {
    "pycharm": {
     "name": "#%%\n"
    }
   },
   "outputs": [],
   "source": [
    "# overall generation and share of all wind and solar technologies:\n",
    "# wind:  STST: 5347 TWh, 52 % ; EXP: 5708 TWh, 62 %\n",
    "# solar: STST: 3584 TWh, 35 %; EXP: 2603 TWh, 28 %\n",
    "# Together: STST: 8931 TWh, 88 % ; EXP: 8311 TWh, 91 \\%\n",
    "# (nb[nb > 0].sum()[[\"solar\", \"solar rooftop\"]].sum() / 1000 ) / (nb[nb > 0].sum().sum() / 1000)\n",
    "(nb[nb > 0].sum()[[\"onwind\", \"offwind-ac\", \"offwind-dc\", \"solar\", \"solar rooftop\"]].sum() / 1000 ) #/ (nb[nb > 0].sum().sum() / 1000)\n"
   ]
  },
  {
   "cell_type": "code",
   "execution_count": null,
   "metadata": {
    "pycharm": {
     "name": "#%%\n"
    }
   },
   "outputs": [],
   "source": [
    "fig, axs = plt.subplots(nrows=2, ncols=2, figsize=(15, 11))\n",
    "\n",
    "for n in [n_no, n_h2]:\n",
    "\n",
    "    carrier = [\"H2\"]\n",
    "    nb = nodal_balance(n, carrier=carrier, time=\"2013\", aggregate=['component', 'bus'], energy=True)\n",
    "    # convert from MW to GW\n",
    "    nb = nb.unstack(level=[1]) / 1000\n",
    "\n",
    "    nb_pos = nb.sum()[nb.sum() > 0].sort_values(ascending=False)\n",
    "    # exclude all shares smaller than 1 %\n",
    "    nb_pos = nb_pos[(nb_pos / nb_pos.sum()) > 0.01]\n",
    "\n",
    "    nb_neg = abs(nb.sum()[nb.sum() < 0]).sort_values(ascending=False)\n",
    "    # exclude all shares smaller than 1 %\n",
    "    nb_neg = nb_neg[(nb_neg / nb_neg.sum()) > 0.01]\n",
    "\n",
    "    if n==n_no:\n",
    "        ax_gen=axs[0, 0]\n",
    "        ax_con=axs[0, 1]\n",
    "        title_gen=f\"Generation: {carrier} (no H2 network)\"\n",
    "        title_con=f\"Consumption: {carrier} (no H2 network)\"\n",
    "\n",
    "    elif n==n_h2:\n",
    "        ax_gen=axs[1, 0]\n",
    "        ax_con=axs[1, 1]\n",
    "        title_gen=f\"Generation: {carrier} (with H2 network)\"\n",
    "        title_con=f\"Consumption: {carrier} (with H2 network)\"\n",
    "\n",
    "    # generation\n",
    "    c = [carrier_colors[col] for col in nb_pos.index]\n",
    "    percents = nb_pos.to_numpy() * 100 / nb_pos.to_numpy().sum()\n",
    "    labels = ['%s (%1.1f %%)' % (l, s) for l, s in zip(nb_pos.index, percents)]\n",
    "\n",
    "    patches, texts = ax_gen.pie(nb_pos, colors=c, startangle=0, labels=labels)\n",
    "    ax_gen.axis('equal')\n",
    "    ax_gen.set_title(title_gen, pad=20, fontweight=\"bold\")\n",
    "\n",
    "    # consumption\n",
    "    c = [carrier_colors[col] for col in nb_neg.index]\n",
    "    percents = nb_neg.to_numpy() * 100 / nb_neg.to_numpy().sum()\n",
    "    labels = ['%s (%1.1f %%)' % (l, s) for l, s in zip(nb_neg.index, percents)]\n",
    "\n",
    "    patches, texts = ax_con.pie(nb_neg, colors=c, startangle=0, labels=labels)\n",
    "    ax_con.axis('equal')\n",
    "\n",
    "    ax_con.set_title(title_con, pad=20, fontweight=\"bold\")\n",
    "\n",
    "fig.tight_layout(pad=2)\n",
    "plt.show()\n",
    "\n",
    "# fig.savefig(f\"{PLOT_DIR}01_general/5.1_hydrogen_overview/gen_con_h2.png\")"
   ]
  },
  {
   "cell_type": "code",
   "execution_count": null,
   "metadata": {
    "pycharm": {
     "name": "#%%\n"
    }
   },
   "outputs": [],
   "source": [
    "fig, axs = plt.subplots(nrows=2, ncols=2, figsize=(15, 11))\n",
    "\n",
    "for n in [n_no, n_h2]:\n",
    "\n",
    "    carrier = [\"urban central heat\"]\n",
    "    nb = nodal_balance(n, carrier=carrier, time=\"2013\", aggregate=['component', 'bus'], energy=True)\n",
    "    # convert from MW to GW\n",
    "    nb = nb.unstack(level=[1]) / 1000\n",
    "\n",
    "    nb_pos = nb.sum()[nb.sum() > 0].sort_values(ascending=False)\n",
    "    # exclude all shares smaller than 1 %\n",
    "    nb_pos = nb_pos[(nb_pos / nb_pos.sum()) > 0.01]\n",
    "\n",
    "    nb_neg = abs(nb.sum()[nb.sum() < 0]).sort_values(ascending=False)\n",
    "    # exclude all shares smaller than 1 %\n",
    "    nb_neg = nb_neg[(nb_neg / nb_neg.sum()) > 0.01]\n",
    "\n",
    "    if n==n_no:\n",
    "        ax_gen=axs[0, 0]\n",
    "        ax_con=axs[0, 1]\n",
    "        title_gen=f\"Generation: {carrier} (no H2 network)\"\n",
    "        title_con=f\"Consumption: {carrier} (no H2 network)\"\n",
    "\n",
    "    elif n==n_h2:\n",
    "        ax_gen=axs[1, 0]\n",
    "        ax_con=axs[1, 1]\n",
    "        title_gen=f\"Generation: {carrier} (with H2 network)\"\n",
    "        title_con=f\"Consumption: {carrier} (with H2 network)\"\n",
    "\n",
    "    # generation\n",
    "    c = [carrier_colors[col] for col in nb_pos.index]\n",
    "    percents = nb_pos.to_numpy() * 100 / nb_pos.to_numpy().sum()\n",
    "    labels = ['%s (%1.1f %%)' % (l, s) for l, s in zip(nb_pos.index, percents)]\n",
    "\n",
    "    patches, texts = ax_gen.pie(nb_pos, colors=c, startangle=0, labels=labels)\n",
    "    ax_gen.axis('equal')\n",
    "    ax_gen.set_title(title_gen, pad=20, fontweight=\"bold\")\n",
    "\n",
    "    # consumption\n",
    "    c = [carrier_colors[col] for col in nb_neg.index]\n",
    "    percents = nb_neg.to_numpy() * 100 / nb_neg.to_numpy().sum()\n",
    "    labels = ['%s (%1.1f %%)' % (l, s) for l, s in zip(nb_neg.index, percents)]\n",
    "\n",
    "    patches, texts = ax_con.pie(nb_neg, colors=c, startangle=0, labels=labels)\n",
    "    ax_con.axis('equal')\n",
    "\n",
    "    ax_con.set_title(title_con, pad=20, fontweight=\"bold\")\n",
    "\n",
    "fig.tight_layout(pad=2)\n",
    "plt.show()\n",
    "\n",
    "# Fischer Tropsch nebenprdukt Heat"
   ]
  },
  {
   "cell_type": "markdown",
   "metadata": {
    "pycharm": {
     "name": "#%% md\n"
    }
   },
   "source": [
    "#### Correlation of Capacity"
   ]
  },
  {
   "cell_type": "code",
   "execution_count": null,
   "metadata": {
    "pycharm": {
     "name": "#%%\n"
    }
   },
   "outputs": [],
   "source": [
    "cap_no.corr()[\"PHS\"].sort_values(ascending=False)"
   ]
  },
  {
   "cell_type": "code",
   "execution_count": null,
   "metadata": {
    "pycharm": {
     "name": "#%%\n"
    }
   },
   "outputs": [],
   "source": [
    "cap_h2.corr()[\"H2 pipeline retrofitted\"].sort_values(ascending=False)"
   ]
  },
  {
   "cell_type": "code",
   "execution_count": null,
   "metadata": {
    "pycharm": {
     "name": "#%%\n"
    }
   },
   "outputs": [],
   "source": [
    "# check correlation of capacities to check at which locations similar technologies are present\n",
    "fig = plt.figure(figsize=(28, 14))\n",
    "sns.heatmap(cap_no.corr()[(abs(cap_no.corr()) > 0.1) & (abs(cap_no.corr()) < 0.8)], annot=True)\n",
    "plt.show()\n",
    "# fig.savefig(f\"{PLOT_DIR}01_general/4.1_system_overview/no_h2_capa_corr.png\")"
   ]
  },
  {
   "cell_type": "code",
   "execution_count": null,
   "metadata": {
    "pycharm": {
     "name": "#%%\n"
    }
   },
   "outputs": [],
   "source": [
    "# check correlation of capacities to check at which location similar technologies are present\n",
    "fig = plt.figure(figsize=(28, 14))\n",
    "sns.heatmap(cap_h2.corr()[(abs(cap_h2.corr()) > 0.6) & (abs(cap_h2.corr()) < 0.9)], annot=True)\n",
    "plt.show()\n",
    "# fig.savefig(f\"{PLOT_DIR}01_general/4.1_system_overview/h2_capa_corr.png\")"
   ]
  },
  {
   "cell_type": "code",
   "execution_count": null,
   "metadata": {
    "pycharm": {
     "name": "#%%\n"
    }
   },
   "outputs": [],
   "source": [
    "fig = plt.figure(figsize=(28, 14))\n",
    "diff_cap = cap_no.corr() - cap_h2.corr()\n",
    "sns.heatmap(diff_cap[(abs(diff_cap) > 0.4) & (abs(diff_cap) < 0.5)], annot=True)\n",
    "plt.show()\n",
    "# fig.savefig(f\"{PLOT_DIR}01_general/4.1_system_overview/capa_corr_diff_no_minus_h2.png\")"
   ]
  },
  {
   "cell_type": "markdown",
   "metadata": {
    "pycharm": {
     "name": "#%% md\n"
    }
   },
   "source": [
    "Findings: correlation of capacities amogn the scenarios\n",
    "\n",
    "Interesting and making sense:\n",
    "- H2 Electrolysis and onwind: (no: 0.67; h2: 0.76) -> onshore wind dominantly used for hydrogen production\n",
    "- H2 Electrolysis and solar: (no: 0.32; h2: 0.37) -> solar wind partly used for hydrogen production\n",
    "- H2 Electrolysis and H2 pipeline: 0.66 -> hydrogen production at locations with pipelines\n",
    "- onwind and h2 pipeline. 0.57 -> onwind used for hydrogen production close to h2 pipelines; pipelines are build where a lot of onwind is located\n",
    "- offwind-dc and H2 liquefaction: 0.61 ; 0.35 -> offshore wind used to produced liquefied hydrogen (more present in STST scenario as there is less possibility to transport away the offshore wind power generation)\n",
    "\n",
    "- solar and battery charger: (no: 0.59; h2: 0.54) -> solar used for utility scale battery charging\n",
    "- BEV and solar rooftop: (STST: 0.63 ; EXP: 0.56) -> solar used to charge vehicles\n",
    "- BEV and solar: (STST: 0.53 ; EXP: 0.22) -> solar used to charge vehicles\n",
    "\n",
    "- gas CHP and heat pump / gas boilder / resistive heater : (no: 0.83, 0.72, 0.72 ; h2: 0.71 , 0.7, 0.58) -> all heat sources are at the same location\n",
    "- gas CHP and biomass CHP / biomas CHP CC: 0.67 / 0.67 ; 0.44 / 0.3 -> all heat sources are at the same location\n",
    "- gas CHP and water tanks charger: 0.66 ; 0.53 -> heat used for charging thermal storage\n",
    "- water tanks charger and heat pump / gas boiler / resisitive heater: 0.68 / 0.65 / 0.67 ; 0.73/ 0.72 / 0.65 -> heat used for charging thermal storage\n",
    "\n",
    "Not making sense or not interesting?:\n",
    "- biomas CHP and water tanks charger / discharger; (no: 0.007/ 0.048 ; h2: 0.59, 0.55) -> Why no correlation in STST case?\n",
    "- biomass CHP and home battery charger: -0.52 ; -0.23\n",
    "- gas CHP CC and home battery charger: -0.65 ; -0.7\n",
    "- H2 Electrolysis and water tanks charger / water tanks discharger: ( no: 0.39 / 0.44 ; -0.12 / < abs(0.1)) -> rather random?\n",
    "\n",
    "Not interesting and making sense:\n",
    "- solar and solar rooftop (0.5 ; 0.47)\n",
    "- solar thermal and solar: 0.56 ; 0.41\n",
    "\n",
    "Not interesting and not making sense:\n",
    "- H2 Fuel cell and home battery charger / home battery discharger: (no: -0.032; h2: -0.69) not very relevant as there is almost no capacity of fuel cell\n",
    "- SMR CC and H2 liquefaction: (no: 0.72; h2: -0.16) strong correlation with SMR CC and H2 liquefaction in STST scenario; small correlation in EXP scenario random due to little capacity of SMR CC\n",
    "- H2 Fuel Cell and biomass CHP / biomass CHP CC: (no: 0.032 / <0.01 ; ) H2 Fuel Cell has no relevance"
   ]
  },
  {
   "cell_type": "code",
   "execution_count": null,
   "metadata": {
    "pycharm": {
     "name": "#%%\n"
    }
   },
   "outputs": [],
   "source": [
    "n_no.links[n_no.links.carrier == \"urban central water tanks charger\"]"
   ]
  },
  {
   "cell_type": "markdown",
   "metadata": {
    "pycharm": {
     "name": "#%% md\n"
    }
   },
   "source": [
    "#### Capacity Coverage (%)\n",
    "- calc capacities in percentage\n",
    "- calc the min(capA, capB) for every location to see how many percentage points are present at a location from both technologies. If it is 100, the distributio of capacity is the same, if it is 0, there is no capacity present of technology A at the same location where capacity of technology B is present.\n",
    "- measure the similarity of the distribution\n",
    "how to calc that?"
   ]
  },
  {
   "cell_type": "code",
   "execution_count": null,
   "metadata": {
    "pycharm": {
     "name": "#%%\n"
    }
   },
   "outputs": [],
   "source": [
    "# Note: gas, oil, sabatier, biogas to gas, ... only have capacity at EU bus\n",
    "\n",
    "cap_no_perc = pd.DataFrame(cap_no.fillna(0) / cap_no.fillna(0).sum())\n",
    "cap_h2_perc = pd.DataFrame(cap_h2.fillna(0) / cap_h2.fillna(0).sum())\n",
    "\n",
    "# exclude all carriers that only have capacity at EU bus\n",
    "cap_no_perc = cap_no_perc[cap_no_perc.columns[cap_no_perc.loc[\"EU\"]!=1]]\n",
    "cap_h2_perc = cap_h2_perc[cap_h2_perc.columns[cap_h2_perc.loc[\"EU\"]!=1]]\n",
    "\n",
    "# drop EU row\n",
    "cap_no_perc.drop(\"EU\", inplace=True)\n",
    "cap_h2_perc.drop(\"EU\", inplace=True)\n",
    "\n",
    "cap_no_cc = pd.DataFrame(index=cap_no_perc.columns, columns=cap_no_perc.columns)\n",
    "cap_h2_cc = pd.DataFrame(index=cap_h2_perc.columns, columns=cap_h2_perc.columns)\n",
    "\n",
    "for c1 in cap_no_cc.columns:\n",
    "    for c2 in cap_no_cc.index:\n",
    "        cap_no_cc.loc[c1, c2] = cap_no_perc[[c1, c2]].min(axis=1).sum()\n",
    "\n",
    "for c1 in cap_h2_cc.columns:\n",
    "    for c2 in cap_h2_cc.index:\n",
    "        cap_h2_cc.loc[c1, c2] = cap_h2_perc[[c1, c2]].min(axis=1).sum()\n",
    "\n",
    "# convert to float\n",
    "cap_no_cc = cap_no_cc.astype(float)\n",
    "cap_h2_cc = cap_h2_cc.astype(float)"
   ]
  },
  {
   "cell_type": "code",
   "execution_count": null,
   "metadata": {
    "pycharm": {
     "name": "#%%\n"
    }
   },
   "outputs": [],
   "source": [
    "fig = plt.figure(figsize=(28, 14))\n",
    "sns.heatmap(cap_no_cc[cap_no_cc >0.8], annot=True)\n",
    "plt.show()"
   ]
  },
  {
   "cell_type": "code",
   "execution_count": null,
   "metadata": {
    "pycharm": {
     "name": "#%%\n"
    }
   },
   "outputs": [],
   "source": [
    "fig = plt.figure(figsize=(28, 14))\n",
    "sns.heatmap(cap_h2_cc[cap_h2_cc > 0.8], annot=True)\n",
    "plt.show()"
   ]
  },
  {
   "cell_type": "code",
   "execution_count": null,
   "metadata": {
    "pycharm": {
     "name": "#%%\n"
    }
   },
   "outputs": [],
   "source": [
    "round(cap_no_cc - cap_h2_cc.loc[cap_no_cc.index, cap_no_cc.columns], 2)"
   ]
  },
  {
   "cell_type": "code",
   "execution_count": null,
   "metadata": {
    "pycharm": {
     "name": "#%%\n"
    }
   },
   "outputs": [],
   "source": [
    "fig = plt.figure(figsize=(28, 14))\n",
    "diff_cc = round(cap_no_cc - cap_h2_cc.loc[cap_no_cc.index, cap_no_cc.columns], 2)\n",
    "sns.heatmap(diff_cc[abs(diff_cc) > 0.5], annot=True)\n",
    "plt.show()"
   ]
  },
  {
   "cell_type": "markdown",
   "metadata": {
    "pycharm": {
     "name": "#%% md\n"
    }
   },
   "source": [
    "### Correlation of generation\n",
    "- temporal correlation\n",
    "- spatial correlation"
   ]
  },
  {
   "cell_type": "code",
   "execution_count": null,
   "metadata": {
    "pycharm": {
     "name": "#%%\n"
    }
   },
   "outputs": [],
   "source": [
    "def get_generation(carrier = \"onwind\", n=n_no, period=\"2013\"):\n",
    "\n",
    "    if carrier in n.generators.carrier.unique().tolist():\n",
    "        result = n.generators_t.p.loc[period, n.generators.carrier == carrier]\n",
    "        result.columns = result.columns.map(n.generators.bus)\n",
    "        result.columns = result.columns.map(n.buses.location)\n",
    "\n",
    "    elif carrier in n.links.carrier.unique().tolist():\n",
    "        result = -n.links_t.p1.loc[period, n.links.carrier == carrier]\n",
    "        result.columns = result.columns.map(n.links.bus1)\n",
    "        result = result.groupby(result.columns, axis=1).sum()\n",
    "        result.columns = result.columns.map(n.buses.location)\n",
    "\n",
    "    elif carrier in n.storage_units.carrier.unique().tolist():\n",
    "        result = n.storage_units_t.p_dispatch.loc[period, n.storage_units.carrier == carrier]\n",
    "        result.columns = result.columns.map(n.storage_units.bus)\n",
    "        result.columns = result.columns.map(n.buses.location)\n",
    "\n",
    "    elif carrier in n.loads.carrier.unique().tolist():\n",
    "        result = n.loads_t.p.loc[period, n.loads.carrier == carrier]\n",
    "        result.columns = result.columns.map(n.loads.bus)\n",
    "        result.columns = result.columns.map(n.buses.location)\n",
    "\n",
    "    else:\n",
    "        result = None\n",
    "\n",
    "    return result"
   ]
  },
  {
   "cell_type": "code",
   "execution_count": null,
   "metadata": {
    "pycharm": {
     "name": "#%%\n"
    }
   },
   "outputs": [],
   "source": [
    "# temporal correlation\n",
    "n = n_no\n",
    "c1 = \"onwind\"\n",
    "c2 = \"H2 Electrolysis\"\n",
    "\n",
    "gen1 = get_generation(carrier=c1, n=n_no)\n",
    "gen2 = get_generation(carrier=c2, n=n_no)"
   ]
  },
  {
   "cell_type": "code",
   "execution_count": null,
   "metadata": {
    "pycharm": {
     "name": "#%%\n"
    }
   },
   "outputs": [],
   "source": [
    "# overall temporal correlation\n",
    "gen1.sum(axis=1).corr(gen2.sum(axis=1))"
   ]
  },
  {
   "cell_type": "code",
   "execution_count": null,
   "metadata": {
    "pycharm": {
     "name": "#%%\n"
    }
   },
   "outputs": [],
   "source": [
    "# temporal correlation per location\n",
    "\n",
    "com_cols = gen1.columns.intersection(gen2.columns)\n",
    "loc_res = pd.DataFrame(index=com_cols, columns=[\"corr\"])\n",
    "\n",
    "for loc in com_cols:\n",
    "    loc_res.loc[loc,\"corr\"] = gen1[loc].corr(gen2[loc])\n",
    "\n",
    "# mean\n",
    "loc_res.mean()\n",
    "\n",
    "# generation weighted mean\n",
    "(gen1[com_cols].sum() * loc_res.T / gen1[com_cols].sum().sum()).sum().sum()"
   ]
  },
  {
   "cell_type": "code",
   "execution_count": null,
   "metadata": {
    "pycharm": {
     "name": "#%%\n"
    }
   },
   "outputs": [],
   "source": [
    "# overall spatial correlation\n",
    "gen1.sum(axis=0).corr(gen2.sum(axis=0))"
   ]
  },
  {
   "cell_type": "code",
   "execution_count": null,
   "metadata": {
    "pycharm": {
     "name": "#%%\n"
    }
   },
   "outputs": [],
   "source": [
    "carriers = [\"solar\", \"onwind\", \"offwind-ac\", \"ror\", \"offwind-dc\", \"H2 Electrolysis\", \"battery charger\",\n",
    "            \"battery discharger\", \"Sabatier\", \"SMR CC\", \"BEV charger\", \"V2G\", \"urban central air heat pump\",\n",
    "            \"urban central solid biomass CHP\", \"Fischer-Tropsch\", \"hydro\", \"PHS\", \"electricity\", \"H2 for industry\", \"industry electricity\", \"agriculture electricity\", \"urban central heat\", \"land transport fuel cell\"]\n",
    "len(carriers)"
   ]
  },
  {
   "cell_type": "code",
   "execution_count": null,
   "metadata": {
    "pycharm": {
     "name": "#%%\n"
    }
   },
   "outputs": [],
   "source": [
    "# temporal correlation: aggregated over locations as sum, then taking correlation\n",
    "\n",
    "n = n_no\n",
    "res_temp_all_n_no = pd.DataFrame(index=carriers, columns=carriers)\n",
    "\n",
    "for c1 in carriers:\n",
    "    for c2 in carriers:\n",
    "        gen1 = get_generation(carrier=c1, n=n)\n",
    "        gen2 = get_generation(carrier=c2, n=n)\n",
    "\n",
    "        # correlation\n",
    "        res_temp_all_n_no.loc[c1, c2] = gen1.sum(axis=1).corr(gen2.sum(axis=1))\n",
    "\n",
    "res_temp_all_n_no = res_temp_all_n_no.astype(\"float\")\n",
    "\n",
    "fig = plt.figure(figsize=(16, 8))\n",
    "sns.heatmap(res_temp_all_n_no[abs(res_temp_all_n_no) > 0.5], annot=True)\n",
    "plt.show()"
   ]
  },
  {
   "cell_type": "code",
   "execution_count": null,
   "metadata": {
    "pycharm": {
     "name": "#%%\n"
    }
   },
   "outputs": [],
   "source": [
    "# generation weighted temporal correlation per location\n",
    "\n",
    "n = n_no\n",
    "res_temp_n_no = pd.DataFrame(index=carriers, columns=carriers)\n",
    "\n",
    "for c1 in carriers:\n",
    "    for c2 in carriers:\n",
    "\n",
    "        gen1 = get_generation(carrier=c1, n=n)\n",
    "        gen2 = get_generation(carrier=c2, n=n)\n",
    "\n",
    "        com_cols = gen1.columns.intersection(gen2.columns)\n",
    "        loc_res = pd.DataFrame(index=com_cols, columns=[\"corr\"])\n",
    "\n",
    "        for loc in com_cols:\n",
    "            loc_res.loc[loc,\"corr\"] = gen1[loc].corr(gen2[loc])\n",
    "\n",
    "        # correlation of two vectors with constant values is nan\n",
    "        loc_res.dropna(inplace=True)\n",
    "\n",
    "        # generation weighted mean of correlations per location\n",
    "        res_temp_n_no.loc[c1,c2] = round((gen1[loc_res.index].sum() * loc_res.T / gen1[loc_res.index].sum().sum()).sum().sum(), 2)\n",
    "\n",
    "res_temp_n_no = res_temp_n_no.astype(\"float\")"
   ]
  },
  {
   "cell_type": "code",
   "execution_count": null,
   "metadata": {
    "pycharm": {
     "name": "#%%\n"
    }
   },
   "outputs": [],
   "source": [
    "res_temp_n_no"
   ]
  },
  {
   "cell_type": "code",
   "execution_count": null,
   "metadata": {
    "pycharm": {
     "name": "#%%\n"
    }
   },
   "outputs": [],
   "source": [
    "fig = plt.figure(figsize=(16, 8))\n",
    "sns.heatmap(res_temp_n_no[abs(res_temp_n_no) > 0.5], annot=True)\n",
    "plt.show()"
   ]
  },
  {
   "cell_type": "code",
   "execution_count": null,
   "metadata": {
    "pycharm": {
     "name": "#%%\n"
    }
   },
   "outputs": [],
   "source": [
    "# overall spatial correlation\n",
    "\n",
    "n = n_no\n",
    "res_loc_all_n_no = pd.DataFrame(index=carriers, columns=carriers)\n",
    "\n",
    "for c1 in carriers:\n",
    "    for c2 in carriers:\n",
    "\n",
    "        gen1 = get_generation(carrier=c1, n=n)\n",
    "        gen2 = get_generation(carrier=c2, n=n)\n",
    "\n",
    "        # corrrelation\n",
    "        res_loc_all_n_no.loc[c1,c2] = gen1.sum(axis=0).corr(gen2.sum(axis=0))\n",
    "\n",
    "res_loc_all_n_no = res_loc_all_n_no.astype(\"float\")"
   ]
  },
  {
   "cell_type": "code",
   "execution_count": null,
   "metadata": {
    "pycharm": {
     "name": "#%%\n"
    }
   },
   "outputs": [],
   "source": [
    "fig = plt.figure(figsize=(16, 8))\n",
    "sns.heatmap(res_loc_all_n_no[abs(res_loc_all_n_no) > 0.5], annot=True)\n",
    "plt.show()"
   ]
  },
  {
   "cell_type": "markdown",
   "metadata": {
    "pycharm": {
     "name": "#%% md\n"
    }
   },
   "source": [
    "## Energy Flow"
   ]
  },
  {
   "cell_type": "markdown",
   "metadata": {
    "pycharm": {
     "name": "#%% md\n"
    }
   },
   "source": [
    "### Balance map"
   ]
  },
  {
   "cell_type": "code",
   "execution_count": null,
   "metadata": {
    "pycharm": {
     "name": "#%%\n"
    }
   },
   "outputs": [],
   "source": [
    "# plot map with overall balance of hydrogen and electricity per region"
   ]
  },
  {
   "cell_type": "markdown",
   "metadata": {
    "pycharm": {
     "name": "#%% md\n"
    }
   },
   "source": [
    "![](../../../../Pictures/Screenshots/Screenshot_20230215_101123.png)"
   ]
  },
  {
   "cell_type": "code",
   "execution_count": null,
   "metadata": {
    "pycharm": {
     "name": "#%%\n"
    }
   },
   "outputs": [],
   "source": [
    "# carrier of buses are the same for the networks\n",
    "n_h2.buses.carrier.unique().tolist() == n_no.buses.carrier.unique().tolist()"
   ]
  },
  {
   "cell_type": "code",
   "execution_count": null,
   "metadata": {
    "pycharm": {
     "name": "#%%\n"
    }
   },
   "outputs": [],
   "source": [
    "n_h2.buses.carrier.unique().tolist()"
   ]
  },
  {
   "cell_type": "code",
   "execution_count": null,
   "metadata": {
    "pycharm": {
     "name": "#%%\n"
    }
   },
   "outputs": [],
   "source": [
    "test = nodal_balance(n_no, carrier=[\"AC\", \"low voltage\", \"H2\", \"gas\", \"oil\"], aggregate=[\"component\", \"snapshot\", \"carrier\"], time=\"2013\", energy=True)"
   ]
  },
  {
   "cell_type": "code",
   "execution_count": null,
   "metadata": {
    "pycharm": {
     "name": "#%%\n"
    }
   },
   "outputs": [],
   "source": [
    "test"
   ]
  },
  {
   "cell_type": "code",
   "execution_count": null,
   "metadata": {
    "pycharm": {
     "name": "#%%\n"
    }
   },
   "outputs": [],
   "source": [
    "test2 = nodal_balance(n_no, carrier=[\"AC\", \"low voltage\"],aggregate=[\"component\", \"snapshot\", \"carrier\"], time=\"2013\", energy=True)\n",
    "test2"
   ]
  },
  {
   "cell_type": "code",
   "execution_count": null,
   "metadata": {
    "pycharm": {
     "name": "#%%\n"
    }
   },
   "outputs": [],
   "source": [
    "test.groupby([\"bus\"]).sum()"
   ]
  },
  {
   "cell_type": "code",
   "execution_count": null,
   "metadata": {
    "pycharm": {
     "name": "#%%\n"
    }
   },
   "outputs": [],
   "source": [
    "# oil, gas, co2 is only at EU level\n",
    "carrier_sets = [[\"AC\", \"low voltage\"], [\"H2\"], [\"urban central heat\"], [\"AC\", \"low voltage\", \"H2\"]]\n",
    "\n",
    "for carrier_set in carrier_sets:\n",
    "    # nodal balance in MWh\n",
    "    df_no_ons[f\"{carrier_set}_nb\"] = nodal_balance(n_no, carrier=carrier_set, time=\"2013\", aggregate=[\"component\", \"snapshot\", \"carrier\"], energy=True)\n",
    "    df_h2_ons[f\"{carrier_set}_nb\"] = nodal_balance(n_h2, carrier=carrier_set, time=\"2013\", aggregate=[\"component\", \"snapshot\", \"carrier\"], energy=True)\n",
    "\n",
    "df_no_ons.iloc[: , -10:].head()"
   ]
  },
  {
   "cell_type": "code",
   "execution_count": null,
   "metadata": {
    "pycharm": {
     "name": "#%%\n"
    }
   },
   "outputs": [],
   "source": [
    "# nodal balance electricity and hydrogen\n",
    "carrier_sets_plot = [[\"AC\", \"low voltage\"], [\"AC\", \"low voltage\"], [\"H2\"], [\"H2\"]]\n",
    "\n",
    "fig, axs = plt.subplots(ncols=2, nrows=2, subplot_kw={'projection': ccrs.EqualEarth()},\n",
    "                        figsize=(18, 16))\n",
    "crs = ccrs.EqualEarth()\n",
    "\n",
    "for i, ax in enumerate(axs.reshape(-1)):\n",
    "\n",
    "    if i in [0,2]:\n",
    "        df = df_no_ons\n",
    "        title = \"(no hydrogen network)\"\n",
    "    elif i in [1,3]:\n",
    "        df = df_h2_ons\n",
    "        title = \"(with hydrogen network)\"\n",
    "\n",
    "    ax.add_feature(cartopy.feature.BORDERS, edgecolor='black', linewidth=0.5)\n",
    "    ax.coastlines(edgecolor='black', linewidth=0.5)\n",
    "    ax.set_facecolor('white')\n",
    "    ax.add_feature(cartopy.feature.OCEAN, color='azure')\n",
    "\n",
    "    df.to_crs(crs.proj4_init).plot(column=f\"{carrier_sets_plot[i]}_nb\",\n",
    "                                                   ax=ax,\n",
    "                                                   cmap=plt.get_cmap(\"magma_r\"),\n",
    "                                                   linewidth=0.05,\n",
    "                                                   edgecolor = 'grey',\n",
    "                                                   legend=True,\n",
    "                                                   legend_kwds={'label':\"total balance [MWh]\",\n",
    "                            'orientation': \"vertical\",\n",
    "                                      'shrink' : 0.9})\n",
    "\n",
    "    ax.set_title(f\"{carrier_sets_plot[i]} {title}\", fontsize=16, **font1)\n",
    "plt.show()"
   ]
  },
  {
   "cell_type": "code",
   "execution_count": null,
   "metadata": {
    "pycharm": {
     "name": "#%%\n"
    }
   },
   "outputs": [],
   "source": [
    "# Figure 6 in Neumann paper\n",
    "carrier = [\"AC\", \"low voltage\", \"H2\", \"gas\", \"oil\"]\n",
    "nb = nodal_balance(n_h2, carrier=n_h2.buses.carrier.unique().tolist(), time=\"2013\", aggregate=[\"component\", \"snapshot\", \"carrier\"], energy=True)"
   ]
  },
  {
   "cell_type": "code",
   "execution_count": null,
   "metadata": {
    "pycharm": {
     "name": "#%%\n"
    }
   },
   "outputs": [],
   "source": [
    "nb.describe()"
   ]
  },
  {
   "cell_type": "markdown",
   "metadata": {
    "pycharm": {
     "name": "#%% md\n"
    }
   },
   "source": [
    "### Balance Flow"
   ]
  },
  {
   "cell_type": "markdown",
   "metadata": {
    "pycharm": {
     "name": "#%% md\n"
    }
   },
   "source": [
    "![](../../../../Pictures/Screenshots/Screenshot_20230215_101816.png)"
   ]
  },
  {
   "cell_type": "code",
   "execution_count": null,
   "metadata": {
    "pycharm": {
     "name": "#%%\n"
    }
   },
   "outputs": [],
   "source": [
    "n_no.lines_t.p0.sum()"
   ]
  },
  {
   "cell_type": "code",
   "execution_count": null,
   "metadata": {
    "pycharm": {
     "name": "#%%\n"
    }
   },
   "outputs": [],
   "source": [
    "# Electricity network\n",
    "\n",
    "fig, ax = plt.subplots(1, 1, subplot_kw={\"projection\": ccrs.EqualEarth()}, figsize=(8, 8))\n",
    "\n",
    "m_no.plot(ax=ax, projection=ccrs.EqualEarth(), bus_colors=\"black\", line_colors=\"gold\", link_colors=\"deepskyblue\",\n",
    "          line_widths=5e-4, link_widths=1e-3, flow=\"sum\")\n",
    "pypsa.plot.add_legend_patches(ax=ax, labels=[\"HVAC lines\", \"HVDC lines\"], colors=[\"gold\",\"deepskyblue\"], legend_kw={'loc': 'upper left'})\n",
    "plt.show()"
   ]
  },
  {
   "cell_type": "code",
   "execution_count": null,
   "metadata": {
    "pycharm": {
     "name": "#%%\n"
    }
   },
   "outputs": [],
   "source": [
    "# Hydrogen network\n",
    "# link_cmap=plt.get_cmap(\"magma_r\")\n",
    "\n",
    "fig, ax = plt.subplots(1, 1, subplot_kw={\"projection\": ccrs.EqualEarth()}, figsize=(8, 8))\n",
    "\n",
    "l_h2.plot(ax=ax, link_colors=\"pink\", link_widths=2e-5,  flow=\"sum\", projection=ccrs.EqualEarth())\n",
    "pypsa.plot.add_legend_patches(ax=ax, labels=[\"hydrogen pipes\"], colors=[\"pink\"], legend_kw={'loc': 'upper left'})\n",
    "ax.set_title(\"H2 network\", pad=20)\n",
    "plt.show()"
   ]
  },
  {
   "cell_type": "markdown",
   "metadata": {
    "pycharm": {
     "name": "#%% md\n"
    }
   },
   "source": [
    "\n",
    "# 4.2 Important Technologies and their role"
   ]
  },
  {
   "cell_type": "markdown",
   "metadata": {
    "pycharm": {
     "name": "#%% md\n"
    }
   },
   "source": [
    "## Electricity Balances"
   ]
  },
  {
   "cell_type": "code",
   "execution_count": null,
   "metadata": {
    "pycharm": {
     "name": "#%%\n"
    }
   },
   "outputs": [],
   "source": [
    "carrier = [\"AC\", \"low voltage\"]\n",
    "loads = [\"electricity\", \"industry electricity\", \"agriculture electricity\"]\n",
    "period = \"2013-05\"\n",
    "nb_el_no = nodal_balance(n_no, carrier = carrier, time=period, aggregate=['component', 'bus'], energy=True)  # in units of energy\n",
    "nb_el_h2 = nodal_balance(n_h2, carrier = carrier, time=period, aggregate=['component', 'bus'], energy=True)  # in units of energy\n",
    "# convert from MW to GW and unstack\n",
    "nb_el_no = nb_el_no.unstack(level=[1]) / 1000\n",
    "nb_el_h2 = nb_el_h2.unstack(level=[1]) / 1000\n",
    "loads_el_no = abs(nb_el_no[loads].sum(axis=1))\n",
    "loads_el_h2 = abs(nb_el_h2[loads].sum(axis=1))\n",
    "nb_el_no.drop(loads, axis=1, inplace=True)\n",
    "nb_el_h2.drop(loads, axis=1, inplace=True)\n",
    "\n",
    "# condense groups\n",
    "nb_el_no = get_condense_sum(nb_el_no, c1_groups, c1_groups_name)\n",
    "nb_el_h2 = get_condense_sum(nb_el_h2, c1_groups, c1_groups_name)\n",
    "# rename unhandy column names\n",
    "nb_el_no.rename(columns=carrier_renaming, inplace=True)\n",
    "nb_el_h2.rename(columns=carrier_renaming, inplace=True)\n",
    "\n",
    "nb_el_no.head(3)"
   ]
  },
  {
   "cell_type": "code",
   "execution_count": null,
   "metadata": {
    "pycharm": {
     "name": "#%%\n"
    }
   },
   "outputs": [],
   "source": [
    "# differences\n",
    "nb_el_no.columns.difference(nb_el_h2.columns)"
   ]
  },
  {
   "cell_type": "markdown",
   "metadata": {
    "pycharm": {
     "name": "#%% md\n"
    }
   },
   "source": [
    "- network without H2 grid has no 'biomass CHP'\n",
    "- network with H2 grid has no Direct Air Capture, no H2 Fuel Cell, no gas CHP and no cas CHP CC"
   ]
  },
  {
   "cell_type": "code",
   "execution_count": null,
   "metadata": {
    "pycharm": {
     "name": "#%%\n"
    }
   },
   "outputs": [],
   "source": [
    "# thesis_plot\n",
    "\n",
    "fig, ax = plt.subplots(figsize=(14, 8))\n",
    "\n",
    "n = n_no\n",
    "df = nb_el_no\n",
    "df_loads = loads_el_no\n",
    "\n",
    "# split into df with positive and negative values\n",
    "df_neg, df_pos = df.clip(upper=0), df.clip(lower=0)\n",
    "# exclude all technologies that contribute less than th\n",
    "th = 0.001\n",
    "df_pos_share = df_pos.sum() / df_pos.sum().sum()\n",
    "df_pos = df_pos[df_pos_share[df_pos_share > th].sort_values(ascending=False).index]\n",
    "df_neg_share = df_neg.sum() / df_neg.sum().sum()\n",
    "df_neg = df_neg[df_neg_share[df_neg_share > th].sort_values(ascending=False).index]\n",
    "# get colors\n",
    "c_neg, c_pos = [carrier_colors[col] for col in df_neg.columns], [carrier_colors[col] for col in df_pos.columns]\n",
    "\n",
    "# plot positive values\n",
    "ax = df_pos.plot.area(ax=ax, stacked=True, color=c_pos, linewidth=0.)\n",
    "\n",
    "# rename negative values that are also present on positive side, so that they are not shown and plot negative values\n",
    "f = lambda c: '_' + c\n",
    "cols = [f(c) if (c in df_pos.columns) else c for c in  df_neg.columns]\n",
    "cols_map = dict(zip(df_neg.columns, cols))\n",
    "ax = df_neg.rename(columns=cols_map).plot.area(ax=ax, stacked=True, color=c_neg, linewidth=0.)\n",
    "\n",
    "# plot lmps\n",
    "lmps = n.buses_t.marginal_price[n.buses[n.buses.carrier.isin(carrier)].index].mean(axis=1)[period]\n",
    "ax2 = lmps.plot(style=\"--\", color=\"black\", label=\"lmp (mean over buses) [€/MWh]\", secondary_y=True)\n",
    "ax2.grid(False)\n",
    "# set limits of secondary y-axis\n",
    "ax2.set_ylim([ - 1.5 * lmps.max() * abs(df_neg.sum(axis=1).min()) /  df_pos.sum(axis=1).max() , 1.5 * lmps.max()])\n",
    "\n",
    "# plot loads\n",
    "df_loads.plot(style=\":\", color=\"black\", label=\"electricity loads\")\n",
    "\n",
    "# rescale the y-axis\n",
    "ax.set_ylim([1.05*df_neg.sum(axis=1).min(), 1.05*df_pos.sum(axis=1).max()])\n",
    "ax.legend(ncol=1, loc=\"upper center\", bbox_to_anchor=(1.15, 1), title=\"Legend for left y-axis\")\n",
    "ax2.legend(title=\"Legend for right y-axis\",  loc=\"upper right\")\n",
    "ax.set_ylabel(\"total electriyity balance [GWh]\")\n",
    "ax.set_xlabel(\"\")\n",
    "ax.set_title(\"Electricity balance may (STST)\", fontsize=16, pad=15,  **font1)\n",
    "fig.tight_layout()\n",
    "\n",
    "fig.savefig(f\"{PLOT_DIR}01_general/4.2_systems_technologies/el_bal_may_STST.png\")"
   ]
  },
  {
   "cell_type": "markdown",
   "metadata": {
    "pycharm": {
     "name": "#%% md\n"
    }
   },
   "source": [
    "Further analysis"
   ]
  },
  {
   "cell_type": "code",
   "execution_count": null,
   "metadata": {
    "pycharm": {
     "name": "#%%\n"
    }
   },
   "outputs": [],
   "source": [
    "df_pos.sum()"
   ]
  },
  {
   "cell_type": "markdown",
   "metadata": {
    "pycharm": {
     "name": "#%% md\n"
    }
   },
   "source": [
    "- onwind only slighlty with most generation (not the case for June, July and August)\n",
    "onwind,345562.363252\n",
    "solar,338931.403660"
   ]
  },
  {
   "cell_type": "markdown",
   "metadata": {
    "pycharm": {
     "name": "#%% md\n"
    }
   },
   "source": []
  },
  {
   "cell_type": "code",
   "execution_count": null,
   "metadata": {
    "pycharm": {
     "name": "#%%\n"
    }
   },
   "outputs": [],
   "source": [
    "df_neg"
   ]
  },
  {
   "cell_type": "code",
   "execution_count": null,
   "metadata": {
    "pycharm": {
     "name": "#%%\n"
    }
   },
   "outputs": [],
   "source": [
    "# correlation of solar generation and lmp\n",
    "nb_el_no[[\"solar\", \"solar rooftop\"]].sum(axis=1).corr(lmps) # -0.6751\n",
    "nb_el_no.onwind.corr(lmps) # -0.358751\n",
    "nb_el_no.PHS.corr(lmps) # 0.78373\n",
    "nb_el_no.PHS.corr(nb_el_no.solar) # -0.9022"
   ]
  },
  {
   "cell_type": "code",
   "execution_count": null,
   "metadata": {
    "pycharm": {
     "name": "#%%\n"
    }
   },
   "outputs": [],
   "source": [
    "# range of lmps\n",
    "lmps.describe()"
   ]
  },
  {
   "cell_type": "code",
   "execution_count": null,
   "metadata": {
    "pycharm": {
     "name": "#%%\n"
    }
   },
   "outputs": [],
   "source": [
    "fig, ax = plt.subplots(figsize=(14, 8))\n",
    "\n",
    "n = n_h2\n",
    "df = nb_el_h2\n",
    "df_loads = loads_el_h2\n",
    "\n",
    "# split into df with positive and negative values\n",
    "df_neg, df_pos = df.clip(upper=0), df.clip(lower=0)\n",
    "# exclude all technologies that contribute less than th\n",
    "th = 0.001\n",
    "df_pos_share = df_pos.sum() / df_pos.sum().sum()\n",
    "df_pos = df_pos[df_pos_share[df_pos_share > th].sort_values(ascending=False).index]\n",
    "df_neg_share = df_neg.sum() / df_neg.sum().sum()\n",
    "df_neg = df_neg[df_neg_share[df_neg_share > th].sort_values(ascending=False).index]\n",
    "# get colors\n",
    "c_neg, c_pos = [carrier_colors[col] for col in df_neg.columns], [carrier_colors[col] for col in df_pos.columns]\n",
    "\n",
    "# plot positive values\n",
    "ax = df_pos.plot.area(ax=ax, stacked=True, color=c_pos, linewidth=0.)\n",
    "\n",
    "# rename negative values that are also present on positive side, so that they are not shown and plot negative values\n",
    "f = lambda c: '_' + c\n",
    "cols = [f(c) if (c in df_pos.columns) else c for c in  df_neg.columns]\n",
    "cols_map = dict(zip(df_neg.columns, cols))\n",
    "ax = df_neg.rename(columns=cols_map).plot.area(ax=ax, stacked=True, color=c_neg, linewidth=0.)\n",
    "\n",
    "# plot lmps\n",
    "lmps = n.buses_t.marginal_price[n.buses[n.buses.carrier.isin(carrier)].index].mean(axis=1)[period]\n",
    "ax2 = lmps.plot(style=\"--\", color=\"black\", label=\"lmp (mean over buses) [€/MWh]\", secondary_y=True)\n",
    "ax2.grid(False)\n",
    "# set limits of secondary y-axis\n",
    "ax2.set_ylim([ - 1.5 * lmps.max() * abs(df_neg.sum(axis=1).min()) /  df_pos.sum(axis=1).max() , 1.5 * lmps.max()])\n",
    "\n",
    "# plot loads\n",
    "df_loads.plot(style=\":\", color=\"black\", label=\"electricity loads\")\n",
    "\n",
    "# rescale the y-axis\n",
    "ax.set_ylim([1.05*df_neg.sum(axis=1).min(), 1.05*df_pos.sum(axis=1).max()])\n",
    "ax.legend(ncol=1, loc=\"upper center\", bbox_to_anchor=(1.15, 1), title=\"Legend for left y-axis\")\n",
    "ax2.legend(title=\"Legend for right y-axis\",  loc=\"upper right\")\n",
    "ax.set_ylabel(\"total electriyity balance [GWh]\")\n",
    "ax.set_xlabel(\"\")\n",
    "ax.set_title(\"Electricity balance may (EXP)\", fontsize=16, pad=15,  **font1)\n",
    "fig.tight_layout()\n",
    "\n",
    "fig.savefig(f\"{PLOT_DIR}01_general/4.2_systems_technologies/el_bal_may_EXP.png\")"
   ]
  },
  {
   "cell_type": "code",
   "execution_count": null,
   "metadata": {
    "pycharm": {
     "name": "#%%\n"
    }
   },
   "outputs": [],
   "source": [
    "# range of lmps\n",
    "lmps.describe()"
   ]
  },
  {
   "cell_type": "markdown",
   "metadata": {
    "pycharm": {
     "name": "#%% md\n"
    }
   },
   "source": [
    "### Electricity Balance (Jan)"
   ]
  },
  {
   "cell_type": "code",
   "execution_count": null,
   "metadata": {
    "pycharm": {
     "name": "#%%\n"
    }
   },
   "outputs": [],
   "source": [
    "carrier = [\"AC\", \"low voltage\"]\n",
    "loads = [\"electricity\", \"industry electricity\", \"agriculture electricity\"]\n",
    "period = \"2013-01\"\n",
    "nb_el_no = nodal_balance(n_no, carrier = carrier, time=period, aggregate=['component', 'bus'], energy=True)  # in units of energy\n",
    "nb_el_h2 = nodal_balance(n_h2, carrier = carrier, time=period, aggregate=['component', 'bus'], energy=True)  # in units of energy\n",
    "# convert from MW to GW and unstack\n",
    "nb_el_no = nb_el_no.unstack(level=[1]) / 1000\n",
    "nb_el_h2 = nb_el_h2.unstack(level=[1]) / 1000\n",
    "loads_el_no = abs(nb_el_no[loads].sum(axis=1))\n",
    "loads_el_h2 = abs(nb_el_h2[loads].sum(axis=1))\n",
    "nb_el_no.drop(loads, axis=1, inplace=True)\n",
    "nb_el_h2.drop(loads, axis=1, inplace=True)\n",
    "\n",
    "# condense groups\n",
    "nb_el_no = get_condense_sum(nb_el_no, c1_groups, c1_groups_name)\n",
    "nb_el_h2 = get_condense_sum(nb_el_h2, c1_groups, c1_groups_name)\n",
    "# rename unhandy column names\n",
    "nb_el_no.rename(columns=carrier_renaming, inplace=True)\n",
    "nb_el_h2.rename(columns=carrier_renaming, inplace=True)\n",
    "\n",
    "nb_el_no.head(3)"
   ]
  },
  {
   "cell_type": "code",
   "execution_count": null,
   "metadata": {
    "pycharm": {
     "name": "#%%\n"
    }
   },
   "outputs": [],
   "source": [
    "# thesis plot\n",
    "\n",
    "fig, ax = plt.subplots(figsize=(14, 8))\n",
    "\n",
    "n = n_no\n",
    "df = nb_el_no\n",
    "df_loads = loads_el_no\n",
    "\n",
    "# split into df with positive and negative values\n",
    "df_neg, df_pos = df.clip(upper=0), df.clip(lower=0)\n",
    "# exclude all technologies that contribute less than th\n",
    "th = 0.001\n",
    "df_pos_share = df_pos.sum() / df_pos.sum().sum()\n",
    "df_pos = df_pos[df_pos_share[df_pos_share > th].sort_values(ascending=False).index]\n",
    "df_neg_share = df_neg.sum() / df_neg.sum().sum()\n",
    "df_neg = df_neg[df_neg_share[df_neg_share > th].sort_values(ascending=False).index]\n",
    "# get colors\n",
    "c_neg, c_pos = [carrier_colors[col] for col in df_neg.columns], [carrier_colors[col] for col in df_pos.columns]\n",
    "\n",
    "# plot positive values\n",
    "ax = df_pos.plot.area(ax=ax, stacked=True, color=c_pos, linewidth=0.)\n",
    "\n",
    "# rename negative values that are also present on positive side, so that they are not shown and plot negative values\n",
    "f = lambda c: '_' + c\n",
    "cols = [f(c) if (c in df_pos.columns) else c for c in  df_neg.columns]\n",
    "cols_map = dict(zip(df_neg.columns, cols))\n",
    "ax = df_neg.rename(columns=cols_map).plot.area(ax=ax, stacked=True, color=c_neg, linewidth=0.)\n",
    "\n",
    "# plot lmps\n",
    "lmps = n.buses_t.marginal_price[n.buses[n.buses.carrier.isin(carrier)].index].mean(axis=1)[period]\n",
    "ax2 = lmps.plot(style=\"--\", color=\"black\", label=\"lmp (mean over buses) [€/MWh]\", secondary_y=True)\n",
    "ax2.grid(False)\n",
    "# set limits of secondary y-axis\n",
    "ax2.set_ylim([ - 1.5 * lmps.max() * abs(df_neg.sum(axis=1).min()) /  df_pos.sum(axis=1).max() , 1.5 * lmps.max()])\n",
    "\n",
    "# plot loads\n",
    "df_loads.plot(style=\":\", color=\"black\", label=\"electricity loads [GWh]\")\n",
    "\n",
    "# rescale the y-axis\n",
    "ax.set_ylim([1.05*df_neg.sum(axis=1).min(), 1.05*df_pos.sum(axis=1).max()])\n",
    "ax.legend(ncol=1, loc=\"upper center\", bbox_to_anchor=(1.15, 1), title=\"Legend for left y-axis\")\n",
    "ax2.legend(title=\"Legend for right y-axis\",  loc=\"upper right\")\n",
    "ax.set_ylabel(\"total electriyity balance [GWh]\")\n",
    "ax.set_xlabel(\"\")\n",
    "ax.grid(True)\n",
    "ax.set_title(\"Electricity balance january (STST)\", fontsize=16, pad=15,  **font1)\n",
    "fig.tight_layout()\n",
    "\n",
    "fig.savefig(f\"{PLOT_DIR}01_general/4.2_systems_technologies/el_bal_jan_STST.png\")"
   ]
  },
  {
   "cell_type": "code",
   "execution_count": null,
   "metadata": {
    "pycharm": {
     "name": "#%%\n"
    }
   },
   "outputs": [],
   "source": [
    "# range of lmps\n",
    "lmps.describe()"
   ]
  },
  {
   "cell_type": "code",
   "execution_count": null,
   "metadata": {
    "pycharm": {
     "name": "#%%\n"
    }
   },
   "outputs": [],
   "source": [
    "fig, ax = plt.subplots(figsize=(14, 8))\n",
    "\n",
    "n = n_h2\n",
    "df = nb_el_h2\n",
    "df_loads = loads_el_h2\n",
    "\n",
    "# split into df with positive and negative values\n",
    "df_neg, df_pos = df.clip(upper=0), df.clip(lower=0)\n",
    "# exclude all technologies that contribute less than th\n",
    "th = 0.001\n",
    "df_pos_share = df_pos.sum() / df_pos.sum().sum()\n",
    "df_pos = df_pos[df_pos_share[df_pos_share > th].sort_values(ascending=False).index]\n",
    "df_neg_share = df_neg.sum() / df_neg.sum().sum()\n",
    "df_neg = df_neg[df_neg_share[df_neg_share > th].sort_values(ascending=False).index]\n",
    "# get colors\n",
    "c_neg, c_pos = [carrier_colors[col] for col in df_neg.columns], [carrier_colors[col] for col in df_pos.columns]\n",
    "\n",
    "# plot positive values\n",
    "ax = df_pos.plot.area(ax=ax, stacked=True, color=c_pos, linewidth=0.)\n",
    "\n",
    "# rename negative values that are also present on positive side, so that they are not shown and plot negative values\n",
    "f = lambda c: '_' + c\n",
    "cols = [f(c) if (c in df_pos.columns) else c for c in  df_neg.columns]\n",
    "cols_map = dict(zip(df_neg.columns, cols))\n",
    "ax = df_neg.rename(columns=cols_map).plot.area(ax=ax, stacked=True, color=c_neg, linewidth=0.)\n",
    "\n",
    "# plot lmps\n",
    "lmps = n.buses_t.marginal_price[n.buses[n.buses.carrier.isin(carrier)].index].mean(axis=1)[period]\n",
    "ax2 = lmps.plot(style=\"--\", color=\"black\", label=\"lmp (mean over buses) [€/MWh]\", secondary_y=True)\n",
    "ax2.grid(False)\n",
    "# set limits of secondary y-axis\n",
    "ax2.set_ylim([ - 1.5 * lmps.max() * abs(df_neg.sum(axis=1).min()) /  df_pos.sum(axis=1).max() , 1.5 * lmps.max()])\n",
    "\n",
    "# plot loads\n",
    "df_loads.plot(style=\":\", color=\"black\", label=\"electricity loads [GWh]\")\n",
    "\n",
    "# rescale the y-axis\n",
    "ax.set_ylim([1.05*df_neg.sum(axis=1).min(), 1.05*df_pos.sum(axis=1).max()])\n",
    "ax.legend(ncol=1, loc=\"upper center\", bbox_to_anchor=(1.15, 1), title=\"Legend for left y-axis\")\n",
    "ax2.legend(title=\"Legend for right y-axis\",  loc=\"upper right\")\n",
    "ax.set_ylabel(\"total electriyity balance [GWh]\")\n",
    "ax.set_xlabel(\"\")\n",
    "ax.grid(True)\n",
    "ax.set_title(\"Electricity balance january (EXP)\", fontsize=16, pad=15,  **font1)\n",
    "fig.tight_layout()\n",
    "\n",
    "fig.savefig(f\"{PLOT_DIR}01_general/4.2_systems_technologies/el_bal_jan_EXP.png\")"
   ]
  },
  {
   "cell_type": "code",
   "execution_count": null,
   "metadata": {
    "pycharm": {
     "name": "#%%\n"
    }
   },
   "outputs": [],
   "source": [
    "# range of lmps\n",
    "lmps.describe()"
   ]
  },
  {
   "cell_type": "markdown",
   "metadata": {
    "pycharm": {
     "name": "#%% md\n"
    }
   },
   "source": [
    "### Electricity balance (all year)"
   ]
  },
  {
   "cell_type": "code",
   "execution_count": null,
   "metadata": {
    "pycharm": {
     "name": "#%%\n"
    }
   },
   "outputs": [],
   "source": [
    "carrier = [\"AC\", \"low voltage\"]\n",
    "loads = [\"electricity\", \"industry electricity\", \"agriculture electricity\"]\n",
    "period = \"2013\"\n",
    "nb_el_no = nodal_balance(n_no, carrier = carrier, time=period, aggregate=['component', 'bus'], energy=True)  # in units of energy\n",
    "nb_el_h2 = nodal_balance(n_h2, carrier = carrier, time=period, aggregate=['component', 'bus'], energy=True)  # in units of energy\n",
    "# convert from MW to GW and unstack\n",
    "nb_el_no = nb_el_no.unstack(level=[1]) / 1000\n",
    "nb_el_h2 = nb_el_h2.unstack(level=[1]) / 1000\n",
    "loads_el_no = abs(nb_el_no[loads].sum(axis=1))\n",
    "loads_el_h2 = abs(nb_el_h2[loads].sum(axis=1))\n",
    "nb_el_no.drop(loads, axis=1, inplace=True)\n",
    "nb_el_h2.drop(loads, axis=1, inplace=True)\n",
    "\n",
    "# condense groups\n",
    "nb_el_no_all = get_condense_sum(nb_el_no, c1_groups, c1_groups_name)\n",
    "nb_el_h2_all = get_condense_sum(nb_el_h2, c1_groups, c1_groups_name)\n",
    "# rename unhandy column names\n",
    "nb_el_no_all.rename(columns=carrier_renaming, inplace=True)\n",
    "nb_el_h2_all.rename(columns=carrier_renaming, inplace=True)\n",
    "\n",
    "nb_el_no_all.head(3)"
   ]
  },
  {
   "cell_type": "code",
   "execution_count": null,
   "metadata": {
    "pycharm": {
     "name": "#%%\n"
    }
   },
   "outputs": [],
   "source": [
    "fig, ax = plt.subplots(figsize=(14, 8))\n",
    "\n",
    "n = n_no\n",
    "# \"8h\", \"D\", \"W\", \"M\"\n",
    "res = \"D\"\n",
    "df = nb_el_no_all#.resample(res).sum()\n",
    "df_loads = loads_el_no#.resample(res).sum()\n",
    "\n",
    "# split into df with positive and negative values and get colors\n",
    "df_neg, df_pos = df.clip(upper=0), df.clip(lower=0)\n",
    "c_neg, c_pos = [carrier_colors[col] for col in df_neg.columns], [carrier_colors[col] for col in df_pos.columns]\n",
    "\n",
    "# plot positive values\n",
    "ax = df_pos.plot.area(ax=ax, stacked=True, color=c_pos, linewidth=0.)\n",
    "\n",
    "# rename negative values so that they are not shown and plot negative values\n",
    "ax = df_neg.rename(columns=lambda x: '_' + x).plot.area(ax=ax, stacked=True, color=c_neg, linewidth=0.)\n",
    "\n",
    "# plot lmps\n",
    "lmps = n.buses_t.marginal_price[n.buses[n.buses.carrier.isin(carrier)].index].mean(axis=1)[period].resample(res).mean()\n",
    "ax2 = lmps.plot(style=\"--\", color=\"black\", label=\"lmp (mean over buses) [€/MWh]\", secondary_y=True)\n",
    "ax2.grid(False)\n",
    "\n",
    "# plot loads\n",
    "df_loads.plot(style=\":\", color=\"black\", label=\"electricity loads [GWh]\")\n",
    "\n",
    "# set limits of secondary y-axis\n",
    "ax2.set_ylim([ - 1.5 * lmps.max() * abs(df_neg.sum(axis=1).min()) /  df_pos.sum(axis=1).max() , 1.5 * lmps.max()])\n",
    "\n",
    "# rescale the y-axis\n",
    "ax.set_ylim([1.05*df_neg.sum(axis=1).min(), 1.05*df_pos.sum(axis=1).max()])\n",
    "ax.legend(ncol=1, loc=\"upper center\", bbox_to_anchor=(1.15, 1), title=\"Legend for left y-axis\")\n",
    "ax2.legend(title=\"Legend for right y-axis\",  loc=\"upper right\")\n",
    "ax.set_ylabel(\"tota electriyity balance [GWh]\")\n",
    "ax.set_xlabel(\"\")\n",
    "ax.grid(True)\n",
    "ax.set_title(f\"{carrier}\")\n",
    "fig.tight_layout()"
   ]
  },
  {
   "cell_type": "code",
   "execution_count": null,
   "metadata": {
    "pycharm": {
     "name": "#%%\n"
    }
   },
   "outputs": [],
   "source": [
    "fig, ax = plt.subplots(figsize=(14, 8))\n",
    "\n",
    "n = n_h2\n",
    "# \"8h\", \"D\", \"W\", \"M\"\n",
    "res = \"D\"\n",
    "df = nb_el_h2_all.resample(res).sum()\n",
    "df_loads = loads_el_h2.resample(res).sum()\n",
    "\n",
    "# split into df with positive and negative values and get colors\n",
    "df_neg, df_pos = df.clip(upper=0), df.clip(lower=0)\n",
    "c_neg, c_pos = [carrier_colors[col] for col in df_neg.columns], [carrier_colors[col] for col in df_pos.columns]\n",
    "\n",
    "# plot positive values\n",
    "ax = df_pos.plot.area(ax=ax, stacked=True, color=c_pos, linewidth=0.)\n",
    "\n",
    "# rename negative values so that they are not shown and plot negative values\n",
    "ax = df_neg.rename(columns=lambda x: '_' + x).plot.area(ax=ax, stacked=True, color=c_neg, linewidth=0.)\n",
    "\n",
    "# plot lmps\n",
    "lmps = n.buses_t.marginal_price[n.buses[n.buses.carrier.isin(carrier)].index].mean(axis=1)[period].resample(res).mean()\n",
    "ax2 = lmps.plot(style=\"--\", color=\"black\", label=\"lmp (mean over buses) [€/MWh]\", secondary_y=True)\n",
    "ax2.grid(False)\n",
    "\n",
    "# plot loads\n",
    "df_loads.plot(style=\":\", color=\"black\", label=\"electricity loads [GWh]\")\n",
    "\n",
    "# set limits of secondary y-axis\n",
    "ax2.set_ylim([ - 1.5 * lmps.max() * abs(df_neg.sum(axis=1).min()) /  df_pos.sum(axis=1).max() , 1.5 * lmps.max()])\n",
    "\n",
    "# rescale the y-axis\n",
    "ax.set_ylim([1.05*df_neg.sum(axis=1).min(), 1.05*df_pos.sum(axis=1).max()])\n",
    "ax.legend(ncol=1, loc=\"upper center\", bbox_to_anchor=(1.15, 1), title=\"Legend for left y-axis\")\n",
    "ax2.legend(title=\"Legend for right y-axis\",  loc=\"upper right\")\n",
    "ax.set_ylabel(\"tota electriyity balance [GWh]\")\n",
    "ax.set_xlabel(\"\")\n",
    "ax.grid(True)\n",
    "ax.set_title(f\"{carrier}\")\n",
    "fig.tight_layout()"
   ]
  },
  {
   "cell_type": "markdown",
   "metadata": {
    "pycharm": {
     "name": "#%% md\n"
    }
   },
   "source": [
    "### Electricity Balances special cases"
   ]
  },
  {
   "cell_type": "code",
   "execution_count": null,
   "metadata": {
    "pycharm": {
     "name": "#%%\n"
    }
   },
   "outputs": [],
   "source": [
    "carrier = [\"AC\", \"low voltage\"]\n",
    "loads = [\"electricity\", \"industry electricity\", \"agriculture electricity\"]\n",
    "start_date = \"2013-01-23 00:00:00\"\n",
    "end_date = \"2013-01-25 00:00:00\"\n",
    "period = n_no.generators_t.p.index[(n_no.generators_t.p.index >= start_date) & (n_no.generators_t.p.index <= end_date)]\n",
    "nb_el_no = nodal_balance(n_no, carrier = carrier, time=period, aggregate=['component', 'bus'], energy=False)  # in units of energy\n",
    "nb_el_h2 = nodal_balance(n_h2, carrier = carrier, time=period, aggregate=['component', 'bus'], energy=False)  # in units of energy\n",
    "# convert from MW to GW and unstack\n",
    "nb_el_no = nb_el_no.unstack(level=[1]) / 1000\n",
    "nb_el_h2 = nb_el_h2.unstack(level=[1]) / 1000\n",
    "loads_el_no = abs(nb_el_no[loads].sum(axis=1))\n",
    "loads_el_h2 = abs(nb_el_h2[loads].sum(axis=1))\n",
    "nb_el_no.drop(loads, axis=1, inplace=True)\n",
    "nb_el_h2.drop(loads, axis=1, inplace=True)\n",
    "\n",
    "# condense groups\n",
    "nb_el_no = get_condense_sum(nb_el_no, c1_groups, c1_groups_name)\n",
    "nb_el_h2 = get_condense_sum(nb_el_h2, c1_groups, c1_groups_name)\n",
    "# rename unhandy column names\n",
    "nb_el_no.rename(columns=carrier_renaming, inplace=True)\n",
    "nb_el_h2.rename(columns=carrier_renaming, inplace=True)\n",
    "\n",
    "nb_el_no.head(3)"
   ]
  },
  {
   "cell_type": "code",
   "execution_count": null,
   "metadata": {
    "pycharm": {
     "name": "#%%\n"
    }
   },
   "outputs": [],
   "source": [
    "fig, ax = plt.subplots(figsize=(14, 8))\n",
    "\n",
    "model = \"STST\"\n",
    "\n",
    "if model == \"STST\":\n",
    "    n = n_no\n",
    "    df = nb_el_no\n",
    "    df_loads = loads_el_no\n",
    "elif model == \"EXP\":\n",
    "    n = n_h2\n",
    "    df = nb_el_h2\n",
    "    df_loads = loads_el_h2\n",
    "\n",
    "# split into df with positive and negative values\n",
    "df_neg, df_pos = df.clip(upper=0), df.clip(lower=0)\n",
    "# exclude all technologies that contribute less than th\n",
    "th = 0.001\n",
    "df_pos_share = df_pos.sum() / df_pos.sum().sum()\n",
    "df_pos = df_pos[df_pos_share[df_pos_share > th].sort_values(ascending=False).index]\n",
    "df_neg_share = df_neg.sum() / df_neg.sum().sum()\n",
    "df_neg = df_neg[df_neg_share[df_neg_share > th].sort_values(ascending=False).index]\n",
    "# get colors\n",
    "c_neg, c_pos = [carrier_colors[col] for col in df_neg.columns], [carrier_colors[col] for col in df_pos.columns]\n",
    "\n",
    "# plot positive values\n",
    "ax = df_pos.plot.area(ax=ax, stacked=True, color=c_pos, linewidth=0.)\n",
    "\n",
    "# rename negative values that are also present on positive side, so that they are not shown and plot negative values\n",
    "f = lambda c: '_' + c\n",
    "cols = [f(c) if (c in df_pos.columns) else c for c in  df_neg.columns]\n",
    "cols_map = dict(zip(df_neg.columns, cols))\n",
    "ax = df_neg.rename(columns=cols_map).plot.area(ax=ax, stacked=True, color=c_neg, linewidth=0.)\n",
    "\n",
    "# plot lmps\n",
    "lmps = n.buses_t.marginal_price[n.buses[n.buses.carrier.isin(carrier)].index].mean(axis=1)[period]\n",
    "ax2 = lmps.plot(style=\"--\", color=\"black\", label=\"lmp (mean over buses) [€/MWh]\", secondary_y=True)\n",
    "ax2.grid(False)\n",
    "# set limits of secondary y-axis\n",
    "ax2.set_ylim([ - 1.5 * lmps.max() * abs(df_neg.sum(axis=1).min()) /  df_pos.sum(axis=1).max() , 1.5 * lmps.max()])\n",
    "\n",
    "# plot loads\n",
    "df_loads.plot(style=\":\", color=\"black\", label=\"electricity loads [GWh]\")\n",
    "\n",
    "# rescale the y-axis\n",
    "ax.set_ylim([1.05*df_neg.sum(axis=1).min(), 1.05*df_pos.sum(axis=1).max()])\n",
    "ax.legend(ncol=1, loc=\"upper center\", bbox_to_anchor=(1.15, 1), title=\"Legend for left y-axis\")\n",
    "ax2.legend(title=\"Legend for right y-axis\",  loc=\"upper right\")\n",
    "ax.set_ylabel(\"total electriyity balance [GWh]\")\n",
    "ax.set_xlabel(\"\")\n",
    "ax.grid(True)\n",
    "ax.set_title(f\"Electricity balance from {start_date} until {end_date} ({model})\", fontsize=16, pad=15,  **font1)\n",
    "fig.tight_layout()\n",
    "\n",
    "# fig.savefig(f\"{PLOT_DIR}01_general/4.2_systems_technologies/el_bal_{datetime.strptime(start_date, '%Y-%m-%d %H:%M:%S').strftime('%Y-%m-%d_%H_%M_%S')}__{datetime.strptime(end_date, '%Y-%m-%d %H:%M:%S').strftime('%Y-%m-%d_%H_%M_%S')}_{model}.png\")"
   ]
  },
  {
   "cell_type": "markdown",
   "metadata": {
    "pycharm": {
     "name": "#%% md\n"
    }
   },
   "source": [
    "### Monthly Balance"
   ]
  },
  {
   "cell_type": "code",
   "execution_count": null,
   "metadata": {
    "pycharm": {
     "name": "#%%\n"
    }
   },
   "outputs": [],
   "source": [
    "# get list of months\n",
    "month_list = pd.period_range(start='2013-01-01', end='2013-12-31', freq='M')\n",
    "month_list = [month.strftime(\"%b-%Y\") for month in month_list]\n",
    "\n",
    "res_no_all_pos = pd.DataFrame(index=month_list, columns= nb_el_no_all.columns)\n",
    "res_no_all_neg = pd.DataFrame(index=month_list, columns= nb_el_no_all.columns)\n",
    "res_h2_all_pos = pd.DataFrame(index=month_list, columns= nb_el_h2_all.columns)\n",
    "res_h2_all_neg = pd.DataFrame(index=month_list, columns= nb_el_h2_all.columns)\n",
    "\n",
    "iterables = [month_list, [\"no H2 network\", \"H2 network\"]]\n",
    "multiindex = pd.MultiIndex.from_product(iterables, names=[\"month\", \"scenario\"])\n",
    "index_union = nb_el_no_all.columns.union(nb_el_h2_all.columns)\n",
    "res_pos = pd.DataFrame(index=multiindex, columns=index_union)\n",
    "res_neg = pd.DataFrame(index=multiindex, columns=index_union)\n",
    "\n",
    "df_no_neg, df_no_pos = nb_el_no_all.clip(upper=0), nb_el_no_all.clip(lower=0)\n",
    "df_h2_neg, df_h2_pos = nb_el_h2_all.clip(upper=0), nb_el_h2_all.clip(lower=0)\n",
    "\n",
    "for month in month_list:\n",
    "    res_no_all_pos.loc[month] = df_no_pos[month].sum()\n",
    "    res_no_all_neg.loc[month] = df_no_neg[month].sum()\n",
    "    res_h2_all_pos.loc[month] = df_h2_pos[month].sum()\n",
    "    res_h2_all_neg.loc[month] = df_h2_neg[month].sum()\n",
    "\n",
    "    res_pos.loc[month, \"no H2 network\"] = df_no_pos[month].sum()\n",
    "    res_pos.loc[month, \"H2 network\"] = df_h2_pos[month].sum()\n",
    "    res_neg.loc[month, \"no H2 network\"] = df_no_neg[month].sum()\n",
    "    res_neg.loc[month, \"H2 network\"] = df_h2_neg[month].sum()"
   ]
  },
  {
   "cell_type": "code",
   "execution_count": null,
   "metadata": {
    "pycharm": {
     "name": "#%%\n"
    }
   },
   "outputs": [],
   "source": [
    "# thesis plot (STST)\n",
    "\n",
    "fig, (ax1, ax2) = plt.subplots(ncols=1, nrows=2, figsize=(20, 12))\n",
    "\n",
    "# sort carriers by ouptut and exclude all with less than 1 GW\n",
    "i_no_gen = res_no_all_pos.sum().sort_values(ascending=False)[res_no_all_pos.sum().sort_values(ascending=False) > 1].index\n",
    "\n",
    "res_no_all_pos[i_no_gen].plot(ax=ax1, kind=\"bar\", stacked=True, grid=False, color=[carrier_colors[c] for c in res_no_all_pos[i_no_gen].columns])\n",
    "ax1.legend(ncol=1, bbox_to_anchor=(1, 1))\n",
    "ax1.set_title(\"Monthly distribution of electricity generation (STST)\", fontsize=16, pad=15,  **font1)\n",
    "\n",
    "# exclude solar and onwind\n",
    "i_no_gen_ex = i_no_gen.drop([\"onwind\", \"solar\"])\n",
    "\n",
    "res_no_all_pos[i_no_gen_ex].plot(ax=ax2, kind=\"bar\", stacked=True, grid=False, color=[carrier_colors[c] for c in res_pos[i_no_gen_ex].columns])\n",
    "ax2.legend(ncol=1, bbox_to_anchor=(1, 1))\n",
    "ax2.set_title(\"Monthly distribution of electricity generation without wind and solar (STST)\", fontsize=16, pad=15,  **font1)\n",
    "\n",
    "fig.tight_layout(pad=3)\n",
    "fig.show()\n",
    "\n",
    "fig.savefig(f\"{PLOT_DIR}01_general/4.2_systems_technologies/el_bal_monthly_STST.png\")"
   ]
  },
  {
   "cell_type": "code",
   "execution_count": null,
   "metadata": {
    "pycharm": {
     "name": "#%%\n"
    }
   },
   "outputs": [],
   "source": [
    "# Further investigation\n",
    "res_no_all_pos[i_no_gen_ex][\"gas CHP CC\"].loc[[\"Jan-2013\", \"Feb-2013\"]].sum() / (res_no_all_pos[i_no_gen_ex][\"gas CHP CC\"].sum() - res_no_all_pos[i_no_gen_ex][\"gas CHP CC\"].loc[[\"Jan-2013\", \"Feb-2013\"]].sum())"
   ]
  },
  {
   "cell_type": "code",
   "execution_count": null,
   "metadata": {
    "pycharm": {
     "name": "#%%\n"
    }
   },
   "outputs": [],
   "source": [
    "# EXP\n",
    "\n",
    "fig, (ax1, ax2) = plt.subplots(ncols=1, nrows=2, figsize=(20, 12))\n",
    "\n",
    "# sort carriers by ouptut and exclude all with less than 1 GW\n",
    "i_h2_gen = res_h2_all_pos.sum().sort_values(ascending=False)[res_h2_all_pos.sum().sort_values(ascending=False) > 1].index\n",
    "\n",
    "res_h2_all_pos[i_h2_gen].plot(ax=ax1, kind=\"bar\", stacked=True, grid=False, color=[carrier_colors[c] for c in res_h2_all_pos[i_h2_gen].columns])\n",
    "ax1.legend(ncol=1, bbox_to_anchor=(1, 1))\n",
    "ax1.set_title(\"Monthly distribution of electricity generation (EXP)\", fontsize=16, pad=15,  **font1)\n",
    "\n",
    "# exclude solar and onwind\n",
    "i_h2_gen_ex = i_h2_gen.drop([\"onwind\", \"solar\"])\n",
    "\n",
    "res_h2_all_pos[i_h2_gen_ex].plot(ax=ax2, kind=\"bar\", stacked=True, grid=False, color=[carrier_colors[c] for c in res_pos[i_h2_gen_ex].columns])\n",
    "ax2.legend(ncol=1, bbox_to_anchor=(1, 1))\n",
    "ax2.set_title(\"Monthly distribution of electricity generation without wind and solar (EXP)\", fontsize=16, pad=15,  **font1)\n",
    "\n",
    "fig.tight_layout(pad=3)\n",
    "fig.show()\n",
    "\n",
    "fig.savefig(f\"{PLOT_DIR}01_general/4.2_systems_technologies/el_bal_monthly_EXP.png\")"
   ]
  },
  {
   "cell_type": "code",
   "execution_count": null,
   "metadata": {
    "pycharm": {
     "name": "#%%\n"
    }
   },
   "outputs": [],
   "source": [
    "# both scenarios\n",
    "\n",
    "fig, (ax1, ax2) = plt.subplots(ncols=1, nrows=2, figsize=(20, 12))\n",
    "\n",
    "# sort carriers by ouptut and exclude all with less than 1 GW\n",
    "index = res_pos.sum().sort_values(ascending=False)[res_pos.sum().sort_values(ascending=False) > 1].index\n",
    "\n",
    "res_pos[index].plot(ax=ax1, kind=\"bar\", stacked=True, grid=False, color=[carrier_colors[c] for c in res_pos[index].columns], width=0.8)\n",
    "ax1.legend(ncol=1, bbox_to_anchor=(1, 1))\n",
    "ax1.set_title(\"Monthly distribution of electricity generation\", fontsize=16, pad=15,  **font1)\n",
    "\n",
    "# exclude solar and onwind\n",
    "index = index.drop([\"onwind\", \"solar\"])\n",
    "\n",
    "res_pos[index].plot(ax=ax2, kind=\"bar\", stacked=True, grid=False, color=[carrier_colors[c] for c in res_pos[index].columns], width=0.8)\n",
    "ax2.legend(ncol=1, bbox_to_anchor=(1, 1))\n",
    "ax2.set_title(\"Monthly distribution of electricity generation without wind and solar\", fontsize=16, pad=15,  **font1)\n",
    "\n",
    "fig.tight_layout(pad=3)\n",
    "fig.show()"
   ]
  },
  {
   "cell_type": "code",
   "execution_count": null,
   "metadata": {
    "pycharm": {
     "name": "#%%\n"
    }
   },
   "outputs": [],
   "source": [
    "# consumption carriers\n",
    "abs(res_no_all_neg.sum()).sort_values(ascending=False)[abs(res_no_all_neg.sum()).sort_values(ascending=False) > 1].index"
   ]
  },
  {
   "cell_type": "code",
   "execution_count": null,
   "metadata": {
    "pycharm": {
     "name": "#%%\n"
    }
   },
   "outputs": [],
   "source": [
    "# STST\n",
    "\n",
    "fig, (ax1, ax2) = plt.subplots(ncols=1, nrows=2, figsize=(20, 12))\n",
    "\n",
    "# sort carriers by ouptut and exclude all with less than 1 GW\n",
    "i_no_con = abs(res_no_all_neg.sum()).sort_values(ascending=False)[abs(res_no_all_neg.sum()).sort_values(ascending=False) > 1].index\n",
    "\n",
    "res_no_all_neg[i_no_con].plot(ax=ax1, kind=\"bar\", stacked=True, grid=False, color=[carrier_colors[c] for c in res_no_all_neg[i_no_con].columns])\n",
    "ax1.legend(ncol=1, bbox_to_anchor=(1, 1))\n",
    "ax1.set_title(\"Monthly distribution of electricity consumption (STST)\", fontsize=16, pad=15,  **font1)\n",
    "\n",
    "# exclude\n",
    "i_no_con_ex = i_no_con.drop([\"H2 Electrolysis\", \"BEV charger\", \"heat pump\"])\n",
    "\n",
    "res_no_all_neg[i_no_con_ex].plot(ax=ax2, kind=\"bar\", stacked=True, grid=False, color=[carrier_colors[c] for c in res_no_all_neg[i_no_con_ex].columns])\n",
    "ax2.legend(ncol=1, bbox_to_anchor=(1, 1))\n",
    "ax2.set_title(\"Monthly distribution of electricity consumption without electrolysis, BEV charger and heat pump\", fontsize=16, pad=15,  **font1)\n",
    "\n",
    "fig.tight_layout(pad=3)\n",
    "fig.show()"
   ]
  },
  {
   "cell_type": "code",
   "execution_count": null,
   "metadata": {
    "pycharm": {
     "name": "#%%\n"
    }
   },
   "outputs": [],
   "source": [
    "# both\n",
    "\n",
    "fig, (ax1, ax2) = plt.subplots(ncols=1, nrows=2, figsize=(20, 12))\n",
    "\n",
    "# sort carriers by ouptut and exclude all with less than 1 GW\n",
    "index = abs(res_neg.sum()).sort_values(ascending=False)[abs(res_neg.sum()).sort_values(ascending=False) > 1].index\n",
    "\n",
    "res_neg[index].plot(ax=ax1, kind=\"bar\", stacked=True, grid=False, color=[carrier_colors[c] for c in res_neg[index].columns], width=0.8)\n",
    "ax1.legend(ncol=1, bbox_to_anchor=(1, 1))\n",
    "ax1.set_title(\"Monthly distribution of electricity consumption\", fontsize=16, pad=15,  **font1)\n",
    "\n",
    "# exclude\n",
    "index = index.drop([\"H2 Electrolysis\", \"BEV charger\"])\n",
    "\n",
    "res_neg[index].plot(ax=ax2, kind=\"bar\", stacked=True, grid=False, color=[carrier_colors[c] for c in res_neg[index].columns], width=0.8)\n",
    "ax2.legend(ncol=1, bbox_to_anchor=(1, 1))\n",
    "ax2.set_title(\"Monthly distribution of electricity consumption without electrolysis and BEV charger\", fontsize=16, pad=15,  **font1)\n",
    "\n",
    "fig.tight_layout(pad=3)\n",
    "fig.show()"
   ]
  },
  {
   "cell_type": "markdown",
   "metadata": {
    "pycharm": {
     "name": "#%% md\n"
    }
   },
   "source": [
    "## Focus on technologies"
   ]
  },
  {
   "cell_type": "code",
   "execution_count": null,
   "metadata": {
    "pycharm": {
     "name": "#%%\n"
    }
   },
   "outputs": [],
   "source": [
    "n.generators_t.p.loc[:, (n.generators.carrier == \"onwind\") | (n.generators.carrier == \"solar\")]"
   ]
  },
  {
   "cell_type": "markdown",
   "metadata": {
    "pycharm": {
     "name": "#%% md\n"
    }
   },
   "source": [
    "### Load Duration curves"
   ]
  },
  {
   "cell_type": "code",
   "execution_count": null,
   "metadata": {
    "pycharm": {
     "name": "#%%\n"
    }
   },
   "outputs": [],
   "source": [
    "# thesis plot\n",
    "\n",
    "# STST\n",
    "n = n_no\n",
    "\n",
    "# reverse renaming to find all carriers in network\n",
    "i_no_gen_ex_rev = [carrier_renaming_reverse.get(n, n) for n in i_no_gen_ex]\n",
    "index = list(i_no_gen_ex_rev)\n",
    "\n",
    "fig, (ax1, ax2) = plt.subplots(ncols=2, nrows=1, figsize=(16, 7))\n",
    "\n",
    "for c in [\"onwind\", \"solar\"]:\n",
    "    gen = (n.generators_t.p.loc[:, n.generators.carrier == c] / 1000)*3\n",
    "    gen = pd.DataFrame(gen.sum(axis=1).sort_values(ascending=False)).set_index(pd.Index(np.linspace(0, 1, num=2920)))\n",
    "    ax1.plot(gen, color = carrier_colors[c], label=c)\n",
    "\n",
    "# plot solar + onwind\n",
    "gen = (n.generators_t.p.loc[:, (n.generators.carrier == \"onwind\") | (n.generators.carrier == \"solar\")] / 1000)*3\n",
    "gen = pd.DataFrame(gen.sum(axis=1).sort_values(ascending=False)).set_index(pd.Index(np.linspace(0, 1, num=2920)))\n",
    "ax1.plot(gen, color = \"black\", label= \"onwind + solar\")\n",
    "\n",
    "# plot load\n",
    "load = (n_no.loads_t.p.loc[: , n_no.loads.carrier.isin([\"electricity\", \"industry electricity\", \"agriculture electricity\"])].sum(axis=1) / 1000) * 3\n",
    "ax1.hlines(y=load.mean(), xmin=0, xmax=1, ls=\"dashed\", linewidth=2, color='saddlebrown', label=\"electricity load (mean)\")\n",
    "ax1.hlines(y=load.max(), xmin=0, xmax=1, ls=\"dashed\", linewidth=2, color='red', label = \"electricity load (max)\")\n",
    "\n",
    "ax1.set_ylabel(\"generation [GWh]\")\n",
    "ax1.set_xlabel(\"Fraction of total time\")\n",
    "ax1.set_facecolor(\"gainsboro\")\n",
    "ax1.legend()\n",
    "\n",
    "for c in c_gen(index, n_no):\n",
    "    if c == \"\":\n",
    "        continue\n",
    "    gen = (n.generators_t.p.loc[:, n.generators.carrier == c] / 1000)*3\n",
    "    gen = pd.DataFrame(gen.sum(axis=1).sort_values(ascending=False)).set_index(pd.Index(np.linspace(0, 1, num=2920)))\n",
    "    ax2.plot(gen, color = carrier_colors[c], label=c, marker=markers[index.index(c)], markevery=[0,int(0.25*2920), int(0.5*2920),int(0.75*2920)-1])\n",
    "\n",
    "for c in c_link(index, n_no):\n",
    "    gen = (-n.links_t.p1.loc[:, n.links.carrier == c] / 1000)*3\n",
    "    gen = pd.DataFrame(gen.sum(axis=1).sort_values(ascending=False)).set_index(pd.Index(np.linspace(0, 1, num=2920)))\n",
    "    ax2.plot(gen, color = carrier_colors[c], label=c.replace(\"urban central solid \", \"\").replace(\"urban central \", \"\"),marker=markers[index.index(c)], markevery=[0,int(0.25*2920), int(0.5*2920),int(0.75*2920)-1])\n",
    "\n",
    "for c in c_su(index, n_no):\n",
    "    gen = (n.storage_units_t.p.loc[:, n.storage_units.carrier == c] / 1000)*3\n",
    "    gen = pd.DataFrame(gen.sum(axis=1).sort_values(ascending=False)).set_index(pd.Index(np.linspace(0, 1, num=2920)))\n",
    "    ax2.plot(gen, color = carrier_colors[c], label=c, marker=markers[index.index(c)], markevery=[0,int(0.25*2920), int(0.5*2920),int(0.75*2920)-1])\n",
    "\n",
    "ax2.set_ylabel(\"generation [GWh]\")\n",
    "ax2.set_xlabel(\"Fraction of total time\")\n",
    "ax2.set_facecolor(\"gainsboro\")\n",
    "ax2.legend(ncol=2)\n",
    "\n",
    "fig.suptitle(\"Load duration curves of electricity generating technologies (STST)\", fontsize=16, **font1)\n",
    "fig.tight_layout()\n",
    "plt.show()\n",
    "\n",
    "fig.savefig(f\"{PLOT_DIR}01_general/4.2_systems_technologies/load_dur_gen_STST.png\")"
   ]
  },
  {
   "cell_type": "code",
   "execution_count": null,
   "metadata": {
    "pycharm": {
     "name": "#%%\n"
    }
   },
   "outputs": [],
   "source": [
    "load = (n_no.loads_t.p.loc[: , n_no.loads.carrier.isin([\"electricity\", \"industry electricity\", \"agriculture electricity\"])].sum(axis=1) / 1000) * 3\n",
    "plt.plot(load)\n",
    "load.mean()"
   ]
  },
  {
   "cell_type": "code",
   "execution_count": null,
   "metadata": {
    "pycharm": {
     "name": "#%%\n"
    }
   },
   "outputs": [],
   "source": [
    "c = \"OCGT\"\n",
    "gen = (-n.links_t.p1.loc[:, n.links.carrier == c] / 1000)*3\n",
    "gen = pd.DataFrame(gen.sum(axis=1).sort_values(ascending=False)).set_index(pd.Index(np.linspace(0, 1, num=2920)))\n",
    "gen"
   ]
  },
  {
   "cell_type": "code",
   "execution_count": null,
   "metadata": {
    "pycharm": {
     "name": "#%%\n"
    }
   },
   "outputs": [],
   "source": [
    "# EXP\n",
    "n = n_h2\n",
    "\n",
    "# reverse renaming to find all carriers in network\n",
    "i_h2_gen_ex_rev = [carrier_renaming_reverse.get(n, n) for n in i_h2_gen_ex]\n",
    "index = list(i_h2_gen_ex_rev)\n",
    "\n",
    "fig, (ax1, ax2) = plt.subplots(ncols=2, nrows=1, figsize=(16, 7))\n",
    "\n",
    "for c in [\"onwind\", \"solar\"]:\n",
    "    gen = n.generators_t.p.loc[:, n.generators.carrier == c] / 1000\n",
    "    gen = pd.DataFrame(gen.sum(axis=1).sort_values(ascending=False)).set_index(pd.Index(np.linspace(0, 1, num=2920)))\n",
    "    ax1.plot(gen, color = carrier_colors[c], label=c)\n",
    "\n",
    "ax1.set_ylabel(\"generation [GWh]\")\n",
    "ax1.set_xlabel(\"Fraction of total time\")\n",
    "ax1.legend()\n",
    "\n",
    "for c in c_gen(index, n_no):\n",
    "    if c == \"\":\n",
    "        continue\n",
    "    gen = n.generators_t.p.loc[:, n.generators.carrier == c] / 1000\n",
    "    gen = pd.DataFrame(gen.sum(axis=1).sort_values(ascending=False)).set_index(pd.Index(np.linspace(0, 1, num=2920)))\n",
    "    ax2.plot(gen, color = carrier_colors[c], label=c, marker=markers[index.index(c)], markevery=[0,int(0.25*2920), int(0.5*2920),int(0.75*2920)-1])\n",
    "\n",
    "for c in c_link(index, n_no):\n",
    "    gen = -n.links_t.p1.loc[:, n.links.carrier == c] / 1000\n",
    "    gen = pd.DataFrame(gen.sum(axis=1).sort_values(ascending=False)).set_index(pd.Index(np.linspace(0, 1, num=2920)))\n",
    "    ax2.plot(gen, color = carrier_colors[c], label=c.replace(\"urban central solid \", \"\").replace(\"urban central \", \"\"), marker=markers[index.index(c)], markevery=[0,int(0.25*2920), int(0.5*2920),int(0.75*2920)-1])\n",
    "\n",
    "for c in c_su(index, n_no):\n",
    "    gen = n.storage_units_t.p.loc[:, n.storage_units.carrier == c] / 1000\n",
    "    gen = pd.DataFrame(gen.sum(axis=1).sort_values(ascending=False)).set_index(pd.Index(np.linspace(0, 1, num=2920)))\n",
    "    ax2.plot(gen, color = carrier_colors[c], label=c, marker=markers[index.index(c)], markevery=[0,int(0.25*2920), int(0.5*2920),int(0.75*2920)-1])\n",
    "\n",
    "ax2.set_ylabel(\"generation [GWh]\")\n",
    "ax2.set_xlabel(\"Fraction of total time\")\n",
    "ax2.legend(ncol=2)\n",
    "\n",
    "fig.suptitle(\"Load duration curves of important electricity generating technologies (EXP)\", fontsize=16, **font1)\n",
    "fig.tight_layout()\n",
    "plt.show()\n",
    "\n",
    "fig.savefig(f\"{PLOT_DIR}01_general/4.2_systems_technologies/load_dur_gen_EXP.png\")"
   ]
  },
  {
   "cell_type": "code",
   "execution_count": null,
   "metadata": {
    "pycharm": {
     "name": "#%%\n"
    }
   },
   "outputs": [],
   "source": [
    "# STST consumption\n",
    "n = n_no\n",
    "\n",
    "# reverse renaming to find all carriers in network\n",
    "i_no_gen_ex_rev = [carrier_renaming_reverse.get(n, n) for n in i_no_gen_ex]\n",
    "index = list(i_no_gen_ex_rev)\n",
    "\n",
    "fig, (ax1, ax2) = plt.subplots(ncols=2, nrows=1, figsize=(16, 7))\n",
    "\n",
    "index = [\"H2 Electrolysis\", \"BEV charger\"] + [\"urban central air heat pump\"] #heat_pump # heat pump is missing due to grouping\n",
    "\n",
    "for c in c_gen(index, n_no):\n",
    "    gen = n.generators_t.p.loc[:, n.generators.carrier == c] / 1000\n",
    "    gen = pd.DataFrame(gen.sum(axis=1).sort_values(ascending=False)).set_index(pd.Index(np.linspace(0, 1, num=2920)))\n",
    "    ax1.plot(gen, color = carrier_colors[c], label=c)\n",
    "\n",
    "for c in c_link(index, n_no):\n",
    "    gen = -n.links_t.p0.loc[:, n.links.carrier == c] / 1000\n",
    "    gen = pd.DataFrame(gen.sum(axis=1).sort_values(ascending=False)).set_index(pd.Index(np.linspace(0, 1, num=2920)))\n",
    "    ax1.plot(gen, color = carrier_colors[c], label=c.replace(\"urban central solid \", \"\").replace(\"urban central \", \"\"))\n",
    "\n",
    "ax1.set_ylabel(\"consumption [GWh]\")\n",
    "ax1.set_xlabel(\"Fraction of total time\")\n",
    "ax1.legend(loc=\"lower left\")\n",
    "\n",
    "index = list(i_no_con_ex) + [\"urban central resistive heater\"] #resistive_heater # resistive heater is missing due to grouping\n",
    "\n",
    "for c in c_gen(index, n_no):\n",
    "    gen = n.generators_t.p.loc[:, n.generators.carrier == c] / 1000\n",
    "    gen = pd.DataFrame(gen.sum(axis=1).sort_values(ascending=False)).set_index(pd.Index(np.linspace(0, 1, num=2920)))\n",
    "    ax2.plot(gen, color = carrier_colors[c], label=c, marker=markers[index.index(c)], markevery=[0,int(0.25*2920), int(0.5*2920),int(0.75*2920)-1])\n",
    "\n",
    "for c in c_link(index, n_no):\n",
    "    gen = -n.links_t.p0.loc[:, n.links.carrier == c] / 1000\n",
    "    gen = pd.DataFrame(gen.sum(axis=1).sort_values(ascending=False)).set_index(pd.Index(np.linspace(0, 1, num=2920)))\n",
    "    ax2.plot(gen, color = carrier_colors[c], label=c.replace(\"urban central solid \", \"\").replace(\"urban central \", \"\"), marker=markers[index.index(c)], markevery=[0,int(0.25*2920), int(0.5*2920),int(0.75*2920)-1])\n",
    "\n",
    "for c in c_su(index, n_no):\n",
    "    gen = n.storage_units_t.p.loc[:, n.storage_units.carrier == c] / 1000\n",
    "    gen = pd.DataFrame(gen.sum(axis=1).sort_values(ascending=False)).set_index(pd.Index(np.linspace(0, 1, num=2920)))\n",
    "    ax2.plot(gen, color = carrier_colors[c], label=c, marker=markers[index.index(c)], markevery=[0,int(0.25*2920), int(0.5*2920),int(0.75*2920)-1])\n",
    "\n",
    "ax2.set_ylabel(\"consumption [GWh]\")\n",
    "ax2.set_xlabel(\"Fraction of total time\")\n",
    "ax2.legend(loc=\"lower left\", ncol=2)\n",
    "\n",
    "fig.suptitle(\"Load duration curves of important electricity consuming technologies (STST)\", fontsize=16, **font1)\n",
    "fig.tight_layout()\n",
    "plt.show()\n",
    "\n",
    "fig.savefig(f\"{PLOT_DIR}01_general/4.2_systems_technologies/load_dur_con_STST.png\")"
   ]
  },
  {
   "cell_type": "markdown",
   "metadata": {
    "pycharm": {
     "name": "#%% md\n"
    }
   },
   "source": [
    "Questions:\n",
    "- Does it make more sense for the consuming carriers to look at p0 or p1? just difference in magnitude and sign\n",
    "\n",
    "Findings"
   ]
  },
  {
   "cell_type": "markdown",
   "metadata": {
    "pycharm": {
     "name": "#%% md\n"
    }
   },
   "source": [
    "### Capacity factors"
   ]
  },
  {
   "cell_type": "markdown",
   "metadata": {
    "pycharm": {
     "name": "#%% md\n"
    }
   },
   "source": [
    "**Question:**\n",
    "- You have to aggregate over two dimensions: space and time\n",
    "- Which dimension makes more sense to aggregate over\n",
    "- You could visualize space coponent via map or boxplot\n",
    "- You could visualize time component via heatmap"
   ]
  },
  {
   "cell_type": "code",
   "execution_count": null,
   "metadata": {
    "pycharm": {
     "name": "#%%\n"
    }
   },
   "outputs": [],
   "source": [
    "# capacity factors across regions as boxplot\n",
    "\n",
    "boxprops=dict(facecolor=\"white\", color=\"white\")\n",
    "medianprops = dict(color=\"black\",linewidth=1.5)\n",
    "meanprops = {\"marker\":\"d\",\"markerfacecolor\":\"white\", \"markeredgecolor\":\"black\"}\n",
    "\n",
    "i_no_gen_rev = [carrier_renaming_reverse.get(n, n) for n in i_no_gen]\n",
    "df = df_no_ons[[f\"{i}_cf\" for i in i_no_gen_rev]]\n",
    "df = df.values\n",
    "\n",
    "# Filter data using np.isnan\n",
    "mask = ~np.isnan(df)\n",
    "filtered_data = [d[m] for d, m in zip(df.T, mask.T)]\n",
    "\n",
    "fig, ax = plt.subplots(figsize=(12, 6))\n",
    "bp = plt.boxplot(x=filtered_data, labels =i_no_gen, patch_artist=True, showmeans=True, boxprops=boxprops, meanprops=meanprops, medianprops=medianprops)\n",
    "\n",
    "for box, col in zip(bp['boxes'],[carrier_colors[c] for c in i_no_gen]):\n",
    "    # change outline color\n",
    "    box.set(color=col, linewidth=2)\n",
    "\n",
    "for i, sample_size in enumerate(df_no_ons[[f\"{i}_cf\" for i in i_no_gen_rev]].count()):\n",
    "    ax.annotate(sample_size, xy=(0,0),  xycoords='axes fraction',\n",
    "        xytext=((i+0.35)/16,1), textcoords='axes fraction', color=\"blue\")\n",
    "\n",
    "ax.patch.set_facecolor('lightgrey')\n",
    "ax.patch.set_alpha(0.5)\n",
    "plt.xticks(rotation=90)\n",
    "plt.title(\"Capacity Factors of electricity generating technologies across the regions (STST)\", fontsize=16, pad=15,  **font1)\n",
    "fig.tight_layout()\n",
    "plt.show()\n",
    "\n",
    "fig.savefig(f\"{PLOT_DIR}01_general/4.2_systems_technologies/cap_fac_el_gen_STST.png\")\n",
    "\n",
    "# diamond indicates the mean (rest is like in normal boxplot)"
   ]
  },
  {
   "cell_type": "code",
   "execution_count": null,
   "metadata": {
    "pycharm": {
     "name": "#%%\n"
    }
   },
   "outputs": [],
   "source": [
    "# thesis plot\n",
    "\n",
    "# capacity factors across regions as map\n",
    "carriers = [\"onwind\", \"solar\",\"offwind-dc\", \"ror\"]\n",
    "\n",
    "fig, axs = plt.subplots(ncols=2, nrows=2, subplot_kw={'projection': ccrs.EqualEarth()},\n",
    "                        figsize=(18, 16))\n",
    "crs = ccrs.EqualEarth()\n",
    "\n",
    "for i, ax in enumerate(axs.reshape(-1)):\n",
    "\n",
    "    if carriers[i] in [\"offwind-dc\", \"offwind-ac\"]:\n",
    "        df = df_no_off\n",
    "    else:\n",
    "        df = df_no_ons\n",
    "\n",
    "    ax.add_feature(cartopy.feature.BORDERS, edgecolor='black', linewidth=0.5)\n",
    "    ax.coastlines(edgecolor='black', linewidth=0.5)\n",
    "    ax.set_facecolor('white')\n",
    "    ax.add_feature(cartopy.feature.OCEAN, color='azure')\n",
    "\n",
    "    df.to_crs(crs.proj4_init).plot(column=f\"{carriers[i]}_cf\",\n",
    "                                                   ax=ax,\n",
    "                                                   cmap=plt.get_cmap(\"magma_r\"),\n",
    "                                                   linewidth=0.05,\n",
    "                                                   edgecolor = 'grey',\n",
    "                                                   legend=True,\n",
    "                                                   legend_kwds={'label':\"capacity factors\",\n",
    "                            'orientation': \"vertical\",\n",
    "                                      'shrink' : 0.9})\n",
    "\n",
    "    max_size = df[f\"{carriers[i]}_gen\"].max()\n",
    "    df.to_crs(crs.proj4_init).centroid.plot(ax=ax, sizes=df[f\"{carriers[i]}_gen\"] / max_size *300,  color=\"black\", edgecolor=\"white\")\n",
    "    pypsa.plot.add_legend_circles(ax=ax, sizes=[0.6], labels=[\"Generation magnitude\"], patch_kw={'color': 'black', 'edgecolor': 'white'}, legend_kw={'loc': 'upper left'})\n",
    "\n",
    "    ax.set_title(f\"{carriers[i]}\", fontsize=16, **font1)\n",
    "\n",
    "# fig.suptitle(\"Spatial Differences in the electricity generation of the VRE technologies (STST)\", fontsize=16, **font1)\n",
    "fig.tight_layout()\n",
    "plt.show()\n",
    "\n",
    "fig.savefig(f\"{PLOT_DIR}01_general/4.2_systems_technologies/cap_fac_el_gen_vre_STST.png\")\n",
    "\n",
    "# Backup\n",
    "#m_no.plot(ax=ax, projection=ccrs.EqualEarth(), bus_colors=\"black\", bus_sizes=df[f\"{carriers[i]}_gen\"] / max_size, line_widths=0, link_widths=0)"
   ]
  },
  {
   "cell_type": "code",
   "execution_count": null,
   "metadata": {
    "pycharm": {
     "name": "#%%\n"
    }
   },
   "outputs": [],
   "source": [
    "carrier = \"ror\"\n",
    "# correlation capacity factors and generation\n",
    "df_no_ons[f\"{carrier}_cf\"].corr(df_no_ons[f\"{carrier}_gen\"])"
   ]
  },
  {
   "cell_type": "code",
   "execution_count": null,
   "metadata": {
    "pycharm": {
     "name": "#%%\n"
    }
   },
   "outputs": [],
   "source": [
    "# correlation with latitude\n",
    "latitudes = pd.DataFrame([Point(coords).y for coords in df_no_ons['coords']], index=df_no_ons.index)\n",
    "df_no_ons[f\"{carrier}_cf\"].corr(latitudes[0])"
   ]
  },
  {
   "cell_type": "code",
   "execution_count": null,
   "metadata": {
    "pycharm": {
     "name": "#%%\n"
    }
   },
   "outputs": [],
   "source": [
    "df_no_ons[f\"{carrier}_gen\"].sort_values(ascending=False)"
   ]
  },
  {
   "cell_type": "code",
   "execution_count": null,
   "metadata": {
    "pycharm": {
     "name": "#%%\n"
    }
   },
   "outputs": [],
   "source": [
    "from sklearn import preprocessing\n",
    "\n",
    "sns.distplot(preprocessing.normalize(df_no_ons[\"solar_cf\"].dropna().values.reshape(1, -1)), hist=False, rug=True, label=\"solar\")\n",
    "sns.distplot(preprocessing.normalize(df_no_ons[\"onwind_cf\"].dropna().values.reshape(1, -1)), hist=False, rug=True, label=\"onwind\")\n",
    "\n",
    "plt.legend()\n",
    "plt.show()"
   ]
  },
  {
   "cell_type": "code",
   "execution_count": null,
   "metadata": {
    "pycharm": {
     "name": "#%%\n"
    }
   },
   "outputs": [],
   "source": [
    "# capacity factors across regions as map\n",
    "carriers = [\"offwind-dc\", \"offwind-ac\"]\n",
    "\n",
    "fig, axs = plt.subplots(ncols=2, nrows=1, subplot_kw={'projection': ccrs.EqualEarth()},\n",
    "                        figsize=(18, 16))\n",
    "crs = ccrs.EqualEarth()\n",
    "\n",
    "for i, ax in enumerate(axs.reshape(-1)):\n",
    "\n",
    "    if carriers[i] in [\"offwind-dc\", \"offwind-ac\"]:\n",
    "        df = df_no_off\n",
    "    else:\n",
    "        df = df_no_ons\n",
    "\n",
    "    ax.add_feature(cartopy.feature.BORDERS, edgecolor='black', linewidth=0.5)\n",
    "    ax.coastlines(edgecolor='black', linewidth=0.5)\n",
    "    ax.set_facecolor('white')\n",
    "    ax.add_feature(cartopy.feature.OCEAN, color='azure')\n",
    "\n",
    "    df.to_crs(crs.proj4_init).plot(column=f\"{carriers[i]}_cf\",\n",
    "                                                   ax=ax,\n",
    "                                                   cmap=plt.get_cmap(\"magma_r\"),\n",
    "                                                   linewidth=0.05,\n",
    "                                                   edgecolor = 'grey',\n",
    "                                                   legend=True,\n",
    "                                                   legend_kwds={'label':\"capacity factors\",\n",
    "                            'orientation': \"vertical\",\n",
    "                                      'shrink' : 0.4})\n",
    "\n",
    "    max_size = df[f\"{carriers[i]}_gen\"].max()\n",
    "    df.to_crs(crs.proj4_init).centroid.plot(ax=ax, sizes=df[f\"{carriers[i]}_gen\"] / max_size *300,  color=\"black\", edgecolor=\"white\")\n",
    "    pypsa.plot.add_legend_circles(ax=ax, sizes=[0.6], labels=[\"Generation magnitude\"], patch_kw={'color': 'black', 'edgecolor': 'white'}, legend_kw={'loc': 'upper left', 'facecolor': 'lightgrey'})\n",
    "\n",
    "    ax.set_title(f\"{carriers[i]}\", fontsize=16, **font1)\n",
    "fig.tight_layout()\n",
    "plt.show()\n",
    "\n",
    "# Backup\n",
    "#m_no.plot(ax=ax, projection=ccrs.EqualEarth(), bus_colors=\"black\", bus_sizes=df[f\"{carriers[i]}_gen\"] / max_size, line_widths=0, link_widths=0)"
   ]
  },
  {
   "cell_type": "code",
   "execution_count": null,
   "metadata": {
    "pycharm": {
     "name": "#%%\n"
    }
   },
   "outputs": [],
   "source": [
    "#\n",
    "\n",
    "# capacity factors across regions as map\n",
    "carriers = [\"home battery discharger\", \"hydro\", \"V2G\", \"PHS\"]\n",
    "\n",
    "fig, axs = plt.subplots(ncols=2, nrows=2, subplot_kw={'projection': ccrs.EqualEarth()},\n",
    "                        figsize=(18, 16))\n",
    "crs = ccrs.EqualEarth()\n",
    "\n",
    "for i, ax in enumerate(axs.reshape(-1)):\n",
    "\n",
    "    if carriers[i] in [\"offwind-dc\", \"offwind-ac\"]:\n",
    "        df = df_no_off\n",
    "    else:\n",
    "        df = df_no_ons\n",
    "\n",
    "    ax.add_feature(cartopy.feature.BORDERS, edgecolor='black', linewidth=0.5)\n",
    "    ax.coastlines(edgecolor='black', linewidth=0.5)\n",
    "    ax.set_facecolor('white')\n",
    "    ax.add_feature(cartopy.feature.OCEAN, color='azure')\n",
    "\n",
    "    df.to_crs(crs.proj4_init).plot(column=f\"{carriers[i]}_cf\",\n",
    "                                                   ax=ax,\n",
    "                                                   cmap=plt.get_cmap(\"magma_r\"),\n",
    "                                                   linewidth=0.05,\n",
    "                                                   edgecolor = 'grey',\n",
    "                                                   legend=True,\n",
    "                                                   legend_kwds={'label':\"capacity factors\",\n",
    "                            'orientation': \"vertical\",\n",
    "                                      'shrink' : 0.9})\n",
    "\n",
    "    max_size = df[f\"{carriers[i]}_gen\"].max()\n",
    "    df.to_crs(crs.proj4_init).centroid.plot(ax=ax, sizes=df[f\"{carriers[i]}_gen\"] / max_size *300,  color=\"black\", edgecolor=\"white\")\n",
    "    pypsa.plot.add_legend_circles(ax=ax, sizes=[0.6], labels=[\"Generation magnitude\"], patch_kw={'color': 'black', 'edgecolor': 'white'}, legend_kw={'loc': 'upper left'})\n",
    "\n",
    "    ax.set_title(f\"{carriers[i]}\", fontsize=16, **font1)\n",
    "\n",
    "# fig.suptitle(\"Spatial Differences in the electricity generation of the VRE technologies (STST)\", fontsize=16, **font1)\n",
    "fig.tight_layout()\n",
    "plt.show()\n",
    "\n",
    "# fig.savefig(f\"{PLOT_DIR}01_general/4.2_systems_technologies/cap_fac_el_gen_store_STST.png\")\n",
    "\n",
    "# Backup\n",
    "#m_no.plot(ax=ax, projection=ccrs.EqualEarth(), bus_colors=\"black\", bus_sizes=df[f\"{carriers[i]}_gen\"] / max_size, line_widths=0, link_widths=0)"
   ]
  },
  {
   "cell_type": "code",
   "execution_count": null,
   "metadata": {
    "pycharm": {
     "name": "#%%\n"
    }
   },
   "outputs": [],
   "source": [
    "carrier = \"home battery discharger\"\n",
    "df_no_ons[f\"{carrier}_gen\"].describe()"
   ]
  },
  {
   "cell_type": "code",
   "execution_count": null,
   "metadata": {
    "pycharm": {
     "name": "#%%\n"
    }
   },
   "outputs": [],
   "source": [
    "0.385120 / 0.182673"
   ]
  },
  {
   "cell_type": "code",
   "execution_count": null,
   "metadata": {
    "pycharm": {
     "name": "#%%\n"
    }
   },
   "outputs": [],
   "source": [
    "# generation weighted capacity factor\n",
    "carrier = \"home battery discharger\"\n",
    "((df_no_ons[f\"{carrier}_gen\"] / df_no_ons[f\"{carrier}_gen\"].sum()) * df_no_ons[f\"{carrier}_cf\"]).sum()"
   ]
  },
  {
   "cell_type": "code",
   "execution_count": null,
   "metadata": {
    "pycharm": {
     "name": "#%%\n"
    }
   },
   "outputs": [],
   "source": [
    "# Norway indices\n",
    "no_i = df_no_ons[f\"{carrier}_gen\"].index[df_no_ons[f\"{carrier}_gen\"].index.str.contains('NO')]\n",
    "\n",
    "carrier = \"PHS\"\n",
    "df_no_ons[f\"{carrier}_gen\"].sort_values(ascending=False)"
   ]
  },
  {
   "cell_type": "code",
   "execution_count": null,
   "metadata": {
    "pycharm": {
     "name": "#%%\n"
    }
   },
   "outputs": [],
   "source": [
    "df_no_ons[f\"{carrier}_gen\"][no_i].sum() / df_no_ons[f\"{carrier}_gen\"].sum()"
   ]
  },
  {
   "cell_type": "code",
   "execution_count": null,
   "metadata": {
    "pycharm": {
     "name": "#%%\n"
    }
   },
   "outputs": [],
   "source": [
    "# capacity factors across regions as map\n",
    "carriers = [\"OCGT\", \"urban central gas CHP CC\" ]\n",
    "\n",
    "fig, axs = plt.subplots(ncols=2, nrows=1, subplot_kw={'projection': ccrs.EqualEarth()},\n",
    "                        figsize=(18, 8))\n",
    "crs = ccrs.EqualEarth()\n",
    "\n",
    "for i, ax in enumerate(axs):\n",
    "\n",
    "    if carriers[i] in [\"offwind-dc\", \"offwind-ac\"]:\n",
    "        df = df_no_off\n",
    "    else:\n",
    "        df = df_no_ons\n",
    "\n",
    "    ax.add_feature(cartopy.feature.BORDERS, edgecolor='black', linewidth=0.5)\n",
    "    ax.coastlines(edgecolor='black', linewidth=0.5)\n",
    "    ax.set_facecolor('white')\n",
    "    ax.add_feature(cartopy.feature.OCEAN, color='azure')\n",
    "\n",
    "    df.to_crs(crs.proj4_init).plot(column=f\"{carriers[i]}_cf\",\n",
    "                                                   ax=ax,\n",
    "                                                   cmap=plt.get_cmap(\"magma_r\"),\n",
    "                                                   linewidth=0.05,\n",
    "                                                   edgecolor = 'grey',\n",
    "                                                   legend=True,\n",
    "                                                   legend_kwds={'label':\"capacity factors\", 'orientation': \"vertical\", 'shrink' : 0.9}\n",
    "                                   )\n",
    "\n",
    "    max_size = df[f\"{carriers[i]}_gen\"].max()\n",
    "    df.to_crs(crs.proj4_init).centroid.plot(ax=ax, sizes=df[f\"{carriers[i]}_gen\"] / max_size *300,  color=\"black\", edgecolor=\"white\")\n",
    "    pypsa.plot.add_legend_circles(ax=ax, sizes=[0.6], labels=[\"Generation magnitude\"], patch_kw={'color': 'black', 'edgecolor': 'white'}, legend_kw={'loc': 'upper left', 'facecolor': 'lightgrey'})\n",
    "\n",
    "    ax.set_title(carriers[i].replace(\"urban central solid \", \"\").replace(\"urban central \", \"\"), fontsize=16, **font1)\n",
    "fig.tight_layout()\n",
    "plt.show()\n",
    "\n",
    "#fig.savefig(f\"{PLOT_DIR}01_general/4.2_systems_technologies/cap_fac_el_gen_peak_STST.png\")"
   ]
  },
  {
   "cell_type": "code",
   "execution_count": null,
   "metadata": {
    "pycharm": {
     "name": "#%%\n"
    }
   },
   "outputs": [],
   "source": [
    "c = 'urban central gas CHP CC' # \"H2 Fuel Cell\" # 'urban central gas CHP CC'\n",
    "df_no_ons[f\"{c}_gen\"].sort_values(ascending=False)#[df_no_ons[f\"{c}_gen\"].sort_values(ascending=False) > 3]"
   ]
  },
  {
   "cell_type": "code",
   "execution_count": null,
   "metadata": {
    "pycharm": {
     "name": "#%%\n"
    }
   },
   "outputs": [],
   "source": [
    "# generation weighted capacity factor\n",
    "carrier = \"H2 Fuel Cell\" #urban central solid biomass CHP CC' #\"urban central gas CHP\"\n",
    "((df_no_ons[f\"{carrier}_gen\"] / df_no_ons[f\"{carrier}_gen\"].sum()) * df_no_ons[f\"{carrier}_cf\"]).sum()"
   ]
  },
  {
   "cell_type": "code",
   "execution_count": null,
   "metadata": {
    "pycharm": {
     "name": "#%%\n"
    }
   },
   "outputs": [],
   "source": [
    "# generation through time as heatmap\n",
    "\n",
    "carrier = \"onwind\"\n",
    "\n",
    "# get generation in TWh\n",
    "df = pd.DataFrame(n.generators_t.p.loc[:, n.generators.carrier == carrier].sum(axis=1)) / 1000\n",
    "\n",
    "hours = df.index.hour.unique()\n",
    "df_start = pd.DataFrame(index=pd.Index(df.index.date).unique())\n",
    "\n",
    "for hour in hours:\n",
    "    df_start[str(hour)] = df[df.index.hour==hour].values\n",
    "\n",
    "plt.figure(figsize=(12, 5))\n",
    "ax = sns.heatmap(df_start.transpose(),\n",
    "                 cmap=plt.get_cmap(\"magma_r\"),\n",
    "                 linewidth=0.001,\n",
    "                 xticklabels=15,\n",
    "                 cbar_kws={'label': 'generation in TWh'})\n",
    "\n",
    "plt.title(f\"{carrier}\", fontsize=16, **font1)\n",
    "plt.ylabel(\"hour of the day\", fontsize=12, **font1)\n",
    "plt.xlabel(\"day of the year\", fontsize=12, **font1)\n",
    "\n",
    "# Rewrite the y labels\n",
    "x_labels = ax.get_xticks()\n",
    "ax.xaxis.set_major_formatter(matplotlib.dates.DateFormatter('%d-%b'))\n",
    "\n",
    "plt.show()"
   ]
  },
  {
   "cell_type": "code",
   "execution_count": null,
   "metadata": {
    "pycharm": {
     "name": "#%%\n"
    }
   },
   "outputs": [],
   "source": [
    "#TODO: you could calc capacity factors for every time step and also plot them as heatmap"
   ]
  },
  {
   "cell_type": "markdown",
   "metadata": {
    "pycharm": {
     "name": "#%% md\n"
    }
   },
   "source": [
    "### Full load hours"
   ]
  },
  {
   "cell_type": "code",
   "execution_count": null,
   "metadata": {
    "pycharm": {
     "name": "#%%\n"
    }
   },
   "outputs": [],
   "source": [
    "# how are the full load hours aggregated:\n",
    "# sum over the flh in every region adn time step (sumover time) -> you recieve flh for every region over the time\n",
    "\n",
    "th = 0.9\n",
    "n = n_no\n",
    "df = df_no_ons\n",
    "\n",
    "# get full_load hours (generators)\n",
    "for carrier in n.generators.carrier.unique():\n",
    "    gen = n.generators_t.p[n.generators[n.generators.carrier == carrier].index]\n",
    "    # max_output = n.generators.p_nom_opt[n.generators.carrier == carrier]\n",
    "    max_output = gen.max()\n",
    "\n",
    "    # ts with max_output\n",
    "    max_output_ts = gen.copy()\n",
    "    for snap in n.storage_units_t.p.index:\n",
    "        max_output_ts.loc[snap] = max_output[max_output_ts.columns]\n",
    "\n",
    "    # calc full load hours\n",
    "    flh = (gen >= th * max_output_ts).sum()\n",
    "    flh.index = flh.index.map(n.generators.bus).map(n.buses.location)\n",
    "    df[f\"{carrier}_flh\"] = flh\n",
    "\n",
    "# links\n",
    "for carrier in n.links.carrier.unique():\n",
    "    gen = abs(n.links_t.p1.loc[:, n.links.carrier == carrier])\n",
    "    # use p_nom_opt as indicator for full load hour\n",
    "    # max_output = n.links.p_nom_opt[n.links.carrier == carrier]\n",
    "    # use maximum of generation output as indicator for full load hour\n",
    "    max_output = gen.max()\n",
    "\n",
    "    # ts with p_nom_opt\n",
    "    max_output_ts = gen.copy()\n",
    "    for snap in n.storage_units_t.p.index:\n",
    "        max_output_ts.loc[snap] = max_output[max_output_ts.columns]\n",
    "\n",
    "    # calc full load hours\n",
    "    flh = (gen >= th * max_output_ts).sum()\n",
    "    flh.index = flh.index.map(n.links.bus1).map(n.buses.location)\n",
    "    # group duplicate index entries\n",
    "    flh = flh.groupby(by=[\"Link\"], axis=\"index\").sum()\n",
    "    df[f\"{carrier}_flh\"] = flh\n",
    "\n",
    "# storage units\n",
    "for carrier in n.storage_units.carrier.unique():\n",
    "    gen = n.storage_units_t.p_dispatch.loc[:, n.storage_units.carrier == carrier]\n",
    "    max_output = gen.max()\n",
    "\n",
    "    max_output_ts = gen.copy()\n",
    "    for snap in n.storage_units_t.p.index:\n",
    "        max_output_ts.loc[snap] = max_output[max_output_ts.columns]\n",
    "\n",
    "    # calc full load hours\n",
    "    flh = (gen >= th * max_output_ts).sum()\n",
    "    flh.index = flh.index.map(n.storage_units.bus).map(n.buses.location)\n",
    "    df[f\"{carrier}_flh\"] = flh\n",
    "\n",
    "df.head(3)"
   ]
  },
  {
   "cell_type": "code",
   "execution_count": null,
   "metadata": {
    "pycharm": {
     "name": "#%%\n"
    }
   },
   "outputs": [],
   "source": [
    "# full load hours\n",
    "boxprops=dict(facecolor=\"white\", color=\"white\")\n",
    "medianprops = dict(color=\"black\",linewidth=1.5)\n",
    "meanprops = {\"marker\":\"d\",\"markerfacecolor\":\"white\", \"markeredgecolor\":\"black\"}\n",
    "\n",
    "i_no_gen_rev = [carrier_renaming_reverse.get(n, n) for n in i_no_gen]\n",
    "# multiply with 3 to account for the 3h resolution\n",
    "df = df_no_ons[[f\"{i}_flh\" for i in i_no_gen_rev]]*3\n",
    "df = df.values\n",
    "\n",
    "# Filter data using np.isnan\n",
    "mask = ~np.isnan(df)\n",
    "filtered_data = [d[m] for d, m in zip(df.T, mask.T)]\n",
    "\n",
    "fig, ax = plt.subplots(figsize=(12, 4))\n",
    "bp = plt.boxplot(x=filtered_data, labels =i_no_gen, patch_artist=True, showmeans=True, boxprops=boxprops, meanprops=meanprops, medianprops=medianprops)\n",
    "\n",
    "for box, col in zip(bp['boxes'],[carrier_colors[c] for c in i_no_gen]):\n",
    "    # change outline color\n",
    "    box.set(color=col, linewidth=2)\n",
    "\n",
    "plt.title(\"Title\")\n",
    "ax.patch.set_facecolor('lightgrey')\n",
    "ax.patch.set_alpha(0.5)\n",
    "plt.xticks(rotation=90)\n",
    "plt.title(\"Full load hours\", fontsize=16, pad=15,  **font1)\n",
    "plt.show()"
   ]
  },
  {
   "cell_type": "markdown",
   "metadata": {
    "pycharm": {
     "name": "#%% md\n"
    }
   },
   "source": [
    "### Utilitization rate"
   ]
  },
  {
   "cell_type": "code",
   "execution_count": null,
   "metadata": {
    "pycharm": {
     "name": "#%%\n"
    }
   },
   "outputs": [],
   "source": [
    "# what you actually want to measure is on how much of possible generation is utilized\n",
    "# utilitazation rate???\n",
    "# Problem if you calc the rate for every time step and location independently and then take the mean, all urs have the same weight. That makes no sense, as at times with almost no generation there is numerical issues with the rate\n",
    "# better calc ur for every region as the ratio of the sum over all gen and the sum over all possible gen (make sure only valid regions make it to the plot, e.g. minimun generation of o,2 quantile)\n",
    "\n",
    "th = 0.01 # MWh\n",
    "method = 1\n",
    "\n",
    "# generators\n",
    "max_out_gen = n.generators_t.p_max_pu * n.generators.p_nom_opt[n.generators_t.p_max_pu.columns]\n",
    "real_out_gen = n.generators_t.p[n.generators_t.p_max_pu.columns]\n",
    "out_ratio_gen = (real_out_gen / max_out_gen) [real_out_gen > th]\n",
    "out_ratio_gen_sum = real_out_gen.sum() / max_out_gen.sum()\n",
    "\n",
    "# links\n",
    "# gen\n",
    "n_links_p1 = n.links_t.p1 *-1\n",
    "# some links have a static p_max_pu value and some have an alternating (series)\n",
    "index_series_li = n.links_t.p_max_pu.columns\n",
    "index_static_li = n.links.index.difference(n.links_t.p_max_pu.columns)\n",
    "\n",
    "# calculate the possible output for the link for every time step\n",
    "if method == 1:\n",
    "    # use p_max_pu * p_nom_op\n",
    "    max_output_links_static = n.links.loc[index_static_li].p_max_pu * n.links.loc[index_static_li].p_nom_opt\n",
    "elif method == 2:\n",
    "    # alternatively use the maximum of the real output and set it as the maximum capacity\n",
    "    max_output_links_static= n_links_p1[index_static_li].max()\n",
    "\n",
    "# make ts of max_output_links_static\n",
    "max_output_links_ts_static = n.links_t.p0[index_static_li].copy()\n",
    "for snap in n.links_t.p0.index:\n",
    "    max_output_links_ts_static.loc[snap] = max_output_links_static[index_static_li]\n",
    "\n",
    "# calc time series of time dependent p_max_pu links\n",
    "max_output_links_ts_series = n.links_t.p_max_pu * n.links.p_nom_opt[index_series_li]\n",
    "\n",
    "# merge static and series values and reorder columns\n",
    "max_output_links_ts = pd.concat([max_output_links_ts_static, max_output_links_ts_series], axis=1)[n.links_t.p0.columns]\n",
    "\n",
    "# compare to real output\n",
    "out_ratio_links = (n_links_p1 / max_output_links_ts) [n_links_p1 > th]\n",
    "# calc out ratio weighted by generation (sum of all gen / sum of all cap / max_output)\n",
    "out_ratio_links_sum = n_links_p1.sum() / max_output_links_ts.sum()\n",
    "\n",
    "# storage units\n",
    "max_output = n.storage_units.p_max_pu * n.storage_units.p_nom_opt\n",
    "max_output_ts_su = n.storage_units_t.p.copy()\n",
    "for snap in n.storage_units_t.p.index:\n",
    "    max_output_ts_su.loc[snap] = max_output[n.storage_units_t.p.columns]\n",
    "# compare to real output\n",
    "out_ratio_su = (n.storage_units_t.p_dispatch / max_output_ts_su) [n.storage_units_t.p_dispatch > th]\n",
    "out_ratio_su_sum = n.storage_units_t.p_dispatch.sum() / max_output_ts_su.sum()"
   ]
  },
  {
   "cell_type": "code",
   "execution_count": null,
   "metadata": {
    "pycharm": {
     "name": "#%%\n"
    }
   },
   "outputs": [],
   "source": [
    "n.storage_units_t.p_dispatch.sum()"
   ]
  },
  {
   "cell_type": "code",
   "execution_count": null,
   "metadata": {
    "pycharm": {
     "name": "#%%\n"
    }
   },
   "outputs": [],
   "source": [
    "max_output_ts_su.sum()"
   ]
  },
  {
   "cell_type": "code",
   "execution_count": null,
   "metadata": {
    "pycharm": {
     "name": "#%%\n"
    }
   },
   "outputs": [],
   "source": [
    "th_p = 0.01 # share of mean generation\n",
    "n = n_no\n",
    "df = df_no_ons\n",
    "\n",
    "# how much of the whole possible energy that can be generated is utilized (sum over all time steps and location than take ratio)\n",
    "overall_ur = pd.DataFrame(index=range(1))\n",
    "\n",
    "# gens\n",
    "for carrier in n.generators.carrier.unique():\n",
    "    if carrier in ['gas', 'oil']:\n",
    "        continue\n",
    "    # calc ur as mean of all urs per time and space\n",
    "    index = n.generators[n.generators.carrier == carrier].index\n",
    "    ur = out_ratio_gen[index].mean()\n",
    "    ur.index = ur.index.map(n.generators.bus).map(n.buses.location)\n",
    "    df[f\"{carrier}_ur_mean\"] = ur\n",
    "\n",
    "    # calc ur as ratio of sum of all gen and sum of all output\n",
    "    ur_s = out_ratio_gen_sum[index][real_out_gen[index].sum() > real_out_gen[index].sum().mean() * th_p]\n",
    "    ur_s.index = ur_s.index.map(n.generators.bus).map(n.buses.location)\n",
    "    df[f\"{carrier}_ur\"] = ur_s\n",
    "\n",
    "    # overall ur\n",
    "    overall_ur[f\"{carrier}\"] = real_out_gen[index].sum().sum() / max_out_gen[index].sum().sum()\n",
    "\n",
    "# links\n",
    "for carrier in n.links.carrier.unique():\n",
    "    # calc\n",
    "    index = n.links[n.links.carrier == carrier].index\n",
    "    ur = out_ratio_links[index].mean()\n",
    "    ur.index = ur.index.map(n.links.bus1).map(n.buses.location)\n",
    "    # group duplicate index entries\n",
    "    ur = ur.groupby(by=[\"Link\"], axis=\"index\").mean()\n",
    "    df[f\"{carrier}_ur_mean\"] = ur\n",
    "\n",
    "    # calc ur as ratio of sum of all gen and sum of all output\n",
    "    ur_s = out_ratio_links_sum[index][n_links_p1[index].sum() > n_links_p1[index].sum().mean() * th_p]\n",
    "    ur_s.index = ur_s.index.map(n.links.bus1).map(n.buses.location)\n",
    "    # group duplicate index entries\n",
    "    ur_s = ur_s.groupby(by=[\"Link\"], axis=\"index\").mean()\n",
    "    df[f\"{carrier}_ur\"] = ur_s\n",
    "\n",
    "    # overall ur\n",
    "    overall_ur[f\"{carrier}\"] = n_links_p1[index].sum().sum() / max_output_links_ts[index].sum().sum()\n",
    "\n",
    "# storage units\n",
    "for carrier in n.storage_units.carrier.unique():\n",
    "    # calc\n",
    "    index = n.storage_units[n.storage_units.carrier == carrier].index\n",
    "    ur = out_ratio_su[index].mean()\n",
    "    ur.index = ur.index.map(n.storage_units.bus).map(n.buses.location)\n",
    "    df[f\"{carrier}_ur_mean\"] = ur\n",
    "\n",
    "    #\n",
    "    ur_s = out_ratio_su_sum[index][n.storage_units_t.p_dispatch[index].sum() > n.storage_units_t.p_dispatch[index].sum().mean() * th_p]\n",
    "    ur_s.index = ur_s.index.map(n.storage_units.bus).map(n.buses.location)\n",
    "    df[f\"{carrier}_ur\"] = ur_s\n",
    "\n",
    "    # overall ur\n",
    "    overall_ur[f\"{carrier}\"] = n.storage_units_t.p_dispatch[index].sum().sum() / max_output_ts_su[index].sum().sum()\n",
    "\n",
    "df.head(3)"
   ]
  },
  {
   "cell_type": "code",
   "execution_count": null,
   "metadata": {
    "pycharm": {
     "name": "#%%\n"
    }
   },
   "outputs": [],
   "source": [
    "out_ratio_su_sum"
   ]
  },
  {
   "cell_type": "code",
   "execution_count": null,
   "metadata": {
    "pycharm": {
     "name": "#%%\n"
    }
   },
   "outputs": [],
   "source": [
    "carrier = \"hydro\"\n",
    "index = n.storage_units[n.storage_units.carrier == carrier].index\n",
    "ur_s = out_ratio_su_sum[index][n.storage_units_t.p_dispatch[index].sum() > n.storage_units_t.p_dispatch[index].sum().mean() * th_p]\n",
    "ur_s.index = ur_s.index.map(n.storage_units.bus).map(n.buses.location)\n",
    "ur_s"
   ]
  },
  {
   "cell_type": "code",
   "execution_count": null,
   "metadata": {
    "pycharm": {
     "name": "#%%\n"
    }
   },
   "outputs": [],
   "source": [
    "# utilitization rate\n",
    "\n",
    "boxprops=dict(facecolor=\"white\", color=\"white\")\n",
    "medianprops = dict(color=\"black\",linewidth=1.5)\n",
    "meanprops = {\"marker\":\"d\",\"markerfacecolor\":\"white\", \"markeredgecolor\":\"black\"}\n",
    "\n",
    "i_no_gen_rev = [carrier_renaming_reverse.get(n, n) for n in i_no_gen]\n",
    "df = df_no_ons[[f\"{i}_ur\" for i in i_no_gen_rev]]\n",
    "df = df.values\n",
    "\n",
    "# Filter data using np.isnan\n",
    "mask = ~np.isnan(df)\n",
    "filtered_data = [d[m] for d, m in zip(df.T, mask.T)]\n",
    "\n",
    "fig, ax = plt.subplots(figsize=(12, 6))\n",
    "bp = plt.boxplot(filtered_data, labels =i_no_gen, patch_artist=True, showmeans=False, boxprops=boxprops, meanprops=meanprops, medianprops=medianprops)\n",
    "\n",
    "for box, col in zip(bp['boxes'],[carrier_colors[c] for c in i_no_gen]):\n",
    "    # change outline color\n",
    "    box.set(color=col, linewidth=2)\n",
    "\n",
    "plt.title(\"Title\")\n",
    "ax.patch.set_facecolor('lightgrey')\n",
    "ax.patch.set_alpha(0.5)\n",
    "plt.xticks(rotation=90)\n",
    "plt.title(\"Utilitization rate of electricity generating technologies across the regions (STST)\", fontsize=16, pad=20,  **font1)\n",
    "ax.plot(np.arange(1,17), overall_ur[i_no_gen_rev].transpose(),\"x\", marker='*', color=\"red\", markersize= 10, markerfacecolor=\"white\")\n",
    "\n",
    "for i, sample_size in enumerate(df_no_ons[[f\"{i}_ur\" for i in i_no_gen_rev]].count()):\n",
    "    ax.annotate(sample_size, xy=(0,0),  xycoords='axes fraction',\n",
    "        xytext=((i+0.35)/16,1), textcoords='axes fraction', color=\"blue\")\n",
    "\n",
    "fig.tight_layout()\n",
    "plt.show()\n",
    "\n",
    "fig.savefig(f\"{PLOT_DIR}01_general/4.2_systems_technologies/ur_el_con_STST.png\")\n",
    "\n",
    "# red stars symbolize overall utilization rate\n",
    "# \"home battery discharger\" has maximum generation over all snaps and locations of 0.29\n",
    "# \"urban central gas CHP CC\" has maximum generation over all snaps and locations of 0.20"
   ]
  },
  {
   "cell_type": "code",
   "execution_count": null,
   "metadata": {
    "pycharm": {
     "name": "#%%\n"
    }
   },
   "outputs": [],
   "source": [
    "overall_ur[i_no_gen_rev]"
   ]
  },
  {
   "cell_type": "code",
   "execution_count": null,
   "metadata": {
    "pycharm": {
     "name": "#%%\n"
    }
   },
   "outputs": [],
   "source": [
    "df_no_ons[[f\"{i}_ur\" for i in i_no_gen_rev]][\"hydro_ur\"]"
   ]
  },
  {
   "cell_type": "code",
   "execution_count": null,
   "metadata": {
    "pycharm": {
     "name": "#%%\n"
    }
   },
   "outputs": [],
   "source": [
    "# 1: what does it mean if the star is outside the box / whiskers: star below box (hydro) means that most of the regions are having higher ur than the overall utilitization. The regions with most generation have a lower ur than the average\n",
    "\n",
    "# 2: what is the difference between the capacity facotr and the utilitization rate for technologies with a constant capacity e.g. gas CHP? Shouldnt this be the same? Because it is not."
   ]
  },
  {
   "cell_type": "code",
   "execution_count": null,
   "metadata": {
    "pycharm": {
     "name": "#%%\n"
    }
   },
   "outputs": [],
   "source": [
    "# Further investigation\n",
    "\n",
    "# storage unit\n",
    "carrier = \"hydro\"\n",
    "df_no_ons[f\"{carrier}_ur\"]\n",
    "gen = n.storage_units_t.p_dispatch[n.storage_units[n.storage_units.carrier == carrier].index].sum()\n",
    "gen.index = gen.index.map(n.storage_units.bus).map(n.buses.location)\n",
    "gen = gen[df_no_ons[f\"{carrier}_ur\"].dropna().index]\n",
    "\n",
    "fig, ax1 = plt.subplots(figsize=(14,6))\n",
    "\n",
    "ax2 = ax1.twinx()\n",
    "ax1.plot(df_no_ons[f\"{carrier}_ur\"].dropna(), 'g-', label=f\"{carrier}_ur\")\n",
    "ax2.plot(gen.dropna(), 'b-', label=\"generation\")\n",
    "ax1.legend(loc=\"upper center\")\n",
    "ax2.legend()\n",
    "\n",
    "plt.show()"
   ]
  },
  {
   "cell_type": "code",
   "execution_count": null,
   "metadata": {
    "pycharm": {
     "name": "#%%\n"
    }
   },
   "outputs": [],
   "source": [
    "# link\n",
    "carrier = \"battery charger\"\n",
    "df_no_ons[f\"{carrier}_ur\"]\n",
    "gen = n_links_p1[n.links[n.links.carrier == carrier].index].sum()\n",
    "gen.index = gen.index.map(n.links.bus1).map(n.buses.location)\n",
    "gen = gen[df_no_ons[f\"{carrier}_ur\"].dropna().index]\n",
    "\n",
    "fig, ax1 = plt.subplots(figsize=(14,6))\n",
    "\n",
    "ax2 = ax1.twinx()\n",
    "ax1.plot(df_no_ons[f\"{carrier}_ur\"].dropna(), 'g-', label=f\"{carrier}_ur\")\n",
    "ax2.plot(gen.dropna(), 'b-', label=\"generation\")\n",
    "ax1.legend(loc=\"upper center\")\n",
    "ax2.legend()\n",
    "\n",
    "plt.show()"
   ]
  },
  {
   "cell_type": "code",
   "execution_count": null,
   "metadata": {
    "pycharm": {
     "name": "#%%\n"
    }
   },
   "outputs": [],
   "source": [
    "gen.sort_values(ascending=False)"
   ]
  },
  {
   "cell_type": "code",
   "execution_count": null,
   "metadata": {
    "pycharm": {
     "name": "#%%\n"
    }
   },
   "outputs": [],
   "source": [
    "df_no_ons[f\"{carrier}_ur\"].loc[gen.sort_values(ascending=False).index]"
   ]
  },
  {
   "cell_type": "code",
   "execution_count": null,
   "metadata": {
    "pycharm": {
     "name": "#%%\n"
    }
   },
   "outputs": [],
   "source": [
    "# Norway indices\n",
    "no_i = gen.index[gen.index.str.contains('NO')]"
   ]
  },
  {
   "cell_type": "code",
   "execution_count": null,
   "metadata": {
    "pycharm": {
     "name": "#%%\n"
    }
   },
   "outputs": [],
   "source": [
    "df_no_ons[f\"{carrier}_ur\"][no_i]#.mean()\n",
    "# why are all the value for norway the same??"
   ]
  },
  {
   "cell_type": "code",
   "execution_count": null,
   "metadata": {
    "pycharm": {
     "name": "#%%\n"
    }
   },
   "outputs": [],
   "source": [
    "gen[no_i].sum() / gen.sum()"
   ]
  },
  {
   "cell_type": "markdown",
   "metadata": {
    "pycharm": {
     "name": "#%% md\n"
    }
   },
   "source": [
    "### Generation profiles"
   ]
  },
  {
   "cell_type": "code",
   "execution_count": null,
   "metadata": {
    "pycharm": {
     "name": "#%%\n"
    }
   },
   "outputs": [],
   "source": [
    "# generators, links, and storage units\n",
    "carriers = [\"battery discharger\", \"hydro\"]\n",
    "n = n_no\n",
    "\n",
    "fig, axs = plt.subplots(nrows=1,ncols=2, figsize=(18, 6))\n",
    "\n",
    "for i, ax in enumerate(axs):\n",
    "\n",
    "    if carriers[i] in n.generators.carrier.unique().tolist():\n",
    "        # get generation in TWh\n",
    "        df = pd.DataFrame(n.generators_t.p.loc[:, n.generators.carrier == carriers[i]].sum(axis=1)) / 1000\n",
    "\n",
    "    elif carriers[i] in n.links.carrier.unique().tolist():\n",
    "        # get generation in TWh\n",
    "        df = pd.DataFrame(n.links_t.p0.loc[:, n.links.carrier == carriers[i]].sum(axis=1)) / 1000\n",
    "\n",
    "    elif carriers[i] in n.storage_units.carrier.unique().tolist():\n",
    "        # get generation in TWh\n",
    "        df = pd.DataFrame(n.storage_units_t.p_dispatch.loc[:, n.storage_units.carrier == carriers[i]].sum(axis=1)) / 1000\n",
    "\n",
    "    hours = df.index.hour.unique()[::-1]\n",
    "    df_start = pd.DataFrame(index=pd.Index(df.index.date).unique())\n",
    "\n",
    "    for hour in hours:\n",
    "        df_start[str(hour)] = df[df.index.hour==hour].values\n",
    "\n",
    "    sns.heatmap(df_start.transpose(),\n",
    "                ax=ax,\n",
    "                cmap=plt.get_cmap(\"magma_r\"),\n",
    "                linewidth=0.001,\n",
    "                xticklabels=15,\n",
    "                cbar_kws={'label': 'Generation in TWh', 'pad': 0.09}\n",
    "                )\n",
    "\n",
    "\n",
    "    ax.set_title(f\"{carriers[i]}\", fontsize=16, **font1)\n",
    "    ax.set_ylabel(\"hour of the day\", fontsize=12, **font1)\n",
    "    ax.set_xlabel(\"day of the year\", fontsize=12, **font1)\n",
    "    #plt.colorbar(im,fraction=0.046, pad=0.04)\n",
    "\n",
    "    # Rewrite the y labels\n",
    "    ax_labels = ax.get_xticks()\n",
    "    ax.xaxis.set_major_formatter(matplotlib.dates.DateFormatter('%d-%b'))\n",
    "\n",
    "    # Plot generation profile on second y-axis\n",
    "    # resample and transform axis of date to index (heatmap works not with dates)\n",
    "    df2 = df.resample(\"5D\").sum()\n",
    "    df2 = df2[df2.index.year == 2013]\n",
    "    df2.index = df2.index.dayofyear - 0.5\n",
    "\n",
    "    ax2 = ax.twinx()\n",
    "    ax2.plot(df2, color=\"white\", lw=2, path_effects=[pe.Stroke(linewidth=3, foreground='black'), pe.Normal()])\n",
    "    ax2.legend( loc='lower right', labels=['Daily generation (right axis)'])\n",
    "    ax2.set_ylabel(\"Sum of daily generation in TWh\", fontsize=12, **font1)\n",
    "    ax2.grid(False)\n",
    "\n",
    "fig.tight_layout(pad=3)\n",
    "plt.show()"
   ]
  },
  {
   "cell_type": "code",
   "execution_count": null,
   "metadata": {
    "pycharm": {
     "name": "#%%\n"
    }
   },
   "outputs": [],
   "source": [
    "# thesis plot\n",
    "\n",
    "# generators, links, and storage units\n",
    "carriers = [\"onwind\", \"solar\", \"offwind-dc\", \"ror\"]\n",
    "n = n_no\n",
    "\n",
    "fig, axs = plt.subplots(nrows=2,ncols=2, figsize=(18, 10))\n",
    "\n",
    "for i, ax in enumerate(axs.reshape(-1)):\n",
    "\n",
    "    if carriers[i] in n.generators.carrier.unique().tolist():\n",
    "        # get generation in TWh\n",
    "        df = pd.DataFrame(n.generators_t.p.loc[:, n.generators.carrier == carriers[i]].sum(axis=1)) / 1000 * 3\n",
    "\n",
    "    elif carriers[i] in n.links.carrier.unique().tolist():\n",
    "        # get generation in TWh\n",
    "        df = pd.DataFrame(n.links_t.p0.loc[:, n.links.carrier == carriers[i]].sum(axis=1)) / 1000 * 3\n",
    "\n",
    "    elif carriers[i] in n.storage_units.carrier.unique().tolist():\n",
    "        # get generation in TWh\n",
    "        df = pd.DataFrame(n.storage_units_t.p_dispatch.loc[:, n.storage_units.carrier == carriers[i]].sum(axis=1)) / 1000 * 3\n",
    "\n",
    "    else:\n",
    "        print(f\"{carriers[i]} does not exist!\")\n",
    "\n",
    "\n",
    "    hours = df.index.hour.unique()[::-1]\n",
    "    df_start = pd.DataFrame(index=pd.Index(df.index.date).unique())\n",
    "\n",
    "    for hour in hours:\n",
    "        df_start[str(hour)] = df[df.index.hour==hour].values\n",
    "\n",
    "    sns.heatmap(df_start.transpose(),\n",
    "                ax=ax,\n",
    "                cmap=plt.get_cmap(\"magma_r\"),\n",
    "                linewidth=0.001,\n",
    "                xticklabels=15,\n",
    "                cbar_kws={'label': 'Generation in TWh', 'pad': 0.1})\n",
    "\n",
    "    ax.set_title(f\"{carriers[i]}\", fontsize=16, **font1)\n",
    "    ax.set_ylabel(\"hour of the day\", fontsize=12, **font1)\n",
    "    ax.set_xlabel(\"day of the year\", fontsize=12, **font1)\n",
    "\n",
    "    # Rewrite the y labels\n",
    "    x_labels = ax.get_xticks()\n",
    "    ax.xaxis.set_major_formatter(matplotlib.dates.DateFormatter('%d-%b'))\n",
    "\n",
    "    # Plot generation profile on second y-axis\n",
    "    # resample and transform axis of date to index (heatmap works not with dates)\n",
    "    df2 = df.resample(\"5D\").sum() / 1000\n",
    "    df2 = df2[df2.index.year == 2013]\n",
    "    df2.index = df2.index.dayofyear - 0.5\n",
    "\n",
    "    ax2 = ax.twinx()\n",
    "    ax2.plot(df2, color=\"white\", lw=2, path_effects=[pe.Stroke(linewidth=3, foreground='black'), pe.Normal()])\n",
    "    ax2.legend( loc='lower right', labels=['Generation (right axis)'])\n",
    "    ax2.set_ylabel(\"Generation in GWh (5-day sum)\", fontsize=12, **font1)\n",
    "    ax2.grid(False)\n",
    "\n",
    "fig.tight_layout(pad=3)\n",
    "plt.show()\n",
    "\n",
    "fig.savefig(f\"{PLOT_DIR}01_general/4.2_systems_technologies/el_gen_profile_vre_STST.png\")"
   ]
  },
  {
   "cell_type": "code",
   "execution_count": null,
   "metadata": {
    "pycharm": {
     "name": "#%%\n"
    }
   },
   "outputs": [],
   "source": [
    "# thesis plot\n",
    "\n",
    "# generators, links, and storage units\n",
    "carriers = [\"battery discharger\", \"hydro\", \"V2G\", \"PHS\"]\n",
    "n = n_no\n",
    "\n",
    "fig, axs = plt.subplots(nrows=2,ncols=2, figsize=(18, 10))\n",
    "\n",
    "for i, ax in enumerate(axs.reshape(-1)):\n",
    "\n",
    "    if carriers[i] in n.generators.carrier.unique().tolist():\n",
    "        # get generation in TWh\n",
    "        df = pd.DataFrame(n.generators_t.p.loc[:, n.generators.carrier == carriers[i]].sum(axis=1)) / 1000 * 3\n",
    "\n",
    "    elif carriers[i] in n.links.carrier.unique().tolist():\n",
    "        # get generation in TWh\n",
    "        df = pd.DataFrame(n.links_t.p0.loc[:, n.links.carrier == carriers[i]].sum(axis=1)) / 1000 * 3\n",
    "\n",
    "    elif carriers[i] in n.storage_units.carrier.unique().tolist():\n",
    "        # get generation in TWh\n",
    "        df = pd.DataFrame(n.storage_units_t.p_dispatch.loc[:, n.storage_units.carrier == carriers[i]].sum(axis=1)) / 1000 * 3\n",
    "\n",
    "    else:\n",
    "        print(f\"{carriers[i]} does not exist!\")\n",
    "\n",
    "\n",
    "    hours = df.index.hour.unique()[::-1]\n",
    "    df_start = pd.DataFrame(index=pd.Index(df.index.date).unique())\n",
    "\n",
    "    for hour in hours:\n",
    "        df_start[str(hour)] = df[df.index.hour==hour].values\n",
    "\n",
    "    sns.heatmap(df_start.transpose(),\n",
    "                ax=ax,\n",
    "                cmap=plt.get_cmap(\"magma_r\"),\n",
    "                linewidth=0.001,\n",
    "                xticklabels=15,\n",
    "                cbar_kws={'label': 'Generation in TWh', 'pad': 0.1})\n",
    "\n",
    "    ax.set_title(f\"{carriers[i]}\", fontsize=16, **font1)\n",
    "    ax.set_ylabel(\"hour of the day\", fontsize=12, **font1)\n",
    "    ax.set_xlabel(\"day of the year\", fontsize=12, **font1)\n",
    "\n",
    "    # Rewrite the y labels\n",
    "    x_labels = ax.get_xticks()\n",
    "    ax.xaxis.set_major_formatter(matplotlib.dates.DateFormatter('%d-%b'))\n",
    "\n",
    "    # Plot generation profile on second y-axis\n",
    "    # resample and transform axis of date to index (heatmap works not with dates)\n",
    "    df2 = df.resample(\"20D\").sum() / 1000\n",
    "    df2 = df2[df2.index.year == 2013]\n",
    "    df2.index = df2.index.dayofyear - 0.5\n",
    "\n",
    "    ax2 = ax.twinx()\n",
    "    ax2.plot(df2, color=\"white\", lw=2, path_effects=[pe.Stroke(linewidth=3, foreground='black'), pe.Normal()])\n",
    "    ax2.legend( loc='lower right', labels=['Generation (right axis)'])\n",
    "    ax2.set_ylabel(\"Generation in GWh (5-day sum)\", fontsize=12, **font1)\n",
    "    ax2.grid(False)\n",
    "\n",
    "fig.tight_layout(pad=3)\n",
    "plt.show()\n",
    "\n",
    "# fig.savefig(f\"{PLOT_DIR}01_general/4.2_systems_technologies/el_gen_profile_store_STST.png\")"
   ]
  },
  {
   "cell_type": "code",
   "execution_count": null,
   "metadata": {
    "pycharm": {
     "name": "#%%\n"
    }
   },
   "outputs": [],
   "source": [
    "# thesis plot\n",
    "\n",
    "# generators, links, and storage units\n",
    "carriers = [\"urban central gas CHP\", \"urban central solid biomass CHP CC\" ]\n",
    "n = n_no\n",
    "\n",
    "fig, axs = plt.subplots(nrows=1,ncols=2, figsize=(18, 5))\n",
    "\n",
    "for i, ax in enumerate(axs):\n",
    "\n",
    "    if carriers[i] in n.generators.carrier.unique().tolist():\n",
    "        # get generation in TWh\n",
    "        df = pd.DataFrame(n.generators_t.p.loc[:, n.generators.carrier == carriers[i]].sum(axis=1)) / 1000 * 3\n",
    "\n",
    "    elif carriers[i] in n.links.carrier.unique().tolist():\n",
    "        # get generation in TWh\n",
    "        df = pd.DataFrame(n.links_t.p0.loc[:, n.links.carrier == carriers[i]].sum(axis=1)) / 1000 * 3\n",
    "\n",
    "    elif carriers[i] in n.storage_units.carrier.unique().tolist():\n",
    "        # get generation in TWh\n",
    "        df = pd.DataFrame(n.storage_units_t.p_dispatch.loc[:, n.storage_units.carrier == carriers[i]].sum(axis=1)) / 1000 * 3\n",
    "\n",
    "    else:\n",
    "        print(f\"{carriers[i]} does not exist!\")\n",
    "\n",
    "\n",
    "    hours = df.index.hour.unique()[::-1]\n",
    "    df_start = pd.DataFrame(index=pd.Index(df.index.date).unique())\n",
    "\n",
    "    for hour in hours:\n",
    "        df_start[str(hour)] = df[df.index.hour==hour].values\n",
    "\n",
    "    sns.heatmap(df_start.transpose(),\n",
    "                ax=ax,\n",
    "                cmap=plt.get_cmap(\"magma_r\"),\n",
    "                linewidth=0.001,\n",
    "                xticklabels=15,\n",
    "                cbar_kws={'label': 'Generation in TWh', 'pad': 0.1})\n",
    "\n",
    "    ax.set_title(carriers[i].replace(\"urban central solid \", \"\").replace(\"urban central \", \"\"), fontsize=16, **font1)\n",
    "    ax.set_ylabel(\"hour of the day\", fontsize=12, **font1)\n",
    "    ax.set_xlabel(\"day of the year\", fontsize=12, **font1)\n",
    "\n",
    "    # Rewrite the y labels\n",
    "    x_labels = ax.get_xticks()\n",
    "    ax.xaxis.set_major_formatter(matplotlib.dates.DateFormatter('%d-%b'))\n",
    "\n",
    "    # Plot generation profile on second y-axis\n",
    "    # resample and transform axis of date to index (heatmap works not with dates)\n",
    "    df2 = df.resample(\"5D\").sum() / 1000\n",
    "    df2 = df2[df2.index.year == 2013]\n",
    "    df2.index = df2.index.dayofyear - 0.5\n",
    "\n",
    "    ax2 = ax.twinx()\n",
    "    ax2.plot(df2, color=\"white\", lw=2, path_effects=[pe.Stroke(linewidth=3, foreground='black'), pe.Normal()])\n",
    "    ax2.legend( loc='lower right', labels=['Generation (right axis)'])\n",
    "    ax2.set_ylabel(\"Generation in GWh (5-day sum)\", fontsize=12, **font1)\n",
    "    ax2.grid(False)\n",
    "\n",
    "\n",
    "fig.tight_layout(pad=3)\n",
    "plt.show()\n",
    "\n",
    "fig.savefig(f\"{PLOT_DIR}01_general/4.2_systems_technologies/el_gen_profile_peak_STST.png\")"
   ]
  },
  {
   "cell_type": "code",
   "execution_count": null,
   "metadata": {
    "pycharm": {
     "name": "#%%\n"
    }
   },
   "outputs": [],
   "source": [
    "df_start.transpose()"
   ]
  },
  {
   "cell_type": "markdown",
   "metadata": {
    "pycharm": {
     "name": "#%% md\n"
    }
   },
   "source": [
    "### Storage"
   ]
  },
  {
   "cell_type": "code",
   "execution_count": null,
   "metadata": {
    "pycharm": {
     "name": "#%%\n"
    }
   },
   "outputs": [],
   "source": [
    "### hydro generation\n",
    "# plt.plot(n.storage_units_t.p_dispatch.loc[:, n.storage_units.carrier == \"hydro\"].sum(axis=1))"
   ]
  },
  {
   "cell_type": "code",
   "execution_count": null,
   "metadata": {
    "pycharm": {
     "name": "#%%\n"
    }
   },
   "outputs": [],
   "source": [
    "### hydro water availability\n",
    "plt.plot(n.storage_units_t.inflow.loc[:, n.storage_units.carrier == \"hydro\"].sum(axis=1).cumsum())"
   ]
  },
  {
   "cell_type": "code",
   "execution_count": null,
   "metadata": {
    "pycharm": {
     "name": "#%%\n"
    }
   },
   "outputs": [],
   "source": [
    "### hydro water availability\n",
    "plt.plot(n.storage_units_t.spill.loc[:, n.storage_units.carrier == \"hydro\"].sum(axis=1))"
   ]
  },
  {
   "cell_type": "code",
   "execution_count": null,
   "metadata": {
    "pycharm": {
     "name": "#%%\n"
    }
   },
   "outputs": [],
   "source": [
    "# State of charge [per unit of max] (all stores and storage units)\n",
    "# Ratio of total generation of max state of charge\n",
    "\n",
    "gen_charge_ratio= []\n",
    "max_charge= []\n",
    "\n",
    "st_carriers = [\"battery\", \"Li ion\", \"hydro\", \"PHS\"]\n",
    "carriers = [\"battery discharger\", \"V2G\", \"hydro\", \"PHS\"]\n",
    "n = n_no\n",
    "period= \"2013\"\n",
    "\n",
    "stor_res = pd.DataFrame(index = st_carriers, columns =[\"max_charge\", \"gen_charge_ratio\", \"max_stor_cap\", \"gen_charge_cap_ratio\", \"gen_sum\" ])\n",
    "\n",
    "fig = plt.figure(figsize=(9,6))\n",
    "\n",
    "for i, c in enumerate(st_carriers):\n",
    "    if c in n.storage_units.carrier.unique().tolist():\n",
    "        # state of charge (sum over locations: 2920 values)\n",
    "        charge = n.storage_units_t.state_of_charge.loc[:, n.storage_units.carrier == c].sum(axis=1)[period]\n",
    "        gen_sum = n.storage_units_t.p_dispatch.loc[period, n.storage_units.carrier == carriers[i]].sum().sum()\n",
    "        gen = n.storage_units_t.p_dispatch.loc[period, n.storage_units.carrier == carriers[i]].sum(axis=1)\n",
    "        index = n.storage_units[n.storage_units.carrier == c].index\n",
    "        max_stor_cap = (n.storage_units.max_hours * n.storage_units.p_nom_opt)[index].sum()\n",
    "        stor_res.loc[c, \"max_charge\"] = charge.max()\n",
    "        stor_res.loc[c, \"gen_charge_ratio\"] = gen_sum/charge.max()\n",
    "        stor_res.loc[c, \"max_stor_cap\"] = max_stor_cap\n",
    "        stor_res.loc[c, \"gen_charge_cap_ratio\"] = gen_sum/max_stor_cap\n",
    "        stor_res.loc[c, \"gen_sum\"] = gen_sum\n",
    "\n",
    "    elif c in n.stores.carrier.unique().tolist():\n",
    "        # state of charge (sum over locations: 2920 values)\n",
    "        charge = n.stores_t.e.loc[:, n.stores.carrier == c].sum(axis=1)[period]\n",
    "        gen_sum = -n.links_t.p1.loc[period, n.links.carrier == carriers[i]].sum().sum()\n",
    "        max_stor_cap = n.stores.e_nom_opt[n.stores[n.stores.carrier == c].index].sum()\n",
    "        stor_res.loc[c, \"max_charge\"] = charge.max()\n",
    "        stor_res.loc[c, \"gen_charge_ratio\"] = gen_sum/charge.max()\n",
    "        stor_res.loc[c, \"max_stor_cap\"] = max_stor_cap\n",
    "        stor_res.loc[c, \"gen_charge_cap_ratio\"] = gen_sum/max_stor_cap\n",
    "        stor_res.loc[c, \"gen_sum\"] = gen_sum\n",
    "\n",
    "    plt.plot(charge/max_stor_cap, label=c, color=carrier_colors[c], marker=markers[i], markevery=[0], mfc='white', mec='black')\n",
    "\n",
    "plt.ylabel(\"State of charge [per unit of max storage capacity]\")\n",
    "plt.legend()\n",
    "plt.tight_layout()\n",
    "plt.show()\n",
    "\n",
    "fig.savefig(f\"{PLOT_DIR}01_general/4.2_systems_technologies/charge_state_store_STST.png\")"
   ]
  },
  {
   "cell_type": "code",
   "execution_count": null,
   "metadata": {
    "pycharm": {
     "name": "#%%\n"
    }
   },
   "outputs": [],
   "source": [
    "# Ratio of total generation of max state of charge\n",
    "stor_res[\"max_charge_max_stor_cap_ratio\"] =  stor_res[\"max_charge\"] / stor_res[\"max_stor_cap\"]\n",
    "stor_res"
   ]
  },
  {
   "cell_type": "code",
   "execution_count": null,
   "metadata": {
    "pycharm": {
     "name": "#%%\n"
    }
   },
   "outputs": [],
   "source": [
    "# TWh\n",
    "stor_res[\"max_stor_cap\"] / 1e6"
   ]
  },
  {
   "cell_type": "code",
   "execution_count": null,
   "metadata": {
    "pycharm": {
     "name": "#%%\n"
    }
   },
   "outputs": [],
   "source": [
    "# how do I get the maximum storage capacity?\n",
    "\n",
    "# stores:\n",
    "c = \"battery\"\n",
    "index = n.stores[n.stores.carrier == c].index\n",
    "n.stores.e_nom_opt[index]\n",
    "\n",
    "# storage units:\n",
    "c = \"hydro\"\n",
    "index = n.storage_units[n.storage_units.carrier == c].index\n",
    "(n.storage_units.max_hours * n.storage_units.p_nom_opt)[index].sum()"
   ]
  },
  {
   "cell_type": "code",
   "execution_count": null,
   "metadata": {
    "pycharm": {
     "name": "#%%\n"
    }
   },
   "outputs": [],
   "source": [
    "# State of charge [per unit of max] (all stores and storage units)\n",
    "# Ratio of total generation of max state of charge\n",
    "import matplotlib.ticker as ticker\n",
    "\n",
    "gen_charge_ratio= []\n",
    "max_charge= []\n",
    "\n",
    "carriers = [\"battery\", \"battery discharger\", \"battery charger\"]\n",
    "n = n_no\n",
    "start_date = \"2013-06-1 00:00:00\"\n",
    "end_date = \"2013-06-09 00:00:00\"\n",
    "period = n_no.generators_t.p.index[(n_no.generators_t.p.index >= start_date) & (n_no.generators_t.p.index <= end_date)]\n",
    "\n",
    "fig = plt.figure(figsize=(8,4))\n",
    "\n",
    "for i, c in enumerate(carriers):\n",
    "    if c in n.storage_units.carrier.unique().tolist():\n",
    "        # state of charge (sum over locations: 2920 values)\n",
    "        charge = n.storage_units_t.state_of_charge.loc[:, n.storage_units.carrier == c].sum(axis=1)[period]\n",
    "        gen_sum = n.storage_units_t.p_dispatch.loc[period, n.storage_units.carrier == carriers[i]].sum().sum()\n",
    "        gen = n.storage_units_t.p_dispatch.loc[period, n.storage_units.carrier == carriers[i]].sum(axis=1)\n",
    "        index = n.storage_units[n.storage_units.carrier == c].index\n",
    "        max_stor_cap = (n.storage_units.max_hours * n.storage_units.p_nom_opt)[index].sum()\n",
    "        stor_res.loc[c, \"max_charge\"] = charge.max()\n",
    "        stor_res.loc[c, \"gen_charge_ratio\"] = gen_sum/charge.max()\n",
    "        stor_res.loc[c, \"max_stor_cap\"] = max_stor_cap\n",
    "\n",
    "        plt.plot(charge/max_stor_cap, label=c, color=carrier_colors[c], marker=markers[i], markevery=[0], mfc='white', mec='black',linewidth=3)\n",
    "        plt.plot(gen/gen.max(), label=f\"{c}\", color=carrier_colors[c], marker=markers[i], markevery=[0], mfc='white', mec='black', ls=\"--\", linewidth=3)\n",
    "\n",
    "    elif c in n.links.carrier.unique().tolist():\n",
    "        gen = -n.links_t.p1.loc[period, n.links.carrier == c].sum(axis=1)\n",
    "\n",
    "        plt.plot(gen/gen.max(), label=f\"{c}\", color=carrier_colors[c], marker=markers[i], markevery=[0], mfc='white', mec='black', ls=\":\", linewidth=3)\n",
    "\n",
    "    elif c in n.stores.carrier.unique().tolist():\n",
    "        # state of charge (sum over locations: 2920 values)\n",
    "        charge = n.stores_t.e.loc[:, n.stores.carrier == c].sum(axis=1)[period]\n",
    "        gen_sum = -n.links_t.p1.loc[period, n.links.carrier == carriers[i]].sum().sum()\n",
    "        max_stor_cap = n.stores.e_nom_opt[n.stores[n.stores.carrier == c].index].sum()\n",
    "        stor_res.loc[c, \"max_charge\"] = charge.max()\n",
    "        stor_res.loc[c, \"gen_charge_ratio\"] = gen_sum/charge.max()\n",
    "        stor_res.loc[c, \"max_stor_cap\"] = max_stor_cap\n",
    "\n",
    "        plt.plot(charge/max_stor_cap, label=c, color=carrier_colors[c], marker=markers[i], markevery=[0], mfc='white', mec='black',linewidth=3)\n",
    "\n",
    "plt.gca().xaxis.set_major_formatter(matplotlib.dates.DateFormatter('%H')) # %d-%m\n",
    "plt.gca().xaxis.set_major_locator(ticker.MultipleLocator(0.125))\n",
    "plt.ylabel(\"State of charge and generation [per unit of max]\")\n",
    "plt.xlabel(\"Hour of the day\")\n",
    "plt.legend(loc=\"upper right\")\n",
    "plt.tight_layout()\n",
    "plt.show()\n"
   ]
  },
  {
   "cell_type": "code",
   "execution_count": null,
   "metadata": {
    "pycharm": {
     "name": "#%%\n"
    }
   },
   "outputs": [],
   "source": [
    "# State of charge [per unit of max] (all stores and storage units)\n",
    "# Ratio of total generation of max state of charge\n",
    "import matplotlib.ticker as ticker\n",
    "\n",
    "temp_colors = {\n",
    "    'PHS': 'darkorange',\n",
    "    'hydro': 'navy'\n",
    "}\n",
    "\n",
    "carrier_lists =[[\"battery\", \"battery discharger\", \"battery charger\"],[\"hydro\", \"PHS\"]]\n",
    "\n",
    "n = n_no\n",
    "start_date = \"2013-06-6 00:00:00\"\n",
    "end_date = \"2013-06-10 00:00:00\"\n",
    "period = n_no.generators_t.p.index[(n_no.generators_t.p.index >= start_date) & (n_no.generators_t.p.index <= end_date)]\n",
    "\n",
    "fig, axs = plt.subplots(nrows=2,ncols=1, figsize=(10,6))\n",
    "\n",
    "for j, ax in enumerate(axs):\n",
    "    carriers = carrier_lists[j]\n",
    "\n",
    "    for i, c in enumerate(carriers):\n",
    "        if c in n.storage_units.carrier.unique().tolist():\n",
    "            # state of charge (sum over locations: 2920 values)\n",
    "            charge = n.storage_units_t.state_of_charge.loc[:, n.storage_units.carrier == c].sum(axis=1)[period]\n",
    "            gen_sum = n.storage_units_t.p_dispatch.loc[period, n.storage_units.carrier == carriers[i]].sum().sum()\n",
    "            gen = n.storage_units_t.p_dispatch.loc[period, n.storage_units.carrier == carriers[i]].sum(axis=1)\n",
    "            index = n.storage_units[n.storage_units.carrier == c].index\n",
    "            max_stor_cap = (n.storage_units.max_hours * n.storage_units.p_nom_opt)[index].sum()\n",
    "            stor_res.loc[c, \"max_charge\"] = charge.max()\n",
    "            stor_res.loc[c, \"gen_charge_ratio\"] = gen_sum/charge.max()\n",
    "            stor_res.loc[c, \"max_stor_cap\"] = max_stor_cap\n",
    "\n",
    "            ax.plot(charge/max_stor_cap, label=c, color=temp_colors[c], marker=markers[i], markevery=[0], mfc='white', mec='black',linewidth=2)\n",
    "            ax.plot(gen/gen.max(), label=f\"{c} (generation)\", color=temp_colors[c], marker=markers[i], markevery=[0], mfc='white', mec='black', ls=\":\", linewidth=3)\n",
    "\n",
    "        elif c in n.links.carrier.unique().tolist():\n",
    "            gen = -n.links_t.p1.loc[period, n.links.carrier == c].sum(axis=1)\n",
    "\n",
    "            ax.plot(gen/gen.max(), label=f\"{c}\", color=carrier_colors[c], marker=markers[i], markevery=[0], mfc='white', mec='black', ls=\":\", linewidth=3)\n",
    "\n",
    "        elif c in n.stores.carrier.unique().tolist():\n",
    "            # state of charge (sum over locations: 2920 values)\n",
    "            charge = n.stores_t.e.loc[:, n.stores.carrier == c].sum(axis=1)[period]\n",
    "            gen_sum = -n.links_t.p1.loc[period, n.links.carrier == carriers[i]].sum().sum()\n",
    "            max_stor_cap = n.stores.e_nom_opt[n.stores[n.stores.carrier == c].index].sum()\n",
    "            stor_res.loc[c, \"max_charge\"] = charge.max()\n",
    "            stor_res.loc[c, \"gen_charge_ratio\"] = gen_sum/charge.max()\n",
    "            stor_res.loc[c, \"max_stor_cap\"] = max_stor_cap\n",
    "\n",
    "            ax.plot(charge/max_stor_cap, label=c, color=carrier_colors[c], marker=markers[i], markevery=[0], mfc='white', mec='black',linewidth=3)\n",
    "\n",
    "    ax.xaxis.set_major_formatter(matplotlib.dates.DateFormatter('%H')) # %d-%m\n",
    "    ax.xaxis.set_major_locator(ticker.MultipleLocator(0.125))\n",
    "    ax.set_ylabel(\"Charge / generation [per unit of max]\")\n",
    "    ax.set_xlabel(\"Hour of the day\")\n",
    "    ax.legend(loc=\"upper right\")\n",
    "\n",
    "plt.tight_layout()\n",
    "plt.show()\n",
    "\n",
    "# fig.savefig(f\"{PLOT_DIR}01_general/4.2_systems_technologies/charge_state_store_daily_STST.png\")"
   ]
  },
  {
   "cell_type": "code",
   "execution_count": null,
   "metadata": {
    "pycharm": {
     "name": "#%%\n"
    }
   },
   "outputs": [],
   "source": [
    "stor_res"
   ]
  },
  {
   "cell_type": "code",
   "execution_count": null,
   "metadata": {
    "pycharm": {
     "name": "#%%\n"
    }
   },
   "outputs": [],
   "source": [
    "charge = n.stores_t.e.loc[:, n.stores.carrier == \"battery\"].sum(axis=1)\n",
    "gen = n.links_t.p1.loc[:, n.links.carrier == \"battery discharger\"].sum().sum()"
   ]
  },
  {
   "cell_type": "code",
   "execution_count": null,
   "metadata": {
    "pycharm": {
     "name": "#%%\n"
    }
   },
   "outputs": [],
   "source": [
    "# State of charge [per unit of max]\n",
    "carrier = \"H2\"\n",
    "\n",
    "# state of charge (sum over locations: 2920 values)\n",
    "charge = n.stores_t.e.loc[:, n.stores.carrier == carrier].sum(axis=1)"
   ]
  },
  {
   "cell_type": "code",
   "execution_count": null,
   "metadata": {
    "pycharm": {
     "name": "#%%\n"
    }
   },
   "outputs": [],
   "source": [
    "plt.plot(charge/charge.max())"
   ]
  },
  {
   "cell_type": "markdown",
   "metadata": {
    "pycharm": {
     "name": "#%% md\n"
    }
   },
   "source": [
    "#### How long is one unit on average stored?\n",
    "- LIFO\n",
    "- Distribution of storage time over the year\n",
    "- watch out as the smallest can be ony minimum 3h steps"
   ]
  },
  {
   "cell_type": "code",
   "execution_count": null,
   "metadata": {
    "pycharm": {
     "name": "#%%\n"
    }
   },
   "outputs": [],
   "source": [
    "temp_colors = {\n",
    "    'PHS': 'purple',\n",
    "    'hydro': 'navy',\n",
    "    'battery': 'hotpink',\n",
    "    'gas': 'orange',\n",
    "    'H2': 'turquoise',\n",
    "    'Li ion': 'greenyellow',\n",
    "    'home battery': 'violet',\n",
    "    'oil': 'k',\n",
    "    'solid biomass': 'sandybrown',\n",
    "    'biogas': 'palegoldenrod',\n",
    "}"
   ]
  },
  {
   "cell_type": "code",
   "execution_count": null,
   "metadata": {
    "pycharm": {
     "name": "#%%\n"
    }
   },
   "outputs": [],
   "source": [
    "# singel case\n",
    "c = \"battery\"\n",
    "charge = n.stores_t.e.loc[:, n.stores.carrier == c].sum(axis=1)\n",
    "result = time_stored_LIFO(charge)\n",
    "\n",
    "amounts = pd.DataFrame(result[[f\"amount{i}\" for i in range(1,int(((len(result.columns) - 3) / 2)))]].values.flatten())\n",
    "timedeltas = pd.DataFrame(result[[f\"timedelta{i}\" for i in range(1,int(((len(result.columns) - 3) / 2)))]].values.flatten())\n",
    "\n",
    "all_df = pd.concat([ amounts, timedeltas], axis=1).dropna()\n",
    "all_df.columns = [\"amounts\", \"timedeltas\"]\n",
    "all_df[\"hours\"] = (all_df[\"timedeltas\"] /  timedelta(hours=1)).astype(int)"
   ]
  },
  {
   "cell_type": "code",
   "execution_count": null,
   "metadata": {
    "pycharm": {
     "name": "#%%\n"
    }
   },
   "outputs": [],
   "source": [
    "# barplot duration of storage per amountof stored energy\n",
    "\n",
    "carriers = [\"battery\", \"PHS\", \"hydro\", \"gas\", \"H2\", \"Li ion\", \"home battery\", \"oil\"]\n",
    "\n",
    "n = n_no\n",
    "start_date = \"2013-06-6 00:00:00\"\n",
    "end_date = \"2013-06-10 00:00:00\"\n",
    "period = n_no.generators_t.p.index[(n_no.generators_t.p.index >= start_date) & (n_no.generators_t.p.index <= end_date)]\n",
    "period=\"2013\"\n",
    "\n",
    "bins = [0, 6, 12, 18, 24, 2*24, 3*24, 7*24, 14*24, 30*24,60*24,120*24, np.inf]\n",
    "bins_labels = [\"[0h,6h]\", \"(6h,12h]\", \"(12h,18h]\", \"(18h,24h]\", \"(24h,2d]\",\"(2d,3d]\",\"(3d,7d]\", \"(7d,14d]\", \"(14d,30d]\",\"(30d,60d]\",\"(60d,120d]\", \" > 120d\" ]\n",
    "\n",
    "res_grouped = pd.DataFrame(index= bins_labels)\n",
    "\n",
    "for c in carriers:\n",
    "        if c in n.storage_units.carrier.unique().tolist():\n",
    "            # state of charge (sum over locations: 2920 values)\n",
    "            charge = n.storage_units_t.state_of_charge.loc[:, n.storage_units.carrier == c].sum(axis=1)[period]\n",
    "\n",
    "        elif c in n.stores.carrier.unique().tolist():\n",
    "            # state of charge (sum over locations: 2920 values)\n",
    "            charge = n.stores_t.e.loc[:, n.stores.carrier == c].sum(axis=1)[period]\n",
    "\n",
    "        else:\n",
    "            print(f\"{c} does not exist!\")\n",
    "\n",
    "        result = time_stored_LIFO(charge)\n",
    "\n",
    "        # get amounts and timedeltas\n",
    "        i = int(((len(result.columns) - 3) / 2))\n",
    "        amounts = pd.DataFrame(result[[f\"amount{i}\" for i in range(1,i+1)]].values.flatten(order='C'))\n",
    "        timedeltas = pd.DataFrame(result[[f\"timedelta{i}\" for i in range(1,i+1)]].values.flatten(order='C'))\n",
    "        all_df = pd.concat([ amounts, timedeltas], axis=1).dropna()\n",
    "        all_df.columns = [\"amounts\", \"timedeltas\"]\n",
    "        all_df[\"hours\"] = (all_df[\"timedeltas\"] /  timedelta(hours=1)).astype(int)\n",
    "\n",
    "        # groupby hours and normalise\n",
    "        all_df_grouped = all_df[[\"amounts\", \"hours\"]].groupby(by=\"hours\").sum() / all_df[\"amounts\"].sum()\n",
    "\n",
    "        #binning\n",
    "        all_df_grouped[\"bins\"] = pd.cut(x=all_df_grouped.index, bins=bins, labels=bins_labels, right=True)\n",
    "\n",
    "        # save to result\n",
    "        res_grouped[c] = all_df_grouped[[\"amounts\", \"bins\"]].groupby(by=\"bins\").sum()"
   ]
  },
  {
   "cell_type": "code",
   "execution_count": null,
   "metadata": {
    "pycharm": {
     "name": "#%%\n"
    }
   },
   "outputs": [],
   "source": [
    "res_grouped"
   ]
  },
  {
   "cell_type": "code",
   "execution_count": null,
   "metadata": {
    "pycharm": {
     "name": "#%%\n"
    }
   },
   "outputs": [],
   "source": [
    "# carriers = [\"battery\", \"PHS\", \"hydro\", \"gas\", \"H2\", \"Li ion\", \"home battery\", \"oil\"]\n",
    "\n",
    "fig = res_grouped.reset_index().plot(x=\"index\", y=carriers, kind=\"bar\",\n",
    "                               rot=0,\n",
    "                               figsize=(18,6),\n",
    "                               color=[temp_colors[c] for c in carriers],\n",
    "                               xlabel=\"\",\n",
    "                               ylabel=\"Amount of stored energy (%)\",\n",
    "                               width=0.85\n",
    "                               ).get_figure()\n",
    "plt.show()\n",
    "\n",
    "fig.savefig(f\"{PLOT_DIR}01_general/4.2_systems_technologies/storage_time_bars_STST.png\")"
   ]
  },
  {
   "cell_type": "code",
   "execution_count": null,
   "metadata": {
    "pycharm": {
     "name": "#%%\n"
    }
   },
   "outputs": [],
   "source": [
    "res_grouped.describe()"
   ]
  },
  {
   "cell_type": "code",
   "execution_count": null,
   "metadata": {
    "pycharm": {
     "name": "#%%\n"
    }
   },
   "outputs": [],
   "source": [
    "# Distribution of storage time over the year"
   ]
  },
  {
   "cell_type": "code",
   "execution_count": null,
   "metadata": {
    "pycharm": {
     "name": "#%%\n"
    }
   },
   "outputs": [],
   "source": [
    "carriers = [\"battery\", \"PHS\", \"hydro\", \"gas\", \"H2\", \"Li ion\", \"biogas\", \"solid biomass\", \"oil\", \"home battery\" ]\n",
    "\n",
    "n = n_no\n",
    "start_date = \"2013-06-6 00:00:00\"\n",
    "end_date = \"2013-06-10 00:00:00\"\n",
    "period = n_no.generators_t.p.index[(n_no.generators_t.p.index >= start_date) & (n_no.generators_t.p.index <= end_date)]\n",
    "period=\"2013\"\n",
    "\n",
    "res = pd.DataFrame(index= np.arange(1,13))\n",
    "\n",
    "for c in carriers:\n",
    "        if c in n.storage_units.carrier.unique().tolist():\n",
    "            # state of charge (sum over locations: 2920 values)\n",
    "            charge = n.storage_units_t.state_of_charge.loc[:, n.storage_units.carrier == c].sum(axis=1)[period]\n",
    "\n",
    "        elif c in n.stores.carrier.unique().tolist():\n",
    "            # state of charge (sum over locations: 2920 values)\n",
    "            charge = n.stores_t.e.loc[:, n.stores.carrier == c].sum(axis=1)[period]\n",
    "\n",
    "        else:\n",
    "            print(f\"{c} does not exist!\")\n",
    "\n",
    "        result = time_stored_LIFO(charge)\n",
    "\n",
    "        # get amounts and timedeltas\n",
    "        i = int(((len(result.columns) - 3) / 2))\n",
    "        amounts = pd.DataFrame(result[[f\"amount{i}\" for i in range(1,i+1)]].values.flatten(order='C'))\n",
    "        timedeltas = pd.DataFrame(result[[f\"timedelta{i}\" for i in range(1,i+1)]].values.flatten(order='C'))\n",
    "\n",
    "        #\n",
    "        all_df = pd.concat([ amounts, timedeltas], axis=1)\n",
    "        all_df.columns = [\"amounts\", \"timedeltas\"]\n",
    "        all_df.index = result.index.repeat(i)\n",
    "        all_df.dropna(inplace=True)\n",
    "        all_df[\"hours\"] = (all_df[\"timedeltas\"] /  timedelta(hours=1)).astype(int)\n",
    "        all_df[\"months\"] = all_df.index.month\n",
    "        all_df[\"amounts_hours\"] = all_df.amounts * all_df.hours\n",
    "\n",
    "        # calc generation weighted average\n",
    "        res[c] = all_df.groupby(by=\"months\")[\"amounts_hours\"].sum() / all_df.groupby(by=\"months\")[\"amounts\"].sum()\n"
   ]
  },
  {
   "cell_type": "code",
   "execution_count": null,
   "metadata": {
    "pycharm": {
     "name": "#%%\n"
    }
   },
   "outputs": [],
   "source": [
    "res"
   ]
  },
  {
   "cell_type": "code",
   "execution_count": null,
   "metadata": {
    "pycharm": {
     "name": "#%%\n"
    }
   },
   "outputs": [],
   "source": [
    "fig, (ax1, ax2) = plt.subplots(nrows=2,ncols=1, figsize=(12, 8))\n",
    "\n",
    "# plot 1 (hours)\n",
    "c_plot = [\"battery\", \"Li ion\", \"home battery\"]\n",
    "res[c_plot].reset_index().plot(x=\"index\", y=c_plot, kind=\"bar\",\n",
    "                               rot=0,\n",
    "                               color=[temp_colors[c] for c in c_plot],\n",
    "                               xlabel=\"Month\",\n",
    "                               ylabel=\"Hours stored\",\n",
    "                               ax=ax1\n",
    "                               )\n",
    "\n",
    "# plot 2 (days)\n",
    "c_plot = [\"PHS\", \"hydro\", \"gas\", \"H2\", \"oil\"] # \"biogas\",, \"solid biomass\"\n",
    "\n",
    "# days\n",
    "df = res[c_plot] / 24\n",
    "df.reset_index().plot(x=\"index\",\n",
    "                      y=c_plot, kind=\"bar\",\n",
    "                      rot=0,\n",
    "                      color=[temp_colors[c] for c in c_plot],\n",
    "                      xlabel=\"Month\",\n",
    "                      ylabel=\"Days stored\",\n",
    "                      ax=ax2,\n",
    "                      width=0.85\n",
    "                      )\n",
    "\n",
    "plt.show()\n",
    "\n",
    "fig.savefig(f\"{PLOT_DIR}01_general/4.2_systems_technologies/storage_time_months_STST.png\")"
   ]
  },
  {
   "cell_type": "code",
   "execution_count": null,
   "metadata": {
    "pycharm": {
     "name": "#%%\n"
    }
   },
   "outputs": [],
   "source": [
    "res[9:12].mean()"
   ]
  },
  {
   "cell_type": "code",
   "execution_count": null,
   "metadata": {
    "pycharm": {
     "name": "#%%\n"
    }
   },
   "outputs": [],
   "source": [
    "c = \"H2\"\n",
    "\n",
    "start_date = \"2013-02-1 00:00:00\"\n",
    "end_date = \"2013-03-01 00:00:00\"\n",
    "period = n_no.generators_t.p.index[(n_no.generators_t.p.index >= start_date) & (n_no.generators_t.p.index <= end_date)]\n",
    "period = \"2013\"\n",
    "\n",
    "if c in n.storage_units.carrier.unique().tolist():\n",
    "    # state of charge (sum over locations: 2920 values)\n",
    "    charge = n.storage_units_t.state_of_charge.loc[:, n.storage_units.carrier == c].sum(axis=1)[period]\n",
    "\n",
    "elif c in n.stores.carrier.unique().tolist():\n",
    "    # state of charge (sum over locations: 2920 values)\n",
    "    charge = n.stores_t.e.loc[:, n.stores.carrier == c].sum(axis=1)[period]\n",
    "\n",
    "fig, (ax1, ax2, ax3) = plt.subplots(nrows=3,ncols=1, figsize=(12, 10))\n",
    "\n",
    "ax1.plot(charge - charge.mean(), color=\"blue\")\n",
    "ax1.set_title(f\"State of charge ({c})\")\n",
    "ax2.plot(charge.diff()[charge.diff() > 0], color=\"red\", lw=2) # .resample(\"3h\").mean()\n",
    "ax2.set_title(f\"Charging ({c})\")\n",
    "ax3.plot(charge.diff()[charge.diff() < 0].resample(\"3h\").mean(), color=\"gold\", lw=2)\n",
    "ax3.set_title(f\"Discharging ({c})\")\n",
    "plt.show()"
   ]
  },
  {
   "cell_type": "code",
   "execution_count": null,
   "metadata": {
    "pycharm": {
     "name": "#%%\n"
    }
   },
   "outputs": [],
   "source": [
    "plt.plot(charge.diff())"
   ]
  },
  {
   "cell_type": "code",
   "execution_count": null,
   "metadata": {
    "pycharm": {
     "name": "#%%\n"
    }
   },
   "outputs": [],
   "source": [
    "c_plot = [\"biogas\", \"solid biomass\"]\n",
    "\n",
    "# days\n",
    "df = res[c_plot] / 24\n",
    "df.reset_index().plot(x=\"index\",\n",
    "                      y=c_plot, kind=\"bar\",\n",
    "                      rot=0,\n",
    "                      figsize=(12,4),\n",
    "                      color=[temp_colors[c] for c in c_plot],\n",
    "                      xlabel=\"Month\",\n",
    "                      ylabel=\"Days stored\",\n",
    "                      )\n",
    "\n",
    "plt.show()"
   ]
  },
  {
   "cell_type": "code",
   "execution_count": null,
   "metadata": {
    "pycharm": {
     "name": "#%%\n"
    }
   },
   "outputs": [],
   "source": [
    "# furier transform to detect seasonality of state of charge\n",
    "\n",
    "carriers = [\"battery\", \"PHS\", \"hydro\", \"gas\", \"H2\", \"Li ion\", \"biogas\", \"solid biomass\", \"oil\", \"home battery\" ]\n",
    "\n",
    "n = n_no\n",
    "period=\"2013\"\n",
    "\n",
    "res_charge_state = pd.DataFrame(index= charge.index)\n",
    "\n",
    "for c in carriers:\n",
    "        if c in n.storage_units.carrier.unique().tolist():\n",
    "            # state of charge (sum over locations: 2920 values)\n",
    "            charge = n.storage_units_t.state_of_charge.loc[:, n.storage_units.carrier == c].sum(axis=1)[period]\n",
    "\n",
    "        elif c in n.stores.carrier.unique().tolist():\n",
    "            # state of charge (sum over locations: 2920 values)\n",
    "            charge = n.stores_t.e.loc[:, n.stores.carrier == c].sum(axis=1)[period]\n",
    "\n",
    "        else:\n",
    "            print(f\"{c} does not exist!\")\n",
    "\n",
    "        res_charge_state[c] = charge\n"
   ]
  },
  {
   "cell_type": "code",
   "execution_count": null,
   "metadata": {
    "pycharm": {
     "name": "#%%\n"
    }
   },
   "outputs": [],
   "source": [
    "for c, d in res_charge_state.iteritems():\n",
    "    fig, ax = plt.subplots()\n",
    "    fft = abs(pd.Series(np.fft.rfft(d - d.mean()), index=np.fft.rfftfreq(len(d), d=1./2920))**2)\n",
    "    fft.plot(xlim=[0,1000], ylabel=f\"??? Density ({c})\", xlabel=\"Frequency (1/year)\")\n",
    "    print(c)\n",
    "    print(pd.DataFrame(fft).sort_values(by=0, ascending=False).head(20))"
   ]
  },
  {
   "cell_type": "markdown",
   "metadata": {
    "pycharm": {
     "name": "#%% md\n"
    }
   },
   "source": []
  },
  {
   "cell_type": "markdown",
   "metadata": {
    "pycharm": {
     "name": "#%% md\n"
    }
   },
   "source": [
    "#### paper stuff\n",
    "- watch out for the scenario in paper"
   ]
  },
  {
   "cell_type": "code",
   "execution_count": null,
   "metadata": {
    "pycharm": {
     "name": "#%%\n"
    }
   },
   "outputs": [],
   "source": [
    "loads = [\"electricity\", \"industry electricity\", \"agriculture electricity\"]\n",
    "n = n_no\n",
    "\n",
    "# average hourly load (paper: 326 GWh)\n",
    "avhl = n.loads_t.p.loc[:, n.loads.carrier.isin(loads)].sum().sum() / 1000 * 3 / 365 / 24\n",
    "avhl"
   ]
  },
  {
   "cell_type": "code",
   "execution_count": null,
   "metadata": {
    "pycharm": {
     "name": "#%%\n"
    }
   },
   "outputs": [],
   "source": [
    "# max storage capacity\n",
    "n = n_h2\n",
    "res_stor = pd.DataFrame(index = n.storage_units.carrier.unique().tolist() + n.stores.carrier.unique().tolist(), columns = [\"max_stor_cap\"])\n",
    "\n",
    "for c in n.storage_units.carrier.unique().tolist():\n",
    "    index = n.storage_units[n.storage_units.carrier == c].index\n",
    "    res_stor.loc[c, \"max_stor_cap\"] = (n.storage_units.max_hours * n.storage_units.p_nom_opt)[index].sum() / 1000\n",
    "\n",
    "for c in n.stores.carrier.unique().tolist():\n",
    "    res_stor.loc[c, \"max_stor_cap\"] = n.stores.e_nom_opt[n.stores.carrier == c].sum() / 1000"
   ]
  },
  {
   "cell_type": "code",
   "execution_count": null,
   "metadata": {
    "pycharm": {
     "name": "#%%\n"
    }
   },
   "outputs": [],
   "source": [
    "# TWh\n",
    "res_stor.loc[[\"hydro\", \"PHS\", \"H2\", \"battery\", \"Li ion\"]] / 1000"
   ]
  },
  {
   "cell_type": "code",
   "execution_count": null,
   "metadata": {
    "pycharm": {
     "name": "#%%\n"
    }
   },
   "outputs": [],
   "source": [
    "# TWh\n",
    "res_stor.loc[[\"hydro\", \"PHS\", \"H2\", \"battery\", \"Li ion\"]] / 1000"
   ]
  },
  {
   "cell_type": "code",
   "execution_count": null,
   "metadata": {
    "pycharm": {
     "name": "#%%\n"
    }
   },
   "outputs": [],
   "source": [
    "# available PHS energy capacity (paper: 285 GWh)\n",
    "#h * MW = MWh\n",
    "# GWh\n",
    "(n.storage_units.max_hours[n.storage_units.carrier == \"PHS\"] * n.storage_units.p_nom_opt[n.storage_units.carrier == \"PHS\"]).sum() / 1000"
   ]
  },
  {
   "cell_type": "code",
   "execution_count": null,
   "metadata": {
    "pycharm": {
     "name": "#%%\n"
    }
   },
   "outputs": [],
   "source": [
    "c = \"hydro\"\n",
    "index = n.storage_units[n.storage_units.carrier == c].index\n",
    "max_stor_cap = (n.storage_units.max_hours * n.storage_units.p_nom_opt)[index].sum()\n",
    "max_stor_cap"
   ]
  },
  {
   "cell_type": "code",
   "execution_count": null,
   "metadata": {
    "pycharm": {
     "name": "#%%\n"
    }
   },
   "outputs": [],
   "source": [
    "PHS = pd.concat([ n.storage_units.max_hours[n.storage_units.carrier == \"PHS\"] ,\n",
    "                  n.storage_units.p_nom_opt[n.storage_units.carrier == \"PHS\"] ], axis=1)\n",
    "PHS"
   ]
  },
  {
   "cell_type": "code",
   "execution_count": null,
   "metadata": {
    "pycharm": {
     "name": "#%%\n"
    }
   },
   "outputs": [],
   "source": [
    "# available PHS power capacity (paper: 47.5 GW)\n",
    "# GW\n",
    "n = n_no\n",
    "n.storage_units.p_nom_opt[n.storage_units.carrier == \"hydro\"].sum() / 1000"
   ]
  },
  {
   "cell_type": "code",
   "execution_count": null,
   "metadata": {
    "pycharm": {
     "name": "#%%\n"
    }
   },
   "outputs": [],
   "source": [
    "# discharge time su\n",
    "max_stor_cap / n.storage_units.p_nom_opt[n.storage_units.carrier == \"hydro\"].sum()"
   ]
  },
  {
   "cell_type": "code",
   "execution_count": null,
   "metadata": {
    "pycharm": {
     "name": "#%%\n"
    }
   },
   "outputs": [],
   "source": [
    "# battery energy capacity (paper: 1.4 av.h.l.el = 456.4 GWh)\n",
    "n.stores.e_nom_opt[n.stores.carrier == \"battery\"].sum() / 1000"
   ]
  },
  {
   "cell_type": "code",
   "execution_count": null,
   "metadata": {
    "pycharm": {
     "name": "#%%\n"
    }
   },
   "outputs": [],
   "source": [
    "n.stores.e_nom_opt[n.stores.carrier == \"battery\"].sum() / 1000 / avhl"
   ]
  },
  {
   "cell_type": "code",
   "execution_count": null,
   "metadata": {
    "pycharm": {
     "name": "#%%\n"
    }
   },
   "outputs": [],
   "source": [
    "# battery power capacity (paper: 81.5 GW)\n",
    "n=n_no\n",
    "n.links[n.links.carrier == \"V2G\"].p_nom_opt.sum() / 1000"
   ]
  },
  {
   "cell_type": "code",
   "execution_count": null,
   "metadata": {
    "pycharm": {
     "name": "#%%\n"
    }
   },
   "outputs": [],
   "source": [
    "# ratio (0.25 in paper)\n",
    "(n.links[n.links.carrier == \"battery discharger\"].p_nom_opt.sum() / 1000) / avhl"
   ]
  },
  {
   "cell_type": "code",
   "execution_count": null,
   "metadata": {
    "pycharm": {
     "name": "#%%\n"
    }
   },
   "outputs": [],
   "source": [
    "# battery discharge time (paper: This means that batteries discharges in 5.6 h at full power.)\n",
    "n = n_no\n",
    "(n.stores.e_nom_opt[n.stores.carrier == \"Li ion\"].sum() / 1000) / (n.links[n.links.carrier == \"V2G\"].p_nom_opt.sum() / 1000)"
   ]
  },
  {
   "cell_type": "code",
   "execution_count": null,
   "metadata": {
    "pycharm": {
     "name": "#%%\n"
    }
   },
   "outputs": [],
   "source": [
    "0.8762 / 0.1446"
   ]
  },
  {
   "cell_type": "code",
   "execution_count": null,
   "metadata": {
    "pycharm": {
     "name": "#%%\n"
    }
   },
   "outputs": [],
   "source": [
    "# hydrogen energy capacity (paper: 6324 GWh)\n",
    "n.stores.e_nom_opt[n.stores.carrier == \"H2\"].sum() / 1000"
   ]
  },
  {
   "cell_type": "code",
   "execution_count": null,
   "metadata": {
    "pycharm": {
     "name": "#%%\n"
    }
   },
   "outputs": [],
   "source": [
    "# hydrogen power capacity (paper: 156.48)\n",
    "# How is that calculated for a store that has no single discharger?"
   ]
  },
  {
   "cell_type": "code",
   "execution_count": null,
   "metadata": {
    "pycharm": {
     "name": "#%%\n"
    }
   },
   "outputs": [],
   "source": [
    "# BEV (paper: 6.1 TWh)\n",
    "n.stores.e_nom_opt[n.stores.carrier == \"Li ion\"].sum() / 1000 / 1000"
   ]
  },
  {
   "cell_type": "code",
   "execution_count": null,
   "metadata": {
    "pycharm": {
     "name": "#%%\n"
    }
   },
   "outputs": [],
   "source": [
    "# BEV power capacity (paper: 1.3 TW)\n",
    "n.links[n.links.carrier == \"V2G\"].p_nom_opt.sum() / 1000 / 1000"
   ]
  },
  {
   "cell_type": "markdown",
   "metadata": {
    "pycharm": {
     "name": "#%% md\n"
    }
   },
   "source": [
    "#### Where ist the hydrogen that is stored coming from and going to?"
   ]
  },
  {
   "cell_type": "code",
   "execution_count": null,
   "metadata": {
    "pycharm": {
     "name": "#%%\n"
    }
   },
   "outputs": [],
   "source": [
    "fig, axs = plt.subplots(nrows=2, ncols=2, figsize=(15, 11))\n",
    "\n",
    "for n in [n_no, n_h2]:\n",
    "\n",
    "    h2_buses = n.stores[n.stores.carrier == \"H2\"].bus\n",
    "\n",
    "    # H2 delivering technologies\n",
    "    n.links[n.links.bus1.isin(h2_buses)]\n",
    "    i_h2 = n.links[n.links.bus1.isin(h2_buses)].index\n",
    "    df = pd.DataFrame(n.links_t.p1[i_h2].sum())\n",
    "    df[\"carrier\"] = df.index.map(n.links.carrier).values\n",
    "    result_del = abs(df.groupby(\"carrier\").sum())\n",
    "\n",
    "    # H2 receiving technologies\n",
    "    n.links[n.links.bus0.isin(h2_buses)]\n",
    "    i_h2 = n.links[n.links.bus0.isin(h2_buses)].index\n",
    "    df = pd.DataFrame(n.links_t.p0[i_h2].sum())\n",
    "    df[\"carrier\"] = df.index.map(n.links.carrier).values\n",
    "    result_rec = abs(df.groupby(\"carrier\").sum())\n",
    "\n",
    "    if n==n_no:\n",
    "        ax_del=axs[0, 0]\n",
    "        ax_rec=axs[0, 1]\n",
    "        title_del=f\"Delivering H2 to stroage (STST)\"\n",
    "        title_rec=f\"Recieving H2 from storage (STST)\"\n",
    "\n",
    "    elif n==n_h2:\n",
    "        ax_del=axs[1, 0]\n",
    "        ax_rec=axs[1, 1]\n",
    "        title_del=f\"Delivering H2 to stroage (EXP)\"\n",
    "        title_rec=f\"Delivering H2 to stroage (EXP)\"\n",
    "\n",
    "    # plot delivering\n",
    "    c = [carrier_colors[col] for col in result_del.index]\n",
    "    percents = result_del.to_numpy() * 100 / result_del.to_numpy().sum()\n",
    "    labels = ['%s (%1.1f %%)' % (l, s) for l, s in zip(result_del.index, percents)]\n",
    "\n",
    "    patches, texts = ax_del.pie(result_del.values.flatten(), colors=c, startangle=0, labels=labels)\n",
    "    ax_del.axis('equal')\n",
    "    ax_del.set_title(title_del, pad=20, fontweight=\"bold\")\n",
    "\n",
    "    # plot receiving\n",
    "    c = [carrier_colors[col] for col in result_rec.index]\n",
    "    percents = result_rec.to_numpy() * 100 / result_rec.to_numpy().sum()\n",
    "    labels = ['%s (%1.1f %%)' % (l, s) for l, s in zip(result_rec.index, percents)]\n",
    "\n",
    "    patches, texts = ax_rec.pie(result_rec.values.flatten(), colors=c, startangle=0, labels=labels)\n",
    "    ax_rec.axis('equal')\n",
    "    ax_rec.set_title(title_rec, pad=20, fontweight=\"bold\")\n",
    "\n",
    "fig.tight_layout(pad=5)\n",
    "plt.show()\n"
   ]
  },
  {
   "cell_type": "code",
   "execution_count": null,
   "metadata": {
    "pycharm": {
     "name": "#%%\n"
    }
   },
   "outputs": [],
   "source": [
    "n = n_h2\n",
    "h2_buses = n.stores[n.stores.carrier == \"H2\"].bus"
   ]
  },
  {
   "cell_type": "code",
   "execution_count": null,
   "metadata": {
    "pycharm": {
     "name": "#%%\n"
    }
   },
   "outputs": [],
   "source": [
    "# technologies delivering the hydrogen\n",
    "n.links[n.links.bus1.isin(h2_buses)].carrier.unique()"
   ]
  },
  {
   "cell_type": "code",
   "execution_count": null,
   "metadata": {
    "pycharm": {
     "name": "#%%\n"
    }
   },
   "outputs": [],
   "source": [
    "# technologies receiving the hydrogen\n",
    "n.links[n.links.bus0.isin(h2_buses)].carrier.unique()"
   ]
  },
  {
   "cell_type": "code",
   "execution_count": null,
   "metadata": {
    "pycharm": {
     "name": "#%%\n"
    }
   },
   "outputs": [],
   "source": [
    "# links indices\n",
    "i_h2 = n.links[n.links.bus0.isin(h2_buses)].index\n",
    "# generation\n",
    "df = pd.DataFrame(n.links_t.p0[i_h2].sum())\n",
    "# carrier\n",
    "df[\"carrier\"] = df.index.map(n.links.carrier).values"
   ]
  },
  {
   "cell_type": "code",
   "execution_count": null,
   "metadata": {
    "pycharm": {
     "name": "#%%\n"
    }
   },
   "outputs": [],
   "source": [
    "result = df.groupby(\"carrier\").sum()\n",
    "result"
   ]
  },
  {
   "cell_type": "code",
   "execution_count": null,
   "metadata": {
    "pycharm": {
     "name": "#%%\n"
    }
   },
   "outputs": [],
   "source": [
    "# receiving hydrogen from stores\n",
    "# sign of pipelines are wrong but does not matter as the aounts are the same\n",
    "\n",
    "fig, axs = plt.subplots(nrows=1, ncols=2, figsize=(15, 11))\n",
    "\n",
    "for n, ax in zip([n_no, n_h2],axs):\n",
    "\n",
    "    # data\n",
    "    h2_buses = n.stores[n.stores.carrier == \"H2\"].bus\n",
    "    # links of reciever\n",
    "    n.links[n.links.bus0.isin(h2_buses)]\n",
    "    # links indices\n",
    "    i_h2 = n.links[n.links.bus0.isin(h2_buses)].index\n",
    "    # generation\n",
    "    df = pd.DataFrame(n.links_t.p0[i_h2].sum())\n",
    "    # carrier\n",
    "    df[\"carrier\"] = df.index.map(n.links.carrier).values\n",
    "    result = abs(df.groupby(\"carrier\").sum())\n",
    "\n",
    "    c = [carrier_colors[col] for col in result.index]\n",
    "    percents = result.to_numpy() * 100 / result.to_numpy().sum()\n",
    "    labels = ['%s (%1.1f %%)' % (l, s) for l, s in zip(result.index, percents)]\n",
    "\n",
    "    patches, texts = ax.pie(result.values.flatten(), colors=c, startangle=0, labels=labels)\n",
    "    ax.axis('equal')\n",
    "    ax.set_title(f\"{n}\", pad=20, fontweight=\"bold\")\n"
   ]
  },
  {
   "cell_type": "code",
   "execution_count": null,
   "metadata": {
    "pycharm": {
     "name": "#%%\n"
    }
   },
   "outputs": [],
   "source": [
    "carrier = \"Li ion\" # \"battery\"\n",
    "\n",
    "fig, axs = plt.subplots(nrows=2, ncols=2, figsize=(15, 11))\n",
    "\n",
    "for n in [n_no, n_h2]:\n",
    "\n",
    "    buses = n.stores[n.stores.carrier == carrier].bus\n",
    "\n",
    "    # H2 delivering technologies\n",
    "    n.links[n.links.bus1.isin(buses)]\n",
    "    i_buses = n.links[n.links.bus1.isin(buses)].index\n",
    "    df = pd.DataFrame(n.links_t.p1[i_buses].sum())\n",
    "    df[\"carrier\"] = df.index.map(n.links.carrier).values\n",
    "    result_del = abs(df.groupby(\"carrier\").sum())\n",
    "\n",
    "    # H2 receiving technologies\n",
    "    n.links[n.links.bus0.isin(buses)]\n",
    "    i_buses = n.links[n.links.bus0.isin(buses)].index\n",
    "    df = pd.DataFrame(n.links_t.p0[i_buses].sum())\n",
    "    df[\"carrier\"] = df.index.map(n.links.carrier).values\n",
    "    result_rec = abs(df.groupby(\"carrier\").sum())\n",
    "\n",
    "    if n==n_no:\n",
    "        ax_del=axs[0, 0]\n",
    "        ax_rec=axs[0, 1]\n",
    "        title_del=f\"Delivering {carrier} to stroage (STST)\"\n",
    "        title_rec=f\"Recieving {carrier} from storage (STST)\"\n",
    "\n",
    "    elif n==n_h2:\n",
    "        ax_del=axs[1, 0]\n",
    "        ax_rec=axs[1, 1]\n",
    "        title_del=f\"Delivering {carrier} to stroage (EXP)\"\n",
    "        title_rec=f\"Delivering {carrier} to stroage (EXP)\"\n",
    "\n",
    "    # plot delivering\n",
    "    c = [carrier_colors[col] for col in result_del.index]\n",
    "    percents = result_del.to_numpy() * 100 / result_del.to_numpy().sum()\n",
    "    labels = ['%s (%1.1f %%)' % (l, s) for l, s in zip(result_del.index, percents)]\n",
    "\n",
    "    patches, texts = ax_del.pie(result_del.values.flatten(), colors=c, startangle=0, labels=labels)\n",
    "    ax_del.axis('equal')\n",
    "    ax_del.set_title(title_del, pad=20, fontweight=\"bold\")\n",
    "\n",
    "    # plot receiving\n",
    "    c = [carrier_colors[col] for col in result_rec.index]\n",
    "    percents = result_rec.to_numpy() * 100 / result_rec.to_numpy().sum()\n",
    "    labels = ['%s (%1.1f %%)' % (l, s) for l, s in zip(result_rec.index, percents)]\n",
    "\n",
    "    patches, texts = ax_rec.pie(result_rec.values.flatten(), colors=c, startangle=0, labels=labels)\n",
    "    ax_rec.axis('equal')\n",
    "    ax_rec.set_title(title_rec, pad=20, fontweight=\"bold\")\n",
    "\n",
    "fig.tight_layout(pad=5)\n",
    "plt.show()\n"
   ]
  },
  {
   "cell_type": "markdown",
   "metadata": {
    "pycharm": {
     "name": "#%% md\n"
    }
   },
   "source": [
    "#### How much of the produced hydrogen is being stored and how much is directly used by consuming technologies?"
   ]
  },
  {
   "cell_type": "code",
   "execution_count": null,
   "metadata": {
    "pycharm": {
     "name": "#%%\n"
    }
   },
   "outputs": [],
   "source": []
  }
 ],
 "metadata": {
  "kernelspec": {
   "display_name": "Python 3 (ipykernel)",
   "language": "python",
   "name": "python3"
  },
  "language_info": {
   "codemirror_mode": {
    "name": "ipython",
    "version": 3
   },
   "file_extension": ".py",
   "mimetype": "text/x-python",
   "name": "python",
   "nbconvert_exporter": "python",
   "pygments_lexer": "ipython3",
   "version": "3.10.6"
  }
 },
 "nbformat": 4,
 "nbformat_minor": 1
}
